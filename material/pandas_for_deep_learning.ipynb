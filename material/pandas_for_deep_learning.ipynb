{
  "nbformat": 4,
  "nbformat_minor": 0,
  "metadata": {
    "colab": {
      "name": "pandas_for_deep_learning.ipynb",
      "provenance": [],
      "collapsed_sections": [],
      "toc_visible": true
    },
    "kernelspec": {
      "name": "python3",
      "display_name": "Python 3"
    }
  },
  "cells": [
    {
      "cell_type": "markdown",
      "metadata": {
        "id": "VIE8gatIZ8tJ"
      },
      "source": [
        "# Pandas for Deep Learning"
      ]
    },
    {
      "cell_type": "code",
      "metadata": {
        "id": "D6V3ksncYtk6",
        "colab": {
          "base_uri": "https://localhost:8080/"
        },
        "outputId": "84fe615f-4cd5-4e86-ac39-d76809ac0f53"
      },
      "source": [
        "!pip install panda"
      ],
      "execution_count": 1,
      "outputs": [
        {
          "output_type": "stream",
          "name": "stdout",
          "text": [
            "Collecting panda\n",
            "  Downloading panda-0.3.1.tar.gz (5.8 kB)\n",
            "Requirement already satisfied: setuptools in /usr/local/lib/python3.7/dist-packages (from panda) (57.4.0)\n",
            "Requirement already satisfied: requests in /usr/local/lib/python3.7/dist-packages (from panda) (2.23.0)\n",
            "Requirement already satisfied: chardet<4,>=3.0.2 in /usr/local/lib/python3.7/dist-packages (from requests->panda) (3.0.4)\n",
            "Requirement already satisfied: certifi>=2017.4.17 in /usr/local/lib/python3.7/dist-packages (from requests->panda) (2021.10.8)\n",
            "Requirement already satisfied: idna<3,>=2.5 in /usr/local/lib/python3.7/dist-packages (from requests->panda) (2.10)\n",
            "Requirement already satisfied: urllib3!=1.25.0,!=1.25.1,<1.26,>=1.21.1 in /usr/local/lib/python3.7/dist-packages (from requests->panda) (1.24.3)\n",
            "Building wheels for collected packages: panda\n",
            "  Building wheel for panda (setup.py) ... \u001b[?25l\u001b[?25hdone\n",
            "  Created wheel for panda: filename=panda-0.3.1-py3-none-any.whl size=7256 sha256=fc0524881431c815405fd0013ece8c40d84ef844ecee905f13298f884175f06d\n",
            "  Stored in directory: /root/.cache/pip/wheels/e6/3d/81/a3665ce657d35359ca337b1db2975dbe5cd281a88b8982f6b6\n",
            "Successfully built panda\n",
            "Installing collected packages: panda\n",
            "Successfully installed panda-0.3.1\n"
          ]
        }
      ]
    },
    {
      "cell_type": "code",
      "metadata": {
        "id": "jjC3MLqEZmVQ",
        "colab": {
          "base_uri": "https://localhost:8080/"
        },
        "outputId": "a3fa8bfd-7761-406a-d657-c39e99f2ebd2"
      },
      "source": [
        "import pandas as pd\n",
        "print(pd.__version__)"
      ],
      "execution_count": 2,
      "outputs": [
        {
          "output_type": "stream",
          "name": "stdout",
          "text": [
            "1.1.5\n"
          ]
        }
      ]
    },
    {
      "cell_type": "code",
      "source": [
        "import numpy as np\n",
        "import matplotlib.pyplot as plt"
      ],
      "metadata": {
        "id": "N98Fcu71zxJ8"
      },
      "execution_count": 3,
      "outputs": []
    },
    {
      "cell_type": "markdown",
      "metadata": {
        "id": "N-bS2LfQhuuD"
      },
      "source": [
        "# 데이터 준비"
      ]
    },
    {
      "cell_type": "code",
      "metadata": {
        "id": "x7_9lDXebUnt",
        "colab": {
          "base_uri": "https://localhost:8080/"
        },
        "outputId": "14b3b11c-06dc-4f42-a434-529181b9f7d0"
      },
      "source": [
        "!rm -rf RegularSeasonCompactResults.csv\n",
        "!wget https://raw.githubusercontent.com/adeshpande3/Pandas-Tutorial/master/RegularSeasonCompactResults.csv\n",
        "  "
      ],
      "execution_count": 4,
      "outputs": [
        {
          "output_type": "stream",
          "name": "stdout",
          "text": [
            "--2022-01-12 00:28:48--  https://raw.githubusercontent.com/adeshpande3/Pandas-Tutorial/master/RegularSeasonCompactResults.csv\n",
            "Resolving raw.githubusercontent.com (raw.githubusercontent.com)... 185.199.108.133, 185.199.109.133, 185.199.110.133, ...\n",
            "Connecting to raw.githubusercontent.com (raw.githubusercontent.com)|185.199.108.133|:443... connected.\n",
            "HTTP request sent, awaiting response... 200 OK\n",
            "Length: 4115852 (3.9M) [text/plain]\n",
            "Saving to: ‘RegularSeasonCompactResults.csv’\n",
            "\n",
            "RegularSeasonCompac 100%[===================>]   3.92M  --.-KB/s    in 0.07s   \n",
            "\n",
            "2022-01-12 00:28:59 (55.0 MB/s) - ‘RegularSeasonCompactResults.csv’ saved [4115852/4115852]\n",
            "\n"
          ]
        }
      ]
    },
    {
      "cell_type": "code",
      "metadata": {
        "id": "e0zmA0yNbjm-",
        "colab": {
          "base_uri": "https://localhost:8080/"
        },
        "outputId": "3631bae4-0678-4599-93e9-0504a82a69dc"
      },
      "source": [
        "!head -10 RegularSeasonCompactResults.csv"
      ],
      "execution_count": 5,
      "outputs": [
        {
          "output_type": "stream",
          "name": "stdout",
          "text": [
            "Season,Daynum,Wteam,Wscore,Lteam,Lscore,Wloc,Numot\n",
            "1985,20,1228,81,1328,64,N,0\n",
            "1985,25,1106,77,1354,70,H,0\n",
            "1985,25,1112,63,1223,56,H,0\n",
            "1985,25,1165,70,1432,54,H,0\n",
            "1985,25,1192,86,1447,74,H,0\n",
            "1985,25,1218,79,1337,78,H,0\n",
            "1985,25,1228,64,1226,44,N,0\n",
            "1985,25,1242,58,1268,56,N,0\n",
            "1985,25,1260,98,1133,80,H,0\n"
          ]
        }
      ]
    },
    {
      "cell_type": "markdown",
      "metadata": {
        "id": "vA0h51xqhxJP"
      },
      "source": [
        "# 데이터 로딩"
      ]
    },
    {
      "cell_type": "code",
      "metadata": {
        "id": "IyfgKhSPZmyY"
      },
      "source": [
        "df = pd.read_csv('RegularSeasonCompactResults.csv')"
      ],
      "execution_count": 6,
      "outputs": []
    },
    {
      "cell_type": "code",
      "metadata": {
        "id": "yBhyYvYOcckR",
        "colab": {
          "base_uri": "https://localhost:8080/",
          "height": 424
        },
        "outputId": "920b9c93-a872-406c-cc18-59a530db3608"
      },
      "source": [
        "df"
      ],
      "execution_count": 7,
      "outputs": [
        {
          "output_type": "execute_result",
          "data": {
            "text/html": [
              "\n",
              "  <div id=\"df-ca8da3f5-7448-47c8-958b-b273cf2e75fe\">\n",
              "    <div class=\"colab-df-container\">\n",
              "      <div>\n",
              "<style scoped>\n",
              "    .dataframe tbody tr th:only-of-type {\n",
              "        vertical-align: middle;\n",
              "    }\n",
              "\n",
              "    .dataframe tbody tr th {\n",
              "        vertical-align: top;\n",
              "    }\n",
              "\n",
              "    .dataframe thead th {\n",
              "        text-align: right;\n",
              "    }\n",
              "</style>\n",
              "<table border=\"1\" class=\"dataframe\">\n",
              "  <thead>\n",
              "    <tr style=\"text-align: right;\">\n",
              "      <th></th>\n",
              "      <th>Season</th>\n",
              "      <th>Daynum</th>\n",
              "      <th>Wteam</th>\n",
              "      <th>Wscore</th>\n",
              "      <th>Lteam</th>\n",
              "      <th>Lscore</th>\n",
              "      <th>Wloc</th>\n",
              "      <th>Numot</th>\n",
              "    </tr>\n",
              "  </thead>\n",
              "  <tbody>\n",
              "    <tr>\n",
              "      <th>0</th>\n",
              "      <td>1985</td>\n",
              "      <td>20</td>\n",
              "      <td>1228</td>\n",
              "      <td>81</td>\n",
              "      <td>1328</td>\n",
              "      <td>64</td>\n",
              "      <td>N</td>\n",
              "      <td>0</td>\n",
              "    </tr>\n",
              "    <tr>\n",
              "      <th>1</th>\n",
              "      <td>1985</td>\n",
              "      <td>25</td>\n",
              "      <td>1106</td>\n",
              "      <td>77</td>\n",
              "      <td>1354</td>\n",
              "      <td>70</td>\n",
              "      <td>H</td>\n",
              "      <td>0</td>\n",
              "    </tr>\n",
              "    <tr>\n",
              "      <th>2</th>\n",
              "      <td>1985</td>\n",
              "      <td>25</td>\n",
              "      <td>1112</td>\n",
              "      <td>63</td>\n",
              "      <td>1223</td>\n",
              "      <td>56</td>\n",
              "      <td>H</td>\n",
              "      <td>0</td>\n",
              "    </tr>\n",
              "    <tr>\n",
              "      <th>3</th>\n",
              "      <td>1985</td>\n",
              "      <td>25</td>\n",
              "      <td>1165</td>\n",
              "      <td>70</td>\n",
              "      <td>1432</td>\n",
              "      <td>54</td>\n",
              "      <td>H</td>\n",
              "      <td>0</td>\n",
              "    </tr>\n",
              "    <tr>\n",
              "      <th>4</th>\n",
              "      <td>1985</td>\n",
              "      <td>25</td>\n",
              "      <td>1192</td>\n",
              "      <td>86</td>\n",
              "      <td>1447</td>\n",
              "      <td>74</td>\n",
              "      <td>H</td>\n",
              "      <td>0</td>\n",
              "    </tr>\n",
              "    <tr>\n",
              "      <th>...</th>\n",
              "      <td>...</td>\n",
              "      <td>...</td>\n",
              "      <td>...</td>\n",
              "      <td>...</td>\n",
              "      <td>...</td>\n",
              "      <td>...</td>\n",
              "      <td>...</td>\n",
              "      <td>...</td>\n",
              "    </tr>\n",
              "    <tr>\n",
              "      <th>145284</th>\n",
              "      <td>2016</td>\n",
              "      <td>132</td>\n",
              "      <td>1114</td>\n",
              "      <td>70</td>\n",
              "      <td>1419</td>\n",
              "      <td>50</td>\n",
              "      <td>N</td>\n",
              "      <td>0</td>\n",
              "    </tr>\n",
              "    <tr>\n",
              "      <th>145285</th>\n",
              "      <td>2016</td>\n",
              "      <td>132</td>\n",
              "      <td>1163</td>\n",
              "      <td>72</td>\n",
              "      <td>1272</td>\n",
              "      <td>58</td>\n",
              "      <td>N</td>\n",
              "      <td>0</td>\n",
              "    </tr>\n",
              "    <tr>\n",
              "      <th>145286</th>\n",
              "      <td>2016</td>\n",
              "      <td>132</td>\n",
              "      <td>1246</td>\n",
              "      <td>82</td>\n",
              "      <td>1401</td>\n",
              "      <td>77</td>\n",
              "      <td>N</td>\n",
              "      <td>1</td>\n",
              "    </tr>\n",
              "    <tr>\n",
              "      <th>145287</th>\n",
              "      <td>2016</td>\n",
              "      <td>132</td>\n",
              "      <td>1277</td>\n",
              "      <td>66</td>\n",
              "      <td>1345</td>\n",
              "      <td>62</td>\n",
              "      <td>N</td>\n",
              "      <td>0</td>\n",
              "    </tr>\n",
              "    <tr>\n",
              "      <th>145288</th>\n",
              "      <td>2016</td>\n",
              "      <td>132</td>\n",
              "      <td>1386</td>\n",
              "      <td>87</td>\n",
              "      <td>1433</td>\n",
              "      <td>74</td>\n",
              "      <td>N</td>\n",
              "      <td>0</td>\n",
              "    </tr>\n",
              "  </tbody>\n",
              "</table>\n",
              "<p>145289 rows × 8 columns</p>\n",
              "</div>\n",
              "      <button class=\"colab-df-convert\" onclick=\"convertToInteractive('df-ca8da3f5-7448-47c8-958b-b273cf2e75fe')\"\n",
              "              title=\"Convert this dataframe to an interactive table.\"\n",
              "              style=\"display:none;\">\n",
              "        \n",
              "  <svg xmlns=\"http://www.w3.org/2000/svg\" height=\"24px\"viewBox=\"0 0 24 24\"\n",
              "       width=\"24px\">\n",
              "    <path d=\"M0 0h24v24H0V0z\" fill=\"none\"/>\n",
              "    <path d=\"M18.56 5.44l.94 2.06.94-2.06 2.06-.94-2.06-.94-.94-2.06-.94 2.06-2.06.94zm-11 1L8.5 8.5l.94-2.06 2.06-.94-2.06-.94L8.5 2.5l-.94 2.06-2.06.94zm10 10l.94 2.06.94-2.06 2.06-.94-2.06-.94-.94-2.06-.94 2.06-2.06.94z\"/><path d=\"M17.41 7.96l-1.37-1.37c-.4-.4-.92-.59-1.43-.59-.52 0-1.04.2-1.43.59L10.3 9.45l-7.72 7.72c-.78.78-.78 2.05 0 2.83L4 21.41c.39.39.9.59 1.41.59.51 0 1.02-.2 1.41-.59l7.78-7.78 2.81-2.81c.8-.78.8-2.07 0-2.86zM5.41 20L4 18.59l7.72-7.72 1.47 1.35L5.41 20z\"/>\n",
              "  </svg>\n",
              "      </button>\n",
              "      \n",
              "  <style>\n",
              "    .colab-df-container {\n",
              "      display:flex;\n",
              "      flex-wrap:wrap;\n",
              "      gap: 12px;\n",
              "    }\n",
              "\n",
              "    .colab-df-convert {\n",
              "      background-color: #E8F0FE;\n",
              "      border: none;\n",
              "      border-radius: 50%;\n",
              "      cursor: pointer;\n",
              "      display: none;\n",
              "      fill: #1967D2;\n",
              "      height: 32px;\n",
              "      padding: 0 0 0 0;\n",
              "      width: 32px;\n",
              "    }\n",
              "\n",
              "    .colab-df-convert:hover {\n",
              "      background-color: #E2EBFA;\n",
              "      box-shadow: 0px 1px 2px rgba(60, 64, 67, 0.3), 0px 1px 3px 1px rgba(60, 64, 67, 0.15);\n",
              "      fill: #174EA6;\n",
              "    }\n",
              "\n",
              "    [theme=dark] .colab-df-convert {\n",
              "      background-color: #3B4455;\n",
              "      fill: #D2E3FC;\n",
              "    }\n",
              "\n",
              "    [theme=dark] .colab-df-convert:hover {\n",
              "      background-color: #434B5C;\n",
              "      box-shadow: 0px 1px 3px 1px rgba(0, 0, 0, 0.15);\n",
              "      filter: drop-shadow(0px 1px 2px rgba(0, 0, 0, 0.3));\n",
              "      fill: #FFFFFF;\n",
              "    }\n",
              "  </style>\n",
              "\n",
              "      <script>\n",
              "        const buttonEl =\n",
              "          document.querySelector('#df-ca8da3f5-7448-47c8-958b-b273cf2e75fe button.colab-df-convert');\n",
              "        buttonEl.style.display =\n",
              "          google.colab.kernel.accessAllowed ? 'block' : 'none';\n",
              "\n",
              "        async function convertToInteractive(key) {\n",
              "          const element = document.querySelector('#df-ca8da3f5-7448-47c8-958b-b273cf2e75fe');\n",
              "          const dataTable =\n",
              "            await google.colab.kernel.invokeFunction('convertToInteractive',\n",
              "                                                     [key], {});\n",
              "          if (!dataTable) return;\n",
              "\n",
              "          const docLinkHtml = 'Like what you see? Visit the ' +\n",
              "            '<a target=\"_blank\" href=https://colab.research.google.com/notebooks/data_table.ipynb>data table notebook</a>'\n",
              "            + ' to learn more about interactive tables.';\n",
              "          element.innerHTML = '';\n",
              "          dataTable['output_type'] = 'display_data';\n",
              "          await google.colab.output.renderOutput(dataTable, element);\n",
              "          const docLink = document.createElement('div');\n",
              "          docLink.innerHTML = docLinkHtml;\n",
              "          element.appendChild(docLink);\n",
              "        }\n",
              "      </script>\n",
              "    </div>\n",
              "  </div>\n",
              "  "
            ],
            "text/plain": [
              "        Season  Daynum  Wteam  Wscore  Lteam  Lscore Wloc  Numot\n",
              "0         1985      20   1228      81   1328      64    N      0\n",
              "1         1985      25   1106      77   1354      70    H      0\n",
              "2         1985      25   1112      63   1223      56    H      0\n",
              "3         1985      25   1165      70   1432      54    H      0\n",
              "4         1985      25   1192      86   1447      74    H      0\n",
              "...        ...     ...    ...     ...    ...     ...  ...    ...\n",
              "145284    2016     132   1114      70   1419      50    N      0\n",
              "145285    2016     132   1163      72   1272      58    N      0\n",
              "145286    2016     132   1246      82   1401      77    N      1\n",
              "145287    2016     132   1277      66   1345      62    N      0\n",
              "145288    2016     132   1386      87   1433      74    N      0\n",
              "\n",
              "[145289 rows x 8 columns]"
            ]
          },
          "metadata": {},
          "execution_count": 7
        }
      ]
    },
    {
      "cell_type": "code",
      "metadata": {
        "id": "FeTX6zr1bXey",
        "colab": {
          "base_uri": "https://localhost:8080/",
          "height": 206
        },
        "outputId": "c55c3e4d-a823-40ed-e82b-e9fcccb4e4c9"
      },
      "source": [
        "df.head()"
      ],
      "execution_count": 8,
      "outputs": [
        {
          "output_type": "execute_result",
          "data": {
            "text/html": [
              "\n",
              "  <div id=\"df-cfca8128-894a-4fbb-974d-51ec0e67fbb8\">\n",
              "    <div class=\"colab-df-container\">\n",
              "      <div>\n",
              "<style scoped>\n",
              "    .dataframe tbody tr th:only-of-type {\n",
              "        vertical-align: middle;\n",
              "    }\n",
              "\n",
              "    .dataframe tbody tr th {\n",
              "        vertical-align: top;\n",
              "    }\n",
              "\n",
              "    .dataframe thead th {\n",
              "        text-align: right;\n",
              "    }\n",
              "</style>\n",
              "<table border=\"1\" class=\"dataframe\">\n",
              "  <thead>\n",
              "    <tr style=\"text-align: right;\">\n",
              "      <th></th>\n",
              "      <th>Season</th>\n",
              "      <th>Daynum</th>\n",
              "      <th>Wteam</th>\n",
              "      <th>Wscore</th>\n",
              "      <th>Lteam</th>\n",
              "      <th>Lscore</th>\n",
              "      <th>Wloc</th>\n",
              "      <th>Numot</th>\n",
              "    </tr>\n",
              "  </thead>\n",
              "  <tbody>\n",
              "    <tr>\n",
              "      <th>0</th>\n",
              "      <td>1985</td>\n",
              "      <td>20</td>\n",
              "      <td>1228</td>\n",
              "      <td>81</td>\n",
              "      <td>1328</td>\n",
              "      <td>64</td>\n",
              "      <td>N</td>\n",
              "      <td>0</td>\n",
              "    </tr>\n",
              "    <tr>\n",
              "      <th>1</th>\n",
              "      <td>1985</td>\n",
              "      <td>25</td>\n",
              "      <td>1106</td>\n",
              "      <td>77</td>\n",
              "      <td>1354</td>\n",
              "      <td>70</td>\n",
              "      <td>H</td>\n",
              "      <td>0</td>\n",
              "    </tr>\n",
              "    <tr>\n",
              "      <th>2</th>\n",
              "      <td>1985</td>\n",
              "      <td>25</td>\n",
              "      <td>1112</td>\n",
              "      <td>63</td>\n",
              "      <td>1223</td>\n",
              "      <td>56</td>\n",
              "      <td>H</td>\n",
              "      <td>0</td>\n",
              "    </tr>\n",
              "    <tr>\n",
              "      <th>3</th>\n",
              "      <td>1985</td>\n",
              "      <td>25</td>\n",
              "      <td>1165</td>\n",
              "      <td>70</td>\n",
              "      <td>1432</td>\n",
              "      <td>54</td>\n",
              "      <td>H</td>\n",
              "      <td>0</td>\n",
              "    </tr>\n",
              "    <tr>\n",
              "      <th>4</th>\n",
              "      <td>1985</td>\n",
              "      <td>25</td>\n",
              "      <td>1192</td>\n",
              "      <td>86</td>\n",
              "      <td>1447</td>\n",
              "      <td>74</td>\n",
              "      <td>H</td>\n",
              "      <td>0</td>\n",
              "    </tr>\n",
              "  </tbody>\n",
              "</table>\n",
              "</div>\n",
              "      <button class=\"colab-df-convert\" onclick=\"convertToInteractive('df-cfca8128-894a-4fbb-974d-51ec0e67fbb8')\"\n",
              "              title=\"Convert this dataframe to an interactive table.\"\n",
              "              style=\"display:none;\">\n",
              "        \n",
              "  <svg xmlns=\"http://www.w3.org/2000/svg\" height=\"24px\"viewBox=\"0 0 24 24\"\n",
              "       width=\"24px\">\n",
              "    <path d=\"M0 0h24v24H0V0z\" fill=\"none\"/>\n",
              "    <path d=\"M18.56 5.44l.94 2.06.94-2.06 2.06-.94-2.06-.94-.94-2.06-.94 2.06-2.06.94zm-11 1L8.5 8.5l.94-2.06 2.06-.94-2.06-.94L8.5 2.5l-.94 2.06-2.06.94zm10 10l.94 2.06.94-2.06 2.06-.94-2.06-.94-.94-2.06-.94 2.06-2.06.94z\"/><path d=\"M17.41 7.96l-1.37-1.37c-.4-.4-.92-.59-1.43-.59-.52 0-1.04.2-1.43.59L10.3 9.45l-7.72 7.72c-.78.78-.78 2.05 0 2.83L4 21.41c.39.39.9.59 1.41.59.51 0 1.02-.2 1.41-.59l7.78-7.78 2.81-2.81c.8-.78.8-2.07 0-2.86zM5.41 20L4 18.59l7.72-7.72 1.47 1.35L5.41 20z\"/>\n",
              "  </svg>\n",
              "      </button>\n",
              "      \n",
              "  <style>\n",
              "    .colab-df-container {\n",
              "      display:flex;\n",
              "      flex-wrap:wrap;\n",
              "      gap: 12px;\n",
              "    }\n",
              "\n",
              "    .colab-df-convert {\n",
              "      background-color: #E8F0FE;\n",
              "      border: none;\n",
              "      border-radius: 50%;\n",
              "      cursor: pointer;\n",
              "      display: none;\n",
              "      fill: #1967D2;\n",
              "      height: 32px;\n",
              "      padding: 0 0 0 0;\n",
              "      width: 32px;\n",
              "    }\n",
              "\n",
              "    .colab-df-convert:hover {\n",
              "      background-color: #E2EBFA;\n",
              "      box-shadow: 0px 1px 2px rgba(60, 64, 67, 0.3), 0px 1px 3px 1px rgba(60, 64, 67, 0.15);\n",
              "      fill: #174EA6;\n",
              "    }\n",
              "\n",
              "    [theme=dark] .colab-df-convert {\n",
              "      background-color: #3B4455;\n",
              "      fill: #D2E3FC;\n",
              "    }\n",
              "\n",
              "    [theme=dark] .colab-df-convert:hover {\n",
              "      background-color: #434B5C;\n",
              "      box-shadow: 0px 1px 3px 1px rgba(0, 0, 0, 0.15);\n",
              "      filter: drop-shadow(0px 1px 2px rgba(0, 0, 0, 0.3));\n",
              "      fill: #FFFFFF;\n",
              "    }\n",
              "  </style>\n",
              "\n",
              "      <script>\n",
              "        const buttonEl =\n",
              "          document.querySelector('#df-cfca8128-894a-4fbb-974d-51ec0e67fbb8 button.colab-df-convert');\n",
              "        buttonEl.style.display =\n",
              "          google.colab.kernel.accessAllowed ? 'block' : 'none';\n",
              "\n",
              "        async function convertToInteractive(key) {\n",
              "          const element = document.querySelector('#df-cfca8128-894a-4fbb-974d-51ec0e67fbb8');\n",
              "          const dataTable =\n",
              "            await google.colab.kernel.invokeFunction('convertToInteractive',\n",
              "                                                     [key], {});\n",
              "          if (!dataTable) return;\n",
              "\n",
              "          const docLinkHtml = 'Like what you see? Visit the ' +\n",
              "            '<a target=\"_blank\" href=https://colab.research.google.com/notebooks/data_table.ipynb>data table notebook</a>'\n",
              "            + ' to learn more about interactive tables.';\n",
              "          element.innerHTML = '';\n",
              "          dataTable['output_type'] = 'display_data';\n",
              "          await google.colab.output.renderOutput(dataTable, element);\n",
              "          const docLink = document.createElement('div');\n",
              "          docLink.innerHTML = docLinkHtml;\n",
              "          element.appendChild(docLink);\n",
              "        }\n",
              "      </script>\n",
              "    </div>\n",
              "  </div>\n",
              "  "
            ],
            "text/plain": [
              "   Season  Daynum  Wteam  Wscore  Lteam  Lscore Wloc  Numot\n",
              "0    1985      20   1228      81   1328      64    N      0\n",
              "1    1985      25   1106      77   1354      70    H      0\n",
              "2    1985      25   1112      63   1223      56    H      0\n",
              "3    1985      25   1165      70   1432      54    H      0\n",
              "4    1985      25   1192      86   1447      74    H      0"
            ]
          },
          "metadata": {},
          "execution_count": 8
        }
      ]
    },
    {
      "cell_type": "code",
      "metadata": {
        "id": "hyt8V0nzcIGF",
        "colab": {
          "base_uri": "https://localhost:8080/",
          "height": 206
        },
        "outputId": "3efbe5f6-7b8f-4c52-eb39-7ed1b085c609"
      },
      "source": [
        "df.tail()"
      ],
      "execution_count": 9,
      "outputs": [
        {
          "output_type": "execute_result",
          "data": {
            "text/html": [
              "\n",
              "  <div id=\"df-2bb93a49-985e-4a9d-92c9-b5ea56a66409\">\n",
              "    <div class=\"colab-df-container\">\n",
              "      <div>\n",
              "<style scoped>\n",
              "    .dataframe tbody tr th:only-of-type {\n",
              "        vertical-align: middle;\n",
              "    }\n",
              "\n",
              "    .dataframe tbody tr th {\n",
              "        vertical-align: top;\n",
              "    }\n",
              "\n",
              "    .dataframe thead th {\n",
              "        text-align: right;\n",
              "    }\n",
              "</style>\n",
              "<table border=\"1\" class=\"dataframe\">\n",
              "  <thead>\n",
              "    <tr style=\"text-align: right;\">\n",
              "      <th></th>\n",
              "      <th>Season</th>\n",
              "      <th>Daynum</th>\n",
              "      <th>Wteam</th>\n",
              "      <th>Wscore</th>\n",
              "      <th>Lteam</th>\n",
              "      <th>Lscore</th>\n",
              "      <th>Wloc</th>\n",
              "      <th>Numot</th>\n",
              "    </tr>\n",
              "  </thead>\n",
              "  <tbody>\n",
              "    <tr>\n",
              "      <th>145284</th>\n",
              "      <td>2016</td>\n",
              "      <td>132</td>\n",
              "      <td>1114</td>\n",
              "      <td>70</td>\n",
              "      <td>1419</td>\n",
              "      <td>50</td>\n",
              "      <td>N</td>\n",
              "      <td>0</td>\n",
              "    </tr>\n",
              "    <tr>\n",
              "      <th>145285</th>\n",
              "      <td>2016</td>\n",
              "      <td>132</td>\n",
              "      <td>1163</td>\n",
              "      <td>72</td>\n",
              "      <td>1272</td>\n",
              "      <td>58</td>\n",
              "      <td>N</td>\n",
              "      <td>0</td>\n",
              "    </tr>\n",
              "    <tr>\n",
              "      <th>145286</th>\n",
              "      <td>2016</td>\n",
              "      <td>132</td>\n",
              "      <td>1246</td>\n",
              "      <td>82</td>\n",
              "      <td>1401</td>\n",
              "      <td>77</td>\n",
              "      <td>N</td>\n",
              "      <td>1</td>\n",
              "    </tr>\n",
              "    <tr>\n",
              "      <th>145287</th>\n",
              "      <td>2016</td>\n",
              "      <td>132</td>\n",
              "      <td>1277</td>\n",
              "      <td>66</td>\n",
              "      <td>1345</td>\n",
              "      <td>62</td>\n",
              "      <td>N</td>\n",
              "      <td>0</td>\n",
              "    </tr>\n",
              "    <tr>\n",
              "      <th>145288</th>\n",
              "      <td>2016</td>\n",
              "      <td>132</td>\n",
              "      <td>1386</td>\n",
              "      <td>87</td>\n",
              "      <td>1433</td>\n",
              "      <td>74</td>\n",
              "      <td>N</td>\n",
              "      <td>0</td>\n",
              "    </tr>\n",
              "  </tbody>\n",
              "</table>\n",
              "</div>\n",
              "      <button class=\"colab-df-convert\" onclick=\"convertToInteractive('df-2bb93a49-985e-4a9d-92c9-b5ea56a66409')\"\n",
              "              title=\"Convert this dataframe to an interactive table.\"\n",
              "              style=\"display:none;\">\n",
              "        \n",
              "  <svg xmlns=\"http://www.w3.org/2000/svg\" height=\"24px\"viewBox=\"0 0 24 24\"\n",
              "       width=\"24px\">\n",
              "    <path d=\"M0 0h24v24H0V0z\" fill=\"none\"/>\n",
              "    <path d=\"M18.56 5.44l.94 2.06.94-2.06 2.06-.94-2.06-.94-.94-2.06-.94 2.06-2.06.94zm-11 1L8.5 8.5l.94-2.06 2.06-.94-2.06-.94L8.5 2.5l-.94 2.06-2.06.94zm10 10l.94 2.06.94-2.06 2.06-.94-2.06-.94-.94-2.06-.94 2.06-2.06.94z\"/><path d=\"M17.41 7.96l-1.37-1.37c-.4-.4-.92-.59-1.43-.59-.52 0-1.04.2-1.43.59L10.3 9.45l-7.72 7.72c-.78.78-.78 2.05 0 2.83L4 21.41c.39.39.9.59 1.41.59.51 0 1.02-.2 1.41-.59l7.78-7.78 2.81-2.81c.8-.78.8-2.07 0-2.86zM5.41 20L4 18.59l7.72-7.72 1.47 1.35L5.41 20z\"/>\n",
              "  </svg>\n",
              "      </button>\n",
              "      \n",
              "  <style>\n",
              "    .colab-df-container {\n",
              "      display:flex;\n",
              "      flex-wrap:wrap;\n",
              "      gap: 12px;\n",
              "    }\n",
              "\n",
              "    .colab-df-convert {\n",
              "      background-color: #E8F0FE;\n",
              "      border: none;\n",
              "      border-radius: 50%;\n",
              "      cursor: pointer;\n",
              "      display: none;\n",
              "      fill: #1967D2;\n",
              "      height: 32px;\n",
              "      padding: 0 0 0 0;\n",
              "      width: 32px;\n",
              "    }\n",
              "\n",
              "    .colab-df-convert:hover {\n",
              "      background-color: #E2EBFA;\n",
              "      box-shadow: 0px 1px 2px rgba(60, 64, 67, 0.3), 0px 1px 3px 1px rgba(60, 64, 67, 0.15);\n",
              "      fill: #174EA6;\n",
              "    }\n",
              "\n",
              "    [theme=dark] .colab-df-convert {\n",
              "      background-color: #3B4455;\n",
              "      fill: #D2E3FC;\n",
              "    }\n",
              "\n",
              "    [theme=dark] .colab-df-convert:hover {\n",
              "      background-color: #434B5C;\n",
              "      box-shadow: 0px 1px 3px 1px rgba(0, 0, 0, 0.15);\n",
              "      filter: drop-shadow(0px 1px 2px rgba(0, 0, 0, 0.3));\n",
              "      fill: #FFFFFF;\n",
              "    }\n",
              "  </style>\n",
              "\n",
              "      <script>\n",
              "        const buttonEl =\n",
              "          document.querySelector('#df-2bb93a49-985e-4a9d-92c9-b5ea56a66409 button.colab-df-convert');\n",
              "        buttonEl.style.display =\n",
              "          google.colab.kernel.accessAllowed ? 'block' : 'none';\n",
              "\n",
              "        async function convertToInteractive(key) {\n",
              "          const element = document.querySelector('#df-2bb93a49-985e-4a9d-92c9-b5ea56a66409');\n",
              "          const dataTable =\n",
              "            await google.colab.kernel.invokeFunction('convertToInteractive',\n",
              "                                                     [key], {});\n",
              "          if (!dataTable) return;\n",
              "\n",
              "          const docLinkHtml = 'Like what you see? Visit the ' +\n",
              "            '<a target=\"_blank\" href=https://colab.research.google.com/notebooks/data_table.ipynb>data table notebook</a>'\n",
              "            + ' to learn more about interactive tables.';\n",
              "          element.innerHTML = '';\n",
              "          dataTable['output_type'] = 'display_data';\n",
              "          await google.colab.output.renderOutput(dataTable, element);\n",
              "          const docLink = document.createElement('div');\n",
              "          docLink.innerHTML = docLinkHtml;\n",
              "          element.appendChild(docLink);\n",
              "        }\n",
              "      </script>\n",
              "    </div>\n",
              "  </div>\n",
              "  "
            ],
            "text/plain": [
              "        Season  Daynum  Wteam  Wscore  Lteam  Lscore Wloc  Numot\n",
              "145284    2016     132   1114      70   1419      50    N      0\n",
              "145285    2016     132   1163      72   1272      58    N      0\n",
              "145286    2016     132   1246      82   1401      77    N      1\n",
              "145287    2016     132   1277      66   1345      62    N      0\n",
              "145288    2016     132   1386      87   1433      74    N      0"
            ]
          },
          "metadata": {},
          "execution_count": 9
        }
      ]
    },
    {
      "cell_type": "code",
      "metadata": {
        "id": "yw_DDZIicMit",
        "colab": {
          "base_uri": "https://localhost:8080/"
        },
        "outputId": "b3c2015b-eb42-451f-f05b-a171d40d523e"
      },
      "source": [
        "df.shape"
      ],
      "execution_count": 10,
      "outputs": [
        {
          "output_type": "execute_result",
          "data": {
            "text/plain": [
              "(145289, 8)"
            ]
          },
          "metadata": {},
          "execution_count": 10
        }
      ]
    },
    {
      "cell_type": "code",
      "metadata": {
        "id": "bF9T8oDOkuAm",
        "colab": {
          "base_uri": "https://localhost:8080/"
        },
        "outputId": "06cb1eef-33d6-48a2-ae71-40013bcfaceb"
      },
      "source": [
        "df.index"
      ],
      "execution_count": 11,
      "outputs": [
        {
          "output_type": "execute_result",
          "data": {
            "text/plain": [
              "RangeIndex(start=0, stop=145289, step=1)"
            ]
          },
          "metadata": {},
          "execution_count": 11
        }
      ]
    },
    {
      "cell_type": "code",
      "metadata": {
        "id": "dfrSWFOecMlE",
        "colab": {
          "base_uri": "https://localhost:8080/"
        },
        "outputId": "24a25698-a3b5-46db-ed3a-9f0e88cd1d17"
      },
      "source": [
        "df.columns.tolist()"
      ],
      "execution_count": 12,
      "outputs": [
        {
          "output_type": "execute_result",
          "data": {
            "text/plain": [
              "['Season', 'Daynum', 'Wteam', 'Wscore', 'Lteam', 'Lscore', 'Wloc', 'Numot']"
            ]
          },
          "metadata": {},
          "execution_count": 12
        }
      ]
    },
    {
      "cell_type": "code",
      "metadata": {
        "id": "fSze9X1ckyaW",
        "colab": {
          "base_uri": "https://localhost:8080/"
        },
        "outputId": "a4f7bf51-2170-484c-f90d-3daf6dc33ad5"
      },
      "source": [
        "df.info()"
      ],
      "execution_count": 13,
      "outputs": [
        {
          "output_type": "stream",
          "name": "stdout",
          "text": [
            "<class 'pandas.core.frame.DataFrame'>\n",
            "RangeIndex: 145289 entries, 0 to 145288\n",
            "Data columns (total 8 columns):\n",
            " #   Column  Non-Null Count   Dtype \n",
            "---  ------  --------------   ----- \n",
            " 0   Season  145289 non-null  int64 \n",
            " 1   Daynum  145289 non-null  int64 \n",
            " 2   Wteam   145289 non-null  int64 \n",
            " 3   Wscore  145289 non-null  int64 \n",
            " 4   Lteam   145289 non-null  int64 \n",
            " 5   Lscore  145289 non-null  int64 \n",
            " 6   Wloc    145289 non-null  object\n",
            " 7   Numot   145289 non-null  int64 \n",
            "dtypes: int64(7), object(1)\n",
            "memory usage: 8.9+ MB\n"
          ]
        }
      ]
    },
    {
      "cell_type": "code",
      "metadata": {
        "id": "tc5JleNDcMpj",
        "colab": {
          "base_uri": "https://localhost:8080/",
          "height": 364
        },
        "outputId": "0f374322-dbd4-4af0-eaeb-5bb4018dda1d"
      },
      "source": [
        "df.describe()"
      ],
      "execution_count": 14,
      "outputs": [
        {
          "output_type": "execute_result",
          "data": {
            "text/html": [
              "\n",
              "  <div id=\"df-b7ad1721-e24d-4d12-96fd-afc3bc955277\">\n",
              "    <div class=\"colab-df-container\">\n",
              "      <div>\n",
              "<style scoped>\n",
              "    .dataframe tbody tr th:only-of-type {\n",
              "        vertical-align: middle;\n",
              "    }\n",
              "\n",
              "    .dataframe tbody tr th {\n",
              "        vertical-align: top;\n",
              "    }\n",
              "\n",
              "    .dataframe thead th {\n",
              "        text-align: right;\n",
              "    }\n",
              "</style>\n",
              "<table border=\"1\" class=\"dataframe\">\n",
              "  <thead>\n",
              "    <tr style=\"text-align: right;\">\n",
              "      <th></th>\n",
              "      <th>Season</th>\n",
              "      <th>Daynum</th>\n",
              "      <th>Wteam</th>\n",
              "      <th>Wscore</th>\n",
              "      <th>Lteam</th>\n",
              "      <th>Lscore</th>\n",
              "      <th>Numot</th>\n",
              "    </tr>\n",
              "  </thead>\n",
              "  <tbody>\n",
              "    <tr>\n",
              "      <th>count</th>\n",
              "      <td>145289.000000</td>\n",
              "      <td>145289.000000</td>\n",
              "      <td>145289.000000</td>\n",
              "      <td>145289.000000</td>\n",
              "      <td>145289.000000</td>\n",
              "      <td>145289.000000</td>\n",
              "      <td>145289.000000</td>\n",
              "    </tr>\n",
              "    <tr>\n",
              "      <th>mean</th>\n",
              "      <td>2001.574834</td>\n",
              "      <td>75.223816</td>\n",
              "      <td>1286.720646</td>\n",
              "      <td>76.600321</td>\n",
              "      <td>1282.864064</td>\n",
              "      <td>64.497009</td>\n",
              "      <td>0.044387</td>\n",
              "    </tr>\n",
              "    <tr>\n",
              "      <th>std</th>\n",
              "      <td>9.233342</td>\n",
              "      <td>33.287418</td>\n",
              "      <td>104.570275</td>\n",
              "      <td>12.173033</td>\n",
              "      <td>104.829234</td>\n",
              "      <td>11.380625</td>\n",
              "      <td>0.247819</td>\n",
              "    </tr>\n",
              "    <tr>\n",
              "      <th>min</th>\n",
              "      <td>1985.000000</td>\n",
              "      <td>0.000000</td>\n",
              "      <td>1101.000000</td>\n",
              "      <td>34.000000</td>\n",
              "      <td>1101.000000</td>\n",
              "      <td>20.000000</td>\n",
              "      <td>0.000000</td>\n",
              "    </tr>\n",
              "    <tr>\n",
              "      <th>25%</th>\n",
              "      <td>1994.000000</td>\n",
              "      <td>47.000000</td>\n",
              "      <td>1198.000000</td>\n",
              "      <td>68.000000</td>\n",
              "      <td>1191.000000</td>\n",
              "      <td>57.000000</td>\n",
              "      <td>0.000000</td>\n",
              "    </tr>\n",
              "    <tr>\n",
              "      <th>50%</th>\n",
              "      <td>2002.000000</td>\n",
              "      <td>78.000000</td>\n",
              "      <td>1284.000000</td>\n",
              "      <td>76.000000</td>\n",
              "      <td>1280.000000</td>\n",
              "      <td>64.000000</td>\n",
              "      <td>0.000000</td>\n",
              "    </tr>\n",
              "    <tr>\n",
              "      <th>75%</th>\n",
              "      <td>2010.000000</td>\n",
              "      <td>103.000000</td>\n",
              "      <td>1379.000000</td>\n",
              "      <td>84.000000</td>\n",
              "      <td>1375.000000</td>\n",
              "      <td>72.000000</td>\n",
              "      <td>0.000000</td>\n",
              "    </tr>\n",
              "    <tr>\n",
              "      <th>max</th>\n",
              "      <td>2016.000000</td>\n",
              "      <td>132.000000</td>\n",
              "      <td>1464.000000</td>\n",
              "      <td>186.000000</td>\n",
              "      <td>1464.000000</td>\n",
              "      <td>150.000000</td>\n",
              "      <td>6.000000</td>\n",
              "    </tr>\n",
              "  </tbody>\n",
              "</table>\n",
              "</div>\n",
              "      <button class=\"colab-df-convert\" onclick=\"convertToInteractive('df-b7ad1721-e24d-4d12-96fd-afc3bc955277')\"\n",
              "              title=\"Convert this dataframe to an interactive table.\"\n",
              "              style=\"display:none;\">\n",
              "        \n",
              "  <svg xmlns=\"http://www.w3.org/2000/svg\" height=\"24px\"viewBox=\"0 0 24 24\"\n",
              "       width=\"24px\">\n",
              "    <path d=\"M0 0h24v24H0V0z\" fill=\"none\"/>\n",
              "    <path d=\"M18.56 5.44l.94 2.06.94-2.06 2.06-.94-2.06-.94-.94-2.06-.94 2.06-2.06.94zm-11 1L8.5 8.5l.94-2.06 2.06-.94-2.06-.94L8.5 2.5l-.94 2.06-2.06.94zm10 10l.94 2.06.94-2.06 2.06-.94-2.06-.94-.94-2.06-.94 2.06-2.06.94z\"/><path d=\"M17.41 7.96l-1.37-1.37c-.4-.4-.92-.59-1.43-.59-.52 0-1.04.2-1.43.59L10.3 9.45l-7.72 7.72c-.78.78-.78 2.05 0 2.83L4 21.41c.39.39.9.59 1.41.59.51 0 1.02-.2 1.41-.59l7.78-7.78 2.81-2.81c.8-.78.8-2.07 0-2.86zM5.41 20L4 18.59l7.72-7.72 1.47 1.35L5.41 20z\"/>\n",
              "  </svg>\n",
              "      </button>\n",
              "      \n",
              "  <style>\n",
              "    .colab-df-container {\n",
              "      display:flex;\n",
              "      flex-wrap:wrap;\n",
              "      gap: 12px;\n",
              "    }\n",
              "\n",
              "    .colab-df-convert {\n",
              "      background-color: #E8F0FE;\n",
              "      border: none;\n",
              "      border-radius: 50%;\n",
              "      cursor: pointer;\n",
              "      display: none;\n",
              "      fill: #1967D2;\n",
              "      height: 32px;\n",
              "      padding: 0 0 0 0;\n",
              "      width: 32px;\n",
              "    }\n",
              "\n",
              "    .colab-df-convert:hover {\n",
              "      background-color: #E2EBFA;\n",
              "      box-shadow: 0px 1px 2px rgba(60, 64, 67, 0.3), 0px 1px 3px 1px rgba(60, 64, 67, 0.15);\n",
              "      fill: #174EA6;\n",
              "    }\n",
              "\n",
              "    [theme=dark] .colab-df-convert {\n",
              "      background-color: #3B4455;\n",
              "      fill: #D2E3FC;\n",
              "    }\n",
              "\n",
              "    [theme=dark] .colab-df-convert:hover {\n",
              "      background-color: #434B5C;\n",
              "      box-shadow: 0px 1px 3px 1px rgba(0, 0, 0, 0.15);\n",
              "      filter: drop-shadow(0px 1px 2px rgba(0, 0, 0, 0.3));\n",
              "      fill: #FFFFFF;\n",
              "    }\n",
              "  </style>\n",
              "\n",
              "      <script>\n",
              "        const buttonEl =\n",
              "          document.querySelector('#df-b7ad1721-e24d-4d12-96fd-afc3bc955277 button.colab-df-convert');\n",
              "        buttonEl.style.display =\n",
              "          google.colab.kernel.accessAllowed ? 'block' : 'none';\n",
              "\n",
              "        async function convertToInteractive(key) {\n",
              "          const element = document.querySelector('#df-b7ad1721-e24d-4d12-96fd-afc3bc955277');\n",
              "          const dataTable =\n",
              "            await google.colab.kernel.invokeFunction('convertToInteractive',\n",
              "                                                     [key], {});\n",
              "          if (!dataTable) return;\n",
              "\n",
              "          const docLinkHtml = 'Like what you see? Visit the ' +\n",
              "            '<a target=\"_blank\" href=https://colab.research.google.com/notebooks/data_table.ipynb>data table notebook</a>'\n",
              "            + ' to learn more about interactive tables.';\n",
              "          element.innerHTML = '';\n",
              "          dataTable['output_type'] = 'display_data';\n",
              "          await google.colab.output.renderOutput(dataTable, element);\n",
              "          const docLink = document.createElement('div');\n",
              "          docLink.innerHTML = docLinkHtml;\n",
              "          element.appendChild(docLink);\n",
              "        }\n",
              "      </script>\n",
              "    </div>\n",
              "  </div>\n",
              "  "
            ],
            "text/plain": [
              "              Season         Daynum  ...         Lscore          Numot\n",
              "count  145289.000000  145289.000000  ...  145289.000000  145289.000000\n",
              "mean     2001.574834      75.223816  ...      64.497009       0.044387\n",
              "std         9.233342      33.287418  ...      11.380625       0.247819\n",
              "min      1985.000000       0.000000  ...      20.000000       0.000000\n",
              "25%      1994.000000      47.000000  ...      57.000000       0.000000\n",
              "50%      2002.000000      78.000000  ...      64.000000       0.000000\n",
              "75%      2010.000000     103.000000  ...      72.000000       0.000000\n",
              "max      2016.000000     132.000000  ...     150.000000       6.000000\n",
              "\n",
              "[8 rows x 7 columns]"
            ]
          },
          "metadata": {},
          "execution_count": 14
        }
      ]
    },
    {
      "cell_type": "code",
      "metadata": {
        "id": "s7JGcSQAcMrq",
        "colab": {
          "base_uri": "https://localhost:8080/"
        },
        "outputId": "cb54510c-041d-41ca-994e-bdb331233b7a"
      },
      "source": [
        "df.max()"
      ],
      "execution_count": 15,
      "outputs": [
        {
          "output_type": "execute_result",
          "data": {
            "text/plain": [
              "Season    2016\n",
              "Daynum     132\n",
              "Wteam     1464\n",
              "Wscore     186\n",
              "Lteam     1464\n",
              "Lscore     150\n",
              "Wloc         N\n",
              "Numot        6\n",
              "dtype: object"
            ]
          },
          "metadata": {},
          "execution_count": 15
        }
      ]
    },
    {
      "cell_type": "markdown",
      "metadata": {
        "id": "iJJvIyqCh1kX"
      },
      "source": [
        "# 참조 방법\n",
        "```\n",
        "# Direct Access\n",
        "df.Wteam : Series  <------ 권장\n",
        "df.Wteam[82] : value\n",
        "df.Wteam[82:85] : Series\n",
        "df['Wteam'] : Series  \n",
        "df['Wteam'][82] : value\n",
        "df['Wteam'][82:85] : Series\n",
        "df[82] # ERROR\n",
        "df[82:85] : DataFrame\n",
        "df[82:85]['Wteam'] : Series\n",
        "df[[True, True, True, ....]] : DataFrame\n",
        "\n",
        "# by loc(location) : 컬럼을 컬럼명으로\n",
        "df.loc[82] : Series\n",
        "df.loc[82:85] : DataFrame\n",
        "df.loc[[82,83,84,85]] : DataFrame\n",
        "df.loc[(82,83,84,85)] : ERROR\n",
        "df.loc[82,83,84,85] : ERROR\n",
        "df.loc[82]['Wteam'] : value <-------- 권장\n",
        "df.loc[82,'Wteam'] : value <--------- 권장\n",
        "df.loc[82][2] : value\n",
        "df.loc[82,2] : ERROR\n",
        "df.loc['Wteam'] : ERROR\n",
        "\n",
        "# by iloc(integer location) : 컬럼을 컬럼 인덱스로\n",
        "df.iloc[82] : Series\n",
        "df.iloc[82:85] : DataFrame\n",
        "df.iloc[[82,83,84,85]] : DataFrame\n",
        "df.iloc[(82,83,84,85)] : ERROR\n",
        "df.iloc[82,83,84,85] : ERROR\n",
        "df.iloc[82]['Wteam'] : value\n",
        "df.iloc[82,'Wteam] : ERROR\n",
        "df.iloc[82][2] : value  <-------- 권장\n",
        "df.iloc[82,2] : value  <--------- 권장\n",
        "df.iloc['Wteam'] : ERROR\n",
        "```\n",
        "\n",
        "정리하면\n",
        "\n",
        "```\n",
        "특정 칼럼 df.Wteam\n",
        "\n",
        "loc 사용하여 참조  : df.loc[82, 'Wteam']\n",
        "iloc 사용하여 참조 : df.iloc[82, 2] \n",
        "```"
      ]
    },
    {
      "cell_type": "code",
      "metadata": {
        "id": "sKEOLZnvcMuC",
        "colab": {
          "base_uri": "https://localhost:8080/"
        },
        "outputId": "fe8dc1b1-9dbf-4bac-db76-cb02fdefaefe"
      },
      "source": [
        "df['Wteam']"
      ],
      "execution_count": 16,
      "outputs": [
        {
          "output_type": "execute_result",
          "data": {
            "text/plain": [
              "0         1228\n",
              "1         1106\n",
              "2         1112\n",
              "3         1165\n",
              "4         1192\n",
              "          ... \n",
              "145284    1114\n",
              "145285    1163\n",
              "145286    1246\n",
              "145287    1277\n",
              "145288    1386\n",
              "Name: Wteam, Length: 145289, dtype: int64"
            ]
          },
          "metadata": {},
          "execution_count": 16
        }
      ]
    },
    {
      "cell_type": "code",
      "metadata": {
        "id": "Fm18-8CWcMyu",
        "colab": {
          "base_uri": "https://localhost:8080/"
        },
        "outputId": "9227807c-e380-45e3-8544-a52ab2fc4d53"
      },
      "source": [
        "df['Wteam'].max()"
      ],
      "execution_count": 17,
      "outputs": [
        {
          "output_type": "execute_result",
          "data": {
            "text/plain": [
              "1464"
            ]
          },
          "metadata": {},
          "execution_count": 17
        }
      ]
    },
    {
      "cell_type": "code",
      "metadata": {
        "colab": {
          "base_uri": "https://localhost:8080/",
          "height": 144
        },
        "id": "ldR59h3lBrBZ",
        "outputId": "4ff0b976-3514-45dc-b7c8-d7eca4cc5576"
      },
      "source": [
        "df[82:85]"
      ],
      "execution_count": 18,
      "outputs": [
        {
          "output_type": "execute_result",
          "data": {
            "text/html": [
              "\n",
              "  <div id=\"df-19ff8233-641b-4de2-b09a-d606b7e92c75\">\n",
              "    <div class=\"colab-df-container\">\n",
              "      <div>\n",
              "<style scoped>\n",
              "    .dataframe tbody tr th:only-of-type {\n",
              "        vertical-align: middle;\n",
              "    }\n",
              "\n",
              "    .dataframe tbody tr th {\n",
              "        vertical-align: top;\n",
              "    }\n",
              "\n",
              "    .dataframe thead th {\n",
              "        text-align: right;\n",
              "    }\n",
              "</style>\n",
              "<table border=\"1\" class=\"dataframe\">\n",
              "  <thead>\n",
              "    <tr style=\"text-align: right;\">\n",
              "      <th></th>\n",
              "      <th>Season</th>\n",
              "      <th>Daynum</th>\n",
              "      <th>Wteam</th>\n",
              "      <th>Wscore</th>\n",
              "      <th>Lteam</th>\n",
              "      <th>Lscore</th>\n",
              "      <th>Wloc</th>\n",
              "      <th>Numot</th>\n",
              "    </tr>\n",
              "  </thead>\n",
              "  <tbody>\n",
              "    <tr>\n",
              "      <th>82</th>\n",
              "      <td>1985</td>\n",
              "      <td>28</td>\n",
              "      <td>1464</td>\n",
              "      <td>71</td>\n",
              "      <td>1134</td>\n",
              "      <td>58</td>\n",
              "      <td>H</td>\n",
              "      <td>0</td>\n",
              "    </tr>\n",
              "    <tr>\n",
              "      <th>83</th>\n",
              "      <td>1985</td>\n",
              "      <td>29</td>\n",
              "      <td>1116</td>\n",
              "      <td>59</td>\n",
              "      <td>1416</td>\n",
              "      <td>45</td>\n",
              "      <td>N</td>\n",
              "      <td>0</td>\n",
              "    </tr>\n",
              "    <tr>\n",
              "      <th>84</th>\n",
              "      <td>1985</td>\n",
              "      <td>29</td>\n",
              "      <td>1124</td>\n",
              "      <td>99</td>\n",
              "      <td>1341</td>\n",
              "      <td>77</td>\n",
              "      <td>H</td>\n",
              "      <td>0</td>\n",
              "    </tr>\n",
              "  </tbody>\n",
              "</table>\n",
              "</div>\n",
              "      <button class=\"colab-df-convert\" onclick=\"convertToInteractive('df-19ff8233-641b-4de2-b09a-d606b7e92c75')\"\n",
              "              title=\"Convert this dataframe to an interactive table.\"\n",
              "              style=\"display:none;\">\n",
              "        \n",
              "  <svg xmlns=\"http://www.w3.org/2000/svg\" height=\"24px\"viewBox=\"0 0 24 24\"\n",
              "       width=\"24px\">\n",
              "    <path d=\"M0 0h24v24H0V0z\" fill=\"none\"/>\n",
              "    <path d=\"M18.56 5.44l.94 2.06.94-2.06 2.06-.94-2.06-.94-.94-2.06-.94 2.06-2.06.94zm-11 1L8.5 8.5l.94-2.06 2.06-.94-2.06-.94L8.5 2.5l-.94 2.06-2.06.94zm10 10l.94 2.06.94-2.06 2.06-.94-2.06-.94-.94-2.06-.94 2.06-2.06.94z\"/><path d=\"M17.41 7.96l-1.37-1.37c-.4-.4-.92-.59-1.43-.59-.52 0-1.04.2-1.43.59L10.3 9.45l-7.72 7.72c-.78.78-.78 2.05 0 2.83L4 21.41c.39.39.9.59 1.41.59.51 0 1.02-.2 1.41-.59l7.78-7.78 2.81-2.81c.8-.78.8-2.07 0-2.86zM5.41 20L4 18.59l7.72-7.72 1.47 1.35L5.41 20z\"/>\n",
              "  </svg>\n",
              "      </button>\n",
              "      \n",
              "  <style>\n",
              "    .colab-df-container {\n",
              "      display:flex;\n",
              "      flex-wrap:wrap;\n",
              "      gap: 12px;\n",
              "    }\n",
              "\n",
              "    .colab-df-convert {\n",
              "      background-color: #E8F0FE;\n",
              "      border: none;\n",
              "      border-radius: 50%;\n",
              "      cursor: pointer;\n",
              "      display: none;\n",
              "      fill: #1967D2;\n",
              "      height: 32px;\n",
              "      padding: 0 0 0 0;\n",
              "      width: 32px;\n",
              "    }\n",
              "\n",
              "    .colab-df-convert:hover {\n",
              "      background-color: #E2EBFA;\n",
              "      box-shadow: 0px 1px 2px rgba(60, 64, 67, 0.3), 0px 1px 3px 1px rgba(60, 64, 67, 0.15);\n",
              "      fill: #174EA6;\n",
              "    }\n",
              "\n",
              "    [theme=dark] .colab-df-convert {\n",
              "      background-color: #3B4455;\n",
              "      fill: #D2E3FC;\n",
              "    }\n",
              "\n",
              "    [theme=dark] .colab-df-convert:hover {\n",
              "      background-color: #434B5C;\n",
              "      box-shadow: 0px 1px 3px 1px rgba(0, 0, 0, 0.15);\n",
              "      filter: drop-shadow(0px 1px 2px rgba(0, 0, 0, 0.3));\n",
              "      fill: #FFFFFF;\n",
              "    }\n",
              "  </style>\n",
              "\n",
              "      <script>\n",
              "        const buttonEl =\n",
              "          document.querySelector('#df-19ff8233-641b-4de2-b09a-d606b7e92c75 button.colab-df-convert');\n",
              "        buttonEl.style.display =\n",
              "          google.colab.kernel.accessAllowed ? 'block' : 'none';\n",
              "\n",
              "        async function convertToInteractive(key) {\n",
              "          const element = document.querySelector('#df-19ff8233-641b-4de2-b09a-d606b7e92c75');\n",
              "          const dataTable =\n",
              "            await google.colab.kernel.invokeFunction('convertToInteractive',\n",
              "                                                     [key], {});\n",
              "          if (!dataTable) return;\n",
              "\n",
              "          const docLinkHtml = 'Like what you see? Visit the ' +\n",
              "            '<a target=\"_blank\" href=https://colab.research.google.com/notebooks/data_table.ipynb>data table notebook</a>'\n",
              "            + ' to learn more about interactive tables.';\n",
              "          element.innerHTML = '';\n",
              "          dataTable['output_type'] = 'display_data';\n",
              "          await google.colab.output.renderOutput(dataTable, element);\n",
              "          const docLink = document.createElement('div');\n",
              "          docLink.innerHTML = docLinkHtml;\n",
              "          element.appendChild(docLink);\n",
              "        }\n",
              "      </script>\n",
              "    </div>\n",
              "  </div>\n",
              "  "
            ],
            "text/plain": [
              "    Season  Daynum  Wteam  Wscore  Lteam  Lscore Wloc  Numot\n",
              "82    1985      28   1464      71   1134      58    H      0\n",
              "83    1985      29   1116      59   1416      45    N      0\n",
              "84    1985      29   1124      99   1341      77    H      0"
            ]
          },
          "metadata": {},
          "execution_count": 18
        }
      ]
    },
    {
      "cell_type": "code",
      "metadata": {
        "id": "XyssEc6ZcM1I",
        "colab": {
          "base_uri": "https://localhost:8080/"
        },
        "outputId": "60841457-7eb0-4268-c03e-81d011e4906b"
      },
      "source": [
        "df['Wteam'].mean()"
      ],
      "execution_count": 19,
      "outputs": [
        {
          "output_type": "execute_result",
          "data": {
            "text/plain": [
              "1286.7206464357246"
            ]
          },
          "metadata": {},
          "execution_count": 19
        }
      ]
    },
    {
      "cell_type": "code",
      "metadata": {
        "id": "uEJNux1HeRnd",
        "colab": {
          "base_uri": "https://localhost:8080/"
        },
        "outputId": "aba096d1-b166-4dc3-9676-cb28ecbff128"
      },
      "source": [
        "# df[82] # NOT SUPPORT\n",
        "df.iloc[82]"
      ],
      "execution_count": 20,
      "outputs": [
        {
          "output_type": "execute_result",
          "data": {
            "text/plain": [
              "Season    1985\n",
              "Daynum      28\n",
              "Wteam     1464\n",
              "Wscore      71\n",
              "Lteam     1134\n",
              "Lscore      58\n",
              "Wloc         H\n",
              "Numot        0\n",
              "Name: 82, dtype: object"
            ]
          },
          "metadata": {},
          "execution_count": 20
        }
      ]
    },
    {
      "cell_type": "code",
      "metadata": {
        "colab": {
          "base_uri": "https://localhost:8080/"
        },
        "id": "qp3sGHZU9u5g",
        "outputId": "421a848a-8821-4416-b26d-876020a9513b"
      },
      "source": [
        "df.loc[82]"
      ],
      "execution_count": 21,
      "outputs": [
        {
          "output_type": "execute_result",
          "data": {
            "text/plain": [
              "Season    1985\n",
              "Daynum      28\n",
              "Wteam     1464\n",
              "Wscore      71\n",
              "Lteam     1134\n",
              "Lscore      58\n",
              "Wloc         H\n",
              "Numot        0\n",
              "Name: 82, dtype: object"
            ]
          },
          "metadata": {},
          "execution_count": 21
        }
      ]
    },
    {
      "cell_type": "code",
      "metadata": {
        "colab": {
          "base_uri": "https://localhost:8080/"
        },
        "id": "DPQvTrWX-acf",
        "outputId": "b07bc3f0-8269-4c9a-eecf-c46aeaf0f554"
      },
      "source": [
        "df.loc[82]['Wteam']"
      ],
      "execution_count": 22,
      "outputs": [
        {
          "output_type": "execute_result",
          "data": {
            "text/plain": [
              "1464"
            ]
          },
          "metadata": {},
          "execution_count": 22
        }
      ]
    },
    {
      "cell_type": "code",
      "metadata": {
        "id": "buPHbtTieRsd",
        "colab": {
          "base_uri": "https://localhost:8080/"
        },
        "outputId": "f355334c-6bcb-4d9a-f522-cbdce55a67bf"
      },
      "source": [
        "df.iloc[82]['Wteam']"
      ],
      "execution_count": 23,
      "outputs": [
        {
          "output_type": "execute_result",
          "data": {
            "text/plain": [
              "1464"
            ]
          },
          "metadata": {},
          "execution_count": 23
        }
      ]
    },
    {
      "cell_type": "code",
      "metadata": {
        "colab": {
          "base_uri": "https://localhost:8080/"
        },
        "id": "a6fbeWyb-nhd",
        "outputId": "67f53fb6-a06a-4b4a-d685-470a8558459a"
      },
      "source": [
        "df.loc[82, 'Wteam']"
      ],
      "execution_count": 24,
      "outputs": [
        {
          "output_type": "execute_result",
          "data": {
            "text/plain": [
              "1464"
            ]
          },
          "metadata": {},
          "execution_count": 24
        }
      ]
    },
    {
      "cell_type": "code",
      "metadata": {
        "colab": {
          "base_uri": "https://localhost:8080/"
        },
        "id": "UfXIowMv-pnN",
        "outputId": "49c45ffd-e013-4958-c1cc-cc9d4ebcf861"
      },
      "source": [
        "# df.iloc[82, 'Wteam'] # Not Support\n",
        "df.iloc[82, 2]"
      ],
      "execution_count": 25,
      "outputs": [
        {
          "output_type": "execute_result",
          "data": {
            "text/plain": [
              "1464"
            ]
          },
          "metadata": {},
          "execution_count": 25
        }
      ]
    },
    {
      "cell_type": "code",
      "metadata": {
        "id": "3phnrVbFhJNX",
        "colab": {
          "base_uri": "https://localhost:8080/"
        },
        "outputId": "39583c7c-9b7f-41df-cf1c-2e6c2acc3685"
      },
      "source": [
        "df['Wteam'][82]"
      ],
      "execution_count": 26,
      "outputs": [
        {
          "output_type": "execute_result",
          "data": {
            "text/plain": [
              "1464"
            ]
          },
          "metadata": {},
          "execution_count": 26
        }
      ]
    },
    {
      "cell_type": "code",
      "metadata": {
        "id": "Rpl6VHNoc9Xf",
        "colab": {
          "base_uri": "https://localhost:8080/"
        },
        "outputId": "fff83dc2-7f24-4b9c-c118-49fa55c647ff"
      },
      "source": [
        "df['Wteam'].value_counts()"
      ],
      "execution_count": 27,
      "outputs": [
        {
          "output_type": "execute_result",
          "data": {
            "text/plain": [
              "1181    819\n",
              "1242    804\n",
              "1246    765\n",
              "1314    761\n",
              "1112    746\n",
              "       ... \n",
              "1101     18\n",
              "1446     14\n",
              "1118      6\n",
              "1289      6\n",
              "1327      3\n",
              "Name: Wteam, Length: 364, dtype: int64"
            ]
          },
          "metadata": {},
          "execution_count": 27
        }
      ]
    },
    {
      "cell_type": "markdown",
      "metadata": {
        "id": "oTCd4mTkHSb3"
      },
      "source": [
        "# 데이터 구조와 참조 방법"
      ]
    },
    {
      "cell_type": "markdown",
      "metadata": {
        "id": "OnQEKZBtKYoF"
      },
      "source": [
        "## 마스크 타입 필터"
      ]
    },
    {
      "cell_type": "code",
      "metadata": {
        "colab": {
          "base_uri": "https://localhost:8080/"
        },
        "id": "NHfamfU-IZVH",
        "outputId": "89f6aa60-4e81-4990-ea25-a76e8383c3e2"
      },
      "source": [
        "df = pd.DataFrame(\n",
        "        {\"AAA\": [4, 5, 6, 7], \"BBB\": [10, 20, 30, 40], \"CCC\": [100, 50, -30, -50]}\n",
        ")\n",
        "\n",
        "print(df)\n",
        "print()\n",
        "\n",
        "# 필터 선언\n",
        "filtered_mask = pd.Series([True, False, True, False])\n",
        "print(\"filtered_mask legnth =\",len(filtered_mask))\n",
        "print(filtered_mask)\n",
        "print()\n",
        "\n",
        "# 필터링된 DF\n",
        "print(df[filtered_mask])\n",
        "print()\n",
        "\n",
        "# 대상 항목만 값 설정\n",
        "df.loc[filtered_mask, 'BBB'] = -1\n",
        "print(df)\n"
      ],
      "execution_count": 28,
      "outputs": [
        {
          "output_type": "stream",
          "name": "stdout",
          "text": [
            "   AAA  BBB  CCC\n",
            "0    4   10  100\n",
            "1    5   20   50\n",
            "2    6   30  -30\n",
            "3    7   40  -50\n",
            "\n",
            "filtered_mask legnth = 4\n",
            "0     True\n",
            "1    False\n",
            "2     True\n",
            "3    False\n",
            "dtype: bool\n",
            "\n",
            "   AAA  BBB  CCC\n",
            "0    4   10  100\n",
            "2    6   30  -30\n",
            "\n",
            "   AAA  BBB  CCC\n",
            "0    4   -1  100\n",
            "1    5   20   50\n",
            "2    6   -1  -30\n",
            "3    7   40  -50\n"
          ]
        }
      ]
    },
    {
      "cell_type": "markdown",
      "metadata": {
        "id": "sBqR2ZjYNaZL"
      },
      "source": [
        "## 인덱스 타입 필터"
      ]
    },
    {
      "cell_type": "code",
      "metadata": {
        "colab": {
          "base_uri": "https://localhost:8080/"
        },
        "id": "uAM3g7YaNdp4",
        "outputId": "a266270e-bcd1-467d-8f75-ce3a4fb6448d"
      },
      "source": [
        "df = pd.DataFrame(\n",
        "        {\"AAA\": [4, 5, 6, 7], \"BBB\": [10, 20, 30, 40], \"CCC\": [100, 50, -30, -50]}\n",
        ")\n",
        "\n",
        "print(df)\n",
        "print()\n",
        "\n",
        "# 필터 선언\n",
        "filtered_index = np.array([0, 2])\n",
        "print(\"filtered_index legnth =\",len(filtered_index))\n",
        "print(filtered_index)\n",
        "print()\n",
        "\n",
        "# 필터링된 DF\n",
        "print(df.loc[filtered_index])\n",
        "print()\n",
        "\n",
        "# 대상 항목만 값 설정\n",
        "df.loc[filtered_index, 'BBB'] = -1\n",
        "print(df)\n"
      ],
      "execution_count": 29,
      "outputs": [
        {
          "output_type": "stream",
          "name": "stdout",
          "text": [
            "   AAA  BBB  CCC\n",
            "0    4   10  100\n",
            "1    5   20   50\n",
            "2    6   30  -30\n",
            "3    7   40  -50\n",
            "\n",
            "filtered_index legnth = 2\n",
            "[0 2]\n",
            "\n",
            "   AAA  BBB  CCC\n",
            "0    4   10  100\n",
            "2    6   30  -30\n",
            "\n",
            "   AAA  BBB  CCC\n",
            "0    4   -1  100\n",
            "1    5   20   50\n",
            "2    6   -1  -30\n",
            "3    7   40  -50\n"
          ]
        }
      ]
    },
    {
      "cell_type": "markdown",
      "metadata": {
        "id": "MuvgO3CvLDAY"
      },
      "source": [
        "## 단일 조건"
      ]
    },
    {
      "cell_type": "code",
      "metadata": {
        "colab": {
          "base_uri": "https://localhost:8080/"
        },
        "id": "dJBot4eFG_3x",
        "outputId": "7d894279-269b-423a-ea8b-e985fc87061b"
      },
      "source": [
        "df = pd.DataFrame(\n",
        "        {\"AAA\": [4, 5, 6, 7], \"BBB\": [10, 20, 30, 40], \"CCC\": [100, 50, -30, -50]}\n",
        ")\n",
        "\n",
        "print(df)\n",
        "print()\n",
        "\n",
        "# 조건으로 필터\n",
        "filtered_mask = df.AAA>=5\n",
        "print(\"filtered_mask legnth =\",len(filtered_mask))\n",
        "print(filtered_mask)\n",
        "print()\n",
        "\n",
        "# 필터링된 DF\n",
        "print(df[filtered_mask])\n",
        "print()\n",
        "\n",
        "# 대상 항목만 값 설정\n",
        "df.loc[filtered_mask, 'BBB'] = -1\n",
        "print(df)"
      ],
      "execution_count": 30,
      "outputs": [
        {
          "output_type": "stream",
          "name": "stdout",
          "text": [
            "   AAA  BBB  CCC\n",
            "0    4   10  100\n",
            "1    5   20   50\n",
            "2    6   30  -30\n",
            "3    7   40  -50\n",
            "\n",
            "filtered_mask legnth = 4\n",
            "0    False\n",
            "1     True\n",
            "2     True\n",
            "3     True\n",
            "Name: AAA, dtype: bool\n",
            "\n",
            "   AAA  BBB  CCC\n",
            "1    5   20   50\n",
            "2    6   30  -30\n",
            "3    7   40  -50\n",
            "\n",
            "   AAA  BBB  CCC\n",
            "0    4   10  100\n",
            "1    5   -1   50\n",
            "2    6   -1  -30\n",
            "3    7   -1  -50\n"
          ]
        }
      ]
    },
    {
      "cell_type": "markdown",
      "metadata": {
        "id": "RR185aXmLJKI"
      },
      "source": [
        "## 복수 조건 - 마스크 사용"
      ]
    },
    {
      "cell_type": "code",
      "metadata": {
        "colab": {
          "base_uri": "https://localhost:8080/"
        },
        "id": "f5CVtOqHVasc",
        "outputId": "0ab6708e-3932-4e52-bc0f-663c996a0857"
      },
      "source": [
        "df = pd.DataFrame(\n",
        "        {\"AAA\": [4, 5, 6, 7], \"BBB\": [10, 20, 30, 40], \"CCC\": [100, 50, -30, -50]}\n",
        ")\n",
        "\n",
        "print(df)\n",
        "print()\n",
        "\n",
        "import numpy as np\n",
        "\n",
        "# 복수 조건으로 필터링된 DF\n",
        "filtered_mask = (df.AAA>=5) & (df.BBB<40)\n",
        "\n",
        "print(\"filtered_mask legnth =\",len(filtered_mask))\n",
        "print(filtered_mask)\n",
        "print()\n",
        "\n",
        "# 대상 항목만 값 설정\n",
        "df.loc[filtered_mask, 'BBB'] = -1\n",
        "print(df)"
      ],
      "execution_count": 31,
      "outputs": [
        {
          "output_type": "stream",
          "name": "stdout",
          "text": [
            "   AAA  BBB  CCC\n",
            "0    4   10  100\n",
            "1    5   20   50\n",
            "2    6   30  -30\n",
            "3    7   40  -50\n",
            "\n",
            "filtered_mask legnth = 4\n",
            "0    False\n",
            "1     True\n",
            "2     True\n",
            "3    False\n",
            "dtype: bool\n",
            "\n",
            "   AAA  BBB  CCC\n",
            "0    4   10  100\n",
            "1    5   -1   50\n",
            "2    6   -1  -30\n",
            "3    7   40  -50\n"
          ]
        }
      ]
    },
    {
      "cell_type": "markdown",
      "metadata": {
        "id": "4OnI1vskQFqA"
      },
      "source": [
        "## 복수 조건 - numpy 검색후 인덱스 사용"
      ]
    },
    {
      "cell_type": "code",
      "metadata": {
        "colab": {
          "base_uri": "https://localhost:8080/"
        },
        "id": "A57oUcphJ5A8",
        "outputId": "4d8061d2-213b-4666-8ac9-d34f67844c47"
      },
      "source": [
        "df = pd.DataFrame(\n",
        "        {\"AAA\": [4, 5, 6, 7], \"BBB\": [10, 20, 30, 40], \"CCC\": [100, 50, -30, -50]}\n",
        ")\n",
        "\n",
        "print(df)\n",
        "print()\n",
        "\n",
        "import numpy as np\n",
        "\n",
        "# 복수 조건\n",
        "filtered_index = np.where( (df.AAA>=5) & (df.BBB<40) )[0]\n",
        "print(\"filtered_index legnth =\",len(filtered_index))\n",
        "print(filtered_index)\n",
        "print()\n",
        "\n",
        "# 필터링된 DF\n",
        "print(df.loc[filtered_index])\n",
        "print()\n",
        "\n",
        "# 대상 항목만 값 설정\n",
        "df.loc[filtered_index, 'BBB'] = -1\n",
        "print(df)"
      ],
      "execution_count": 32,
      "outputs": [
        {
          "output_type": "stream",
          "name": "stdout",
          "text": [
            "   AAA  BBB  CCC\n",
            "0    4   10  100\n",
            "1    5   20   50\n",
            "2    6   30  -30\n",
            "3    7   40  -50\n",
            "\n",
            "filtered_index legnth = 2\n",
            "[1 2]\n",
            "\n",
            "   AAA  BBB  CCC\n",
            "1    5   20   50\n",
            "2    6   30  -30\n",
            "\n",
            "   AAA  BBB  CCC\n",
            "0    4   10  100\n",
            "1    5   -1   50\n",
            "2    6   -1  -30\n",
            "3    7   40  -50\n"
          ]
        }
      ]
    },
    {
      "cell_type": "markdown",
      "metadata": {
        "id": "g51lSpRo3nD_"
      },
      "source": [
        "# HowTo\n",
        "\n",
        "많은 부분을 https://pandas.pydata.org/pandas-docs/stable/user_guide/cookbook.html#에서 가져옴"
      ]
    },
    {
      "cell_type": "markdown",
      "metadata": {
        "id": "Q82Zg_m9dAVa"
      },
      "source": [
        "## DF 구하기"
      ]
    },
    {
      "cell_type": "markdown",
      "metadata": {
        "id": "OjS25gZk8-uY"
      },
      "source": [
        "### 조건에 맞는 행으로 구성된 DF 구하기"
      ]
    },
    {
      "cell_type": "code",
      "metadata": {
        "colab": {
          "base_uri": "https://localhost:8080/"
        },
        "id": "PtatCyRE7Q6-",
        "outputId": "9525f74e-f657-435e-d70e-d70bca587bf4"
      },
      "source": [
        "df = pd.DataFrame(\n",
        "        {\"AAA\": [4, 5, 6, 7], \"BBB\": [10, 20, 30, 40], \"CCC\": [100, 50, -30, -50]}\n",
        ")\n",
        "\n",
        "print(df)\n",
        "print()\n",
        "\n",
        "print(df.loc[df.AAA>=5])\n",
        "print()\n",
        "\n",
        "print(df.loc[df.AAA>=5].loc[df.BBB<=30])"
      ],
      "execution_count": 33,
      "outputs": [
        {
          "output_type": "stream",
          "name": "stdout",
          "text": [
            "   AAA  BBB  CCC\n",
            "0    4   10  100\n",
            "1    5   20   50\n",
            "2    6   30  -30\n",
            "3    7   40  -50\n",
            "\n",
            "   AAA  BBB  CCC\n",
            "1    5   20   50\n",
            "2    6   30  -30\n",
            "3    7   40  -50\n",
            "\n",
            "   AAA  BBB  CCC\n",
            "1    5   20   50\n",
            "2    6   30  -30\n"
          ]
        }
      ]
    },
    {
      "cell_type": "markdown",
      "metadata": {
        "id": "T2iOzDYDdEfL"
      },
      "source": [
        "### 특정 컬럼으로 구성된 DF 구하기"
      ]
    },
    {
      "cell_type": "code",
      "metadata": {
        "colab": {
          "base_uri": "https://localhost:8080/"
        },
        "id": "Fuzuqp-7dJLx",
        "outputId": "f517046c-6bab-4145-dbdd-35540c51db81"
      },
      "source": [
        "df = pd.DataFrame(\n",
        "        {\"AAA\": [4, 5, 6, 7], \"BBB\": [10, 20, 30, 40], \"CCC\": [100, 50, -30, -50]}\n",
        ")\n",
        "\n",
        "print(df)\n",
        "print()\n",
        "\n",
        "print(df[\"AAA\"])\n",
        "print(\"type =\", type(df[\"AAA\"])) # Series이다.\n",
        "print()\n",
        "\n",
        "print(df[[\"AAA\"]]) # 컬럼명의 리스트를 주면 DataFrame이다.\n",
        "print(\"type =\", type(df[[\"AAA\"]]))\n",
        "print()\n",
        "\n",
        "print(df[[\"AAA\", \"CCC\"]])"
      ],
      "execution_count": 34,
      "outputs": [
        {
          "output_type": "stream",
          "name": "stdout",
          "text": [
            "   AAA  BBB  CCC\n",
            "0    4   10  100\n",
            "1    5   20   50\n",
            "2    6   30  -30\n",
            "3    7   40  -50\n",
            "\n",
            "0    4\n",
            "1    5\n",
            "2    6\n",
            "3    7\n",
            "Name: AAA, dtype: int64\n",
            "type = <class 'pandas.core.series.Series'>\n",
            "\n",
            "   AAA\n",
            "0    4\n",
            "1    5\n",
            "2    6\n",
            "3    7\n",
            "type = <class 'pandas.core.frame.DataFrame'>\n",
            "\n",
            "   AAA  CCC\n",
            "0    4  100\n",
            "1    5   50\n",
            "2    6  -30\n",
            "3    7  -50\n"
          ]
        }
      ]
    },
    {
      "cell_type": "markdown",
      "metadata": {
        "id": "HUR9zH8X9CCo"
      },
      "source": [
        "## 특정 조건에 맞는 행의 값 변경"
      ]
    },
    {
      "cell_type": "markdown",
      "metadata": {
        "id": "VvbqWu2iSxsE"
      },
      "source": [
        "### 단일 조건"
      ]
    },
    {
      "cell_type": "code",
      "metadata": {
        "colab": {
          "base_uri": "https://localhost:8080/"
        },
        "id": "QxRROe5N9Lj1",
        "outputId": "ad4bdd26-c103-4648-bf5a-8e7ae515fff0"
      },
      "source": [
        "df = pd.DataFrame(\n",
        "        {\"AAA\": [4, 5, 6, 7], \"BBB\": [10, 20, 30, 40], \"CCC\": [100, 50, -30, -50]}\n",
        ")\n",
        "\n",
        "print(df)\n",
        "print()\n",
        "\n",
        "df.loc[df.AAA>=5, \"BBB\"] = -1\n",
        "print(df)\n"
      ],
      "execution_count": 35,
      "outputs": [
        {
          "output_type": "stream",
          "name": "stdout",
          "text": [
            "   AAA  BBB  CCC\n",
            "0    4   10  100\n",
            "1    5   20   50\n",
            "2    6   30  -30\n",
            "3    7   40  -50\n",
            "\n",
            "   AAA  BBB  CCC\n",
            "0    4   10  100\n",
            "1    5   -1   50\n",
            "2    6   -1  -30\n",
            "3    7   -1  -50\n"
          ]
        }
      ]
    },
    {
      "cell_type": "markdown",
      "metadata": {
        "id": "hXIc9D-RSwE8"
      },
      "source": [
        "### 복수 조건"
      ]
    },
    {
      "cell_type": "code",
      "metadata": {
        "colab": {
          "base_uri": "https://localhost:8080/"
        },
        "id": "qYxQKNgwQZiw",
        "outputId": "736e36bb-51fa-4091-ab8c-2b68bff1d5ef"
      },
      "source": [
        "df = pd.DataFrame(\n",
        "        {\"AAA\": [4, 5, 6, 7], \"BBB\": [10, 20, 30, 40], \"CCC\": [100, 50, -30, -50]}\n",
        ")\n",
        "\n",
        "print(df)\n",
        "print()\n",
        "\n",
        "filtered_index = df.loc[df.AAA>=5].loc[df.BBB<=30].index\n",
        "print(\"filtered_index =\", filtered_index)\n",
        "print()\n",
        "\n",
        "df.loc[filtered_index, 'BBB'] = -1\n",
        "print(df)"
      ],
      "execution_count": 36,
      "outputs": [
        {
          "output_type": "stream",
          "name": "stdout",
          "text": [
            "   AAA  BBB  CCC\n",
            "0    4   10  100\n",
            "1    5   20   50\n",
            "2    6   30  -30\n",
            "3    7   40  -50\n",
            "\n",
            "filtered_index = Int64Index([1, 2], dtype='int64')\n",
            "\n",
            "   AAA  BBB  CCC\n",
            "0    4   10  100\n",
            "1    5   -1   50\n",
            "2    6   -1  -30\n",
            "3    7   40  -50\n"
          ]
        }
      ]
    },
    {
      "cell_type": "markdown",
      "metadata": {
        "id": "3AvPlzcgS1IO"
      },
      "source": [
        "### 복수 컬럼"
      ]
    },
    {
      "cell_type": "code",
      "metadata": {
        "colab": {
          "base_uri": "https://localhost:8080/"
        },
        "id": "_zFS70S1S5om",
        "outputId": "a462aef1-852c-43bb-92fd-3cf5aef624f4"
      },
      "source": [
        "df = pd.DataFrame(\n",
        "        {\"AAA\": [4, 5, 6, 7], \"BBB\": [10, 20, 30, 40], \"CCC\": [100, 50, -30, -50]}\n",
        ")\n",
        "\n",
        "print(df)\n",
        "print()\n",
        "\n",
        "df.loc[df.AAA>=5, [\"BBB\",\"CCC\"]] = -1\n",
        "print(df)\n"
      ],
      "execution_count": 37,
      "outputs": [
        {
          "output_type": "stream",
          "name": "stdout",
          "text": [
            "   AAA  BBB  CCC\n",
            "0    4   10  100\n",
            "1    5   20   50\n",
            "2    6   30  -30\n",
            "3    7   40  -50\n",
            "\n",
            "   AAA  BBB  CCC\n",
            "0    4   10  100\n",
            "1    5   -1   -1\n",
            "2    6   -1   -1\n",
            "3    7   -1   -1\n"
          ]
        }
      ]
    },
    {
      "cell_type": "markdown",
      "metadata": {
        "id": "t6yNPCCCTzeB"
      },
      "source": [
        "### 특정 조건으로 값 이분 설정 - 각각 설정\n"
      ]
    },
    {
      "cell_type": "code",
      "metadata": {
        "colab": {
          "base_uri": "https://localhost:8080/"
        },
        "id": "vbMXo9fOT4p1",
        "outputId": "15aa44a8-2719-49e1-c6d9-4fd16d77399e"
      },
      "source": [
        "df = pd.DataFrame(\n",
        "        {\"AAA\": [4, 5, 6, 7], \"BBB\": [10, 20, 30, 40], \"CCC\": [100, 50, -30, -50]}\n",
        ")\n",
        "\n",
        "print(df)\n",
        "print()\n",
        "\n",
        "\n",
        "df.loc[df.AAA>=5, df.BBB] = 999\n",
        "print(df)\n",
        "\n",
        "df.loc[df.AAA<5, df.BBB] = -999\n",
        "print(df)\n",
        "\n"
      ],
      "execution_count": 38,
      "outputs": [
        {
          "output_type": "stream",
          "name": "stdout",
          "text": [
            "   AAA  BBB  CCC\n",
            "0    4   10  100\n",
            "1    5   20   50\n",
            "2    6   30  -30\n",
            "3    7   40  -50\n",
            "\n",
            "   AAA  BBB  CCC     10     20     30     40\n",
            "0    4   10  100    NaN    NaN    NaN    NaN\n",
            "1    5   20   50  999.0  999.0  999.0  999.0\n",
            "2    6   30  -30  999.0  999.0  999.0  999.0\n",
            "3    7   40  -50  999.0  999.0  999.0  999.0\n",
            "   AAA  BBB  CCC     10     20     30     40\n",
            "0    4   10  100 -999.0 -999.0 -999.0 -999.0\n",
            "1    5   20   50  999.0  999.0  999.0  999.0\n",
            "2    6   30  -30  999.0  999.0  999.0  999.0\n",
            "3    7   40  -50  999.0  999.0  999.0  999.0\n"
          ]
        }
      ]
    },
    {
      "cell_type": "markdown",
      "metadata": {
        "id": "OHjph1dCUEl_"
      },
      "source": [
        "### 특정 조건으로 값 이분 설정 - numpy 사용"
      ]
    },
    {
      "cell_type": "code",
      "metadata": {
        "colab": {
          "base_uri": "https://localhost:8080/"
        },
        "id": "6NDrhafwUD1a",
        "outputId": "3b7500bb-bb58-4b5f-8c44-9e6f0595e954"
      },
      "source": [
        "df = pd.DataFrame(\n",
        "        {\"AAA\": [4, 5, 6, 7], \"BBB\": [10, 20, 30, 40], \"CCC\": [100, 50, -30, -50]}\n",
        ")\n",
        "\n",
        "print(df)\n",
        "print()\n",
        "\n",
        "df.BBB = np.where(df.AAA>=5, 999, -999)\n",
        "print(df)\n",
        "\n"
      ],
      "execution_count": 39,
      "outputs": [
        {
          "output_type": "stream",
          "name": "stdout",
          "text": [
            "   AAA  BBB  CCC\n",
            "0    4   10  100\n",
            "1    5   20   50\n",
            "2    6   30  -30\n",
            "3    7   40  -50\n",
            "\n",
            "   AAA  BBB  CCC\n",
            "0    4 -999  100\n",
            "1    5  999   50\n",
            "2    6  999  -30\n",
            "3    7  999  -50\n"
          ]
        }
      ]
    },
    {
      "cell_type": "markdown",
      "metadata": {
        "id": "szVTefUubLV3"
      },
      "source": [
        "## 검색"
      ]
    },
    {
      "cell_type": "markdown",
      "metadata": {
        "id": "Gz_Jv9sUZZok"
      },
      "source": [
        "### 값 리스트에 포함되어 있는지 검색"
      ]
    },
    {
      "cell_type": "code",
      "metadata": {
        "colab": {
          "base_uri": "https://localhost:8080/"
        },
        "id": "SueBbTrbap3Y",
        "outputId": "f18f3964-8ccf-4d63-80b9-df41cf410fcb"
      },
      "source": [
        "df = pd.DataFrame(\n",
        "        {\"AAA\": [4, 5, 6, 7], \"BBB\": [10, 20, 30, 40], \"CCC\": [100, 50, -30, -50]}\n",
        ")\n",
        "\n",
        "print(df)\n",
        "print()\n",
        "\n",
        "print(df[df.AAA.isin([4, 5, 7])])\n"
      ],
      "execution_count": 40,
      "outputs": [
        {
          "output_type": "stream",
          "name": "stdout",
          "text": [
            "   AAA  BBB  CCC\n",
            "0    4   10  100\n",
            "1    5   20   50\n",
            "2    6   30  -30\n",
            "3    7   40  -50\n",
            "\n",
            "   AAA  BBB  CCC\n",
            "0    4   10  100\n",
            "1    5   20   50\n",
            "3    7   40  -50\n"
          ]
        }
      ]
    },
    {
      "cell_type": "markdown",
      "metadata": {
        "id": "H-C7so7jZvyy"
      },
      "source": [
        "### 특정 인덱스 필터링"
      ]
    },
    {
      "cell_type": "code",
      "metadata": {
        "colab": {
          "base_uri": "https://localhost:8080/"
        },
        "id": "CuP77zjvZeMo",
        "outputId": "3359fe42-7b79-4cac-9364-92dbd77a91e4"
      },
      "source": [
        "df = pd.DataFrame(\n",
        "        {\"AAA\": [4, 5, 6, 7], \"BBB\": [10, 20, 30, 40], \"CCC\": [100, 50, -30, -50]}\n",
        ")\n",
        "\n",
        "print(df)\n",
        "print()\n",
        "\n",
        "print(df[df.index.isin([0, 1, 3])])\n"
      ],
      "execution_count": 41,
      "outputs": [
        {
          "output_type": "stream",
          "name": "stdout",
          "text": [
            "   AAA  BBB  CCC\n",
            "0    4   10  100\n",
            "1    5   20   50\n",
            "2    6   30  -30\n",
            "3    7   40  -50\n",
            "\n",
            "   AAA  BBB  CCC\n",
            "0    4   10  100\n",
            "1    5   20   50\n",
            "3    7   40  -50\n"
          ]
        }
      ]
    },
    {
      "cell_type": "markdown",
      "metadata": {
        "id": "yIbJ1GeDaEF1"
      },
      "source": [
        "### 짝수 인덱스 필터링"
      ]
    },
    {
      "cell_type": "code",
      "metadata": {
        "colab": {
          "base_uri": "https://localhost:8080/"
        },
        "id": "Tqd0LQQ9Z0l8",
        "outputId": "94908083-4ec6-4632-9b5e-d9263769879c"
      },
      "source": [
        "df = pd.DataFrame(\n",
        "        {\"AAA\": [4, 5, 6, 7], \"BBB\": [10, 20, 30, 40], \"CCC\": [100, 50, -30, -50]}\n",
        ")\n",
        "\n",
        "print(df)\n",
        "print()\n",
        "\n",
        "print(df[df.index%2!=0])\n"
      ],
      "execution_count": 42,
      "outputs": [
        {
          "output_type": "stream",
          "name": "stdout",
          "text": [
            "   AAA  BBB  CCC\n",
            "0    4   10  100\n",
            "1    5   20   50\n",
            "2    6   30  -30\n",
            "3    7   40  -50\n",
            "\n",
            "   AAA  BBB  CCC\n",
            "1    5   20   50\n",
            "3    7   40  -50\n"
          ]
        }
      ]
    },
    {
      "cell_type": "markdown",
      "metadata": {
        "id": "b8hMVknvajKR"
      },
      "source": [
        "## 컬럼 추가\n"
      ]
    },
    {
      "cell_type": "markdown",
      "metadata": {
        "id": "3bbPwA4sbtkO"
      },
      "source": [
        "### 특정 컬럼 복사"
      ]
    },
    {
      "cell_type": "code",
      "metadata": {
        "colab": {
          "base_uri": "https://localhost:8080/"
        },
        "id": "-MIWNDy8bwLe",
        "outputId": "6fd4bcb7-b6de-411e-caae-384b0d48119d"
      },
      "source": [
        "df = pd.DataFrame(\n",
        "        {\"AAA\": [4, 5, 6, 7], \"BBB\": [10, 20, 30, 40], \"CCC\": [100, 50, -30, -50]}\n",
        ")\n",
        "\n",
        "print(df)\n",
        "print()\n",
        "\n",
        "df[\"AAA_copied\"] = df[\"AAA\"]\n",
        "\n",
        "print(df)"
      ],
      "execution_count": 43,
      "outputs": [
        {
          "output_type": "stream",
          "name": "stdout",
          "text": [
            "   AAA  BBB  CCC\n",
            "0    4   10  100\n",
            "1    5   20   50\n",
            "2    6   30  -30\n",
            "3    7   40  -50\n",
            "\n",
            "   AAA  BBB  CCC  AAA_copied\n",
            "0    4   10  100           4\n",
            "1    5   20   50           5\n",
            "2    6   30  -30           6\n",
            "3    7   40  -50           7\n"
          ]
        }
      ]
    },
    {
      "cell_type": "markdown",
      "metadata": {
        "id": "ILsBkoPlbaov"
      },
      "source": [
        "### 모든 컬럼 복사"
      ]
    },
    {
      "cell_type": "code",
      "metadata": {
        "colab": {
          "base_uri": "https://localhost:8080/"
        },
        "id": "cvvtLKuhZuCI",
        "outputId": "9868f71b-98e5-4c1e-8be5-6b3232207ff9"
      },
      "source": [
        "df = pd.DataFrame(\n",
        "        {\"AAA\": [4, 5, 6, 7], \"BBB\": [10, 20, 30, 40], \"CCC\": [100, 50, -30, -50]}\n",
        ")\n",
        "\n",
        "print(df)\n",
        "print()\n",
        "\n",
        "source_cols = df.columns\n",
        "new_cols = [str(x) + \"_copied\" for x in source_cols]\n",
        "df[new_cols] = df[source_cols]\n",
        "\n",
        "print(df)"
      ],
      "execution_count": 44,
      "outputs": [
        {
          "output_type": "stream",
          "name": "stdout",
          "text": [
            "   AAA  BBB  CCC\n",
            "0    4   10  100\n",
            "1    5   20   50\n",
            "2    6   30  -30\n",
            "3    7   40  -50\n",
            "\n",
            "   AAA  BBB  CCC  AAA_copied  BBB_copied  CCC_copied\n",
            "0    4   10  100           4          10         100\n",
            "1    5   20   50           5          20          50\n",
            "2    6   30  -30           6          30         -30\n",
            "3    7   40  -50           7          40         -50\n"
          ]
        }
      ]
    },
    {
      "cell_type": "markdown",
      "metadata": {
        "id": "O76tPHPLb9j5"
      },
      "source": [
        "### 인코딩된 컬럼 추가"
      ]
    },
    {
      "cell_type": "code",
      "metadata": {
        "colab": {
          "base_uri": "https://localhost:8080/"
        },
        "id": "_fifAcS3ZeKQ",
        "outputId": "7fced18e-72b4-4bba-cfbf-b2e0c200bf70"
      },
      "source": [
        "df = pd.DataFrame(\n",
        "        {\"AAA\": [4, 5, 6, 7], \"BBB\": [10, 20, 30, 40], \"CCC\": [100, 50, -30, -50]}\n",
        ")\n",
        "\n",
        "print(df)\n",
        "print()\n",
        "\n",
        "def encode(AAA):\n",
        "  if AAA==4 : return \"A\"\n",
        "  if AAA==6 : return \"B\"\n",
        "  return \"C\"\n",
        "\n",
        "df[\"AAA_encoded\"] = df[[\"AAA\"]].applymap(encode)\n",
        "\n",
        "print(df)"
      ],
      "execution_count": 45,
      "outputs": [
        {
          "output_type": "stream",
          "name": "stdout",
          "text": [
            "   AAA  BBB  CCC\n",
            "0    4   10  100\n",
            "1    5   20   50\n",
            "2    6   30  -30\n",
            "3    7   40  -50\n",
            "\n",
            "   AAA  BBB  CCC AAA_encoded\n",
            "0    4   10  100           A\n",
            "1    5   20   50           C\n",
            "2    6   30  -30           B\n",
            "3    7   40  -50           C\n"
          ]
        }
      ]
    },
    {
      "cell_type": "markdown",
      "metadata": {
        "id": "UjMz3OuAkHOF"
      },
      "source": [
        "### 특정 컬럼 값 변경해서"
      ]
    },
    {
      "cell_type": "code",
      "metadata": {
        "colab": {
          "base_uri": "https://localhost:8080/"
        },
        "id": "a5czufvMkM_X",
        "outputId": "2534f2b5-e81c-481d-bfab-c608581823b4"
      },
      "source": [
        "df = pd.DataFrame(\n",
        "        {\"AAA\": [4, 5, 6, 7], \"BBB\": [10, 20, 30, 40], \"CCC\": [100, 50, -30, -50]}\n",
        ")\n",
        "\n",
        "print(df)\n",
        "print()\n",
        "\n",
        "df[\"AAA_doubled\"] = df[\"AAA\"]*2.\n",
        "\n",
        "print(df)"
      ],
      "execution_count": 46,
      "outputs": [
        {
          "output_type": "stream",
          "name": "stdout",
          "text": [
            "   AAA  BBB  CCC\n",
            "0    4   10  100\n",
            "1    5   20   50\n",
            "2    6   30  -30\n",
            "3    7   40  -50\n",
            "\n",
            "   AAA  BBB  CCC  AAA_doubled\n",
            "0    4   10  100          8.0\n",
            "1    5   20   50         10.0\n",
            "2    6   30  -30         12.0\n",
            "3    7   40  -50         14.0\n"
          ]
        }
      ]
    },
    {
      "cell_type": "markdown",
      "metadata": {
        "id": "wu5F85SdkeeS"
      },
      "source": [
        "### 특정 위치에"
      ]
    },
    {
      "cell_type": "code",
      "metadata": {
        "colab": {
          "base_uri": "https://localhost:8080/"
        },
        "id": "w_gV0V4skiOp",
        "outputId": "425249e5-9884-40ff-dc67-d3e0320aa14a"
      },
      "source": [
        "df = pd.DataFrame(\n",
        "        {\"AAA\": [4, 5, 6, 7], \"BBB\": [10, 20, 30, 40], \"CCC\": [100, 50, -30, -50]}\n",
        ")\n",
        "\n",
        "print(df)\n",
        "print()\n",
        "\n",
        "df.insert(1, 'AAA_doubled', df.AAA*2.)\n",
        "\n",
        "print(df)"
      ],
      "execution_count": 47,
      "outputs": [
        {
          "output_type": "stream",
          "name": "stdout",
          "text": [
            "   AAA  BBB  CCC\n",
            "0    4   10  100\n",
            "1    5   20   50\n",
            "2    6   30  -30\n",
            "3    7   40  -50\n",
            "\n",
            "   AAA  AAA_doubled  BBB  CCC\n",
            "0    4          8.0   10  100\n",
            "1    5         10.0   20   50\n",
            "2    6         12.0   30  -30\n",
            "3    7         14.0   40  -50\n"
          ]
        }
      ]
    },
    {
      "cell_type": "markdown",
      "metadata": {
        "id": "mPwwTZnak4Wa"
      },
      "source": [
        "## 컬럼 삭제"
      ]
    },
    {
      "cell_type": "markdown",
      "metadata": {
        "id": "oNsPewewlIMG"
      },
      "source": [
        "### 컬럼 이름으로 1개"
      ]
    },
    {
      "cell_type": "code",
      "metadata": {
        "colab": {
          "base_uri": "https://localhost:8080/"
        },
        "id": "yvGjk8pck6MV",
        "outputId": "7d5b96e8-3e88-4773-f72f-3d509d1b0b39"
      },
      "source": [
        "df = pd.DataFrame(\n",
        "        {\"AAA\": [4, 5, 6, 7], \"BBB\": [10, 20, 30, 40], \"CCC\": [100, 50, -30, -50]}\n",
        ")\n",
        "\n",
        "print(df)\n",
        "print()\n",
        "\n",
        "df.drop(columns=\"BBB\", inplace=True)\n",
        "\n",
        "print(df)"
      ],
      "execution_count": 48,
      "outputs": [
        {
          "output_type": "stream",
          "name": "stdout",
          "text": [
            "   AAA  BBB  CCC\n",
            "0    4   10  100\n",
            "1    5   20   50\n",
            "2    6   30  -30\n",
            "3    7   40  -50\n",
            "\n",
            "   AAA  CCC\n",
            "0    4  100\n",
            "1    5   50\n",
            "2    6  -30\n",
            "3    7  -50\n"
          ]
        }
      ]
    },
    {
      "cell_type": "markdown",
      "metadata": {
        "id": "wVdNvY7olLnF"
      },
      "source": [
        "### 컬럼이름으로 여러개"
      ]
    },
    {
      "cell_type": "code",
      "metadata": {
        "colab": {
          "base_uri": "https://localhost:8080/"
        },
        "id": "t0_fCRaplEQI",
        "outputId": "827c8f57-73b3-4380-9edc-ca7c68bce19d"
      },
      "source": [
        "df = pd.DataFrame(\n",
        "        {\"AAA\": [4, 5, 6, 7], \"BBB\": [10, 20, 30, 40], \"CCC\": [100, 50, -30, -50]}\n",
        ")\n",
        "\n",
        "print(df)\n",
        "print()\n",
        "\n",
        "df.drop(columns=[\"BBB\", \"CCC\"], inplace=True)\n",
        "\n",
        "print(df)"
      ],
      "execution_count": 49,
      "outputs": [
        {
          "output_type": "stream",
          "name": "stdout",
          "text": [
            "   AAA  BBB  CCC\n",
            "0    4   10  100\n",
            "1    5   20   50\n",
            "2    6   30  -30\n",
            "3    7   40  -50\n",
            "\n",
            "   AAA\n",
            "0    4\n",
            "1    5\n",
            "2    6\n",
            "3    7\n"
          ]
        }
      ]
    },
    {
      "cell_type": "markdown",
      "metadata": {
        "id": "BIGJxXaun52T"
      },
      "source": [
        "## 데이터 추가"
      ]
    },
    {
      "cell_type": "markdown",
      "metadata": {
        "id": "aNJPaTZBqqyI"
      },
      "source": [
        "### row 1개 추가\n",
        "\n",
        "하지 않는다.\n",
        "\n",
        "만약 필요하다면 list에 추가하고 최종적으로 DataFrmae 생성.\n",
        "\n",
        "```\n",
        "data = []\n",
        "for a, b, c in some_function_that_yields_data():\n",
        "    data.append([a, b, c])\n",
        "\n",
        "df = pd.DataFrame(data, columns=['A', 'B', 'C'])\n",
        "```"
      ]
    },
    {
      "cell_type": "markdown",
      "metadata": {
        "id": "61hPdisKoDN5"
      },
      "source": [
        "### dataframe 전체 추가"
      ]
    },
    {
      "cell_type": "code",
      "metadata": {
        "colab": {
          "base_uri": "https://localhost:8080/"
        },
        "id": "3fvauA9eoJYw",
        "outputId": "dfaad9a0-1d9e-45e6-802d-3754ee747ecc"
      },
      "source": [
        "df = pd.DataFrame(\n",
        "        {\"AAA\": [4, 5, 6, 7], \"BBB\": [10, 20, 30, 40], \"CCC\": [100, 50, -30, -50]}\n",
        ")\n",
        "\n",
        "df2 = pd.DataFrame(\n",
        "        {\"AAA\": [8, 9], \"BBB\": [80, 90], \"CCC\": [80, 90]}\n",
        ")\n",
        "\n",
        "\n",
        "print(df)\n",
        "print()\n",
        "\n",
        "print(df2)\n",
        "print()\n",
        "\n",
        "df = df.append(df2) # inplace 못한다.\n",
        "\n",
        "print(df)"
      ],
      "execution_count": 50,
      "outputs": [
        {
          "output_type": "stream",
          "name": "stdout",
          "text": [
            "   AAA  BBB  CCC\n",
            "0    4   10  100\n",
            "1    5   20   50\n",
            "2    6   30  -30\n",
            "3    7   40  -50\n",
            "\n",
            "   AAA  BBB  CCC\n",
            "0    8   80   80\n",
            "1    9   90   90\n",
            "\n",
            "   AAA  BBB  CCC\n",
            "0    4   10  100\n",
            "1    5   20   50\n",
            "2    6   30  -30\n",
            "3    7   40  -50\n",
            "0    8   80   80\n",
            "1    9   90   90\n"
          ]
        }
      ]
    },
    {
      "cell_type": "markdown",
      "metadata": {
        "id": "LILrO1Xfo9mf"
      },
      "source": [
        "### dataframe 3개 이상 합치기"
      ]
    },
    {
      "cell_type": "code",
      "metadata": {
        "colab": {
          "base_uri": "https://localhost:8080/"
        },
        "id": "z2VrSJaopBI3",
        "outputId": "3513566f-2125-47a8-8f54-c0a818d7e9e1"
      },
      "source": [
        "df1 = pd.DataFrame(\n",
        "        {\"AAA\": [4, 5], \"BBB\": [10, 20], \"CCC\": [100, 50]}\n",
        ")\n",
        "\n",
        "df2 = pd.DataFrame(\n",
        "        {\"AAA\": [6, 7], \"BBB\": [30, 40], \"CCC\": [-30, -50]}\n",
        ")\n",
        "\n",
        "df3 = pd.DataFrame(\n",
        "        {\"AAA\": [8, 9], \"BBB\": [80, 90], \"CCC\": [80, 90]}\n",
        ")\n",
        "\n",
        "print(df1)\n",
        "print()\n",
        "\n",
        "print(df2)\n",
        "print()\n",
        "\n",
        "print(df3)\n",
        "print()\n",
        "\n",
        "df = pd.concat([df1, df2, df3], ignore_index=True)\n",
        "\n",
        "# append() 반복해 쓰면 효율이 떨어진다. \n",
        "#df = df1.append(df2).append(df3)\n",
        "\n",
        "print(df)"
      ],
      "execution_count": 51,
      "outputs": [
        {
          "output_type": "stream",
          "name": "stdout",
          "text": [
            "   AAA  BBB  CCC\n",
            "0    4   10  100\n",
            "1    5   20   50\n",
            "\n",
            "   AAA  BBB  CCC\n",
            "0    6   30  -30\n",
            "1    7   40  -50\n",
            "\n",
            "   AAA  BBB  CCC\n",
            "0    8   80   80\n",
            "1    9   90   90\n",
            "\n",
            "   AAA  BBB  CCC\n",
            "0    4   10  100\n",
            "1    5   20   50\n",
            "2    6   30  -30\n",
            "3    7   40  -50\n",
            "4    8   80   80\n",
            "5    9   90   90\n"
          ]
        }
      ]
    },
    {
      "cell_type": "markdown",
      "source": [
        "### column 수가 다른 dataframe 합치기"
      ],
      "metadata": {
        "id": "fDaNl2hOwIj2"
      }
    },
    {
      "cell_type": "code",
      "source": [
        "df1 = pd.DataFrame(\n",
        "        {\"AAA\": [4, 5, 6, 7], \"BBB\": [10, 20, 30, 40], \"CCC\": [100, 50, -30, -50]}\n",
        ")\n",
        "\n",
        "df2 = pd.DataFrame(\n",
        "        {\"AAA\": [4, 5, 6, 7], \"BBB\": [10, 20, 30, 40]}\n",
        ")\n",
        "\n",
        "df = pd.concat([df1, df2])\n",
        "print(df)\n",
        "print()\n"
      ],
      "metadata": {
        "id": "8wa4eS_xwOat",
        "outputId": "5d29c405-0037-4c73-cf05-e8d5fc38dcea",
        "colab": {
          "base_uri": "https://localhost:8080/"
        }
      },
      "execution_count": 52,
      "outputs": [
        {
          "output_type": "stream",
          "name": "stdout",
          "text": [
            "   AAA  BBB    CCC\n",
            "0    4   10  100.0\n",
            "1    5   20   50.0\n",
            "2    6   30  -30.0\n",
            "3    7   40  -50.0\n",
            "0    4   10    NaN\n",
            "1    5   20    NaN\n",
            "2    6   30    NaN\n",
            "3    7   40    NaN\n",
            "\n"
          ]
        }
      ]
    },
    {
      "cell_type": "markdown",
      "metadata": {
        "id": "F3YOgKZtmJK4"
      },
      "source": [
        "## 데이터 삭제"
      ]
    },
    {
      "cell_type": "markdown",
      "metadata": {
        "id": "AFbs05BfmP0K"
      },
      "source": [
        "### row index로 1개"
      ]
    },
    {
      "cell_type": "code",
      "metadata": {
        "colab": {
          "base_uri": "https://localhost:8080/"
        },
        "id": "ilSsnCsZk6Jb",
        "outputId": "e35fb8e7-d4a2-4539-f640-dffc038181e4"
      },
      "source": [
        "df = pd.DataFrame(\n",
        "        {\"AAA\": [4, 5, 6, 7], \"BBB\": [10, 20, 30, 40], \"CCC\": [100, 50, -30, -50]}\n",
        ")\n",
        "\n",
        "print(df)\n",
        "print()\n",
        "\n",
        "df.drop(1, inplace=True)\n",
        "\n",
        "print(df)"
      ],
      "execution_count": 53,
      "outputs": [
        {
          "output_type": "stream",
          "name": "stdout",
          "text": [
            "   AAA  BBB  CCC\n",
            "0    4   10  100\n",
            "1    5   20   50\n",
            "2    6   30  -30\n",
            "3    7   40  -50\n",
            "\n",
            "   AAA  BBB  CCC\n",
            "0    4   10  100\n",
            "2    6   30  -30\n",
            "3    7   40  -50\n"
          ]
        }
      ]
    },
    {
      "cell_type": "markdown",
      "metadata": {
        "id": "3YCiJTVSmb3n"
      },
      "source": [
        "### row index로 여러개"
      ]
    },
    {
      "cell_type": "code",
      "metadata": {
        "colab": {
          "base_uri": "https://localhost:8080/"
        },
        "id": "ADQkGE2_k6FK",
        "outputId": "3a2a8e76-2790-49da-aab0-4edf6d7614ad"
      },
      "source": [
        "df = pd.DataFrame(\n",
        "        {\"AAA\": [4, 5, 6, 7], \"BBB\": [10, 20, 30, 40], \"CCC\": [100, 50, -30, -50]}\n",
        ")\n",
        "\n",
        "print(df)\n",
        "print()\n",
        "\n",
        "df.drop([1,3], inplace=True)\n",
        "\n",
        "print(df)"
      ],
      "execution_count": 54,
      "outputs": [
        {
          "output_type": "stream",
          "name": "stdout",
          "text": [
            "   AAA  BBB  CCC\n",
            "0    4   10  100\n",
            "1    5   20   50\n",
            "2    6   30  -30\n",
            "3    7   40  -50\n",
            "\n",
            "   AAA  BBB  CCC\n",
            "0    4   10  100\n",
            "2    6   30  -30\n"
          ]
        }
      ]
    },
    {
      "cell_type": "code",
      "metadata": {
        "colab": {
          "base_uri": "https://localhost:8080/"
        },
        "id": "TqT2xntWnLB3",
        "outputId": "3e0a7fe9-3624-4a85-93e1-194de36c0d0a"
      },
      "source": [
        "df = pd.DataFrame(\n",
        "        {\"AAA\": [4, 5, 6, 7], \"BBB\": [10, 20, 30, 40], \"CCC\": [100, 50, -30, -50]}\n",
        ")\n",
        "\n",
        "print(df)\n",
        "print()\n",
        "\n",
        "target_indexes = [1,3]\n",
        "\n",
        "df.drop(target_indexes, inplace=True)\n",
        "\n",
        "print(df)"
      ],
      "execution_count": 55,
      "outputs": [
        {
          "output_type": "stream",
          "name": "stdout",
          "text": [
            "   AAA  BBB  CCC\n",
            "0    4   10  100\n",
            "1    5   20   50\n",
            "2    6   30  -30\n",
            "3    7   40  -50\n",
            "\n",
            "   AAA  BBB  CCC\n",
            "0    4   10  100\n",
            "2    6   30  -30\n"
          ]
        }
      ]
    },
    {
      "cell_type": "markdown",
      "metadata": {
        "id": "6mgNjz_amimK"
      },
      "source": [
        "### 특정 조건으로"
      ]
    },
    {
      "cell_type": "code",
      "metadata": {
        "colab": {
          "base_uri": "https://localhost:8080/"
        },
        "id": "BQkB7uccnJIu",
        "outputId": "de8c0336-c553-4400-aae6-e56c124e920a"
      },
      "source": [
        "df = pd.DataFrame(\n",
        "        {\"AAA\": [4, 5, 6, 7], \"BBB\": [10, 20, 30, 40], \"CCC\": [100, 50, -30, -50]}\n",
        ")\n",
        "\n",
        "print(df)\n",
        "print()\n",
        "\n",
        "target_indexes = df.loc[df.AAA>5].index\n",
        "print(target_indexes)\n",
        "print()\n",
        "\n",
        "df.drop(target_indexes, inplace=True)\n",
        "\n",
        "print(df)"
      ],
      "execution_count": 56,
      "outputs": [
        {
          "output_type": "stream",
          "name": "stdout",
          "text": [
            "   AAA  BBB  CCC\n",
            "0    4   10  100\n",
            "1    5   20   50\n",
            "2    6   30  -30\n",
            "3    7   40  -50\n",
            "\n",
            "Int64Index([2, 3], dtype='int64')\n",
            "\n",
            "   AAA  BBB  CCC\n",
            "0    4   10  100\n",
            "1    5   20   50\n"
          ]
        }
      ]
    },
    {
      "cell_type": "code",
      "metadata": {
        "colab": {
          "base_uri": "https://localhost:8080/"
        },
        "id": "4NfOe1uJmlvn",
        "outputId": "04e5a5e1-1e32-4b2a-f44c-86e1c2ae71a3"
      },
      "source": [
        "df = pd.DataFrame(\n",
        "        {\"AAA\": [4, 5, 6, 7], \"BBB\": [10, 20, 30, 40], \"CCC\": [100, 50, -30, -50]}\n",
        ")\n",
        "\n",
        "print(df)\n",
        "print()\n",
        "\n",
        "df.drop(df.loc[df.AAA>5].index, inplace=True)\n",
        "\n",
        "print(df)"
      ],
      "execution_count": 57,
      "outputs": [
        {
          "output_type": "stream",
          "name": "stdout",
          "text": [
            "   AAA  BBB  CCC\n",
            "0    4   10  100\n",
            "1    5   20   50\n",
            "2    6   30  -30\n",
            "3    7   40  -50\n",
            "\n",
            "   AAA  BBB  CCC\n",
            "0    4   10  100\n",
            "1    5   20   50\n"
          ]
        }
      ]
    },
    {
      "cell_type": "markdown",
      "metadata": {
        "id": "1R0C_K2hd-N_"
      },
      "source": [
        "## 기타"
      ]
    },
    {
      "cell_type": "markdown",
      "metadata": {
        "id": "z-3_xP4jexkv"
      },
      "source": [
        "### 특정 칼럼으로 소팅"
      ]
    },
    {
      "cell_type": "code",
      "metadata": {
        "colab": {
          "base_uri": "https://localhost:8080/"
        },
        "id": "JkfC2s3Ge0CG",
        "outputId": "6c19f3f2-f685-4c4c-f006-fea45c6901e9"
      },
      "source": [
        "df = pd.DataFrame(\n",
        "        {\"AAA\": [4, 5, 6, 7], \"BBB\": [10, 20, 35, 10], \"CCC\": [100, 50, -30, -50]}\n",
        ")\n",
        "\n",
        "print(df)\n",
        "print()\n",
        "\n",
        "print(\"sort by BBB\")\n",
        "print(df.sort_values(by=\"BBB\"))\n",
        "print()\n",
        "\n",
        "print(\"sort by BBB, CCC\")\n",
        "print(df.sort_values(by=[\"BBB\", \"CCC\"]))\n",
        "print()\n"
      ],
      "execution_count": 58,
      "outputs": [
        {
          "output_type": "stream",
          "name": "stdout",
          "text": [
            "   AAA  BBB  CCC\n",
            "0    4   10  100\n",
            "1    5   20   50\n",
            "2    6   35  -30\n",
            "3    7   10  -50\n",
            "\n",
            "sort by BBB\n",
            "   AAA  BBB  CCC\n",
            "0    4   10  100\n",
            "3    7   10  -50\n",
            "1    5   20   50\n",
            "2    6   35  -30\n",
            "\n",
            "sort by BBB, CCC\n",
            "   AAA  BBB  CCC\n",
            "3    7   10  -50\n",
            "0    4   10  100\n",
            "1    5   20   50\n",
            "2    6   35  -30\n",
            "\n"
          ]
        }
      ]
    },
    {
      "cell_type": "markdown",
      "metadata": {
        "id": "PiIuGSadXOC4"
      },
      "source": [
        "### 특정 컬럼 값이 특정 값에 가까운 순서로 소팅"
      ]
    },
    {
      "cell_type": "code",
      "metadata": {
        "colab": {
          "base_uri": "https://localhost:8080/"
        },
        "id": "uNeH3HicXTRu",
        "outputId": "fd9e1b82-9679-4c1a-ca27-beb781508840"
      },
      "source": [
        "df = pd.DataFrame(\n",
        "        {\"AAA\": [4, 5, 6, 7], \"BBB\": [10, 20, 30, 40], \"CCC\": [100, 50, -30, -50]}\n",
        ")\n",
        "\n",
        "print(df)\n",
        "print()\n",
        "\n",
        "target_value = 43.0\n",
        "\n",
        "abs_value = (df.CCC - target_value).abs()\n",
        "print(\"abs_value\")\n",
        "print(abs_value)\n",
        "print()\n",
        "\n",
        "print(\"abs_value.argsort()\")\n",
        "print(abs_value.argsort())\n",
        "print()\n",
        "\n",
        "print(df.loc[(df.CCC - target_value).abs().argsort()])"
      ],
      "execution_count": 59,
      "outputs": [
        {
          "output_type": "stream",
          "name": "stdout",
          "text": [
            "   AAA  BBB  CCC\n",
            "0    4   10  100\n",
            "1    5   20   50\n",
            "2    6   30  -30\n",
            "3    7   40  -50\n",
            "\n",
            "abs_value\n",
            "0    57.0\n",
            "1     7.0\n",
            "2    73.0\n",
            "3    93.0\n",
            "Name: CCC, dtype: float64\n",
            "\n",
            "abs_value.argsort()\n",
            "0    1\n",
            "1    0\n",
            "2    2\n",
            "3    3\n",
            "Name: CCC, dtype: int64\n",
            "\n",
            "   AAA  BBB  CCC\n",
            "1    5   20   50\n",
            "0    4   10  100\n",
            "2    6   30  -30\n",
            "3    7   40  -50\n"
          ]
        }
      ]
    },
    {
      "cell_type": "markdown",
      "metadata": {
        "id": "2RZ1XYdleBPq"
      },
      "source": [
        "### group by로 묶어서 group중 min 찾기"
      ]
    },
    {
      "cell_type": "code",
      "metadata": {
        "colab": {
          "base_uri": "https://localhost:8080/"
        },
        "id": "zaVOOS6bZeGQ",
        "outputId": "1e8086fd-e6ca-4e26-ca8e-5349ea03b09f"
      },
      "source": [
        "df = pd.DataFrame(\n",
        "   {\"AAA\": [1, 1, 1, 2, 2, 2, 3, 3], \"BBB\": [2, 1, 3, 4, 5, 1, 2, 3]}\n",
        ")\n",
        "\n",
        "print(df)\n",
        "print()\n",
        "\n",
        "print(df.loc[df.groupby(\"AAA\")[\"BBB\"].idxmin()])"
      ],
      "execution_count": 60,
      "outputs": [
        {
          "output_type": "stream",
          "name": "stdout",
          "text": [
            "   AAA  BBB\n",
            "0    1    2\n",
            "1    1    1\n",
            "2    1    3\n",
            "3    2    4\n",
            "4    2    5\n",
            "5    2    1\n",
            "6    3    2\n",
            "7    3    3\n",
            "\n",
            "   AAA  BBB\n",
            "1    1    1\n",
            "5    2    1\n",
            "6    3    2\n"
          ]
        }
      ]
    },
    {
      "cell_type": "code",
      "metadata": {
        "id": "xUniVvQZsuun"
      },
      "source": [
        ""
      ],
      "execution_count": 60,
      "outputs": []
    },
    {
      "cell_type": "markdown",
      "metadata": {
        "id": "nvDYBiiDA6QO"
      },
      "source": [
        "## 코드성 데이터 인코딩\n",
        "\n"
      ]
    },
    {
      "cell_type": "markdown",
      "metadata": {
        "id": "zt43M-T2By-J"
      },
      "source": [
        "### category 타입으로"
      ]
    },
    {
      "cell_type": "code",
      "metadata": {
        "id": "DbQbR2vdBDfT"
      },
      "source": [
        "df = pd.DataFrame(\n",
        "   {\"AAA\": [1, 1, 1, 2, 2, 2, 3, 3], \"BBB\": [\"A\", \"B\", \"C\", \"A\", \"A\", \"C\", \"B\", \"A\"]}\n",
        ")"
      ],
      "execution_count": 61,
      "outputs": []
    },
    {
      "cell_type": "code",
      "metadata": {
        "colab": {
          "base_uri": "https://localhost:8080/"
        },
        "id": "Y2kIePNwBk9Z",
        "outputId": "d2451520-22c6-42c3-d8a4-5ac27dd569c8"
      },
      "source": [
        "df.info()"
      ],
      "execution_count": 62,
      "outputs": [
        {
          "output_type": "stream",
          "name": "stdout",
          "text": [
            "<class 'pandas.core.frame.DataFrame'>\n",
            "RangeIndex: 8 entries, 0 to 7\n",
            "Data columns (total 2 columns):\n",
            " #   Column  Non-Null Count  Dtype \n",
            "---  ------  --------------  ----- \n",
            " 0   AAA     8 non-null      int64 \n",
            " 1   BBB     8 non-null      object\n",
            "dtypes: int64(1), object(1)\n",
            "memory usage: 256.0+ bytes\n"
          ]
        }
      ]
    },
    {
      "cell_type": "code",
      "metadata": {
        "id": "XvpI4eewBbtK"
      },
      "source": [
        "df.BBB = df.BBB.astype('category')"
      ],
      "execution_count": 63,
      "outputs": []
    },
    {
      "cell_type": "code",
      "metadata": {
        "colab": {
          "base_uri": "https://localhost:8080/"
        },
        "id": "DPadMZMRBjCT",
        "outputId": "52f41bd6-96e7-4426-8bdc-d744545c1f96"
      },
      "source": [
        "df.info()"
      ],
      "execution_count": 64,
      "outputs": [
        {
          "output_type": "stream",
          "name": "stdout",
          "text": [
            "<class 'pandas.core.frame.DataFrame'>\n",
            "RangeIndex: 8 entries, 0 to 7\n",
            "Data columns (total 2 columns):\n",
            " #   Column  Non-Null Count  Dtype   \n",
            "---  ------  --------------  -----   \n",
            " 0   AAA     8 non-null      int64   \n",
            " 1   BBB     8 non-null      category\n",
            "dtypes: category(1), int64(1)\n",
            "memory usage: 304.0 bytes\n"
          ]
        }
      ]
    },
    {
      "cell_type": "code",
      "metadata": {
        "id": "TIslm4b0Bq37"
      },
      "source": [
        "df['BBB_code'] = df.BBB.cat.codes"
      ],
      "execution_count": 65,
      "outputs": []
    },
    {
      "cell_type": "code",
      "metadata": {
        "colab": {
          "base_uri": "https://localhost:8080/",
          "height": 300
        },
        "id": "1-EmRWhZBu2j",
        "outputId": "3b2d1f84-d0a7-4cd3-8b51-0ee03247fc3a"
      },
      "source": [
        "df"
      ],
      "execution_count": 66,
      "outputs": [
        {
          "output_type": "execute_result",
          "data": {
            "text/html": [
              "\n",
              "  <div id=\"df-628e2de1-041e-47fa-b240-bae2be5f3d59\">\n",
              "    <div class=\"colab-df-container\">\n",
              "      <div>\n",
              "<style scoped>\n",
              "    .dataframe tbody tr th:only-of-type {\n",
              "        vertical-align: middle;\n",
              "    }\n",
              "\n",
              "    .dataframe tbody tr th {\n",
              "        vertical-align: top;\n",
              "    }\n",
              "\n",
              "    .dataframe thead th {\n",
              "        text-align: right;\n",
              "    }\n",
              "</style>\n",
              "<table border=\"1\" class=\"dataframe\">\n",
              "  <thead>\n",
              "    <tr style=\"text-align: right;\">\n",
              "      <th></th>\n",
              "      <th>AAA</th>\n",
              "      <th>BBB</th>\n",
              "      <th>BBB_code</th>\n",
              "    </tr>\n",
              "  </thead>\n",
              "  <tbody>\n",
              "    <tr>\n",
              "      <th>0</th>\n",
              "      <td>1</td>\n",
              "      <td>A</td>\n",
              "      <td>0</td>\n",
              "    </tr>\n",
              "    <tr>\n",
              "      <th>1</th>\n",
              "      <td>1</td>\n",
              "      <td>B</td>\n",
              "      <td>1</td>\n",
              "    </tr>\n",
              "    <tr>\n",
              "      <th>2</th>\n",
              "      <td>1</td>\n",
              "      <td>C</td>\n",
              "      <td>2</td>\n",
              "    </tr>\n",
              "    <tr>\n",
              "      <th>3</th>\n",
              "      <td>2</td>\n",
              "      <td>A</td>\n",
              "      <td>0</td>\n",
              "    </tr>\n",
              "    <tr>\n",
              "      <th>4</th>\n",
              "      <td>2</td>\n",
              "      <td>A</td>\n",
              "      <td>0</td>\n",
              "    </tr>\n",
              "    <tr>\n",
              "      <th>5</th>\n",
              "      <td>2</td>\n",
              "      <td>C</td>\n",
              "      <td>2</td>\n",
              "    </tr>\n",
              "    <tr>\n",
              "      <th>6</th>\n",
              "      <td>3</td>\n",
              "      <td>B</td>\n",
              "      <td>1</td>\n",
              "    </tr>\n",
              "    <tr>\n",
              "      <th>7</th>\n",
              "      <td>3</td>\n",
              "      <td>A</td>\n",
              "      <td>0</td>\n",
              "    </tr>\n",
              "  </tbody>\n",
              "</table>\n",
              "</div>\n",
              "      <button class=\"colab-df-convert\" onclick=\"convertToInteractive('df-628e2de1-041e-47fa-b240-bae2be5f3d59')\"\n",
              "              title=\"Convert this dataframe to an interactive table.\"\n",
              "              style=\"display:none;\">\n",
              "        \n",
              "  <svg xmlns=\"http://www.w3.org/2000/svg\" height=\"24px\"viewBox=\"0 0 24 24\"\n",
              "       width=\"24px\">\n",
              "    <path d=\"M0 0h24v24H0V0z\" fill=\"none\"/>\n",
              "    <path d=\"M18.56 5.44l.94 2.06.94-2.06 2.06-.94-2.06-.94-.94-2.06-.94 2.06-2.06.94zm-11 1L8.5 8.5l.94-2.06 2.06-.94-2.06-.94L8.5 2.5l-.94 2.06-2.06.94zm10 10l.94 2.06.94-2.06 2.06-.94-2.06-.94-.94-2.06-.94 2.06-2.06.94z\"/><path d=\"M17.41 7.96l-1.37-1.37c-.4-.4-.92-.59-1.43-.59-.52 0-1.04.2-1.43.59L10.3 9.45l-7.72 7.72c-.78.78-.78 2.05 0 2.83L4 21.41c.39.39.9.59 1.41.59.51 0 1.02-.2 1.41-.59l7.78-7.78 2.81-2.81c.8-.78.8-2.07 0-2.86zM5.41 20L4 18.59l7.72-7.72 1.47 1.35L5.41 20z\"/>\n",
              "  </svg>\n",
              "      </button>\n",
              "      \n",
              "  <style>\n",
              "    .colab-df-container {\n",
              "      display:flex;\n",
              "      flex-wrap:wrap;\n",
              "      gap: 12px;\n",
              "    }\n",
              "\n",
              "    .colab-df-convert {\n",
              "      background-color: #E8F0FE;\n",
              "      border: none;\n",
              "      border-radius: 50%;\n",
              "      cursor: pointer;\n",
              "      display: none;\n",
              "      fill: #1967D2;\n",
              "      height: 32px;\n",
              "      padding: 0 0 0 0;\n",
              "      width: 32px;\n",
              "    }\n",
              "\n",
              "    .colab-df-convert:hover {\n",
              "      background-color: #E2EBFA;\n",
              "      box-shadow: 0px 1px 2px rgba(60, 64, 67, 0.3), 0px 1px 3px 1px rgba(60, 64, 67, 0.15);\n",
              "      fill: #174EA6;\n",
              "    }\n",
              "\n",
              "    [theme=dark] .colab-df-convert {\n",
              "      background-color: #3B4455;\n",
              "      fill: #D2E3FC;\n",
              "    }\n",
              "\n",
              "    [theme=dark] .colab-df-convert:hover {\n",
              "      background-color: #434B5C;\n",
              "      box-shadow: 0px 1px 3px 1px rgba(0, 0, 0, 0.15);\n",
              "      filter: drop-shadow(0px 1px 2px rgba(0, 0, 0, 0.3));\n",
              "      fill: #FFFFFF;\n",
              "    }\n",
              "  </style>\n",
              "\n",
              "      <script>\n",
              "        const buttonEl =\n",
              "          document.querySelector('#df-628e2de1-041e-47fa-b240-bae2be5f3d59 button.colab-df-convert');\n",
              "        buttonEl.style.display =\n",
              "          google.colab.kernel.accessAllowed ? 'block' : 'none';\n",
              "\n",
              "        async function convertToInteractive(key) {\n",
              "          const element = document.querySelector('#df-628e2de1-041e-47fa-b240-bae2be5f3d59');\n",
              "          const dataTable =\n",
              "            await google.colab.kernel.invokeFunction('convertToInteractive',\n",
              "                                                     [key], {});\n",
              "          if (!dataTable) return;\n",
              "\n",
              "          const docLinkHtml = 'Like what you see? Visit the ' +\n",
              "            '<a target=\"_blank\" href=https://colab.research.google.com/notebooks/data_table.ipynb>data table notebook</a>'\n",
              "            + ' to learn more about interactive tables.';\n",
              "          element.innerHTML = '';\n",
              "          dataTable['output_type'] = 'display_data';\n",
              "          await google.colab.output.renderOutput(dataTable, element);\n",
              "          const docLink = document.createElement('div');\n",
              "          docLink.innerHTML = docLinkHtml;\n",
              "          element.appendChild(docLink);\n",
              "        }\n",
              "      </script>\n",
              "    </div>\n",
              "  </div>\n",
              "  "
            ],
            "text/plain": [
              "   AAA BBB  BBB_code\n",
              "0    1   A         0\n",
              "1    1   B         1\n",
              "2    1   C         2\n",
              "3    2   A         0\n",
              "4    2   A         0\n",
              "5    2   C         2\n",
              "6    3   B         1\n",
              "7    3   A         0"
            ]
          },
          "metadata": {},
          "execution_count": 66
        }
      ]
    },
    {
      "cell_type": "markdown",
      "metadata": {
        "id": "m6udsK7sB5Yv"
      },
      "source": [
        "### 특정 카테고리 리스트로"
      ]
    },
    {
      "cell_type": "code",
      "metadata": {
        "id": "zYri1TmJB9n8"
      },
      "source": [
        "df = pd.DataFrame(\n",
        "   {\"AAA\": [1, 1, 1, 2, 2, 2, 3, 3], \"BBB\": [\"A\", \"B\", \"C\", \"A\", \"A\", \"C\", \"B\", \"A\"]}\n",
        ")"
      ],
      "execution_count": 67,
      "outputs": []
    },
    {
      "cell_type": "code",
      "metadata": {
        "colab": {
          "base_uri": "https://localhost:8080/"
        },
        "id": "fNtWbYH7B9n-",
        "outputId": "9e709251-4e11-4154-e283-2851bb5e9879"
      },
      "source": [
        "df.info()"
      ],
      "execution_count": 68,
      "outputs": [
        {
          "output_type": "stream",
          "name": "stdout",
          "text": [
            "<class 'pandas.core.frame.DataFrame'>\n",
            "RangeIndex: 8 entries, 0 to 7\n",
            "Data columns (total 2 columns):\n",
            " #   Column  Non-Null Count  Dtype \n",
            "---  ------  --------------  ----- \n",
            " 0   AAA     8 non-null      int64 \n",
            " 1   BBB     8 non-null      object\n",
            "dtypes: int64(1), object(1)\n",
            "memory usage: 256.0+ bytes\n"
          ]
        }
      ]
    },
    {
      "cell_type": "code",
      "metadata": {
        "id": "q9dhMvSWB_lB"
      },
      "source": [
        "types = [ \"C\", \"B\", \"A\" ]\n",
        "df.BBB = pd.Categorical(df.BBB, categories=types, ordered=True)"
      ],
      "execution_count": 69,
      "outputs": []
    },
    {
      "cell_type": "code",
      "metadata": {
        "id": "r-gio5FYFcU3"
      },
      "source": [
        "df['BBB_code'] = df.BBB.cat.codes"
      ],
      "execution_count": 70,
      "outputs": []
    },
    {
      "cell_type": "code",
      "metadata": {
        "colab": {
          "base_uri": "https://localhost:8080/",
          "height": 300
        },
        "id": "6Nl9ol53FdQB",
        "outputId": "6fefc1f9-686e-47e5-b2fb-8aa96762a95d"
      },
      "source": [
        "df"
      ],
      "execution_count": 71,
      "outputs": [
        {
          "output_type": "execute_result",
          "data": {
            "text/html": [
              "\n",
              "  <div id=\"df-903f173b-761a-45b7-9aa9-90090cba997b\">\n",
              "    <div class=\"colab-df-container\">\n",
              "      <div>\n",
              "<style scoped>\n",
              "    .dataframe tbody tr th:only-of-type {\n",
              "        vertical-align: middle;\n",
              "    }\n",
              "\n",
              "    .dataframe tbody tr th {\n",
              "        vertical-align: top;\n",
              "    }\n",
              "\n",
              "    .dataframe thead th {\n",
              "        text-align: right;\n",
              "    }\n",
              "</style>\n",
              "<table border=\"1\" class=\"dataframe\">\n",
              "  <thead>\n",
              "    <tr style=\"text-align: right;\">\n",
              "      <th></th>\n",
              "      <th>AAA</th>\n",
              "      <th>BBB</th>\n",
              "      <th>BBB_code</th>\n",
              "    </tr>\n",
              "  </thead>\n",
              "  <tbody>\n",
              "    <tr>\n",
              "      <th>0</th>\n",
              "      <td>1</td>\n",
              "      <td>A</td>\n",
              "      <td>2</td>\n",
              "    </tr>\n",
              "    <tr>\n",
              "      <th>1</th>\n",
              "      <td>1</td>\n",
              "      <td>B</td>\n",
              "      <td>1</td>\n",
              "    </tr>\n",
              "    <tr>\n",
              "      <th>2</th>\n",
              "      <td>1</td>\n",
              "      <td>C</td>\n",
              "      <td>0</td>\n",
              "    </tr>\n",
              "    <tr>\n",
              "      <th>3</th>\n",
              "      <td>2</td>\n",
              "      <td>A</td>\n",
              "      <td>2</td>\n",
              "    </tr>\n",
              "    <tr>\n",
              "      <th>4</th>\n",
              "      <td>2</td>\n",
              "      <td>A</td>\n",
              "      <td>2</td>\n",
              "    </tr>\n",
              "    <tr>\n",
              "      <th>5</th>\n",
              "      <td>2</td>\n",
              "      <td>C</td>\n",
              "      <td>0</td>\n",
              "    </tr>\n",
              "    <tr>\n",
              "      <th>6</th>\n",
              "      <td>3</td>\n",
              "      <td>B</td>\n",
              "      <td>1</td>\n",
              "    </tr>\n",
              "    <tr>\n",
              "      <th>7</th>\n",
              "      <td>3</td>\n",
              "      <td>A</td>\n",
              "      <td>2</td>\n",
              "    </tr>\n",
              "  </tbody>\n",
              "</table>\n",
              "</div>\n",
              "      <button class=\"colab-df-convert\" onclick=\"convertToInteractive('df-903f173b-761a-45b7-9aa9-90090cba997b')\"\n",
              "              title=\"Convert this dataframe to an interactive table.\"\n",
              "              style=\"display:none;\">\n",
              "        \n",
              "  <svg xmlns=\"http://www.w3.org/2000/svg\" height=\"24px\"viewBox=\"0 0 24 24\"\n",
              "       width=\"24px\">\n",
              "    <path d=\"M0 0h24v24H0V0z\" fill=\"none\"/>\n",
              "    <path d=\"M18.56 5.44l.94 2.06.94-2.06 2.06-.94-2.06-.94-.94-2.06-.94 2.06-2.06.94zm-11 1L8.5 8.5l.94-2.06 2.06-.94-2.06-.94L8.5 2.5l-.94 2.06-2.06.94zm10 10l.94 2.06.94-2.06 2.06-.94-2.06-.94-.94-2.06-.94 2.06-2.06.94z\"/><path d=\"M17.41 7.96l-1.37-1.37c-.4-.4-.92-.59-1.43-.59-.52 0-1.04.2-1.43.59L10.3 9.45l-7.72 7.72c-.78.78-.78 2.05 0 2.83L4 21.41c.39.39.9.59 1.41.59.51 0 1.02-.2 1.41-.59l7.78-7.78 2.81-2.81c.8-.78.8-2.07 0-2.86zM5.41 20L4 18.59l7.72-7.72 1.47 1.35L5.41 20z\"/>\n",
              "  </svg>\n",
              "      </button>\n",
              "      \n",
              "  <style>\n",
              "    .colab-df-container {\n",
              "      display:flex;\n",
              "      flex-wrap:wrap;\n",
              "      gap: 12px;\n",
              "    }\n",
              "\n",
              "    .colab-df-convert {\n",
              "      background-color: #E8F0FE;\n",
              "      border: none;\n",
              "      border-radius: 50%;\n",
              "      cursor: pointer;\n",
              "      display: none;\n",
              "      fill: #1967D2;\n",
              "      height: 32px;\n",
              "      padding: 0 0 0 0;\n",
              "      width: 32px;\n",
              "    }\n",
              "\n",
              "    .colab-df-convert:hover {\n",
              "      background-color: #E2EBFA;\n",
              "      box-shadow: 0px 1px 2px rgba(60, 64, 67, 0.3), 0px 1px 3px 1px rgba(60, 64, 67, 0.15);\n",
              "      fill: #174EA6;\n",
              "    }\n",
              "\n",
              "    [theme=dark] .colab-df-convert {\n",
              "      background-color: #3B4455;\n",
              "      fill: #D2E3FC;\n",
              "    }\n",
              "\n",
              "    [theme=dark] .colab-df-convert:hover {\n",
              "      background-color: #434B5C;\n",
              "      box-shadow: 0px 1px 3px 1px rgba(0, 0, 0, 0.15);\n",
              "      filter: drop-shadow(0px 1px 2px rgba(0, 0, 0, 0.3));\n",
              "      fill: #FFFFFF;\n",
              "    }\n",
              "  </style>\n",
              "\n",
              "      <script>\n",
              "        const buttonEl =\n",
              "          document.querySelector('#df-903f173b-761a-45b7-9aa9-90090cba997b button.colab-df-convert');\n",
              "        buttonEl.style.display =\n",
              "          google.colab.kernel.accessAllowed ? 'block' : 'none';\n",
              "\n",
              "        async function convertToInteractive(key) {\n",
              "          const element = document.querySelector('#df-903f173b-761a-45b7-9aa9-90090cba997b');\n",
              "          const dataTable =\n",
              "            await google.colab.kernel.invokeFunction('convertToInteractive',\n",
              "                                                     [key], {});\n",
              "          if (!dataTable) return;\n",
              "\n",
              "          const docLinkHtml = 'Like what you see? Visit the ' +\n",
              "            '<a target=\"_blank\" href=https://colab.research.google.com/notebooks/data_table.ipynb>data table notebook</a>'\n",
              "            + ' to learn more about interactive tables.';\n",
              "          element.innerHTML = '';\n",
              "          dataTable['output_type'] = 'display_data';\n",
              "          await google.colab.output.renderOutput(dataTable, element);\n",
              "          const docLink = document.createElement('div');\n",
              "          docLink.innerHTML = docLinkHtml;\n",
              "          element.appendChild(docLink);\n",
              "        }\n",
              "      </script>\n",
              "    </div>\n",
              "  </div>\n",
              "  "
            ],
            "text/plain": [
              "   AAA BBB  BBB_code\n",
              "0    1   A         2\n",
              "1    1   B         1\n",
              "2    1   C         0\n",
              "3    2   A         2\n",
              "4    2   A         2\n",
              "5    2   C         0\n",
              "6    3   B         1\n",
              "7    3   A         2"
            ]
          },
          "metadata": {},
          "execution_count": 71
        }
      ]
    },
    {
      "cell_type": "markdown",
      "metadata": {
        "id": "Scnzu0qx1YB6"
      },
      "source": [
        "### 특정 카테고리 코드 맵으로"
      ]
    },
    {
      "cell_type": "code",
      "metadata": {
        "id": "8q8yOy0p00xp",
        "colab": {
          "base_uri": "https://localhost:8080/"
        },
        "outputId": "ff36b204-7e2a-49bf-f274-7c069a77ba8c"
      },
      "source": [
        "df = pd.DataFrame(\n",
        "   {\"AAA\": [1, 1, 1, 2, 2, 2, 3, 3], \"BBB\": [\"A\", \"B\", \"C\", \"A\", \"A\", \"C\", \"B\", \"A\"]}\n",
        ")\n",
        "\n",
        "print(df)\n",
        "print()\n",
        "\n",
        "df['BBB_coded'] = df['BBB'].map({\"A\":0, \"B\":1, \"C\":2})\n",
        "\n",
        "print(df)"
      ],
      "execution_count": 72,
      "outputs": [
        {
          "output_type": "stream",
          "name": "stdout",
          "text": [
            "   AAA BBB\n",
            "0    1   A\n",
            "1    1   B\n",
            "2    1   C\n",
            "3    2   A\n",
            "4    2   A\n",
            "5    2   C\n",
            "6    3   B\n",
            "7    3   A\n",
            "\n",
            "   AAA BBB  BBB_coded\n",
            "0    1   A          0\n",
            "1    1   B          1\n",
            "2    1   C          2\n",
            "3    2   A          0\n",
            "4    2   A          0\n",
            "5    2   C          2\n",
            "6    3   B          1\n",
            "7    3   A          0\n"
          ]
        }
      ]
    },
    {
      "cell_type": "markdown",
      "metadata": {
        "id": "YXj1-ag3393F"
      },
      "source": [
        "## 결측치 확인"
      ]
    },
    {
      "cell_type": "markdown",
      "metadata": {
        "id": "ztN1KqPZ6ZTL"
      },
      "source": [
        "### 결측치 존재 여부 확인"
      ]
    },
    {
      "cell_type": "code",
      "metadata": {
        "colab": {
          "base_uri": "https://localhost:8080/"
        },
        "id": "qF5Koa0M4q25",
        "outputId": "90698304-e092-40a5-89e7-768729ffca3b"
      },
      "source": [
        "df = pd.DataFrame([[np.nan, 2, np.nan, 0],\n",
        "                   [3, 4, np.nan, 1],\n",
        "                   [np.nan, np.nan, np.nan, 5],\n",
        "                   [np.nan, 3, np.nan, 4]],\n",
        "                  columns=list('ABCD'))\n",
        "\n",
        "print(df)\n",
        "print()\n",
        "\n",
        "# NaN 인 곳을 True로\n",
        "print(\"df.isnull()\")\n",
        "print(df.isnull())\n",
        "print()\n",
        "\n",
        "# 컬럼 별로 True가 한 개라도 있는 지\n",
        "print(\"df.isnull().any()\")\n",
        "print(df.isnull().any())\n",
        "print()\n",
        "\n",
        "# 전체에서 True가 한 개라도 있는 지\n",
        "print(\"df.isnull().any().any()\")\n",
        "print(df.isnull().any().any())\n",
        "print()\n"
      ],
      "execution_count": 73,
      "outputs": [
        {
          "output_type": "stream",
          "name": "stdout",
          "text": [
            "     A    B   C  D\n",
            "0  NaN  2.0 NaN  0\n",
            "1  3.0  4.0 NaN  1\n",
            "2  NaN  NaN NaN  5\n",
            "3  NaN  3.0 NaN  4\n",
            "\n",
            "df.isnull()\n",
            "       A      B     C      D\n",
            "0   True  False  True  False\n",
            "1  False  False  True  False\n",
            "2   True   True  True  False\n",
            "3   True  False  True  False\n",
            "\n",
            "df.isnull().any()\n",
            "A     True\n",
            "B     True\n",
            "C     True\n",
            "D    False\n",
            "dtype: bool\n",
            "\n",
            "df.isnull().any().any()\n",
            "True\n",
            "\n"
          ]
        }
      ]
    },
    {
      "cell_type": "markdown",
      "metadata": {
        "id": "ecK0DE5Y6cIA"
      },
      "source": [
        "### 결측치 갯수 확인"
      ]
    },
    {
      "cell_type": "code",
      "metadata": {
        "colab": {
          "base_uri": "https://localhost:8080/"
        },
        "id": "CL_tkafL4qzz",
        "outputId": "d8f430e8-6b27-466d-94d4-bb647021b9f2"
      },
      "source": [
        "df = pd.DataFrame([[np.nan, 2, np.nan, 0],\n",
        "                   [3, 4, np.nan, 1],\n",
        "                   [np.nan, np.nan, np.nan, 5],\n",
        "                   [np.nan, 3, np.nan, 4]],\n",
        "                  columns=list('ABCD'))\n",
        "\n",
        "print(df)\n",
        "print()\n",
        "\n",
        "# NaN 인 곳을 True로\n",
        "print(\"df.isnull()\")\n",
        "print(df.isnull())\n",
        "print()\n",
        "\n",
        "# 컬럼 별 True 갯수\n",
        "print(\"df.isnull().sum()\")\n",
        "print(df.isnull().sum())\n",
        "print()\n",
        "\n",
        "# 전체 True 갯수\n",
        "print(\"df.isnull().sum().sum()\")\n",
        "print(df.isnull().sum().sum())\n",
        "print()\n"
      ],
      "execution_count": 74,
      "outputs": [
        {
          "output_type": "stream",
          "name": "stdout",
          "text": [
            "     A    B   C  D\n",
            "0  NaN  2.0 NaN  0\n",
            "1  3.0  4.0 NaN  1\n",
            "2  NaN  NaN NaN  5\n",
            "3  NaN  3.0 NaN  4\n",
            "\n",
            "df.isnull()\n",
            "       A      B     C      D\n",
            "0   True  False  True  False\n",
            "1  False  False  True  False\n",
            "2   True   True  True  False\n",
            "3   True  False  True  False\n",
            "\n",
            "df.isnull().sum()\n",
            "A    3\n",
            "B    1\n",
            "C    4\n",
            "D    0\n",
            "dtype: int64\n",
            "\n",
            "df.isnull().sum().sum()\n",
            "8\n",
            "\n"
          ]
        }
      ]
    },
    {
      "cell_type": "markdown",
      "metadata": {
        "id": "JMuvRq207Xxy"
      },
      "source": [
        "### 각 컬럼별 결측 비율"
      ]
    },
    {
      "cell_type": "code",
      "metadata": {
        "colab": {
          "base_uri": "https://localhost:8080/"
        },
        "id": "5gvYa1j74qvS",
        "outputId": "937ac395-909e-44fe-8a41-aa35378cb90c"
      },
      "source": [
        "df = pd.DataFrame([[np.nan, 2, np.nan, 0],\n",
        "                   [3, 4, np.nan, 1],\n",
        "                   [np.nan, np.nan, np.nan, 5],\n",
        "                   [np.nan, 3, np.nan, 4]],\n",
        "                  columns=list('ABCD'))\n",
        "\n",
        "print(df)\n",
        "print()\n",
        "\n",
        "# NaN 인 곳을 True로\n",
        "print(\"df.isnull()\")\n",
        "print(df.isnull())\n",
        "print()\n",
        "\n",
        "# 컬럼 별 True 갯수\n",
        "print(\"df.isnull().sum()\")\n",
        "print(df.isnull().sum())\n",
        "print()\n",
        "\n",
        "# 컬럼 별 결측치 비율\n",
        "print(df.isnull().sum()/(len(df))*100)\n",
        "print()\n"
      ],
      "execution_count": 75,
      "outputs": [
        {
          "output_type": "stream",
          "name": "stdout",
          "text": [
            "     A    B   C  D\n",
            "0  NaN  2.0 NaN  0\n",
            "1  3.0  4.0 NaN  1\n",
            "2  NaN  NaN NaN  5\n",
            "3  NaN  3.0 NaN  4\n",
            "\n",
            "df.isnull()\n",
            "       A      B     C      D\n",
            "0   True  False  True  False\n",
            "1  False  False  True  False\n",
            "2   True   True  True  False\n",
            "3   True  False  True  False\n",
            "\n",
            "df.isnull().sum()\n",
            "A    3\n",
            "B    1\n",
            "C    4\n",
            "D    0\n",
            "dtype: int64\n",
            "\n",
            "A     75.0\n",
            "B     25.0\n",
            "C    100.0\n",
            "D      0.0\n",
            "dtype: float64\n",
            "\n"
          ]
        }
      ]
    },
    {
      "cell_type": "code",
      "metadata": {
        "id": "v-JBQdBG78rG"
      },
      "source": [
        ""
      ],
      "execution_count": 75,
      "outputs": []
    },
    {
      "cell_type": "code",
      "metadata": {
        "id": "7g4h0ioE78oS"
      },
      "source": [
        ""
      ],
      "execution_count": 75,
      "outputs": []
    },
    {
      "cell_type": "code",
      "metadata": {
        "id": "QZuCcOiS78iT"
      },
      "source": [
        ""
      ],
      "execution_count": 75,
      "outputs": []
    },
    {
      "cell_type": "code",
      "metadata": {
        "id": "BAST44ri78fk"
      },
      "source": [
        ""
      ],
      "execution_count": 75,
      "outputs": []
    },
    {
      "cell_type": "code",
      "metadata": {
        "id": "7xa2Z-HD78aK"
      },
      "source": [
        ""
      ],
      "execution_count": 75,
      "outputs": []
    },
    {
      "cell_type": "code",
      "metadata": {
        "id": "-D_o465F4qpy"
      },
      "source": [
        ""
      ],
      "execution_count": 75,
      "outputs": []
    },
    {
      "cell_type": "markdown",
      "metadata": {
        "id": "PYb8ku_7v3yF"
      },
      "source": [
        "## 결측치 처리\n"
      ]
    },
    {
      "cell_type": "markdown",
      "metadata": {
        "id": "JFzIqEpQ82BW"
      },
      "source": [
        "### 결측치 있는 데이터 버리기"
      ]
    },
    {
      "cell_type": "code",
      "metadata": {
        "colab": {
          "base_uri": "https://localhost:8080/"
        },
        "id": "ln_2FwVM78tq",
        "outputId": "492baaac-db3e-4d7e-f1b7-e5e5104ce7b1"
      },
      "source": [
        "df = pd.DataFrame([[1, 2, 3, 0],\n",
        "                   [3, 4, 5, 1],\n",
        "                   [np.nan, np.nan, np.nan, 5],\n",
        "                   [2, 3, 1, 4]],\n",
        "                  columns=list('ABCD'))\n",
        "\n",
        "print(df)\n",
        "print()\n",
        "\n",
        "print(df.dropna())\n"
      ],
      "execution_count": 76,
      "outputs": [
        {
          "output_type": "stream",
          "name": "stdout",
          "text": [
            "     A    B    C  D\n",
            "0  1.0  2.0  3.0  0\n",
            "1  3.0  4.0  5.0  1\n",
            "2  NaN  NaN  NaN  5\n",
            "3  2.0  3.0  1.0  4\n",
            "\n",
            "     A    B    C  D\n",
            "0  1.0  2.0  3.0  0\n",
            "1  3.0  4.0  5.0  1\n",
            "3  2.0  3.0  1.0  4\n"
          ]
        }
      ]
    },
    {
      "cell_type": "markdown",
      "metadata": {
        "id": "G9I3c18q9Abs"
      },
      "source": [
        "### 결측치 있는 컬럼 버리기"
      ]
    },
    {
      "cell_type": "code",
      "metadata": {
        "colab": {
          "base_uri": "https://localhost:8080/"
        },
        "id": "uJNFhfHa9C0Q",
        "outputId": "1970b5c6-5893-4969-9c1e-1a9b731cb8dd"
      },
      "source": [
        "df = pd.DataFrame([[1, 2, np.nan, 0],\n",
        "                   [3, 4, 5, 1],\n",
        "                   [3, 4, np.nan, 5],\n",
        "                   [2, 3, np.nan, 4]],\n",
        "                  columns=list('ABCD'))\n",
        "\n",
        "print(df)\n",
        "print()\n",
        "\n",
        "\n",
        "print(df.dropna(axis=1))\n"
      ],
      "execution_count": 77,
      "outputs": [
        {
          "output_type": "stream",
          "name": "stdout",
          "text": [
            "   A  B    C  D\n",
            "0  1  2  NaN  0\n",
            "1  3  4  5.0  1\n",
            "2  3  4  NaN  5\n",
            "3  2  3  NaN  4\n",
            "\n",
            "   A  B  D\n",
            "0  1  2  0\n",
            "1  3  4  1\n",
            "2  3  4  5\n",
            "3  2  3  4\n"
          ]
        }
      ]
    },
    {
      "cell_type": "markdown",
      "metadata": {
        "id": "nnQLMCN1zmN0"
      },
      "source": [
        "### 특정값으로 채우기"
      ]
    },
    {
      "cell_type": "code",
      "metadata": {
        "colab": {
          "base_uri": "https://localhost:8080/"
        },
        "id": "JfBzGaP6wb9G",
        "outputId": "d6c39d98-6e06-4a24-e226-c021f2c698bb"
      },
      "source": [
        "df = pd.DataFrame([[np.nan, 2, np.nan, 0],\n",
        "                   [3, 4, np.nan, 1],\n",
        "                   [np.nan, np.nan, np.nan, 5],\n",
        "                   [np.nan, 3, np.nan, 4]],\n",
        "                  columns=list('ABCD'))\n",
        "\n",
        "print(df)\n",
        "print()\n",
        "\n",
        "filled_df = df.fillna(0)\n",
        "\n",
        "print(filled_df)\n"
      ],
      "execution_count": 78,
      "outputs": [
        {
          "output_type": "stream",
          "name": "stdout",
          "text": [
            "     A    B   C  D\n",
            "0  NaN  2.0 NaN  0\n",
            "1  3.0  4.0 NaN  1\n",
            "2  NaN  NaN NaN  5\n",
            "3  NaN  3.0 NaN  4\n",
            "\n",
            "     A    B    C  D\n",
            "0  0.0  2.0  0.0  0\n",
            "1  3.0  4.0  0.0  1\n",
            "2  0.0  0.0  0.0  5\n",
            "3  0.0  3.0  0.0  4\n"
          ]
        }
      ]
    },
    {
      "cell_type": "markdown",
      "metadata": {
        "id": "FAMB9A6O2Nfd"
      },
      "source": [
        "### 컬럼별 특정 값으로 채우기"
      ]
    },
    {
      "cell_type": "code",
      "metadata": {
        "colab": {
          "base_uri": "https://localhost:8080/"
        },
        "id": "UG-hyVn90AS9",
        "outputId": "705eec78-5c7a-49ff-8977-3bd183adf429"
      },
      "source": [
        "df = pd.DataFrame([[np.nan, 2, np.nan, 0],\n",
        "                   [3, 4, np.nan, 1],\n",
        "                   [np.nan, np.nan, np.nan, 5],\n",
        "                   [np.nan, 3, np.nan, 4]],\n",
        "                  columns=list('ABCD'))\n",
        "\n",
        "print(df)\n",
        "print()\n",
        "\n",
        "\n",
        "values = {'A': 0, 'B': 1, 'C': 2, 'D': 3}\n",
        "filled_df = df.fillna(value=values)\n",
        "\n",
        "print(filled_df)"
      ],
      "execution_count": 79,
      "outputs": [
        {
          "output_type": "stream",
          "name": "stdout",
          "text": [
            "     A    B   C  D\n",
            "0  NaN  2.0 NaN  0\n",
            "1  3.0  4.0 NaN  1\n",
            "2  NaN  NaN NaN  5\n",
            "3  NaN  3.0 NaN  4\n",
            "\n",
            "     A    B    C  D\n",
            "0  0.0  2.0  2.0  0\n",
            "1  3.0  4.0  2.0  1\n",
            "2  0.0  1.0  2.0  5\n",
            "3  0.0  3.0  2.0  4\n"
          ]
        }
      ]
    },
    {
      "cell_type": "markdown",
      "metadata": {
        "id": "yg8VavqF1rAw"
      },
      "source": [
        "### 앞의 값으로 채우기"
      ]
    },
    {
      "cell_type": "code",
      "metadata": {
        "colab": {
          "base_uri": "https://localhost:8080/"
        },
        "id": "7_3fdE5V0AY8",
        "outputId": "d0efdd75-723a-4100-ab98-62cacfe44192"
      },
      "source": [
        "df = pd.DataFrame([[np.nan, 2, np.nan, 0],\n",
        "                   [3, 4, np.nan, 1],\n",
        "                   [np.nan, np.nan, np.nan, 5],\n",
        "                   [np.nan, 3, np.nan, 4]],\n",
        "                  columns=list('ABCD'))\n",
        "\n",
        "print(df)\n",
        "print()\n",
        "\n",
        "filled_df = df.fillna(method=\"ffill\")\n",
        "\n",
        "print(filled_df)\n"
      ],
      "execution_count": 80,
      "outputs": [
        {
          "output_type": "stream",
          "name": "stdout",
          "text": [
            "     A    B   C  D\n",
            "0  NaN  2.0 NaN  0\n",
            "1  3.0  4.0 NaN  1\n",
            "2  NaN  NaN NaN  5\n",
            "3  NaN  3.0 NaN  4\n",
            "\n",
            "     A    B   C  D\n",
            "0  NaN  2.0 NaN  0\n",
            "1  3.0  4.0 NaN  1\n",
            "2  3.0  4.0 NaN  5\n",
            "3  3.0  3.0 NaN  4\n"
          ]
        }
      ]
    },
    {
      "cell_type": "markdown",
      "metadata": {
        "id": "q6FAQV8g1tNX"
      },
      "source": [
        "### 뒤의 값으로 채우기"
      ]
    },
    {
      "cell_type": "code",
      "metadata": {
        "colab": {
          "base_uri": "https://localhost:8080/"
        },
        "id": "Yinoi2As1TlY",
        "outputId": "a821a005-3005-4342-b618-f14f1510306b"
      },
      "source": [
        "df = pd.DataFrame([[np.nan, 2, np.nan, 0],\n",
        "                   [3, 4, np.nan, 1],\n",
        "                   [np.nan, np.nan, np.nan, 5],\n",
        "                   [np.nan, 3, np.nan, 4]],\n",
        "                  columns=list('ABCD'))\n",
        "\n",
        "print(df)\n",
        "print()\n",
        "\n",
        "filled_df = df.fillna(method=\"bfill\")\n",
        "\n",
        "print(filled_df)\n"
      ],
      "execution_count": 81,
      "outputs": [
        {
          "output_type": "stream",
          "name": "stdout",
          "text": [
            "     A    B   C  D\n",
            "0  NaN  2.0 NaN  0\n",
            "1  3.0  4.0 NaN  1\n",
            "2  NaN  NaN NaN  5\n",
            "3  NaN  3.0 NaN  4\n",
            "\n",
            "     A    B   C  D\n",
            "0  3.0  2.0 NaN  0\n",
            "1  3.0  4.0 NaN  1\n",
            "2  NaN  3.0 NaN  5\n",
            "3  NaN  3.0 NaN  4\n"
          ]
        }
      ]
    },
    {
      "cell_type": "markdown",
      "metadata": {
        "id": "JQkZetsf23-k"
      },
      "source": [
        "### 컬럼 별 평균값으로 채우기"
      ]
    },
    {
      "cell_type": "code",
      "metadata": {
        "colab": {
          "base_uri": "https://localhost:8080/"
        },
        "id": "eF1Tj5tn0AN0",
        "outputId": "47286a0a-1da8-48f4-c030-e39215d94ec4"
      },
      "source": [
        "df = pd.DataFrame([[np.nan, 2, np.nan, 0],\n",
        "                   [3, 4, np.nan, 1],\n",
        "                   [np.nan, np.nan, np.nan, 5],\n",
        "                   [np.nan, 3, np.nan, 4]],\n",
        "                  columns=list('ABCD'))\n",
        "\n",
        "print(df)\n",
        "print()\n",
        "\n",
        "print(\"df.mean()\")\n",
        "print(df.mean())\n",
        "print()\n",
        "\n",
        "filled_df = df.fillna(df.mean())\n",
        "\n",
        "print(filled_df)\n"
      ],
      "execution_count": 82,
      "outputs": [
        {
          "output_type": "stream",
          "name": "stdout",
          "text": [
            "     A    B   C  D\n",
            "0  NaN  2.0 NaN  0\n",
            "1  3.0  4.0 NaN  1\n",
            "2  NaN  NaN NaN  5\n",
            "3  NaN  3.0 NaN  4\n",
            "\n",
            "df.mean()\n",
            "A    3.0\n",
            "B    3.0\n",
            "C    NaN\n",
            "D    2.5\n",
            "dtype: float64\n",
            "\n",
            "     A    B   C  D\n",
            "0  3.0  2.0 NaN  0\n",
            "1  3.0  4.0 NaN  1\n",
            "2  3.0  3.0 NaN  5\n",
            "3  3.0  3.0 NaN  4\n"
          ]
        }
      ]
    },
    {
      "cell_type": "code",
      "metadata": {
        "id": "tH1Y11ERz_kC"
      },
      "source": [
        ""
      ],
      "execution_count": 82,
      "outputs": []
    },
    {
      "cell_type": "code",
      "metadata": {
        "colab": {
          "base_uri": "https://localhost:8080/"
        },
        "id": "Ka26g5JasuVC",
        "outputId": "ab5e1882-3ffc-439f-ae01-d76c5255f3ec"
      },
      "source": [
        "import numpy as np\n",
        "\n",
        "df = pd.DataFrame(\n",
        "   np.random.randn(6, 1),\n",
        "   index=pd.date_range(\"2013-08-01\", periods=6, freq=\"B\"),\n",
        "   columns=list(\"A\"),\n",
        ")\n",
        "\n",
        "print(df)\n",
        "print()\n",
        "\n",
        "df.loc[df.index[3], \"A\"] = np.nan\n",
        "\n",
        "print(df)\n",
        "print()\n",
        "\n",
        "df = df.ffill()\n",
        "print(df)"
      ],
      "execution_count": 83,
      "outputs": [
        {
          "output_type": "stream",
          "name": "stdout",
          "text": [
            "                   A\n",
            "2013-08-01  0.157832\n",
            "2013-08-02 -0.530810\n",
            "2013-08-05  2.302901\n",
            "2013-08-06  0.379969\n",
            "2013-08-07  0.431375\n",
            "2013-08-08 -0.543278\n",
            "\n",
            "                   A\n",
            "2013-08-01  0.157832\n",
            "2013-08-02 -0.530810\n",
            "2013-08-05  2.302901\n",
            "2013-08-06       NaN\n",
            "2013-08-07  0.431375\n",
            "2013-08-08 -0.543278\n",
            "\n",
            "                   A\n",
            "2013-08-01  0.157832\n",
            "2013-08-02 -0.530810\n",
            "2013-08-05  2.302901\n",
            "2013-08-06  2.302901\n",
            "2013-08-07  0.431375\n",
            "2013-08-08 -0.543278\n"
          ]
        }
      ]
    },
    {
      "cell_type": "markdown",
      "source": [
        "### group by 평균값으로 채우기"
      ],
      "metadata": {
        "id": "6iwWTn9Dryqc"
      }
    },
    {
      "cell_type": "code",
      "source": [
        "df = pd.DataFrame([['a', 1, 3, 0],\n",
        "                   ['a', 1, 5, 1],\n",
        "                   ['a', 1, np.nan, 5],\n",
        "                   ['a', 2, 4, 4],\n",
        "                   ['b', 1, np.nan, 0],\n",
        "                   ['b', 1, 5, 1],\n",
        "                   ['b', 2, np.nan, 5],\n",
        "                   ['b', 2, 5, 4]],\n",
        "                  columns=list('ABCD'))\n",
        "\n",
        "print(df)\n",
        "print()\n",
        "\n",
        "df['C'] = df['C'].fillna(df.groupby(by=['A', 'B'])['C'].transform('mean'))\n",
        "print(df)"
      ],
      "metadata": {
        "id": "W6aiFiDMr2mH",
        "outputId": "e2683043-23a4-4506-846d-ed3121a8e3c1",
        "colab": {
          "base_uri": "https://localhost:8080/"
        }
      },
      "execution_count": 123,
      "outputs": [
        {
          "output_type": "stream",
          "name": "stdout",
          "text": [
            "   A  B    C  D\n",
            "0  a  1  3.0  0\n",
            "1  a  1  5.0  1\n",
            "2  a  1  NaN  5\n",
            "3  a  2  4.0  4\n",
            "4  b  1  NaN  0\n",
            "5  b  1  5.0  1\n",
            "6  b  2  NaN  5\n",
            "7  b  2  5.0  4\n",
            "\n",
            "   A  B    C  D\n",
            "0  a  1  3.0  0\n",
            "1  a  1  5.0  1\n",
            "2  a  1  4.0  5\n",
            "3  a  2  4.0  4\n",
            "4  b  1  5.0  0\n",
            "5  b  1  5.0  1\n",
            "6  b  2  5.0  5\n",
            "7  b  2  5.0  4\n"
          ]
        }
      ]
    },
    {
      "cell_type": "markdown",
      "metadata": {
        "id": "qNM3ZgoH_deZ"
      },
      "source": [
        "## 정규화"
      ]
    },
    {
      "cell_type": "markdown",
      "metadata": {
        "id": "XfLouyoH_mI2"
      },
      "source": [
        "### Normalization"
      ]
    },
    {
      "cell_type": "code",
      "metadata": {
        "colab": {
          "base_uri": "https://localhost:8080/"
        },
        "id": "1BxNAmKQdd_M",
        "outputId": "a6d9cf18-d3ef-4c27-fd05-a3d20f987fee"
      },
      "source": [
        "df = pd.DataFrame(\n",
        "        {\"AAA\": [4, 5, 6, 7], \"BBB\": [10, 20, 35, 10], \"CCC\": [100, 50, -30, -50]}\n",
        ")\n",
        "\n",
        "print(df)\n",
        "print()\n",
        "\n",
        "df2 = (df - df.min()) / (df.max() - df.min())\n",
        "print(df2)"
      ],
      "execution_count": 85,
      "outputs": [
        {
          "output_type": "stream",
          "name": "stdout",
          "text": [
            "   AAA  BBB  CCC\n",
            "0    4   10  100\n",
            "1    5   20   50\n",
            "2    6   35  -30\n",
            "3    7   10  -50\n",
            "\n",
            "        AAA  BBB       CCC\n",
            "0  0.000000  0.0  1.000000\n",
            "1  0.333333  0.4  0.666667\n",
            "2  0.666667  1.0  0.133333\n",
            "3  1.000000  0.0  0.000000\n"
          ]
        }
      ]
    },
    {
      "cell_type": "markdown",
      "metadata": {
        "id": "xYODK-Yk_pdu"
      },
      "source": [
        "### Standardization"
      ]
    },
    {
      "cell_type": "code",
      "metadata": {
        "colab": {
          "base_uri": "https://localhost:8080/"
        },
        "id": "BZNn6VkVf7YK",
        "outputId": "9a9d0c79-04ef-440e-f0d2-df88ba631f89"
      },
      "source": [
        "df = pd.DataFrame(\n",
        "        {\"AAA\": [4, 5, 6, 7], \"BBB\": [10, 20, 35, 10], \"CCC\": [100, 50, -30, -50]}\n",
        ")\n",
        "\n",
        "print(df)\n",
        "print()\n",
        "\n",
        "df2 = (df - df.mean()) / df.std()\n",
        "print(df2)"
      ],
      "execution_count": 86,
      "outputs": [
        {
          "output_type": "stream",
          "name": "stdout",
          "text": [
            "   AAA  BBB  CCC\n",
            "0    4   10  100\n",
            "1    5   20   50\n",
            "2    6   35  -30\n",
            "3    7   10  -50\n",
            "\n",
            "        AAA       BBB       CCC\n",
            "0 -1.161895 -0.740613  1.179575\n",
            "1 -0.387298  0.105802  0.464681\n",
            "2  0.387298  1.375424 -0.679149\n",
            "3  1.161895 -0.740613 -0.965107\n"
          ]
        }
      ]
    },
    {
      "cell_type": "markdown",
      "metadata": {
        "id": "L3enOD5lI1AF"
      },
      "source": [
        "### 특정 칼럼만"
      ]
    },
    {
      "cell_type": "code",
      "metadata": {
        "colab": {
          "base_uri": "https://localhost:8080/"
        },
        "id": "SUWLreM-_faa",
        "outputId": "37ba99f6-d3a8-466b-e810-b3bb20fe212b"
      },
      "source": [
        "df = pd.DataFrame(\n",
        "        {\"AAA\": [4, 5, 6, 7], \"BBB\": [10, 20, 35, 10], \"CCC\": [100, 50, -30, -50]}\n",
        ")\n",
        "\n",
        "print(df)\n",
        "print()\n",
        "\n",
        "df2 = (df - df.min()) / (df.max() - df.min())\n",
        "print(df2)\n",
        "\n",
        "target_columns = [ \"AAA\", \"BBB\" ]\n",
        "df[target_columns] = df2[target_columns]\n",
        "\n",
        "print(df)"
      ],
      "execution_count": 87,
      "outputs": [
        {
          "output_type": "stream",
          "name": "stdout",
          "text": [
            "   AAA  BBB  CCC\n",
            "0    4   10  100\n",
            "1    5   20   50\n",
            "2    6   35  -30\n",
            "3    7   10  -50\n",
            "\n",
            "        AAA  BBB       CCC\n",
            "0  0.000000  0.0  1.000000\n",
            "1  0.333333  0.4  0.666667\n",
            "2  0.666667  1.0  0.133333\n",
            "3  1.000000  0.0  0.000000\n",
            "        AAA  BBB  CCC\n",
            "0  0.000000  0.0  100\n",
            "1  0.333333  0.4   50\n",
            "2  0.666667  1.0  -30\n",
            "3  1.000000  0.0  -50\n"
          ]
        }
      ]
    },
    {
      "cell_type": "markdown",
      "metadata": {
        "id": "9QmEZPqlA8O1"
      },
      "source": [
        "# 시각화\n",
        "\n",
        "https://pandas.pydata.org/pandas-docs/stable/user_guide/visualization.html 참조함."
      ]
    },
    {
      "cell_type": "markdown",
      "metadata": {
        "id": "DbLb8nYe3cfx"
      },
      "source": [
        "## box plot"
      ]
    },
    {
      "cell_type": "code",
      "metadata": {
        "id": "kUI6XHVy3ehs",
        "colab": {
          "base_uri": "https://localhost:8080/",
          "height": 265
        },
        "outputId": "00dc2f26-9fd9-428b-8592-4205b788d94e"
      },
      "source": [
        "import numpy as np\n",
        "import matplotlib.pyplot as plt\n",
        "\n",
        "\n",
        "np.random.seed(1234)\n",
        "df = pd.DataFrame(np.random.randn(10, 4),\n",
        "                  columns=['Col1', 'Col2', 'Col3', 'Col4'])\n",
        "\n",
        "df.boxplot(column=['Col1', 'Col2', 'Col3'])\n",
        "plt.show()"
      ],
      "execution_count": 88,
      "outputs": [
        {
          "output_type": "display_data",
          "data": {
            "image/png": "[encoded data removed]",
            "text/plain": [
              "<Figure size 432x288 with 1 Axes>"
            ]
          },
          "metadata": {
            "needs_background": "light"
          }
        }
      ]
    },
    {
      "cell_type": "code",
      "metadata": {
        "id": "hcbhY_Ve36Fi",
        "colab": {
          "base_uri": "https://localhost:8080/",
          "height": 301
        },
        "outputId": "954e9a4e-973b-4328-db87-856b578b6e48"
      },
      "source": [
        "df = pd.DataFrame(np.random.randn(10, 2),\n",
        "                  columns=['Col1', 'Col2'])\n",
        "df['X'] = pd.Series(['A', 'A', 'A', 'A', 'A',\n",
        "                     'B', 'B', 'B', 'B', 'B'])\n",
        "\n",
        "df.boxplot(by='X')\n",
        "plt.show()"
      ],
      "execution_count": 89,
      "outputs": [
        {
          "output_type": "display_data",
          "data": {
            "image/png": "[encoded data removed]",
            "text/plain": [
              "<Figure size 432x288 with 2 Axes>"
            ]
          },
          "metadata": {
            "needs_background": "light"
          }
        }
      ]
    },
    {
      "cell_type": "markdown",
      "metadata": {
        "id": "ZF4AxIdbBZpA"
      },
      "source": [
        "## seris plot"
      ]
    },
    {
      "cell_type": "code",
      "metadata": {
        "id": "oYmH1phh46gB",
        "colab": {
          "base_uri": "https://localhost:8080/",
          "height": 267
        },
        "outputId": "993c8cc0-e6a3-4099-a527-00af9a900a13"
      },
      "source": [
        "x = np.cumsum(np.random.normal(loc=1, scale=5, size=50))\n",
        "s = pd.Series(x)\n",
        "\n",
        "s.plot()\n",
        "plt.show()"
      ],
      "execution_count": 90,
      "outputs": [
        {
          "output_type": "display_data",
          "data": {
            "image/png": "[encoded data removed]",
            "text/plain": [
              "<Figure size 432x288 with 1 Axes>"
            ]
          },
          "metadata": {
            "needs_background": "light"
          }
        }
      ]
    },
    {
      "cell_type": "markdown",
      "metadata": {
        "id": "MCB1bvPMDsFf"
      },
      "source": [
        "## histogram"
      ]
    },
    {
      "cell_type": "code",
      "metadata": {
        "colab": {
          "base_uri": "https://localhost:8080/",
          "height": 265
        },
        "id": "TdSdgKhYD1SA",
        "outputId": "43d637ce-830d-4ec8-86ab-e8a8b2d8699a"
      },
      "source": [
        "x = np.random.normal(loc=1, scale=5, size=50)\n",
        "s = pd.Series(x)\n",
        "\n",
        "s.hist()\n",
        "plt.show()"
      ],
      "execution_count": 91,
      "outputs": [
        {
          "output_type": "display_data",
          "data": {
            "image/png": "[encoded data removed]",
            "text/plain": [
              "<Figure size 432x288 with 1 Axes>"
            ]
          },
          "metadata": {
            "needs_background": "light"
          }
        }
      ]
    },
    {
      "cell_type": "markdown",
      "metadata": {
        "id": "sYy-yAIJ5bMV"
      },
      "source": [
        "## scatter matrix"
      ]
    },
    {
      "cell_type": "code",
      "metadata": {
        "id": "ddjXc1C55ddQ",
        "colab": {
          "base_uri": "https://localhost:8080/",
          "height": 290
        },
        "outputId": "a7bbf9cc-4182-4bce-bd18-c26c7325e92b"
      },
      "source": [
        "df = pd.DataFrame(np.random.randn(1000, 4), columns=['A','B','C','D'])\n",
        "\n",
        "pd.plotting.scatter_matrix(df, alpha=0.2)\n",
        "plt.show()"
      ],
      "execution_count": 92,
      "outputs": [
        {
          "output_type": "display_data",
          "data": {
            "image/png": "[encoded data removed]",
            "text/plain": [
              "<Figure size 432x288 with 16 Axes>"
            ]
          },
          "metadata": {
            "needs_background": "light"
          }
        }
      ]
    },
    {
      "cell_type": "code",
      "metadata": {
        "id": "56rZWzjU7z7d"
      },
      "source": [
        "import matplotlib.pyplot as plt"
      ],
      "execution_count": 93,
      "outputs": []
    },
    {
      "cell_type": "code",
      "metadata": {
        "id": "lSXL2MjJ8uBG"
      },
      "source": [
        "np.random.seed(5)"
      ],
      "execution_count": 94,
      "outputs": []
    },
    {
      "cell_type": "markdown",
      "metadata": {
        "id": "89jyRmSN_jMh"
      },
      "source": [
        "## DataFrame.plot의 함수들\n",
        "\n",
        "df.plot.xxx() 함수들은\n",
        "\n",
        "df.plot(kind=\"xxx\")와 동일하다.\n",
        "\n",
        "예를 들어 df.plot.bar()는 df.plot(kind=\"bar\")와 동일하다.\n"
      ]
    },
    {
      "cell_type": "markdown",
      "metadata": {
        "id": "DHYIW3bl_mw1"
      },
      "source": [
        "### bar()"
      ]
    },
    {
      "cell_type": "code",
      "metadata": {
        "colab": {
          "base_uri": "https://localhost:8080/",
          "height": 262
        },
        "id": "YvqD2CHo-UiM",
        "outputId": "a0328817-d46f-434e-9045-fd40faf22782"
      },
      "source": [
        "df = pd.DataFrame(np.random.randint(10, size=(10,4)), columns=list(\"ABCD\"))\n",
        "\n",
        "df.plot.bar()\n",
        "plt.show()\n"
      ],
      "execution_count": 95,
      "outputs": [
        {
          "output_type": "display_data",
          "data": {
            "image/png": "[encoded data removed]",
            "text/plain": [
              "<Figure size 432x288 with 1 Axes>"
            ]
          },
          "metadata": {
            "needs_background": "light"
          }
        }
      ]
    },
    {
      "cell_type": "markdown",
      "metadata": {
        "id": "koNwVbjd_ong"
      },
      "source": [
        "### barh()"
      ]
    },
    {
      "cell_type": "code",
      "metadata": {
        "colab": {
          "base_uri": "https://localhost:8080/",
          "height": 265
        },
        "id": "jE1viGpO-adQ",
        "outputId": "25967699-6722-4837-fdba-ce9da76e5c8f"
      },
      "source": [
        "df = pd.DataFrame(np.random.randint(10, size=(10,4)), columns=list(\"ABCD\"))\n",
        "\n",
        "df.plot.barh()\n",
        "plt.show()\n"
      ],
      "execution_count": 96,
      "outputs": [
        {
          "output_type": "display_data",
          "data": {
            "image/png": "[encoded data removed]",
            "text/plain": [
              "<Figure size 432x288 with 1 Axes>"
            ]
          },
          "metadata": {
            "needs_background": "light"
          }
        }
      ]
    },
    {
      "cell_type": "markdown",
      "metadata": {
        "id": "6MF4z0yT_p9g"
      },
      "source": [
        "### box()"
      ]
    },
    {
      "cell_type": "code",
      "metadata": {
        "colab": {
          "base_uri": "https://localhost:8080/",
          "height": 265
        },
        "id": "wA-yL5Un-eLF",
        "outputId": "e690e34c-4d44-4486-c325-6db7dd87892e"
      },
      "source": [
        "df = pd.DataFrame(np.random.randint(10, size=(10,4)), columns=list(\"ABCD\"))\n",
        "\n",
        "df.plot.box()\n",
        "plt.show()"
      ],
      "execution_count": 97,
      "outputs": [
        {
          "output_type": "display_data",
          "data": {
            "image/png": "[encoded data removed]",
            "text/plain": [
              "<Figure size 432x288 with 1 Axes>"
            ]
          },
          "metadata": {
            "needs_background": "light"
          }
        }
      ]
    },
    {
      "cell_type": "markdown",
      "metadata": {
        "id": "8JjQn0kC_rYi"
      },
      "source": [
        "### density()"
      ]
    },
    {
      "cell_type": "code",
      "metadata": {
        "colab": {
          "base_uri": "https://localhost:8080/",
          "height": 265
        },
        "id": "sQMB0FwU-h_n",
        "outputId": "f17912d7-9669-429f-993e-14633090923a"
      },
      "source": [
        "df = pd.DataFrame(np.random.randint(10, size=(10,4)), columns=list(\"ABCD\"))\n",
        "\n",
        "df.plot.density()\n",
        "plt.show()"
      ],
      "execution_count": 98,
      "outputs": [
        {
          "output_type": "display_data",
          "data": {
            "image/png": "[encoded data removed]",
            "text/plain": [
              "<Figure size 432x288 with 1 Axes>"
            ]
          },
          "metadata": {
            "needs_background": "light"
          }
        }
      ]
    },
    {
      "cell_type": "markdown",
      "metadata": {
        "id": "ORVjKIzg_tBs"
      },
      "source": [
        "### hist()"
      ]
    },
    {
      "cell_type": "code",
      "metadata": {
        "colab": {
          "base_uri": "https://localhost:8080/",
          "height": 265
        },
        "id": "vPg1gqna-lTc",
        "outputId": "37c48522-fdc8-483a-ac9a-d385cf724169"
      },
      "source": [
        "df = pd.DataFrame(np.random.randint(10, size=(10,4)), columns=list(\"ABCD\"))\n",
        "\n",
        "df.plot.hist()\n",
        "plt.show()"
      ],
      "execution_count": 99,
      "outputs": [
        {
          "output_type": "display_data",
          "data": {
            "image/png": "[encoded data removed]",
            "text/plain": [
              "<Figure size 432x288 with 1 Axes>"
            ]
          },
          "metadata": {
            "needs_background": "light"
          }
        }
      ]
    },
    {
      "cell_type": "markdown",
      "metadata": {
        "id": "MdSuOpcGAF6Y"
      },
      "source": [
        "### kde()"
      ]
    },
    {
      "cell_type": "code",
      "metadata": {
        "colab": {
          "base_uri": "https://localhost:8080/",
          "height": 267
        },
        "id": "HPAGPHyS-sCt",
        "outputId": "3d5bff7f-2fd7-4a46-cfd9-b3435d7ec8f0"
      },
      "source": [
        "df = pd.DataFrame(np.random.randint(10, size=(10,4)), columns=list(\"ABCD\"))\n",
        "\n",
        "df.plot.kde()\n",
        "plt.show()"
      ],
      "execution_count": 100,
      "outputs": [
        {
          "output_type": "display_data",
          "data": {
            "image/png": "[encoded data removed]",
            "text/plain": [
              "<Figure size 432x288 with 1 Axes>"
            ]
          },
          "metadata": {
            "needs_background": "light"
          }
        }
      ]
    },
    {
      "cell_type": "markdown",
      "metadata": {
        "id": "E7fp5h31AH5G"
      },
      "source": [
        "### line()"
      ]
    },
    {
      "cell_type": "code",
      "metadata": {
        "colab": {
          "base_uri": "https://localhost:8080/",
          "height": 265
        },
        "id": "stuGd8fe-vBD",
        "outputId": "bf9ec0f1-4ab1-4dee-95db-5c8f1d0d5ac3"
      },
      "source": [
        "df = pd.DataFrame(np.random.randint(10, size=(10,4)), columns=list(\"ABCD\"))\n",
        "\n",
        "df.plot.line()\n",
        "plt.show()"
      ],
      "execution_count": 101,
      "outputs": [
        {
          "output_type": "display_data",
          "data": {
            "image/png": "[encoded data removed]",
            "text/plain": [
              "<Figure size 432x288 with 1 Axes>"
            ]
          },
          "metadata": {
            "needs_background": "light"
          }
        }
      ]
    },
    {
      "cell_type": "markdown",
      "metadata": {
        "id": "ddZh3FuIAJSs"
      },
      "source": [
        "### pie()"
      ]
    },
    {
      "cell_type": "code",
      "metadata": {
        "colab": {
          "base_uri": "https://localhost:8080/",
          "height": 248
        },
        "id": "pitDKaGf-ycy",
        "outputId": "994482d4-8e9b-4a70-ad51-bbce83e50bba"
      },
      "source": [
        "df = pd.DataFrame(np.random.randint(10, size=(3,4)), columns=list(\"ABCD\"))\n",
        "\n",
        "df.plot.pie(y=\"A\")\n",
        "plt.show()"
      ],
      "execution_count": 102,
      "outputs": [
        {
          "output_type": "display_data",
          "data": {
            "image/png": "[encoded data removed]",
            "text/plain": [
              "<Figure size 432x288 with 1 Axes>"
            ]
          },
          "metadata": {}
        }
      ]
    },
    {
      "cell_type": "markdown",
      "metadata": {
        "id": "NLn55I8nALP8"
      },
      "source": [
        "### scatter()"
      ]
    },
    {
      "cell_type": "code",
      "metadata": {
        "colab": {
          "base_uri": "https://localhost:8080/",
          "height": 279
        },
        "id": "jRyjxZE_-7AQ",
        "outputId": "11eb4dab-8839-4e2f-a18e-bf76331af39c"
      },
      "source": [
        "df = pd.DataFrame(np.random.randint(10, size=(10,4)), columns=list(\"ABCD\"))\n",
        "\n",
        "df.plot.scatter(x=\"A\", y=\"B\")\n",
        "plt.show()"
      ],
      "execution_count": 103,
      "outputs": [
        {
          "output_type": "display_data",
          "data": {
            "image/png": "[encoded data removed]",
            "text/plain": [
              "<Figure size 432x288 with 1 Axes>"
            ]
          },
          "metadata": {
            "needs_background": "light"
          }
        }
      ]
    },
    {
      "cell_type": "markdown",
      "metadata": {
        "id": "ZpWhCEK3A9xg"
      },
      "source": [
        "## Series.plot의 함수들\n",
        "\n",
        "s.plot.xxx() 함수들은\n",
        "\n",
        "s.plot(kind=\"xxx\")와 동일하다.\n",
        "\n",
        "예를 들어 s.plot.bar()는 s.plot(kind=\"bar\")와 동일하다."
      ]
    },
    {
      "cell_type": "code",
      "metadata": {
        "colab": {
          "base_uri": "https://localhost:8080/",
          "height": 265
        },
        "id": "rkPJpTYcBuN4",
        "outputId": "b42bf87d-960d-475c-a6d4-44dfcc72d94e"
      },
      "source": [
        "df = pd.DataFrame(np.random.randint(10, size=(10,4)), columns=list(\"ABCD\"))\n",
        "\n",
        "df.A.plot()\n",
        "plt.show()\n",
        "\n",
        "# df.A.plot.line()과 같다."
      ],
      "execution_count": 104,
      "outputs": [
        {
          "output_type": "display_data",
          "data": {
            "image/png": "[encoded data removed]",
            "text/plain": [
              "<Figure size 432x288 with 1 Axes>"
            ]
          },
          "metadata": {
            "needs_background": "light"
          }
        }
      ]
    },
    {
      "cell_type": "markdown",
      "metadata": {
        "id": "wja1ga16A9xh"
      },
      "source": [
        "### bar()"
      ]
    },
    {
      "cell_type": "code",
      "metadata": {
        "colab": {
          "base_uri": "https://localhost:8080/",
          "height": 262
        },
        "id": "l4_51Vn4A9xh",
        "outputId": "cfe5f472-f98d-4efb-8b01-2d47742d2a4a"
      },
      "source": [
        "df = pd.DataFrame(np.random.randint(10, size=(10,4)), columns=list(\"ABCD\"))\n",
        "\n",
        "df.A.plot.bar()\n",
        "plt.show()\n"
      ],
      "execution_count": 105,
      "outputs": [
        {
          "output_type": "display_data",
          "data": {
            "image/png": "[encoded data removed]",
            "text/plain": [
              "<Figure size 432x288 with 1 Axes>"
            ]
          },
          "metadata": {
            "needs_background": "light"
          }
        }
      ]
    },
    {
      "cell_type": "markdown",
      "metadata": {
        "id": "24Hn04K_A9xi"
      },
      "source": [
        "### barh()"
      ]
    },
    {
      "cell_type": "code",
      "metadata": {
        "colab": {
          "base_uri": "https://localhost:8080/",
          "height": 265
        },
        "id": "RZ4XJLJ0A9xi",
        "outputId": "f93f84e2-7138-4b8b-ad45-0accf7667562"
      },
      "source": [
        "df = pd.DataFrame(np.random.randint(10, size=(10,4)), columns=list(\"ABCD\"))\n",
        "\n",
        "df.A.plot.barh()\n",
        "plt.show()\n"
      ],
      "execution_count": 106,
      "outputs": [
        {
          "output_type": "display_data",
          "data": {
            "image/png": "[encoded data removed]",
            "text/plain": [
              "<Figure size 432x288 with 1 Axes>"
            ]
          },
          "metadata": {
            "needs_background": "light"
          }
        }
      ]
    },
    {
      "cell_type": "markdown",
      "metadata": {
        "id": "DkxtU7V4A9xj"
      },
      "source": [
        "### box()"
      ]
    },
    {
      "cell_type": "code",
      "metadata": {
        "colab": {
          "base_uri": "https://localhost:8080/",
          "height": 265
        },
        "id": "d51iAVlmA9xj",
        "outputId": "ee157263-6568-478b-fa40-1ae731be9d1c"
      },
      "source": [
        "df = pd.DataFrame(np.random.randint(10, size=(10,4)), columns=list(\"ABCD\"))\n",
        "\n",
        "df.A.plot.box()\n",
        "plt.show()"
      ],
      "execution_count": 107,
      "outputs": [
        {
          "output_type": "display_data",
          "data": {
            "image/png": "[encoded data removed]",
            "text/plain": [
              "<Figure size 432x288 with 1 Axes>"
            ]
          },
          "metadata": {
            "needs_background": "light"
          }
        }
      ]
    },
    {
      "cell_type": "markdown",
      "metadata": {
        "id": "KpkK4AAuA9xj"
      },
      "source": [
        "### density()"
      ]
    },
    {
      "cell_type": "code",
      "metadata": {
        "colab": {
          "base_uri": "https://localhost:8080/",
          "height": 265
        },
        "id": "xcFxvyvNA9xj",
        "outputId": "829923fa-5750-491d-c610-2ab40b6b7d1c"
      },
      "source": [
        "df = pd.DataFrame(np.random.randint(10, size=(10,4)), columns=list(\"ABCD\"))\n",
        "\n",
        "df.A.plot.density()\n",
        "plt.show()"
      ],
      "execution_count": 108,
      "outputs": [
        {
          "output_type": "display_data",
          "data": {
            "image/png": "[encoded data removed]",
            "text/plain": [
              "<Figure size 432x288 with 1 Axes>"
            ]
          },
          "metadata": {
            "needs_background": "light"
          }
        }
      ]
    },
    {
      "cell_type": "markdown",
      "metadata": {
        "id": "QQCm98QsA9xk"
      },
      "source": [
        "### hist()"
      ]
    },
    {
      "cell_type": "code",
      "metadata": {
        "colab": {
          "base_uri": "https://localhost:8080/",
          "height": 265
        },
        "id": "0jZ43AtaA9xk",
        "outputId": "61ac3f98-3b7a-4b30-f3d1-b45251363b6e"
      },
      "source": [
        "df = pd.DataFrame(np.random.randint(10, size=(20,4)), columns=list(\"ABCD\"))\n",
        "\n",
        "df.A.plot.hist()\n",
        "plt.show()"
      ],
      "execution_count": 109,
      "outputs": [
        {
          "output_type": "display_data",
          "data": {
            "image/png": "[encoded data removed]",
            "text/plain": [
              "<Figure size 432x288 with 1 Axes>"
            ]
          },
          "metadata": {
            "needs_background": "light"
          }
        }
      ]
    },
    {
      "cell_type": "markdown",
      "metadata": {
        "id": "ZyqcpPnzA9xk"
      },
      "source": [
        "### kde()"
      ]
    },
    {
      "cell_type": "code",
      "metadata": {
        "colab": {
          "base_uri": "https://localhost:8080/",
          "height": 265
        },
        "id": "QEYYh7wGA9xk",
        "outputId": "13e7f9a1-c7e8-47dd-be4d-ccdebcf50227"
      },
      "source": [
        "df = pd.DataFrame(np.random.randint(10, size=(10,4)), columns=list(\"ABCD\"))\n",
        "\n",
        "df.A.plot.kde()\n",
        "plt.show()"
      ],
      "execution_count": 110,
      "outputs": [
        {
          "output_type": "display_data",
          "data": {
            "image/png": "[encoded data removed]",
            "text/plain": [
              "<Figure size 432x288 with 1 Axes>"
            ]
          },
          "metadata": {
            "needs_background": "light"
          }
        }
      ]
    },
    {
      "cell_type": "markdown",
      "metadata": {
        "id": "yR0EjblQA9xl"
      },
      "source": [
        "### line()"
      ]
    },
    {
      "cell_type": "code",
      "metadata": {
        "colab": {
          "base_uri": "https://localhost:8080/",
          "height": 265
        },
        "id": "SgXXLkiaA9xl",
        "outputId": "1f56156d-9ef8-4c52-c62d-68fd37d90170"
      },
      "source": [
        "df = pd.DataFrame(np.random.randint(10, size=(10,4)), columns=list(\"ABCD\"))\n",
        "\n",
        "df.A.plot.line()\n",
        "plt.show()"
      ],
      "execution_count": 111,
      "outputs": [
        {
          "output_type": "display_data",
          "data": {
            "image/png": "[encoded data removed]",
            "text/plain": [
              "<Figure size 432x288 with 1 Axes>"
            ]
          },
          "metadata": {
            "needs_background": "light"
          }
        }
      ]
    },
    {
      "cell_type": "markdown",
      "metadata": {
        "id": "m3fZW7s7A9xl"
      },
      "source": [
        "### pie()"
      ]
    },
    {
      "cell_type": "code",
      "metadata": {
        "colab": {
          "base_uri": "https://localhost:8080/",
          "height": 248
        },
        "id": "AoPKA6NiA9xm",
        "outputId": "6e94d1b3-dd33-4916-cb58-ce1118f2de24"
      },
      "source": [
        "df = pd.DataFrame(np.random.randint(10, size=(3,4)), columns=list(\"ABCD\"))\n",
        "\n",
        "df.A.plot.pie(y=\"A\")\n",
        "plt.show()"
      ],
      "execution_count": 112,
      "outputs": [
        {
          "output_type": "display_data",
          "data": {
            "image/png": "[encoded data removed]",
            "text/plain": [
              "<Figure size 432x288 with 1 Axes>"
            ]
          },
          "metadata": {}
        }
      ]
    },
    {
      "cell_type": "markdown",
      "metadata": {
        "id": "mqbHAUYkA2bz"
      },
      "source": [
        "## 기타"
      ]
    },
    {
      "cell_type": "markdown",
      "metadata": {
        "id": "wChDRQpa82cA"
      },
      "source": [
        "### column별 historgram"
      ]
    },
    {
      "cell_type": "code",
      "metadata": {
        "id": "lgu86-2hBC6P",
        "colab": {
          "base_uri": "https://localhost:8080/",
          "height": 281
        },
        "outputId": "16d49ff8-206b-49c5-f593-944aea2ed0db"
      },
      "source": [
        "df = pd.DataFrame(np.random.randn(1000, 4), columns=list(\"ABCD\"))\n",
        "df = df.cumsum()\n",
        "\n",
        "df.diff().hist()\n",
        "plt.show()"
      ],
      "execution_count": 113,
      "outputs": [
        {
          "output_type": "display_data",
          "data": {
            "image/png": "[encoded data removed]",
            "text/plain": [
              "<Figure size 432x288 with 4 Axes>"
            ]
          },
          "metadata": {
            "needs_background": "light"
          }
        }
      ]
    },
    {
      "cell_type": "code",
      "metadata": {
        "id": "n9u2uVKtBC2x"
      },
      "source": [
        ""
      ],
      "execution_count": 113,
      "outputs": []
    },
    {
      "cell_type": "code",
      "metadata": {
        "id": "90gH4dG3BCtw"
      },
      "source": [
        ""
      ],
      "execution_count": 113,
      "outputs": []
    },
    {
      "cell_type": "code",
      "metadata": {
        "id": "vfUSF6aQBCiY"
      },
      "source": [
        ""
      ],
      "execution_count": 113,
      "outputs": []
    },
    {
      "cell_type": "markdown",
      "metadata": {
        "id": "KGsory8vjutx"
      },
      "source": [
        "# 기타 기능들\n",
        "\n",
        "https://www.datacamp.com/community/blog/python-pandas-cheat-sheet 참조"
      ]
    },
    {
      "cell_type": "markdown",
      "metadata": {
        "id": "sFamy1a1i5Gp"
      },
      "source": [
        "## numpy로 변환"
      ]
    },
    {
      "cell_type": "code",
      "metadata": {
        "id": "Rt2wLbhRiEaT",
        "colab": {
          "base_uri": "https://localhost:8080/"
        },
        "outputId": "c2ad2ede-49aa-47bf-b291-cc849e83a156"
      },
      "source": [
        "df = pd.DataFrame(\n",
        "        {\"AAA\": [4, 5, 6, 7], \"BBB\": [10, 20, 30, 40], \"CCC\": [100, 50, -30, -50]}\n",
        ")\n",
        "n = df.to_numpy()\n",
        "print(n)"
      ],
      "execution_count": 114,
      "outputs": [
        {
          "output_type": "stream",
          "name": "stdout",
          "text": [
            "[[  4  10 100]\n",
            " [  5  20  50]\n",
            " [  6  30 -30]\n",
            " [  7  40 -50]]\n"
          ]
        }
      ]
    },
    {
      "cell_type": "code",
      "metadata": {
        "id": "nODR3tKojFCb",
        "outputId": "3d7536e6-5bc6-4f5b-ad09-27635acebe8a",
        "colab": {
          "base_uri": "https://localhost:8080/"
        }
      },
      "source": [
        "df = pd.DataFrame(\n",
        "        {\"AAA\": [4, 5, 6, 7], \"BBB\": [10, 20, 30, 40], \"CCC\": [100, 50, -30, -50]}\n",
        ")\n",
        "\n",
        "x = df[ ['AAA', 'BBB']].to_numpy()\n",
        "print(x)\n",
        "\n",
        "y = df.CCC.to_numpy()\n",
        "print(y)"
      ],
      "execution_count": 115,
      "outputs": [
        {
          "output_type": "stream",
          "name": "stdout",
          "text": [
            "[[ 4 10]\n",
            " [ 5 20]\n",
            " [ 6 30]\n",
            " [ 7 40]]\n",
            "[100  50 -30 -50]\n"
          ]
        }
      ]
    },
    {
      "cell_type": "markdown",
      "source": [
        "## shuffle"
      ],
      "metadata": {
        "id": "YJeQOJipx4L5"
      }
    },
    {
      "cell_type": "code",
      "source": [
        "df = pd.DataFrame(\n",
        "        {\"AAA\": [4, 5, 6, 7], \"BBB\": [10, 20, 30, 40], \"CCC\": [100, 50, -30, -50]}\n",
        ")\n",
        "print(df)\n",
        "print()\n",
        "\n",
        "df = df.sample(frac=1).reset_index(drop=True)\n",
        "\n",
        "print(df)"
      ],
      "metadata": {
        "id": "WCv0j9flx6CN",
        "outputId": "d6f3e59f-073f-4614-b2ba-71f0614bbf06",
        "colab": {
          "base_uri": "https://localhost:8080/"
        }
      },
      "execution_count": 116,
      "outputs": [
        {
          "output_type": "stream",
          "name": "stdout",
          "text": [
            "   AAA  BBB  CCC\n",
            "0    4   10  100\n",
            "1    5   20   50\n",
            "2    6   30  -30\n",
            "3    7   40  -50\n",
            "\n",
            "   AAA  BBB  CCC\n",
            "0    5   20   50\n",
            "1    7   40  -50\n",
            "2    6   30  -30\n",
            "3    4   10  100\n"
          ]
        }
      ]
    },
    {
      "cell_type": "markdown",
      "source": [
        "## one-hot 인코딩"
      ],
      "metadata": {
        "id": "Y4TI2wa5xNFx"
      }
    },
    {
      "cell_type": "code",
      "metadata": {
        "outputId": "04fde527-1126-4e04-97ca-79ddd8f0d06b",
        "colab": {
          "base_uri": "https://localhost:8080/"
        },
        "id": "mtRtmb3zzsDL"
      },
      "source": [
        "df = pd.DataFrame(\n",
        "        {\"AAA\": [0, 1, 2, 0, 1, 2], \"BBB\": [10, 20, 30, 40, 50, 60]}\n",
        ")\n",
        "\n",
        "print(df)\n",
        "print()\n",
        "\n",
        "df = pd.get_dummies(df, columns = ['AAA'])\n",
        "print(df)\n"
      ],
      "execution_count": 117,
      "outputs": [
        {
          "output_type": "stream",
          "name": "stdout",
          "text": [
            "   AAA  BBB\n",
            "0    0   10\n",
            "1    1   20\n",
            "2    2   30\n",
            "3    0   40\n",
            "4    1   50\n",
            "5    2   60\n",
            "\n",
            "   BBB  AAA_0  AAA_1  AAA_2\n",
            "0   10      1      0      0\n",
            "1   20      0      1      0\n",
            "2   30      0      0      1\n",
            "3   40      1      0      0\n",
            "4   50      0      1      0\n",
            "5   60      0      0      1\n"
          ]
        }
      ]
    },
    {
      "cell_type": "code",
      "source": [
        "df = pd.DataFrame(\n",
        "        {\"AAA\": ['A', 'B', 'C', 'A', 'B', 'C'], \"BBB\": [10, 20, 30, 40, 50, 60]}\n",
        ")\n",
        "\n",
        "print(df)\n",
        "print()\n",
        "\n",
        "df = pd.get_dummies(df, columns = ['AAA'])\n",
        "print(df)\n"
      ],
      "metadata": {
        "id": "rtXghkmfxkPq",
        "outputId": "2199b30a-9061-421b-b775-48c1a0b9cde6",
        "colab": {
          "base_uri": "https://localhost:8080/"
        }
      },
      "execution_count": 118,
      "outputs": [
        {
          "output_type": "stream",
          "name": "stdout",
          "text": [
            "  AAA  BBB\n",
            "0   A   10\n",
            "1   B   20\n",
            "2   C   30\n",
            "3   A   40\n",
            "4   B   50\n",
            "5   C   60\n",
            "\n",
            "   BBB  AAA_A  AAA_B  AAA_C\n",
            "0   10      1      0      0\n",
            "1   20      0      1      0\n",
            "2   30      0      0      1\n",
            "3   40      1      0      0\n",
            "4   50      0      1      0\n",
            "5   60      0      0      1\n"
          ]
        }
      ]
    },
    {
      "cell_type": "code",
      "metadata": {
        "id": "43gLO1ICjaa7"
      },
      "source": [
        ""
      ],
      "execution_count": 118,
      "outputs": []
    },
    {
      "cell_type": "markdown",
      "metadata": {
        "id": "o6XBP5MijbCo"
      },
      "source": [
        "## 데이터 저장\n"
      ]
    },
    {
      "cell_type": "code",
      "metadata": {
        "id": "0AcNMVpCjdQQ",
        "colab": {
          "base_uri": "https://localhost:8080/"
        },
        "outputId": "913e7463-8707-4628-d471-fe9db72ce3df"
      },
      "source": [
        "df.to_csv('saved.csv')\n",
        "!head -10 saved.csv"
      ],
      "execution_count": 119,
      "outputs": [
        {
          "output_type": "stream",
          "name": "stdout",
          "text": [
            ",BBB,AAA_A,AAA_B,AAA_C\n",
            "0,10,1,0,0\n",
            "1,20,0,1,0\n",
            "2,30,0,0,1\n",
            "3,40,1,0,0\n",
            "4,50,0,1,0\n",
            "5,60,0,0,1\n"
          ]
        }
      ]
    },
    {
      "cell_type": "markdown",
      "metadata": {
        "id": "liVCABFKkAM0"
      },
      "source": [
        "##  엑셀 파일 읽기/쓰기"
      ]
    },
    {
      "cell_type": "code",
      "metadata": {
        "id": "0W1IxT0okD5R",
        "colab": {
          "base_uri": "https://localhost:8080/"
        },
        "outputId": "d99b0742-f611-45ac-f565-8457315d01b5"
      },
      "source": [
        "df.to_excel(\"saved.xlsx\")\n",
        "!ls -al "
      ],
      "execution_count": 120,
      "outputs": [
        {
          "output_type": "stream",
          "name": "stdout",
          "text": [
            "total 4048\n",
            "drwxr-xr-x 1 root root    4096 Jan 12 00:29 .\n",
            "drwxr-xr-x 1 root root    4096 Jan 12 00:27 ..\n",
            "drwxr-xr-x 4 root root    4096 Jan  7 14:33 .config\n",
            "-rw-r--r-- 1 root root 4115852 Jan 12 00:28 RegularSeasonCompactResults.csv\n",
            "drwxr-xr-x 1 root root    4096 Jan  7 14:33 sample_data\n",
            "-rw-r--r-- 1 root root      89 Jan 12 00:29 saved.csv\n",
            "-rw-r--r-- 1 root root    5107 Jan 12 00:29 saved.xlsx\n"
          ]
        }
      ]
    },
    {
      "cell_type": "code",
      "metadata": {
        "id": "m-BqpbwqkKzX"
      },
      "source": [
        "df2 = pd.read_excel('saved.xlsx')"
      ],
      "execution_count": 121,
      "outputs": []
    },
    {
      "cell_type": "code",
      "metadata": {
        "id": "3znoNI5KkWZ5",
        "colab": {
          "base_uri": "https://localhost:8080/",
          "height": 206
        },
        "outputId": "27c254f2-23ae-4dc3-ca38-e23f8cc3465f"
      },
      "source": [
        "df2.head()"
      ],
      "execution_count": 122,
      "outputs": [
        {
          "output_type": "execute_result",
          "data": {
            "text/html": [
              "\n",
              "  <div id=\"df-2e4aa969-9f18-4dc3-820a-7144178f1eea\">\n",
              "    <div class=\"colab-df-container\">\n",
              "      <div>\n",
              "<style scoped>\n",
              "    .dataframe tbody tr th:only-of-type {\n",
              "        vertical-align: middle;\n",
              "    }\n",
              "\n",
              "    .dataframe tbody tr th {\n",
              "        vertical-align: top;\n",
              "    }\n",
              "\n",
              "    .dataframe thead th {\n",
              "        text-align: right;\n",
              "    }\n",
              "</style>\n",
              "<table border=\"1\" class=\"dataframe\">\n",
              "  <thead>\n",
              "    <tr style=\"text-align: right;\">\n",
              "      <th></th>\n",
              "      <th>Unnamed: 0</th>\n",
              "      <th>BBB</th>\n",
              "      <th>AAA_A</th>\n",
              "      <th>AAA_B</th>\n",
              "      <th>AAA_C</th>\n",
              "    </tr>\n",
              "  </thead>\n",
              "  <tbody>\n",
              "    <tr>\n",
              "      <th>0</th>\n",
              "      <td>0</td>\n",
              "      <td>10</td>\n",
              "      <td>1</td>\n",
              "      <td>0</td>\n",
              "      <td>0</td>\n",
              "    </tr>\n",
              "    <tr>\n",
              "      <th>1</th>\n",
              "      <td>1</td>\n",
              "      <td>20</td>\n",
              "      <td>0</td>\n",
              "      <td>1</td>\n",
              "      <td>0</td>\n",
              "    </tr>\n",
              "    <tr>\n",
              "      <th>2</th>\n",
              "      <td>2</td>\n",
              "      <td>30</td>\n",
              "      <td>0</td>\n",
              "      <td>0</td>\n",
              "      <td>1</td>\n",
              "    </tr>\n",
              "    <tr>\n",
              "      <th>3</th>\n",
              "      <td>3</td>\n",
              "      <td>40</td>\n",
              "      <td>1</td>\n",
              "      <td>0</td>\n",
              "      <td>0</td>\n",
              "    </tr>\n",
              "    <tr>\n",
              "      <th>4</th>\n",
              "      <td>4</td>\n",
              "      <td>50</td>\n",
              "      <td>0</td>\n",
              "      <td>1</td>\n",
              "      <td>0</td>\n",
              "    </tr>\n",
              "  </tbody>\n",
              "</table>\n",
              "</div>\n",
              "      <button class=\"colab-df-convert\" onclick=\"convertToInteractive('df-2e4aa969-9f18-4dc3-820a-7144178f1eea')\"\n",
              "              title=\"Convert this dataframe to an interactive table.\"\n",
              "              style=\"display:none;\">\n",
              "        \n",
              "  <svg xmlns=\"http://www.w3.org/2000/svg\" height=\"24px\"viewBox=\"0 0 24 24\"\n",
              "       width=\"24px\">\n",
              "    <path d=\"M0 0h24v24H0V0z\" fill=\"none\"/>\n",
              "    <path d=\"M18.56 5.44l.94 2.06.94-2.06 2.06-.94-2.06-.94-.94-2.06-.94 2.06-2.06.94zm-11 1L8.5 8.5l.94-2.06 2.06-.94-2.06-.94L8.5 2.5l-.94 2.06-2.06.94zm10 10l.94 2.06.94-2.06 2.06-.94-2.06-.94-.94-2.06-.94 2.06-2.06.94z\"/><path d=\"M17.41 7.96l-1.37-1.37c-.4-.4-.92-.59-1.43-.59-.52 0-1.04.2-1.43.59L10.3 9.45l-7.72 7.72c-.78.78-.78 2.05 0 2.83L4 21.41c.39.39.9.59 1.41.59.51 0 1.02-.2 1.41-.59l7.78-7.78 2.81-2.81c.8-.78.8-2.07 0-2.86zM5.41 20L4 18.59l7.72-7.72 1.47 1.35L5.41 20z\"/>\n",
              "  </svg>\n",
              "      </button>\n",
              "      \n",
              "  <style>\n",
              "    .colab-df-container {\n",
              "      display:flex;\n",
              "      flex-wrap:wrap;\n",
              "      gap: 12px;\n",
              "    }\n",
              "\n",
              "    .colab-df-convert {\n",
              "      background-color: #E8F0FE;\n",
              "      border: none;\n",
              "      border-radius: 50%;\n",
              "      cursor: pointer;\n",
              "      display: none;\n",
              "      fill: #1967D2;\n",
              "      height: 32px;\n",
              "      padding: 0 0 0 0;\n",
              "      width: 32px;\n",
              "    }\n",
              "\n",
              "    .colab-df-convert:hover {\n",
              "      background-color: #E2EBFA;\n",
              "      box-shadow: 0px 1px 2px rgba(60, 64, 67, 0.3), 0px 1px 3px 1px rgba(60, 64, 67, 0.15);\n",
              "      fill: #174EA6;\n",
              "    }\n",
              "\n",
              "    [theme=dark] .colab-df-convert {\n",
              "      background-color: #3B4455;\n",
              "      fill: #D2E3FC;\n",
              "    }\n",
              "\n",
              "    [theme=dark] .colab-df-convert:hover {\n",
              "      background-color: #434B5C;\n",
              "      box-shadow: 0px 1px 3px 1px rgba(0, 0, 0, 0.15);\n",
              "      filter: drop-shadow(0px 1px 2px rgba(0, 0, 0, 0.3));\n",
              "      fill: #FFFFFF;\n",
              "    }\n",
              "  </style>\n",
              "\n",
              "      <script>\n",
              "        const buttonEl =\n",
              "          document.querySelector('#df-2e4aa969-9f18-4dc3-820a-7144178f1eea button.colab-df-convert');\n",
              "        buttonEl.style.display =\n",
              "          google.colab.kernel.accessAllowed ? 'block' : 'none';\n",
              "\n",
              "        async function convertToInteractive(key) {\n",
              "          const element = document.querySelector('#df-2e4aa969-9f18-4dc3-820a-7144178f1eea');\n",
              "          const dataTable =\n",
              "            await google.colab.kernel.invokeFunction('convertToInteractive',\n",
              "                                                     [key], {});\n",
              "          if (!dataTable) return;\n",
              "\n",
              "          const docLinkHtml = 'Like what you see? Visit the ' +\n",
              "            '<a target=\"_blank\" href=https://colab.research.google.com/notebooks/data_table.ipynb>data table notebook</a>'\n",
              "            + ' to learn more about interactive tables.';\n",
              "          element.innerHTML = '';\n",
              "          dataTable['output_type'] = 'display_data';\n",
              "          await google.colab.output.renderOutput(dataTable, element);\n",
              "          const docLink = document.createElement('div');\n",
              "          docLink.innerHTML = docLinkHtml;\n",
              "          element.appendChild(docLink);\n",
              "        }\n",
              "      </script>\n",
              "    </div>\n",
              "  </div>\n",
              "  "
            ],
            "text/plain": [
              "   Unnamed: 0  BBB  AAA_A  AAA_B  AAA_C\n",
              "0           0   10      1      0      0\n",
              "1           1   20      0      1      0\n",
              "2           2   30      0      0      1\n",
              "3           3   40      1      0      0\n",
              "4           4   50      0      1      0"
            ]
          },
          "metadata": {},
          "execution_count": 122
        }
      ]
    },
    {
      "cell_type": "code",
      "metadata": {
        "id": "s1eC2SURkXOR"
      },
      "source": [
        ""
      ],
      "execution_count": 122,
      "outputs": []
    }
  ]
}