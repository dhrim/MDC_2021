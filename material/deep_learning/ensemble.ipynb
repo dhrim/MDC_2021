{
  "nbformat": 4,
  "nbformat_minor": 0,
  "metadata": {
    "colab": {
      "name": "ensemble.ipynb",
      "provenance": [],
      "collapsed_sections": [],
      "toc_visible": true
    },
    "kernelspec": {
      "name": "python3",
      "display_name": "Python 3"
    },
    "accelerator": "GPU"
  },
  "cells": [
    {
      "cell_type": "markdown",
      "metadata": {
        "id": "cHcZ3XNF2qkV"
      },
      "source": [
        "# 모델 앙상블"
      ]
    },
    {
      "cell_type": "code",
      "metadata": {
        "id": "vP9m1uS2fxj1"
      },
      "source": [
        "import numpy as np\n",
        "import pandas as pd\n",
        "import matplotlib.pyplot as plt\n",
        "\n",
        "import tensorflow as tf\n",
        "from tensorflow import keras\n",
        "from tensorflow.keras import optimizers\n",
        "from tensorflow.keras.layers import Dense, Flatten, Conv2D, MaxPooling2D, Input, Reshape\n",
        "\n",
        "import time"
      ],
      "execution_count": 39,
      "outputs": []
    },
    {
      "cell_type": "markdown",
      "source": [
        "# 회귀 문제"
      ],
      "metadata": {
        "id": "ZOi5p_5IPnsW"
      }
    },
    {
      "cell_type": "code",
      "source": [
        "x = np.arange(-1, 1, 0.01)\n",
        "np.random.shuffle(x)\n",
        "y = np.sin(x)\n",
        "\n",
        "i = int(x.shape[0]*0.8)\n",
        "\n",
        "train_x, test_x = x[:i], x[i:]\n",
        "train_y, test_y = y[:i], y[i:]\n"
      ],
      "metadata": {
        "id": "qlmHyE3yoB78"
      },
      "execution_count": 12,
      "outputs": []
    },
    {
      "cell_type": "code",
      "source": [
        "def build_model():  \n",
        "  model = keras.Sequential()\n",
        "  model.add(Input((1,)))\n",
        "  model.add(Dense(10, activation='relu'))\n",
        "  model.add(Dense(10, activation='relu'))\n",
        "  model.add(Dense(1))\n",
        "\n",
        "  model.compile(optimizer=\"Adam\", loss=\"mse\")\n",
        "\n",
        "  return model"
      ],
      "metadata": {
        "id": "Gt6Fyj6Foqqs"
      },
      "execution_count": 13,
      "outputs": []
    },
    {
      "cell_type": "code",
      "source": [
        "n_members = 3"
      ],
      "metadata": {
        "id": "foB2ZO4do4Ma"
      },
      "execution_count": 14,
      "outputs": []
    },
    {
      "cell_type": "code",
      "source": [
        "models = []\n",
        "for _ in range(n_members):\n",
        "\tmodel = build_model()\n",
        "\tmodels.append(model)"
      ],
      "metadata": {
        "id": "pGOI_eN6o4Ma"
      },
      "execution_count": 15,
      "outputs": []
    },
    {
      "cell_type": "code",
      "source": [
        "for i in range(n_members):\n",
        "\tmodels[i].fit(train_x, train_y, epochs=1, batch_size=32)"
      ],
      "metadata": {
        "colab": {
          "base_uri": "https://localhost:8080/"
        },
        "id": "JCqPO0iZo957",
        "outputId": "3455b5af-d0ab-49dc-fbba-eb643502efc9"
      },
      "execution_count": 16,
      "outputs": [
        {
          "output_type": "stream",
          "name": "stdout",
          "text": [
            "5/5 [==============================] - 0s 3ms/step - loss: 0.3691\n",
            "5/5 [==============================] - 0s 3ms/step - loss: 0.3681\n",
            "5/5 [==============================] - 0s 3ms/step - loss: 0.3710\n"
          ]
        }
      ]
    },
    {
      "cell_type": "code",
      "source": [
        "y_ = [model.predict(test_x) for model in models]\n",
        "y_ = np.array(y_)\n",
        "print(\"y_.shape =\", y_.shape)\n",
        "outcomes = np.mean(y_,axis=0).squeeze()\n",
        "print(\"outcomes.shape =\", outcomes.shape)\n",
        "\n",
        "mse = tf.keras.losses.mean_squared_error(test_y, outcomes).numpy()\n",
        "print(\"mse =\", mse)"
      ],
      "metadata": {
        "colab": {
          "base_uri": "https://localhost:8080/"
        },
        "id": "VSG_Eq5rpCHZ",
        "outputId": "53316897-1d26-4b18-89e7-8a978ca497b4"
      },
      "execution_count": 37,
      "outputs": [
        {
          "output_type": "stream",
          "name": "stdout",
          "text": [
            "y_.shape = (3, 40, 1)\n",
            "outcomes.shape = (40,)\n",
            "mse = 0.26387078\n"
          ]
        }
      ]
    },
    {
      "cell_type": "markdown",
      "source": [
        "# 분류 문제"
      ],
      "metadata": {
        "id": "NkUCBH2zPtGa"
      }
    },
    {
      "cell_type": "code",
      "metadata": {
        "id": "h-Hlstlof5l6"
      },
      "source": [
        "(raw_train_x, raw_train_y), (raw_test_x, raw_test_y) = tf.keras.datasets.mnist.load_data()\n",
        "\n",
        "train_x = raw_train_x / 255.\n",
        "test_x = raw_test_x / 255.\n",
        "\n",
        "train_y = raw_train_y\n",
        "test_y = raw_test_y"
      ],
      "execution_count": 10,
      "outputs": []
    },
    {
      "cell_type": "code",
      "source": [
        "def build_model():  \n",
        "  model = keras.Sequential()\n",
        "  model.add(Input((28,28)))\n",
        "  model.add(Reshape((28,28,1)))\n",
        "  model.add(Conv2D(32, (3, 3), padding='same'))\n",
        "  model.add(MaxPooling2D((2, 2)))\n",
        "  model.add(Conv2D(64, (3, 3), padding='same'))\n",
        "  model.add(MaxPooling2D((2, 2)))\n",
        "  model.add(Flatten())\n",
        "  model.add(Dense(10, activation='relu'))\n",
        "  model.add(Dense(10, activation='relu'))\n",
        "  model.add(Dense(10, activation='softmax'))\n",
        "\n",
        "  model.compile(optimizer=\"Adam\", loss=\"sparse_categorical_crossentropy\", metrics=[\"accuracy\"])\n",
        "\n",
        "  return model"
      ],
      "metadata": {
        "id": "2YqlPL3pD_Qx"
      },
      "execution_count": 3,
      "outputs": []
    },
    {
      "cell_type": "code",
      "source": [
        "n_members = 3"
      ],
      "metadata": {
        "id": "eMq3r9DgLKL9"
      },
      "execution_count": 4,
      "outputs": []
    },
    {
      "cell_type": "code",
      "source": [
        "models = []\n",
        "for _ in range(n_members):\n",
        "\tmodel = build_model()\n",
        "\tmodels.append(model)"
      ],
      "metadata": {
        "id": "Kjx2SlVyLH3E"
      },
      "execution_count": 5,
      "outputs": []
    },
    {
      "cell_type": "code",
      "source": [
        "for i in range(n_members):\n",
        "\tmodels[i].fit(train_x, train_y, epochs=1, batch_size=32)"
      ],
      "metadata": {
        "colab": {
          "base_uri": "https://localhost:8080/"
        },
        "id": "5rXaam5dLezt",
        "outputId": "7d1bfce4-f4de-44e7-9215-716a296430c4"
      },
      "execution_count": 6,
      "outputs": [
        {
          "output_type": "stream",
          "name": "stdout",
          "text": [
            "1875/1875 [==============================] - 14s 3ms/step - loss: 0.4200 - accuracy: 0.8734\n",
            "1875/1875 [==============================] - 7s 3ms/step - loss: 0.4950 - accuracy: 0.8433\n",
            "1875/1875 [==============================] - 9s 4ms/step - loss: 0.3725 - accuracy: 0.8854\n"
          ]
        }
      ]
    },
    {
      "cell_type": "code",
      "source": [
        "from sklearn.metrics import accuracy_score\n",
        "\n",
        "y_ = [model.predict(test_x) for model in models]\n",
        "summed = np.sum(y_, axis=0)\n",
        "print(summed[0])\n",
        "outcomes = np.argmax(summed, axis=1)\n",
        "print(outcomes)\n",
        "\n",
        "acc = accuracy_score(test_y, outcomes)\n",
        "print(acc)\n"
      ],
      "metadata": {
        "colab": {
          "base_uri": "https://localhost:8080/"
        },
        "id": "PcT3ovzXMfPB",
        "outputId": "d9d088bb-0545-4c6a-de24-8e8c98b3b92e"
      },
      "execution_count": 11,
      "outputs": [
        {
          "output_type": "stream",
          "name": "stdout",
          "text": [
            "[3.9812742e-04 4.7774888e-03 5.7814235e-05 3.6314296e-04 2.1569857e-04\n",
            " 6.4500101e-04 3.4116878e-04 2.9925301e+00 6.6051522e-05 6.0542283e-04]\n",
            "[7 2 1 ... 4 5 6]\n",
            "0.9725\n"
          ]
        }
      ]
    },
    {
      "cell_type": "code",
      "source": [
        "\n",
        "# combine predictions\n",
        "#===============================================\n",
        "# 회귀 문제인 경우 평균값을 계산\n",
        "# make predictions\n",
        "yhats = [model.predict(testX) for model in models]\n",
        "yhats = array(yhats)\n",
        "# calculate average\n",
        "outcomes = mean(yhats)\n",
        "#===============================================\n",
        "# (이진) 분류 문제인 경우 모드를 계산\n",
        "# make predictions\n",
        "yhats = [model.predict_classes(testX) for model in models]\n",
        "yhats = array(yhats)\n",
        "# calculate mode\n",
        "outcomes, _ = mode(yhats)\n",
        "#===============================================\n",
        "# (멀티) 분류 문제인 경우 softmax 적용 후 argmax로 계산\n",
        "# make predictions\n",
        "#==============================================="
      ],
      "metadata": {
        "id": "xVim4UmHK-zE"
      },
      "execution_count": null,
      "outputs": []
    },
    {
      "cell_type": "code",
      "source": [
        "fold_count = 5"
      ],
      "metadata": {
        "id": "Eb-cHHxQFE2l"
      },
      "execution_count": null,
      "outputs": []
    },
    {
      "cell_type": "code",
      "source": [
        "from sklearn.model_selection import KFold\n",
        "\n",
        "kfold = KFold(n_splits=fold_count, shuffle=True)\n",
        "\n",
        "losses = []\n",
        "acces = []\n",
        "\n",
        "for train, test in kfold.split(x, y):\n",
        "\n",
        "  model = build_model()\n",
        "\n",
        "  history = model.fit(x[train], y[train], batch_size=32, epochs=2, validation_split=0.2)\n",
        "\n",
        "  loss, acc = model.evaluate(x[test], y[test])\n",
        "  print(\"loss =\", loss)\n",
        "  print(\"acc =\", acc)\n",
        "  losses.append(loss)\n",
        "  acces.append(acc)\n"
      ],
      "metadata": {
        "id": "toW1L30ZDfEI",
        "outputId": "1cd221a2-ba9e-4558-c422-a05d773c99ea",
        "colab": {
          "base_uri": "https://localhost:8080/"
        }
      },
      "execution_count": null,
      "outputs": [
        {
          "output_type": "stream",
          "name": "stdout",
          "text": [
            "Epoch 1/2\n",
            "1400/1400 [==============================] - 14s 4ms/step - loss: 0.0125 - accuracy: 0.0981 - val_loss: 1.9060e-06 - val_accuracy: 0.0996\n",
            "Epoch 2/2\n",
            "1400/1400 [==============================] - 6s 4ms/step - loss: 1.2763e-06 - accuracy: 0.0982 - val_loss: 8.5174e-07 - val_accuracy: 0.0996\n",
            "438/438 [==============================] - 1s 3ms/step - loss: 8.7368e-07 - accuracy: 0.0991\n",
            "loss = 8.736839731682267e-07\n",
            "acc = 0.0990714281797409\n",
            "Epoch 1/2\n",
            "1400/1400 [==============================] - 6s 4ms/step - loss: 0.0226 - accuracy: 0.0975 - val_loss: 1.5549e-06 - val_accuracy: 0.0979\n",
            "Epoch 2/2\n",
            "1400/1400 [==============================] - 5s 3ms/step - loss: 8.0938e-07 - accuracy: 0.0990 - val_loss: 4.0424e-07 - val_accuracy: 0.0979\n",
            "438/438 [==============================] - 2s 4ms/step - loss: 3.9321e-07 - accuracy: 0.0981\n",
            "loss = 3.932102004000626e-07\n",
            "acc = 0.09814285486936569\n",
            "Epoch 1/2\n",
            "1400/1400 [==============================] - 7s 5ms/step - loss: 0.0140 - accuracy: 0.0981 - val_loss: 4.1276e-08 - val_accuracy: 0.0982\n",
            "Epoch 2/2\n",
            "1400/1400 [==============================] - 6s 5ms/step - loss: 4.7399e-08 - accuracy: 0.0982 - val_loss: 3.8743e-08 - val_accuracy: 0.0982\n",
            "438/438 [==============================] - 2s 4ms/step - loss: 4.4507e-08 - accuracy: 0.1001\n",
            "loss = 4.4507480367883545e-08\n",
            "acc = 0.10014285892248154\n",
            "Epoch 1/2\n",
            "1400/1400 [==============================] - 8s 5ms/step - loss: 0.0118 - accuracy: 0.0985 - val_loss: 7.6881e-07 - val_accuracy: 0.0982\n",
            "Epoch 2/2\n",
            "1400/1400 [==============================] - 6s 4ms/step - loss: 5.9121e-07 - accuracy: 0.0987 - val_loss: 4.4916e-07 - val_accuracy: 0.0982\n",
            "438/438 [==============================] - 1s 3ms/step - loss: 4.5475e-07 - accuracy: 0.0987\n",
            "loss = 4.5475235310732387e-07\n",
            "acc = 0.09871428459882736\n",
            "Epoch 1/2\n",
            "1400/1400 [==============================] - 7s 5ms/step - loss: 0.5652 - accuracy: 0.0992 - val_loss: 0.0255 - val_accuracy: 0.0968\n",
            "Epoch 2/2\n",
            "1400/1400 [==============================] - 6s 5ms/step - loss: 0.0110 - accuracy: 0.0996 - val_loss: 0.0045 - val_accuracy: 0.0968\n",
            "438/438 [==============================] - 1s 3ms/step - loss: 0.0045 - accuracy: 0.0970\n",
            "loss = 0.004454826470464468\n",
            "acc = 0.09700000286102295\n"
          ]
        }
      ]
    },
    {
      "cell_type": "code",
      "source": [
        "average_acc = sum(acces) / fold_count\n",
        "print(\"average acc=\", average_acc)"
      ],
      "metadata": {
        "id": "pKysy8SQEzjs",
        "outputId": "5cc97517-3171-4acc-c74b-94fd4ced5218",
        "colab": {
          "base_uri": "https://localhost:8080/"
        }
      },
      "execution_count": null,
      "outputs": [
        {
          "output_type": "stream",
          "name": "stdout",
          "text": [
            "average acc= 0.09861428588628769\n"
          ]
        }
      ]
    },
    {
      "cell_type": "code",
      "source": [
        ""
      ],
      "metadata": {
        "id": "BevvXEdoEzbu"
      },
      "execution_count": null,
      "outputs": []
    },
    {
      "cell_type": "code",
      "metadata": {
        "id": "4eait6xD3-Hv"
      },
      "source": [
        ""
      ],
      "execution_count": null,
      "outputs": []
    },
    {
      "cell_type": "markdown",
      "source": [
        "# 2진 분류 문제"
      ],
      "metadata": {
        "id": "aXaa9pT3v8HP"
      }
    },
    {
      "cell_type": "code",
      "source": [
        "!wget https://raw.githubusercontent.com/dhrim/MDC_2021/master/material/deep_learning/data/sonar.csv"
      ],
      "metadata": {
        "colab": {
          "base_uri": "https://localhost:8080/"
        },
        "id": "db4adJcdwF62",
        "outputId": "a1464bb2-f700-48b5-b39e-18aad7900433"
      },
      "execution_count": 38,
      "outputs": [
        {
          "output_type": "stream",
          "name": "stdout",
          "text": [
            "--2021-12-28 06:35:41--  https://raw.githubusercontent.com/dhrim/MDC_2021/master/material/deep_learning/data/sonar.csv\n",
            "Resolving raw.githubusercontent.com (raw.githubusercontent.com)... 185.199.110.133, 185.199.111.133, 185.199.109.133, ...\n",
            "Connecting to raw.githubusercontent.com (raw.githubusercontent.com)|185.199.110.133|:443... connected.\n",
            "HTTP request sent, awaiting response... 200 OK\n",
            "Length: 87776 (86K) [text/plain]\n",
            "Saving to: ‘sonar.csv’\n",
            "\n",
            "\rsonar.csv             0%[                    ]       0  --.-KB/s               \rsonar.csv           100%[===================>]  85.72K  --.-KB/s    in 0.004s  \n",
            "\n",
            "2021-12-28 06:35:41 (19.1 MB/s) - ‘sonar.csv’ saved [87776/87776]\n",
            "\n"
          ]
        }
      ]
    },
    {
      "cell_type": "code",
      "source": [
        "raw_data = pd.read_csv(\"sonar.csv\")\n",
        "data = raw_data.to_numpy()\n",
        "np.random.shuffle(data)\n",
        "\n",
        "x = data[:,:60]\n",
        "y = data[:,60]\n",
        "\n",
        "i = int(len(x)*0.8)\n",
        "train_x, test_x = x[:i], x[i:]\n",
        "train_y, test_y = y[:i], y[i:]"
      ],
      "metadata": {
        "id": "Pxy_QvbfwHcZ"
      },
      "execution_count": 40,
      "outputs": []
    },
    {
      "cell_type": "code",
      "source": [
        "def build_model():  \n",
        "\n",
        "  model = keras.Sequential()\n",
        "  model.add(Dense(10, activation='relu', input_shape=(60,)))\n",
        "  model.add(Dense(10, activation='relu'))\n",
        "  model.add(Dense(1, activation=\"sigmoid\"))\n",
        "\n",
        "  model.compile(optimizer=\"Adam\", loss=\"binary_crossentropy\", metrics=[\"acc\"])\n",
        "\n",
        "  return model"
      ],
      "metadata": {
        "id": "eUyR8tUGv8HQ"
      },
      "execution_count": 45,
      "outputs": []
    },
    {
      "cell_type": "code",
      "source": [
        "n_members = 3"
      ],
      "metadata": {
        "id": "fBYKLV-sv8HQ"
      },
      "execution_count": 46,
      "outputs": []
    },
    {
      "cell_type": "code",
      "source": [
        "models = []\n",
        "for _ in range(n_members):\n",
        "\tmodel = build_model()\n",
        "\tmodels.append(model)"
      ],
      "metadata": {
        "id": "jkOBRhXjv8HQ"
      },
      "execution_count": 47,
      "outputs": []
    },
    {
      "cell_type": "code",
      "source": [
        "for i in range(n_members):\n",
        "\tmodels[i].fit(train_x, train_y, epochs=1, batch_size=32)"
      ],
      "metadata": {
        "colab": {
          "base_uri": "https://localhost:8080/"
        },
        "outputId": "078a6d92-a09e-431b-f383-107d300762ea",
        "id": "NdaLtMAxv8HR"
      },
      "execution_count": 48,
      "outputs": [
        {
          "output_type": "stream",
          "name": "stdout",
          "text": [
            "6/6 [==============================] - 0s 4ms/step - loss: 0.6838 - acc: 0.5576\n",
            "6/6 [==============================] - 0s 4ms/step - loss: 0.7318 - acc: 0.4424\n",
            "6/6 [==============================] - 0s 4ms/step - loss: 0.6854 - acc: 0.5939\n"
          ]
        }
      ]
    },
    {
      "cell_type": "code",
      "source": [
        "y_ = [model.predict(test_x) for model in models]\n",
        "y_ = np.array(y_).squeeze()\n",
        "predicted = (y_>0.5).astype(np.int)\n",
        "\n",
        "import scipy\n",
        "outcomes, _ = scipy.stats.mode(predicted)\n",
        "print(outcomes[:10])\n",
        "outcomes = outcomes.squeeze()\n",
        "\n",
        "\n",
        "from sklearn.metrics import accuracy_score\n",
        "\n",
        "acc = accuracy_score(test_y, outcomes)"
      ],
      "metadata": {
        "colab": {
          "base_uri": "https://localhost:8080/"
        },
        "id": "amn00WB1wzd_",
        "outputId": "bf22f992-a0d0-43a5-8cec-374bc820d5b0"
      },
      "execution_count": 61,
      "outputs": [
        {
          "output_type": "stream",
          "name": "stdout",
          "text": [
            "[[0 1 1 1 1 1 1 1 1 1 1 1 1 1 1 1 1 1 1 1 1 1 1 1 1 1 0 1 1 1 1 1 1 1 0 1\n",
            "  1 1 1 1 1 1]]\n",
            "(42,)\n",
            "(42,)\n",
            "0.5238095238095238\n"
          ]
        }
      ]
    }
  ]
}