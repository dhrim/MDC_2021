{
  "nbformat": 4,
  "nbformat_minor": 0,
  "metadata": {
    "colab": {
      "name": "ensemble.ipynb",
      "provenance": [],
      "collapsed_sections": [],
      "toc_visible": true
    },
    "kernelspec": {
      "name": "python3",
      "display_name": "Python 3"
    },
    "accelerator": "GPU"
  },
  "cells": [
    {
      "cell_type": "markdown",
      "metadata": {
        "id": "cHcZ3XNF2qkV"
      },
      "source": [
        "# 모델 앙상블"
      ]
    },
    {
      "cell_type": "code",
      "metadata": {
        "id": "vP9m1uS2fxj1"
      },
      "source": [
        "import numpy as np\n",
        "import pandas as pd\n",
        "import matplotlib.pyplot as plt\n",
        "\n",
        "import tensorflow as tf\n",
        "from tensorflow import keras\n",
        "from tensorflow.keras import optimizers\n",
        "from tensorflow.keras.layers import Dense, Flatten, Conv2D, MaxPooling2D, Input, Reshape\n",
        "\n",
        "import time"
      ],
      "execution_count": 1,
      "outputs": []
    },
    {
      "cell_type": "markdown",
      "source": [
        "# 회귀 문제"
      ],
      "metadata": {
        "id": "ZOi5p_5IPnsW"
      }
    },
    {
      "cell_type": "code",
      "source": [
        "x = np.arange(-1, 1, 0.01)\n",
        "np.random.shuffle(x)\n",
        "y = np.sin(x)\n",
        "\n",
        "i = int(x.shape[0]*0.8)\n",
        "\n",
        "train_x, test_x = x[:i], x[i:]\n",
        "train_y, test_y = y[:i], y[i:]\n"
      ],
      "metadata": {
        "id": "qlmHyE3yoB78"
      },
      "execution_count": 2,
      "outputs": []
    },
    {
      "cell_type": "code",
      "source": [
        "def build_model():  \n",
        "  model = keras.Sequential()\n",
        "  model.add(Input((1,)))\n",
        "  model.add(Dense(10, activation='relu'))\n",
        "  model.add(Dense(10, activation='relu'))\n",
        "  model.add(Dense(1))\n",
        "\n",
        "  model.compile(optimizer=\"Adam\", loss=\"mse\")\n",
        "\n",
        "  return model"
      ],
      "metadata": {
        "id": "Gt6Fyj6Foqqs"
      },
      "execution_count": 3,
      "outputs": []
    },
    {
      "cell_type": "code",
      "source": [
        "models = []\n",
        "for _ in range(3):\n",
        "\tmodel = build_model()\n",
        "\tmodels.append(model)"
      ],
      "metadata": {
        "id": "pGOI_eN6o4Ma"
      },
      "execution_count": 4,
      "outputs": []
    },
    {
      "cell_type": "code",
      "source": [
        "for model in models:\n",
        "\tmodel.fit(train_x, train_y, epochs=1, batch_size=32)"
      ],
      "metadata": {
        "colab": {
          "base_uri": "https://localhost:8080/"
        },
        "id": "JCqPO0iZo957",
        "outputId": "e35031c9-5fd2-4e20-f451-67c14e1e8af6"
      },
      "execution_count": 5,
      "outputs": [
        {
          "output_type": "stream",
          "name": "stdout",
          "text": [
            "5/5 [==============================] - 3s 5ms/step - loss: 0.3113\n",
            "5/5 [==============================] - 0s 4ms/step - loss: 0.3629\n",
            "5/5 [==============================] - 0s 3ms/step - loss: 0.2476\n"
          ]
        }
      ]
    },
    {
      "cell_type": "code",
      "source": [
        "y_ = [model.predict(test_x) for model in models]\n",
        "y_ = np.array(y_).squeeze()\n",
        "print(\"y_.shape =\", y_.shape)\n",
        "print(y_[:,:5])\n",
        "\n",
        "outcomes = np.mean(y_,axis=0)\n",
        "print(\"outcomes.shape =\", outcomes.shape)\n",
        "print(outcomes[:5])\n",
        "\n",
        "mse = tf.keras.losses.mean_squared_error(test_y, outcomes).numpy()\n",
        "print(\"mse =\", mse)"
      ],
      "metadata": {
        "colab": {
          "base_uri": "https://localhost:8080/"
        },
        "id": "VSG_Eq5rpCHZ",
        "outputId": "cc858363-4b2f-4a15-8e83-93a6c18f560c"
      },
      "execution_count": 8,
      "outputs": [
        {
          "output_type": "stream",
          "name": "stdout",
          "text": [
            "y_.shape = (3, 40)\n",
            "[[-0.04627877 -0.06698939 -0.16640043 -0.08356776 -0.05322006]\n",
            " [-0.04277497 -0.057627   -0.12891673  0.03177328  0.01537557]\n",
            " [ 0.00806023  0.00521133 -0.00846342 -0.09507136 -0.0611092 ]]\n",
            "outcomes.shape = (40,)\n",
            "[-0.02699784 -0.03980168 -0.10126019 -0.04895528 -0.03298457]\n",
            "mse = 0.25441456\n"
          ]
        }
      ]
    },
    {
      "cell_type": "markdown",
      "source": [
        "# 분류 문제"
      ],
      "metadata": {
        "id": "NkUCBH2zPtGa"
      }
    },
    {
      "cell_type": "code",
      "metadata": {
        "id": "h-Hlstlof5l6",
        "outputId": "6d94c269-1987-40ae-e2e9-0918295b48df",
        "colab": {
          "base_uri": "https://localhost:8080/"
        }
      },
      "source": [
        "(raw_train_x, raw_train_y), (raw_test_x, raw_test_y) = tf.keras.datasets.mnist.load_data()\n",
        "\n",
        "train_x = raw_train_x / 255.\n",
        "test_x = raw_test_x / 255.\n",
        "\n",
        "train_y = raw_train_y\n",
        "test_y = raw_test_y"
      ],
      "execution_count": 9,
      "outputs": [
        {
          "output_type": "stream",
          "name": "stdout",
          "text": [
            "Downloading data from https://storage.googleapis.com/tensorflow/tf-keras-datasets/mnist.npz\n",
            "11493376/11490434 [==============================] - 0s 0us/step\n",
            "11501568/11490434 [==============================] - 0s 0us/step\n"
          ]
        }
      ]
    },
    {
      "cell_type": "code",
      "source": [
        "def build_model():  \n",
        "  model = keras.Sequential()\n",
        "  model.add(Input((28,28)))\n",
        "  model.add(Reshape((28,28,1)))\n",
        "  model.add(Conv2D(32, (3, 3), padding='same'))\n",
        "  model.add(MaxPooling2D((2, 2)))\n",
        "  model.add(Conv2D(64, (3, 3), padding='same'))\n",
        "  model.add(MaxPooling2D((2, 2)))\n",
        "  model.add(Flatten())\n",
        "  model.add(Dense(10, activation='relu'))\n",
        "  model.add(Dense(10, activation='relu'))\n",
        "  model.add(Dense(10, activation='softmax'))\n",
        "\n",
        "  model.compile(optimizer=\"Adam\", loss=\"sparse_categorical_crossentropy\", metrics=[\"accuracy\"])\n",
        "\n",
        "  return model"
      ],
      "metadata": {
        "id": "2YqlPL3pD_Qx"
      },
      "execution_count": 10,
      "outputs": []
    },
    {
      "cell_type": "code",
      "source": [
        "models = []\n",
        "for _ in range(3):\n",
        "\tmodel = build_model()\n",
        "\tmodels.append(model)"
      ],
      "metadata": {
        "id": "Kjx2SlVyLH3E"
      },
      "execution_count": 12,
      "outputs": []
    },
    {
      "cell_type": "code",
      "source": [
        "for model in models:\n",
        "\tmodel.fit(train_x, train_y, epochs=1, batch_size=32)"
      ],
      "metadata": {
        "colab": {
          "base_uri": "https://localhost:8080/"
        },
        "id": "5rXaam5dLezt",
        "outputId": "73cce179-0209-4f85-9eb6-9ffc46c4c9aa"
      },
      "execution_count": 13,
      "outputs": [
        {
          "output_type": "stream",
          "name": "stdout",
          "text": [
            "1875/1875 [==============================] - 18s 6ms/step - loss: 0.3039 - accuracy: 0.9063\n",
            "1875/1875 [==============================] - 12s 6ms/step - loss: 0.2960 - accuracy: 0.9066\n",
            "1875/1875 [==============================] - 11s 5ms/step - loss: 0.3295 - accuracy: 0.9013\n"
          ]
        }
      ]
    },
    {
      "cell_type": "code",
      "source": [
        "from sklearn.metrics import accuracy_score\n",
        "\n",
        "y_ = [model.predict(test_x) for model in models]\n",
        "y_ = np.array(y_)\n",
        "print(y_.shape)\n",
        "print(y_[:,0])\n",
        "meaned = np.mean(y_, axis=0)\n",
        "print(meaned.shape)\n",
        "print(meaned[0])\n",
        "outcomes = np.argmax(meaned, axis=1)\n",
        "print(outcomes)\n",
        "\n",
        "acc = accuracy_score(test_y, outcomes)\n",
        "print(acc)\n"
      ],
      "metadata": {
        "colab": {
          "base_uri": "https://localhost:8080/"
        },
        "id": "PcT3ovzXMfPB",
        "outputId": "2c819041-2109-42ef-c6f3-74e1704abc31"
      },
      "execution_count": 15,
      "outputs": [
        {
          "output_type": "stream",
          "name": "stdout",
          "text": [
            "(3, 10000, 10)\n",
            "[[7.3118940e-08 5.5200302e-09 9.9603244e-07 4.3107422e-05 1.0332471e-14\n",
            "  6.8421807e-10 5.8407901e-12 9.9994910e-01 1.1971389e-07 6.5158051e-06]\n",
            " [2.8580308e-10 1.7833463e-03 1.4674904e-04 6.8143847e-05 6.6067179e-05\n",
            "  1.2125081e-08 1.3628551e-10 9.9663866e-01 1.1498529e-03 1.4721218e-04]\n",
            " [1.0158718e-10 1.3534563e-07 1.9632228e-06 3.0818526e-07 9.5017440e-12\n",
            "  6.6770443e-11 1.1295679e-15 9.9945599e-01 8.3412893e-10 5.4167776e-04]]\n",
            "(10000, 10)\n",
            "[2.4502109e-08 5.9449574e-04 4.9902766e-05 3.7186484e-05 2.2022396e-05\n",
            " 4.2920232e-09 4.7375808e-11 9.9868125e-01 3.8332446e-04 2.3180193e-04]\n",
            "[7 2 1 ... 4 5 6]\n",
            "0.9789\n"
          ]
        }
      ]
    },
    {
      "cell_type": "markdown",
      "source": [
        "# 2진 분류 문제"
      ],
      "metadata": {
        "id": "aXaa9pT3v8HP"
      }
    },
    {
      "cell_type": "code",
      "source": [
        "!wget https://raw.githubusercontent.com/dhrim/MDC_2021/master/material/deep_learning/data/sonar.csv"
      ],
      "metadata": {
        "colab": {
          "base_uri": "https://localhost:8080/"
        },
        "id": "db4adJcdwF62",
        "outputId": "20149ce5-a891-418b-d5bc-67f053b3ff60"
      },
      "execution_count": 16,
      "outputs": [
        {
          "output_type": "stream",
          "name": "stdout",
          "text": [
            "--2021-12-29 00:53:47--  https://raw.githubusercontent.com/dhrim/MDC_2021/master/material/deep_learning/data/sonar.csv\n",
            "Resolving raw.githubusercontent.com (raw.githubusercontent.com)... 185.199.110.133, 185.199.111.133, 185.199.109.133, ...\n",
            "Connecting to raw.githubusercontent.com (raw.githubusercontent.com)|185.199.110.133|:443... connected.\n",
            "HTTP request sent, awaiting response... 200 OK\n",
            "Length: 87776 (86K) [text/plain]\n",
            "Saving to: ‘sonar.csv’\n",
            "\n",
            "sonar.csv           100%[===================>]  85.72K  --.-KB/s    in 0.02s   \n",
            "\n",
            "2021-12-29 00:53:48 (5.11 MB/s) - ‘sonar.csv’ saved [87776/87776]\n",
            "\n"
          ]
        }
      ]
    },
    {
      "cell_type": "code",
      "source": [
        "raw_data = pd.read_csv(\"sonar.csv\")\n",
        "data = raw_data.to_numpy()\n",
        "np.random.shuffle(data)\n",
        "\n",
        "x = data[:,:60]\n",
        "y = data[:,60]\n",
        "\n",
        "i = int(len(x)*0.8)\n",
        "train_x, test_x = x[:i], x[i:]\n",
        "train_y, test_y = y[:i], y[i:]"
      ],
      "metadata": {
        "id": "Pxy_QvbfwHcZ"
      },
      "execution_count": 17,
      "outputs": []
    },
    {
      "cell_type": "code",
      "source": [
        "def build_model():  \n",
        "\n",
        "  model = keras.Sequential()\n",
        "  model.add(Dense(10, activation='relu', input_shape=(60,)))\n",
        "  model.add(Dense(10, activation='relu'))\n",
        "  model.add(Dense(1, activation=\"sigmoid\"))\n",
        "\n",
        "  model.compile(optimizer=\"Adam\", loss=\"binary_crossentropy\", metrics=[\"acc\"])\n",
        "\n",
        "  return model"
      ],
      "metadata": {
        "id": "eUyR8tUGv8HQ"
      },
      "execution_count": 18,
      "outputs": []
    },
    {
      "cell_type": "code",
      "source": [
        "models = []\n",
        "for _ in range(3):\n",
        "\tmodel = build_model()\n",
        "\tmodels.append(model)"
      ],
      "metadata": {
        "id": "jkOBRhXjv8HQ"
      },
      "execution_count": 19,
      "outputs": []
    },
    {
      "cell_type": "code",
      "source": [
        "for model in models:\n",
        "\tmodel.fit(train_x, train_y, epochs=1, batch_size=32, validation_split=0.2)"
      ],
      "metadata": {
        "colab": {
          "base_uri": "https://localhost:8080/"
        },
        "outputId": "e400a658-d2f9-407a-9009-0722ab46e80c",
        "id": "NdaLtMAxv8HR"
      },
      "execution_count": 20,
      "outputs": [
        {
          "output_type": "stream",
          "name": "stdout",
          "text": [
            "5/5 [==============================] - 1s 52ms/step - loss: 0.6918 - acc: 0.4773 - val_loss: 0.7112 - val_acc: 0.5152\n",
            "5/5 [==============================] - 1s 41ms/step - loss: 0.6912 - acc: 0.5682 - val_loss: 0.7046 - val_acc: 0.4545\n",
            "5/5 [==============================] - 1s 42ms/step - loss: 0.6883 - acc: 0.5833 - val_loss: 0.6859 - val_acc: 0.4545\n"
          ]
        }
      ]
    },
    {
      "cell_type": "code",
      "source": [
        "y_ = [model.predict(test_x) for model in models]\n",
        "y_ = np.array(y_).squeeze()\n",
        "predicted = (y_>0.5).astype(np.int)\n",
        "print(predicted.shape)\n",
        "print(predicted[:,:10])\n",
        "\n",
        "import scipy\n",
        "outcomes, _ = scipy.stats.mode(predicted)\n",
        "outcomes = outcomes.squeeze()\n",
        "print(outcomes.shape)\n",
        "print(outcomes[:10])\n",
        "\n",
        "\n",
        "from sklearn.metrics import accuracy_score\n",
        "\n",
        "acc = accuracy_score(test_y, outcomes)\n",
        "print(\"acc = \", acc)"
      ],
      "metadata": {
        "colab": {
          "base_uri": "https://localhost:8080/"
        },
        "id": "amn00WB1wzd_",
        "outputId": "42cb54a7-60dd-4038-a4c2-1ad63fbd3666"
      },
      "execution_count": 23,
      "outputs": [
        {
          "output_type": "stream",
          "name": "stdout",
          "text": [
            "(3, 42)\n",
            "[[1 1 1 1 1 1 0 1 1 1]\n",
            " [1 1 1 1 1 1 1 1 1 1]\n",
            " [1 1 0 1 1 1 1 1 1 1]]\n",
            "(42,)\n",
            "[1 1 1 1 1 1 1 1 1 1]\n",
            "acc =  0.47619047619047616\n"
          ]
        }
      ]
    },
    {
      "cell_type": "code",
      "source": [
        ""
      ],
      "metadata": {
        "id": "6EI8BwkM4LX_"
      },
      "execution_count": null,
      "outputs": []
    }
  ]
}