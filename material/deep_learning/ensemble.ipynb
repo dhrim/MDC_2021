{
  "nbformat": 4,
  "nbformat_minor": 0,
  "metadata": {
    "colab": {
      "name": "ensemble.ipynb",
      "provenance": [],
      "collapsed_sections": [],
      "toc_visible": true
    },
    "kernelspec": {
      "name": "python3",
      "display_name": "Python 3"
    },
    "accelerator": "GPU"
  },
  "cells": [
    {
      "cell_type": "markdown",
      "metadata": {
        "id": "cHcZ3XNF2qkV"
      },
      "source": [
        "# 모델 앙상블"
      ]
    },
    {
      "cell_type": "code",
      "metadata": {
        "id": "vP9m1uS2fxj1"
      },
      "source": [
        "import numpy as np\n",
        "import pandas as pd\n",
        "import matplotlib.pyplot as plt\n",
        "\n",
        "import tensorflow as tf\n",
        "from tensorflow import keras\n",
        "from tensorflow.keras import optimizers\n",
        "from tensorflow.keras.layers import Dense, Flatten, Conv2D, MaxPooling2D, Input, Reshape\n",
        "\n",
        "import time"
      ],
      "execution_count": 1,
      "outputs": []
    },
    {
      "cell_type": "markdown",
      "source": [
        "# 회귀 문제"
      ],
      "metadata": {
        "id": "ZOi5p_5IPnsW"
      }
    },
    {
      "cell_type": "code",
      "source": [
        "x = np.arange(-1, 1, 0.01)\n",
        "np.random.shuffle(x)\n",
        "y = np.sin(x)\n",
        "\n",
        "i = int(x.shape[0]*0.8)\n",
        "\n",
        "train_x, test_x = x[:i], x[i:]\n",
        "train_y, test_y = y[:i], y[i:]\n"
      ],
      "metadata": {
        "id": "qlmHyE3yoB78"
      },
      "execution_count": 2,
      "outputs": []
    },
    {
      "cell_type": "code",
      "source": [
        "def build_model():  \n",
        "  model = keras.Sequential()\n",
        "  model.add(Input((1,)))\n",
        "  model.add(Dense(10, activation='relu'))\n",
        "  model.add(Dense(10, activation='relu'))\n",
        "  model.add(Dense(1))\n",
        "\n",
        "  model.compile(optimizer=\"Adam\", loss=\"mse\")\n",
        "\n",
        "  return model"
      ],
      "metadata": {
        "id": "Gt6Fyj6Foqqs"
      },
      "execution_count": 3,
      "outputs": []
    },
    {
      "cell_type": "code",
      "source": [
        "n_members = 3"
      ],
      "metadata": {
        "id": "foB2ZO4do4Ma"
      },
      "execution_count": 4,
      "outputs": []
    },
    {
      "cell_type": "code",
      "source": [
        "models = []\n",
        "for _ in range(n_members):\n",
        "\tmodel = build_model()\n",
        "\tmodels.append(model)"
      ],
      "metadata": {
        "id": "pGOI_eN6o4Ma"
      },
      "execution_count": 5,
      "outputs": []
    },
    {
      "cell_type": "code",
      "source": [
        "for i in range(n_members):\n",
        "\tmodels[i].fit(train_x, train_y, epochs=1, batch_size=32)"
      ],
      "metadata": {
        "colab": {
          "base_uri": "https://localhost:8080/"
        },
        "id": "JCqPO0iZo957",
        "outputId": "2a9ded44-0ed4-42f8-c378-7d09480aaa32"
      },
      "execution_count": 6,
      "outputs": [
        {
          "output_type": "stream",
          "name": "stdout",
          "text": [
            "5/5 [==============================] - 2s 4ms/step - loss: 0.3115\n",
            "5/5 [==============================] - 0s 3ms/step - loss: 0.2507\n",
            "5/5 [==============================] - 0s 3ms/step - loss: 0.4026\n"
          ]
        }
      ]
    },
    {
      "cell_type": "code",
      "source": [
        "y_ = [model.predict(test_x) for model in models]\n",
        "y_ = np.array(y_)\n",
        "print(\"y_.shape =\", y_.shape)\n",
        "outcomes = np.mean(y_,axis=0).squeeze()\n",
        "print(\"outcomes.shape =\", outcomes.shape)\n",
        "\n",
        "mse = tf.keras.losses.mean_squared_error(test_y, outcomes).numpy()\n",
        "print(\"mse =\", mse)"
      ],
      "metadata": {
        "colab": {
          "base_uri": "https://localhost:8080/"
        },
        "id": "VSG_Eq5rpCHZ",
        "outputId": "c8713bda-15ee-435e-986d-cdec40e73958"
      },
      "execution_count": 7,
      "outputs": [
        {
          "output_type": "stream",
          "name": "stdout",
          "text": [
            "y_.shape = (3, 40, 1)\n",
            "outcomes.shape = (40,)\n",
            "mse = 0.3398351\n"
          ]
        }
      ]
    },
    {
      "cell_type": "markdown",
      "source": [
        "# 분류 문제"
      ],
      "metadata": {
        "id": "NkUCBH2zPtGa"
      }
    },
    {
      "cell_type": "code",
      "metadata": {
        "id": "h-Hlstlof5l6",
        "outputId": "5bc646bf-4ac1-4515-8740-783189c4e6a1",
        "colab": {
          "base_uri": "https://localhost:8080/"
        }
      },
      "source": [
        "(raw_train_x, raw_train_y), (raw_test_x, raw_test_y) = tf.keras.datasets.mnist.load_data()\n",
        "\n",
        "train_x = raw_train_x / 255.\n",
        "test_x = raw_test_x / 255.\n",
        "\n",
        "train_y = raw_train_y\n",
        "test_y = raw_test_y"
      ],
      "execution_count": 8,
      "outputs": [
        {
          "output_type": "stream",
          "name": "stdout",
          "text": [
            "Downloading data from https://storage.googleapis.com/tensorflow/tf-keras-datasets/mnist.npz\n",
            "11493376/11490434 [==============================] - 0s 0us/step\n",
            "11501568/11490434 [==============================] - 0s 0us/step\n"
          ]
        }
      ]
    },
    {
      "cell_type": "code",
      "source": [
        "def build_model():  \n",
        "  model = keras.Sequential()\n",
        "  model.add(Input((28,28)))\n",
        "  model.add(Reshape((28,28,1)))\n",
        "  model.add(Conv2D(32, (3, 3), padding='same'))\n",
        "  model.add(MaxPooling2D((2, 2)))\n",
        "  model.add(Conv2D(64, (3, 3), padding='same'))\n",
        "  model.add(MaxPooling2D((2, 2)))\n",
        "  model.add(Flatten())\n",
        "  model.add(Dense(10, activation='relu'))\n",
        "  model.add(Dense(10, activation='relu'))\n",
        "  model.add(Dense(10, activation='softmax'))\n",
        "\n",
        "  model.compile(optimizer=\"Adam\", loss=\"sparse_categorical_crossentropy\", metrics=[\"accuracy\"])\n",
        "\n",
        "  return model"
      ],
      "metadata": {
        "id": "2YqlPL3pD_Qx"
      },
      "execution_count": 9,
      "outputs": []
    },
    {
      "cell_type": "code",
      "source": [
        "n_members = 3"
      ],
      "metadata": {
        "id": "eMq3r9DgLKL9"
      },
      "execution_count": 10,
      "outputs": []
    },
    {
      "cell_type": "code",
      "source": [
        "models = []\n",
        "for _ in range(n_members):\n",
        "\tmodel = build_model()\n",
        "\tmodels.append(model)"
      ],
      "metadata": {
        "id": "Kjx2SlVyLH3E"
      },
      "execution_count": 11,
      "outputs": []
    },
    {
      "cell_type": "code",
      "source": [
        "for i in range(n_members):\n",
        "\tmodels[i].fit(train_x, train_y, epochs=1, batch_size=32)"
      ],
      "metadata": {
        "colab": {
          "base_uri": "https://localhost:8080/"
        },
        "id": "5rXaam5dLezt",
        "outputId": "dc1d809f-7f81-4fb3-dd47-0204f6a28953"
      },
      "execution_count": 12,
      "outputs": [
        {
          "output_type": "stream",
          "name": "stdout",
          "text": [
            "1875/1875 [==============================] - 13s 3ms/step - loss: 0.4228 - accuracy: 0.8692\n",
            "1875/1875 [==============================] - 6s 3ms/step - loss: 0.4337 - accuracy: 0.8571\n",
            "1875/1875 [==============================] - 6s 3ms/step - loss: 0.3832 - accuracy: 0.8824\n"
          ]
        }
      ]
    },
    {
      "cell_type": "code",
      "source": [
        "from sklearn.metrics import accuracy_score\n",
        "\n",
        "y_ = [model.predict(test_x) for model in models]\n",
        "y_ = np.array(y_)\n",
        "summed = np.sum(y_, axis=0)\n",
        "print(summed[0])\n",
        "outcomes = np.argmax(summed, axis=1)\n",
        "print(outcomes)\n",
        "\n",
        "acc = accuracy_score(test_y, outcomes)\n",
        "print(acc)\n"
      ],
      "metadata": {
        "colab": {
          "base_uri": "https://localhost:8080/"
        },
        "id": "PcT3ovzXMfPB",
        "outputId": "eba2dbb3-c1ea-4b73-9975-bcb8cb061daf"
      },
      "execution_count": 13,
      "outputs": [
        {
          "output_type": "stream",
          "name": "stdout",
          "text": [
            "[9.1289593e-07 4.6657278e-06 3.7338767e-05 6.6325083e-05 2.1212973e-06\n",
            " 2.3420102e-10 1.1149212e-09 2.9994502e+00 1.1866033e-07 4.3825820e-04]\n",
            "[7 2 1 ... 4 5 6]\n",
            "0.9718\n"
          ]
        }
      ]
    },
    {
      "cell_type": "markdown",
      "source": [
        "# 2진 분류 문제"
      ],
      "metadata": {
        "id": "aXaa9pT3v8HP"
      }
    },
    {
      "cell_type": "code",
      "source": [
        "!wget https://raw.githubusercontent.com/dhrim/MDC_2021/master/material/deep_learning/data/sonar.csv"
      ],
      "metadata": {
        "colab": {
          "base_uri": "https://localhost:8080/"
        },
        "id": "db4adJcdwF62",
        "outputId": "1b699851-10b0-4a9f-cd3a-7d57fda734d8"
      },
      "execution_count": 14,
      "outputs": [
        {
          "output_type": "stream",
          "name": "stdout",
          "text": [
            "--2021-12-28 07:10:32--  https://raw.githubusercontent.com/dhrim/MDC_2021/master/material/deep_learning/data/sonar.csv\n",
            "Resolving raw.githubusercontent.com (raw.githubusercontent.com)... 185.199.109.133, 185.199.111.133, 185.199.108.133, ...\n",
            "Connecting to raw.githubusercontent.com (raw.githubusercontent.com)|185.199.109.133|:443... connected.\n",
            "HTTP request sent, awaiting response... 200 OK\n",
            "Length: 87776 (86K) [text/plain]\n",
            "Saving to: ‘sonar.csv’\n",
            "\n",
            "\rsonar.csv             0%[                    ]       0  --.-KB/s               \rsonar.csv           100%[===================>]  85.72K  --.-KB/s    in 0.004s  \n",
            "\n",
            "2021-12-28 07:10:33 (20.6 MB/s) - ‘sonar.csv’ saved [87776/87776]\n",
            "\n"
          ]
        }
      ]
    },
    {
      "cell_type": "code",
      "source": [
        "raw_data = pd.read_csv(\"sonar.csv\")\n",
        "data = raw_data.to_numpy()\n",
        "np.random.shuffle(data)\n",
        "\n",
        "x = data[:,:60]\n",
        "y = data[:,60]\n",
        "\n",
        "i = int(len(x)*0.8)\n",
        "train_x, test_x = x[:i], x[i:]\n",
        "train_y, test_y = y[:i], y[i:]"
      ],
      "metadata": {
        "id": "Pxy_QvbfwHcZ"
      },
      "execution_count": 15,
      "outputs": []
    },
    {
      "cell_type": "code",
      "source": [
        "def build_model():  \n",
        "\n",
        "  model = keras.Sequential()\n",
        "  model.add(Dense(10, activation='relu', input_shape=(60,)))\n",
        "  model.add(Dense(10, activation='relu'))\n",
        "  model.add(Dense(1, activation=\"sigmoid\"))\n",
        "\n",
        "  model.compile(optimizer=\"Adam\", loss=\"binary_crossentropy\", metrics=[\"acc\"])\n",
        "\n",
        "  return model"
      ],
      "metadata": {
        "id": "eUyR8tUGv8HQ"
      },
      "execution_count": 16,
      "outputs": []
    },
    {
      "cell_type": "code",
      "source": [
        "n_members = 3"
      ],
      "metadata": {
        "id": "fBYKLV-sv8HQ"
      },
      "execution_count": 17,
      "outputs": []
    },
    {
      "cell_type": "code",
      "source": [
        "models = []\n",
        "for _ in range(n_members):\n",
        "\tmodel = build_model()\n",
        "\tmodels.append(model)"
      ],
      "metadata": {
        "id": "jkOBRhXjv8HQ"
      },
      "execution_count": 18,
      "outputs": []
    },
    {
      "cell_type": "code",
      "source": [
        "for i in range(n_members):\n",
        "\tmodels[i].fit(train_x, train_y, epochs=1, batch_size=32, validation_split=0.2)"
      ],
      "metadata": {
        "colab": {
          "base_uri": "https://localhost:8080/"
        },
        "outputId": "8d2623d8-6d4c-4d07-babb-46a7b00f1540",
        "id": "NdaLtMAxv8HR"
      },
      "execution_count": 22,
      "outputs": [
        {
          "output_type": "stream",
          "name": "stdout",
          "text": [
            "5/5 [==============================] - 0s 68ms/step - loss: 0.6940 - acc: 0.5227 - val_loss: 0.6892 - val_acc: 0.5152\n",
            "5/5 [==============================] - 0s 61ms/step - loss: 0.6902 - acc: 0.5530 - val_loss: 0.6907 - val_acc: 0.5455\n",
            "5/5 [==============================] - 0s 55ms/step - loss: 0.7019 - acc: 0.4621 - val_loss: 0.6975 - val_acc: 0.4848\n"
          ]
        }
      ]
    },
    {
      "cell_type": "code",
      "source": [
        "y_ = [model.predict(test_x) for model in models]\n",
        "y_ = np.array(y_).squeeze()\n",
        "predicted = (y_>0.5).astype(np.int)\n",
        "\n",
        "import scipy\n",
        "outcomes, _ = scipy.stats.mode(predicted)\n",
        "print(outcomes[:10])\n",
        "outcomes = outcomes.squeeze()\n",
        "\n",
        "\n",
        "from sklearn.metrics import accuracy_score\n",
        "\n",
        "acc = accuracy_score(test_y, outcomes)\n",
        "print(\"acc = \", acc)"
      ],
      "metadata": {
        "colab": {
          "base_uri": "https://localhost:8080/"
        },
        "id": "amn00WB1wzd_",
        "outputId": "4274b7ea-78d5-4c04-e85f-6918bda65589"
      },
      "execution_count": 21,
      "outputs": [
        {
          "output_type": "stream",
          "name": "stdout",
          "text": [
            "[[0 0 0 0 0 0 0 0 0 1 0 0 0 0 0 0 0 0 0 0 0 0 0 0 1 0 0 1 0 0 0 0 1 0 0 0\n",
            "  0 0 0 0 0 1]]\n",
            "acc =  0.5476190476190477\n"
          ]
        }
      ]
    },
    {
      "cell_type": "code",
      "source": [
        ""
      ],
      "metadata": {
        "id": "6EI8BwkM4LX_"
      },
      "execution_count": null,
      "outputs": []
    }
  ]
}