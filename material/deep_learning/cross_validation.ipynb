{
  "nbformat": 4,
  "nbformat_minor": 0,
  "metadata": {
    "colab": {
      "name": "cross_validation.ipynb",
      "provenance": [],
      "collapsed_sections": []
    },
    "kernelspec": {
      "name": "python3",
      "display_name": "Python 3"
    },
    "accelerator": "GPU"
  },
  "cells": [
    {
      "cell_type": "markdown",
      "metadata": {
        "id": "cHcZ3XNF2qkV"
      },
      "source": [
        "# cross validation"
      ]
    },
    {
      "cell_type": "code",
      "metadata": {
        "id": "vP9m1uS2fxj1"
      },
      "source": [
        "import numpy as np\n",
        "import matplotlib.pyplot as plt\n",
        "\n",
        "import tensorflow as tf\n",
        "from tensorflow import keras\n",
        "from tensorflow.keras import optimizers\n",
        "from tensorflow.keras.layers import Dense, Flatten, Conv2D, MaxPooling2D, Input, Reshape\n",
        "\n",
        "import time"
      ],
      "execution_count": null,
      "outputs": []
    },
    {
      "cell_type": "code",
      "metadata": {
        "id": "h-Hlstlof5l6"
      },
      "source": [
        "(raw_train_x, raw_train_y), (raw_test_x, raw_test_y) = tf.keras.datasets.mnist.load_data()\n",
        "\n",
        "raw_x = np.concatenate((raw_train_x, raw_test_x), axis=0)\n",
        "raw_y = np.concatenate((raw_train_y, raw_test_y), axis=0)\n",
        "\n",
        "x = raw_x/255.\n",
        "y = raw_y/255."
      ],
      "execution_count": null,
      "outputs": []
    },
    {
      "cell_type": "code",
      "source": [
        "def build_model():  \n",
        "  model = keras.Sequential()\n",
        "  model.add(Input((28,28)))\n",
        "  model.add(Reshape((28,28,1))) # ADDED\n",
        "  model.add(Conv2D(32, (3, 3), padding='same')) # ADDED\n",
        "  model.add(MaxPooling2D((2, 2))) # ADDED\n",
        "  model.add(Conv2D(64, (3, 3), padding='same')) # ADDED\n",
        "  model.add(MaxPooling2D((2, 2))) # ADDED\n",
        "  model.add(Flatten())\n",
        "  model.add(Dense(10, activation='relu'))\n",
        "  model.add(Dense(10, activation='relu'))\n",
        "  model.add(Dense(10, activation='softmax'))\n",
        "\n",
        "  model.compile(optimizer=\"adam\", loss=\"sparse_categorical_crossentropy\", metrics=[\"accuracy\"])\n",
        "\n",
        "  return model"
      ],
      "metadata": {
        "id": "2YqlPL3pD_Qx"
      },
      "execution_count": null,
      "outputs": []
    },
    {
      "cell_type": "code",
      "source": [
        "fold_count = 5"
      ],
      "metadata": {
        "id": "Eb-cHHxQFE2l"
      },
      "execution_count": null,
      "outputs": []
    },
    {
      "cell_type": "code",
      "source": [
        "from sklearn.model_selection import KFold\n",
        "\n",
        "kfold = KFold(n_splits=fold_count, shuffle=True)\n",
        "\n",
        "losses = []\n",
        "acces = []\n",
        "\n",
        "for train, test in kfold.split(x, y):\n",
        "\n",
        "  model = build_model()\n",
        "\n",
        "  history = model.fit(x[train], y[train], batch_size=32, epochs=2, validation_split=0.2)\n",
        "\n",
        "  loss, acc = model.evaluate(x[test], y[test])\n",
        "  print(\"loss =\", loss)\n",
        "  print(\"acc =\", acc)\n",
        "  losses.append(loss)\n",
        "  acces.append(acc)\n"
      ],
      "metadata": {
        "id": "toW1L30ZDfEI",
        "outputId": "1cd221a2-ba9e-4558-c422-a05d773c99ea",
        "colab": {
          "base_uri": "https://localhost:8080/"
        }
      },
      "execution_count": null,
      "outputs": [
        {
          "output_type": "stream",
          "name": "stdout",
          "text": [
            "Epoch 1/2\n",
            "1400/1400 [==============================] - 14s 4ms/step - loss: 0.0125 - accuracy: 0.0981 - val_loss: 1.9060e-06 - val_accuracy: 0.0996\n",
            "Epoch 2/2\n",
            "1400/1400 [==============================] - 6s 4ms/step - loss: 1.2763e-06 - accuracy: 0.0982 - val_loss: 8.5174e-07 - val_accuracy: 0.0996\n",
            "438/438 [==============================] - 1s 3ms/step - loss: 8.7368e-07 - accuracy: 0.0991\n",
            "loss = 8.736839731682267e-07\n",
            "acc = 0.0990714281797409\n",
            "Epoch 1/2\n",
            "1400/1400 [==============================] - 6s 4ms/step - loss: 0.0226 - accuracy: 0.0975 - val_loss: 1.5549e-06 - val_accuracy: 0.0979\n",
            "Epoch 2/2\n",
            "1400/1400 [==============================] - 5s 3ms/step - loss: 8.0938e-07 - accuracy: 0.0990 - val_loss: 4.0424e-07 - val_accuracy: 0.0979\n",
            "438/438 [==============================] - 2s 4ms/step - loss: 3.9321e-07 - accuracy: 0.0981\n",
            "loss = 3.932102004000626e-07\n",
            "acc = 0.09814285486936569\n",
            "Epoch 1/2\n",
            "1400/1400 [==============================] - 7s 5ms/step - loss: 0.0140 - accuracy: 0.0981 - val_loss: 4.1276e-08 - val_accuracy: 0.0982\n",
            "Epoch 2/2\n",
            "1400/1400 [==============================] - 6s 5ms/step - loss: 4.7399e-08 - accuracy: 0.0982 - val_loss: 3.8743e-08 - val_accuracy: 0.0982\n",
            "438/438 [==============================] - 2s 4ms/step - loss: 4.4507e-08 - accuracy: 0.1001\n",
            "loss = 4.4507480367883545e-08\n",
            "acc = 0.10014285892248154\n",
            "Epoch 1/2\n",
            "1400/1400 [==============================] - 8s 5ms/step - loss: 0.0118 - accuracy: 0.0985 - val_loss: 7.6881e-07 - val_accuracy: 0.0982\n",
            "Epoch 2/2\n",
            "1400/1400 [==============================] - 6s 4ms/step - loss: 5.9121e-07 - accuracy: 0.0987 - val_loss: 4.4916e-07 - val_accuracy: 0.0982\n",
            "438/438 [==============================] - 1s 3ms/step - loss: 4.5475e-07 - accuracy: 0.0987\n",
            "loss = 4.5475235310732387e-07\n",
            "acc = 0.09871428459882736\n",
            "Epoch 1/2\n",
            "1400/1400 [==============================] - 7s 5ms/step - loss: 0.5652 - accuracy: 0.0992 - val_loss: 0.0255 - val_accuracy: 0.0968\n",
            "Epoch 2/2\n",
            "1400/1400 [==============================] - 6s 5ms/step - loss: 0.0110 - accuracy: 0.0996 - val_loss: 0.0045 - val_accuracy: 0.0968\n",
            "438/438 [==============================] - 1s 3ms/step - loss: 0.0045 - accuracy: 0.0970\n",
            "loss = 0.004454826470464468\n",
            "acc = 0.09700000286102295\n"
          ]
        }
      ]
    },
    {
      "cell_type": "code",
      "source": [
        "average_acc = sum(acces) / fold_count\n",
        "print(\"average acc=\", average_acc)"
      ],
      "metadata": {
        "id": "pKysy8SQEzjs",
        "outputId": "5cc97517-3171-4acc-c74b-94fd4ced5218",
        "colab": {
          "base_uri": "https://localhost:8080/"
        }
      },
      "execution_count": null,
      "outputs": [
        {
          "output_type": "stream",
          "name": "stdout",
          "text": [
            "average acc= 0.09861428588628769\n"
          ]
        }
      ]
    },
    {
      "cell_type": "code",
      "source": [
        ""
      ],
      "metadata": {
        "id": "BevvXEdoEzbu"
      },
      "execution_count": null,
      "outputs": []
    },
    {
      "cell_type": "code",
      "metadata": {
        "id": "4eait6xD3-Hv"
      },
      "source": [
        ""
      ],
      "execution_count": null,
      "outputs": []
    }
  ]
}