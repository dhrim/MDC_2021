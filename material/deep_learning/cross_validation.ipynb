{
  "nbformat": 4,
  "nbformat_minor": 0,
  "metadata": {
    "colab": {
      "name": "cross_validation.ipynb",
      "provenance": [],
      "collapsed_sections": []
    },
    "kernelspec": {
      "name": "python3",
      "display_name": "Python 3"
    },
    "accelerator": "GPU"
  },
  "cells": [
    {
      "cell_type": "markdown",
      "metadata": {
        "id": "cHcZ3XNF2qkV"
      },
      "source": [
        "# cross validation"
      ]
    },
    {
      "cell_type": "code",
      "metadata": {
        "id": "vP9m1uS2fxj1"
      },
      "source": [
        "import numpy as np\n",
        "import matplotlib.pyplot as plt\n",
        "\n",
        "import tensorflow as tf\n",
        "from tensorflow import keras\n",
        "from tensorflow.keras import optimizers\n",
        "from tensorflow.keras.layers import Dense, Flatten, Conv2D, MaxPooling2D, Input, Reshape\n",
        "\n",
        "import time"
      ],
      "execution_count": 19,
      "outputs": []
    },
    {
      "cell_type": "code",
      "metadata": {
        "id": "h-Hlstlof5l6"
      },
      "source": [
        "(raw_train_x, raw_train_y), (raw_test_x, raw_test_y) = tf.keras.datasets.mnist.load_data()\n",
        "\n",
        "raw_x = np.concatenate((raw_train_x, raw_test_x), axis=0)\n",
        "raw_y = np.concatenate((raw_train_y, raw_test_y), axis=0)\n",
        "\n",
        "x = raw_x/255.\n",
        "y = raw_y"
      ],
      "execution_count": 20,
      "outputs": []
    },
    {
      "cell_type": "code",
      "source": [
        "x = x[:1000]\n",
        "y = y[:1000]"
      ],
      "metadata": {
        "id": "vRct3Z2bykB-"
      },
      "execution_count": 21,
      "outputs": []
    },
    {
      "cell_type": "code",
      "source": [
        "def build_model():  \n",
        "  model = keras.Sequential()\n",
        "  model.add(Input((28,28)))\n",
        "  model.add(Reshape((28,28,1)))\n",
        "  model.add(Conv2D(32, (3, 3), padding='same')) \n",
        "  model.add(MaxPooling2D((2, 2)))\n",
        "  model.add(Conv2D(64, (3, 3), padding='same'))\n",
        "  model.add(MaxPooling2D((2, 2)))\n",
        "  model.add(Flatten())\n",
        "  model.add(Dense(10, activation='relu'))\n",
        "  model.add(Dense(10, activation='relu'))\n",
        "  model.add(Dense(10, activation='softmax'))\n",
        "\n",
        "  model.compile(optimizer=\"adam\", loss=\"sparse_categorical_crossentropy\", metrics=[\"accuracy\"])\n",
        "\n",
        "  return model"
      ],
      "metadata": {
        "id": "2YqlPL3pD_Qx"
      },
      "execution_count": 22,
      "outputs": []
    },
    {
      "cell_type": "code",
      "source": [
        "i = int(len(x)*0.8)\n",
        "train_x, test_x = x[:i], x[i:]\n",
        "train_y, test_y = y[:i], y[i:]\n",
        "\n",
        "\n",
        "model = build_model()\n",
        "\n",
        "history = model.fit(train_x, train_y, batch_size=32, epochs=5, validation_split=0.2)\n",
        "\n",
        "loss, acc = model.evaluate(test_x, test_y)\n",
        "print(\"loss =\", loss)\n",
        "print(\"acc =\", acc)\n"
      ],
      "metadata": {
        "id": "voBzHOp5yu71",
        "outputId": "2745924b-4d7c-47a9-e759-91945c24724b",
        "colab": {
          "base_uri": "https://localhost:8080/"
        }
      },
      "execution_count": 23,
      "outputs": [
        {
          "output_type": "stream",
          "name": "stdout",
          "text": [
            "Epoch 1/5\n",
            "20/20 [==============================] - 1s 13ms/step - loss: 2.1428 - accuracy: 0.2109 - val_loss: 2.0013 - val_accuracy: 0.2062\n",
            "Epoch 2/5\n",
            "20/20 [==============================] - 0s 5ms/step - loss: 1.7245 - accuracy: 0.3281 - val_loss: 1.6803 - val_accuracy: 0.3812\n",
            "Epoch 3/5\n",
            "20/20 [==============================] - 0s 5ms/step - loss: 1.4237 - accuracy: 0.5047 - val_loss: 1.4462 - val_accuracy: 0.4437\n",
            "Epoch 4/5\n",
            "20/20 [==============================] - 0s 5ms/step - loss: 1.1760 - accuracy: 0.6094 - val_loss: 1.3713 - val_accuracy: 0.5562\n",
            "Epoch 5/5\n",
            "20/20 [==============================] - 0s 5ms/step - loss: 0.9964 - accuracy: 0.6812 - val_loss: 1.0804 - val_accuracy: 0.6313\n",
            "7/7 [==============================] - 0s 5ms/step - loss: 1.2528 - accuracy: 0.5900\n",
            "loss = 1.252784013748169\n",
            "acc = 0.5899999737739563\n"
          ]
        }
      ]
    },
    {
      "cell_type": "code",
      "source": [
        "fold_count = 5"
      ],
      "metadata": {
        "id": "Eb-cHHxQFE2l"
      },
      "execution_count": 24,
      "outputs": []
    },
    {
      "cell_type": "code",
      "source": [
        "from sklearn.model_selection import KFold\n",
        "\n",
        "kfold = KFold(n_splits=fold_count, shuffle=True)\n",
        "\n",
        "losses = []\n",
        "acces = []\n",
        "\n",
        "for train, test in kfold.split(x, y):\n",
        "\n",
        "  model = build_model()\n",
        "\n",
        "  history = model.fit(x[train], y[train], batch_size=32, epochs=5, validation_split=0.2)\n",
        "\n",
        "  loss, acc = model.evaluate(x[test], y[test])\n",
        "  print(\"loss =\", loss)\n",
        "  print(\"acc =\", acc)\n",
        "  losses.append(loss)\n",
        "  acces.append(acc)\n"
      ],
      "metadata": {
        "id": "toW1L30ZDfEI",
        "outputId": "e7f66b01-b244-4ae1-878b-02165dda9f61",
        "colab": {
          "base_uri": "https://localhost:8080/"
        }
      },
      "execution_count": 25,
      "outputs": [
        {
          "output_type": "stream",
          "name": "stdout",
          "text": [
            "Epoch 1/5\n",
            "20/20 [==============================] - 1s 18ms/step - loss: 2.2123 - accuracy: 0.2156 - val_loss: 2.0896 - val_accuracy: 0.2562\n",
            "Epoch 2/5\n",
            "20/20 [==============================] - 0s 7ms/step - loss: 1.9319 - accuracy: 0.2859 - val_loss: 1.7656 - val_accuracy: 0.3125\n",
            "Epoch 3/5\n",
            "20/20 [==============================] - 0s 7ms/step - loss: 1.6155 - accuracy: 0.4219 - val_loss: 1.5134 - val_accuracy: 0.3812\n",
            "Epoch 4/5\n",
            "20/20 [==============================] - 0s 9ms/step - loss: 1.3871 - accuracy: 0.5047 - val_loss: 1.3464 - val_accuracy: 0.5437\n",
            "Epoch 5/5\n",
            "20/20 [==============================] - 0s 15ms/step - loss: 1.1801 - accuracy: 0.6672 - val_loss: 1.1658 - val_accuracy: 0.6562\n",
            "7/7 [==============================] - 0s 5ms/step - loss: 1.2293 - accuracy: 0.6400\n",
            "loss = 1.229305386543274\n",
            "acc = 0.6399999856948853\n",
            "Epoch 1/5\n",
            "20/20 [==============================] - 1s 21ms/step - loss: 2.1044 - accuracy: 0.2344 - val_loss: 1.8645 - val_accuracy: 0.3250\n",
            "Epoch 2/5\n",
            "20/20 [==============================] - 0s 7ms/step - loss: 1.6704 - accuracy: 0.3844 - val_loss: 1.4523 - val_accuracy: 0.5188\n",
            "Epoch 3/5\n",
            "20/20 [==============================] - 0s 8ms/step - loss: 1.3016 - accuracy: 0.5312 - val_loss: 1.1966 - val_accuracy: 0.5750\n",
            "Epoch 4/5\n",
            "20/20 [==============================] - 0s 8ms/step - loss: 1.0555 - accuracy: 0.6062 - val_loss: 1.0351 - val_accuracy: 0.6562\n",
            "Epoch 5/5\n",
            "20/20 [==============================] - 0s 5ms/step - loss: 0.8123 - accuracy: 0.7281 - val_loss: 0.9604 - val_accuracy: 0.7250\n",
            "7/7 [==============================] - 0s 3ms/step - loss: 0.8247 - accuracy: 0.7550\n",
            "loss = 0.8247416615486145\n",
            "acc = 0.7549999952316284\n",
            "Epoch 1/5\n",
            "20/20 [==============================] - 1s 12ms/step - loss: 2.1974 - accuracy: 0.2094 - val_loss: 1.9448 - val_accuracy: 0.4625\n",
            "Epoch 2/5\n",
            "20/20 [==============================] - 0s 5ms/step - loss: 1.8173 - accuracy: 0.4172 - val_loss: 1.5166 - val_accuracy: 0.5188\n",
            "Epoch 3/5\n",
            "20/20 [==============================] - 0s 5ms/step - loss: 1.4992 - accuracy: 0.5266 - val_loss: 1.3596 - val_accuracy: 0.5813\n",
            "Epoch 4/5\n",
            "20/20 [==============================] - 0s 5ms/step - loss: 1.2900 - accuracy: 0.5969 - val_loss: 1.2829 - val_accuracy: 0.6125\n",
            "Epoch 5/5\n",
            "20/20 [==============================] - 0s 6ms/step - loss: 1.1594 - accuracy: 0.6406 - val_loss: 1.1812 - val_accuracy: 0.6500\n",
            "7/7 [==============================] - 0s 4ms/step - loss: 1.1950 - accuracy: 0.6650\n",
            "loss = 1.1950021982192993\n",
            "acc = 0.6650000214576721\n",
            "Epoch 1/5\n",
            "20/20 [==============================] - 1s 12ms/step - loss: 2.2308 - accuracy: 0.1375 - val_loss: 2.1859 - val_accuracy: 0.1375\n",
            "Epoch 2/5\n",
            "20/20 [==============================] - 0s 5ms/step - loss: 2.0551 - accuracy: 0.2094 - val_loss: 2.0810 - val_accuracy: 0.2313\n",
            "Epoch 3/5\n",
            "20/20 [==============================] - 0s 5ms/step - loss: 1.8599 - accuracy: 0.2641 - val_loss: 1.9403 - val_accuracy: 0.2500\n",
            "Epoch 4/5\n",
            "20/20 [==============================] - 0s 5ms/step - loss: 1.6388 - accuracy: 0.3063 - val_loss: 1.7879 - val_accuracy: 0.2875\n",
            "Epoch 5/5\n",
            "20/20 [==============================] - 0s 4ms/step - loss: 1.4313 - accuracy: 0.4094 - val_loss: 1.6366 - val_accuracy: 0.4625\n",
            "7/7 [==============================] - 0s 5ms/step - loss: 1.5494 - accuracy: 0.5150\n",
            "loss = 1.5493754148483276\n",
            "acc = 0.5149999856948853\n",
            "Epoch 1/5\n",
            "20/20 [==============================] - 1s 12ms/step - loss: 2.1139 - accuracy: 0.2266 - val_loss: 1.9274 - val_accuracy: 0.3063\n",
            "Epoch 2/5\n",
            "20/20 [==============================] - 0s 5ms/step - loss: 1.6030 - accuracy: 0.4359 - val_loss: 1.5101 - val_accuracy: 0.4500\n",
            "Epoch 3/5\n",
            "20/20 [==============================] - 0s 5ms/step - loss: 1.0907 - accuracy: 0.6281 - val_loss: 1.2420 - val_accuracy: 0.5875\n",
            "Epoch 4/5\n",
            "20/20 [==============================] - 0s 5ms/step - loss: 0.7497 - accuracy: 0.7484 - val_loss: 0.8389 - val_accuracy: 0.7000\n",
            "Epoch 5/5\n",
            "20/20 [==============================] - 0s 5ms/step - loss: 0.5399 - accuracy: 0.8453 - val_loss: 0.8129 - val_accuracy: 0.7375\n",
            "7/7 [==============================] - 0s 4ms/step - loss: 0.7966 - accuracy: 0.7950\n",
            "loss = 0.7965646982192993\n",
            "acc = 0.7950000166893005\n"
          ]
        }
      ]
    },
    {
      "cell_type": "code",
      "source": [
        "average_acc = sum(acces) / fold_count\n",
        "print(\"average acc=\", average_acc)"
      ],
      "metadata": {
        "id": "pKysy8SQEzjs",
        "outputId": "198058de-3d7b-4da7-bc6c-bf7cb8babcd3",
        "colab": {
          "base_uri": "https://localhost:8080/"
        }
      },
      "execution_count": 26,
      "outputs": [
        {
          "output_type": "stream",
          "name": "stdout",
          "text": [
            "average acc= 0.6740000009536743\n"
          ]
        }
      ]
    },
    {
      "cell_type": "code",
      "source": [
        ""
      ],
      "metadata": {
        "id": "BevvXEdoEzbu"
      },
      "execution_count": 26,
      "outputs": []
    },
    {
      "cell_type": "code",
      "metadata": {
        "id": "4eait6xD3-Hv"
      },
      "source": [
        ""
      ],
      "execution_count": 26,
      "outputs": []
    }
  ]
}