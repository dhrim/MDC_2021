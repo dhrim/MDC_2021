{
  "nbformat": 4,
  "nbformat_minor": 0,
  "metadata": {
    "colab": {
      "name": "template_numeric_sequence_data_prediction.ipynb",
      "provenance": [],
      "collapsed_sections": [],
      "toc_visible": true
    },
    "kernelspec": {
      "name": "python3",
      "display_name": "Python 3"
    },
    "language_info": {
      "name": "python"
    },
    "accelerator": "GPU"
  },
  "cells": [
    {
      "cell_type": "markdown",
      "metadata": {
        "id": "mZAFnuGfwqy-"
      },
      "source": [
        "# 숫자 순차열 데이터 예측 Template"
      ]
    },
    {
      "cell_type": "markdown",
      "metadata": {
        "id": "Hb0EOx6OyNIw"
      },
      "source": [
        "# 데이터 준비"
      ]
    },
    {
      "cell_type": "code",
      "metadata": {
        "id": "VBfCpbwh0h9R"
      },
      "source": [
        "import numpy as np\n",
        "import matplotlib.pyplot as plt\n"
      ],
      "execution_count": 38,
      "outputs": []
    },
    {
      "cell_type": "markdown",
      "metadata": {
        "id": "B5AtaEi6yPhX"
      },
      "source": [
        "## 기반 숫자열 생성\n",
        "\n",
        "숫자열이 1개라도 2차원 배열에 답는다. "
      ]
    },
    {
      "cell_type": "code",
      "metadata": {
        "id": "V6wKtOwFwqXM"
      },
      "source": [
        "numbers = np.zeros((2000,1))\n",
        "numbers[:,0] = np.sin(np.arange(0,1000,0.5))"
      ],
      "execution_count": 39,
      "outputs": []
    },
    {
      "cell_type": "code",
      "metadata": {
        "colab": {
          "base_uri": "https://localhost:8080/",
          "height": 265
        },
        "id": "k4hO2CThTFIV",
        "outputId": "0d9ec53c-f562-46de-ad03-fd1093eb46fa"
      },
      "source": [
        "plt.plot(numbers[:100,0])\n",
        "plt.show()"
      ],
      "execution_count": 40,
      "outputs": [
        {
          "output_type": "display_data",
          "data": {
            "image/png": "[encoded data removed]",
            "text/plain": [
              "<Figure size 432x288 with 1 Axes>"
            ]
          },
          "metadata": {
            "needs_background": "light"
          }
        }
      ]
    },
    {
      "cell_type": "code",
      "metadata": {
        "id": "6RAkHiJbxNfE"
      },
      "source": [
        "SEQUENCE_LENGTH = 5\n",
        "OFFSET = 1"
      ],
      "execution_count": 41,
      "outputs": []
    },
    {
      "cell_type": "markdown",
      "metadata": {
        "id": "f-z-YNfNDBn5"
      },
      "source": [
        "## 입출력 데이터 생성\n",
        "\n",
        "12345678901234567890의 숫자열로 다음의 입출력 데이터를 생성한다.\n",
        "```\n",
        "12345 -> 6\n",
        "23456 -> 7\n",
        "34567 -> 8\n",
        "...\n",
        "56789 -> 0\n",
        "```"
      ]
    },
    {
      "cell_type": "code",
      "metadata": {
        "id": "yYxpmUQtwqTY"
      },
      "source": [
        "raw_x = []\n",
        "raw_y = []\n",
        "\n",
        "for i in range(len(numbers)):\n",
        "  if i+SEQUENCE_LENGTH+OFFSET >= len(numbers): break\n",
        "  raw_x.append(numbers[i:i+SEQUENCE_LENGTH,:])\n",
        "  raw_y.append(numbers[i+SEQUENCE_LENGTH+OFFSET-1,:])\n",
        "#              0         1              \n",
        "#              01234567890123456789\n",
        "# numbers[0] = 12345678901234567890\n",
        "#                 i = 3\n",
        "#                 <-x->   = [3:8] = 45678\n",
        "#                      y  = [8]   = 9\n",
        "\n"
      ],
      "execution_count": 42,
      "outputs": []
    },
    {
      "cell_type": "code",
      "metadata": {
        "colab": {
          "base_uri": "https://localhost:8080/"
        },
        "id": "15RBiNi9wqQU",
        "outputId": "45b2d396-c720-4188-b22f-4b90d84c16ec"
      },
      "source": [
        "print(len(raw_x))\n",
        "# len(raw_x) = 1994 = len(numbers) - SEQUENCE_LENGTH - OFFSET = 2000 - 5 - 1"
      ],
      "execution_count": 43,
      "outputs": [
        {
          "output_type": "stream",
          "name": "stdout",
          "text": [
            "1994\n"
          ]
        }
      ]
    },
    {
      "cell_type": "markdown",
      "metadata": {
        "id": "S7eFX6jIyrnx"
      },
      "source": [
        "## 데이터를 2차원 벡터화 하기\n",
        "\n",
        "RNN은 2차원 입력을 전제로 한다. 다중 숫자열은 그 자체로 2차원 데이터이다. 따로 해줄 것은 없다.\n"
      ]
    },
    {
      "cell_type": "code",
      "metadata": {
        "colab": {
          "base_uri": "https://localhost:8080/"
        },
        "id": "Z-RCPdshTuFf",
        "outputId": "0de9dc54-cba4-4222-80e6-91420bb92d18"
      },
      "source": [
        "print(raw_x[0])"
      ],
      "execution_count": 44,
      "outputs": [
        {
          "output_type": "stream",
          "name": "stdout",
          "text": [
            "[[0.        ]\n",
            " [0.47942554]\n",
            " [0.84147098]\n",
            " [0.99749499]\n",
            " [0.90929743]]\n"
          ]
        }
      ]
    },
    {
      "cell_type": "code",
      "source": [
        "print(x.shape)\n",
        "print(y.shape)"
      ],
      "metadata": {
        "id": "xdgokWZlp1h3",
        "outputId": "67f40865-76d0-4621-93f2-45d1c7d65a8a",
        "colab": {
          "base_uri": "https://localhost:8080/"
        }
      },
      "execution_count": 45,
      "outputs": [
        {
          "output_type": "stream",
          "name": "stdout",
          "text": [
            "(1994, 5, 1)\n",
            "(1994, 1)\n"
          ]
        }
      ]
    },
    {
      "cell_type": "code",
      "metadata": {
        "colab": {
          "base_uri": "https://localhost:8080/"
        },
        "id": "4mg54AkZ3boa",
        "outputId": "9fc0295c-f7fd-4fa0-a577-9272e751feab"
      },
      "source": [
        "x = np.array(raw_x)\n",
        "y = np.array(raw_y)\n",
        "print(x.shape)\n",
        "print(y.shape)\n",
        "\n",
        "from sklearn.model_selection import train_test_split\n",
        "\n",
        "train_x, test_x, train_y, test_y = train_test_split(x, y, test_size=0.1, shuffle=True)\n",
        "\n",
        "\n",
        "print(\"Training Data:\")\n",
        "print(train_x.shape)\n",
        "print(train_y.shape)\n",
        "\n",
        "print(\"Test Data:\")\n",
        "print(test_x.shape)\n",
        "print(test_y.shape)\n"
      ],
      "execution_count": 46,
      "outputs": [
        {
          "output_type": "stream",
          "name": "stdout",
          "text": [
            "(1994, 5, 1)\n",
            "(1994, 1)\n",
            "Training Data:\n",
            "(1794, 5, 1)\n",
            "(1794, 1)\n",
            "Test Data:\n",
            "(200, 5, 1)\n",
            "(200, 1)\n"
          ]
        }
      ]
    },
    {
      "cell_type": "markdown",
      "metadata": {
        "id": "lMq2Om3w8qNy"
      },
      "source": [
        "준비된 데이터는 다음과 같습니다."
      ]
    },
    {
      "cell_type": "code",
      "metadata": {
        "id": "41UcKyn-q5Ez",
        "colab": {
          "base_uri": "https://localhost:8080/",
          "height": 430
        },
        "outputId": "611ea313-f23d-4d52-cb7b-b8a1699d867d"
      },
      "source": [
        "print(\"train_x[0]\\n\", train_x[0])\n",
        "print()\n",
        "print(\"train_y[0]\\n\", train_y[0])\n",
        "\n",
        "plt.plot(train_x[0], '.')\n",
        "plt.plot([len(train_x[0])], train_y[0], 'x')\n",
        "plt.show()"
      ],
      "execution_count": 47,
      "outputs": [
        {
          "output_type": "stream",
          "name": "stdout",
          "text": [
            "train_x[0]\n",
            " [[-0.15862267]\n",
            " [-0.61256015]\n",
            " [-0.91652155]\n",
            " [-0.9960865 ]\n",
            " [-0.83177474]]\n",
            "\n",
            "train_y[0]\n",
            " [-0.46381552]\n"
          ]
        },
        {
          "output_type": "display_data",
          "data": {
            "image/png": "[encoded data removed]",
            "text/plain": [
              "<Figure size 432x288 with 1 Axes>"
            ]
          },
          "metadata": {
            "needs_background": "light"
          }
        }
      ]
    },
    {
      "cell_type": "markdown",
      "source": [
        "# DNN 사용"
      ],
      "metadata": {
        "id": "jIlJNH5ssEB5"
      }
    },
    {
      "cell_type": "code",
      "source": [
        "from tensorflow import keras\n",
        "from tensorflow.keras.layers import Dense, RepeatVector, Flatten, Input\n",
        "from tensorflow.keras.layers import Bidirectional, LSTM, GRU\n",
        "\n",
        "input_shape = train_x.shape[1:]\n",
        "# input_shape = (5,1)\n",
        "\n",
        "model = keras.Sequential()\n",
        "model.add(Input(input_shape))\n",
        "model.add(Flatten())\n",
        "model.add(Dense(10, activation=\"relu\"))\n",
        "model.add(Dense(1))\n",
        "model.compile(loss=\"mse\", optimizer=\"adam\", metrics=[\"mae\"])\n",
        "model.summary()\n",
        "\n",
        "history = model.fit(train_x, train_y, epochs=10, verbose=0, validation_split=0.1, batch_size=128)\n",
        "\n",
        "\n",
        "plt.plot(history.history['loss'])\n",
        "plt.plot(history.history['val_loss'])\n",
        "plt.show()\n",
        "\n",
        "\n",
        "\n",
        "loss, mae = model.evaluate(test_x, test_y)\n",
        "print(\"loss=\", loss)\n",
        "print(\"mae=\", mae)\n",
        "\n",
        "\n",
        "\n",
        "y_ = model.predict(test_x)\n",
        "print(test_y.shape)\n",
        "print(y_.shape)\n",
        "plt.scatter(test_y.squeeze(), y_)\n",
        "plt.show()"
      ],
      "metadata": {
        "id": "WjOTs0jxq1lO",
        "outputId": "87a9f3a1-2a46-437e-b1ca-6b5155fea592",
        "colab": {
          "base_uri": "https://localhost:8080/",
          "height": 880
        }
      },
      "execution_count": 48,
      "outputs": [
        {
          "output_type": "stream",
          "name": "stdout",
          "text": [
            "Model: \"sequential_16\"\n",
            "_________________________________________________________________\n",
            " Layer (type)                Output Shape              Param #   \n",
            "=================================================================\n",
            " flatten_11 (Flatten)        (None, 5)                 0         \n",
            "                                                                 \n",
            " dense_27 (Dense)            (None, 10)                60        \n",
            "                                                                 \n",
            " dense_28 (Dense)            (None, 1)                 11        \n",
            "                                                                 \n",
            "=================================================================\n",
            "Total params: 71\n",
            "Trainable params: 71\n",
            "Non-trainable params: 0\n",
            "_________________________________________________________________\n"
          ]
        },
        {
          "output_type": "display_data",
          "data": {
            "image/png": "[encoded data removed]",
            "text/plain": [
              "<Figure size 432x288 with 1 Axes>"
            ]
          },
          "metadata": {
            "needs_background": "light"
          }
        },
        {
          "output_type": "stream",
          "name": "stdout",
          "text": [
            "7/7 [==============================] - 0s 3ms/step - loss: 0.1905 - mae: 0.3805\n",
            "loss= 0.19049155712127686\n",
            "mae= 0.38054630160331726\n",
            "(200, 1)\n",
            "(200, 1)\n"
          ]
        },
        {
          "output_type": "display_data",
          "data": {
            "image/png": "[encoded data removed]",
            "text/plain": [
              "<Figure size 432x288 with 1 Axes>"
            ]
          },
          "metadata": {
            "needs_background": "light"
          }
        }
      ]
    },
    {
      "cell_type": "markdown",
      "metadata": {
        "id": "0-mHtIAk_qU9"
      },
      "source": [
        "# Template"
      ]
    },
    {
      "cell_type": "markdown",
      "metadata": {
        "id": "k3CG02lDAI73"
      },
      "source": [
        "## LSTM"
      ]
    },
    {
      "cell_type": "code",
      "source": [
        "print(train_x.shape)"
      ],
      "metadata": {
        "id": "hPl1Ec1rqNL2",
        "outputId": "42365908-b86b-4e9a-8ec4-84de1caa9323",
        "colab": {
          "base_uri": "https://localhost:8080/"
        }
      },
      "execution_count": 49,
      "outputs": [
        {
          "output_type": "stream",
          "name": "stdout",
          "text": [
            "(1794, 5, 1)\n"
          ]
        }
      ]
    },
    {
      "cell_type": "code",
      "metadata": {
        "colab": {
          "base_uri": "https://localhost:8080/",
          "height": 880
        },
        "id": "GEffW4RR3bgJ",
        "outputId": "7a45654a-6e1e-4d8d-adf3-0e66124b5e82"
      },
      "source": [
        "from tensorflow import keras\n",
        "from tensorflow.keras.layers import Dense, RepeatVector, Flatten, Input\n",
        "from tensorflow.keras.layers import Bidirectional, LSTM, GRU\n",
        "\n",
        "input_shape = train_x.shape[1:]\n",
        "# input_shape = (5,1)\n",
        "\n",
        "model = keras.Sequential()\n",
        "model.add(Input(input_shape))\n",
        "model.add(LSTM(128))\n",
        "model.add(Flatten())\n",
        "model.add(Dense(10, activation=\"relu\"))\n",
        "model.add(Dense(1))\n",
        "model.compile(loss=\"mse\", optimizer=\"adam\", metrics=[\"mae\"])\n",
        "model.summary()\n",
        "\n",
        "history = model.fit(train_x, train_y, epochs=10, verbose=0, validation_split=0.1, batch_size=128)\n",
        "\n",
        "\n",
        "plt.plot(history.history['loss'])\n",
        "plt.plot(history.history['val_loss'])\n",
        "plt.show()\n",
        "\n",
        "\n",
        "\n",
        "loss, mae = model.evaluate(test_x, test_y)\n",
        "print(\"loss=\", loss)\n",
        "print(\"mae=\", mae)\n",
        "\n",
        "\n",
        "\n",
        "y_ = model.predict(test_x)\n",
        "plt.scatter(test_y, y_)\n",
        "plt.show()"
      ],
      "execution_count": 50,
      "outputs": [
        {
          "output_type": "stream",
          "name": "stdout",
          "text": [
            "Model: \"sequential_17\"\n",
            "_________________________________________________________________\n",
            " Layer (type)                Output Shape              Param #   \n",
            "=================================================================\n",
            " lstm_7 (LSTM)               (None, 128)               66560     \n",
            "                                                                 \n",
            " flatten_12 (Flatten)        (None, 128)               0         \n",
            "                                                                 \n",
            " dense_29 (Dense)            (None, 10)                1290      \n",
            "                                                                 \n",
            " dense_30 (Dense)            (None, 1)                 11        \n",
            "                                                                 \n",
            "=================================================================\n",
            "Total params: 67,861\n",
            "Trainable params: 67,861\n",
            "Non-trainable params: 0\n",
            "_________________________________________________________________\n"
          ]
        },
        {
          "output_type": "display_data",
          "data": {
            "image/png": "[encoded data removed]",
            "text/plain": [
              "<Figure size 432x288 with 1 Axes>"
            ]
          },
          "metadata": {
            "needs_background": "light"
          }
        },
        {
          "output_type": "stream",
          "name": "stdout",
          "text": [
            "7/7 [==============================] - 0s 3ms/step - loss: 5.0709e-05 - mae: 0.0060\n",
            "loss= 5.070853512734175e-05\n",
            "mae= 0.005988238845020533\n"
          ]
        },
        {
          "output_type": "display_data",
          "data": {
            "image/png": "[encoded data removed]",
            "text/plain": [
              "<Figure size 432x288 with 1 Axes>"
            ]
          },
          "metadata": {
            "needs_background": "light"
          }
        }
      ]
    },
    {
      "cell_type": "markdown",
      "metadata": {
        "id": "M1sV7tBtAWEz"
      },
      "source": [
        "## GRU"
      ]
    },
    {
      "cell_type": "code",
      "metadata": {
        "colab": {
          "base_uri": "https://localhost:8080/",
          "height": 880
        },
        "id": "usltj8hI3bdL",
        "outputId": "130d2b76-caee-4ec0-c4cf-8a0fad59e094"
      },
      "source": [
        "from tensorflow import keras\n",
        "from tensorflow.keras.layers import Dense, RepeatVector, Flatten, Input\n",
        "from tensorflow.keras.layers import Bidirectional, LSTM, GRU\n",
        "\n",
        "input_shape = train_x.shape[1:]\n",
        "# input_shape = (5,1)\n",
        "\n",
        "model = keras.Sequential()\n",
        "model.add(Input(input_shape))\n",
        "model.add(GRU(128))\n",
        "model.add(Flatten())\n",
        "model.add(Dense(10, activation=\"relu\"))\n",
        "model.add(Dense(1))\n",
        "model.compile(loss=\"mse\", optimizer=\"adam\", metrics=[\"mae\"])\n",
        "model.summary()\n",
        "\n",
        "history = model.fit(train_x, train_y, epochs=10, verbose=0, validation_split=0.1, batch_size=128)\n",
        "\n",
        "\n",
        "plt.plot(history.history['loss'])\n",
        "plt.plot(history.history['val_loss'])\n",
        "plt.show()\n",
        "\n",
        "\n",
        "\n",
        "loss, mae = model.evaluate(test_x, test_y)\n",
        "print(\"loss=\", loss)\n",
        "print(\"mae=\", mae)\n",
        "\n",
        "\n",
        "\n",
        "y_ = model.predict(test_x)\n",
        "plt.scatter(test_y, y_)\n",
        "plt.show()"
      ],
      "execution_count": 51,
      "outputs": [
        {
          "output_type": "stream",
          "name": "stdout",
          "text": [
            "Model: \"sequential_18\"\n",
            "_________________________________________________________________\n",
            " Layer (type)                Output Shape              Param #   \n",
            "=================================================================\n",
            " gru_2 (GRU)                 (None, 128)               50304     \n",
            "                                                                 \n",
            " flatten_13 (Flatten)        (None, 128)               0         \n",
            "                                                                 \n",
            " dense_31 (Dense)            (None, 10)                1290      \n",
            "                                                                 \n",
            " dense_32 (Dense)            (None, 1)                 11        \n",
            "                                                                 \n",
            "=================================================================\n",
            "Total params: 51,605\n",
            "Trainable params: 51,605\n",
            "Non-trainable params: 0\n",
            "_________________________________________________________________\n"
          ]
        },
        {
          "output_type": "display_data",
          "data": {
            "image/png": "[encoded data removed]",
            "text/plain": [
              "<Figure size 432x288 with 1 Axes>"
            ]
          },
          "metadata": {
            "needs_background": "light"
          }
        },
        {
          "output_type": "stream",
          "name": "stdout",
          "text": [
            "7/7 [==============================] - 0s 3ms/step - loss: 2.8512e-05 - mae: 0.0044\n",
            "loss= 2.8512180506368168e-05\n",
            "mae= 0.0043733613565564156\n"
          ]
        },
        {
          "output_type": "display_data",
          "data": {
            "image/png": "[encoded data removed]",
            "text/plain": [
              "<Figure size 432x288 with 1 Axes>"
            ]
          },
          "metadata": {
            "needs_background": "light"
          }
        }
      ]
    },
    {
      "cell_type": "markdown",
      "metadata": {
        "id": "jCBiKCg9AeHT"
      },
      "source": [
        "## Bidirectional + LSTM"
      ]
    },
    {
      "cell_type": "code",
      "metadata": {
        "id": "azGH_FDbwqHT",
        "colab": {
          "base_uri": "https://localhost:8080/",
          "height": 899
        },
        "outputId": "4b486e76-5888-44e6-fcb1-3a92e0cb72c3"
      },
      "source": [
        "from tensorflow import keras\n",
        "from tensorflow.keras.layers import Dense, RepeatVector, Flatten, Input\n",
        "from tensorflow.keras.layers import Bidirectional, LSTM, GRU\n",
        "\n",
        "input_shape = train_x.shape[1:]\n",
        "# input_shape = (5,1)\n",
        "\n",
        "model = keras.Sequential()\n",
        "model.add(Input(input_shape))\n",
        "model.add(Bidirectional(LSTM(128)))\n",
        "model.add(Flatten())\n",
        "model.add(Dense(10, activation=\"relu\"))\n",
        "model.add(Dense(1))\n",
        "model.compile(loss=\"mse\", optimizer=\"adam\", metrics=[\"mae\"])\n",
        "model.summary()\n",
        "\n",
        "history = model.fit(train_x, train_y, epochs=10, verbose=0, validation_split=0.1, batch_size=128)\n",
        "\n",
        "\n",
        "plt.plot(history.history['loss'])\n",
        "plt.plot(history.history['val_loss'])\n",
        "plt.show()\n",
        "\n",
        "\n",
        "\n",
        "loss, mae = model.evaluate(test_x, test_y)\n",
        "print(\"loss=\", loss)\n",
        "print(\"mae=\", mae)\n",
        "\n",
        "\n",
        "\n",
        "y_ = model.predict(test_x)\n",
        "plt.scatter(test_y, y_)\n",
        "plt.show()"
      ],
      "execution_count": 52,
      "outputs": [
        {
          "output_type": "stream",
          "name": "stdout",
          "text": [
            "Model: \"sequential_19\"\n",
            "_________________________________________________________________\n",
            " Layer (type)                Output Shape              Param #   \n",
            "=================================================================\n",
            " bidirectional_2 (Bidirectio  (None, 256)              133120    \n",
            " nal)                                                            \n",
            "                                                                 \n",
            " flatten_14 (Flatten)        (None, 256)               0         \n",
            "                                                                 \n",
            " dense_33 (Dense)            (None, 10)                2570      \n",
            "                                                                 \n",
            " dense_34 (Dense)            (None, 1)                 11        \n",
            "                                                                 \n",
            "=================================================================\n",
            "Total params: 135,701\n",
            "Trainable params: 135,701\n",
            "Non-trainable params: 0\n",
            "_________________________________________________________________\n"
          ]
        },
        {
          "output_type": "display_data",
          "data": {
            "image/png": "[encoded data removed]",
            "text/plain": [
              "<Figure size 432x288 with 1 Axes>"
            ]
          },
          "metadata": {
            "needs_background": "light"
          }
        },
        {
          "output_type": "stream",
          "name": "stdout",
          "text": [
            "7/7 [==============================] - 0s 4ms/step - loss: 3.3681e-05 - mae: 0.0044\n",
            "loss= 3.3681149943731725e-05\n",
            "mae= 0.004381863866001368\n"
          ]
        },
        {
          "output_type": "display_data",
          "data": {
            "image/png": "[encoded data removed]",
            "text/plain": [
              "<Figure size 432x288 with 1 Axes>"
            ]
          },
          "metadata": {
            "needs_background": "light"
          }
        }
      ]
    },
    {
      "cell_type": "markdown",
      "metadata": {
        "id": "TfY_p_SJA5Rf"
      },
      "source": [
        "## Bidirectional + GRU"
      ]
    },
    {
      "cell_type": "code",
      "metadata": {
        "id": "OcjycCe8wqEH",
        "colab": {
          "base_uri": "https://localhost:8080/",
          "height": 899
        },
        "outputId": "097e6799-6456-47c9-92f8-c0ffff8ea72c"
      },
      "source": [
        "from tensorflow import keras\n",
        "from tensorflow.keras.layers import Dense, RepeatVector, Flatten, Input\n",
        "from tensorflow.keras.layers import Bidirectional, LSTM, GRU\n",
        "\n",
        "input_shape = train_x.shape[1:]\n",
        "# input_shape = (5,1)\n",
        "\n",
        "model = keras.Sequential()\n",
        "model.add(Input(input_shape))\n",
        "model.add(Bidirectional(GRU(128)))\n",
        "model.add(Flatten())\n",
        "model.add(Dense(10, activation=\"relu\"))\n",
        "model.add(Dense(1))\n",
        "model.compile(loss=\"mse\", optimizer=\"adam\", metrics=[\"mae\"])\n",
        "model.summary()\n",
        "\n",
        "history = model.fit(train_x, train_y, epochs=10, verbose=0, validation_split=0.1, batch_size=128)\n",
        "\n",
        "\n",
        "plt.plot(history.history['loss'])\n",
        "plt.plot(history.history['val_loss'])\n",
        "plt.show()\n",
        "\n",
        "\n",
        "\n",
        "loss, mae = model.evaluate(test_x, test_y)\n",
        "print(\"loss=\", loss)\n",
        "print(\"mae=\", mae)\n",
        "\n",
        "\n",
        "\n",
        "y_ = model.predict(test_x)\n",
        "plt.scatter(test_y, y_)\n",
        "plt.show()"
      ],
      "execution_count": 53,
      "outputs": [
        {
          "output_type": "stream",
          "name": "stdout",
          "text": [
            "Model: \"sequential_20\"\n",
            "_________________________________________________________________\n",
            " Layer (type)                Output Shape              Param #   \n",
            "=================================================================\n",
            " bidirectional_3 (Bidirectio  (None, 256)              100608    \n",
            " nal)                                                            \n",
            "                                                                 \n",
            " flatten_15 (Flatten)        (None, 256)               0         \n",
            "                                                                 \n",
            " dense_35 (Dense)            (None, 10)                2570      \n",
            "                                                                 \n",
            " dense_36 (Dense)            (None, 1)                 11        \n",
            "                                                                 \n",
            "=================================================================\n",
            "Total params: 103,189\n",
            "Trainable params: 103,189\n",
            "Non-trainable params: 0\n",
            "_________________________________________________________________\n"
          ]
        },
        {
          "output_type": "display_data",
          "data": {
            "image/png": "[encoded data removed]",
            "text/plain": [
              "<Figure size 432x288 with 1 Axes>"
            ]
          },
          "metadata": {
            "needs_background": "light"
          }
        },
        {
          "output_type": "stream",
          "name": "stdout",
          "text": [
            "7/7 [==============================] - 0s 4ms/step - loss: 1.4523e-05 - mae: 0.0029\n",
            "loss= 1.4522660421789624e-05\n",
            "mae= 0.0028530515264719725\n"
          ]
        },
        {
          "output_type": "display_data",
          "data": {
            "image/png": "[encoded data removed]",
            "text/plain": [
              "<Figure size 432x288 with 1 Axes>"
            ]
          },
          "metadata": {
            "needs_background": "light"
          }
        }
      ]
    },
    {
      "cell_type": "markdown",
      "metadata": {
        "id": "P3aO3WEwA-lR"
      },
      "source": [
        "## stacked"
      ]
    },
    {
      "cell_type": "code",
      "metadata": {
        "id": "xIYi9GUDwqA6",
        "colab": {
          "base_uri": "https://localhost:8080/",
          "height": 917
        },
        "outputId": "b547f2bd-c468-4a88-dd0b-b952084b11b8"
      },
      "source": [
        "from tensorflow import keras\n",
        "from tensorflow.keras.layers import Dense, RepeatVector, Flatten, Input\n",
        "from tensorflow.keras.layers import Bidirectional, LSTM, GRU\n",
        "\n",
        "input_shape = train_x.shape[1:]\n",
        "# input_shape = (5,1)\n",
        "\n",
        "model = keras.Sequential()\n",
        "model.add(Input(input_shape))\n",
        "model.add(LSTM(128, return_sequences=True))\n",
        "model.add(LSTM(128))\n",
        "model.add(Flatten())\n",
        "model.add(Dense(10, activation=\"relu\"))\n",
        "model.add(Dense(1))\n",
        "model.compile(loss=\"mse\", optimizer=\"adam\", metrics=[\"mae\"])\n",
        "model.summary()\n",
        "\n",
        "history = model.fit(train_x, train_y, epochs=10, verbose=0, validation_split=0.1, batch_size=128)\n",
        "\n",
        "\n",
        "plt.plot(history.history['loss'])\n",
        "plt.plot(history.history['val_loss'])\n",
        "plt.show()\n",
        "\n",
        "\n",
        "\n",
        "loss, mae = model.evaluate(test_x, test_y)\n",
        "print(\"loss=\", loss)\n",
        "print(\"mae=\", mae)\n",
        "\n",
        "\n",
        "\n",
        "y_ = model.predict(test_x)\n",
        "plt.scatter(test_y, y_)\n",
        "plt.show()"
      ],
      "execution_count": 54,
      "outputs": [
        {
          "output_type": "stream",
          "name": "stdout",
          "text": [
            "Model: \"sequential_21\"\n",
            "_________________________________________________________________\n",
            " Layer (type)                Output Shape              Param #   \n",
            "=================================================================\n",
            " lstm_9 (LSTM)               (None, 5, 128)            66560     \n",
            "                                                                 \n",
            " lstm_10 (LSTM)              (None, 128)               131584    \n",
            "                                                                 \n",
            " flatten_16 (Flatten)        (None, 128)               0         \n",
            "                                                                 \n",
            " dense_37 (Dense)            (None, 10)                1290      \n",
            "                                                                 \n",
            " dense_38 (Dense)            (None, 1)                 11        \n",
            "                                                                 \n",
            "=================================================================\n",
            "Total params: 199,445\n",
            "Trainable params: 199,445\n",
            "Non-trainable params: 0\n",
            "_________________________________________________________________\n"
          ]
        },
        {
          "output_type": "display_data",
          "data": {
            "image/png": "[encoded data removed]",
            "text/plain": [
              "<Figure size 432x288 with 1 Axes>"
            ]
          },
          "metadata": {
            "needs_background": "light"
          }
        },
        {
          "output_type": "stream",
          "name": "stdout",
          "text": [
            "7/7 [==============================] - 0s 4ms/step - loss: 1.6610e-04 - mae: 0.0102\n",
            "loss= 0.00016609957674518228\n",
            "mae= 0.01021925825625658\n"
          ]
        },
        {
          "output_type": "display_data",
          "data": {
            "image/png": "[encoded data removed]",
            "text/plain": [
              "<Figure size 432x288 with 1 Axes>"
            ]
          },
          "metadata": {
            "needs_background": "light"
          }
        }
      ]
    },
    {
      "cell_type": "markdown",
      "metadata": {
        "id": "OVGRQYg5beg_"
      },
      "source": [
        "## CNN"
      ]
    },
    {
      "cell_type": "code",
      "metadata": {
        "colab": {
          "base_uri": "https://localhost:8080/",
          "height": 1000
        },
        "id": "pXpoPikkbhpC",
        "outputId": "2e53cb5d-63da-4679-cd09-66542ab1bd50"
      },
      "source": [
        "from tensorflow import keras\n",
        "from tensorflow.keras.layers import Dense, RepeatVector, Flatten, Input\n",
        "from tensorflow.keras.layers import Bidirectional, LSTM, GRU\n",
        "from tensorflow.keras.layers import Conv2D, MaxPooling2D, Conv1D, MaxPooling1D, Input, Reshape\n",
        "1\n",
        "\n",
        "input_shape = train_x.shape[1:]\n",
        "# input_shape = (5,1)\n",
        "\n",
        "model = keras.Sequential()\n",
        "model.add(Input(input_shape))\n",
        "model.add(Conv1D(32, 3, padding=\"same\"))\n",
        "model.add(Conv1D(32, 3, padding=\"same\"))\n",
        "model.add(MaxPooling1D())\n",
        "model.add(Conv1D(32, 3, padding=\"same\"))\n",
        "model.add(Conv1D(32, 3, padding=\"same\"))\n",
        "model.add(MaxPooling1D())\n",
        "model.add(Flatten())\n",
        "model.add(Dense(10, activation=\"relu\"))\n",
        "model.add(Dense(1))\n",
        "model.compile(loss=\"mse\", optimizer=\"adam\", metrics=[\"mae\"])\n",
        "model.summary()\n",
        "\n",
        "history = model.fit(train_x, train_y, epochs=10, verbose=0, validation_split=0.1, batch_size=128)\n",
        "\n",
        "\n",
        "plt.plot(history.history['loss'])\n",
        "plt.plot(history.history['val_loss'])\n",
        "plt.show()\n",
        "\n",
        "\n",
        "\n",
        "loss, mae = model.evaluate(test_x, test_y)\n",
        "print(\"loss=\", loss)\n",
        "print(\"mae=\", mae)\n",
        "\n",
        "\n",
        "\n",
        "y_ = model.predict(test_x)\n",
        "plt.scatter(test_y, y_)\n",
        "plt.show()"
      ],
      "execution_count": 55,
      "outputs": [
        {
          "output_type": "stream",
          "name": "stdout",
          "text": [
            "Model: \"sequential_22\"\n",
            "_________________________________________________________________\n",
            " Layer (type)                Output Shape              Param #   \n",
            "=================================================================\n",
            " conv1d_6 (Conv1D)           (None, 5, 32)             128       \n",
            "                                                                 \n",
            " conv1d_7 (Conv1D)           (None, 5, 32)             3104      \n",
            "                                                                 \n",
            " max_pooling1d_2 (MaxPooling  (None, 2, 32)            0         \n",
            " 1D)                                                             \n",
            "                                                                 \n",
            " conv1d_8 (Conv1D)           (None, 2, 32)             3104      \n",
            "                                                                 \n",
            " conv1d_9 (Conv1D)           (None, 2, 32)             3104      \n",
            "                                                                 \n",
            " max_pooling1d_3 (MaxPooling  (None, 1, 32)            0         \n",
            " 1D)                                                             \n",
            "                                                                 \n",
            " flatten_17 (Flatten)        (None, 32)                0         \n",
            "                                                                 \n",
            " dense_39 (Dense)            (None, 10)                330       \n",
            "                                                                 \n",
            " dense_40 (Dense)            (None, 1)                 11        \n",
            "                                                                 \n",
            "=================================================================\n",
            "Total params: 9,781\n",
            "Trainable params: 9,781\n",
            "Non-trainable params: 0\n",
            "_________________________________________________________________\n"
          ]
        },
        {
          "output_type": "display_data",
          "data": {
            "image/png": "[encoded data removed]",
            "text/plain": [
              "<Figure size 432x288 with 1 Axes>"
            ]
          },
          "metadata": {
            "needs_background": "light"
          }
        },
        {
          "output_type": "stream",
          "name": "stdout",
          "text": [
            "7/7 [==============================] - 0s 3ms/step - loss: 1.0969e-05 - mae: 0.0027\n",
            "loss= 1.096879623219138e-05\n",
            "mae= 0.0026705118361860514\n"
          ]
        },
        {
          "output_type": "display_data",
          "data": {
            "image/png": "[encoded data removed]",
            "text/plain": [
              "<Figure size 432x288 with 1 Axes>"
            ]
          },
          "metadata": {
            "needs_background": "light"
          }
        }
      ]
    },
    {
      "cell_type": "markdown",
      "metadata": {
        "id": "0MW7OTLyfph4"
      },
      "source": [
        "## CNN + LSTM"
      ]
    },
    {
      "cell_type": "code",
      "metadata": {
        "colab": {
          "base_uri": "https://localhost:8080/",
          "height": 954
        },
        "id": "rjCgy-f1fph4",
        "outputId": "3c392900-583a-4f95-b2d7-40e1145ee752"
      },
      "source": [
        "from tensorflow import keras\n",
        "from tensorflow.keras.layers import Dense, RepeatVector, Flatten, Input\n",
        "from tensorflow.keras.layers import Bidirectional, LSTM, GRU\n",
        "from tensorflow.keras.layers import Conv2D, MaxPooling2D, Conv1D, MaxPooling1D, Input, Reshape\n",
        "1\n",
        "\n",
        "input_shape = train_x.shape[1:]\n",
        "# input_shape = (5,1)\n",
        "\n",
        "model = keras.Sequential()\n",
        "model.add(Input(input_shape))\n",
        "model.add(Conv1D(32, 3, padding=\"same\"))\n",
        "model.add(Conv1D(32, 3, padding=\"same\"))\n",
        "model.add(LSTM(128))\n",
        "model.add(Flatten())\n",
        "model.add(Dense(10, activation=\"relu\"))\n",
        "model.add(Dense(1))\n",
        "model.compile(loss=\"mse\", optimizer=\"adam\", metrics=[\"mae\"])\n",
        "model.summary()\n",
        "\n",
        "history = model.fit(train_x, train_y, epochs=10, verbose=0, validation_split=0.1, batch_size=128)\n",
        "\n",
        "\n",
        "plt.plot(history.history['loss'])\n",
        "plt.plot(history.history['val_loss'])\n",
        "plt.show()\n",
        "\n",
        "\n",
        "\n",
        "loss, mae = model.evaluate(test_x, test_y)\n",
        "print(\"loss=\", loss)\n",
        "print(\"mae=\", mae)\n",
        "\n",
        "\n",
        "\n",
        "y_ = model.predict(test_x)\n",
        "plt.scatter(test_y, y_)\n",
        "plt.show()"
      ],
      "execution_count": 56,
      "outputs": [
        {
          "output_type": "stream",
          "name": "stdout",
          "text": [
            "Model: \"sequential_23\"\n",
            "_________________________________________________________________\n",
            " Layer (type)                Output Shape              Param #   \n",
            "=================================================================\n",
            " conv1d_10 (Conv1D)          (None, 5, 32)             128       \n",
            "                                                                 \n",
            " conv1d_11 (Conv1D)          (None, 5, 32)             3104      \n",
            "                                                                 \n",
            " lstm_11 (LSTM)              (None, 128)               82432     \n",
            "                                                                 \n",
            " flatten_18 (Flatten)        (None, 128)               0         \n",
            "                                                                 \n",
            " dense_41 (Dense)            (None, 10)                1290      \n",
            "                                                                 \n",
            " dense_42 (Dense)            (None, 1)                 11        \n",
            "                                                                 \n",
            "=================================================================\n",
            "Total params: 86,965\n",
            "Trainable params: 86,965\n",
            "Non-trainable params: 0\n",
            "_________________________________________________________________\n"
          ]
        },
        {
          "output_type": "display_data",
          "data": {
            "image/png": "[encoded data removed]",
            "text/plain": [
              "<Figure size 432x288 with 1 Axes>"
            ]
          },
          "metadata": {
            "needs_background": "light"
          }
        },
        {
          "output_type": "stream",
          "name": "stdout",
          "text": [
            "7/7 [==============================] - 0s 4ms/step - loss: 1.3512e-04 - mae: 0.0095\n",
            "loss= 0.0001351181126665324\n",
            "mae= 0.009541586972773075\n"
          ]
        },
        {
          "output_type": "display_data",
          "data": {
            "image/png": "[encoded data removed]",
            "text/plain": [
              "<Figure size 432x288 with 1 Axes>"
            ]
          },
          "metadata": {
            "needs_background": "light"
          }
        }
      ]
    },
    {
      "cell_type": "code",
      "metadata": {
        "id": "iLwCRvt6fyHN"
      },
      "source": [
        ""
      ],
      "execution_count": 56,
      "outputs": []
    }
  ]
}