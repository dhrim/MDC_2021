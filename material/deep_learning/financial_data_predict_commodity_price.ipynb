{
  "nbformat": 4,
  "nbformat_minor": 0,
  "metadata": {
    "colab": {
      "name": "financial_data_predict_commodity_price.ipynb",
      "provenance": [],
      "collapsed_sections": [
        "t3J2t4Ymf0UF",
        "ESYLyhWeiRrf"
      ]
    },
    "kernelspec": {
      "name": "python3",
      "display_name": "Python 3"
    },
    "language_info": {
      "name": "python"
    },
    "accelerator": "GPU"
  },
  "cells": [
    {
      "cell_type": "markdown",
      "source": [
        "data from https://www.kaggle.com/mattiuzc/commodity-futures-price-history\n"
      ],
      "metadata": {
        "id": "ohP561iSdS78"
      }
    },
    {
      "cell_type": "markdown",
      "source": [
        "# 데이터 압축 풀기"
      ],
      "metadata": {
        "id": "xIEVVEF1frW-"
      }
    },
    {
      "cell_type": "code",
      "source": [
        "!wget https://github.com/dhrim/deep_learning_data/raw/master/commodity.zip"
      ],
      "metadata": {
        "colab": {
          "base_uri": "https://localhost:8080/"
        },
        "id": "ZnvrQDxheBkc",
        "outputId": "6b838bda-1ae9-409a-e5e3-ec91823974d0"
      },
      "execution_count": 1,
      "outputs": [
        {
          "output_type": "stream",
          "name": "stdout",
          "text": [
            "--2022-01-22 01:21:34--  https://github.com/dhrim/deep_learning_data/raw/master/commodity.zip\n",
            "Resolving github.com (github.com)... 140.82.114.4\n",
            "Connecting to github.com (github.com)|140.82.114.4|:443... connected.\n",
            "HTTP request sent, awaiting response... 302 Found\n",
            "Location: https://raw.githubusercontent.com/dhrim/deep_learning_data/master/commodity.zip [following]\n",
            "--2022-01-22 01:21:35--  https://raw.githubusercontent.com/dhrim/deep_learning_data/master/commodity.zip\n",
            "Resolving raw.githubusercontent.com (raw.githubusercontent.com)... 185.199.108.133, 185.199.109.133, 185.199.110.133, ...\n",
            "Connecting to raw.githubusercontent.com (raw.githubusercontent.com)|185.199.108.133|:443... connected.\n",
            "HTTP request sent, awaiting response... 200 OK\n",
            "Length: 1835488 (1.8M) [application/zip]\n",
            "Saving to: ‘commodity.zip’\n",
            "\n",
            "commodity.zip       100%[===================>]   1.75M  --.-KB/s    in 0.06s   \n",
            "\n",
            "2022-01-22 01:21:35 (31.1 MB/s) - ‘commodity.zip’ saved [1835488/1835488]\n",
            "\n"
          ]
        }
      ]
    },
    {
      "cell_type": "code",
      "execution_count": 2,
      "metadata": {
        "colab": {
          "base_uri": "https://localhost:8080/"
        },
        "id": "TJ7oZpj0dDrn",
        "outputId": "47993824-8c0f-472f-c64f-6e0160829f2d"
      },
      "outputs": [
        {
          "output_type": "stream",
          "name": "stdout",
          "text": [
            "Archive:  commodity.zip\n",
            "   creating: commodity/\n",
            "  inflating: commodity/Natural Gas.csv  \n",
            "  inflating: commodity/Soybean.csv   \n",
            "  inflating: commodity/Gold.csv      \n",
            "  inflating: commodity/Platinum.csv  \n",
            "  inflating: commodity/Heating Oil.csv  \n",
            "  inflating: commodity/Palladium.csv  \n",
            "  inflating: commodity/Silver.csv    \n",
            "  inflating: commodity/Lumber.csv    \n",
            "  inflating: commodity/Lean Hogs.csv  \n",
            "  inflating: commodity/Soybean Meal.csv  \n",
            "  inflating: commodity/Copper.csv    \n",
            "  inflating: commodity/Live Cattle.csv  \n",
            "  inflating: commodity/Soybean Oil.csv  \n",
            "  inflating: commodity/Brent Crude Oil.csv  \n",
            "  inflating: commodity/Cotton.csv    \n",
            "  inflating: commodity/RBOB Gasoline.csv  \n",
            "  inflating: commodity/Oat.csv       \n",
            "  inflating: commodity/Coffee.csv    \n",
            "  inflating: commodity/Wheat.csv     \n",
            "  inflating: commodity/Sugar.csv     \n",
            "  inflating: commodity/Corn.csv      \n",
            "  inflating: commodity/Crude Oil.csv  \n",
            "  inflating: commodity/Cocoa.csv     \n",
            "  inflating: commodity/Feeder Cattle.csv  \n"
          ]
        }
      ],
      "source": [
        "!rm -rf commodity\n",
        "!unzip commodity.zip"
      ]
    },
    {
      "cell_type": "code",
      "source": [
        "import numpy as np\n",
        "import pandas as pd\n",
        "import matplotlib.pyplot as plt"
      ],
      "metadata": {
        "id": "JRjPtpGXdW0L"
      },
      "execution_count": 3,
      "outputs": []
    },
    {
      "cell_type": "markdown",
      "source": [
        "# 파라매터 설정"
      ],
      "metadata": {
        "id": "37eayrO3y-3K"
      }
    },
    {
      "cell_type": "code",
      "source": [
        "SEQUENCE_LENGTH = 10\n",
        "OFFSET = 1\n",
        "BATCH_SIZE = 32"
      ],
      "metadata": {
        "id": "F2iE0M7Hy6Q6"
      },
      "execution_count": 4,
      "outputs": []
    },
    {
      "cell_type": "markdown",
      "source": [
        "# 데이터 로딩"
      ],
      "metadata": {
        "id": "Zu_4OtD_ftsY"
      }
    },
    {
      "cell_type": "code",
      "source": [
        "df = pd.read_csv(\"commodity/Silver.csv\")\n",
        "df.head()"
      ],
      "metadata": {
        "colab": {
          "base_uri": "https://localhost:8080/",
          "height": 206
        },
        "id": "g4lWKXiCdcP8",
        "outputId": "49ec6d49-167f-439f-a4bb-866084755c2e"
      },
      "execution_count": 5,
      "outputs": [
        {
          "output_type": "execute_result",
          "data": {
            "text/html": [
              "\n",
              "  <div id=\"df-22ee63c4-30c5-447e-979a-33e80f5fd34a\">\n",
              "    <div class=\"colab-df-container\">\n",
              "      <div>\n",
              "<style scoped>\n",
              "    .dataframe tbody tr th:only-of-type {\n",
              "        vertical-align: middle;\n",
              "    }\n",
              "\n",
              "    .dataframe tbody tr th {\n",
              "        vertical-align: top;\n",
              "    }\n",
              "\n",
              "    .dataframe thead th {\n",
              "        text-align: right;\n",
              "    }\n",
              "</style>\n",
              "<table border=\"1\" class=\"dataframe\">\n",
              "  <thead>\n",
              "    <tr style=\"text-align: right;\">\n",
              "      <th></th>\n",
              "      <th>Date</th>\n",
              "      <th>Open</th>\n",
              "      <th>High</th>\n",
              "      <th>Low</th>\n",
              "      <th>Close</th>\n",
              "      <th>Adj Close</th>\n",
              "      <th>Volume</th>\n",
              "    </tr>\n",
              "  </thead>\n",
              "  <tbody>\n",
              "    <tr>\n",
              "      <th>0</th>\n",
              "      <td>2000-08-30</td>\n",
              "      <td>4.950</td>\n",
              "      <td>4.950</td>\n",
              "      <td>4.895</td>\n",
              "      <td>4.930</td>\n",
              "      <td>4.930</td>\n",
              "      <td>2319.0</td>\n",
              "    </tr>\n",
              "    <tr>\n",
              "      <th>1</th>\n",
              "      <td>2000-08-31</td>\n",
              "      <td>4.920</td>\n",
              "      <td>5.045</td>\n",
              "      <td>4.920</td>\n",
              "      <td>5.003</td>\n",
              "      <td>5.003</td>\n",
              "      <td>1612.0</td>\n",
              "    </tr>\n",
              "    <tr>\n",
              "      <th>2</th>\n",
              "      <td>2000-09-01</td>\n",
              "      <td>5.035</td>\n",
              "      <td>5.035</td>\n",
              "      <td>4.985</td>\n",
              "      <td>5.004</td>\n",
              "      <td>5.004</td>\n",
              "      <td>1375.0</td>\n",
              "    </tr>\n",
              "    <tr>\n",
              "      <th>3</th>\n",
              "      <td>2000-09-04</td>\n",
              "      <td>NaN</td>\n",
              "      <td>NaN</td>\n",
              "      <td>NaN</td>\n",
              "      <td>NaN</td>\n",
              "      <td>NaN</td>\n",
              "      <td>NaN</td>\n",
              "    </tr>\n",
              "    <tr>\n",
              "      <th>4</th>\n",
              "      <td>2000-09-05</td>\n",
              "      <td>4.990</td>\n",
              "      <td>5.005</td>\n",
              "      <td>4.975</td>\n",
              "      <td>4.998</td>\n",
              "      <td>4.998</td>\n",
              "      <td>856.0</td>\n",
              "    </tr>\n",
              "  </tbody>\n",
              "</table>\n",
              "</div>\n",
              "      <button class=\"colab-df-convert\" onclick=\"convertToInteractive('df-22ee63c4-30c5-447e-979a-33e80f5fd34a')\"\n",
              "              title=\"Convert this dataframe to an interactive table.\"\n",
              "              style=\"display:none;\">\n",
              "        \n",
              "  <svg xmlns=\"http://www.w3.org/2000/svg\" height=\"24px\"viewBox=\"0 0 24 24\"\n",
              "       width=\"24px\">\n",
              "    <path d=\"M0 0h24v24H0V0z\" fill=\"none\"/>\n",
              "    <path d=\"M18.56 5.44l.94 2.06.94-2.06 2.06-.94-2.06-.94-.94-2.06-.94 2.06-2.06.94zm-11 1L8.5 8.5l.94-2.06 2.06-.94-2.06-.94L8.5 2.5l-.94 2.06-2.06.94zm10 10l.94 2.06.94-2.06 2.06-.94-2.06-.94-.94-2.06-.94 2.06-2.06.94z\"/><path d=\"M17.41 7.96l-1.37-1.37c-.4-.4-.92-.59-1.43-.59-.52 0-1.04.2-1.43.59L10.3 9.45l-7.72 7.72c-.78.78-.78 2.05 0 2.83L4 21.41c.39.39.9.59 1.41.59.51 0 1.02-.2 1.41-.59l7.78-7.78 2.81-2.81c.8-.78.8-2.07 0-2.86zM5.41 20L4 18.59l7.72-7.72 1.47 1.35L5.41 20z\"/>\n",
              "  </svg>\n",
              "      </button>\n",
              "      \n",
              "  <style>\n",
              "    .colab-df-container {\n",
              "      display:flex;\n",
              "      flex-wrap:wrap;\n",
              "      gap: 12px;\n",
              "    }\n",
              "\n",
              "    .colab-df-convert {\n",
              "      background-color: #E8F0FE;\n",
              "      border: none;\n",
              "      border-radius: 50%;\n",
              "      cursor: pointer;\n",
              "      display: none;\n",
              "      fill: #1967D2;\n",
              "      height: 32px;\n",
              "      padding: 0 0 0 0;\n",
              "      width: 32px;\n",
              "    }\n",
              "\n",
              "    .colab-df-convert:hover {\n",
              "      background-color: #E2EBFA;\n",
              "      box-shadow: 0px 1px 2px rgba(60, 64, 67, 0.3), 0px 1px 3px 1px rgba(60, 64, 67, 0.15);\n",
              "      fill: #174EA6;\n",
              "    }\n",
              "\n",
              "    [theme=dark] .colab-df-convert {\n",
              "      background-color: #3B4455;\n",
              "      fill: #D2E3FC;\n",
              "    }\n",
              "\n",
              "    [theme=dark] .colab-df-convert:hover {\n",
              "      background-color: #434B5C;\n",
              "      box-shadow: 0px 1px 3px 1px rgba(0, 0, 0, 0.15);\n",
              "      filter: drop-shadow(0px 1px 2px rgba(0, 0, 0, 0.3));\n",
              "      fill: #FFFFFF;\n",
              "    }\n",
              "  </style>\n",
              "\n",
              "      <script>\n",
              "        const buttonEl =\n",
              "          document.querySelector('#df-22ee63c4-30c5-447e-979a-33e80f5fd34a button.colab-df-convert');\n",
              "        buttonEl.style.display =\n",
              "          google.colab.kernel.accessAllowed ? 'block' : 'none';\n",
              "\n",
              "        async function convertToInteractive(key) {\n",
              "          const element = document.querySelector('#df-22ee63c4-30c5-447e-979a-33e80f5fd34a');\n",
              "          const dataTable =\n",
              "            await google.colab.kernel.invokeFunction('convertToInteractive',\n",
              "                                                     [key], {});\n",
              "          if (!dataTable) return;\n",
              "\n",
              "          const docLinkHtml = 'Like what you see? Visit the ' +\n",
              "            '<a target=\"_blank\" href=https://colab.research.google.com/notebooks/data_table.ipynb>data table notebook</a>'\n",
              "            + ' to learn more about interactive tables.';\n",
              "          element.innerHTML = '';\n",
              "          dataTable['output_type'] = 'display_data';\n",
              "          await google.colab.output.renderOutput(dataTable, element);\n",
              "          const docLink = document.createElement('div');\n",
              "          docLink.innerHTML = docLinkHtml;\n",
              "          element.appendChild(docLink);\n",
              "        }\n",
              "      </script>\n",
              "    </div>\n",
              "  </div>\n",
              "  "
            ],
            "text/plain": [
              "         Date   Open   High    Low  Close  Adj Close  Volume\n",
              "0  2000-08-30  4.950  4.950  4.895  4.930      4.930  2319.0\n",
              "1  2000-08-31  4.920  5.045  4.920  5.003      5.003  1612.0\n",
              "2  2000-09-01  5.035  5.035  4.985  5.004      5.004  1375.0\n",
              "3  2000-09-04    NaN    NaN    NaN    NaN        NaN     NaN\n",
              "4  2000-09-05  4.990  5.005  4.975  4.998      4.998   856.0"
            ]
          },
          "metadata": {},
          "execution_count": 5
        }
      ]
    },
    {
      "cell_type": "code",
      "source": [
        "print(len(df))"
      ],
      "metadata": {
        "colab": {
          "base_uri": "https://localhost:8080/"
        },
        "id": "er07xkbpdnLf",
        "outputId": "296ac630-00c8-4b18-80b7-3eaa74ad7768"
      },
      "execution_count": 6,
      "outputs": [
        {
          "output_type": "stream",
          "name": "stdout",
          "text": [
            "5291\n"
          ]
        }
      ]
    },
    {
      "cell_type": "markdown",
      "source": [
        "# 결측치 처리"
      ],
      "metadata": {
        "id": "kh7oOvIifwgm"
      }
    },
    {
      "cell_type": "code",
      "source": [
        "df.info()"
      ],
      "metadata": {
        "colab": {
          "base_uri": "https://localhost:8080/"
        },
        "id": "suMkYKdTduGY",
        "outputId": "9a95782a-718a-4eeb-9092-b0201bbb79c2"
      },
      "execution_count": 7,
      "outputs": [
        {
          "output_type": "stream",
          "name": "stdout",
          "text": [
            "<class 'pandas.core.frame.DataFrame'>\n",
            "RangeIndex: 5291 entries, 0 to 5290\n",
            "Data columns (total 7 columns):\n",
            " #   Column     Non-Null Count  Dtype  \n",
            "---  ------     --------------  -----  \n",
            " 0   Date       5291 non-null   object \n",
            " 1   Open       5181 non-null   float64\n",
            " 2   High       5181 non-null   float64\n",
            " 3   Low        5181 non-null   float64\n",
            " 4   Close      5181 non-null   float64\n",
            " 5   Adj Close  5181 non-null   float64\n",
            " 6   Volume     5181 non-null   float64\n",
            "dtypes: float64(6), object(1)\n",
            "memory usage: 289.5+ KB\n"
          ]
        }
      ]
    },
    {
      "cell_type": "code",
      "source": [
        "df.isnull().sum()"
      ],
      "metadata": {
        "colab": {
          "base_uri": "https://localhost:8080/"
        },
        "id": "8VlYB3fEd0bM",
        "outputId": "93ac533f-2db9-4ba9-c4a9-30fa510397fd"
      },
      "execution_count": 8,
      "outputs": [
        {
          "output_type": "execute_result",
          "data": {
            "text/plain": [
              "Date           0\n",
              "Open         110\n",
              "High         110\n",
              "Low          110\n",
              "Close        110\n",
              "Adj Close    110\n",
              "Volume       110\n",
              "dtype: int64"
            ]
          },
          "metadata": {},
          "execution_count": 8
        }
      ]
    },
    {
      "cell_type": "code",
      "source": [
        "df = df.dropna()"
      ],
      "metadata": {
        "id": "uMf9RDKZd9WC"
      },
      "execution_count": 9,
      "outputs": []
    },
    {
      "cell_type": "code",
      "source": [
        "df.isnull().sum()"
      ],
      "metadata": {
        "colab": {
          "base_uri": "https://localhost:8080/"
        },
        "id": "dnO_h4QJeH8t",
        "outputId": "c56d6d5c-148d-47e1-ea4e-da1c4ece3696"
      },
      "execution_count": 10,
      "outputs": [
        {
          "output_type": "execute_result",
          "data": {
            "text/plain": [
              "Date         0\n",
              "Open         0\n",
              "High         0\n",
              "Low          0\n",
              "Close        0\n",
              "Adj Close    0\n",
              "Volume       0\n",
              "dtype: int64"
            ]
          },
          "metadata": {},
          "execution_count": 10
        }
      ]
    },
    {
      "cell_type": "code",
      "source": [
        "df.info()"
      ],
      "metadata": {
        "colab": {
          "base_uri": "https://localhost:8080/"
        },
        "id": "YMIpK7ebeROK",
        "outputId": "52cab458-b6a5-4ef3-9b2d-15fe1730d008"
      },
      "execution_count": 11,
      "outputs": [
        {
          "output_type": "stream",
          "name": "stdout",
          "text": [
            "<class 'pandas.core.frame.DataFrame'>\n",
            "Int64Index: 5181 entries, 0 to 5290\n",
            "Data columns (total 7 columns):\n",
            " #   Column     Non-Null Count  Dtype  \n",
            "---  ------     --------------  -----  \n",
            " 0   Date       5181 non-null   object \n",
            " 1   Open       5181 non-null   float64\n",
            " 2   High       5181 non-null   float64\n",
            " 3   Low        5181 non-null   float64\n",
            " 4   Close      5181 non-null   float64\n",
            " 5   Adj Close  5181 non-null   float64\n",
            " 6   Volume     5181 non-null   float64\n",
            "dtypes: float64(6), object(1)\n",
            "memory usage: 323.8+ KB\n"
          ]
        }
      ]
    },
    {
      "cell_type": "markdown",
      "source": [
        "# 정렬 순서 확인"
      ],
      "metadata": {
        "id": "t3J2t4Ymf0UF"
      }
    },
    {
      "cell_type": "code",
      "source": [
        "df.sort_values(by=[\"Date\"])"
      ],
      "metadata": {
        "colab": {
          "base_uri": "https://localhost:8080/",
          "height": 0
        },
        "id": "_ms5GTSxew67",
        "outputId": "9331b9b8-fec7-4c00-fb94-c0ac19c965e5"
      },
      "execution_count": 12,
      "outputs": [
        {
          "output_type": "execute_result",
          "data": {
            "text/html": [
              "\n",
              "  <div id=\"df-beec58db-9907-428e-8836-a72456198dd0\">\n",
              "    <div class=\"colab-df-container\">\n",
              "      <div>\n",
              "<style scoped>\n",
              "    .dataframe tbody tr th:only-of-type {\n",
              "        vertical-align: middle;\n",
              "    }\n",
              "\n",
              "    .dataframe tbody tr th {\n",
              "        vertical-align: top;\n",
              "    }\n",
              "\n",
              "    .dataframe thead th {\n",
              "        text-align: right;\n",
              "    }\n",
              "</style>\n",
              "<table border=\"1\" class=\"dataframe\">\n",
              "  <thead>\n",
              "    <tr style=\"text-align: right;\">\n",
              "      <th></th>\n",
              "      <th>Date</th>\n",
              "      <th>Open</th>\n",
              "      <th>High</th>\n",
              "      <th>Low</th>\n",
              "      <th>Close</th>\n",
              "      <th>Adj Close</th>\n",
              "      <th>Volume</th>\n",
              "    </tr>\n",
              "  </thead>\n",
              "  <tbody>\n",
              "    <tr>\n",
              "      <th>0</th>\n",
              "      <td>2000-08-30</td>\n",
              "      <td>4.950000</td>\n",
              "      <td>4.950000</td>\n",
              "      <td>4.895000</td>\n",
              "      <td>4.930000</td>\n",
              "      <td>4.930000</td>\n",
              "      <td>2319.0</td>\n",
              "    </tr>\n",
              "    <tr>\n",
              "      <th>1</th>\n",
              "      <td>2000-08-31</td>\n",
              "      <td>4.920000</td>\n",
              "      <td>5.045000</td>\n",
              "      <td>4.920000</td>\n",
              "      <td>5.003000</td>\n",
              "      <td>5.003000</td>\n",
              "      <td>1612.0</td>\n",
              "    </tr>\n",
              "    <tr>\n",
              "      <th>2</th>\n",
              "      <td>2000-09-01</td>\n",
              "      <td>5.035000</td>\n",
              "      <td>5.035000</td>\n",
              "      <td>4.985000</td>\n",
              "      <td>5.004000</td>\n",
              "      <td>5.004000</td>\n",
              "      <td>1375.0</td>\n",
              "    </tr>\n",
              "    <tr>\n",
              "      <th>4</th>\n",
              "      <td>2000-09-05</td>\n",
              "      <td>4.990000</td>\n",
              "      <td>5.005000</td>\n",
              "      <td>4.975000</td>\n",
              "      <td>4.998000</td>\n",
              "      <td>4.998000</td>\n",
              "      <td>856.0</td>\n",
              "    </tr>\n",
              "    <tr>\n",
              "      <th>5</th>\n",
              "      <td>2000-09-06</td>\n",
              "      <td>5.000000</td>\n",
              "      <td>5.000000</td>\n",
              "      <td>4.980000</td>\n",
              "      <td>4.983000</td>\n",
              "      <td>4.983000</td>\n",
              "      <td>232.0</td>\n",
              "    </tr>\n",
              "    <tr>\n",
              "      <th>...</th>\n",
              "      <td>...</td>\n",
              "      <td>...</td>\n",
              "      <td>...</td>\n",
              "      <td>...</td>\n",
              "      <td>...</td>\n",
              "      <td>...</td>\n",
              "      <td>...</td>\n",
              "    </tr>\n",
              "    <tr>\n",
              "      <th>5286</th>\n",
              "      <td>2021-06-03</td>\n",
              "      <td>27.190001</td>\n",
              "      <td>27.459999</td>\n",
              "      <td>27.190001</td>\n",
              "      <td>27.459999</td>\n",
              "      <td>27.459999</td>\n",
              "      <td>20.0</td>\n",
              "    </tr>\n",
              "    <tr>\n",
              "      <th>5287</th>\n",
              "      <td>2021-06-04</td>\n",
              "      <td>27.879000</td>\n",
              "      <td>27.879000</td>\n",
              "      <td>27.879000</td>\n",
              "      <td>27.879000</td>\n",
              "      <td>27.879000</td>\n",
              "      <td>0.0</td>\n",
              "    </tr>\n",
              "    <tr>\n",
              "      <th>5288</th>\n",
              "      <td>2021-06-07</td>\n",
              "      <td>27.615000</td>\n",
              "      <td>28.000999</td>\n",
              "      <td>27.615000</td>\n",
              "      <td>28.000999</td>\n",
              "      <td>28.000999</td>\n",
              "      <td>4.0</td>\n",
              "    </tr>\n",
              "    <tr>\n",
              "      <th>5289</th>\n",
              "      <td>2021-06-08</td>\n",
              "      <td>28.010000</td>\n",
              "      <td>28.010000</td>\n",
              "      <td>27.705000</td>\n",
              "      <td>27.715000</td>\n",
              "      <td>27.715000</td>\n",
              "      <td>27.0</td>\n",
              "    </tr>\n",
              "    <tr>\n",
              "      <th>5290</th>\n",
              "      <td>2021-06-09</td>\n",
              "      <td>27.695000</td>\n",
              "      <td>27.985001</td>\n",
              "      <td>27.695000</td>\n",
              "      <td>27.985001</td>\n",
              "      <td>27.985001</td>\n",
              "      <td>27.0</td>\n",
              "    </tr>\n",
              "  </tbody>\n",
              "</table>\n",
              "<p>5181 rows × 7 columns</p>\n",
              "</div>\n",
              "      <button class=\"colab-df-convert\" onclick=\"convertToInteractive('df-beec58db-9907-428e-8836-a72456198dd0')\"\n",
              "              title=\"Convert this dataframe to an interactive table.\"\n",
              "              style=\"display:none;\">\n",
              "        \n",
              "  <svg xmlns=\"http://www.w3.org/2000/svg\" height=\"24px\"viewBox=\"0 0 24 24\"\n",
              "       width=\"24px\">\n",
              "    <path d=\"M0 0h24v24H0V0z\" fill=\"none\"/>\n",
              "    <path d=\"M18.56 5.44l.94 2.06.94-2.06 2.06-.94-2.06-.94-.94-2.06-.94 2.06-2.06.94zm-11 1L8.5 8.5l.94-2.06 2.06-.94-2.06-.94L8.5 2.5l-.94 2.06-2.06.94zm10 10l.94 2.06.94-2.06 2.06-.94-2.06-.94-.94-2.06-.94 2.06-2.06.94z\"/><path d=\"M17.41 7.96l-1.37-1.37c-.4-.4-.92-.59-1.43-.59-.52 0-1.04.2-1.43.59L10.3 9.45l-7.72 7.72c-.78.78-.78 2.05 0 2.83L4 21.41c.39.39.9.59 1.41.59.51 0 1.02-.2 1.41-.59l7.78-7.78 2.81-2.81c.8-.78.8-2.07 0-2.86zM5.41 20L4 18.59l7.72-7.72 1.47 1.35L5.41 20z\"/>\n",
              "  </svg>\n",
              "      </button>\n",
              "      \n",
              "  <style>\n",
              "    .colab-df-container {\n",
              "      display:flex;\n",
              "      flex-wrap:wrap;\n",
              "      gap: 12px;\n",
              "    }\n",
              "\n",
              "    .colab-df-convert {\n",
              "      background-color: #E8F0FE;\n",
              "      border: none;\n",
              "      border-radius: 50%;\n",
              "      cursor: pointer;\n",
              "      display: none;\n",
              "      fill: #1967D2;\n",
              "      height: 32px;\n",
              "      padding: 0 0 0 0;\n",
              "      width: 32px;\n",
              "    }\n",
              "\n",
              "    .colab-df-convert:hover {\n",
              "      background-color: #E2EBFA;\n",
              "      box-shadow: 0px 1px 2px rgba(60, 64, 67, 0.3), 0px 1px 3px 1px rgba(60, 64, 67, 0.15);\n",
              "      fill: #174EA6;\n",
              "    }\n",
              "\n",
              "    [theme=dark] .colab-df-convert {\n",
              "      background-color: #3B4455;\n",
              "      fill: #D2E3FC;\n",
              "    }\n",
              "\n",
              "    [theme=dark] .colab-df-convert:hover {\n",
              "      background-color: #434B5C;\n",
              "      box-shadow: 0px 1px 3px 1px rgba(0, 0, 0, 0.15);\n",
              "      filter: drop-shadow(0px 1px 2px rgba(0, 0, 0, 0.3));\n",
              "      fill: #FFFFFF;\n",
              "    }\n",
              "  </style>\n",
              "\n",
              "      <script>\n",
              "        const buttonEl =\n",
              "          document.querySelector('#df-beec58db-9907-428e-8836-a72456198dd0 button.colab-df-convert');\n",
              "        buttonEl.style.display =\n",
              "          google.colab.kernel.accessAllowed ? 'block' : 'none';\n",
              "\n",
              "        async function convertToInteractive(key) {\n",
              "          const element = document.querySelector('#df-beec58db-9907-428e-8836-a72456198dd0');\n",
              "          const dataTable =\n",
              "            await google.colab.kernel.invokeFunction('convertToInteractive',\n",
              "                                                     [key], {});\n",
              "          if (!dataTable) return;\n",
              "\n",
              "          const docLinkHtml = 'Like what you see? Visit the ' +\n",
              "            '<a target=\"_blank\" href=https://colab.research.google.com/notebooks/data_table.ipynb>data table notebook</a>'\n",
              "            + ' to learn more about interactive tables.';\n",
              "          element.innerHTML = '';\n",
              "          dataTable['output_type'] = 'display_data';\n",
              "          await google.colab.output.renderOutput(dataTable, element);\n",
              "          const docLink = document.createElement('div');\n",
              "          docLink.innerHTML = docLinkHtml;\n",
              "          element.appendChild(docLink);\n",
              "        }\n",
              "      </script>\n",
              "    </div>\n",
              "  </div>\n",
              "  "
            ],
            "text/plain": [
              "            Date       Open       High        Low      Close  Adj Close  Volume\n",
              "0     2000-08-30   4.950000   4.950000   4.895000   4.930000   4.930000  2319.0\n",
              "1     2000-08-31   4.920000   5.045000   4.920000   5.003000   5.003000  1612.0\n",
              "2     2000-09-01   5.035000   5.035000   4.985000   5.004000   5.004000  1375.0\n",
              "4     2000-09-05   4.990000   5.005000   4.975000   4.998000   4.998000   856.0\n",
              "5     2000-09-06   5.000000   5.000000   4.980000   4.983000   4.983000   232.0\n",
              "...          ...        ...        ...        ...        ...        ...     ...\n",
              "5286  2021-06-03  27.190001  27.459999  27.190001  27.459999  27.459999    20.0\n",
              "5287  2021-06-04  27.879000  27.879000  27.879000  27.879000  27.879000     0.0\n",
              "5288  2021-06-07  27.615000  28.000999  27.615000  28.000999  28.000999     4.0\n",
              "5289  2021-06-08  28.010000  28.010000  27.705000  27.715000  27.715000    27.0\n",
              "5290  2021-06-09  27.695000  27.985001  27.695000  27.985001  27.985001    27.0\n",
              "\n",
              "[5181 rows x 7 columns]"
            ]
          },
          "metadata": {},
          "execution_count": 12
        }
      ]
    },
    {
      "cell_type": "code",
      "source": [
        "sorted_index = df.sort_values(by=[\"Date\"]).index"
      ],
      "metadata": {
        "id": "ZRs14Udwe5SR"
      },
      "execution_count": 13,
      "outputs": []
    },
    {
      "cell_type": "code",
      "source": [
        "print(sorted_index)\n",
        "print(sorted_index - df.index)\n",
        "print(sum(sorted_index - df.index))"
      ],
      "metadata": {
        "colab": {
          "base_uri": "https://localhost:8080/"
        },
        "id": "ybOz2otyfTjE",
        "outputId": "dbba6a00-8935-40ad-a741-75e79e1102ed"
      },
      "execution_count": 14,
      "outputs": [
        {
          "output_type": "stream",
          "name": "stdout",
          "text": [
            "Int64Index([   0,    1,    2,    4,    5,    6,    7,    8,    9,   10,\n",
            "            ...\n",
            "            5281, 5282, 5283, 5284, 5285, 5286, 5287, 5288, 5289, 5290],\n",
            "           dtype='int64', length=5181)\n",
            "Int64Index([0, 0, 0, 0, 0, 0, 0, 0, 0, 0,\n",
            "            ...\n",
            "            0, 0, 0, 0, 0, 0, 0, 0, 0, 0],\n",
            "           dtype='int64', length=5181)\n",
            "0\n"
          ]
        }
      ]
    },
    {
      "cell_type": "code",
      "source": [
        "print(df['Close'] - df['Adj Close'])\n",
        "print(sum(df['Close'] - df['Adj Close']))"
      ],
      "metadata": {
        "colab": {
          "base_uri": "https://localhost:8080/"
        },
        "id": "bzUbYVEJhVab",
        "outputId": "6c37d48b-41a3-411e-c391-68e9fc779bb2"
      },
      "execution_count": 15,
      "outputs": [
        {
          "output_type": "stream",
          "name": "stdout",
          "text": [
            "0       0.0\n",
            "1       0.0\n",
            "2       0.0\n",
            "4       0.0\n",
            "5       0.0\n",
            "       ... \n",
            "5286    0.0\n",
            "5287    0.0\n",
            "5288    0.0\n",
            "5289    0.0\n",
            "5290    0.0\n",
            "Length: 5181, dtype: float64\n",
            "0.0\n"
          ]
        }
      ]
    },
    {
      "cell_type": "code",
      "source": [
        "df.drop(columns=[\"Date\", \"Adj Close\"], inplace=True)"
      ],
      "metadata": {
        "id": "RU6dxvFnhqTB",
        "outputId": "930d3623-f123-4e55-ce1f-a4977b5c0426",
        "colab": {
          "base_uri": "https://localhost:8080/"
        }
      },
      "execution_count": 16,
      "outputs": [
        {
          "output_type": "stream",
          "name": "stderr",
          "text": [
            "/usr/local/lib/python3.7/dist-packages/pandas/core/frame.py:4174: SettingWithCopyWarning: \n",
            "A value is trying to be set on a copy of a slice from a DataFrame\n",
            "\n",
            "See the caveats in the documentation: https://pandas.pydata.org/pandas-docs/stable/user_guide/indexing.html#returning-a-view-versus-a-copy\n",
            "  errors=errors,\n"
          ]
        }
      ]
    },
    {
      "cell_type": "code",
      "source": [
        "for i in range(len(df.columns)):\n",
        "    print(df.columns[i])\n",
        "    plt.hist(df.iloc[:,i], bins=1000)\n",
        "    plt.show()"
      ],
      "metadata": {
        "colab": {
          "base_uri": "https://localhost:8080/",
          "height": 0
        },
        "id": "LF73-1VEitmC",
        "outputId": "33bc0980-833d-42c7-e891-957547ed4289"
      },
      "execution_count": 17,
      "outputs": [
        {
          "output_type": "stream",
          "name": "stdout",
          "text": [
            "Open\n"
          ]
        },
        {
          "output_type": "display_data",
          "data": {
            "image/png": "[encoded data removed]",
            "text/plain": [
              "<Figure size 432x288 with 1 Axes>"
            ]
          },
          "metadata": {
            "needs_background": "light"
          }
        },
        {
          "output_type": "stream",
          "name": "stdout",
          "text": [
            "High\n"
          ]
        },
        {
          "output_type": "display_data",
          "data": {
            "image/png": "[encoded data removed]",
            "text/plain": [
              "<Figure size 432x288 with 1 Axes>"
            ]
          },
          "metadata": {
            "needs_background": "light"
          }
        },
        {
          "output_type": "stream",
          "name": "stdout",
          "text": [
            "Low\n"
          ]
        },
        {
          "output_type": "display_data",
          "data": {
            "image/png": "[encoded data removed]",
            "text/plain": [
              "<Figure size 432x288 with 1 Axes>"
            ]
          },
          "metadata": {
            "needs_background": "light"
          }
        },
        {
          "output_type": "stream",
          "name": "stdout",
          "text": [
            "Close\n"
          ]
        },
        {
          "output_type": "display_data",
          "data": {
            "image/png": "[encoded data removed]",
            "text/plain": [
              "<Figure size 432x288 with 1 Axes>"
            ]
          },
          "metadata": {
            "needs_background": "light"
          }
        },
        {
          "output_type": "stream",
          "name": "stdout",
          "text": [
            "Volume\n"
          ]
        },
        {
          "output_type": "display_data",
          "data": {
            "image/png": "[encoded data removed]",
            "text/plain": [
              "<Figure size 432x288 with 1 Axes>"
            ]
          },
          "metadata": {
            "needs_background": "light"
          }
        }
      ]
    },
    {
      "cell_type": "code",
      "source": [
        "plt.figure(figsize=(14,3))\n",
        "plt.plot(df.iloc[:,0])\n",
        "plt.show()\n",
        "\n",
        "plt.figure(figsize=(14,3))\n",
        "plt.plot(df.iloc[:,4])\n",
        "plt.show()\n"
      ],
      "metadata": {
        "colab": {
          "base_uri": "https://localhost:8080/",
          "height": 0
        },
        "id": "M7QQvslWo4qS",
        "outputId": "5abb5d44-c551-42a9-b3a2-0346b81a7530"
      },
      "execution_count": 18,
      "outputs": [
        {
          "output_type": "display_data",
          "data": {
            "image/png": "[encoded data removed]",
            "text/plain": [
              "<Figure size 1008x216 with 1 Axes>"
            ]
          },
          "metadata": {
            "needs_background": "light"
          }
        },
        {
          "output_type": "display_data",
          "data": {
            "image/png": "[encoded data removed]",
            "text/plain": [
              "<Figure size 1008x216 with 1 Axes>"
            ]
          },
          "metadata": {
            "needs_background": "light"
          }
        }
      ]
    },
    {
      "cell_type": "code",
      "source": [
        "raw_data = df.to_numpy()\n",
        "print(raw_data.shape)"
      ],
      "metadata": {
        "colab": {
          "base_uri": "https://localhost:8080/"
        },
        "id": "FadYdDdcgt47",
        "outputId": "bd0c8bda-dbe4-418e-8cea-0d0f7ff25bac"
      },
      "execution_count": 19,
      "outputs": [
        {
          "output_type": "stream",
          "name": "stdout",
          "text": [
            "(5181, 5)\n"
          ]
        }
      ]
    },
    {
      "cell_type": "code",
      "source": [
        "print(raw_data[:5])"
      ],
      "metadata": {
        "colab": {
          "base_uri": "https://localhost:8080/"
        },
        "id": "GplAuvN3g30t",
        "outputId": "1d04a5ee-baee-440f-d272-501192530094"
      },
      "execution_count": 20,
      "outputs": [
        {
          "output_type": "stream",
          "name": "stdout",
          "text": [
            "[[   4.95     4.95     4.895    4.93  2319.   ]\n",
            " [   4.92     5.045    4.92     5.003 1612.   ]\n",
            " [   5.035    5.035    4.985    5.004 1375.   ]\n",
            " [   4.99     5.005    4.975    4.998  856.   ]\n",
            " [   5.       5.       4.98     4.983  232.   ]]\n"
          ]
        }
      ]
    },
    {
      "cell_type": "markdown",
      "source": [
        "# normalize"
      ],
      "metadata": {
        "id": "ESYLyhWeiRrf"
      }
    },
    {
      "cell_type": "code",
      "source": [
        "maxs = raw_data.max(axis=0)\n",
        "print(maxs)\n",
        "mins = raw_data.min(axis=0)\n",
        "print(mins)"
      ],
      "metadata": {
        "colab": {
          "base_uri": "https://localhost:8080/"
        },
        "id": "NmEhUiEAhxOG",
        "outputId": "6a92f6be-5e5f-40f4-908c-e900e2750f24"
      },
      "execution_count": 21,
      "outputs": [
        {
          "output_type": "stream",
          "name": "stdout",
          "text": [
            "[4.8459999e+01 4.9520000e+01 4.7540001e+01 4.8584000e+01 1.7029700e+05]\n",
            "[4.026 4.026 4.026 4.026 0.   ]\n"
          ]
        }
      ]
    },
    {
      "cell_type": "code",
      "source": [
        "normalized = (raw_data - mins) / (maxs - mins)\n",
        "print(normalized[:5])"
      ],
      "metadata": {
        "colab": {
          "base_uri": "https://localhost:8080/"
        },
        "id": "SwjTIY6aiHQo",
        "outputId": "31115321-b0a7-4e51-c632-f734552b32ed"
      },
      "execution_count": 22,
      "outputs": [
        {
          "output_type": "stream",
          "name": "stdout",
          "text": [
            "[[0.02079489 0.02031037 0.01997058 0.02028816 0.01361739]\n",
            " [0.02011973 0.02239856 0.02054511 0.02192648 0.00946582]\n",
            " [0.02270784 0.02217875 0.02203888 0.02194892 0.00807413]\n",
            " [0.0216951  0.02151932 0.02180907 0.02181426 0.00502651]\n",
            " [0.02192015 0.02140942 0.02192398 0.02147762 0.00136233]]\n"
          ]
        }
      ]
    },
    {
      "cell_type": "code",
      "source": [
        "preprocessed = normalized"
      ],
      "metadata": {
        "id": "35hCAbte1YO3"
      },
      "execution_count": 23,
      "outputs": []
    },
    {
      "cell_type": "markdown",
      "source": [
        "# by Data Sampling"
      ],
      "metadata": {
        "id": "c0LQqW08jtvW"
      }
    },
    {
      "cell_type": "code",
      "source": [
        "numbers = preprocessed"
      ],
      "metadata": {
        "id": "fnzuwFSkkFF2"
      },
      "execution_count": 24,
      "outputs": []
    },
    {
      "cell_type": "code",
      "source": [
        "raw_x = []\n",
        "raw_y = []\n",
        "\n",
        "for i in range(len(numbers)):\n",
        "  if i+SEQUENCE_LENGTH+OFFSET >= len(numbers): break\n",
        "  raw_x.append(numbers[i:i+SEQUENCE_LENGTH,:])\n",
        "  raw_y.append(numbers[i+SEQUENCE_LENGTH+OFFSET-1,:])\n",
        "#              0         1              \n",
        "#              01234567890123456789\n",
        "# numbers[0] = 12345678901234567890\n",
        "#                 i = 3\n",
        "#                 <-x->   = [3:8] = 45678\n",
        "#                      y  = [8]   = 9\n",
        "\n"
      ],
      "metadata": {
        "id": "r7NQikGPipTM"
      },
      "execution_count": 25,
      "outputs": []
    },
    {
      "cell_type": "code",
      "source": [
        "print(raw_x[0])\n",
        "print(raw_y[0])\n",
        "print()\n",
        "print(raw_x[1])\n",
        "print(raw_y[1])"
      ],
      "metadata": {
        "colab": {
          "base_uri": "https://localhost:8080/"
        },
        "id": "2dT4KkJrkRbo",
        "outputId": "04ba6b72-13a9-4d91-ed8c-341159e74ecc"
      },
      "execution_count": 26,
      "outputs": [
        {
          "output_type": "stream",
          "name": "stdout",
          "text": [
            "[[0.02079489 0.02031037 0.01997058 0.02028816 0.01361739]\n",
            " [0.02011973 0.02239856 0.02054511 0.02192648 0.00946582]\n",
            " [0.02270784 0.02217875 0.02203888 0.02194892 0.00807413]\n",
            " [0.0216951  0.02151932 0.02180907 0.02181426 0.00502651]\n",
            " [0.02192015 0.02140942 0.02192398 0.02147762 0.00136233]\n",
            " [0.02147005 0.0209698  0.02077492 0.02040038 0.00176163]\n",
            " [0.02056983 0.02020047 0.0203153  0.02013107 0.00070465]\n",
            " [0.01978215 0.01943113 0.01974077 0.01927824 0.00066355]\n",
            " [0.02045731 0.02009056 0.02008549 0.01981687 0.00123901]\n",
            " [0.02011973 0.01965094 0.01962587 0.01943534 0.00051087]]\n",
            "[0.0195571  0.01943113 0.01962587 0.01934557 0.00060483]\n",
            "\n",
            "[[0.02011973 0.02239856 0.02054511 0.02192648 0.00946582]\n",
            " [0.02270784 0.02217875 0.02203888 0.02194892 0.00807413]\n",
            " [0.0216951  0.02151932 0.02180907 0.02181426 0.00502651]\n",
            " [0.02192015 0.02140942 0.02192398 0.02147762 0.00136233]\n",
            " [0.02147005 0.0209698  0.02077492 0.02040038 0.00176163]\n",
            " [0.02056983 0.02020047 0.0203153  0.02013107 0.00070465]\n",
            " [0.01978215 0.01943113 0.01974077 0.01927824 0.00066355]\n",
            " [0.02045731 0.02009056 0.02008549 0.01981687 0.00123901]\n",
            " [0.02011973 0.01965094 0.01962587 0.01943534 0.00051087]\n",
            " [0.0195571  0.01943113 0.01962587 0.01934557 0.00060483]]\n",
            "[1.89944641e-02 1.87717062e-02 1.90513394e-02 1.88967189e-02\n",
            " 9.39535048e-05]\n"
          ]
        }
      ]
    },
    {
      "cell_type": "code",
      "source": [
        "x = np.array(raw_x)\n",
        "y = np.array(raw_y)\n",
        "print(x.shape)\n",
        "print(y.shape)\n",
        "\n",
        "from sklearn.model_selection import train_test_split\n",
        "\n",
        "train_x, test_x, train_y, test_y = train_test_split(x, y, test_size=0.1, shuffle=True)\n",
        "\n",
        "\n",
        "print(\"Training Data:\")\n",
        "print(train_x.shape)\n",
        "print(train_y.shape)\n",
        "\n",
        "print(\"Test Data:\")\n",
        "print(test_x.shape)\n",
        "print(test_y.shape)\n"
      ],
      "metadata": {
        "colab": {
          "base_uri": "https://localhost:8080/"
        },
        "id": "EAJWL5bckiLk",
        "outputId": "f137f12c-7601-4915-cbb6-c6652f5ab208"
      },
      "execution_count": 27,
      "outputs": [
        {
          "output_type": "stream",
          "name": "stdout",
          "text": [
            "(5170, 10, 5)\n",
            "(5170, 5)\n",
            "Training Data:\n",
            "(4653, 10, 5)\n",
            "(4653, 5)\n",
            "Test Data:\n",
            "(517, 10, 5)\n",
            "(517, 5)\n"
          ]
        }
      ]
    },
    {
      "cell_type": "code",
      "source": [
        "print(\"train_x[0]\\n\", train_x[0])\n",
        "print()\n",
        "print(\"train_y[0]\\n\", train_y[0])\n",
        "\n",
        "plt.plot(train_x[0].T[0], '.', color='blue')\n",
        "plt.plot([len(train_x[0])], train_y[0,0], 'x', color='blue')\n",
        "plt.plot(train_x[0].T[1], '.', color='red')\n",
        "plt.plot([len(train_x[0])], train_y[0,1], 'o', color='red')\n",
        "\n",
        "plt.show()"
      ],
      "metadata": {
        "colab": {
          "base_uri": "https://localhost:8080/",
          "height": 699
        },
        "id": "u_70o6bWknIN",
        "outputId": "72cbc8b6-ffec-4b91-b39f-9f0ccabd6c44"
      },
      "execution_count": 28,
      "outputs": [
        {
          "output_type": "stream",
          "name": "stdout",
          "text": [
            "train_x[0]\n",
            " [[3.15164093e-01 3.07820834e-01 3.21229942e-01 3.13703488e-01\n",
            "  7.63372226e-05]\n",
            " [3.14803986e-01 3.07469117e-01 3.21459753e-01 3.13927914e-01\n",
            "  1.35058163e-04]\n",
            " [3.15051544e-01 3.07710907e-01 3.10015183e-01 3.02751492e-01\n",
            "  1.17441881e-05]\n",
            " [3.03798900e-01 2.97445839e-01 3.06659941e-01 3.03694084e-01\n",
            "  2.64244232e-04]\n",
            " [3.04136501e-01 2.97599705e-01 2.97467452e-01 2.90497756e-01\n",
            "  2.93604702e-05]\n",
            " [2.88495280e-01 2.82432848e-01 2.92756325e-01 2.86301023e-01\n",
            "  1.82034915e-04]\n",
            " [2.84669381e-01 2.79948982e-01 2.90688025e-01 2.85829683e-01\n",
            "  2.93604702e-05]\n",
            " [2.87482542e-01 2.80894184e-01 2.90688025e-01 2.83922079e-01\n",
            "  1.64418633e-04]\n",
            " [2.86694857e-01 2.82938431e-01 2.92756325e-01 2.88881929e-01\n",
            "  4.11046583e-05]\n",
            " [2.89057958e-01 2.85466215e-01 2.95169387e-01 2.91462813e-01\n",
            "  8.22093167e-05]]\n",
            "\n",
            "train_y[0]\n",
            " [2.91083389e-01 2.84521014e-01 2.93560663e-01 2.89667422e-01\n",
            " 4.11046583e-05]\n"
          ]
        },
        {
          "output_type": "display_data",
          "data": {
            "image/png": "[encoded data removed]",
            "text/plain": [
              "<Figure size 432x288 with 1 Axes>"
            ]
          },
          "metadata": {
            "needs_background": "light"
          }
        }
      ]
    },
    {
      "cell_type": "code",
      "source": [
        "from tensorflow import keras\n",
        "from tensorflow.keras.layers import Dense, RepeatVector, Flatten\n",
        "from tensorflow.keras.layers import Bidirectional, LSTM, GRU\n",
        "\n",
        "input_shape = train_x.shape[1:]\n",
        "output_shape = train_y.shape[-1]\n",
        "\n",
        "model = keras.Sequential()\n",
        "model.add(LSTM(128, input_shape=input_shape))\n",
        "model.add(Flatten())\n",
        "model.add(Dense(output_shape))\n",
        "model.compile(loss=\"mse\", optimizer=\"adam\", metrics=[\"mape\"])\n",
        "model.summary()\n",
        "\n",
        "history = model.fit(train_x, train_y, epochs=10, verbose=0, validation_split=0.1, batch_size=BATCH_SIZE)\n",
        "\n",
        "\n",
        "plt.plot(history.history['loss'])\n",
        "plt.plot(history.history['val_loss'])\n",
        "plt.show()\n",
        "\n",
        "\n",
        "\n",
        "loss, mape = model.evaluate(test_x, test_y)\n",
        "print(\"loss=\", loss)\n",
        "print(\"mape=\", mape)\n",
        "\n",
        "\n",
        "\n",
        "y_ = model.predict(test_x).squeeze()\n",
        "for i in range(output_shape):\n",
        "    plt.scatter(test_y[:,i], y_[:,i])\n",
        "    plt.show()"
      ],
      "metadata": {
        "colab": {
          "base_uri": "https://localhost:8080/",
          "height": 1000
        },
        "id": "H_DZZN8oj16K",
        "outputId": "eb93fdc7-ea74-4056-b1d8-bc2fc2e29320"
      },
      "execution_count": 29,
      "outputs": [
        {
          "output_type": "stream",
          "name": "stdout",
          "text": [
            "Model: \"sequential\"\n",
            "_________________________________________________________________\n",
            " Layer (type)                Output Shape              Param #   \n",
            "=================================================================\n",
            " lstm (LSTM)                 (None, 128)               68608     \n",
            "                                                                 \n",
            " flatten (Flatten)           (None, 128)               0         \n",
            "                                                                 \n",
            " dense (Dense)               (None, 5)                 645       \n",
            "                                                                 \n",
            "=================================================================\n",
            "Total params: 69,253\n",
            "Trainable params: 69,253\n",
            "Non-trainable params: 0\n",
            "_________________________________________________________________\n"
          ]
        },
        {
          "output_type": "display_data",
          "data": {
            "image/png": "[encoded data removed]",
            "text/plain": [
              "<Figure size 432x288 with 1 Axes>"
            ]
          },
          "metadata": {
            "needs_background": "light"
          }
        },
        {
          "output_type": "stream",
          "name": "stdout",
          "text": [
            "17/17 [==============================] - 0s 2ms/step - loss: 5.4675e-04 - mape: 195002.5469\n",
            "loss= 0.0005467520677484572\n",
            "mape= 195002.546875\n"
          ]
        },
        {
          "output_type": "display_data",
          "data": {
            "image/png": "[encoded data removed]",
            "text/plain": [
              "<Figure size 432x288 with 1 Axes>"
            ]
          },
          "metadata": {
            "needs_background": "light"
          }
        },
        {
          "output_type": "display_data",
          "data": {
            "image/png": "[encoded data removed]",
            "text/plain": [
              "<Figure size 432x288 with 1 Axes>"
            ]
          },
          "metadata": {
            "needs_background": "light"
          }
        },
        {
          "output_type": "display_data",
          "data": {
            "image/png": "[encoded data removed]",
            "text/plain": [
              "<Figure size 432x288 with 1 Axes>"
            ]
          },
          "metadata": {
            "needs_background": "light"
          }
        },
        {
          "output_type": "display_data",
          "data": {
            "image/png": "[encoded data removed]",
            "text/plain": [
              "<Figure size 432x288 with 1 Axes>"
            ]
          },
          "metadata": {
            "needs_background": "light"
          }
        },
        {
          "output_type": "display_data",
          "data": {
            "image/png": "[encoded data removed]",
            "text/plain": [
              "<Figure size 432x288 with 1 Axes>"
            ]
          },
          "metadata": {
            "needs_background": "light"
          }
        }
      ]
    },
    {
      "cell_type": "code",
      "source": [
        "plt.plot(test_y[0], 'b.')\n",
        "plt.plot(y_[0], 'r.')\n",
        "plt.show()\n",
        "\n",
        "plt.plot(test_y[0,:-1], 'b.')\n",
        "plt.plot(y_[0,:-1], 'r.')\n",
        "plt.show()"
      ],
      "metadata": {
        "colab": {
          "base_uri": "https://localhost:8080/",
          "height": 513
        },
        "id": "JglbgKh6mB9R",
        "outputId": "d631daf6-6cc0-40fc-c64f-b37dcca15710"
      },
      "execution_count": 30,
      "outputs": [
        {
          "output_type": "display_data",
          "data": {
            "image/png": "[encoded data removed]",
            "text/plain": [
              "<Figure size 432x288 with 1 Axes>"
            ]
          },
          "metadata": {
            "needs_background": "light"
          }
        },
        {
          "output_type": "display_data",
          "data": {
            "image/png": "[encoded data removed]",
            "text/plain": [
              "<Figure size 432x288 with 1 Axes>"
            ]
          },
          "metadata": {
            "needs_background": "light"
          }
        }
      ]
    },
    {
      "cell_type": "code",
      "source": [
        "denomalized_test_y = test_y * (maxs - mins) + mins\n",
        "denomalized_y_ = y_ * (maxs - mins) + mins"
      ],
      "metadata": {
        "id": "uAK9LDzBoFd4"
      },
      "execution_count": 31,
      "outputs": []
    },
    {
      "cell_type": "code",
      "source": [
        "plt.plot(denomalized_test_y[0], 'b.')\n",
        "plt.plot(denomalized_y_[0], 'r.')\n",
        "plt.show()\n",
        "\n",
        "plt.plot(denomalized_test_y[0,:-1], 'b.')\n",
        "plt.plot(denomalized_y_[0,:-1], 'r.')\n",
        "plt.show()"
      ],
      "metadata": {
        "colab": {
          "base_uri": "https://localhost:8080/",
          "height": 517
        },
        "id": "53IqHJvtoQjk",
        "outputId": "4559d9fa-35d4-4b87-a06d-a624f6924a15"
      },
      "execution_count": 32,
      "outputs": [
        {
          "output_type": "display_data",
          "data": {
            "image/png": "[encoded data removed]",
            "text/plain": [
              "<Figure size 432x288 with 1 Axes>"
            ]
          },
          "metadata": {
            "needs_background": "light"
          }
        },
        {
          "output_type": "display_data",
          "data": {
            "image/png": "[encoded data removed]",
            "text/plain": [
              "<Figure size 432x288 with 1 Axes>"
            ]
          },
          "metadata": {
            "needs_background": "light"
          }
        }
      ]
    },
    {
      "cell_type": "markdown",
      "source": [
        "# by Keras Sequence Data Generator"
      ],
      "metadata": {
        "id": "VxPXZ2m106W7"
      }
    },
    {
      "cell_type": "code",
      "source": [
        "# from tensorflow.keras.utils import Sequence\n",
        "\n",
        "# class DataGenerator(Sequence):\n",
        "\n",
        "#     def __init__(self, numbers, \n",
        "#                  sequence_length=SEQUENCE_LENGTH, \n",
        "#                  offset=OFFSET, \n",
        "#                  batch_size=BATCH_SIZE, \n",
        "#                  shuffle=True,\n",
        "#                  validation_split=0.0,\n",
        "#                  test_split=0.0,\n",
        "#                  indexes=None,\n",
        "#                  max_size=None):\n",
        "#         self.numbers = numbers\n",
        "#         self.sequence_length = sequence_length\n",
        "#         self.offset = offset\n",
        "#         self.batch_size = batch_size\n",
        "#         self.shuffle = shuffle\n",
        "#         self.indexes, self.valid_indexes, self.test_indexes = self._prepare_indexes(validation_split, test_split, indexes, max_size)\n",
        "\n",
        "#     def __len__(self):\n",
        "#         return int(np.floor(len(self.indexes) / self.batch_size))\n",
        "\n",
        "#     def __getitem__(self, index):\n",
        "#         indexes = self.indexes[index*self.batch_size:(index+1)*self.batch_size]\n",
        "#         return self._generate_data(indexes)\n",
        "\n",
        "#     def on_epoch_end(self):\n",
        "#         self._shuffle_index()\n",
        "\n",
        "#     def _prepare_indexes(self, validation_split, test_split, indexes, max_size):\n",
        "#         if indexes is not None:\n",
        "#             return indexes, None, None\n",
        "\n",
        "#         data_count = len(self.numbers) - (self.sequence_length+self.offset) + 1\n",
        "#         all_index = np.arange(data_count)\n",
        "#         np.random.shuffle(all_index)\n",
        "#         if max_size is not None:\n",
        "#             all_index = all_index[:max_size]\n",
        "\n",
        "#         if validation_split+test_split==0.0:\n",
        "#             return all_index, None, None\n",
        "\n",
        "#         valid_i = int(len(all_index)*(1-validation_split-test_split))\n",
        "#         test_i = int(len(all_index)*(1-test_split))\n",
        "\n",
        "#         return all_index[:valid_i], all_index[valid_i:test_i], all_index[test_i:]\n",
        "        \n",
        "#     def _shuffle_index(self):\n",
        "#         if self.shuffle == True:\n",
        "#             np.random.shuffle(self.indexes)\n",
        "\n",
        "#     def _generate_data(self, indexes):\n",
        "#         X = np.empty((len(indexes), self.sequence_length, self.numbers.shape[-1]))\n",
        "#         Y = np.empty((len(indexes), self.numbers.shape[-1]))\n",
        "\n",
        "#         for i, index in enumerate(indexes):\n",
        "#             X[i] = self.numbers[index:index+self.sequence_length]\n",
        "#             Y[i] = self.numbers[index+self.sequence_length+self.offset-1]\n",
        "#         return X, Y\n",
        "\n",
        "#     def get_all_data(self):\n",
        "#         return self._generate_data(self.indexes)        \n",
        "\n",
        "#     def subset(self, type):\n",
        "#         if type==\"train\":\n",
        "#             return DataGenerator(self.numbers, indexes=self.indexes)\n",
        "#         elif type==\"validation\" or type==\"valid\":\n",
        "#             return DataGenerator(self.numbers, indexes=self.valid_indexes)\n",
        "#         elif type==\"test\":\n",
        "#             return DataGenerator(self.numbers, indexes=self.test_indexes)\n",
        "#         else:\n",
        "#             print(\"invalid type {}\".format(type))"
      ],
      "metadata": {
        "id": "BoYqpgU-oTg1"
      },
      "execution_count": 37,
      "outputs": []
    },
    {
      "cell_type": "code",
      "source": [
        "from tensorflow.keras.utils import Sequence\n",
        "\n",
        "class AbstractSequenceDataGenerator(Sequence):\n",
        "\n",
        "    def __init__(self, numbers=None,\n",
        "                 sequence_length=SEQUENCE_LENGTH, \n",
        "                 offset=OFFSET, \n",
        "                 batch_size=BATCH_SIZE, \n",
        "                 shuffle=True,\n",
        "                 validation_split=0.0,\n",
        "                 test_split=0.0,\n",
        "                 indexes=None,\n",
        "                 base_generator=None,\n",
        "                 max_size=None):\n",
        "        if base_generator != None:\n",
        "            numbers = base_generator.numbers\n",
        "            sequence_length = base_generator.sequence_length\n",
        "            offset = base_generator.offset\n",
        "            batch_size = base_generator.batch_size\n",
        "            shuffle = base_generator.shuffle\n",
        "        self.numbers = numbers\n",
        "        self.sequence_length = sequence_length\n",
        "        self.offset = offset\n",
        "        self.batch_size = batch_size\n",
        "        self.shuffle = shuffle\n",
        "        self.indexes, self.valid_indexes, self.test_indexes = self._prepare_indexes(validation_split, test_split, indexes, max_size)\n",
        "\n",
        "    def __len__(self):\n",
        "        return int(np.floor(len(self.indexes) / self.batch_size))\n",
        "\n",
        "    def __getitem__(self, index):\n",
        "        indexes = self.indexes[index*self.batch_size:(index+1)*self.batch_size]\n",
        "        return self._generate_data(indexes)\n",
        "\n",
        "    def on_epoch_end(self):\n",
        "        self._shuffle_index()\n",
        "\n",
        "    def _prepare_indexes(self, validation_split, test_split, indexes, max_size):\n",
        "        if indexes is not None:\n",
        "            return indexes, None, None\n",
        "\n",
        "        data_count = len(self.numbers) - (self.sequence_length+self.offset) + 1\n",
        "        all_index = np.arange(data_count)\n",
        "        np.random.shuffle(all_index)\n",
        "        if max_size is not None:\n",
        "            all_index = all_index[:max_size]\n",
        "\n",
        "        if validation_split+test_split==0.0:\n",
        "            return all_index, None, None\n",
        "\n",
        "        valid_i = int(len(all_index)*(1-validation_split-test_split))\n",
        "        test_i = int(len(all_index)*(1-test_split))\n",
        "\n",
        "        return all_index[:valid_i], all_index[valid_i:test_i], all_index[test_i:]\n",
        "        \n",
        "    def _shuffle_index(self):\n",
        "        if self.shuffle == True:\n",
        "            np.random.shuffle(self.indexes)\n",
        "\n",
        "    def _generate_data(self, indexes):\n",
        "        raise Exception('_generate_data() not implemented.')\n",
        "\n",
        "    def get_all_data(self):\n",
        "        return self._generate_data(self.indexes)        \n",
        "\n",
        "    def subset(self, type):\n",
        "        if type==\"train\":\n",
        "            self.__init__(indexes=self.indexes, base_generator=self)\n",
        "            return self\n",
        "        elif type==\"validation\" or type==\"valid\":\n",
        "            self.__init__(indexes=self.valid_indexes, base_generator=self)\n",
        "            return self\n",
        "        elif type==\"test\":\n",
        "            self.__init__(indexes=self.test_indexes, base_generator=self)\n",
        "            return self\n",
        "        else:\n",
        "            print(\"invalid type {}\".format(type))\n",
        "\n",
        "class SeguenceDataGenerator(AbstractSequenceDataGenerator):\n",
        "\n",
        "    def __init__(self, **kwargs):\n",
        "        super().__init__(**kwargs)\n",
        "\n",
        "    def _generate_data(self, indexes):\n",
        "        X = np.empty((len(indexes), self.sequence_length, self.numbers.shape[-1]))\n",
        "        Y = np.empty((len(indexes), self.numbers.shape[-1]))\n",
        "\n",
        "        for i, index in enumerate(indexes):\n",
        "            X[i] = self.numbers[index:index+self.sequence_length]\n",
        "            Y[i] = self.numbers[index+self.sequence_length+self.offset-1]\n",
        "        return X, Y        "
      ],
      "metadata": {
        "id": "coMz-c9RYCoG"
      },
      "execution_count": 59,
      "outputs": []
    },
    {
      "cell_type": "code",
      "source": [
        "data_generator = SeguenceDataGenerator(numbers=preprocessed, validation_split=0.1, test_split=0.1)\n",
        "train_data_generator = data_generator.subset(\"train\")\n",
        "valid_data_generator = data_generator.subset(\"valid\")\n",
        "test_data_generator = data_generator.subset(\"test\")\n",
        "\n",
        "batch_x, batch_y = train_data_generator.__getitem__(0)\n",
        "print(batch_x.shape)\n",
        "print(batch_y.shape)\n",
        "print(batch_x[0])\n",
        "print(batch_y[0])\n",
        "\n",
        "print(len(preprocessed)-(SEQUENCE_LENGTH+OFFSET)+1)\n",
        "print(len(train_data_generator.indexes))\n",
        "print(len(valid_data_generator.indexes))\n",
        "print(len(test_data_generator.indexes))"
      ],
      "metadata": {
        "colab": {
          "base_uri": "https://localhost:8080/"
        },
        "id": "syHJzNvixQ-y",
        "outputId": "bb5436e4-59b9-45ac-8da1-4dd5f3eff45b"
      },
      "execution_count": 60,
      "outputs": [
        {
          "output_type": "stream",
          "name": "stdout",
          "text": [
            "(32, 10, 5)\n",
            "(32, 5)\n",
            "[[2.95044342e-01 2.88169869e-01 2.95399152e-01 2.94223260e-01\n",
            "  2.78337258e-03]\n",
            " [2.92523750e-01 2.85708005e-01 2.98708455e-01 2.91709682e-01\n",
            "  2.06110501e-03]\n",
            " [2.93851562e-01 2.87818196e-01 2.98271791e-01 2.93033799e-01\n",
            "  1.67354680e-03]\n",
            " [2.94796784e-01 2.95071900e-01 3.01029547e-01 2.98644463e-01\n",
            "  3.11220985e-04]\n",
            " [3.03281300e-01 2.96214907e-01 3.07349352e-01 3.02437295e-01\n",
            "  3.22965173e-04]\n",
            " [3.01143275e-01 2.96610542e-01 3.06315202e-01 3.00305220e-01\n",
            "  8.45581543e-04]\n",
            " [2.92366213e-01 2.93203499e-01 2.97927097e-01 2.91552583e-01\n",
            "  1.22726766e-03]\n",
            " [2.90183200e-01 2.83421990e-01 2.96318419e-01 2.89375645e-01\n",
            "  3.81686113e-04]\n",
            " [2.92253664e-01 2.85444212e-01 2.98432658e-01 2.91440347e-01\n",
            "  1.70290727e-04]\n",
            " [2.83566622e-01 2.76959577e-01 2.89561950e-01 2.82777481e-01\n",
            "  1.82034915e-04]]\n",
            "[0.28583966 0.27917965 0.29188304 0.28504419 0.0006518 ]\n",
            "5171\n",
            "5171\n",
            "5171\n",
            "5171\n"
          ]
        }
      ]
    },
    {
      "cell_type": "code",
      "source": [
        "from tensorflow import keras\n",
        "from tensorflow.keras.layers import Dense, RepeatVector, Flatten\n",
        "from tensorflow.keras.layers import Bidirectional, LSTM, GRU, Input\n",
        "\n",
        "input_shape = (SEQUENCE_LENGTH, preprocessed.shape[-1])\n",
        "output_shape = preprocessed.shape[-1]\n",
        "\n",
        "model = keras.Sequential()\n",
        "model.add(Input(input_shape))\n",
        "model.add(LSTM(128))\n",
        "model.add(Flatten())\n",
        "model.add(Dense(10, activation=\"relu\"))\n",
        "model.add(Dense(output_shape))\n",
        "model.compile(loss=\"mse\", optimizer=\"adam\", metrics=[\"mape\"])\n",
        "model.summary()\n",
        "\n",
        "history = model.fit(train_data_generator, epochs=10, verbose=0, validation_data=valid_data_generator)\n",
        "\n",
        "\n",
        "plt.plot(history.history['loss'])\n",
        "plt.plot(history.history['val_loss'])\n",
        "plt.show()\n",
        "\n",
        "\n",
        "\n",
        "loss, mape = model.evaluate(test_data_generator)\n",
        "print(\"loss=\", loss)\n",
        "print(\"mape=\", mape)\n",
        "\n",
        "\n",
        "batch_x, batch_y = test_data_generator.get_all_data()\n",
        "y_ = model.predict(batch_x).squeeze()\n",
        "for i in range(output_shape):\n",
        "    plt.scatter(batch_y[:,i], y_[:,i])\n",
        "    plt.show()"
      ],
      "metadata": {
        "colab": {
          "base_uri": "https://localhost:8080/",
          "height": 1000
        },
        "id": "7LSyMSgzzS3E",
        "outputId": "ec1cc0c0-cfcf-462d-addf-3229c1e1423d"
      },
      "execution_count": 61,
      "outputs": [
        {
          "output_type": "stream",
          "name": "stdout",
          "text": [
            "Model: \"sequential_2\"\n",
            "_________________________________________________________________\n",
            " Layer (type)                Output Shape              Param #   \n",
            "=================================================================\n",
            " lstm_2 (LSTM)               (None, 128)               68608     \n",
            "                                                                 \n",
            " flatten_2 (Flatten)         (None, 128)               0         \n",
            "                                                                 \n",
            " dense_3 (Dense)             (None, 10)                1290      \n",
            "                                                                 \n",
            " dense_4 (Dense)             (None, 5)                 55        \n",
            "                                                                 \n",
            "=================================================================\n",
            "Total params: 69,953\n",
            "Trainable params: 69,953\n",
            "Non-trainable params: 0\n",
            "_________________________________________________________________\n"
          ]
        },
        {
          "output_type": "display_data",
          "data": {
            "image/png": "[encoded data removed]",
            "text/plain": [
              "<Figure size 432x288 with 1 Axes>"
            ]
          },
          "metadata": {
            "needs_background": "light"
          }
        },
        {
          "output_type": "stream",
          "name": "stdout",
          "text": [
            "161/161 [==============================] - 0s 2ms/step - loss: 5.8407e-04 - mape: 140673.6875\n",
            "loss= 0.0005840712692588568\n",
            "mape= 140673.6875\n"
          ]
        },
        {
          "output_type": "display_data",
          "data": {
            "image/png": "[encoded data removed]",
            "text/plain": [
              "<Figure size 432x288 with 1 Axes>"
            ]
          },
          "metadata": {
            "needs_background": "light"
          }
        },
        {
          "output_type": "display_data",
          "data": {
            "image/png": "[encoded data removed]",
            "text/plain": [
              "<Figure size 432x288 with 1 Axes>"
            ]
          },
          "metadata": {
            "needs_background": "light"
          }
        },
        {
          "output_type": "display_data",
          "data": {
            "image/png": "[encoded data removed]",
            "text/plain": [
              "<Figure size 432x288 with 1 Axes>"
            ]
          },
          "metadata": {
            "needs_background": "light"
          }
        },
        {
          "output_type": "display_data",
          "data": {
            "image/png": "[encoded data removed]",
            "text/plain": [
              "<Figure size 432x288 with 1 Axes>"
            ]
          },
          "metadata": {
            "needs_background": "light"
          }
        },
        {
          "output_type": "display_data",
          "data": {
            "image/png": "[encoded data removed]",
            "text/plain": [
              "<Figure size 432x288 with 1 Axes>"
            ]
          },
          "metadata": {
            "needs_background": "light"
          }
        }
      ]
    },
    {
      "cell_type": "code",
      "source": [
        ""
      ],
      "metadata": {
        "id": "09Qy5zLaDiNz"
      },
      "execution_count": 35,
      "outputs": []
    }
  ]
}