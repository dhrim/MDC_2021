{
  "cells": [
    {
      "cell_type": "markdown",
      "source": [
        "# 데이터 준비"
      ],
      "metadata": {
        "id": "iU5AJt91PAGR"
      }
    },
    {
      "cell_type": "code",
      "source": [
        "!wget https://github.com/dhrim/deep_learning_data/raw/master/creditcard.zip"
      ],
      "metadata": {
        "colab": {
          "base_uri": "https://localhost:8080/"
        },
        "id": "kzthYtxucNjk",
        "outputId": "08e38376-d8d2-49ff-edd0-595ec933b83a"
      },
      "execution_count": 1,
      "outputs": [
        {
          "output_type": "stream",
          "name": "stdout",
          "text": [
            "--2022-01-07 12:46:29--  https://github.com/dhrim/deep_learning_data/raw/master/creditcard.zip\n",
            "Resolving github.com (github.com)... 140.82.121.4\n",
            "Connecting to github.com (github.com)|140.82.121.4|:443... connected.\n",
            "HTTP request sent, awaiting response... 302 Found\n",
            "Location: https://raw.githubusercontent.com/dhrim/deep_learning_data/master/creditcard.zip [following]\n",
            "--2022-01-07 12:46:29--  https://raw.githubusercontent.com/dhrim/deep_learning_data/master/creditcard.zip\n",
            "Resolving raw.githubusercontent.com (raw.githubusercontent.com)... 185.199.108.133, 185.199.109.133, 185.199.110.133, ...\n",
            "Connecting to raw.githubusercontent.com (raw.githubusercontent.com)|185.199.108.133|:443... connected.\n",
            "HTTP request sent, awaiting response... 200 OK\n",
            "Length: 68750451 (66M) [application/zip]\n",
            "Saving to: ‘creditcard.zip’\n",
            "\n",
            "creditcard.zip      100%[===================>]  65.57M   330MB/s    in 0.2s    \n",
            "\n",
            "2022-01-07 12:46:29 (330 MB/s) - ‘creditcard.zip’ saved [68750451/68750451]\n",
            "\n"
          ]
        }
      ]
    },
    {
      "cell_type": "code",
      "execution_count": 2,
      "metadata": {
        "colab": {
          "base_uri": "https://localhost:8080/"
        },
        "id": "DJB4sUP72S5C",
        "outputId": "8c264602-9f6b-4b5c-dea7-90d10a96581b"
      },
      "outputs": [
        {
          "output_type": "stream",
          "name": "stdout",
          "text": [
            "Archive:  creditcard.zip\n",
            "  inflating: creditcard.csv          \n"
          ]
        }
      ],
      "source": [
        "!unzip creditcard.zip"
      ]
    },
    {
      "cell_type": "code",
      "execution_count": 3,
      "metadata": {
        "id": "UCih9D443dmd"
      },
      "outputs": [],
      "source": [
        "import pandas as pd\n",
        "import numpy as np\n",
        "import matplotlib.pyplot as plt"
      ]
    },
    {
      "cell_type": "markdown",
      "source": [
        "# 데이터 로딩"
      ],
      "metadata": {
        "id": "mOXuMuw_O-vV"
      }
    },
    {
      "cell_type": "code",
      "execution_count": 4,
      "metadata": {
        "id": "-h3iTd2Y315q"
      },
      "outputs": [],
      "source": [
        "df = pd.read_csv(\"creditcard.csv\")"
      ]
    },
    {
      "cell_type": "code",
      "execution_count": 5,
      "metadata": {
        "id": "zuPThliK5FHK",
        "colab": {
          "base_uri": "https://localhost:8080/",
          "height": 270
        },
        "outputId": "eadb3a0b-1910-4e9e-bb22-1092a7ac9049"
      },
      "outputs": [
        {
          "output_type": "execute_result",
          "data": {
            "text/html": [
              "\n",
              "  <div id=\"df-033447a4-9981-40e5-b04d-293930f0f59d\">\n",
              "    <div class=\"colab-df-container\">\n",
              "      <div>\n",
              "<style scoped>\n",
              "    .dataframe tbody tr th:only-of-type {\n",
              "        vertical-align: middle;\n",
              "    }\n",
              "\n",
              "    .dataframe tbody tr th {\n",
              "        vertical-align: top;\n",
              "    }\n",
              "\n",
              "    .dataframe thead th {\n",
              "        text-align: right;\n",
              "    }\n",
              "</style>\n",
              "<table border=\"1\" class=\"dataframe\">\n",
              "  <thead>\n",
              "    <tr style=\"text-align: right;\">\n",
              "      <th></th>\n",
              "      <th>Time</th>\n",
              "      <th>V1</th>\n",
              "      <th>V2</th>\n",
              "      <th>V3</th>\n",
              "      <th>V4</th>\n",
              "      <th>V5</th>\n",
              "      <th>V6</th>\n",
              "      <th>V7</th>\n",
              "      <th>V8</th>\n",
              "      <th>V9</th>\n",
              "      <th>V10</th>\n",
              "      <th>V11</th>\n",
              "      <th>V12</th>\n",
              "      <th>V13</th>\n",
              "      <th>V14</th>\n",
              "      <th>V15</th>\n",
              "      <th>V16</th>\n",
              "      <th>V17</th>\n",
              "      <th>V18</th>\n",
              "      <th>V19</th>\n",
              "      <th>V20</th>\n",
              "      <th>V21</th>\n",
              "      <th>V22</th>\n",
              "      <th>V23</th>\n",
              "      <th>V24</th>\n",
              "      <th>V25</th>\n",
              "      <th>V26</th>\n",
              "      <th>V27</th>\n",
              "      <th>V28</th>\n",
              "      <th>Amount</th>\n",
              "      <th>Class</th>\n",
              "    </tr>\n",
              "  </thead>\n",
              "  <tbody>\n",
              "    <tr>\n",
              "      <th>0</th>\n",
              "      <td>0.0</td>\n",
              "      <td>-1.359807</td>\n",
              "      <td>-0.072781</td>\n",
              "      <td>2.536347</td>\n",
              "      <td>1.378155</td>\n",
              "      <td>-0.338321</td>\n",
              "      <td>0.462388</td>\n",
              "      <td>0.239599</td>\n",
              "      <td>0.098698</td>\n",
              "      <td>0.363787</td>\n",
              "      <td>0.090794</td>\n",
              "      <td>-0.551600</td>\n",
              "      <td>-0.617801</td>\n",
              "      <td>-0.991390</td>\n",
              "      <td>-0.311169</td>\n",
              "      <td>1.468177</td>\n",
              "      <td>-0.470401</td>\n",
              "      <td>0.207971</td>\n",
              "      <td>0.025791</td>\n",
              "      <td>0.403993</td>\n",
              "      <td>0.251412</td>\n",
              "      <td>-0.018307</td>\n",
              "      <td>0.277838</td>\n",
              "      <td>-0.110474</td>\n",
              "      <td>0.066928</td>\n",
              "      <td>0.128539</td>\n",
              "      <td>-0.189115</td>\n",
              "      <td>0.133558</td>\n",
              "      <td>-0.021053</td>\n",
              "      <td>149.62</td>\n",
              "      <td>0</td>\n",
              "    </tr>\n",
              "    <tr>\n",
              "      <th>1</th>\n",
              "      <td>0.0</td>\n",
              "      <td>1.191857</td>\n",
              "      <td>0.266151</td>\n",
              "      <td>0.166480</td>\n",
              "      <td>0.448154</td>\n",
              "      <td>0.060018</td>\n",
              "      <td>-0.082361</td>\n",
              "      <td>-0.078803</td>\n",
              "      <td>0.085102</td>\n",
              "      <td>-0.255425</td>\n",
              "      <td>-0.166974</td>\n",
              "      <td>1.612727</td>\n",
              "      <td>1.065235</td>\n",
              "      <td>0.489095</td>\n",
              "      <td>-0.143772</td>\n",
              "      <td>0.635558</td>\n",
              "      <td>0.463917</td>\n",
              "      <td>-0.114805</td>\n",
              "      <td>-0.183361</td>\n",
              "      <td>-0.145783</td>\n",
              "      <td>-0.069083</td>\n",
              "      <td>-0.225775</td>\n",
              "      <td>-0.638672</td>\n",
              "      <td>0.101288</td>\n",
              "      <td>-0.339846</td>\n",
              "      <td>0.167170</td>\n",
              "      <td>0.125895</td>\n",
              "      <td>-0.008983</td>\n",
              "      <td>0.014724</td>\n",
              "      <td>2.69</td>\n",
              "      <td>0</td>\n",
              "    </tr>\n",
              "    <tr>\n",
              "      <th>2</th>\n",
              "      <td>1.0</td>\n",
              "      <td>-1.358354</td>\n",
              "      <td>-1.340163</td>\n",
              "      <td>1.773209</td>\n",
              "      <td>0.379780</td>\n",
              "      <td>-0.503198</td>\n",
              "      <td>1.800499</td>\n",
              "      <td>0.791461</td>\n",
              "      <td>0.247676</td>\n",
              "      <td>-1.514654</td>\n",
              "      <td>0.207643</td>\n",
              "      <td>0.624501</td>\n",
              "      <td>0.066084</td>\n",
              "      <td>0.717293</td>\n",
              "      <td>-0.165946</td>\n",
              "      <td>2.345865</td>\n",
              "      <td>-2.890083</td>\n",
              "      <td>1.109969</td>\n",
              "      <td>-0.121359</td>\n",
              "      <td>-2.261857</td>\n",
              "      <td>0.524980</td>\n",
              "      <td>0.247998</td>\n",
              "      <td>0.771679</td>\n",
              "      <td>0.909412</td>\n",
              "      <td>-0.689281</td>\n",
              "      <td>-0.327642</td>\n",
              "      <td>-0.139097</td>\n",
              "      <td>-0.055353</td>\n",
              "      <td>-0.059752</td>\n",
              "      <td>378.66</td>\n",
              "      <td>0</td>\n",
              "    </tr>\n",
              "    <tr>\n",
              "      <th>3</th>\n",
              "      <td>1.0</td>\n",
              "      <td>-0.966272</td>\n",
              "      <td>-0.185226</td>\n",
              "      <td>1.792993</td>\n",
              "      <td>-0.863291</td>\n",
              "      <td>-0.010309</td>\n",
              "      <td>1.247203</td>\n",
              "      <td>0.237609</td>\n",
              "      <td>0.377436</td>\n",
              "      <td>-1.387024</td>\n",
              "      <td>-0.054952</td>\n",
              "      <td>-0.226487</td>\n",
              "      <td>0.178228</td>\n",
              "      <td>0.507757</td>\n",
              "      <td>-0.287924</td>\n",
              "      <td>-0.631418</td>\n",
              "      <td>-1.059647</td>\n",
              "      <td>-0.684093</td>\n",
              "      <td>1.965775</td>\n",
              "      <td>-1.232622</td>\n",
              "      <td>-0.208038</td>\n",
              "      <td>-0.108300</td>\n",
              "      <td>0.005274</td>\n",
              "      <td>-0.190321</td>\n",
              "      <td>-1.175575</td>\n",
              "      <td>0.647376</td>\n",
              "      <td>-0.221929</td>\n",
              "      <td>0.062723</td>\n",
              "      <td>0.061458</td>\n",
              "      <td>123.50</td>\n",
              "      <td>0</td>\n",
              "    </tr>\n",
              "    <tr>\n",
              "      <th>4</th>\n",
              "      <td>2.0</td>\n",
              "      <td>-1.158233</td>\n",
              "      <td>0.877737</td>\n",
              "      <td>1.548718</td>\n",
              "      <td>0.403034</td>\n",
              "      <td>-0.407193</td>\n",
              "      <td>0.095921</td>\n",
              "      <td>0.592941</td>\n",
              "      <td>-0.270533</td>\n",
              "      <td>0.817739</td>\n",
              "      <td>0.753074</td>\n",
              "      <td>-0.822843</td>\n",
              "      <td>0.538196</td>\n",
              "      <td>1.345852</td>\n",
              "      <td>-1.119670</td>\n",
              "      <td>0.175121</td>\n",
              "      <td>-0.451449</td>\n",
              "      <td>-0.237033</td>\n",
              "      <td>-0.038195</td>\n",
              "      <td>0.803487</td>\n",
              "      <td>0.408542</td>\n",
              "      <td>-0.009431</td>\n",
              "      <td>0.798278</td>\n",
              "      <td>-0.137458</td>\n",
              "      <td>0.141267</td>\n",
              "      <td>-0.206010</td>\n",
              "      <td>0.502292</td>\n",
              "      <td>0.219422</td>\n",
              "      <td>0.215153</td>\n",
              "      <td>69.99</td>\n",
              "      <td>0</td>\n",
              "    </tr>\n",
              "  </tbody>\n",
              "</table>\n",
              "</div>\n",
              "      <button class=\"colab-df-convert\" onclick=\"convertToInteractive('df-033447a4-9981-40e5-b04d-293930f0f59d')\"\n",
              "              title=\"Convert this dataframe to an interactive table.\"\n",
              "              style=\"display:none;\">\n",
              "        \n",
              "  <svg xmlns=\"http://www.w3.org/2000/svg\" height=\"24px\"viewBox=\"0 0 24 24\"\n",
              "       width=\"24px\">\n",
              "    <path d=\"M0 0h24v24H0V0z\" fill=\"none\"/>\n",
              "    <path d=\"M18.56 5.44l.94 2.06.94-2.06 2.06-.94-2.06-.94-.94-2.06-.94 2.06-2.06.94zm-11 1L8.5 8.5l.94-2.06 2.06-.94-2.06-.94L8.5 2.5l-.94 2.06-2.06.94zm10 10l.94 2.06.94-2.06 2.06-.94-2.06-.94-.94-2.06-.94 2.06-2.06.94z\"/><path d=\"M17.41 7.96l-1.37-1.37c-.4-.4-.92-.59-1.43-.59-.52 0-1.04.2-1.43.59L10.3 9.45l-7.72 7.72c-.78.78-.78 2.05 0 2.83L4 21.41c.39.39.9.59 1.41.59.51 0 1.02-.2 1.41-.59l7.78-7.78 2.81-2.81c.8-.78.8-2.07 0-2.86zM5.41 20L4 18.59l7.72-7.72 1.47 1.35L5.41 20z\"/>\n",
              "  </svg>\n",
              "      </button>\n",
              "      \n",
              "  <style>\n",
              "    .colab-df-container {\n",
              "      display:flex;\n",
              "      flex-wrap:wrap;\n",
              "      gap: 12px;\n",
              "    }\n",
              "\n",
              "    .colab-df-convert {\n",
              "      background-color: #E8F0FE;\n",
              "      border: none;\n",
              "      border-radius: 50%;\n",
              "      cursor: pointer;\n",
              "      display: none;\n",
              "      fill: #1967D2;\n",
              "      height: 32px;\n",
              "      padding: 0 0 0 0;\n",
              "      width: 32px;\n",
              "    }\n",
              "\n",
              "    .colab-df-convert:hover {\n",
              "      background-color: #E2EBFA;\n",
              "      box-shadow: 0px 1px 2px rgba(60, 64, 67, 0.3), 0px 1px 3px 1px rgba(60, 64, 67, 0.15);\n",
              "      fill: #174EA6;\n",
              "    }\n",
              "\n",
              "    [theme=dark] .colab-df-convert {\n",
              "      background-color: #3B4455;\n",
              "      fill: #D2E3FC;\n",
              "    }\n",
              "\n",
              "    [theme=dark] .colab-df-convert:hover {\n",
              "      background-color: #434B5C;\n",
              "      box-shadow: 0px 1px 3px 1px rgba(0, 0, 0, 0.15);\n",
              "      filter: drop-shadow(0px 1px 2px rgba(0, 0, 0, 0.3));\n",
              "      fill: #FFFFFF;\n",
              "    }\n",
              "  </style>\n",
              "\n",
              "      <script>\n",
              "        const buttonEl =\n",
              "          document.querySelector('#df-033447a4-9981-40e5-b04d-293930f0f59d button.colab-df-convert');\n",
              "        buttonEl.style.display =\n",
              "          google.colab.kernel.accessAllowed ? 'block' : 'none';\n",
              "\n",
              "        async function convertToInteractive(key) {\n",
              "          const element = document.querySelector('#df-033447a4-9981-40e5-b04d-293930f0f59d');\n",
              "          const dataTable =\n",
              "            await google.colab.kernel.invokeFunction('convertToInteractive',\n",
              "                                                     [key], {});\n",
              "          if (!dataTable) return;\n",
              "\n",
              "          const docLinkHtml = 'Like what you see? Visit the ' +\n",
              "            '<a target=\"_blank\" href=https://colab.research.google.com/notebooks/data_table.ipynb>data table notebook</a>'\n",
              "            + ' to learn more about interactive tables.';\n",
              "          element.innerHTML = '';\n",
              "          dataTable['output_type'] = 'display_data';\n",
              "          await google.colab.output.renderOutput(dataTable, element);\n",
              "          const docLink = document.createElement('div');\n",
              "          docLink.innerHTML = docLinkHtml;\n",
              "          element.appendChild(docLink);\n",
              "        }\n",
              "      </script>\n",
              "    </div>\n",
              "  </div>\n",
              "  "
            ],
            "text/plain": [
              "   Time        V1        V2        V3  ...       V27       V28  Amount  Class\n",
              "0   0.0 -1.359807 -0.072781  2.536347  ...  0.133558 -0.021053  149.62      0\n",
              "1   0.0  1.191857  0.266151  0.166480  ... -0.008983  0.014724    2.69      0\n",
              "2   1.0 -1.358354 -1.340163  1.773209  ... -0.055353 -0.059752  378.66      0\n",
              "3   1.0 -0.966272 -0.185226  1.792993  ...  0.062723  0.061458  123.50      0\n",
              "4   2.0 -1.158233  0.877737  1.548718  ...  0.219422  0.215153   69.99      0\n",
              "\n",
              "[5 rows x 31 columns]"
            ]
          },
          "metadata": {},
          "execution_count": 5
        }
      ],
      "source": [
        "df.head()"
      ]
    },
    {
      "cell_type": "code",
      "source": [
        "print(len(df))"
      ],
      "metadata": {
        "colab": {
          "base_uri": "https://localhost:8080/"
        },
        "id": "nbr6eYRZVJqY",
        "outputId": "761b18b9-d942-4056-e486-5b46f96fdda9"
      },
      "execution_count": 6,
      "outputs": [
        {
          "output_type": "stream",
          "name": "stdout",
          "text": [
            "284807\n"
          ]
        }
      ]
    },
    {
      "cell_type": "code",
      "source": [
        "df.info()"
      ],
      "metadata": {
        "colab": {
          "base_uri": "https://localhost:8080/"
        },
        "id": "-nNVzMbzVMcG",
        "outputId": "9af21850-e538-42be-baae-dc5fcd014ad3"
      },
      "execution_count": 7,
      "outputs": [
        {
          "output_type": "stream",
          "name": "stdout",
          "text": [
            "<class 'pandas.core.frame.DataFrame'>\n",
            "RangeIndex: 284807 entries, 0 to 284806\n",
            "Data columns (total 31 columns):\n",
            " #   Column  Non-Null Count   Dtype  \n",
            "---  ------  --------------   -----  \n",
            " 0   Time    284807 non-null  float64\n",
            " 1   V1      284807 non-null  float64\n",
            " 2   V2      284807 non-null  float64\n",
            " 3   V3      284807 non-null  float64\n",
            " 4   V4      284807 non-null  float64\n",
            " 5   V5      284807 non-null  float64\n",
            " 6   V6      284807 non-null  float64\n",
            " 7   V7      284807 non-null  float64\n",
            " 8   V8      284807 non-null  float64\n",
            " 9   V9      284807 non-null  float64\n",
            " 10  V10     284807 non-null  float64\n",
            " 11  V11     284807 non-null  float64\n",
            " 12  V12     284807 non-null  float64\n",
            " 13  V13     284807 non-null  float64\n",
            " 14  V14     284807 non-null  float64\n",
            " 15  V15     284807 non-null  float64\n",
            " 16  V16     284807 non-null  float64\n",
            " 17  V17     284807 non-null  float64\n",
            " 18  V18     284807 non-null  float64\n",
            " 19  V19     284807 non-null  float64\n",
            " 20  V20     284807 non-null  float64\n",
            " 21  V21     284807 non-null  float64\n",
            " 22  V22     284807 non-null  float64\n",
            " 23  V23     284807 non-null  float64\n",
            " 24  V24     284807 non-null  float64\n",
            " 25  V25     284807 non-null  float64\n",
            " 26  V26     284807 non-null  float64\n",
            " 27  V27     284807 non-null  float64\n",
            " 28  V28     284807 non-null  float64\n",
            " 29  Amount  284807 non-null  float64\n",
            " 30  Class   284807 non-null  int64  \n",
            "dtypes: float64(30), int64(1)\n",
            "memory usage: 67.4 MB\n"
          ]
        }
      ]
    },
    {
      "cell_type": "code",
      "execution_count": 8,
      "metadata": {
        "id": "M43Gbshu5G8s",
        "colab": {
          "base_uri": "https://localhost:8080/"
        },
        "outputId": "c702b0aa-b2e4-48ce-b08c-7a4713711843"
      },
      "outputs": [
        {
          "output_type": "execute_result",
          "data": {
            "text/plain": [
              "array([0, 1])"
            ]
          },
          "metadata": {},
          "execution_count": 8
        }
      ],
      "source": [
        "df.Class.unique()"
      ]
    },
    {
      "cell_type": "code",
      "execution_count": 9,
      "metadata": {
        "id": "FVf8vXY85LOh",
        "colab": {
          "base_uri": "https://localhost:8080/",
          "height": 265
        },
        "outputId": "8626f52b-2202-407e-bc0f-e7d5fdac7a0e"
      },
      "outputs": [
        {
          "output_type": "display_data",
          "data": {
            "image/png": "[encoded data removed]",
            "text/plain": [
              "<Figure size 432x288 with 1 Axes>"
            ]
          },
          "metadata": {
            "needs_background": "light"
          }
        }
      ],
      "source": [
        "plt.hist(df.Class, bins=2)\n",
        "plt.show()"
      ]
    },
    {
      "cell_type": "code",
      "execution_count": 10,
      "metadata": {
        "id": "_vk62qJm6epq"
      },
      "outputs": [],
      "source": [
        "df = df.sample(frac=1)"
      ]
    },
    {
      "cell_type": "markdown",
      "source": [
        "# train / test 데이터 분리"
      ],
      "metadata": {
        "id": "KL99tTYqPF_n"
      }
    },
    {
      "cell_type": "code",
      "execution_count": 11,
      "metadata": {
        "id": "stuWJVcv5TpV",
        "colab": {
          "base_uri": "https://localhost:8080/"
        },
        "outputId": "786f55f1-0001-49b2-cf85-b7a75a0c023c"
      },
      "outputs": [
        {
          "output_type": "stream",
          "name": "stdout",
          "text": [
            "492\n"
          ]
        }
      ],
      "source": [
        "class1_df = df[df.Class==1]\n",
        "class1_count = len(class1_df)\n",
        "print(class1_count)"
      ]
    },
    {
      "cell_type": "code",
      "execution_count": 12,
      "metadata": {
        "id": "zfHDHO6W5mNi",
        "colab": {
          "base_uri": "https://localhost:8080/"
        },
        "outputId": "44af6f01-0c58-4657-ccae-ad4bf1721083"
      },
      "outputs": [
        {
          "output_type": "stream",
          "name": "stdout",
          "text": [
            "284315\n"
          ]
        }
      ],
      "source": [
        "class0_df = df[df.Class==0]\n",
        "print(len(class0_df))"
      ]
    },
    {
      "cell_type": "code",
      "execution_count": 13,
      "metadata": {
        "id": "CmaPSFjX7yWq",
        "colab": {
          "base_uri": "https://localhost:8080/"
        },
        "outputId": "98bd9ea1-9037-477d-855f-0357a331304d"
      },
      "outputs": [
        {
          "output_type": "stream",
          "name": "stdout",
          "text": [
            "493\n",
            "283822\n"
          ]
        },
        {
          "output_type": "stream",
          "name": "stderr",
          "text": [
            "/usr/local/lib/python3.7/dist-packages/pandas/core/frame.py:4174: SettingWithCopyWarning: \n",
            "A value is trying to be set on a copy of a slice from a DataFrame\n",
            "\n",
            "See the caveats in the documentation: https://pandas.pydata.org/pandas-docs/stable/user_guide/indexing.html#returning-a-view-versus-a-copy\n",
            "  errors=errors,\n"
          ]
        }
      ],
      "source": [
        "class0_test_df = class0_df.iloc[class0_df.index<=class1_count]\n",
        "class0_df.drop(class0_test_df.index, inplace=True)\n",
        "print(len(class0_test_df))\n",
        "print(len(class0_df))"
      ]
    },
    {
      "cell_type": "code",
      "execution_count": 14,
      "metadata": {
        "id": "EEsnPoVX8s4w",
        "colab": {
          "base_uri": "https://localhost:8080/"
        },
        "outputId": "4a3b19a9-056d-4bee-ef65-fbfd3319a3bc"
      },
      "outputs": [
        {
          "output_type": "stream",
          "name": "stdout",
          "text": [
            "283822\n",
            "985\n"
          ]
        }
      ],
      "source": [
        "train_df = class0_df\n",
        "print(len(train_df))\n",
        "test_df = class1_df.append(class0_test_df)\n",
        "print(len(test_df))"
      ]
    },
    {
      "cell_type": "markdown",
      "source": [
        "# numpy로 변환"
      ],
      "metadata": {
        "id": "qvTL5q7xQCzE"
      }
    },
    {
      "cell_type": "code",
      "execution_count": 15,
      "metadata": {
        "id": "q9mOyCbS8556",
        "colab": {
          "base_uri": "https://localhost:8080/"
        },
        "outputId": "3600febe-1ca2-4881-959f-65bb27181e88"
      },
      "outputs": [
        {
          "output_type": "stream",
          "name": "stdout",
          "text": [
            "              V1        V2        V3  ...       V27       V28  Amount\n",
            "134945 -1.724700  0.695928  1.675806  ...  0.144622  0.013618    0.00\n",
            "147806 -0.023629  0.538677  0.459605  ... -0.134675 -0.018374   10.00\n",
            "49574   1.145145 -0.767684  0.325136  ...  0.087600  0.013204   51.52\n",
            "175008 -1.834877  0.320807 -1.196268  ...  0.517451 -0.329858  283.74\n",
            "10304  -5.367462 -3.985117  0.560908  ...  0.469051  1.497523  500.00\n",
            "\n",
            "[5 rows x 29 columns]\n"
          ]
        },
        {
          "output_type": "stream",
          "name": "stderr",
          "text": [
            "/usr/local/lib/python3.7/dist-packages/pandas/core/frame.py:4174: SettingWithCopyWarning: \n",
            "A value is trying to be set on a copy of a slice from a DataFrame\n",
            "\n",
            "See the caveats in the documentation: https://pandas.pydata.org/pandas-docs/stable/user_guide/indexing.html#returning-a-view-versus-a-copy\n",
            "  errors=errors,\n"
          ]
        }
      ],
      "source": [
        "train_df.drop(columns=[\"Time\", \"Class\"], inplace=True)\n",
        "print(train_df.head())"
      ]
    },
    {
      "cell_type": "code",
      "execution_count": 16,
      "metadata": {
        "id": "4nM417U09MBK",
        "colab": {
          "base_uri": "https://localhost:8080/"
        },
        "outputId": "8271bef2-6191-4087-d777-8eaa33d72c42"
      },
      "outputs": [
        {
          "output_type": "stream",
          "name": "stdout",
          "text": [
            "(283822, 29)\n"
          ]
        }
      ],
      "source": [
        "train_data = train_df.to_numpy()\n",
        "print(train_data.shape)"
      ]
    },
    {
      "cell_type": "code",
      "source": [
        "test_df.head()"
      ],
      "metadata": {
        "colab": {
          "base_uri": "https://localhost:8080/",
          "height": 270
        },
        "id": "Ho36JfcFNhlo",
        "outputId": "d048d693-34f2-4697-d96f-ff89ec75071b"
      },
      "execution_count": 17,
      "outputs": [
        {
          "output_type": "execute_result",
          "data": {
            "text/html": [
              "\n",
              "  <div id=\"df-1754766f-366d-487e-ba02-34ae73d978f0\">\n",
              "    <div class=\"colab-df-container\">\n",
              "      <div>\n",
              "<style scoped>\n",
              "    .dataframe tbody tr th:only-of-type {\n",
              "        vertical-align: middle;\n",
              "    }\n",
              "\n",
              "    .dataframe tbody tr th {\n",
              "        vertical-align: top;\n",
              "    }\n",
              "\n",
              "    .dataframe thead th {\n",
              "        text-align: right;\n",
              "    }\n",
              "</style>\n",
              "<table border=\"1\" class=\"dataframe\">\n",
              "  <thead>\n",
              "    <tr style=\"text-align: right;\">\n",
              "      <th></th>\n",
              "      <th>Time</th>\n",
              "      <th>V1</th>\n",
              "      <th>V2</th>\n",
              "      <th>V3</th>\n",
              "      <th>V4</th>\n",
              "      <th>V5</th>\n",
              "      <th>V6</th>\n",
              "      <th>V7</th>\n",
              "      <th>V8</th>\n",
              "      <th>V9</th>\n",
              "      <th>V10</th>\n",
              "      <th>V11</th>\n",
              "      <th>V12</th>\n",
              "      <th>V13</th>\n",
              "      <th>V14</th>\n",
              "      <th>V15</th>\n",
              "      <th>V16</th>\n",
              "      <th>V17</th>\n",
              "      <th>V18</th>\n",
              "      <th>V19</th>\n",
              "      <th>V20</th>\n",
              "      <th>V21</th>\n",
              "      <th>V22</th>\n",
              "      <th>V23</th>\n",
              "      <th>V24</th>\n",
              "      <th>V25</th>\n",
              "      <th>V26</th>\n",
              "      <th>V27</th>\n",
              "      <th>V28</th>\n",
              "      <th>Amount</th>\n",
              "      <th>Class</th>\n",
              "    </tr>\n",
              "  </thead>\n",
              "  <tbody>\n",
              "    <tr>\n",
              "      <th>247673</th>\n",
              "      <td>153653.0</td>\n",
              "      <td>-5.192496</td>\n",
              "      <td>3.164721</td>\n",
              "      <td>-5.047679</td>\n",
              "      <td>2.246597</td>\n",
              "      <td>-4.011781</td>\n",
              "      <td>-0.638908</td>\n",
              "      <td>-2.873463</td>\n",
              "      <td>1.576318</td>\n",
              "      <td>-2.861986</td>\n",
              "      <td>-2.120458</td>\n",
              "      <td>1.863596</td>\n",
              "      <td>-3.620252</td>\n",
              "      <td>-1.480714</td>\n",
              "      <td>-1.583343</td>\n",
              "      <td>-1.230469</td>\n",
              "      <td>-1.202298</td>\n",
              "      <td>-6.167637</td>\n",
              "      <td>-2.651539</td>\n",
              "      <td>0.013588</td>\n",
              "      <td>-1.850470</td>\n",
              "      <td>1.167244</td>\n",
              "      <td>-1.006617</td>\n",
              "      <td>0.774562</td>\n",
              "      <td>0.063397</td>\n",
              "      <td>-0.390658</td>\n",
              "      <td>1.884741</td>\n",
              "      <td>-1.742558</td>\n",
              "      <td>-0.082216</td>\n",
              "      <td>247.86</td>\n",
              "      <td>1</td>\n",
              "    </tr>\n",
              "    <tr>\n",
              "      <th>42856</th>\n",
              "      <td>41273.0</td>\n",
              "      <td>-11.682215</td>\n",
              "      <td>6.332882</td>\n",
              "      <td>-13.297109</td>\n",
              "      <td>7.690772</td>\n",
              "      <td>-10.889891</td>\n",
              "      <td>-2.792360</td>\n",
              "      <td>-12.561783</td>\n",
              "      <td>7.287122</td>\n",
              "      <td>-7.570322</td>\n",
              "      <td>-12.835738</td>\n",
              "      <td>5.804708</td>\n",
              "      <td>-12.156239</td>\n",
              "      <td>1.184985</td>\n",
              "      <td>-10.468677</td>\n",
              "      <td>-0.416743</td>\n",
              "      <td>-10.999792</td>\n",
              "      <td>-22.608868</td>\n",
              "      <td>-9.498746</td>\n",
              "      <td>2.102735</td>\n",
              "      <td>-1.009320</td>\n",
              "      <td>2.133456</td>\n",
              "      <td>-1.271509</td>\n",
              "      <td>-0.035304</td>\n",
              "      <td>0.615054</td>\n",
              "      <td>0.349024</td>\n",
              "      <td>-0.428923</td>\n",
              "      <td>-0.694935</td>\n",
              "      <td>-0.818970</td>\n",
              "      <td>173.07</td>\n",
              "      <td>1</td>\n",
              "    </tr>\n",
              "    <tr>\n",
              "      <th>57248</th>\n",
              "      <td>47826.0</td>\n",
              "      <td>-0.887287</td>\n",
              "      <td>1.390002</td>\n",
              "      <td>1.219686</td>\n",
              "      <td>1.661425</td>\n",
              "      <td>1.009228</td>\n",
              "      <td>-0.733908</td>\n",
              "      <td>0.855829</td>\n",
              "      <td>0.000077</td>\n",
              "      <td>-1.275631</td>\n",
              "      <td>-0.433394</td>\n",
              "      <td>0.141179</td>\n",
              "      <td>-0.460348</td>\n",
              "      <td>-0.367868</td>\n",
              "      <td>-1.168339</td>\n",
              "      <td>0.152108</td>\n",
              "      <td>0.882232</td>\n",
              "      <td>0.601805</td>\n",
              "      <td>-0.304092</td>\n",
              "      <td>-2.191764</td>\n",
              "      <td>-0.268347</td>\n",
              "      <td>-0.083734</td>\n",
              "      <td>-0.346930</td>\n",
              "      <td>-0.050619</td>\n",
              "      <td>0.231044</td>\n",
              "      <td>-0.450760</td>\n",
              "      <td>-0.376205</td>\n",
              "      <td>0.034504</td>\n",
              "      <td>0.157775</td>\n",
              "      <td>7.58</td>\n",
              "      <td>1</td>\n",
              "    </tr>\n",
              "    <tr>\n",
              "      <th>43428</th>\n",
              "      <td>41505.0</td>\n",
              "      <td>-16.526507</td>\n",
              "      <td>8.584972</td>\n",
              "      <td>-18.649853</td>\n",
              "      <td>9.505594</td>\n",
              "      <td>-13.793819</td>\n",
              "      <td>-2.832404</td>\n",
              "      <td>-16.701694</td>\n",
              "      <td>7.517344</td>\n",
              "      <td>-8.507059</td>\n",
              "      <td>-14.110184</td>\n",
              "      <td>5.299236</td>\n",
              "      <td>-10.834006</td>\n",
              "      <td>1.671120</td>\n",
              "      <td>-9.373859</td>\n",
              "      <td>0.360806</td>\n",
              "      <td>-9.899247</td>\n",
              "      <td>-19.236292</td>\n",
              "      <td>-8.398552</td>\n",
              "      <td>3.101735</td>\n",
              "      <td>-1.514923</td>\n",
              "      <td>1.190739</td>\n",
              "      <td>-1.127670</td>\n",
              "      <td>-2.358579</td>\n",
              "      <td>0.673461</td>\n",
              "      <td>-1.413700</td>\n",
              "      <td>-0.462762</td>\n",
              "      <td>-2.018575</td>\n",
              "      <td>-1.042804</td>\n",
              "      <td>364.19</td>\n",
              "      <td>1</td>\n",
              "    </tr>\n",
              "    <tr>\n",
              "      <th>163149</th>\n",
              "      <td>115691.0</td>\n",
              "      <td>-1.550273</td>\n",
              "      <td>1.088689</td>\n",
              "      <td>-2.393388</td>\n",
              "      <td>1.008733</td>\n",
              "      <td>-1.087562</td>\n",
              "      <td>-1.104602</td>\n",
              "      <td>-2.670503</td>\n",
              "      <td>0.147655</td>\n",
              "      <td>-0.978626</td>\n",
              "      <td>-3.514133</td>\n",
              "      <td>3.586042</td>\n",
              "      <td>-4.053358</td>\n",
              "      <td>0.862426</td>\n",
              "      <td>-5.765823</td>\n",
              "      <td>-0.507511</td>\n",
              "      <td>-4.921865</td>\n",
              "      <td>-9.567268</td>\n",
              "      <td>-2.772974</td>\n",
              "      <td>1.717095</td>\n",
              "      <td>0.327490</td>\n",
              "      <td>0.802316</td>\n",
              "      <td>1.037105</td>\n",
              "      <td>0.095815</td>\n",
              "      <td>-0.320191</td>\n",
              "      <td>-0.080731</td>\n",
              "      <td>0.091012</td>\n",
              "      <td>0.024928</td>\n",
              "      <td>-0.077820</td>\n",
              "      <td>17.06</td>\n",
              "      <td>1</td>\n",
              "    </tr>\n",
              "  </tbody>\n",
              "</table>\n",
              "</div>\n",
              "      <button class=\"colab-df-convert\" onclick=\"convertToInteractive('df-1754766f-366d-487e-ba02-34ae73d978f0')\"\n",
              "              title=\"Convert this dataframe to an interactive table.\"\n",
              "              style=\"display:none;\">\n",
              "        \n",
              "  <svg xmlns=\"http://www.w3.org/2000/svg\" height=\"24px\"viewBox=\"0 0 24 24\"\n",
              "       width=\"24px\">\n",
              "    <path d=\"M0 0h24v24H0V0z\" fill=\"none\"/>\n",
              "    <path d=\"M18.56 5.44l.94 2.06.94-2.06 2.06-.94-2.06-.94-.94-2.06-.94 2.06-2.06.94zm-11 1L8.5 8.5l.94-2.06 2.06-.94-2.06-.94L8.5 2.5l-.94 2.06-2.06.94zm10 10l.94 2.06.94-2.06 2.06-.94-2.06-.94-.94-2.06-.94 2.06-2.06.94z\"/><path d=\"M17.41 7.96l-1.37-1.37c-.4-.4-.92-.59-1.43-.59-.52 0-1.04.2-1.43.59L10.3 9.45l-7.72 7.72c-.78.78-.78 2.05 0 2.83L4 21.41c.39.39.9.59 1.41.59.51 0 1.02-.2 1.41-.59l7.78-7.78 2.81-2.81c.8-.78.8-2.07 0-2.86zM5.41 20L4 18.59l7.72-7.72 1.47 1.35L5.41 20z\"/>\n",
              "  </svg>\n",
              "      </button>\n",
              "      \n",
              "  <style>\n",
              "    .colab-df-container {\n",
              "      display:flex;\n",
              "      flex-wrap:wrap;\n",
              "      gap: 12px;\n",
              "    }\n",
              "\n",
              "    .colab-df-convert {\n",
              "      background-color: #E8F0FE;\n",
              "      border: none;\n",
              "      border-radius: 50%;\n",
              "      cursor: pointer;\n",
              "      display: none;\n",
              "      fill: #1967D2;\n",
              "      height: 32px;\n",
              "      padding: 0 0 0 0;\n",
              "      width: 32px;\n",
              "    }\n",
              "\n",
              "    .colab-df-convert:hover {\n",
              "      background-color: #E2EBFA;\n",
              "      box-shadow: 0px 1px 2px rgba(60, 64, 67, 0.3), 0px 1px 3px 1px rgba(60, 64, 67, 0.15);\n",
              "      fill: #174EA6;\n",
              "    }\n",
              "\n",
              "    [theme=dark] .colab-df-convert {\n",
              "      background-color: #3B4455;\n",
              "      fill: #D2E3FC;\n",
              "    }\n",
              "\n",
              "    [theme=dark] .colab-df-convert:hover {\n",
              "      background-color: #434B5C;\n",
              "      box-shadow: 0px 1px 3px 1px rgba(0, 0, 0, 0.15);\n",
              "      filter: drop-shadow(0px 1px 2px rgba(0, 0, 0, 0.3));\n",
              "      fill: #FFFFFF;\n",
              "    }\n",
              "  </style>\n",
              "\n",
              "      <script>\n",
              "        const buttonEl =\n",
              "          document.querySelector('#df-1754766f-366d-487e-ba02-34ae73d978f0 button.colab-df-convert');\n",
              "        buttonEl.style.display =\n",
              "          google.colab.kernel.accessAllowed ? 'block' : 'none';\n",
              "\n",
              "        async function convertToInteractive(key) {\n",
              "          const element = document.querySelector('#df-1754766f-366d-487e-ba02-34ae73d978f0');\n",
              "          const dataTable =\n",
              "            await google.colab.kernel.invokeFunction('convertToInteractive',\n",
              "                                                     [key], {});\n",
              "          if (!dataTable) return;\n",
              "\n",
              "          const docLinkHtml = 'Like what you see? Visit the ' +\n",
              "            '<a target=\"_blank\" href=https://colab.research.google.com/notebooks/data_table.ipynb>data table notebook</a>'\n",
              "            + ' to learn more about interactive tables.';\n",
              "          element.innerHTML = '';\n",
              "          dataTable['output_type'] = 'display_data';\n",
              "          await google.colab.output.renderOutput(dataTable, element);\n",
              "          const docLink = document.createElement('div');\n",
              "          docLink.innerHTML = docLinkHtml;\n",
              "          element.appendChild(docLink);\n",
              "        }\n",
              "      </script>\n",
              "    </div>\n",
              "  </div>\n",
              "  "
            ],
            "text/plain": [
              "            Time         V1        V2  ...       V28  Amount  Class\n",
              "247673  153653.0  -5.192496  3.164721  ... -0.082216  247.86      1\n",
              "42856    41273.0 -11.682215  6.332882  ... -0.818970  173.07      1\n",
              "57248    47826.0  -0.887287  1.390002  ...  0.157775    7.58      1\n",
              "43428    41505.0 -16.526507  8.584972  ... -1.042804  364.19      1\n",
              "163149  115691.0  -1.550273  1.088689  ... -0.077820   17.06      1\n",
              "\n",
              "[5 rows x 31 columns]"
            ]
          },
          "metadata": {},
          "execution_count": 17
        }
      ]
    },
    {
      "cell_type": "code",
      "source": [
        "test_y = test_df.Class.to_numpy()\n",
        "print(test_y.shape)\n",
        "print(test_y[:10])"
      ],
      "metadata": {
        "colab": {
          "base_uri": "https://localhost:8080/"
        },
        "id": "LMUQxHw9OEB8",
        "outputId": "112c5305-3b9f-417d-92d2-51292a1e7803"
      },
      "execution_count": 18,
      "outputs": [
        {
          "output_type": "stream",
          "name": "stdout",
          "text": [
            "(985,)\n",
            "[1 1 1 1 1 1 1 1 1 1]\n"
          ]
        }
      ]
    },
    {
      "cell_type": "code",
      "source": [
        "test_df.drop(columns=[\"Time\", \"Class\"], inplace=True)\n",
        "test_df.head()"
      ],
      "metadata": {
        "colab": {
          "base_uri": "https://localhost:8080/",
          "height": 270
        },
        "id": "kkOj8wW5NWqC",
        "outputId": "dc247ab9-6192-4dc1-bb34-a476cd3a00b8"
      },
      "execution_count": 19,
      "outputs": [
        {
          "output_type": "execute_result",
          "data": {
            "text/html": [
              "\n",
              "  <div id=\"df-59289f4f-cb97-4482-b49b-e130277ae38f\">\n",
              "    <div class=\"colab-df-container\">\n",
              "      <div>\n",
              "<style scoped>\n",
              "    .dataframe tbody tr th:only-of-type {\n",
              "        vertical-align: middle;\n",
              "    }\n",
              "\n",
              "    .dataframe tbody tr th {\n",
              "        vertical-align: top;\n",
              "    }\n",
              "\n",
              "    .dataframe thead th {\n",
              "        text-align: right;\n",
              "    }\n",
              "</style>\n",
              "<table border=\"1\" class=\"dataframe\">\n",
              "  <thead>\n",
              "    <tr style=\"text-align: right;\">\n",
              "      <th></th>\n",
              "      <th>V1</th>\n",
              "      <th>V2</th>\n",
              "      <th>V3</th>\n",
              "      <th>V4</th>\n",
              "      <th>V5</th>\n",
              "      <th>V6</th>\n",
              "      <th>V7</th>\n",
              "      <th>V8</th>\n",
              "      <th>V9</th>\n",
              "      <th>V10</th>\n",
              "      <th>V11</th>\n",
              "      <th>V12</th>\n",
              "      <th>V13</th>\n",
              "      <th>V14</th>\n",
              "      <th>V15</th>\n",
              "      <th>V16</th>\n",
              "      <th>V17</th>\n",
              "      <th>V18</th>\n",
              "      <th>V19</th>\n",
              "      <th>V20</th>\n",
              "      <th>V21</th>\n",
              "      <th>V22</th>\n",
              "      <th>V23</th>\n",
              "      <th>V24</th>\n",
              "      <th>V25</th>\n",
              "      <th>V26</th>\n",
              "      <th>V27</th>\n",
              "      <th>V28</th>\n",
              "      <th>Amount</th>\n",
              "    </tr>\n",
              "  </thead>\n",
              "  <tbody>\n",
              "    <tr>\n",
              "      <th>247673</th>\n",
              "      <td>-5.192496</td>\n",
              "      <td>3.164721</td>\n",
              "      <td>-5.047679</td>\n",
              "      <td>2.246597</td>\n",
              "      <td>-4.011781</td>\n",
              "      <td>-0.638908</td>\n",
              "      <td>-2.873463</td>\n",
              "      <td>1.576318</td>\n",
              "      <td>-2.861986</td>\n",
              "      <td>-2.120458</td>\n",
              "      <td>1.863596</td>\n",
              "      <td>-3.620252</td>\n",
              "      <td>-1.480714</td>\n",
              "      <td>-1.583343</td>\n",
              "      <td>-1.230469</td>\n",
              "      <td>-1.202298</td>\n",
              "      <td>-6.167637</td>\n",
              "      <td>-2.651539</td>\n",
              "      <td>0.013588</td>\n",
              "      <td>-1.850470</td>\n",
              "      <td>1.167244</td>\n",
              "      <td>-1.006617</td>\n",
              "      <td>0.774562</td>\n",
              "      <td>0.063397</td>\n",
              "      <td>-0.390658</td>\n",
              "      <td>1.884741</td>\n",
              "      <td>-1.742558</td>\n",
              "      <td>-0.082216</td>\n",
              "      <td>247.86</td>\n",
              "    </tr>\n",
              "    <tr>\n",
              "      <th>42856</th>\n",
              "      <td>-11.682215</td>\n",
              "      <td>6.332882</td>\n",
              "      <td>-13.297109</td>\n",
              "      <td>7.690772</td>\n",
              "      <td>-10.889891</td>\n",
              "      <td>-2.792360</td>\n",
              "      <td>-12.561783</td>\n",
              "      <td>7.287122</td>\n",
              "      <td>-7.570322</td>\n",
              "      <td>-12.835738</td>\n",
              "      <td>5.804708</td>\n",
              "      <td>-12.156239</td>\n",
              "      <td>1.184985</td>\n",
              "      <td>-10.468677</td>\n",
              "      <td>-0.416743</td>\n",
              "      <td>-10.999792</td>\n",
              "      <td>-22.608868</td>\n",
              "      <td>-9.498746</td>\n",
              "      <td>2.102735</td>\n",
              "      <td>-1.009320</td>\n",
              "      <td>2.133456</td>\n",
              "      <td>-1.271509</td>\n",
              "      <td>-0.035304</td>\n",
              "      <td>0.615054</td>\n",
              "      <td>0.349024</td>\n",
              "      <td>-0.428923</td>\n",
              "      <td>-0.694935</td>\n",
              "      <td>-0.818970</td>\n",
              "      <td>173.07</td>\n",
              "    </tr>\n",
              "    <tr>\n",
              "      <th>57248</th>\n",
              "      <td>-0.887287</td>\n",
              "      <td>1.390002</td>\n",
              "      <td>1.219686</td>\n",
              "      <td>1.661425</td>\n",
              "      <td>1.009228</td>\n",
              "      <td>-0.733908</td>\n",
              "      <td>0.855829</td>\n",
              "      <td>0.000077</td>\n",
              "      <td>-1.275631</td>\n",
              "      <td>-0.433394</td>\n",
              "      <td>0.141179</td>\n",
              "      <td>-0.460348</td>\n",
              "      <td>-0.367868</td>\n",
              "      <td>-1.168339</td>\n",
              "      <td>0.152108</td>\n",
              "      <td>0.882232</td>\n",
              "      <td>0.601805</td>\n",
              "      <td>-0.304092</td>\n",
              "      <td>-2.191764</td>\n",
              "      <td>-0.268347</td>\n",
              "      <td>-0.083734</td>\n",
              "      <td>-0.346930</td>\n",
              "      <td>-0.050619</td>\n",
              "      <td>0.231044</td>\n",
              "      <td>-0.450760</td>\n",
              "      <td>-0.376205</td>\n",
              "      <td>0.034504</td>\n",
              "      <td>0.157775</td>\n",
              "      <td>7.58</td>\n",
              "    </tr>\n",
              "    <tr>\n",
              "      <th>43428</th>\n",
              "      <td>-16.526507</td>\n",
              "      <td>8.584972</td>\n",
              "      <td>-18.649853</td>\n",
              "      <td>9.505594</td>\n",
              "      <td>-13.793819</td>\n",
              "      <td>-2.832404</td>\n",
              "      <td>-16.701694</td>\n",
              "      <td>7.517344</td>\n",
              "      <td>-8.507059</td>\n",
              "      <td>-14.110184</td>\n",
              "      <td>5.299236</td>\n",
              "      <td>-10.834006</td>\n",
              "      <td>1.671120</td>\n",
              "      <td>-9.373859</td>\n",
              "      <td>0.360806</td>\n",
              "      <td>-9.899247</td>\n",
              "      <td>-19.236292</td>\n",
              "      <td>-8.398552</td>\n",
              "      <td>3.101735</td>\n",
              "      <td>-1.514923</td>\n",
              "      <td>1.190739</td>\n",
              "      <td>-1.127670</td>\n",
              "      <td>-2.358579</td>\n",
              "      <td>0.673461</td>\n",
              "      <td>-1.413700</td>\n",
              "      <td>-0.462762</td>\n",
              "      <td>-2.018575</td>\n",
              "      <td>-1.042804</td>\n",
              "      <td>364.19</td>\n",
              "    </tr>\n",
              "    <tr>\n",
              "      <th>163149</th>\n",
              "      <td>-1.550273</td>\n",
              "      <td>1.088689</td>\n",
              "      <td>-2.393388</td>\n",
              "      <td>1.008733</td>\n",
              "      <td>-1.087562</td>\n",
              "      <td>-1.104602</td>\n",
              "      <td>-2.670503</td>\n",
              "      <td>0.147655</td>\n",
              "      <td>-0.978626</td>\n",
              "      <td>-3.514133</td>\n",
              "      <td>3.586042</td>\n",
              "      <td>-4.053358</td>\n",
              "      <td>0.862426</td>\n",
              "      <td>-5.765823</td>\n",
              "      <td>-0.507511</td>\n",
              "      <td>-4.921865</td>\n",
              "      <td>-9.567268</td>\n",
              "      <td>-2.772974</td>\n",
              "      <td>1.717095</td>\n",
              "      <td>0.327490</td>\n",
              "      <td>0.802316</td>\n",
              "      <td>1.037105</td>\n",
              "      <td>0.095815</td>\n",
              "      <td>-0.320191</td>\n",
              "      <td>-0.080731</td>\n",
              "      <td>0.091012</td>\n",
              "      <td>0.024928</td>\n",
              "      <td>-0.077820</td>\n",
              "      <td>17.06</td>\n",
              "    </tr>\n",
              "  </tbody>\n",
              "</table>\n",
              "</div>\n",
              "      <button class=\"colab-df-convert\" onclick=\"convertToInteractive('df-59289f4f-cb97-4482-b49b-e130277ae38f')\"\n",
              "              title=\"Convert this dataframe to an interactive table.\"\n",
              "              style=\"display:none;\">\n",
              "        \n",
              "  <svg xmlns=\"http://www.w3.org/2000/svg\" height=\"24px\"viewBox=\"0 0 24 24\"\n",
              "       width=\"24px\">\n",
              "    <path d=\"M0 0h24v24H0V0z\" fill=\"none\"/>\n",
              "    <path d=\"M18.56 5.44l.94 2.06.94-2.06 2.06-.94-2.06-.94-.94-2.06-.94 2.06-2.06.94zm-11 1L8.5 8.5l.94-2.06 2.06-.94-2.06-.94L8.5 2.5l-.94 2.06-2.06.94zm10 10l.94 2.06.94-2.06 2.06-.94-2.06-.94-.94-2.06-.94 2.06-2.06.94z\"/><path d=\"M17.41 7.96l-1.37-1.37c-.4-.4-.92-.59-1.43-.59-.52 0-1.04.2-1.43.59L10.3 9.45l-7.72 7.72c-.78.78-.78 2.05 0 2.83L4 21.41c.39.39.9.59 1.41.59.51 0 1.02-.2 1.41-.59l7.78-7.78 2.81-2.81c.8-.78.8-2.07 0-2.86zM5.41 20L4 18.59l7.72-7.72 1.47 1.35L5.41 20z\"/>\n",
              "  </svg>\n",
              "      </button>\n",
              "      \n",
              "  <style>\n",
              "    .colab-df-container {\n",
              "      display:flex;\n",
              "      flex-wrap:wrap;\n",
              "      gap: 12px;\n",
              "    }\n",
              "\n",
              "    .colab-df-convert {\n",
              "      background-color: #E8F0FE;\n",
              "      border: none;\n",
              "      border-radius: 50%;\n",
              "      cursor: pointer;\n",
              "      display: none;\n",
              "      fill: #1967D2;\n",
              "      height: 32px;\n",
              "      padding: 0 0 0 0;\n",
              "      width: 32px;\n",
              "    }\n",
              "\n",
              "    .colab-df-convert:hover {\n",
              "      background-color: #E2EBFA;\n",
              "      box-shadow: 0px 1px 2px rgba(60, 64, 67, 0.3), 0px 1px 3px 1px rgba(60, 64, 67, 0.15);\n",
              "      fill: #174EA6;\n",
              "    }\n",
              "\n",
              "    [theme=dark] .colab-df-convert {\n",
              "      background-color: #3B4455;\n",
              "      fill: #D2E3FC;\n",
              "    }\n",
              "\n",
              "    [theme=dark] .colab-df-convert:hover {\n",
              "      background-color: #434B5C;\n",
              "      box-shadow: 0px 1px 3px 1px rgba(0, 0, 0, 0.15);\n",
              "      filter: drop-shadow(0px 1px 2px rgba(0, 0, 0, 0.3));\n",
              "      fill: #FFFFFF;\n",
              "    }\n",
              "  </style>\n",
              "\n",
              "      <script>\n",
              "        const buttonEl =\n",
              "          document.querySelector('#df-59289f4f-cb97-4482-b49b-e130277ae38f button.colab-df-convert');\n",
              "        buttonEl.style.display =\n",
              "          google.colab.kernel.accessAllowed ? 'block' : 'none';\n",
              "\n",
              "        async function convertToInteractive(key) {\n",
              "          const element = document.querySelector('#df-59289f4f-cb97-4482-b49b-e130277ae38f');\n",
              "          const dataTable =\n",
              "            await google.colab.kernel.invokeFunction('convertToInteractive',\n",
              "                                                     [key], {});\n",
              "          if (!dataTable) return;\n",
              "\n",
              "          const docLinkHtml = 'Like what you see? Visit the ' +\n",
              "            '<a target=\"_blank\" href=https://colab.research.google.com/notebooks/data_table.ipynb>data table notebook</a>'\n",
              "            + ' to learn more about interactive tables.';\n",
              "          element.innerHTML = '';\n",
              "          dataTable['output_type'] = 'display_data';\n",
              "          await google.colab.output.renderOutput(dataTable, element);\n",
              "          const docLink = document.createElement('div');\n",
              "          docLink.innerHTML = docLinkHtml;\n",
              "          element.appendChild(docLink);\n",
              "        }\n",
              "      </script>\n",
              "    </div>\n",
              "  </div>\n",
              "  "
            ],
            "text/plain": [
              "               V1        V2         V3  ...       V27       V28  Amount\n",
              "247673  -5.192496  3.164721  -5.047679  ... -1.742558 -0.082216  247.86\n",
              "42856  -11.682215  6.332882 -13.297109  ... -0.694935 -0.818970  173.07\n",
              "57248   -0.887287  1.390002   1.219686  ...  0.034504  0.157775    7.58\n",
              "43428  -16.526507  8.584972 -18.649853  ... -2.018575 -1.042804  364.19\n",
              "163149  -1.550273  1.088689  -2.393388  ...  0.024928 -0.077820   17.06\n",
              "\n",
              "[5 rows x 29 columns]"
            ]
          },
          "metadata": {},
          "execution_count": 19
        }
      ]
    },
    {
      "cell_type": "code",
      "source": [
        "test_data = test_df.to_numpy()\n",
        "print(test_data.shape)\n",
        "print(test_data[0])"
      ],
      "metadata": {
        "colab": {
          "base_uri": "https://localhost:8080/"
        },
        "id": "4JNOuYVGNpMI",
        "outputId": "d6626b81-6fc5-4a45-ec1a-b1df55fc64ca"
      },
      "execution_count": 20,
      "outputs": [
        {
          "output_type": "stream",
          "name": "stdout",
          "text": [
            "(985, 29)\n",
            "[-5.19249643e+00  3.16472117e+00 -5.04767906e+00  2.24659736e+00\n",
            " -4.01178140e+00 -6.38908045e-01 -2.87346327e+00  1.57631757e+00\n",
            " -2.86198599e+00 -2.12045759e+00  1.86359574e+00 -3.62025176e+00\n",
            " -1.48071442e+00 -1.58334341e+00 -1.23046922e+00 -1.20229797e+00\n",
            " -6.16763654e+00 -2.65153905e+00  1.35877062e-02 -1.85046996e+00\n",
            "  1.16724379e+00 -1.00661749e+00  7.74561804e-01  6.33969166e-02\n",
            " -3.90657771e-01  1.88474067e+00 -1.74255751e+00 -8.22159347e-02\n",
            "  2.47860000e+02]\n"
          ]
        }
      ]
    },
    {
      "cell_type": "markdown",
      "source": [
        "# Normalize"
      ],
      "metadata": {
        "id": "kW6KfHSEO68L"
      }
    },
    {
      "cell_type": "code",
      "execution_count": 21,
      "metadata": {
        "id": "ctFzDFP16efc",
        "colab": {
          "base_uri": "https://localhost:8080/"
        },
        "outputId": "c404f9d1-24f4-4a13-8169-358d096f1353"
      },
      "outputs": [
        {
          "output_type": "stream",
          "name": "stdout",
          "text": [
            "[2.45492999e+00 1.89024528e+01 9.38255843e+00 1.68753440e+01\n",
            " 3.48016659e+01 7.33016255e+01 1.20589494e+02 1.87092545e+01\n",
            " 1.55949946e+01 2.37451361e+01 1.00021902e+01 7.84839208e+00\n",
            " 7.12688296e+00 1.05267661e+01 8.87774160e+00 1.73151115e+01\n",
            " 9.25352625e+00 5.04106919e+00 5.59197143e+00 3.94209042e+01\n",
            " 2.26148894e+01 1.05030901e+01 2.25284117e+01 4.58454914e+00\n",
            " 7.51958868e+00 3.51734561e+00 3.16121981e+01 3.38478078e+01\n",
            " 2.56911600e+04]\n",
            "[ -56.40750963  -72.71572756  -48.32558936   -5.6831712  -113.74330671\n",
            "  -26.16050594  -31.76494649  -73.21671846   -6.29073039  -14.74109638\n",
            "   -4.79747346  -15.14498822   -5.79188121  -18.3920915    -4.39130707\n",
            "  -10.11555995  -17.09844421   -5.36665996   -7.21352743  -54.49772049\n",
            "  -34.83038214  -10.9331437   -44.8077352    -2.83662692  -10.29539707\n",
            "   -2.60455055  -22.56567932  -15.43008391    0.        ]\n"
          ]
        }
      ],
      "source": [
        "maxs = train_data.max(axis=0)\n",
        "print(maxs)\n",
        "mins = train_data.min(axis=0)\n",
        "print(mins)"
      ]
    },
    {
      "cell_type": "code",
      "execution_count": 22,
      "metadata": {
        "id": "2QKio73m9co7",
        "colab": {
          "base_uri": "https://localhost:8080/"
        },
        "outputId": "2e1351be-8f60-4649-aaf3-5a6d0beb5bfb"
      },
      "outputs": [
        {
          "output_type": "stream",
          "name": "stdout",
          "text": [
            "[[9.28993260e-01 8.01278257e-01 8.66452959e-01 2.90073883e-01\n",
            "  7.65816226e-01 2.60546980e-01 2.07617720e-01 8.04676669e-01\n",
            "  2.53802145e-01 3.79510254e-01 4.16086342e-01 6.66679609e-01\n",
            "  3.41070622e-01 6.70158053e-01 4.06806202e-01 3.66737095e-01\n",
            "  6.53746988e-01 5.25346720e-01 6.01485722e-01 5.78983401e-01\n",
            "  6.03386477e-01 4.85769123e-01 6.72322873e-01 3.98345182e-01\n",
            "  5.85341956e-01 3.39226673e-01 4.19180341e-01 3.13400212e-01\n",
            "  0.00000000e+00]\n",
            " [9.57892356e-01 7.99561879e-01 8.45377930e-01 2.08184699e-01\n",
            "  7.70041226e-01 2.59292376e-01 2.14534179e-01 7.93710273e-01\n",
            "  2.92574280e-01 3.79750259e-01 3.33606096e-01 6.59435361e-01\n",
            "  3.82841862e-01 6.41103842e-01 2.63837320e-01 3.79127983e-01\n",
            "  6.11079057e-01 5.51952862e-01 5.82620704e-01 5.78672967e-01\n",
            "  6.07965269e-01 5.30947970e-01 6.64033520e-01 3.18832746e-01\n",
            "  5.19519090e-01 4.83767116e-01 4.14025162e-01 3.12751006e-01\n",
            "  3.89238944e-04]]\n"
          ]
        }
      ],
      "source": [
        "train_x = (train_data - mins) / (maxs - mins)\n",
        "print(train_x[:2])"
      ]
    },
    {
      "cell_type": "code",
      "source": [
        "test_x = (test_data - mins) / (maxs - mins)\n",
        "print(test_x[:2])"
      ],
      "metadata": {
        "colab": {
          "base_uri": "https://localhost:8080/"
        },
        "id": "31w0eeGfNzHz",
        "outputId": "bf4abb40-78bc-4904-9890-ac7f9cf5c7dc"
      },
      "execution_count": 23,
      "outputs": [
        {
          "output_type": "stream",
          "name": "stdout",
          "text": [
            "[[ 0.87007969  0.8282248   0.74994454  0.35151997  0.73870912  0.25659613\n",
            "   0.18963335  0.81362246  0.15666579  0.32792607  0.45008247  0.50121976\n",
            "   0.33371356  0.58123832  0.23821134  0.3249378   0.41480039  0.26087544\n",
            "   0.56437592  0.56056241  0.62664211  0.46307231  0.67693652  0.39077685\n",
            "   0.55597795  0.73331711  0.38434732  0.31145545  0.00964768]\n",
            " [ 0.7598274   0.86280484  0.60699366  0.59285565  0.69240591  0.23494515\n",
            "   0.12604269  0.87574641 -0.05846697  0.04950754  0.71637988  0.12998301\n",
            "   0.54005676  0.27398781  0.29953646 -0.03223517 -0.20910861 -0.3970209\n",
            "   0.72752049  0.56951857  0.64346181  0.45071512  0.66490932  0.46511235\n",
            "   0.59749814  0.35538462  0.40368403  0.29650444  0.00673656]]\n"
          ]
        }
      ]
    },
    {
      "cell_type": "markdown",
      "source": [
        "# 모델 학습"
      ],
      "metadata": {
        "id": "MwZaDQIzNPNs"
      }
    },
    {
      "cell_type": "code",
      "execution_count": 24,
      "metadata": {
        "id": "ALlhkO9u9yP_",
        "colab": {
          "base_uri": "https://localhost:8080/"
        },
        "outputId": "b26e6ba2-c6c9-4ddb-ea43-c40f5a3f1ca5"
      },
      "outputs": [
        {
          "output_type": "stream",
          "name": "stdout",
          "text": [
            "29\n"
          ]
        }
      ],
      "source": [
        "feature_count = train_x.shape[1]\n",
        "print(feature_count)"
      ]
    },
    {
      "cell_type": "code",
      "execution_count": 25,
      "metadata": {
        "id": "Zo9OQ4A-5rog"
      },
      "outputs": [],
      "source": [
        "from tensorflow.keras.datasets import mnist\n",
        "from tensorflow.keras.layers import Dense\n",
        "from tensorflow.keras import Sequential"
      ]
    },
    {
      "cell_type": "code",
      "execution_count": 35,
      "metadata": {
        "colab": {
          "base_uri": "https://localhost:8080/"
        },
        "id": "bSOoocZb9tld",
        "outputId": "2d713203-9193-4970-c2bd-9bd062721506"
      },
      "outputs": [
        {
          "output_type": "stream",
          "name": "stdout",
          "text": [
            "Epoch 1/1000\n",
            "250/250 [==============================] - 1s 4ms/step - loss: 0.1299 - mape: 3913.4021 - val_loss: 0.0263 - val_mape: 5151.0908\n",
            "Epoch 2/1000\n",
            "250/250 [==============================] - 1s 3ms/step - loss: 0.0261 - mape: 1712.3013 - val_loss: 0.0260 - val_mape: 4514.2725\n",
            "Epoch 3/1000\n",
            "250/250 [==============================] - 1s 3ms/step - loss: 0.0259 - mape: 1679.5259 - val_loss: 0.0259 - val_mape: 4515.0850\n",
            "Epoch 4/1000\n",
            "250/250 [==============================] - 1s 3ms/step - loss: 0.0259 - mape: 1678.4279 - val_loss: 0.0259 - val_mape: 4151.3970\n",
            "Epoch 5/1000\n",
            "250/250 [==============================] - 1s 3ms/step - loss: 0.0259 - mape: 1669.4691 - val_loss: 0.0258 - val_mape: 4278.7734\n",
            "Epoch 6/1000\n",
            "250/250 [==============================] - 1s 3ms/step - loss: 0.0259 - mape: 1688.3357 - val_loss: 0.0258 - val_mape: 4214.9326\n",
            "Epoch 7/1000\n",
            "250/250 [==============================] - 1s 3ms/step - loss: 0.0258 - mape: 1651.2793 - val_loss: 0.0258 - val_mape: 4126.7681\n",
            "Epoch 8/1000\n",
            "250/250 [==============================] - 1s 3ms/step - loss: 0.0258 - mape: 1693.1594 - val_loss: 0.0259 - val_mape: 4229.5112\n",
            "Epoch 9/1000\n",
            "250/250 [==============================] - 1s 3ms/step - loss: 0.0258 - mape: 1647.2600 - val_loss: 0.0258 - val_mape: 4025.1973\n",
            "Epoch 10/1000\n",
            "250/250 [==============================] - 1s 3ms/step - loss: 0.0258 - mape: 1678.0691 - val_loss: 0.0258 - val_mape: 4006.7227\n",
            "Epoch 11/1000\n",
            "250/250 [==============================] - 1s 3ms/step - loss: 0.0258 - mape: 1700.6980 - val_loss: 0.0258 - val_mape: 3991.7485\n",
            "Epoch 12/1000\n",
            "250/250 [==============================] - 1s 3ms/step - loss: 0.0258 - mape: 1650.8358 - val_loss: 0.0258 - val_mape: 3975.1819\n",
            "Epoch 13/1000\n",
            "250/250 [==============================] - 1s 3ms/step - loss: 0.0258 - mape: 1663.3108 - val_loss: 0.0258 - val_mape: 3785.2346\n",
            "Epoch 14/1000\n",
            "250/250 [==============================] - 1s 3ms/step - loss: 0.0258 - mape: 1666.1127 - val_loss: 0.0258 - val_mape: 4176.9053\n",
            "Epoch 15/1000\n",
            "250/250 [==============================] - 1s 3ms/step - loss: 0.0258 - mape: 1649.4761 - val_loss: 0.0258 - val_mape: 3798.2673\n",
            "Epoch 16/1000\n",
            "250/250 [==============================] - 1s 3ms/step - loss: 0.0258 - mape: 1658.2927 - val_loss: 0.0258 - val_mape: 3619.1477\n",
            "Epoch 17/1000\n",
            "250/250 [==============================] - 1s 3ms/step - loss: 0.0258 - mape: 1656.6663 - val_loss: 0.0258 - val_mape: 3607.1357\n",
            "Epoch 18/1000\n",
            "250/250 [==============================] - 1s 3ms/step - loss: 0.0258 - mape: 1667.1349 - val_loss: 0.0258 - val_mape: 3713.4177\n",
            "Epoch 19/1000\n",
            "250/250 [==============================] - 1s 3ms/step - loss: 0.0258 - mape: 1642.1223 - val_loss: 0.0258 - val_mape: 3512.7368\n",
            "Epoch 20/1000\n",
            "250/250 [==============================] - 1s 3ms/step - loss: 0.0258 - mape: 1628.6455 - val_loss: 0.0258 - val_mape: 3339.3984\n",
            "Epoch 21/1000\n",
            "250/250 [==============================] - 1s 3ms/step - loss: 0.0258 - mape: 1620.0107 - val_loss: 0.0258 - val_mape: 3429.9712\n",
            "Epoch 22/1000\n",
            "250/250 [==============================] - 1s 3ms/step - loss: 0.0258 - mape: 1778.2173 - val_loss: 0.0257 - val_mape: 3418.6489\n",
            "Epoch 23/1000\n",
            "250/250 [==============================] - 1s 3ms/step - loss: 0.0257 - mape: 1748.7938 - val_loss: 0.0256 - val_mape: 3167.5674\n",
            "Epoch 24/1000\n",
            "250/250 [==============================] - 1s 3ms/step - loss: 0.0253 - mape: 1640.9971 - val_loss: 0.0251 - val_mape: 3075.8645\n",
            "Epoch 25/1000\n",
            "250/250 [==============================] - 1s 3ms/step - loss: 0.0248 - mape: 1663.5067 - val_loss: 0.0246 - val_mape: 3206.9595\n",
            "Epoch 26/1000\n",
            "250/250 [==============================] - 1s 3ms/step - loss: 0.0246 - mape: 1666.7614 - val_loss: 0.0245 - val_mape: 3610.1558\n",
            "Epoch 27/1000\n",
            "250/250 [==============================] - 1s 3ms/step - loss: 0.0243 - mape: 1699.1187 - val_loss: 0.0242 - val_mape: 3797.1970\n",
            "Epoch 28/1000\n",
            "250/250 [==============================] - 1s 3ms/step - loss: 0.0241 - mape: 1911.5137 - val_loss: 0.0239 - val_mape: 3935.2646\n",
            "Epoch 29/1000\n",
            "250/250 [==============================] - 1s 3ms/step - loss: 0.0237 - mape: 1818.1234 - val_loss: 0.0235 - val_mape: 3775.0388\n",
            "Epoch 30/1000\n",
            "250/250 [==============================] - 1s 3ms/step - loss: 0.0234 - mape: 1750.8998 - val_loss: 0.0232 - val_mape: 3862.3318\n",
            "Epoch 31/1000\n",
            "250/250 [==============================] - 1s 3ms/step - loss: 0.0232 - mape: 1745.8289 - val_loss: 0.0230 - val_mape: 3916.7529\n",
            "Epoch 32/1000\n",
            "250/250 [==============================] - 1s 3ms/step - loss: 0.0231 - mape: 1709.4498 - val_loss: 0.0230 - val_mape: 4012.9546\n",
            "Epoch 33/1000\n",
            "250/250 [==============================] - 1s 3ms/step - loss: 0.0230 - mape: 1738.2769 - val_loss: 0.0229 - val_mape: 3939.4407\n",
            "Epoch 34/1000\n",
            "250/250 [==============================] - 1s 3ms/step - loss: 0.0229 - mape: 1684.1149 - val_loss: 0.0229 - val_mape: 4100.3975\n",
            "Epoch 35/1000\n",
            "250/250 [==============================] - 1s 3ms/step - loss: 0.0229 - mape: 1710.1316 - val_loss: 0.0229 - val_mape: 4215.5288\n",
            "Epoch 36/1000\n",
            "250/250 [==============================] - 1s 3ms/step - loss: 0.0229 - mape: 1759.2769 - val_loss: 0.0230 - val_mape: 4523.4722\n",
            "Epoch 37/1000\n",
            "250/250 [==============================] - 1s 3ms/step - loss: 0.0228 - mape: 1833.9615 - val_loss: 0.0227 - val_mape: 4786.0874\n",
            "Epoch 38/1000\n",
            "250/250 [==============================] - 1s 3ms/step - loss: 0.0226 - mape: 1796.7352 - val_loss: 0.0225 - val_mape: 4292.1558\n",
            "Epoch 39/1000\n",
            "250/250 [==============================] - 1s 3ms/step - loss: 0.0225 - mape: 1802.7141 - val_loss: 0.0223 - val_mape: 4256.8750\n",
            "Epoch 40/1000\n",
            "250/250 [==============================] - 1s 3ms/step - loss: 0.0222 - mape: 1695.8073 - val_loss: 0.0222 - val_mape: 3993.8025\n",
            "Epoch 41/1000\n",
            "250/250 [==============================] - 1s 3ms/step - loss: 0.0220 - mape: 1614.7701 - val_loss: 0.0219 - val_mape: 4192.5767\n",
            "Epoch 42/1000\n",
            "250/250 [==============================] - 1s 3ms/step - loss: 0.0217 - mape: 1584.1230 - val_loss: 0.0216 - val_mape: 4140.2148\n",
            "Epoch 43/1000\n",
            "250/250 [==============================] - 1s 3ms/step - loss: 0.0214 - mape: 1559.4840 - val_loss: 0.0213 - val_mape: 3980.6611\n",
            "Epoch 44/1000\n",
            "250/250 [==============================] - 1s 3ms/step - loss: 0.0212 - mape: 1580.7847 - val_loss: 0.0212 - val_mape: 3835.5193\n",
            "Epoch 45/1000\n",
            "250/250 [==============================] - 1s 3ms/step - loss: 0.0209 - mape: 1568.5103 - val_loss: 0.0206 - val_mape: 3972.9333\n",
            "Epoch 46/1000\n",
            "250/250 [==============================] - 1s 3ms/step - loss: 0.0206 - mape: 1584.7090 - val_loss: 0.0206 - val_mape: 3931.3186\n",
            "Epoch 47/1000\n",
            "250/250 [==============================] - 1s 3ms/step - loss: 0.0204 - mape: 1562.5198 - val_loss: 0.0202 - val_mape: 3795.2202\n",
            "Epoch 48/1000\n",
            "250/250 [==============================] - 1s 3ms/step - loss: 0.0202 - mape: 1551.1083 - val_loss: 0.0201 - val_mape: 4098.9146\n",
            "Epoch 49/1000\n",
            "250/250 [==============================] - 1s 3ms/step - loss: 0.0200 - mape: 1556.2863 - val_loss: 0.0200 - val_mape: 3869.0588\n",
            "Epoch 50/1000\n",
            "250/250 [==============================] - 1s 3ms/step - loss: 0.0199 - mape: 1536.7446 - val_loss: 0.0198 - val_mape: 3806.5630\n",
            "Epoch 51/1000\n",
            "250/250 [==============================] - 1s 3ms/step - loss: 0.0198 - mape: 1523.8386 - val_loss: 0.0197 - val_mape: 3826.5454\n",
            "Epoch 52/1000\n",
            "250/250 [==============================] - 1s 3ms/step - loss: 0.0197 - mape: 1527.6871 - val_loss: 0.0196 - val_mape: 3980.4243\n",
            "Epoch 53/1000\n",
            "250/250 [==============================] - 1s 3ms/step - loss: 0.0197 - mape: 1546.6713 - val_loss: 0.0198 - val_mape: 4060.2180\n",
            "Epoch 54/1000\n",
            "250/250 [==============================] - 1s 3ms/step - loss: 0.0197 - mape: 1555.4419 - val_loss: 0.0196 - val_mape: 3887.6758\n",
            "Epoch 55/1000\n",
            "250/250 [==============================] - 1s 3ms/step - loss: 0.0197 - mape: 1537.8668 - val_loss: 0.0196 - val_mape: 3796.2688\n",
            "Epoch 56/1000\n",
            "250/250 [==============================] - 1s 3ms/step - loss: 0.0195 - mape: 1529.5735 - val_loss: 0.0196 - val_mape: 3783.6375\n",
            "Epoch 57/1000\n",
            "250/250 [==============================] - 1s 3ms/step - loss: 0.0196 - mape: 1540.1063 - val_loss: 0.0194 - val_mape: 3935.6948\n",
            "Epoch 58/1000\n",
            "250/250 [==============================] - 1s 3ms/step - loss: 0.0195 - mape: 1540.2391 - val_loss: 0.0194 - val_mape: 3958.7400\n",
            "Epoch 59/1000\n",
            "250/250 [==============================] - 1s 3ms/step - loss: 0.0196 - mape: 1579.5245 - val_loss: 0.0198 - val_mape: 4026.6465\n",
            "Epoch 60/1000\n",
            "250/250 [==============================] - 1s 3ms/step - loss: 0.0196 - mape: 1562.2555 - val_loss: 0.0195 - val_mape: 3762.5056\n",
            "Epoch 61/1000\n",
            "250/250 [==============================] - 1s 3ms/step - loss: 0.0195 - mape: 1537.1448 - val_loss: 0.0194 - val_mape: 3843.5325\n",
            "Epoch 62/1000\n",
            "250/250 [==============================] - 1s 3ms/step - loss: 0.0196 - mape: 1538.9159 - val_loss: 0.0195 - val_mape: 3920.7092\n",
            "Epoch 63/1000\n",
            "250/250 [==============================] - 1s 3ms/step - loss: 0.0195 - mape: 1556.8439 - val_loss: 0.0195 - val_mape: 3817.4673\n",
            "Epoch 64/1000\n",
            "250/250 [==============================] - 1s 3ms/step - loss: 0.0195 - mape: 1523.3209 - val_loss: 0.0195 - val_mape: 4007.1023\n",
            "Epoch 65/1000\n",
            "250/250 [==============================] - 1s 3ms/step - loss: 0.0195 - mape: 1540.0658 - val_loss: 0.0194 - val_mape: 3840.1968\n",
            "Epoch 66/1000\n",
            "250/250 [==============================] - 1s 3ms/step - loss: 0.0195 - mape: 1536.7462 - val_loss: 0.0194 - val_mape: 3862.9419\n",
            "Epoch 67/1000\n",
            "250/250 [==============================] - 1s 3ms/step - loss: 0.0194 - mape: 1521.1748 - val_loss: 0.0193 - val_mape: 3793.4453\n",
            "Epoch 68/1000\n",
            "250/250 [==============================] - 1s 3ms/step - loss: 0.0194 - mape: 1526.1298 - val_loss: 0.0194 - val_mape: 3981.2039\n",
            "Epoch 69/1000\n",
            "250/250 [==============================] - 1s 3ms/step - loss: 0.0194 - mape: 1534.4590 - val_loss: 0.0195 - val_mape: 3763.7632\n",
            "Epoch 70/1000\n",
            "250/250 [==============================] - 1s 3ms/step - loss: 0.0194 - mape: 1546.6951 - val_loss: 0.0194 - val_mape: 3845.6611\n",
            "Epoch 71/1000\n",
            "250/250 [==============================] - 1s 3ms/step - loss: 0.0194 - mape: 1550.3661 - val_loss: 0.0193 - val_mape: 3864.9468\n",
            "Epoch 72/1000\n",
            "250/250 [==============================] - 1s 3ms/step - loss: 0.0194 - mape: 1559.1571 - val_loss: 0.0193 - val_mape: 3790.9578\n",
            "Epoch 73/1000\n",
            "250/250 [==============================] - 1s 3ms/step - loss: 0.0194 - mape: 1562.2063 - val_loss: 0.0193 - val_mape: 3722.3948\n",
            "Epoch 74/1000\n",
            "250/250 [==============================] - 1s 3ms/step - loss: 0.0194 - mape: 1553.1630 - val_loss: 0.0193 - val_mape: 3776.8252\n",
            "Epoch 75/1000\n",
            "250/250 [==============================] - 1s 3ms/step - loss: 0.0193 - mape: 1568.6288 - val_loss: 0.0193 - val_mape: 3696.6980\n",
            "Epoch 76/1000\n",
            "250/250 [==============================] - 1s 3ms/step - loss: 0.0193 - mape: 1538.0950 - val_loss: 0.0193 - val_mape: 3866.0596\n",
            "Epoch 77/1000\n",
            "250/250 [==============================] - 1s 3ms/step - loss: 0.0193 - mape: 1541.8384 - val_loss: 0.0192 - val_mape: 3707.8469\n",
            "Epoch 78/1000\n",
            "250/250 [==============================] - 1s 3ms/step - loss: 0.0192 - mape: 1563.5359 - val_loss: 0.0193 - val_mape: 3964.5776\n",
            "Epoch 79/1000\n",
            "250/250 [==============================] - 1s 3ms/step - loss: 0.0192 - mape: 1571.1893 - val_loss: 0.0192 - val_mape: 3976.8818\n",
            "Epoch 80/1000\n",
            "250/250 [==============================] - 1s 3ms/step - loss: 0.0192 - mape: 1577.1738 - val_loss: 0.0191 - val_mape: 3695.4497\n",
            "Epoch 81/1000\n",
            "250/250 [==============================] - 1s 3ms/step - loss: 0.0191 - mape: 1569.6633 - val_loss: 0.0190 - val_mape: 3673.8831\n",
            "Epoch 82/1000\n",
            "250/250 [==============================] - 1s 3ms/step - loss: 0.0191 - mape: 1588.4364 - val_loss: 0.0190 - val_mape: 3616.4324\n",
            "Epoch 83/1000\n",
            "250/250 [==============================] - 1s 3ms/step - loss: 0.0190 - mape: 1616.9399 - val_loss: 0.0190 - val_mape: 3858.9714\n",
            "Epoch 84/1000\n",
            "250/250 [==============================] - 1s 3ms/step - loss: 0.0190 - mape: 1694.9633 - val_loss: 0.0191 - val_mape: 3641.6255\n",
            "Epoch 85/1000\n",
            "250/250 [==============================] - 1s 3ms/step - loss: 0.0189 - mape: 1636.7899 - val_loss: 0.0188 - val_mape: 3596.9294\n",
            "Epoch 86/1000\n",
            "250/250 [==============================] - 1s 3ms/step - loss: 0.0189 - mape: 1676.7015 - val_loss: 0.0189 - val_mape: 3581.2524\n",
            "Epoch 87/1000\n",
            "250/250 [==============================] - 1s 3ms/step - loss: 0.0188 - mape: 1676.9059 - val_loss: 0.0189 - val_mape: 3863.9309\n",
            "Epoch 88/1000\n",
            "250/250 [==============================] - 1s 3ms/step - loss: 0.0189 - mape: 1690.7119 - val_loss: 0.0189 - val_mape: 4015.9399\n",
            "Epoch 89/1000\n",
            "250/250 [==============================] - 1s 3ms/step - loss: 0.0188 - mape: 1696.6918 - val_loss: 0.0190 - val_mape: 3818.8242\n",
            "Epoch 90/1000\n",
            "250/250 [==============================] - 1s 3ms/step - loss: 0.0189 - mape: 1800.9812 - val_loss: 0.0187 - val_mape: 3857.5776\n",
            "Epoch 91/1000\n",
            "250/250 [==============================] - 1s 3ms/step - loss: 0.0188 - mape: 1712.4509 - val_loss: 0.0188 - val_mape: 3780.4775\n",
            "Epoch 92/1000\n",
            "250/250 [==============================] - 1s 3ms/step - loss: 0.0188 - mape: 1709.2291 - val_loss: 0.0187 - val_mape: 4166.9448\n",
            "Epoch 93/1000\n",
            "250/250 [==============================] - 1s 3ms/step - loss: 0.0187 - mape: 1741.7198 - val_loss: 0.0187 - val_mape: 3625.8152\n",
            "Epoch 94/1000\n",
            "250/250 [==============================] - 1s 3ms/step - loss: 0.0187 - mape: 1718.7736 - val_loss: 0.0186 - val_mape: 3787.4551\n",
            "Epoch 95/1000\n",
            "250/250 [==============================] - 1s 3ms/step - loss: 0.0186 - mape: 1736.9203 - val_loss: 0.0186 - val_mape: 3930.2043\n",
            "Epoch 96/1000\n",
            "250/250 [==============================] - 1s 3ms/step - loss: 0.0186 - mape: 1744.5118 - val_loss: 0.0185 - val_mape: 3788.9734\n",
            "Epoch 97/1000\n",
            "250/250 [==============================] - 1s 3ms/step - loss: 0.0186 - mape: 1773.3158 - val_loss: 0.0186 - val_mape: 3817.7275\n",
            "Epoch 98/1000\n",
            "250/250 [==============================] - 1s 3ms/step - loss: 0.0186 - mape: 1764.4590 - val_loss: 0.0185 - val_mape: 3850.9158\n",
            "Epoch 99/1000\n",
            "250/250 [==============================] - 1s 3ms/step - loss: 0.0185 - mape: 1760.9384 - val_loss: 0.0185 - val_mape: 4011.0454\n",
            "Epoch 100/1000\n",
            "250/250 [==============================] - 1s 3ms/step - loss: 0.0184 - mape: 1742.9576 - val_loss: 0.0183 - val_mape: 3817.7217\n",
            "Epoch 101/1000\n",
            "250/250 [==============================] - 1s 3ms/step - loss: 0.0186 - mape: 1775.0072 - val_loss: 0.0185 - val_mape: 3760.6804\n",
            "Epoch 102/1000\n",
            "250/250 [==============================] - 1s 3ms/step - loss: 0.0185 - mape: 1794.8776 - val_loss: 0.0183 - val_mape: 3789.7104\n",
            "Epoch 103/1000\n",
            "250/250 [==============================] - 1s 3ms/step - loss: 0.0184 - mape: 1788.5857 - val_loss: 0.0183 - val_mape: 3593.2368\n",
            "Epoch 104/1000\n",
            "250/250 [==============================] - 1s 3ms/step - loss: 0.0185 - mape: 1792.7014 - val_loss: 0.0184 - val_mape: 3558.7578\n",
            "Epoch 105/1000\n",
            "250/250 [==============================] - 1s 3ms/step - loss: 0.0184 - mape: 1764.6406 - val_loss: 0.0181 - val_mape: 3785.1929\n",
            "Epoch 106/1000\n",
            "250/250 [==============================] - 1s 3ms/step - loss: 0.0184 - mape: 1773.0736 - val_loss: 0.0185 - val_mape: 4061.1824\n",
            "Epoch 107/1000\n",
            "250/250 [==============================] - 1s 3ms/step - loss: 0.0184 - mape: 1791.2896 - val_loss: 0.0185 - val_mape: 3583.6965\n",
            "Epoch 108/1000\n",
            "250/250 [==============================] - 1s 3ms/step - loss: 0.0184 - mape: 1793.0161 - val_loss: 0.0184 - val_mape: 3851.2219\n",
            "Epoch 109/1000\n",
            "250/250 [==============================] - 1s 3ms/step - loss: 0.0185 - mape: 1824.6041 - val_loss: 0.0185 - val_mape: 3713.8228\n",
            "Epoch 110/1000\n",
            "250/250 [==============================] - 1s 3ms/step - loss: 0.0184 - mape: 1779.6383 - val_loss: 0.0188 - val_mape: 4101.3467\n",
            "Epoch 111/1000\n",
            "250/250 [==============================] - 1s 3ms/step - loss: 0.0184 - mape: 1793.2607 - val_loss: 0.0182 - val_mape: 3903.1812\n",
            "Epoch 112/1000\n",
            "250/250 [==============================] - 1s 3ms/step - loss: 0.0184 - mape: 1791.0609 - val_loss: 0.0181 - val_mape: 3645.2805\n",
            "Epoch 113/1000\n",
            "250/250 [==============================] - 1s 3ms/step - loss: 0.0184 - mape: 1779.9969 - val_loss: 0.0188 - val_mape: 3943.0637\n",
            "Epoch 114/1000\n",
            "250/250 [==============================] - 1s 3ms/step - loss: 0.0184 - mape: 1781.2198 - val_loss: 0.0185 - val_mape: 3848.5776\n",
            "Epoch 115/1000\n",
            "250/250 [==============================] - 1s 3ms/step - loss: 0.0185 - mape: 1846.3917 - val_loss: 0.0182 - val_mape: 3573.1160\n",
            "Epoch 116/1000\n",
            "250/250 [==============================] - 1s 3ms/step - loss: 0.0184 - mape: 1791.1035 - val_loss: 0.0181 - val_mape: 3653.1167\n",
            "Epoch 117/1000\n",
            "250/250 [==============================] - 1s 3ms/step - loss: 0.0184 - mape: 1764.9796 - val_loss: 0.0183 - val_mape: 3778.7805\n",
            "Epoch 118/1000\n",
            "250/250 [==============================] - 1s 3ms/step - loss: 0.0183 - mape: 1779.8159 - val_loss: 0.0182 - val_mape: 3766.2151\n",
            "Epoch 119/1000\n",
            "250/250 [==============================] - 1s 3ms/step - loss: 0.0184 - mape: 1803.4489 - val_loss: 0.0183 - val_mape: 3984.3752\n",
            "Epoch 120/1000\n",
            "250/250 [==============================] - 1s 3ms/step - loss: 0.0184 - mape: 1784.5151 - val_loss: 0.0183 - val_mape: 3652.5005\n",
            "Epoch 121/1000\n",
            "250/250 [==============================] - 1s 3ms/step - loss: 0.0183 - mape: 1786.7809 - val_loss: 0.0181 - val_mape: 3835.7185\n",
            "Epoch 122/1000\n",
            "250/250 [==============================] - 1s 3ms/step - loss: 0.0184 - mape: 1809.1659 - val_loss: 0.0186 - val_mape: 3915.0957\n",
            "Epoch 123/1000\n",
            "250/250 [==============================] - 1s 3ms/step - loss: 0.0184 - mape: 1792.2299 - val_loss: 0.0182 - val_mape: 3577.6516\n",
            "Epoch 124/1000\n",
            "250/250 [==============================] - 1s 3ms/step - loss: 0.0184 - mape: 1812.5138 - val_loss: 0.0184 - val_mape: 3910.5713\n",
            "Epoch 125/1000\n",
            "250/250 [==============================] - 1s 3ms/step - loss: 0.0184 - mape: 1783.7401 - val_loss: 0.0184 - val_mape: 3738.8374\n",
            "Epoch 126/1000\n",
            "250/250 [==============================] - 1s 3ms/step - loss: 0.0183 - mape: 1779.8162 - val_loss: 0.0183 - val_mape: 3947.1672\n",
            "Epoch 127/1000\n",
            "250/250 [==============================] - 1s 3ms/step - loss: 0.0184 - mape: 1808.5999 - val_loss: 0.0184 - val_mape: 3812.8130\n",
            "Epoch 128/1000\n",
            "250/250 [==============================] - 1s 3ms/step - loss: 0.0184 - mape: 1779.5167 - val_loss: 0.0186 - val_mape: 4284.8999\n",
            "Epoch 129/1000\n",
            "250/250 [==============================] - 1s 3ms/step - loss: 0.0185 - mape: 1810.4727 - val_loss: 0.0184 - val_mape: 3964.7595\n",
            "Epoch 130/1000\n",
            "250/250 [==============================] - 1s 3ms/step - loss: 0.0183 - mape: 1827.1564 - val_loss: 0.0182 - val_mape: 3707.9719\n",
            "Epoch 131/1000\n",
            "250/250 [==============================] - 1s 3ms/step - loss: 0.0185 - mape: 1823.0776 - val_loss: 0.0182 - val_mape: 4076.8789\n",
            "Epoch 132/1000\n",
            "250/250 [==============================] - 1s 3ms/step - loss: 0.0184 - mape: 1785.3090 - val_loss: 0.0184 - val_mape: 3941.3845\n",
            "Epoch 133/1000\n",
            "250/250 [==============================] - 1s 3ms/step - loss: 0.0184 - mape: 1815.6938 - val_loss: 0.0182 - val_mape: 3698.5159\n",
            "Epoch 134/1000\n",
            "250/250 [==============================] - 1s 3ms/step - loss: 0.0183 - mape: 1795.6167 - val_loss: 0.0181 - val_mape: 3741.0437\n",
            "Epoch 135/1000\n",
            "250/250 [==============================] - 1s 3ms/step - loss: 0.0184 - mape: 1813.2894 - val_loss: 0.0184 - val_mape: 4005.9207\n",
            "Epoch 136/1000\n",
            "250/250 [==============================] - 1s 3ms/step - loss: 0.0183 - mape: 1787.9253 - val_loss: 0.0186 - val_mape: 3577.5190\n",
            "Epoch 137/1000\n",
            "250/250 [==============================] - 1s 3ms/step - loss: 0.0184 - mape: 1793.9095 - val_loss: 0.0180 - val_mape: 3777.3667\n",
            "Epoch 138/1000\n",
            "250/250 [==============================] - 1s 3ms/step - loss: 0.0184 - mape: 1794.6089 - val_loss: 0.0184 - val_mape: 3595.2166\n",
            "Epoch 139/1000\n",
            "250/250 [==============================] - 1s 3ms/step - loss: 0.0184 - mape: 1804.5880 - val_loss: 0.0181 - val_mape: 3575.2878\n",
            "Epoch 140/1000\n",
            "250/250 [==============================] - 1s 3ms/step - loss: 0.0183 - mape: 1793.5280 - val_loss: 0.0183 - val_mape: 3862.0437\n",
            "Epoch 141/1000\n",
            "250/250 [==============================] - 1s 3ms/step - loss: 0.0183 - mape: 1787.8541 - val_loss: 0.0183 - val_mape: 3653.1008\n",
            "Epoch 142/1000\n",
            "250/250 [==============================] - 1s 3ms/step - loss: 0.0183 - mape: 1779.1682 - val_loss: 0.0182 - val_mape: 3589.6997\n",
            "Epoch 143/1000\n",
            "250/250 [==============================] - 1s 3ms/step - loss: 0.0183 - mape: 1780.8481 - val_loss: 0.0182 - val_mape: 3573.7375\n",
            "Epoch 144/1000\n",
            "250/250 [==============================] - 1s 3ms/step - loss: 0.0182 - mape: 1779.5055 - val_loss: 0.0181 - val_mape: 3919.5627\n",
            "Epoch 145/1000\n",
            "250/250 [==============================] - 1s 3ms/step - loss: 0.0183 - mape: 1782.0640 - val_loss: 0.0183 - val_mape: 3976.9309\n",
            "Epoch 146/1000\n",
            "250/250 [==============================] - 1s 3ms/step - loss: 0.0184 - mape: 1811.2195 - val_loss: 0.0188 - val_mape: 3849.2195\n",
            "Epoch 147/1000\n",
            "250/250 [==============================] - 1s 3ms/step - loss: 0.0183 - mape: 1797.2798 - val_loss: 0.0184 - val_mape: 4002.0940\n",
            "Epoch 148/1000\n",
            "250/250 [==============================] - 1s 3ms/step - loss: 0.0183 - mape: 1789.9797 - val_loss: 0.0187 - val_mape: 3581.6289\n",
            "Epoch 149/1000\n",
            "250/250 [==============================] - 1s 3ms/step - loss: 0.0183 - mape: 1791.4937 - val_loss: 0.0181 - val_mape: 3757.7886\n",
            "Epoch 150/1000\n",
            "250/250 [==============================] - 1s 3ms/step - loss: 0.0183 - mape: 1781.2196 - val_loss: 0.0188 - val_mape: 3695.5957\n",
            "Epoch 151/1000\n",
            "250/250 [==============================] - 1s 3ms/step - loss: 0.0184 - mape: 1846.9471 - val_loss: 0.0186 - val_mape: 3811.4202\n",
            "Epoch 152/1000\n",
            "250/250 [==============================] - 1s 3ms/step - loss: 0.0183 - mape: 1789.6088 - val_loss: 0.0184 - val_mape: 3951.4231\n",
            "Epoch 153/1000\n",
            "250/250 [==============================] - 1s 3ms/step - loss: 0.0183 - mape: 1773.3510 - val_loss: 0.0182 - val_mape: 3962.1423\n",
            "Epoch 154/1000\n",
            "250/250 [==============================] - 1s 3ms/step - loss: 0.0184 - mape: 1809.7887 - val_loss: 0.0186 - val_mape: 4433.2012\n",
            "Epoch 155/1000\n",
            "250/250 [==============================] - 1s 3ms/step - loss: 0.0183 - mape: 1800.9772 - val_loss: 0.0183 - val_mape: 3616.7385\n",
            "Epoch 156/1000\n",
            "250/250 [==============================] - 1s 3ms/step - loss: 0.0183 - mape: 1780.3652 - val_loss: 0.0184 - val_mape: 3817.3647\n",
            "Epoch 157/1000\n",
            "250/250 [==============================] - 1s 3ms/step - loss: 0.0184 - mape: 1797.8723 - val_loss: 0.0183 - val_mape: 3960.5076\n",
            "Epoch 158/1000\n",
            "250/250 [==============================] - 1s 3ms/step - loss: 0.0183 - mape: 1820.5287 - val_loss: 0.0184 - val_mape: 3781.5820\n",
            "Epoch 159/1000\n",
            "250/250 [==============================] - 1s 3ms/step - loss: 0.0183 - mape: 1791.4814 - val_loss: 0.0184 - val_mape: 3749.4348\n",
            "Epoch 160/1000\n",
            "250/250 [==============================] - 1s 3ms/step - loss: 0.0184 - mape: 1809.9769 - val_loss: 0.0182 - val_mape: 4057.3557\n",
            "Epoch 161/1000\n",
            "250/250 [==============================] - 1s 3ms/step - loss: 0.0184 - mape: 1812.1301 - val_loss: 0.0184 - val_mape: 3558.0425\n",
            "Epoch 162/1000\n",
            "250/250 [==============================] - 1s 4ms/step - loss: 0.0183 - mape: 1784.9150 - val_loss: 0.0188 - val_mape: 3716.7004\n",
            "Epoch 163/1000\n",
            "250/250 [==============================] - 1s 3ms/step - loss: 0.0183 - mape: 1835.3651 - val_loss: 0.0184 - val_mape: 3868.9285\n",
            "Epoch 164/1000\n",
            "250/250 [==============================] - 1s 3ms/step - loss: 0.0183 - mape: 1796.7473 - val_loss: 0.0182 - val_mape: 3749.5137\n",
            "Epoch 165/1000\n",
            "250/250 [==============================] - 1s 3ms/step - loss: 0.0184 - mape: 1783.4912 - val_loss: 0.0184 - val_mape: 3684.0798\n",
            "Epoch 166/1000\n",
            "250/250 [==============================] - 1s 3ms/step - loss: 0.0183 - mape: 1814.2787 - val_loss: 0.0182 - val_mape: 3818.8608\n",
            "Epoch 167/1000\n",
            "250/250 [==============================] - 1s 3ms/step - loss: 0.0183 - mape: 1789.2915 - val_loss: 0.0182 - val_mape: 3957.8826\n",
            "Epoch 168/1000\n",
            "250/250 [==============================] - 1s 3ms/step - loss: 0.0183 - mape: 1808.2198 - val_loss: 0.0182 - val_mape: 3852.8291\n",
            "Epoch 169/1000\n",
            "250/250 [==============================] - 1s 3ms/step - loss: 0.0184 - mape: 1811.8696 - val_loss: 0.0184 - val_mape: 3933.3230\n",
            "Epoch 170/1000\n",
            "250/250 [==============================] - 1s 3ms/step - loss: 0.0183 - mape: 1796.1182 - val_loss: 0.0184 - val_mape: 3779.7244\n",
            "Epoch 171/1000\n",
            "250/250 [==============================] - 1s 3ms/step - loss: 0.0184 - mape: 1804.4938 - val_loss: 0.0186 - val_mape: 3625.3257\n",
            "Epoch 172/1000\n",
            "250/250 [==============================] - 1s 3ms/step - loss: 0.0183 - mape: 1778.4429 - val_loss: 0.0185 - val_mape: 3602.1909\n",
            "Epoch 173/1000\n",
            "250/250 [==============================] - 1s 3ms/step - loss: 0.0183 - mape: 1756.2185 - val_loss: 0.0183 - val_mape: 4026.9873\n",
            "Epoch 174/1000\n",
            "250/250 [==============================] - 1s 3ms/step - loss: 0.0184 - mape: 1819.6918 - val_loss: 0.0180 - val_mape: 3803.6848\n",
            "Epoch 175/1000\n",
            "250/250 [==============================] - 1s 3ms/step - loss: 0.0182 - mape: 1789.2460 - val_loss: 0.0180 - val_mape: 3807.8245\n",
            "Epoch 176/1000\n",
            "250/250 [==============================] - 1s 3ms/step - loss: 0.0183 - mape: 1785.3661 - val_loss: 0.0181 - val_mape: 3841.8975\n",
            "Epoch 177/1000\n",
            "250/250 [==============================] - 1s 3ms/step - loss: 0.0183 - mape: 1802.6539 - val_loss: 0.0185 - val_mape: 3559.2070\n",
            "Epoch 178/1000\n",
            "250/250 [==============================] - 1s 3ms/step - loss: 0.0183 - mape: 1789.1643 - val_loss: 0.0182 - val_mape: 3660.1765\n",
            "Epoch 179/1000\n",
            "250/250 [==============================] - 1s 3ms/step - loss: 0.0183 - mape: 1820.9514 - val_loss: 0.0185 - val_mape: 3701.4753\n",
            "Epoch 180/1000\n",
            "250/250 [==============================] - 1s 3ms/step - loss: 0.0183 - mape: 1795.5249 - val_loss: 0.0183 - val_mape: 3705.2366\n",
            "Epoch 181/1000\n",
            "250/250 [==============================] - 1s 3ms/step - loss: 0.0182 - mape: 1769.6193 - val_loss: 0.0181 - val_mape: 3792.9707\n",
            "Epoch 182/1000\n",
            "250/250 [==============================] - 1s 3ms/step - loss: 0.0183 - mape: 1811.6337 - val_loss: 0.0183 - val_mape: 4001.4543\n",
            "Epoch 183/1000\n",
            "250/250 [==============================] - 1s 3ms/step - loss: 0.0184 - mape: 1814.8356 - val_loss: 0.0180 - val_mape: 3897.5054\n",
            "Epoch 184/1000\n",
            "250/250 [==============================] - 1s 3ms/step - loss: 0.0183 - mape: 1801.1770 - val_loss: 0.0180 - val_mape: 3896.7290\n",
            "Epoch 185/1000\n",
            "250/250 [==============================] - 1s 3ms/step - loss: 0.0183 - mape: 1794.8910 - val_loss: 0.0181 - val_mape: 3681.1697\n",
            "Epoch 186/1000\n",
            "250/250 [==============================] - 1s 3ms/step - loss: 0.0183 - mape: 1808.9994 - val_loss: 0.0181 - val_mape: 3643.7346\n",
            "Epoch 187/1000\n",
            "250/250 [==============================] - 1s 4ms/step - loss: 0.0182 - mape: 1776.6793 - val_loss: 0.0181 - val_mape: 3793.7605\n",
            "Epoch 188/1000\n",
            "250/250 [==============================] - 1s 3ms/step - loss: 0.0184 - mape: 1823.8998 - val_loss: 0.0181 - val_mape: 3713.6982\n",
            "Epoch 189/1000\n",
            "250/250 [==============================] - 1s 3ms/step - loss: 0.0183 - mape: 1804.5580 - val_loss: 0.0181 - val_mape: 3627.3557\n",
            "Epoch 190/1000\n",
            "250/250 [==============================] - 1s 3ms/step - loss: 0.0183 - mape: 1780.4463 - val_loss: 0.0180 - val_mape: 3708.6687\n",
            "Epoch 191/1000\n",
            "250/250 [==============================] - 1s 3ms/step - loss: 0.0183 - mape: 1816.6993 - val_loss: 0.0182 - val_mape: 3573.8101\n",
            "Epoch 192/1000\n",
            "250/250 [==============================] - 1s 3ms/step - loss: 0.0184 - mape: 1816.3765 - val_loss: 0.0181 - val_mape: 3755.9534\n",
            "Epoch 193/1000\n",
            "250/250 [==============================] - 1s 3ms/step - loss: 0.0183 - mape: 1801.9333 - val_loss: 0.0183 - val_mape: 3779.0063\n",
            "Epoch 194/1000\n",
            "250/250 [==============================] - 1s 3ms/step - loss: 0.0183 - mape: 1827.7449 - val_loss: 0.0181 - val_mape: 3581.8147\n",
            "Epoch 195/1000\n",
            "250/250 [==============================] - 1s 3ms/step - loss: 0.0183 - mape: 1773.1107 - val_loss: 0.0181 - val_mape: 3901.0835\n",
            "Epoch 196/1000\n",
            "250/250 [==============================] - 1s 3ms/step - loss: 0.0183 - mape: 1860.4994 - val_loss: 0.0186 - val_mape: 3709.2891\n",
            "Epoch 197/1000\n",
            "250/250 [==============================] - 1s 3ms/step - loss: 0.0183 - mape: 1791.3716 - val_loss: 0.0181 - val_mape: 3964.9934\n",
            "Epoch 198/1000\n",
            "250/250 [==============================] - 1s 3ms/step - loss: 0.0183 - mape: 1779.6333 - val_loss: 0.0183 - val_mape: 3733.9824\n",
            "Epoch 199/1000\n",
            "250/250 [==============================] - 1s 3ms/step - loss: 0.0183 - mape: 1789.6051 - val_loss: 0.0182 - val_mape: 3810.9097\n",
            "Epoch 200/1000\n",
            "250/250 [==============================] - 1s 3ms/step - loss: 0.0183 - mape: 1796.3883 - val_loss: 0.0182 - val_mape: 3694.9121\n",
            "Epoch 201/1000\n",
            "250/250 [==============================] - 1s 3ms/step - loss: 0.0183 - mape: 1790.3754 - val_loss: 0.0183 - val_mape: 3979.3804\n",
            "Epoch 202/1000\n",
            "250/250 [==============================] - 1s 3ms/step - loss: 0.0183 - mape: 1801.6903 - val_loss: 0.0185 - val_mape: 4100.5908\n",
            "Epoch 203/1000\n",
            "250/250 [==============================] - 1s 3ms/step - loss: 0.0183 - mape: 1809.4851 - val_loss: 0.0184 - val_mape: 3748.2422\n",
            "Epoch 204/1000\n",
            "250/250 [==============================] - 1s 3ms/step - loss: 0.0183 - mape: 1797.1423 - val_loss: 0.0182 - val_mape: 3752.3132\n",
            "Epoch 205/1000\n",
            "250/250 [==============================] - 1s 3ms/step - loss: 0.0183 - mape: 1809.0835 - val_loss: 0.0183 - val_mape: 4007.3503\n",
            "Epoch 206/1000\n",
            "250/250 [==============================] - 1s 3ms/step - loss: 0.0182 - mape: 1770.3781 - val_loss: 0.0184 - val_mape: 3764.9858\n",
            "Epoch 207/1000\n",
            "250/250 [==============================] - 1s 3ms/step - loss: 0.0184 - mape: 1853.0277 - val_loss: 0.0182 - val_mape: 3798.1138\n",
            "Epoch 208/1000\n",
            "250/250 [==============================] - 1s 3ms/step - loss: 0.0183 - mape: 1796.4977 - val_loss: 0.0182 - val_mape: 3777.8264\n",
            "Epoch 209/1000\n",
            "250/250 [==============================] - 1s 4ms/step - loss: 0.0183 - mape: 1809.2173 - val_loss: 0.0184 - val_mape: 4078.7505\n",
            "Epoch 210/1000\n",
            "250/250 [==============================] - 1s 3ms/step - loss: 0.0183 - mape: 1822.5885 - val_loss: 0.0184 - val_mape: 3835.0662\n",
            "Epoch 211/1000\n",
            "250/250 [==============================] - 1s 3ms/step - loss: 0.0183 - mape: 1825.7206 - val_loss: 0.0182 - val_mape: 3849.9983\n",
            "Epoch 212/1000\n",
            "250/250 [==============================] - 1s 3ms/step - loss: 0.0183 - mape: 1815.0759 - val_loss: 0.0183 - val_mape: 3545.4309\n",
            "Epoch 213/1000\n",
            "250/250 [==============================] - 1s 4ms/step - loss: 0.0182 - mape: 1782.0222 - val_loss: 0.0181 - val_mape: 3730.6003\n",
            "Epoch 214/1000\n",
            "250/250 [==============================] - 1s 3ms/step - loss: 0.0183 - mape: 1790.9276 - val_loss: 0.0182 - val_mape: 3943.3225\n",
            "Epoch 215/1000\n",
            "250/250 [==============================] - 1s 4ms/step - loss: 0.0183 - mape: 1806.5281 - val_loss: 0.0187 - val_mape: 3804.9697\n",
            "Epoch 216/1000\n",
            "250/250 [==============================] - 1s 3ms/step - loss: 0.0183 - mape: 1776.5554 - val_loss: 0.0181 - val_mape: 3712.5156\n",
            "Epoch 217/1000\n",
            "250/250 [==============================] - 1s 3ms/step - loss: 0.0183 - mape: 1782.5865 - val_loss: 0.0182 - val_mape: 3544.6172\n",
            "Epoch 218/1000\n",
            "250/250 [==============================] - 1s 3ms/step - loss: 0.0182 - mape: 1757.4973 - val_loss: 0.0181 - val_mape: 3595.8035\n",
            "Epoch 219/1000\n",
            "250/250 [==============================] - 1s 3ms/step - loss: 0.0182 - mape: 1817.6741 - val_loss: 0.0184 - val_mape: 3668.9844\n",
            "Epoch 220/1000\n",
            "250/250 [==============================] - 1s 3ms/step - loss: 0.0183 - mape: 1804.9178 - val_loss: 0.0185 - val_mape: 3744.8105\n",
            "Epoch 221/1000\n",
            "250/250 [==============================] - 1s 3ms/step - loss: 0.0183 - mape: 1810.0667 - val_loss: 0.0181 - val_mape: 3589.2869\n",
            "Epoch 222/1000\n",
            "250/250 [==============================] - 1s 3ms/step - loss: 0.0182 - mape: 1770.6384 - val_loss: 0.0181 - val_mape: 3534.8645\n",
            "Epoch 223/1000\n",
            "250/250 [==============================] - 1s 3ms/step - loss: 0.0182 - mape: 1795.0353 - val_loss: 0.0180 - val_mape: 3743.8865\n",
            "Epoch 224/1000\n",
            "250/250 [==============================] - 1s 3ms/step - loss: 0.0183 - mape: 1802.6984 - val_loss: 0.0181 - val_mape: 3708.9951\n",
            "Epoch 225/1000\n",
            "250/250 [==============================] - 1s 3ms/step - loss: 0.0182 - mape: 1792.1487 - val_loss: 0.0180 - val_mape: 3737.4365\n",
            "Epoch 00225: early stopping\n"
          ]
        }
      ],
      "source": [
        "model = Sequential()\n",
        "model.add(Dense(15, activation='relu', input_dim=feature_count))\n",
        "model.add(Dense(5, activation='relu'))\n",
        "model.add(Dense(15, activation='relu'))\n",
        "model.add(Dense(feature_count))\n",
        "\n",
        "model.compile(optimizer='Adam', loss='mae', metrics=[\"mape\"])\n",
        "\n",
        "\n",
        "from tensorflow.keras.callbacks import EarlyStopping\n",
        "early_stopping = EarlyStopping(\n",
        "    monitor='val_loss',\n",
        "    verbose=1,\n",
        "    patience=50)  \n",
        "\n",
        "hist = model.fit(train_x, train_x, epochs=1000, batch_size=1024, validation_split=0.1, callbacks=[early_stopping])"
      ]
    },
    {
      "cell_type": "code",
      "execution_count": 36,
      "metadata": {
        "id": "1C3rJbWR-FNn",
        "colab": {
          "base_uri": "https://localhost:8080/",
          "height": 265
        },
        "outputId": "d368154d-acc9-406a-f78c-37e417c9afb7"
      },
      "outputs": [
        {
          "output_type": "display_data",
          "data": {
            "image/png": "[encoded data removed]",
            "text/plain": [
              "<Figure size 432x288 with 1 Axes>"
            ]
          },
          "metadata": {
            "needs_background": "light"
          }
        }
      ],
      "source": [
        "plt.plot(hist.history['loss'][10:])\n",
        "plt.plot(hist.history['val_loss'][10:])\n",
        "plt.show()"
      ]
    },
    {
      "cell_type": "markdown",
      "source": [
        "# 탐지 실행"
      ],
      "metadata": {
        "id": "BV924dHvYvP-"
      }
    },
    {
      "cell_type": "markdown",
      "source": [
        "## threshold 구하기"
      ],
      "metadata": {
        "id": "SPcqhxyQYyWp"
      }
    },
    {
      "cell_type": "code",
      "source": [
        "reconstructed = model.predict(train_x)\n",
        "\n",
        "train_mae = np.mean(np.abs(reconstructed - train_x), axis=-1)\n",
        "print(train_mae)"
      ],
      "metadata": {
        "colab": {
          "base_uri": "https://localhost:8080/"
        },
        "id": "Xt6pFJzIM0aA",
        "outputId": "3251463d-7299-424e-9d25-c79863b73c07"
      },
      "execution_count": 37,
      "outputs": [
        {
          "output_type": "stream",
          "name": "stdout",
          "text": [
            "[0.01727257 0.01300748 0.01975534 ... 0.01882365 0.00940234 0.04363048]\n"
          ]
        }
      ]
    },
    {
      "cell_type": "code",
      "source": [
        "plt.hist(train_mae, bins=1000)\n",
        "plt.show()"
      ],
      "metadata": {
        "colab": {
          "base_uri": "https://localhost:8080/",
          "height": 265
        },
        "id": "dAmJYj_CTHKn",
        "outputId": "2c8b12eb-cc27-4186-bee3-a437812db62b"
      },
      "execution_count": 38,
      "outputs": [
        {
          "output_type": "display_data",
          "data": {
            "image/png": "[encoded data removed]",
            "text/plain": [
              "<Figure size 432x288 with 1 Axes>"
            ]
          },
          "metadata": {
            "needs_background": "light"
          }
        }
      ]
    },
    {
      "cell_type": "code",
      "source": [
        "sorted_mae = np.sort(train_mae)\n",
        "threshold_index = int(len(sorted_mae)*0.99)\n",
        "threshold = sorted_mae[threshold_index]\n",
        "\n",
        "print(threshold)"
      ],
      "metadata": {
        "colab": {
          "base_uri": "https://localhost:8080/"
        },
        "id": "ntRL-Og3TMXK",
        "outputId": "905c789b-bd70-4b02-e1a9-aff79d9dbe55"
      },
      "execution_count": 39,
      "outputs": [
        {
          "output_type": "stream",
          "name": "stdout",
          "text": [
            "0.04269888389884128\n"
          ]
        }
      ]
    },
    {
      "cell_type": "markdown",
      "source": [
        "## 테스트 데이터 모델 예측"
      ],
      "metadata": {
        "id": "44qsiYB4Y1Xc"
      }
    },
    {
      "cell_type": "code",
      "source": [
        "reconstructed = model.predict(test_x)\n",
        "test_mae = np.mean(np.abs(reconstructed - test_x), axis=-1)\n",
        "\n",
        "half_index = int(len(test_mae)*0.5)\n",
        "plt.hist(test_mae[:half_index], bins=100, alpha=0.5)\n",
        "plt.hist(test_mae[half_index:], bins=100, alpha=0.5)\n",
        "plt.show()"
      ],
      "metadata": {
        "id": "1I0yZv8BYre4",
        "colab": {
          "base_uri": "https://localhost:8080/",
          "height": 265
        },
        "outputId": "3ac7ca38-857a-4139-c52c-ec0cc1a232ae"
      },
      "execution_count": 40,
      "outputs": [
        {
          "output_type": "display_data",
          "data": {
            "image/png": "[encoded data removed]",
            "text/plain": [
              "<Figure size 432x288 with 1 Axes>"
            ]
          },
          "metadata": {
            "needs_background": "light"
          }
        }
      ]
    },
    {
      "cell_type": "code",
      "source": [
        "predicted = (test_mae > threshold).astype(np.int)\n",
        "\n",
        "n = len(test_x)\n",
        "accuracy = (predicted == test_y).sum() / n\n",
        "\n",
        "print(\"accuracy=\", accuracy)"
      ],
      "metadata": {
        "colab": {
          "base_uri": "https://localhost:8080/"
        },
        "id": "FxNEyhnhTirA",
        "outputId": "5e73e7d5-4873-41ff-b4c1-57a14f093bbb"
      },
      "execution_count": 41,
      "outputs": [
        {
          "output_type": "stream",
          "name": "stdout",
          "text": [
            "accuracy= 0.9005076142131979\n"
          ]
        }
      ]
    },
    {
      "cell_type": "code",
      "source": [
        ""
      ],
      "metadata": {
        "id": "uQy-MHlLqJP4"
      },
      "execution_count": 41,
      "outputs": []
    }
  ],
  "metadata": {
    "accelerator": "GPU",
    "colab": {
      "name": "financial_data_detect_fraud_card.ipynb",
      "provenance": []
    },
    "kernelspec": {
      "display_name": "Python 3",
      "name": "python3"
    },
    "language_info": {
      "name": "python"
    }
  },
  "nbformat": 4,
  "nbformat_minor": 0
}