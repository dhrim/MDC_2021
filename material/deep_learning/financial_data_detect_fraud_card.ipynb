{
  "cells": [
    {
      "cell_type": "markdown",
      "source": [
        "# 데이터 준비"
      ],
      "metadata": {
        "id": "iU5AJt91PAGR"
      }
    },
    {
      "cell_type": "code",
      "source": [
        "!wget https://github.com/dhrim/deep_learning_data/raw/master/creditcard.zip"
      ],
      "metadata": {
        "colab": {
          "base_uri": "https://localhost:8080/"
        },
        "id": "kzthYtxucNjk",
        "outputId": "16bd935b-0fc5-43b4-ae56-56613232ad61"
      },
      "execution_count": 154,
      "outputs": [
        {
          "output_type": "stream",
          "name": "stdout",
          "text": [
            "--2022-01-07 12:08:43--  https://github.com/dhrim/deep_learning_data/raw/master/creditcard.zip\n",
            "Resolving github.com (github.com)... 140.82.121.4\n",
            "Connecting to github.com (github.com)|140.82.121.4|:443... connected.\n",
            "HTTP request sent, awaiting response... 302 Found\n",
            "Location: https://raw.githubusercontent.com/dhrim/deep_learning_data/master/creditcard.zip [following]\n",
            "--2022-01-07 12:08:43--  https://raw.githubusercontent.com/dhrim/deep_learning_data/master/creditcard.zip\n",
            "Resolving raw.githubusercontent.com (raw.githubusercontent.com)... 185.199.108.133, 185.199.109.133, 185.199.110.133, ...\n",
            "Connecting to raw.githubusercontent.com (raw.githubusercontent.com)|185.199.108.133|:443... connected.\n",
            "HTTP request sent, awaiting response... 200 OK\n",
            "Length: 68750451 (66M) [application/zip]\n",
            "Saving to: ‘creditcard.zip’\n",
            "\n",
            "creditcard.zip      100%[===================>]  65.57M   327MB/s    in 0.2s    \n",
            "\n",
            "2022-01-07 12:08:46 (327 MB/s) - ‘creditcard.zip’ saved [68750451/68750451]\n",
            "\n"
          ]
        }
      ]
    },
    {
      "cell_type": "code",
      "execution_count": 156,
      "metadata": {
        "colab": {
          "base_uri": "https://localhost:8080/"
        },
        "id": "DJB4sUP72S5C",
        "outputId": "77f5cf0b-9765-4026-f036-6c13d98f6ea6"
      },
      "outputs": [
        {
          "output_type": "stream",
          "name": "stdout",
          "text": [
            "Archive:  creditcard.zip\n",
            "  inflating: creditcard.csv          \n"
          ]
        }
      ],
      "source": [
        "!unzip creditcard.zip"
      ]
    },
    {
      "cell_type": "code",
      "execution_count": 157,
      "metadata": {
        "id": "UCih9D443dmd"
      },
      "outputs": [],
      "source": [
        "import pandas as pd\n",
        "import numpy as np\n",
        "import matplotlib.pyplot as plt"
      ]
    },
    {
      "cell_type": "markdown",
      "source": [
        "# 데이터 로딩"
      ],
      "metadata": {
        "id": "mOXuMuw_O-vV"
      }
    },
    {
      "cell_type": "code",
      "execution_count": 158,
      "metadata": {
        "id": "-h3iTd2Y315q"
      },
      "outputs": [],
      "source": [
        "df = pd.read_csv(\"creditcard.csv\")"
      ]
    },
    {
      "cell_type": "code",
      "execution_count": 159,
      "metadata": {
        "id": "zuPThliK5FHK",
        "colab": {
          "base_uri": "https://localhost:8080/",
          "height": 270
        },
        "outputId": "e2c17007-658c-45f9-b58e-927a2b7ed750"
      },
      "outputs": [
        {
          "output_type": "execute_result",
          "data": {
            "text/html": [
              "\n",
              "  <div id=\"df-03d4e444-4801-4cb5-98f9-19bd56a7bae3\">\n",
              "    <div class=\"colab-df-container\">\n",
              "      <div>\n",
              "<style scoped>\n",
              "    .dataframe tbody tr th:only-of-type {\n",
              "        vertical-align: middle;\n",
              "    }\n",
              "\n",
              "    .dataframe tbody tr th {\n",
              "        vertical-align: top;\n",
              "    }\n",
              "\n",
              "    .dataframe thead th {\n",
              "        text-align: right;\n",
              "    }\n",
              "</style>\n",
              "<table border=\"1\" class=\"dataframe\">\n",
              "  <thead>\n",
              "    <tr style=\"text-align: right;\">\n",
              "      <th></th>\n",
              "      <th>Time</th>\n",
              "      <th>V1</th>\n",
              "      <th>V2</th>\n",
              "      <th>V3</th>\n",
              "      <th>V4</th>\n",
              "      <th>V5</th>\n",
              "      <th>V6</th>\n",
              "      <th>V7</th>\n",
              "      <th>V8</th>\n",
              "      <th>V9</th>\n",
              "      <th>V10</th>\n",
              "      <th>V11</th>\n",
              "      <th>V12</th>\n",
              "      <th>V13</th>\n",
              "      <th>V14</th>\n",
              "      <th>V15</th>\n",
              "      <th>V16</th>\n",
              "      <th>V17</th>\n",
              "      <th>V18</th>\n",
              "      <th>V19</th>\n",
              "      <th>V20</th>\n",
              "      <th>V21</th>\n",
              "      <th>V22</th>\n",
              "      <th>V23</th>\n",
              "      <th>V24</th>\n",
              "      <th>V25</th>\n",
              "      <th>V26</th>\n",
              "      <th>V27</th>\n",
              "      <th>V28</th>\n",
              "      <th>Amount</th>\n",
              "      <th>Class</th>\n",
              "    </tr>\n",
              "  </thead>\n",
              "  <tbody>\n",
              "    <tr>\n",
              "      <th>0</th>\n",
              "      <td>0.0</td>\n",
              "      <td>-1.359807</td>\n",
              "      <td>-0.072781</td>\n",
              "      <td>2.536347</td>\n",
              "      <td>1.378155</td>\n",
              "      <td>-0.338321</td>\n",
              "      <td>0.462388</td>\n",
              "      <td>0.239599</td>\n",
              "      <td>0.098698</td>\n",
              "      <td>0.363787</td>\n",
              "      <td>0.090794</td>\n",
              "      <td>-0.551600</td>\n",
              "      <td>-0.617801</td>\n",
              "      <td>-0.991390</td>\n",
              "      <td>-0.311169</td>\n",
              "      <td>1.468177</td>\n",
              "      <td>-0.470401</td>\n",
              "      <td>0.207971</td>\n",
              "      <td>0.025791</td>\n",
              "      <td>0.403993</td>\n",
              "      <td>0.251412</td>\n",
              "      <td>-0.018307</td>\n",
              "      <td>0.277838</td>\n",
              "      <td>-0.110474</td>\n",
              "      <td>0.066928</td>\n",
              "      <td>0.128539</td>\n",
              "      <td>-0.189115</td>\n",
              "      <td>0.133558</td>\n",
              "      <td>-0.021053</td>\n",
              "      <td>149.62</td>\n",
              "      <td>0</td>\n",
              "    </tr>\n",
              "    <tr>\n",
              "      <th>1</th>\n",
              "      <td>0.0</td>\n",
              "      <td>1.191857</td>\n",
              "      <td>0.266151</td>\n",
              "      <td>0.166480</td>\n",
              "      <td>0.448154</td>\n",
              "      <td>0.060018</td>\n",
              "      <td>-0.082361</td>\n",
              "      <td>-0.078803</td>\n",
              "      <td>0.085102</td>\n",
              "      <td>-0.255425</td>\n",
              "      <td>-0.166974</td>\n",
              "      <td>1.612727</td>\n",
              "      <td>1.065235</td>\n",
              "      <td>0.489095</td>\n",
              "      <td>-0.143772</td>\n",
              "      <td>0.635558</td>\n",
              "      <td>0.463917</td>\n",
              "      <td>-0.114805</td>\n",
              "      <td>-0.183361</td>\n",
              "      <td>-0.145783</td>\n",
              "      <td>-0.069083</td>\n",
              "      <td>-0.225775</td>\n",
              "      <td>-0.638672</td>\n",
              "      <td>0.101288</td>\n",
              "      <td>-0.339846</td>\n",
              "      <td>0.167170</td>\n",
              "      <td>0.125895</td>\n",
              "      <td>-0.008983</td>\n",
              "      <td>0.014724</td>\n",
              "      <td>2.69</td>\n",
              "      <td>0</td>\n",
              "    </tr>\n",
              "    <tr>\n",
              "      <th>2</th>\n",
              "      <td>1.0</td>\n",
              "      <td>-1.358354</td>\n",
              "      <td>-1.340163</td>\n",
              "      <td>1.773209</td>\n",
              "      <td>0.379780</td>\n",
              "      <td>-0.503198</td>\n",
              "      <td>1.800499</td>\n",
              "      <td>0.791461</td>\n",
              "      <td>0.247676</td>\n",
              "      <td>-1.514654</td>\n",
              "      <td>0.207643</td>\n",
              "      <td>0.624501</td>\n",
              "      <td>0.066084</td>\n",
              "      <td>0.717293</td>\n",
              "      <td>-0.165946</td>\n",
              "      <td>2.345865</td>\n",
              "      <td>-2.890083</td>\n",
              "      <td>1.109969</td>\n",
              "      <td>-0.121359</td>\n",
              "      <td>-2.261857</td>\n",
              "      <td>0.524980</td>\n",
              "      <td>0.247998</td>\n",
              "      <td>0.771679</td>\n",
              "      <td>0.909412</td>\n",
              "      <td>-0.689281</td>\n",
              "      <td>-0.327642</td>\n",
              "      <td>-0.139097</td>\n",
              "      <td>-0.055353</td>\n",
              "      <td>-0.059752</td>\n",
              "      <td>378.66</td>\n",
              "      <td>0</td>\n",
              "    </tr>\n",
              "    <tr>\n",
              "      <th>3</th>\n",
              "      <td>1.0</td>\n",
              "      <td>-0.966272</td>\n",
              "      <td>-0.185226</td>\n",
              "      <td>1.792993</td>\n",
              "      <td>-0.863291</td>\n",
              "      <td>-0.010309</td>\n",
              "      <td>1.247203</td>\n",
              "      <td>0.237609</td>\n",
              "      <td>0.377436</td>\n",
              "      <td>-1.387024</td>\n",
              "      <td>-0.054952</td>\n",
              "      <td>-0.226487</td>\n",
              "      <td>0.178228</td>\n",
              "      <td>0.507757</td>\n",
              "      <td>-0.287924</td>\n",
              "      <td>-0.631418</td>\n",
              "      <td>-1.059647</td>\n",
              "      <td>-0.684093</td>\n",
              "      <td>1.965775</td>\n",
              "      <td>-1.232622</td>\n",
              "      <td>-0.208038</td>\n",
              "      <td>-0.108300</td>\n",
              "      <td>0.005274</td>\n",
              "      <td>-0.190321</td>\n",
              "      <td>-1.175575</td>\n",
              "      <td>0.647376</td>\n",
              "      <td>-0.221929</td>\n",
              "      <td>0.062723</td>\n",
              "      <td>0.061458</td>\n",
              "      <td>123.50</td>\n",
              "      <td>0</td>\n",
              "    </tr>\n",
              "    <tr>\n",
              "      <th>4</th>\n",
              "      <td>2.0</td>\n",
              "      <td>-1.158233</td>\n",
              "      <td>0.877737</td>\n",
              "      <td>1.548718</td>\n",
              "      <td>0.403034</td>\n",
              "      <td>-0.407193</td>\n",
              "      <td>0.095921</td>\n",
              "      <td>0.592941</td>\n",
              "      <td>-0.270533</td>\n",
              "      <td>0.817739</td>\n",
              "      <td>0.753074</td>\n",
              "      <td>-0.822843</td>\n",
              "      <td>0.538196</td>\n",
              "      <td>1.345852</td>\n",
              "      <td>-1.119670</td>\n",
              "      <td>0.175121</td>\n",
              "      <td>-0.451449</td>\n",
              "      <td>-0.237033</td>\n",
              "      <td>-0.038195</td>\n",
              "      <td>0.803487</td>\n",
              "      <td>0.408542</td>\n",
              "      <td>-0.009431</td>\n",
              "      <td>0.798278</td>\n",
              "      <td>-0.137458</td>\n",
              "      <td>0.141267</td>\n",
              "      <td>-0.206010</td>\n",
              "      <td>0.502292</td>\n",
              "      <td>0.219422</td>\n",
              "      <td>0.215153</td>\n",
              "      <td>69.99</td>\n",
              "      <td>0</td>\n",
              "    </tr>\n",
              "  </tbody>\n",
              "</table>\n",
              "</div>\n",
              "      <button class=\"colab-df-convert\" onclick=\"convertToInteractive('df-03d4e444-4801-4cb5-98f9-19bd56a7bae3')\"\n",
              "              title=\"Convert this dataframe to an interactive table.\"\n",
              "              style=\"display:none;\">\n",
              "        \n",
              "  <svg xmlns=\"http://www.w3.org/2000/svg\" height=\"24px\"viewBox=\"0 0 24 24\"\n",
              "       width=\"24px\">\n",
              "    <path d=\"M0 0h24v24H0V0z\" fill=\"none\"/>\n",
              "    <path d=\"M18.56 5.44l.94 2.06.94-2.06 2.06-.94-2.06-.94-.94-2.06-.94 2.06-2.06.94zm-11 1L8.5 8.5l.94-2.06 2.06-.94-2.06-.94L8.5 2.5l-.94 2.06-2.06.94zm10 10l.94 2.06.94-2.06 2.06-.94-2.06-.94-.94-2.06-.94 2.06-2.06.94z\"/><path d=\"M17.41 7.96l-1.37-1.37c-.4-.4-.92-.59-1.43-.59-.52 0-1.04.2-1.43.59L10.3 9.45l-7.72 7.72c-.78.78-.78 2.05 0 2.83L4 21.41c.39.39.9.59 1.41.59.51 0 1.02-.2 1.41-.59l7.78-7.78 2.81-2.81c.8-.78.8-2.07 0-2.86zM5.41 20L4 18.59l7.72-7.72 1.47 1.35L5.41 20z\"/>\n",
              "  </svg>\n",
              "      </button>\n",
              "      \n",
              "  <style>\n",
              "    .colab-df-container {\n",
              "      display:flex;\n",
              "      flex-wrap:wrap;\n",
              "      gap: 12px;\n",
              "    }\n",
              "\n",
              "    .colab-df-convert {\n",
              "      background-color: #E8F0FE;\n",
              "      border: none;\n",
              "      border-radius: 50%;\n",
              "      cursor: pointer;\n",
              "      display: none;\n",
              "      fill: #1967D2;\n",
              "      height: 32px;\n",
              "      padding: 0 0 0 0;\n",
              "      width: 32px;\n",
              "    }\n",
              "\n",
              "    .colab-df-convert:hover {\n",
              "      background-color: #E2EBFA;\n",
              "      box-shadow: 0px 1px 2px rgba(60, 64, 67, 0.3), 0px 1px 3px 1px rgba(60, 64, 67, 0.15);\n",
              "      fill: #174EA6;\n",
              "    }\n",
              "\n",
              "    [theme=dark] .colab-df-convert {\n",
              "      background-color: #3B4455;\n",
              "      fill: #D2E3FC;\n",
              "    }\n",
              "\n",
              "    [theme=dark] .colab-df-convert:hover {\n",
              "      background-color: #434B5C;\n",
              "      box-shadow: 0px 1px 3px 1px rgba(0, 0, 0, 0.15);\n",
              "      filter: drop-shadow(0px 1px 2px rgba(0, 0, 0, 0.3));\n",
              "      fill: #FFFFFF;\n",
              "    }\n",
              "  </style>\n",
              "\n",
              "      <script>\n",
              "        const buttonEl =\n",
              "          document.querySelector('#df-03d4e444-4801-4cb5-98f9-19bd56a7bae3 button.colab-df-convert');\n",
              "        buttonEl.style.display =\n",
              "          google.colab.kernel.accessAllowed ? 'block' : 'none';\n",
              "\n",
              "        async function convertToInteractive(key) {\n",
              "          const element = document.querySelector('#df-03d4e444-4801-4cb5-98f9-19bd56a7bae3');\n",
              "          const dataTable =\n",
              "            await google.colab.kernel.invokeFunction('convertToInteractive',\n",
              "                                                     [key], {});\n",
              "          if (!dataTable) return;\n",
              "\n",
              "          const docLinkHtml = 'Like what you see? Visit the ' +\n",
              "            '<a target=\"_blank\" href=https://colab.research.google.com/notebooks/data_table.ipynb>data table notebook</a>'\n",
              "            + ' to learn more about interactive tables.';\n",
              "          element.innerHTML = '';\n",
              "          dataTable['output_type'] = 'display_data';\n",
              "          await google.colab.output.renderOutput(dataTable, element);\n",
              "          const docLink = document.createElement('div');\n",
              "          docLink.innerHTML = docLinkHtml;\n",
              "          element.appendChild(docLink);\n",
              "        }\n",
              "      </script>\n",
              "    </div>\n",
              "  </div>\n",
              "  "
            ],
            "text/plain": [
              "   Time        V1        V2        V3  ...       V27       V28  Amount  Class\n",
              "0   0.0 -1.359807 -0.072781  2.536347  ...  0.133558 -0.021053  149.62      0\n",
              "1   0.0  1.191857  0.266151  0.166480  ... -0.008983  0.014724    2.69      0\n",
              "2   1.0 -1.358354 -1.340163  1.773209  ... -0.055353 -0.059752  378.66      0\n",
              "3   1.0 -0.966272 -0.185226  1.792993  ...  0.062723  0.061458  123.50      0\n",
              "4   2.0 -1.158233  0.877737  1.548718  ...  0.219422  0.215153   69.99      0\n",
              "\n",
              "[5 rows x 31 columns]"
            ]
          },
          "metadata": {},
          "execution_count": 159
        }
      ],
      "source": [
        "df.head()"
      ]
    },
    {
      "cell_type": "code",
      "source": [
        "print(len(df))"
      ],
      "metadata": {
        "colab": {
          "base_uri": "https://localhost:8080/"
        },
        "id": "nbr6eYRZVJqY",
        "outputId": "d4503822-e314-4a88-ac6d-a845aa793e6e"
      },
      "execution_count": 160,
      "outputs": [
        {
          "output_type": "stream",
          "name": "stdout",
          "text": [
            "284807\n"
          ]
        }
      ]
    },
    {
      "cell_type": "code",
      "source": [
        "df.info()"
      ],
      "metadata": {
        "colab": {
          "base_uri": "https://localhost:8080/"
        },
        "id": "-nNVzMbzVMcG",
        "outputId": "c04df712-1875-4e9e-de37-64f727a6efde"
      },
      "execution_count": 102,
      "outputs": [
        {
          "output_type": "stream",
          "name": "stdout",
          "text": [
            "<class 'pandas.core.frame.DataFrame'>\n",
            "RangeIndex: 284807 entries, 0 to 284806\n",
            "Data columns (total 31 columns):\n",
            " #   Column  Non-Null Count   Dtype  \n",
            "---  ------  --------------   -----  \n",
            " 0   Time    284807 non-null  float64\n",
            " 1   V1      284807 non-null  float64\n",
            " 2   V2      284807 non-null  float64\n",
            " 3   V3      284807 non-null  float64\n",
            " 4   V4      284807 non-null  float64\n",
            " 5   V5      284807 non-null  float64\n",
            " 6   V6      284807 non-null  float64\n",
            " 7   V7      284807 non-null  float64\n",
            " 8   V8      284807 non-null  float64\n",
            " 9   V9      284807 non-null  float64\n",
            " 10  V10     284807 non-null  float64\n",
            " 11  V11     284807 non-null  float64\n",
            " 12  V12     284807 non-null  float64\n",
            " 13  V13     284807 non-null  float64\n",
            " 14  V14     284807 non-null  float64\n",
            " 15  V15     284807 non-null  float64\n",
            " 16  V16     284807 non-null  float64\n",
            " 17  V17     284807 non-null  float64\n",
            " 18  V18     284807 non-null  float64\n",
            " 19  V19     284807 non-null  float64\n",
            " 20  V20     284807 non-null  float64\n",
            " 21  V21     284807 non-null  float64\n",
            " 22  V22     284807 non-null  float64\n",
            " 23  V23     284807 non-null  float64\n",
            " 24  V24     284807 non-null  float64\n",
            " 25  V25     284807 non-null  float64\n",
            " 26  V26     284807 non-null  float64\n",
            " 27  V27     284807 non-null  float64\n",
            " 28  V28     284807 non-null  float64\n",
            " 29  Amount  284807 non-null  float64\n",
            " 30  Class   284807 non-null  int64  \n",
            "dtypes: float64(30), int64(1)\n",
            "memory usage: 67.4 MB\n"
          ]
        }
      ]
    },
    {
      "cell_type": "code",
      "execution_count": 103,
      "metadata": {
        "id": "M43Gbshu5G8s",
        "colab": {
          "base_uri": "https://localhost:8080/"
        },
        "outputId": "1c38ef78-6e61-4897-c306-7f7d05eca350"
      },
      "outputs": [
        {
          "output_type": "execute_result",
          "data": {
            "text/plain": [
              "array([0, 1])"
            ]
          },
          "metadata": {},
          "execution_count": 103
        }
      ],
      "source": [
        "df.Class.unique()"
      ]
    },
    {
      "cell_type": "code",
      "execution_count": 104,
      "metadata": {
        "id": "FVf8vXY85LOh",
        "colab": {
          "base_uri": "https://localhost:8080/",
          "height": 265
        },
        "outputId": "a3373ef2-c974-41a0-e9ba-e78c85365a59"
      },
      "outputs": [
        {
          "output_type": "display_data",
          "data": {
            "image/png": "[encoded data removed]",
            "text/plain": [
              "<Figure size 432x288 with 1 Axes>"
            ]
          },
          "metadata": {
            "needs_background": "light"
          }
        }
      ],
      "source": [
        "plt.hist(df.Class, bins=2)\n",
        "plt.show()"
      ]
    },
    {
      "cell_type": "code",
      "execution_count": 105,
      "metadata": {
        "id": "_vk62qJm6epq"
      },
      "outputs": [],
      "source": [
        "df = df.sample(frac=1)"
      ]
    },
    {
      "cell_type": "markdown",
      "source": [
        "# train / test 데이터 분리"
      ],
      "metadata": {
        "id": "KL99tTYqPF_n"
      }
    },
    {
      "cell_type": "code",
      "execution_count": 106,
      "metadata": {
        "id": "stuWJVcv5TpV",
        "colab": {
          "base_uri": "https://localhost:8080/"
        },
        "outputId": "3caff8e2-3c64-4920-a2bd-5b0c80c40af2"
      },
      "outputs": [
        {
          "output_type": "stream",
          "name": "stdout",
          "text": [
            "492\n"
          ]
        }
      ],
      "source": [
        "class1_df = df[df.Class==1]\n",
        "class1_count = len(class1_df)\n",
        "print(class1_count)"
      ]
    },
    {
      "cell_type": "code",
      "execution_count": 116,
      "metadata": {
        "id": "zfHDHO6W5mNi",
        "colab": {
          "base_uri": "https://localhost:8080/"
        },
        "outputId": "ee933161-0c08-4823-8810-b49208f24d0f"
      },
      "outputs": [
        {
          "output_type": "stream",
          "name": "stdout",
          "text": [
            "284315\n"
          ]
        }
      ],
      "source": [
        "class0_df = df[df.Class==0]\n",
        "print(len(class0_df))"
      ]
    },
    {
      "cell_type": "code",
      "execution_count": 117,
      "metadata": {
        "id": "CmaPSFjX7yWq",
        "colab": {
          "base_uri": "https://localhost:8080/"
        },
        "outputId": "f465c573-72c1-4652-fccb-64a5cd0896bc"
      },
      "outputs": [
        {
          "output_type": "stream",
          "name": "stdout",
          "text": [
            "493\n",
            "283822\n"
          ]
        },
        {
          "output_type": "stream",
          "name": "stderr",
          "text": [
            "/usr/local/lib/python3.7/dist-packages/pandas/core/frame.py:4174: SettingWithCopyWarning: \n",
            "A value is trying to be set on a copy of a slice from a DataFrame\n",
            "\n",
            "See the caveats in the documentation: https://pandas.pydata.org/pandas-docs/stable/user_guide/indexing.html#returning-a-view-versus-a-copy\n",
            "  errors=errors,\n"
          ]
        }
      ],
      "source": [
        "class0_test_df = class0_df.iloc[class0_df.index<=class1_count]\n",
        "class0_df.drop(class0_test_df.index, inplace=True)\n",
        "print(len(class0_test_df))\n",
        "print(len(class0_df))"
      ]
    },
    {
      "cell_type": "code",
      "execution_count": 118,
      "metadata": {
        "id": "EEsnPoVX8s4w",
        "colab": {
          "base_uri": "https://localhost:8080/"
        },
        "outputId": "b991441d-71ae-4aff-f632-a4d9242e1aa2"
      },
      "outputs": [
        {
          "output_type": "stream",
          "name": "stdout",
          "text": [
            "283822\n",
            "985\n"
          ]
        }
      ],
      "source": [
        "train_df = class0_df\n",
        "print(len(train_df))\n",
        "test_df = class1_df.append(class0_test_df)\n",
        "print(len(test_df))"
      ]
    },
    {
      "cell_type": "markdown",
      "source": [
        "# numpy로 변환"
      ],
      "metadata": {
        "id": "qvTL5q7xQCzE"
      }
    },
    {
      "cell_type": "code",
      "execution_count": 119,
      "metadata": {
        "id": "q9mOyCbS8556",
        "colab": {
          "base_uri": "https://localhost:8080/"
        },
        "outputId": "f7c4b661-c2d0-4555-c6b5-e511421d74fc"
      },
      "outputs": [
        {
          "output_type": "stream",
          "name": "stdout",
          "text": [
            "              V1        V2        V3  ...       V27       V28  Amount\n",
            "78127   1.085894  0.189881 -0.093894  ... -0.013872  0.004306   45.90\n",
            "118838  1.197395 -0.266735  0.552402  ... -0.071112 -0.008616    1.46\n",
            "158913  1.576920 -0.483123 -3.885340  ... -0.023077  0.004266  234.18\n",
            "106245  0.976227 -0.257816  0.408275  ...  0.039447 -0.010706   20.32\n",
            "198029 -0.801287 -0.355584  0.997339  ... -0.243336  0.023658   15.00\n",
            "\n",
            "[5 rows x 29 columns]\n"
          ]
        },
        {
          "output_type": "stream",
          "name": "stderr",
          "text": [
            "/usr/local/lib/python3.7/dist-packages/pandas/core/frame.py:4174: SettingWithCopyWarning: \n",
            "A value is trying to be set on a copy of a slice from a DataFrame\n",
            "\n",
            "See the caveats in the documentation: https://pandas.pydata.org/pandas-docs/stable/user_guide/indexing.html#returning-a-view-versus-a-copy\n",
            "  errors=errors,\n"
          ]
        }
      ],
      "source": [
        "train_df.drop(columns=[\"Time\", \"Class\"], inplace=True)\n",
        "print(train_df.head())"
      ]
    },
    {
      "cell_type": "code",
      "execution_count": 120,
      "metadata": {
        "id": "4nM417U09MBK",
        "colab": {
          "base_uri": "https://localhost:8080/"
        },
        "outputId": "7d995fa6-0b77-410c-b121-19e805bf67c8"
      },
      "outputs": [
        {
          "output_type": "stream",
          "name": "stdout",
          "text": [
            "(283822, 29)\n"
          ]
        }
      ],
      "source": [
        "train_data = train_df.to_numpy()\n",
        "print(train_data.shape)"
      ]
    },
    {
      "cell_type": "code",
      "source": [
        "test_df.head()"
      ],
      "metadata": {
        "colab": {
          "base_uri": "https://localhost:8080/",
          "height": 270
        },
        "id": "Ho36JfcFNhlo",
        "outputId": "8fc645b2-7987-4d2f-be43-2a852f4ee89a"
      },
      "execution_count": 121,
      "outputs": [
        {
          "output_type": "execute_result",
          "data": {
            "text/html": [
              "\n",
              "  <div id=\"df-0f9a5b9f-dea6-40a8-ba07-aec61af7c1f3\">\n",
              "    <div class=\"colab-df-container\">\n",
              "      <div>\n",
              "<style scoped>\n",
              "    .dataframe tbody tr th:only-of-type {\n",
              "        vertical-align: middle;\n",
              "    }\n",
              "\n",
              "    .dataframe tbody tr th {\n",
              "        vertical-align: top;\n",
              "    }\n",
              "\n",
              "    .dataframe thead th {\n",
              "        text-align: right;\n",
              "    }\n",
              "</style>\n",
              "<table border=\"1\" class=\"dataframe\">\n",
              "  <thead>\n",
              "    <tr style=\"text-align: right;\">\n",
              "      <th></th>\n",
              "      <th>Time</th>\n",
              "      <th>V1</th>\n",
              "      <th>V2</th>\n",
              "      <th>V3</th>\n",
              "      <th>V4</th>\n",
              "      <th>V5</th>\n",
              "      <th>V6</th>\n",
              "      <th>V7</th>\n",
              "      <th>V8</th>\n",
              "      <th>V9</th>\n",
              "      <th>V10</th>\n",
              "      <th>V11</th>\n",
              "      <th>V12</th>\n",
              "      <th>V13</th>\n",
              "      <th>V14</th>\n",
              "      <th>V15</th>\n",
              "      <th>V16</th>\n",
              "      <th>V17</th>\n",
              "      <th>V18</th>\n",
              "      <th>V19</th>\n",
              "      <th>V20</th>\n",
              "      <th>V21</th>\n",
              "      <th>V22</th>\n",
              "      <th>V23</th>\n",
              "      <th>V24</th>\n",
              "      <th>V25</th>\n",
              "      <th>V26</th>\n",
              "      <th>V27</th>\n",
              "      <th>V28</th>\n",
              "      <th>Amount</th>\n",
              "      <th>Class</th>\n",
              "    </tr>\n",
              "  </thead>\n",
              "  <tbody>\n",
              "    <tr>\n",
              "      <th>204503</th>\n",
              "      <td>135314.0</td>\n",
              "      <td>-3.158990</td>\n",
              "      <td>1.765452</td>\n",
              "      <td>-3.390168</td>\n",
              "      <td>0.987410</td>\n",
              "      <td>-1.509930</td>\n",
              "      <td>-1.280952</td>\n",
              "      <td>-2.719557</td>\n",
              "      <td>0.718325</td>\n",
              "      <td>-1.660183</td>\n",
              "      <td>-3.841098</td>\n",
              "      <td>3.282825</td>\n",
              "      <td>-3.906877</td>\n",
              "      <td>0.951368</td>\n",
              "      <td>-4.898183</td>\n",
              "      <td>-0.552000</td>\n",
              "      <td>-4.787448</td>\n",
              "      <td>-9.334329</td>\n",
              "      <td>-2.580249</td>\n",
              "      <td>1.501573</td>\n",
              "      <td>-0.022590</td>\n",
              "      <td>1.120533</td>\n",
              "      <td>1.605085</td>\n",
              "      <td>-0.618637</td>\n",
              "      <td>-0.251283</td>\n",
              "      <td>-0.240528</td>\n",
              "      <td>-0.004327</td>\n",
              "      <td>-0.235477</td>\n",
              "      <td>0.018129</td>\n",
              "      <td>84.28</td>\n",
              "      <td>1</td>\n",
              "    </tr>\n",
              "    <tr>\n",
              "      <th>6108</th>\n",
              "      <td>6986.0</td>\n",
              "      <td>-4.397974</td>\n",
              "      <td>1.358367</td>\n",
              "      <td>-2.592844</td>\n",
              "      <td>2.679787</td>\n",
              "      <td>-1.128131</td>\n",
              "      <td>-1.706536</td>\n",
              "      <td>-3.496197</td>\n",
              "      <td>-0.248778</td>\n",
              "      <td>-0.247768</td>\n",
              "      <td>-4.801637</td>\n",
              "      <td>4.895844</td>\n",
              "      <td>-10.912819</td>\n",
              "      <td>0.184372</td>\n",
              "      <td>-6.771097</td>\n",
              "      <td>-0.007326</td>\n",
              "      <td>-7.358083</td>\n",
              "      <td>-12.598419</td>\n",
              "      <td>-5.131549</td>\n",
              "      <td>0.308334</td>\n",
              "      <td>-0.171608</td>\n",
              "      <td>0.573574</td>\n",
              "      <td>0.176968</td>\n",
              "      <td>-0.436207</td>\n",
              "      <td>-0.053502</td>\n",
              "      <td>0.252405</td>\n",
              "      <td>-0.657488</td>\n",
              "      <td>-0.827136</td>\n",
              "      <td>0.849573</td>\n",
              "      <td>59.00</td>\n",
              "      <td>1</td>\n",
              "    </tr>\n",
              "    <tr>\n",
              "      <th>6331</th>\n",
              "      <td>7526.0</td>\n",
              "      <td>0.008430</td>\n",
              "      <td>4.137837</td>\n",
              "      <td>-6.240697</td>\n",
              "      <td>6.675732</td>\n",
              "      <td>0.768307</td>\n",
              "      <td>-3.353060</td>\n",
              "      <td>-1.631735</td>\n",
              "      <td>0.154612</td>\n",
              "      <td>-2.795892</td>\n",
              "      <td>-6.187891</td>\n",
              "      <td>5.664395</td>\n",
              "      <td>-9.854485</td>\n",
              "      <td>-0.306167</td>\n",
              "      <td>-10.691196</td>\n",
              "      <td>-0.638498</td>\n",
              "      <td>-2.041974</td>\n",
              "      <td>-1.129056</td>\n",
              "      <td>0.116453</td>\n",
              "      <td>-1.934666</td>\n",
              "      <td>0.488378</td>\n",
              "      <td>0.364514</td>\n",
              "      <td>-0.608057</td>\n",
              "      <td>-0.539528</td>\n",
              "      <td>0.128940</td>\n",
              "      <td>1.488481</td>\n",
              "      <td>0.507963</td>\n",
              "      <td>0.735822</td>\n",
              "      <td>0.513574</td>\n",
              "      <td>1.00</td>\n",
              "      <td>1</td>\n",
              "    </tr>\n",
              "    <tr>\n",
              "      <th>241254</th>\n",
              "      <td>150949.0</td>\n",
              "      <td>-2.423535</td>\n",
              "      <td>1.659093</td>\n",
              "      <td>-3.071421</td>\n",
              "      <td>2.588033</td>\n",
              "      <td>1.135791</td>\n",
              "      <td>-1.892388</td>\n",
              "      <td>-2.588418</td>\n",
              "      <td>-2.226592</td>\n",
              "      <td>-1.670173</td>\n",
              "      <td>-3.508925</td>\n",
              "      <td>1.439322</td>\n",
              "      <td>-1.959927</td>\n",
              "      <td>0.767485</td>\n",
              "      <td>-4.978118</td>\n",
              "      <td>1.058566</td>\n",
              "      <td>-0.997477</td>\n",
              "      <td>-0.817261</td>\n",
              "      <td>0.307798</td>\n",
              "      <td>0.028485</td>\n",
              "      <td>0.353898</td>\n",
              "      <td>-0.934127</td>\n",
              "      <td>0.922038</td>\n",
              "      <td>-0.180255</td>\n",
              "      <td>-0.281719</td>\n",
              "      <td>0.299285</td>\n",
              "      <td>-0.263801</td>\n",
              "      <td>0.150156</td>\n",
              "      <td>0.292112</td>\n",
              "      <td>9.29</td>\n",
              "      <td>1</td>\n",
              "    </tr>\n",
              "    <tr>\n",
              "      <th>9179</th>\n",
              "      <td>13126.0</td>\n",
              "      <td>-2.880042</td>\n",
              "      <td>5.225442</td>\n",
              "      <td>-11.063330</td>\n",
              "      <td>6.689951</td>\n",
              "      <td>-5.759924</td>\n",
              "      <td>-2.244031</td>\n",
              "      <td>-11.199975</td>\n",
              "      <td>4.014722</td>\n",
              "      <td>-3.429304</td>\n",
              "      <td>-11.561950</td>\n",
              "      <td>10.446847</td>\n",
              "      <td>-15.479052</td>\n",
              "      <td>0.734442</td>\n",
              "      <td>-13.883779</td>\n",
              "      <td>0.821440</td>\n",
              "      <td>-11.911483</td>\n",
              "      <td>-18.103004</td>\n",
              "      <td>-6.837835</td>\n",
              "      <td>3.126929</td>\n",
              "      <td>1.191444</td>\n",
              "      <td>2.002883</td>\n",
              "      <td>0.351102</td>\n",
              "      <td>0.795255</td>\n",
              "      <td>-0.778379</td>\n",
              "      <td>-1.646815</td>\n",
              "      <td>0.487539</td>\n",
              "      <td>1.427713</td>\n",
              "      <td>0.583172</td>\n",
              "      <td>1.00</td>\n",
              "      <td>1</td>\n",
              "    </tr>\n",
              "  </tbody>\n",
              "</table>\n",
              "</div>\n",
              "      <button class=\"colab-df-convert\" onclick=\"convertToInteractive('df-0f9a5b9f-dea6-40a8-ba07-aec61af7c1f3')\"\n",
              "              title=\"Convert this dataframe to an interactive table.\"\n",
              "              style=\"display:none;\">\n",
              "        \n",
              "  <svg xmlns=\"http://www.w3.org/2000/svg\" height=\"24px\"viewBox=\"0 0 24 24\"\n",
              "       width=\"24px\">\n",
              "    <path d=\"M0 0h24v24H0V0z\" fill=\"none\"/>\n",
              "    <path d=\"M18.56 5.44l.94 2.06.94-2.06 2.06-.94-2.06-.94-.94-2.06-.94 2.06-2.06.94zm-11 1L8.5 8.5l.94-2.06 2.06-.94-2.06-.94L8.5 2.5l-.94 2.06-2.06.94zm10 10l.94 2.06.94-2.06 2.06-.94-2.06-.94-.94-2.06-.94 2.06-2.06.94z\"/><path d=\"M17.41 7.96l-1.37-1.37c-.4-.4-.92-.59-1.43-.59-.52 0-1.04.2-1.43.59L10.3 9.45l-7.72 7.72c-.78.78-.78 2.05 0 2.83L4 21.41c.39.39.9.59 1.41.59.51 0 1.02-.2 1.41-.59l7.78-7.78 2.81-2.81c.8-.78.8-2.07 0-2.86zM5.41 20L4 18.59l7.72-7.72 1.47 1.35L5.41 20z\"/>\n",
              "  </svg>\n",
              "      </button>\n",
              "      \n",
              "  <style>\n",
              "    .colab-df-container {\n",
              "      display:flex;\n",
              "      flex-wrap:wrap;\n",
              "      gap: 12px;\n",
              "    }\n",
              "\n",
              "    .colab-df-convert {\n",
              "      background-color: #E8F0FE;\n",
              "      border: none;\n",
              "      border-radius: 50%;\n",
              "      cursor: pointer;\n",
              "      display: none;\n",
              "      fill: #1967D2;\n",
              "      height: 32px;\n",
              "      padding: 0 0 0 0;\n",
              "      width: 32px;\n",
              "    }\n",
              "\n",
              "    .colab-df-convert:hover {\n",
              "      background-color: #E2EBFA;\n",
              "      box-shadow: 0px 1px 2px rgba(60, 64, 67, 0.3), 0px 1px 3px 1px rgba(60, 64, 67, 0.15);\n",
              "      fill: #174EA6;\n",
              "    }\n",
              "\n",
              "    [theme=dark] .colab-df-convert {\n",
              "      background-color: #3B4455;\n",
              "      fill: #D2E3FC;\n",
              "    }\n",
              "\n",
              "    [theme=dark] .colab-df-convert:hover {\n",
              "      background-color: #434B5C;\n",
              "      box-shadow: 0px 1px 3px 1px rgba(0, 0, 0, 0.15);\n",
              "      filter: drop-shadow(0px 1px 2px rgba(0, 0, 0, 0.3));\n",
              "      fill: #FFFFFF;\n",
              "    }\n",
              "  </style>\n",
              "\n",
              "      <script>\n",
              "        const buttonEl =\n",
              "          document.querySelector('#df-0f9a5b9f-dea6-40a8-ba07-aec61af7c1f3 button.colab-df-convert');\n",
              "        buttonEl.style.display =\n",
              "          google.colab.kernel.accessAllowed ? 'block' : 'none';\n",
              "\n",
              "        async function convertToInteractive(key) {\n",
              "          const element = document.querySelector('#df-0f9a5b9f-dea6-40a8-ba07-aec61af7c1f3');\n",
              "          const dataTable =\n",
              "            await google.colab.kernel.invokeFunction('convertToInteractive',\n",
              "                                                     [key], {});\n",
              "          if (!dataTable) return;\n",
              "\n",
              "          const docLinkHtml = 'Like what you see? Visit the ' +\n",
              "            '<a target=\"_blank\" href=https://colab.research.google.com/notebooks/data_table.ipynb>data table notebook</a>'\n",
              "            + ' to learn more about interactive tables.';\n",
              "          element.innerHTML = '';\n",
              "          dataTable['output_type'] = 'display_data';\n",
              "          await google.colab.output.renderOutput(dataTable, element);\n",
              "          const docLink = document.createElement('div');\n",
              "          docLink.innerHTML = docLinkHtml;\n",
              "          element.appendChild(docLink);\n",
              "        }\n",
              "      </script>\n",
              "    </div>\n",
              "  </div>\n",
              "  "
            ],
            "text/plain": [
              "            Time        V1        V2  ...       V28  Amount  Class\n",
              "204503  135314.0 -3.158990  1.765452  ...  0.018129   84.28      1\n",
              "6108      6986.0 -4.397974  1.358367  ...  0.849573   59.00      1\n",
              "6331      7526.0  0.008430  4.137837  ...  0.513574    1.00      1\n",
              "241254  150949.0 -2.423535  1.659093  ...  0.292112    9.29      1\n",
              "9179     13126.0 -2.880042  5.225442  ...  0.583172    1.00      1\n",
              "\n",
              "[5 rows x 31 columns]"
            ]
          },
          "metadata": {},
          "execution_count": 121
        }
      ]
    },
    {
      "cell_type": "code",
      "source": [
        "test_y = test_df.Class.to_numpy()\n",
        "print(test_y.shape)\n",
        "print(test_y[:10])"
      ],
      "metadata": {
        "colab": {
          "base_uri": "https://localhost:8080/"
        },
        "id": "LMUQxHw9OEB8",
        "outputId": "6b343205-959f-4d61-99c9-d1013e556f26"
      },
      "execution_count": 122,
      "outputs": [
        {
          "output_type": "stream",
          "name": "stdout",
          "text": [
            "(985,)\n",
            "[1 1 1 1 1 1 1 1 1 1]\n"
          ]
        }
      ]
    },
    {
      "cell_type": "code",
      "source": [
        "test_df.drop(columns=[\"Time\", \"Class\"], inplace=True)\n",
        "test_df.head()"
      ],
      "metadata": {
        "colab": {
          "base_uri": "https://localhost:8080/",
          "height": 270
        },
        "id": "kkOj8wW5NWqC",
        "outputId": "f7e76159-e2f5-4836-9721-5bb869ad1920"
      },
      "execution_count": 123,
      "outputs": [
        {
          "output_type": "execute_result",
          "data": {
            "text/html": [
              "\n",
              "  <div id=\"df-4db2a6b7-2612-4132-b392-d9c4e5ff4151\">\n",
              "    <div class=\"colab-df-container\">\n",
              "      <div>\n",
              "<style scoped>\n",
              "    .dataframe tbody tr th:only-of-type {\n",
              "        vertical-align: middle;\n",
              "    }\n",
              "\n",
              "    .dataframe tbody tr th {\n",
              "        vertical-align: top;\n",
              "    }\n",
              "\n",
              "    .dataframe thead th {\n",
              "        text-align: right;\n",
              "    }\n",
              "</style>\n",
              "<table border=\"1\" class=\"dataframe\">\n",
              "  <thead>\n",
              "    <tr style=\"text-align: right;\">\n",
              "      <th></th>\n",
              "      <th>V1</th>\n",
              "      <th>V2</th>\n",
              "      <th>V3</th>\n",
              "      <th>V4</th>\n",
              "      <th>V5</th>\n",
              "      <th>V6</th>\n",
              "      <th>V7</th>\n",
              "      <th>V8</th>\n",
              "      <th>V9</th>\n",
              "      <th>V10</th>\n",
              "      <th>V11</th>\n",
              "      <th>V12</th>\n",
              "      <th>V13</th>\n",
              "      <th>V14</th>\n",
              "      <th>V15</th>\n",
              "      <th>V16</th>\n",
              "      <th>V17</th>\n",
              "      <th>V18</th>\n",
              "      <th>V19</th>\n",
              "      <th>V20</th>\n",
              "      <th>V21</th>\n",
              "      <th>V22</th>\n",
              "      <th>V23</th>\n",
              "      <th>V24</th>\n",
              "      <th>V25</th>\n",
              "      <th>V26</th>\n",
              "      <th>V27</th>\n",
              "      <th>V28</th>\n",
              "      <th>Amount</th>\n",
              "    </tr>\n",
              "  </thead>\n",
              "  <tbody>\n",
              "    <tr>\n",
              "      <th>204503</th>\n",
              "      <td>-3.158990</td>\n",
              "      <td>1.765452</td>\n",
              "      <td>-3.390168</td>\n",
              "      <td>0.987410</td>\n",
              "      <td>-1.509930</td>\n",
              "      <td>-1.280952</td>\n",
              "      <td>-2.719557</td>\n",
              "      <td>0.718325</td>\n",
              "      <td>-1.660183</td>\n",
              "      <td>-3.841098</td>\n",
              "      <td>3.282825</td>\n",
              "      <td>-3.906877</td>\n",
              "      <td>0.951368</td>\n",
              "      <td>-4.898183</td>\n",
              "      <td>-0.552000</td>\n",
              "      <td>-4.787448</td>\n",
              "      <td>-9.334329</td>\n",
              "      <td>-2.580249</td>\n",
              "      <td>1.501573</td>\n",
              "      <td>-0.022590</td>\n",
              "      <td>1.120533</td>\n",
              "      <td>1.605085</td>\n",
              "      <td>-0.618637</td>\n",
              "      <td>-0.251283</td>\n",
              "      <td>-0.240528</td>\n",
              "      <td>-0.004327</td>\n",
              "      <td>-0.235477</td>\n",
              "      <td>0.018129</td>\n",
              "      <td>84.28</td>\n",
              "    </tr>\n",
              "    <tr>\n",
              "      <th>6108</th>\n",
              "      <td>-4.397974</td>\n",
              "      <td>1.358367</td>\n",
              "      <td>-2.592844</td>\n",
              "      <td>2.679787</td>\n",
              "      <td>-1.128131</td>\n",
              "      <td>-1.706536</td>\n",
              "      <td>-3.496197</td>\n",
              "      <td>-0.248778</td>\n",
              "      <td>-0.247768</td>\n",
              "      <td>-4.801637</td>\n",
              "      <td>4.895844</td>\n",
              "      <td>-10.912819</td>\n",
              "      <td>0.184372</td>\n",
              "      <td>-6.771097</td>\n",
              "      <td>-0.007326</td>\n",
              "      <td>-7.358083</td>\n",
              "      <td>-12.598419</td>\n",
              "      <td>-5.131549</td>\n",
              "      <td>0.308334</td>\n",
              "      <td>-0.171608</td>\n",
              "      <td>0.573574</td>\n",
              "      <td>0.176968</td>\n",
              "      <td>-0.436207</td>\n",
              "      <td>-0.053502</td>\n",
              "      <td>0.252405</td>\n",
              "      <td>-0.657488</td>\n",
              "      <td>-0.827136</td>\n",
              "      <td>0.849573</td>\n",
              "      <td>59.00</td>\n",
              "    </tr>\n",
              "    <tr>\n",
              "      <th>6331</th>\n",
              "      <td>0.008430</td>\n",
              "      <td>4.137837</td>\n",
              "      <td>-6.240697</td>\n",
              "      <td>6.675732</td>\n",
              "      <td>0.768307</td>\n",
              "      <td>-3.353060</td>\n",
              "      <td>-1.631735</td>\n",
              "      <td>0.154612</td>\n",
              "      <td>-2.795892</td>\n",
              "      <td>-6.187891</td>\n",
              "      <td>5.664395</td>\n",
              "      <td>-9.854485</td>\n",
              "      <td>-0.306167</td>\n",
              "      <td>-10.691196</td>\n",
              "      <td>-0.638498</td>\n",
              "      <td>-2.041974</td>\n",
              "      <td>-1.129056</td>\n",
              "      <td>0.116453</td>\n",
              "      <td>-1.934666</td>\n",
              "      <td>0.488378</td>\n",
              "      <td>0.364514</td>\n",
              "      <td>-0.608057</td>\n",
              "      <td>-0.539528</td>\n",
              "      <td>0.128940</td>\n",
              "      <td>1.488481</td>\n",
              "      <td>0.507963</td>\n",
              "      <td>0.735822</td>\n",
              "      <td>0.513574</td>\n",
              "      <td>1.00</td>\n",
              "    </tr>\n",
              "    <tr>\n",
              "      <th>241254</th>\n",
              "      <td>-2.423535</td>\n",
              "      <td>1.659093</td>\n",
              "      <td>-3.071421</td>\n",
              "      <td>2.588033</td>\n",
              "      <td>1.135791</td>\n",
              "      <td>-1.892388</td>\n",
              "      <td>-2.588418</td>\n",
              "      <td>-2.226592</td>\n",
              "      <td>-1.670173</td>\n",
              "      <td>-3.508925</td>\n",
              "      <td>1.439322</td>\n",
              "      <td>-1.959927</td>\n",
              "      <td>0.767485</td>\n",
              "      <td>-4.978118</td>\n",
              "      <td>1.058566</td>\n",
              "      <td>-0.997477</td>\n",
              "      <td>-0.817261</td>\n",
              "      <td>0.307798</td>\n",
              "      <td>0.028485</td>\n",
              "      <td>0.353898</td>\n",
              "      <td>-0.934127</td>\n",
              "      <td>0.922038</td>\n",
              "      <td>-0.180255</td>\n",
              "      <td>-0.281719</td>\n",
              "      <td>0.299285</td>\n",
              "      <td>-0.263801</td>\n",
              "      <td>0.150156</td>\n",
              "      <td>0.292112</td>\n",
              "      <td>9.29</td>\n",
              "    </tr>\n",
              "    <tr>\n",
              "      <th>9179</th>\n",
              "      <td>-2.880042</td>\n",
              "      <td>5.225442</td>\n",
              "      <td>-11.063330</td>\n",
              "      <td>6.689951</td>\n",
              "      <td>-5.759924</td>\n",
              "      <td>-2.244031</td>\n",
              "      <td>-11.199975</td>\n",
              "      <td>4.014722</td>\n",
              "      <td>-3.429304</td>\n",
              "      <td>-11.561950</td>\n",
              "      <td>10.446847</td>\n",
              "      <td>-15.479052</td>\n",
              "      <td>0.734442</td>\n",
              "      <td>-13.883779</td>\n",
              "      <td>0.821440</td>\n",
              "      <td>-11.911483</td>\n",
              "      <td>-18.103004</td>\n",
              "      <td>-6.837835</td>\n",
              "      <td>3.126929</td>\n",
              "      <td>1.191444</td>\n",
              "      <td>2.002883</td>\n",
              "      <td>0.351102</td>\n",
              "      <td>0.795255</td>\n",
              "      <td>-0.778379</td>\n",
              "      <td>-1.646815</td>\n",
              "      <td>0.487539</td>\n",
              "      <td>1.427713</td>\n",
              "      <td>0.583172</td>\n",
              "      <td>1.00</td>\n",
              "    </tr>\n",
              "  </tbody>\n",
              "</table>\n",
              "</div>\n",
              "      <button class=\"colab-df-convert\" onclick=\"convertToInteractive('df-4db2a6b7-2612-4132-b392-d9c4e5ff4151')\"\n",
              "              title=\"Convert this dataframe to an interactive table.\"\n",
              "              style=\"display:none;\">\n",
              "        \n",
              "  <svg xmlns=\"http://www.w3.org/2000/svg\" height=\"24px\"viewBox=\"0 0 24 24\"\n",
              "       width=\"24px\">\n",
              "    <path d=\"M0 0h24v24H0V0z\" fill=\"none\"/>\n",
              "    <path d=\"M18.56 5.44l.94 2.06.94-2.06 2.06-.94-2.06-.94-.94-2.06-.94 2.06-2.06.94zm-11 1L8.5 8.5l.94-2.06 2.06-.94-2.06-.94L8.5 2.5l-.94 2.06-2.06.94zm10 10l.94 2.06.94-2.06 2.06-.94-2.06-.94-.94-2.06-.94 2.06-2.06.94z\"/><path d=\"M17.41 7.96l-1.37-1.37c-.4-.4-.92-.59-1.43-.59-.52 0-1.04.2-1.43.59L10.3 9.45l-7.72 7.72c-.78.78-.78 2.05 0 2.83L4 21.41c.39.39.9.59 1.41.59.51 0 1.02-.2 1.41-.59l7.78-7.78 2.81-2.81c.8-.78.8-2.07 0-2.86zM5.41 20L4 18.59l7.72-7.72 1.47 1.35L5.41 20z\"/>\n",
              "  </svg>\n",
              "      </button>\n",
              "      \n",
              "  <style>\n",
              "    .colab-df-container {\n",
              "      display:flex;\n",
              "      flex-wrap:wrap;\n",
              "      gap: 12px;\n",
              "    }\n",
              "\n",
              "    .colab-df-convert {\n",
              "      background-color: #E8F0FE;\n",
              "      border: none;\n",
              "      border-radius: 50%;\n",
              "      cursor: pointer;\n",
              "      display: none;\n",
              "      fill: #1967D2;\n",
              "      height: 32px;\n",
              "      padding: 0 0 0 0;\n",
              "      width: 32px;\n",
              "    }\n",
              "\n",
              "    .colab-df-convert:hover {\n",
              "      background-color: #E2EBFA;\n",
              "      box-shadow: 0px 1px 2px rgba(60, 64, 67, 0.3), 0px 1px 3px 1px rgba(60, 64, 67, 0.15);\n",
              "      fill: #174EA6;\n",
              "    }\n",
              "\n",
              "    [theme=dark] .colab-df-convert {\n",
              "      background-color: #3B4455;\n",
              "      fill: #D2E3FC;\n",
              "    }\n",
              "\n",
              "    [theme=dark] .colab-df-convert:hover {\n",
              "      background-color: #434B5C;\n",
              "      box-shadow: 0px 1px 3px 1px rgba(0, 0, 0, 0.15);\n",
              "      filter: drop-shadow(0px 1px 2px rgba(0, 0, 0, 0.3));\n",
              "      fill: #FFFFFF;\n",
              "    }\n",
              "  </style>\n",
              "\n",
              "      <script>\n",
              "        const buttonEl =\n",
              "          document.querySelector('#df-4db2a6b7-2612-4132-b392-d9c4e5ff4151 button.colab-df-convert');\n",
              "        buttonEl.style.display =\n",
              "          google.colab.kernel.accessAllowed ? 'block' : 'none';\n",
              "\n",
              "        async function convertToInteractive(key) {\n",
              "          const element = document.querySelector('#df-4db2a6b7-2612-4132-b392-d9c4e5ff4151');\n",
              "          const dataTable =\n",
              "            await google.colab.kernel.invokeFunction('convertToInteractive',\n",
              "                                                     [key], {});\n",
              "          if (!dataTable) return;\n",
              "\n",
              "          const docLinkHtml = 'Like what you see? Visit the ' +\n",
              "            '<a target=\"_blank\" href=https://colab.research.google.com/notebooks/data_table.ipynb>data table notebook</a>'\n",
              "            + ' to learn more about interactive tables.';\n",
              "          element.innerHTML = '';\n",
              "          dataTable['output_type'] = 'display_data';\n",
              "          await google.colab.output.renderOutput(dataTable, element);\n",
              "          const docLink = document.createElement('div');\n",
              "          docLink.innerHTML = docLinkHtml;\n",
              "          element.appendChild(docLink);\n",
              "        }\n",
              "      </script>\n",
              "    </div>\n",
              "  </div>\n",
              "  "
            ],
            "text/plain": [
              "              V1        V2         V3  ...       V27       V28  Amount\n",
              "204503 -3.158990  1.765452  -3.390168  ... -0.235477  0.018129   84.28\n",
              "6108   -4.397974  1.358367  -2.592844  ... -0.827136  0.849573   59.00\n",
              "6331    0.008430  4.137837  -6.240697  ...  0.735822  0.513574    1.00\n",
              "241254 -2.423535  1.659093  -3.071421  ...  0.150156  0.292112    9.29\n",
              "9179   -2.880042  5.225442 -11.063330  ...  1.427713  0.583172    1.00\n",
              "\n",
              "[5 rows x 29 columns]"
            ]
          },
          "metadata": {},
          "execution_count": 123
        }
      ]
    },
    {
      "cell_type": "code",
      "source": [
        "test_data = test_df.to_numpy()\n",
        "print(test_data.shape)\n",
        "print(test_data[0])"
      ],
      "metadata": {
        "colab": {
          "base_uri": "https://localhost:8080/"
        },
        "id": "4JNOuYVGNpMI",
        "outputId": "a628dd49-e5b8-4c61-c3c1-c64277ec20e7"
      },
      "execution_count": 124,
      "outputs": [
        {
          "output_type": "stream",
          "name": "stdout",
          "text": [
            "(985, 29)\n",
            "[-3.15898973e+00  1.76545162e+00 -3.39016805e+00  9.87409979e-01\n",
            " -1.50993037e+00 -1.28095213e+00 -2.71955697e+00  7.18324817e-01\n",
            " -1.66018324e+00 -3.84109815e+00  3.28282461e+00 -3.90687695e+00\n",
            "  9.51367704e-01 -4.89818303e+00 -5.51999609e-01 -4.78744842e+00\n",
            " -9.33432947e+00 -2.58024866e+00  1.50157346e+00 -2.25898632e-02\n",
            "  1.12053279e+00  1.60508519e+00 -6.18637378e-01 -2.51282997e-01\n",
            " -2.40527822e-01 -4.32675619e-03 -2.35477311e-01  1.81292220e-02\n",
            "  8.42800000e+01]\n"
          ]
        }
      ]
    },
    {
      "cell_type": "markdown",
      "source": [
        "# Normalize"
      ],
      "metadata": {
        "id": "kW6KfHSEO68L"
      }
    },
    {
      "cell_type": "code",
      "execution_count": 125,
      "metadata": {
        "id": "ctFzDFP16efc",
        "colab": {
          "base_uri": "https://localhost:8080/"
        },
        "outputId": "2cd52cba-8544-49ed-cca3-f764541bb9c5"
      },
      "outputs": [
        {
          "output_type": "stream",
          "name": "stdout",
          "text": [
            "[2.45492999e+00 1.89024528e+01 9.38255843e+00 1.68753440e+01\n",
            " 3.48016659e+01 7.33016255e+01 1.20589494e+02 1.87092545e+01\n",
            " 1.55949946e+01 2.37451361e+01 1.00021902e+01 7.84839208e+00\n",
            " 7.12688296e+00 1.05267661e+01 8.87774160e+00 1.73151115e+01\n",
            " 9.25352625e+00 5.04106919e+00 5.59197143e+00 3.94209042e+01\n",
            " 2.26148894e+01 1.05030901e+01 2.25284117e+01 4.58454914e+00\n",
            " 7.51958868e+00 3.51734561e+00 3.16121981e+01 3.38478078e+01\n",
            " 2.56911600e+04]\n",
            "[ -56.40750963  -72.71572756  -48.32558936   -5.6831712  -113.74330671\n",
            "  -26.16050594  -31.76494649  -73.21671846   -6.29073039  -14.74109638\n",
            "   -4.79747346  -15.14498822   -5.79188121  -18.3920915    -4.39130707\n",
            "  -10.11555995  -17.09844421   -5.36665996   -7.21352743  -54.49772049\n",
            "  -34.83038214  -10.9331437   -44.8077352    -2.83662692  -10.29539707\n",
            "   -2.60455055  -22.56567932  -15.43008391    0.        ]\n"
          ]
        }
      ],
      "source": [
        "maxs = train_data.max(axis=0)\n",
        "print(maxs)\n",
        "mins = train_data.min(axis=0)\n",
        "print(mins)"
      ]
    },
    {
      "cell_type": "code",
      "execution_count": 126,
      "metadata": {
        "id": "2QKio73m9co7",
        "colab": {
          "base_uri": "https://localhost:8080/"
        },
        "outputId": "faecbf5d-3bf5-4274-da0c-29eb9a6608c0"
      },
      "outputs": [
        {
          "output_type": "stream",
          "name": "stdout",
          "text": [
            "[[9.76741777e-01 7.95754823e-01 8.35786576e-01 3.03267626e-01\n",
            "  7.65926396e-01 2.57973897e-01 2.10746679e-01 7.96365806e-01\n",
            "  2.68429599e-01 3.89415615e-01 4.24915647e-01 6.71736036e-01\n",
            "  3.31025544e-01 6.73414949e-01 3.56310747e-01 3.59301290e-01\n",
            "  6.43322851e-01 4.94542392e-01 5.27596341e-01 5.78325926e-01\n",
            "  6.08162502e-01 5.18718086e-01 6.63609583e-01 4.10294217e-01\n",
            "  6.14557357e-01 3.79537761e-01 4.16254903e-01 3.13211242e-01\n",
            "  1.78660676e-03]\n",
            " [9.78636042e-01 7.90770921e-01 8.46985970e-01 2.42616012e-01\n",
            "  7.60852935e-01 2.60245695e-01 2.05037299e-01 7.99031920e-01\n",
            "  3.07410687e-01 3.82282509e-01 4.15216988e-01 6.55389924e-01\n",
            "  2.94355407e-01 6.62108986e-01 4.08146269e-01 3.83541581e-01\n",
            "  6.40420056e-01 5.03673437e-01 5.61318355e-01 5.77960292e-01\n",
            "  6.04956981e-01 4.95505591e-01 6.67495478e-01 3.85652891e-01\n",
            "  5.74939340e-01 5.76318649e-01 4.15198388e-01 3.12949010e-01\n",
            "  5.68288859e-05]]\n"
          ]
        }
      ],
      "source": [
        "train_x = (train_data - mins) / (maxs - mins)\n",
        "print(train_x[:2])"
      ]
    },
    {
      "cell_type": "code",
      "source": [
        "test_x = (test_data - mins) / (maxs - mins)\n",
        "print(test_x[:2])"
      ],
      "metadata": {
        "colab": {
          "base_uri": "https://localhost:8080/"
        },
        "id": "31w0eeGfNzHz",
        "outputId": "e70bf79e-1660-4361-c08f-3ba89023205b"
      },
      "execution_count": 128,
      "outputs": [
        {
          "output_type": "stream",
          "name": "stdout",
          "text": [
            "[[0.90462645 0.81295196 0.77866684 0.29570125 0.7555515  0.25014097\n",
            "  0.19064354 0.80428894 0.21157842 0.28321812 0.54597849 0.4887542\n",
            "  0.52197322 0.46661278 0.28934308 0.19423919 0.29463128 0.26772519\n",
            "  0.68057488 0.58002479 0.62582897 0.5849082  0.65624631 0.34837388\n",
            "  0.56440512 0.42474157 0.41216458 0.31349176 0.00328051]\n",
            " [0.88357763 0.80850869 0.79248333 0.3707229  0.75812176 0.24586211\n",
            "  0.18554595 0.79376849 0.27611434 0.25826012 0.65496878 0.18406032\n",
            "  0.46260252 0.40184834 0.3303915  0.10052531 0.17076619 0.02259007\n",
            "  0.58739308 0.57843812 0.61630758 0.51828654 0.65895556 0.3750248\n",
            "  0.5920747  0.31804897 0.40124391 0.33036432 0.00229651]]\n"
          ]
        }
      ]
    },
    {
      "cell_type": "markdown",
      "source": [
        "# 모델 학습"
      ],
      "metadata": {
        "id": "MwZaDQIzNPNs"
      }
    },
    {
      "cell_type": "code",
      "execution_count": 129,
      "metadata": {
        "id": "ALlhkO9u9yP_",
        "colab": {
          "base_uri": "https://localhost:8080/"
        },
        "outputId": "00a5c446-37e1-463d-effd-b5ffd70f8e57"
      },
      "outputs": [
        {
          "output_type": "stream",
          "name": "stdout",
          "text": [
            "29\n"
          ]
        }
      ],
      "source": [
        "feature_count = train_x.shape[1]\n",
        "print(feature_count)"
      ]
    },
    {
      "cell_type": "code",
      "execution_count": 79,
      "metadata": {
        "id": "Zo9OQ4A-5rog"
      },
      "outputs": [],
      "source": [
        "from tensorflow.keras.datasets import mnist\n",
        "from tensorflow.keras.layers import Dense\n",
        "from tensorflow.keras import Sequential"
      ]
    },
    {
      "cell_type": "code",
      "execution_count": 81,
      "metadata": {
        "colab": {
          "base_uri": "https://localhost:8080/"
        },
        "id": "bSOoocZb9tld",
        "outputId": "7fc130d9-74ca-40a2-a789-628e2c719af2"
      },
      "outputs": [
        {
          "output_type": "stream",
          "name": "stdout",
          "text": [
            "Epoch 1/100\n",
            "998/998 [==============================] - 4s 3ms/step - loss: 0.0579 - mape: 1898.2031 - val_loss: 0.0261 - val_mape: 3255.5005\n",
            "Epoch 2/100\n",
            "998/998 [==============================] - 3s 3ms/step - loss: 0.0258 - mape: 1699.4807 - val_loss: 0.0257 - val_mape: 3415.7776\n",
            "Epoch 3/100\n",
            "998/998 [==============================] - 3s 3ms/step - loss: 0.0255 - mape: 1701.3579 - val_loss: 0.0254 - val_mape: 3010.3796\n",
            "Epoch 4/100\n",
            "998/998 [==============================] - 3s 3ms/step - loss: 0.0251 - mape: 1702.0872 - val_loss: 0.0248 - val_mape: 3288.9402\n",
            "Epoch 5/100\n",
            "998/998 [==============================] - 3s 3ms/step - loss: 0.0242 - mape: 1642.3387 - val_loss: 0.0238 - val_mape: 3127.8665\n",
            "Epoch 6/100\n",
            "998/998 [==============================] - 3s 3ms/step - loss: 0.0234 - mape: 1597.4661 - val_loss: 0.0233 - val_mape: 2940.6392\n",
            "Epoch 7/100\n",
            "998/998 [==============================] - 3s 3ms/step - loss: 0.0230 - mape: 1599.6244 - val_loss: 0.0229 - val_mape: 3051.5830\n",
            "Epoch 8/100\n",
            "998/998 [==============================] - 3s 3ms/step - loss: 0.0225 - mape: 1615.9203 - val_loss: 0.0222 - val_mape: 3173.1226\n",
            "Epoch 9/100\n",
            "998/998 [==============================] - 3s 3ms/step - loss: 0.0218 - mape: 1606.8093 - val_loss: 0.0216 - val_mape: 3451.9934\n",
            "Epoch 10/100\n",
            "998/998 [==============================] - 3s 3ms/step - loss: 0.0213 - mape: 1561.7778 - val_loss: 0.0212 - val_mape: 3184.0039\n",
            "Epoch 11/100\n",
            "998/998 [==============================] - 3s 3ms/step - loss: 0.0210 - mape: 1573.1768 - val_loss: 0.0209 - val_mape: 2849.8157\n",
            "Epoch 12/100\n",
            "998/998 [==============================] - 3s 3ms/step - loss: 0.0208 - mape: 1588.2454 - val_loss: 0.0208 - val_mape: 2982.8645\n",
            "Epoch 13/100\n",
            "998/998 [==============================] - 3s 3ms/step - loss: 0.0207 - mape: 1574.9308 - val_loss: 0.0209 - val_mape: 2928.1106\n",
            "Epoch 14/100\n",
            "998/998 [==============================] - 3s 3ms/step - loss: 0.0206 - mape: 1611.8695 - val_loss: 0.0209 - val_mape: 2788.1650\n",
            "Epoch 15/100\n",
            "998/998 [==============================] - 3s 3ms/step - loss: 0.0205 - mape: 1604.6733 - val_loss: 0.0204 - val_mape: 3050.6411\n",
            "Epoch 16/100\n",
            "998/998 [==============================] - 3s 3ms/step - loss: 0.0203 - mape: 1633.1254 - val_loss: 0.0203 - val_mape: 2773.9607\n",
            "Epoch 17/100\n",
            "998/998 [==============================] - 3s 3ms/step - loss: 0.0202 - mape: 1617.6566 - val_loss: 0.0201 - val_mape: 3156.3037\n",
            "Epoch 18/100\n",
            "998/998 [==============================] - 3s 3ms/step - loss: 0.0201 - mape: 1647.0321 - val_loss: 0.0203 - val_mape: 3145.6389\n",
            "Epoch 19/100\n",
            "998/998 [==============================] - 3s 3ms/step - loss: 0.0201 - mape: 1638.2576 - val_loss: 0.0201 - val_mape: 2885.8164\n",
            "Epoch 20/100\n",
            "998/998 [==============================] - 3s 3ms/step - loss: 0.0200 - mape: 1631.4656 - val_loss: 0.0200 - val_mape: 3046.9539\n",
            "Epoch 21/100\n",
            "998/998 [==============================] - 3s 3ms/step - loss: 0.0199 - mape: 1640.1968 - val_loss: 0.0200 - val_mape: 3145.3672\n",
            "Epoch 22/100\n",
            "998/998 [==============================] - 3s 3ms/step - loss: 0.0199 - mape: 1631.2618 - val_loss: 0.0199 - val_mape: 3137.7544\n",
            "Epoch 23/100\n",
            "998/998 [==============================] - 3s 3ms/step - loss: 0.0198 - mape: 1640.5170 - val_loss: 0.0199 - val_mape: 3007.1648\n",
            "Epoch 24/100\n",
            "998/998 [==============================] - 3s 3ms/step - loss: 0.0198 - mape: 1643.1014 - val_loss: 0.0199 - val_mape: 2957.0330\n",
            "Epoch 25/100\n",
            "998/998 [==============================] - 3s 3ms/step - loss: 0.0198 - mape: 1636.2336 - val_loss: 0.0197 - val_mape: 3152.3030\n",
            "Epoch 26/100\n",
            "998/998 [==============================] - 3s 3ms/step - loss: 0.0198 - mape: 1661.4246 - val_loss: 0.0199 - val_mape: 3510.3879\n",
            "Epoch 27/100\n",
            "998/998 [==============================] - 3s 3ms/step - loss: 0.0198 - mape: 1653.7229 - val_loss: 0.0197 - val_mape: 3103.8501\n",
            "Epoch 28/100\n",
            "998/998 [==============================] - 3s 3ms/step - loss: 0.0198 - mape: 1642.2404 - val_loss: 0.0198 - val_mape: 3073.1951\n",
            "Epoch 29/100\n",
            "998/998 [==============================] - 3s 3ms/step - loss: 0.0198 - mape: 1648.1035 - val_loss: 0.0197 - val_mape: 3252.2644\n",
            "Epoch 30/100\n",
            "998/998 [==============================] - 3s 3ms/step - loss: 0.0197 - mape: 1655.4329 - val_loss: 0.0198 - val_mape: 3051.6868\n",
            "Epoch 31/100\n",
            "998/998 [==============================] - 3s 3ms/step - loss: 0.0197 - mape: 1648.2660 - val_loss: 0.0197 - val_mape: 3226.3757\n",
            "Epoch 32/100\n",
            "998/998 [==============================] - 3s 3ms/step - loss: 0.0197 - mape: 1638.1033 - val_loss: 0.0198 - val_mape: 3030.7158\n",
            "Epoch 33/100\n",
            "998/998 [==============================] - 3s 3ms/step - loss: 0.0197 - mape: 1647.7822 - val_loss: 0.0198 - val_mape: 3180.9128\n",
            "Epoch 34/100\n",
            "998/998 [==============================] - 3s 3ms/step - loss: 0.0197 - mape: 1654.5959 - val_loss: 0.0198 - val_mape: 3254.1946\n",
            "Epoch 35/100\n",
            "998/998 [==============================] - 3s 3ms/step - loss: 0.0197 - mape: 1635.6078 - val_loss: 0.0200 - val_mape: 3315.8896\n",
            "Epoch 36/100\n",
            "998/998 [==============================] - 3s 3ms/step - loss: 0.0197 - mape: 1644.0366 - val_loss: 0.0196 - val_mape: 3423.3728\n",
            "Epoch 37/100\n",
            "998/998 [==============================] - 3s 3ms/step - loss: 0.0197 - mape: 1661.7233 - val_loss: 0.0196 - val_mape: 3198.2964\n",
            "Epoch 38/100\n",
            "998/998 [==============================] - 3s 3ms/step - loss: 0.0197 - mape: 1652.5746 - val_loss: 0.0197 - val_mape: 3345.0344\n",
            "Epoch 39/100\n",
            "998/998 [==============================] - 3s 3ms/step - loss: 0.0196 - mape: 1647.3086 - val_loss: 0.0196 - val_mape: 3220.6594\n",
            "Epoch 40/100\n",
            "998/998 [==============================] - 3s 3ms/step - loss: 0.0197 - mape: 1662.6615 - val_loss: 0.0199 - val_mape: 3507.8025\n",
            "Epoch 41/100\n",
            "998/998 [==============================] - 3s 3ms/step - loss: 0.0196 - mape: 1657.4703 - val_loss: 0.0196 - val_mape: 3428.1560\n",
            "Epoch 42/100\n",
            "998/998 [==============================] - 3s 3ms/step - loss: 0.0196 - mape: 1647.7000 - val_loss: 0.0197 - val_mape: 3332.2898\n",
            "Epoch 43/100\n",
            "998/998 [==============================] - 3s 3ms/step - loss: 0.0196 - mape: 1660.0184 - val_loss: 0.0198 - val_mape: 3200.6233\n",
            "Epoch 44/100\n",
            "998/998 [==============================] - 3s 3ms/step - loss: 0.0196 - mape: 1665.2817 - val_loss: 0.0195 - val_mape: 3577.8027\n",
            "Epoch 45/100\n",
            "998/998 [==============================] - 3s 3ms/step - loss: 0.0195 - mape: 1664.7781 - val_loss: 0.0195 - val_mape: 3685.9858\n",
            "Epoch 46/100\n",
            "998/998 [==============================] - 3s 3ms/step - loss: 0.0195 - mape: 1659.8098 - val_loss: 0.0196 - val_mape: 3393.2656\n",
            "Epoch 47/100\n",
            "998/998 [==============================] - 3s 3ms/step - loss: 0.0195 - mape: 1668.9604 - val_loss: 0.0196 - val_mape: 3306.1309\n",
            "Epoch 48/100\n",
            "998/998 [==============================] - 3s 3ms/step - loss: 0.0195 - mape: 1670.8436 - val_loss: 0.0196 - val_mape: 3648.2864\n",
            "Epoch 49/100\n",
            "998/998 [==============================] - 3s 3ms/step - loss: 0.0194 - mape: 1674.4681 - val_loss: 0.0194 - val_mape: 3621.4846\n",
            "Epoch 50/100\n",
            "998/998 [==============================] - 3s 3ms/step - loss: 0.0194 - mape: 1679.2367 - val_loss: 0.0195 - val_mape: 3401.4492\n",
            "Epoch 51/100\n",
            "998/998 [==============================] - 3s 3ms/step - loss: 0.0194 - mape: 1693.4690 - val_loss: 0.0194 - val_mape: 3507.2871\n",
            "Epoch 52/100\n",
            "998/998 [==============================] - 3s 3ms/step - loss: 0.0194 - mape: 1693.2795 - val_loss: 0.0194 - val_mape: 3348.9028\n",
            "Epoch 53/100\n",
            "998/998 [==============================] - 3s 3ms/step - loss: 0.0193 - mape: 1710.2363 - val_loss: 0.0194 - val_mape: 3824.7217\n",
            "Epoch 54/100\n",
            "998/998 [==============================] - 3s 3ms/step - loss: 0.0193 - mape: 1714.7567 - val_loss: 0.0193 - val_mape: 3408.1741\n",
            "Epoch 55/100\n",
            "998/998 [==============================] - 3s 3ms/step - loss: 0.0192 - mape: 1709.4772 - val_loss: 0.0192 - val_mape: 3496.4431\n",
            "Epoch 56/100\n",
            "998/998 [==============================] - 3s 3ms/step - loss: 0.0192 - mape: 1716.2966 - val_loss: 0.0193 - val_mape: 3799.7744\n",
            "Epoch 57/100\n",
            "998/998 [==============================] - 3s 3ms/step - loss: 0.0192 - mape: 1724.0591 - val_loss: 0.0191 - val_mape: 3448.0771\n",
            "Epoch 58/100\n",
            "998/998 [==============================] - 3s 3ms/step - loss: 0.0191 - mape: 1735.8352 - val_loss: 0.0191 - val_mape: 3452.0601\n",
            "Epoch 59/100\n",
            "998/998 [==============================] - 3s 3ms/step - loss: 0.0191 - mape: 1744.8573 - val_loss: 0.0192 - val_mape: 3485.6533\n",
            "Epoch 60/100\n",
            "998/998 [==============================] - 3s 3ms/step - loss: 0.0190 - mape: 1741.9556 - val_loss: 0.0191 - val_mape: 3360.1113\n",
            "Epoch 61/100\n",
            "998/998 [==============================] - 3s 3ms/step - loss: 0.0190 - mape: 1752.1425 - val_loss: 0.0190 - val_mape: 3438.8318\n",
            "Epoch 62/100\n",
            "998/998 [==============================] - 3s 3ms/step - loss: 0.0189 - mape: 1759.9275 - val_loss: 0.0190 - val_mape: 3751.4199\n",
            "Epoch 63/100\n",
            "998/998 [==============================] - 3s 3ms/step - loss: 0.0189 - mape: 1767.4856 - val_loss: 0.0190 - val_mape: 3420.9939\n",
            "Epoch 64/100\n",
            "998/998 [==============================] - 3s 3ms/step - loss: 0.0188 - mape: 1757.9832 - val_loss: 0.0189 - val_mape: 3346.6611\n",
            "Epoch 65/100\n",
            "998/998 [==============================] - 3s 3ms/step - loss: 0.0188 - mape: 1772.1515 - val_loss: 0.0189 - val_mape: 3562.9927\n",
            "Epoch 66/100\n",
            "998/998 [==============================] - 3s 3ms/step - loss: 0.0188 - mape: 1784.0439 - val_loss: 0.0188 - val_mape: 3317.7419\n",
            "Epoch 67/100\n",
            "998/998 [==============================] - 3s 3ms/step - loss: 0.0187 - mape: 1783.8490 - val_loss: 0.0187 - val_mape: 3401.1409\n",
            "Epoch 68/100\n",
            "998/998 [==============================] - 3s 3ms/step - loss: 0.0187 - mape: 1784.2511 - val_loss: 0.0188 - val_mape: 3292.1929\n",
            "Epoch 69/100\n",
            "998/998 [==============================] - 3s 3ms/step - loss: 0.0187 - mape: 1783.5649 - val_loss: 0.0187 - val_mape: 3267.0872\n",
            "Epoch 70/100\n",
            "998/998 [==============================] - 3s 3ms/step - loss: 0.0187 - mape: 1796.4362 - val_loss: 0.0187 - val_mape: 3467.9519\n",
            "Epoch 71/100\n",
            "998/998 [==============================] - 3s 3ms/step - loss: 0.0187 - mape: 1795.2970 - val_loss: 0.0187 - val_mape: 3542.2617\n",
            "Epoch 72/100\n",
            "998/998 [==============================] - 3s 3ms/step - loss: 0.0186 - mape: 1792.9419 - val_loss: 0.0187 - val_mape: 3466.9312\n",
            "Epoch 73/100\n",
            "998/998 [==============================] - 3s 3ms/step - loss: 0.0186 - mape: 1790.0242 - val_loss: 0.0188 - val_mape: 3466.3853\n",
            "Epoch 74/100\n",
            "998/998 [==============================] - 3s 3ms/step - loss: 0.0186 - mape: 1790.9500 - val_loss: 0.0188 - val_mape: 3600.9993\n",
            "Epoch 75/100\n",
            "998/998 [==============================] - 3s 3ms/step - loss: 0.0185 - mape: 1787.7079 - val_loss: 0.0186 - val_mape: 3454.8345\n",
            "Epoch 76/100\n",
            "998/998 [==============================] - 3s 3ms/step - loss: 0.0185 - mape: 1784.1342 - val_loss: 0.0187 - val_mape: 3416.1331\n",
            "Epoch 77/100\n",
            "998/998 [==============================] - 3s 3ms/step - loss: 0.0184 - mape: 1778.5396 - val_loss: 0.0186 - val_mape: 3159.0872\n",
            "Epoch 78/100\n",
            "998/998 [==============================] - 3s 3ms/step - loss: 0.0184 - mape: 1770.4292 - val_loss: 0.0184 - val_mape: 3366.8638\n",
            "Epoch 79/100\n",
            "998/998 [==============================] - 3s 3ms/step - loss: 0.0184 - mape: 1771.7722 - val_loss: 0.0183 - val_mape: 3223.5215\n",
            "Epoch 80/100\n",
            "998/998 [==============================] - 3s 3ms/step - loss: 0.0184 - mape: 1780.9674 - val_loss: 0.0185 - val_mape: 3380.0959\n",
            "Epoch 81/100\n",
            "998/998 [==============================] - 3s 3ms/step - loss: 0.0183 - mape: 1763.8868 - val_loss: 0.0184 - val_mape: 3267.0378\n",
            "Epoch 82/100\n",
            "998/998 [==============================] - 3s 3ms/step - loss: 0.0183 - mape: 1764.8016 - val_loss: 0.0183 - val_mape: 3350.4365\n",
            "Epoch 83/100\n",
            "998/998 [==============================] - 3s 3ms/step - loss: 0.0183 - mape: 1759.7325 - val_loss: 0.0187 - val_mape: 3330.4854\n",
            "Epoch 84/100\n",
            "998/998 [==============================] - 3s 3ms/step - loss: 0.0183 - mape: 1765.4420 - val_loss: 0.0182 - val_mape: 3323.6614\n",
            "Epoch 85/100\n",
            "998/998 [==============================] - 3s 3ms/step - loss: 0.0183 - mape: 1757.5896 - val_loss: 0.0184 - val_mape: 3227.8718\n",
            "Epoch 86/100\n",
            "998/998 [==============================] - 3s 3ms/step - loss: 0.0183 - mape: 1758.8542 - val_loss: 0.0182 - val_mape: 3230.1577\n",
            "Epoch 87/100\n",
            "998/998 [==============================] - 3s 3ms/step - loss: 0.0183 - mape: 1766.7134 - val_loss: 0.0184 - val_mape: 3444.6755\n",
            "Epoch 88/100\n",
            "998/998 [==============================] - 3s 3ms/step - loss: 0.0183 - mape: 1760.3684 - val_loss: 0.0187 - val_mape: 3130.7219\n",
            "Epoch 89/100\n",
            "998/998 [==============================] - 3s 3ms/step - loss: 0.0183 - mape: 1766.5421 - val_loss: 0.0182 - val_mape: 3371.9331\n",
            "Epoch 90/100\n",
            "998/998 [==============================] - 3s 3ms/step - loss: 0.0183 - mape: 1761.3979 - val_loss: 0.0185 - val_mape: 3354.6804\n",
            "Epoch 91/100\n",
            "998/998 [==============================] - 3s 3ms/step - loss: 0.0183 - mape: 1757.1740 - val_loss: 0.0182 - val_mape: 3340.0024\n",
            "Epoch 92/100\n",
            "998/998 [==============================] - 3s 3ms/step - loss: 0.0183 - mape: 1753.7338 - val_loss: 0.0182 - val_mape: 3385.9866\n",
            "Epoch 93/100\n",
            "998/998 [==============================] - 3s 3ms/step - loss: 0.0183 - mape: 1761.1853 - val_loss: 0.0183 - val_mape: 3596.2764\n",
            "Epoch 94/100\n",
            "998/998 [==============================] - 3s 3ms/step - loss: 0.0183 - mape: 1761.3995 - val_loss: 0.0182 - val_mape: 3188.1782\n",
            "Epoch 95/100\n",
            "998/998 [==============================] - 3s 3ms/step - loss: 0.0183 - mape: 1763.9319 - val_loss: 0.0183 - val_mape: 3374.5312\n",
            "Epoch 96/100\n",
            "998/998 [==============================] - 3s 3ms/step - loss: 0.0183 - mape: 1759.4098 - val_loss: 0.0182 - val_mape: 3475.2673\n",
            "Epoch 97/100\n",
            "998/998 [==============================] - 3s 3ms/step - loss: 0.0182 - mape: 1754.5530 - val_loss: 0.0183 - val_mape: 3274.0083\n",
            "Epoch 98/100\n",
            "998/998 [==============================] - 3s 3ms/step - loss: 0.0182 - mape: 1763.0947 - val_loss: 0.0183 - val_mape: 3450.8521\n",
            "Epoch 99/100\n",
            "998/998 [==============================] - 3s 3ms/step - loss: 0.0183 - mape: 1759.1644 - val_loss: 0.0183 - val_mape: 3190.1577\n",
            "Epoch 100/100\n",
            "998/998 [==============================] - 3s 3ms/step - loss: 0.0182 - mape: 1758.0092 - val_loss: 0.0182 - val_mape: 3393.7751\n"
          ]
        }
      ],
      "source": [
        "model = Sequential()\n",
        "model.add(Dense(15, activation='relu', input_dim=feature_count))\n",
        "model.add(Dense(5, activation='relu'))\n",
        "model.add(Dense(15, activation='relu'))\n",
        "# model.add(Dense(feature_count, activation='sigmoid'))\n",
        "model.add(Dense(feature_count))\n",
        "\n",
        "model.compile(optimizer='Adam', loss='mae', metrics=[\"mape\"])\n",
        "\n",
        "hist = model.fit(train_x, train_x, epochs=100, batch_size=256, validation_split=0.1)"
      ]
    },
    {
      "cell_type": "code",
      "execution_count": 82,
      "metadata": {
        "id": "1C3rJbWR-FNn",
        "colab": {
          "base_uri": "https://localhost:8080/",
          "height": 265
        },
        "outputId": "fbed23d9-acfe-458d-b72e-62f9dd892873"
      },
      "outputs": [
        {
          "output_type": "display_data",
          "data": {
            "image/png": "[encoded data removed]",
            "text/plain": [
              "<Figure size 432x288 with 1 Axes>"
            ]
          },
          "metadata": {
            "needs_background": "light"
          }
        }
      ],
      "source": [
        "plt.plot(hist.history['loss'][10:])\n",
        "plt.plot(hist.history['val_loss'][10:])\n",
        "plt.show()"
      ]
    },
    {
      "cell_type": "code",
      "source": [
        "from tensorflow.keras.callbacks import EarlyStopping\n",
        "early_stopping = EarlyStopping(\n",
        "    monitor='val_loss',\n",
        "    verbose=1,\n",
        "    patience=50)  \n",
        "\n",
        "hist = model.fit(train_x, train_x, epochs=400, batch_size=256, validation_split=0.1, callbacks=[early_stopping])"
      ],
      "metadata": {
        "colab": {
          "base_uri": "https://localhost:8080/"
        },
        "id": "PLLoczz2JDH6",
        "outputId": "a9ed5d85-93e8-4941-c6c9-244594559bcc"
      },
      "execution_count": 83,
      "outputs": [
        {
          "output_type": "stream",
          "name": "stdout",
          "text": [
            "Epoch 1/400\n",
            "998/998 [==============================] - 3s 3ms/step - loss: 0.0183 - mape: 1757.0599 - val_loss: 0.0184 - val_mape: 3306.8098\n",
            "Epoch 2/400\n",
            "998/998 [==============================] - 3s 3ms/step - loss: 0.0182 - mape: 1763.1544 - val_loss: 0.0184 - val_mape: 3360.9009\n",
            "Epoch 3/400\n",
            "998/998 [==============================] - 3s 3ms/step - loss: 0.0183 - mape: 1764.4191 - val_loss: 0.0184 - val_mape: 3473.7314\n",
            "Epoch 4/400\n",
            "998/998 [==============================] - 3s 3ms/step - loss: 0.0183 - mape: 1758.9261 - val_loss: 0.0183 - val_mape: 3337.8521\n",
            "Epoch 5/400\n",
            "998/998 [==============================] - 3s 3ms/step - loss: 0.0183 - mape: 1760.1036 - val_loss: 0.0183 - val_mape: 3469.2849\n",
            "Epoch 6/400\n",
            "998/998 [==============================] - 3s 3ms/step - loss: 0.0182 - mape: 1761.9994 - val_loss: 0.0184 - val_mape: 3304.5024\n",
            "Epoch 7/400\n",
            "998/998 [==============================] - 3s 3ms/step - loss: 0.0183 - mape: 1753.8011 - val_loss: 0.0183 - val_mape: 3389.9275\n",
            "Epoch 8/400\n",
            "998/998 [==============================] - 3s 3ms/step - loss: 0.0182 - mape: 1763.3423 - val_loss: 0.0184 - val_mape: 3183.8569\n",
            "Epoch 9/400\n",
            "998/998 [==============================] - 3s 3ms/step - loss: 0.0183 - mape: 1758.3055 - val_loss: 0.0182 - val_mape: 3257.9543\n",
            "Epoch 10/400\n",
            "998/998 [==============================] - 3s 3ms/step - loss: 0.0182 - mape: 1759.7229 - val_loss: 0.0188 - val_mape: 3370.9700\n",
            "Epoch 11/400\n",
            "998/998 [==============================] - 3s 3ms/step - loss: 0.0183 - mape: 1760.4874 - val_loss: 0.0184 - val_mape: 3319.3262\n",
            "Epoch 12/400\n",
            "998/998 [==============================] - 3s 3ms/step - loss: 0.0183 - mape: 1757.7069 - val_loss: 0.0182 - val_mape: 3149.9932\n",
            "Epoch 13/400\n",
            "998/998 [==============================] - 3s 3ms/step - loss: 0.0182 - mape: 1762.0624 - val_loss: 0.0182 - val_mape: 3333.0613\n",
            "Epoch 14/400\n",
            "998/998 [==============================] - 3s 3ms/step - loss: 0.0183 - mape: 1761.5959 - val_loss: 0.0182 - val_mape: 3403.9265\n",
            "Epoch 15/400\n",
            "998/998 [==============================] - 3s 3ms/step - loss: 0.0182 - mape: 1760.1433 - val_loss: 0.0182 - val_mape: 3393.9175\n",
            "Epoch 16/400\n",
            "998/998 [==============================] - 3s 3ms/step - loss: 0.0182 - mape: 1770.5415 - val_loss: 0.0181 - val_mape: 3164.0386\n",
            "Epoch 17/400\n",
            "998/998 [==============================] - 3s 3ms/step - loss: 0.0182 - mape: 1760.1752 - val_loss: 0.0183 - val_mape: 3295.0081\n",
            "Epoch 18/400\n",
            "998/998 [==============================] - 3s 3ms/step - loss: 0.0182 - mape: 1764.3954 - val_loss: 0.0182 - val_mape: 3399.3635\n",
            "Epoch 19/400\n",
            "998/998 [==============================] - 3s 3ms/step - loss: 0.0182 - mape: 1764.4354 - val_loss: 0.0186 - val_mape: 3395.0767\n",
            "Epoch 20/400\n",
            "998/998 [==============================] - 3s 3ms/step - loss: 0.0183 - mape: 1763.7544 - val_loss: 0.0183 - val_mape: 3333.8496\n",
            "Epoch 21/400\n",
            "998/998 [==============================] - 3s 3ms/step - loss: 0.0182 - mape: 1762.0107 - val_loss: 0.0184 - val_mape: 3409.6384\n",
            "Epoch 22/400\n",
            "998/998 [==============================] - 3s 3ms/step - loss: 0.0182 - mape: 1767.7932 - val_loss: 0.0181 - val_mape: 3461.0437\n",
            "Epoch 23/400\n",
            "998/998 [==============================] - 3s 3ms/step - loss: 0.0183 - mape: 1764.8723 - val_loss: 0.0183 - val_mape: 3351.3137\n",
            "Epoch 24/400\n",
            "998/998 [==============================] - 3s 3ms/step - loss: 0.0182 - mape: 1759.6992 - val_loss: 0.0186 - val_mape: 3320.0698\n",
            "Epoch 25/400\n",
            "998/998 [==============================] - 3s 3ms/step - loss: 0.0182 - mape: 1760.9451 - val_loss: 0.0182 - val_mape: 3233.7986\n",
            "Epoch 26/400\n",
            "998/998 [==============================] - 3s 3ms/step - loss: 0.0182 - mape: 1761.4822 - val_loss: 0.0184 - val_mape: 3328.6455\n",
            "Epoch 27/400\n",
            "998/998 [==============================] - 3s 3ms/step - loss: 0.0182 - mape: 1767.3667 - val_loss: 0.0184 - val_mape: 3441.3994\n",
            "Epoch 28/400\n",
            "998/998 [==============================] - 3s 3ms/step - loss: 0.0182 - mape: 1761.3110 - val_loss: 0.0182 - val_mape: 3550.0205\n",
            "Epoch 29/400\n",
            "998/998 [==============================] - 3s 3ms/step - loss: 0.0183 - mape: 1765.1600 - val_loss: 0.0182 - val_mape: 3299.4338\n",
            "Epoch 30/400\n",
            "998/998 [==============================] - 3s 3ms/step - loss: 0.0183 - mape: 1766.4639 - val_loss: 0.0183 - val_mape: 3315.4543\n",
            "Epoch 31/400\n",
            "998/998 [==============================] - 3s 3ms/step - loss: 0.0182 - mape: 1765.8353 - val_loss: 0.0184 - val_mape: 3152.7578\n",
            "Epoch 32/400\n",
            "998/998 [==============================] - 3s 3ms/step - loss: 0.0182 - mape: 1765.2294 - val_loss: 0.0185 - val_mape: 3528.0806\n",
            "Epoch 33/400\n",
            "998/998 [==============================] - 3s 3ms/step - loss: 0.0182 - mape: 1770.4620 - val_loss: 0.0182 - val_mape: 3288.2280\n",
            "Epoch 34/400\n",
            "998/998 [==============================] - 3s 3ms/step - loss: 0.0182 - mape: 1764.7472 - val_loss: 0.0181 - val_mape: 3330.9558\n",
            "Epoch 35/400\n",
            "998/998 [==============================] - 3s 3ms/step - loss: 0.0182 - mape: 1767.7803 - val_loss: 0.0184 - val_mape: 3412.8367\n",
            "Epoch 36/400\n",
            "998/998 [==============================] - 3s 3ms/step - loss: 0.0183 - mape: 1773.1204 - val_loss: 0.0184 - val_mape: 3444.7466\n",
            "Epoch 37/400\n",
            "998/998 [==============================] - 3s 3ms/step - loss: 0.0182 - mape: 1764.9418 - val_loss: 0.0183 - val_mape: 3353.4248\n",
            "Epoch 38/400\n",
            "998/998 [==============================] - 3s 3ms/step - loss: 0.0182 - mape: 1769.4185 - val_loss: 0.0183 - val_mape: 3551.9233\n",
            "Epoch 39/400\n",
            "998/998 [==============================] - 3s 3ms/step - loss: 0.0182 - mape: 1764.1936 - val_loss: 0.0183 - val_mape: 3651.3398\n",
            "Epoch 40/400\n",
            "998/998 [==============================] - 3s 3ms/step - loss: 0.0183 - mape: 1763.0325 - val_loss: 0.0182 - val_mape: 3337.5283\n",
            "Epoch 41/400\n",
            "998/998 [==============================] - 3s 3ms/step - loss: 0.0182 - mape: 1763.8627 - val_loss: 0.0183 - val_mape: 3308.8933\n",
            "Epoch 42/400\n",
            "998/998 [==============================] - 3s 3ms/step - loss: 0.0182 - mape: 1765.4446 - val_loss: 0.0184 - val_mape: 3359.8027\n",
            "Epoch 43/400\n",
            "998/998 [==============================] - 3s 3ms/step - loss: 0.0182 - mape: 1765.3557 - val_loss: 0.0185 - val_mape: 3360.9438\n",
            "Epoch 44/400\n",
            "998/998 [==============================] - 3s 3ms/step - loss: 0.0182 - mape: 1767.9900 - val_loss: 0.0183 - val_mape: 3402.4956\n",
            "Epoch 45/400\n",
            "998/998 [==============================] - 3s 3ms/step - loss: 0.0182 - mape: 1768.8733 - val_loss: 0.0182 - val_mape: 3235.0032\n",
            "Epoch 46/400\n",
            "998/998 [==============================] - 3s 3ms/step - loss: 0.0182 - mape: 1765.6785 - val_loss: 0.0182 - val_mape: 3346.3667\n",
            "Epoch 47/400\n",
            "998/998 [==============================] - 3s 3ms/step - loss: 0.0182 - mape: 1767.2589 - val_loss: 0.0183 - val_mape: 3467.3730\n",
            "Epoch 48/400\n",
            "998/998 [==============================] - 3s 3ms/step - loss: 0.0182 - mape: 1762.1735 - val_loss: 0.0183 - val_mape: 3276.3806\n",
            "Epoch 49/400\n",
            "998/998 [==============================] - 3s 3ms/step - loss: 0.0182 - mape: 1770.7427 - val_loss: 0.0183 - val_mape: 3265.4175\n",
            "Epoch 50/400\n",
            "998/998 [==============================] - 3s 3ms/step - loss: 0.0182 - mape: 1763.8074 - val_loss: 0.0185 - val_mape: 3301.5212\n",
            "Epoch 51/400\n",
            "998/998 [==============================] - 3s 3ms/step - loss: 0.0182 - mape: 1770.0999 - val_loss: 0.0181 - val_mape: 3445.5547\n",
            "Epoch 52/400\n",
            "998/998 [==============================] - 3s 3ms/step - loss: 0.0182 - mape: 1765.4038 - val_loss: 0.0186 - val_mape: 3555.9062\n",
            "Epoch 53/400\n",
            "998/998 [==============================] - 3s 3ms/step - loss: 0.0182 - mape: 1768.8123 - val_loss: 0.0182 - val_mape: 3397.6084\n",
            "Epoch 54/400\n",
            "998/998 [==============================] - 3s 3ms/step - loss: 0.0182 - mape: 1766.0563 - val_loss: 0.0182 - val_mape: 3328.9170\n",
            "Epoch 55/400\n",
            "998/998 [==============================] - 3s 3ms/step - loss: 0.0182 - mape: 1765.6981 - val_loss: 0.0184 - val_mape: 3396.1030\n",
            "Epoch 56/400\n",
            "998/998 [==============================] - 3s 3ms/step - loss: 0.0182 - mape: 1768.9568 - val_loss: 0.0182 - val_mape: 3462.7095\n",
            "Epoch 57/400\n",
            "998/998 [==============================] - 3s 3ms/step - loss: 0.0182 - mape: 1769.1967 - val_loss: 0.0184 - val_mape: 3259.5315\n",
            "Epoch 58/400\n",
            "998/998 [==============================] - 3s 3ms/step - loss: 0.0182 - mape: 1768.8298 - val_loss: 0.0182 - val_mape: 3301.2761\n",
            "Epoch 59/400\n",
            "998/998 [==============================] - 3s 3ms/step - loss: 0.0182 - mape: 1764.9812 - val_loss: 0.0183 - val_mape: 3486.5701\n",
            "Epoch 60/400\n",
            "998/998 [==============================] - 3s 3ms/step - loss: 0.0182 - mape: 1769.4279 - val_loss: 0.0184 - val_mape: 3320.5559\n",
            "Epoch 61/400\n",
            "998/998 [==============================] - 3s 3ms/step - loss: 0.0182 - mape: 1769.5583 - val_loss: 0.0182 - val_mape: 3639.7385\n",
            "Epoch 62/400\n",
            "998/998 [==============================] - 3s 3ms/step - loss: 0.0182 - mape: 1766.9102 - val_loss: 0.0185 - val_mape: 3316.6572\n",
            "Epoch 63/400\n",
            "998/998 [==============================] - 3s 3ms/step - loss: 0.0182 - mape: 1773.6166 - val_loss: 0.0182 - val_mape: 3380.4092\n",
            "Epoch 64/400\n",
            "998/998 [==============================] - 3s 3ms/step - loss: 0.0182 - mape: 1767.1801 - val_loss: 0.0181 - val_mape: 3319.0281\n",
            "Epoch 65/400\n",
            "998/998 [==============================] - 3s 3ms/step - loss: 0.0182 - mape: 1775.7153 - val_loss: 0.0184 - val_mape: 3369.1277\n",
            "Epoch 66/400\n",
            "998/998 [==============================] - 3s 3ms/step - loss: 0.0182 - mape: 1770.8511 - val_loss: 0.0182 - val_mape: 3575.2761\n",
            "Epoch 67/400\n",
            "998/998 [==============================] - 3s 3ms/step - loss: 0.0182 - mape: 1771.7654 - val_loss: 0.0182 - val_mape: 3322.8545\n",
            "Epoch 68/400\n",
            "998/998 [==============================] - 3s 3ms/step - loss: 0.0182 - mape: 1765.3347 - val_loss: 0.0182 - val_mape: 3231.3674\n",
            "Epoch 69/400\n",
            "998/998 [==============================] - 3s 3ms/step - loss: 0.0182 - mape: 1769.9025 - val_loss: 0.0182 - val_mape: 3274.3586\n",
            "Epoch 70/400\n",
            "998/998 [==============================] - 3s 3ms/step - loss: 0.0182 - mape: 1773.7236 - val_loss: 0.0185 - val_mape: 3197.1975\n",
            "Epoch 71/400\n",
            "998/998 [==============================] - 3s 3ms/step - loss: 0.0182 - mape: 1766.3109 - val_loss: 0.0185 - val_mape: 3369.0894\n",
            "Epoch 72/400\n",
            "998/998 [==============================] - 3s 3ms/step - loss: 0.0182 - mape: 1774.4792 - val_loss: 0.0182 - val_mape: 3291.5977\n",
            "Epoch 73/400\n",
            "998/998 [==============================] - 3s 3ms/step - loss: 0.0182 - mape: 1771.1541 - val_loss: 0.0182 - val_mape: 3263.2373\n",
            "Epoch 74/400\n",
            "998/998 [==============================] - 3s 3ms/step - loss: 0.0182 - mape: 1773.7533 - val_loss: 0.0183 - val_mape: 3263.6887\n",
            "Epoch 75/400\n",
            "998/998 [==============================] - 3s 3ms/step - loss: 0.0182 - mape: 1769.5610 - val_loss: 0.0183 - val_mape: 3384.0288\n",
            "Epoch 76/400\n",
            "998/998 [==============================] - 3s 3ms/step - loss: 0.0182 - mape: 1770.9785 - val_loss: 0.0182 - val_mape: 3268.8716\n",
            "Epoch 77/400\n",
            "998/998 [==============================] - 3s 3ms/step - loss: 0.0182 - mape: 1773.5293 - val_loss: 0.0182 - val_mape: 3275.7222\n",
            "Epoch 78/400\n",
            "998/998 [==============================] - 3s 3ms/step - loss: 0.0182 - mape: 1769.9213 - val_loss: 0.0184 - val_mape: 3398.6780\n",
            "Epoch 79/400\n",
            "998/998 [==============================] - 3s 3ms/step - loss: 0.0182 - mape: 1775.7665 - val_loss: 0.0184 - val_mape: 3193.5813\n",
            "Epoch 80/400\n",
            "998/998 [==============================] - 3s 3ms/step - loss: 0.0182 - mape: 1775.6241 - val_loss: 0.0185 - val_mape: 3427.3655\n",
            "Epoch 81/400\n",
            "998/998 [==============================] - 3s 3ms/step - loss: 0.0182 - mape: 1776.4467 - val_loss: 0.0182 - val_mape: 3482.4741\n",
            "Epoch 82/400\n",
            "998/998 [==============================] - 3s 3ms/step - loss: 0.0182 - mape: 1772.9375 - val_loss: 0.0183 - val_mape: 3357.5225\n",
            "Epoch 83/400\n",
            "998/998 [==============================] - 3s 3ms/step - loss: 0.0182 - mape: 1776.0006 - val_loss: 0.0182 - val_mape: 3163.2505\n",
            "Epoch 84/400\n",
            "998/998 [==============================] - 3s 3ms/step - loss: 0.0182 - mape: 1770.1649 - val_loss: 0.0182 - val_mape: 3235.5959\n",
            "Epoch 00084: early stopping\n"
          ]
        }
      ]
    },
    {
      "cell_type": "code",
      "source": [
        "plt.plot(hist.history['loss'])\n",
        "plt.plot(hist.history['val_loss'])\n",
        "plt.show()"
      ],
      "metadata": {
        "colab": {
          "base_uri": "https://localhost:8080/",
          "height": 267
        },
        "id": "p3_Gw1IAJaAw",
        "outputId": "525bb7e4-62ad-44c7-ddce-6f29a4cbc082"
      },
      "execution_count": 84,
      "outputs": [
        {
          "output_type": "display_data",
          "data": {
            "image/png": "[encoded data removed]",
            "text/plain": [
              "<Figure size 432x288 with 1 Axes>"
            ]
          },
          "metadata": {
            "needs_background": "light"
          }
        }
      ]
    },
    {
      "cell_type": "markdown",
      "source": [
        "# 탐지 실행"
      ],
      "metadata": {
        "id": "BV924dHvYvP-"
      }
    },
    {
      "cell_type": "markdown",
      "source": [
        "## threshold 구하기"
      ],
      "metadata": {
        "id": "SPcqhxyQYyWp"
      }
    },
    {
      "cell_type": "code",
      "source": [
        "reconstructed = model.predict(train_x)\n",
        "\n",
        "train_mae = np.mean(np.abs(reconstructed - train_x), axis=-1)\n",
        "print(train_mae)"
      ],
      "metadata": {
        "colab": {
          "base_uri": "https://localhost:8080/"
        },
        "id": "Xt6pFJzIM0aA",
        "outputId": "83f09410-bb06-4075-8f6a-e2f8ab75bbff"
      },
      "execution_count": 131,
      "outputs": [
        {
          "output_type": "stream",
          "name": "stdout",
          "text": [
            "[0.00952263 0.01307626 0.01498238 ... 0.01186145 0.02097372 0.02569357]\n"
          ]
        }
      ]
    },
    {
      "cell_type": "code",
      "source": [
        "plt.hist(train_mae, bins=1000)\n",
        "plt.show()"
      ],
      "metadata": {
        "colab": {
          "base_uri": "https://localhost:8080/",
          "height": 265
        },
        "id": "dAmJYj_CTHKn",
        "outputId": "bb568246-c3a0-4ddc-8bc8-60cdfbccbfc7"
      },
      "execution_count": 132,
      "outputs": [
        {
          "output_type": "display_data",
          "data": {
            "image/png": "[encoded data removed]",
            "text/plain": [
              "<Figure size 432x288 with 1 Axes>"
            ]
          },
          "metadata": {
            "needs_background": "light"
          }
        }
      ]
    },
    {
      "cell_type": "code",
      "source": [
        "sorted_mae = np.sort(train_mae)\n",
        "threshold_index = int(len(sorted_mae)*0.99)\n",
        "threshold = sorted_mae[threshold_index]\n",
        "\n",
        "print(threshold)"
      ],
      "metadata": {
        "colab": {
          "base_uri": "https://localhost:8080/"
        },
        "id": "ntRL-Og3TMXK",
        "outputId": "780f5b9a-56f0-46e9-9799-c2fe4796006a"
      },
      "execution_count": 133,
      "outputs": [
        {
          "output_type": "stream",
          "name": "stdout",
          "text": [
            "0.042472197176932326\n"
          ]
        }
      ]
    },
    {
      "cell_type": "markdown",
      "source": [
        "## 테스트 데이터 모델 예측"
      ],
      "metadata": {
        "id": "44qsiYB4Y1Xc"
      }
    },
    {
      "cell_type": "code",
      "source": [
        "reconstructed = model.predict(test_x)\n",
        "test_mae = np.mean(np.abs(reconstructed - test_x), axis=-1)\n",
        "\n",
        "half_index = int(len(test_mae)*0.5)\n",
        "plt.hist(test_mae[:half_index], bins=100, alpha=0.5)\n",
        "plt.hist(test_mae[half_index:], bins=100, alpha=0.5)\n",
        "plt.show()"
      ],
      "metadata": {
        "id": "1I0yZv8BYre4"
      },
      "execution_count": null,
      "outputs": []
    },
    {
      "cell_type": "code",
      "source": [
        "predicted = (mae > threshold).astype(np.int)\n",
        "\n",
        "n = len(test_data)\n",
        "accuracy = (predicted == test_y).sum() / n\n",
        "\n",
        "print(\"accuracy=\", accuracy)"
      ],
      "metadata": {
        "colab": {
          "base_uri": "https://localhost:8080/"
        },
        "id": "FxNEyhnhTirA",
        "outputId": "ecc7f589-a520-4cab-f5eb-82ebaafb8c5d"
      },
      "execution_count": 145,
      "outputs": [
        {
          "output_type": "stream",
          "name": "stdout",
          "text": [
            "accuracy= 0.8984771573604061\n"
          ]
        }
      ]
    },
    {
      "cell_type": "code",
      "source": [
        "half_index = int(len(test_mae)*0.5)\n",
        "plt.hist(test_mae[:half_index], bins=100, alpha=0.5)\n",
        "plt.hist(test_mae[half_index:], bins=100, alpha=0.5)\n",
        "plt.show()"
      ],
      "metadata": {
        "colab": {
          "base_uri": "https://localhost:8080/",
          "height": 265
        },
        "id": "0-retrZ9Uwda",
        "outputId": "a4adbb1c-90c1-464f-d58b-9bf440c97881"
      },
      "execution_count": 147,
      "outputs": [
        {
          "output_type": "display_data",
          "data": {
            "image/png": "[encoded data removed]",
            "text/plain": [
              "<Figure size 432x288 with 1 Axes>"
            ]
          },
          "metadata": {
            "needs_background": "light"
          }
        }
      ]
    },
    {
      "cell_type": "markdown",
      "source": [
        "# 학습 더 시도"
      ],
      "metadata": {
        "id": "UsAmktlZYlZ9"
      }
    },
    {
      "cell_type": "code",
      "source": [
        "from tensorflow.keras.callbacks import EarlyStopping\n",
        "early_stopping = EarlyStopping(\n",
        "    monitor='val_loss',\n",
        "    verbose=1,\n",
        "    patience=50)  \n",
        "\n",
        "hist = model.fit(train_x, train_x, epochs=400, batch_size=256, validation_split=0.1, callbacks=[early_stopping])"
      ],
      "metadata": {
        "colab": {
          "base_uri": "https://localhost:8080/"
        },
        "id": "sz_TVnXLWvFC",
        "outputId": "57a672f2-28ed-4e52-ab19-6f5f4e5f6922"
      },
      "execution_count": 148,
      "outputs": [
        {
          "output_type": "stream",
          "name": "stdout",
          "text": [
            "Epoch 1/400\n",
            "998/998 [==============================] - 3s 3ms/step - loss: 0.0182 - mape: 1773.0095 - val_loss: 0.0182 - val_mape: 3299.1763\n",
            "Epoch 2/400\n",
            "998/998 [==============================] - 3s 3ms/step - loss: 0.0182 - mape: 1770.8916 - val_loss: 0.0184 - val_mape: 3402.2974\n",
            "Epoch 3/400\n",
            "998/998 [==============================] - 3s 3ms/step - loss: 0.0182 - mape: 1770.5490 - val_loss: 0.0182 - val_mape: 3423.0112\n",
            "Epoch 4/400\n",
            "998/998 [==============================] - 3s 3ms/step - loss: 0.0182 - mape: 1772.1532 - val_loss: 0.0182 - val_mape: 3291.9944\n",
            "Epoch 5/400\n",
            "998/998 [==============================] - 3s 3ms/step - loss: 0.0182 - mape: 1773.3992 - val_loss: 0.0181 - val_mape: 3504.3325\n",
            "Epoch 6/400\n",
            "998/998 [==============================] - 3s 3ms/step - loss: 0.0182 - mape: 1775.3140 - val_loss: 0.0183 - val_mape: 3519.0635\n",
            "Epoch 7/400\n",
            "998/998 [==============================] - 3s 3ms/step - loss: 0.0182 - mape: 1776.4575 - val_loss: 0.0182 - val_mape: 3314.2515\n",
            "Epoch 8/400\n",
            "998/998 [==============================] - 3s 3ms/step - loss: 0.0182 - mape: 1775.3727 - val_loss: 0.0182 - val_mape: 3423.3914\n",
            "Epoch 9/400\n",
            "998/998 [==============================] - 3s 3ms/step - loss: 0.0182 - mape: 1774.3185 - val_loss: 0.0183 - val_mape: 3401.8237\n",
            "Epoch 10/400\n",
            "998/998 [==============================] - 3s 3ms/step - loss: 0.0182 - mape: 1770.2615 - val_loss: 0.0182 - val_mape: 3310.1636\n",
            "Epoch 11/400\n",
            "998/998 [==============================] - 3s 3ms/step - loss: 0.0182 - mape: 1772.0967 - val_loss: 0.0184 - val_mape: 3351.9998\n",
            "Epoch 12/400\n",
            "998/998 [==============================] - 3s 3ms/step - loss: 0.0182 - mape: 1773.4918 - val_loss: 0.0182 - val_mape: 3387.2002\n",
            "Epoch 13/400\n",
            "998/998 [==============================] - 3s 3ms/step - loss: 0.0182 - mape: 1783.4368 - val_loss: 0.0184 - val_mape: 3289.3398\n",
            "Epoch 14/400\n",
            "998/998 [==============================] - 3s 3ms/step - loss: 0.0182 - mape: 1772.9275 - val_loss: 0.0183 - val_mape: 3419.6707\n",
            "Epoch 15/400\n",
            "998/998 [==============================] - 3s 3ms/step - loss: 0.0182 - mape: 1771.7086 - val_loss: 0.0183 - val_mape: 3365.3435\n",
            "Epoch 16/400\n",
            "998/998 [==============================] - 3s 3ms/step - loss: 0.0182 - mape: 1773.3262 - val_loss: 0.0182 - val_mape: 3346.8271\n",
            "Epoch 17/400\n",
            "998/998 [==============================] - 3s 3ms/step - loss: 0.0182 - mape: 1774.6073 - val_loss: 0.0183 - val_mape: 3296.3679\n",
            "Epoch 18/400\n",
            "998/998 [==============================] - 3s 3ms/step - loss: 0.0182 - mape: 1770.1851 - val_loss: 0.0182 - val_mape: 3212.8120\n",
            "Epoch 19/400\n",
            "998/998 [==============================] - 3s 3ms/step - loss: 0.0182 - mape: 1775.5414 - val_loss: 0.0183 - val_mape: 3299.9246\n",
            "Epoch 20/400\n",
            "998/998 [==============================] - 3s 3ms/step - loss: 0.0182 - mape: 1774.3956 - val_loss: 0.0183 - val_mape: 3270.3477\n",
            "Epoch 21/400\n",
            "998/998 [==============================] - 3s 3ms/step - loss: 0.0182 - mape: 1774.4164 - val_loss: 0.0182 - val_mape: 3321.7959\n",
            "Epoch 22/400\n",
            "998/998 [==============================] - 3s 3ms/step - loss: 0.0182 - mape: 1775.4476 - val_loss: 0.0182 - val_mape: 3374.1094\n",
            "Epoch 23/400\n",
            "998/998 [==============================] - 3s 3ms/step - loss: 0.0182 - mape: 1775.7372 - val_loss: 0.0182 - val_mape: 3362.1001\n",
            "Epoch 24/400\n",
            "998/998 [==============================] - 3s 3ms/step - loss: 0.0182 - mape: 1775.3563 - val_loss: 0.0183 - val_mape: 3440.9993\n",
            "Epoch 25/400\n",
            "998/998 [==============================] - 3s 3ms/step - loss: 0.0182 - mape: 1773.9220 - val_loss: 0.0182 - val_mape: 3293.5320\n",
            "Epoch 26/400\n",
            "998/998 [==============================] - 3s 3ms/step - loss: 0.0182 - mape: 1775.2524 - val_loss: 0.0184 - val_mape: 3323.1245\n",
            "Epoch 27/400\n",
            "998/998 [==============================] - 3s 3ms/step - loss: 0.0182 - mape: 1774.6305 - val_loss: 0.0183 - val_mape: 3221.3782\n",
            "Epoch 28/400\n",
            "998/998 [==============================] - 3s 3ms/step - loss: 0.0182 - mape: 1772.6647 - val_loss: 0.0183 - val_mape: 3395.7781\n",
            "Epoch 29/400\n",
            "998/998 [==============================] - 3s 3ms/step - loss: 0.0182 - mape: 1780.0933 - val_loss: 0.0182 - val_mape: 3410.1379\n",
            "Epoch 30/400\n",
            "998/998 [==============================] - 3s 3ms/step - loss: 0.0182 - mape: 1774.1885 - val_loss: 0.0181 - val_mape: 3259.9915\n",
            "Epoch 31/400\n",
            "998/998 [==============================] - 3s 3ms/step - loss: 0.0182 - mape: 1776.0862 - val_loss: 0.0182 - val_mape: 3420.4043\n",
            "Epoch 32/400\n",
            "998/998 [==============================] - 3s 3ms/step - loss: 0.0182 - mape: 1777.6798 - val_loss: 0.0181 - val_mape: 3330.1511\n",
            "Epoch 33/400\n",
            "998/998 [==============================] - 3s 3ms/step - loss: 0.0182 - mape: 1777.2468 - val_loss: 0.0183 - val_mape: 3139.2053\n",
            "Epoch 34/400\n",
            "998/998 [==============================] - 3s 3ms/step - loss: 0.0182 - mape: 1779.6110 - val_loss: 0.0182 - val_mape: 3409.0710\n",
            "Epoch 35/400\n",
            "998/998 [==============================] - 3s 3ms/step - loss: 0.0182 - mape: 1775.4158 - val_loss: 0.0183 - val_mape: 3313.4270\n",
            "Epoch 36/400\n",
            "998/998 [==============================] - 3s 3ms/step - loss: 0.0182 - mape: 1781.5830 - val_loss: 0.0182 - val_mape: 3291.4072\n",
            "Epoch 37/400\n",
            "998/998 [==============================] - 3s 3ms/step - loss: 0.0182 - mape: 1774.5323 - val_loss: 0.0181 - val_mape: 3445.2988\n",
            "Epoch 38/400\n",
            "998/998 [==============================] - 3s 3ms/step - loss: 0.0182 - mape: 1781.3313 - val_loss: 0.0182 - val_mape: 3281.0676\n",
            "Epoch 39/400\n",
            "998/998 [==============================] - 3s 3ms/step - loss: 0.0182 - mape: 1781.9016 - val_loss: 0.0181 - val_mape: 3333.8123\n",
            "Epoch 40/400\n",
            "998/998 [==============================] - 3s 3ms/step - loss: 0.0182 - mape: 1783.4064 - val_loss: 0.0182 - val_mape: 3360.0925\n",
            "Epoch 41/400\n",
            "998/998 [==============================] - 3s 3ms/step - loss: 0.0182 - mape: 1785.7944 - val_loss: 0.0181 - val_mape: 3317.3440\n",
            "Epoch 42/400\n",
            "998/998 [==============================] - 3s 3ms/step - loss: 0.0182 - mape: 1779.7849 - val_loss: 0.0182 - val_mape: 3293.2739\n",
            "Epoch 43/400\n",
            "998/998 [==============================] - 3s 3ms/step - loss: 0.0182 - mape: 1783.2847 - val_loss: 0.0183 - val_mape: 3392.9319\n",
            "Epoch 44/400\n",
            "998/998 [==============================] - 3s 3ms/step - loss: 0.0182 - mape: 1777.3064 - val_loss: 0.0181 - val_mape: 3290.7600\n",
            "Epoch 45/400\n",
            "998/998 [==============================] - 3s 3ms/step - loss: 0.0182 - mape: 1781.7190 - val_loss: 0.0183 - val_mape: 3485.3704\n",
            "Epoch 46/400\n",
            "998/998 [==============================] - 3s 3ms/step - loss: 0.0182 - mape: 1777.7208 - val_loss: 0.0183 - val_mape: 3280.9177\n",
            "Epoch 47/400\n",
            "998/998 [==============================] - 3s 3ms/step - loss: 0.0182 - mape: 1782.7058 - val_loss: 0.0181 - val_mape: 3353.1333\n",
            "Epoch 48/400\n",
            "998/998 [==============================] - 3s 3ms/step - loss: 0.0182 - mape: 1784.3751 - val_loss: 0.0184 - val_mape: 3270.9653\n",
            "Epoch 49/400\n",
            "998/998 [==============================] - 3s 3ms/step - loss: 0.0182 - mape: 1777.7920 - val_loss: 0.0183 - val_mape: 3287.1235\n",
            "Epoch 50/400\n",
            "998/998 [==============================] - 3s 3ms/step - loss: 0.0182 - mape: 1781.5610 - val_loss: 0.0182 - val_mape: 3396.1538\n",
            "Epoch 51/400\n",
            "998/998 [==============================] - 3s 3ms/step - loss: 0.0182 - mape: 1786.3317 - val_loss: 0.0182 - val_mape: 3407.7571\n",
            "Epoch 52/400\n",
            "998/998 [==============================] - 3s 3ms/step - loss: 0.0182 - mape: 1784.3914 - val_loss: 0.0181 - val_mape: 3268.9656\n",
            "Epoch 53/400\n",
            "998/998 [==============================] - 3s 3ms/step - loss: 0.0182 - mape: 1771.7885 - val_loss: 0.0182 - val_mape: 3422.5256\n",
            "Epoch 54/400\n",
            "998/998 [==============================] - 3s 3ms/step - loss: 0.0182 - mape: 1773.0646 - val_loss: 0.0180 - val_mape: 3345.5491\n",
            "Epoch 55/400\n",
            "998/998 [==============================] - 3s 3ms/step - loss: 0.0180 - mape: 1731.8801 - val_loss: 0.0180 - val_mape: 3175.6372\n",
            "Epoch 56/400\n",
            "998/998 [==============================] - 3s 3ms/step - loss: 0.0180 - mape: 1722.3699 - val_loss: 0.0179 - val_mape: 3323.2920\n",
            "Epoch 57/400\n",
            "998/998 [==============================] - 3s 3ms/step - loss: 0.0180 - mape: 1721.7861 - val_loss: 0.0180 - val_mape: 3311.8491\n",
            "Epoch 58/400\n",
            "998/998 [==============================] - 3s 3ms/step - loss: 0.0180 - mape: 1724.4357 - val_loss: 0.0180 - val_mape: 3272.9141\n",
            "Epoch 59/400\n",
            "998/998 [==============================] - 3s 3ms/step - loss: 0.0180 - mape: 1720.7715 - val_loss: 0.0181 - val_mape: 3418.9487\n",
            "Epoch 60/400\n",
            "998/998 [==============================] - 3s 3ms/step - loss: 0.0180 - mape: 1722.6150 - val_loss: 0.0182 - val_mape: 3403.3772\n",
            "Epoch 61/400\n",
            "998/998 [==============================] - 3s 3ms/step - loss: 0.0180 - mape: 1725.8025 - val_loss: 0.0181 - val_mape: 3305.5200\n",
            "Epoch 62/400\n",
            "998/998 [==============================] - 3s 3ms/step - loss: 0.0179 - mape: 1719.8339 - val_loss: 0.0182 - val_mape: 3285.9683\n",
            "Epoch 63/400\n",
            "998/998 [==============================] - 3s 3ms/step - loss: 0.0180 - mape: 1724.0338 - val_loss: 0.0181 - val_mape: 3329.2056\n",
            "Epoch 64/400\n",
            "998/998 [==============================] - 3s 3ms/step - loss: 0.0180 - mape: 1718.4812 - val_loss: 0.0179 - val_mape: 3271.4131\n",
            "Epoch 65/400\n",
            "998/998 [==============================] - 3s 3ms/step - loss: 0.0180 - mape: 1724.4526 - val_loss: 0.0179 - val_mape: 3437.8320\n",
            "Epoch 66/400\n",
            "998/998 [==============================] - 3s 3ms/step - loss: 0.0180 - mape: 1715.9460 - val_loss: 0.0179 - val_mape: 3350.6299\n",
            "Epoch 67/400\n",
            "998/998 [==============================] - 3s 3ms/step - loss: 0.0180 - mape: 1723.1083 - val_loss: 0.0180 - val_mape: 3453.4597\n",
            "Epoch 68/400\n",
            "998/998 [==============================] - 3s 3ms/step - loss: 0.0180 - mape: 1727.3466 - val_loss: 0.0181 - val_mape: 3466.1604\n",
            "Epoch 69/400\n",
            "998/998 [==============================] - 3s 3ms/step - loss: 0.0180 - mape: 1717.0721 - val_loss: 0.0180 - val_mape: 3275.9016\n",
            "Epoch 70/400\n",
            "998/998 [==============================] - 3s 3ms/step - loss: 0.0180 - mape: 1719.5981 - val_loss: 0.0180 - val_mape: 3336.5837\n",
            "Epoch 71/400\n",
            "998/998 [==============================] - 3s 3ms/step - loss: 0.0179 - mape: 1716.7122 - val_loss: 0.0180 - val_mape: 3350.9729\n",
            "Epoch 72/400\n",
            "998/998 [==============================] - 3s 3ms/step - loss: 0.0180 - mape: 1719.3566 - val_loss: 0.0179 - val_mape: 3227.6340\n",
            "Epoch 73/400\n",
            "998/998 [==============================] - 3s 3ms/step - loss: 0.0180 - mape: 1723.6814 - val_loss: 0.0179 - val_mape: 3344.1692\n",
            "Epoch 74/400\n",
            "998/998 [==============================] - 3s 3ms/step - loss: 0.0180 - mape: 1719.0541 - val_loss: 0.0179 - val_mape: 3357.1755\n",
            "Epoch 75/400\n",
            "998/998 [==============================] - 3s 3ms/step - loss: 0.0180 - mape: 1718.9968 - val_loss: 0.0179 - val_mape: 3334.2229\n",
            "Epoch 76/400\n",
            "998/998 [==============================] - 3s 3ms/step - loss: 0.0180 - mape: 1717.7035 - val_loss: 0.0181 - val_mape: 3382.2534\n",
            "Epoch 77/400\n",
            "998/998 [==============================] - 3s 3ms/step - loss: 0.0180 - mape: 1722.1593 - val_loss: 0.0180 - val_mape: 3403.7275\n",
            "Epoch 78/400\n",
            "998/998 [==============================] - 3s 3ms/step - loss: 0.0179 - mape: 1724.1290 - val_loss: 0.0182 - val_mape: 3233.3137\n",
            "Epoch 79/400\n",
            "998/998 [==============================] - 3s 3ms/step - loss: 0.0180 - mape: 1718.3214 - val_loss: 0.0180 - val_mape: 3159.0496\n",
            "Epoch 80/400\n",
            "998/998 [==============================] - 3s 3ms/step - loss: 0.0179 - mape: 1715.5238 - val_loss: 0.0181 - val_mape: 3238.2966\n",
            "Epoch 81/400\n",
            "998/998 [==============================] - 3s 3ms/step - loss: 0.0179 - mape: 1723.4633 - val_loss: 0.0182 - val_mape: 3331.4402\n",
            "Epoch 82/400\n",
            "998/998 [==============================] - 3s 3ms/step - loss: 0.0180 - mape: 1714.5336 - val_loss: 0.0180 - val_mape: 3446.7993\n",
            "Epoch 83/400\n",
            "998/998 [==============================] - 3s 3ms/step - loss: 0.0180 - mape: 1720.0651 - val_loss: 0.0181 - val_mape: 3343.6045\n",
            "Epoch 84/400\n",
            "998/998 [==============================] - 3s 3ms/step - loss: 0.0180 - mape: 1713.6921 - val_loss: 0.0179 - val_mape: 3247.7793\n",
            "Epoch 85/400\n",
            "998/998 [==============================] - 3s 3ms/step - loss: 0.0179 - mape: 1720.5131 - val_loss: 0.0181 - val_mape: 3436.5410\n",
            "Epoch 86/400\n",
            "998/998 [==============================] - 3s 3ms/step - loss: 0.0179 - mape: 1722.4951 - val_loss: 0.0181 - val_mape: 3377.5361\n",
            "Epoch 87/400\n",
            "998/998 [==============================] - 3s 3ms/step - loss: 0.0180 - mape: 1716.1556 - val_loss: 0.0179 - val_mape: 3287.0872\n",
            "Epoch 88/400\n",
            "998/998 [==============================] - 3s 3ms/step - loss: 0.0180 - mape: 1717.4232 - val_loss: 0.0180 - val_mape: 3342.9561\n",
            "Epoch 89/400\n",
            "998/998 [==============================] - 3s 3ms/step - loss: 0.0180 - mape: 1722.2681 - val_loss: 0.0179 - val_mape: 3432.8103\n",
            "Epoch 90/400\n",
            "998/998 [==============================] - 3s 3ms/step - loss: 0.0179 - mape: 1720.1013 - val_loss: 0.0181 - val_mape: 3359.6038\n",
            "Epoch 91/400\n",
            "998/998 [==============================] - 3s 3ms/step - loss: 0.0180 - mape: 1722.6941 - val_loss: 0.0181 - val_mape: 3234.0784\n",
            "Epoch 92/400\n",
            "998/998 [==============================] - 3s 3ms/step - loss: 0.0180 - mape: 1721.2415 - val_loss: 0.0180 - val_mape: 3446.6841\n",
            "Epoch 93/400\n",
            "998/998 [==============================] - 3s 3ms/step - loss: 0.0179 - mape: 1720.9518 - val_loss: 0.0179 - val_mape: 3390.1936\n",
            "Epoch 94/400\n",
            "998/998 [==============================] - 3s 3ms/step - loss: 0.0180 - mape: 1723.4901 - val_loss: 0.0179 - val_mape: 3319.0454\n",
            "Epoch 95/400\n",
            "998/998 [==============================] - 3s 3ms/step - loss: 0.0179 - mape: 1718.2325 - val_loss: 0.0179 - val_mape: 3217.5300\n",
            "Epoch 96/400\n",
            "998/998 [==============================] - 3s 3ms/step - loss: 0.0180 - mape: 1719.5487 - val_loss: 0.0180 - val_mape: 3301.0068\n",
            "Epoch 97/400\n",
            "998/998 [==============================] - 3s 3ms/step - loss: 0.0179 - mape: 1722.0378 - val_loss: 0.0179 - val_mape: 3321.0652\n",
            "Epoch 98/400\n",
            "998/998 [==============================] - 3s 3ms/step - loss: 0.0180 - mape: 1721.6467 - val_loss: 0.0180 - val_mape: 3338.2166\n",
            "Epoch 99/400\n",
            "998/998 [==============================] - 3s 3ms/step - loss: 0.0180 - mape: 1721.6869 - val_loss: 0.0179 - val_mape: 3264.9666\n",
            "Epoch 100/400\n",
            "998/998 [==============================] - 3s 3ms/step - loss: 0.0180 - mape: 1720.1421 - val_loss: 0.0182 - val_mape: 3430.4514\n",
            "Epoch 101/400\n",
            "998/998 [==============================] - 3s 3ms/step - loss: 0.0180 - mape: 1721.1154 - val_loss: 0.0179 - val_mape: 3383.1958\n",
            "Epoch 102/400\n",
            "998/998 [==============================] - 3s 3ms/step - loss: 0.0180 - mape: 1723.4861 - val_loss: 0.0181 - val_mape: 3496.5029\n",
            "Epoch 103/400\n",
            "998/998 [==============================] - 3s 3ms/step - loss: 0.0180 - mape: 1725.4750 - val_loss: 0.0182 - val_mape: 3312.8464\n",
            "Epoch 104/400\n",
            "998/998 [==============================] - 3s 3ms/step - loss: 0.0179 - mape: 1716.1001 - val_loss: 0.0179 - val_mape: 3363.7964\n",
            "Epoch 105/400\n",
            "998/998 [==============================] - 3s 3ms/step - loss: 0.0179 - mape: 1723.4739 - val_loss: 0.0180 - val_mape: 3291.0632\n",
            "Epoch 106/400\n",
            "998/998 [==============================] - 3s 3ms/step - loss: 0.0180 - mape: 1722.4326 - val_loss: 0.0180 - val_mape: 3285.7651\n",
            "Epoch 107/400\n",
            "998/998 [==============================] - 3s 3ms/step - loss: 0.0179 - mape: 1718.9022 - val_loss: 0.0181 - val_mape: 3292.0896\n",
            "Epoch 108/400\n",
            "998/998 [==============================] - 3s 3ms/step - loss: 0.0180 - mape: 1722.7281 - val_loss: 0.0180 - val_mape: 3249.6814\n",
            "Epoch 109/400\n",
            "998/998 [==============================] - 3s 3ms/step - loss: 0.0180 - mape: 1724.4541 - val_loss: 0.0179 - val_mape: 3327.2976\n",
            "Epoch 110/400\n",
            "998/998 [==============================] - 3s 3ms/step - loss: 0.0179 - mape: 1720.4167 - val_loss: 0.0181 - val_mape: 3341.2292\n",
            "Epoch 111/400\n",
            "998/998 [==============================] - 3s 3ms/step - loss: 0.0180 - mape: 1721.6580 - val_loss: 0.0181 - val_mape: 3352.6672\n",
            "Epoch 112/400\n",
            "998/998 [==============================] - 3s 3ms/step - loss: 0.0180 - mape: 1721.8196 - val_loss: 0.0180 - val_mape: 3376.2302\n",
            "Epoch 113/400\n",
            "998/998 [==============================] - 3s 3ms/step - loss: 0.0180 - mape: 1722.5443 - val_loss: 0.0179 - val_mape: 3254.6440\n",
            "Epoch 114/400\n",
            "998/998 [==============================] - 3s 3ms/step - loss: 0.0180 - mape: 1721.6672 - val_loss: 0.0180 - val_mape: 3248.3049\n",
            "Epoch 115/400\n",
            "998/998 [==============================] - 3s 3ms/step - loss: 0.0179 - mape: 1720.8236 - val_loss: 0.0180 - val_mape: 3329.2976\n",
            "Epoch 116/400\n",
            "998/998 [==============================] - 3s 3ms/step - loss: 0.0180 - mape: 1725.2251 - val_loss: 0.0179 - val_mape: 3252.4385\n",
            "Epoch 117/400\n",
            "998/998 [==============================] - 3s 3ms/step - loss: 0.0179 - mape: 1721.5692 - val_loss: 0.0181 - val_mape: 3295.4351\n",
            "Epoch 118/400\n",
            "998/998 [==============================] - 3s 3ms/step - loss: 0.0179 - mape: 1716.7906 - val_loss: 0.0179 - val_mape: 3448.4548\n",
            "Epoch 119/400\n",
            "998/998 [==============================] - 3s 3ms/step - loss: 0.0180 - mape: 1724.1783 - val_loss: 0.0179 - val_mape: 3445.4087\n",
            "Epoch 120/400\n",
            "998/998 [==============================] - 3s 3ms/step - loss: 0.0180 - mape: 1725.7557 - val_loss: 0.0181 - val_mape: 3504.2415\n",
            "Epoch 121/400\n",
            "998/998 [==============================] - 3s 3ms/step - loss: 0.0180 - mape: 1719.9573 - val_loss: 0.0181 - val_mape: 3359.8564\n",
            "Epoch 122/400\n",
            "998/998 [==============================] - 3s 3ms/step - loss: 0.0179 - mape: 1722.0858 - val_loss: 0.0179 - val_mape: 3283.7507\n",
            "Epoch 00122: early stopping\n"
          ]
        }
      ]
    },
    {
      "cell_type": "code",
      "source": [
        ""
      ],
      "metadata": {
        "id": "PAt4upZgYkvL"
      },
      "execution_count": null,
      "outputs": []
    },
    {
      "cell_type": "markdown",
      "source": [
        "## threshold 구하기"
      ],
      "metadata": {
        "id": "2ONNQUgXacB7"
      }
    },
    {
      "cell_type": "code",
      "source": [
        "reconstructed = model.predict(train_x)\n",
        "\n",
        "train_mae = np.mean(np.abs(reconstructed - train_x), axis=-1)\n",
        "print(train_mae)"
      ],
      "metadata": {
        "colab": {
          "base_uri": "https://localhost:8080/"
        },
        "outputId": "206aba75-3d9f-45c0-a4a0-139363458188",
        "id": "UNV9sshbacB7"
      },
      "execution_count": 149,
      "outputs": [
        {
          "output_type": "stream",
          "name": "stdout",
          "text": [
            "[0.00859964 0.01275114 0.01517627 ... 0.01176608 0.02130521 0.02520113]\n"
          ]
        }
      ]
    },
    {
      "cell_type": "code",
      "source": [
        "plt.hist(train_mae, bins=1000)\n",
        "plt.show()"
      ],
      "metadata": {
        "colab": {
          "base_uri": "https://localhost:8080/",
          "height": 265
        },
        "outputId": "89b7ad3e-8705-4c94-d584-91f4dfdb207f",
        "id": "G3FQoTemacB8"
      },
      "execution_count": 150,
      "outputs": [
        {
          "output_type": "display_data",
          "data": {
            "image/png": "[encoded data removed]",
            "text/plain": [
              "<Figure size 432x288 with 1 Axes>"
            ]
          },
          "metadata": {
            "needs_background": "light"
          }
        }
      ]
    },
    {
      "cell_type": "code",
      "source": [
        "sorted_mae = np.sort(train_mae)\n",
        "threshold_index = int(len(sorted_mae)*0.99)\n",
        "threshold = sorted_mae[threshold_index]\n",
        "\n",
        "print(threshold)"
      ],
      "metadata": {
        "colab": {
          "base_uri": "https://localhost:8080/"
        },
        "outputId": "725d393f-0dd1-4e2a-a9bc-51622201e230",
        "id": "6dp2cZ-aacB8"
      },
      "execution_count": 151,
      "outputs": [
        {
          "output_type": "stream",
          "name": "stdout",
          "text": [
            "0.04236038596132588\n"
          ]
        }
      ]
    },
    {
      "cell_type": "markdown",
      "source": [
        "## 테스트 데이터 모델 예측"
      ],
      "metadata": {
        "id": "Rsy2zlbVaVhf"
      }
    },
    {
      "cell_type": "code",
      "source": [
        "reconstructed = model.predict(test_x)\n",
        "test_mae = np.mean(np.abs(reconstructed - test_x), axis=-1)\n",
        "\n",
        "half_index = int(len(test_mae)*0.5)\n",
        "plt.hist(test_mae[:half_index], bins=100, alpha=0.5)\n",
        "plt.hist(test_mae[half_index:], bins=100, alpha=0.5)\n",
        "plt.show()"
      ],
      "metadata": {
        "colab": {
          "base_uri": "https://localhost:8080/",
          "height": 265
        },
        "id": "qaQhISq_aVhp",
        "outputId": "66e20da8-1bb8-46fb-fed2-95e9501e15ee"
      },
      "execution_count": 152,
      "outputs": [
        {
          "output_type": "display_data",
          "data": {
            "image/png": "[encoded data removed]",
            "text/plain": [
              "<Figure size 432x288 with 1 Axes>"
            ]
          },
          "metadata": {
            "needs_background": "light"
          }
        }
      ]
    },
    {
      "cell_type": "code",
      "source": [
        "predicted = (mae > threshold).astype(np.int)\n",
        "\n",
        "n = len(test_data)\n",
        "accuracy = (predicted == test_y).sum() / n\n",
        "\n",
        "print(\"accuracy=\", accuracy)"
      ],
      "metadata": {
        "colab": {
          "base_uri": "https://localhost:8080/"
        },
        "outputId": "f08c4f94-3a87-4e5a-d512-e6c811a1f19c",
        "id": "rq11Xxj2aVhq"
      },
      "execution_count": 153,
      "outputs": [
        {
          "output_type": "stream",
          "name": "stdout",
          "text": [
            "accuracy= 0.8984771573604061\n"
          ]
        }
      ]
    }
  ],
  "metadata": {
    "accelerator": "GPU",
    "colab": {
      "name": "financial_data_detect_fraud_card.ipynb",
      "provenance": []
    },
    "kernelspec": {
      "display_name": "Python 3",
      "name": "python3"
    },
    "language_info": {
      "name": "python"
    }
  },
  "nbformat": 4,
  "nbformat_minor": 0
}