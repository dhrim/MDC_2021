{
  "nbformat": 4,
  "nbformat_minor": 0,
  "metadata": {
    "colab": {
      "name": "20220104_MRI_image_segmentation_practice_hint.ipynb",
      "provenance": [],
      "collapsed_sections": []
    },
    "kernelspec": {
      "name": "python3",
      "display_name": "Python 3"
    },
    "language_info": {
      "name": "python"
    },
    "accelerator": "GPU"
  },
  "cells": [
    {
      "cell_type": "markdown",
      "source": [
        "# http로 파일 다운로드"
      ],
      "metadata": {
        "id": "RB76b1-aO_10"
      }
    },
    {
      "cell_type": "code",
      "execution_count": null,
      "metadata": {
        "id": "5datNNiGKLhV"
      },
      "outputs": [],
      "source": [
        "!wget https://github.com/dhrim/deep_learning_data/raw/master/MRI_images.zip"
      ]
    },
    {
      "cell_type": "markdown",
      "source": [
        "# zip파일 압축 풀기"
      ],
      "metadata": {
        "id": "3ccbZZjgPC2K"
      }
    },
    {
      "cell_type": "code",
      "source": [
        "!unzip MRI_images.zip"
      ],
      "metadata": {
        "id": "F3tqhaHmKgsJ"
      },
      "execution_count": null,
      "outputs": []
    },
    {
      "cell_type": "markdown",
      "source": [
        "# 파일 리스트 구하기"
      ],
      "metadata": {
        "id": "Tfty4aF5PHwp"
      }
    },
    {
      "cell_type": "code",
      "source": [
        "import glob\n",
        "label_file_list = glob.glob(\"MRI_images/*_mask.tif\")"
      ],
      "metadata": {
        "id": "QIfaIFfRKz_Y"
      },
      "execution_count": null,
      "outputs": []
    },
    {
      "cell_type": "markdown",
      "source": [
        "# some_mask.tif 파일 이름에서 some.tif 파일 이름 구하기"
      ],
      "metadata": {
        "id": "FZnNRWW_PKD8"
      }
    },
    {
      "cell_type": "code",
      "source": [
        "print(\"some_mask.tif\".replace(\"_mask\",\"\"))"
      ],
      "metadata": {
        "id": "V1kevmAMLXGP"
      },
      "execution_count": null,
      "outputs": []
    },
    {
      "cell_type": "markdown",
      "source": [
        "# tif 파일 읽기"
      ],
      "metadata": {
        "id": "tzonSN5lPbAM"
      }
    },
    {
      "cell_type": "code",
      "source": [
        "import numpy as np\n",
        "import matplotlib.pyplot as plt\n",
        "\n",
        "numpy_array = plt.imread(\"some_file.tif\")\n",
        "print(numpy_array.shape)"
      ],
      "metadata": {
        "id": "nraLeYBnLqrv"
      },
      "execution_count": null,
      "outputs": []
    },
    {
      "cell_type": "markdown",
      "source": [
        "# 이미지 파일 2개 겹쳐 그리기"
      ],
      "metadata": {
        "id": "PLn-vYrSPpDV"
      }
    },
    {
      "cell_type": "code",
      "source": [
        "plt.imshow(image)\n",
        "plt.imshow(label, alpha=0.5)\n",
        "plt.show()"
      ],
      "metadata": {
        "id": "SE-oDBzJNQ6I"
      },
      "execution_count": null,
      "outputs": []
    }
  ]
}