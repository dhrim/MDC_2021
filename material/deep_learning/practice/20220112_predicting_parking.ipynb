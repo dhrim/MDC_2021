{
  "nbformat": 4,
  "nbformat_minor": 0,
  "metadata": {
    "colab": {
      "name": "20220112_predicting_parking.ipynb",
      "provenance": [],
      "collapsed_sections": []
    },
    "kernelspec": {
      "name": "python3",
      "display_name": "Python 3"
    },
    "language_info": {
      "name": "python"
    }
  },
  "cells": [
    {
      "cell_type": "markdown",
      "source": [
        "from https://dacon.io/competitions/official/235745/data"
      ],
      "metadata": {
        "id": "2PTjX14XsxyR"
      }
    },
    {
      "cell_type": "markdown",
      "source": [
        "# 데이터 가져오기"
      ],
      "metadata": {
        "id": "SMBeKeevsuVm"
      }
    },
    {
      "cell_type": "code",
      "source": [
        "from google.colab import drive\n",
        "drive.mount('/gdrive')"
      ],
      "metadata": {
        "colab": {
          "base_uri": "https://localhost:8080/"
        },
        "id": "Tleayae9onJu",
        "outputId": "6aa1086d-d07a-487d-882a-d3d2cc9409c8"
      },
      "execution_count": null,
      "outputs": [
        {
          "output_type": "stream",
          "name": "stdout",
          "text": [
            "Drive already mounted at /gdrive; to attempt to forcibly remount, call drive.mount(\"/gdrive\", force_remount=True).\n"
          ]
        }
      ]
    },
    {
      "cell_type": "code",
      "source": [
        "!cp /gdrive/MyDrive/tmp/235745_parking_data.zip ./"
      ],
      "metadata": {
        "id": "b2jKHYKQouCz"
      },
      "execution_count": null,
      "outputs": []
    },
    {
      "cell_type": "code",
      "source": [
        "!rm -rf *.csv\n",
        "!unzip 235745_parking_data.zip"
      ],
      "metadata": {
        "colab": {
          "base_uri": "https://localhost:8080/"
        },
        "id": "wJg0F-IwouAq",
        "outputId": "141f2fc2-dfb5-4bd5-bf45-0bbb3b4b11d3"
      },
      "execution_count": null,
      "outputs": [
        {
          "output_type": "stream",
          "name": "stdout",
          "text": [
            "Archive:  235745_parking_data.zip\n",
            "  inflating: age_gender_info.csv     \n",
            "  inflating: sample_submission.csv   \n",
            "  inflating: test.csv                \n",
            "  inflating: train.csv               \n"
          ]
        }
      ]
    },
    {
      "cell_type": "markdown",
      "source": [
        "# 데이터 로딩"
      ],
      "metadata": {
        "id": "B1w2WKgJtBwc"
      }
    },
    {
      "cell_type": "code",
      "source": [
        "import pandas as pd\n",
        "import numpy as np"
      ],
      "metadata": {
        "id": "I3nYXtIdot94"
      },
      "execution_count": null,
      "outputs": []
    },
    {
      "cell_type": "code",
      "source": [
        "train_df = pd.read_csv('train.csv')\n",
        "test_df = pd.read_csv('test.csv')"
      ],
      "metadata": {
        "id": "J03ih23LtK30"
      },
      "execution_count": null,
      "outputs": []
    },
    {
      "cell_type": "code",
      "source": [
        "train_df.head(1)"
      ],
      "metadata": {
        "colab": {
          "base_uri": "https://localhost:8080/",
          "height": 176
        },
        "id": "xNR5X8BJtPCa",
        "outputId": "668989d2-2427-47ed-e0d7-c0d601e9f04d"
      },
      "execution_count": null,
      "outputs": [
        {
          "output_type": "execute_result",
          "data": {
            "text/html": [
              "\n",
              "  <div id=\"df-42a44217-469c-4402-82bf-98b77a7703f1\">\n",
              "    <div class=\"colab-df-container\">\n",
              "      <div>\n",
              "<style scoped>\n",
              "    .dataframe tbody tr th:only-of-type {\n",
              "        vertical-align: middle;\n",
              "    }\n",
              "\n",
              "    .dataframe tbody tr th {\n",
              "        vertical-align: top;\n",
              "    }\n",
              "\n",
              "    .dataframe thead th {\n",
              "        text-align: right;\n",
              "    }\n",
              "</style>\n",
              "<table border=\"1\" class=\"dataframe\">\n",
              "  <thead>\n",
              "    <tr style=\"text-align: right;\">\n",
              "      <th></th>\n",
              "      <th>단지코드</th>\n",
              "      <th>총세대수</th>\n",
              "      <th>임대건물구분</th>\n",
              "      <th>지역</th>\n",
              "      <th>공급유형</th>\n",
              "      <th>전용면적</th>\n",
              "      <th>전용면적별세대수</th>\n",
              "      <th>공가수</th>\n",
              "      <th>자격유형</th>\n",
              "      <th>임대보증금</th>\n",
              "      <th>임대료</th>\n",
              "      <th>도보 10분거리 내 지하철역 수(환승노선 수 반영)</th>\n",
              "      <th>도보 10분거리 내 버스정류장 수</th>\n",
              "      <th>단지내주차면수</th>\n",
              "      <th>등록차량수</th>\n",
              "    </tr>\n",
              "  </thead>\n",
              "  <tbody>\n",
              "    <tr>\n",
              "      <th>0</th>\n",
              "      <td>C2483</td>\n",
              "      <td>900</td>\n",
              "      <td>아파트</td>\n",
              "      <td>경상북도</td>\n",
              "      <td>국민임대</td>\n",
              "      <td>39.72</td>\n",
              "      <td>134</td>\n",
              "      <td>38.0</td>\n",
              "      <td>A</td>\n",
              "      <td>15667000</td>\n",
              "      <td>103680</td>\n",
              "      <td>0.0</td>\n",
              "      <td>3.0</td>\n",
              "      <td>1425.0</td>\n",
              "      <td>1015.0</td>\n",
              "    </tr>\n",
              "  </tbody>\n",
              "</table>\n",
              "</div>\n",
              "      <button class=\"colab-df-convert\" onclick=\"convertToInteractive('df-42a44217-469c-4402-82bf-98b77a7703f1')\"\n",
              "              title=\"Convert this dataframe to an interactive table.\"\n",
              "              style=\"display:none;\">\n",
              "        \n",
              "  <svg xmlns=\"http://www.w3.org/2000/svg\" height=\"24px\"viewBox=\"0 0 24 24\"\n",
              "       width=\"24px\">\n",
              "    <path d=\"M0 0h24v24H0V0z\" fill=\"none\"/>\n",
              "    <path d=\"M18.56 5.44l.94 2.06.94-2.06 2.06-.94-2.06-.94-.94-2.06-.94 2.06-2.06.94zm-11 1L8.5 8.5l.94-2.06 2.06-.94-2.06-.94L8.5 2.5l-.94 2.06-2.06.94zm10 10l.94 2.06.94-2.06 2.06-.94-2.06-.94-.94-2.06-.94 2.06-2.06.94z\"/><path d=\"M17.41 7.96l-1.37-1.37c-.4-.4-.92-.59-1.43-.59-.52 0-1.04.2-1.43.59L10.3 9.45l-7.72 7.72c-.78.78-.78 2.05 0 2.83L4 21.41c.39.39.9.59 1.41.59.51 0 1.02-.2 1.41-.59l7.78-7.78 2.81-2.81c.8-.78.8-2.07 0-2.86zM5.41 20L4 18.59l7.72-7.72 1.47 1.35L5.41 20z\"/>\n",
              "  </svg>\n",
              "      </button>\n",
              "      \n",
              "  <style>\n",
              "    .colab-df-container {\n",
              "      display:flex;\n",
              "      flex-wrap:wrap;\n",
              "      gap: 12px;\n",
              "    }\n",
              "\n",
              "    .colab-df-convert {\n",
              "      background-color: #E8F0FE;\n",
              "      border: none;\n",
              "      border-radius: 50%;\n",
              "      cursor: pointer;\n",
              "      display: none;\n",
              "      fill: #1967D2;\n",
              "      height: 32px;\n",
              "      padding: 0 0 0 0;\n",
              "      width: 32px;\n",
              "    }\n",
              "\n",
              "    .colab-df-convert:hover {\n",
              "      background-color: #E2EBFA;\n",
              "      box-shadow: 0px 1px 2px rgba(60, 64, 67, 0.3), 0px 1px 3px 1px rgba(60, 64, 67, 0.15);\n",
              "      fill: #174EA6;\n",
              "    }\n",
              "\n",
              "    [theme=dark] .colab-df-convert {\n",
              "      background-color: #3B4455;\n",
              "      fill: #D2E3FC;\n",
              "    }\n",
              "\n",
              "    [theme=dark] .colab-df-convert:hover {\n",
              "      background-color: #434B5C;\n",
              "      box-shadow: 0px 1px 3px 1px rgba(0, 0, 0, 0.15);\n",
              "      filter: drop-shadow(0px 1px 2px rgba(0, 0, 0, 0.3));\n",
              "      fill: #FFFFFF;\n",
              "    }\n",
              "  </style>\n",
              "\n",
              "      <script>\n",
              "        const buttonEl =\n",
              "          document.querySelector('#df-42a44217-469c-4402-82bf-98b77a7703f1 button.colab-df-convert');\n",
              "        buttonEl.style.display =\n",
              "          google.colab.kernel.accessAllowed ? 'block' : 'none';\n",
              "\n",
              "        async function convertToInteractive(key) {\n",
              "          const element = document.querySelector('#df-42a44217-469c-4402-82bf-98b77a7703f1');\n",
              "          const dataTable =\n",
              "            await google.colab.kernel.invokeFunction('convertToInteractive',\n",
              "                                                     [key], {});\n",
              "          if (!dataTable) return;\n",
              "\n",
              "          const docLinkHtml = 'Like what you see? Visit the ' +\n",
              "            '<a target=\"_blank\" href=https://colab.research.google.com/notebooks/data_table.ipynb>data table notebook</a>'\n",
              "            + ' to learn more about interactive tables.';\n",
              "          element.innerHTML = '';\n",
              "          dataTable['output_type'] = 'display_data';\n",
              "          await google.colab.output.renderOutput(dataTable, element);\n",
              "          const docLink = document.createElement('div');\n",
              "          docLink.innerHTML = docLinkHtml;\n",
              "          element.appendChild(docLink);\n",
              "        }\n",
              "      </script>\n",
              "    </div>\n",
              "  </div>\n",
              "  "
            ],
            "text/plain": [
              "    단지코드  총세대수 임대건물구분  ... 도보 10분거리 내 버스정류장 수 단지내주차면수   등록차량수\n",
              "0  C2483   900    아파트  ...                3.0  1425.0  1015.0\n",
              "\n",
              "[1 rows x 15 columns]"
            ]
          },
          "metadata": {},
          "execution_count": 358
        }
      ]
    },
    {
      "cell_type": "code",
      "source": [
        "test_df.head(1)"
      ],
      "metadata": {
        "colab": {
          "base_uri": "https://localhost:8080/",
          "height": 194
        },
        "id": "fIO90YYntu8g",
        "outputId": "df7b783b-36f7-4bce-d6eb-4272aa104221"
      },
      "execution_count": null,
      "outputs": [
        {
          "output_type": "execute_result",
          "data": {
            "text/html": [
              "\n",
              "  <div id=\"df-a8b8cd59-a06f-41a2-a256-413cc645f8c0\">\n",
              "    <div class=\"colab-df-container\">\n",
              "      <div>\n",
              "<style scoped>\n",
              "    .dataframe tbody tr th:only-of-type {\n",
              "        vertical-align: middle;\n",
              "    }\n",
              "\n",
              "    .dataframe tbody tr th {\n",
              "        vertical-align: top;\n",
              "    }\n",
              "\n",
              "    .dataframe thead th {\n",
              "        text-align: right;\n",
              "    }\n",
              "</style>\n",
              "<table border=\"1\" class=\"dataframe\">\n",
              "  <thead>\n",
              "    <tr style=\"text-align: right;\">\n",
              "      <th></th>\n",
              "      <th>단지코드</th>\n",
              "      <th>총세대수</th>\n",
              "      <th>임대건물구분</th>\n",
              "      <th>지역</th>\n",
              "      <th>공급유형</th>\n",
              "      <th>전용면적</th>\n",
              "      <th>전용면적별세대수</th>\n",
              "      <th>공가수</th>\n",
              "      <th>자격유형</th>\n",
              "      <th>임대보증금</th>\n",
              "      <th>임대료</th>\n",
              "      <th>도보 10분거리 내 지하철역 수(환승노선 수 반영)</th>\n",
              "      <th>도보 10분거리 내 버스정류장 수</th>\n",
              "      <th>단지내주차면수</th>\n",
              "    </tr>\n",
              "  </thead>\n",
              "  <tbody>\n",
              "    <tr>\n",
              "      <th>0</th>\n",
              "      <td>C1072</td>\n",
              "      <td>754</td>\n",
              "      <td>아파트</td>\n",
              "      <td>경기도</td>\n",
              "      <td>국민임대</td>\n",
              "      <td>39.79</td>\n",
              "      <td>116</td>\n",
              "      <td>14.0</td>\n",
              "      <td>H</td>\n",
              "      <td>22830000</td>\n",
              "      <td>189840</td>\n",
              "      <td>0.0</td>\n",
              "      <td>2.0</td>\n",
              "      <td>683.0</td>\n",
              "    </tr>\n",
              "  </tbody>\n",
              "</table>\n",
              "</div>\n",
              "      <button class=\"colab-df-convert\" onclick=\"convertToInteractive('df-a8b8cd59-a06f-41a2-a256-413cc645f8c0')\"\n",
              "              title=\"Convert this dataframe to an interactive table.\"\n",
              "              style=\"display:none;\">\n",
              "        \n",
              "  <svg xmlns=\"http://www.w3.org/2000/svg\" height=\"24px\"viewBox=\"0 0 24 24\"\n",
              "       width=\"24px\">\n",
              "    <path d=\"M0 0h24v24H0V0z\" fill=\"none\"/>\n",
              "    <path d=\"M18.56 5.44l.94 2.06.94-2.06 2.06-.94-2.06-.94-.94-2.06-.94 2.06-2.06.94zm-11 1L8.5 8.5l.94-2.06 2.06-.94-2.06-.94L8.5 2.5l-.94 2.06-2.06.94zm10 10l.94 2.06.94-2.06 2.06-.94-2.06-.94-.94-2.06-.94 2.06-2.06.94z\"/><path d=\"M17.41 7.96l-1.37-1.37c-.4-.4-.92-.59-1.43-.59-.52 0-1.04.2-1.43.59L10.3 9.45l-7.72 7.72c-.78.78-.78 2.05 0 2.83L4 21.41c.39.39.9.59 1.41.59.51 0 1.02-.2 1.41-.59l7.78-7.78 2.81-2.81c.8-.78.8-2.07 0-2.86zM5.41 20L4 18.59l7.72-7.72 1.47 1.35L5.41 20z\"/>\n",
              "  </svg>\n",
              "      </button>\n",
              "      \n",
              "  <style>\n",
              "    .colab-df-container {\n",
              "      display:flex;\n",
              "      flex-wrap:wrap;\n",
              "      gap: 12px;\n",
              "    }\n",
              "\n",
              "    .colab-df-convert {\n",
              "      background-color: #E8F0FE;\n",
              "      border: none;\n",
              "      border-radius: 50%;\n",
              "      cursor: pointer;\n",
              "      display: none;\n",
              "      fill: #1967D2;\n",
              "      height: 32px;\n",
              "      padding: 0 0 0 0;\n",
              "      width: 32px;\n",
              "    }\n",
              "\n",
              "    .colab-df-convert:hover {\n",
              "      background-color: #E2EBFA;\n",
              "      box-shadow: 0px 1px 2px rgba(60, 64, 67, 0.3), 0px 1px 3px 1px rgba(60, 64, 67, 0.15);\n",
              "      fill: #174EA6;\n",
              "    }\n",
              "\n",
              "    [theme=dark] .colab-df-convert {\n",
              "      background-color: #3B4455;\n",
              "      fill: #D2E3FC;\n",
              "    }\n",
              "\n",
              "    [theme=dark] .colab-df-convert:hover {\n",
              "      background-color: #434B5C;\n",
              "      box-shadow: 0px 1px 3px 1px rgba(0, 0, 0, 0.15);\n",
              "      filter: drop-shadow(0px 1px 2px rgba(0, 0, 0, 0.3));\n",
              "      fill: #FFFFFF;\n",
              "    }\n",
              "  </style>\n",
              "\n",
              "      <script>\n",
              "        const buttonEl =\n",
              "          document.querySelector('#df-a8b8cd59-a06f-41a2-a256-413cc645f8c0 button.colab-df-convert');\n",
              "        buttonEl.style.display =\n",
              "          google.colab.kernel.accessAllowed ? 'block' : 'none';\n",
              "\n",
              "        async function convertToInteractive(key) {\n",
              "          const element = document.querySelector('#df-a8b8cd59-a06f-41a2-a256-413cc645f8c0');\n",
              "          const dataTable =\n",
              "            await google.colab.kernel.invokeFunction('convertToInteractive',\n",
              "                                                     [key], {});\n",
              "          if (!dataTable) return;\n",
              "\n",
              "          const docLinkHtml = 'Like what you see? Visit the ' +\n",
              "            '<a target=\"_blank\" href=https://colab.research.google.com/notebooks/data_table.ipynb>data table notebook</a>'\n",
              "            + ' to learn more about interactive tables.';\n",
              "          element.innerHTML = '';\n",
              "          dataTable['output_type'] = 'display_data';\n",
              "          await google.colab.output.renderOutput(dataTable, element);\n",
              "          const docLink = document.createElement('div');\n",
              "          docLink.innerHTML = docLinkHtml;\n",
              "          element.appendChild(docLink);\n",
              "        }\n",
              "      </script>\n",
              "    </div>\n",
              "  </div>\n",
              "  "
            ],
            "text/plain": [
              "    단지코드  총세대수  ... 도보 10분거리 내 버스정류장 수 단지내주차면수\n",
              "0  C1072   754  ...                2.0   683.0\n",
              "\n",
              "[1 rows x 14 columns]"
            ]
          },
          "metadata": {},
          "execution_count": 359
        }
      ]
    },
    {
      "cell_type": "markdown",
      "source": [
        "컬럼 '등록차량수'가 예측하고자 하는 값이다."
      ],
      "metadata": {
        "id": "zglnu3S0t9YI"
      }
    },
    {
      "cell_type": "code",
      "source": [
        "train_data_count = len(train_df)\n",
        "test_data_count = len(test_df)\n",
        "\n",
        "print(train_data_count, test_data_count)"
      ],
      "metadata": {
        "colab": {
          "base_uri": "https://localhost:8080/"
        },
        "id": "TaCL1ywm96Hr",
        "outputId": "41469da5-81c5-4b69-fdfb-cb9b7eb3431b"
      },
      "execution_count": null,
      "outputs": [
        {
          "output_type": "stream",
          "name": "stdout",
          "text": [
            "2952 1022\n"
          ]
        }
      ]
    },
    {
      "cell_type": "markdown",
      "source": [
        "# 데이터 합치기\n",
        "\n",
        "test_df에 '등록차량수' 컬럼을 만들고 합친다."
      ],
      "metadata": {
        "id": "QekfghAQ2kT5"
      }
    },
    {
      "cell_type": "code",
      "source": [
        "train_df[train_df.등록차량수==0].sum()"
      ],
      "metadata": {
        "colab": {
          "base_uri": "https://localhost:8080/"
        },
        "id": "uO9RqXk22ph2",
        "outputId": "e2120e6d-dada-4f35-d9d5-52a4c0d56581"
      },
      "execution_count": null,
      "outputs": [
        {
          "output_type": "execute_result",
          "data": {
            "text/plain": [
              "단지코드                            0.0\n",
              "총세대수                            0.0\n",
              "임대건물구분                          0.0\n",
              "지역                              0.0\n",
              "공급유형                            0.0\n",
              "전용면적                            0.0\n",
              "전용면적별세대수                        0.0\n",
              "공가수                             0.0\n",
              "자격유형                            0.0\n",
              "임대보증금                           0.0\n",
              "임대료                             0.0\n",
              "도보 10분거리 내 지하철역 수(환승노선 수 반영)    0.0\n",
              "도보 10분거리 내 버스정류장 수              0.0\n",
              "단지내주차면수                         0.0\n",
              "등록차량수                           0.0\n",
              "dtype: float64"
            ]
          },
          "metadata": {},
          "execution_count": 361
        }
      ]
    },
    {
      "cell_type": "markdown",
      "source": [
        "test_df에 컬럼 '등록차량수'를 추가하면서 값을 -1로 한다.\n",
        "\n",
        "train_df에 0 값은 없는 것을 확인했다."
      ],
      "metadata": {
        "id": "XONCKJP_3Qgd"
      }
    },
    {
      "cell_type": "code",
      "source": [
        "test_df['등록차량수'] = 0"
      ],
      "metadata": {
        "id": "qfc5TL4Z2pkz"
      },
      "execution_count": null,
      "outputs": []
    },
    {
      "cell_type": "code",
      "source": [
        "print(len(train_df), len(test_df))\n",
        "df = train_df.append(test_df)\n",
        "print(len(df))"
      ],
      "metadata": {
        "colab": {
          "base_uri": "https://localhost:8080/"
        },
        "id": "3MpAEgqE22Rl",
        "outputId": "af3d9aca-92ff-4187-a6a8-93ab8e812226"
      },
      "execution_count": null,
      "outputs": [
        {
          "output_type": "stream",
          "name": "stdout",
          "text": [
            "2952 1022\n",
            "3974\n"
          ]
        }
      ]
    },
    {
      "cell_type": "markdown",
      "source": [
        "# 결측치 처리"
      ],
      "metadata": {
        "id": "P4TbmwL-uIAM"
      }
    },
    {
      "cell_type": "code",
      "source": [
        "df.info()"
      ],
      "metadata": {
        "colab": {
          "base_uri": "https://localhost:8080/"
        },
        "id": "CLu6uzzqtO_w",
        "outputId": "01924e13-08da-4124-a2e3-d2fd63996689"
      },
      "execution_count": null,
      "outputs": [
        {
          "output_type": "stream",
          "name": "stdout",
          "text": [
            "<class 'pandas.core.frame.DataFrame'>\n",
            "Int64Index: 3974 entries, 0 to 1021\n",
            "Data columns (total 15 columns):\n",
            " #   Column                        Non-Null Count  Dtype  \n",
            "---  ------                        --------------  -----  \n",
            " 0   단지코드                          3974 non-null   object \n",
            " 1   총세대수                          3974 non-null   int64  \n",
            " 2   임대건물구분                        3974 non-null   object \n",
            " 3   지역                            3974 non-null   object \n",
            " 4   공급유형                          3974 non-null   object \n",
            " 5   전용면적                          3974 non-null   float64\n",
            " 6   전용면적별세대수                      3974 non-null   int64  \n",
            " 7   공가수                           3974 non-null   float64\n",
            " 8   자격유형                          3972 non-null   object \n",
            " 9   임대보증금                         3225 non-null   object \n",
            " 10  임대료                           3225 non-null   object \n",
            " 11  도보 10분거리 내 지하철역 수(환승노선 수 반영)  3721 non-null   float64\n",
            " 12  도보 10분거리 내 버스정류장 수            3970 non-null   float64\n",
            " 13  단지내주차면수                       3974 non-null   float64\n",
            " 14  등록차량수                         3974 non-null   float64\n",
            "dtypes: float64(6), int64(2), object(7)\n",
            "memory usage: 496.8+ KB\n"
          ]
        }
      ]
    },
    {
      "cell_type": "code",
      "source": [
        "print(df.isnull().sum())"
      ],
      "metadata": {
        "colab": {
          "base_uri": "https://localhost:8080/"
        },
        "id": "iR26USm1tO9S",
        "outputId": "d517c3f0-eb11-4458-dc83-5e577e915628"
      },
      "execution_count": null,
      "outputs": [
        {
          "output_type": "stream",
          "name": "stdout",
          "text": [
            "단지코드                              0\n",
            "총세대수                              0\n",
            "임대건물구분                            0\n",
            "지역                                0\n",
            "공급유형                              0\n",
            "전용면적                              0\n",
            "전용면적별세대수                          0\n",
            "공가수                               0\n",
            "자격유형                              2\n",
            "임대보증금                           749\n",
            "임대료                             749\n",
            "도보 10분거리 내 지하철역 수(환승노선 수 반영)    253\n",
            "도보 10분거리 내 버스정류장 수                4\n",
            "단지내주차면수                           0\n",
            "등록차량수                             0\n",
            "dtype: int64\n"
          ]
        }
      ]
    },
    {
      "cell_type": "markdown",
      "source": [
        "컬럼 3개 [ '임대보증금', '임대료', '도보 10분거리 내 지하철역 수(환승노선 수 반영)' ] 는 버리고,  \n",
        "\n",
        "컬럼 '도보 10분거리 내 버스정류장 수'는 0으로 채운다."
      ],
      "metadata": {
        "id": "6QxwMVGrun9h"
      }
    },
    {
      "cell_type": "markdown",
      "source": [
        "## 결측치 3개 컬럼 삭제"
      ],
      "metadata": {
        "id": "5EnbCOy7vde6"
      }
    },
    {
      "cell_type": "code",
      "source": [
        "df.drop(columns=['임대보증금', '임대료', '도보 10분거리 내 지하철역 수(환승노선 수 반영)' ], inplace=True)"
      ],
      "metadata": {
        "id": "PRPFAEzOtO1Y"
      },
      "execution_count": null,
      "outputs": []
    },
    {
      "cell_type": "code",
      "source": [
        "print(df.isnull().sum())"
      ],
      "metadata": {
        "colab": {
          "base_uri": "https://localhost:8080/"
        },
        "id": "Ze-OCzuEu4F5",
        "outputId": "e3879055-4d3a-4060-d7de-fc0da61ba213"
      },
      "execution_count": null,
      "outputs": [
        {
          "output_type": "stream",
          "name": "stdout",
          "text": [
            "단지코드                  0\n",
            "총세대수                  0\n",
            "임대건물구분                0\n",
            "지역                    0\n",
            "공급유형                  0\n",
            "전용면적                  0\n",
            "전용면적별세대수              0\n",
            "공가수                   0\n",
            "자격유형                  2\n",
            "도보 10분거리 내 버스정류장 수    4\n",
            "단지내주차면수               0\n",
            "등록차량수                 0\n",
            "dtype: int64\n"
          ]
        }
      ]
    },
    {
      "cell_type": "markdown",
      "source": [
        "# 컬럼 '자격유형' 결측치 처리"
      ],
      "metadata": {
        "id": "Ij20dK9M4VkV"
      }
    },
    {
      "cell_type": "code",
      "source": [
        "df.자격유형.value_counts()"
      ],
      "metadata": {
        "colab": {
          "base_uri": "https://localhost:8080/"
        },
        "id": "pujpQKkk4PYK",
        "outputId": "4faa2e5a-9f25-48d4-8288-363f327ffc59"
      },
      "execution_count": null,
      "outputs": [
        {
          "output_type": "execute_result",
          "data": {
            "text/plain": [
              "A    2373\n",
              "D     749\n",
              "H     247\n",
              "J     198\n",
              "C     129\n",
              "I      56\n",
              "K      49\n",
              "E      47\n",
              "L      45\n",
              "N      40\n",
              "B      21\n",
              "G      10\n",
              "M       4\n",
              "F       3\n",
              "O       1\n",
              "Name: 자격유형, dtype: int64"
            ]
          },
          "metadata": {},
          "execution_count": 368
        }
      ]
    },
    {
      "cell_type": "markdown",
      "source": [
        "값 'A'가 가장 많다. 이 값으로 채우자."
      ],
      "metadata": {
        "id": "5s9xfdEy4ah9"
      }
    },
    {
      "cell_type": "code",
      "source": [
        "df = df.fillna(value={'자격유형':'A'})"
      ],
      "metadata": {
        "id": "6BGNBIE14ZHy"
      },
      "execution_count": null,
      "outputs": []
    },
    {
      "cell_type": "code",
      "source": [
        "print(df.isnull().sum())\n",
        "print()\n",
        "print(df.자격유형.value_counts())"
      ],
      "metadata": {
        "colab": {
          "base_uri": "https://localhost:8080/"
        },
        "id": "d3VFiB5I4tcC",
        "outputId": "1690c00e-547a-4f71-b68d-8b85517d9463"
      },
      "execution_count": null,
      "outputs": [
        {
          "output_type": "stream",
          "name": "stdout",
          "text": [
            "단지코드                  0\n",
            "총세대수                  0\n",
            "임대건물구분                0\n",
            "지역                    0\n",
            "공급유형                  0\n",
            "전용면적                  0\n",
            "전용면적별세대수              0\n",
            "공가수                   0\n",
            "자격유형                  0\n",
            "도보 10분거리 내 버스정류장 수    4\n",
            "단지내주차면수               0\n",
            "등록차량수                 0\n",
            "dtype: int64\n",
            "\n",
            "A    2375\n",
            "D     749\n",
            "H     247\n",
            "J     198\n",
            "C     129\n",
            "I      56\n",
            "K      49\n",
            "E      47\n",
            "L      45\n",
            "N      40\n",
            "B      21\n",
            "G      10\n",
            "M       4\n",
            "F       3\n",
            "O       1\n",
            "Name: 자격유형, dtype: int64\n"
          ]
        }
      ]
    },
    {
      "cell_type": "markdown",
      "source": [
        "# 컬럼 '도보 10분거리 내 버스정류장 수' 결측치 처리"
      ],
      "metadata": {
        "id": "kxLxS8ma43Gn"
      }
    },
    {
      "cell_type": "code",
      "source": [
        "df.fillna(value=0, inplace=True)"
      ],
      "metadata": {
        "id": "3guFIIT1u4DT"
      },
      "execution_count": null,
      "outputs": []
    },
    {
      "cell_type": "code",
      "source": [
        "print(df.isnull().sum())"
      ],
      "metadata": {
        "colab": {
          "base_uri": "https://localhost:8080/"
        },
        "id": "JXEXcSTuu4A0",
        "outputId": "15a5ac35-f6dc-408b-e606-9c4f6fb6816b"
      },
      "execution_count": null,
      "outputs": [
        {
          "output_type": "stream",
          "name": "stdout",
          "text": [
            "단지코드                  0\n",
            "총세대수                  0\n",
            "임대건물구분                0\n",
            "지역                    0\n",
            "공급유형                  0\n",
            "전용면적                  0\n",
            "전용면적별세대수              0\n",
            "공가수                   0\n",
            "자격유형                  0\n",
            "도보 10분거리 내 버스정류장 수    0\n",
            "단지내주차면수               0\n",
            "등록차량수                 0\n",
            "dtype: int64\n"
          ]
        }
      ]
    },
    {
      "cell_type": "code",
      "source": [
        "df.head()"
      ],
      "metadata": {
        "colab": {
          "base_uri": "https://localhost:8080/",
          "height": 355
        },
        "id": "BPyZDaT4u3-O",
        "outputId": "038a6ca0-47cf-4a00-deab-229e977716a8"
      },
      "execution_count": null,
      "outputs": [
        {
          "output_type": "execute_result",
          "data": {
            "text/html": [
              "\n",
              "  <div id=\"df-28855852-bc9f-4e44-972c-79d8ce31aecc\">\n",
              "    <div class=\"colab-df-container\">\n",
              "      <div>\n",
              "<style scoped>\n",
              "    .dataframe tbody tr th:only-of-type {\n",
              "        vertical-align: middle;\n",
              "    }\n",
              "\n",
              "    .dataframe tbody tr th {\n",
              "        vertical-align: top;\n",
              "    }\n",
              "\n",
              "    .dataframe thead th {\n",
              "        text-align: right;\n",
              "    }\n",
              "</style>\n",
              "<table border=\"1\" class=\"dataframe\">\n",
              "  <thead>\n",
              "    <tr style=\"text-align: right;\">\n",
              "      <th></th>\n",
              "      <th>단지코드</th>\n",
              "      <th>총세대수</th>\n",
              "      <th>임대건물구분</th>\n",
              "      <th>지역</th>\n",
              "      <th>공급유형</th>\n",
              "      <th>전용면적</th>\n",
              "      <th>전용면적별세대수</th>\n",
              "      <th>공가수</th>\n",
              "      <th>자격유형</th>\n",
              "      <th>도보 10분거리 내 버스정류장 수</th>\n",
              "      <th>단지내주차면수</th>\n",
              "      <th>등록차량수</th>\n",
              "    </tr>\n",
              "  </thead>\n",
              "  <tbody>\n",
              "    <tr>\n",
              "      <th>0</th>\n",
              "      <td>C2483</td>\n",
              "      <td>900</td>\n",
              "      <td>아파트</td>\n",
              "      <td>경상북도</td>\n",
              "      <td>국민임대</td>\n",
              "      <td>39.72</td>\n",
              "      <td>134</td>\n",
              "      <td>38.0</td>\n",
              "      <td>A</td>\n",
              "      <td>3.0</td>\n",
              "      <td>1425.0</td>\n",
              "      <td>1015.0</td>\n",
              "    </tr>\n",
              "    <tr>\n",
              "      <th>1</th>\n",
              "      <td>C2483</td>\n",
              "      <td>900</td>\n",
              "      <td>아파트</td>\n",
              "      <td>경상북도</td>\n",
              "      <td>국민임대</td>\n",
              "      <td>39.72</td>\n",
              "      <td>15</td>\n",
              "      <td>38.0</td>\n",
              "      <td>A</td>\n",
              "      <td>3.0</td>\n",
              "      <td>1425.0</td>\n",
              "      <td>1015.0</td>\n",
              "    </tr>\n",
              "    <tr>\n",
              "      <th>2</th>\n",
              "      <td>C2483</td>\n",
              "      <td>900</td>\n",
              "      <td>아파트</td>\n",
              "      <td>경상북도</td>\n",
              "      <td>국민임대</td>\n",
              "      <td>51.93</td>\n",
              "      <td>385</td>\n",
              "      <td>38.0</td>\n",
              "      <td>A</td>\n",
              "      <td>3.0</td>\n",
              "      <td>1425.0</td>\n",
              "      <td>1015.0</td>\n",
              "    </tr>\n",
              "    <tr>\n",
              "      <th>3</th>\n",
              "      <td>C2483</td>\n",
              "      <td>900</td>\n",
              "      <td>아파트</td>\n",
              "      <td>경상북도</td>\n",
              "      <td>국민임대</td>\n",
              "      <td>51.93</td>\n",
              "      <td>15</td>\n",
              "      <td>38.0</td>\n",
              "      <td>A</td>\n",
              "      <td>3.0</td>\n",
              "      <td>1425.0</td>\n",
              "      <td>1015.0</td>\n",
              "    </tr>\n",
              "    <tr>\n",
              "      <th>4</th>\n",
              "      <td>C2483</td>\n",
              "      <td>900</td>\n",
              "      <td>아파트</td>\n",
              "      <td>경상북도</td>\n",
              "      <td>국민임대</td>\n",
              "      <td>51.93</td>\n",
              "      <td>41</td>\n",
              "      <td>38.0</td>\n",
              "      <td>A</td>\n",
              "      <td>3.0</td>\n",
              "      <td>1425.0</td>\n",
              "      <td>1015.0</td>\n",
              "    </tr>\n",
              "  </tbody>\n",
              "</table>\n",
              "</div>\n",
              "      <button class=\"colab-df-convert\" onclick=\"convertToInteractive('df-28855852-bc9f-4e44-972c-79d8ce31aecc')\"\n",
              "              title=\"Convert this dataframe to an interactive table.\"\n",
              "              style=\"display:none;\">\n",
              "        \n",
              "  <svg xmlns=\"http://www.w3.org/2000/svg\" height=\"24px\"viewBox=\"0 0 24 24\"\n",
              "       width=\"24px\">\n",
              "    <path d=\"M0 0h24v24H0V0z\" fill=\"none\"/>\n",
              "    <path d=\"M18.56 5.44l.94 2.06.94-2.06 2.06-.94-2.06-.94-.94-2.06-.94 2.06-2.06.94zm-11 1L8.5 8.5l.94-2.06 2.06-.94-2.06-.94L8.5 2.5l-.94 2.06-2.06.94zm10 10l.94 2.06.94-2.06 2.06-.94-2.06-.94-.94-2.06-.94 2.06-2.06.94z\"/><path d=\"M17.41 7.96l-1.37-1.37c-.4-.4-.92-.59-1.43-.59-.52 0-1.04.2-1.43.59L10.3 9.45l-7.72 7.72c-.78.78-.78 2.05 0 2.83L4 21.41c.39.39.9.59 1.41.59.51 0 1.02-.2 1.41-.59l7.78-7.78 2.81-2.81c.8-.78.8-2.07 0-2.86zM5.41 20L4 18.59l7.72-7.72 1.47 1.35L5.41 20z\"/>\n",
              "  </svg>\n",
              "      </button>\n",
              "      \n",
              "  <style>\n",
              "    .colab-df-container {\n",
              "      display:flex;\n",
              "      flex-wrap:wrap;\n",
              "      gap: 12px;\n",
              "    }\n",
              "\n",
              "    .colab-df-convert {\n",
              "      background-color: #E8F0FE;\n",
              "      border: none;\n",
              "      border-radius: 50%;\n",
              "      cursor: pointer;\n",
              "      display: none;\n",
              "      fill: #1967D2;\n",
              "      height: 32px;\n",
              "      padding: 0 0 0 0;\n",
              "      width: 32px;\n",
              "    }\n",
              "\n",
              "    .colab-df-convert:hover {\n",
              "      background-color: #E2EBFA;\n",
              "      box-shadow: 0px 1px 2px rgba(60, 64, 67, 0.3), 0px 1px 3px 1px rgba(60, 64, 67, 0.15);\n",
              "      fill: #174EA6;\n",
              "    }\n",
              "\n",
              "    [theme=dark] .colab-df-convert {\n",
              "      background-color: #3B4455;\n",
              "      fill: #D2E3FC;\n",
              "    }\n",
              "\n",
              "    [theme=dark] .colab-df-convert:hover {\n",
              "      background-color: #434B5C;\n",
              "      box-shadow: 0px 1px 3px 1px rgba(0, 0, 0, 0.15);\n",
              "      filter: drop-shadow(0px 1px 2px rgba(0, 0, 0, 0.3));\n",
              "      fill: #FFFFFF;\n",
              "    }\n",
              "  </style>\n",
              "\n",
              "      <script>\n",
              "        const buttonEl =\n",
              "          document.querySelector('#df-28855852-bc9f-4e44-972c-79d8ce31aecc button.colab-df-convert');\n",
              "        buttonEl.style.display =\n",
              "          google.colab.kernel.accessAllowed ? 'block' : 'none';\n",
              "\n",
              "        async function convertToInteractive(key) {\n",
              "          const element = document.querySelector('#df-28855852-bc9f-4e44-972c-79d8ce31aecc');\n",
              "          const dataTable =\n",
              "            await google.colab.kernel.invokeFunction('convertToInteractive',\n",
              "                                                     [key], {});\n",
              "          if (!dataTable) return;\n",
              "\n",
              "          const docLinkHtml = 'Like what you see? Visit the ' +\n",
              "            '<a target=\"_blank\" href=https://colab.research.google.com/notebooks/data_table.ipynb>data table notebook</a>'\n",
              "            + ' to learn more about interactive tables.';\n",
              "          element.innerHTML = '';\n",
              "          dataTable['output_type'] = 'display_data';\n",
              "          await google.colab.output.renderOutput(dataTable, element);\n",
              "          const docLink = document.createElement('div');\n",
              "          docLink.innerHTML = docLinkHtml;\n",
              "          element.appendChild(docLink);\n",
              "        }\n",
              "      </script>\n",
              "    </div>\n",
              "  </div>\n",
              "  "
            ],
            "text/plain": [
              "    단지코드  총세대수 임대건물구분    지역  ... 자격유형  도보 10분거리 내 버스정류장 수  단지내주차면수   등록차량수\n",
              "0  C2483   900    아파트  경상북도  ...    A                 3.0   1425.0  1015.0\n",
              "1  C2483   900    아파트  경상북도  ...    A                 3.0   1425.0  1015.0\n",
              "2  C2483   900    아파트  경상북도  ...    A                 3.0   1425.0  1015.0\n",
              "3  C2483   900    아파트  경상북도  ...    A                 3.0   1425.0  1015.0\n",
              "4  C2483   900    아파트  경상북도  ...    A                 3.0   1425.0  1015.0\n",
              "\n",
              "[5 rows x 12 columns]"
            ]
          },
          "metadata": {},
          "execution_count": 373
        }
      ]
    },
    {
      "cell_type": "code",
      "source": [
        "value_columns = ['총세대수', '전용면적', '전용면적별세대수', '공가수', '도보 10분거리 내 버스정류장 수', '단지내주차면수', '등록차량수']"
      ],
      "metadata": {
        "id": "8ajhtxw95KWT"
      },
      "execution_count": null,
      "outputs": []
    },
    {
      "cell_type": "markdown",
      "source": [
        "# 로그 처리\n",
        "\n",
        "처리할 컬럼은 '전용면적별세대수' 하나이다."
      ],
      "metadata": {
        "id": "RhKibnR86FdF"
      }
    },
    {
      "cell_type": "code",
      "source": [
        "for column_name in value_columns:\n",
        "    print(column_name)\n",
        "    plt.hist(df[column_name], bins=100)\n",
        "    plt.show()"
      ],
      "metadata": {
        "colab": {
          "base_uri": "https://localhost:8080/",
          "height": 1000
        },
        "id": "y-DiqCxM5bIK",
        "outputId": "3ef8b95f-9831-4e1e-f4aa-8cd17ebdab73"
      },
      "execution_count": null,
      "outputs": [
        {
          "output_type": "stream",
          "name": "stdout",
          "text": [
            "총세대수\n"
          ]
        },
        {
          "output_type": "display_data",
          "data": {
            "image/png": "[encoded data removed]",
            "text/plain": [
              "<Figure size 432x288 with 1 Axes>"
            ]
          },
          "metadata": {
            "needs_background": "light"
          }
        },
        {
          "output_type": "stream",
          "name": "stdout",
          "text": [
            "전용면적\n"
          ]
        },
        {
          "output_type": "display_data",
          "data": {
            "image/png": "[encoded data removed]",
            "text/plain": [
              "<Figure size 432x288 with 1 Axes>"
            ]
          },
          "metadata": {
            "needs_background": "light"
          }
        },
        {
          "output_type": "stream",
          "name": "stdout",
          "text": [
            "전용면적별세대수\n"
          ]
        },
        {
          "output_type": "display_data",
          "data": {
            "image/png": "[encoded data removed]",
            "text/plain": [
              "<Figure size 432x288 with 1 Axes>"
            ]
          },
          "metadata": {
            "needs_background": "light"
          }
        },
        {
          "output_type": "stream",
          "name": "stdout",
          "text": [
            "공가수\n"
          ]
        },
        {
          "output_type": "display_data",
          "data": {
            "image/png": "[encoded data removed]",
            "text/plain": [
              "<Figure size 432x288 with 1 Axes>"
            ]
          },
          "metadata": {
            "needs_background": "light"
          }
        },
        {
          "output_type": "stream",
          "name": "stdout",
          "text": [
            "도보 10분거리 내 버스정류장 수\n"
          ]
        },
        {
          "output_type": "display_data",
          "data": {
            "image/png": "[encoded data removed]",
            "text/plain": [
              "<Figure size 432x288 with 1 Axes>"
            ]
          },
          "metadata": {
            "needs_background": "light"
          }
        },
        {
          "output_type": "stream",
          "name": "stdout",
          "text": [
            "단지내주차면수\n"
          ]
        },
        {
          "output_type": "display_data",
          "data": {
            "image/png": "[encoded data removed]",
            "text/plain": [
              "<Figure size 432x288 with 1 Axes>"
            ]
          },
          "metadata": {
            "needs_background": "light"
          }
        },
        {
          "output_type": "stream",
          "name": "stdout",
          "text": [
            "등록차량수\n"
          ]
        },
        {
          "output_type": "display_data",
          "data": {
            "image/png": "[encoded data removed]",
            "text/plain": [
              "<Figure size 432x288 with 1 Axes>"
            ]
          },
          "metadata": {
            "needs_background": "light"
          }
        }
      ]
    },
    {
      "cell_type": "code",
      "source": [
        "log_columns = ['전용면적별세대수']\n",
        "\n",
        "for column_name in log_columns:\n",
        "    print(column_name)\n",
        "    plt.hist(df[column_name], bins=100)\n",
        "    plt.show()    \n",
        "    df['log_'+column_name] = np.log(df[column_name])\n",
        "    plt.hist(df['log_'+column_name], bins=100)\n",
        "    plt.show()    \n",
        "\n",
        "to_be_removed_columns.extend(log_columns)    "
      ],
      "metadata": {
        "colab": {
          "base_uri": "https://localhost:8080/",
          "height": 531
        },
        "id": "kaEeMl996JnI",
        "outputId": "add7747d-6269-4c16-f5d7-2570bc2faa50"
      },
      "execution_count": null,
      "outputs": [
        {
          "output_type": "stream",
          "name": "stdout",
          "text": [
            "전용면적별세대수\n"
          ]
        },
        {
          "output_type": "display_data",
          "data": {
            "image/png": "[encoded data removed]",
            "text/plain": [
              "<Figure size 432x288 with 1 Axes>"
            ]
          },
          "metadata": {
            "needs_background": "light"
          }
        },
        {
          "output_type": "display_data",
          "data": {
            "image/png": "[encoded data removed]",
            "text/plain": [
              "<Figure size 432x288 with 1 Axes>"
            ]
          },
          "metadata": {
            "needs_background": "light"
          }
        }
      ]
    },
    {
      "cell_type": "markdown",
      "source": [
        "# 이상치 처리"
      ],
      "metadata": {
        "id": "yRSrgsLr64m3"
      }
    },
    {
      "cell_type": "code",
      "source": [
        "for column_name in value_columns:\n",
        "    print(column_name)\n",
        "    plt.hist(df[column_name], bins=100)\n",
        "    plt.show()"
      ],
      "metadata": {
        "colab": {
          "base_uri": "https://localhost:8080/",
          "height": 1000
        },
        "id": "WcdMxYVW67ir",
        "outputId": "01855a1b-ded8-4981-81c5-e6e7e7aced95"
      },
      "execution_count": null,
      "outputs": [
        {
          "output_type": "stream",
          "name": "stdout",
          "text": [
            "총세대수\n"
          ]
        },
        {
          "output_type": "display_data",
          "data": {
            "image/png": "[encoded data removed]",
            "text/plain": [
              "<Figure size 432x288 with 1 Axes>"
            ]
          },
          "metadata": {
            "needs_background": "light"
          }
        },
        {
          "output_type": "stream",
          "name": "stdout",
          "text": [
            "전용면적\n"
          ]
        },
        {
          "output_type": "display_data",
          "data": {
            "image/png": "[encoded data removed]",
            "text/plain": [
              "<Figure size 432x288 with 1 Axes>"
            ]
          },
          "metadata": {
            "needs_background": "light"
          }
        },
        {
          "output_type": "stream",
          "name": "stdout",
          "text": [
            "전용면적별세대수\n"
          ]
        },
        {
          "output_type": "display_data",
          "data": {
            "image/png": "[encoded data removed]",
            "text/plain": [
              "<Figure size 432x288 with 1 Axes>"
            ]
          },
          "metadata": {
            "needs_background": "light"
          }
        },
        {
          "output_type": "stream",
          "name": "stdout",
          "text": [
            "공가수\n"
          ]
        },
        {
          "output_type": "display_data",
          "data": {
            "image/png": "[encoded data removed]",
            "text/plain": [
              "<Figure size 432x288 with 1 Axes>"
            ]
          },
          "metadata": {
            "needs_background": "light"
          }
        },
        {
          "output_type": "stream",
          "name": "stdout",
          "text": [
            "도보 10분거리 내 버스정류장 수\n"
          ]
        },
        {
          "output_type": "display_data",
          "data": {
            "image/png": "[encoded data removed]",
            "text/plain": [
              "<Figure size 432x288 with 1 Axes>"
            ]
          },
          "metadata": {
            "needs_background": "light"
          }
        },
        {
          "output_type": "stream",
          "name": "stdout",
          "text": [
            "단지내주차면수\n"
          ]
        },
        {
          "output_type": "display_data",
          "data": {
            "image/png": "[encoded data removed]",
            "text/plain": [
              "<Figure size 432x288 with 1 Axes>"
            ]
          },
          "metadata": {
            "needs_background": "light"
          }
        },
        {
          "output_type": "stream",
          "name": "stdout",
          "text": [
            "등록차량수\n"
          ]
        },
        {
          "output_type": "display_data",
          "data": {
            "image/png": "[encoded data removed]",
            "text/plain": [
              "<Figure size 432x288 with 1 Axes>"
            ]
          },
          "metadata": {
            "needs_background": "light"
          }
        }
      ]
    },
    {
      "cell_type": "code",
      "source": [
        "max_values = {\n",
        "    '전용면적':100,\n",
        "    '공가수':40,\n",
        "    '도보 10분거리 내 버스정류장 수':10,\n",
        "}"
      ],
      "metadata": {
        "id": "ghMrBQ0Y67gD"
      },
      "execution_count": null,
      "outputs": []
    },
    {
      "cell_type": "code",
      "source": [
        "for column_name, max_value in max_values.items():\n",
        "    print(column_name, max_value)\n",
        "    plt.hist(df[column_name], bins=100)\n",
        "    plt.show()        \n",
        "    new_column_name = \"max_limited_\"+column_name\n",
        "    df[new_column_name] = df[column_name]\n",
        "    df.loc[df[new_column_name]>max_value, new_column_name] = max_value\n",
        "    plt.hist(df[new_column_name], bins=100)\n",
        "    plt.show()    \n",
        "    to_be_removed_columns.append(column_name)    "
      ],
      "metadata": {
        "colab": {
          "base_uri": "https://localhost:8080/",
          "height": 1000
        },
        "id": "klnqZNdc67ax",
        "outputId": "f2dbbdab-9cd7-4dca-a299-909b5b744daa"
      },
      "execution_count": null,
      "outputs": [
        {
          "output_type": "stream",
          "name": "stdout",
          "text": [
            "전용면적 100\n"
          ]
        },
        {
          "output_type": "display_data",
          "data": {
            "image/png": "[encoded data removed]",
            "text/plain": [
              "<Figure size 432x288 with 1 Axes>"
            ]
          },
          "metadata": {
            "needs_background": "light"
          }
        },
        {
          "output_type": "display_data",
          "data": {
            "image/png": "[encoded data removed]",
            "text/plain": [
              "<Figure size 432x288 with 1 Axes>"
            ]
          },
          "metadata": {
            "needs_background": "light"
          }
        },
        {
          "output_type": "stream",
          "name": "stdout",
          "text": [
            "공가수 40\n"
          ]
        },
        {
          "output_type": "display_data",
          "data": {
            "image/png": "[encoded data removed]",
            "text/plain": [
              "<Figure size 432x288 with 1 Axes>"
            ]
          },
          "metadata": {
            "needs_background": "light"
          }
        },
        {
          "output_type": "display_data",
          "data": {
            "image/png": "[encoded data removed]",
            "text/plain": [
              "<Figure size 432x288 with 1 Axes>"
            ]
          },
          "metadata": {
            "needs_background": "light"
          }
        },
        {
          "output_type": "stream",
          "name": "stdout",
          "text": [
            "도보 10분거리 내 버스정류장 수 10\n"
          ]
        },
        {
          "output_type": "display_data",
          "data": {
            "image/png": "[encoded data removed]",
            "text/plain": [
              "<Figure size 432x288 with 1 Axes>"
            ]
          },
          "metadata": {
            "needs_background": "light"
          }
        },
        {
          "output_type": "display_data",
          "data": {
            "image/png": "[encoded data removed]",
            "text/plain": [
              "<Figure size 432x288 with 1 Axes>"
            ]
          },
          "metadata": {
            "needs_background": "light"
          }
        }
      ]
    },
    {
      "cell_type": "code",
      "source": [
        ""
      ],
      "metadata": {
        "id": "E4Wy85Sh67Vw"
      },
      "execution_count": null,
      "outputs": []
    },
    {
      "cell_type": "markdown",
      "source": [
        "# 카테고리성 데이터 처리\n",
        "\n",
        "category_columns = ['단지코드', '임대건물구분', '지역', '공급유형', '자격유형']"
      ],
      "metadata": {
        "id": "9fCq8NZUwNez"
      }
    },
    {
      "cell_type": "code",
      "source": [
        "category_columns = ['단지코드', '임대건물구분', '지역', '공급유형', '자격유형']"
      ],
      "metadata": {
        "id": "mIBj9olSu370"
      },
      "execution_count": null,
      "outputs": []
    },
    {
      "cell_type": "code",
      "source": [
        "for column_name in category_columns:\n",
        "    df[column_name] = df[column_name].astype('category')\n",
        "    df[column_name+'_code'] = df[column_name].cat.codes\n",
        "\n",
        "to_be_removed_columns.extend(category_columns)"
      ],
      "metadata": {
        "id": "YkXukH_ru35T"
      },
      "execution_count": null,
      "outputs": []
    },
    {
      "cell_type": "code",
      "source": [
        "print(df.info())"
      ],
      "metadata": {
        "colab": {
          "base_uri": "https://localhost:8080/"
        },
        "id": "SfNt4JZZu32z",
        "outputId": "d558c38c-f562-448e-d503-01b02f59cf82"
      },
      "execution_count": null,
      "outputs": [
        {
          "output_type": "stream",
          "name": "stdout",
          "text": [
            "<class 'pandas.core.frame.DataFrame'>\n",
            "Int64Index: 3974 entries, 0 to 1021\n",
            "Data columns (total 21 columns):\n",
            " #   Column                          Non-Null Count  Dtype   \n",
            "---  ------                          --------------  -----   \n",
            " 0   단지코드                            3974 non-null   category\n",
            " 1   총세대수                            3974 non-null   int64   \n",
            " 2   임대건물구분                          3974 non-null   category\n",
            " 3   지역                              3974 non-null   category\n",
            " 4   공급유형                            3974 non-null   category\n",
            " 5   전용면적                            3974 non-null   float64 \n",
            " 6   전용면적별세대수                        3974 non-null   int64   \n",
            " 7   공가수                             3974 non-null   float64 \n",
            " 8   자격유형                            3974 non-null   category\n",
            " 9   도보 10분거리 내 버스정류장 수              3974 non-null   float64 \n",
            " 10  단지내주차면수                         3974 non-null   float64 \n",
            " 11  등록차량수                           3974 non-null   float64 \n",
            " 12  log_전용면적별세대수                    3974 non-null   float64 \n",
            " 13  max_limited_전용면적                3974 non-null   float64 \n",
            " 14  max_limited_공가수                 3974 non-null   float64 \n",
            " 15  max_limited_도보 10분거리 내 버스정류장 수  3974 non-null   float64 \n",
            " 16  단지코드_code                       3974 non-null   int16   \n",
            " 17  임대건물구분_code                     3974 non-null   int8    \n",
            " 18  지역_code                         3974 non-null   int8    \n",
            " 19  공급유형_code                       3974 non-null   int8    \n",
            " 20  자격유형_code                       3974 non-null   int8    \n",
            "dtypes: category(5), float64(9), int16(1), int64(2), int8(4)\n",
            "memory usage: 445.6 KB\n",
            "None\n"
          ]
        }
      ]
    },
    {
      "cell_type": "markdown",
      "source": [
        "# 카테고리 컬럼을 one-hot인코딩"
      ],
      "metadata": {
        "id": "WjO4hQQR1Qcg"
      }
    },
    {
      "cell_type": "code",
      "source": [
        "df.info()"
      ],
      "metadata": {
        "colab": {
          "base_uri": "https://localhost:8080/"
        },
        "id": "aNxpCmKv1s_c",
        "outputId": "0ce813fb-80a2-44e1-b4d6-32226b2e94e8"
      },
      "execution_count": null,
      "outputs": [
        {
          "output_type": "stream",
          "name": "stdout",
          "text": [
            "<class 'pandas.core.frame.DataFrame'>\n",
            "Int64Index: 3974 entries, 0 to 1021\n",
            "Data columns (total 21 columns):\n",
            " #   Column                          Non-Null Count  Dtype   \n",
            "---  ------                          --------------  -----   \n",
            " 0   단지코드                            3974 non-null   category\n",
            " 1   총세대수                            3974 non-null   int64   \n",
            " 2   임대건물구분                          3974 non-null   category\n",
            " 3   지역                              3974 non-null   category\n",
            " 4   공급유형                            3974 non-null   category\n",
            " 5   전용면적                            3974 non-null   float64 \n",
            " 6   전용면적별세대수                        3974 non-null   int64   \n",
            " 7   공가수                             3974 non-null   float64 \n",
            " 8   자격유형                            3974 non-null   category\n",
            " 9   도보 10분거리 내 버스정류장 수              3974 non-null   float64 \n",
            " 10  단지내주차면수                         3974 non-null   float64 \n",
            " 11  등록차량수                           3974 non-null   float64 \n",
            " 12  log_전용면적별세대수                    3974 non-null   float64 \n",
            " 13  max_limited_전용면적                3974 non-null   float64 \n",
            " 14  max_limited_공가수                 3974 non-null   float64 \n",
            " 15  max_limited_도보 10분거리 내 버스정류장 수  3974 non-null   float64 \n",
            " 16  단지코드_code                       3974 non-null   int16   \n",
            " 17  임대건물구분_code                     3974 non-null   int8    \n",
            " 18  지역_code                         3974 non-null   int8    \n",
            " 19  공급유형_code                       3974 non-null   int8    \n",
            " 20  자격유형_code                       3974 non-null   int8    \n",
            "dtypes: category(5), float64(9), int16(1), int64(2), int8(4)\n",
            "memory usage: 445.6 KB\n"
          ]
        }
      ]
    },
    {
      "cell_type": "code",
      "source": [
        "for category_name in category_columns:\n",
        "    column_name = category_name+'_code'\n",
        "    df = pd.get_dummies(df, columns = [column_name])"
      ],
      "metadata": {
        "id": "PrEMlAlN1P7C"
      },
      "execution_count": null,
      "outputs": []
    },
    {
      "cell_type": "code",
      "source": [
        "print(df.info())"
      ],
      "metadata": {
        "colab": {
          "base_uri": "https://localhost:8080/"
        },
        "id": "1eAyEyU01P4E",
        "outputId": "877b18da-bbc4-498d-d752-9ac6fb669b22"
      },
      "execution_count": null,
      "outputs": [
        {
          "output_type": "stream",
          "name": "stdout",
          "text": [
            "<class 'pandas.core.frame.DataFrame'>\n",
            "Int64Index: 3974 entries, 0 to 1021\n",
            "Columns: 632 entries, 단지코드 to 자격유형_code_14\n",
            "dtypes: category(5), float64(9), int64(2), uint8(616)\n",
            "memory usage: 2.7 MB\n",
            "None\n"
          ]
        }
      ]
    },
    {
      "cell_type": "markdown",
      "source": [
        "# 불필요한 컬럼 삭제"
      ],
      "metadata": {
        "id": "lFdlQl7g9lRI"
      }
    },
    {
      "cell_type": "code",
      "source": [
        "df.drop(columns=to_be_removed_columns, inplace=True)"
      ],
      "metadata": {
        "id": "slVwTjQW9nmw"
      },
      "execution_count": null,
      "outputs": []
    },
    {
      "cell_type": "code",
      "source": [
        "print(df.info())"
      ],
      "metadata": {
        "colab": {
          "base_uri": "https://localhost:8080/"
        },
        "id": "-JA2KCAu9sXU",
        "outputId": "68cc6f25-4cf9-448a-f846-fb51b7ac3422"
      },
      "execution_count": null,
      "outputs": [
        {
          "output_type": "stream",
          "name": "stdout",
          "text": [
            "<class 'pandas.core.frame.DataFrame'>\n",
            "Int64Index: 3974 entries, 0 to 1021\n",
            "Columns: 623 entries, 총세대수 to 자격유형_code_14\n",
            "dtypes: float64(6), int64(1), uint8(616)\n",
            "memory usage: 2.6 MB\n",
            "None\n"
          ]
        }
      ]
    },
    {
      "cell_type": "markdown",
      "source": [
        "# Normalization"
      ],
      "metadata": {
        "id": "RyoFZzPJ85od"
      }
    },
    {
      "cell_type": "code",
      "source": [
        "y_df = df['등록차량수']\n",
        "x_df = df.drop(columns=['등록차량수'])"
      ],
      "metadata": {
        "id": "y-7sEaX867YX"
      },
      "execution_count": null,
      "outputs": []
    },
    {
      "cell_type": "code",
      "source": [
        "x_df = (x_df - x_df.min()) / (x_df.max() - x_df.min())"
      ],
      "metadata": {
        "id": "BS53zb2e1P1L"
      },
      "execution_count": null,
      "outputs": []
    },
    {
      "cell_type": "code",
      "source": [
        "print(len(y_df))\n",
        "print(y_df.value_counts())"
      ],
      "metadata": {
        "colab": {
          "base_uri": "https://localhost:8080/"
        },
        "id": "S1SYkYu-1Pyd",
        "outputId": "9daa5419-01a0-40ce-b24c-b2e164f7cdb0"
      },
      "execution_count": null,
      "outputs": [
        {
          "output_type": "stream",
          "name": "stdout",
          "text": [
            "3974\n",
            "0.0      1022\n",
            "359.0      61\n",
            "172.0      48\n",
            "62.0       44\n",
            "116.0      40\n",
            "         ... \n",
            "149.0       2\n",
            "873.0       2\n",
            "73.0        2\n",
            "16.0        1\n",
            "386.0       1\n",
            "Name: 등록차량수, Length: 355, dtype: int64\n"
          ]
        }
      ]
    },
    {
      "cell_type": "code",
      "source": [
        "y_min = y_df.min()\n",
        "y_max = y_df.max()\n",
        "y_df = (y_df - y_min) / (y_max - y_min)"
      ],
      "metadata": {
        "id": "U2Nc-Ljk1Pv3"
      },
      "execution_count": null,
      "outputs": []
    },
    {
      "cell_type": "markdown",
      "source": [
        "# numpy 로 변환"
      ],
      "metadata": {
        "id": "PUlxxxNg-4ln"
      }
    },
    {
      "cell_type": "code",
      "source": [
        " x = x_df.to_numpy()\n",
        " y = y_df.to_numpy()\n",
        "\n",
        " print(x.shape)\n",
        " print(y.shape)"
      ],
      "metadata": {
        "colab": {
          "base_uri": "https://localhost:8080/"
        },
        "id": "YuQnVza7-6tk",
        "outputId": "e920edbd-320a-4a7a-d3ed-5fb741fa83c7"
      },
      "execution_count": null,
      "outputs": [
        {
          "output_type": "stream",
          "name": "stdout",
          "text": [
            "(3974, 622)\n",
            "(3974,)\n"
          ]
        }
      ]
    },
    {
      "cell_type": "markdown",
      "source": [
        "# train / test 분리"
      ],
      "metadata": {
        "id": "8bXgytWc-qaV"
      }
    },
    {
      "cell_type": "code",
      "source": [
        "train_x, test_x = x[:train_data_count], x[:test_data_count]\n",
        "train_y, test_y = y[:train_data_count], y[:test_data_count]"
      ],
      "metadata": {
        "id": "eDwcY4yl1PtN"
      },
      "execution_count": null,
      "outputs": []
    },
    {
      "cell_type": "code",
      "source": [
        ""
      ],
      "metadata": {
        "id": "Zky6GcdF1PqX"
      },
      "execution_count": null,
      "outputs": []
    },
    {
      "cell_type": "markdown",
      "source": [
        "# 모델 학습"
      ],
      "metadata": {
        "id": "-q9vza3p_Nlk"
      }
    },
    {
      "cell_type": "code",
      "source": [
        "import numpy as np\n",
        "import pandas as pd\n",
        "import matplotlib.pyplot as plt\n",
        "\n",
        "import tensorflow as tf\n",
        "\n",
        "from tensorflow import keras\n",
        "from tensorflow.keras import optimizers\n",
        "from tensorflow.keras.layers import Dense\n",
        "\n",
        "model = keras.Sequential()\n",
        "model.add(Dense(32, activation='relu', input_shape=(train_x.shape[-1],)))\n",
        "model.add(Dense(10, activation='relu'))\n",
        "model.add(Dense(1))\n",
        "\n",
        "model.compile(optimizer=\"SGD\", loss=\"mse\", metrics=[\"mae\"])\n",
        "model.summary()\n",
        "\n",
        "from tensorflow.keras.callbacks import EarlyStopping\n",
        "early_stopping = EarlyStopping(\n",
        "    monitor='val_loss',  # 모니터링 대상\n",
        "    verbose=1,\n",
        "    patience=50)         # 중지까지의 여유분\n",
        "\n",
        "history = model.fit(train_x, train_y, epochs=1000, verbose=1, batch_size=128, validation_split=0.1,\n",
        "                    callbacks=[early_stopping])\n",
        "\n",
        "plt.plot(history.history['loss'])\n",
        "plt.plot(history.history['val_loss'])\n",
        "plt.show()\n",
        "\n",
        "\n",
        "\n",
        "loss, mae = model.evaluate(test_x, test_y)\n",
        "print(\"loss=\", loss)\n",
        "print(\"mae=\", mae)\n",
        "\n",
        "y_ = model.predict(test_x)\n",
        "\n",
        "plt.scatter(test_y, y_)\n",
        "plt.show()"
      ],
      "metadata": {
        "colab": {
          "base_uri": "https://localhost:8080/",
          "height": 1000
        },
        "id": "cRG40KD9u30A",
        "outputId": "de1d84f8-8f9e-4306-dba6-0a463308b9fe"
      },
      "execution_count": null,
      "outputs": [
        {
          "output_type": "stream",
          "name": "stdout",
          "text": [
            "Model: \"sequential_7\"\n",
            "_________________________________________________________________\n",
            " Layer (type)                Output Shape              Param #   \n",
            "=================================================================\n",
            " dense_21 (Dense)            (None, 32)                19936     \n",
            "                                                                 \n",
            " dense_22 (Dense)            (None, 10)                330       \n",
            "                                                                 \n",
            " dense_23 (Dense)            (None, 1)                 11        \n",
            "                                                                 \n",
            "=================================================================\n",
            "Total params: 20,277\n",
            "Trainable params: 20,277\n",
            "Non-trainable params: 0\n",
            "_________________________________________________________________\n",
            "Epoch 1/1000\n",
            "21/21 [==============================] - 1s 11ms/step - loss: 0.0474 - mae: 0.1694 - val_loss: 0.0456 - val_mae: 0.1585\n",
            "Epoch 2/1000\n",
            "21/21 [==============================] - 0s 3ms/step - loss: 0.0344 - mae: 0.1407 - val_loss: 0.0421 - val_mae: 0.1557\n",
            "Epoch 3/1000\n",
            "21/21 [==============================] - 0s 4ms/step - loss: 0.0286 - mae: 0.1247 - val_loss: 0.0384 - val_mae: 0.1514\n",
            "Epoch 4/1000\n",
            "21/21 [==============================] - 0s 3ms/step - loss: 0.0253 - mae: 0.1152 - val_loss: 0.0353 - val_mae: 0.1470\n",
            "Epoch 5/1000\n",
            "21/21 [==============================] - 0s 4ms/step - loss: 0.0231 - mae: 0.1093 - val_loss: 0.0330 - val_mae: 0.1434\n",
            "Epoch 6/1000\n",
            "21/21 [==============================] - 0s 5ms/step - loss: 0.0213 - mae: 0.1051 - val_loss: 0.0309 - val_mae: 0.1404\n",
            "Epoch 7/1000\n",
            "21/21 [==============================] - 0s 3ms/step - loss: 0.0200 - mae: 0.1019 - val_loss: 0.0294 - val_mae: 0.1379\n",
            "Epoch 8/1000\n",
            "21/21 [==============================] - 0s 4ms/step - loss: 0.0188 - mae: 0.0988 - val_loss: 0.0278 - val_mae: 0.1359\n",
            "Epoch 9/1000\n",
            "21/21 [==============================] - 0s 4ms/step - loss: 0.0179 - mae: 0.0966 - val_loss: 0.0264 - val_mae: 0.1339\n",
            "Epoch 10/1000\n",
            "21/21 [==============================] - 0s 5ms/step - loss: 0.0170 - mae: 0.0942 - val_loss: 0.0253 - val_mae: 0.1323\n",
            "Epoch 11/1000\n",
            "21/21 [==============================] - 0s 3ms/step - loss: 0.0163 - mae: 0.0924 - val_loss: 0.0243 - val_mae: 0.1306\n",
            "Epoch 12/1000\n",
            "21/21 [==============================] - 0s 4ms/step - loss: 0.0156 - mae: 0.0907 - val_loss: 0.0234 - val_mae: 0.1287\n",
            "Epoch 13/1000\n",
            "21/21 [==============================] - 0s 3ms/step - loss: 0.0150 - mae: 0.0888 - val_loss: 0.0226 - val_mae: 0.1275\n",
            "Epoch 14/1000\n",
            "21/21 [==============================] - 0s 4ms/step - loss: 0.0145 - mae: 0.0873 - val_loss: 0.0219 - val_mae: 0.1260\n",
            "Epoch 15/1000\n",
            "21/21 [==============================] - 0s 3ms/step - loss: 0.0140 - mae: 0.0859 - val_loss: 0.0213 - val_mae: 0.1246\n",
            "Epoch 16/1000\n",
            "21/21 [==============================] - 0s 4ms/step - loss: 0.0135 - mae: 0.0845 - val_loss: 0.0207 - val_mae: 0.1233\n",
            "Epoch 17/1000\n",
            "21/21 [==============================] - 0s 4ms/step - loss: 0.0131 - mae: 0.0832 - val_loss: 0.0203 - val_mae: 0.1223\n",
            "Epoch 18/1000\n",
            "21/21 [==============================] - 0s 3ms/step - loss: 0.0127 - mae: 0.0822 - val_loss: 0.0197 - val_mae: 0.1210\n",
            "Epoch 19/1000\n",
            "21/21 [==============================] - 0s 5ms/step - loss: 0.0124 - mae: 0.0809 - val_loss: 0.0194 - val_mae: 0.1201\n",
            "Epoch 20/1000\n",
            "21/21 [==============================] - 0s 4ms/step - loss: 0.0120 - mae: 0.0800 - val_loss: 0.0190 - val_mae: 0.1191\n",
            "Epoch 21/1000\n",
            "21/21 [==============================] - 0s 5ms/step - loss: 0.0117 - mae: 0.0792 - val_loss: 0.0185 - val_mae: 0.1178\n",
            "Epoch 22/1000\n",
            "21/21 [==============================] - 0s 3ms/step - loss: 0.0114 - mae: 0.0782 - val_loss: 0.0182 - val_mae: 0.1169\n",
            "Epoch 23/1000\n",
            "21/21 [==============================] - 0s 5ms/step - loss: 0.0111 - mae: 0.0773 - val_loss: 0.0179 - val_mae: 0.1160\n",
            "Epoch 24/1000\n",
            "21/21 [==============================] - 0s 4ms/step - loss: 0.0109 - mae: 0.0766 - val_loss: 0.0175 - val_mae: 0.1149\n",
            "Epoch 25/1000\n",
            "21/21 [==============================] - 0s 4ms/step - loss: 0.0106 - mae: 0.0758 - val_loss: 0.0172 - val_mae: 0.1139\n",
            "Epoch 26/1000\n",
            "21/21 [==============================] - 0s 5ms/step - loss: 0.0104 - mae: 0.0750 - val_loss: 0.0169 - val_mae: 0.1131\n",
            "Epoch 27/1000\n",
            "21/21 [==============================] - 0s 5ms/step - loss: 0.0102 - mae: 0.0743 - val_loss: 0.0167 - val_mae: 0.1125\n",
            "Epoch 28/1000\n",
            "21/21 [==============================] - 0s 4ms/step - loss: 0.0100 - mae: 0.0738 - val_loss: 0.0165 - val_mae: 0.1116\n",
            "Epoch 29/1000\n",
            "21/21 [==============================] - 0s 3ms/step - loss: 0.0098 - mae: 0.0731 - val_loss: 0.0163 - val_mae: 0.1109\n",
            "Epoch 30/1000\n",
            "21/21 [==============================] - 0s 4ms/step - loss: 0.0096 - mae: 0.0726 - val_loss: 0.0160 - val_mae: 0.1101\n",
            "Epoch 31/1000\n",
            "21/21 [==============================] - 0s 4ms/step - loss: 0.0094 - mae: 0.0720 - val_loss: 0.0159 - val_mae: 0.1095\n",
            "Epoch 32/1000\n",
            "21/21 [==============================] - 0s 6ms/step - loss: 0.0093 - mae: 0.0715 - val_loss: 0.0156 - val_mae: 0.1086\n",
            "Epoch 33/1000\n",
            "21/21 [==============================] - 0s 4ms/step - loss: 0.0091 - mae: 0.0708 - val_loss: 0.0156 - val_mae: 0.1083\n",
            "Epoch 34/1000\n",
            "21/21 [==============================] - 0s 5ms/step - loss: 0.0090 - mae: 0.0705 - val_loss: 0.0154 - val_mae: 0.1076\n",
            "Epoch 35/1000\n",
            "21/21 [==============================] - 0s 4ms/step - loss: 0.0088 - mae: 0.0701 - val_loss: 0.0152 - val_mae: 0.1069\n",
            "Epoch 36/1000\n",
            "21/21 [==============================] - 0s 5ms/step - loss: 0.0087 - mae: 0.0696 - val_loss: 0.0150 - val_mae: 0.1063\n",
            "Epoch 37/1000\n",
            "21/21 [==============================] - 0s 4ms/step - loss: 0.0086 - mae: 0.0692 - val_loss: 0.0148 - val_mae: 0.1055\n",
            "Epoch 38/1000\n",
            "21/21 [==============================] - 0s 5ms/step - loss: 0.0084 - mae: 0.0687 - val_loss: 0.0146 - val_mae: 0.1050\n",
            "Epoch 39/1000\n",
            "21/21 [==============================] - 0s 5ms/step - loss: 0.0083 - mae: 0.0683 - val_loss: 0.0146 - val_mae: 0.1046\n",
            "Epoch 40/1000\n",
            "21/21 [==============================] - 0s 4ms/step - loss: 0.0082 - mae: 0.0680 - val_loss: 0.0145 - val_mae: 0.1041\n",
            "Epoch 41/1000\n",
            "21/21 [==============================] - 0s 4ms/step - loss: 0.0081 - mae: 0.0676 - val_loss: 0.0143 - val_mae: 0.1035\n",
            "Epoch 42/1000\n",
            "21/21 [==============================] - 0s 5ms/step - loss: 0.0080 - mae: 0.0671 - val_loss: 0.0143 - val_mae: 0.1032\n",
            "Epoch 43/1000\n",
            "21/21 [==============================] - 0s 4ms/step - loss: 0.0079 - mae: 0.0668 - val_loss: 0.0142 - val_mae: 0.1028\n",
            "Epoch 44/1000\n",
            "21/21 [==============================] - 0s 5ms/step - loss: 0.0078 - mae: 0.0665 - val_loss: 0.0141 - val_mae: 0.1022\n",
            "Epoch 45/1000\n",
            "21/21 [==============================] - 0s 5ms/step - loss: 0.0077 - mae: 0.0661 - val_loss: 0.0139 - val_mae: 0.1017\n",
            "Epoch 46/1000\n",
            "21/21 [==============================] - 0s 4ms/step - loss: 0.0076 - mae: 0.0658 - val_loss: 0.0139 - val_mae: 0.1013\n",
            "Epoch 47/1000\n",
            "21/21 [==============================] - 0s 4ms/step - loss: 0.0075 - mae: 0.0655 - val_loss: 0.0138 - val_mae: 0.1009\n",
            "Epoch 48/1000\n",
            "21/21 [==============================] - 0s 5ms/step - loss: 0.0075 - mae: 0.0651 - val_loss: 0.0137 - val_mae: 0.1005\n",
            "Epoch 49/1000\n",
            "21/21 [==============================] - 0s 4ms/step - loss: 0.0074 - mae: 0.0648 - val_loss: 0.0136 - val_mae: 0.1001\n",
            "Epoch 50/1000\n",
            "21/21 [==============================] - 0s 5ms/step - loss: 0.0073 - mae: 0.0644 - val_loss: 0.0136 - val_mae: 0.0998\n",
            "Epoch 51/1000\n",
            "21/21 [==============================] - 0s 4ms/step - loss: 0.0072 - mae: 0.0642 - val_loss: 0.0134 - val_mae: 0.0993\n",
            "Epoch 52/1000\n",
            "21/21 [==============================] - 0s 5ms/step - loss: 0.0072 - mae: 0.0639 - val_loss: 0.0133 - val_mae: 0.0988\n",
            "Epoch 53/1000\n",
            "21/21 [==============================] - 0s 4ms/step - loss: 0.0071 - mae: 0.0635 - val_loss: 0.0133 - val_mae: 0.0986\n",
            "Epoch 54/1000\n",
            "21/21 [==============================] - 0s 5ms/step - loss: 0.0070 - mae: 0.0632 - val_loss: 0.0132 - val_mae: 0.0983\n",
            "Epoch 55/1000\n",
            "21/21 [==============================] - 0s 4ms/step - loss: 0.0070 - mae: 0.0630 - val_loss: 0.0131 - val_mae: 0.0979\n",
            "Epoch 56/1000\n",
            "21/21 [==============================] - 0s 4ms/step - loss: 0.0069 - mae: 0.0626 - val_loss: 0.0131 - val_mae: 0.0977\n",
            "Epoch 57/1000\n",
            "21/21 [==============================] - 0s 5ms/step - loss: 0.0068 - mae: 0.0625 - val_loss: 0.0129 - val_mae: 0.0972\n",
            "Epoch 58/1000\n",
            "21/21 [==============================] - 0s 4ms/step - loss: 0.0068 - mae: 0.0621 - val_loss: 0.0129 - val_mae: 0.0969\n",
            "Epoch 59/1000\n",
            "21/21 [==============================] - 0s 4ms/step - loss: 0.0067 - mae: 0.0619 - val_loss: 0.0128 - val_mae: 0.0966\n",
            "Epoch 60/1000\n",
            "21/21 [==============================] - 0s 4ms/step - loss: 0.0066 - mae: 0.0616 - val_loss: 0.0127 - val_mae: 0.0963\n",
            "Epoch 61/1000\n",
            "21/21 [==============================] - 0s 4ms/step - loss: 0.0066 - mae: 0.0613 - val_loss: 0.0127 - val_mae: 0.0961\n",
            "Epoch 62/1000\n",
            "21/21 [==============================] - 0s 4ms/step - loss: 0.0065 - mae: 0.0611 - val_loss: 0.0126 - val_mae: 0.0957\n",
            "Epoch 63/1000\n",
            "21/21 [==============================] - 0s 4ms/step - loss: 0.0065 - mae: 0.0608 - val_loss: 0.0127 - val_mae: 0.0956\n",
            "Epoch 64/1000\n",
            "21/21 [==============================] - 0s 5ms/step - loss: 0.0064 - mae: 0.0607 - val_loss: 0.0126 - val_mae: 0.0953\n",
            "Epoch 65/1000\n",
            "21/21 [==============================] - 0s 4ms/step - loss: 0.0064 - mae: 0.0604 - val_loss: 0.0125 - val_mae: 0.0951\n",
            "Epoch 66/1000\n",
            "21/21 [==============================] - 0s 4ms/step - loss: 0.0063 - mae: 0.0601 - val_loss: 0.0126 - val_mae: 0.0949\n",
            "Epoch 67/1000\n",
            "21/21 [==============================] - 0s 4ms/step - loss: 0.0063 - mae: 0.0600 - val_loss: 0.0124 - val_mae: 0.0946\n",
            "Epoch 68/1000\n",
            "21/21 [==============================] - 0s 3ms/step - loss: 0.0062 - mae: 0.0598 - val_loss: 0.0124 - val_mae: 0.0943\n",
            "Epoch 69/1000\n",
            "21/21 [==============================] - 0s 4ms/step - loss: 0.0062 - mae: 0.0595 - val_loss: 0.0124 - val_mae: 0.0941\n",
            "Epoch 70/1000\n",
            "21/21 [==============================] - 0s 4ms/step - loss: 0.0061 - mae: 0.0593 - val_loss: 0.0122 - val_mae: 0.0938\n",
            "Epoch 71/1000\n",
            "21/21 [==============================] - 0s 3ms/step - loss: 0.0061 - mae: 0.0591 - val_loss: 0.0122 - val_mae: 0.0936\n",
            "Epoch 72/1000\n",
            "21/21 [==============================] - 0s 5ms/step - loss: 0.0060 - mae: 0.0588 - val_loss: 0.0123 - val_mae: 0.0935\n",
            "Epoch 73/1000\n",
            "21/21 [==============================] - 0s 4ms/step - loss: 0.0060 - mae: 0.0587 - val_loss: 0.0122 - val_mae: 0.0932\n",
            "Epoch 74/1000\n",
            "21/21 [==============================] - 0s 4ms/step - loss: 0.0060 - mae: 0.0584 - val_loss: 0.0122 - val_mae: 0.0931\n",
            "Epoch 75/1000\n",
            "21/21 [==============================] - 0s 5ms/step - loss: 0.0059 - mae: 0.0583 - val_loss: 0.0122 - val_mae: 0.0929\n",
            "Epoch 76/1000\n",
            "21/21 [==============================] - 0s 4ms/step - loss: 0.0059 - mae: 0.0582 - val_loss: 0.0121 - val_mae: 0.0926\n",
            "Epoch 77/1000\n",
            "21/21 [==============================] - 0s 3ms/step - loss: 0.0058 - mae: 0.0579 - val_loss: 0.0120 - val_mae: 0.0924\n",
            "Epoch 78/1000\n",
            "21/21 [==============================] - 0s 4ms/step - loss: 0.0058 - mae: 0.0577 - val_loss: 0.0120 - val_mae: 0.0922\n",
            "Epoch 79/1000\n",
            "21/21 [==============================] - 0s 5ms/step - loss: 0.0058 - mae: 0.0576 - val_loss: 0.0119 - val_mae: 0.0920\n",
            "Epoch 80/1000\n",
            "21/21 [==============================] - 0s 4ms/step - loss: 0.0057 - mae: 0.0574 - val_loss: 0.0119 - val_mae: 0.0919\n",
            "Epoch 81/1000\n",
            "21/21 [==============================] - 0s 4ms/step - loss: 0.0057 - mae: 0.0572 - val_loss: 0.0119 - val_mae: 0.0917\n",
            "Epoch 82/1000\n",
            "21/21 [==============================] - 0s 5ms/step - loss: 0.0056 - mae: 0.0570 - val_loss: 0.0118 - val_mae: 0.0915\n",
            "Epoch 83/1000\n",
            "21/21 [==============================] - 0s 3ms/step - loss: 0.0056 - mae: 0.0568 - val_loss: 0.0118 - val_mae: 0.0913\n",
            "Epoch 84/1000\n",
            "21/21 [==============================] - 0s 5ms/step - loss: 0.0056 - mae: 0.0567 - val_loss: 0.0117 - val_mae: 0.0911\n",
            "Epoch 85/1000\n",
            "21/21 [==============================] - 0s 4ms/step - loss: 0.0055 - mae: 0.0564 - val_loss: 0.0118 - val_mae: 0.0911\n",
            "Epoch 86/1000\n",
            "21/21 [==============================] - 0s 5ms/step - loss: 0.0055 - mae: 0.0563 - val_loss: 0.0118 - val_mae: 0.0909\n",
            "Epoch 87/1000\n",
            "21/21 [==============================] - 0s 4ms/step - loss: 0.0055 - mae: 0.0562 - val_loss: 0.0118 - val_mae: 0.0908\n",
            "Epoch 88/1000\n",
            "21/21 [==============================] - 0s 4ms/step - loss: 0.0054 - mae: 0.0560 - val_loss: 0.0116 - val_mae: 0.0906\n",
            "Epoch 89/1000\n",
            "21/21 [==============================] - 0s 5ms/step - loss: 0.0054 - mae: 0.0558 - val_loss: 0.0117 - val_mae: 0.0905\n",
            "Epoch 90/1000\n",
            "21/21 [==============================] - 0s 3ms/step - loss: 0.0054 - mae: 0.0557 - val_loss: 0.0117 - val_mae: 0.0904\n",
            "Epoch 91/1000\n",
            "21/21 [==============================] - 0s 3ms/step - loss: 0.0053 - mae: 0.0555 - val_loss: 0.0116 - val_mae: 0.0902\n",
            "Epoch 92/1000\n",
            "21/21 [==============================] - 0s 4ms/step - loss: 0.0053 - mae: 0.0554 - val_loss: 0.0115 - val_mae: 0.0901\n",
            "Epoch 93/1000\n",
            "21/21 [==============================] - 0s 3ms/step - loss: 0.0053 - mae: 0.0551 - val_loss: 0.0116 - val_mae: 0.0900\n",
            "Epoch 94/1000\n",
            "21/21 [==============================] - 0s 5ms/step - loss: 0.0052 - mae: 0.0550 - val_loss: 0.0115 - val_mae: 0.0899\n",
            "Epoch 95/1000\n",
            "21/21 [==============================] - 0s 4ms/step - loss: 0.0052 - mae: 0.0549 - val_loss: 0.0114 - val_mae: 0.0897\n",
            "Epoch 96/1000\n",
            "21/21 [==============================] - 0s 4ms/step - loss: 0.0052 - mae: 0.0547 - val_loss: 0.0114 - val_mae: 0.0896\n",
            "Epoch 97/1000\n",
            "21/21 [==============================] - 0s 3ms/step - loss: 0.0052 - mae: 0.0546 - val_loss: 0.0114 - val_mae: 0.0895\n",
            "Epoch 98/1000\n",
            "21/21 [==============================] - 0s 4ms/step - loss: 0.0051 - mae: 0.0544 - val_loss: 0.0114 - val_mae: 0.0894\n",
            "Epoch 99/1000\n",
            "21/21 [==============================] - 0s 4ms/step - loss: 0.0051 - mae: 0.0542 - val_loss: 0.0114 - val_mae: 0.0893\n",
            "Epoch 100/1000\n",
            "21/21 [==============================] - 0s 5ms/step - loss: 0.0051 - mae: 0.0541 - val_loss: 0.0113 - val_mae: 0.0892\n",
            "Epoch 101/1000\n",
            "21/21 [==============================] - 0s 4ms/step - loss: 0.0050 - mae: 0.0539 - val_loss: 0.0113 - val_mae: 0.0891\n",
            "Epoch 102/1000\n",
            "21/21 [==============================] - 0s 4ms/step - loss: 0.0050 - mae: 0.0538 - val_loss: 0.0113 - val_mae: 0.0890\n",
            "Epoch 103/1000\n",
            "21/21 [==============================] - 0s 4ms/step - loss: 0.0050 - mae: 0.0537 - val_loss: 0.0113 - val_mae: 0.0889\n",
            "Epoch 104/1000\n",
            "21/21 [==============================] - 0s 4ms/step - loss: 0.0050 - mae: 0.0535 - val_loss: 0.0112 - val_mae: 0.0888\n",
            "Epoch 105/1000\n",
            "21/21 [==============================] - 0s 4ms/step - loss: 0.0049 - mae: 0.0534 - val_loss: 0.0113 - val_mae: 0.0888\n",
            "Epoch 106/1000\n",
            "21/21 [==============================] - 0s 4ms/step - loss: 0.0049 - mae: 0.0532 - val_loss: 0.0113 - val_mae: 0.0887\n",
            "Epoch 107/1000\n",
            "21/21 [==============================] - 0s 6ms/step - loss: 0.0049 - mae: 0.0531 - val_loss: 0.0112 - val_mae: 0.0886\n",
            "Epoch 108/1000\n",
            "21/21 [==============================] - 0s 4ms/step - loss: 0.0049 - mae: 0.0530 - val_loss: 0.0112 - val_mae: 0.0885\n",
            "Epoch 109/1000\n",
            "21/21 [==============================] - 0s 4ms/step - loss: 0.0048 - mae: 0.0528 - val_loss: 0.0111 - val_mae: 0.0884\n",
            "Epoch 110/1000\n",
            "21/21 [==============================] - 0s 5ms/step - loss: 0.0048 - mae: 0.0526 - val_loss: 0.0112 - val_mae: 0.0883\n",
            "Epoch 111/1000\n",
            "21/21 [==============================] - 0s 4ms/step - loss: 0.0048 - mae: 0.0525 - val_loss: 0.0112 - val_mae: 0.0883\n",
            "Epoch 112/1000\n",
            "21/21 [==============================] - 0s 4ms/step - loss: 0.0047 - mae: 0.0524 - val_loss: 0.0112 - val_mae: 0.0882\n",
            "Epoch 113/1000\n",
            "21/21 [==============================] - 0s 5ms/step - loss: 0.0047 - mae: 0.0523 - val_loss: 0.0111 - val_mae: 0.0881\n",
            "Epoch 114/1000\n",
            "21/21 [==============================] - 0s 5ms/step - loss: 0.0047 - mae: 0.0521 - val_loss: 0.0111 - val_mae: 0.0880\n",
            "Epoch 115/1000\n",
            "21/21 [==============================] - 0s 4ms/step - loss: 0.0047 - mae: 0.0521 - val_loss: 0.0110 - val_mae: 0.0878\n",
            "Epoch 116/1000\n",
            "21/21 [==============================] - 0s 4ms/step - loss: 0.0046 - mae: 0.0519 - val_loss: 0.0110 - val_mae: 0.0877\n",
            "Epoch 117/1000\n",
            "21/21 [==============================] - 0s 5ms/step - loss: 0.0046 - mae: 0.0518 - val_loss: 0.0110 - val_mae: 0.0876\n",
            "Epoch 118/1000\n",
            "21/21 [==============================] - 0s 3ms/step - loss: 0.0046 - mae: 0.0516 - val_loss: 0.0110 - val_mae: 0.0876\n",
            "Epoch 119/1000\n",
            "21/21 [==============================] - 0s 5ms/step - loss: 0.0046 - mae: 0.0515 - val_loss: 0.0109 - val_mae: 0.0875\n",
            "Epoch 120/1000\n",
            "21/21 [==============================] - 0s 4ms/step - loss: 0.0046 - mae: 0.0514 - val_loss: 0.0109 - val_mae: 0.0874\n",
            "Epoch 121/1000\n",
            "21/21 [==============================] - 0s 5ms/step - loss: 0.0045 - mae: 0.0512 - val_loss: 0.0110 - val_mae: 0.0874\n",
            "Epoch 122/1000\n",
            "21/21 [==============================] - 0s 5ms/step - loss: 0.0045 - mae: 0.0511 - val_loss: 0.0109 - val_mae: 0.0872\n",
            "Epoch 123/1000\n",
            "21/21 [==============================] - 0s 4ms/step - loss: 0.0045 - mae: 0.0510 - val_loss: 0.0109 - val_mae: 0.0872\n",
            "Epoch 124/1000\n",
            "21/21 [==============================] - 0s 5ms/step - loss: 0.0045 - mae: 0.0509 - val_loss: 0.0109 - val_mae: 0.0871\n",
            "Epoch 125/1000\n",
            "21/21 [==============================] - 0s 4ms/step - loss: 0.0044 - mae: 0.0508 - val_loss: 0.0108 - val_mae: 0.0869\n",
            "Epoch 126/1000\n",
            "21/21 [==============================] - 0s 5ms/step - loss: 0.0044 - mae: 0.0506 - val_loss: 0.0109 - val_mae: 0.0870\n",
            "Epoch 127/1000\n",
            "21/21 [==============================] - 0s 5ms/step - loss: 0.0044 - mae: 0.0505 - val_loss: 0.0109 - val_mae: 0.0869\n",
            "Epoch 128/1000\n",
            "21/21 [==============================] - 0s 3ms/step - loss: 0.0044 - mae: 0.0504 - val_loss: 0.0108 - val_mae: 0.0867\n",
            "Epoch 129/1000\n",
            "21/21 [==============================] - 0s 4ms/step - loss: 0.0044 - mae: 0.0503 - val_loss: 0.0108 - val_mae: 0.0867\n",
            "Epoch 130/1000\n",
            "21/21 [==============================] - 0s 4ms/step - loss: 0.0043 - mae: 0.0501 - val_loss: 0.0108 - val_mae: 0.0867\n",
            "Epoch 131/1000\n",
            "21/21 [==============================] - 0s 5ms/step - loss: 0.0043 - mae: 0.0501 - val_loss: 0.0108 - val_mae: 0.0866\n",
            "Epoch 132/1000\n",
            "21/21 [==============================] - 0s 3ms/step - loss: 0.0043 - mae: 0.0499 - val_loss: 0.0108 - val_mae: 0.0865\n",
            "Epoch 133/1000\n",
            "21/21 [==============================] - 0s 5ms/step - loss: 0.0043 - mae: 0.0498 - val_loss: 0.0107 - val_mae: 0.0863\n",
            "Epoch 134/1000\n",
            "21/21 [==============================] - 0s 4ms/step - loss: 0.0043 - mae: 0.0497 - val_loss: 0.0107 - val_mae: 0.0863\n",
            "Epoch 135/1000\n",
            "21/21 [==============================] - 0s 4ms/step - loss: 0.0042 - mae: 0.0496 - val_loss: 0.0107 - val_mae: 0.0863\n",
            "Epoch 136/1000\n",
            "21/21 [==============================] - 0s 4ms/step - loss: 0.0042 - mae: 0.0495 - val_loss: 0.0107 - val_mae: 0.0862\n",
            "Epoch 137/1000\n",
            "21/21 [==============================] - 0s 5ms/step - loss: 0.0042 - mae: 0.0494 - val_loss: 0.0107 - val_mae: 0.0861\n",
            "Epoch 138/1000\n",
            "21/21 [==============================] - 0s 5ms/step - loss: 0.0042 - mae: 0.0492 - val_loss: 0.0107 - val_mae: 0.0861\n",
            "Epoch 139/1000\n",
            "21/21 [==============================] - 0s 5ms/step - loss: 0.0042 - mae: 0.0492 - val_loss: 0.0106 - val_mae: 0.0859\n",
            "Epoch 140/1000\n",
            "21/21 [==============================] - 0s 5ms/step - loss: 0.0042 - mae: 0.0490 - val_loss: 0.0106 - val_mae: 0.0859\n",
            "Epoch 141/1000\n",
            "21/21 [==============================] - 0s 3ms/step - loss: 0.0041 - mae: 0.0490 - val_loss: 0.0106 - val_mae: 0.0858\n",
            "Epoch 142/1000\n",
            "21/21 [==============================] - 0s 4ms/step - loss: 0.0041 - mae: 0.0488 - val_loss: 0.0106 - val_mae: 0.0857\n",
            "Epoch 143/1000\n",
            "21/21 [==============================] - 0s 5ms/step - loss: 0.0041 - mae: 0.0487 - val_loss: 0.0106 - val_mae: 0.0857\n",
            "Epoch 144/1000\n",
            "21/21 [==============================] - 0s 3ms/step - loss: 0.0041 - mae: 0.0486 - val_loss: 0.0105 - val_mae: 0.0855\n",
            "Epoch 145/1000\n",
            "21/21 [==============================] - 0s 4ms/step - loss: 0.0041 - mae: 0.0485 - val_loss: 0.0105 - val_mae: 0.0855\n",
            "Epoch 146/1000\n",
            "21/21 [==============================] - 0s 4ms/step - loss: 0.0041 - mae: 0.0484 - val_loss: 0.0106 - val_mae: 0.0855\n",
            "Epoch 147/1000\n",
            "21/21 [==============================] - 0s 6ms/step - loss: 0.0040 - mae: 0.0483 - val_loss: 0.0105 - val_mae: 0.0854\n",
            "Epoch 148/1000\n",
            "21/21 [==============================] - 0s 5ms/step - loss: 0.0040 - mae: 0.0482 - val_loss: 0.0105 - val_mae: 0.0853\n",
            "Epoch 149/1000\n",
            "21/21 [==============================] - 0s 3ms/step - loss: 0.0040 - mae: 0.0481 - val_loss: 0.0105 - val_mae: 0.0852\n",
            "Epoch 150/1000\n",
            "21/21 [==============================] - 0s 4ms/step - loss: 0.0040 - mae: 0.0480 - val_loss: 0.0105 - val_mae: 0.0851\n",
            "Epoch 151/1000\n",
            "21/21 [==============================] - 0s 4ms/step - loss: 0.0040 - mae: 0.0479 - val_loss: 0.0104 - val_mae: 0.0850\n",
            "Epoch 152/1000\n",
            "21/21 [==============================] - 0s 3ms/step - loss: 0.0040 - mae: 0.0477 - val_loss: 0.0105 - val_mae: 0.0852\n",
            "Epoch 153/1000\n",
            "21/21 [==============================] - 0s 3ms/step - loss: 0.0039 - mae: 0.0477 - val_loss: 0.0104 - val_mae: 0.0850\n",
            "Epoch 154/1000\n",
            "21/21 [==============================] - 0s 5ms/step - loss: 0.0039 - mae: 0.0476 - val_loss: 0.0104 - val_mae: 0.0849\n",
            "Epoch 155/1000\n",
            "21/21 [==============================] - 0s 3ms/step - loss: 0.0039 - mae: 0.0475 - val_loss: 0.0104 - val_mae: 0.0849\n",
            "Epoch 156/1000\n",
            "21/21 [==============================] - 0s 4ms/step - loss: 0.0039 - mae: 0.0474 - val_loss: 0.0104 - val_mae: 0.0849\n",
            "Epoch 157/1000\n",
            "21/21 [==============================] - 0s 4ms/step - loss: 0.0039 - mae: 0.0473 - val_loss: 0.0104 - val_mae: 0.0847\n",
            "Epoch 158/1000\n",
            "21/21 [==============================] - 0s 4ms/step - loss: 0.0039 - mae: 0.0472 - val_loss: 0.0104 - val_mae: 0.0847\n",
            "Epoch 159/1000\n",
            "21/21 [==============================] - 0s 5ms/step - loss: 0.0038 - mae: 0.0471 - val_loss: 0.0103 - val_mae: 0.0846\n",
            "Epoch 160/1000\n",
            "21/21 [==============================] - 0s 4ms/step - loss: 0.0038 - mae: 0.0470 - val_loss: 0.0104 - val_mae: 0.0846\n",
            "Epoch 161/1000\n",
            "21/21 [==============================] - 0s 5ms/step - loss: 0.0038 - mae: 0.0469 - val_loss: 0.0104 - val_mae: 0.0847\n",
            "Epoch 162/1000\n",
            "21/21 [==============================] - 0s 4ms/step - loss: 0.0038 - mae: 0.0468 - val_loss: 0.0104 - val_mae: 0.0847\n",
            "Epoch 163/1000\n",
            "21/21 [==============================] - 0s 4ms/step - loss: 0.0038 - mae: 0.0467 - val_loss: 0.0104 - val_mae: 0.0846\n",
            "Epoch 164/1000\n",
            "21/21 [==============================] - 0s 5ms/step - loss: 0.0038 - mae: 0.0466 - val_loss: 0.0103 - val_mae: 0.0845\n",
            "Epoch 165/1000\n",
            "21/21 [==============================] - 0s 5ms/step - loss: 0.0038 - mae: 0.0465 - val_loss: 0.0103 - val_mae: 0.0845\n",
            "Epoch 166/1000\n",
            "21/21 [==============================] - 0s 4ms/step - loss: 0.0037 - mae: 0.0465 - val_loss: 0.0103 - val_mae: 0.0842\n",
            "Epoch 167/1000\n",
            "21/21 [==============================] - 0s 4ms/step - loss: 0.0037 - mae: 0.0463 - val_loss: 0.0103 - val_mae: 0.0844\n",
            "Epoch 168/1000\n",
            "21/21 [==============================] - 0s 5ms/step - loss: 0.0037 - mae: 0.0463 - val_loss: 0.0103 - val_mae: 0.0843\n",
            "Epoch 169/1000\n",
            "21/21 [==============================] - 0s 6ms/step - loss: 0.0037 - mae: 0.0462 - val_loss: 0.0103 - val_mae: 0.0843\n",
            "Epoch 170/1000\n",
            "21/21 [==============================] - 0s 5ms/step - loss: 0.0037 - mae: 0.0461 - val_loss: 0.0103 - val_mae: 0.0842\n",
            "Epoch 171/1000\n",
            "21/21 [==============================] - 0s 4ms/step - loss: 0.0037 - mae: 0.0460 - val_loss: 0.0102 - val_mae: 0.0840\n",
            "Epoch 172/1000\n",
            "21/21 [==============================] - 0s 4ms/step - loss: 0.0037 - mae: 0.0459 - val_loss: 0.0102 - val_mae: 0.0840\n",
            "Epoch 173/1000\n",
            "21/21 [==============================] - 0s 4ms/step - loss: 0.0037 - mae: 0.0458 - val_loss: 0.0103 - val_mae: 0.0841\n",
            "Epoch 174/1000\n",
            "21/21 [==============================] - 0s 4ms/step - loss: 0.0036 - mae: 0.0457 - val_loss: 0.0102 - val_mae: 0.0840\n",
            "Epoch 175/1000\n",
            "21/21 [==============================] - 0s 4ms/step - loss: 0.0036 - mae: 0.0456 - val_loss: 0.0102 - val_mae: 0.0840\n",
            "Epoch 176/1000\n",
            "21/21 [==============================] - 0s 5ms/step - loss: 0.0036 - mae: 0.0455 - val_loss: 0.0102 - val_mae: 0.0838\n",
            "Epoch 177/1000\n",
            "21/21 [==============================] - 0s 5ms/step - loss: 0.0036 - mae: 0.0455 - val_loss: 0.0102 - val_mae: 0.0838\n",
            "Epoch 178/1000\n",
            "21/21 [==============================] - 0s 4ms/step - loss: 0.0036 - mae: 0.0454 - val_loss: 0.0102 - val_mae: 0.0840\n",
            "Epoch 179/1000\n",
            "21/21 [==============================] - 0s 5ms/step - loss: 0.0036 - mae: 0.0453 - val_loss: 0.0102 - val_mae: 0.0838\n",
            "Epoch 180/1000\n",
            "21/21 [==============================] - 0s 5ms/step - loss: 0.0036 - mae: 0.0452 - val_loss: 0.0102 - val_mae: 0.0837\n",
            "Epoch 181/1000\n",
            "21/21 [==============================] - 0s 3ms/step - loss: 0.0035 - mae: 0.0451 - val_loss: 0.0102 - val_mae: 0.0837\n",
            "Epoch 182/1000\n",
            "21/21 [==============================] - 0s 5ms/step - loss: 0.0035 - mae: 0.0450 - val_loss: 0.0102 - val_mae: 0.0839\n",
            "Epoch 183/1000\n",
            "21/21 [==============================] - 0s 4ms/step - loss: 0.0035 - mae: 0.0450 - val_loss: 0.0101 - val_mae: 0.0836\n",
            "Epoch 184/1000\n",
            "21/21 [==============================] - 0s 4ms/step - loss: 0.0035 - mae: 0.0449 - val_loss: 0.0101 - val_mae: 0.0835\n",
            "Epoch 185/1000\n",
            "21/21 [==============================] - 0s 3ms/step - loss: 0.0035 - mae: 0.0448 - val_loss: 0.0101 - val_mae: 0.0835\n",
            "Epoch 186/1000\n",
            "21/21 [==============================] - 0s 5ms/step - loss: 0.0035 - mae: 0.0447 - val_loss: 0.0101 - val_mae: 0.0833\n",
            "Epoch 187/1000\n",
            "21/21 [==============================] - 0s 5ms/step - loss: 0.0035 - mae: 0.0446 - val_loss: 0.0101 - val_mae: 0.0835\n",
            "Epoch 188/1000\n",
            "21/21 [==============================] - 0s 3ms/step - loss: 0.0035 - mae: 0.0445 - val_loss: 0.0101 - val_mae: 0.0834\n",
            "Epoch 189/1000\n",
            "21/21 [==============================] - 0s 5ms/step - loss: 0.0035 - mae: 0.0445 - val_loss: 0.0101 - val_mae: 0.0833\n",
            "Epoch 190/1000\n",
            "21/21 [==============================] - 0s 4ms/step - loss: 0.0034 - mae: 0.0444 - val_loss: 0.0101 - val_mae: 0.0833\n",
            "Epoch 191/1000\n",
            "21/21 [==============================] - 0s 4ms/step - loss: 0.0034 - mae: 0.0443 - val_loss: 0.0100 - val_mae: 0.0832\n",
            "Epoch 192/1000\n",
            "21/21 [==============================] - 0s 4ms/step - loss: 0.0034 - mae: 0.0442 - val_loss: 0.0100 - val_mae: 0.0831\n",
            "Epoch 193/1000\n",
            "21/21 [==============================] - 0s 5ms/step - loss: 0.0034 - mae: 0.0441 - val_loss: 0.0100 - val_mae: 0.0830\n",
            "Epoch 194/1000\n",
            "21/21 [==============================] - 0s 5ms/step - loss: 0.0034 - mae: 0.0441 - val_loss: 0.0100 - val_mae: 0.0831\n",
            "Epoch 195/1000\n",
            "21/21 [==============================] - 0s 4ms/step - loss: 0.0034 - mae: 0.0440 - val_loss: 0.0101 - val_mae: 0.0832\n",
            "Epoch 196/1000\n",
            "21/21 [==============================] - 0s 4ms/step - loss: 0.0034 - mae: 0.0439 - val_loss: 0.0100 - val_mae: 0.0829\n",
            "Epoch 197/1000\n",
            "21/21 [==============================] - 0s 4ms/step - loss: 0.0034 - mae: 0.0438 - val_loss: 0.0100 - val_mae: 0.0829\n",
            "Epoch 198/1000\n",
            "21/21 [==============================] - 0s 5ms/step - loss: 0.0033 - mae: 0.0437 - val_loss: 0.0100 - val_mae: 0.0830\n",
            "Epoch 199/1000\n",
            "21/21 [==============================] - 0s 5ms/step - loss: 0.0033 - mae: 0.0437 - val_loss: 0.0100 - val_mae: 0.0830\n",
            "Epoch 200/1000\n",
            "21/21 [==============================] - 0s 4ms/step - loss: 0.0033 - mae: 0.0436 - val_loss: 0.0100 - val_mae: 0.0829\n",
            "Epoch 201/1000\n",
            "21/21 [==============================] - 0s 3ms/step - loss: 0.0033 - mae: 0.0435 - val_loss: 0.0100 - val_mae: 0.0830\n",
            "Epoch 202/1000\n",
            "21/21 [==============================] - 0s 4ms/step - loss: 0.0033 - mae: 0.0434 - val_loss: 0.0100 - val_mae: 0.0830\n",
            "Epoch 203/1000\n",
            "21/21 [==============================] - 0s 5ms/step - loss: 0.0033 - mae: 0.0434 - val_loss: 0.0100 - val_mae: 0.0828\n",
            "Epoch 204/1000\n",
            "21/21 [==============================] - 0s 4ms/step - loss: 0.0033 - mae: 0.0433 - val_loss: 0.0099 - val_mae: 0.0827\n",
            "Epoch 205/1000\n",
            "21/21 [==============================] - 0s 5ms/step - loss: 0.0033 - mae: 0.0432 - val_loss: 0.0099 - val_mae: 0.0825\n",
            "Epoch 206/1000\n",
            "21/21 [==============================] - 0s 4ms/step - loss: 0.0033 - mae: 0.0431 - val_loss: 0.0100 - val_mae: 0.0827\n",
            "Epoch 207/1000\n",
            "21/21 [==============================] - 0s 4ms/step - loss: 0.0032 - mae: 0.0431 - val_loss: 0.0099 - val_mae: 0.0826\n",
            "Epoch 208/1000\n",
            "21/21 [==============================] - 0s 5ms/step - loss: 0.0032 - mae: 0.0430 - val_loss: 0.0099 - val_mae: 0.0824\n",
            "Epoch 209/1000\n",
            "21/21 [==============================] - 0s 5ms/step - loss: 0.0032 - mae: 0.0429 - val_loss: 0.0099 - val_mae: 0.0826\n",
            "Epoch 210/1000\n",
            "21/21 [==============================] - 0s 4ms/step - loss: 0.0032 - mae: 0.0428 - val_loss: 0.0099 - val_mae: 0.0825\n",
            "Epoch 211/1000\n",
            "21/21 [==============================] - 0s 4ms/step - loss: 0.0032 - mae: 0.0428 - val_loss: 0.0099 - val_mae: 0.0825\n",
            "Epoch 212/1000\n",
            "21/21 [==============================] - 0s 3ms/step - loss: 0.0032 - mae: 0.0427 - val_loss: 0.0099 - val_mae: 0.0825\n",
            "Epoch 213/1000\n",
            "21/21 [==============================] - 0s 5ms/step - loss: 0.0032 - mae: 0.0426 - val_loss: 0.0099 - val_mae: 0.0823\n",
            "Epoch 214/1000\n",
            "21/21 [==============================] - 0s 5ms/step - loss: 0.0032 - mae: 0.0425 - val_loss: 0.0098 - val_mae: 0.0822\n",
            "Epoch 215/1000\n",
            "21/21 [==============================] - 0s 3ms/step - loss: 0.0032 - mae: 0.0424 - val_loss: 0.0099 - val_mae: 0.0823\n",
            "Epoch 216/1000\n",
            "21/21 [==============================] - 0s 5ms/step - loss: 0.0032 - mae: 0.0424 - val_loss: 0.0099 - val_mae: 0.0823\n",
            "Epoch 217/1000\n",
            "21/21 [==============================] - 0s 4ms/step - loss: 0.0031 - mae: 0.0423 - val_loss: 0.0098 - val_mae: 0.0823\n",
            "Epoch 218/1000\n",
            "21/21 [==============================] - 0s 4ms/step - loss: 0.0031 - mae: 0.0422 - val_loss: 0.0098 - val_mae: 0.0820\n",
            "Epoch 219/1000\n",
            "21/21 [==============================] - 0s 5ms/step - loss: 0.0031 - mae: 0.0421 - val_loss: 0.0098 - val_mae: 0.0822\n",
            "Epoch 220/1000\n",
            "21/21 [==============================] - 0s 5ms/step - loss: 0.0031 - mae: 0.0421 - val_loss: 0.0098 - val_mae: 0.0822\n",
            "Epoch 221/1000\n",
            "21/21 [==============================] - 0s 4ms/step - loss: 0.0031 - mae: 0.0420 - val_loss: 0.0098 - val_mae: 0.0820\n",
            "Epoch 222/1000\n",
            "21/21 [==============================] - 0s 5ms/step - loss: 0.0031 - mae: 0.0420 - val_loss: 0.0098 - val_mae: 0.0820\n",
            "Epoch 223/1000\n",
            "21/21 [==============================] - 0s 4ms/step - loss: 0.0031 - mae: 0.0419 - val_loss: 0.0098 - val_mae: 0.0821\n",
            "Epoch 224/1000\n",
            "21/21 [==============================] - 0s 5ms/step - loss: 0.0031 - mae: 0.0418 - val_loss: 0.0098 - val_mae: 0.0821\n",
            "Epoch 225/1000\n",
            "21/21 [==============================] - 0s 6ms/step - loss: 0.0031 - mae: 0.0417 - val_loss: 0.0098 - val_mae: 0.0820\n",
            "Epoch 226/1000\n",
            "21/21 [==============================] - 0s 4ms/step - loss: 0.0031 - mae: 0.0417 - val_loss: 0.0098 - val_mae: 0.0820\n",
            "Epoch 227/1000\n",
            "21/21 [==============================] - 0s 4ms/step - loss: 0.0031 - mae: 0.0416 - val_loss: 0.0098 - val_mae: 0.0818\n",
            "Epoch 228/1000\n",
            "21/21 [==============================] - 0s 5ms/step - loss: 0.0030 - mae: 0.0415 - val_loss: 0.0098 - val_mae: 0.0818\n",
            "Epoch 229/1000\n",
            "21/21 [==============================] - 0s 4ms/step - loss: 0.0030 - mae: 0.0414 - val_loss: 0.0098 - val_mae: 0.0820\n",
            "Epoch 230/1000\n",
            "21/21 [==============================] - 0s 6ms/step - loss: 0.0030 - mae: 0.0414 - val_loss: 0.0098 - val_mae: 0.0819\n",
            "Epoch 231/1000\n",
            "21/21 [==============================] - 0s 4ms/step - loss: 0.0030 - mae: 0.0413 - val_loss: 0.0098 - val_mae: 0.0819\n",
            "Epoch 232/1000\n",
            "21/21 [==============================] - 0s 5ms/step - loss: 0.0030 - mae: 0.0413 - val_loss: 0.0097 - val_mae: 0.0817\n",
            "Epoch 233/1000\n",
            "21/21 [==============================] - 0s 4ms/step - loss: 0.0030 - mae: 0.0412 - val_loss: 0.0097 - val_mae: 0.0817\n",
            "Epoch 234/1000\n",
            "21/21 [==============================] - 0s 5ms/step - loss: 0.0030 - mae: 0.0411 - val_loss: 0.0097 - val_mae: 0.0816\n",
            "Epoch 235/1000\n",
            "21/21 [==============================] - 0s 5ms/step - loss: 0.0030 - mae: 0.0410 - val_loss: 0.0097 - val_mae: 0.0817\n",
            "Epoch 236/1000\n",
            "21/21 [==============================] - 0s 5ms/step - loss: 0.0030 - mae: 0.0410 - val_loss: 0.0098 - val_mae: 0.0818\n",
            "Epoch 237/1000\n",
            "21/21 [==============================] - 0s 4ms/step - loss: 0.0030 - mae: 0.0409 - val_loss: 0.0097 - val_mae: 0.0817\n",
            "Epoch 238/1000\n",
            "21/21 [==============================] - 0s 5ms/step - loss: 0.0030 - mae: 0.0408 - val_loss: 0.0097 - val_mae: 0.0816\n",
            "Epoch 239/1000\n",
            "21/21 [==============================] - 0s 5ms/step - loss: 0.0029 - mae: 0.0408 - val_loss: 0.0097 - val_mae: 0.0817\n",
            "Epoch 240/1000\n",
            "21/21 [==============================] - 0s 5ms/step - loss: 0.0029 - mae: 0.0407 - val_loss: 0.0097 - val_mae: 0.0814\n",
            "Epoch 241/1000\n",
            "21/21 [==============================] - 0s 4ms/step - loss: 0.0029 - mae: 0.0406 - val_loss: 0.0097 - val_mae: 0.0817\n",
            "Epoch 242/1000\n",
            "21/21 [==============================] - 0s 4ms/step - loss: 0.0029 - mae: 0.0406 - val_loss: 0.0097 - val_mae: 0.0815\n",
            "Epoch 243/1000\n",
            "21/21 [==============================] - 0s 4ms/step - loss: 0.0029 - mae: 0.0405 - val_loss: 0.0097 - val_mae: 0.0815\n",
            "Epoch 244/1000\n",
            "21/21 [==============================] - 0s 3ms/step - loss: 0.0029 - mae: 0.0405 - val_loss: 0.0097 - val_mae: 0.0814\n",
            "Epoch 245/1000\n",
            "21/21 [==============================] - 0s 3ms/step - loss: 0.0029 - mae: 0.0404 - val_loss: 0.0097 - val_mae: 0.0815\n",
            "Epoch 246/1000\n",
            "21/21 [==============================] - 0s 4ms/step - loss: 0.0029 - mae: 0.0403 - val_loss: 0.0097 - val_mae: 0.0815\n",
            "Epoch 247/1000\n",
            "21/21 [==============================] - 0s 5ms/step - loss: 0.0029 - mae: 0.0402 - val_loss: 0.0097 - val_mae: 0.0815\n",
            "Epoch 248/1000\n",
            "21/21 [==============================] - 0s 5ms/step - loss: 0.0029 - mae: 0.0402 - val_loss: 0.0097 - val_mae: 0.0814\n",
            "Epoch 249/1000\n",
            "21/21 [==============================] - 0s 4ms/step - loss: 0.0029 - mae: 0.0401 - val_loss: 0.0097 - val_mae: 0.0814\n",
            "Epoch 250/1000\n",
            "21/21 [==============================] - 0s 4ms/step - loss: 0.0029 - mae: 0.0401 - val_loss: 0.0096 - val_mae: 0.0812\n",
            "Epoch 251/1000\n",
            "21/21 [==============================] - 0s 5ms/step - loss: 0.0028 - mae: 0.0400 - val_loss: 0.0096 - val_mae: 0.0812\n",
            "Epoch 252/1000\n",
            "21/21 [==============================] - 0s 4ms/step - loss: 0.0028 - mae: 0.0399 - val_loss: 0.0097 - val_mae: 0.0813\n",
            "Epoch 253/1000\n",
            "21/21 [==============================] - 0s 4ms/step - loss: 0.0028 - mae: 0.0399 - val_loss: 0.0096 - val_mae: 0.0812\n",
            "Epoch 254/1000\n",
            "21/21 [==============================] - 0s 4ms/step - loss: 0.0028 - mae: 0.0398 - val_loss: 0.0097 - val_mae: 0.0813\n",
            "Epoch 255/1000\n",
            "21/21 [==============================] - 0s 5ms/step - loss: 0.0028 - mae: 0.0397 - val_loss: 0.0097 - val_mae: 0.0813\n",
            "Epoch 256/1000\n",
            "21/21 [==============================] - 0s 4ms/step - loss: 0.0028 - mae: 0.0397 - val_loss: 0.0096 - val_mae: 0.0812\n",
            "Epoch 257/1000\n",
            "21/21 [==============================] - 0s 4ms/step - loss: 0.0028 - mae: 0.0396 - val_loss: 0.0097 - val_mae: 0.0813\n",
            "Epoch 258/1000\n",
            "21/21 [==============================] - 0s 4ms/step - loss: 0.0028 - mae: 0.0395 - val_loss: 0.0096 - val_mae: 0.0812\n",
            "Epoch 259/1000\n",
            "21/21 [==============================] - 0s 4ms/step - loss: 0.0028 - mae: 0.0395 - val_loss: 0.0096 - val_mae: 0.0811\n",
            "Epoch 260/1000\n",
            "21/21 [==============================] - 0s 5ms/step - loss: 0.0028 - mae: 0.0394 - val_loss: 0.0096 - val_mae: 0.0812\n",
            "Epoch 261/1000\n",
            "21/21 [==============================] - 0s 4ms/step - loss: 0.0028 - mae: 0.0394 - val_loss: 0.0096 - val_mae: 0.0810\n",
            "Epoch 262/1000\n",
            "21/21 [==============================] - 0s 5ms/step - loss: 0.0028 - mae: 0.0393 - val_loss: 0.0096 - val_mae: 0.0811\n",
            "Epoch 263/1000\n",
            "21/21 [==============================] - 0s 4ms/step - loss: 0.0028 - mae: 0.0392 - val_loss: 0.0096 - val_mae: 0.0810\n",
            "Epoch 264/1000\n",
            "21/21 [==============================] - 0s 4ms/step - loss: 0.0027 - mae: 0.0392 - val_loss: 0.0096 - val_mae: 0.0810\n",
            "Epoch 265/1000\n",
            "21/21 [==============================] - 0s 4ms/step - loss: 0.0027 - mae: 0.0391 - val_loss: 0.0096 - val_mae: 0.0811\n",
            "Epoch 266/1000\n",
            "21/21 [==============================] - 0s 6ms/step - loss: 0.0027 - mae: 0.0391 - val_loss: 0.0096 - val_mae: 0.0809\n",
            "Epoch 267/1000\n",
            "21/21 [==============================] - 0s 5ms/step - loss: 0.0027 - mae: 0.0390 - val_loss: 0.0096 - val_mae: 0.0809\n",
            "Epoch 268/1000\n",
            "21/21 [==============================] - 0s 4ms/step - loss: 0.0027 - mae: 0.0390 - val_loss: 0.0096 - val_mae: 0.0809\n",
            "Epoch 269/1000\n",
            "21/21 [==============================] - 0s 4ms/step - loss: 0.0027 - mae: 0.0389 - val_loss: 0.0096 - val_mae: 0.0809\n",
            "Epoch 270/1000\n",
            "21/21 [==============================] - 0s 4ms/step - loss: 0.0027 - mae: 0.0388 - val_loss: 0.0096 - val_mae: 0.0810\n",
            "Epoch 271/1000\n",
            "21/21 [==============================] - 0s 5ms/step - loss: 0.0027 - mae: 0.0388 - val_loss: 0.0096 - val_mae: 0.0809\n",
            "Epoch 272/1000\n",
            "21/21 [==============================] - 0s 3ms/step - loss: 0.0027 - mae: 0.0387 - val_loss: 0.0096 - val_mae: 0.0808\n",
            "Epoch 273/1000\n",
            "21/21 [==============================] - 0s 5ms/step - loss: 0.0027 - mae: 0.0386 - val_loss: 0.0096 - val_mae: 0.0808\n",
            "Epoch 274/1000\n",
            "21/21 [==============================] - 0s 4ms/step - loss: 0.0027 - mae: 0.0386 - val_loss: 0.0095 - val_mae: 0.0807\n",
            "Epoch 275/1000\n",
            "21/21 [==============================] - 0s 5ms/step - loss: 0.0027 - mae: 0.0385 - val_loss: 0.0096 - val_mae: 0.0808\n",
            "Epoch 276/1000\n",
            "21/21 [==============================] - 0s 4ms/step - loss: 0.0027 - mae: 0.0385 - val_loss: 0.0095 - val_mae: 0.0807\n",
            "Epoch 277/1000\n",
            "21/21 [==============================] - 0s 4ms/step - loss: 0.0026 - mae: 0.0384 - val_loss: 0.0095 - val_mae: 0.0805\n",
            "Epoch 278/1000\n",
            "21/21 [==============================] - 0s 5ms/step - loss: 0.0026 - mae: 0.0383 - val_loss: 0.0096 - val_mae: 0.0808\n",
            "Epoch 279/1000\n",
            "21/21 [==============================] - 0s 4ms/step - loss: 0.0026 - mae: 0.0383 - val_loss: 0.0095 - val_mae: 0.0807\n",
            "Epoch 280/1000\n",
            "21/21 [==============================] - 0s 5ms/step - loss: 0.0026 - mae: 0.0382 - val_loss: 0.0096 - val_mae: 0.0808\n",
            "Epoch 281/1000\n",
            "21/21 [==============================] - 0s 5ms/step - loss: 0.0026 - mae: 0.0382 - val_loss: 0.0095 - val_mae: 0.0807\n",
            "Epoch 282/1000\n",
            "21/21 [==============================] - 0s 4ms/step - loss: 0.0026 - mae: 0.0381 - val_loss: 0.0095 - val_mae: 0.0806\n",
            "Epoch 283/1000\n",
            "21/21 [==============================] - 0s 4ms/step - loss: 0.0026 - mae: 0.0380 - val_loss: 0.0095 - val_mae: 0.0806\n",
            "Epoch 284/1000\n",
            "21/21 [==============================] - 0s 6ms/step - loss: 0.0026 - mae: 0.0380 - val_loss: 0.0095 - val_mae: 0.0806\n",
            "Epoch 285/1000\n",
            "21/21 [==============================] - 0s 4ms/step - loss: 0.0026 - mae: 0.0380 - val_loss: 0.0095 - val_mae: 0.0806\n",
            "Epoch 286/1000\n",
            "21/21 [==============================] - 0s 4ms/step - loss: 0.0026 - mae: 0.0379 - val_loss: 0.0095 - val_mae: 0.0805\n",
            "Epoch 287/1000\n",
            "21/21 [==============================] - 0s 4ms/step - loss: 0.0026 - mae: 0.0378 - val_loss: 0.0095 - val_mae: 0.0805\n",
            "Epoch 288/1000\n",
            "21/21 [==============================] - 0s 4ms/step - loss: 0.0026 - mae: 0.0378 - val_loss: 0.0095 - val_mae: 0.0805\n",
            "Epoch 289/1000\n",
            "21/21 [==============================] - 0s 4ms/step - loss: 0.0026 - mae: 0.0377 - val_loss: 0.0095 - val_mae: 0.0805\n",
            "Epoch 290/1000\n",
            "21/21 [==============================] - 0s 5ms/step - loss: 0.0026 - mae: 0.0377 - val_loss: 0.0095 - val_mae: 0.0805\n",
            "Epoch 291/1000\n",
            "21/21 [==============================] - 0s 5ms/step - loss: 0.0026 - mae: 0.0376 - val_loss: 0.0095 - val_mae: 0.0805\n",
            "Epoch 292/1000\n",
            "21/21 [==============================] - 0s 3ms/step - loss: 0.0025 - mae: 0.0376 - val_loss: 0.0095 - val_mae: 0.0804\n",
            "Epoch 293/1000\n",
            "21/21 [==============================] - 0s 4ms/step - loss: 0.0025 - mae: 0.0375 - val_loss: 0.0095 - val_mae: 0.0804\n",
            "Epoch 294/1000\n",
            "21/21 [==============================] - 0s 4ms/step - loss: 0.0025 - mae: 0.0375 - val_loss: 0.0095 - val_mae: 0.0804\n",
            "Epoch 295/1000\n",
            "21/21 [==============================] - 0s 4ms/step - loss: 0.0025 - mae: 0.0374 - val_loss: 0.0095 - val_mae: 0.0804\n",
            "Epoch 296/1000\n",
            "21/21 [==============================] - 0s 5ms/step - loss: 0.0025 - mae: 0.0373 - val_loss: 0.0095 - val_mae: 0.0804\n",
            "Epoch 297/1000\n",
            "21/21 [==============================] - 0s 4ms/step - loss: 0.0025 - mae: 0.0373 - val_loss: 0.0095 - val_mae: 0.0804\n",
            "Epoch 298/1000\n",
            "21/21 [==============================] - 0s 5ms/step - loss: 0.0025 - mae: 0.0372 - val_loss: 0.0095 - val_mae: 0.0803\n",
            "Epoch 299/1000\n",
            "21/21 [==============================] - 0s 5ms/step - loss: 0.0025 - mae: 0.0372 - val_loss: 0.0095 - val_mae: 0.0803\n",
            "Epoch 300/1000\n",
            "21/21 [==============================] - 0s 4ms/step - loss: 0.0025 - mae: 0.0371 - val_loss: 0.0095 - val_mae: 0.0804\n",
            "Epoch 301/1000\n",
            "21/21 [==============================] - 0s 5ms/step - loss: 0.0025 - mae: 0.0371 - val_loss: 0.0095 - val_mae: 0.0803\n",
            "Epoch 302/1000\n",
            "21/21 [==============================] - 0s 4ms/step - loss: 0.0025 - mae: 0.0370 - val_loss: 0.0095 - val_mae: 0.0802\n",
            "Epoch 303/1000\n",
            "21/21 [==============================] - 0s 4ms/step - loss: 0.0025 - mae: 0.0370 - val_loss: 0.0094 - val_mae: 0.0802\n",
            "Epoch 304/1000\n",
            "21/21 [==============================] - 0s 4ms/step - loss: 0.0025 - mae: 0.0369 - val_loss: 0.0094 - val_mae: 0.0802\n",
            "Epoch 305/1000\n",
            "21/21 [==============================] - 0s 6ms/step - loss: 0.0025 - mae: 0.0369 - val_loss: 0.0095 - val_mae: 0.0803\n",
            "Epoch 306/1000\n",
            "21/21 [==============================] - 0s 4ms/step - loss: 0.0025 - mae: 0.0368 - val_loss: 0.0094 - val_mae: 0.0802\n",
            "Epoch 307/1000\n",
            "21/21 [==============================] - 0s 4ms/step - loss: 0.0025 - mae: 0.0367 - val_loss: 0.0095 - val_mae: 0.0803\n",
            "Epoch 308/1000\n",
            "21/21 [==============================] - 0s 5ms/step - loss: 0.0024 - mae: 0.0367 - val_loss: 0.0094 - val_mae: 0.0802\n",
            "Epoch 309/1000\n",
            "21/21 [==============================] - 0s 4ms/step - loss: 0.0024 - mae: 0.0366 - val_loss: 0.0094 - val_mae: 0.0801\n",
            "Epoch 310/1000\n",
            "21/21 [==============================] - 0s 6ms/step - loss: 0.0024 - mae: 0.0366 - val_loss: 0.0095 - val_mae: 0.0803\n",
            "Epoch 311/1000\n",
            "21/21 [==============================] - 0s 4ms/step - loss: 0.0024 - mae: 0.0365 - val_loss: 0.0094 - val_mae: 0.0802\n",
            "Epoch 312/1000\n",
            "21/21 [==============================] - 0s 4ms/step - loss: 0.0024 - mae: 0.0365 - val_loss: 0.0094 - val_mae: 0.0801\n",
            "Epoch 313/1000\n",
            "21/21 [==============================] - 0s 4ms/step - loss: 0.0024 - mae: 0.0364 - val_loss: 0.0095 - val_mae: 0.0803\n",
            "Epoch 314/1000\n",
            "21/21 [==============================] - 0s 5ms/step - loss: 0.0024 - mae: 0.0364 - val_loss: 0.0094 - val_mae: 0.0800\n",
            "Epoch 315/1000\n",
            "21/21 [==============================] - 0s 4ms/step - loss: 0.0024 - mae: 0.0363 - val_loss: 0.0094 - val_mae: 0.0801\n",
            "Epoch 316/1000\n",
            "21/21 [==============================] - 0s 6ms/step - loss: 0.0024 - mae: 0.0363 - val_loss: 0.0094 - val_mae: 0.0802\n",
            "Epoch 317/1000\n",
            "21/21 [==============================] - 0s 5ms/step - loss: 0.0024 - mae: 0.0362 - val_loss: 0.0094 - val_mae: 0.0800\n",
            "Epoch 318/1000\n",
            "21/21 [==============================] - 0s 4ms/step - loss: 0.0024 - mae: 0.0362 - val_loss: 0.0094 - val_mae: 0.0801\n",
            "Epoch 319/1000\n",
            "21/21 [==============================] - 0s 5ms/step - loss: 0.0024 - mae: 0.0361 - val_loss: 0.0094 - val_mae: 0.0800\n",
            "Epoch 320/1000\n",
            "21/21 [==============================] - 0s 5ms/step - loss: 0.0024 - mae: 0.0361 - val_loss: 0.0094 - val_mae: 0.0800\n",
            "Epoch 321/1000\n",
            "21/21 [==============================] - 0s 5ms/step - loss: 0.0024 - mae: 0.0360 - val_loss: 0.0094 - val_mae: 0.0800\n",
            "Epoch 322/1000\n",
            "21/21 [==============================] - 0s 5ms/step - loss: 0.0024 - mae: 0.0360 - val_loss: 0.0094 - val_mae: 0.0801\n",
            "Epoch 323/1000\n",
            "21/21 [==============================] - 0s 3ms/step - loss: 0.0024 - mae: 0.0359 - val_loss: 0.0094 - val_mae: 0.0799\n",
            "Epoch 324/1000\n",
            "21/21 [==============================] - 0s 5ms/step - loss: 0.0024 - mae: 0.0359 - val_loss: 0.0094 - val_mae: 0.0800\n",
            "Epoch 325/1000\n",
            "21/21 [==============================] - 0s 5ms/step - loss: 0.0023 - mae: 0.0358 - val_loss: 0.0094 - val_mae: 0.0799\n",
            "Epoch 326/1000\n",
            "21/21 [==============================] - 0s 5ms/step - loss: 0.0023 - mae: 0.0358 - val_loss: 0.0094 - val_mae: 0.0800\n",
            "Epoch 327/1000\n",
            "21/21 [==============================] - 0s 5ms/step - loss: 0.0023 - mae: 0.0358 - val_loss: 0.0094 - val_mae: 0.0798\n",
            "Epoch 328/1000\n",
            "21/21 [==============================] - 0s 4ms/step - loss: 0.0023 - mae: 0.0357 - val_loss: 0.0094 - val_mae: 0.0799\n",
            "Epoch 329/1000\n",
            "21/21 [==============================] - 0s 5ms/step - loss: 0.0023 - mae: 0.0356 - val_loss: 0.0094 - val_mae: 0.0800\n",
            "Epoch 330/1000\n",
            "21/21 [==============================] - 0s 5ms/step - loss: 0.0023 - mae: 0.0356 - val_loss: 0.0094 - val_mae: 0.0801\n",
            "Epoch 331/1000\n",
            "21/21 [==============================] - 0s 5ms/step - loss: 0.0023 - mae: 0.0355 - val_loss: 0.0094 - val_mae: 0.0800\n",
            "Epoch 332/1000\n",
            "21/21 [==============================] - 0s 4ms/step - loss: 0.0023 - mae: 0.0355 - val_loss: 0.0094 - val_mae: 0.0799\n",
            "Epoch 333/1000\n",
            "21/21 [==============================] - 0s 4ms/step - loss: 0.0023 - mae: 0.0354 - val_loss: 0.0094 - val_mae: 0.0799\n",
            "Epoch 334/1000\n",
            "21/21 [==============================] - 0s 4ms/step - loss: 0.0023 - mae: 0.0354 - val_loss: 0.0094 - val_mae: 0.0799\n",
            "Epoch 335/1000\n",
            "21/21 [==============================] - 0s 5ms/step - loss: 0.0023 - mae: 0.0353 - val_loss: 0.0094 - val_mae: 0.0799\n",
            "Epoch 336/1000\n",
            "21/21 [==============================] - 0s 4ms/step - loss: 0.0023 - mae: 0.0353 - val_loss: 0.0094 - val_mae: 0.0798\n",
            "Epoch 337/1000\n",
            "21/21 [==============================] - 0s 5ms/step - loss: 0.0023 - mae: 0.0352 - val_loss: 0.0093 - val_mae: 0.0798\n",
            "Epoch 338/1000\n",
            "21/21 [==============================] - 0s 5ms/step - loss: 0.0023 - mae: 0.0352 - val_loss: 0.0093 - val_mae: 0.0798\n",
            "Epoch 339/1000\n",
            "21/21 [==============================] - 0s 4ms/step - loss: 0.0023 - mae: 0.0351 - val_loss: 0.0094 - val_mae: 0.0798\n",
            "Epoch 340/1000\n",
            "21/21 [==============================] - 0s 6ms/step - loss: 0.0023 - mae: 0.0351 - val_loss: 0.0094 - val_mae: 0.0799\n",
            "Epoch 341/1000\n",
            "21/21 [==============================] - 0s 5ms/step - loss: 0.0023 - mae: 0.0351 - val_loss: 0.0094 - val_mae: 0.0798\n",
            "Epoch 342/1000\n",
            "21/21 [==============================] - 0s 4ms/step - loss: 0.0023 - mae: 0.0350 - val_loss: 0.0094 - val_mae: 0.0798\n",
            "Epoch 343/1000\n",
            "21/21 [==============================] - 0s 4ms/step - loss: 0.0022 - mae: 0.0350 - val_loss: 0.0093 - val_mae: 0.0797\n",
            "Epoch 344/1000\n",
            "21/21 [==============================] - 0s 5ms/step - loss: 0.0022 - mae: 0.0349 - val_loss: 0.0093 - val_mae: 0.0796\n",
            "Epoch 345/1000\n",
            "21/21 [==============================] - 0s 6ms/step - loss: 0.0022 - mae: 0.0349 - val_loss: 0.0093 - val_mae: 0.0797\n",
            "Epoch 346/1000\n",
            "21/21 [==============================] - 0s 5ms/step - loss: 0.0022 - mae: 0.0348 - val_loss: 0.0093 - val_mae: 0.0797\n",
            "Epoch 347/1000\n",
            "21/21 [==============================] - 0s 5ms/step - loss: 0.0022 - mae: 0.0348 - val_loss: 0.0094 - val_mae: 0.0798\n",
            "Epoch 348/1000\n",
            "21/21 [==============================] - 0s 5ms/step - loss: 0.0022 - mae: 0.0347 - val_loss: 0.0093 - val_mae: 0.0796\n",
            "Epoch 349/1000\n",
            "21/21 [==============================] - 0s 3ms/step - loss: 0.0022 - mae: 0.0347 - val_loss: 0.0093 - val_mae: 0.0796\n",
            "Epoch 350/1000\n",
            "21/21 [==============================] - 0s 5ms/step - loss: 0.0022 - mae: 0.0346 - val_loss: 0.0093 - val_mae: 0.0796\n",
            "Epoch 351/1000\n",
            "21/21 [==============================] - 0s 5ms/step - loss: 0.0022 - mae: 0.0346 - val_loss: 0.0093 - val_mae: 0.0797\n",
            "Epoch 352/1000\n",
            "21/21 [==============================] - 0s 4ms/step - loss: 0.0022 - mae: 0.0346 - val_loss: 0.0093 - val_mae: 0.0796\n",
            "Epoch 353/1000\n",
            "21/21 [==============================] - 0s 4ms/step - loss: 0.0022 - mae: 0.0345 - val_loss: 0.0093 - val_mae: 0.0795\n",
            "Epoch 354/1000\n",
            "21/21 [==============================] - 0s 4ms/step - loss: 0.0022 - mae: 0.0344 - val_loss: 0.0093 - val_mae: 0.0795\n",
            "Epoch 355/1000\n",
            "21/21 [==============================] - 0s 5ms/step - loss: 0.0022 - mae: 0.0344 - val_loss: 0.0093 - val_mae: 0.0797\n",
            "Epoch 356/1000\n",
            "21/21 [==============================] - 0s 5ms/step - loss: 0.0022 - mae: 0.0344 - val_loss: 0.0093 - val_mae: 0.0797\n",
            "Epoch 357/1000\n",
            "21/21 [==============================] - 0s 4ms/step - loss: 0.0022 - mae: 0.0343 - val_loss: 0.0093 - val_mae: 0.0796\n",
            "Epoch 358/1000\n",
            "21/21 [==============================] - 0s 3ms/step - loss: 0.0022 - mae: 0.0343 - val_loss: 0.0093 - val_mae: 0.0795\n",
            "Epoch 359/1000\n",
            "21/21 [==============================] - 0s 4ms/step - loss: 0.0022 - mae: 0.0342 - val_loss: 0.0093 - val_mae: 0.0795\n",
            "Epoch 360/1000\n",
            "21/21 [==============================] - 0s 5ms/step - loss: 0.0022 - mae: 0.0342 - val_loss: 0.0093 - val_mae: 0.0795\n",
            "Epoch 361/1000\n",
            "21/21 [==============================] - 0s 4ms/step - loss: 0.0022 - mae: 0.0341 - val_loss: 0.0093 - val_mae: 0.0795\n",
            "Epoch 362/1000\n",
            "21/21 [==============================] - 0s 4ms/step - loss: 0.0022 - mae: 0.0341 - val_loss: 0.0093 - val_mae: 0.0795\n",
            "Epoch 363/1000\n",
            "21/21 [==============================] - 0s 4ms/step - loss: 0.0021 - mae: 0.0340 - val_loss: 0.0093 - val_mae: 0.0795\n",
            "Epoch 364/1000\n",
            "21/21 [==============================] - 0s 4ms/step - loss: 0.0021 - mae: 0.0340 - val_loss: 0.0093 - val_mae: 0.0795\n",
            "Epoch 365/1000\n",
            "21/21 [==============================] - 0s 5ms/step - loss: 0.0021 - mae: 0.0340 - val_loss: 0.0093 - val_mae: 0.0794\n",
            "Epoch 366/1000\n",
            "21/21 [==============================] - 0s 6ms/step - loss: 0.0021 - mae: 0.0339 - val_loss: 0.0093 - val_mae: 0.0794\n",
            "Epoch 367/1000\n",
            "21/21 [==============================] - 0s 5ms/step - loss: 0.0021 - mae: 0.0339 - val_loss: 0.0093 - val_mae: 0.0794\n",
            "Epoch 368/1000\n",
            "21/21 [==============================] - 0s 4ms/step - loss: 0.0021 - mae: 0.0338 - val_loss: 0.0093 - val_mae: 0.0795\n",
            "Epoch 369/1000\n",
            "21/21 [==============================] - 0s 4ms/step - loss: 0.0021 - mae: 0.0338 - val_loss: 0.0093 - val_mae: 0.0795\n",
            "Epoch 370/1000\n",
            "21/21 [==============================] - 0s 5ms/step - loss: 0.0021 - mae: 0.0337 - val_loss: 0.0093 - val_mae: 0.0795\n",
            "Epoch 371/1000\n",
            "21/21 [==============================] - 0s 5ms/step - loss: 0.0021 - mae: 0.0337 - val_loss: 0.0093 - val_mae: 0.0793\n",
            "Epoch 372/1000\n",
            "21/21 [==============================] - 0s 5ms/step - loss: 0.0021 - mae: 0.0337 - val_loss: 0.0093 - val_mae: 0.0793\n",
            "Epoch 373/1000\n",
            "21/21 [==============================] - 0s 5ms/step - loss: 0.0021 - mae: 0.0336 - val_loss: 0.0093 - val_mae: 0.0793\n",
            "Epoch 374/1000\n",
            "21/21 [==============================] - 0s 4ms/step - loss: 0.0021 - mae: 0.0335 - val_loss: 0.0093 - val_mae: 0.0794\n",
            "Epoch 375/1000\n",
            "21/21 [==============================] - 0s 5ms/step - loss: 0.0021 - mae: 0.0335 - val_loss: 0.0092 - val_mae: 0.0793\n",
            "Epoch 376/1000\n",
            "21/21 [==============================] - 0s 5ms/step - loss: 0.0021 - mae: 0.0335 - val_loss: 0.0093 - val_mae: 0.0793\n",
            "Epoch 377/1000\n",
            "21/21 [==============================] - 0s 5ms/step - loss: 0.0021 - mae: 0.0334 - val_loss: 0.0093 - val_mae: 0.0794\n",
            "Epoch 378/1000\n",
            "21/21 [==============================] - 0s 5ms/step - loss: 0.0021 - mae: 0.0334 - val_loss: 0.0093 - val_mae: 0.0794\n",
            "Epoch 379/1000\n",
            "21/21 [==============================] - 0s 6ms/step - loss: 0.0021 - mae: 0.0334 - val_loss: 0.0093 - val_mae: 0.0793\n",
            "Epoch 380/1000\n",
            "21/21 [==============================] - 0s 4ms/step - loss: 0.0021 - mae: 0.0333 - val_loss: 0.0092 - val_mae: 0.0792\n",
            "Epoch 381/1000\n",
            "21/21 [==============================] - 0s 5ms/step - loss: 0.0021 - mae: 0.0333 - val_loss: 0.0092 - val_mae: 0.0792\n",
            "Epoch 382/1000\n",
            "21/21 [==============================] - 0s 5ms/step - loss: 0.0021 - mae: 0.0332 - val_loss: 0.0092 - val_mae: 0.0791\n",
            "Epoch 383/1000\n",
            "21/21 [==============================] - 0s 5ms/step - loss: 0.0021 - mae: 0.0332 - val_loss: 0.0092 - val_mae: 0.0792\n",
            "Epoch 384/1000\n",
            "21/21 [==============================] - 0s 3ms/step - loss: 0.0020 - mae: 0.0331 - val_loss: 0.0092 - val_mae: 0.0791\n",
            "Epoch 385/1000\n",
            "21/21 [==============================] - 0s 5ms/step - loss: 0.0020 - mae: 0.0331 - val_loss: 0.0092 - val_mae: 0.0792\n",
            "Epoch 386/1000\n",
            "21/21 [==============================] - 0s 5ms/step - loss: 0.0020 - mae: 0.0331 - val_loss: 0.0092 - val_mae: 0.0791\n",
            "Epoch 387/1000\n",
            "21/21 [==============================] - 0s 5ms/step - loss: 0.0020 - mae: 0.0330 - val_loss: 0.0092 - val_mae: 0.0792\n",
            "Epoch 388/1000\n",
            "21/21 [==============================] - 0s 5ms/step - loss: 0.0020 - mae: 0.0330 - val_loss: 0.0092 - val_mae: 0.0791\n",
            "Epoch 389/1000\n",
            "21/21 [==============================] - 0s 5ms/step - loss: 0.0020 - mae: 0.0329 - val_loss: 0.0092 - val_mae: 0.0791\n",
            "Epoch 390/1000\n",
            "21/21 [==============================] - 0s 5ms/step - loss: 0.0020 - mae: 0.0329 - val_loss: 0.0092 - val_mae: 0.0790\n",
            "Epoch 391/1000\n",
            "21/21 [==============================] - 0s 5ms/step - loss: 0.0020 - mae: 0.0328 - val_loss: 0.0092 - val_mae: 0.0791\n",
            "Epoch 392/1000\n",
            "21/21 [==============================] - 0s 5ms/step - loss: 0.0020 - mae: 0.0328 - val_loss: 0.0092 - val_mae: 0.0791\n",
            "Epoch 393/1000\n",
            "21/21 [==============================] - 0s 5ms/step - loss: 0.0020 - mae: 0.0327 - val_loss: 0.0092 - val_mae: 0.0790\n",
            "Epoch 394/1000\n",
            "21/21 [==============================] - 0s 5ms/step - loss: 0.0020 - mae: 0.0327 - val_loss: 0.0092 - val_mae: 0.0790\n",
            "Epoch 395/1000\n",
            "21/21 [==============================] - 0s 4ms/step - loss: 0.0020 - mae: 0.0327 - val_loss: 0.0092 - val_mae: 0.0790\n",
            "Epoch 396/1000\n",
            "21/21 [==============================] - 0s 4ms/step - loss: 0.0020 - mae: 0.0326 - val_loss: 0.0092 - val_mae: 0.0790\n",
            "Epoch 397/1000\n",
            "21/21 [==============================] - 0s 6ms/step - loss: 0.0020 - mae: 0.0326 - val_loss: 0.0092 - val_mae: 0.0789\n",
            "Epoch 398/1000\n",
            "21/21 [==============================] - 0s 5ms/step - loss: 0.0020 - mae: 0.0325 - val_loss: 0.0092 - val_mae: 0.0790\n",
            "Epoch 399/1000\n",
            "21/21 [==============================] - 0s 5ms/step - loss: 0.0020 - mae: 0.0325 - val_loss: 0.0092 - val_mae: 0.0790\n",
            "Epoch 400/1000\n",
            "21/21 [==============================] - 0s 4ms/step - loss: 0.0020 - mae: 0.0325 - val_loss: 0.0092 - val_mae: 0.0789\n",
            "Epoch 401/1000\n",
            "21/21 [==============================] - 0s 6ms/step - loss: 0.0020 - mae: 0.0324 - val_loss: 0.0092 - val_mae: 0.0789\n",
            "Epoch 402/1000\n",
            "21/21 [==============================] - 0s 4ms/step - loss: 0.0020 - mae: 0.0324 - val_loss: 0.0092 - val_mae: 0.0790\n",
            "Epoch 403/1000\n",
            "21/21 [==============================] - 0s 4ms/step - loss: 0.0020 - mae: 0.0323 - val_loss: 0.0092 - val_mae: 0.0789\n",
            "Epoch 404/1000\n",
            "21/21 [==============================] - 0s 4ms/step - loss: 0.0020 - mae: 0.0323 - val_loss: 0.0092 - val_mae: 0.0789\n",
            "Epoch 405/1000\n",
            "21/21 [==============================] - 0s 4ms/step - loss: 0.0020 - mae: 0.0323 - val_loss: 0.0092 - val_mae: 0.0789\n",
            "Epoch 406/1000\n",
            "21/21 [==============================] - 0s 5ms/step - loss: 0.0020 - mae: 0.0322 - val_loss: 0.0091 - val_mae: 0.0788\n",
            "Epoch 407/1000\n",
            "21/21 [==============================] - 0s 5ms/step - loss: 0.0019 - mae: 0.0322 - val_loss: 0.0092 - val_mae: 0.0790\n",
            "Epoch 408/1000\n",
            "21/21 [==============================] - 0s 5ms/step - loss: 0.0019 - mae: 0.0321 - val_loss: 0.0092 - val_mae: 0.0790\n",
            "Epoch 409/1000\n",
            "21/21 [==============================] - 0s 5ms/step - loss: 0.0019 - mae: 0.0321 - val_loss: 0.0092 - val_mae: 0.0789\n",
            "Epoch 410/1000\n",
            "21/21 [==============================] - 0s 4ms/step - loss: 0.0019 - mae: 0.0321 - val_loss: 0.0092 - val_mae: 0.0789\n",
            "Epoch 411/1000\n",
            "21/21 [==============================] - 0s 4ms/step - loss: 0.0019 - mae: 0.0320 - val_loss: 0.0091 - val_mae: 0.0788\n",
            "Epoch 412/1000\n",
            "21/21 [==============================] - 0s 4ms/step - loss: 0.0019 - mae: 0.0320 - val_loss: 0.0092 - val_mae: 0.0789\n",
            "Epoch 413/1000\n",
            "21/21 [==============================] - 0s 5ms/step - loss: 0.0019 - mae: 0.0319 - val_loss: 0.0092 - val_mae: 0.0789\n",
            "Epoch 414/1000\n",
            "21/21 [==============================] - 0s 5ms/step - loss: 0.0019 - mae: 0.0319 - val_loss: 0.0092 - val_mae: 0.0789\n",
            "Epoch 415/1000\n",
            "21/21 [==============================] - 0s 5ms/step - loss: 0.0019 - mae: 0.0319 - val_loss: 0.0091 - val_mae: 0.0788\n",
            "Epoch 416/1000\n",
            "21/21 [==============================] - 0s 5ms/step - loss: 0.0019 - mae: 0.0318 - val_loss: 0.0092 - val_mae: 0.0788\n",
            "Epoch 417/1000\n",
            "21/21 [==============================] - 0s 4ms/step - loss: 0.0019 - mae: 0.0318 - val_loss: 0.0091 - val_mae: 0.0788\n",
            "Epoch 418/1000\n",
            "21/21 [==============================] - 0s 5ms/step - loss: 0.0019 - mae: 0.0317 - val_loss: 0.0091 - val_mae: 0.0788\n",
            "Epoch 419/1000\n",
            "21/21 [==============================] - 0s 5ms/step - loss: 0.0019 - mae: 0.0317 - val_loss: 0.0091 - val_mae: 0.0787\n",
            "Epoch 420/1000\n",
            "21/21 [==============================] - 0s 6ms/step - loss: 0.0019 - mae: 0.0317 - val_loss: 0.0092 - val_mae: 0.0789\n",
            "Epoch 421/1000\n",
            "21/21 [==============================] - 0s 6ms/step - loss: 0.0019 - mae: 0.0316 - val_loss: 0.0091 - val_mae: 0.0788\n",
            "Epoch 422/1000\n",
            "21/21 [==============================] - 0s 5ms/step - loss: 0.0019 - mae: 0.0316 - val_loss: 0.0091 - val_mae: 0.0788\n",
            "Epoch 423/1000\n",
            "21/21 [==============================] - 0s 5ms/step - loss: 0.0019 - mae: 0.0315 - val_loss: 0.0091 - val_mae: 0.0786\n",
            "Epoch 424/1000\n",
            "21/21 [==============================] - 0s 6ms/step - loss: 0.0019 - mae: 0.0315 - val_loss: 0.0091 - val_mae: 0.0788\n",
            "Epoch 425/1000\n",
            "21/21 [==============================] - 0s 5ms/step - loss: 0.0019 - mae: 0.0315 - val_loss: 0.0092 - val_mae: 0.0788\n",
            "Epoch 426/1000\n",
            "21/21 [==============================] - 0s 5ms/step - loss: 0.0019 - mae: 0.0314 - val_loss: 0.0091 - val_mae: 0.0788\n",
            "Epoch 427/1000\n",
            "21/21 [==============================] - 0s 4ms/step - loss: 0.0019 - mae: 0.0314 - val_loss: 0.0091 - val_mae: 0.0787\n",
            "Epoch 428/1000\n",
            "21/21 [==============================] - 0s 5ms/step - loss: 0.0019 - mae: 0.0313 - val_loss: 0.0091 - val_mae: 0.0787\n",
            "Epoch 429/1000\n",
            "21/21 [==============================] - 0s 6ms/step - loss: 0.0019 - mae: 0.0313 - val_loss: 0.0091 - val_mae: 0.0788\n",
            "Epoch 430/1000\n",
            "21/21 [==============================] - 0s 4ms/step - loss: 0.0019 - mae: 0.0313 - val_loss: 0.0091 - val_mae: 0.0786\n",
            "Epoch 431/1000\n",
            "21/21 [==============================] - 0s 4ms/step - loss: 0.0019 - mae: 0.0312 - val_loss: 0.0091 - val_mae: 0.0787\n",
            "Epoch 432/1000\n",
            "21/21 [==============================] - 0s 6ms/step - loss: 0.0018 - mae: 0.0312 - val_loss: 0.0091 - val_mae: 0.0787\n",
            "Epoch 433/1000\n",
            "21/21 [==============================] - 0s 5ms/step - loss: 0.0018 - mae: 0.0312 - val_loss: 0.0091 - val_mae: 0.0787\n",
            "Epoch 434/1000\n",
            "21/21 [==============================] - 0s 5ms/step - loss: 0.0018 - mae: 0.0311 - val_loss: 0.0091 - val_mae: 0.0787\n",
            "Epoch 435/1000\n",
            "21/21 [==============================] - 0s 4ms/step - loss: 0.0018 - mae: 0.0311 - val_loss: 0.0091 - val_mae: 0.0786\n",
            "Epoch 436/1000\n",
            "21/21 [==============================] - 0s 5ms/step - loss: 0.0018 - mae: 0.0310 - val_loss: 0.0091 - val_mae: 0.0786\n",
            "Epoch 437/1000\n",
            "21/21 [==============================] - 0s 4ms/step - loss: 0.0018 - mae: 0.0310 - val_loss: 0.0091 - val_mae: 0.0787\n",
            "Epoch 438/1000\n",
            "21/21 [==============================] - 0s 5ms/step - loss: 0.0018 - mae: 0.0310 - val_loss: 0.0091 - val_mae: 0.0787\n",
            "Epoch 439/1000\n",
            "21/21 [==============================] - 0s 5ms/step - loss: 0.0018 - mae: 0.0309 - val_loss: 0.0091 - val_mae: 0.0786\n",
            "Epoch 440/1000\n",
            "21/21 [==============================] - 0s 5ms/step - loss: 0.0018 - mae: 0.0309 - val_loss: 0.0091 - val_mae: 0.0785\n",
            "Epoch 441/1000\n",
            "21/21 [==============================] - 0s 5ms/step - loss: 0.0018 - mae: 0.0308 - val_loss: 0.0091 - val_mae: 0.0785\n",
            "Epoch 442/1000\n",
            "21/21 [==============================] - 0s 5ms/step - loss: 0.0018 - mae: 0.0308 - val_loss: 0.0091 - val_mae: 0.0785\n",
            "Epoch 443/1000\n",
            "21/21 [==============================] - 0s 5ms/step - loss: 0.0018 - mae: 0.0308 - val_loss: 0.0091 - val_mae: 0.0786\n",
            "Epoch 444/1000\n",
            "21/21 [==============================] - 0s 5ms/step - loss: 0.0018 - mae: 0.0308 - val_loss: 0.0091 - val_mae: 0.0786\n",
            "Epoch 445/1000\n",
            "21/21 [==============================] - 0s 5ms/step - loss: 0.0018 - mae: 0.0307 - val_loss: 0.0091 - val_mae: 0.0786\n",
            "Epoch 446/1000\n",
            "21/21 [==============================] - 0s 6ms/step - loss: 0.0018 - mae: 0.0307 - val_loss: 0.0091 - val_mae: 0.0786\n",
            "Epoch 447/1000\n",
            "21/21 [==============================] - 0s 5ms/step - loss: 0.0018 - mae: 0.0306 - val_loss: 0.0091 - val_mae: 0.0785\n",
            "Epoch 448/1000\n",
            "21/21 [==============================] - 0s 4ms/step - loss: 0.0018 - mae: 0.0306 - val_loss: 0.0091 - val_mae: 0.0786\n",
            "Epoch 449/1000\n",
            "21/21 [==============================] - 0s 5ms/step - loss: 0.0018 - mae: 0.0305 - val_loss: 0.0091 - val_mae: 0.0785\n",
            "Epoch 450/1000\n",
            "21/21 [==============================] - 0s 4ms/step - loss: 0.0018 - mae: 0.0305 - val_loss: 0.0091 - val_mae: 0.0785\n",
            "Epoch 451/1000\n",
            "21/21 [==============================] - 0s 5ms/step - loss: 0.0018 - mae: 0.0305 - val_loss: 0.0091 - val_mae: 0.0784\n",
            "Epoch 452/1000\n",
            "21/21 [==============================] - 0s 5ms/step - loss: 0.0018 - mae: 0.0305 - val_loss: 0.0091 - val_mae: 0.0784\n",
            "Epoch 453/1000\n",
            "21/21 [==============================] - 0s 4ms/step - loss: 0.0018 - mae: 0.0304 - val_loss: 0.0091 - val_mae: 0.0785\n",
            "Epoch 454/1000\n",
            "21/21 [==============================] - 0s 5ms/step - loss: 0.0018 - mae: 0.0304 - val_loss: 0.0091 - val_mae: 0.0785\n",
            "Epoch 455/1000\n",
            "21/21 [==============================] - 0s 4ms/step - loss: 0.0018 - mae: 0.0303 - val_loss: 0.0091 - val_mae: 0.0785\n",
            "Epoch 456/1000\n",
            "21/21 [==============================] - 0s 5ms/step - loss: 0.0018 - mae: 0.0303 - val_loss: 0.0091 - val_mae: 0.0785\n",
            "Epoch 457/1000\n",
            "21/21 [==============================] - 0s 5ms/step - loss: 0.0018 - mae: 0.0303 - val_loss: 0.0091 - val_mae: 0.0784\n",
            "Epoch 458/1000\n",
            "21/21 [==============================] - 0s 4ms/step - loss: 0.0017 - mae: 0.0302 - val_loss: 0.0091 - val_mae: 0.0785\n",
            "Epoch 459/1000\n",
            "21/21 [==============================] - 0s 6ms/step - loss: 0.0017 - mae: 0.0302 - val_loss: 0.0091 - val_mae: 0.0785\n",
            "Epoch 460/1000\n",
            "21/21 [==============================] - 0s 5ms/step - loss: 0.0017 - mae: 0.0302 - val_loss: 0.0091 - val_mae: 0.0785\n",
            "Epoch 461/1000\n",
            "21/21 [==============================] - 0s 4ms/step - loss: 0.0017 - mae: 0.0301 - val_loss: 0.0091 - val_mae: 0.0784\n",
            "Epoch 462/1000\n",
            "21/21 [==============================] - 0s 5ms/step - loss: 0.0017 - mae: 0.0301 - val_loss: 0.0091 - val_mae: 0.0784\n",
            "Epoch 463/1000\n",
            "21/21 [==============================] - 0s 5ms/step - loss: 0.0017 - mae: 0.0300 - val_loss: 0.0091 - val_mae: 0.0785\n",
            "Epoch 464/1000\n",
            "21/21 [==============================] - 0s 6ms/step - loss: 0.0017 - mae: 0.0300 - val_loss: 0.0090 - val_mae: 0.0784\n",
            "Epoch 465/1000\n",
            "21/21 [==============================] - 0s 5ms/step - loss: 0.0017 - mae: 0.0300 - val_loss: 0.0091 - val_mae: 0.0784\n",
            "Epoch 466/1000\n",
            "21/21 [==============================] - 0s 6ms/step - loss: 0.0017 - mae: 0.0299 - val_loss: 0.0090 - val_mae: 0.0783\n",
            "Epoch 467/1000\n",
            "21/21 [==============================] - 0s 4ms/step - loss: 0.0017 - mae: 0.0299 - val_loss: 0.0091 - val_mae: 0.0784\n",
            "Epoch 468/1000\n",
            "21/21 [==============================] - 0s 5ms/step - loss: 0.0017 - mae: 0.0299 - val_loss: 0.0091 - val_mae: 0.0784\n",
            "Epoch 469/1000\n",
            "21/21 [==============================] - 0s 5ms/step - loss: 0.0017 - mae: 0.0298 - val_loss: 0.0091 - val_mae: 0.0784\n",
            "Epoch 470/1000\n",
            "21/21 [==============================] - 0s 4ms/step - loss: 0.0017 - mae: 0.0298 - val_loss: 0.0091 - val_mae: 0.0784\n",
            "Epoch 471/1000\n",
            "21/21 [==============================] - 0s 5ms/step - loss: 0.0017 - mae: 0.0298 - val_loss: 0.0090 - val_mae: 0.0783\n",
            "Epoch 472/1000\n",
            "21/21 [==============================] - 0s 5ms/step - loss: 0.0017 - mae: 0.0297 - val_loss: 0.0091 - val_mae: 0.0784\n",
            "Epoch 473/1000\n",
            "21/21 [==============================] - 0s 5ms/step - loss: 0.0017 - mae: 0.0297 - val_loss: 0.0091 - val_mae: 0.0784\n",
            "Epoch 474/1000\n",
            "21/21 [==============================] - 0s 4ms/step - loss: 0.0017 - mae: 0.0296 - val_loss: 0.0091 - val_mae: 0.0784\n",
            "Epoch 475/1000\n",
            "21/21 [==============================] - 0s 5ms/step - loss: 0.0017 - mae: 0.0296 - val_loss: 0.0090 - val_mae: 0.0783\n",
            "Epoch 476/1000\n",
            "21/21 [==============================] - 0s 5ms/step - loss: 0.0017 - mae: 0.0296 - val_loss: 0.0090 - val_mae: 0.0783\n",
            "Epoch 477/1000\n",
            "21/21 [==============================] - 0s 5ms/step - loss: 0.0017 - mae: 0.0295 - val_loss: 0.0090 - val_mae: 0.0783\n",
            "Epoch 478/1000\n",
            "21/21 [==============================] - 0s 5ms/step - loss: 0.0017 - mae: 0.0295 - val_loss: 0.0091 - val_mae: 0.0783\n",
            "Epoch 479/1000\n",
            "21/21 [==============================] - 0s 5ms/step - loss: 0.0017 - mae: 0.0295 - val_loss: 0.0090 - val_mae: 0.0783\n",
            "Epoch 480/1000\n",
            "21/21 [==============================] - 0s 4ms/step - loss: 0.0017 - mae: 0.0294 - val_loss: 0.0090 - val_mae: 0.0783\n",
            "Epoch 481/1000\n",
            "21/21 [==============================] - 0s 5ms/step - loss: 0.0017 - mae: 0.0294 - val_loss: 0.0090 - val_mae: 0.0783\n",
            "Epoch 482/1000\n",
            "21/21 [==============================] - 0s 5ms/step - loss: 0.0017 - mae: 0.0294 - val_loss: 0.0090 - val_mae: 0.0783\n",
            "Epoch 483/1000\n",
            "21/21 [==============================] - 0s 5ms/step - loss: 0.0017 - mae: 0.0293 - val_loss: 0.0090 - val_mae: 0.0783\n",
            "Epoch 484/1000\n",
            "21/21 [==============================] - 0s 4ms/step - loss: 0.0017 - mae: 0.0293 - val_loss: 0.0090 - val_mae: 0.0783\n",
            "Epoch 485/1000\n",
            "21/21 [==============================] - 0s 6ms/step - loss: 0.0017 - mae: 0.0293 - val_loss: 0.0090 - val_mae: 0.0783\n",
            "Epoch 486/1000\n",
            "21/21 [==============================] - 0s 4ms/step - loss: 0.0017 - mae: 0.0292 - val_loss: 0.0090 - val_mae: 0.0782\n",
            "Epoch 487/1000\n",
            "21/21 [==============================] - 0s 4ms/step - loss: 0.0016 - mae: 0.0292 - val_loss: 0.0091 - val_mae: 0.0784\n",
            "Epoch 488/1000\n",
            "21/21 [==============================] - 0s 5ms/step - loss: 0.0016 - mae: 0.0291 - val_loss: 0.0090 - val_mae: 0.0783\n",
            "Epoch 489/1000\n",
            "21/21 [==============================] - 0s 4ms/step - loss: 0.0016 - mae: 0.0291 - val_loss: 0.0090 - val_mae: 0.0783\n",
            "Epoch 490/1000\n",
            "21/21 [==============================] - 0s 6ms/step - loss: 0.0016 - mae: 0.0291 - val_loss: 0.0090 - val_mae: 0.0783\n",
            "Epoch 491/1000\n",
            "21/21 [==============================] - 0s 6ms/step - loss: 0.0016 - mae: 0.0291 - val_loss: 0.0090 - val_mae: 0.0782\n",
            "Epoch 492/1000\n",
            "21/21 [==============================] - 0s 5ms/step - loss: 0.0016 - mae: 0.0290 - val_loss: 0.0090 - val_mae: 0.0782\n",
            "Epoch 493/1000\n",
            "21/21 [==============================] - 0s 4ms/step - loss: 0.0016 - mae: 0.0290 - val_loss: 0.0090 - val_mae: 0.0782\n",
            "Epoch 494/1000\n",
            "21/21 [==============================] - 0s 4ms/step - loss: 0.0016 - mae: 0.0289 - val_loss: 0.0090 - val_mae: 0.0782\n",
            "Epoch 495/1000\n",
            "21/21 [==============================] - 0s 5ms/step - loss: 0.0016 - mae: 0.0289 - val_loss: 0.0090 - val_mae: 0.0782\n",
            "Epoch 496/1000\n",
            "21/21 [==============================] - 0s 5ms/step - loss: 0.0016 - mae: 0.0289 - val_loss: 0.0090 - val_mae: 0.0782\n",
            "Epoch 497/1000\n",
            "21/21 [==============================] - 0s 5ms/step - loss: 0.0016 - mae: 0.0288 - val_loss: 0.0090 - val_mae: 0.0783\n",
            "Epoch 498/1000\n",
            "21/21 [==============================] - 0s 6ms/step - loss: 0.0016 - mae: 0.0288 - val_loss: 0.0090 - val_mae: 0.0782\n",
            "Epoch 499/1000\n",
            "21/21 [==============================] - 0s 5ms/step - loss: 0.0016 - mae: 0.0288 - val_loss: 0.0090 - val_mae: 0.0782\n",
            "Epoch 500/1000\n",
            "21/21 [==============================] - 0s 7ms/step - loss: 0.0016 - mae: 0.0287 - val_loss: 0.0090 - val_mae: 0.0782\n",
            "Epoch 501/1000\n",
            "21/21 [==============================] - 0s 4ms/step - loss: 0.0016 - mae: 0.0287 - val_loss: 0.0090 - val_mae: 0.0782\n",
            "Epoch 502/1000\n",
            "21/21 [==============================] - 0s 4ms/step - loss: 0.0016 - mae: 0.0287 - val_loss: 0.0090 - val_mae: 0.0782\n",
            "Epoch 503/1000\n",
            "21/21 [==============================] - 0s 5ms/step - loss: 0.0016 - mae: 0.0286 - val_loss: 0.0090 - val_mae: 0.0782\n",
            "Epoch 504/1000\n",
            "21/21 [==============================] - 0s 3ms/step - loss: 0.0016 - mae: 0.0286 - val_loss: 0.0090 - val_mae: 0.0781\n",
            "Epoch 505/1000\n",
            "21/21 [==============================] - 0s 5ms/step - loss: 0.0016 - mae: 0.0286 - val_loss: 0.0090 - val_mae: 0.0781\n",
            "Epoch 506/1000\n",
            "21/21 [==============================] - 0s 4ms/step - loss: 0.0016 - mae: 0.0285 - val_loss: 0.0090 - val_mae: 0.0782\n",
            "Epoch 507/1000\n",
            "21/21 [==============================] - 0s 4ms/step - loss: 0.0016 - mae: 0.0285 - val_loss: 0.0090 - val_mae: 0.0781\n",
            "Epoch 508/1000\n",
            "21/21 [==============================] - 0s 5ms/step - loss: 0.0016 - mae: 0.0285 - val_loss: 0.0090 - val_mae: 0.0782\n",
            "Epoch 509/1000\n",
            "21/21 [==============================] - 0s 4ms/step - loss: 0.0016 - mae: 0.0284 - val_loss: 0.0090 - val_mae: 0.0781\n",
            "Epoch 510/1000\n",
            "21/21 [==============================] - 0s 6ms/step - loss: 0.0016 - mae: 0.0284 - val_loss: 0.0090 - val_mae: 0.0781\n",
            "Epoch 511/1000\n",
            "21/21 [==============================] - 0s 5ms/step - loss: 0.0016 - mae: 0.0284 - val_loss: 0.0090 - val_mae: 0.0781\n",
            "Epoch 512/1000\n",
            "21/21 [==============================] - 0s 6ms/step - loss: 0.0016 - mae: 0.0283 - val_loss: 0.0090 - val_mae: 0.0780\n",
            "Epoch 513/1000\n",
            "21/21 [==============================] - 0s 5ms/step - loss: 0.0016 - mae: 0.0283 - val_loss: 0.0090 - val_mae: 0.0781\n",
            "Epoch 514/1000\n",
            "21/21 [==============================] - 0s 5ms/step - loss: 0.0016 - mae: 0.0283 - val_loss: 0.0090 - val_mae: 0.0780\n",
            "Epoch 515/1000\n",
            "21/21 [==============================] - 0s 6ms/step - loss: 0.0016 - mae: 0.0282 - val_loss: 0.0090 - val_mae: 0.0781\n",
            "Epoch 516/1000\n",
            "21/21 [==============================] - 0s 5ms/step - loss: 0.0016 - mae: 0.0282 - val_loss: 0.0090 - val_mae: 0.0781\n",
            "Epoch 517/1000\n",
            "21/21 [==============================] - 0s 5ms/step - loss: 0.0016 - mae: 0.0282 - val_loss: 0.0090 - val_mae: 0.0781\n",
            "Epoch 518/1000\n",
            "21/21 [==============================] - 0s 6ms/step - loss: 0.0015 - mae: 0.0281 - val_loss: 0.0090 - val_mae: 0.0781\n",
            "Epoch 519/1000\n",
            "21/21 [==============================] - 0s 4ms/step - loss: 0.0015 - mae: 0.0281 - val_loss: 0.0090 - val_mae: 0.0782\n",
            "Epoch 520/1000\n",
            "21/21 [==============================] - 0s 5ms/step - loss: 0.0015 - mae: 0.0281 - val_loss: 0.0090 - val_mae: 0.0781\n",
            "Epoch 521/1000\n",
            "21/21 [==============================] - 0s 5ms/step - loss: 0.0015 - mae: 0.0280 - val_loss: 0.0090 - val_mae: 0.0780\n",
            "Epoch 522/1000\n",
            "21/21 [==============================] - 0s 4ms/step - loss: 0.0015 - mae: 0.0280 - val_loss: 0.0090 - val_mae: 0.0780\n",
            "Epoch 523/1000\n",
            "21/21 [==============================] - 0s 3ms/step - loss: 0.0015 - mae: 0.0280 - val_loss: 0.0090 - val_mae: 0.0781\n",
            "Epoch 524/1000\n",
            "21/21 [==============================] - 0s 5ms/step - loss: 0.0015 - mae: 0.0279 - val_loss: 0.0090 - val_mae: 0.0780\n",
            "Epoch 525/1000\n",
            "21/21 [==============================] - 0s 4ms/step - loss: 0.0015 - mae: 0.0279 - val_loss: 0.0090 - val_mae: 0.0780\n",
            "Epoch 526/1000\n",
            "21/21 [==============================] - 0s 5ms/step - loss: 0.0015 - mae: 0.0279 - val_loss: 0.0090 - val_mae: 0.0780\n",
            "Epoch 527/1000\n",
            "21/21 [==============================] - 0s 5ms/step - loss: 0.0015 - mae: 0.0279 - val_loss: 0.0090 - val_mae: 0.0780\n",
            "Epoch 528/1000\n",
            "21/21 [==============================] - 0s 4ms/step - loss: 0.0015 - mae: 0.0278 - val_loss: 0.0090 - val_mae: 0.0780\n",
            "Epoch 529/1000\n",
            "21/21 [==============================] - 0s 6ms/step - loss: 0.0015 - mae: 0.0278 - val_loss: 0.0090 - val_mae: 0.0780\n",
            "Epoch 530/1000\n",
            "21/21 [==============================] - 0s 5ms/step - loss: 0.0015 - mae: 0.0277 - val_loss: 0.0090 - val_mae: 0.0780\n",
            "Epoch 531/1000\n",
            "21/21 [==============================] - 0s 5ms/step - loss: 0.0015 - mae: 0.0277 - val_loss: 0.0090 - val_mae: 0.0779\n",
            "Epoch 532/1000\n",
            "21/21 [==============================] - 0s 5ms/step - loss: 0.0015 - mae: 0.0277 - val_loss: 0.0090 - val_mae: 0.0780\n",
            "Epoch 533/1000\n",
            "21/21 [==============================] - 0s 5ms/step - loss: 0.0015 - mae: 0.0277 - val_loss: 0.0090 - val_mae: 0.0779\n",
            "Epoch 534/1000\n",
            "21/21 [==============================] - 0s 5ms/step - loss: 0.0015 - mae: 0.0276 - val_loss: 0.0090 - val_mae: 0.0780\n",
            "Epoch 535/1000\n",
            "21/21 [==============================] - 0s 5ms/step - loss: 0.0015 - mae: 0.0276 - val_loss: 0.0090 - val_mae: 0.0780\n",
            "Epoch 536/1000\n",
            "21/21 [==============================] - 0s 5ms/step - loss: 0.0015 - mae: 0.0275 - val_loss: 0.0090 - val_mae: 0.0780\n",
            "Epoch 537/1000\n",
            "21/21 [==============================] - 0s 5ms/step - loss: 0.0015 - mae: 0.0275 - val_loss: 0.0090 - val_mae: 0.0779\n",
            "Epoch 538/1000\n",
            "21/21 [==============================] - 0s 5ms/step - loss: 0.0015 - mae: 0.0275 - val_loss: 0.0090 - val_mae: 0.0780\n",
            "Epoch 539/1000\n",
            "21/21 [==============================] - 0s 5ms/step - loss: 0.0015 - mae: 0.0275 - val_loss: 0.0090 - val_mae: 0.0780\n",
            "Epoch 540/1000\n",
            "21/21 [==============================] - 0s 5ms/step - loss: 0.0015 - mae: 0.0274 - val_loss: 0.0090 - val_mae: 0.0780\n",
            "Epoch 541/1000\n",
            "21/21 [==============================] - 0s 5ms/step - loss: 0.0015 - mae: 0.0274 - val_loss: 0.0089 - val_mae: 0.0779\n",
            "Epoch 542/1000\n",
            "21/21 [==============================] - 0s 5ms/step - loss: 0.0015 - mae: 0.0274 - val_loss: 0.0090 - val_mae: 0.0779\n",
            "Epoch 543/1000\n",
            "21/21 [==============================] - 0s 4ms/step - loss: 0.0015 - mae: 0.0273 - val_loss: 0.0090 - val_mae: 0.0779\n",
            "Epoch 544/1000\n",
            "21/21 [==============================] - 0s 5ms/step - loss: 0.0015 - mae: 0.0273 - val_loss: 0.0089 - val_mae: 0.0779\n",
            "Epoch 545/1000\n",
            "21/21 [==============================] - 0s 5ms/step - loss: 0.0015 - mae: 0.0273 - val_loss: 0.0090 - val_mae: 0.0779\n",
            "Epoch 546/1000\n",
            "21/21 [==============================] - 0s 4ms/step - loss: 0.0015 - mae: 0.0273 - val_loss: 0.0090 - val_mae: 0.0779\n",
            "Epoch 547/1000\n",
            "21/21 [==============================] - 0s 6ms/step - loss: 0.0015 - mae: 0.0272 - val_loss: 0.0090 - val_mae: 0.0780\n",
            "Epoch 548/1000\n",
            "21/21 [==============================] - 0s 5ms/step - loss: 0.0015 - mae: 0.0272 - val_loss: 0.0090 - val_mae: 0.0779\n",
            "Epoch 549/1000\n",
            "21/21 [==============================] - 0s 5ms/step - loss: 0.0015 - mae: 0.0272 - val_loss: 0.0090 - val_mae: 0.0779\n",
            "Epoch 550/1000\n",
            "21/21 [==============================] - 0s 5ms/step - loss: 0.0015 - mae: 0.0271 - val_loss: 0.0089 - val_mae: 0.0779\n",
            "Epoch 551/1000\n",
            "21/21 [==============================] - 0s 5ms/step - loss: 0.0015 - mae: 0.0271 - val_loss: 0.0089 - val_mae: 0.0778\n",
            "Epoch 552/1000\n",
            "21/21 [==============================] - 0s 5ms/step - loss: 0.0014 - mae: 0.0271 - val_loss: 0.0089 - val_mae: 0.0778\n",
            "Epoch 553/1000\n",
            "21/21 [==============================] - 0s 5ms/step - loss: 0.0014 - mae: 0.0270 - val_loss: 0.0089 - val_mae: 0.0779\n",
            "Epoch 554/1000\n",
            "21/21 [==============================] - 0s 5ms/step - loss: 0.0014 - mae: 0.0270 - val_loss: 0.0089 - val_mae: 0.0778\n",
            "Epoch 555/1000\n",
            "21/21 [==============================] - 0s 6ms/step - loss: 0.0014 - mae: 0.0270 - val_loss: 0.0089 - val_mae: 0.0778\n",
            "Epoch 556/1000\n",
            "21/21 [==============================] - 0s 5ms/step - loss: 0.0014 - mae: 0.0269 - val_loss: 0.0089 - val_mae: 0.0778\n",
            "Epoch 557/1000\n",
            "21/21 [==============================] - 0s 5ms/step - loss: 0.0014 - mae: 0.0269 - val_loss: 0.0089 - val_mae: 0.0779\n",
            "Epoch 558/1000\n",
            "21/21 [==============================] - 0s 5ms/step - loss: 0.0014 - mae: 0.0269 - val_loss: 0.0090 - val_mae: 0.0779\n",
            "Epoch 559/1000\n",
            "21/21 [==============================] - 0s 6ms/step - loss: 0.0014 - mae: 0.0268 - val_loss: 0.0089 - val_mae: 0.0777\n",
            "Epoch 560/1000\n",
            "21/21 [==============================] - 0s 5ms/step - loss: 0.0014 - mae: 0.0268 - val_loss: 0.0089 - val_mae: 0.0778\n",
            "Epoch 561/1000\n",
            "21/21 [==============================] - 0s 4ms/step - loss: 0.0014 - mae: 0.0268 - val_loss: 0.0090 - val_mae: 0.0779\n",
            "Epoch 562/1000\n",
            "21/21 [==============================] - 0s 5ms/step - loss: 0.0014 - mae: 0.0268 - val_loss: 0.0089 - val_mae: 0.0778\n",
            "Epoch 563/1000\n",
            "21/21 [==============================] - 0s 4ms/step - loss: 0.0014 - mae: 0.0267 - val_loss: 0.0089 - val_mae: 0.0778\n",
            "Epoch 564/1000\n",
            "21/21 [==============================] - 0s 4ms/step - loss: 0.0014 - mae: 0.0267 - val_loss: 0.0089 - val_mae: 0.0778\n",
            "Epoch 565/1000\n",
            "21/21 [==============================] - 0s 5ms/step - loss: 0.0014 - mae: 0.0267 - val_loss: 0.0089 - val_mae: 0.0778\n",
            "Epoch 566/1000\n",
            "21/21 [==============================] - 0s 4ms/step - loss: 0.0014 - mae: 0.0266 - val_loss: 0.0089 - val_mae: 0.0777\n",
            "Epoch 567/1000\n",
            "21/21 [==============================] - 0s 5ms/step - loss: 0.0014 - mae: 0.0266 - val_loss: 0.0089 - val_mae: 0.0778\n",
            "Epoch 568/1000\n",
            "21/21 [==============================] - 0s 5ms/step - loss: 0.0014 - mae: 0.0266 - val_loss: 0.0089 - val_mae: 0.0778\n",
            "Epoch 569/1000\n",
            "21/21 [==============================] - 0s 5ms/step - loss: 0.0014 - mae: 0.0265 - val_loss: 0.0089 - val_mae: 0.0777\n",
            "Epoch 570/1000\n",
            "21/21 [==============================] - 0s 5ms/step - loss: 0.0014 - mae: 0.0265 - val_loss: 0.0089 - val_mae: 0.0777\n",
            "Epoch 571/1000\n",
            "21/21 [==============================] - 0s 5ms/step - loss: 0.0014 - mae: 0.0265 - val_loss: 0.0089 - val_mae: 0.0777\n",
            "Epoch 572/1000\n",
            "21/21 [==============================] - 0s 5ms/step - loss: 0.0014 - mae: 0.0264 - val_loss: 0.0089 - val_mae: 0.0777\n",
            "Epoch 573/1000\n",
            "21/21 [==============================] - 0s 4ms/step - loss: 0.0014 - mae: 0.0264 - val_loss: 0.0089 - val_mae: 0.0777\n",
            "Epoch 574/1000\n",
            "21/21 [==============================] - 0s 5ms/step - loss: 0.0014 - mae: 0.0264 - val_loss: 0.0089 - val_mae: 0.0777\n",
            "Epoch 575/1000\n",
            "21/21 [==============================] - 0s 6ms/step - loss: 0.0014 - mae: 0.0264 - val_loss: 0.0089 - val_mae: 0.0777\n",
            "Epoch 576/1000\n",
            "21/21 [==============================] - 0s 4ms/step - loss: 0.0014 - mae: 0.0263 - val_loss: 0.0089 - val_mae: 0.0777\n",
            "Epoch 577/1000\n",
            "21/21 [==============================] - 0s 4ms/step - loss: 0.0014 - mae: 0.0263 - val_loss: 0.0089 - val_mae: 0.0776\n",
            "Epoch 578/1000\n",
            "21/21 [==============================] - 0s 5ms/step - loss: 0.0014 - mae: 0.0263 - val_loss: 0.0089 - val_mae: 0.0777\n",
            "Epoch 579/1000\n",
            "21/21 [==============================] - 0s 6ms/step - loss: 0.0014 - mae: 0.0262 - val_loss: 0.0089 - val_mae: 0.0777\n",
            "Epoch 580/1000\n",
            "21/21 [==============================] - 0s 4ms/step - loss: 0.0014 - mae: 0.0262 - val_loss: 0.0089 - val_mae: 0.0777\n",
            "Epoch 581/1000\n",
            "21/21 [==============================] - 0s 5ms/step - loss: 0.0014 - mae: 0.0262 - val_loss: 0.0089 - val_mae: 0.0777\n",
            "Epoch 582/1000\n",
            "21/21 [==============================] - 0s 5ms/step - loss: 0.0014 - mae: 0.0262 - val_loss: 0.0089 - val_mae: 0.0777\n",
            "Epoch 583/1000\n",
            "21/21 [==============================] - 0s 5ms/step - loss: 0.0014 - mae: 0.0261 - val_loss: 0.0089 - val_mae: 0.0777\n",
            "Epoch 584/1000\n",
            "21/21 [==============================] - 0s 5ms/step - loss: 0.0014 - mae: 0.0261 - val_loss: 0.0089 - val_mae: 0.0777\n",
            "Epoch 585/1000\n",
            "21/21 [==============================] - 0s 5ms/step - loss: 0.0014 - mae: 0.0261 - val_loss: 0.0089 - val_mae: 0.0776\n",
            "Epoch 586/1000\n",
            "21/21 [==============================] - 0s 5ms/step - loss: 0.0014 - mae: 0.0260 - val_loss: 0.0089 - val_mae: 0.0776\n",
            "Epoch 587/1000\n",
            "21/21 [==============================] - 0s 7ms/step - loss: 0.0014 - mae: 0.0260 - val_loss: 0.0089 - val_mae: 0.0776\n",
            "Epoch 588/1000\n",
            "21/21 [==============================] - 0s 5ms/step - loss: 0.0014 - mae: 0.0260 - val_loss: 0.0089 - val_mae: 0.0776\n",
            "Epoch 589/1000\n",
            "21/21 [==============================] - 0s 6ms/step - loss: 0.0013 - mae: 0.0260 - val_loss: 0.0089 - val_mae: 0.0776\n",
            "Epoch 590/1000\n",
            "21/21 [==============================] - 0s 5ms/step - loss: 0.0013 - mae: 0.0259 - val_loss: 0.0089 - val_mae: 0.0777\n",
            "Epoch 591/1000\n",
            "21/21 [==============================] - 0s 5ms/step - loss: 0.0013 - mae: 0.0259 - val_loss: 0.0089 - val_mae: 0.0776\n",
            "Epoch 592/1000\n",
            "21/21 [==============================] - 0s 6ms/step - loss: 0.0013 - mae: 0.0259 - val_loss: 0.0089 - val_mae: 0.0776\n",
            "Epoch 593/1000\n",
            "21/21 [==============================] - 0s 4ms/step - loss: 0.0013 - mae: 0.0258 - val_loss: 0.0089 - val_mae: 0.0776\n",
            "Epoch 594/1000\n",
            "21/21 [==============================] - 0s 5ms/step - loss: 0.0013 - mae: 0.0258 - val_loss: 0.0089 - val_mae: 0.0776\n",
            "Epoch 595/1000\n",
            "21/21 [==============================] - 0s 4ms/step - loss: 0.0013 - mae: 0.0258 - val_loss: 0.0089 - val_mae: 0.0776\n",
            "Epoch 596/1000\n",
            "21/21 [==============================] - 0s 6ms/step - loss: 0.0013 - mae: 0.0257 - val_loss: 0.0089 - val_mae: 0.0776\n",
            "Epoch 597/1000\n",
            "21/21 [==============================] - 0s 5ms/step - loss: 0.0013 - mae: 0.0257 - val_loss: 0.0089 - val_mae: 0.0775\n",
            "Epoch 598/1000\n",
            "21/21 [==============================] - 0s 4ms/step - loss: 0.0013 - mae: 0.0257 - val_loss: 0.0089 - val_mae: 0.0775\n",
            "Epoch 599/1000\n",
            "21/21 [==============================] - 0s 5ms/step - loss: 0.0013 - mae: 0.0257 - val_loss: 0.0089 - val_mae: 0.0776\n",
            "Epoch 600/1000\n",
            "21/21 [==============================] - 0s 5ms/step - loss: 0.0013 - mae: 0.0256 - val_loss: 0.0089 - val_mae: 0.0775\n",
            "Epoch 601/1000\n",
            "21/21 [==============================] - 0s 5ms/step - loss: 0.0013 - mae: 0.0256 - val_loss: 0.0089 - val_mae: 0.0776\n",
            "Epoch 602/1000\n",
            "21/21 [==============================] - 0s 4ms/step - loss: 0.0013 - mae: 0.0256 - val_loss: 0.0089 - val_mae: 0.0775\n",
            "Epoch 603/1000\n",
            "21/21 [==============================] - 0s 5ms/step - loss: 0.0013 - mae: 0.0256 - val_loss: 0.0089 - val_mae: 0.0775\n",
            "Epoch 604/1000\n",
            "21/21 [==============================] - 0s 5ms/step - loss: 0.0013 - mae: 0.0255 - val_loss: 0.0089 - val_mae: 0.0775\n",
            "Epoch 605/1000\n",
            "21/21 [==============================] - 0s 4ms/step - loss: 0.0013 - mae: 0.0255 - val_loss: 0.0089 - val_mae: 0.0775\n",
            "Epoch 606/1000\n",
            "21/21 [==============================] - 0s 5ms/step - loss: 0.0013 - mae: 0.0255 - val_loss: 0.0089 - val_mae: 0.0775\n",
            "Epoch 607/1000\n",
            "21/21 [==============================] - 0s 5ms/step - loss: 0.0013 - mae: 0.0254 - val_loss: 0.0089 - val_mae: 0.0775\n",
            "Epoch 608/1000\n",
            "21/21 [==============================] - 0s 5ms/step - loss: 0.0013 - mae: 0.0254 - val_loss: 0.0089 - val_mae: 0.0775\n",
            "Epoch 609/1000\n",
            "21/21 [==============================] - 0s 5ms/step - loss: 0.0013 - mae: 0.0254 - val_loss: 0.0089 - val_mae: 0.0775\n",
            "Epoch 610/1000\n",
            "21/21 [==============================] - 0s 5ms/step - loss: 0.0013 - mae: 0.0254 - val_loss: 0.0089 - val_mae: 0.0774\n",
            "Epoch 611/1000\n",
            "21/21 [==============================] - 0s 5ms/step - loss: 0.0013 - mae: 0.0253 - val_loss: 0.0089 - val_mae: 0.0774\n",
            "Epoch 612/1000\n",
            "21/21 [==============================] - 0s 4ms/step - loss: 0.0013 - mae: 0.0253 - val_loss: 0.0089 - val_mae: 0.0775\n",
            "Epoch 613/1000\n",
            "21/21 [==============================] - 0s 5ms/step - loss: 0.0013 - mae: 0.0253 - val_loss: 0.0089 - val_mae: 0.0774\n",
            "Epoch 614/1000\n",
            "21/21 [==============================] - 0s 5ms/step - loss: 0.0013 - mae: 0.0252 - val_loss: 0.0089 - val_mae: 0.0774\n",
            "Epoch 615/1000\n",
            "21/21 [==============================] - 0s 5ms/step - loss: 0.0013 - mae: 0.0252 - val_loss: 0.0089 - val_mae: 0.0774\n",
            "Epoch 616/1000\n",
            "21/21 [==============================] - 0s 4ms/step - loss: 0.0013 - mae: 0.0252 - val_loss: 0.0089 - val_mae: 0.0775\n",
            "Epoch 617/1000\n",
            "21/21 [==============================] - 0s 5ms/step - loss: 0.0013 - mae: 0.0251 - val_loss: 0.0089 - val_mae: 0.0775\n",
            "Epoch 618/1000\n",
            "21/21 [==============================] - 0s 5ms/step - loss: 0.0013 - mae: 0.0251 - val_loss: 0.0089 - val_mae: 0.0774\n",
            "Epoch 619/1000\n",
            "21/21 [==============================] - 0s 5ms/step - loss: 0.0013 - mae: 0.0251 - val_loss: 0.0089 - val_mae: 0.0774\n",
            "Epoch 620/1000\n",
            "21/21 [==============================] - 0s 4ms/step - loss: 0.0013 - mae: 0.0251 - val_loss: 0.0089 - val_mae: 0.0775\n",
            "Epoch 621/1000\n",
            "21/21 [==============================] - 0s 5ms/step - loss: 0.0013 - mae: 0.0250 - val_loss: 0.0089 - val_mae: 0.0774\n",
            "Epoch 622/1000\n",
            "21/21 [==============================] - 0s 4ms/step - loss: 0.0013 - mae: 0.0250 - val_loss: 0.0089 - val_mae: 0.0774\n",
            "Epoch 623/1000\n",
            "21/21 [==============================] - 0s 5ms/step - loss: 0.0013 - mae: 0.0250 - val_loss: 0.0089 - val_mae: 0.0774\n",
            "Epoch 624/1000\n",
            "21/21 [==============================] - 0s 5ms/step - loss: 0.0013 - mae: 0.0249 - val_loss: 0.0089 - val_mae: 0.0774\n",
            "Epoch 625/1000\n",
            "21/21 [==============================] - 0s 6ms/step - loss: 0.0013 - mae: 0.0249 - val_loss: 0.0089 - val_mae: 0.0774\n",
            "Epoch 626/1000\n",
            "21/21 [==============================] - 0s 6ms/step - loss: 0.0013 - mae: 0.0249 - val_loss: 0.0089 - val_mae: 0.0774\n",
            "Epoch 627/1000\n",
            "21/21 [==============================] - 0s 5ms/step - loss: 0.0013 - mae: 0.0249 - val_loss: 0.0088 - val_mae: 0.0773\n",
            "Epoch 628/1000\n",
            "21/21 [==============================] - 0s 5ms/step - loss: 0.0013 - mae: 0.0249 - val_loss: 0.0088 - val_mae: 0.0773\n",
            "Epoch 629/1000\n",
            "21/21 [==============================] - 0s 5ms/step - loss: 0.0013 - mae: 0.0248 - val_loss: 0.0089 - val_mae: 0.0774\n",
            "Epoch 630/1000\n",
            "21/21 [==============================] - 0s 5ms/step - loss: 0.0012 - mae: 0.0248 - val_loss: 0.0089 - val_mae: 0.0774\n",
            "Epoch 631/1000\n",
            "21/21 [==============================] - 0s 4ms/step - loss: 0.0012 - mae: 0.0248 - val_loss: 0.0088 - val_mae: 0.0773\n",
            "Epoch 632/1000\n",
            "21/21 [==============================] - 0s 5ms/step - loss: 0.0012 - mae: 0.0247 - val_loss: 0.0088 - val_mae: 0.0773\n",
            "Epoch 633/1000\n",
            "21/21 [==============================] - 0s 5ms/step - loss: 0.0012 - mae: 0.0247 - val_loss: 0.0089 - val_mae: 0.0773\n",
            "Epoch 634/1000\n",
            "21/21 [==============================] - 0s 6ms/step - loss: 0.0012 - mae: 0.0247 - val_loss: 0.0088 - val_mae: 0.0773\n",
            "Epoch 635/1000\n",
            "21/21 [==============================] - 0s 5ms/step - loss: 0.0012 - mae: 0.0247 - val_loss: 0.0088 - val_mae: 0.0773\n",
            "Epoch 636/1000\n",
            "21/21 [==============================] - 0s 4ms/step - loss: 0.0012 - mae: 0.0246 - val_loss: 0.0088 - val_mae: 0.0773\n",
            "Epoch 637/1000\n",
            "21/21 [==============================] - 0s 5ms/step - loss: 0.0012 - mae: 0.0246 - val_loss: 0.0088 - val_mae: 0.0773\n",
            "Epoch 638/1000\n",
            "21/21 [==============================] - 0s 6ms/step - loss: 0.0012 - mae: 0.0246 - val_loss: 0.0088 - val_mae: 0.0772\n",
            "Epoch 639/1000\n",
            "21/21 [==============================] - 0s 4ms/step - loss: 0.0012 - mae: 0.0246 - val_loss: 0.0088 - val_mae: 0.0772\n",
            "Epoch 640/1000\n",
            "21/21 [==============================] - 0s 5ms/step - loss: 0.0012 - mae: 0.0245 - val_loss: 0.0088 - val_mae: 0.0773\n",
            "Epoch 641/1000\n",
            "21/21 [==============================] - 0s 5ms/step - loss: 0.0012 - mae: 0.0245 - val_loss: 0.0089 - val_mae: 0.0773\n",
            "Epoch 642/1000\n",
            "21/21 [==============================] - 0s 4ms/step - loss: 0.0012 - mae: 0.0245 - val_loss: 0.0088 - val_mae: 0.0773\n",
            "Epoch 643/1000\n",
            "21/21 [==============================] - 0s 5ms/step - loss: 0.0012 - mae: 0.0244 - val_loss: 0.0088 - val_mae: 0.0773\n",
            "Epoch 644/1000\n",
            "21/21 [==============================] - 0s 5ms/step - loss: 0.0012 - mae: 0.0244 - val_loss: 0.0088 - val_mae: 0.0772\n",
            "Epoch 645/1000\n",
            "21/21 [==============================] - 0s 4ms/step - loss: 0.0012 - mae: 0.0244 - val_loss: 0.0088 - val_mae: 0.0772\n",
            "Epoch 646/1000\n",
            "21/21 [==============================] - 0s 5ms/step - loss: 0.0012 - mae: 0.0244 - val_loss: 0.0088 - val_mae: 0.0772\n",
            "Epoch 647/1000\n",
            "21/21 [==============================] - 0s 5ms/step - loss: 0.0012 - mae: 0.0243 - val_loss: 0.0088 - val_mae: 0.0772\n",
            "Epoch 648/1000\n",
            "21/21 [==============================] - 0s 6ms/step - loss: 0.0012 - mae: 0.0243 - val_loss: 0.0088 - val_mae: 0.0772\n",
            "Epoch 649/1000\n",
            "21/21 [==============================] - 0s 6ms/step - loss: 0.0012 - mae: 0.0243 - val_loss: 0.0088 - val_mae: 0.0773\n",
            "Epoch 650/1000\n",
            "21/21 [==============================] - 0s 5ms/step - loss: 0.0012 - mae: 0.0243 - val_loss: 0.0088 - val_mae: 0.0772\n",
            "Epoch 651/1000\n",
            "21/21 [==============================] - 0s 5ms/step - loss: 0.0012 - mae: 0.0242 - val_loss: 0.0088 - val_mae: 0.0772\n",
            "Epoch 652/1000\n",
            "21/21 [==============================] - 0s 5ms/step - loss: 0.0012 - mae: 0.0242 - val_loss: 0.0088 - val_mae: 0.0772\n",
            "Epoch 653/1000\n",
            "21/21 [==============================] - 0s 6ms/step - loss: 0.0012 - mae: 0.0242 - val_loss: 0.0088 - val_mae: 0.0772\n",
            "Epoch 654/1000\n",
            "21/21 [==============================] - 0s 4ms/step - loss: 0.0012 - mae: 0.0242 - val_loss: 0.0088 - val_mae: 0.0772\n",
            "Epoch 655/1000\n",
            "21/21 [==============================] - 0s 4ms/step - loss: 0.0012 - mae: 0.0241 - val_loss: 0.0088 - val_mae: 0.0772\n",
            "Epoch 656/1000\n",
            "21/21 [==============================] - 0s 5ms/step - loss: 0.0012 - mae: 0.0241 - val_loss: 0.0088 - val_mae: 0.0771\n",
            "Epoch 657/1000\n",
            "21/21 [==============================] - 0s 6ms/step - loss: 0.0012 - mae: 0.0241 - val_loss: 0.0088 - val_mae: 0.0771\n",
            "Epoch 658/1000\n",
            "21/21 [==============================] - 0s 4ms/step - loss: 0.0012 - mae: 0.0241 - val_loss: 0.0088 - val_mae: 0.0772\n",
            "Epoch 659/1000\n",
            "21/21 [==============================] - 0s 4ms/step - loss: 0.0012 - mae: 0.0240 - val_loss: 0.0088 - val_mae: 0.0772\n",
            "Epoch 660/1000\n",
            "21/21 [==============================] - 0s 5ms/step - loss: 0.0012 - mae: 0.0240 - val_loss: 0.0088 - val_mae: 0.0772\n",
            "Epoch 661/1000\n",
            "21/21 [==============================] - 0s 5ms/step - loss: 0.0012 - mae: 0.0240 - val_loss: 0.0088 - val_mae: 0.0772\n",
            "Epoch 662/1000\n",
            "21/21 [==============================] - 0s 5ms/step - loss: 0.0012 - mae: 0.0240 - val_loss: 0.0088 - val_mae: 0.0771\n",
            "Epoch 663/1000\n",
            "21/21 [==============================] - 0s 5ms/step - loss: 0.0012 - mae: 0.0239 - val_loss: 0.0088 - val_mae: 0.0771\n",
            "Epoch 664/1000\n",
            "21/21 [==============================] - 0s 6ms/step - loss: 0.0012 - mae: 0.0239 - val_loss: 0.0088 - val_mae: 0.0772\n",
            "Epoch 665/1000\n",
            "21/21 [==============================] - 0s 5ms/step - loss: 0.0012 - mae: 0.0239 - val_loss: 0.0088 - val_mae: 0.0772\n",
            "Epoch 666/1000\n",
            "21/21 [==============================] - 0s 5ms/step - loss: 0.0012 - mae: 0.0239 - val_loss: 0.0088 - val_mae: 0.0771\n",
            "Epoch 667/1000\n",
            "21/21 [==============================] - 0s 5ms/step - loss: 0.0012 - mae: 0.0238 - val_loss: 0.0088 - val_mae: 0.0771\n",
            "Epoch 668/1000\n",
            "21/21 [==============================] - 0s 5ms/step - loss: 0.0012 - mae: 0.0238 - val_loss: 0.0088 - val_mae: 0.0771\n",
            "Epoch 669/1000\n",
            "21/21 [==============================] - 0s 5ms/step - loss: 0.0012 - mae: 0.0238 - val_loss: 0.0088 - val_mae: 0.0771\n",
            "Epoch 670/1000\n",
            "21/21 [==============================] - 0s 5ms/step - loss: 0.0012 - mae: 0.0238 - val_loss: 0.0088 - val_mae: 0.0771\n",
            "Epoch 671/1000\n",
            "21/21 [==============================] - 0s 5ms/step - loss: 0.0012 - mae: 0.0237 - val_loss: 0.0088 - val_mae: 0.0771\n",
            "Epoch 672/1000\n",
            "21/21 [==============================] - 0s 4ms/step - loss: 0.0012 - mae: 0.0237 - val_loss: 0.0088 - val_mae: 0.0771\n",
            "Epoch 673/1000\n",
            "21/21 [==============================] - 0s 5ms/step - loss: 0.0012 - mae: 0.0237 - val_loss: 0.0088 - val_mae: 0.0771\n",
            "Epoch 674/1000\n",
            "21/21 [==============================] - 0s 5ms/step - loss: 0.0012 - mae: 0.0237 - val_loss: 0.0088 - val_mae: 0.0771\n",
            "Epoch 675/1000\n",
            "21/21 [==============================] - 0s 5ms/step - loss: 0.0012 - mae: 0.0236 - val_loss: 0.0088 - val_mae: 0.0771\n",
            "Epoch 676/1000\n",
            "21/21 [==============================] - 0s 5ms/step - loss: 0.0011 - mae: 0.0236 - val_loss: 0.0088 - val_mae: 0.0770\n",
            "Epoch 677/1000\n",
            "21/21 [==============================] - 0s 5ms/step - loss: 0.0011 - mae: 0.0236 - val_loss: 0.0088 - val_mae: 0.0771\n",
            "Epoch 678/1000\n",
            "21/21 [==============================] - 0s 5ms/step - loss: 0.0011 - mae: 0.0236 - val_loss: 0.0088 - val_mae: 0.0771\n",
            "Epoch 679/1000\n",
            "21/21 [==============================] - 0s 5ms/step - loss: 0.0011 - mae: 0.0235 - val_loss: 0.0088 - val_mae: 0.0771\n",
            "Epoch 680/1000\n",
            "21/21 [==============================] - 0s 5ms/step - loss: 0.0011 - mae: 0.0235 - val_loss: 0.0088 - val_mae: 0.0771\n",
            "Epoch 681/1000\n",
            "21/21 [==============================] - 0s 5ms/step - loss: 0.0011 - mae: 0.0235 - val_loss: 0.0088 - val_mae: 0.0770\n",
            "Epoch 682/1000\n",
            "21/21 [==============================] - 0s 5ms/step - loss: 0.0011 - mae: 0.0234 - val_loss: 0.0088 - val_mae: 0.0771\n",
            "Epoch 683/1000\n",
            "21/21 [==============================] - 0s 5ms/step - loss: 0.0011 - mae: 0.0234 - val_loss: 0.0088 - val_mae: 0.0771\n",
            "Epoch 684/1000\n",
            "21/21 [==============================] - 0s 5ms/step - loss: 0.0011 - mae: 0.0234 - val_loss: 0.0088 - val_mae: 0.0771\n",
            "Epoch 685/1000\n",
            "21/21 [==============================] - 0s 4ms/step - loss: 0.0011 - mae: 0.0234 - val_loss: 0.0088 - val_mae: 0.0771\n",
            "Epoch 686/1000\n",
            "21/21 [==============================] - 0s 5ms/step - loss: 0.0011 - mae: 0.0234 - val_loss: 0.0088 - val_mae: 0.0771\n",
            "Epoch 687/1000\n",
            "21/21 [==============================] - 0s 5ms/step - loss: 0.0011 - mae: 0.0233 - val_loss: 0.0088 - val_mae: 0.0770\n",
            "Epoch 688/1000\n",
            "21/21 [==============================] - 0s 5ms/step - loss: 0.0011 - mae: 0.0233 - val_loss: 0.0088 - val_mae: 0.0771\n",
            "Epoch 689/1000\n",
            "21/21 [==============================] - 0s 6ms/step - loss: 0.0011 - mae: 0.0233 - val_loss: 0.0088 - val_mae: 0.0770\n",
            "Epoch 690/1000\n",
            "21/21 [==============================] - 0s 5ms/step - loss: 0.0011 - mae: 0.0233 - val_loss: 0.0088 - val_mae: 0.0770\n",
            "Epoch 691/1000\n",
            "21/21 [==============================] - 0s 5ms/step - loss: 0.0011 - mae: 0.0232 - val_loss: 0.0088 - val_mae: 0.0770\n",
            "Epoch 692/1000\n",
            "21/21 [==============================] - 0s 5ms/step - loss: 0.0011 - mae: 0.0232 - val_loss: 0.0088 - val_mae: 0.0770\n",
            "Epoch 693/1000\n",
            "21/21 [==============================] - 0s 5ms/step - loss: 0.0011 - mae: 0.0232 - val_loss: 0.0088 - val_mae: 0.0770\n",
            "Epoch 694/1000\n",
            "21/21 [==============================] - 0s 5ms/step - loss: 0.0011 - mae: 0.0232 - val_loss: 0.0088 - val_mae: 0.0771\n",
            "Epoch 695/1000\n",
            "21/21 [==============================] - 0s 5ms/step - loss: 0.0011 - mae: 0.0231 - val_loss: 0.0088 - val_mae: 0.0769\n",
            "Epoch 696/1000\n",
            "21/21 [==============================] - 0s 5ms/step - loss: 0.0011 - mae: 0.0231 - val_loss: 0.0088 - val_mae: 0.0770\n",
            "Epoch 697/1000\n",
            "21/21 [==============================] - 0s 6ms/step - loss: 0.0011 - mae: 0.0231 - val_loss: 0.0088 - val_mae: 0.0770\n",
            "Epoch 698/1000\n",
            "21/21 [==============================] - 0s 5ms/step - loss: 0.0011 - mae: 0.0231 - val_loss: 0.0088 - val_mae: 0.0770\n",
            "Epoch 699/1000\n",
            "21/21 [==============================] - 0s 5ms/step - loss: 0.0011 - mae: 0.0231 - val_loss: 0.0088 - val_mae: 0.0770\n",
            "Epoch 700/1000\n",
            "21/21 [==============================] - 0s 6ms/step - loss: 0.0011 - mae: 0.0230 - val_loss: 0.0088 - val_mae: 0.0770\n",
            "Epoch 701/1000\n",
            "21/21 [==============================] - 0s 5ms/step - loss: 0.0011 - mae: 0.0230 - val_loss: 0.0088 - val_mae: 0.0770\n",
            "Epoch 702/1000\n",
            "21/21 [==============================] - 0s 5ms/step - loss: 0.0011 - mae: 0.0230 - val_loss: 0.0088 - val_mae: 0.0770\n",
            "Epoch 703/1000\n",
            "21/21 [==============================] - 0s 5ms/step - loss: 0.0011 - mae: 0.0229 - val_loss: 0.0088 - val_mae: 0.0770\n",
            "Epoch 704/1000\n",
            "21/21 [==============================] - 0s 4ms/step - loss: 0.0011 - mae: 0.0229 - val_loss: 0.0088 - val_mae: 0.0770\n",
            "Epoch 705/1000\n",
            "21/21 [==============================] - 0s 5ms/step - loss: 0.0011 - mae: 0.0229 - val_loss: 0.0088 - val_mae: 0.0770\n",
            "Epoch 706/1000\n",
            "21/21 [==============================] - 0s 5ms/step - loss: 0.0011 - mae: 0.0229 - val_loss: 0.0088 - val_mae: 0.0770\n",
            "Epoch 707/1000\n",
            "21/21 [==============================] - 0s 5ms/step - loss: 0.0011 - mae: 0.0229 - val_loss: 0.0088 - val_mae: 0.0770\n",
            "Epoch 708/1000\n",
            "21/21 [==============================] - 0s 6ms/step - loss: 0.0011 - mae: 0.0228 - val_loss: 0.0088 - val_mae: 0.0769\n",
            "Epoch 709/1000\n",
            "21/21 [==============================] - 0s 6ms/step - loss: 0.0011 - mae: 0.0228 - val_loss: 0.0088 - val_mae: 0.0770\n",
            "Epoch 710/1000\n",
            "21/21 [==============================] - 0s 5ms/step - loss: 0.0011 - mae: 0.0228 - val_loss: 0.0088 - val_mae: 0.0770\n",
            "Epoch 711/1000\n",
            "21/21 [==============================] - 0s 5ms/step - loss: 0.0011 - mae: 0.0228 - val_loss: 0.0088 - val_mae: 0.0770\n",
            "Epoch 712/1000\n",
            "21/21 [==============================] - 0s 5ms/step - loss: 0.0011 - mae: 0.0227 - val_loss: 0.0088 - val_mae: 0.0770\n",
            "Epoch 713/1000\n",
            "21/21 [==============================] - 0s 5ms/step - loss: 0.0011 - mae: 0.0227 - val_loss: 0.0088 - val_mae: 0.0771\n",
            "Epoch 714/1000\n",
            "21/21 [==============================] - 0s 4ms/step - loss: 0.0011 - mae: 0.0227 - val_loss: 0.0088 - val_mae: 0.0770\n",
            "Epoch 715/1000\n",
            "21/21 [==============================] - 0s 5ms/step - loss: 0.0011 - mae: 0.0227 - val_loss: 0.0088 - val_mae: 0.0769\n",
            "Epoch 716/1000\n",
            "21/21 [==============================] - 0s 5ms/step - loss: 0.0011 - mae: 0.0227 - val_loss: 0.0088 - val_mae: 0.0769\n",
            "Epoch 717/1000\n",
            "21/21 [==============================] - 0s 5ms/step - loss: 0.0011 - mae: 0.0226 - val_loss: 0.0088 - val_mae: 0.0769\n",
            "Epoch 718/1000\n",
            "21/21 [==============================] - 0s 6ms/step - loss: 0.0011 - mae: 0.0226 - val_loss: 0.0088 - val_mae: 0.0769\n",
            "Epoch 719/1000\n",
            "21/21 [==============================] - 0s 5ms/step - loss: 0.0011 - mae: 0.0226 - val_loss: 0.0088 - val_mae: 0.0770\n",
            "Epoch 720/1000\n",
            "21/21 [==============================] - 0s 5ms/step - loss: 0.0011 - mae: 0.0226 - val_loss: 0.0088 - val_mae: 0.0769\n",
            "Epoch 721/1000\n",
            "21/21 [==============================] - 0s 5ms/step - loss: 0.0011 - mae: 0.0225 - val_loss: 0.0088 - val_mae: 0.0769\n",
            "Epoch 722/1000\n",
            "21/21 [==============================] - 0s 4ms/step - loss: 0.0011 - mae: 0.0225 - val_loss: 0.0088 - val_mae: 0.0769\n",
            "Epoch 723/1000\n",
            "21/21 [==============================] - 0s 5ms/step - loss: 0.0011 - mae: 0.0225 - val_loss: 0.0088 - val_mae: 0.0769\n",
            "Epoch 724/1000\n",
            "21/21 [==============================] - 0s 5ms/step - loss: 0.0011 - mae: 0.0225 - val_loss: 0.0088 - val_mae: 0.0769\n",
            "Epoch 725/1000\n",
            "21/21 [==============================] - 0s 5ms/step - loss: 0.0011 - mae: 0.0224 - val_loss: 0.0088 - val_mae: 0.0769\n",
            "Epoch 726/1000\n",
            "21/21 [==============================] - 0s 4ms/step - loss: 0.0011 - mae: 0.0224 - val_loss: 0.0088 - val_mae: 0.0770\n",
            "Epoch 727/1000\n",
            "21/21 [==============================] - 0s 5ms/step - loss: 0.0011 - mae: 0.0224 - val_loss: 0.0088 - val_mae: 0.0769\n",
            "Epoch 728/1000\n",
            "21/21 [==============================] - 0s 5ms/step - loss: 0.0010 - mae: 0.0224 - val_loss: 0.0088 - val_mae: 0.0769\n",
            "Epoch 729/1000\n",
            "21/21 [==============================] - 0s 5ms/step - loss: 0.0010 - mae: 0.0223 - val_loss: 0.0088 - val_mae: 0.0769\n",
            "Epoch 730/1000\n",
            "21/21 [==============================] - 0s 5ms/step - loss: 0.0010 - mae: 0.0223 - val_loss: 0.0088 - val_mae: 0.0769\n",
            "Epoch 731/1000\n",
            "21/21 [==============================] - 0s 4ms/step - loss: 0.0010 - mae: 0.0223 - val_loss: 0.0088 - val_mae: 0.0769\n",
            "Epoch 732/1000\n",
            "21/21 [==============================] - 0s 5ms/step - loss: 0.0010 - mae: 0.0223 - val_loss: 0.0088 - val_mae: 0.0769\n",
            "Epoch 733/1000\n",
            "21/21 [==============================] - 0s 5ms/step - loss: 0.0010 - mae: 0.0223 - val_loss: 0.0088 - val_mae: 0.0768\n",
            "Epoch 734/1000\n",
            "21/21 [==============================] - 0s 4ms/step - loss: 0.0010 - mae: 0.0222 - val_loss: 0.0088 - val_mae: 0.0769\n",
            "Epoch 735/1000\n",
            "21/21 [==============================] - 0s 4ms/step - loss: 0.0010 - mae: 0.0222 - val_loss: 0.0088 - val_mae: 0.0769\n",
            "Epoch 736/1000\n",
            "21/21 [==============================] - 0s 5ms/step - loss: 0.0010 - mae: 0.0222 - val_loss: 0.0088 - val_mae: 0.0769\n",
            "Epoch 737/1000\n",
            "21/21 [==============================] - 0s 5ms/step - loss: 0.0010 - mae: 0.0222 - val_loss: 0.0088 - val_mae: 0.0769\n",
            "Epoch 738/1000\n",
            "21/21 [==============================] - 0s 5ms/step - loss: 0.0010 - mae: 0.0222 - val_loss: 0.0088 - val_mae: 0.0768\n",
            "Epoch 739/1000\n",
            "21/21 [==============================] - 0s 5ms/step - loss: 0.0010 - mae: 0.0221 - val_loss: 0.0088 - val_mae: 0.0769\n",
            "Epoch 740/1000\n",
            "21/21 [==============================] - 0s 5ms/step - loss: 0.0010 - mae: 0.0221 - val_loss: 0.0088 - val_mae: 0.0769\n",
            "Epoch 741/1000\n",
            "21/21 [==============================] - 0s 5ms/step - loss: 0.0010 - mae: 0.0221 - val_loss: 0.0088 - val_mae: 0.0768\n",
            "Epoch 742/1000\n",
            "21/21 [==============================] - 0s 5ms/step - loss: 0.0010 - mae: 0.0221 - val_loss: 0.0088 - val_mae: 0.0769\n",
            "Epoch 743/1000\n",
            "21/21 [==============================] - 0s 5ms/step - loss: 0.0010 - mae: 0.0220 - val_loss: 0.0088 - val_mae: 0.0768\n",
            "Epoch 744/1000\n",
            "21/21 [==============================] - 0s 5ms/step - loss: 0.0010 - mae: 0.0220 - val_loss: 0.0088 - val_mae: 0.0769\n",
            "Epoch 745/1000\n",
            "21/21 [==============================] - 0s 5ms/step - loss: 0.0010 - mae: 0.0220 - val_loss: 0.0088 - val_mae: 0.0769\n",
            "Epoch 746/1000\n",
            "21/21 [==============================] - 0s 5ms/step - loss: 0.0010 - mae: 0.0220 - val_loss: 0.0088 - val_mae: 0.0768\n",
            "Epoch 747/1000\n",
            "21/21 [==============================] - 0s 6ms/step - loss: 0.0010 - mae: 0.0220 - val_loss: 0.0088 - val_mae: 0.0768\n",
            "Epoch 748/1000\n",
            "21/21 [==============================] - 0s 5ms/step - loss: 0.0010 - mae: 0.0219 - val_loss: 0.0088 - val_mae: 0.0768\n",
            "Epoch 749/1000\n",
            "21/21 [==============================] - 0s 5ms/step - loss: 0.0010 - mae: 0.0219 - val_loss: 0.0088 - val_mae: 0.0768\n",
            "Epoch 750/1000\n",
            "21/21 [==============================] - 0s 5ms/step - loss: 0.0010 - mae: 0.0219 - val_loss: 0.0088 - val_mae: 0.0768\n",
            "Epoch 751/1000\n",
            "21/21 [==============================] - 0s 5ms/step - loss: 0.0010 - mae: 0.0219 - val_loss: 0.0088 - val_mae: 0.0768\n",
            "Epoch 752/1000\n",
            "21/21 [==============================] - 0s 5ms/step - loss: 0.0010 - mae: 0.0219 - val_loss: 0.0088 - val_mae: 0.0768\n",
            "Epoch 753/1000\n",
            "21/21 [==============================] - 0s 5ms/step - loss: 0.0010 - mae: 0.0218 - val_loss: 0.0088 - val_mae: 0.0768\n",
            "Epoch 754/1000\n",
            "21/21 [==============================] - 0s 5ms/step - loss: 0.0010 - mae: 0.0218 - val_loss: 0.0088 - val_mae: 0.0768\n",
            "Epoch 755/1000\n",
            "21/21 [==============================] - 0s 5ms/step - loss: 0.0010 - mae: 0.0218 - val_loss: 0.0088 - val_mae: 0.0768\n",
            "Epoch 756/1000\n",
            "21/21 [==============================] - 0s 5ms/step - loss: 9.9956e-04 - mae: 0.0218 - val_loss: 0.0088 - val_mae: 0.0768\n",
            "Epoch 757/1000\n",
            "21/21 [==============================] - 0s 4ms/step - loss: 9.9813e-04 - mae: 0.0217 - val_loss: 0.0088 - val_mae: 0.0767\n",
            "Epoch 758/1000\n",
            "21/21 [==============================] - 0s 5ms/step - loss: 9.9646e-04 - mae: 0.0217 - val_loss: 0.0088 - val_mae: 0.0767\n",
            "Epoch 759/1000\n",
            "21/21 [==============================] - 0s 5ms/step - loss: 9.9453e-04 - mae: 0.0217 - val_loss: 0.0088 - val_mae: 0.0768\n",
            "Epoch 760/1000\n",
            "21/21 [==============================] - 0s 6ms/step - loss: 9.9287e-04 - mae: 0.0217 - val_loss: 0.0088 - val_mae: 0.0768\n",
            "Epoch 761/1000\n",
            "21/21 [==============================] - 0s 5ms/step - loss: 9.9167e-04 - mae: 0.0217 - val_loss: 0.0088 - val_mae: 0.0768\n",
            "Epoch 762/1000\n",
            "21/21 [==============================] - 0s 5ms/step - loss: 9.8984e-04 - mae: 0.0216 - val_loss: 0.0088 - val_mae: 0.0767\n",
            "Epoch 763/1000\n",
            "21/21 [==============================] - 0s 5ms/step - loss: 9.8805e-04 - mae: 0.0216 - val_loss: 0.0088 - val_mae: 0.0767\n",
            "Epoch 764/1000\n",
            "21/21 [==============================] - 0s 5ms/step - loss: 9.8618e-04 - mae: 0.0216 - val_loss: 0.0088 - val_mae: 0.0768\n",
            "Epoch 765/1000\n",
            "21/21 [==============================] - 0s 5ms/step - loss: 9.8421e-04 - mae: 0.0216 - val_loss: 0.0088 - val_mae: 0.0767\n",
            "Epoch 766/1000\n",
            "21/21 [==============================] - 0s 5ms/step - loss: 9.8278e-04 - mae: 0.0215 - val_loss: 0.0088 - val_mae: 0.0768\n",
            "Epoch 767/1000\n",
            "21/21 [==============================] - 0s 6ms/step - loss: 9.8112e-04 - mae: 0.0215 - val_loss: 0.0088 - val_mae: 0.0768\n",
            "Epoch 768/1000\n",
            "21/21 [==============================] - 0s 5ms/step - loss: 9.7933e-04 - mae: 0.0215 - val_loss: 0.0088 - val_mae: 0.0767\n",
            "Epoch 769/1000\n",
            "21/21 [==============================] - 0s 5ms/step - loss: 9.7758e-04 - mae: 0.0215 - val_loss: 0.0088 - val_mae: 0.0767\n",
            "Epoch 770/1000\n",
            "21/21 [==============================] - 0s 6ms/step - loss: 9.7583e-04 - mae: 0.0215 - val_loss: 0.0088 - val_mae: 0.0768\n",
            "Epoch 771/1000\n",
            "21/21 [==============================] - 0s 6ms/step - loss: 9.7510e-04 - mae: 0.0215 - val_loss: 0.0088 - val_mae: 0.0768\n",
            "Epoch 772/1000\n",
            "21/21 [==============================] - 0s 6ms/step - loss: 9.7300e-04 - mae: 0.0214 - val_loss: 0.0088 - val_mae: 0.0767\n",
            "Epoch 773/1000\n",
            "21/21 [==============================] - 0s 6ms/step - loss: 9.7130e-04 - mae: 0.0214 - val_loss: 0.0088 - val_mae: 0.0767\n",
            "Epoch 774/1000\n",
            "21/21 [==============================] - 0s 6ms/step - loss: 9.6973e-04 - mae: 0.0214 - val_loss: 0.0088 - val_mae: 0.0767\n",
            "Epoch 775/1000\n",
            "21/21 [==============================] - 0s 5ms/step - loss: 9.6787e-04 - mae: 0.0213 - val_loss: 0.0088 - val_mae: 0.0767\n",
            "Epoch 776/1000\n",
            "21/21 [==============================] - 0s 5ms/step - loss: 9.6651e-04 - mae: 0.0213 - val_loss: 0.0088 - val_mae: 0.0767\n",
            "Epoch 777/1000\n",
            "21/21 [==============================] - 0s 5ms/step - loss: 9.6475e-04 - mae: 0.0213 - val_loss: 0.0088 - val_mae: 0.0767\n",
            "Epoch 778/1000\n",
            "21/21 [==============================] - 0s 5ms/step - loss: 9.6271e-04 - mae: 0.0213 - val_loss: 0.0088 - val_mae: 0.0768\n",
            "Epoch 779/1000\n",
            "21/21 [==============================] - 0s 5ms/step - loss: 9.6125e-04 - mae: 0.0213 - val_loss: 0.0088 - val_mae: 0.0768\n",
            "Epoch 780/1000\n",
            "21/21 [==============================] - 0s 5ms/step - loss: 9.5965e-04 - mae: 0.0213 - val_loss: 0.0088 - val_mae: 0.0768\n",
            "Epoch 781/1000\n",
            "21/21 [==============================] - 0s 5ms/step - loss: 9.5787e-04 - mae: 0.0212 - val_loss: 0.0088 - val_mae: 0.0767\n",
            "Epoch 782/1000\n",
            "21/21 [==============================] - 0s 6ms/step - loss: 9.5637e-04 - mae: 0.0212 - val_loss: 0.0088 - val_mae: 0.0767\n",
            "Epoch 783/1000\n",
            "21/21 [==============================] - 0s 6ms/step - loss: 9.5511e-04 - mae: 0.0212 - val_loss: 0.0088 - val_mae: 0.0767\n",
            "Epoch 784/1000\n",
            "21/21 [==============================] - 0s 6ms/step - loss: 9.5324e-04 - mae: 0.0212 - val_loss: 0.0088 - val_mae: 0.0767\n",
            "Epoch 785/1000\n",
            "21/21 [==============================] - 0s 5ms/step - loss: 9.5187e-04 - mae: 0.0211 - val_loss: 0.0088 - val_mae: 0.0767\n",
            "Epoch 786/1000\n",
            "21/21 [==============================] - 0s 5ms/step - loss: 9.5041e-04 - mae: 0.0211 - val_loss: 0.0088 - val_mae: 0.0767\n",
            "Epoch 787/1000\n",
            "21/21 [==============================] - 0s 5ms/step - loss: 9.4964e-04 - mae: 0.0211 - val_loss: 0.0088 - val_mae: 0.0767\n",
            "Epoch 788/1000\n",
            "21/21 [==============================] - 0s 5ms/step - loss: 9.4750e-04 - mae: 0.0211 - val_loss: 0.0088 - val_mae: 0.0767\n",
            "Epoch 789/1000\n",
            "21/21 [==============================] - 0s 4ms/step - loss: 9.4590e-04 - mae: 0.0211 - val_loss: 0.0087 - val_mae: 0.0767\n",
            "Epoch 790/1000\n",
            "21/21 [==============================] - 0s 5ms/step - loss: 9.4399e-04 - mae: 0.0210 - val_loss: 0.0088 - val_mae: 0.0767\n",
            "Epoch 791/1000\n",
            "21/21 [==============================] - 0s 5ms/step - loss: 9.4223e-04 - mae: 0.0210 - val_loss: 0.0087 - val_mae: 0.0766\n",
            "Epoch 792/1000\n",
            "21/21 [==============================] - 0s 6ms/step - loss: 9.4057e-04 - mae: 0.0210 - val_loss: 0.0088 - val_mae: 0.0767\n",
            "Epoch 793/1000\n",
            "21/21 [==============================] - 0s 5ms/step - loss: 9.3907e-04 - mae: 0.0210 - val_loss: 0.0088 - val_mae: 0.0767\n",
            "Epoch 794/1000\n",
            "21/21 [==============================] - 0s 5ms/step - loss: 9.3745e-04 - mae: 0.0210 - val_loss: 0.0088 - val_mae: 0.0767\n",
            "Epoch 795/1000\n",
            "21/21 [==============================] - 0s 5ms/step - loss: 9.3623e-04 - mae: 0.0209 - val_loss: 0.0087 - val_mae: 0.0766\n",
            "Epoch 796/1000\n",
            "21/21 [==============================] - 0s 6ms/step - loss: 9.3480e-04 - mae: 0.0209 - val_loss: 0.0088 - val_mae: 0.0767\n",
            "Epoch 797/1000\n",
            "21/21 [==============================] - 0s 5ms/step - loss: 9.3303e-04 - mae: 0.0209 - val_loss: 0.0088 - val_mae: 0.0767\n",
            "Epoch 798/1000\n",
            "21/21 [==============================] - 0s 6ms/step - loss: 9.3165e-04 - mae: 0.0209 - val_loss: 0.0088 - val_mae: 0.0767\n",
            "Epoch 799/1000\n",
            "21/21 [==============================] - 0s 5ms/step - loss: 9.2952e-04 - mae: 0.0209 - val_loss: 0.0088 - val_mae: 0.0767\n",
            "Epoch 800/1000\n",
            "21/21 [==============================] - 0s 5ms/step - loss: 9.2879e-04 - mae: 0.0208 - val_loss: 0.0088 - val_mae: 0.0767\n",
            "Epoch 801/1000\n",
            "21/21 [==============================] - 0s 6ms/step - loss: 9.2654e-04 - mae: 0.0208 - val_loss: 0.0088 - val_mae: 0.0767\n",
            "Epoch 802/1000\n",
            "21/21 [==============================] - 0s 5ms/step - loss: 9.2503e-04 - mae: 0.0208 - val_loss: 0.0088 - val_mae: 0.0767\n",
            "Epoch 803/1000\n",
            "21/21 [==============================] - 0s 5ms/step - loss: 9.2368e-04 - mae: 0.0208 - val_loss: 0.0087 - val_mae: 0.0766\n",
            "Epoch 804/1000\n",
            "21/21 [==============================] - 0s 5ms/step - loss: 9.2187e-04 - mae: 0.0208 - val_loss: 0.0088 - val_mae: 0.0767\n",
            "Epoch 805/1000\n",
            "21/21 [==============================] - 0s 5ms/step - loss: 9.2046e-04 - mae: 0.0207 - val_loss: 0.0087 - val_mae: 0.0767\n",
            "Epoch 806/1000\n",
            "21/21 [==============================] - 0s 6ms/step - loss: 9.1839e-04 - mae: 0.0207 - val_loss: 0.0088 - val_mae: 0.0767\n",
            "Epoch 807/1000\n",
            "21/21 [==============================] - 0s 5ms/step - loss: 9.1735e-04 - mae: 0.0207 - val_loss: 0.0087 - val_mae: 0.0767\n",
            "Epoch 808/1000\n",
            "21/21 [==============================] - 0s 6ms/step - loss: 9.1619e-04 - mae: 0.0207 - val_loss: 0.0088 - val_mae: 0.0767\n",
            "Epoch 809/1000\n",
            "21/21 [==============================] - 0s 5ms/step - loss: 9.1457e-04 - mae: 0.0207 - val_loss: 0.0087 - val_mae: 0.0767\n",
            "Epoch 810/1000\n",
            "21/21 [==============================] - 0s 5ms/step - loss: 9.1270e-04 - mae: 0.0206 - val_loss: 0.0088 - val_mae: 0.0767\n",
            "Epoch 811/1000\n",
            "21/21 [==============================] - 0s 5ms/step - loss: 9.1126e-04 - mae: 0.0206 - val_loss: 0.0087 - val_mae: 0.0766\n",
            "Epoch 812/1000\n",
            "21/21 [==============================] - 0s 5ms/step - loss: 9.1014e-04 - mae: 0.0206 - val_loss: 0.0087 - val_mae: 0.0766\n",
            "Epoch 813/1000\n",
            "21/21 [==============================] - 0s 7ms/step - loss: 9.0815e-04 - mae: 0.0206 - val_loss: 0.0088 - val_mae: 0.0767\n",
            "Epoch 814/1000\n",
            "21/21 [==============================] - 0s 6ms/step - loss: 9.0686e-04 - mae: 0.0206 - val_loss: 0.0087 - val_mae: 0.0766\n",
            "Epoch 815/1000\n",
            "21/21 [==============================] - 0s 5ms/step - loss: 9.0518e-04 - mae: 0.0205 - val_loss: 0.0087 - val_mae: 0.0766\n",
            "Epoch 816/1000\n",
            "21/21 [==============================] - 0s 5ms/step - loss: 9.0369e-04 - mae: 0.0205 - val_loss: 0.0087 - val_mae: 0.0766\n",
            "Epoch 817/1000\n",
            "21/21 [==============================] - 0s 5ms/step - loss: 9.0263e-04 - mae: 0.0205 - val_loss: 0.0087 - val_mae: 0.0766\n",
            "Epoch 818/1000\n",
            "21/21 [==============================] - 0s 5ms/step - loss: 9.0062e-04 - mae: 0.0205 - val_loss: 0.0088 - val_mae: 0.0767\n",
            "Epoch 819/1000\n",
            "21/21 [==============================] - 0s 6ms/step - loss: 8.9963e-04 - mae: 0.0205 - val_loss: 0.0088 - val_mae: 0.0767\n",
            "Epoch 820/1000\n",
            "21/21 [==============================] - 0s 5ms/step - loss: 8.9822e-04 - mae: 0.0205 - val_loss: 0.0088 - val_mae: 0.0767\n",
            "Epoch 821/1000\n",
            "21/21 [==============================] - 0s 5ms/step - loss: 8.9669e-04 - mae: 0.0204 - val_loss: 0.0087 - val_mae: 0.0766\n",
            "Epoch 822/1000\n",
            "21/21 [==============================] - 0s 5ms/step - loss: 8.9469e-04 - mae: 0.0204 - val_loss: 0.0087 - val_mae: 0.0766\n",
            "Epoch 823/1000\n",
            "21/21 [==============================] - 0s 6ms/step - loss: 8.9319e-04 - mae: 0.0204 - val_loss: 0.0087 - val_mae: 0.0766\n",
            "Epoch 824/1000\n",
            "21/21 [==============================] - 0s 6ms/step - loss: 8.9235e-04 - mae: 0.0204 - val_loss: 0.0087 - val_mae: 0.0766\n",
            "Epoch 825/1000\n",
            "21/21 [==============================] - 0s 5ms/step - loss: 8.9046e-04 - mae: 0.0204 - val_loss: 0.0087 - val_mae: 0.0766\n",
            "Epoch 826/1000\n",
            "21/21 [==============================] - 0s 6ms/step - loss: 8.8887e-04 - mae: 0.0203 - val_loss: 0.0087 - val_mae: 0.0766\n",
            "Epoch 827/1000\n",
            "21/21 [==============================] - 0s 5ms/step - loss: 8.8757e-04 - mae: 0.0203 - val_loss: 0.0087 - val_mae: 0.0766\n",
            "Epoch 828/1000\n",
            "21/21 [==============================] - 0s 6ms/step - loss: 8.8560e-04 - mae: 0.0203 - val_loss: 0.0088 - val_mae: 0.0767\n",
            "Epoch 829/1000\n",
            "21/21 [==============================] - 0s 5ms/step - loss: 8.8494e-04 - mae: 0.0203 - val_loss: 0.0087 - val_mae: 0.0766\n",
            "Epoch 830/1000\n",
            "21/21 [==============================] - 0s 5ms/step - loss: 8.8355e-04 - mae: 0.0203 - val_loss: 0.0087 - val_mae: 0.0766\n",
            "Epoch 831/1000\n",
            "21/21 [==============================] - 0s 5ms/step - loss: 8.8181e-04 - mae: 0.0202 - val_loss: 0.0087 - val_mae: 0.0766\n",
            "Epoch 832/1000\n",
            "21/21 [==============================] - 0s 5ms/step - loss: 8.8014e-04 - mae: 0.0202 - val_loss: 0.0087 - val_mae: 0.0766\n",
            "Epoch 833/1000\n",
            "21/21 [==============================] - 0s 6ms/step - loss: 8.7881e-04 - mae: 0.0202 - val_loss: 0.0087 - val_mae: 0.0766\n",
            "Epoch 834/1000\n",
            "21/21 [==============================] - 0s 5ms/step - loss: 8.7721e-04 - mae: 0.0202 - val_loss: 0.0087 - val_mae: 0.0766\n",
            "Epoch 835/1000\n",
            "21/21 [==============================] - 0s 5ms/step - loss: 8.7551e-04 - mae: 0.0201 - val_loss: 0.0087 - val_mae: 0.0766\n",
            "Epoch 836/1000\n",
            "21/21 [==============================] - 0s 5ms/step - loss: 8.7479e-04 - mae: 0.0201 - val_loss: 0.0088 - val_mae: 0.0766\n",
            "Epoch 837/1000\n",
            "21/21 [==============================] - 0s 6ms/step - loss: 8.7253e-04 - mae: 0.0201 - val_loss: 0.0087 - val_mae: 0.0766\n",
            "Epoch 838/1000\n",
            "21/21 [==============================] - 0s 5ms/step - loss: 8.7094e-04 - mae: 0.0201 - val_loss: 0.0087 - val_mae: 0.0765\n",
            "Epoch 839/1000\n",
            "21/21 [==============================] - 0s 4ms/step - loss: 8.7004e-04 - mae: 0.0201 - val_loss: 0.0087 - val_mae: 0.0766\n",
            "Epoch 840/1000\n",
            "21/21 [==============================] - 0s 5ms/step - loss: 8.6828e-04 - mae: 0.0201 - val_loss: 0.0087 - val_mae: 0.0765\n",
            "Epoch 841/1000\n",
            "21/21 [==============================] - 0s 5ms/step - loss: 8.6757e-04 - mae: 0.0200 - val_loss: 0.0087 - val_mae: 0.0765\n",
            "Epoch 842/1000\n",
            "21/21 [==============================] - 0s 5ms/step - loss: 8.6591e-04 - mae: 0.0200 - val_loss: 0.0087 - val_mae: 0.0765\n",
            "Epoch 843/1000\n",
            "21/21 [==============================] - 0s 5ms/step - loss: 8.6486e-04 - mae: 0.0200 - val_loss: 0.0087 - val_mae: 0.0766\n",
            "Epoch 844/1000\n",
            "21/21 [==============================] - 0s 6ms/step - loss: 8.6260e-04 - mae: 0.0200 - val_loss: 0.0087 - val_mae: 0.0766\n",
            "Epoch 845/1000\n",
            "21/21 [==============================] - 0s 7ms/step - loss: 8.6115e-04 - mae: 0.0200 - val_loss: 0.0087 - val_mae: 0.0765\n",
            "Epoch 846/1000\n",
            "21/21 [==============================] - 0s 5ms/step - loss: 8.5966e-04 - mae: 0.0199 - val_loss: 0.0087 - val_mae: 0.0765\n",
            "Epoch 847/1000\n",
            "21/21 [==============================] - 0s 5ms/step - loss: 8.5860e-04 - mae: 0.0199 - val_loss: 0.0087 - val_mae: 0.0766\n",
            "Epoch 848/1000\n",
            "21/21 [==============================] - 0s 4ms/step - loss: 8.5744e-04 - mae: 0.0199 - val_loss: 0.0087 - val_mae: 0.0766\n",
            "Epoch 849/1000\n",
            "21/21 [==============================] - 0s 5ms/step - loss: 8.5576e-04 - mae: 0.0199 - val_loss: 0.0087 - val_mae: 0.0765\n",
            "Epoch 850/1000\n",
            "21/21 [==============================] - 0s 5ms/step - loss: 8.5403e-04 - mae: 0.0199 - val_loss: 0.0087 - val_mae: 0.0765\n",
            "Epoch 851/1000\n",
            "21/21 [==============================] - 0s 5ms/step - loss: 8.5315e-04 - mae: 0.0198 - val_loss: 0.0087 - val_mae: 0.0765\n",
            "Epoch 852/1000\n",
            "21/21 [==============================] - 0s 4ms/step - loss: 8.5155e-04 - mae: 0.0198 - val_loss: 0.0087 - val_mae: 0.0765\n",
            "Epoch 853/1000\n",
            "21/21 [==============================] - 0s 5ms/step - loss: 8.5014e-04 - mae: 0.0198 - val_loss: 0.0087 - val_mae: 0.0765\n",
            "Epoch 854/1000\n",
            "21/21 [==============================] - 0s 5ms/step - loss: 8.4834e-04 - mae: 0.0198 - val_loss: 0.0087 - val_mae: 0.0765\n",
            "Epoch 855/1000\n",
            "21/21 [==============================] - 0s 5ms/step - loss: 8.4766e-04 - mae: 0.0198 - val_loss: 0.0087 - val_mae: 0.0765\n",
            "Epoch 856/1000\n",
            "21/21 [==============================] - 0s 5ms/step - loss: 8.4575e-04 - mae: 0.0198 - val_loss: 0.0087 - val_mae: 0.0765\n",
            "Epoch 857/1000\n",
            "21/21 [==============================] - 0s 5ms/step - loss: 8.4515e-04 - mae: 0.0197 - val_loss: 0.0087 - val_mae: 0.0765\n",
            "Epoch 858/1000\n",
            "21/21 [==============================] - 0s 6ms/step - loss: 8.4321e-04 - mae: 0.0197 - val_loss: 0.0087 - val_mae: 0.0766\n",
            "Epoch 859/1000\n",
            "21/21 [==============================] - 0s 5ms/step - loss: 8.4205e-04 - mae: 0.0197 - val_loss: 0.0087 - val_mae: 0.0765\n",
            "Epoch 860/1000\n",
            "21/21 [==============================] - 0s 6ms/step - loss: 8.4033e-04 - mae: 0.0197 - val_loss: 0.0087 - val_mae: 0.0765\n",
            "Epoch 861/1000\n",
            "21/21 [==============================] - 0s 6ms/step - loss: 8.3897e-04 - mae: 0.0197 - val_loss: 0.0087 - val_mae: 0.0765\n",
            "Epoch 862/1000\n",
            "21/21 [==============================] - 0s 5ms/step - loss: 8.3815e-04 - mae: 0.0197 - val_loss: 0.0087 - val_mae: 0.0765\n",
            "Epoch 863/1000\n",
            "21/21 [==============================] - 0s 4ms/step - loss: 8.3634e-04 - mae: 0.0196 - val_loss: 0.0087 - val_mae: 0.0765\n",
            "Epoch 864/1000\n",
            "21/21 [==============================] - 0s 6ms/step - loss: 8.3481e-04 - mae: 0.0196 - val_loss: 0.0087 - val_mae: 0.0765\n",
            "Epoch 865/1000\n",
            "21/21 [==============================] - 0s 6ms/step - loss: 8.3358e-04 - mae: 0.0196 - val_loss: 0.0087 - val_mae: 0.0765\n",
            "Epoch 866/1000\n",
            "21/21 [==============================] - 0s 5ms/step - loss: 8.3192e-04 - mae: 0.0196 - val_loss: 0.0087 - val_mae: 0.0765\n",
            "Epoch 867/1000\n",
            "21/21 [==============================] - 0s 6ms/step - loss: 8.3080e-04 - mae: 0.0196 - val_loss: 0.0087 - val_mae: 0.0765\n",
            "Epoch 868/1000\n",
            "21/21 [==============================] - 0s 5ms/step - loss: 8.2921e-04 - mae: 0.0195 - val_loss: 0.0087 - val_mae: 0.0765\n",
            "Epoch 869/1000\n",
            "21/21 [==============================] - 0s 5ms/step - loss: 8.2822e-04 - mae: 0.0195 - val_loss: 0.0087 - val_mae: 0.0765\n",
            "Epoch 870/1000\n",
            "21/21 [==============================] - 0s 6ms/step - loss: 8.2742e-04 - mae: 0.0195 - val_loss: 0.0087 - val_mae: 0.0765\n",
            "Epoch 871/1000\n",
            "21/21 [==============================] - 0s 5ms/step - loss: 8.2547e-04 - mae: 0.0195 - val_loss: 0.0087 - val_mae: 0.0765\n",
            "Epoch 872/1000\n",
            "21/21 [==============================] - 0s 5ms/step - loss: 8.2474e-04 - mae: 0.0195 - val_loss: 0.0087 - val_mae: 0.0765\n",
            "Epoch 873/1000\n",
            "21/21 [==============================] - 0s 6ms/step - loss: 8.2265e-04 - mae: 0.0195 - val_loss: 0.0087 - val_mae: 0.0765\n",
            "Epoch 874/1000\n",
            "21/21 [==============================] - 0s 5ms/step - loss: 8.2146e-04 - mae: 0.0194 - val_loss: 0.0087 - val_mae: 0.0765\n",
            "Epoch 875/1000\n",
            "21/21 [==============================] - 0s 6ms/step - loss: 8.2007e-04 - mae: 0.0194 - val_loss: 0.0087 - val_mae: 0.0765\n",
            "Epoch 876/1000\n",
            "21/21 [==============================] - 0s 6ms/step - loss: 8.1895e-04 - mae: 0.0194 - val_loss: 0.0087 - val_mae: 0.0766\n",
            "Epoch 877/1000\n",
            "21/21 [==============================] - 0s 5ms/step - loss: 8.1747e-04 - mae: 0.0194 - val_loss: 0.0087 - val_mae: 0.0765\n",
            "Epoch 878/1000\n",
            "21/21 [==============================] - 0s 5ms/step - loss: 8.1585e-04 - mae: 0.0194 - val_loss: 0.0087 - val_mae: 0.0765\n",
            "Epoch 879/1000\n",
            "21/21 [==============================] - 0s 4ms/step - loss: 8.1545e-04 - mae: 0.0193 - val_loss: 0.0087 - val_mae: 0.0765\n",
            "Epoch 880/1000\n",
            "21/21 [==============================] - 0s 4ms/step - loss: 8.1359e-04 - mae: 0.0193 - val_loss: 0.0087 - val_mae: 0.0765\n",
            "Epoch 881/1000\n",
            "21/21 [==============================] - 0s 6ms/step - loss: 8.1186e-04 - mae: 0.0193 - val_loss: 0.0087 - val_mae: 0.0765\n",
            "Epoch 882/1000\n",
            "21/21 [==============================] - 0s 6ms/step - loss: 8.1070e-04 - mae: 0.0193 - val_loss: 0.0087 - val_mae: 0.0765\n",
            "Epoch 883/1000\n",
            "21/21 [==============================] - 0s 6ms/step - loss: 8.0969e-04 - mae: 0.0193 - val_loss: 0.0087 - val_mae: 0.0764\n",
            "Epoch 884/1000\n",
            "21/21 [==============================] - 0s 5ms/step - loss: 8.0824e-04 - mae: 0.0192 - val_loss: 0.0087 - val_mae: 0.0765\n",
            "Epoch 885/1000\n",
            "21/21 [==============================] - 0s 5ms/step - loss: 8.0709e-04 - mae: 0.0192 - val_loss: 0.0087 - val_mae: 0.0765\n",
            "Epoch 886/1000\n",
            "21/21 [==============================] - 0s 5ms/step - loss: 8.0571e-04 - mae: 0.0192 - val_loss: 0.0087 - val_mae: 0.0765\n",
            "Epoch 887/1000\n",
            "21/21 [==============================] - 0s 5ms/step - loss: 8.0431e-04 - mae: 0.0192 - val_loss: 0.0087 - val_mae: 0.0765\n",
            "Epoch 888/1000\n",
            "21/21 [==============================] - 0s 5ms/step - loss: 8.0271e-04 - mae: 0.0192 - val_loss: 0.0087 - val_mae: 0.0765\n",
            "Epoch 889/1000\n",
            "21/21 [==============================] - 0s 5ms/step - loss: 8.0157e-04 - mae: 0.0192 - val_loss: 0.0087 - val_mae: 0.0765\n",
            "Epoch 890/1000\n",
            "21/21 [==============================] - 0s 5ms/step - loss: 8.0021e-04 - mae: 0.0191 - val_loss: 0.0087 - val_mae: 0.0765\n",
            "Epoch 891/1000\n",
            "21/21 [==============================] - 0s 5ms/step - loss: 7.9892e-04 - mae: 0.0191 - val_loss: 0.0087 - val_mae: 0.0765\n",
            "Epoch 892/1000\n",
            "21/21 [==============================] - 0s 5ms/step - loss: 7.9822e-04 - mae: 0.0191 - val_loss: 0.0087 - val_mae: 0.0765\n",
            "Epoch 893/1000\n",
            "21/21 [==============================] - 0s 5ms/step - loss: 7.9618e-04 - mae: 0.0191 - val_loss: 0.0087 - val_mae: 0.0765\n",
            "Epoch 894/1000\n",
            "21/21 [==============================] - 0s 5ms/step - loss: 7.9512e-04 - mae: 0.0191 - val_loss: 0.0087 - val_mae: 0.0765\n",
            "Epoch 895/1000\n",
            "21/21 [==============================] - 0s 5ms/step - loss: 7.9395e-04 - mae: 0.0191 - val_loss: 0.0087 - val_mae: 0.0764\n",
            "Epoch 896/1000\n",
            "21/21 [==============================] - 0s 6ms/step - loss: 7.9209e-04 - mae: 0.0190 - val_loss: 0.0087 - val_mae: 0.0765\n",
            "Epoch 897/1000\n",
            "21/21 [==============================] - 0s 5ms/step - loss: 7.9159e-04 - mae: 0.0190 - val_loss: 0.0087 - val_mae: 0.0764\n",
            "Epoch 898/1000\n",
            "21/21 [==============================] - 0s 6ms/step - loss: 7.9035e-04 - mae: 0.0190 - val_loss: 0.0087 - val_mae: 0.0765\n",
            "Epoch 899/1000\n",
            "21/21 [==============================] - 0s 5ms/step - loss: 7.8854e-04 - mae: 0.0190 - val_loss: 0.0087 - val_mae: 0.0765\n",
            "Epoch 900/1000\n",
            "21/21 [==============================] - 0s 6ms/step - loss: 7.8724e-04 - mae: 0.0190 - val_loss: 0.0087 - val_mae: 0.0764\n",
            "Epoch 901/1000\n",
            "21/21 [==============================] - 0s 6ms/step - loss: 7.8617e-04 - mae: 0.0189 - val_loss: 0.0087 - val_mae: 0.0764\n",
            "Epoch 902/1000\n",
            "21/21 [==============================] - 0s 5ms/step - loss: 7.8493e-04 - mae: 0.0189 - val_loss: 0.0087 - val_mae: 0.0764\n",
            "Epoch 903/1000\n",
            "21/21 [==============================] - 0s 5ms/step - loss: 7.8319e-04 - mae: 0.0189 - val_loss: 0.0087 - val_mae: 0.0764\n",
            "Epoch 904/1000\n",
            "21/21 [==============================] - 0s 6ms/step - loss: 7.8225e-04 - mae: 0.0189 - val_loss: 0.0087 - val_mae: 0.0764\n",
            "Epoch 905/1000\n",
            "21/21 [==============================] - 0s 5ms/step - loss: 7.8101e-04 - mae: 0.0189 - val_loss: 0.0087 - val_mae: 0.0765\n",
            "Epoch 906/1000\n",
            "21/21 [==============================] - 0s 5ms/step - loss: 7.8013e-04 - mae: 0.0189 - val_loss: 0.0087 - val_mae: 0.0764\n",
            "Epoch 907/1000\n",
            "21/21 [==============================] - 0s 6ms/step - loss: 7.7824e-04 - mae: 0.0188 - val_loss: 0.0087 - val_mae: 0.0764\n",
            "Epoch 908/1000\n",
            "21/21 [==============================] - 0s 5ms/step - loss: 7.7714e-04 - mae: 0.0188 - val_loss: 0.0087 - val_mae: 0.0764\n",
            "Epoch 909/1000\n",
            "21/21 [==============================] - 0s 5ms/step - loss: 7.7567e-04 - mae: 0.0188 - val_loss: 0.0087 - val_mae: 0.0764\n",
            "Epoch 910/1000\n",
            "21/21 [==============================] - 0s 5ms/step - loss: 7.7489e-04 - mae: 0.0188 - val_loss: 0.0087 - val_mae: 0.0764\n",
            "Epoch 911/1000\n",
            "21/21 [==============================] - 0s 5ms/step - loss: 7.7355e-04 - mae: 0.0188 - val_loss: 0.0087 - val_mae: 0.0764\n",
            "Epoch 912/1000\n",
            "21/21 [==============================] - 0s 6ms/step - loss: 7.7228e-04 - mae: 0.0188 - val_loss: 0.0087 - val_mae: 0.0764\n",
            "Epoch 913/1000\n",
            "21/21 [==============================] - 0s 5ms/step - loss: 7.7114e-04 - mae: 0.0187 - val_loss: 0.0087 - val_mae: 0.0764\n",
            "Epoch 914/1000\n",
            "21/21 [==============================] - 0s 7ms/step - loss: 7.6959e-04 - mae: 0.0187 - val_loss: 0.0087 - val_mae: 0.0764\n",
            "Epoch 915/1000\n",
            "21/21 [==============================] - 0s 7ms/step - loss: 7.6813e-04 - mae: 0.0187 - val_loss: 0.0087 - val_mae: 0.0764\n",
            "Epoch 916/1000\n",
            "21/21 [==============================] - 0s 6ms/step - loss: 7.6721e-04 - mae: 0.0187 - val_loss: 0.0087 - val_mae: 0.0764\n",
            "Epoch 917/1000\n",
            "21/21 [==============================] - 0s 5ms/step - loss: 7.6634e-04 - mae: 0.0187 - val_loss: 0.0087 - val_mae: 0.0764\n",
            "Epoch 918/1000\n",
            "21/21 [==============================] - 0s 6ms/step - loss: 7.6461e-04 - mae: 0.0187 - val_loss: 0.0087 - val_mae: 0.0764\n",
            "Epoch 919/1000\n",
            "21/21 [==============================] - 0s 5ms/step - loss: 7.6367e-04 - mae: 0.0186 - val_loss: 0.0087 - val_mae: 0.0764\n",
            "Epoch 920/1000\n",
            "21/21 [==============================] - 0s 5ms/step - loss: 7.6226e-04 - mae: 0.0186 - val_loss: 0.0087 - val_mae: 0.0764\n",
            "Epoch 921/1000\n",
            "21/21 [==============================] - 0s 6ms/step - loss: 7.6112e-04 - mae: 0.0186 - val_loss: 0.0087 - val_mae: 0.0763\n",
            "Epoch 922/1000\n",
            "21/21 [==============================] - 0s 6ms/step - loss: 7.5987e-04 - mae: 0.0186 - val_loss: 0.0087 - val_mae: 0.0764\n",
            "Epoch 923/1000\n",
            "21/21 [==============================] - 0s 5ms/step - loss: 7.5891e-04 - mae: 0.0186 - val_loss: 0.0087 - val_mae: 0.0764\n",
            "Epoch 924/1000\n",
            "21/21 [==============================] - 0s 5ms/step - loss: 7.5743e-04 - mae: 0.0185 - val_loss: 0.0087 - val_mae: 0.0764\n",
            "Epoch 925/1000\n",
            "21/21 [==============================] - 0s 6ms/step - loss: 7.5618e-04 - mae: 0.0185 - val_loss: 0.0087 - val_mae: 0.0764\n",
            "Epoch 926/1000\n",
            "21/21 [==============================] - 0s 5ms/step - loss: 7.5537e-04 - mae: 0.0185 - val_loss: 0.0087 - val_mae: 0.0764\n",
            "Epoch 927/1000\n",
            "21/21 [==============================] - 0s 5ms/step - loss: 7.5367e-04 - mae: 0.0185 - val_loss: 0.0087 - val_mae: 0.0763\n",
            "Epoch 928/1000\n",
            "21/21 [==============================] - 0s 5ms/step - loss: 7.5304e-04 - mae: 0.0185 - val_loss: 0.0087 - val_mae: 0.0763\n",
            "Epoch 929/1000\n",
            "21/21 [==============================] - 0s 5ms/step - loss: 7.5186e-04 - mae: 0.0185 - val_loss: 0.0087 - val_mae: 0.0763\n",
            "Epoch 930/1000\n",
            "21/21 [==============================] - 0s 5ms/step - loss: 7.4998e-04 - mae: 0.0184 - val_loss: 0.0087 - val_mae: 0.0764\n",
            "Epoch 931/1000\n",
            "21/21 [==============================] - 0s 5ms/step - loss: 7.4891e-04 - mae: 0.0184 - val_loss: 0.0087 - val_mae: 0.0764\n",
            "Epoch 932/1000\n",
            "21/21 [==============================] - 0s 5ms/step - loss: 7.4766e-04 - mae: 0.0184 - val_loss: 0.0087 - val_mae: 0.0764\n",
            "Epoch 933/1000\n",
            "21/21 [==============================] - 0s 5ms/step - loss: 7.4718e-04 - mae: 0.0184 - val_loss: 0.0087 - val_mae: 0.0763\n",
            "Epoch 934/1000\n",
            "21/21 [==============================] - 0s 5ms/step - loss: 7.4554e-04 - mae: 0.0184 - val_loss: 0.0087 - val_mae: 0.0764\n",
            "Epoch 935/1000\n",
            "21/21 [==============================] - 0s 5ms/step - loss: 7.4412e-04 - mae: 0.0184 - val_loss: 0.0087 - val_mae: 0.0764\n",
            "Epoch 936/1000\n",
            "21/21 [==============================] - 0s 5ms/step - loss: 7.4315e-04 - mae: 0.0184 - val_loss: 0.0087 - val_mae: 0.0763\n",
            "Epoch 937/1000\n",
            "21/21 [==============================] - 0s 5ms/step - loss: 7.4174e-04 - mae: 0.0183 - val_loss: 0.0087 - val_mae: 0.0764\n",
            "Epoch 938/1000\n",
            "21/21 [==============================] - 0s 5ms/step - loss: 7.4063e-04 - mae: 0.0183 - val_loss: 0.0087 - val_mae: 0.0764\n",
            "Epoch 939/1000\n",
            "21/21 [==============================] - 0s 6ms/step - loss: 7.3929e-04 - mae: 0.0183 - val_loss: 0.0087 - val_mae: 0.0764\n",
            "Epoch 940/1000\n",
            "21/21 [==============================] - 0s 5ms/step - loss: 7.3838e-04 - mae: 0.0183 - val_loss: 0.0087 - val_mae: 0.0763\n",
            "Epoch 941/1000\n",
            "21/21 [==============================] - 0s 5ms/step - loss: 7.3713e-04 - mae: 0.0183 - val_loss: 0.0087 - val_mae: 0.0764\n",
            "Epoch 942/1000\n",
            "21/21 [==============================] - 0s 6ms/step - loss: 7.3612e-04 - mae: 0.0183 - val_loss: 0.0087 - val_mae: 0.0763\n",
            "Epoch 943/1000\n",
            "21/21 [==============================] - 0s 5ms/step - loss: 7.3521e-04 - mae: 0.0182 - val_loss: 0.0087 - val_mae: 0.0764\n",
            "Epoch 944/1000\n",
            "21/21 [==============================] - 0s 6ms/step - loss: 7.3343e-04 - mae: 0.0182 - val_loss: 0.0087 - val_mae: 0.0763\n",
            "Epoch 945/1000\n",
            "21/21 [==============================] - 0s 5ms/step - loss: 7.3233e-04 - mae: 0.0182 - val_loss: 0.0087 - val_mae: 0.0763\n",
            "Epoch 946/1000\n",
            "21/21 [==============================] - 0s 5ms/step - loss: 7.3130e-04 - mae: 0.0182 - val_loss: 0.0087 - val_mae: 0.0764\n",
            "Epoch 947/1000\n",
            "21/21 [==============================] - 0s 6ms/step - loss: 7.3057e-04 - mae: 0.0182 - val_loss: 0.0087 - val_mae: 0.0764\n",
            "Epoch 948/1000\n",
            "21/21 [==============================] - 0s 5ms/step - loss: 7.2896e-04 - mae: 0.0182 - val_loss: 0.0087 - val_mae: 0.0764\n",
            "Epoch 949/1000\n",
            "21/21 [==============================] - 0s 5ms/step - loss: 7.2711e-04 - mae: 0.0181 - val_loss: 0.0087 - val_mae: 0.0763\n",
            "Epoch 950/1000\n",
            "21/21 [==============================] - 0s 5ms/step - loss: 7.2689e-04 - mae: 0.0181 - val_loss: 0.0087 - val_mae: 0.0763\n",
            "Epoch 951/1000\n",
            "21/21 [==============================] - 0s 5ms/step - loss: 7.2537e-04 - mae: 0.0181 - val_loss: 0.0087 - val_mae: 0.0763\n",
            "Epoch 952/1000\n",
            "21/21 [==============================] - 0s 6ms/step - loss: 7.2430e-04 - mae: 0.0181 - val_loss: 0.0087 - val_mae: 0.0763\n",
            "Epoch 953/1000\n",
            "21/21 [==============================] - 0s 6ms/step - loss: 7.2321e-04 - mae: 0.0181 - val_loss: 0.0087 - val_mae: 0.0763\n",
            "Epoch 954/1000\n",
            "21/21 [==============================] - 0s 5ms/step - loss: 7.2250e-04 - mae: 0.0181 - val_loss: 0.0087 - val_mae: 0.0763\n",
            "Epoch 955/1000\n",
            "21/21 [==============================] - 0s 5ms/step - loss: 7.2142e-04 - mae: 0.0181 - val_loss: 0.0087 - val_mae: 0.0763\n",
            "Epoch 956/1000\n",
            "21/21 [==============================] - 0s 5ms/step - loss: 7.1980e-04 - mae: 0.0180 - val_loss: 0.0087 - val_mae: 0.0763\n",
            "Epoch 957/1000\n",
            "21/21 [==============================] - 0s 5ms/step - loss: 7.1880e-04 - mae: 0.0180 - val_loss: 0.0087 - val_mae: 0.0763\n",
            "Epoch 958/1000\n",
            "21/21 [==============================] - 0s 5ms/step - loss: 7.1768e-04 - mae: 0.0180 - val_loss: 0.0087 - val_mae: 0.0763\n",
            "Epoch 959/1000\n",
            "21/21 [==============================] - 0s 5ms/step - loss: 7.1652e-04 - mae: 0.0180 - val_loss: 0.0087 - val_mae: 0.0763\n",
            "Epoch 960/1000\n",
            "21/21 [==============================] - 0s 5ms/step - loss: 7.1518e-04 - mae: 0.0180 - val_loss: 0.0087 - val_mae: 0.0764\n",
            "Epoch 961/1000\n",
            "21/21 [==============================] - 0s 6ms/step - loss: 7.1431e-04 - mae: 0.0179 - val_loss: 0.0087 - val_mae: 0.0763\n",
            "Epoch 962/1000\n",
            "21/21 [==============================] - 0s 6ms/step - loss: 7.1317e-04 - mae: 0.0179 - val_loss: 0.0087 - val_mae: 0.0763\n",
            "Epoch 963/1000\n",
            "21/21 [==============================] - 0s 5ms/step - loss: 7.1204e-04 - mae: 0.0179 - val_loss: 0.0087 - val_mae: 0.0763\n",
            "Epoch 964/1000\n",
            "21/21 [==============================] - 0s 5ms/step - loss: 7.1066e-04 - mae: 0.0179 - val_loss: 0.0087 - val_mae: 0.0763\n",
            "Epoch 965/1000\n",
            "21/21 [==============================] - 0s 5ms/step - loss: 7.0975e-04 - mae: 0.0179 - val_loss: 0.0087 - val_mae: 0.0763\n",
            "Epoch 966/1000\n",
            "21/21 [==============================] - 0s 5ms/step - loss: 7.0862e-04 - mae: 0.0179 - val_loss: 0.0087 - val_mae: 0.0763\n",
            "Epoch 967/1000\n",
            "21/21 [==============================] - 0s 5ms/step - loss: 7.0759e-04 - mae: 0.0179 - val_loss: 0.0087 - val_mae: 0.0763\n",
            "Epoch 968/1000\n",
            "21/21 [==============================] - 0s 5ms/step - loss: 7.0648e-04 - mae: 0.0178 - val_loss: 0.0087 - val_mae: 0.0763\n",
            "Epoch 969/1000\n",
            "21/21 [==============================] - 0s 5ms/step - loss: 7.0515e-04 - mae: 0.0178 - val_loss: 0.0087 - val_mae: 0.0763\n",
            "Epoch 970/1000\n",
            "21/21 [==============================] - 0s 6ms/step - loss: 7.0399e-04 - mae: 0.0178 - val_loss: 0.0087 - val_mae: 0.0763\n",
            "Epoch 971/1000\n",
            "21/21 [==============================] - 0s 7ms/step - loss: 7.0280e-04 - mae: 0.0178 - val_loss: 0.0087 - val_mae: 0.0762\n",
            "Epoch 972/1000\n",
            "21/21 [==============================] - 0s 6ms/step - loss: 7.0229e-04 - mae: 0.0178 - val_loss: 0.0087 - val_mae: 0.0763\n",
            "Epoch 973/1000\n",
            "21/21 [==============================] - 0s 5ms/step - loss: 7.0049e-04 - mae: 0.0178 - val_loss: 0.0087 - val_mae: 0.0763\n",
            "Epoch 974/1000\n",
            "21/21 [==============================] - 0s 5ms/step - loss: 6.9988e-04 - mae: 0.0177 - val_loss: 0.0087 - val_mae: 0.0763\n",
            "Epoch 975/1000\n",
            "21/21 [==============================] - 0s 5ms/step - loss: 6.9825e-04 - mae: 0.0177 - val_loss: 0.0087 - val_mae: 0.0762\n",
            "Epoch 976/1000\n",
            "21/21 [==============================] - 0s 6ms/step - loss: 6.9754e-04 - mae: 0.0177 - val_loss: 0.0087 - val_mae: 0.0763\n",
            "Epoch 977/1000\n",
            "21/21 [==============================] - 0s 6ms/step - loss: 6.9608e-04 - mae: 0.0177 - val_loss: 0.0087 - val_mae: 0.0763\n",
            "Epoch 978/1000\n",
            "21/21 [==============================] - 0s 5ms/step - loss: 6.9499e-04 - mae: 0.0177 - val_loss: 0.0087 - val_mae: 0.0762\n",
            "Epoch 979/1000\n",
            "21/21 [==============================] - 0s 5ms/step - loss: 6.9422e-04 - mae: 0.0177 - val_loss: 0.0087 - val_mae: 0.0762\n",
            "Epoch 980/1000\n",
            "21/21 [==============================] - 0s 4ms/step - loss: 6.9298e-04 - mae: 0.0176 - val_loss: 0.0087 - val_mae: 0.0763\n",
            "Epoch 981/1000\n",
            "21/21 [==============================] - 0s 6ms/step - loss: 6.9192e-04 - mae: 0.0176 - val_loss: 0.0087 - val_mae: 0.0763\n",
            "Epoch 982/1000\n",
            "21/21 [==============================] - 0s 5ms/step - loss: 6.9093e-04 - mae: 0.0176 - val_loss: 0.0087 - val_mae: 0.0762\n",
            "Epoch 983/1000\n",
            "21/21 [==============================] - 0s 5ms/step - loss: 6.8932e-04 - mae: 0.0176 - val_loss: 0.0087 - val_mae: 0.0762\n",
            "Epoch 984/1000\n",
            "21/21 [==============================] - 0s 6ms/step - loss: 6.8840e-04 - mae: 0.0176 - val_loss: 0.0087 - val_mae: 0.0762\n",
            "Epoch 985/1000\n",
            "21/21 [==============================] - 0s 6ms/step - loss: 6.8748e-04 - mae: 0.0176 - val_loss: 0.0087 - val_mae: 0.0763\n",
            "Epoch 986/1000\n",
            "21/21 [==============================] - 0s 5ms/step - loss: 6.8669e-04 - mae: 0.0175 - val_loss: 0.0087 - val_mae: 0.0763\n",
            "Epoch 987/1000\n",
            "21/21 [==============================] - 0s 6ms/step - loss: 6.8567e-04 - mae: 0.0175 - val_loss: 0.0087 - val_mae: 0.0763\n",
            "Epoch 988/1000\n",
            "21/21 [==============================] - 0s 6ms/step - loss: 6.8423e-04 - mae: 0.0175 - val_loss: 0.0087 - val_mae: 0.0762\n",
            "Epoch 989/1000\n",
            "21/21 [==============================] - 0s 5ms/step - loss: 6.8310e-04 - mae: 0.0175 - val_loss: 0.0087 - val_mae: 0.0762\n",
            "Epoch 990/1000\n",
            "21/21 [==============================] - 0s 6ms/step - loss: 6.8245e-04 - mae: 0.0175 - val_loss: 0.0087 - val_mae: 0.0762\n",
            "Epoch 991/1000\n",
            "21/21 [==============================] - 0s 5ms/step - loss: 6.8111e-04 - mae: 0.0175 - val_loss: 0.0087 - val_mae: 0.0763\n",
            "Epoch 992/1000\n",
            "21/21 [==============================] - 0s 5ms/step - loss: 6.7976e-04 - mae: 0.0175 - val_loss: 0.0087 - val_mae: 0.0763\n",
            "Epoch 993/1000\n",
            "21/21 [==============================] - 0s 6ms/step - loss: 6.7906e-04 - mae: 0.0174 - val_loss: 0.0087 - val_mae: 0.0763\n",
            "Epoch 994/1000\n",
            "21/21 [==============================] - 0s 5ms/step - loss: 6.7796e-04 - mae: 0.0174 - val_loss: 0.0087 - val_mae: 0.0763\n",
            "Epoch 995/1000\n",
            "21/21 [==============================] - 0s 5ms/step - loss: 6.7734e-04 - mae: 0.0174 - val_loss: 0.0087 - val_mae: 0.0762\n",
            "Epoch 996/1000\n",
            "21/21 [==============================] - 0s 6ms/step - loss: 6.7564e-04 - mae: 0.0174 - val_loss: 0.0087 - val_mae: 0.0762\n",
            "Epoch 997/1000\n",
            "21/21 [==============================] - 0s 5ms/step - loss: 6.7423e-04 - mae: 0.0174 - val_loss: 0.0087 - val_mae: 0.0762\n",
            "Epoch 998/1000\n",
            "21/21 [==============================] - 0s 6ms/step - loss: 6.7341e-04 - mae: 0.0174 - val_loss: 0.0087 - val_mae: 0.0762\n",
            "Epoch 999/1000\n",
            "21/21 [==============================] - 0s 5ms/step - loss: 6.7249e-04 - mae: 0.0174 - val_loss: 0.0087 - val_mae: 0.0762\n",
            "Epoch 1000/1000\n",
            "21/21 [==============================] - 0s 5ms/step - loss: 6.7063e-04 - mae: 0.0173 - val_loss: 0.0087 - val_mae: 0.0763\n"
          ]
        },
        {
          "output_type": "display_data",
          "data": {
            "image/png": "[encoded data removed]",
            "text/plain": [
              "<Figure size 432x288 with 1 Axes>"
            ]
          },
          "metadata": {
            "needs_background": "light"
          }
        },
        {
          "output_type": "stream",
          "name": "stdout",
          "text": [
            "32/32 [==============================] - 0s 1ms/step - loss: 4.6027e-04 - mae: 0.0126\n",
            "loss= 0.000460268696770072\n",
            "mae= 0.012622621841728687\n"
          ]
        },
        {
          "output_type": "display_data",
          "data": {
            "image/png": "[encoded data removed]",
            "text/plain": [
              "<Figure size 432x288 with 1 Axes>"
            ]
          },
          "metadata": {
            "needs_background": "light"
          }
        }
      ]
    },
    {
      "cell_type": "markdown",
      "source": [
        "# submision 파일 파악"
      ],
      "metadata": {
        "id": "PBAi37EagN7Z"
      }
    },
    {
      "cell_type": "code",
      "source": [
        "!head sample_submission.csv"
      ],
      "metadata": {
        "colab": {
          "base_uri": "https://localhost:8080/"
        },
        "id": "cQaHM-RL_NXk",
        "outputId": "d67ef99b-06f9-47da-8600-268abb6bd87b"
      },
      "execution_count": null,
      "outputs": [
        {
          "output_type": "stream",
          "name": "stdout",
          "text": [
            "code,num\r\n",
            "C1072,0\r\n",
            "C1128,0\r\n",
            "C1456,0\r\n",
            "C1840,0\r\n",
            "C1332,0\r\n",
            "C1563,0\r\n",
            "C1794,0\r\n",
            "C1640,0\r\n",
            "C1377,0\r\n"
          ]
        }
      ]
    },
    {
      "cell_type": "code",
      "source": [
        "!head test.csv"
      ],
      "metadata": {
        "colab": {
          "base_uri": "https://localhost:8080/"
        },
        "id": "bD7y44Cz_NVU",
        "outputId": "8349bd2a-c413-4b5a-82aa-033434879847"
      },
      "execution_count": null,
      "outputs": [
        {
          "output_type": "stream",
          "name": "stdout",
          "text": [
            "단지코드,총세대수,임대건물구분,지역,공급유형,전용면적,전용면적별세대수,공가수,자격유형,임대보증금,임대료,도보 10분거리 내 지하철역 수(환승노선 수 반영),도보 10분거리 내 버스정류장 수,단지내주차면수\r\n",
            "C1072,754,아파트,경기도,국민임대,39.79,116,14.0,H,22830000,189840,0.0,2.0,683.0\r\n",
            "C1072,754,아파트,경기도,국민임대,46.81,30,14.0,A,36048000,249930,0.0,2.0,683.0\r\n",
            "C1072,754,아파트,경기도,국민임대,46.9,112,14.0,H,36048000,249930,0.0,2.0,683.0\r\n",
            "C1072,754,아파트,경기도,국민임대,46.9,120,14.0,H,36048000,249930,0.0,2.0,683.0\r\n",
            "C1072,754,아파트,경기도,국민임대,51.46,60,14.0,H,43497000,296780,0.0,2.0,683.0\r\n",
            "C1072,754,아파트,경기도,국민임대,51.71,51,14.0,H,43497000,296780,0.0,2.0,683.0\r\n",
            "C1072,754,아파트,경기도,국민임대,51.96,198,14.0,H,43497000,296780,0.0,2.0,683.0\r\n",
            "C1072,754,아파트,경기도,국민임대,51.96,67,14.0,H,43497000,296780,0.0,2.0,683.0\r\n",
            "C1128,1354,아파트,경기도,국민임대,39.79,368,9.0,H,22830000,189840,0.0,3.0,1216.0\r\n"
          ]
        }
      ]
    },
    {
      "cell_type": "code",
      "source": [
        "!wc sample_submission.csv\n",
        "!wc test.csv"
      ],
      "metadata": {
        "colab": {
          "base_uri": "https://localhost:8080/"
        },
        "id": "pyGVk-tL_NS0",
        "outputId": "b336ef6d-dfb5-48b5-87c5-f4546b003b68"
      },
      "execution_count": null,
      "outputs": [
        {
          "output_type": "stream",
          "name": "stdout",
          "text": [
            " 151  151 1360 sample_submission.csv\n",
            " 1023  1033 92574 test.csv\n"
          ]
        }
      ]
    },
    {
      "cell_type": "markdown",
      "source": [
        "# 예측값 구하기"
      ],
      "metadata": {
        "id": "8t8tQLn4Hvfq"
      }
    },
    {
      "cell_type": "code",
      "source": [
        "y_ = model.predict(test_x)\n",
        "recovered_y = y_ * (y_max - y_min) + y_min"
      ],
      "metadata": {
        "id": "O6hiPw9V_NPy"
      },
      "execution_count": null,
      "outputs": []
    },
    {
      "cell_type": "code",
      "source": [
        "test_df['등록차량수'] = recovered_y"
      ],
      "metadata": {
        "id": "-tEIKF-2_NNQ"
      },
      "execution_count": null,
      "outputs": []
    },
    {
      "cell_type": "code",
      "source": [
        "result_df = test_df.groupby('단지코드').mean()"
      ],
      "metadata": {
        "id": "v5cxlFLT_NKc"
      },
      "execution_count": null,
      "outputs": []
    },
    {
      "cell_type": "code",
      "source": [
        "result_df.head()"
      ],
      "metadata": {
        "colab": {
          "base_uri": "https://localhost:8080/",
          "height": 316
        },
        "id": "2ZgqKPVyJroN",
        "outputId": "9ed2ed78-f1de-472e-d4b0-58aee08a9c4f"
      },
      "execution_count": null,
      "outputs": [
        {
          "output_type": "execute_result",
          "data": {
            "text/html": [
              "\n",
              "  <div id=\"df-77a44633-5ab2-4583-82c7-0261a1a68504\">\n",
              "    <div class=\"colab-df-container\">\n",
              "      <div>\n",
              "<style scoped>\n",
              "    .dataframe tbody tr th:only-of-type {\n",
              "        vertical-align: middle;\n",
              "    }\n",
              "\n",
              "    .dataframe tbody tr th {\n",
              "        vertical-align: top;\n",
              "    }\n",
              "\n",
              "    .dataframe thead th {\n",
              "        text-align: right;\n",
              "    }\n",
              "</style>\n",
              "<table border=\"1\" class=\"dataframe\">\n",
              "  <thead>\n",
              "    <tr style=\"text-align: right;\">\n",
              "      <th></th>\n",
              "      <th>총세대수</th>\n",
              "      <th>전용면적</th>\n",
              "      <th>전용면적별세대수</th>\n",
              "      <th>공가수</th>\n",
              "      <th>도보 10분거리 내 지하철역 수(환승노선 수 반영)</th>\n",
              "      <th>도보 10분거리 내 버스정류장 수</th>\n",
              "      <th>단지내주차면수</th>\n",
              "      <th>등록차량수</th>\n",
              "    </tr>\n",
              "    <tr>\n",
              "      <th>단지코드</th>\n",
              "      <th></th>\n",
              "      <th></th>\n",
              "      <th></th>\n",
              "      <th></th>\n",
              "      <th></th>\n",
              "      <th></th>\n",
              "      <th></th>\n",
              "      <th></th>\n",
              "    </tr>\n",
              "  </thead>\n",
              "  <tbody>\n",
              "    <tr>\n",
              "      <th>C1003</th>\n",
              "      <td>480.0</td>\n",
              "      <td>32.136250</td>\n",
              "      <td>60.000000</td>\n",
              "      <td>29.0</td>\n",
              "      <td>0.0</td>\n",
              "      <td>3.0</td>\n",
              "      <td>339.0</td>\n",
              "      <td>593.543274</td>\n",
              "    </tr>\n",
              "    <tr>\n",
              "      <th>C1006</th>\n",
              "      <td>1505.0</td>\n",
              "      <td>60.894074</td>\n",
              "      <td>55.740741</td>\n",
              "      <td>27.0</td>\n",
              "      <td>2.0</td>\n",
              "      <td>5.0</td>\n",
              "      <td>428.0</td>\n",
              "      <td>358.354156</td>\n",
              "    </tr>\n",
              "    <tr>\n",
              "      <th>C1016</th>\n",
              "      <td>643.0</td>\n",
              "      <td>48.142500</td>\n",
              "      <td>160.750000</td>\n",
              "      <td>4.0</td>\n",
              "      <td>1.0</td>\n",
              "      <td>4.0</td>\n",
              "      <td>646.0</td>\n",
              "      <td>181.435715</td>\n",
              "    </tr>\n",
              "    <tr>\n",
              "      <th>C1019</th>\n",
              "      <td>321.0</td>\n",
              "      <td>44.875000</td>\n",
              "      <td>80.250000</td>\n",
              "      <td>7.0</td>\n",
              "      <td>0.0</td>\n",
              "      <td>3.0</td>\n",
              "      <td>259.0</td>\n",
              "      <td>361.345551</td>\n",
              "    </tr>\n",
              "    <tr>\n",
              "      <th>C1030</th>\n",
              "      <td>75.0</td>\n",
              "      <td>26.338333</td>\n",
              "      <td>11.666667</td>\n",
              "      <td>12.0</td>\n",
              "      <td>1.0</td>\n",
              "      <td>2.0</td>\n",
              "      <td>29.0</td>\n",
              "      <td>691.542236</td>\n",
              "    </tr>\n",
              "  </tbody>\n",
              "</table>\n",
              "</div>\n",
              "      <button class=\"colab-df-convert\" onclick=\"convertToInteractive('df-77a44633-5ab2-4583-82c7-0261a1a68504')\"\n",
              "              title=\"Convert this dataframe to an interactive table.\"\n",
              "              style=\"display:none;\">\n",
              "        \n",
              "  <svg xmlns=\"http://www.w3.org/2000/svg\" height=\"24px\"viewBox=\"0 0 24 24\"\n",
              "       width=\"24px\">\n",
              "    <path d=\"M0 0h24v24H0V0z\" fill=\"none\"/>\n",
              "    <path d=\"M18.56 5.44l.94 2.06.94-2.06 2.06-.94-2.06-.94-.94-2.06-.94 2.06-2.06.94zm-11 1L8.5 8.5l.94-2.06 2.06-.94-2.06-.94L8.5 2.5l-.94 2.06-2.06.94zm10 10l.94 2.06.94-2.06 2.06-.94-2.06-.94-.94-2.06-.94 2.06-2.06.94z\"/><path d=\"M17.41 7.96l-1.37-1.37c-.4-.4-.92-.59-1.43-.59-.52 0-1.04.2-1.43.59L10.3 9.45l-7.72 7.72c-.78.78-.78 2.05 0 2.83L4 21.41c.39.39.9.59 1.41.59.51 0 1.02-.2 1.41-.59l7.78-7.78 2.81-2.81c.8-.78.8-2.07 0-2.86zM5.41 20L4 18.59l7.72-7.72 1.47 1.35L5.41 20z\"/>\n",
              "  </svg>\n",
              "      </button>\n",
              "      \n",
              "  <style>\n",
              "    .colab-df-container {\n",
              "      display:flex;\n",
              "      flex-wrap:wrap;\n",
              "      gap: 12px;\n",
              "    }\n",
              "\n",
              "    .colab-df-convert {\n",
              "      background-color: #E8F0FE;\n",
              "      border: none;\n",
              "      border-radius: 50%;\n",
              "      cursor: pointer;\n",
              "      display: none;\n",
              "      fill: #1967D2;\n",
              "      height: 32px;\n",
              "      padding: 0 0 0 0;\n",
              "      width: 32px;\n",
              "    }\n",
              "\n",
              "    .colab-df-convert:hover {\n",
              "      background-color: #E2EBFA;\n",
              "      box-shadow: 0px 1px 2px rgba(60, 64, 67, 0.3), 0px 1px 3px 1px rgba(60, 64, 67, 0.15);\n",
              "      fill: #174EA6;\n",
              "    }\n",
              "\n",
              "    [theme=dark] .colab-df-convert {\n",
              "      background-color: #3B4455;\n",
              "      fill: #D2E3FC;\n",
              "    }\n",
              "\n",
              "    [theme=dark] .colab-df-convert:hover {\n",
              "      background-color: #434B5C;\n",
              "      box-shadow: 0px 1px 3px 1px rgba(0, 0, 0, 0.15);\n",
              "      filter: drop-shadow(0px 1px 2px rgba(0, 0, 0, 0.3));\n",
              "      fill: #FFFFFF;\n",
              "    }\n",
              "  </style>\n",
              "\n",
              "      <script>\n",
              "        const buttonEl =\n",
              "          document.querySelector('#df-77a44633-5ab2-4583-82c7-0261a1a68504 button.colab-df-convert');\n",
              "        buttonEl.style.display =\n",
              "          google.colab.kernel.accessAllowed ? 'block' : 'none';\n",
              "\n",
              "        async function convertToInteractive(key) {\n",
              "          const element = document.querySelector('#df-77a44633-5ab2-4583-82c7-0261a1a68504');\n",
              "          const dataTable =\n",
              "            await google.colab.kernel.invokeFunction('convertToInteractive',\n",
              "                                                     [key], {});\n",
              "          if (!dataTable) return;\n",
              "\n",
              "          const docLinkHtml = 'Like what you see? Visit the ' +\n",
              "            '<a target=\"_blank\" href=https://colab.research.google.com/notebooks/data_table.ipynb>data table notebook</a>'\n",
              "            + ' to learn more about interactive tables.';\n",
              "          element.innerHTML = '';\n",
              "          dataTable['output_type'] = 'display_data';\n",
              "          await google.colab.output.renderOutput(dataTable, element);\n",
              "          const docLink = document.createElement('div');\n",
              "          docLink.innerHTML = docLinkHtml;\n",
              "          element.appendChild(docLink);\n",
              "        }\n",
              "      </script>\n",
              "    </div>\n",
              "  </div>\n",
              "  "
            ],
            "text/plain": [
              "         총세대수       전용면적    전용면적별세대수  ...  도보 10분거리 내 버스정류장 수  단지내주차면수       등록차량수\n",
              "단지코드                                  ...                                         \n",
              "C1003   480.0  32.136250   60.000000  ...                 3.0    339.0  593.543274\n",
              "C1006  1505.0  60.894074   55.740741  ...                 5.0    428.0  358.354156\n",
              "C1016   643.0  48.142500  160.750000  ...                 4.0    646.0  181.435715\n",
              "C1019   321.0  44.875000   80.250000  ...                 3.0    259.0  361.345551\n",
              "C1030    75.0  26.338333   11.666667  ...                 2.0     29.0  691.542236\n",
              "\n",
              "[5 rows x 8 columns]"
            ]
          },
          "metadata": {},
          "execution_count": 401
        }
      ]
    },
    {
      "cell_type": "code",
      "source": [
        "result_df = result_df.reset_index()"
      ],
      "metadata": {
        "id": "w6itqAP9_NH3"
      },
      "execution_count": null,
      "outputs": []
    },
    {
      "cell_type": "code",
      "source": [
        "result_df = result_df[['단지코드', '등록차량수']]"
      ],
      "metadata": {
        "id": "lNkrRkjoM33g"
      },
      "execution_count": null,
      "outputs": []
    },
    {
      "cell_type": "code",
      "source": [
        "result = result_df.to_numpy()\n",
        "print(result.shape)\n",
        "print(result[:5])"
      ],
      "metadata": {
        "colab": {
          "base_uri": "https://localhost:8080/"
        },
        "id": "YGX5aBTjM30z",
        "outputId": "bef4a34a-fb88-4f0d-dd40-34b4da5dad5c"
      },
      "execution_count": null,
      "outputs": [
        {
          "output_type": "stream",
          "name": "stdout",
          "text": [
            "(150, 2)\n",
            "[['C1003' 593.5432739257812]\n",
            " ['C1006' 358.3541564941406]\n",
            " ['C1016' 181.4357147216797]\n",
            " ['C1019' 361.3455505371094]\n",
            " ['C1030' 691.542236328125]]\n"
          ]
        }
      ]
    },
    {
      "cell_type": "code",
      "source": [
        "result_map = {}\n",
        "for code, value in result:\n",
        "    result_map[code] = value\n",
        "\n",
        "print(result_map)"
      ],
      "metadata": {
        "colab": {
          "base_uri": "https://localhost:8080/"
        },
        "id": "dWLyFISfM3x4",
        "outputId": "0a8bb686-1f6b-40c2-b248-03cd15b3bf24"
      },
      "execution_count": null,
      "outputs": [
        {
          "output_type": "stream",
          "name": "stdout",
          "text": [
            "{'C1003': 593.5432739257812, 'C1006': 358.3541564941406, 'C1016': 181.4357147216797, 'C1019': 361.3455505371094, 'C1030': 691.542236328125, 'C1038': 567.3705444335938, 'C1040': 94.2635498046875, 'C1060': 105.29673767089844, 'C1064': 356.01220703125, 'C1071': 183.193115234375, 'C1072': 1040.731689453125, 'C1083': 63.97077178955078, 'C1105': 103.86872863769531, 'C1128': 578.0869750976562, 'C1135': 251.78712463378906, 'C1147': 196.21128845214844, 'C1149': 349.9556884765625, 'C1152': 142.06765747070312, 'C1158': 352.3078918457031, 'C1166': 161.62319946289062, 'C1189': 145.1387939453125, 'C1215': 339.6573486328125, 'C1216': 303.0070495605469, 'C1225': 73.33976745605469, 'C1229': 527.1747436523438, 'C1239': 102.85289001464844, 'C1250': 338.8074035644531, 'C1253': 166.16458129882812, 'C1266': 469.94854736328125, 'C1267': 450.0345153808594, 'C1282': 383.7674560546875, 'C1289': 1180.7105712890625, 'C1294': 108.57577514648438, 'C1297': 144.9384307861328, 'C1311': 54.112491607666016, 'C1318': 628.017578125, 'C1323': 344.400390625, 'C1327': 809.0086669921875, 'C1332': 586.2576293945312, 'C1349': 742.8135375976562, 'C1377': 715.75, 'C1392': 139.03860473632812, 'C1414': 1045.7054443359375, 'C1416': 379.9655456542969, 'C1456': 1123.6798095703125, 'C1457': 56.848052978515625, 'C1472': 317.33929443359375, 'C1474': 205.0743408203125, 'C1494': 26.992849349975586, 'C1495': 193.38571166992188, 'C1496': 998.7190551757812, 'C1521': 513.7899780273438, 'C1525': 40.98573303222656, 'C1563': 1348.2965087890625, 'C1564': 127.26210021972656, 'C1570': 220.16444396972656, 'C1593': 48.93914031982422, 'C1602': 141.52809143066406, 'C1603': 85.78201293945312, 'C1604': 92.28213500976562, 'C1617': 360.2655029296875, 'C1621': 123.79235076904297, 'C1623': 101.54409790039062, 'C1629': 190.7278289794922, 'C1633': 13.023224830627441, 'C1637': 71.70547485351562, 'C1640': 702.015869140625, 'C1683': 547.2064208984375, 'C1692': 202.0429229736328, 'C1708': 198.61471557617188, 'C1712': 303.7151184082031, 'C1721': 413.4401550292969, 'C1729': 244.00656127929688, 'C1741': 181.05044555664062, 'C1749': 849.9141235351562, 'C1772': 116.2818603515625, 'C1782': 190.72784423828125, 'C1794': 1814.7891845703125, 'C1812': 204.4175567626953, 'C1826': 13.141885757446289, 'C1827': 78.68295288085938, 'C1830': 319.0044860839844, 'C1835': 123.30165100097656, 'C1840': 721.0885620117188, 'C1841': 1101.8648681640625, 'C1844': 666.5639038085938, 'C1849': 469.9228210449219, 'C1852': 130.2388458251953, 'C1855': 214.25045776367188, 'C1887': 363.5284118652344, 'C1902': 470.3674621582031, 'C2028': 161.79319763183594, 'C2033': 117.979736328125, 'C2039': 175.20449829101562, 'C2043': 607.6498413085938, 'C2072': 618.16943359375, 'C2076': 105.29673767089844, 'C2091': 743.778564453125, 'C2112': 245.23617553710938, 'C2113': 65.6600112915039, 'C2128': 197.97564697265625, 'C2131': 119.06922912597656, 'C2144': 489.1375732421875, 'C2152': 263.614990234375, 'C2174': 746.0474243164062, 'C2175': 104.53372192382812, 'C2177': 159.15191650390625, 'C2189': 575.6924438476562, 'C2215': 144.7247314453125, 'C2222': 120.2314682006836, 'C2224': 120.29048156738281, 'C2253': 116.10675048828125, 'C2267': 212.75137329101562, 'C2268': 472.3055114746094, 'C2269': 368.0909423828125, 'C2292': 257.0732116699219, 'C2295': 122.49454498291016, 'C2303': 76.21293640136719, 'C2318': 212.45211791992188, 'C2323': 144.7630157470703, 'C2335': 759.2923583984375, 'C2363': 550.4169921875, 'C2369': 352.20367431640625, 'C2374': 73.51143646240234, 'C2397': 74.08099365234375, 'C2404': 656.578857421875, 'C2411': 113.88870239257812, 'C2417': 100.51808166503906, 'C2423': 416.05938720703125, 'C2430': 117.12203216552734, 'C2436': 181.56285095214844, 'C2451': 900.6082153320312, 'C2456': 522.17822265625, 'C2473': 324.0111999511719, 'C2497': 70.64286804199219, 'C2523': 85.78201293945312, 'C2535': 92.49040222167969, 'C2547': 41.65598678588867, 'C2551': 371.5390319824219, 'C2555': 145.0184783935547, 'C2557': 142.6919403076172, 'C2600': 218.42449951171875, 'C2602': 319.80706787109375, 'C2608': 318.4915771484375, 'C2646': 120.01072692871094, 'C2653': 74.09371185302734, 'C2675': 182.08700561523438, 'C2676': 208.99667358398438, 'C2688': 406.44378662109375, 'C2691': 221.81622314453125}\n"
          ]
        }
      ]
    },
    {
      "cell_type": "markdown",
      "source": [
        "# submission 파일 읽기"
      ],
      "metadata": {
        "id": "CcjUAEQPgX7_"
      }
    },
    {
      "cell_type": "code",
      "source": [
        "submission_df = pd.read_csv(\"sample_submission.csv\")"
      ],
      "metadata": {
        "id": "sHMX6xsRM3u7"
      },
      "execution_count": null,
      "outputs": []
    },
    {
      "cell_type": "code",
      "source": [
        "submission_df.head()"
      ],
      "metadata": {
        "colab": {
          "base_uri": "https://localhost:8080/",
          "height": 206
        },
        "id": "sjztcu0FM3si",
        "outputId": "f867ae20-fb67-433a-8b51-1acfc5c7af84"
      },
      "execution_count": null,
      "outputs": [
        {
          "output_type": "execute_result",
          "data": {
            "text/html": [
              "\n",
              "  <div id=\"df-d8f9a94e-91a5-429e-ab6f-a9bbab3f541f\">\n",
              "    <div class=\"colab-df-container\">\n",
              "      <div>\n",
              "<style scoped>\n",
              "    .dataframe tbody tr th:only-of-type {\n",
              "        vertical-align: middle;\n",
              "    }\n",
              "\n",
              "    .dataframe tbody tr th {\n",
              "        vertical-align: top;\n",
              "    }\n",
              "\n",
              "    .dataframe thead th {\n",
              "        text-align: right;\n",
              "    }\n",
              "</style>\n",
              "<table border=\"1\" class=\"dataframe\">\n",
              "  <thead>\n",
              "    <tr style=\"text-align: right;\">\n",
              "      <th></th>\n",
              "      <th>code</th>\n",
              "      <th>num</th>\n",
              "    </tr>\n",
              "  </thead>\n",
              "  <tbody>\n",
              "    <tr>\n",
              "      <th>0</th>\n",
              "      <td>C1072</td>\n",
              "      <td>0</td>\n",
              "    </tr>\n",
              "    <tr>\n",
              "      <th>1</th>\n",
              "      <td>C1128</td>\n",
              "      <td>0</td>\n",
              "    </tr>\n",
              "    <tr>\n",
              "      <th>2</th>\n",
              "      <td>C1456</td>\n",
              "      <td>0</td>\n",
              "    </tr>\n",
              "    <tr>\n",
              "      <th>3</th>\n",
              "      <td>C1840</td>\n",
              "      <td>0</td>\n",
              "    </tr>\n",
              "    <tr>\n",
              "      <th>4</th>\n",
              "      <td>C1332</td>\n",
              "      <td>0</td>\n",
              "    </tr>\n",
              "  </tbody>\n",
              "</table>\n",
              "</div>\n",
              "      <button class=\"colab-df-convert\" onclick=\"convertToInteractive('df-d8f9a94e-91a5-429e-ab6f-a9bbab3f541f')\"\n",
              "              title=\"Convert this dataframe to an interactive table.\"\n",
              "              style=\"display:none;\">\n",
              "        \n",
              "  <svg xmlns=\"http://www.w3.org/2000/svg\" height=\"24px\"viewBox=\"0 0 24 24\"\n",
              "       width=\"24px\">\n",
              "    <path d=\"M0 0h24v24H0V0z\" fill=\"none\"/>\n",
              "    <path d=\"M18.56 5.44l.94 2.06.94-2.06 2.06-.94-2.06-.94-.94-2.06-.94 2.06-2.06.94zm-11 1L8.5 8.5l.94-2.06 2.06-.94-2.06-.94L8.5 2.5l-.94 2.06-2.06.94zm10 10l.94 2.06.94-2.06 2.06-.94-2.06-.94-.94-2.06-.94 2.06-2.06.94z\"/><path d=\"M17.41 7.96l-1.37-1.37c-.4-.4-.92-.59-1.43-.59-.52 0-1.04.2-1.43.59L10.3 9.45l-7.72 7.72c-.78.78-.78 2.05 0 2.83L4 21.41c.39.39.9.59 1.41.59.51 0 1.02-.2 1.41-.59l7.78-7.78 2.81-2.81c.8-.78.8-2.07 0-2.86zM5.41 20L4 18.59l7.72-7.72 1.47 1.35L5.41 20z\"/>\n",
              "  </svg>\n",
              "      </button>\n",
              "      \n",
              "  <style>\n",
              "    .colab-df-container {\n",
              "      display:flex;\n",
              "      flex-wrap:wrap;\n",
              "      gap: 12px;\n",
              "    }\n",
              "\n",
              "    .colab-df-convert {\n",
              "      background-color: #E8F0FE;\n",
              "      border: none;\n",
              "      border-radius: 50%;\n",
              "      cursor: pointer;\n",
              "      display: none;\n",
              "      fill: #1967D2;\n",
              "      height: 32px;\n",
              "      padding: 0 0 0 0;\n",
              "      width: 32px;\n",
              "    }\n",
              "\n",
              "    .colab-df-convert:hover {\n",
              "      background-color: #E2EBFA;\n",
              "      box-shadow: 0px 1px 2px rgba(60, 64, 67, 0.3), 0px 1px 3px 1px rgba(60, 64, 67, 0.15);\n",
              "      fill: #174EA6;\n",
              "    }\n",
              "\n",
              "    [theme=dark] .colab-df-convert {\n",
              "      background-color: #3B4455;\n",
              "      fill: #D2E3FC;\n",
              "    }\n",
              "\n",
              "    [theme=dark] .colab-df-convert:hover {\n",
              "      background-color: #434B5C;\n",
              "      box-shadow: 0px 1px 3px 1px rgba(0, 0, 0, 0.15);\n",
              "      filter: drop-shadow(0px 1px 2px rgba(0, 0, 0, 0.3));\n",
              "      fill: #FFFFFF;\n",
              "    }\n",
              "  </style>\n",
              "\n",
              "      <script>\n",
              "        const buttonEl =\n",
              "          document.querySelector('#df-d8f9a94e-91a5-429e-ab6f-a9bbab3f541f button.colab-df-convert');\n",
              "        buttonEl.style.display =\n",
              "          google.colab.kernel.accessAllowed ? 'block' : 'none';\n",
              "\n",
              "        async function convertToInteractive(key) {\n",
              "          const element = document.querySelector('#df-d8f9a94e-91a5-429e-ab6f-a9bbab3f541f');\n",
              "          const dataTable =\n",
              "            await google.colab.kernel.invokeFunction('convertToInteractive',\n",
              "                                                     [key], {});\n",
              "          if (!dataTable) return;\n",
              "\n",
              "          const docLinkHtml = 'Like what you see? Visit the ' +\n",
              "            '<a target=\"_blank\" href=https://colab.research.google.com/notebooks/data_table.ipynb>data table notebook</a>'\n",
              "            + ' to learn more about interactive tables.';\n",
              "          element.innerHTML = '';\n",
              "          dataTable['output_type'] = 'display_data';\n",
              "          await google.colab.output.renderOutput(dataTable, element);\n",
              "          const docLink = document.createElement('div');\n",
              "          docLink.innerHTML = docLinkHtml;\n",
              "          element.appendChild(docLink);\n",
              "        }\n",
              "      </script>\n",
              "    </div>\n",
              "  </div>\n",
              "  "
            ],
            "text/plain": [
              "    code  num\n",
              "0  C1072    0\n",
              "1  C1128    0\n",
              "2  C1456    0\n",
              "3  C1840    0\n",
              "4  C1332    0"
            ]
          },
          "metadata": {},
          "execution_count": 407
        }
      ]
    },
    {
      "cell_type": "markdown",
      "source": [
        "# submission 값 채우기"
      ],
      "metadata": {
        "id": "pOQiWWwvgapt"
      }
    },
    {
      "cell_type": "code",
      "source": [
        "submission_code = submission_df.code.to_numpy()\n",
        "\n",
        "submission = []\n",
        "\n",
        "for code in submission_code:\n",
        "    submission.append([code, result_map[code]])\n",
        "\n",
        "submission = np.array(submission)\n",
        "\n",
        "submission_df = pd.DataFrame(submission, columns=[\"code\", \"num\"])\n",
        "\n",
        "submission_df.head()"
      ],
      "metadata": {
        "colab": {
          "base_uri": "https://localhost:8080/",
          "height": 206
        },
        "id": "eOa1JiLifHJz",
        "outputId": "2447c1bd-cbeb-415b-e10f-9a01c43a691e"
      },
      "execution_count": null,
      "outputs": [
        {
          "output_type": "execute_result",
          "data": {
            "text/html": [
              "\n",
              "  <div id=\"df-7d9d032c-09f2-4aa4-bfe7-10f56429946d\">\n",
              "    <div class=\"colab-df-container\">\n",
              "      <div>\n",
              "<style scoped>\n",
              "    .dataframe tbody tr th:only-of-type {\n",
              "        vertical-align: middle;\n",
              "    }\n",
              "\n",
              "    .dataframe tbody tr th {\n",
              "        vertical-align: top;\n",
              "    }\n",
              "\n",
              "    .dataframe thead th {\n",
              "        text-align: right;\n",
              "    }\n",
              "</style>\n",
              "<table border=\"1\" class=\"dataframe\">\n",
              "  <thead>\n",
              "    <tr style=\"text-align: right;\">\n",
              "      <th></th>\n",
              "      <th>code</th>\n",
              "      <th>num</th>\n",
              "    </tr>\n",
              "  </thead>\n",
              "  <tbody>\n",
              "    <tr>\n",
              "      <th>0</th>\n",
              "      <td>C1072</td>\n",
              "      <td>1040.731689453125</td>\n",
              "    </tr>\n",
              "    <tr>\n",
              "      <th>1</th>\n",
              "      <td>C1128</td>\n",
              "      <td>578.0869750976562</td>\n",
              "    </tr>\n",
              "    <tr>\n",
              "      <th>2</th>\n",
              "      <td>C1456</td>\n",
              "      <td>1123.6798095703125</td>\n",
              "    </tr>\n",
              "    <tr>\n",
              "      <th>3</th>\n",
              "      <td>C1840</td>\n",
              "      <td>721.0885620117188</td>\n",
              "    </tr>\n",
              "    <tr>\n",
              "      <th>4</th>\n",
              "      <td>C1332</td>\n",
              "      <td>586.2576293945312</td>\n",
              "    </tr>\n",
              "  </tbody>\n",
              "</table>\n",
              "</div>\n",
              "      <button class=\"colab-df-convert\" onclick=\"convertToInteractive('df-7d9d032c-09f2-4aa4-bfe7-10f56429946d')\"\n",
              "              title=\"Convert this dataframe to an interactive table.\"\n",
              "              style=\"display:none;\">\n",
              "        \n",
              "  <svg xmlns=\"http://www.w3.org/2000/svg\" height=\"24px\"viewBox=\"0 0 24 24\"\n",
              "       width=\"24px\">\n",
              "    <path d=\"M0 0h24v24H0V0z\" fill=\"none\"/>\n",
              "    <path d=\"M18.56 5.44l.94 2.06.94-2.06 2.06-.94-2.06-.94-.94-2.06-.94 2.06-2.06.94zm-11 1L8.5 8.5l.94-2.06 2.06-.94-2.06-.94L8.5 2.5l-.94 2.06-2.06.94zm10 10l.94 2.06.94-2.06 2.06-.94-2.06-.94-.94-2.06-.94 2.06-2.06.94z\"/><path d=\"M17.41 7.96l-1.37-1.37c-.4-.4-.92-.59-1.43-.59-.52 0-1.04.2-1.43.59L10.3 9.45l-7.72 7.72c-.78.78-.78 2.05 0 2.83L4 21.41c.39.39.9.59 1.41.59.51 0 1.02-.2 1.41-.59l7.78-7.78 2.81-2.81c.8-.78.8-2.07 0-2.86zM5.41 20L4 18.59l7.72-7.72 1.47 1.35L5.41 20z\"/>\n",
              "  </svg>\n",
              "      </button>\n",
              "      \n",
              "  <style>\n",
              "    .colab-df-container {\n",
              "      display:flex;\n",
              "      flex-wrap:wrap;\n",
              "      gap: 12px;\n",
              "    }\n",
              "\n",
              "    .colab-df-convert {\n",
              "      background-color: #E8F0FE;\n",
              "      border: none;\n",
              "      border-radius: 50%;\n",
              "      cursor: pointer;\n",
              "      display: none;\n",
              "      fill: #1967D2;\n",
              "      height: 32px;\n",
              "      padding: 0 0 0 0;\n",
              "      width: 32px;\n",
              "    }\n",
              "\n",
              "    .colab-df-convert:hover {\n",
              "      background-color: #E2EBFA;\n",
              "      box-shadow: 0px 1px 2px rgba(60, 64, 67, 0.3), 0px 1px 3px 1px rgba(60, 64, 67, 0.15);\n",
              "      fill: #174EA6;\n",
              "    }\n",
              "\n",
              "    [theme=dark] .colab-df-convert {\n",
              "      background-color: #3B4455;\n",
              "      fill: #D2E3FC;\n",
              "    }\n",
              "\n",
              "    [theme=dark] .colab-df-convert:hover {\n",
              "      background-color: #434B5C;\n",
              "      box-shadow: 0px 1px 3px 1px rgba(0, 0, 0, 0.15);\n",
              "      filter: drop-shadow(0px 1px 2px rgba(0, 0, 0, 0.3));\n",
              "      fill: #FFFFFF;\n",
              "    }\n",
              "  </style>\n",
              "\n",
              "      <script>\n",
              "        const buttonEl =\n",
              "          document.querySelector('#df-7d9d032c-09f2-4aa4-bfe7-10f56429946d button.colab-df-convert');\n",
              "        buttonEl.style.display =\n",
              "          google.colab.kernel.accessAllowed ? 'block' : 'none';\n",
              "\n",
              "        async function convertToInteractive(key) {\n",
              "          const element = document.querySelector('#df-7d9d032c-09f2-4aa4-bfe7-10f56429946d');\n",
              "          const dataTable =\n",
              "            await google.colab.kernel.invokeFunction('convertToInteractive',\n",
              "                                                     [key], {});\n",
              "          if (!dataTable) return;\n",
              "\n",
              "          const docLinkHtml = 'Like what you see? Visit the ' +\n",
              "            '<a target=\"_blank\" href=https://colab.research.google.com/notebooks/data_table.ipynb>data table notebook</a>'\n",
              "            + ' to learn more about interactive tables.';\n",
              "          element.innerHTML = '';\n",
              "          dataTable['output_type'] = 'display_data';\n",
              "          await google.colab.output.renderOutput(dataTable, element);\n",
              "          const docLink = document.createElement('div');\n",
              "          docLink.innerHTML = docLinkHtml;\n",
              "          element.appendChild(docLink);\n",
              "        }\n",
              "      </script>\n",
              "    </div>\n",
              "  </div>\n",
              "  "
            ],
            "text/plain": [
              "    code                 num\n",
              "0  C1072   1040.731689453125\n",
              "1  C1128   578.0869750976562\n",
              "2  C1456  1123.6798095703125\n",
              "3  C1840   721.0885620117188\n",
              "4  C1332   586.2576293945312"
            ]
          },
          "metadata": {},
          "execution_count": 408
        }
      ]
    },
    {
      "cell_type": "markdown",
      "source": [
        "# submission 파일 저장"
      ],
      "metadata": {
        "id": "XqziMxXigdne"
      }
    },
    {
      "cell_type": "code",
      "source": [
        "submission_df.to_csv(\"submission.csv\", index=False)"
      ],
      "metadata": {
        "id": "aMnbx62QeSCw"
      },
      "execution_count": null,
      "outputs": []
    },
    {
      "cell_type": "code",
      "source": [
        "!head submission.csv"
      ],
      "metadata": {
        "colab": {
          "base_uri": "https://localhost:8080/"
        },
        "id": "MgJMhnw_gtBf",
        "outputId": "450a2090-9618-45a9-eac9-43b8c347eca4"
      },
      "execution_count": null,
      "outputs": [
        {
          "output_type": "stream",
          "name": "stdout",
          "text": [
            "code,num\n",
            "C1072,1040.731689453125\n",
            "C1128,578.0869750976562\n",
            "C1456,1123.6798095703125\n",
            "C1840,721.0885620117188\n",
            "C1332,586.2576293945312\n",
            "C1563,1348.2965087890625\n",
            "C1794,1814.7891845703125\n",
            "C1640,702.015869140625\n",
            "C1377,715.75\n"
          ]
        }
      ]
    },
    {
      "cell_type": "code",
      "source": [
        "!head sample_submission.csv"
      ],
      "metadata": {
        "colab": {
          "base_uri": "https://localhost:8080/"
        },
        "id": "a_Igq3cIgubg",
        "outputId": "3d02f4af-409a-48c9-d225-fdab6a5a0c6f"
      },
      "execution_count": null,
      "outputs": [
        {
          "output_type": "stream",
          "name": "stdout",
          "text": [
            "code,num\r\n",
            "C1072,0\r\n",
            "C1128,0\r\n",
            "C1456,0\r\n",
            "C1840,0\r\n",
            "C1332,0\r\n",
            "C1563,0\r\n",
            "C1794,0\r\n",
            "C1640,0\r\n",
            "C1377,0\r\n"
          ]
        }
      ]
    },
    {
      "cell_type": "code",
      "source": [
        ""
      ],
      "metadata": {
        "id": "yEA7XJllhDX4"
      },
      "execution_count": null,
      "outputs": []
    }
  ]
}