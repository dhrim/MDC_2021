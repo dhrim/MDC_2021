{
  "nbformat": 4,
  "nbformat_minor": 0,
  "metadata": {
    "colab": {
      "name": "20220103_treaintg_image_data_in_numpy.ipynb",
      "provenance": []
    },
    "kernelspec": {
      "name": "python3",
      "display_name": "Python 3"
    },
    "language_info": {
      "name": "python"
    }
  },
  "cells": [
    {
      "cell_type": "code",
      "execution_count": null,
      "metadata": {
        "id": "BP8uH4TZRwYQ"
      },
      "outputs": [],
      "source": [
        "import numpy as np\n",
        "import pandas as pd\n",
        "import matplotlib.pyplot as plt"
      ]
    },
    {
      "cell_type": "code",
      "source": [
        "import tensorflow as tf"
      ],
      "metadata": {
        "id": "OT_2BUwoR_Iu"
      },
      "execution_count": null,
      "outputs": []
    },
    {
      "cell_type": "code",
      "source": [
        "(train_x, train_y), (test_x, test_y) = tf.keras.datasets.mnist.load_data()"
      ],
      "metadata": {
        "colab": {
          "base_uri": "https://localhost:8080/"
        },
        "id": "XajziVRqST79",
        "outputId": "1e3fae1f-d157-4af9-a7fa-e0be6a877e66"
      },
      "execution_count": null,
      "outputs": [
        {
          "output_type": "stream",
          "name": "stdout",
          "text": [
            "Downloading data from https://storage.googleapis.com/tensorflow/tf-keras-datasets/mnist.npz\n",
            "11493376/11490434 [==============================] - 0s 0us/step\n",
            "11501568/11490434 [==============================] - 0s 0us/step\n"
          ]
        }
      ]
    },
    {
      "cell_type": "markdown",
      "source": [
        "# TODO\n",
        "```\n",
        "- train_x, test_x 합치기\n",
        "- 28x28을 흑백을 28x28x3 컬러로 만들기\n",
        "- 28x28을 32x32로 만들기\n",
        "```"
      ],
      "metadata": {
        "id": "PBUfGIz9SsSY"
      }
    },
    {
      "cell_type": "code",
      "source": [
        "print(train_x.shape)\n",
        "print(test_x.shape)"
      ],
      "metadata": {
        "colab": {
          "base_uri": "https://localhost:8080/"
        },
        "id": "w6UMiks5SZql",
        "outputId": "4e02b385-6614-4e8f-80ff-64b05e3d1d1a"
      },
      "execution_count": null,
      "outputs": [
        {
          "output_type": "stream",
          "name": "stdout",
          "text": [
            "(60000, 28, 28)\n",
            "(10000, 28, 28)\n"
          ]
        }
      ]
    },
    {
      "cell_type": "markdown",
      "source": [
        "# train_x, test_x 합치기"
      ],
      "metadata": {
        "id": "WZJN2J64VGoe"
      }
    },
    {
      "cell_type": "code",
      "source": [
        "stacked = np.vstack([train_x, test_x])\n",
        "print(stacked.shape)"
      ],
      "metadata": {
        "colab": {
          "base_uri": "https://localhost:8080/"
        },
        "id": "coFcC9EFTLHw",
        "outputId": "b2f60c2c-fb6f-440f-9d33-14c838db7f5a"
      },
      "execution_count": null,
      "outputs": [
        {
          "output_type": "stream",
          "name": "stdout",
          "text": [
            "(70000, 28, 28)\n"
          ]
        }
      ]
    },
    {
      "cell_type": "markdown",
      "source": [
        "```\n",
        "np.stack()\n",
        "np.vstack()\n",
        "np.hstack()\n",
        "np.concate()\n",
        "```"
      ],
      "metadata": {
        "id": "IklBWDr-TWv7"
      }
    },
    {
      "cell_type": "markdown",
      "source": [
        "## 기타"
      ],
      "metadata": {
        "id": "bKm9LeLQVJd1"
      }
    },
    {
      "cell_type": "code",
      "source": [
        "stacked = np.hstack([train_x[:10000], test_x])\n",
        "print(stacked.shape)"
      ],
      "metadata": {
        "colab": {
          "base_uri": "https://localhost:8080/"
        },
        "id": "Y7TiTBNPTUZ9",
        "outputId": "11c3860d-f293-4539-9744-5f476b5d0c49"
      },
      "execution_count": null,
      "outputs": [
        {
          "output_type": "stream",
          "name": "stdout",
          "text": [
            "(10000, 56, 28)\n"
          ]
        }
      ]
    },
    {
      "cell_type": "code",
      "source": [
        "stacked = np.stack([train_x[:10000], test_x])\n",
        "print(stacked.shape)"
      ],
      "metadata": {
        "colab": {
          "base_uri": "https://localhost:8080/"
        },
        "id": "NvibDveeUG1w",
        "outputId": "f492c925-b28f-4f0d-d53a-7e68896819bf"
      },
      "execution_count": null,
      "outputs": [
        {
          "output_type": "stream",
          "name": "stdout",
          "text": [
            "(2, 10000, 28, 28)\n"
          ]
        }
      ]
    },
    {
      "cell_type": "code",
      "source": [
        "stacked = np.concatenate([train_x, test_x])\n",
        "print(stacked.shape)"
      ],
      "metadata": {
        "colab": {
          "base_uri": "https://localhost:8080/"
        },
        "id": "NPErHahnUOpP",
        "outputId": "f635f913-d50f-4b63-9b37-7ce43496f179"
      },
      "execution_count": null,
      "outputs": [
        {
          "output_type": "stream",
          "name": "stdout",
          "text": [
            "(70000, 28, 28)\n"
          ]
        }
      ]
    },
    {
      "cell_type": "markdown",
      "source": [
        "# 28x28을 흑백을 28x28x3 컬러로 만들기"
      ],
      "metadata": {
        "id": "E1j8X2i9VN8y"
      }
    },
    {
      "cell_type": "code",
      "source": [
        "plt.imshow(train_x[0])\n",
        "plt.show()\n",
        "\n",
        "plt.imshow(train_x[0], cmap=\"gray\")\n",
        "plt.show()\n",
        "\n",
        "plt.imshow(train_x[0], cmap=\"binary\")\n",
        "plt.show()"
      ],
      "metadata": {
        "colab": {
          "base_uri": "https://localhost:8080/",
          "height": 761
        },
        "id": "g35ygSoJVOfX",
        "outputId": "dcfe07f4-8169-41cb-e96f-76abcd738875"
      },
      "execution_count": null,
      "outputs": [
        {
          "output_type": "display_data",
          "data": {
            "image/png": "[encoded data removed]",
            "text/plain": [
              "<Figure size 432x288 with 1 Axes>"
            ]
          },
          "metadata": {
            "needs_background": "light"
          }
        },
        {
          "output_type": "display_data",
          "data": {
            "image/png": "[encoded data removed]",
            "text/plain": [
              "<Figure size 432x288 with 1 Axes>"
            ]
          },
          "metadata": {
            "needs_background": "light"
          }
        },
        {
          "output_type": "display_data",
          "data": {
            "image/png": "[encoded data removed]",
            "text/plain": [
              "<Figure size 432x288 with 1 Axes>"
            ]
          },
          "metadata": {
            "needs_background": "light"
          }
        }
      ]
    },
    {
      "cell_type": "code",
      "source": [
        "plt.hist(train_x[0].flatten())\n",
        "plt.show()\n",
        "print(train_x[0][0])"
      ],
      "metadata": {
        "colab": {
          "base_uri": "https://localhost:8080/",
          "height": 284
        },
        "id": "0bFYP4Qfe18T",
        "outputId": "3586cd25-33fd-4cd9-8516-4df7cd8378e7"
      },
      "execution_count": null,
      "outputs": [
        {
          "output_type": "display_data",
          "data": {
            "image/png": "[encoded data removed]",
            "text/plain": [
              "<Figure size 432x288 with 1 Axes>"
            ]
          },
          "metadata": {
            "needs_background": "light"
          }
        },
        {
          "output_type": "stream",
          "name": "stdout",
          "text": [
            "[0 0 0 0 0 0 0 0 0 0 0 0 0 0 0 0 0 0 0 0 0 0 0 0 0 0 0 0]\n"
          ]
        }
      ]
    },
    {
      "cell_type": "code",
      "source": [
        "plt.imshow(train_x[0]/255., cmap=\"binary\")\n",
        "plt.show()"
      ],
      "metadata": {
        "colab": {
          "base_uri": "https://localhost:8080/",
          "height": 265
        },
        "id": "DUQ41PjkfD8Y",
        "outputId": "42ed3786-9bbf-4c33-aa3b-c3d635a6eff7"
      },
      "execution_count": null,
      "outputs": [
        {
          "output_type": "display_data",
          "data": {
            "image/png": "[encoded data removed]",
            "text/plain": [
              "<Figure size 432x288 with 1 Axes>"
            ]
          },
          "metadata": {
            "needs_background": "light"
          }
        }
      ]
    },
    {
      "cell_type": "code",
      "source": [
        "plt.imshow((train_x[0]/127.5 - 1.0), cmap=\"binary\")\n",
        "plt.show()"
      ],
      "metadata": {
        "colab": {
          "base_uri": "https://localhost:8080/",
          "height": 265
        },
        "id": "NbyykRySfZrc",
        "outputId": "07e76c31-3a0d-4a61-efda-2968eb4ff1d4"
      },
      "execution_count": null,
      "outputs": [
        {
          "output_type": "display_data",
          "data": {
            "image/png": "[encoded data removed]",
            "text/plain": [
              "<Figure size 432x288 with 1 Axes>"
            ]
          },
          "metadata": {
            "needs_background": "light"
          }
        }
      ]
    },
    {
      "cell_type": "code",
      "source": [
        "colored = np.stack((train_x,)*3, axis=-1)\n",
        "# colored = np.stack([train_x, train_x, train_x], axis=-1)\n",
        "print(colored.shape)\n",
        "\n",
        "plt.imshow(colored[0])\n",
        "plt.show()"
      ],
      "metadata": {
        "colab": {
          "base_uri": "https://localhost:8080/",
          "height": 284
        },
        "id": "2TMg_pPxftLU",
        "outputId": "342edebc-5ee8-4e17-d235-a0faff7e37b2"
      },
      "execution_count": null,
      "outputs": [
        {
          "output_type": "stream",
          "name": "stdout",
          "text": [
            "(60000, 28, 28, 3)\n"
          ]
        },
        {
          "output_type": "display_data",
          "data": {
            "image/png": "[encoded data removed]",
            "text/plain": [
              "<Figure size 432x288 with 1 Axes>"
            ]
          },
          "metadata": {
            "needs_background": "light"
          }
        }
      ]
    },
    {
      "cell_type": "markdown",
      "source": [
        "# 28x28을 32x32로 만들기"
      ],
      "metadata": {
        "id": "CqTF3j8thVM6"
      }
    },
    {
      "cell_type": "markdown",
      "source": [
        "## padding"
      ],
      "metadata": {
        "id": "CNYFidBxioZP"
      }
    },
    {
      "cell_type": "code",
      "source": [
        "def pad(image):\n",
        "    return np.pad(image, ((2,2), (2,2)), 'constant', constant_values=0)\n",
        "\n",
        "paddinged = np.array( [pad(image) for image in train_x] )\n",
        "print(paddinged.shape)\n",
        "\n",
        "plt.imshow(paddinged[0])\n",
        "plt.show()"
      ],
      "metadata": {
        "colab": {
          "base_uri": "https://localhost:8080/",
          "height": 285
        },
        "id": "-VJu_9hQhVv_",
        "outputId": "5906f0f7-9b18-4082-88b2-13561c5f940e"
      },
      "execution_count": null,
      "outputs": [
        {
          "output_type": "stream",
          "name": "stdout",
          "text": [
            "(60000, 32, 32)\n"
          ]
        },
        {
          "output_type": "display_data",
          "data": {
            "image/png": "[encoded data removed]",
            "text/plain": [
              "<Figure size 432x288 with 1 Axes>"
            ]
          },
          "metadata": {
            "needs_background": "light"
          }
        }
      ]
    },
    {
      "cell_type": "markdown",
      "source": [
        "## resize"
      ],
      "metadata": {
        "id": "Xke8pmrHiqnG"
      }
    },
    {
      "cell_type": "code",
      "source": [
        "from skimage.transform import resize\n",
        "\n",
        "resized = np.array([resize(image, (32,32)) for image in train_x])\n",
        "print(resized.shape)\n",
        "\n",
        "plt.imshow(resized[0])\n",
        "plt.show()"
      ],
      "metadata": {
        "colab": {
          "base_uri": "https://localhost:8080/"
        },
        "id": "q7okK6TuirWt",
        "outputId": "54f1f053-a26f-42ad-8eb0-f3b2bcf77d98"
      },
      "execution_count": null,
      "outputs": [
        {
          "output_type": "stream",
          "name": "stdout",
          "text": [
            "(60000, 32, 32)\n"
          ]
        },
        {
          "output_type": "display_data",
          "data": {
            "image/png": "[encoded data removed]",
            "text/plain": [
              "<Figure size 432x288 with 1 Axes>"
            ]
          },
          "metadata": {
            "needs_background": "light"
          }
        }
      ]
    }
  ]
}