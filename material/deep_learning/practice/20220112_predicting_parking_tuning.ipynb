{
  "nbformat": 4,
  "nbformat_minor": 0,
  "metadata": {
    "colab": {
      "name": "20220112_predicting_parking_tuning.ipynb",
      "provenance": [],
      "collapsed_sections": [],
      "toc_visible": true
    },
    "kernelspec": {
      "name": "python3",
      "display_name": "Python 3"
    },
    "language_info": {
      "name": "python"
    },
    "accelerator": "GPU"
  },
  "cells": [
    {
      "cell_type": "markdown",
      "source": [
        "from https://dacon.io/competitions/official/235745/data"
      ],
      "metadata": {
        "id": "2PTjX14XsxyR"
      }
    },
    {
      "cell_type": "markdown",
      "source": [
        "# 데이터 가져오기"
      ],
      "metadata": {
        "id": "SMBeKeevsuVm"
      }
    },
    {
      "cell_type": "code",
      "source": [
        "from google.colab import drive\n",
        "drive.mount('/gdrive')"
      ],
      "metadata": {
        "colab": {
          "base_uri": "https://localhost:8080/"
        },
        "id": "Tleayae9onJu",
        "outputId": "14f6ca1f-3b16-4c85-9cf4-68025ba17902"
      },
      "execution_count": null,
      "outputs": [
        {
          "output_type": "stream",
          "name": "stdout",
          "text": [
            "Drive already mounted at /gdrive; to attempt to forcibly remount, call drive.mount(\"/gdrive\", force_remount=True).\n"
          ]
        }
      ]
    },
    {
      "cell_type": "code",
      "source": [
        "!cp /gdrive/MyDrive/tmp/235745_parking_data.zip ./"
      ],
      "metadata": {
        "id": "b2jKHYKQouCz"
      },
      "execution_count": null,
      "outputs": []
    },
    {
      "cell_type": "code",
      "source": [
        "!rm -rf *.csv\n",
        "!unzip 235745_parking_data.zip"
      ],
      "metadata": {
        "colab": {
          "base_uri": "https://localhost:8080/"
        },
        "id": "wJg0F-IwouAq",
        "outputId": "b33c68fe-44e8-4943-dcbb-b43e696e970a"
      },
      "execution_count": null,
      "outputs": [
        {
          "output_type": "stream",
          "name": "stdout",
          "text": [
            "Archive:  235745_parking_data.zip\n",
            "  inflating: age_gender_info.csv     \n",
            "  inflating: sample_submission.csv   \n",
            "  inflating: test.csv                \n",
            "  inflating: train.csv               \n"
          ]
        }
      ]
    },
    {
      "cell_type": "markdown",
      "source": [
        "# 데이터 로딩"
      ],
      "metadata": {
        "id": "B1w2WKgJtBwc"
      }
    },
    {
      "cell_type": "code",
      "source": [
        "import pandas as pd\n",
        "import numpy as np\n",
        "import matplotlib.pyplot as plt"
      ],
      "metadata": {
        "id": "I3nYXtIdot94"
      },
      "execution_count": null,
      "outputs": []
    },
    {
      "cell_type": "code",
      "source": [
        "train_df = pd.read_csv('train.csv')\n",
        "test_df = pd.read_csv('test.csv')"
      ],
      "metadata": {
        "id": "J03ih23LtK30"
      },
      "execution_count": null,
      "outputs": []
    },
    {
      "cell_type": "code",
      "source": [
        "train_df.head(1)"
      ],
      "metadata": {
        "colab": {
          "base_uri": "https://localhost:8080/",
          "height": 333
        },
        "id": "xNR5X8BJtPCa",
        "outputId": "934763cd-ebb8-485f-af2a-68a55906e89b"
      },
      "execution_count": null,
      "outputs": [
        {
          "output_type": "execute_result",
          "data": {
            "text/html": [
              "\n",
              "  <div id=\"df-4252cb24-36a9-44e6-b2fa-63b906593058\">\n",
              "    <div class=\"colab-df-container\">\n",
              "      <div>\n",
              "<style scoped>\n",
              "    .dataframe tbody tr th:only-of-type {\n",
              "        vertical-align: middle;\n",
              "    }\n",
              "\n",
              "    .dataframe tbody tr th {\n",
              "        vertical-align: top;\n",
              "    }\n",
              "\n",
              "    .dataframe thead th {\n",
              "        text-align: right;\n",
              "    }\n",
              "</style>\n",
              "<table border=\"1\" class=\"dataframe\">\n",
              "  <thead>\n",
              "    <tr style=\"text-align: right;\">\n",
              "      <th></th>\n",
              "      <th>단지코드</th>\n",
              "      <th>총세대수</th>\n",
              "      <th>임대건물구분</th>\n",
              "      <th>지역</th>\n",
              "      <th>공급유형</th>\n",
              "      <th>전용면적</th>\n",
              "      <th>전용면적별세대수</th>\n",
              "      <th>공가수</th>\n",
              "      <th>자격유형</th>\n",
              "      <th>임대보증금</th>\n",
              "      <th>임대료</th>\n",
              "      <th>도보 10분거리 내 지하철역 수(환승노선 수 반영)</th>\n",
              "      <th>도보 10분거리 내 버스정류장 수</th>\n",
              "      <th>단지내주차면수</th>\n",
              "      <th>등록차량수</th>\n",
              "    </tr>\n",
              "  </thead>\n",
              "  <tbody>\n",
              "    <tr>\n",
              "      <th>0</th>\n",
              "      <td>C2483</td>\n",
              "      <td>900</td>\n",
              "      <td>아파트</td>\n",
              "      <td>경상북도</td>\n",
              "      <td>국민임대</td>\n",
              "      <td>39.72</td>\n",
              "      <td>134</td>\n",
              "      <td>38.0</td>\n",
              "      <td>A</td>\n",
              "      <td>15667000</td>\n",
              "      <td>103680</td>\n",
              "      <td>0.0</td>\n",
              "      <td>3.0</td>\n",
              "      <td>1425.0</td>\n",
              "      <td>1015.0</td>\n",
              "    </tr>\n",
              "  </tbody>\n",
              "</table>\n",
              "</div>\n",
              "      <button class=\"colab-df-convert\" onclick=\"convertToInteractive('df-4252cb24-36a9-44e6-b2fa-63b906593058')\"\n",
              "              title=\"Convert this dataframe to an interactive table.\"\n",
              "              style=\"display:none;\">\n",
              "        \n",
              "  <svg xmlns=\"http://www.w3.org/2000/svg\" height=\"24px\"viewBox=\"0 0 24 24\"\n",
              "       width=\"24px\">\n",
              "    <path d=\"M0 0h24v24H0V0z\" fill=\"none\"/>\n",
              "    <path d=\"M18.56 5.44l.94 2.06.94-2.06 2.06-.94-2.06-.94-.94-2.06-.94 2.06-2.06.94zm-11 1L8.5 8.5l.94-2.06 2.06-.94-2.06-.94L8.5 2.5l-.94 2.06-2.06.94zm10 10l.94 2.06.94-2.06 2.06-.94-2.06-.94-.94-2.06-.94 2.06-2.06.94z\"/><path d=\"M17.41 7.96l-1.37-1.37c-.4-.4-.92-.59-1.43-.59-.52 0-1.04.2-1.43.59L10.3 9.45l-7.72 7.72c-.78.78-.78 2.05 0 2.83L4 21.41c.39.39.9.59 1.41.59.51 0 1.02-.2 1.41-.59l7.78-7.78 2.81-2.81c.8-.78.8-2.07 0-2.86zM5.41 20L4 18.59l7.72-7.72 1.47 1.35L5.41 20z\"/>\n",
              "  </svg>\n",
              "      </button>\n",
              "      \n",
              "  <style>\n",
              "    .colab-df-container {\n",
              "      display:flex;\n",
              "      flex-wrap:wrap;\n",
              "      gap: 12px;\n",
              "    }\n",
              "\n",
              "    .colab-df-convert {\n",
              "      background-color: #E8F0FE;\n",
              "      border: none;\n",
              "      border-radius: 50%;\n",
              "      cursor: pointer;\n",
              "      display: none;\n",
              "      fill: #1967D2;\n",
              "      height: 32px;\n",
              "      padding: 0 0 0 0;\n",
              "      width: 32px;\n",
              "    }\n",
              "\n",
              "    .colab-df-convert:hover {\n",
              "      background-color: #E2EBFA;\n",
              "      box-shadow: 0px 1px 2px rgba(60, 64, 67, 0.3), 0px 1px 3px 1px rgba(60, 64, 67, 0.15);\n",
              "      fill: #174EA6;\n",
              "    }\n",
              "\n",
              "    [theme=dark] .colab-df-convert {\n",
              "      background-color: #3B4455;\n",
              "      fill: #D2E3FC;\n",
              "    }\n",
              "\n",
              "    [theme=dark] .colab-df-convert:hover {\n",
              "      background-color: #434B5C;\n",
              "      box-shadow: 0px 1px 3px 1px rgba(0, 0, 0, 0.15);\n",
              "      filter: drop-shadow(0px 1px 2px rgba(0, 0, 0, 0.3));\n",
              "      fill: #FFFFFF;\n",
              "    }\n",
              "  </style>\n",
              "\n",
              "      <script>\n",
              "        const buttonEl =\n",
              "          document.querySelector('#df-4252cb24-36a9-44e6-b2fa-63b906593058 button.colab-df-convert');\n",
              "        buttonEl.style.display =\n",
              "          google.colab.kernel.accessAllowed ? 'block' : 'none';\n",
              "\n",
              "        async function convertToInteractive(key) {\n",
              "          const element = document.querySelector('#df-4252cb24-36a9-44e6-b2fa-63b906593058');\n",
              "          const dataTable =\n",
              "            await google.colab.kernel.invokeFunction('convertToInteractive',\n",
              "                                                     [key], {});\n",
              "          if (!dataTable) return;\n",
              "\n",
              "          const docLinkHtml = 'Like what you see? Visit the ' +\n",
              "            '<a target=\"_blank\" href=https://colab.research.google.com/notebooks/data_table.ipynb>data table notebook</a>'\n",
              "            + ' to learn more about interactive tables.';\n",
              "          element.innerHTML = '';\n",
              "          dataTable['output_type'] = 'display_data';\n",
              "          await google.colab.output.renderOutput(dataTable, element);\n",
              "          const docLink = document.createElement('div');\n",
              "          docLink.innerHTML = docLinkHtml;\n",
              "          element.appendChild(docLink);\n",
              "        }\n",
              "      </script>\n",
              "    </div>\n",
              "  </div>\n",
              "  "
            ],
            "text/plain": [
              "    단지코드  총세대수 임대건물구분  ... 도보 10분거리 내 버스정류장 수 단지내주차면수   등록차량수\n",
              "0  C2483   900    아파트  ...                3.0  1425.0  1015.0\n",
              "\n",
              "[1 rows x 15 columns]"
            ]
          },
          "metadata": {},
          "execution_count": 6
        }
      ]
    },
    {
      "cell_type": "code",
      "source": [
        "test_df.head(1)"
      ],
      "metadata": {
        "colab": {
          "base_uri": "https://localhost:8080/",
          "height": 281
        },
        "id": "fIO90YYntu8g",
        "outputId": "e2c3e148-fd2f-4660-9310-b31ef241569a"
      },
      "execution_count": null,
      "outputs": [
        {
          "output_type": "execute_result",
          "data": {
            "text/html": [
              "\n",
              "  <div id=\"df-37d24da5-8519-411b-973b-deec9bdd6c5e\">\n",
              "    <div class=\"colab-df-container\">\n",
              "      <div>\n",
              "<style scoped>\n",
              "    .dataframe tbody tr th:only-of-type {\n",
              "        vertical-align: middle;\n",
              "    }\n",
              "\n",
              "    .dataframe tbody tr th {\n",
              "        vertical-align: top;\n",
              "    }\n",
              "\n",
              "    .dataframe thead th {\n",
              "        text-align: right;\n",
              "    }\n",
              "</style>\n",
              "<table border=\"1\" class=\"dataframe\">\n",
              "  <thead>\n",
              "    <tr style=\"text-align: right;\">\n",
              "      <th></th>\n",
              "      <th>단지코드</th>\n",
              "      <th>총세대수</th>\n",
              "      <th>임대건물구분</th>\n",
              "      <th>지역</th>\n",
              "      <th>공급유형</th>\n",
              "      <th>전용면적</th>\n",
              "      <th>전용면적별세대수</th>\n",
              "      <th>공가수</th>\n",
              "      <th>자격유형</th>\n",
              "      <th>임대보증금</th>\n",
              "      <th>임대료</th>\n",
              "      <th>도보 10분거리 내 지하철역 수(환승노선 수 반영)</th>\n",
              "      <th>도보 10분거리 내 버스정류장 수</th>\n",
              "      <th>단지내주차면수</th>\n",
              "    </tr>\n",
              "  </thead>\n",
              "  <tbody>\n",
              "    <tr>\n",
              "      <th>0</th>\n",
              "      <td>C1072</td>\n",
              "      <td>754</td>\n",
              "      <td>아파트</td>\n",
              "      <td>경기도</td>\n",
              "      <td>국민임대</td>\n",
              "      <td>39.79</td>\n",
              "      <td>116</td>\n",
              "      <td>14.0</td>\n",
              "      <td>H</td>\n",
              "      <td>22830000</td>\n",
              "      <td>189840</td>\n",
              "      <td>0.0</td>\n",
              "      <td>2.0</td>\n",
              "      <td>683.0</td>\n",
              "    </tr>\n",
              "  </tbody>\n",
              "</table>\n",
              "</div>\n",
              "      <button class=\"colab-df-convert\" onclick=\"convertToInteractive('df-37d24da5-8519-411b-973b-deec9bdd6c5e')\"\n",
              "              title=\"Convert this dataframe to an interactive table.\"\n",
              "              style=\"display:none;\">\n",
              "        \n",
              "  <svg xmlns=\"http://www.w3.org/2000/svg\" height=\"24px\"viewBox=\"0 0 24 24\"\n",
              "       width=\"24px\">\n",
              "    <path d=\"M0 0h24v24H0V0z\" fill=\"none\"/>\n",
              "    <path d=\"M18.56 5.44l.94 2.06.94-2.06 2.06-.94-2.06-.94-.94-2.06-.94 2.06-2.06.94zm-11 1L8.5 8.5l.94-2.06 2.06-.94-2.06-.94L8.5 2.5l-.94 2.06-2.06.94zm10 10l.94 2.06.94-2.06 2.06-.94-2.06-.94-.94-2.06-.94 2.06-2.06.94z\"/><path d=\"M17.41 7.96l-1.37-1.37c-.4-.4-.92-.59-1.43-.59-.52 0-1.04.2-1.43.59L10.3 9.45l-7.72 7.72c-.78.78-.78 2.05 0 2.83L4 21.41c.39.39.9.59 1.41.59.51 0 1.02-.2 1.41-.59l7.78-7.78 2.81-2.81c.8-.78.8-2.07 0-2.86zM5.41 20L4 18.59l7.72-7.72 1.47 1.35L5.41 20z\"/>\n",
              "  </svg>\n",
              "      </button>\n",
              "      \n",
              "  <style>\n",
              "    .colab-df-container {\n",
              "      display:flex;\n",
              "      flex-wrap:wrap;\n",
              "      gap: 12px;\n",
              "    }\n",
              "\n",
              "    .colab-df-convert {\n",
              "      background-color: #E8F0FE;\n",
              "      border: none;\n",
              "      border-radius: 50%;\n",
              "      cursor: pointer;\n",
              "      display: none;\n",
              "      fill: #1967D2;\n",
              "      height: 32px;\n",
              "      padding: 0 0 0 0;\n",
              "      width: 32px;\n",
              "    }\n",
              "\n",
              "    .colab-df-convert:hover {\n",
              "      background-color: #E2EBFA;\n",
              "      box-shadow: 0px 1px 2px rgba(60, 64, 67, 0.3), 0px 1px 3px 1px rgba(60, 64, 67, 0.15);\n",
              "      fill: #174EA6;\n",
              "    }\n",
              "\n",
              "    [theme=dark] .colab-df-convert {\n",
              "      background-color: #3B4455;\n",
              "      fill: #D2E3FC;\n",
              "    }\n",
              "\n",
              "    [theme=dark] .colab-df-convert:hover {\n",
              "      background-color: #434B5C;\n",
              "      box-shadow: 0px 1px 3px 1px rgba(0, 0, 0, 0.15);\n",
              "      filter: drop-shadow(0px 1px 2px rgba(0, 0, 0, 0.3));\n",
              "      fill: #FFFFFF;\n",
              "    }\n",
              "  </style>\n",
              "\n",
              "      <script>\n",
              "        const buttonEl =\n",
              "          document.querySelector('#df-37d24da5-8519-411b-973b-deec9bdd6c5e button.colab-df-convert');\n",
              "        buttonEl.style.display =\n",
              "          google.colab.kernel.accessAllowed ? 'block' : 'none';\n",
              "\n",
              "        async function convertToInteractive(key) {\n",
              "          const element = document.querySelector('#df-37d24da5-8519-411b-973b-deec9bdd6c5e');\n",
              "          const dataTable =\n",
              "            await google.colab.kernel.invokeFunction('convertToInteractive',\n",
              "                                                     [key], {});\n",
              "          if (!dataTable) return;\n",
              "\n",
              "          const docLinkHtml = 'Like what you see? Visit the ' +\n",
              "            '<a target=\"_blank\" href=https://colab.research.google.com/notebooks/data_table.ipynb>data table notebook</a>'\n",
              "            + ' to learn more about interactive tables.';\n",
              "          element.innerHTML = '';\n",
              "          dataTable['output_type'] = 'display_data';\n",
              "          await google.colab.output.renderOutput(dataTable, element);\n",
              "          const docLink = document.createElement('div');\n",
              "          docLink.innerHTML = docLinkHtml;\n",
              "          element.appendChild(docLink);\n",
              "        }\n",
              "      </script>\n",
              "    </div>\n",
              "  </div>\n",
              "  "
            ],
            "text/plain": [
              "    단지코드  총세대수  ... 도보 10분거리 내 버스정류장 수 단지내주차면수\n",
              "0  C1072   754  ...                2.0   683.0\n",
              "\n",
              "[1 rows x 14 columns]"
            ]
          },
          "metadata": {},
          "execution_count": 7
        }
      ]
    },
    {
      "cell_type": "markdown",
      "source": [
        "컬럼 '등록차량수'가 예측하고자 하는 값이다."
      ],
      "metadata": {
        "id": "zglnu3S0t9YI"
      }
    },
    {
      "cell_type": "code",
      "source": [
        "train_data_count = len(train_df)\n",
        "test_data_count = len(test_df)\n",
        "\n",
        "print(train_data_count, test_data_count)"
      ],
      "metadata": {
        "colab": {
          "base_uri": "https://localhost:8080/"
        },
        "id": "TaCL1ywm96Hr",
        "outputId": "c1829d64-a87f-4049-98e5-2ae7c37b123e"
      },
      "execution_count": null,
      "outputs": [
        {
          "output_type": "stream",
          "name": "stdout",
          "text": [
            "2952 1022\n"
          ]
        }
      ]
    },
    {
      "cell_type": "markdown",
      "source": [
        "# 데이터 합치기\n",
        "\n",
        "test_df에 '등록차량수' 컬럼을 만들고 합친다."
      ],
      "metadata": {
        "id": "QekfghAQ2kT5"
      }
    },
    {
      "cell_type": "code",
      "source": [
        "train_df[train_df.등록차량수==0].sum()"
      ],
      "metadata": {
        "colab": {
          "base_uri": "https://localhost:8080/"
        },
        "id": "uO9RqXk22ph2",
        "outputId": "8e52013a-e09d-48d6-a156-b5812fb1ddc0"
      },
      "execution_count": null,
      "outputs": [
        {
          "output_type": "execute_result",
          "data": {
            "text/plain": [
              "단지코드                            0.0\n",
              "총세대수                            0.0\n",
              "임대건물구분                          0.0\n",
              "지역                              0.0\n",
              "공급유형                            0.0\n",
              "전용면적                            0.0\n",
              "전용면적별세대수                        0.0\n",
              "공가수                             0.0\n",
              "자격유형                            0.0\n",
              "임대보증금                           0.0\n",
              "임대료                             0.0\n",
              "도보 10분거리 내 지하철역 수(환승노선 수 반영)    0.0\n",
              "도보 10분거리 내 버스정류장 수              0.0\n",
              "단지내주차면수                         0.0\n",
              "등록차량수                           0.0\n",
              "dtype: float64"
            ]
          },
          "metadata": {},
          "execution_count": 9
        }
      ]
    },
    {
      "cell_type": "markdown",
      "source": [
        "test_df에 컬럼 '등록차량수'를 추가하면서 값을 -1로 한다.\n",
        "\n",
        "train_df에 0 값은 없는 것을 확인했다."
      ],
      "metadata": {
        "id": "XONCKJP_3Qgd"
      }
    },
    {
      "cell_type": "code",
      "source": [
        "test_df['등록차량수'] = 0"
      ],
      "metadata": {
        "id": "qfc5TL4Z2pkz"
      },
      "execution_count": null,
      "outputs": []
    },
    {
      "cell_type": "code",
      "source": [
        "print(len(train_df), len(test_df))\n",
        "df = train_df.append(test_df)\n",
        "print(len(df))"
      ],
      "metadata": {
        "colab": {
          "base_uri": "https://localhost:8080/"
        },
        "id": "3MpAEgqE22Rl",
        "outputId": "e0f78f1f-c031-4dd2-b71e-05a29c05cb03"
      },
      "execution_count": null,
      "outputs": [
        {
          "output_type": "stream",
          "name": "stdout",
          "text": [
            "2952 1022\n",
            "3974\n"
          ]
        }
      ]
    },
    {
      "cell_type": "markdown",
      "source": [
        "# 이리저리 살펴보기"
      ],
      "metadata": {
        "id": "OXvYuM8RlV2e"
      }
    },
    {
      "cell_type": "code",
      "source": [
        "df.head()"
      ],
      "metadata": {
        "colab": {
          "base_uri": "https://localhost:8080/",
          "height": 666
        },
        "id": "Eno6JUMgld3T",
        "outputId": "28dc3152-389a-402f-e533-23e14ca624d6"
      },
      "execution_count": null,
      "outputs": [
        {
          "output_type": "execute_result",
          "data": {
            "text/html": [
              "\n",
              "  <div id=\"df-002b0221-e84d-41a9-86a2-0347144da1a3\">\n",
              "    <div class=\"colab-df-container\">\n",
              "      <div>\n",
              "<style scoped>\n",
              "    .dataframe tbody tr th:only-of-type {\n",
              "        vertical-align: middle;\n",
              "    }\n",
              "\n",
              "    .dataframe tbody tr th {\n",
              "        vertical-align: top;\n",
              "    }\n",
              "\n",
              "    .dataframe thead th {\n",
              "        text-align: right;\n",
              "    }\n",
              "</style>\n",
              "<table border=\"1\" class=\"dataframe\">\n",
              "  <thead>\n",
              "    <tr style=\"text-align: right;\">\n",
              "      <th></th>\n",
              "      <th>단지코드</th>\n",
              "      <th>총세대수</th>\n",
              "      <th>임대건물구분</th>\n",
              "      <th>지역</th>\n",
              "      <th>공급유형</th>\n",
              "      <th>전용면적</th>\n",
              "      <th>전용면적별세대수</th>\n",
              "      <th>공가수</th>\n",
              "      <th>자격유형</th>\n",
              "      <th>임대보증금</th>\n",
              "      <th>임대료</th>\n",
              "      <th>도보 10분거리 내 지하철역 수(환승노선 수 반영)</th>\n",
              "      <th>도보 10분거리 내 버스정류장 수</th>\n",
              "      <th>단지내주차면수</th>\n",
              "      <th>등록차량수</th>\n",
              "    </tr>\n",
              "  </thead>\n",
              "  <tbody>\n",
              "    <tr>\n",
              "      <th>0</th>\n",
              "      <td>C2483</td>\n",
              "      <td>900</td>\n",
              "      <td>아파트</td>\n",
              "      <td>경상북도</td>\n",
              "      <td>국민임대</td>\n",
              "      <td>39.72</td>\n",
              "      <td>134</td>\n",
              "      <td>38.0</td>\n",
              "      <td>A</td>\n",
              "      <td>15667000</td>\n",
              "      <td>103680</td>\n",
              "      <td>0.0</td>\n",
              "      <td>3.0</td>\n",
              "      <td>1425.0</td>\n",
              "      <td>1015.0</td>\n",
              "    </tr>\n",
              "    <tr>\n",
              "      <th>1</th>\n",
              "      <td>C2483</td>\n",
              "      <td>900</td>\n",
              "      <td>아파트</td>\n",
              "      <td>경상북도</td>\n",
              "      <td>국민임대</td>\n",
              "      <td>39.72</td>\n",
              "      <td>15</td>\n",
              "      <td>38.0</td>\n",
              "      <td>A</td>\n",
              "      <td>15667000</td>\n",
              "      <td>103680</td>\n",
              "      <td>0.0</td>\n",
              "      <td>3.0</td>\n",
              "      <td>1425.0</td>\n",
              "      <td>1015.0</td>\n",
              "    </tr>\n",
              "    <tr>\n",
              "      <th>2</th>\n",
              "      <td>C2483</td>\n",
              "      <td>900</td>\n",
              "      <td>아파트</td>\n",
              "      <td>경상북도</td>\n",
              "      <td>국민임대</td>\n",
              "      <td>51.93</td>\n",
              "      <td>385</td>\n",
              "      <td>38.0</td>\n",
              "      <td>A</td>\n",
              "      <td>27304000</td>\n",
              "      <td>184330</td>\n",
              "      <td>0.0</td>\n",
              "      <td>3.0</td>\n",
              "      <td>1425.0</td>\n",
              "      <td>1015.0</td>\n",
              "    </tr>\n",
              "    <tr>\n",
              "      <th>3</th>\n",
              "      <td>C2483</td>\n",
              "      <td>900</td>\n",
              "      <td>아파트</td>\n",
              "      <td>경상북도</td>\n",
              "      <td>국민임대</td>\n",
              "      <td>51.93</td>\n",
              "      <td>15</td>\n",
              "      <td>38.0</td>\n",
              "      <td>A</td>\n",
              "      <td>27304000</td>\n",
              "      <td>184330</td>\n",
              "      <td>0.0</td>\n",
              "      <td>3.0</td>\n",
              "      <td>1425.0</td>\n",
              "      <td>1015.0</td>\n",
              "    </tr>\n",
              "    <tr>\n",
              "      <th>4</th>\n",
              "      <td>C2483</td>\n",
              "      <td>900</td>\n",
              "      <td>아파트</td>\n",
              "      <td>경상북도</td>\n",
              "      <td>국민임대</td>\n",
              "      <td>51.93</td>\n",
              "      <td>41</td>\n",
              "      <td>38.0</td>\n",
              "      <td>A</td>\n",
              "      <td>27304000</td>\n",
              "      <td>184330</td>\n",
              "      <td>0.0</td>\n",
              "      <td>3.0</td>\n",
              "      <td>1425.0</td>\n",
              "      <td>1015.0</td>\n",
              "    </tr>\n",
              "  </tbody>\n",
              "</table>\n",
              "</div>\n",
              "      <button class=\"colab-df-convert\" onclick=\"convertToInteractive('df-002b0221-e84d-41a9-86a2-0347144da1a3')\"\n",
              "              title=\"Convert this dataframe to an interactive table.\"\n",
              "              style=\"display:none;\">\n",
              "        \n",
              "  <svg xmlns=\"http://www.w3.org/2000/svg\" height=\"24px\"viewBox=\"0 0 24 24\"\n",
              "       width=\"24px\">\n",
              "    <path d=\"M0 0h24v24H0V0z\" fill=\"none\"/>\n",
              "    <path d=\"M18.56 5.44l.94 2.06.94-2.06 2.06-.94-2.06-.94-.94-2.06-.94 2.06-2.06.94zm-11 1L8.5 8.5l.94-2.06 2.06-.94-2.06-.94L8.5 2.5l-.94 2.06-2.06.94zm10 10l.94 2.06.94-2.06 2.06-.94-2.06-.94-.94-2.06-.94 2.06-2.06.94z\"/><path d=\"M17.41 7.96l-1.37-1.37c-.4-.4-.92-.59-1.43-.59-.52 0-1.04.2-1.43.59L10.3 9.45l-7.72 7.72c-.78.78-.78 2.05 0 2.83L4 21.41c.39.39.9.59 1.41.59.51 0 1.02-.2 1.41-.59l7.78-7.78 2.81-2.81c.8-.78.8-2.07 0-2.86zM5.41 20L4 18.59l7.72-7.72 1.47 1.35L5.41 20z\"/>\n",
              "  </svg>\n",
              "      </button>\n",
              "      \n",
              "  <style>\n",
              "    .colab-df-container {\n",
              "      display:flex;\n",
              "      flex-wrap:wrap;\n",
              "      gap: 12px;\n",
              "    }\n",
              "\n",
              "    .colab-df-convert {\n",
              "      background-color: #E8F0FE;\n",
              "      border: none;\n",
              "      border-radius: 50%;\n",
              "      cursor: pointer;\n",
              "      display: none;\n",
              "      fill: #1967D2;\n",
              "      height: 32px;\n",
              "      padding: 0 0 0 0;\n",
              "      width: 32px;\n",
              "    }\n",
              "\n",
              "    .colab-df-convert:hover {\n",
              "      background-color: #E2EBFA;\n",
              "      box-shadow: 0px 1px 2px rgba(60, 64, 67, 0.3), 0px 1px 3px 1px rgba(60, 64, 67, 0.15);\n",
              "      fill: #174EA6;\n",
              "    }\n",
              "\n",
              "    [theme=dark] .colab-df-convert {\n",
              "      background-color: #3B4455;\n",
              "      fill: #D2E3FC;\n",
              "    }\n",
              "\n",
              "    [theme=dark] .colab-df-convert:hover {\n",
              "      background-color: #434B5C;\n",
              "      box-shadow: 0px 1px 3px 1px rgba(0, 0, 0, 0.15);\n",
              "      filter: drop-shadow(0px 1px 2px rgba(0, 0, 0, 0.3));\n",
              "      fill: #FFFFFF;\n",
              "    }\n",
              "  </style>\n",
              "\n",
              "      <script>\n",
              "        const buttonEl =\n",
              "          document.querySelector('#df-002b0221-e84d-41a9-86a2-0347144da1a3 button.colab-df-convert');\n",
              "        buttonEl.style.display =\n",
              "          google.colab.kernel.accessAllowed ? 'block' : 'none';\n",
              "\n",
              "        async function convertToInteractive(key) {\n",
              "          const element = document.querySelector('#df-002b0221-e84d-41a9-86a2-0347144da1a3');\n",
              "          const dataTable =\n",
              "            await google.colab.kernel.invokeFunction('convertToInteractive',\n",
              "                                                     [key], {});\n",
              "          if (!dataTable) return;\n",
              "\n",
              "          const docLinkHtml = 'Like what you see? Visit the ' +\n",
              "            '<a target=\"_blank\" href=https://colab.research.google.com/notebooks/data_table.ipynb>data table notebook</a>'\n",
              "            + ' to learn more about interactive tables.';\n",
              "          element.innerHTML = '';\n",
              "          dataTable['output_type'] = 'display_data';\n",
              "          await google.colab.output.renderOutput(dataTable, element);\n",
              "          const docLink = document.createElement('div');\n",
              "          docLink.innerHTML = docLinkHtml;\n",
              "          element.appendChild(docLink);\n",
              "        }\n",
              "      </script>\n",
              "    </div>\n",
              "  </div>\n",
              "  "
            ],
            "text/plain": [
              "    단지코드  총세대수 임대건물구분  ... 도보 10분거리 내 버스정류장 수 단지내주차면수   등록차량수\n",
              "0  C2483   900    아파트  ...                3.0  1425.0  1015.0\n",
              "1  C2483   900    아파트  ...                3.0  1425.0  1015.0\n",
              "2  C2483   900    아파트  ...                3.0  1425.0  1015.0\n",
              "3  C2483   900    아파트  ...                3.0  1425.0  1015.0\n",
              "4  C2483   900    아파트  ...                3.0  1425.0  1015.0\n",
              "\n",
              "[5 rows x 15 columns]"
            ]
          },
          "metadata": {},
          "execution_count": 12
        }
      ]
    },
    {
      "cell_type": "code",
      "source": [
        ""
      ],
      "metadata": {
        "id": "THQ568KZuPI5"
      },
      "execution_count": null,
      "outputs": []
    },
    {
      "cell_type": "code",
      "source": [
        ""
      ],
      "metadata": {
        "id": "dskNg1PsuPGL"
      },
      "execution_count": null,
      "outputs": []
    },
    {
      "cell_type": "code",
      "source": [
        ""
      ],
      "metadata": {
        "id": "h3ONZjccuPDb"
      },
      "execution_count": null,
      "outputs": []
    },
    {
      "cell_type": "code",
      "source": [
        "df['임대건물구분'].value_counts()"
      ],
      "metadata": {
        "colab": {
          "base_uri": "https://localhost:8080/"
        },
        "id": "3EVqCi31lXx9",
        "outputId": "587c1b45-b1a0-437f-af58-4651ba28f80e"
      },
      "execution_count": null,
      "outputs": [
        {
          "output_type": "execute_result",
          "data": {
            "text/plain": [
              "아파트    3235\n",
              "상가      739\n",
              "Name: 임대건물구분, dtype: int64"
            ]
          },
          "metadata": {},
          "execution_count": 13
        }
      ]
    },
    {
      "cell_type": "code",
      "source": [
        "df['지역'].value_counts()"
      ],
      "metadata": {
        "colab": {
          "base_uri": "https://localhost:8080/"
        },
        "id": "xDrxNAufllVE",
        "outputId": "5f52641d-84dc-41ac-a51d-3f03163ab062"
      },
      "execution_count": null,
      "outputs": [
        {
          "output_type": "execute_result",
          "data": {
            "text/plain": [
              "경기도        880\n",
              "경상남도       454\n",
              "부산광역시      416\n",
              "대전광역시      322\n",
              "강원도        293\n",
              "충청북도       214\n",
              "충청남도       199\n",
              "전라남도       188\n",
              "광주광역시      187\n",
              "경상북도       177\n",
              "전라북도       150\n",
              "대구광역시      138\n",
              "제주특별자치도    117\n",
              "울산광역시      109\n",
              "세종특별자치시     66\n",
              "서울특별시       64\n",
              "Name: 지역, dtype: int64"
            ]
          },
          "metadata": {},
          "execution_count": 14
        }
      ]
    },
    {
      "cell_type": "code",
      "source": [
        "df['공급유형'].value_counts()"
      ],
      "metadata": {
        "colab": {
          "base_uri": "https://localhost:8080/"
        },
        "id": "qrUryPI-lg18",
        "outputId": "1da6167b-457f-4468-802c-da900739ba2c"
      },
      "execution_count": null,
      "outputs": [
        {
          "output_type": "execute_result",
          "data": {
            "text/plain": [
              "국민임대         2380\n",
              "임대상가          739\n",
              "행복주택          337\n",
              "공공임대(10년)     240\n",
              "영구임대          197\n",
              "공공임대(50년)      44\n",
              "공공임대(분납)       18\n",
              "장기전세            9\n",
              "공공분양            7\n",
              "공공임대(5년)        3\n",
              "Name: 공급유형, dtype: int64"
            ]
          },
          "metadata": {},
          "execution_count": 15
        }
      ]
    },
    {
      "cell_type": "code",
      "source": [
        "df['자격유형'].value_counts()"
      ],
      "metadata": {
        "colab": {
          "base_uri": "https://localhost:8080/"
        },
        "id": "15awC02Fl06f",
        "outputId": "79e82a1c-e7e6-431c-c59a-073f66b72d6b"
      },
      "execution_count": null,
      "outputs": [
        {
          "output_type": "execute_result",
          "data": {
            "text/plain": [
              "A    2373\n",
              "D     749\n",
              "H     247\n",
              "J     198\n",
              "C     129\n",
              "I      56\n",
              "K      49\n",
              "E      47\n",
              "L      45\n",
              "N      40\n",
              "B      21\n",
              "G      10\n",
              "M       4\n",
              "F       3\n",
              "O       1\n",
              "Name: 자격유형, dtype: int64"
            ]
          },
          "metadata": {},
          "execution_count": 16
        }
      ]
    },
    {
      "cell_type": "code",
      "source": [
        "df['전용면적'].value_counts()"
      ],
      "metadata": {
        "colab": {
          "base_uri": "https://localhost:8080/"
        },
        "id": "ebXh2_oFl02E",
        "outputId": "7345c9dc-c779-4827-d7c4-bd31b4897390"
      },
      "execution_count": null,
      "outputs": [
        {
          "output_type": "execute_result",
          "data": {
            "text/plain": [
              "46.90    287\n",
              "51.93    170\n",
              "31.84    108\n",
              "39.72     66\n",
              "26.37     59\n",
              "        ... \n",
              "47.00      1\n",
              "36.32      1\n",
              "55.83      1\n",
              "23.80      1\n",
              "72.82      1\n",
              "Name: 전용면적, Length: 798, dtype: int64"
            ]
          },
          "metadata": {},
          "execution_count": 17
        }
      ]
    },
    {
      "cell_type": "markdown",
      "source": [
        "# 전용면적 처리\n",
        "\n",
        "정수화 하고, 큰값 제약 둔다."
      ],
      "metadata": {
        "id": "QZJS7-z6sUDp"
      }
    },
    {
      "cell_type": "code",
      "source": [
        "df['전용면적'] = (df['전용면적']/10).astype('int')*10\n",
        "df.head()"
      ],
      "metadata": {
        "colab": {
          "base_uri": "https://localhost:8080/",
          "height": 649
        },
        "id": "nExxe2cPsWlS",
        "outputId": "91581e0a-b213-4c32-d66a-0fb8e677ed88"
      },
      "execution_count": null,
      "outputs": [
        {
          "output_type": "execute_result",
          "data": {
            "text/html": [
              "\n",
              "  <div id=\"df-2439d8b4-2d59-40a6-8487-b51f0c8bf7ca\">\n",
              "    <div class=\"colab-df-container\">\n",
              "      <div>\n",
              "<style scoped>\n",
              "    .dataframe tbody tr th:only-of-type {\n",
              "        vertical-align: middle;\n",
              "    }\n",
              "\n",
              "    .dataframe tbody tr th {\n",
              "        vertical-align: top;\n",
              "    }\n",
              "\n",
              "    .dataframe thead th {\n",
              "        text-align: right;\n",
              "    }\n",
              "</style>\n",
              "<table border=\"1\" class=\"dataframe\">\n",
              "  <thead>\n",
              "    <tr style=\"text-align: right;\">\n",
              "      <th></th>\n",
              "      <th>단지코드</th>\n",
              "      <th>총세대수</th>\n",
              "      <th>임대건물구분</th>\n",
              "      <th>지역</th>\n",
              "      <th>공급유형</th>\n",
              "      <th>전용면적</th>\n",
              "      <th>전용면적별세대수</th>\n",
              "      <th>공가수</th>\n",
              "      <th>자격유형</th>\n",
              "      <th>임대보증금</th>\n",
              "      <th>임대료</th>\n",
              "      <th>도보 10분거리 내 지하철역 수(환승노선 수 반영)</th>\n",
              "      <th>도보 10분거리 내 버스정류장 수</th>\n",
              "      <th>단지내주차면수</th>\n",
              "      <th>등록차량수</th>\n",
              "    </tr>\n",
              "  </thead>\n",
              "  <tbody>\n",
              "    <tr>\n",
              "      <th>0</th>\n",
              "      <td>C2483</td>\n",
              "      <td>900</td>\n",
              "      <td>아파트</td>\n",
              "      <td>경상북도</td>\n",
              "      <td>국민임대</td>\n",
              "      <td>30</td>\n",
              "      <td>134</td>\n",
              "      <td>38.0</td>\n",
              "      <td>A</td>\n",
              "      <td>15667000</td>\n",
              "      <td>103680</td>\n",
              "      <td>0.0</td>\n",
              "      <td>3.0</td>\n",
              "      <td>1425.0</td>\n",
              "      <td>1015.0</td>\n",
              "    </tr>\n",
              "    <tr>\n",
              "      <th>1</th>\n",
              "      <td>C2483</td>\n",
              "      <td>900</td>\n",
              "      <td>아파트</td>\n",
              "      <td>경상북도</td>\n",
              "      <td>국민임대</td>\n",
              "      <td>30</td>\n",
              "      <td>15</td>\n",
              "      <td>38.0</td>\n",
              "      <td>A</td>\n",
              "      <td>15667000</td>\n",
              "      <td>103680</td>\n",
              "      <td>0.0</td>\n",
              "      <td>3.0</td>\n",
              "      <td>1425.0</td>\n",
              "      <td>1015.0</td>\n",
              "    </tr>\n",
              "    <tr>\n",
              "      <th>2</th>\n",
              "      <td>C2483</td>\n",
              "      <td>900</td>\n",
              "      <td>아파트</td>\n",
              "      <td>경상북도</td>\n",
              "      <td>국민임대</td>\n",
              "      <td>50</td>\n",
              "      <td>385</td>\n",
              "      <td>38.0</td>\n",
              "      <td>A</td>\n",
              "      <td>27304000</td>\n",
              "      <td>184330</td>\n",
              "      <td>0.0</td>\n",
              "      <td>3.0</td>\n",
              "      <td>1425.0</td>\n",
              "      <td>1015.0</td>\n",
              "    </tr>\n",
              "    <tr>\n",
              "      <th>3</th>\n",
              "      <td>C2483</td>\n",
              "      <td>900</td>\n",
              "      <td>아파트</td>\n",
              "      <td>경상북도</td>\n",
              "      <td>국민임대</td>\n",
              "      <td>50</td>\n",
              "      <td>15</td>\n",
              "      <td>38.0</td>\n",
              "      <td>A</td>\n",
              "      <td>27304000</td>\n",
              "      <td>184330</td>\n",
              "      <td>0.0</td>\n",
              "      <td>3.0</td>\n",
              "      <td>1425.0</td>\n",
              "      <td>1015.0</td>\n",
              "    </tr>\n",
              "    <tr>\n",
              "      <th>4</th>\n",
              "      <td>C2483</td>\n",
              "      <td>900</td>\n",
              "      <td>아파트</td>\n",
              "      <td>경상북도</td>\n",
              "      <td>국민임대</td>\n",
              "      <td>50</td>\n",
              "      <td>41</td>\n",
              "      <td>38.0</td>\n",
              "      <td>A</td>\n",
              "      <td>27304000</td>\n",
              "      <td>184330</td>\n",
              "      <td>0.0</td>\n",
              "      <td>3.0</td>\n",
              "      <td>1425.0</td>\n",
              "      <td>1015.0</td>\n",
              "    </tr>\n",
              "  </tbody>\n",
              "</table>\n",
              "</div>\n",
              "      <button class=\"colab-df-convert\" onclick=\"convertToInteractive('df-2439d8b4-2d59-40a6-8487-b51f0c8bf7ca')\"\n",
              "              title=\"Convert this dataframe to an interactive table.\"\n",
              "              style=\"display:none;\">\n",
              "        \n",
              "  <svg xmlns=\"http://www.w3.org/2000/svg\" height=\"24px\"viewBox=\"0 0 24 24\"\n",
              "       width=\"24px\">\n",
              "    <path d=\"M0 0h24v24H0V0z\" fill=\"none\"/>\n",
              "    <path d=\"M18.56 5.44l.94 2.06.94-2.06 2.06-.94-2.06-.94-.94-2.06-.94 2.06-2.06.94zm-11 1L8.5 8.5l.94-2.06 2.06-.94-2.06-.94L8.5 2.5l-.94 2.06-2.06.94zm10 10l.94 2.06.94-2.06 2.06-.94-2.06-.94-.94-2.06-.94 2.06-2.06.94z\"/><path d=\"M17.41 7.96l-1.37-1.37c-.4-.4-.92-.59-1.43-.59-.52 0-1.04.2-1.43.59L10.3 9.45l-7.72 7.72c-.78.78-.78 2.05 0 2.83L4 21.41c.39.39.9.59 1.41.59.51 0 1.02-.2 1.41-.59l7.78-7.78 2.81-2.81c.8-.78.8-2.07 0-2.86zM5.41 20L4 18.59l7.72-7.72 1.47 1.35L5.41 20z\"/>\n",
              "  </svg>\n",
              "      </button>\n",
              "      \n",
              "  <style>\n",
              "    .colab-df-container {\n",
              "      display:flex;\n",
              "      flex-wrap:wrap;\n",
              "      gap: 12px;\n",
              "    }\n",
              "\n",
              "    .colab-df-convert {\n",
              "      background-color: #E8F0FE;\n",
              "      border: none;\n",
              "      border-radius: 50%;\n",
              "      cursor: pointer;\n",
              "      display: none;\n",
              "      fill: #1967D2;\n",
              "      height: 32px;\n",
              "      padding: 0 0 0 0;\n",
              "      width: 32px;\n",
              "    }\n",
              "\n",
              "    .colab-df-convert:hover {\n",
              "      background-color: #E2EBFA;\n",
              "      box-shadow: 0px 1px 2px rgba(60, 64, 67, 0.3), 0px 1px 3px 1px rgba(60, 64, 67, 0.15);\n",
              "      fill: #174EA6;\n",
              "    }\n",
              "\n",
              "    [theme=dark] .colab-df-convert {\n",
              "      background-color: #3B4455;\n",
              "      fill: #D2E3FC;\n",
              "    }\n",
              "\n",
              "    [theme=dark] .colab-df-convert:hover {\n",
              "      background-color: #434B5C;\n",
              "      box-shadow: 0px 1px 3px 1px rgba(0, 0, 0, 0.15);\n",
              "      filter: drop-shadow(0px 1px 2px rgba(0, 0, 0, 0.3));\n",
              "      fill: #FFFFFF;\n",
              "    }\n",
              "  </style>\n",
              "\n",
              "      <script>\n",
              "        const buttonEl =\n",
              "          document.querySelector('#df-2439d8b4-2d59-40a6-8487-b51f0c8bf7ca button.colab-df-convert');\n",
              "        buttonEl.style.display =\n",
              "          google.colab.kernel.accessAllowed ? 'block' : 'none';\n",
              "\n",
              "        async function convertToInteractive(key) {\n",
              "          const element = document.querySelector('#df-2439d8b4-2d59-40a6-8487-b51f0c8bf7ca');\n",
              "          const dataTable =\n",
              "            await google.colab.kernel.invokeFunction('convertToInteractive',\n",
              "                                                     [key], {});\n",
              "          if (!dataTable) return;\n",
              "\n",
              "          const docLinkHtml = 'Like what you see? Visit the ' +\n",
              "            '<a target=\"_blank\" href=https://colab.research.google.com/notebooks/data_table.ipynb>data table notebook</a>'\n",
              "            + ' to learn more about interactive tables.';\n",
              "          element.innerHTML = '';\n",
              "          dataTable['output_type'] = 'display_data';\n",
              "          await google.colab.output.renderOutput(dataTable, element);\n",
              "          const docLink = document.createElement('div');\n",
              "          docLink.innerHTML = docLinkHtml;\n",
              "          element.appendChild(docLink);\n",
              "        }\n",
              "      </script>\n",
              "    </div>\n",
              "  </div>\n",
              "  "
            ],
            "text/plain": [
              "    단지코드  총세대수 임대건물구분  ... 도보 10분거리 내 버스정류장 수 단지내주차면수   등록차량수\n",
              "0  C2483   900    아파트  ...                3.0  1425.0  1015.0\n",
              "1  C2483   900    아파트  ...                3.0  1425.0  1015.0\n",
              "2  C2483   900    아파트  ...                3.0  1425.0  1015.0\n",
              "3  C2483   900    아파트  ...                3.0  1425.0  1015.0\n",
              "4  C2483   900    아파트  ...                3.0  1425.0  1015.0\n",
              "\n",
              "[5 rows x 15 columns]"
            ]
          },
          "metadata": {},
          "execution_count": 18
        }
      ]
    },
    {
      "cell_type": "code",
      "source": [
        "df['전용면적'].value_counts()"
      ],
      "metadata": {
        "colab": {
          "base_uri": "https://localhost:8080/"
        },
        "id": "KVqa6HRKuXBD",
        "outputId": "5e9dec59-5de1-40b0-ebba-dc1d1f60ca92"
      },
      "execution_count": null,
      "outputs": [
        {
          "output_type": "execute_result",
          "data": {
            "text/plain": [
              "30     1243\n",
              "40      910\n",
              "50      795\n",
              "20      672\n",
              "10      132\n",
              "80       95\n",
              "70       70\n",
              "60       19\n",
              "240      11\n",
              "580       7\n",
              "400       7\n",
              "120       5\n",
              "130       4\n",
              "100       1\n",
              "250       1\n",
              "310       1\n",
              "0         1\n",
              "Name: 전용면적, dtype: int64"
            ]
          },
          "metadata": {},
          "execution_count": 19
        }
      ]
    },
    {
      "cell_type": "code",
      "source": [
        "df.loc[df['전용면적']>60, '전용면적'] = 60"
      ],
      "metadata": {
        "id": "8utm_VrNurtA"
      },
      "execution_count": null,
      "outputs": []
    },
    {
      "cell_type": "code",
      "source": [
        "df['전용면적'].value_counts()"
      ],
      "metadata": {
        "colab": {
          "base_uri": "https://localhost:8080/"
        },
        "id": "cH8MUh6zu1Eq",
        "outputId": "6c8b88d8-1313-4eb4-b25b-0219e21aa8a8"
      },
      "execution_count": null,
      "outputs": [
        {
          "output_type": "execute_result",
          "data": {
            "text/plain": [
              "30    1243\n",
              "40     910\n",
              "50     795\n",
              "20     672\n",
              "60     221\n",
              "10     132\n",
              "0        1\n",
              "Name: 전용면적, dtype: int64"
            ]
          },
          "metadata": {},
          "execution_count": 21
        }
      ]
    },
    {
      "cell_type": "code",
      "source": [
        "df.loc[df['전용면적']==0, '전용면적'] = 10"
      ],
      "metadata": {
        "id": "rX252j5SvAER"
      },
      "execution_count": null,
      "outputs": []
    },
    {
      "cell_type": "code",
      "source": [
        "df['전용면적'].value_counts()"
      ],
      "metadata": {
        "colab": {
          "base_uri": "https://localhost:8080/"
        },
        "id": "JI5f7qBsvDOh",
        "outputId": "dcb70977-dfdf-4fe9-8067-3396384a19a8"
      },
      "execution_count": null,
      "outputs": [
        {
          "output_type": "execute_result",
          "data": {
            "text/plain": [
              "30    1243\n",
              "40     910\n",
              "50     795\n",
              "20     672\n",
              "60     221\n",
              "10     133\n",
              "Name: 전용면적, dtype: int64"
            ]
          },
          "metadata": {},
          "execution_count": 23
        }
      ]
    },
    {
      "cell_type": "markdown",
      "source": [
        "# 계속 살펴보기"
      ],
      "metadata": {
        "id": "6etzcQzbvHd7"
      }
    },
    {
      "cell_type": "code",
      "source": [
        "df['공급유형'].value_counts()"
      ],
      "metadata": {
        "colab": {
          "base_uri": "https://localhost:8080/"
        },
        "id": "xHl-mLmhl0dT",
        "outputId": "4228629e-6941-4eb0-8e8e-929ba5e94ed3"
      },
      "execution_count": null,
      "outputs": [
        {
          "output_type": "execute_result",
          "data": {
            "text/plain": [
              "국민임대         2380\n",
              "임대상가          739\n",
              "행복주택          337\n",
              "공공임대(10년)     240\n",
              "영구임대          197\n",
              "공공임대(50년)      44\n",
              "공공임대(분납)       18\n",
              "장기전세            9\n",
              "공공분양            7\n",
              "공공임대(5년)        3\n",
              "Name: 공급유형, dtype: int64"
            ]
          },
          "metadata": {},
          "execution_count": 24
        }
      ]
    },
    {
      "cell_type": "markdown",
      "source": [
        "# 결측치 처리"
      ],
      "metadata": {
        "id": "P4TbmwL-uIAM"
      }
    },
    {
      "cell_type": "code",
      "source": [
        "df.head()"
      ],
      "metadata": {
        "colab": {
          "base_uri": "https://localhost:8080/",
          "height": 649
        },
        "id": "55ptcynlvSO2",
        "outputId": "69ce7b78-7980-4ef7-fc38-38664a256297"
      },
      "execution_count": null,
      "outputs": [
        {
          "output_type": "execute_result",
          "data": {
            "text/html": [
              "\n",
              "  <div id=\"df-e7ad1cb4-092b-47d3-a0c0-60a79d3a889d\">\n",
              "    <div class=\"colab-df-container\">\n",
              "      <div>\n",
              "<style scoped>\n",
              "    .dataframe tbody tr th:only-of-type {\n",
              "        vertical-align: middle;\n",
              "    }\n",
              "\n",
              "    .dataframe tbody tr th {\n",
              "        vertical-align: top;\n",
              "    }\n",
              "\n",
              "    .dataframe thead th {\n",
              "        text-align: right;\n",
              "    }\n",
              "</style>\n",
              "<table border=\"1\" class=\"dataframe\">\n",
              "  <thead>\n",
              "    <tr style=\"text-align: right;\">\n",
              "      <th></th>\n",
              "      <th>단지코드</th>\n",
              "      <th>총세대수</th>\n",
              "      <th>임대건물구분</th>\n",
              "      <th>지역</th>\n",
              "      <th>공급유형</th>\n",
              "      <th>전용면적</th>\n",
              "      <th>전용면적별세대수</th>\n",
              "      <th>공가수</th>\n",
              "      <th>자격유형</th>\n",
              "      <th>임대보증금</th>\n",
              "      <th>임대료</th>\n",
              "      <th>도보 10분거리 내 지하철역 수(환승노선 수 반영)</th>\n",
              "      <th>도보 10분거리 내 버스정류장 수</th>\n",
              "      <th>단지내주차면수</th>\n",
              "      <th>등록차량수</th>\n",
              "    </tr>\n",
              "  </thead>\n",
              "  <tbody>\n",
              "    <tr>\n",
              "      <th>0</th>\n",
              "      <td>C2483</td>\n",
              "      <td>900</td>\n",
              "      <td>아파트</td>\n",
              "      <td>경상북도</td>\n",
              "      <td>국민임대</td>\n",
              "      <td>30</td>\n",
              "      <td>134</td>\n",
              "      <td>38.0</td>\n",
              "      <td>A</td>\n",
              "      <td>15667000</td>\n",
              "      <td>103680</td>\n",
              "      <td>0.0</td>\n",
              "      <td>3.0</td>\n",
              "      <td>1425.0</td>\n",
              "      <td>1015.0</td>\n",
              "    </tr>\n",
              "    <tr>\n",
              "      <th>1</th>\n",
              "      <td>C2483</td>\n",
              "      <td>900</td>\n",
              "      <td>아파트</td>\n",
              "      <td>경상북도</td>\n",
              "      <td>국민임대</td>\n",
              "      <td>30</td>\n",
              "      <td>15</td>\n",
              "      <td>38.0</td>\n",
              "      <td>A</td>\n",
              "      <td>15667000</td>\n",
              "      <td>103680</td>\n",
              "      <td>0.0</td>\n",
              "      <td>3.0</td>\n",
              "      <td>1425.0</td>\n",
              "      <td>1015.0</td>\n",
              "    </tr>\n",
              "    <tr>\n",
              "      <th>2</th>\n",
              "      <td>C2483</td>\n",
              "      <td>900</td>\n",
              "      <td>아파트</td>\n",
              "      <td>경상북도</td>\n",
              "      <td>국민임대</td>\n",
              "      <td>50</td>\n",
              "      <td>385</td>\n",
              "      <td>38.0</td>\n",
              "      <td>A</td>\n",
              "      <td>27304000</td>\n",
              "      <td>184330</td>\n",
              "      <td>0.0</td>\n",
              "      <td>3.0</td>\n",
              "      <td>1425.0</td>\n",
              "      <td>1015.0</td>\n",
              "    </tr>\n",
              "    <tr>\n",
              "      <th>3</th>\n",
              "      <td>C2483</td>\n",
              "      <td>900</td>\n",
              "      <td>아파트</td>\n",
              "      <td>경상북도</td>\n",
              "      <td>국민임대</td>\n",
              "      <td>50</td>\n",
              "      <td>15</td>\n",
              "      <td>38.0</td>\n",
              "      <td>A</td>\n",
              "      <td>27304000</td>\n",
              "      <td>184330</td>\n",
              "      <td>0.0</td>\n",
              "      <td>3.0</td>\n",
              "      <td>1425.0</td>\n",
              "      <td>1015.0</td>\n",
              "    </tr>\n",
              "    <tr>\n",
              "      <th>4</th>\n",
              "      <td>C2483</td>\n",
              "      <td>900</td>\n",
              "      <td>아파트</td>\n",
              "      <td>경상북도</td>\n",
              "      <td>국민임대</td>\n",
              "      <td>50</td>\n",
              "      <td>41</td>\n",
              "      <td>38.0</td>\n",
              "      <td>A</td>\n",
              "      <td>27304000</td>\n",
              "      <td>184330</td>\n",
              "      <td>0.0</td>\n",
              "      <td>3.0</td>\n",
              "      <td>1425.0</td>\n",
              "      <td>1015.0</td>\n",
              "    </tr>\n",
              "  </tbody>\n",
              "</table>\n",
              "</div>\n",
              "      <button class=\"colab-df-convert\" onclick=\"convertToInteractive('df-e7ad1cb4-092b-47d3-a0c0-60a79d3a889d')\"\n",
              "              title=\"Convert this dataframe to an interactive table.\"\n",
              "              style=\"display:none;\">\n",
              "        \n",
              "  <svg xmlns=\"http://www.w3.org/2000/svg\" height=\"24px\"viewBox=\"0 0 24 24\"\n",
              "       width=\"24px\">\n",
              "    <path d=\"M0 0h24v24H0V0z\" fill=\"none\"/>\n",
              "    <path d=\"M18.56 5.44l.94 2.06.94-2.06 2.06-.94-2.06-.94-.94-2.06-.94 2.06-2.06.94zm-11 1L8.5 8.5l.94-2.06 2.06-.94-2.06-.94L8.5 2.5l-.94 2.06-2.06.94zm10 10l.94 2.06.94-2.06 2.06-.94-2.06-.94-.94-2.06-.94 2.06-2.06.94z\"/><path d=\"M17.41 7.96l-1.37-1.37c-.4-.4-.92-.59-1.43-.59-.52 0-1.04.2-1.43.59L10.3 9.45l-7.72 7.72c-.78.78-.78 2.05 0 2.83L4 21.41c.39.39.9.59 1.41.59.51 0 1.02-.2 1.41-.59l7.78-7.78 2.81-2.81c.8-.78.8-2.07 0-2.86zM5.41 20L4 18.59l7.72-7.72 1.47 1.35L5.41 20z\"/>\n",
              "  </svg>\n",
              "      </button>\n",
              "      \n",
              "  <style>\n",
              "    .colab-df-container {\n",
              "      display:flex;\n",
              "      flex-wrap:wrap;\n",
              "      gap: 12px;\n",
              "    }\n",
              "\n",
              "    .colab-df-convert {\n",
              "      background-color: #E8F0FE;\n",
              "      border: none;\n",
              "      border-radius: 50%;\n",
              "      cursor: pointer;\n",
              "      display: none;\n",
              "      fill: #1967D2;\n",
              "      height: 32px;\n",
              "      padding: 0 0 0 0;\n",
              "      width: 32px;\n",
              "    }\n",
              "\n",
              "    .colab-df-convert:hover {\n",
              "      background-color: #E2EBFA;\n",
              "      box-shadow: 0px 1px 2px rgba(60, 64, 67, 0.3), 0px 1px 3px 1px rgba(60, 64, 67, 0.15);\n",
              "      fill: #174EA6;\n",
              "    }\n",
              "\n",
              "    [theme=dark] .colab-df-convert {\n",
              "      background-color: #3B4455;\n",
              "      fill: #D2E3FC;\n",
              "    }\n",
              "\n",
              "    [theme=dark] .colab-df-convert:hover {\n",
              "      background-color: #434B5C;\n",
              "      box-shadow: 0px 1px 3px 1px rgba(0, 0, 0, 0.15);\n",
              "      filter: drop-shadow(0px 1px 2px rgba(0, 0, 0, 0.3));\n",
              "      fill: #FFFFFF;\n",
              "    }\n",
              "  </style>\n",
              "\n",
              "      <script>\n",
              "        const buttonEl =\n",
              "          document.querySelector('#df-e7ad1cb4-092b-47d3-a0c0-60a79d3a889d button.colab-df-convert');\n",
              "        buttonEl.style.display =\n",
              "          google.colab.kernel.accessAllowed ? 'block' : 'none';\n",
              "\n",
              "        async function convertToInteractive(key) {\n",
              "          const element = document.querySelector('#df-e7ad1cb4-092b-47d3-a0c0-60a79d3a889d');\n",
              "          const dataTable =\n",
              "            await google.colab.kernel.invokeFunction('convertToInteractive',\n",
              "                                                     [key], {});\n",
              "          if (!dataTable) return;\n",
              "\n",
              "          const docLinkHtml = 'Like what you see? Visit the ' +\n",
              "            '<a target=\"_blank\" href=https://colab.research.google.com/notebooks/data_table.ipynb>data table notebook</a>'\n",
              "            + ' to learn more about interactive tables.';\n",
              "          element.innerHTML = '';\n",
              "          dataTable['output_type'] = 'display_data';\n",
              "          await google.colab.output.renderOutput(dataTable, element);\n",
              "          const docLink = document.createElement('div');\n",
              "          docLink.innerHTML = docLinkHtml;\n",
              "          element.appendChild(docLink);\n",
              "        }\n",
              "      </script>\n",
              "    </div>\n",
              "  </div>\n",
              "  "
            ],
            "text/plain": [
              "    단지코드  총세대수 임대건물구분  ... 도보 10분거리 내 버스정류장 수 단지내주차면수   등록차량수\n",
              "0  C2483   900    아파트  ...                3.0  1425.0  1015.0\n",
              "1  C2483   900    아파트  ...                3.0  1425.0  1015.0\n",
              "2  C2483   900    아파트  ...                3.0  1425.0  1015.0\n",
              "3  C2483   900    아파트  ...                3.0  1425.0  1015.0\n",
              "4  C2483   900    아파트  ...                3.0  1425.0  1015.0\n",
              "\n",
              "[5 rows x 15 columns]"
            ]
          },
          "metadata": {},
          "execution_count": 25
        }
      ]
    },
    {
      "cell_type": "code",
      "source": [
        "to_be_removed_columns = []"
      ],
      "metadata": {
        "id": "og440Ddbna0P"
      },
      "execution_count": null,
      "outputs": []
    },
    {
      "cell_type": "code",
      "source": [
        "df.info()"
      ],
      "metadata": {
        "colab": {
          "base_uri": "https://localhost:8080/"
        },
        "id": "CLu6uzzqtO_w",
        "outputId": "93d52ee8-b2b1-4d1d-c98f-13b4e6a5f278"
      },
      "execution_count": null,
      "outputs": [
        {
          "output_type": "stream",
          "name": "stdout",
          "text": [
            "<class 'pandas.core.frame.DataFrame'>\n",
            "Int64Index: 3974 entries, 0 to 1021\n",
            "Data columns (total 15 columns):\n",
            " #   Column                        Non-Null Count  Dtype  \n",
            "---  ------                        --------------  -----  \n",
            " 0   단지코드                          3974 non-null   object \n",
            " 1   총세대수                          3974 non-null   int64  \n",
            " 2   임대건물구분                        3974 non-null   object \n",
            " 3   지역                            3974 non-null   object \n",
            " 4   공급유형                          3974 non-null   object \n",
            " 5   전용면적                          3974 non-null   int64  \n",
            " 6   전용면적별세대수                      3974 non-null   int64  \n",
            " 7   공가수                           3974 non-null   float64\n",
            " 8   자격유형                          3972 non-null   object \n",
            " 9   임대보증금                         3225 non-null   object \n",
            " 10  임대료                           3225 non-null   object \n",
            " 11  도보 10분거리 내 지하철역 수(환승노선 수 반영)  3721 non-null   float64\n",
            " 12  도보 10분거리 내 버스정류장 수            3970 non-null   float64\n",
            " 13  단지내주차면수                       3974 non-null   float64\n",
            " 14  등록차량수                         3974 non-null   float64\n",
            "dtypes: float64(5), int64(3), object(7)\n",
            "memory usage: 496.8+ KB\n"
          ]
        }
      ]
    },
    {
      "cell_type": "code",
      "source": [
        "print(train_df.isnull().sum())\n",
        "print()\n",
        "print(test_df.isnull().sum())\n",
        "print()\n",
        "print(df.isnull().sum())"
      ],
      "metadata": {
        "colab": {
          "base_uri": "https://localhost:8080/"
        },
        "id": "iR26USm1tO9S",
        "outputId": "f9f04b57-f030-4891-f501-e532b48bdc5b"
      },
      "execution_count": null,
      "outputs": [
        {
          "output_type": "stream",
          "name": "stdout",
          "text": [
            "단지코드                              0\n",
            "총세대수                              0\n",
            "임대건물구분                            0\n",
            "지역                                0\n",
            "공급유형                              0\n",
            "전용면적                              0\n",
            "전용면적별세대수                          0\n",
            "공가수                               0\n",
            "자격유형                              0\n",
            "임대보증금                           569\n",
            "임대료                             569\n",
            "도보 10분거리 내 지하철역 수(환승노선 수 반영)    211\n",
            "도보 10분거리 내 버스정류장 수                4\n",
            "단지내주차면수                           0\n",
            "등록차량수                             0\n",
            "dtype: int64\n",
            "\n",
            "단지코드                              0\n",
            "총세대수                              0\n",
            "임대건물구분                            0\n",
            "지역                                0\n",
            "공급유형                              0\n",
            "전용면적                              0\n",
            "전용면적별세대수                          0\n",
            "공가수                               0\n",
            "자격유형                              2\n",
            "임대보증금                           180\n",
            "임대료                             180\n",
            "도보 10분거리 내 지하철역 수(환승노선 수 반영)     42\n",
            "도보 10분거리 내 버스정류장 수                0\n",
            "단지내주차면수                           0\n",
            "등록차량수                             0\n",
            "dtype: int64\n",
            "\n",
            "단지코드                              0\n",
            "총세대수                              0\n",
            "임대건물구분                            0\n",
            "지역                                0\n",
            "공급유형                              0\n",
            "전용면적                              0\n",
            "전용면적별세대수                          0\n",
            "공가수                               0\n",
            "자격유형                              2\n",
            "임대보증금                           749\n",
            "임대료                             749\n",
            "도보 10분거리 내 지하철역 수(환승노선 수 반영)    253\n",
            "도보 10분거리 내 버스정류장 수                4\n",
            "단지내주차면수                           0\n",
            "등록차량수                             0\n",
            "dtype: int64\n"
          ]
        }
      ]
    },
    {
      "cell_type": "markdown",
      "source": [
        "- 컬럼 2개 '임대보증금', '임대료' : 다음 컬럼으로 group by 하여 평균값으로 한다. 임대건물구분\t지역\t공급유형\t전용면적\t\n",
        "\n",
        "<br>\n",
        "\n",
        "- '도보 10분거리 내 지하철역 수(환승노선 수 반영)'와 '도보 10분거리 내 버스정류장 수'는 0으로 채운다.\n",
        "\n",
        "<br>\n",
        "\n",
        "- '자격유형'은 가장 빈도가 많은 것으로 한다."
      ],
      "metadata": {
        "id": "6QxwMVGrun9h"
      }
    },
    {
      "cell_type": "markdown",
      "source": [
        "## 임대보증금, 임대료 컬럼 처리"
      ],
      "metadata": {
        "id": "CePjTreu3tDe"
      }
    },
    {
      "cell_type": "code",
      "source": [
        "N = '임대보증금'\n",
        "df.loc[df[N].isnull(), N] = 0\n",
        "df.loc[df[N]=='-', N] = 0\n",
        "df[N] = df[N].astype('int')\n",
        "\n",
        "N = '임대료'\n",
        "df.loc[df[N]=='-', N] = 0\n",
        "df.loc[df[N].isnull(), N] = 0\n",
        "df[N] = df[N].astype('int')"
      ],
      "metadata": {
        "id": "3AJbo0Tn1bzK"
      },
      "execution_count": null,
      "outputs": []
    },
    {
      "cell_type": "code",
      "source": [
        "by_columns = ['임대건물구분', '지역', '공급유형', '전용면적']\n",
        "\n",
        "N = '임대보증금'\n",
        "df[N] = df[N].fillna(df.groupby(by_columns)[N].transform('mean'))\n",
        "\n",
        "N = '임대료'\n",
        "df[N] = df[N].fillna(df.groupby(by_columns)[N].transform('mean'))"
      ],
      "metadata": {
        "id": "KiMDEGEslLzG"
      },
      "execution_count": null,
      "outputs": []
    },
    {
      "cell_type": "code",
      "source": [
        "print(df.isnull().sum())"
      ],
      "metadata": {
        "colab": {
          "base_uri": "https://localhost:8080/"
        },
        "id": "g7WP1hqclLtt",
        "outputId": "6ceaebe8-1e05-46d9-e32c-cb9f5a5bfeb3"
      },
      "execution_count": null,
      "outputs": [
        {
          "output_type": "stream",
          "name": "stdout",
          "text": [
            "단지코드                              0\n",
            "총세대수                              0\n",
            "임대건물구분                            0\n",
            "지역                                0\n",
            "공급유형                              0\n",
            "전용면적                              0\n",
            "전용면적별세대수                          0\n",
            "공가수                               0\n",
            "자격유형                              2\n",
            "임대보증금                             0\n",
            "임대료                               0\n",
            "도보 10분거리 내 지하철역 수(환승노선 수 반영)    253\n",
            "도보 10분거리 내 버스정류장 수                4\n",
            "단지내주차면수                           0\n",
            "등록차량수                             0\n",
            "dtype: int64\n"
          ]
        }
      ]
    },
    {
      "cell_type": "markdown",
      "source": [
        "## 컬럼 '자격유형' 결측치 처리"
      ],
      "metadata": {
        "id": "Ij20dK9M4VkV"
      }
    },
    {
      "cell_type": "code",
      "source": [
        "df.자격유형.value_counts()"
      ],
      "metadata": {
        "colab": {
          "base_uri": "https://localhost:8080/"
        },
        "id": "pujpQKkk4PYK",
        "outputId": "7bca0b7e-a47e-4a06-882e-34875affd8fc"
      },
      "execution_count": null,
      "outputs": [
        {
          "output_type": "execute_result",
          "data": {
            "text/plain": [
              "A    2373\n",
              "D     749\n",
              "H     247\n",
              "J     198\n",
              "C     129\n",
              "I      56\n",
              "K      49\n",
              "E      47\n",
              "L      45\n",
              "N      40\n",
              "B      21\n",
              "G      10\n",
              "M       4\n",
              "F       3\n",
              "O       1\n",
              "Name: 자격유형, dtype: int64"
            ]
          },
          "metadata": {},
          "execution_count": 32
        }
      ]
    },
    {
      "cell_type": "markdown",
      "source": [
        "값 'A'가 가장 많다. 이 값으로 채우자."
      ],
      "metadata": {
        "id": "5s9xfdEy4ah9"
      }
    },
    {
      "cell_type": "code",
      "source": [
        "df = df.fillna(value={'자격유형':'A'})"
      ],
      "metadata": {
        "id": "6BGNBIE14ZHy"
      },
      "execution_count": null,
      "outputs": []
    },
    {
      "cell_type": "code",
      "source": [
        "print(df.isnull().sum())\n",
        "print()\n",
        "print(df.자격유형.value_counts())"
      ],
      "metadata": {
        "colab": {
          "base_uri": "https://localhost:8080/"
        },
        "id": "d3VFiB5I4tcC",
        "outputId": "ad0fa5dd-69d6-4056-cab5-ac344584ffef"
      },
      "execution_count": null,
      "outputs": [
        {
          "output_type": "stream",
          "name": "stdout",
          "text": [
            "단지코드                              0\n",
            "총세대수                              0\n",
            "임대건물구분                            0\n",
            "지역                                0\n",
            "공급유형                              0\n",
            "전용면적                              0\n",
            "전용면적별세대수                          0\n",
            "공가수                               0\n",
            "자격유형                              0\n",
            "임대보증금                             0\n",
            "임대료                               0\n",
            "도보 10분거리 내 지하철역 수(환승노선 수 반영)    253\n",
            "도보 10분거리 내 버스정류장 수                4\n",
            "단지내주차면수                           0\n",
            "등록차량수                             0\n",
            "dtype: int64\n",
            "\n",
            "A    2375\n",
            "D     749\n",
            "H     247\n",
            "J     198\n",
            "C     129\n",
            "I      56\n",
            "K      49\n",
            "E      47\n",
            "L      45\n",
            "N      40\n",
            "B      21\n",
            "G      10\n",
            "M       4\n",
            "F       3\n",
            "O       1\n",
            "Name: 자격유형, dtype: int64\n"
          ]
        }
      ]
    },
    {
      "cell_type": "markdown",
      "source": [
        "## 컬럼 '도보 10분거리 내 버스정류장 수' 결측치 처리"
      ],
      "metadata": {
        "id": "kxLxS8ma43Gn"
      }
    },
    {
      "cell_type": "code",
      "source": [
        "df.fillna(value=0, inplace=True)"
      ],
      "metadata": {
        "id": "3guFIIT1u4DT"
      },
      "execution_count": null,
      "outputs": []
    },
    {
      "cell_type": "code",
      "source": [
        "print(df.isnull().sum())"
      ],
      "metadata": {
        "colab": {
          "base_uri": "https://localhost:8080/"
        },
        "id": "JXEXcSTuu4A0",
        "outputId": "a0767cf7-ada1-44a5-b67d-c6fe6b102be7"
      },
      "execution_count": null,
      "outputs": [
        {
          "output_type": "stream",
          "name": "stdout",
          "text": [
            "단지코드                            0\n",
            "총세대수                            0\n",
            "임대건물구분                          0\n",
            "지역                              0\n",
            "공급유형                            0\n",
            "전용면적                            0\n",
            "전용면적별세대수                        0\n",
            "공가수                             0\n",
            "자격유형                            0\n",
            "임대보증금                           0\n",
            "임대료                             0\n",
            "도보 10분거리 내 지하철역 수(환승노선 수 반영)    0\n",
            "도보 10분거리 내 버스정류장 수              0\n",
            "단지내주차면수                         0\n",
            "등록차량수                           0\n",
            "dtype: int64\n"
          ]
        }
      ]
    },
    {
      "cell_type": "code",
      "source": [
        "df.head()"
      ],
      "metadata": {
        "colab": {
          "base_uri": "https://localhost:8080/",
          "height": 649
        },
        "id": "BPyZDaT4u3-O",
        "outputId": "85c13304-ade5-429f-d37d-2e45dba9f5e4"
      },
      "execution_count": null,
      "outputs": [
        {
          "output_type": "execute_result",
          "data": {
            "text/html": [
              "\n",
              "  <div id=\"df-b4e3682b-cf7e-49b7-9c53-1ebc58d70d60\">\n",
              "    <div class=\"colab-df-container\">\n",
              "      <div>\n",
              "<style scoped>\n",
              "    .dataframe tbody tr th:only-of-type {\n",
              "        vertical-align: middle;\n",
              "    }\n",
              "\n",
              "    .dataframe tbody tr th {\n",
              "        vertical-align: top;\n",
              "    }\n",
              "\n",
              "    .dataframe thead th {\n",
              "        text-align: right;\n",
              "    }\n",
              "</style>\n",
              "<table border=\"1\" class=\"dataframe\">\n",
              "  <thead>\n",
              "    <tr style=\"text-align: right;\">\n",
              "      <th></th>\n",
              "      <th>단지코드</th>\n",
              "      <th>총세대수</th>\n",
              "      <th>임대건물구분</th>\n",
              "      <th>지역</th>\n",
              "      <th>공급유형</th>\n",
              "      <th>전용면적</th>\n",
              "      <th>전용면적별세대수</th>\n",
              "      <th>공가수</th>\n",
              "      <th>자격유형</th>\n",
              "      <th>임대보증금</th>\n",
              "      <th>임대료</th>\n",
              "      <th>도보 10분거리 내 지하철역 수(환승노선 수 반영)</th>\n",
              "      <th>도보 10분거리 내 버스정류장 수</th>\n",
              "      <th>단지내주차면수</th>\n",
              "      <th>등록차량수</th>\n",
              "    </tr>\n",
              "  </thead>\n",
              "  <tbody>\n",
              "    <tr>\n",
              "      <th>0</th>\n",
              "      <td>C2483</td>\n",
              "      <td>900</td>\n",
              "      <td>아파트</td>\n",
              "      <td>경상북도</td>\n",
              "      <td>국민임대</td>\n",
              "      <td>30</td>\n",
              "      <td>134</td>\n",
              "      <td>38.0</td>\n",
              "      <td>A</td>\n",
              "      <td>15667000</td>\n",
              "      <td>103680</td>\n",
              "      <td>0.0</td>\n",
              "      <td>3.0</td>\n",
              "      <td>1425.0</td>\n",
              "      <td>1015.0</td>\n",
              "    </tr>\n",
              "    <tr>\n",
              "      <th>1</th>\n",
              "      <td>C2483</td>\n",
              "      <td>900</td>\n",
              "      <td>아파트</td>\n",
              "      <td>경상북도</td>\n",
              "      <td>국민임대</td>\n",
              "      <td>30</td>\n",
              "      <td>15</td>\n",
              "      <td>38.0</td>\n",
              "      <td>A</td>\n",
              "      <td>15667000</td>\n",
              "      <td>103680</td>\n",
              "      <td>0.0</td>\n",
              "      <td>3.0</td>\n",
              "      <td>1425.0</td>\n",
              "      <td>1015.0</td>\n",
              "    </tr>\n",
              "    <tr>\n",
              "      <th>2</th>\n",
              "      <td>C2483</td>\n",
              "      <td>900</td>\n",
              "      <td>아파트</td>\n",
              "      <td>경상북도</td>\n",
              "      <td>국민임대</td>\n",
              "      <td>50</td>\n",
              "      <td>385</td>\n",
              "      <td>38.0</td>\n",
              "      <td>A</td>\n",
              "      <td>27304000</td>\n",
              "      <td>184330</td>\n",
              "      <td>0.0</td>\n",
              "      <td>3.0</td>\n",
              "      <td>1425.0</td>\n",
              "      <td>1015.0</td>\n",
              "    </tr>\n",
              "    <tr>\n",
              "      <th>3</th>\n",
              "      <td>C2483</td>\n",
              "      <td>900</td>\n",
              "      <td>아파트</td>\n",
              "      <td>경상북도</td>\n",
              "      <td>국민임대</td>\n",
              "      <td>50</td>\n",
              "      <td>15</td>\n",
              "      <td>38.0</td>\n",
              "      <td>A</td>\n",
              "      <td>27304000</td>\n",
              "      <td>184330</td>\n",
              "      <td>0.0</td>\n",
              "      <td>3.0</td>\n",
              "      <td>1425.0</td>\n",
              "      <td>1015.0</td>\n",
              "    </tr>\n",
              "    <tr>\n",
              "      <th>4</th>\n",
              "      <td>C2483</td>\n",
              "      <td>900</td>\n",
              "      <td>아파트</td>\n",
              "      <td>경상북도</td>\n",
              "      <td>국민임대</td>\n",
              "      <td>50</td>\n",
              "      <td>41</td>\n",
              "      <td>38.0</td>\n",
              "      <td>A</td>\n",
              "      <td>27304000</td>\n",
              "      <td>184330</td>\n",
              "      <td>0.0</td>\n",
              "      <td>3.0</td>\n",
              "      <td>1425.0</td>\n",
              "      <td>1015.0</td>\n",
              "    </tr>\n",
              "  </tbody>\n",
              "</table>\n",
              "</div>\n",
              "      <button class=\"colab-df-convert\" onclick=\"convertToInteractive('df-b4e3682b-cf7e-49b7-9c53-1ebc58d70d60')\"\n",
              "              title=\"Convert this dataframe to an interactive table.\"\n",
              "              style=\"display:none;\">\n",
              "        \n",
              "  <svg xmlns=\"http://www.w3.org/2000/svg\" height=\"24px\"viewBox=\"0 0 24 24\"\n",
              "       width=\"24px\">\n",
              "    <path d=\"M0 0h24v24H0V0z\" fill=\"none\"/>\n",
              "    <path d=\"M18.56 5.44l.94 2.06.94-2.06 2.06-.94-2.06-.94-.94-2.06-.94 2.06-2.06.94zm-11 1L8.5 8.5l.94-2.06 2.06-.94-2.06-.94L8.5 2.5l-.94 2.06-2.06.94zm10 10l.94 2.06.94-2.06 2.06-.94-2.06-.94-.94-2.06-.94 2.06-2.06.94z\"/><path d=\"M17.41 7.96l-1.37-1.37c-.4-.4-.92-.59-1.43-.59-.52 0-1.04.2-1.43.59L10.3 9.45l-7.72 7.72c-.78.78-.78 2.05 0 2.83L4 21.41c.39.39.9.59 1.41.59.51 0 1.02-.2 1.41-.59l7.78-7.78 2.81-2.81c.8-.78.8-2.07 0-2.86zM5.41 20L4 18.59l7.72-7.72 1.47 1.35L5.41 20z\"/>\n",
              "  </svg>\n",
              "      </button>\n",
              "      \n",
              "  <style>\n",
              "    .colab-df-container {\n",
              "      display:flex;\n",
              "      flex-wrap:wrap;\n",
              "      gap: 12px;\n",
              "    }\n",
              "\n",
              "    .colab-df-convert {\n",
              "      background-color: #E8F0FE;\n",
              "      border: none;\n",
              "      border-radius: 50%;\n",
              "      cursor: pointer;\n",
              "      display: none;\n",
              "      fill: #1967D2;\n",
              "      height: 32px;\n",
              "      padding: 0 0 0 0;\n",
              "      width: 32px;\n",
              "    }\n",
              "\n",
              "    .colab-df-convert:hover {\n",
              "      background-color: #E2EBFA;\n",
              "      box-shadow: 0px 1px 2px rgba(60, 64, 67, 0.3), 0px 1px 3px 1px rgba(60, 64, 67, 0.15);\n",
              "      fill: #174EA6;\n",
              "    }\n",
              "\n",
              "    [theme=dark] .colab-df-convert {\n",
              "      background-color: #3B4455;\n",
              "      fill: #D2E3FC;\n",
              "    }\n",
              "\n",
              "    [theme=dark] .colab-df-convert:hover {\n",
              "      background-color: #434B5C;\n",
              "      box-shadow: 0px 1px 3px 1px rgba(0, 0, 0, 0.15);\n",
              "      filter: drop-shadow(0px 1px 2px rgba(0, 0, 0, 0.3));\n",
              "      fill: #FFFFFF;\n",
              "    }\n",
              "  </style>\n",
              "\n",
              "      <script>\n",
              "        const buttonEl =\n",
              "          document.querySelector('#df-b4e3682b-cf7e-49b7-9c53-1ebc58d70d60 button.colab-df-convert');\n",
              "        buttonEl.style.display =\n",
              "          google.colab.kernel.accessAllowed ? 'block' : 'none';\n",
              "\n",
              "        async function convertToInteractive(key) {\n",
              "          const element = document.querySelector('#df-b4e3682b-cf7e-49b7-9c53-1ebc58d70d60');\n",
              "          const dataTable =\n",
              "            await google.colab.kernel.invokeFunction('convertToInteractive',\n",
              "                                                     [key], {});\n",
              "          if (!dataTable) return;\n",
              "\n",
              "          const docLinkHtml = 'Like what you see? Visit the ' +\n",
              "            '<a target=\"_blank\" href=https://colab.research.google.com/notebooks/data_table.ipynb>data table notebook</a>'\n",
              "            + ' to learn more about interactive tables.';\n",
              "          element.innerHTML = '';\n",
              "          dataTable['output_type'] = 'display_data';\n",
              "          await google.colab.output.renderOutput(dataTable, element);\n",
              "          const docLink = document.createElement('div');\n",
              "          docLink.innerHTML = docLinkHtml;\n",
              "          element.appendChild(docLink);\n",
              "        }\n",
              "      </script>\n",
              "    </div>\n",
              "  </div>\n",
              "  "
            ],
            "text/plain": [
              "    단지코드  총세대수 임대건물구분  ... 도보 10분거리 내 버스정류장 수 단지내주차면수   등록차량수\n",
              "0  C2483   900    아파트  ...                3.0  1425.0  1015.0\n",
              "1  C2483   900    아파트  ...                3.0  1425.0  1015.0\n",
              "2  C2483   900    아파트  ...                3.0  1425.0  1015.0\n",
              "3  C2483   900    아파트  ...                3.0  1425.0  1015.0\n",
              "4  C2483   900    아파트  ...                3.0  1425.0  1015.0\n",
              "\n",
              "[5 rows x 15 columns]"
            ]
          },
          "metadata": {},
          "execution_count": 37
        }
      ]
    },
    {
      "cell_type": "code",
      "source": [
        "value_columns = ['총세대수', '전용면적', '전용면적별세대수', '공가수', '도보 10분거리 내 버스정류장 수', '단지내주차면수', '등록차량수']"
      ],
      "metadata": {
        "id": "8ajhtxw95KWT"
      },
      "execution_count": null,
      "outputs": []
    },
    {
      "cell_type": "markdown",
      "source": [
        "# 로그 처리\n",
        "\n",
        "처리할 컬럼은 '전용면적별세대수' 하나이다."
      ],
      "metadata": {
        "id": "RhKibnR86FdF"
      }
    },
    {
      "cell_type": "code",
      "source": [
        "for column_name in value_columns:\n",
        "    print(column_name)\n",
        "    plt.hist(df[column_name], bins=100)\n",
        "    plt.show()"
      ],
      "metadata": {
        "colab": {
          "base_uri": "https://localhost:8080/",
          "height": 1000
        },
        "id": "y-DiqCxM5bIK",
        "outputId": "1cbabd51-b9c7-4692-e1a0-586a62fea427"
      },
      "execution_count": null,
      "outputs": [
        {
          "output_type": "stream",
          "name": "stdout",
          "text": [
            "총세대수\n"
          ]
        },
        {
          "output_type": "display_data",
          "data": {
            "image/png": "[encoded data removed]",
            "text/plain": [
              "<Figure size 432x288 with 1 Axes>"
            ]
          },
          "metadata": {
            "needs_background": "light"
          }
        },
        {
          "output_type": "stream",
          "name": "stdout",
          "text": [
            "전용면적\n"
          ]
        },
        {
          "output_type": "display_data",
          "data": {
            "image/png": "[encoded data removed]",
            "text/plain": [
              "<Figure size 432x288 with 1 Axes>"
            ]
          },
          "metadata": {
            "needs_background": "light"
          }
        },
        {
          "output_type": "stream",
          "name": "stdout",
          "text": [
            "전용면적별세대수\n"
          ]
        },
        {
          "output_type": "display_data",
          "data": {
            "image/png": "[encoded data removed]",
            "text/plain": [
              "<Figure size 432x288 with 1 Axes>"
            ]
          },
          "metadata": {
            "needs_background": "light"
          }
        },
        {
          "output_type": "stream",
          "name": "stdout",
          "text": [
            "공가수\n"
          ]
        },
        {
          "output_type": "display_data",
          "data": {
            "image/png": "[encoded data removed]",
            "text/plain": [
              "<Figure size 432x288 with 1 Axes>"
            ]
          },
          "metadata": {
            "needs_background": "light"
          }
        },
        {
          "output_type": "stream",
          "name": "stdout",
          "text": [
            "도보 10분거리 내 버스정류장 수\n"
          ]
        },
        {
          "output_type": "display_data",
          "data": {
            "image/png": "[encoded data removed]",
            "text/plain": [
              "<Figure size 432x288 with 1 Axes>"
            ]
          },
          "metadata": {
            "needs_background": "light"
          }
        },
        {
          "output_type": "stream",
          "name": "stdout",
          "text": [
            "단지내주차면수\n"
          ]
        },
        {
          "output_type": "display_data",
          "data": {
            "image/png": "[encoded data removed]",
            "text/plain": [
              "<Figure size 432x288 with 1 Axes>"
            ]
          },
          "metadata": {
            "needs_background": "light"
          }
        },
        {
          "output_type": "stream",
          "name": "stdout",
          "text": [
            "등록차량수\n"
          ]
        },
        {
          "output_type": "display_data",
          "data": {
            "image/png": "[encoded data removed]",
            "text/plain": [
              "<Figure size 432x288 with 1 Axes>"
            ]
          },
          "metadata": {
            "needs_background": "light"
          }
        }
      ]
    },
    {
      "cell_type": "code",
      "source": [
        "log_columns = ['전용면적별세대수']\n",
        "\n",
        "for column_name in log_columns:\n",
        "    print(column_name)\n",
        "    df['log_'+column_name] = np.log(df[column_name])\n",
        "    plt.hist(df[column_name], bins=100)\n",
        "    plt.show()    \n",
        "    plt.hist(df['log_'+column_name], bins=100)\n",
        "    plt.show()    \n",
        "\n",
        "    df.drop(columns=[column_name], inplace=True)\n",
        "    value_columns.remove(column_name)\n"
      ],
      "metadata": {
        "colab": {
          "base_uri": "https://localhost:8080/",
          "height": 531
        },
        "id": "kaEeMl996JnI",
        "outputId": "4e74702a-eb25-46b2-9668-f6d15752f653"
      },
      "execution_count": null,
      "outputs": [
        {
          "output_type": "stream",
          "name": "stdout",
          "text": [
            "전용면적별세대수\n"
          ]
        },
        {
          "output_type": "display_data",
          "data": {
            "image/png": "[encoded data removed]",
            "text/plain": [
              "<Figure size 432x288 with 1 Axes>"
            ]
          },
          "metadata": {
            "needs_background": "light"
          }
        },
        {
          "output_type": "display_data",
          "data": {
            "image/png": "[encoded data removed]",
            "text/plain": [
              "<Figure size 432x288 with 1 Axes>"
            ]
          },
          "metadata": {
            "needs_background": "light"
          }
        }
      ]
    },
    {
      "cell_type": "markdown",
      "source": [
        "# 이상치 처리"
      ],
      "metadata": {
        "id": "yRSrgsLr64m3"
      }
    },
    {
      "cell_type": "code",
      "source": [
        "for column_name in value_columns:\n",
        "    print(column_name)\n",
        "    plt.hist(df[column_name], bins=100)\n",
        "    plt.show()"
      ],
      "metadata": {
        "colab": {
          "base_uri": "https://localhost:8080/",
          "height": 1000
        },
        "id": "WcdMxYVW67ir",
        "outputId": "984eb06f-20ae-438e-dc9b-6d5a556986d0"
      },
      "execution_count": null,
      "outputs": [
        {
          "output_type": "stream",
          "name": "stdout",
          "text": [
            "총세대수\n"
          ]
        },
        {
          "output_type": "display_data",
          "data": {
            "image/png": "[encoded data removed]",
            "text/plain": [
              "<Figure size 432x288 with 1 Axes>"
            ]
          },
          "metadata": {
            "needs_background": "light"
          }
        },
        {
          "output_type": "stream",
          "name": "stdout",
          "text": [
            "전용면적\n"
          ]
        },
        {
          "output_type": "display_data",
          "data": {
            "image/png": "[encoded data removed]",
            "text/plain": [
              "<Figure size 432x288 with 1 Axes>"
            ]
          },
          "metadata": {
            "needs_background": "light"
          }
        },
        {
          "output_type": "stream",
          "name": "stdout",
          "text": [
            "공가수\n"
          ]
        },
        {
          "output_type": "display_data",
          "data": {
            "image/png": "[encoded data removed]",
            "text/plain": [
              "<Figure size 432x288 with 1 Axes>"
            ]
          },
          "metadata": {
            "needs_background": "light"
          }
        },
        {
          "output_type": "stream",
          "name": "stdout",
          "text": [
            "도보 10분거리 내 버스정류장 수\n"
          ]
        },
        {
          "output_type": "display_data",
          "data": {
            "image/png": "[encoded data removed]",
            "text/plain": [
              "<Figure size 432x288 with 1 Axes>"
            ]
          },
          "metadata": {
            "needs_background": "light"
          }
        },
        {
          "output_type": "stream",
          "name": "stdout",
          "text": [
            "단지내주차면수\n"
          ]
        },
        {
          "output_type": "display_data",
          "data": {
            "image/png": "[encoded data removed]",
            "text/plain": [
              "<Figure size 432x288 with 1 Axes>"
            ]
          },
          "metadata": {
            "needs_background": "light"
          }
        },
        {
          "output_type": "stream",
          "name": "stdout",
          "text": [
            "등록차량수\n"
          ]
        },
        {
          "output_type": "display_data",
          "data": {
            "image/png": "[encoded data removed]",
            "text/plain": [
              "<Figure size 432x288 with 1 Axes>"
            ]
          },
          "metadata": {
            "needs_background": "light"
          }
        }
      ]
    },
    {
      "cell_type": "code",
      "source": [
        "max_values = {\n",
        "    '공가수':40,\n",
        "    '도보 10분거리 내 버스정류장 수':10,\n",
        "}"
      ],
      "metadata": {
        "id": "ghMrBQ0Y67gD"
      },
      "execution_count": null,
      "outputs": []
    },
    {
      "cell_type": "code",
      "source": [
        "for column_name, max_value in max_values.items():\n",
        "    print(column_name, max_value)\n",
        "    plt.hist(df[column_name], bins=100)\n",
        "    plt.show()        \n",
        "    new_column_name = \"max_limited_\"+column_name\n",
        "    df[new_column_name] = df[column_name]\n",
        "    df.loc[df[new_column_name]>max_value, new_column_name] = max_value\n",
        "    plt.hist(df[new_column_name], bins=100)\n",
        "    plt.show()    \n",
        "    df.drop(columns=[column_name], inplace=True)\n"
      ],
      "metadata": {
        "colab": {
          "base_uri": "https://localhost:8080/",
          "height": 1000
        },
        "id": "klnqZNdc67ax",
        "outputId": "be307447-cd28-49b0-9f41-181c40cb3beb"
      },
      "execution_count": null,
      "outputs": [
        {
          "output_type": "stream",
          "name": "stdout",
          "text": [
            "공가수 40\n"
          ]
        },
        {
          "output_type": "display_data",
          "data": {
            "image/png": "[encoded data removed]",
            "text/plain": [
              "<Figure size 432x288 with 1 Axes>"
            ]
          },
          "metadata": {
            "needs_background": "light"
          }
        },
        {
          "output_type": "display_data",
          "data": {
            "image/png": "[encoded data removed]",
            "text/plain": [
              "<Figure size 432x288 with 1 Axes>"
            ]
          },
          "metadata": {
            "needs_background": "light"
          }
        },
        {
          "output_type": "stream",
          "name": "stdout",
          "text": [
            "도보 10분거리 내 버스정류장 수 10\n"
          ]
        },
        {
          "output_type": "display_data",
          "data": {
            "image/png": "[encoded data removed]",
            "text/plain": [
              "<Figure size 432x288 with 1 Axes>"
            ]
          },
          "metadata": {
            "needs_background": "light"
          }
        },
        {
          "output_type": "display_data",
          "data": {
            "image/png": "[encoded data removed]",
            "text/plain": [
              "<Figure size 432x288 with 1 Axes>"
            ]
          },
          "metadata": {
            "needs_background": "light"
          }
        }
      ]
    },
    {
      "cell_type": "code",
      "source": [
        ""
      ],
      "metadata": {
        "id": "E4Wy85Sh67Vw"
      },
      "execution_count": null,
      "outputs": []
    },
    {
      "cell_type": "markdown",
      "source": [
        "# 카테고리성 데이터 처리\n",
        "\n",
        "category_columns = ['단지코드', '임대건물구분', '지역', '공급유형', '자격유형']"
      ],
      "metadata": {
        "id": "9fCq8NZUwNez"
      }
    },
    {
      "cell_type": "code",
      "source": [
        "category_columns = ['단지코드', '임대건물구분', '지역', '공급유형', '자격유형']"
      ],
      "metadata": {
        "id": "mIBj9olSu370"
      },
      "execution_count": null,
      "outputs": []
    },
    {
      "cell_type": "code",
      "source": [
        "for column_name in category_columns:\n",
        "    df[column_name] = df[column_name].astype('category')\n",
        "    df[column_name+'_code'] = df[column_name].cat.codes\n",
        "    df.drop(columns=[column_name], inplace=True)"
      ],
      "metadata": {
        "id": "YkXukH_ru35T"
      },
      "execution_count": null,
      "outputs": []
    },
    {
      "cell_type": "code",
      "source": [
        "print(df.info())"
      ],
      "metadata": {
        "colab": {
          "base_uri": "https://localhost:8080/"
        },
        "id": "SfNt4JZZu32z",
        "outputId": "e1fe566e-6346-4cf7-f679-5ede94d74f00"
      },
      "execution_count": null,
      "outputs": [
        {
          "output_type": "stream",
          "name": "stdout",
          "text": [
            "<class 'pandas.core.frame.DataFrame'>\n",
            "Int64Index: 3974 entries, 0 to 1021\n",
            "Data columns (total 15 columns):\n",
            " #   Column                          Non-Null Count  Dtype  \n",
            "---  ------                          --------------  -----  \n",
            " 0   총세대수                            3974 non-null   int64  \n",
            " 1   전용면적                            3974 non-null   int64  \n",
            " 2   임대보증금                           3974 non-null   int64  \n",
            " 3   임대료                             3974 non-null   int64  \n",
            " 4   도보 10분거리 내 지하철역 수(환승노선 수 반영)    3974 non-null   float64\n",
            " 5   단지내주차면수                         3974 non-null   float64\n",
            " 6   등록차량수                           3974 non-null   float64\n",
            " 7   log_전용면적별세대수                    3974 non-null   float64\n",
            " 8   max_limited_공가수                 3974 non-null   float64\n",
            " 9   max_limited_도보 10분거리 내 버스정류장 수  3974 non-null   float64\n",
            " 10  단지코드_code                       3974 non-null   int16  \n",
            " 11  임대건물구분_code                     3974 non-null   int8   \n",
            " 12  지역_code                         3974 non-null   int8   \n",
            " 13  공급유형_code                       3974 non-null   int8   \n",
            " 14  자격유형_code                       3974 non-null   int8   \n",
            "dtypes: float64(6), int16(1), int64(4), int8(4)\n",
            "memory usage: 364.8 KB\n",
            "None\n"
          ]
        }
      ]
    },
    {
      "cell_type": "markdown",
      "source": [
        "# 카테고리 컬럼을 one-hot인코딩"
      ],
      "metadata": {
        "id": "WjO4hQQR1Qcg"
      }
    },
    {
      "cell_type": "code",
      "source": [
        "df.info()"
      ],
      "metadata": {
        "colab": {
          "base_uri": "https://localhost:8080/"
        },
        "id": "aNxpCmKv1s_c",
        "outputId": "9f5b4a77-b5fc-4ab4-a827-f5e129d881b9"
      },
      "execution_count": null,
      "outputs": [
        {
          "output_type": "stream",
          "name": "stdout",
          "text": [
            "<class 'pandas.core.frame.DataFrame'>\n",
            "Int64Index: 3974 entries, 0 to 1021\n",
            "Data columns (total 15 columns):\n",
            " #   Column                          Non-Null Count  Dtype  \n",
            "---  ------                          --------------  -----  \n",
            " 0   총세대수                            3974 non-null   int64  \n",
            " 1   전용면적                            3974 non-null   int64  \n",
            " 2   임대보증금                           3974 non-null   int64  \n",
            " 3   임대료                             3974 non-null   int64  \n",
            " 4   도보 10분거리 내 지하철역 수(환승노선 수 반영)    3974 non-null   float64\n",
            " 5   단지내주차면수                         3974 non-null   float64\n",
            " 6   등록차량수                           3974 non-null   float64\n",
            " 7   log_전용면적별세대수                    3974 non-null   float64\n",
            " 8   max_limited_공가수                 3974 non-null   float64\n",
            " 9   max_limited_도보 10분거리 내 버스정류장 수  3974 non-null   float64\n",
            " 10  단지코드_code                       3974 non-null   int16  \n",
            " 11  임대건물구분_code                     3974 non-null   int8   \n",
            " 12  지역_code                         3974 non-null   int8   \n",
            " 13  공급유형_code                       3974 non-null   int8   \n",
            " 14  자격유형_code                       3974 non-null   int8   \n",
            "dtypes: float64(6), int16(1), int64(4), int8(4)\n",
            "memory usage: 364.8 KB\n"
          ]
        }
      ]
    },
    {
      "cell_type": "code",
      "source": [
        "for category_name in category_columns:\n",
        "    column_name = category_name+'_code'\n",
        "    df = pd.get_dummies(df, columns = [column_name])"
      ],
      "metadata": {
        "id": "PrEMlAlN1P7C"
      },
      "execution_count": null,
      "outputs": []
    },
    {
      "cell_type": "code",
      "source": [
        "print(df.info())"
      ],
      "metadata": {
        "colab": {
          "base_uri": "https://localhost:8080/"
        },
        "id": "1eAyEyU01P4E",
        "outputId": "c9f7163f-7d80-4af4-c2fc-eb400bd33089"
      },
      "execution_count": null,
      "outputs": [
        {
          "output_type": "stream",
          "name": "stdout",
          "text": [
            "<class 'pandas.core.frame.DataFrame'>\n",
            "Int64Index: 3974 entries, 0 to 1021\n",
            "Columns: 626 entries, 총세대수 to 자격유형_code_14\n",
            "dtypes: float64(6), int64(4), uint8(616)\n",
            "memory usage: 2.7 MB\n",
            "None\n"
          ]
        }
      ]
    },
    {
      "cell_type": "markdown",
      "source": [
        "# Normalization"
      ],
      "metadata": {
        "id": "RyoFZzPJ85od"
      }
    },
    {
      "cell_type": "code",
      "source": [
        "y_df = df['등록차량수']\n",
        "x_df = df.drop(columns=['등록차량수'])"
      ],
      "metadata": {
        "id": "y-7sEaX867YX"
      },
      "execution_count": null,
      "outputs": []
    },
    {
      "cell_type": "code",
      "source": [
        "x_df = (x_df - x_df.min()) / (x_df.max() - x_df.min())"
      ],
      "metadata": {
        "id": "BS53zb2e1P1L"
      },
      "execution_count": null,
      "outputs": []
    },
    {
      "cell_type": "code",
      "source": [
        "print(len(y_df))\n",
        "print(y_df.value_counts())"
      ],
      "metadata": {
        "colab": {
          "base_uri": "https://localhost:8080/"
        },
        "id": "S1SYkYu-1Pyd",
        "outputId": "af67f961-f9bb-4a71-e254-98854593f849"
      },
      "execution_count": null,
      "outputs": [
        {
          "output_type": "stream",
          "name": "stdout",
          "text": [
            "3974\n",
            "0.0      1022\n",
            "359.0      61\n",
            "172.0      48\n",
            "62.0       44\n",
            "116.0      40\n",
            "         ... \n",
            "149.0       2\n",
            "873.0       2\n",
            "73.0        2\n",
            "16.0        1\n",
            "386.0       1\n",
            "Name: 등록차량수, Length: 355, dtype: int64\n"
          ]
        }
      ]
    },
    {
      "cell_type": "code",
      "source": [
        "y_min = y_df.min()\n",
        "y_max = y_df.max()\n",
        "y_df = (y_df - y_min) / (y_max - y_min)"
      ],
      "metadata": {
        "id": "U2Nc-Ljk1Pv3"
      },
      "execution_count": null,
      "outputs": []
    },
    {
      "cell_type": "markdown",
      "source": [
        "# numpy 로 변환"
      ],
      "metadata": {
        "id": "PUlxxxNg-4ln"
      }
    },
    {
      "cell_type": "code",
      "source": [
        " x = x_df.to_numpy()\n",
        " y = y_df.to_numpy()\n",
        "\n",
        " print(x.shape)\n",
        " print(y.shape)"
      ],
      "metadata": {
        "colab": {
          "base_uri": "https://localhost:8080/"
        },
        "id": "YuQnVza7-6tk",
        "outputId": "35f988ff-5baa-4565-c496-e0bb03d59035"
      },
      "execution_count": null,
      "outputs": [
        {
          "output_type": "stream",
          "name": "stdout",
          "text": [
            "(3974, 625)\n",
            "(3974,)\n"
          ]
        }
      ]
    },
    {
      "cell_type": "markdown",
      "source": [
        "# train / test 분리"
      ],
      "metadata": {
        "id": "8bXgytWc-qaV"
      }
    },
    {
      "cell_type": "code",
      "source": [
        "train_x, test_x = x[:train_data_count], x[:test_data_count]\n",
        "train_y, test_y = y[:train_data_count], y[:test_data_count]"
      ],
      "metadata": {
        "id": "eDwcY4yl1PtN"
      },
      "execution_count": null,
      "outputs": []
    },
    {
      "cell_type": "code",
      "source": [
        ""
      ],
      "metadata": {
        "id": "Zky6GcdF1PqX"
      },
      "execution_count": null,
      "outputs": []
    },
    {
      "cell_type": "markdown",
      "source": [
        "# 모델 학습"
      ],
      "metadata": {
        "id": "-q9vza3p_Nlk"
      }
    },
    {
      "cell_type": "code",
      "source": [
        "import numpy as np\n",
        "import pandas as pd\n",
        "import matplotlib.pyplot as plt\n",
        "\n",
        "import tensorflow as tf\n",
        "\n",
        "from tensorflow import keras\n",
        "from tensorflow.keras import optimizers\n",
        "from tensorflow.keras.layers import Dense\n",
        "\n",
        "model = keras.Sequential()\n",
        "model.add(Dense(32, activation='relu', input_shape=(train_x.shape[-1],)))\n",
        "model.add(Dense(10, activation='relu'))\n",
        "model.add(Dense(1))\n",
        "\n",
        "model.compile(optimizer=\"SGD\", loss=\"mse\", metrics=[\"mae\"])\n",
        "model.summary()\n",
        "\n",
        "from tensorflow.keras.callbacks import EarlyStopping\n",
        "early_stopping = EarlyStopping(\n",
        "    monitor='val_loss',  # 모니터링 대상\n",
        "    verbose=1,\n",
        "    patience=50)         # 중지까지의 여유분\n",
        "\n",
        "history = model.fit(train_x, train_y, epochs=2000, verbose=1, batch_size=128, validation_split=0.1,\n",
        "                    callbacks=[early_stopping])\n",
        "\n",
        "plt.plot(history.history['loss'])\n",
        "plt.plot(history.history['val_loss'])\n",
        "plt.show()\n",
        "\n",
        "\n",
        "y_ = model.predict(test_x)\n",
        "\n",
        "plt.scatter(test_y, y_)\n",
        "plt.show()"
      ],
      "metadata": {
        "colab": {
          "base_uri": "https://localhost:8080/",
          "height": 1000
        },
        "id": "cRG40KD9u30A",
        "outputId": "be4b2d98-06d6-4c11-a14b-286ffea9e027"
      },
      "execution_count": null,
      "outputs": [
        {
          "output_type": "stream",
          "name": "stdout",
          "text": [
            "Model: \"sequential\"\n",
            "_________________________________________________________________\n",
            " Layer (type)                Output Shape              Param #   \n",
            "=================================================================\n",
            " dense (Dense)               (None, 32)                20032     \n",
            "                                                                 \n",
            " dense_1 (Dense)             (None, 10)                330       \n",
            "                                                                 \n",
            " dense_2 (Dense)             (None, 1)                 11        \n",
            "                                                                 \n",
            "=================================================================\n",
            "Total params: 20,373\n",
            "Trainable params: 20,373\n",
            "Non-trainable params: 0\n",
            "_________________________________________________________________\n",
            "Epoch 1/2000\n",
            "21/21 [==============================] - 1s 10ms/step - loss: 0.0513 - mae: 0.1684 - val_loss: 0.0542 - val_mae: 0.1951\n",
            "Epoch 2/2000\n",
            "21/21 [==============================] - 0s 3ms/step - loss: 0.0313 - mae: 0.1312 - val_loss: 0.0478 - val_mae: 0.1824\n",
            "Epoch 3/2000\n",
            "21/21 [==============================] - 0s 3ms/step - loss: 0.0268 - mae: 0.1199 - val_loss: 0.0446 - val_mae: 0.1758\n",
            "Epoch 4/2000\n",
            "21/21 [==============================] - 0s 3ms/step - loss: 0.0242 - mae: 0.1126 - val_loss: 0.0413 - val_mae: 0.1686\n",
            "Epoch 5/2000\n",
            "21/21 [==============================] - 0s 3ms/step - loss: 0.0223 - mae: 0.1074 - val_loss: 0.0386 - val_mae: 0.1623\n",
            "Epoch 6/2000\n",
            "21/21 [==============================] - 0s 4ms/step - loss: 0.0210 - mae: 0.1039 - val_loss: 0.0369 - val_mae: 0.1584\n",
            "Epoch 7/2000\n",
            "21/21 [==============================] - 0s 3ms/step - loss: 0.0199 - mae: 0.1004 - val_loss: 0.0342 - val_mae: 0.1522\n",
            "Epoch 8/2000\n",
            "21/21 [==============================] - 0s 3ms/step - loss: 0.0190 - mae: 0.0980 - val_loss: 0.0326 - val_mae: 0.1482\n",
            "Epoch 9/2000\n",
            "21/21 [==============================] - 0s 3ms/step - loss: 0.0182 - mae: 0.0958 - val_loss: 0.0313 - val_mae: 0.1451\n",
            "Epoch 10/2000\n",
            "21/21 [==============================] - 0s 3ms/step - loss: 0.0175 - mae: 0.0936 - val_loss: 0.0299 - val_mae: 0.1417\n",
            "Epoch 11/2000\n",
            "21/21 [==============================] - 0s 3ms/step - loss: 0.0168 - mae: 0.0916 - val_loss: 0.0284 - val_mae: 0.1382\n",
            "Epoch 12/2000\n",
            "21/21 [==============================] - 0s 3ms/step - loss: 0.0162 - mae: 0.0900 - val_loss: 0.0272 - val_mae: 0.1354\n",
            "Epoch 13/2000\n",
            "21/21 [==============================] - 0s 3ms/step - loss: 0.0157 - mae: 0.0885 - val_loss: 0.0261 - val_mae: 0.1327\n",
            "Epoch 14/2000\n",
            "21/21 [==============================] - 0s 3ms/step - loss: 0.0152 - mae: 0.0872 - val_loss: 0.0252 - val_mae: 0.1307\n",
            "Epoch 15/2000\n",
            "21/21 [==============================] - 0s 3ms/step - loss: 0.0147 - mae: 0.0857 - val_loss: 0.0242 - val_mae: 0.1286\n",
            "Epoch 16/2000\n",
            "21/21 [==============================] - 0s 3ms/step - loss: 0.0143 - mae: 0.0846 - val_loss: 0.0234 - val_mae: 0.1269\n",
            "Epoch 17/2000\n",
            "21/21 [==============================] - 0s 3ms/step - loss: 0.0139 - mae: 0.0834 - val_loss: 0.0227 - val_mae: 0.1252\n",
            "Epoch 18/2000\n",
            "21/21 [==============================] - 0s 3ms/step - loss: 0.0135 - mae: 0.0821 - val_loss: 0.0219 - val_mae: 0.1232\n",
            "Epoch 19/2000\n",
            "21/21 [==============================] - 0s 3ms/step - loss: 0.0131 - mae: 0.0813 - val_loss: 0.0213 - val_mae: 0.1218\n",
            "Epoch 20/2000\n",
            "21/21 [==============================] - 0s 3ms/step - loss: 0.0127 - mae: 0.0802 - val_loss: 0.0207 - val_mae: 0.1203\n",
            "Epoch 21/2000\n",
            "21/21 [==============================] - 0s 3ms/step - loss: 0.0124 - mae: 0.0793 - val_loss: 0.0201 - val_mae: 0.1189\n",
            "Epoch 22/2000\n",
            "21/21 [==============================] - 0s 3ms/step - loss: 0.0121 - mae: 0.0784 - val_loss: 0.0196 - val_mae: 0.1177\n",
            "Epoch 23/2000\n",
            "21/21 [==============================] - 0s 3ms/step - loss: 0.0117 - mae: 0.0773 - val_loss: 0.0190 - val_mae: 0.1163\n",
            "Epoch 24/2000\n",
            "21/21 [==============================] - 0s 3ms/step - loss: 0.0114 - mae: 0.0766 - val_loss: 0.0187 - val_mae: 0.1153\n",
            "Epoch 25/2000\n",
            "21/21 [==============================] - 0s 3ms/step - loss: 0.0111 - mae: 0.0757 - val_loss: 0.0183 - val_mae: 0.1143\n",
            "Epoch 26/2000\n",
            "21/21 [==============================] - 0s 3ms/step - loss: 0.0109 - mae: 0.0749 - val_loss: 0.0180 - val_mae: 0.1133\n",
            "Epoch 27/2000\n",
            "21/21 [==============================] - 0s 3ms/step - loss: 0.0106 - mae: 0.0741 - val_loss: 0.0177 - val_mae: 0.1127\n",
            "Epoch 28/2000\n",
            "21/21 [==============================] - 0s 3ms/step - loss: 0.0103 - mae: 0.0731 - val_loss: 0.0173 - val_mae: 0.1114\n",
            "Epoch 29/2000\n",
            "21/21 [==============================] - 0s 3ms/step - loss: 0.0101 - mae: 0.0725 - val_loss: 0.0170 - val_mae: 0.1107\n",
            "Epoch 30/2000\n",
            "21/21 [==============================] - 0s 3ms/step - loss: 0.0099 - mae: 0.0718 - val_loss: 0.0168 - val_mae: 0.1102\n",
            "Epoch 31/2000\n",
            "21/21 [==============================] - 0s 3ms/step - loss: 0.0097 - mae: 0.0710 - val_loss: 0.0165 - val_mae: 0.1093\n",
            "Epoch 32/2000\n",
            "21/21 [==============================] - 0s 3ms/step - loss: 0.0095 - mae: 0.0702 - val_loss: 0.0162 - val_mae: 0.1083\n",
            "Epoch 33/2000\n",
            "21/21 [==============================] - 0s 3ms/step - loss: 0.0093 - mae: 0.0699 - val_loss: 0.0161 - val_mae: 0.1082\n",
            "Epoch 34/2000\n",
            "21/21 [==============================] - 0s 3ms/step - loss: 0.0091 - mae: 0.0690 - val_loss: 0.0158 - val_mae: 0.1074\n",
            "Epoch 35/2000\n",
            "21/21 [==============================] - 0s 3ms/step - loss: 0.0089 - mae: 0.0683 - val_loss: 0.0156 - val_mae: 0.1067\n",
            "Epoch 36/2000\n",
            "21/21 [==============================] - 0s 3ms/step - loss: 0.0088 - mae: 0.0678 - val_loss: 0.0155 - val_mae: 0.1062\n",
            "Epoch 37/2000\n",
            "21/21 [==============================] - 0s 3ms/step - loss: 0.0086 - mae: 0.0672 - val_loss: 0.0153 - val_mae: 0.1058\n",
            "Epoch 38/2000\n",
            "21/21 [==============================] - 0s 3ms/step - loss: 0.0084 - mae: 0.0666 - val_loss: 0.0152 - val_mae: 0.1054\n",
            "Epoch 39/2000\n",
            "21/21 [==============================] - 0s 3ms/step - loss: 0.0083 - mae: 0.0661 - val_loss: 0.0151 - val_mae: 0.1050\n",
            "Epoch 40/2000\n",
            "21/21 [==============================] - 0s 3ms/step - loss: 0.0081 - mae: 0.0655 - val_loss: 0.0149 - val_mae: 0.1045\n",
            "Epoch 41/2000\n",
            "21/21 [==============================] - 0s 3ms/step - loss: 0.0080 - mae: 0.0651 - val_loss: 0.0149 - val_mae: 0.1044\n",
            "Epoch 42/2000\n",
            "21/21 [==============================] - 0s 3ms/step - loss: 0.0079 - mae: 0.0644 - val_loss: 0.0148 - val_mae: 0.1041\n",
            "Epoch 43/2000\n",
            "21/21 [==============================] - 0s 3ms/step - loss: 0.0077 - mae: 0.0639 - val_loss: 0.0147 - val_mae: 0.1038\n",
            "Epoch 44/2000\n",
            "21/21 [==============================] - 0s 3ms/step - loss: 0.0076 - mae: 0.0635 - val_loss: 0.0146 - val_mae: 0.1035\n",
            "Epoch 45/2000\n",
            "21/21 [==============================] - 0s 3ms/step - loss: 0.0075 - mae: 0.0630 - val_loss: 0.0145 - val_mae: 0.1033\n",
            "Epoch 46/2000\n",
            "21/21 [==============================] - 0s 3ms/step - loss: 0.0074 - mae: 0.0626 - val_loss: 0.0144 - val_mae: 0.1032\n",
            "Epoch 47/2000\n",
            "21/21 [==============================] - 0s 3ms/step - loss: 0.0073 - mae: 0.0622 - val_loss: 0.0144 - val_mae: 0.1031\n",
            "Epoch 48/2000\n",
            "21/21 [==============================] - 0s 3ms/step - loss: 0.0072 - mae: 0.0618 - val_loss: 0.0143 - val_mae: 0.1030\n",
            "Epoch 49/2000\n",
            "21/21 [==============================] - 0s 4ms/step - loss: 0.0071 - mae: 0.0613 - val_loss: 0.0143 - val_mae: 0.1028\n",
            "Epoch 50/2000\n",
            "21/21 [==============================] - 0s 3ms/step - loss: 0.0070 - mae: 0.0610 - val_loss: 0.0142 - val_mae: 0.1026\n",
            "Epoch 51/2000\n",
            "21/21 [==============================] - 0s 3ms/step - loss: 0.0069 - mae: 0.0605 - val_loss: 0.0142 - val_mae: 0.1025\n",
            "Epoch 52/2000\n",
            "21/21 [==============================] - 0s 3ms/step - loss: 0.0068 - mae: 0.0602 - val_loss: 0.0141 - val_mae: 0.1024\n",
            "Epoch 53/2000\n",
            "21/21 [==============================] - 0s 3ms/step - loss: 0.0067 - mae: 0.0598 - val_loss: 0.0141 - val_mae: 0.1022\n",
            "Epoch 54/2000\n",
            "21/21 [==============================] - 0s 3ms/step - loss: 0.0066 - mae: 0.0594 - val_loss: 0.0140 - val_mae: 0.1022\n",
            "Epoch 55/2000\n",
            "21/21 [==============================] - 0s 3ms/step - loss: 0.0065 - mae: 0.0590 - val_loss: 0.0140 - val_mae: 0.1020\n",
            "Epoch 56/2000\n",
            "21/21 [==============================] - 0s 3ms/step - loss: 0.0065 - mae: 0.0587 - val_loss: 0.0140 - val_mae: 0.1019\n",
            "Epoch 57/2000\n",
            "21/21 [==============================] - 0s 3ms/step - loss: 0.0064 - mae: 0.0583 - val_loss: 0.0140 - val_mae: 0.1017\n",
            "Epoch 58/2000\n",
            "21/21 [==============================] - 0s 3ms/step - loss: 0.0063 - mae: 0.0581 - val_loss: 0.0139 - val_mae: 0.1016\n",
            "Epoch 59/2000\n",
            "21/21 [==============================] - 0s 3ms/step - loss: 0.0062 - mae: 0.0578 - val_loss: 0.0139 - val_mae: 0.1014\n",
            "Epoch 60/2000\n",
            "21/21 [==============================] - 0s 3ms/step - loss: 0.0062 - mae: 0.0575 - val_loss: 0.0139 - val_mae: 0.1013\n",
            "Epoch 61/2000\n",
            "21/21 [==============================] - 0s 3ms/step - loss: 0.0061 - mae: 0.0572 - val_loss: 0.0138 - val_mae: 0.1012\n",
            "Epoch 62/2000\n",
            "21/21 [==============================] - 0s 3ms/step - loss: 0.0060 - mae: 0.0569 - val_loss: 0.0138 - val_mae: 0.1011\n",
            "Epoch 63/2000\n",
            "21/21 [==============================] - 0s 4ms/step - loss: 0.0059 - mae: 0.0566 - val_loss: 0.0138 - val_mae: 0.1009\n",
            "Epoch 64/2000\n",
            "21/21 [==============================] - 0s 3ms/step - loss: 0.0059 - mae: 0.0563 - val_loss: 0.0137 - val_mae: 0.1008\n",
            "Epoch 65/2000\n",
            "21/21 [==============================] - 0s 3ms/step - loss: 0.0058 - mae: 0.0560 - val_loss: 0.0137 - val_mae: 0.1006\n",
            "Epoch 66/2000\n",
            "21/21 [==============================] - 0s 3ms/step - loss: 0.0058 - mae: 0.0558 - val_loss: 0.0137 - val_mae: 0.1005\n",
            "Epoch 67/2000\n",
            "21/21 [==============================] - 0s 3ms/step - loss: 0.0057 - mae: 0.0555 - val_loss: 0.0137 - val_mae: 0.1003\n",
            "Epoch 68/2000\n",
            "21/21 [==============================] - 0s 3ms/step - loss: 0.0056 - mae: 0.0552 - val_loss: 0.0136 - val_mae: 0.1002\n",
            "Epoch 69/2000\n",
            "21/21 [==============================] - 0s 3ms/step - loss: 0.0056 - mae: 0.0550 - val_loss: 0.0136 - val_mae: 0.1001\n",
            "Epoch 70/2000\n",
            "21/21 [==============================] - 0s 3ms/step - loss: 0.0055 - mae: 0.0548 - val_loss: 0.0136 - val_mae: 0.1000\n",
            "Epoch 71/2000\n",
            "21/21 [==============================] - 0s 3ms/step - loss: 0.0055 - mae: 0.0546 - val_loss: 0.0136 - val_mae: 0.0999\n",
            "Epoch 72/2000\n",
            "21/21 [==============================] - 0s 3ms/step - loss: 0.0054 - mae: 0.0543 - val_loss: 0.0136 - val_mae: 0.0997\n",
            "Epoch 73/2000\n",
            "21/21 [==============================] - 0s 3ms/step - loss: 0.0054 - mae: 0.0541 - val_loss: 0.0135 - val_mae: 0.0997\n",
            "Epoch 74/2000\n",
            "21/21 [==============================] - 0s 3ms/step - loss: 0.0053 - mae: 0.0537 - val_loss: 0.0135 - val_mae: 0.0994\n",
            "Epoch 75/2000\n",
            "21/21 [==============================] - 0s 3ms/step - loss: 0.0053 - mae: 0.0536 - val_loss: 0.0135 - val_mae: 0.0994\n",
            "Epoch 76/2000\n",
            "21/21 [==============================] - 0s 3ms/step - loss: 0.0052 - mae: 0.0534 - val_loss: 0.0135 - val_mae: 0.0992\n",
            "Epoch 77/2000\n",
            "21/21 [==============================] - 0s 3ms/step - loss: 0.0052 - mae: 0.0532 - val_loss: 0.0135 - val_mae: 0.0991\n",
            "Epoch 78/2000\n",
            "21/21 [==============================] - 0s 3ms/step - loss: 0.0051 - mae: 0.0530 - val_loss: 0.0134 - val_mae: 0.0990\n",
            "Epoch 79/2000\n",
            "21/21 [==============================] - 0s 3ms/step - loss: 0.0051 - mae: 0.0527 - val_loss: 0.0134 - val_mae: 0.0989\n",
            "Epoch 80/2000\n",
            "21/21 [==============================] - 0s 3ms/step - loss: 0.0050 - mae: 0.0526 - val_loss: 0.0134 - val_mae: 0.0988\n",
            "Epoch 81/2000\n",
            "21/21 [==============================] - 0s 3ms/step - loss: 0.0050 - mae: 0.0523 - val_loss: 0.0134 - val_mae: 0.0987\n",
            "Epoch 82/2000\n",
            "21/21 [==============================] - 0s 3ms/step - loss: 0.0050 - mae: 0.0522 - val_loss: 0.0134 - val_mae: 0.0986\n",
            "Epoch 83/2000\n",
            "21/21 [==============================] - 0s 3ms/step - loss: 0.0049 - mae: 0.0520 - val_loss: 0.0133 - val_mae: 0.0985\n",
            "Epoch 84/2000\n",
            "21/21 [==============================] - 0s 3ms/step - loss: 0.0049 - mae: 0.0518 - val_loss: 0.0133 - val_mae: 0.0984\n",
            "Epoch 85/2000\n",
            "21/21 [==============================] - 0s 3ms/step - loss: 0.0048 - mae: 0.0516 - val_loss: 0.0133 - val_mae: 0.0983\n",
            "Epoch 86/2000\n",
            "21/21 [==============================] - 0s 3ms/step - loss: 0.0048 - mae: 0.0515 - val_loss: 0.0133 - val_mae: 0.0982\n",
            "Epoch 87/2000\n",
            "21/21 [==============================] - 0s 3ms/step - loss: 0.0048 - mae: 0.0512 - val_loss: 0.0133 - val_mae: 0.0980\n",
            "Epoch 88/2000\n",
            "21/21 [==============================] - 0s 3ms/step - loss: 0.0047 - mae: 0.0511 - val_loss: 0.0133 - val_mae: 0.0980\n",
            "Epoch 89/2000\n",
            "21/21 [==============================] - 0s 3ms/step - loss: 0.0047 - mae: 0.0508 - val_loss: 0.0133 - val_mae: 0.0979\n",
            "Epoch 90/2000\n",
            "21/21 [==============================] - 0s 3ms/step - loss: 0.0047 - mae: 0.0507 - val_loss: 0.0133 - val_mae: 0.0978\n",
            "Epoch 91/2000\n",
            "21/21 [==============================] - 0s 3ms/step - loss: 0.0046 - mae: 0.0506 - val_loss: 0.0133 - val_mae: 0.0977\n",
            "Epoch 92/2000\n",
            "21/21 [==============================] - 0s 3ms/step - loss: 0.0046 - mae: 0.0504 - val_loss: 0.0132 - val_mae: 0.0976\n",
            "Epoch 93/2000\n",
            "21/21 [==============================] - 0s 3ms/step - loss: 0.0046 - mae: 0.0501 - val_loss: 0.0132 - val_mae: 0.0975\n",
            "Epoch 94/2000\n",
            "21/21 [==============================] - 0s 3ms/step - loss: 0.0045 - mae: 0.0500 - val_loss: 0.0132 - val_mae: 0.0974\n",
            "Epoch 95/2000\n",
            "21/21 [==============================] - 0s 3ms/step - loss: 0.0045 - mae: 0.0498 - val_loss: 0.0132 - val_mae: 0.0973\n",
            "Epoch 96/2000\n",
            "21/21 [==============================] - 0s 3ms/step - loss: 0.0045 - mae: 0.0497 - val_loss: 0.0132 - val_mae: 0.0972\n",
            "Epoch 97/2000\n",
            "21/21 [==============================] - 0s 3ms/step - loss: 0.0044 - mae: 0.0494 - val_loss: 0.0132 - val_mae: 0.0971\n",
            "Epoch 98/2000\n",
            "21/21 [==============================] - 0s 3ms/step - loss: 0.0044 - mae: 0.0494 - val_loss: 0.0132 - val_mae: 0.0970\n",
            "Epoch 99/2000\n",
            "21/21 [==============================] - 0s 3ms/step - loss: 0.0044 - mae: 0.0492 - val_loss: 0.0132 - val_mae: 0.0969\n",
            "Epoch 100/2000\n",
            "21/21 [==============================] - 0s 3ms/step - loss: 0.0043 - mae: 0.0491 - val_loss: 0.0131 - val_mae: 0.0968\n",
            "Epoch 101/2000\n",
            "21/21 [==============================] - 0s 3ms/step - loss: 0.0043 - mae: 0.0489 - val_loss: 0.0131 - val_mae: 0.0967\n",
            "Epoch 102/2000\n",
            "21/21 [==============================] - 0s 3ms/step - loss: 0.0043 - mae: 0.0487 - val_loss: 0.0131 - val_mae: 0.0966\n",
            "Epoch 103/2000\n",
            "21/21 [==============================] - 0s 3ms/step - loss: 0.0043 - mae: 0.0485 - val_loss: 0.0131 - val_mae: 0.0965\n",
            "Epoch 104/2000\n",
            "21/21 [==============================] - 0s 3ms/step - loss: 0.0042 - mae: 0.0484 - val_loss: 0.0131 - val_mae: 0.0964\n",
            "Epoch 105/2000\n",
            "21/21 [==============================] - 0s 3ms/step - loss: 0.0042 - mae: 0.0484 - val_loss: 0.0131 - val_mae: 0.0964\n",
            "Epoch 106/2000\n",
            "21/21 [==============================] - 0s 3ms/step - loss: 0.0042 - mae: 0.0481 - val_loss: 0.0131 - val_mae: 0.0963\n",
            "Epoch 107/2000\n",
            "21/21 [==============================] - 0s 3ms/step - loss: 0.0042 - mae: 0.0480 - val_loss: 0.0131 - val_mae: 0.0962\n",
            "Epoch 108/2000\n",
            "21/21 [==============================] - 0s 3ms/step - loss: 0.0041 - mae: 0.0478 - val_loss: 0.0131 - val_mae: 0.0961\n",
            "Epoch 109/2000\n",
            "21/21 [==============================] - 0s 3ms/step - loss: 0.0041 - mae: 0.0477 - val_loss: 0.0130 - val_mae: 0.0961\n",
            "Epoch 110/2000\n",
            "21/21 [==============================] - 0s 3ms/step - loss: 0.0041 - mae: 0.0476 - val_loss: 0.0130 - val_mae: 0.0960\n",
            "Epoch 111/2000\n",
            "21/21 [==============================] - 0s 3ms/step - loss: 0.0041 - mae: 0.0474 - val_loss: 0.0130 - val_mae: 0.0959\n",
            "Epoch 112/2000\n",
            "21/21 [==============================] - 0s 3ms/step - loss: 0.0040 - mae: 0.0473 - val_loss: 0.0130 - val_mae: 0.0959\n",
            "Epoch 113/2000\n",
            "21/21 [==============================] - 0s 3ms/step - loss: 0.0040 - mae: 0.0471 - val_loss: 0.0130 - val_mae: 0.0958\n",
            "Epoch 114/2000\n",
            "21/21 [==============================] - 0s 3ms/step - loss: 0.0040 - mae: 0.0471 - val_loss: 0.0130 - val_mae: 0.0957\n",
            "Epoch 115/2000\n",
            "21/21 [==============================] - 0s 3ms/step - loss: 0.0040 - mae: 0.0468 - val_loss: 0.0130 - val_mae: 0.0956\n",
            "Epoch 116/2000\n",
            "21/21 [==============================] - 0s 3ms/step - loss: 0.0039 - mae: 0.0468 - val_loss: 0.0130 - val_mae: 0.0956\n",
            "Epoch 117/2000\n",
            "21/21 [==============================] - 0s 3ms/step - loss: 0.0039 - mae: 0.0466 - val_loss: 0.0130 - val_mae: 0.0955\n",
            "Epoch 118/2000\n",
            "21/21 [==============================] - 0s 3ms/step - loss: 0.0039 - mae: 0.0465 - val_loss: 0.0130 - val_mae: 0.0954\n",
            "Epoch 119/2000\n",
            "21/21 [==============================] - 0s 3ms/step - loss: 0.0039 - mae: 0.0464 - val_loss: 0.0129 - val_mae: 0.0953\n",
            "Epoch 120/2000\n",
            "21/21 [==============================] - 0s 3ms/step - loss: 0.0039 - mae: 0.0461 - val_loss: 0.0130 - val_mae: 0.0953\n",
            "Epoch 121/2000\n",
            "21/21 [==============================] - 0s 3ms/step - loss: 0.0038 - mae: 0.0461 - val_loss: 0.0129 - val_mae: 0.0952\n",
            "Epoch 122/2000\n",
            "21/21 [==============================] - 0s 3ms/step - loss: 0.0038 - mae: 0.0460 - val_loss: 0.0129 - val_mae: 0.0951\n",
            "Epoch 123/2000\n",
            "21/21 [==============================] - 0s 3ms/step - loss: 0.0038 - mae: 0.0459 - val_loss: 0.0129 - val_mae: 0.0951\n",
            "Epoch 124/2000\n",
            "21/21 [==============================] - 0s 3ms/step - loss: 0.0038 - mae: 0.0457 - val_loss: 0.0129 - val_mae: 0.0950\n",
            "Epoch 125/2000\n",
            "21/21 [==============================] - 0s 3ms/step - loss: 0.0037 - mae: 0.0456 - val_loss: 0.0129 - val_mae: 0.0949\n",
            "Epoch 126/2000\n",
            "21/21 [==============================] - 0s 3ms/step - loss: 0.0037 - mae: 0.0455 - val_loss: 0.0129 - val_mae: 0.0949\n",
            "Epoch 127/2000\n",
            "21/21 [==============================] - 0s 3ms/step - loss: 0.0037 - mae: 0.0453 - val_loss: 0.0129 - val_mae: 0.0948\n",
            "Epoch 128/2000\n",
            "21/21 [==============================] - 0s 3ms/step - loss: 0.0037 - mae: 0.0452 - val_loss: 0.0129 - val_mae: 0.0948\n",
            "Epoch 129/2000\n",
            "21/21 [==============================] - 0s 3ms/step - loss: 0.0037 - mae: 0.0451 - val_loss: 0.0129 - val_mae: 0.0947\n",
            "Epoch 130/2000\n",
            "21/21 [==============================] - 0s 3ms/step - loss: 0.0037 - mae: 0.0450 - val_loss: 0.0129 - val_mae: 0.0946\n",
            "Epoch 131/2000\n",
            "21/21 [==============================] - 0s 3ms/step - loss: 0.0036 - mae: 0.0448 - val_loss: 0.0129 - val_mae: 0.0946\n",
            "Epoch 132/2000\n",
            "21/21 [==============================] - 0s 3ms/step - loss: 0.0036 - mae: 0.0448 - val_loss: 0.0128 - val_mae: 0.0945\n",
            "Epoch 133/2000\n",
            "21/21 [==============================] - 0s 3ms/step - loss: 0.0036 - mae: 0.0446 - val_loss: 0.0128 - val_mae: 0.0944\n",
            "Epoch 134/2000\n",
            "21/21 [==============================] - 0s 3ms/step - loss: 0.0036 - mae: 0.0445 - val_loss: 0.0128 - val_mae: 0.0944\n",
            "Epoch 135/2000\n",
            "21/21 [==============================] - 0s 3ms/step - loss: 0.0036 - mae: 0.0443 - val_loss: 0.0128 - val_mae: 0.0943\n",
            "Epoch 136/2000\n",
            "21/21 [==============================] - 0s 3ms/step - loss: 0.0035 - mae: 0.0443 - val_loss: 0.0128 - val_mae: 0.0943\n",
            "Epoch 137/2000\n",
            "21/21 [==============================] - 0s 3ms/step - loss: 0.0035 - mae: 0.0441 - val_loss: 0.0128 - val_mae: 0.0942\n",
            "Epoch 138/2000\n",
            "21/21 [==============================] - 0s 3ms/step - loss: 0.0035 - mae: 0.0440 - val_loss: 0.0128 - val_mae: 0.0942\n",
            "Epoch 139/2000\n",
            "21/21 [==============================] - 0s 3ms/step - loss: 0.0035 - mae: 0.0440 - val_loss: 0.0128 - val_mae: 0.0941\n",
            "Epoch 140/2000\n",
            "21/21 [==============================] - 0s 3ms/step - loss: 0.0035 - mae: 0.0438 - val_loss: 0.0128 - val_mae: 0.0941\n",
            "Epoch 141/2000\n",
            "21/21 [==============================] - 0s 3ms/step - loss: 0.0035 - mae: 0.0437 - val_loss: 0.0128 - val_mae: 0.0940\n",
            "Epoch 142/2000\n",
            "21/21 [==============================] - 0s 3ms/step - loss: 0.0034 - mae: 0.0437 - val_loss: 0.0128 - val_mae: 0.0940\n",
            "Epoch 143/2000\n",
            "21/21 [==============================] - 0s 3ms/step - loss: 0.0034 - mae: 0.0435 - val_loss: 0.0128 - val_mae: 0.0939\n",
            "Epoch 144/2000\n",
            "21/21 [==============================] - 0s 3ms/step - loss: 0.0034 - mae: 0.0434 - val_loss: 0.0128 - val_mae: 0.0939\n",
            "Epoch 145/2000\n",
            "21/21 [==============================] - 0s 3ms/step - loss: 0.0034 - mae: 0.0433 - val_loss: 0.0128 - val_mae: 0.0938\n",
            "Epoch 146/2000\n",
            "21/21 [==============================] - 0s 3ms/step - loss: 0.0034 - mae: 0.0432 - val_loss: 0.0128 - val_mae: 0.0938\n",
            "Epoch 147/2000\n",
            "21/21 [==============================] - 0s 3ms/step - loss: 0.0034 - mae: 0.0430 - val_loss: 0.0128 - val_mae: 0.0937\n",
            "Epoch 148/2000\n",
            "21/21 [==============================] - 0s 3ms/step - loss: 0.0034 - mae: 0.0430 - val_loss: 0.0127 - val_mae: 0.0938\n",
            "Epoch 149/2000\n",
            "21/21 [==============================] - 0s 3ms/step - loss: 0.0033 - mae: 0.0429 - val_loss: 0.0127 - val_mae: 0.0937\n",
            "Epoch 150/2000\n",
            "21/21 [==============================] - 0s 3ms/step - loss: 0.0033 - mae: 0.0428 - val_loss: 0.0127 - val_mae: 0.0936\n",
            "Epoch 151/2000\n",
            "21/21 [==============================] - 0s 3ms/step - loss: 0.0033 - mae: 0.0427 - val_loss: 0.0127 - val_mae: 0.0935\n",
            "Epoch 152/2000\n",
            "21/21 [==============================] - 0s 3ms/step - loss: 0.0033 - mae: 0.0426 - val_loss: 0.0127 - val_mae: 0.0935\n",
            "Epoch 153/2000\n",
            "21/21 [==============================] - 0s 3ms/step - loss: 0.0033 - mae: 0.0425 - val_loss: 0.0127 - val_mae: 0.0935\n",
            "Epoch 154/2000\n",
            "21/21 [==============================] - 0s 3ms/step - loss: 0.0033 - mae: 0.0424 - val_loss: 0.0127 - val_mae: 0.0934\n",
            "Epoch 155/2000\n",
            "21/21 [==============================] - 0s 3ms/step - loss: 0.0033 - mae: 0.0423 - val_loss: 0.0127 - val_mae: 0.0934\n",
            "Epoch 156/2000\n",
            "21/21 [==============================] - 0s 3ms/step - loss: 0.0032 - mae: 0.0421 - val_loss: 0.0127 - val_mae: 0.0934\n",
            "Epoch 157/2000\n",
            "21/21 [==============================] - 0s 3ms/step - loss: 0.0032 - mae: 0.0421 - val_loss: 0.0127 - val_mae: 0.0933\n",
            "Epoch 158/2000\n",
            "21/21 [==============================] - 0s 3ms/step - loss: 0.0032 - mae: 0.0420 - val_loss: 0.0127 - val_mae: 0.0933\n",
            "Epoch 159/2000\n",
            "21/21 [==============================] - 0s 3ms/step - loss: 0.0032 - mae: 0.0419 - val_loss: 0.0127 - val_mae: 0.0932\n",
            "Epoch 160/2000\n",
            "21/21 [==============================] - 0s 3ms/step - loss: 0.0032 - mae: 0.0418 - val_loss: 0.0127 - val_mae: 0.0932\n",
            "Epoch 161/2000\n",
            "21/21 [==============================] - 0s 3ms/step - loss: 0.0032 - mae: 0.0417 - val_loss: 0.0127 - val_mae: 0.0931\n",
            "Epoch 162/2000\n",
            "21/21 [==============================] - 0s 3ms/step - loss: 0.0032 - mae: 0.0416 - val_loss: 0.0127 - val_mae: 0.0932\n",
            "Epoch 163/2000\n",
            "21/21 [==============================] - 0s 3ms/step - loss: 0.0031 - mae: 0.0414 - val_loss: 0.0127 - val_mae: 0.0931\n",
            "Epoch 164/2000\n",
            "21/21 [==============================] - 0s 3ms/step - loss: 0.0031 - mae: 0.0414 - val_loss: 0.0127 - val_mae: 0.0931\n",
            "Epoch 165/2000\n",
            "21/21 [==============================] - 0s 3ms/step - loss: 0.0031 - mae: 0.0413 - val_loss: 0.0127 - val_mae: 0.0930\n",
            "Epoch 166/2000\n",
            "21/21 [==============================] - 0s 3ms/step - loss: 0.0031 - mae: 0.0412 - val_loss: 0.0127 - val_mae: 0.0929\n",
            "Epoch 167/2000\n",
            "21/21 [==============================] - 0s 3ms/step - loss: 0.0031 - mae: 0.0411 - val_loss: 0.0127 - val_mae: 0.0930\n",
            "Epoch 168/2000\n",
            "21/21 [==============================] - 0s 3ms/step - loss: 0.0031 - mae: 0.0410 - val_loss: 0.0127 - val_mae: 0.0929\n",
            "Epoch 169/2000\n",
            "21/21 [==============================] - 0s 3ms/step - loss: 0.0031 - mae: 0.0410 - val_loss: 0.0127 - val_mae: 0.0929\n",
            "Epoch 170/2000\n",
            "21/21 [==============================] - 0s 3ms/step - loss: 0.0031 - mae: 0.0408 - val_loss: 0.0127 - val_mae: 0.0928\n",
            "Epoch 171/2000\n",
            "21/21 [==============================] - 0s 3ms/step - loss: 0.0031 - mae: 0.0408 - val_loss: 0.0127 - val_mae: 0.0928\n",
            "Epoch 172/2000\n",
            "21/21 [==============================] - 0s 3ms/step - loss: 0.0030 - mae: 0.0407 - val_loss: 0.0126 - val_mae: 0.0928\n",
            "Epoch 173/2000\n",
            "21/21 [==============================] - 0s 3ms/step - loss: 0.0030 - mae: 0.0406 - val_loss: 0.0126 - val_mae: 0.0927\n",
            "Epoch 174/2000\n",
            "21/21 [==============================] - 0s 3ms/step - loss: 0.0030 - mae: 0.0405 - val_loss: 0.0126 - val_mae: 0.0927\n",
            "Epoch 175/2000\n",
            "21/21 [==============================] - 0s 3ms/step - loss: 0.0030 - mae: 0.0404 - val_loss: 0.0126 - val_mae: 0.0927\n",
            "Epoch 176/2000\n",
            "21/21 [==============================] - 0s 3ms/step - loss: 0.0030 - mae: 0.0403 - val_loss: 0.0126 - val_mae: 0.0926\n",
            "Epoch 177/2000\n",
            "21/21 [==============================] - 0s 3ms/step - loss: 0.0030 - mae: 0.0402 - val_loss: 0.0126 - val_mae: 0.0926\n",
            "Epoch 178/2000\n",
            "21/21 [==============================] - 0s 3ms/step - loss: 0.0030 - mae: 0.0402 - val_loss: 0.0126 - val_mae: 0.0926\n",
            "Epoch 179/2000\n",
            "21/21 [==============================] - 0s 3ms/step - loss: 0.0030 - mae: 0.0401 - val_loss: 0.0126 - val_mae: 0.0925\n",
            "Epoch 180/2000\n",
            "21/21 [==============================] - 0s 3ms/step - loss: 0.0030 - mae: 0.0400 - val_loss: 0.0126 - val_mae: 0.0924\n",
            "Epoch 181/2000\n",
            "21/21 [==============================] - 0s 3ms/step - loss: 0.0029 - mae: 0.0399 - val_loss: 0.0126 - val_mae: 0.0924\n",
            "Epoch 182/2000\n",
            "21/21 [==============================] - 0s 3ms/step - loss: 0.0029 - mae: 0.0398 - val_loss: 0.0126 - val_mae: 0.0924\n",
            "Epoch 183/2000\n",
            "21/21 [==============================] - 0s 3ms/step - loss: 0.0029 - mae: 0.0397 - val_loss: 0.0126 - val_mae: 0.0924\n",
            "Epoch 184/2000\n",
            "21/21 [==============================] - 0s 3ms/step - loss: 0.0029 - mae: 0.0397 - val_loss: 0.0126 - val_mae: 0.0923\n",
            "Epoch 185/2000\n",
            "21/21 [==============================] - 0s 3ms/step - loss: 0.0029 - mae: 0.0396 - val_loss: 0.0126 - val_mae: 0.0923\n",
            "Epoch 186/2000\n",
            "21/21 [==============================] - 0s 3ms/step - loss: 0.0029 - mae: 0.0395 - val_loss: 0.0126 - val_mae: 0.0922\n",
            "Epoch 187/2000\n",
            "21/21 [==============================] - 0s 3ms/step - loss: 0.0029 - mae: 0.0394 - val_loss: 0.0126 - val_mae: 0.0923\n",
            "Epoch 188/2000\n",
            "21/21 [==============================] - 0s 3ms/step - loss: 0.0029 - mae: 0.0393 - val_loss: 0.0126 - val_mae: 0.0922\n",
            "Epoch 189/2000\n",
            "21/21 [==============================] - 0s 3ms/step - loss: 0.0029 - mae: 0.0393 - val_loss: 0.0126 - val_mae: 0.0921\n",
            "Epoch 190/2000\n",
            "21/21 [==============================] - 0s 3ms/step - loss: 0.0028 - mae: 0.0392 - val_loss: 0.0126 - val_mae: 0.0921\n",
            "Epoch 191/2000\n",
            "21/21 [==============================] - 0s 4ms/step - loss: 0.0028 - mae: 0.0391 - val_loss: 0.0126 - val_mae: 0.0921\n",
            "Epoch 192/2000\n",
            "21/21 [==============================] - 0s 3ms/step - loss: 0.0028 - mae: 0.0390 - val_loss: 0.0126 - val_mae: 0.0921\n",
            "Epoch 193/2000\n",
            "21/21 [==============================] - 0s 3ms/step - loss: 0.0028 - mae: 0.0389 - val_loss: 0.0126 - val_mae: 0.0920\n",
            "Epoch 194/2000\n",
            "21/21 [==============================] - 0s 3ms/step - loss: 0.0028 - mae: 0.0389 - val_loss: 0.0126 - val_mae: 0.0920\n",
            "Epoch 195/2000\n",
            "21/21 [==============================] - 0s 3ms/step - loss: 0.0028 - mae: 0.0388 - val_loss: 0.0126 - val_mae: 0.0920\n",
            "Epoch 196/2000\n",
            "21/21 [==============================] - 0s 3ms/step - loss: 0.0028 - mae: 0.0387 - val_loss: 0.0126 - val_mae: 0.0920\n",
            "Epoch 197/2000\n",
            "21/21 [==============================] - 0s 3ms/step - loss: 0.0028 - mae: 0.0386 - val_loss: 0.0126 - val_mae: 0.0919\n",
            "Epoch 198/2000\n",
            "21/21 [==============================] - 0s 3ms/step - loss: 0.0028 - mae: 0.0386 - val_loss: 0.0125 - val_mae: 0.0919\n",
            "Epoch 199/2000\n",
            "21/21 [==============================] - 0s 3ms/step - loss: 0.0028 - mae: 0.0385 - val_loss: 0.0125 - val_mae: 0.0919\n",
            "Epoch 200/2000\n",
            "21/21 [==============================] - 0s 3ms/step - loss: 0.0028 - mae: 0.0384 - val_loss: 0.0125 - val_mae: 0.0918\n",
            "Epoch 201/2000\n",
            "21/21 [==============================] - 0s 3ms/step - loss: 0.0027 - mae: 0.0383 - val_loss: 0.0125 - val_mae: 0.0918\n",
            "Epoch 202/2000\n",
            "21/21 [==============================] - 0s 3ms/step - loss: 0.0027 - mae: 0.0383 - val_loss: 0.0125 - val_mae: 0.0918\n",
            "Epoch 203/2000\n",
            "21/21 [==============================] - 0s 3ms/step - loss: 0.0027 - mae: 0.0382 - val_loss: 0.0125 - val_mae: 0.0918\n",
            "Epoch 204/2000\n",
            "21/21 [==============================] - 0s 3ms/step - loss: 0.0027 - mae: 0.0381 - val_loss: 0.0125 - val_mae: 0.0917\n",
            "Epoch 205/2000\n",
            "21/21 [==============================] - 0s 3ms/step - loss: 0.0027 - mae: 0.0381 - val_loss: 0.0125 - val_mae: 0.0917\n",
            "Epoch 206/2000\n",
            "21/21 [==============================] - 0s 3ms/step - loss: 0.0027 - mae: 0.0380 - val_loss: 0.0125 - val_mae: 0.0917\n",
            "Epoch 207/2000\n",
            "21/21 [==============================] - 0s 3ms/step - loss: 0.0027 - mae: 0.0379 - val_loss: 0.0125 - val_mae: 0.0916\n",
            "Epoch 208/2000\n",
            "21/21 [==============================] - 0s 3ms/step - loss: 0.0027 - mae: 0.0378 - val_loss: 0.0125 - val_mae: 0.0916\n",
            "Epoch 209/2000\n",
            "21/21 [==============================] - 0s 3ms/step - loss: 0.0027 - mae: 0.0378 - val_loss: 0.0125 - val_mae: 0.0916\n",
            "Epoch 210/2000\n",
            "21/21 [==============================] - 0s 3ms/step - loss: 0.0027 - mae: 0.0377 - val_loss: 0.0125 - val_mae: 0.0916\n",
            "Epoch 211/2000\n",
            "21/21 [==============================] - 0s 3ms/step - loss: 0.0027 - mae: 0.0376 - val_loss: 0.0125 - val_mae: 0.0916\n",
            "Epoch 212/2000\n",
            "21/21 [==============================] - 0s 3ms/step - loss: 0.0026 - mae: 0.0376 - val_loss: 0.0125 - val_mae: 0.0916\n",
            "Epoch 213/2000\n",
            "21/21 [==============================] - 0s 3ms/step - loss: 0.0026 - mae: 0.0374 - val_loss: 0.0125 - val_mae: 0.0915\n",
            "Epoch 214/2000\n",
            "21/21 [==============================] - 0s 3ms/step - loss: 0.0026 - mae: 0.0374 - val_loss: 0.0125 - val_mae: 0.0915\n",
            "Epoch 215/2000\n",
            "21/21 [==============================] - 0s 3ms/step - loss: 0.0026 - mae: 0.0373 - val_loss: 0.0125 - val_mae: 0.0915\n",
            "Epoch 216/2000\n",
            "21/21 [==============================] - 0s 3ms/step - loss: 0.0026 - mae: 0.0372 - val_loss: 0.0125 - val_mae: 0.0914\n",
            "Epoch 217/2000\n",
            "21/21 [==============================] - 0s 3ms/step - loss: 0.0026 - mae: 0.0372 - val_loss: 0.0125 - val_mae: 0.0915\n",
            "Epoch 218/2000\n",
            "21/21 [==============================] - 0s 3ms/step - loss: 0.0026 - mae: 0.0371 - val_loss: 0.0125 - val_mae: 0.0914\n",
            "Epoch 219/2000\n",
            "21/21 [==============================] - 0s 3ms/step - loss: 0.0026 - mae: 0.0370 - val_loss: 0.0125 - val_mae: 0.0914\n",
            "Epoch 220/2000\n",
            "21/21 [==============================] - 0s 3ms/step - loss: 0.0026 - mae: 0.0369 - val_loss: 0.0125 - val_mae: 0.0913\n",
            "Epoch 221/2000\n",
            "21/21 [==============================] - 0s 3ms/step - loss: 0.0026 - mae: 0.0369 - val_loss: 0.0125 - val_mae: 0.0913\n",
            "Epoch 222/2000\n",
            "21/21 [==============================] - 0s 3ms/step - loss: 0.0026 - mae: 0.0368 - val_loss: 0.0125 - val_mae: 0.0913\n",
            "Epoch 223/2000\n",
            "21/21 [==============================] - 0s 3ms/step - loss: 0.0026 - mae: 0.0368 - val_loss: 0.0125 - val_mae: 0.0913\n",
            "Epoch 224/2000\n",
            "21/21 [==============================] - 0s 3ms/step - loss: 0.0025 - mae: 0.0367 - val_loss: 0.0125 - val_mae: 0.0913\n",
            "Epoch 225/2000\n",
            "21/21 [==============================] - 0s 3ms/step - loss: 0.0025 - mae: 0.0366 - val_loss: 0.0125 - val_mae: 0.0912\n",
            "Epoch 226/2000\n",
            "21/21 [==============================] - 0s 3ms/step - loss: 0.0025 - mae: 0.0366 - val_loss: 0.0125 - val_mae: 0.0912\n",
            "Epoch 227/2000\n",
            "21/21 [==============================] - 0s 3ms/step - loss: 0.0025 - mae: 0.0365 - val_loss: 0.0125 - val_mae: 0.0912\n",
            "Epoch 228/2000\n",
            "21/21 [==============================] - 0s 3ms/step - loss: 0.0025 - mae: 0.0364 - val_loss: 0.0125 - val_mae: 0.0912\n",
            "Epoch 229/2000\n",
            "21/21 [==============================] - 0s 3ms/step - loss: 0.0025 - mae: 0.0364 - val_loss: 0.0125 - val_mae: 0.0912\n",
            "Epoch 230/2000\n",
            "21/21 [==============================] - 0s 3ms/step - loss: 0.0025 - mae: 0.0363 - val_loss: 0.0125 - val_mae: 0.0911\n",
            "Epoch 231/2000\n",
            "21/21 [==============================] - 0s 3ms/step - loss: 0.0025 - mae: 0.0362 - val_loss: 0.0125 - val_mae: 0.0911\n",
            "Epoch 232/2000\n",
            "21/21 [==============================] - 0s 3ms/step - loss: 0.0025 - mae: 0.0361 - val_loss: 0.0125 - val_mae: 0.0911\n",
            "Epoch 233/2000\n",
            "21/21 [==============================] - 0s 3ms/step - loss: 0.0025 - mae: 0.0361 - val_loss: 0.0125 - val_mae: 0.0910\n",
            "Epoch 234/2000\n",
            "21/21 [==============================] - 0s 4ms/step - loss: 0.0025 - mae: 0.0361 - val_loss: 0.0125 - val_mae: 0.0911\n",
            "Epoch 235/2000\n",
            "21/21 [==============================] - 0s 3ms/step - loss: 0.0025 - mae: 0.0360 - val_loss: 0.0125 - val_mae: 0.0910\n",
            "Epoch 236/2000\n",
            "21/21 [==============================] - 0s 3ms/step - loss: 0.0025 - mae: 0.0359 - val_loss: 0.0124 - val_mae: 0.0910\n",
            "Epoch 237/2000\n",
            "21/21 [==============================] - 0s 3ms/step - loss: 0.0024 - mae: 0.0359 - val_loss: 0.0124 - val_mae: 0.0910\n",
            "Epoch 238/2000\n",
            "21/21 [==============================] - 0s 3ms/step - loss: 0.0024 - mae: 0.0358 - val_loss: 0.0124 - val_mae: 0.0909\n",
            "Epoch 239/2000\n",
            "21/21 [==============================] - 0s 3ms/step - loss: 0.0024 - mae: 0.0357 - val_loss: 0.0124 - val_mae: 0.0909\n",
            "Epoch 240/2000\n",
            "21/21 [==============================] - 0s 3ms/step - loss: 0.0024 - mae: 0.0357 - val_loss: 0.0124 - val_mae: 0.0909\n",
            "Epoch 241/2000\n",
            "21/21 [==============================] - 0s 3ms/step - loss: 0.0024 - mae: 0.0356 - val_loss: 0.0124 - val_mae: 0.0908\n",
            "Epoch 242/2000\n",
            "21/21 [==============================] - 0s 3ms/step - loss: 0.0024 - mae: 0.0356 - val_loss: 0.0124 - val_mae: 0.0908\n",
            "Epoch 243/2000\n",
            "21/21 [==============================] - 0s 3ms/step - loss: 0.0024 - mae: 0.0355 - val_loss: 0.0124 - val_mae: 0.0908\n",
            "Epoch 244/2000\n",
            "21/21 [==============================] - 0s 3ms/step - loss: 0.0024 - mae: 0.0354 - val_loss: 0.0124 - val_mae: 0.0907\n",
            "Epoch 245/2000\n",
            "21/21 [==============================] - 0s 3ms/step - loss: 0.0024 - mae: 0.0354 - val_loss: 0.0124 - val_mae: 0.0907\n",
            "Epoch 246/2000\n",
            "21/21 [==============================] - 0s 3ms/step - loss: 0.0024 - mae: 0.0353 - val_loss: 0.0124 - val_mae: 0.0907\n",
            "Epoch 247/2000\n",
            "21/21 [==============================] - 0s 3ms/step - loss: 0.0024 - mae: 0.0352 - val_loss: 0.0124 - val_mae: 0.0907\n",
            "Epoch 248/2000\n",
            "21/21 [==============================] - 0s 3ms/step - loss: 0.0024 - mae: 0.0352 - val_loss: 0.0124 - val_mae: 0.0906\n",
            "Epoch 249/2000\n",
            "21/21 [==============================] - 0s 3ms/step - loss: 0.0024 - mae: 0.0351 - val_loss: 0.0124 - val_mae: 0.0906\n",
            "Epoch 250/2000\n",
            "21/21 [==============================] - 0s 3ms/step - loss: 0.0024 - mae: 0.0350 - val_loss: 0.0124 - val_mae: 0.0905\n",
            "Epoch 251/2000\n",
            "21/21 [==============================] - 0s 3ms/step - loss: 0.0023 - mae: 0.0350 - val_loss: 0.0124 - val_mae: 0.0905\n",
            "Epoch 252/2000\n",
            "21/21 [==============================] - 0s 3ms/step - loss: 0.0023 - mae: 0.0350 - val_loss: 0.0124 - val_mae: 0.0906\n",
            "Epoch 253/2000\n",
            "21/21 [==============================] - 0s 3ms/step - loss: 0.0023 - mae: 0.0349 - val_loss: 0.0124 - val_mae: 0.0906\n",
            "Epoch 254/2000\n",
            "21/21 [==============================] - 0s 3ms/step - loss: 0.0023 - mae: 0.0348 - val_loss: 0.0124 - val_mae: 0.0905\n",
            "Epoch 255/2000\n",
            "21/21 [==============================] - 0s 3ms/step - loss: 0.0023 - mae: 0.0348 - val_loss: 0.0124 - val_mae: 0.0905\n",
            "Epoch 256/2000\n",
            "21/21 [==============================] - 0s 3ms/step - loss: 0.0023 - mae: 0.0347 - val_loss: 0.0124 - val_mae: 0.0904\n",
            "Epoch 257/2000\n",
            "21/21 [==============================] - 0s 3ms/step - loss: 0.0023 - mae: 0.0346 - val_loss: 0.0124 - val_mae: 0.0904\n",
            "Epoch 258/2000\n",
            "21/21 [==============================] - 0s 3ms/step - loss: 0.0023 - mae: 0.0346 - val_loss: 0.0124 - val_mae: 0.0904\n",
            "Epoch 259/2000\n",
            "21/21 [==============================] - 0s 3ms/step - loss: 0.0023 - mae: 0.0345 - val_loss: 0.0124 - val_mae: 0.0904\n",
            "Epoch 260/2000\n",
            "21/21 [==============================] - 0s 3ms/step - loss: 0.0023 - mae: 0.0345 - val_loss: 0.0124 - val_mae: 0.0904\n",
            "Epoch 261/2000\n",
            "21/21 [==============================] - 0s 3ms/step - loss: 0.0023 - mae: 0.0344 - val_loss: 0.0124 - val_mae: 0.0903\n",
            "Epoch 262/2000\n",
            "21/21 [==============================] - 0s 3ms/step - loss: 0.0023 - mae: 0.0344 - val_loss: 0.0124 - val_mae: 0.0903\n",
            "Epoch 263/2000\n",
            "21/21 [==============================] - 0s 4ms/step - loss: 0.0023 - mae: 0.0343 - val_loss: 0.0124 - val_mae: 0.0904\n",
            "Epoch 264/2000\n",
            "21/21 [==============================] - 0s 3ms/step - loss: 0.0023 - mae: 0.0343 - val_loss: 0.0124 - val_mae: 0.0903\n",
            "Epoch 265/2000\n",
            "21/21 [==============================] - 0s 3ms/step - loss: 0.0023 - mae: 0.0342 - val_loss: 0.0124 - val_mae: 0.0902\n",
            "Epoch 266/2000\n",
            "21/21 [==============================] - 0s 3ms/step - loss: 0.0022 - mae: 0.0342 - val_loss: 0.0124 - val_mae: 0.0902\n",
            "Epoch 267/2000\n",
            "21/21 [==============================] - 0s 3ms/step - loss: 0.0022 - mae: 0.0341 - val_loss: 0.0124 - val_mae: 0.0902\n",
            "Epoch 268/2000\n",
            "21/21 [==============================] - 0s 3ms/step - loss: 0.0022 - mae: 0.0341 - val_loss: 0.0124 - val_mae: 0.0902\n",
            "Epoch 269/2000\n",
            "21/21 [==============================] - 0s 3ms/step - loss: 0.0022 - mae: 0.0340 - val_loss: 0.0123 - val_mae: 0.0902\n",
            "Epoch 270/2000\n",
            "21/21 [==============================] - 0s 3ms/step - loss: 0.0022 - mae: 0.0340 - val_loss: 0.0123 - val_mae: 0.0902\n",
            "Epoch 271/2000\n",
            "21/21 [==============================] - 0s 3ms/step - loss: 0.0022 - mae: 0.0339 - val_loss: 0.0124 - val_mae: 0.0902\n",
            "Epoch 272/2000\n",
            "21/21 [==============================] - 0s 3ms/step - loss: 0.0022 - mae: 0.0338 - val_loss: 0.0124 - val_mae: 0.0902\n",
            "Epoch 273/2000\n",
            "21/21 [==============================] - 0s 3ms/step - loss: 0.0022 - mae: 0.0337 - val_loss: 0.0123 - val_mae: 0.0901\n",
            "Epoch 274/2000\n",
            "21/21 [==============================] - 0s 3ms/step - loss: 0.0022 - mae: 0.0337 - val_loss: 0.0123 - val_mae: 0.0901\n",
            "Epoch 275/2000\n",
            "21/21 [==============================] - 0s 3ms/step - loss: 0.0022 - mae: 0.0337 - val_loss: 0.0123 - val_mae: 0.0901\n",
            "Epoch 276/2000\n",
            "21/21 [==============================] - 0s 3ms/step - loss: 0.0022 - mae: 0.0336 - val_loss: 0.0123 - val_mae: 0.0901\n",
            "Epoch 277/2000\n",
            "21/21 [==============================] - 0s 3ms/step - loss: 0.0022 - mae: 0.0335 - val_loss: 0.0123 - val_mae: 0.0900\n",
            "Epoch 278/2000\n",
            "21/21 [==============================] - 0s 3ms/step - loss: 0.0022 - mae: 0.0335 - val_loss: 0.0123 - val_mae: 0.0900\n",
            "Epoch 279/2000\n",
            "21/21 [==============================] - 0s 3ms/step - loss: 0.0022 - mae: 0.0334 - val_loss: 0.0123 - val_mae: 0.0900\n",
            "Epoch 280/2000\n",
            "21/21 [==============================] - 0s 3ms/step - loss: 0.0022 - mae: 0.0334 - val_loss: 0.0123 - val_mae: 0.0899\n",
            "Epoch 281/2000\n",
            "21/21 [==============================] - 0s 3ms/step - loss: 0.0022 - mae: 0.0334 - val_loss: 0.0123 - val_mae: 0.0900\n",
            "Epoch 282/2000\n",
            "21/21 [==============================] - 0s 3ms/step - loss: 0.0022 - mae: 0.0333 - val_loss: 0.0123 - val_mae: 0.0899\n",
            "Epoch 283/2000\n",
            "21/21 [==============================] - 0s 3ms/step - loss: 0.0021 - mae: 0.0333 - val_loss: 0.0123 - val_mae: 0.0899\n",
            "Epoch 284/2000\n",
            "21/21 [==============================] - 0s 3ms/step - loss: 0.0021 - mae: 0.0332 - val_loss: 0.0123 - val_mae: 0.0899\n",
            "Epoch 285/2000\n",
            "21/21 [==============================] - 0s 3ms/step - loss: 0.0021 - mae: 0.0331 - val_loss: 0.0123 - val_mae: 0.0899\n",
            "Epoch 286/2000\n",
            "21/21 [==============================] - 0s 3ms/step - loss: 0.0021 - mae: 0.0331 - val_loss: 0.0123 - val_mae: 0.0898\n",
            "Epoch 287/2000\n",
            "21/21 [==============================] - 0s 3ms/step - loss: 0.0021 - mae: 0.0331 - val_loss: 0.0123 - val_mae: 0.0898\n",
            "Epoch 288/2000\n",
            "21/21 [==============================] - 0s 3ms/step - loss: 0.0021 - mae: 0.0330 - val_loss: 0.0123 - val_mae: 0.0898\n",
            "Epoch 289/2000\n",
            "21/21 [==============================] - 0s 3ms/step - loss: 0.0021 - mae: 0.0329 - val_loss: 0.0123 - val_mae: 0.0898\n",
            "Epoch 290/2000\n",
            "21/21 [==============================] - 0s 3ms/step - loss: 0.0021 - mae: 0.0329 - val_loss: 0.0123 - val_mae: 0.0897\n",
            "Epoch 291/2000\n",
            "21/21 [==============================] - 0s 3ms/step - loss: 0.0021 - mae: 0.0328 - val_loss: 0.0123 - val_mae: 0.0898\n",
            "Epoch 292/2000\n",
            "21/21 [==============================] - 0s 3ms/step - loss: 0.0021 - mae: 0.0328 - val_loss: 0.0123 - val_mae: 0.0897\n",
            "Epoch 293/2000\n",
            "21/21 [==============================] - 0s 3ms/step - loss: 0.0021 - mae: 0.0327 - val_loss: 0.0123 - val_mae: 0.0897\n",
            "Epoch 294/2000\n",
            "21/21 [==============================] - 0s 3ms/step - loss: 0.0021 - mae: 0.0327 - val_loss: 0.0123 - val_mae: 0.0897\n",
            "Epoch 295/2000\n",
            "21/21 [==============================] - 0s 3ms/step - loss: 0.0021 - mae: 0.0326 - val_loss: 0.0123 - val_mae: 0.0896\n",
            "Epoch 296/2000\n",
            "21/21 [==============================] - 0s 3ms/step - loss: 0.0021 - mae: 0.0326 - val_loss: 0.0123 - val_mae: 0.0897\n",
            "Epoch 297/2000\n",
            "21/21 [==============================] - 0s 3ms/step - loss: 0.0021 - mae: 0.0325 - val_loss: 0.0123 - val_mae: 0.0896\n",
            "Epoch 298/2000\n",
            "21/21 [==============================] - 0s 3ms/step - loss: 0.0021 - mae: 0.0325 - val_loss: 0.0123 - val_mae: 0.0896\n",
            "Epoch 299/2000\n",
            "21/21 [==============================] - 0s 3ms/step - loss: 0.0021 - mae: 0.0324 - val_loss: 0.0123 - val_mae: 0.0896\n",
            "Epoch 300/2000\n",
            "21/21 [==============================] - 0s 3ms/step - loss: 0.0021 - mae: 0.0325 - val_loss: 0.0123 - val_mae: 0.0896\n",
            "Epoch 301/2000\n",
            "21/21 [==============================] - 0s 3ms/step - loss: 0.0020 - mae: 0.0323 - val_loss: 0.0123 - val_mae: 0.0895\n",
            "Epoch 302/2000\n",
            "21/21 [==============================] - 0s 3ms/step - loss: 0.0020 - mae: 0.0323 - val_loss: 0.0123 - val_mae: 0.0895\n",
            "Epoch 303/2000\n",
            "21/21 [==============================] - 0s 3ms/step - loss: 0.0020 - mae: 0.0323 - val_loss: 0.0123 - val_mae: 0.0895\n",
            "Epoch 304/2000\n",
            "21/21 [==============================] - 0s 3ms/step - loss: 0.0020 - mae: 0.0322 - val_loss: 0.0123 - val_mae: 0.0895\n",
            "Epoch 305/2000\n",
            "21/21 [==============================] - 0s 3ms/step - loss: 0.0020 - mae: 0.0321 - val_loss: 0.0123 - val_mae: 0.0895\n",
            "Epoch 306/2000\n",
            "21/21 [==============================] - 0s 4ms/step - loss: 0.0020 - mae: 0.0321 - val_loss: 0.0123 - val_mae: 0.0895\n",
            "Epoch 307/2000\n",
            "21/21 [==============================] - 0s 3ms/step - loss: 0.0020 - mae: 0.0320 - val_loss: 0.0123 - val_mae: 0.0894\n",
            "Epoch 308/2000\n",
            "21/21 [==============================] - 0s 3ms/step - loss: 0.0020 - mae: 0.0320 - val_loss: 0.0123 - val_mae: 0.0894\n",
            "Epoch 309/2000\n",
            "21/21 [==============================] - 0s 3ms/step - loss: 0.0020 - mae: 0.0320 - val_loss: 0.0123 - val_mae: 0.0894\n",
            "Epoch 310/2000\n",
            "21/21 [==============================] - 0s 3ms/step - loss: 0.0020 - mae: 0.0319 - val_loss: 0.0123 - val_mae: 0.0894\n",
            "Epoch 311/2000\n",
            "21/21 [==============================] - 0s 3ms/step - loss: 0.0020 - mae: 0.0319 - val_loss: 0.0123 - val_mae: 0.0894\n",
            "Epoch 312/2000\n",
            "21/21 [==============================] - 0s 3ms/step - loss: 0.0020 - mae: 0.0318 - val_loss: 0.0123 - val_mae: 0.0893\n",
            "Epoch 313/2000\n",
            "21/21 [==============================] - 0s 3ms/step - loss: 0.0020 - mae: 0.0318 - val_loss: 0.0123 - val_mae: 0.0893\n",
            "Epoch 314/2000\n",
            "21/21 [==============================] - 0s 3ms/step - loss: 0.0020 - mae: 0.0317 - val_loss: 0.0123 - val_mae: 0.0893\n",
            "Epoch 315/2000\n",
            "21/21 [==============================] - 0s 3ms/step - loss: 0.0020 - mae: 0.0317 - val_loss: 0.0122 - val_mae: 0.0893\n",
            "Epoch 316/2000\n",
            "21/21 [==============================] - 0s 3ms/step - loss: 0.0020 - mae: 0.0317 - val_loss: 0.0122 - val_mae: 0.0893\n",
            "Epoch 317/2000\n",
            "21/21 [==============================] - 0s 3ms/step - loss: 0.0020 - mae: 0.0316 - val_loss: 0.0122 - val_mae: 0.0893\n",
            "Epoch 318/2000\n",
            "21/21 [==============================] - 0s 3ms/step - loss: 0.0020 - mae: 0.0315 - val_loss: 0.0122 - val_mae: 0.0892\n",
            "Epoch 319/2000\n",
            "21/21 [==============================] - 0s 3ms/step - loss: 0.0020 - mae: 0.0315 - val_loss: 0.0122 - val_mae: 0.0892\n",
            "Epoch 320/2000\n",
            "21/21 [==============================] - 0s 3ms/step - loss: 0.0020 - mae: 0.0315 - val_loss: 0.0122 - val_mae: 0.0892\n",
            "Epoch 321/2000\n",
            "21/21 [==============================] - 0s 3ms/step - loss: 0.0020 - mae: 0.0314 - val_loss: 0.0122 - val_mae: 0.0892\n",
            "Epoch 322/2000\n",
            "21/21 [==============================] - 0s 3ms/step - loss: 0.0019 - mae: 0.0313 - val_loss: 0.0122 - val_mae: 0.0891\n",
            "Epoch 323/2000\n",
            "21/21 [==============================] - 0s 3ms/step - loss: 0.0019 - mae: 0.0314 - val_loss: 0.0122 - val_mae: 0.0891\n",
            "Epoch 324/2000\n",
            "21/21 [==============================] - 0s 3ms/step - loss: 0.0019 - mae: 0.0313 - val_loss: 0.0122 - val_mae: 0.0891\n",
            "Epoch 325/2000\n",
            "21/21 [==============================] - 0s 3ms/step - loss: 0.0019 - mae: 0.0312 - val_loss: 0.0122 - val_mae: 0.0891\n",
            "Epoch 326/2000\n",
            "21/21 [==============================] - 0s 3ms/step - loss: 0.0019 - mae: 0.0312 - val_loss: 0.0122 - val_mae: 0.0891\n",
            "Epoch 327/2000\n",
            "21/21 [==============================] - 0s 3ms/step - loss: 0.0019 - mae: 0.0312 - val_loss: 0.0122 - val_mae: 0.0891\n",
            "Epoch 328/2000\n",
            "21/21 [==============================] - 0s 3ms/step - loss: 0.0019 - mae: 0.0311 - val_loss: 0.0122 - val_mae: 0.0890\n",
            "Epoch 329/2000\n",
            "21/21 [==============================] - 0s 3ms/step - loss: 0.0019 - mae: 0.0311 - val_loss: 0.0122 - val_mae: 0.0890\n",
            "Epoch 330/2000\n",
            "21/21 [==============================] - 0s 3ms/step - loss: 0.0019 - mae: 0.0310 - val_loss: 0.0122 - val_mae: 0.0890\n",
            "Epoch 331/2000\n",
            "21/21 [==============================] - 0s 3ms/step - loss: 0.0019 - mae: 0.0310 - val_loss: 0.0122 - val_mae: 0.0890\n",
            "Epoch 332/2000\n",
            "21/21 [==============================] - 0s 3ms/step - loss: 0.0019 - mae: 0.0309 - val_loss: 0.0122 - val_mae: 0.0890\n",
            "Epoch 333/2000\n",
            "21/21 [==============================] - 0s 3ms/step - loss: 0.0019 - mae: 0.0309 - val_loss: 0.0122 - val_mae: 0.0890\n",
            "Epoch 334/2000\n",
            "21/21 [==============================] - 0s 3ms/step - loss: 0.0019 - mae: 0.0308 - val_loss: 0.0122 - val_mae: 0.0890\n",
            "Epoch 335/2000\n",
            "21/21 [==============================] - 0s 3ms/step - loss: 0.0019 - mae: 0.0308 - val_loss: 0.0122 - val_mae: 0.0889\n",
            "Epoch 336/2000\n",
            "21/21 [==============================] - 0s 3ms/step - loss: 0.0019 - mae: 0.0307 - val_loss: 0.0122 - val_mae: 0.0889\n",
            "Epoch 337/2000\n",
            "21/21 [==============================] - 0s 3ms/step - loss: 0.0019 - mae: 0.0307 - val_loss: 0.0122 - val_mae: 0.0889\n",
            "Epoch 338/2000\n",
            "21/21 [==============================] - 0s 3ms/step - loss: 0.0019 - mae: 0.0307 - val_loss: 0.0122 - val_mae: 0.0889\n",
            "Epoch 339/2000\n",
            "21/21 [==============================] - 0s 3ms/step - loss: 0.0019 - mae: 0.0307 - val_loss: 0.0122 - val_mae: 0.0889\n",
            "Epoch 340/2000\n",
            "21/21 [==============================] - 0s 3ms/step - loss: 0.0019 - mae: 0.0306 - val_loss: 0.0122 - val_mae: 0.0889\n",
            "Epoch 341/2000\n",
            "21/21 [==============================] - 0s 3ms/step - loss: 0.0019 - mae: 0.0306 - val_loss: 0.0122 - val_mae: 0.0889\n",
            "Epoch 342/2000\n",
            "21/21 [==============================] - 0s 3ms/step - loss: 0.0019 - mae: 0.0305 - val_loss: 0.0122 - val_mae: 0.0889\n",
            "Epoch 343/2000\n",
            "21/21 [==============================] - 0s 3ms/step - loss: 0.0019 - mae: 0.0305 - val_loss: 0.0122 - val_mae: 0.0888\n",
            "Epoch 344/2000\n",
            "21/21 [==============================] - 0s 3ms/step - loss: 0.0018 - mae: 0.0304 - val_loss: 0.0122 - val_mae: 0.0888\n",
            "Epoch 345/2000\n",
            "21/21 [==============================] - 0s 3ms/step - loss: 0.0018 - mae: 0.0304 - val_loss: 0.0122 - val_mae: 0.0888\n",
            "Epoch 346/2000\n",
            "21/21 [==============================] - 0s 3ms/step - loss: 0.0018 - mae: 0.0304 - val_loss: 0.0122 - val_mae: 0.0888\n",
            "Epoch 347/2000\n",
            "21/21 [==============================] - 0s 3ms/step - loss: 0.0018 - mae: 0.0303 - val_loss: 0.0122 - val_mae: 0.0888\n",
            "Epoch 348/2000\n",
            "21/21 [==============================] - 0s 3ms/step - loss: 0.0018 - mae: 0.0302 - val_loss: 0.0122 - val_mae: 0.0888\n",
            "Epoch 349/2000\n",
            "21/21 [==============================] - 0s 3ms/step - loss: 0.0018 - mae: 0.0302 - val_loss: 0.0122 - val_mae: 0.0888\n",
            "Epoch 350/2000\n",
            "21/21 [==============================] - 0s 3ms/step - loss: 0.0018 - mae: 0.0302 - val_loss: 0.0122 - val_mae: 0.0888\n",
            "Epoch 351/2000\n",
            "21/21 [==============================] - 0s 3ms/step - loss: 0.0018 - mae: 0.0302 - val_loss: 0.0122 - val_mae: 0.0888\n",
            "Epoch 352/2000\n",
            "21/21 [==============================] - 0s 3ms/step - loss: 0.0018 - mae: 0.0301 - val_loss: 0.0122 - val_mae: 0.0888\n",
            "Epoch 353/2000\n",
            "21/21 [==============================] - 0s 3ms/step - loss: 0.0018 - mae: 0.0301 - val_loss: 0.0122 - val_mae: 0.0888\n",
            "Epoch 354/2000\n",
            "21/21 [==============================] - 0s 3ms/step - loss: 0.0018 - mae: 0.0300 - val_loss: 0.0122 - val_mae: 0.0887\n",
            "Epoch 355/2000\n",
            "21/21 [==============================] - 0s 3ms/step - loss: 0.0018 - mae: 0.0300 - val_loss: 0.0122 - val_mae: 0.0887\n",
            "Epoch 356/2000\n",
            "21/21 [==============================] - 0s 3ms/step - loss: 0.0018 - mae: 0.0299 - val_loss: 0.0122 - val_mae: 0.0887\n",
            "Epoch 357/2000\n",
            "21/21 [==============================] - 0s 3ms/step - loss: 0.0018 - mae: 0.0299 - val_loss: 0.0122 - val_mae: 0.0887\n",
            "Epoch 358/2000\n",
            "21/21 [==============================] - 0s 3ms/step - loss: 0.0018 - mae: 0.0299 - val_loss: 0.0122 - val_mae: 0.0887\n",
            "Epoch 359/2000\n",
            "21/21 [==============================] - 0s 3ms/step - loss: 0.0018 - mae: 0.0299 - val_loss: 0.0122 - val_mae: 0.0887\n",
            "Epoch 360/2000\n",
            "21/21 [==============================] - 0s 3ms/step - loss: 0.0018 - mae: 0.0298 - val_loss: 0.0122 - val_mae: 0.0887\n",
            "Epoch 361/2000\n",
            "21/21 [==============================] - 0s 3ms/step - loss: 0.0018 - mae: 0.0297 - val_loss: 0.0122 - val_mae: 0.0886\n",
            "Epoch 362/2000\n",
            "21/21 [==============================] - 0s 3ms/step - loss: 0.0018 - mae: 0.0297 - val_loss: 0.0122 - val_mae: 0.0887\n",
            "Epoch 363/2000\n",
            "21/21 [==============================] - 0s 4ms/step - loss: 0.0018 - mae: 0.0297 - val_loss: 0.0122 - val_mae: 0.0886\n",
            "Epoch 364/2000\n",
            "21/21 [==============================] - 0s 3ms/step - loss: 0.0018 - mae: 0.0296 - val_loss: 0.0122 - val_mae: 0.0886\n",
            "Epoch 365/2000\n",
            "21/21 [==============================] - 0s 3ms/step - loss: 0.0018 - mae: 0.0296 - val_loss: 0.0122 - val_mae: 0.0886\n",
            "Epoch 366/2000\n",
            "21/21 [==============================] - 0s 3ms/step - loss: 0.0018 - mae: 0.0295 - val_loss: 0.0122 - val_mae: 0.0886\n",
            "Epoch 367/2000\n",
            "21/21 [==============================] - 0s 3ms/step - loss: 0.0018 - mae: 0.0295 - val_loss: 0.0122 - val_mae: 0.0886\n",
            "Epoch 368/2000\n",
            "21/21 [==============================] - 0s 3ms/step - loss: 0.0017 - mae: 0.0294 - val_loss: 0.0122 - val_mae: 0.0886\n",
            "Epoch 369/2000\n",
            "21/21 [==============================] - 0s 3ms/step - loss: 0.0017 - mae: 0.0295 - val_loss: 0.0122 - val_mae: 0.0886\n",
            "Epoch 370/2000\n",
            "21/21 [==============================] - 0s 3ms/step - loss: 0.0017 - mae: 0.0294 - val_loss: 0.0122 - val_mae: 0.0885\n",
            "Epoch 371/2000\n",
            "21/21 [==============================] - 0s 3ms/step - loss: 0.0017 - mae: 0.0293 - val_loss: 0.0122 - val_mae: 0.0885\n",
            "Epoch 372/2000\n",
            "21/21 [==============================] - 0s 3ms/step - loss: 0.0017 - mae: 0.0293 - val_loss: 0.0121 - val_mae: 0.0885\n",
            "Epoch 373/2000\n",
            "21/21 [==============================] - 0s 3ms/step - loss: 0.0017 - mae: 0.0293 - val_loss: 0.0122 - val_mae: 0.0885\n",
            "Epoch 374/2000\n",
            "21/21 [==============================] - 0s 3ms/step - loss: 0.0017 - mae: 0.0292 - val_loss: 0.0121 - val_mae: 0.0885\n",
            "Epoch 375/2000\n",
            "21/21 [==============================] - 0s 3ms/step - loss: 0.0017 - mae: 0.0292 - val_loss: 0.0121 - val_mae: 0.0885\n",
            "Epoch 376/2000\n",
            "21/21 [==============================] - 0s 3ms/step - loss: 0.0017 - mae: 0.0292 - val_loss: 0.0121 - val_mae: 0.0885\n",
            "Epoch 377/2000\n",
            "21/21 [==============================] - 0s 3ms/step - loss: 0.0017 - mae: 0.0291 - val_loss: 0.0121 - val_mae: 0.0885\n",
            "Epoch 378/2000\n",
            "21/21 [==============================] - 0s 3ms/step - loss: 0.0017 - mae: 0.0291 - val_loss: 0.0121 - val_mae: 0.0884\n",
            "Epoch 379/2000\n",
            "21/21 [==============================] - 0s 3ms/step - loss: 0.0017 - mae: 0.0291 - val_loss: 0.0121 - val_mae: 0.0884\n",
            "Epoch 380/2000\n",
            "21/21 [==============================] - 0s 3ms/step - loss: 0.0017 - mae: 0.0290 - val_loss: 0.0121 - val_mae: 0.0884\n",
            "Epoch 381/2000\n",
            "21/21 [==============================] - 0s 3ms/step - loss: 0.0017 - mae: 0.0290 - val_loss: 0.0121 - val_mae: 0.0884\n",
            "Epoch 382/2000\n",
            "21/21 [==============================] - 0s 3ms/step - loss: 0.0017 - mae: 0.0289 - val_loss: 0.0121 - val_mae: 0.0884\n",
            "Epoch 383/2000\n",
            "21/21 [==============================] - 0s 3ms/step - loss: 0.0017 - mae: 0.0289 - val_loss: 0.0121 - val_mae: 0.0884\n",
            "Epoch 384/2000\n",
            "21/21 [==============================] - 0s 3ms/step - loss: 0.0017 - mae: 0.0289 - val_loss: 0.0121 - val_mae: 0.0884\n",
            "Epoch 385/2000\n",
            "21/21 [==============================] - 0s 3ms/step - loss: 0.0017 - mae: 0.0288 - val_loss: 0.0121 - val_mae: 0.0884\n",
            "Epoch 386/2000\n",
            "21/21 [==============================] - 0s 3ms/step - loss: 0.0017 - mae: 0.0288 - val_loss: 0.0121 - val_mae: 0.0883\n",
            "Epoch 387/2000\n",
            "21/21 [==============================] - 0s 3ms/step - loss: 0.0017 - mae: 0.0288 - val_loss: 0.0121 - val_mae: 0.0883\n",
            "Epoch 388/2000\n",
            "21/21 [==============================] - 0s 3ms/step - loss: 0.0017 - mae: 0.0287 - val_loss: 0.0121 - val_mae: 0.0883\n",
            "Epoch 389/2000\n",
            "21/21 [==============================] - 0s 3ms/step - loss: 0.0017 - mae: 0.0287 - val_loss: 0.0121 - val_mae: 0.0883\n",
            "Epoch 390/2000\n",
            "21/21 [==============================] - 0s 3ms/step - loss: 0.0017 - mae: 0.0286 - val_loss: 0.0121 - val_mae: 0.0883\n",
            "Epoch 391/2000\n",
            "21/21 [==============================] - 0s 3ms/step - loss: 0.0017 - mae: 0.0286 - val_loss: 0.0121 - val_mae: 0.0883\n",
            "Epoch 392/2000\n",
            "21/21 [==============================] - 0s 4ms/step - loss: 0.0017 - mae: 0.0286 - val_loss: 0.0121 - val_mae: 0.0883\n",
            "Epoch 393/2000\n",
            "21/21 [==============================] - 0s 3ms/step - loss: 0.0017 - mae: 0.0285 - val_loss: 0.0121 - val_mae: 0.0883\n",
            "Epoch 394/2000\n",
            "21/21 [==============================] - 0s 3ms/step - loss: 0.0017 - mae: 0.0285 - val_loss: 0.0121 - val_mae: 0.0883\n",
            "Epoch 395/2000\n",
            "21/21 [==============================] - 0s 3ms/step - loss: 0.0016 - mae: 0.0284 - val_loss: 0.0121 - val_mae: 0.0883\n",
            "Epoch 396/2000\n",
            "21/21 [==============================] - 0s 3ms/step - loss: 0.0016 - mae: 0.0284 - val_loss: 0.0121 - val_mae: 0.0883\n",
            "Epoch 397/2000\n",
            "21/21 [==============================] - 0s 3ms/step - loss: 0.0016 - mae: 0.0284 - val_loss: 0.0121 - val_mae: 0.0883\n",
            "Epoch 398/2000\n",
            "21/21 [==============================] - 0s 3ms/step - loss: 0.0016 - mae: 0.0283 - val_loss: 0.0121 - val_mae: 0.0882\n",
            "Epoch 399/2000\n",
            "21/21 [==============================] - 0s 3ms/step - loss: 0.0016 - mae: 0.0283 - val_loss: 0.0121 - val_mae: 0.0882\n",
            "Epoch 400/2000\n",
            "21/21 [==============================] - 0s 3ms/step - loss: 0.0016 - mae: 0.0283 - val_loss: 0.0121 - val_mae: 0.0882\n",
            "Epoch 401/2000\n",
            "21/21 [==============================] - 0s 3ms/step - loss: 0.0016 - mae: 0.0282 - val_loss: 0.0121 - val_mae: 0.0882\n",
            "Epoch 402/2000\n",
            "21/21 [==============================] - 0s 3ms/step - loss: 0.0016 - mae: 0.0282 - val_loss: 0.0121 - val_mae: 0.0882\n",
            "Epoch 403/2000\n",
            "21/21 [==============================] - 0s 3ms/step - loss: 0.0016 - mae: 0.0282 - val_loss: 0.0121 - val_mae: 0.0882\n",
            "Epoch 404/2000\n",
            "21/21 [==============================] - 0s 3ms/step - loss: 0.0016 - mae: 0.0281 - val_loss: 0.0121 - val_mae: 0.0882\n",
            "Epoch 405/2000\n",
            "21/21 [==============================] - 0s 3ms/step - loss: 0.0016 - mae: 0.0281 - val_loss: 0.0121 - val_mae: 0.0882\n",
            "Epoch 406/2000\n",
            "21/21 [==============================] - 0s 3ms/step - loss: 0.0016 - mae: 0.0281 - val_loss: 0.0121 - val_mae: 0.0881\n",
            "Epoch 407/2000\n",
            "21/21 [==============================] - 0s 3ms/step - loss: 0.0016 - mae: 0.0280 - val_loss: 0.0121 - val_mae: 0.0881\n",
            "Epoch 408/2000\n",
            "21/21 [==============================] - 0s 3ms/step - loss: 0.0016 - mae: 0.0280 - val_loss: 0.0121 - val_mae: 0.0881\n",
            "Epoch 409/2000\n",
            "21/21 [==============================] - 0s 3ms/step - loss: 0.0016 - mae: 0.0280 - val_loss: 0.0121 - val_mae: 0.0881\n",
            "Epoch 410/2000\n",
            "21/21 [==============================] - 0s 3ms/step - loss: 0.0016 - mae: 0.0279 - val_loss: 0.0121 - val_mae: 0.0881\n",
            "Epoch 411/2000\n",
            "21/21 [==============================] - 0s 3ms/step - loss: 0.0016 - mae: 0.0279 - val_loss: 0.0121 - val_mae: 0.0881\n",
            "Epoch 412/2000\n",
            "21/21 [==============================] - 0s 3ms/step - loss: 0.0016 - mae: 0.0278 - val_loss: 0.0121 - val_mae: 0.0881\n",
            "Epoch 413/2000\n",
            "21/21 [==============================] - 0s 3ms/step - loss: 0.0016 - mae: 0.0278 - val_loss: 0.0121 - val_mae: 0.0881\n",
            "Epoch 414/2000\n",
            "21/21 [==============================] - 0s 3ms/step - loss: 0.0016 - mae: 0.0278 - val_loss: 0.0121 - val_mae: 0.0881\n",
            "Epoch 415/2000\n",
            "21/21 [==============================] - 0s 3ms/step - loss: 0.0016 - mae: 0.0277 - val_loss: 0.0121 - val_mae: 0.0880\n",
            "Epoch 416/2000\n",
            "21/21 [==============================] - 0s 3ms/step - loss: 0.0016 - mae: 0.0277 - val_loss: 0.0121 - val_mae: 0.0880\n",
            "Epoch 417/2000\n",
            "21/21 [==============================] - 0s 3ms/step - loss: 0.0016 - mae: 0.0277 - val_loss: 0.0121 - val_mae: 0.0880\n",
            "Epoch 418/2000\n",
            "21/21 [==============================] - 0s 3ms/step - loss: 0.0016 - mae: 0.0276 - val_loss: 0.0121 - val_mae: 0.0880\n",
            "Epoch 419/2000\n",
            "21/21 [==============================] - 0s 3ms/step - loss: 0.0016 - mae: 0.0276 - val_loss: 0.0121 - val_mae: 0.0880\n",
            "Epoch 420/2000\n",
            "21/21 [==============================] - 0s 3ms/step - loss: 0.0016 - mae: 0.0276 - val_loss: 0.0121 - val_mae: 0.0880\n",
            "Epoch 421/2000\n",
            "21/21 [==============================] - 0s 3ms/step - loss: 0.0016 - mae: 0.0275 - val_loss: 0.0121 - val_mae: 0.0880\n",
            "Epoch 422/2000\n",
            "21/21 [==============================] - 0s 3ms/step - loss: 0.0016 - mae: 0.0275 - val_loss: 0.0121 - val_mae: 0.0880\n",
            "Epoch 423/2000\n",
            "21/21 [==============================] - 0s 3ms/step - loss: 0.0016 - mae: 0.0275 - val_loss: 0.0121 - val_mae: 0.0880\n",
            "Epoch 424/2000\n",
            "21/21 [==============================] - 0s 3ms/step - loss: 0.0016 - mae: 0.0274 - val_loss: 0.0121 - val_mae: 0.0880\n",
            "Epoch 425/2000\n",
            "21/21 [==============================] - 0s 3ms/step - loss: 0.0015 - mae: 0.0274 - val_loss: 0.0121 - val_mae: 0.0880\n",
            "Epoch 426/2000\n",
            "21/21 [==============================] - 0s 3ms/step - loss: 0.0015 - mae: 0.0274 - val_loss: 0.0121 - val_mae: 0.0879\n",
            "Epoch 427/2000\n",
            "21/21 [==============================] - 0s 3ms/step - loss: 0.0015 - mae: 0.0273 - val_loss: 0.0121 - val_mae: 0.0879\n",
            "Epoch 428/2000\n",
            "21/21 [==============================] - 0s 3ms/step - loss: 0.0015 - mae: 0.0273 - val_loss: 0.0121 - val_mae: 0.0879\n",
            "Epoch 429/2000\n",
            "21/21 [==============================] - 0s 3ms/step - loss: 0.0015 - mae: 0.0273 - val_loss: 0.0121 - val_mae: 0.0879\n",
            "Epoch 430/2000\n",
            "21/21 [==============================] - 0s 3ms/step - loss: 0.0015 - mae: 0.0273 - val_loss: 0.0121 - val_mae: 0.0879\n",
            "Epoch 431/2000\n",
            "21/21 [==============================] - 0s 3ms/step - loss: 0.0015 - mae: 0.0272 - val_loss: 0.0121 - val_mae: 0.0879\n",
            "Epoch 432/2000\n",
            "21/21 [==============================] - 0s 3ms/step - loss: 0.0015 - mae: 0.0272 - val_loss: 0.0121 - val_mae: 0.0879\n",
            "Epoch 433/2000\n",
            "21/21 [==============================] - 0s 3ms/step - loss: 0.0015 - mae: 0.0271 - val_loss: 0.0121 - val_mae: 0.0879\n",
            "Epoch 434/2000\n",
            "21/21 [==============================] - 0s 3ms/step - loss: 0.0015 - mae: 0.0271 - val_loss: 0.0121 - val_mae: 0.0879\n",
            "Epoch 435/2000\n",
            "21/21 [==============================] - 0s 3ms/step - loss: 0.0015 - mae: 0.0271 - val_loss: 0.0121 - val_mae: 0.0879\n",
            "Epoch 436/2000\n",
            "21/21 [==============================] - 0s 3ms/step - loss: 0.0015 - mae: 0.0270 - val_loss: 0.0121 - val_mae: 0.0879\n",
            "Epoch 437/2000\n",
            "21/21 [==============================] - 0s 3ms/step - loss: 0.0015 - mae: 0.0270 - val_loss: 0.0121 - val_mae: 0.0879\n",
            "Epoch 438/2000\n",
            "21/21 [==============================] - 0s 3ms/step - loss: 0.0015 - mae: 0.0270 - val_loss: 0.0121 - val_mae: 0.0879\n",
            "Epoch 439/2000\n",
            "21/21 [==============================] - 0s 3ms/step - loss: 0.0015 - mae: 0.0270 - val_loss: 0.0121 - val_mae: 0.0879\n",
            "Epoch 440/2000\n",
            "21/21 [==============================] - 0s 3ms/step - loss: 0.0015 - mae: 0.0269 - val_loss: 0.0121 - val_mae: 0.0879\n",
            "Epoch 441/2000\n",
            "21/21 [==============================] - 0s 3ms/step - loss: 0.0015 - mae: 0.0269 - val_loss: 0.0121 - val_mae: 0.0878\n",
            "Epoch 442/2000\n",
            "21/21 [==============================] - 0s 3ms/step - loss: 0.0015 - mae: 0.0269 - val_loss: 0.0121 - val_mae: 0.0878\n",
            "Epoch 443/2000\n",
            "21/21 [==============================] - 0s 3ms/step - loss: 0.0015 - mae: 0.0268 - val_loss: 0.0121 - val_mae: 0.0878\n",
            "Epoch 444/2000\n",
            "21/21 [==============================] - 0s 3ms/step - loss: 0.0015 - mae: 0.0268 - val_loss: 0.0121 - val_mae: 0.0878\n",
            "Epoch 445/2000\n",
            "21/21 [==============================] - 0s 3ms/step - loss: 0.0015 - mae: 0.0268 - val_loss: 0.0121 - val_mae: 0.0878\n",
            "Epoch 446/2000\n",
            "21/21 [==============================] - 0s 3ms/step - loss: 0.0015 - mae: 0.0267 - val_loss: 0.0121 - val_mae: 0.0878\n",
            "Epoch 447/2000\n",
            "21/21 [==============================] - 0s 3ms/step - loss: 0.0015 - mae: 0.0267 - val_loss: 0.0121 - val_mae: 0.0878\n",
            "Epoch 448/2000\n",
            "21/21 [==============================] - 0s 3ms/step - loss: 0.0015 - mae: 0.0267 - val_loss: 0.0121 - val_mae: 0.0878\n",
            "Epoch 449/2000\n",
            "21/21 [==============================] - 0s 3ms/step - loss: 0.0015 - mae: 0.0266 - val_loss: 0.0121 - val_mae: 0.0878\n",
            "Epoch 450/2000\n",
            "21/21 [==============================] - 0s 4ms/step - loss: 0.0015 - mae: 0.0266 - val_loss: 0.0121 - val_mae: 0.0878\n",
            "Epoch 451/2000\n",
            "21/21 [==============================] - 0s 3ms/step - loss: 0.0015 - mae: 0.0266 - val_loss: 0.0121 - val_mae: 0.0878\n",
            "Epoch 452/2000\n",
            "21/21 [==============================] - 0s 3ms/step - loss: 0.0015 - mae: 0.0265 - val_loss: 0.0120 - val_mae: 0.0878\n",
            "Epoch 453/2000\n",
            "21/21 [==============================] - 0s 3ms/step - loss: 0.0015 - mae: 0.0265 - val_loss: 0.0121 - val_mae: 0.0878\n",
            "Epoch 454/2000\n",
            "21/21 [==============================] - 0s 3ms/step - loss: 0.0015 - mae: 0.0265 - val_loss: 0.0120 - val_mae: 0.0878\n",
            "Epoch 455/2000\n",
            "21/21 [==============================] - 0s 3ms/step - loss: 0.0015 - mae: 0.0265 - val_loss: 0.0120 - val_mae: 0.0878\n",
            "Epoch 456/2000\n",
            "21/21 [==============================] - 0s 3ms/step - loss: 0.0015 - mae: 0.0264 - val_loss: 0.0121 - val_mae: 0.0878\n",
            "Epoch 457/2000\n",
            "21/21 [==============================] - 0s 3ms/step - loss: 0.0015 - mae: 0.0264 - val_loss: 0.0121 - val_mae: 0.0877\n",
            "Epoch 458/2000\n",
            "21/21 [==============================] - 0s 3ms/step - loss: 0.0014 - mae: 0.0264 - val_loss: 0.0121 - val_mae: 0.0877\n",
            "Epoch 459/2000\n",
            "21/21 [==============================] - 0s 3ms/step - loss: 0.0014 - mae: 0.0263 - val_loss: 0.0121 - val_mae: 0.0877\n",
            "Epoch 460/2000\n",
            "21/21 [==============================] - 0s 3ms/step - loss: 0.0014 - mae: 0.0263 - val_loss: 0.0120 - val_mae: 0.0877\n",
            "Epoch 461/2000\n",
            "21/21 [==============================] - 0s 3ms/step - loss: 0.0014 - mae: 0.0263 - val_loss: 0.0120 - val_mae: 0.0877\n",
            "Epoch 462/2000\n",
            "21/21 [==============================] - 0s 3ms/step - loss: 0.0014 - mae: 0.0262 - val_loss: 0.0120 - val_mae: 0.0877\n",
            "Epoch 463/2000\n",
            "21/21 [==============================] - 0s 3ms/step - loss: 0.0014 - mae: 0.0262 - val_loss: 0.0120 - val_mae: 0.0877\n",
            "Epoch 464/2000\n",
            "21/21 [==============================] - 0s 3ms/step - loss: 0.0014 - mae: 0.0262 - val_loss: 0.0120 - val_mae: 0.0877\n",
            "Epoch 465/2000\n",
            "21/21 [==============================] - 0s 3ms/step - loss: 0.0014 - mae: 0.0262 - val_loss: 0.0120 - val_mae: 0.0877\n",
            "Epoch 466/2000\n",
            "21/21 [==============================] - 0s 3ms/step - loss: 0.0014 - mae: 0.0261 - val_loss: 0.0120 - val_mae: 0.0877\n",
            "Epoch 467/2000\n",
            "21/21 [==============================] - 0s 3ms/step - loss: 0.0014 - mae: 0.0261 - val_loss: 0.0120 - val_mae: 0.0877\n",
            "Epoch 468/2000\n",
            "21/21 [==============================] - 0s 3ms/step - loss: 0.0014 - mae: 0.0261 - val_loss: 0.0120 - val_mae: 0.0877\n",
            "Epoch 469/2000\n",
            "21/21 [==============================] - 0s 3ms/step - loss: 0.0014 - mae: 0.0260 - val_loss: 0.0120 - val_mae: 0.0876\n",
            "Epoch 470/2000\n",
            "21/21 [==============================] - 0s 3ms/step - loss: 0.0014 - mae: 0.0260 - val_loss: 0.0120 - val_mae: 0.0876\n",
            "Epoch 471/2000\n",
            "21/21 [==============================] - 0s 3ms/step - loss: 0.0014 - mae: 0.0260 - val_loss: 0.0120 - val_mae: 0.0876\n",
            "Epoch 472/2000\n",
            "21/21 [==============================] - 0s 3ms/step - loss: 0.0014 - mae: 0.0260 - val_loss: 0.0120 - val_mae: 0.0876\n",
            "Epoch 473/2000\n",
            "21/21 [==============================] - 0s 3ms/step - loss: 0.0014 - mae: 0.0259 - val_loss: 0.0120 - val_mae: 0.0876\n",
            "Epoch 474/2000\n",
            "21/21 [==============================] - 0s 3ms/step - loss: 0.0014 - mae: 0.0259 - val_loss: 0.0120 - val_mae: 0.0876\n",
            "Epoch 475/2000\n",
            "21/21 [==============================] - 0s 3ms/step - loss: 0.0014 - mae: 0.0259 - val_loss: 0.0120 - val_mae: 0.0876\n",
            "Epoch 476/2000\n",
            "21/21 [==============================] - 0s 3ms/step - loss: 0.0014 - mae: 0.0258 - val_loss: 0.0120 - val_mae: 0.0876\n",
            "Epoch 477/2000\n",
            "21/21 [==============================] - 0s 3ms/step - loss: 0.0014 - mae: 0.0258 - val_loss: 0.0120 - val_mae: 0.0876\n",
            "Epoch 478/2000\n",
            "21/21 [==============================] - 0s 3ms/step - loss: 0.0014 - mae: 0.0258 - val_loss: 0.0120 - val_mae: 0.0876\n",
            "Epoch 479/2000\n",
            "21/21 [==============================] - 0s 3ms/step - loss: 0.0014 - mae: 0.0258 - val_loss: 0.0120 - val_mae: 0.0875\n",
            "Epoch 480/2000\n",
            "21/21 [==============================] - 0s 3ms/step - loss: 0.0014 - mae: 0.0257 - val_loss: 0.0120 - val_mae: 0.0875\n",
            "Epoch 481/2000\n",
            "21/21 [==============================] - 0s 3ms/step - loss: 0.0014 - mae: 0.0257 - val_loss: 0.0120 - val_mae: 0.0875\n",
            "Epoch 482/2000\n",
            "21/21 [==============================] - 0s 3ms/step - loss: 0.0014 - mae: 0.0256 - val_loss: 0.0120 - val_mae: 0.0875\n",
            "Epoch 483/2000\n",
            "21/21 [==============================] - 0s 3ms/step - loss: 0.0014 - mae: 0.0256 - val_loss: 0.0120 - val_mae: 0.0875\n",
            "Epoch 484/2000\n",
            "21/21 [==============================] - 0s 3ms/step - loss: 0.0014 - mae: 0.0256 - val_loss: 0.0120 - val_mae: 0.0875\n",
            "Epoch 485/2000\n",
            "21/21 [==============================] - 0s 3ms/step - loss: 0.0014 - mae: 0.0256 - val_loss: 0.0120 - val_mae: 0.0875\n",
            "Epoch 486/2000\n",
            "21/21 [==============================] - 0s 3ms/step - loss: 0.0014 - mae: 0.0255 - val_loss: 0.0120 - val_mae: 0.0875\n",
            "Epoch 487/2000\n",
            "21/21 [==============================] - 0s 3ms/step - loss: 0.0014 - mae: 0.0255 - val_loss: 0.0120 - val_mae: 0.0875\n",
            "Epoch 488/2000\n",
            "21/21 [==============================] - 0s 3ms/step - loss: 0.0014 - mae: 0.0255 - val_loss: 0.0120 - val_mae: 0.0875\n",
            "Epoch 489/2000\n",
            "21/21 [==============================] - 0s 3ms/step - loss: 0.0014 - mae: 0.0255 - val_loss: 0.0120 - val_mae: 0.0875\n",
            "Epoch 490/2000\n",
            "21/21 [==============================] - 0s 3ms/step - loss: 0.0014 - mae: 0.0254 - val_loss: 0.0120 - val_mae: 0.0875\n",
            "Epoch 491/2000\n",
            "21/21 [==============================] - 0s 3ms/step - loss: 0.0014 - mae: 0.0254 - val_loss: 0.0120 - val_mae: 0.0875\n",
            "Epoch 492/2000\n",
            "21/21 [==============================] - 0s 3ms/step - loss: 0.0014 - mae: 0.0254 - val_loss: 0.0120 - val_mae: 0.0875\n",
            "Epoch 493/2000\n",
            "21/21 [==============================] - 0s 4ms/step - loss: 0.0014 - mae: 0.0254 - val_loss: 0.0120 - val_mae: 0.0874\n",
            "Epoch 494/2000\n",
            "21/21 [==============================] - 0s 3ms/step - loss: 0.0014 - mae: 0.0253 - val_loss: 0.0120 - val_mae: 0.0874\n",
            "Epoch 495/2000\n",
            "21/21 [==============================] - 0s 3ms/step - loss: 0.0014 - mae: 0.0253 - val_loss: 0.0120 - val_mae: 0.0874\n",
            "Epoch 496/2000\n",
            "21/21 [==============================] - 0s 3ms/step - loss: 0.0013 - mae: 0.0253 - val_loss: 0.0120 - val_mae: 0.0874\n",
            "Epoch 497/2000\n",
            "21/21 [==============================] - 0s 3ms/step - loss: 0.0013 - mae: 0.0252 - val_loss: 0.0120 - val_mae: 0.0874\n",
            "Epoch 498/2000\n",
            "21/21 [==============================] - 0s 3ms/step - loss: 0.0013 - mae: 0.0252 - val_loss: 0.0120 - val_mae: 0.0874\n",
            "Epoch 499/2000\n",
            "21/21 [==============================] - 0s 3ms/step - loss: 0.0013 - mae: 0.0252 - val_loss: 0.0120 - val_mae: 0.0874\n",
            "Epoch 500/2000\n",
            "21/21 [==============================] - 0s 3ms/step - loss: 0.0013 - mae: 0.0252 - val_loss: 0.0120 - val_mae: 0.0874\n",
            "Epoch 501/2000\n",
            "21/21 [==============================] - 0s 3ms/step - loss: 0.0013 - mae: 0.0251 - val_loss: 0.0120 - val_mae: 0.0874\n",
            "Epoch 502/2000\n",
            "21/21 [==============================] - 0s 3ms/step - loss: 0.0013 - mae: 0.0251 - val_loss: 0.0120 - val_mae: 0.0874\n",
            "Epoch 503/2000\n",
            "21/21 [==============================] - 0s 3ms/step - loss: 0.0013 - mae: 0.0251 - val_loss: 0.0120 - val_mae: 0.0874\n",
            "Epoch 504/2000\n",
            "21/21 [==============================] - 0s 3ms/step - loss: 0.0013 - mae: 0.0250 - val_loss: 0.0120 - val_mae: 0.0874\n",
            "Epoch 505/2000\n",
            "21/21 [==============================] - 0s 3ms/step - loss: 0.0013 - mae: 0.0250 - val_loss: 0.0120 - val_mae: 0.0874\n",
            "Epoch 506/2000\n",
            "21/21 [==============================] - 0s 3ms/step - loss: 0.0013 - mae: 0.0250 - val_loss: 0.0120 - val_mae: 0.0874\n",
            "Epoch 507/2000\n",
            "21/21 [==============================] - 0s 3ms/step - loss: 0.0013 - mae: 0.0250 - val_loss: 0.0120 - val_mae: 0.0874\n",
            "Epoch 508/2000\n",
            "21/21 [==============================] - 0s 3ms/step - loss: 0.0013 - mae: 0.0250 - val_loss: 0.0120 - val_mae: 0.0874\n",
            "Epoch 509/2000\n",
            "21/21 [==============================] - 0s 3ms/step - loss: 0.0013 - mae: 0.0249 - val_loss: 0.0120 - val_mae: 0.0873\n",
            "Epoch 510/2000\n",
            "21/21 [==============================] - 0s 3ms/step - loss: 0.0013 - mae: 0.0249 - val_loss: 0.0120 - val_mae: 0.0873\n",
            "Epoch 511/2000\n",
            "21/21 [==============================] - 0s 3ms/step - loss: 0.0013 - mae: 0.0249 - val_loss: 0.0120 - val_mae: 0.0873\n",
            "Epoch 512/2000\n",
            "21/21 [==============================] - 0s 3ms/step - loss: 0.0013 - mae: 0.0248 - val_loss: 0.0120 - val_mae: 0.0873\n",
            "Epoch 513/2000\n",
            "21/21 [==============================] - 0s 3ms/step - loss: 0.0013 - mae: 0.0248 - val_loss: 0.0120 - val_mae: 0.0873\n",
            "Epoch 514/2000\n",
            "21/21 [==============================] - 0s 3ms/step - loss: 0.0013 - mae: 0.0248 - val_loss: 0.0120 - val_mae: 0.0873\n",
            "Epoch 515/2000\n",
            "21/21 [==============================] - 0s 3ms/step - loss: 0.0013 - mae: 0.0248 - val_loss: 0.0120 - val_mae: 0.0873\n",
            "Epoch 516/2000\n",
            "21/21 [==============================] - 0s 3ms/step - loss: 0.0013 - mae: 0.0247 - val_loss: 0.0120 - val_mae: 0.0873\n",
            "Epoch 517/2000\n",
            "21/21 [==============================] - 0s 3ms/step - loss: 0.0013 - mae: 0.0247 - val_loss: 0.0120 - val_mae: 0.0873\n",
            "Epoch 518/2000\n",
            "21/21 [==============================] - 0s 3ms/step - loss: 0.0013 - mae: 0.0247 - val_loss: 0.0120 - val_mae: 0.0873\n",
            "Epoch 519/2000\n",
            "21/21 [==============================] - 0s 3ms/step - loss: 0.0013 - mae: 0.0247 - val_loss: 0.0120 - val_mae: 0.0873\n",
            "Epoch 520/2000\n",
            "21/21 [==============================] - 0s 3ms/step - loss: 0.0013 - mae: 0.0246 - val_loss: 0.0120 - val_mae: 0.0873\n",
            "Epoch 521/2000\n",
            "21/21 [==============================] - 0s 3ms/step - loss: 0.0013 - mae: 0.0246 - val_loss: 0.0120 - val_mae: 0.0872\n",
            "Epoch 522/2000\n",
            "21/21 [==============================] - 0s 4ms/step - loss: 0.0013 - mae: 0.0246 - val_loss: 0.0120 - val_mae: 0.0872\n",
            "Epoch 523/2000\n",
            "21/21 [==============================] - 0s 3ms/step - loss: 0.0013 - mae: 0.0246 - val_loss: 0.0120 - val_mae: 0.0872\n",
            "Epoch 524/2000\n",
            "21/21 [==============================] - 0s 3ms/step - loss: 0.0013 - mae: 0.0245 - val_loss: 0.0120 - val_mae: 0.0872\n",
            "Epoch 525/2000\n",
            "21/21 [==============================] - 0s 3ms/step - loss: 0.0013 - mae: 0.0245 - val_loss: 0.0120 - val_mae: 0.0872\n",
            "Epoch 526/2000\n",
            "21/21 [==============================] - 0s 3ms/step - loss: 0.0013 - mae: 0.0245 - val_loss: 0.0120 - val_mae: 0.0872\n",
            "Epoch 527/2000\n",
            "21/21 [==============================] - 0s 3ms/step - loss: 0.0013 - mae: 0.0244 - val_loss: 0.0120 - val_mae: 0.0872\n",
            "Epoch 528/2000\n",
            "21/21 [==============================] - 0s 3ms/step - loss: 0.0013 - mae: 0.0244 - val_loss: 0.0120 - val_mae: 0.0872\n",
            "Epoch 529/2000\n",
            "21/21 [==============================] - 0s 3ms/step - loss: 0.0013 - mae: 0.0244 - val_loss: 0.0120 - val_mae: 0.0872\n",
            "Epoch 530/2000\n",
            "21/21 [==============================] - 0s 3ms/step - loss: 0.0013 - mae: 0.0244 - val_loss: 0.0120 - val_mae: 0.0872\n",
            "Epoch 531/2000\n",
            "21/21 [==============================] - 0s 3ms/step - loss: 0.0013 - mae: 0.0243 - val_loss: 0.0120 - val_mae: 0.0872\n",
            "Epoch 532/2000\n",
            "21/21 [==============================] - 0s 3ms/step - loss: 0.0013 - mae: 0.0243 - val_loss: 0.0120 - val_mae: 0.0872\n",
            "Epoch 533/2000\n",
            "21/21 [==============================] - 0s 3ms/step - loss: 0.0013 - mae: 0.0243 - val_loss: 0.0120 - val_mae: 0.0872\n",
            "Epoch 534/2000\n",
            "21/21 [==============================] - 0s 3ms/step - loss: 0.0013 - mae: 0.0243 - val_loss: 0.0120 - val_mae: 0.0872\n",
            "Epoch 535/2000\n",
            "21/21 [==============================] - 0s 3ms/step - loss: 0.0013 - mae: 0.0243 - val_loss: 0.0120 - val_mae: 0.0872\n",
            "Epoch 536/2000\n",
            "21/21 [==============================] - 0s 3ms/step - loss: 0.0013 - mae: 0.0242 - val_loss: 0.0120 - val_mae: 0.0872\n",
            "Epoch 537/2000\n",
            "21/21 [==============================] - 0s 3ms/step - loss: 0.0013 - mae: 0.0242 - val_loss: 0.0120 - val_mae: 0.0871\n",
            "Epoch 538/2000\n",
            "21/21 [==============================] - 0s 3ms/step - loss: 0.0012 - mae: 0.0242 - val_loss: 0.0120 - val_mae: 0.0871\n",
            "Epoch 539/2000\n",
            "21/21 [==============================] - 0s 3ms/step - loss: 0.0012 - mae: 0.0242 - val_loss: 0.0120 - val_mae: 0.0871\n",
            "Epoch 540/2000\n",
            "21/21 [==============================] - 0s 3ms/step - loss: 0.0012 - mae: 0.0241 - val_loss: 0.0120 - val_mae: 0.0871\n",
            "Epoch 541/2000\n",
            "21/21 [==============================] - 0s 3ms/step - loss: 0.0012 - mae: 0.0241 - val_loss: 0.0120 - val_mae: 0.0871\n",
            "Epoch 542/2000\n",
            "21/21 [==============================] - 0s 3ms/step - loss: 0.0012 - mae: 0.0241 - val_loss: 0.0120 - val_mae: 0.0871\n",
            "Epoch 543/2000\n",
            "21/21 [==============================] - 0s 3ms/step - loss: 0.0012 - mae: 0.0241 - val_loss: 0.0120 - val_mae: 0.0871\n",
            "Epoch 544/2000\n",
            "21/21 [==============================] - 0s 3ms/step - loss: 0.0012 - mae: 0.0240 - val_loss: 0.0120 - val_mae: 0.0871\n",
            "Epoch 545/2000\n",
            "21/21 [==============================] - 0s 3ms/step - loss: 0.0012 - mae: 0.0240 - val_loss: 0.0120 - val_mae: 0.0871\n",
            "Epoch 546/2000\n",
            "21/21 [==============================] - 0s 3ms/step - loss: 0.0012 - mae: 0.0240 - val_loss: 0.0120 - val_mae: 0.0871\n",
            "Epoch 547/2000\n",
            "21/21 [==============================] - 0s 3ms/step - loss: 0.0012 - mae: 0.0239 - val_loss: 0.0120 - val_mae: 0.0871\n",
            "Epoch 548/2000\n",
            "21/21 [==============================] - 0s 3ms/step - loss: 0.0012 - mae: 0.0239 - val_loss: 0.0120 - val_mae: 0.0871\n",
            "Epoch 549/2000\n",
            "21/21 [==============================] - 0s 3ms/step - loss: 0.0012 - mae: 0.0239 - val_loss: 0.0120 - val_mae: 0.0870\n",
            "Epoch 550/2000\n",
            "21/21 [==============================] - 0s 3ms/step - loss: 0.0012 - mae: 0.0239 - val_loss: 0.0120 - val_mae: 0.0870\n",
            "Epoch 551/2000\n",
            "21/21 [==============================] - 0s 3ms/step - loss: 0.0012 - mae: 0.0238 - val_loss: 0.0120 - val_mae: 0.0871\n",
            "Epoch 552/2000\n",
            "21/21 [==============================] - 0s 3ms/step - loss: 0.0012 - mae: 0.0238 - val_loss: 0.0120 - val_mae: 0.0870\n",
            "Epoch 553/2000\n",
            "21/21 [==============================] - 0s 3ms/step - loss: 0.0012 - mae: 0.0238 - val_loss: 0.0120 - val_mae: 0.0870\n",
            "Epoch 554/2000\n",
            "21/21 [==============================] - 0s 3ms/step - loss: 0.0012 - mae: 0.0238 - val_loss: 0.0120 - val_mae: 0.0870\n",
            "Epoch 555/2000\n",
            "21/21 [==============================] - 0s 3ms/step - loss: 0.0012 - mae: 0.0238 - val_loss: 0.0120 - val_mae: 0.0870\n",
            "Epoch 556/2000\n",
            "21/21 [==============================] - 0s 3ms/step - loss: 0.0012 - mae: 0.0237 - val_loss: 0.0120 - val_mae: 0.0870\n",
            "Epoch 557/2000\n",
            "21/21 [==============================] - 0s 3ms/step - loss: 0.0012 - mae: 0.0237 - val_loss: 0.0120 - val_mae: 0.0870\n",
            "Epoch 558/2000\n",
            "21/21 [==============================] - 0s 3ms/step - loss: 0.0012 - mae: 0.0237 - val_loss: 0.0120 - val_mae: 0.0870\n",
            "Epoch 559/2000\n",
            "21/21 [==============================] - 0s 3ms/step - loss: 0.0012 - mae: 0.0237 - val_loss: 0.0120 - val_mae: 0.0870\n",
            "Epoch 560/2000\n",
            "21/21 [==============================] - 0s 3ms/step - loss: 0.0012 - mae: 0.0236 - val_loss: 0.0120 - val_mae: 0.0870\n",
            "Epoch 561/2000\n",
            "21/21 [==============================] - 0s 3ms/step - loss: 0.0012 - mae: 0.0236 - val_loss: 0.0120 - val_mae: 0.0870\n",
            "Epoch 562/2000\n",
            "21/21 [==============================] - 0s 3ms/step - loss: 0.0012 - mae: 0.0236 - val_loss: 0.0120 - val_mae: 0.0870\n",
            "Epoch 563/2000\n",
            "21/21 [==============================] - 0s 3ms/step - loss: 0.0012 - mae: 0.0236 - val_loss: 0.0120 - val_mae: 0.0870\n",
            "Epoch 564/2000\n",
            "21/21 [==============================] - 0s 3ms/step - loss: 0.0012 - mae: 0.0235 - val_loss: 0.0120 - val_mae: 0.0870\n",
            "Epoch 565/2000\n",
            "21/21 [==============================] - 0s 3ms/step - loss: 0.0012 - mae: 0.0235 - val_loss: 0.0120 - val_mae: 0.0870\n",
            "Epoch 566/2000\n",
            "21/21 [==============================] - 0s 3ms/step - loss: 0.0012 - mae: 0.0235 - val_loss: 0.0120 - val_mae: 0.0870\n",
            "Epoch 567/2000\n",
            "21/21 [==============================] - 0s 3ms/step - loss: 0.0012 - mae: 0.0235 - val_loss: 0.0120 - val_mae: 0.0870\n",
            "Epoch 568/2000\n",
            "21/21 [==============================] - 0s 3ms/step - loss: 0.0012 - mae: 0.0234 - val_loss: 0.0120 - val_mae: 0.0870\n",
            "Epoch 569/2000\n",
            "21/21 [==============================] - 0s 3ms/step - loss: 0.0012 - mae: 0.0234 - val_loss: 0.0120 - val_mae: 0.0869\n",
            "Epoch 570/2000\n",
            "21/21 [==============================] - 0s 3ms/step - loss: 0.0012 - mae: 0.0234 - val_loss: 0.0120 - val_mae: 0.0869\n",
            "Epoch 571/2000\n",
            "21/21 [==============================] - 0s 3ms/step - loss: 0.0012 - mae: 0.0234 - val_loss: 0.0120 - val_mae: 0.0869\n",
            "Epoch 572/2000\n",
            "21/21 [==============================] - 0s 3ms/step - loss: 0.0012 - mae: 0.0233 - val_loss: 0.0120 - val_mae: 0.0869\n",
            "Epoch 573/2000\n",
            "21/21 [==============================] - 0s 3ms/step - loss: 0.0012 - mae: 0.0233 - val_loss: 0.0120 - val_mae: 0.0869\n",
            "Epoch 574/2000\n",
            "21/21 [==============================] - 0s 3ms/step - loss: 0.0012 - mae: 0.0233 - val_loss: 0.0120 - val_mae: 0.0869\n",
            "Epoch 575/2000\n",
            "21/21 [==============================] - 0s 3ms/step - loss: 0.0012 - mae: 0.0233 - val_loss: 0.0120 - val_mae: 0.0869\n",
            "Epoch 576/2000\n",
            "21/21 [==============================] - 0s 3ms/step - loss: 0.0012 - mae: 0.0233 - val_loss: 0.0120 - val_mae: 0.0869\n",
            "Epoch 577/2000\n",
            "21/21 [==============================] - 0s 3ms/step - loss: 0.0012 - mae: 0.0232 - val_loss: 0.0120 - val_mae: 0.0869\n",
            "Epoch 578/2000\n",
            "21/21 [==============================] - 0s 3ms/step - loss: 0.0012 - mae: 0.0232 - val_loss: 0.0120 - val_mae: 0.0869\n",
            "Epoch 579/2000\n",
            "21/21 [==============================] - 0s 4ms/step - loss: 0.0012 - mae: 0.0232 - val_loss: 0.0120 - val_mae: 0.0868\n",
            "Epoch 580/2000\n",
            "21/21 [==============================] - 0s 3ms/step - loss: 0.0012 - mae: 0.0231 - val_loss: 0.0120 - val_mae: 0.0869\n",
            "Epoch 581/2000\n",
            "21/21 [==============================] - 0s 3ms/step - loss: 0.0012 - mae: 0.0231 - val_loss: 0.0120 - val_mae: 0.0868\n",
            "Epoch 582/2000\n",
            "21/21 [==============================] - 0s 3ms/step - loss: 0.0012 - mae: 0.0231 - val_loss: 0.0120 - val_mae: 0.0869\n",
            "Epoch 583/2000\n",
            "21/21 [==============================] - 0s 3ms/step - loss: 0.0012 - mae: 0.0231 - val_loss: 0.0120 - val_mae: 0.0868\n",
            "Epoch 584/2000\n",
            "21/21 [==============================] - 0s 3ms/step - loss: 0.0012 - mae: 0.0231 - val_loss: 0.0120 - val_mae: 0.0868\n",
            "Epoch 585/2000\n",
            "21/21 [==============================] - 0s 3ms/step - loss: 0.0012 - mae: 0.0230 - val_loss: 0.0120 - val_mae: 0.0868\n",
            "Epoch 586/2000\n",
            "21/21 [==============================] - 0s 3ms/step - loss: 0.0012 - mae: 0.0230 - val_loss: 0.0120 - val_mae: 0.0868\n",
            "Epoch 587/2000\n",
            "21/21 [==============================] - 0s 3ms/step - loss: 0.0011 - mae: 0.0230 - val_loss: 0.0120 - val_mae: 0.0868\n",
            "Epoch 588/2000\n",
            "21/21 [==============================] - 0s 3ms/step - loss: 0.0011 - mae: 0.0230 - val_loss: 0.0120 - val_mae: 0.0868\n",
            "Epoch 589/2000\n",
            "21/21 [==============================] - 0s 3ms/step - loss: 0.0011 - mae: 0.0230 - val_loss: 0.0120 - val_mae: 0.0868\n",
            "Epoch 590/2000\n",
            "21/21 [==============================] - 0s 3ms/step - loss: 0.0011 - mae: 0.0229 - val_loss: 0.0120 - val_mae: 0.0868\n",
            "Epoch 591/2000\n",
            "21/21 [==============================] - 0s 3ms/step - loss: 0.0011 - mae: 0.0229 - val_loss: 0.0120 - val_mae: 0.0868\n",
            "Epoch 592/2000\n",
            "21/21 [==============================] - 0s 3ms/step - loss: 0.0011 - mae: 0.0229 - val_loss: 0.0120 - val_mae: 0.0868\n",
            "Epoch 593/2000\n",
            "21/21 [==============================] - 0s 3ms/step - loss: 0.0011 - mae: 0.0229 - val_loss: 0.0120 - val_mae: 0.0868\n",
            "Epoch 594/2000\n",
            "21/21 [==============================] - 0s 3ms/step - loss: 0.0011 - mae: 0.0228 - val_loss: 0.0120 - val_mae: 0.0868\n",
            "Epoch 595/2000\n",
            "21/21 [==============================] - 0s 3ms/step - loss: 0.0011 - mae: 0.0228 - val_loss: 0.0120 - val_mae: 0.0868\n",
            "Epoch 596/2000\n",
            "21/21 [==============================] - 0s 3ms/step - loss: 0.0011 - mae: 0.0228 - val_loss: 0.0120 - val_mae: 0.0868\n",
            "Epoch 597/2000\n",
            "21/21 [==============================] - 0s 3ms/step - loss: 0.0011 - mae: 0.0228 - val_loss: 0.0120 - val_mae: 0.0867\n",
            "Epoch 598/2000\n",
            "21/21 [==============================] - 0s 3ms/step - loss: 0.0011 - mae: 0.0228 - val_loss: 0.0120 - val_mae: 0.0867\n",
            "Epoch 599/2000\n",
            "21/21 [==============================] - 0s 3ms/step - loss: 0.0011 - mae: 0.0227 - val_loss: 0.0120 - val_mae: 0.0867\n",
            "Epoch 600/2000\n",
            "21/21 [==============================] - 0s 3ms/step - loss: 0.0011 - mae: 0.0227 - val_loss: 0.0120 - val_mae: 0.0867\n",
            "Epoch 601/2000\n",
            "21/21 [==============================] - 0s 3ms/step - loss: 0.0011 - mae: 0.0227 - val_loss: 0.0120 - val_mae: 0.0867\n",
            "Epoch 602/2000\n",
            "21/21 [==============================] - 0s 3ms/step - loss: 0.0011 - mae: 0.0227 - val_loss: 0.0120 - val_mae: 0.0867\n",
            "Epoch 603/2000\n",
            "21/21 [==============================] - 0s 3ms/step - loss: 0.0011 - mae: 0.0226 - val_loss: 0.0120 - val_mae: 0.0867\n",
            "Epoch 604/2000\n",
            "21/21 [==============================] - 0s 3ms/step - loss: 0.0011 - mae: 0.0226 - val_loss: 0.0120 - val_mae: 0.0867\n",
            "Epoch 605/2000\n",
            "21/21 [==============================] - 0s 3ms/step - loss: 0.0011 - mae: 0.0226 - val_loss: 0.0120 - val_mae: 0.0867\n",
            "Epoch 606/2000\n",
            "21/21 [==============================] - 0s 3ms/step - loss: 0.0011 - mae: 0.0226 - val_loss: 0.0120 - val_mae: 0.0867\n",
            "Epoch 607/2000\n",
            "21/21 [==============================] - 0s 3ms/step - loss: 0.0011 - mae: 0.0225 - val_loss: 0.0120 - val_mae: 0.0867\n",
            "Epoch 608/2000\n",
            "21/21 [==============================] - 0s 3ms/step - loss: 0.0011 - mae: 0.0225 - val_loss: 0.0120 - val_mae: 0.0867\n",
            "Epoch 609/2000\n",
            "21/21 [==============================] - 0s 3ms/step - loss: 0.0011 - mae: 0.0225 - val_loss: 0.0120 - val_mae: 0.0866\n",
            "Epoch 610/2000\n",
            "21/21 [==============================] - 0s 3ms/step - loss: 0.0011 - mae: 0.0225 - val_loss: 0.0120 - val_mae: 0.0866\n",
            "Epoch 611/2000\n",
            "21/21 [==============================] - 0s 3ms/step - loss: 0.0011 - mae: 0.0225 - val_loss: 0.0120 - val_mae: 0.0866\n",
            "Epoch 612/2000\n",
            "21/21 [==============================] - 0s 3ms/step - loss: 0.0011 - mae: 0.0224 - val_loss: 0.0120 - val_mae: 0.0866\n",
            "Epoch 613/2000\n",
            "21/21 [==============================] - 0s 3ms/step - loss: 0.0011 - mae: 0.0224 - val_loss: 0.0120 - val_mae: 0.0866\n",
            "Epoch 614/2000\n",
            "21/21 [==============================] - 0s 3ms/step - loss: 0.0011 - mae: 0.0224 - val_loss: 0.0120 - val_mae: 0.0866\n",
            "Epoch 615/2000\n",
            "21/21 [==============================] - 0s 3ms/step - loss: 0.0011 - mae: 0.0224 - val_loss: 0.0120 - val_mae: 0.0866\n",
            "Epoch 616/2000\n",
            "21/21 [==============================] - 0s 3ms/step - loss: 0.0011 - mae: 0.0223 - val_loss: 0.0120 - val_mae: 0.0866\n",
            "Epoch 617/2000\n",
            "21/21 [==============================] - 0s 3ms/step - loss: 0.0011 - mae: 0.0223 - val_loss: 0.0120 - val_mae: 0.0866\n",
            "Epoch 618/2000\n",
            "21/21 [==============================] - 0s 3ms/step - loss: 0.0011 - mae: 0.0223 - val_loss: 0.0120 - val_mae: 0.0866\n",
            "Epoch 619/2000\n",
            "21/21 [==============================] - 0s 3ms/step - loss: 0.0011 - mae: 0.0223 - val_loss: 0.0120 - val_mae: 0.0866\n",
            "Epoch 620/2000\n",
            "21/21 [==============================] - 0s 3ms/step - loss: 0.0011 - mae: 0.0222 - val_loss: 0.0120 - val_mae: 0.0866\n",
            "Epoch 621/2000\n",
            "21/21 [==============================] - 0s 3ms/step - loss: 0.0011 - mae: 0.0223 - val_loss: 0.0120 - val_mae: 0.0866\n",
            "Epoch 622/2000\n",
            "21/21 [==============================] - 0s 4ms/step - loss: 0.0011 - mae: 0.0222 - val_loss: 0.0120 - val_mae: 0.0866\n",
            "Epoch 623/2000\n",
            "21/21 [==============================] - 0s 3ms/step - loss: 0.0011 - mae: 0.0222 - val_loss: 0.0120 - val_mae: 0.0866\n",
            "Epoch 624/2000\n",
            "21/21 [==============================] - 0s 3ms/step - loss: 0.0011 - mae: 0.0222 - val_loss: 0.0120 - val_mae: 0.0866\n",
            "Epoch 625/2000\n",
            "21/21 [==============================] - 0s 3ms/step - loss: 0.0011 - mae: 0.0222 - val_loss: 0.0120 - val_mae: 0.0865\n",
            "Epoch 626/2000\n",
            "21/21 [==============================] - 0s 3ms/step - loss: 0.0011 - mae: 0.0221 - val_loss: 0.0120 - val_mae: 0.0866\n",
            "Epoch 627/2000\n",
            "21/21 [==============================] - 0s 3ms/step - loss: 0.0011 - mae: 0.0221 - val_loss: 0.0120 - val_mae: 0.0865\n",
            "Epoch 628/2000\n",
            "21/21 [==============================] - 0s 3ms/step - loss: 0.0011 - mae: 0.0221 - val_loss: 0.0120 - val_mae: 0.0865\n",
            "Epoch 629/2000\n",
            "21/21 [==============================] - 0s 3ms/step - loss: 0.0011 - mae: 0.0221 - val_loss: 0.0120 - val_mae: 0.0865\n",
            "Epoch 630/2000\n",
            "21/21 [==============================] - 0s 3ms/step - loss: 0.0011 - mae: 0.0220 - val_loss: 0.0120 - val_mae: 0.0865\n",
            "Epoch 631/2000\n",
            "21/21 [==============================] - 0s 3ms/step - loss: 0.0011 - mae: 0.0220 - val_loss: 0.0120 - val_mae: 0.0865\n",
            "Epoch 632/2000\n",
            "21/21 [==============================] - 0s 3ms/step - loss: 0.0011 - mae: 0.0220 - val_loss: 0.0120 - val_mae: 0.0865\n",
            "Epoch 633/2000\n",
            "21/21 [==============================] - 0s 3ms/step - loss: 0.0011 - mae: 0.0220 - val_loss: 0.0120 - val_mae: 0.0865\n",
            "Epoch 634/2000\n",
            "21/21 [==============================] - 0s 3ms/step - loss: 0.0011 - mae: 0.0220 - val_loss: 0.0120 - val_mae: 0.0865\n",
            "Epoch 635/2000\n",
            "21/21 [==============================] - 0s 3ms/step - loss: 0.0011 - mae: 0.0219 - val_loss: 0.0120 - val_mae: 0.0865\n",
            "Epoch 636/2000\n",
            "21/21 [==============================] - 0s 3ms/step - loss: 0.0011 - mae: 0.0219 - val_loss: 0.0120 - val_mae: 0.0865\n",
            "Epoch 637/2000\n",
            "21/21 [==============================] - 0s 3ms/step - loss: 0.0011 - mae: 0.0219 - val_loss: 0.0120 - val_mae: 0.0865\n",
            "Epoch 638/2000\n",
            "21/21 [==============================] - 0s 3ms/step - loss: 0.0011 - mae: 0.0219 - val_loss: 0.0120 - val_mae: 0.0865\n",
            "Epoch 639/2000\n",
            "21/21 [==============================] - 0s 3ms/step - loss: 0.0011 - mae: 0.0219 - val_loss: 0.0120 - val_mae: 0.0865\n",
            "Epoch 640/2000\n",
            "21/21 [==============================] - 0s 3ms/step - loss: 0.0011 - mae: 0.0218 - val_loss: 0.0120 - val_mae: 0.0864\n",
            "Epoch 641/2000\n",
            "21/21 [==============================] - 0s 3ms/step - loss: 0.0011 - mae: 0.0218 - val_loss: 0.0120 - val_mae: 0.0865\n",
            "Epoch 642/2000\n",
            "21/21 [==============================] - 0s 3ms/step - loss: 0.0010 - mae: 0.0218 - val_loss: 0.0120 - val_mae: 0.0865\n",
            "Epoch 643/2000\n",
            "21/21 [==============================] - 0s 3ms/step - loss: 0.0010 - mae: 0.0218 - val_loss: 0.0120 - val_mae: 0.0864\n",
            "Epoch 644/2000\n",
            "21/21 [==============================] - 0s 3ms/step - loss: 0.0010 - mae: 0.0218 - val_loss: 0.0120 - val_mae: 0.0865\n",
            "Epoch 645/2000\n",
            "21/21 [==============================] - 0s 3ms/step - loss: 0.0010 - mae: 0.0217 - val_loss: 0.0120 - val_mae: 0.0864\n",
            "Epoch 646/2000\n",
            "21/21 [==============================] - 0s 3ms/step - loss: 0.0010 - mae: 0.0217 - val_loss: 0.0120 - val_mae: 0.0864\n",
            "Epoch 647/2000\n",
            "21/21 [==============================] - 0s 3ms/step - loss: 0.0010 - mae: 0.0217 - val_loss: 0.0120 - val_mae: 0.0864\n",
            "Epoch 648/2000\n",
            "21/21 [==============================] - 0s 3ms/step - loss: 0.0010 - mae: 0.0217 - val_loss: 0.0120 - val_mae: 0.0864\n",
            "Epoch 649/2000\n",
            "21/21 [==============================] - 0s 3ms/step - loss: 0.0010 - mae: 0.0216 - val_loss: 0.0120 - val_mae: 0.0864\n",
            "Epoch 650/2000\n",
            "21/21 [==============================] - 0s 3ms/step - loss: 0.0010 - mae: 0.0216 - val_loss: 0.0120 - val_mae: 0.0864\n",
            "Epoch 651/2000\n",
            "21/21 [==============================] - 0s 4ms/step - loss: 0.0010 - mae: 0.0216 - val_loss: 0.0120 - val_mae: 0.0864\n",
            "Epoch 652/2000\n",
            "21/21 [==============================] - 0s 3ms/step - loss: 0.0010 - mae: 0.0216 - val_loss: 0.0120 - val_mae: 0.0864\n",
            "Epoch 653/2000\n",
            "21/21 [==============================] - 0s 3ms/step - loss: 0.0010 - mae: 0.0216 - val_loss: 0.0120 - val_mae: 0.0864\n",
            "Epoch 654/2000\n",
            "21/21 [==============================] - 0s 3ms/step - loss: 0.0010 - mae: 0.0215 - val_loss: 0.0120 - val_mae: 0.0864\n",
            "Epoch 655/2000\n",
            "21/21 [==============================] - 0s 3ms/step - loss: 0.0010 - mae: 0.0215 - val_loss: 0.0120 - val_mae: 0.0864\n",
            "Epoch 656/2000\n",
            "21/21 [==============================] - 0s 3ms/step - loss: 0.0010 - mae: 0.0215 - val_loss: 0.0120 - val_mae: 0.0864\n",
            "Epoch 657/2000\n",
            "21/21 [==============================] - 0s 3ms/step - loss: 0.0010 - mae: 0.0215 - val_loss: 0.0120 - val_mae: 0.0864\n",
            "Epoch 658/2000\n",
            "21/21 [==============================] - 0s 3ms/step - loss: 0.0010 - mae: 0.0215 - val_loss: 0.0120 - val_mae: 0.0864\n",
            "Epoch 659/2000\n",
            "21/21 [==============================] - 0s 3ms/step - loss: 0.0010 - mae: 0.0214 - val_loss: 0.0120 - val_mae: 0.0864\n",
            "Epoch 660/2000\n",
            "21/21 [==============================] - 0s 3ms/step - loss: 0.0010 - mae: 0.0214 - val_loss: 0.0120 - val_mae: 0.0864\n",
            "Epoch 661/2000\n",
            "21/21 [==============================] - 0s 3ms/step - loss: 0.0010 - mae: 0.0214 - val_loss: 0.0120 - val_mae: 0.0864\n",
            "Epoch 662/2000\n",
            "21/21 [==============================] - 0s 3ms/step - loss: 0.0010 - mae: 0.0214 - val_loss: 0.0120 - val_mae: 0.0864\n",
            "Epoch 663/2000\n",
            "21/21 [==============================] - 0s 3ms/step - loss: 0.0010 - mae: 0.0214 - val_loss: 0.0120 - val_mae: 0.0864\n",
            "Epoch 664/2000\n",
            "21/21 [==============================] - 0s 3ms/step - loss: 0.0010 - mae: 0.0214 - val_loss: 0.0120 - val_mae: 0.0863\n",
            "Epoch 665/2000\n",
            "21/21 [==============================] - 0s 3ms/step - loss: 0.0010 - mae: 0.0213 - val_loss: 0.0120 - val_mae: 0.0863\n",
            "Epoch 666/2000\n",
            "21/21 [==============================] - 0s 3ms/step - loss: 0.0010 - mae: 0.0213 - val_loss: 0.0120 - val_mae: 0.0863\n",
            "Epoch 667/2000\n",
            "21/21 [==============================] - 0s 3ms/step - loss: 0.0010 - mae: 0.0213 - val_loss: 0.0120 - val_mae: 0.0863\n",
            "Epoch 668/2000\n",
            "21/21 [==============================] - 0s 3ms/step - loss: 0.0010 - mae: 0.0213 - val_loss: 0.0120 - val_mae: 0.0863\n",
            "Epoch 669/2000\n",
            "21/21 [==============================] - 0s 3ms/step - loss: 0.0010 - mae: 0.0212 - val_loss: 0.0120 - val_mae: 0.0863\n",
            "Epoch 670/2000\n",
            "21/21 [==============================] - 0s 3ms/step - loss: 0.0010 - mae: 0.0212 - val_loss: 0.0120 - val_mae: 0.0863\n",
            "Epoch 671/2000\n",
            "21/21 [==============================] - 0s 3ms/step - loss: 0.0010 - mae: 0.0212 - val_loss: 0.0120 - val_mae: 0.0863\n",
            "Epoch 672/2000\n",
            "21/21 [==============================] - 0s 3ms/step - loss: 9.9971e-04 - mae: 0.0212 - val_loss: 0.0120 - val_mae: 0.0863\n",
            "Epoch 673/2000\n",
            "21/21 [==============================] - 0s 3ms/step - loss: 9.9831e-04 - mae: 0.0211 - val_loss: 0.0119 - val_mae: 0.0863\n",
            "Epoch 674/2000\n",
            "21/21 [==============================] - 0s 3ms/step - loss: 9.9703e-04 - mae: 0.0211 - val_loss: 0.0120 - val_mae: 0.0863\n",
            "Epoch 675/2000\n",
            "21/21 [==============================] - 0s 3ms/step - loss: 9.9546e-04 - mae: 0.0211 - val_loss: 0.0120 - val_mae: 0.0863\n",
            "Epoch 676/2000\n",
            "21/21 [==============================] - 0s 3ms/step - loss: 9.9270e-04 - mae: 0.0211 - val_loss: 0.0120 - val_mae: 0.0863\n",
            "Epoch 677/2000\n",
            "21/21 [==============================] - 0s 3ms/step - loss: 9.9202e-04 - mae: 0.0211 - val_loss: 0.0120 - val_mae: 0.0863\n",
            "Epoch 678/2000\n",
            "21/21 [==============================] - 0s 3ms/step - loss: 9.9069e-04 - mae: 0.0211 - val_loss: 0.0120 - val_mae: 0.0863\n",
            "Epoch 679/2000\n",
            "21/21 [==============================] - 0s 3ms/step - loss: 9.8894e-04 - mae: 0.0210 - val_loss: 0.0119 - val_mae: 0.0863\n",
            "Epoch 680/2000\n",
            "21/21 [==============================] - 0s 3ms/step - loss: 9.8774e-04 - mae: 0.0210 - val_loss: 0.0119 - val_mae: 0.0863\n",
            "Epoch 681/2000\n",
            "21/21 [==============================] - 0s 3ms/step - loss: 9.8623e-04 - mae: 0.0210 - val_loss: 0.0120 - val_mae: 0.0862\n",
            "Epoch 682/2000\n",
            "21/21 [==============================] - 0s 3ms/step - loss: 9.8377e-04 - mae: 0.0210 - val_loss: 0.0119 - val_mae: 0.0863\n",
            "Epoch 683/2000\n",
            "21/21 [==============================] - 0s 3ms/step - loss: 9.8281e-04 - mae: 0.0210 - val_loss: 0.0120 - val_mae: 0.0862\n",
            "Epoch 684/2000\n",
            "21/21 [==============================] - 0s 3ms/step - loss: 9.8233e-04 - mae: 0.0209 - val_loss: 0.0120 - val_mae: 0.0862\n",
            "Epoch 685/2000\n",
            "21/21 [==============================] - 0s 3ms/step - loss: 9.7976e-04 - mae: 0.0209 - val_loss: 0.0119 - val_mae: 0.0862\n",
            "Epoch 686/2000\n",
            "21/21 [==============================] - 0s 3ms/step - loss: 9.7831e-04 - mae: 0.0209 - val_loss: 0.0120 - val_mae: 0.0862\n",
            "Epoch 687/2000\n",
            "21/21 [==============================] - 0s 3ms/step - loss: 9.7715e-04 - mae: 0.0209 - val_loss: 0.0120 - val_mae: 0.0862\n",
            "Epoch 688/2000\n",
            "21/21 [==============================] - 0s 3ms/step - loss: 9.7512e-04 - mae: 0.0209 - val_loss: 0.0120 - val_mae: 0.0862\n",
            "Epoch 689/2000\n",
            "21/21 [==============================] - 0s 3ms/step - loss: 9.7400e-04 - mae: 0.0208 - val_loss: 0.0120 - val_mae: 0.0862\n",
            "Epoch 690/2000\n",
            "21/21 [==============================] - 0s 3ms/step - loss: 9.7284e-04 - mae: 0.0208 - val_loss: 0.0119 - val_mae: 0.0862\n",
            "Epoch 691/2000\n",
            "21/21 [==============================] - 0s 3ms/step - loss: 9.7072e-04 - mae: 0.0208 - val_loss: 0.0119 - val_mae: 0.0862\n",
            "Epoch 692/2000\n",
            "21/21 [==============================] - 0s 3ms/step - loss: 9.6963e-04 - mae: 0.0208 - val_loss: 0.0119 - val_mae: 0.0862\n",
            "Epoch 693/2000\n",
            "21/21 [==============================] - 0s 3ms/step - loss: 9.6796e-04 - mae: 0.0208 - val_loss: 0.0119 - val_mae: 0.0862\n",
            "Epoch 694/2000\n",
            "21/21 [==============================] - 0s 4ms/step - loss: 9.6645e-04 - mae: 0.0207 - val_loss: 0.0119 - val_mae: 0.0862\n",
            "Epoch 695/2000\n",
            "21/21 [==============================] - 0s 3ms/step - loss: 9.6502e-04 - mae: 0.0207 - val_loss: 0.0119 - val_mae: 0.0862\n",
            "Epoch 696/2000\n",
            "21/21 [==============================] - 0s 3ms/step - loss: 9.6322e-04 - mae: 0.0207 - val_loss: 0.0119 - val_mae: 0.0862\n",
            "Epoch 697/2000\n",
            "21/21 [==============================] - 0s 3ms/step - loss: 9.6182e-04 - mae: 0.0207 - val_loss: 0.0119 - val_mae: 0.0861\n",
            "Epoch 698/2000\n",
            "21/21 [==============================] - 0s 3ms/step - loss: 9.6062e-04 - mae: 0.0207 - val_loss: 0.0119 - val_mae: 0.0861\n",
            "Epoch 699/2000\n",
            "21/21 [==============================] - 0s 3ms/step - loss: 9.5931e-04 - mae: 0.0206 - val_loss: 0.0119 - val_mae: 0.0861\n",
            "Epoch 700/2000\n",
            "21/21 [==============================] - 0s 3ms/step - loss: 9.5788e-04 - mae: 0.0206 - val_loss: 0.0119 - val_mae: 0.0861\n",
            "Epoch 701/2000\n",
            "21/21 [==============================] - 0s 3ms/step - loss: 9.5614e-04 - mae: 0.0206 - val_loss: 0.0119 - val_mae: 0.0861\n",
            "Epoch 702/2000\n",
            "21/21 [==============================] - 0s 3ms/step - loss: 9.5522e-04 - mae: 0.0206 - val_loss: 0.0119 - val_mae: 0.0861\n",
            "Epoch 703/2000\n",
            "21/21 [==============================] - 0s 3ms/step - loss: 9.5320e-04 - mae: 0.0206 - val_loss: 0.0119 - val_mae: 0.0861\n",
            "Epoch 704/2000\n",
            "21/21 [==============================] - 0s 3ms/step - loss: 9.5262e-04 - mae: 0.0205 - val_loss: 0.0119 - val_mae: 0.0861\n",
            "Epoch 705/2000\n",
            "21/21 [==============================] - 0s 3ms/step - loss: 9.5066e-04 - mae: 0.0205 - val_loss: 0.0119 - val_mae: 0.0861\n",
            "Epoch 706/2000\n",
            "21/21 [==============================] - 0s 3ms/step - loss: 9.4881e-04 - mae: 0.0205 - val_loss: 0.0119 - val_mae: 0.0861\n",
            "Epoch 707/2000\n",
            "21/21 [==============================] - 0s 3ms/step - loss: 9.4785e-04 - mae: 0.0205 - val_loss: 0.0119 - val_mae: 0.0861\n",
            "Epoch 708/2000\n",
            "21/21 [==============================] - 0s 4ms/step - loss: 9.4600e-04 - mae: 0.0205 - val_loss: 0.0119 - val_mae: 0.0861\n",
            "Epoch 709/2000\n",
            "21/21 [==============================] - 0s 3ms/step - loss: 9.4476e-04 - mae: 0.0204 - val_loss: 0.0119 - val_mae: 0.0861\n",
            "Epoch 710/2000\n",
            "21/21 [==============================] - 0s 3ms/step - loss: 9.4340e-04 - mae: 0.0204 - val_loss: 0.0119 - val_mae: 0.0861\n",
            "Epoch 711/2000\n",
            "21/21 [==============================] - 0s 3ms/step - loss: 9.4221e-04 - mae: 0.0204 - val_loss: 0.0119 - val_mae: 0.0861\n",
            "Epoch 712/2000\n",
            "21/21 [==============================] - 0s 3ms/step - loss: 9.4037e-04 - mae: 0.0204 - val_loss: 0.0119 - val_mae: 0.0861\n",
            "Epoch 713/2000\n",
            "21/21 [==============================] - 0s 3ms/step - loss: 9.3883e-04 - mae: 0.0204 - val_loss: 0.0119 - val_mae: 0.0861\n",
            "Epoch 714/2000\n",
            "21/21 [==============================] - 0s 3ms/step - loss: 9.3744e-04 - mae: 0.0204 - val_loss: 0.0119 - val_mae: 0.0861\n",
            "Epoch 715/2000\n",
            "21/21 [==============================] - 0s 3ms/step - loss: 9.3630e-04 - mae: 0.0203 - val_loss: 0.0119 - val_mae: 0.0861\n",
            "Epoch 716/2000\n",
            "21/21 [==============================] - 0s 3ms/step - loss: 9.3523e-04 - mae: 0.0203 - val_loss: 0.0119 - val_mae: 0.0861\n",
            "Epoch 717/2000\n",
            "21/21 [==============================] - 0s 3ms/step - loss: 9.3380e-04 - mae: 0.0203 - val_loss: 0.0119 - val_mae: 0.0861\n",
            "Epoch 718/2000\n",
            "21/21 [==============================] - 0s 3ms/step - loss: 9.3158e-04 - mae: 0.0203 - val_loss: 0.0119 - val_mae: 0.0861\n",
            "Epoch 719/2000\n",
            "21/21 [==============================] - 0s 3ms/step - loss: 9.3075e-04 - mae: 0.0203 - val_loss: 0.0119 - val_mae: 0.0861\n",
            "Epoch 720/2000\n",
            "21/21 [==============================] - 0s 3ms/step - loss: 9.2911e-04 - mae: 0.0202 - val_loss: 0.0119 - val_mae: 0.0861\n",
            "Epoch 721/2000\n",
            "21/21 [==============================] - 0s 3ms/step - loss: 9.2709e-04 - mae: 0.0202 - val_loss: 0.0119 - val_mae: 0.0861\n",
            "Epoch 722/2000\n",
            "21/21 [==============================] - 0s 3ms/step - loss: 9.2628e-04 - mae: 0.0202 - val_loss: 0.0119 - val_mae: 0.0860\n",
            "Epoch 723/2000\n",
            "21/21 [==============================] - 0s 3ms/step - loss: 9.2498e-04 - mae: 0.0202 - val_loss: 0.0119 - val_mae: 0.0860\n",
            "Epoch 724/2000\n",
            "21/21 [==============================] - 0s 3ms/step - loss: 9.2473e-04 - mae: 0.0202 - val_loss: 0.0119 - val_mae: 0.0860\n",
            "Epoch 725/2000\n",
            "21/21 [==============================] - 0s 3ms/step - loss: 9.2193e-04 - mae: 0.0202 - val_loss: 0.0119 - val_mae: 0.0860\n",
            "Epoch 726/2000\n",
            "21/21 [==============================] - 0s 3ms/step - loss: 9.2118e-04 - mae: 0.0201 - val_loss: 0.0119 - val_mae: 0.0860\n",
            "Epoch 727/2000\n",
            "21/21 [==============================] - 0s 3ms/step - loss: 9.1923e-04 - mae: 0.0201 - val_loss: 0.0119 - val_mae: 0.0860\n",
            "Epoch 728/2000\n",
            "21/21 [==============================] - 0s 3ms/step - loss: 9.1841e-04 - mae: 0.0201 - val_loss: 0.0119 - val_mae: 0.0860\n",
            "Epoch 729/2000\n",
            "21/21 [==============================] - 0s 3ms/step - loss: 9.1655e-04 - mae: 0.0201 - val_loss: 0.0119 - val_mae: 0.0860\n",
            "Epoch 730/2000\n",
            "21/21 [==============================] - 0s 3ms/step - loss: 9.1506e-04 - mae: 0.0201 - val_loss: 0.0119 - val_mae: 0.0860\n",
            "Epoch 731/2000\n",
            "21/21 [==============================] - 0s 3ms/step - loss: 9.1403e-04 - mae: 0.0200 - val_loss: 0.0119 - val_mae: 0.0860\n",
            "Epoch 732/2000\n",
            "21/21 [==============================] - 0s 3ms/step - loss: 9.1231e-04 - mae: 0.0200 - val_loss: 0.0119 - val_mae: 0.0860\n",
            "Epoch 733/2000\n",
            "21/21 [==============================] - 0s 3ms/step - loss: 9.1119e-04 - mae: 0.0200 - val_loss: 0.0119 - val_mae: 0.0860\n",
            "Epoch 734/2000\n",
            "21/21 [==============================] - 0s 3ms/step - loss: 9.0996e-04 - mae: 0.0200 - val_loss: 0.0119 - val_mae: 0.0860\n",
            "Epoch 735/2000\n",
            "21/21 [==============================] - 0s 3ms/step - loss: 9.0832e-04 - mae: 0.0200 - val_loss: 0.0119 - val_mae: 0.0860\n",
            "Epoch 736/2000\n",
            "21/21 [==============================] - 0s 3ms/step - loss: 9.0722e-04 - mae: 0.0199 - val_loss: 0.0119 - val_mae: 0.0860\n",
            "Epoch 737/2000\n",
            "21/21 [==============================] - 0s 3ms/step - loss: 9.0615e-04 - mae: 0.0199 - val_loss: 0.0119 - val_mae: 0.0860\n",
            "Epoch 738/2000\n",
            "21/21 [==============================] - 0s 3ms/step - loss: 9.0441e-04 - mae: 0.0199 - val_loss: 0.0119 - val_mae: 0.0860\n",
            "Epoch 739/2000\n",
            "21/21 [==============================] - 0s 3ms/step - loss: 9.0350e-04 - mae: 0.0199 - val_loss: 0.0119 - val_mae: 0.0860\n",
            "Epoch 740/2000\n",
            "21/21 [==============================] - 0s 3ms/step - loss: 9.0195e-04 - mae: 0.0199 - val_loss: 0.0119 - val_mae: 0.0860\n",
            "Epoch 741/2000\n",
            "21/21 [==============================] - 0s 3ms/step - loss: 9.0071e-04 - mae: 0.0199 - val_loss: 0.0119 - val_mae: 0.0859\n",
            "Epoch 742/2000\n",
            "21/21 [==============================] - 0s 3ms/step - loss: 8.9955e-04 - mae: 0.0198 - val_loss: 0.0119 - val_mae: 0.0859\n",
            "Epoch 743/2000\n",
            "21/21 [==============================] - 0s 3ms/step - loss: 8.9830e-04 - mae: 0.0198 - val_loss: 0.0119 - val_mae: 0.0859\n",
            "Epoch 744/2000\n",
            "21/21 [==============================] - 0s 3ms/step - loss: 8.9647e-04 - mae: 0.0198 - val_loss: 0.0119 - val_mae: 0.0859\n",
            "Epoch 745/2000\n",
            "21/21 [==============================] - 0s 3ms/step - loss: 8.9543e-04 - mae: 0.0198 - val_loss: 0.0119 - val_mae: 0.0859\n",
            "Epoch 746/2000\n",
            "21/21 [==============================] - 0s 3ms/step - loss: 8.9400e-04 - mae: 0.0198 - val_loss: 0.0119 - val_mae: 0.0859\n",
            "Epoch 747/2000\n",
            "21/21 [==============================] - 0s 3ms/step - loss: 8.9283e-04 - mae: 0.0197 - val_loss: 0.0119 - val_mae: 0.0859\n",
            "Epoch 748/2000\n",
            "21/21 [==============================] - 0s 3ms/step - loss: 8.9148e-04 - mae: 0.0197 - val_loss: 0.0119 - val_mae: 0.0859\n",
            "Epoch 749/2000\n",
            "21/21 [==============================] - 0s 3ms/step - loss: 8.9007e-04 - mae: 0.0197 - val_loss: 0.0119 - val_mae: 0.0859\n",
            "Epoch 750/2000\n",
            "21/21 [==============================] - 0s 3ms/step - loss: 8.8849e-04 - mae: 0.0197 - val_loss: 0.0119 - val_mae: 0.0859\n",
            "Epoch 751/2000\n",
            "21/21 [==============================] - 0s 3ms/step - loss: 8.8754e-04 - mae: 0.0197 - val_loss: 0.0119 - val_mae: 0.0859\n",
            "Epoch 752/2000\n",
            "21/21 [==============================] - 0s 3ms/step - loss: 8.8569e-04 - mae: 0.0197 - val_loss: 0.0119 - val_mae: 0.0859\n",
            "Epoch 753/2000\n",
            "21/21 [==============================] - 0s 3ms/step - loss: 8.8505e-04 - mae: 0.0197 - val_loss: 0.0119 - val_mae: 0.0859\n",
            "Epoch 754/2000\n",
            "21/21 [==============================] - 0s 3ms/step - loss: 8.8354e-04 - mae: 0.0196 - val_loss: 0.0119 - val_mae: 0.0859\n",
            "Epoch 755/2000\n",
            "21/21 [==============================] - 0s 3ms/step - loss: 8.8241e-04 - mae: 0.0196 - val_loss: 0.0119 - val_mae: 0.0859\n",
            "Epoch 756/2000\n",
            "21/21 [==============================] - 0s 3ms/step - loss: 8.8076e-04 - mae: 0.0196 - val_loss: 0.0119 - val_mae: 0.0859\n",
            "Epoch 757/2000\n",
            "21/21 [==============================] - 0s 3ms/step - loss: 8.8001e-04 - mae: 0.0196 - val_loss: 0.0119 - val_mae: 0.0859\n",
            "Epoch 758/2000\n",
            "21/21 [==============================] - 0s 3ms/step - loss: 8.7890e-04 - mae: 0.0196 - val_loss: 0.0119 - val_mae: 0.0859\n",
            "Epoch 759/2000\n",
            "21/21 [==============================] - 0s 3ms/step - loss: 8.7728e-04 - mae: 0.0196 - val_loss: 0.0119 - val_mae: 0.0859\n",
            "Epoch 760/2000\n",
            "21/21 [==============================] - 0s 3ms/step - loss: 8.7582e-04 - mae: 0.0195 - val_loss: 0.0119 - val_mae: 0.0859\n",
            "Epoch 761/2000\n",
            "21/21 [==============================] - 0s 3ms/step - loss: 8.7443e-04 - mae: 0.0195 - val_loss: 0.0119 - val_mae: 0.0859\n",
            "Epoch 762/2000\n",
            "21/21 [==============================] - 0s 3ms/step - loss: 8.7372e-04 - mae: 0.0195 - val_loss: 0.0119 - val_mae: 0.0859\n",
            "Epoch 763/2000\n",
            "21/21 [==============================] - 0s 3ms/step - loss: 8.7218e-04 - mae: 0.0195 - val_loss: 0.0119 - val_mae: 0.0859\n",
            "Epoch 764/2000\n",
            "21/21 [==============================] - 0s 3ms/step - loss: 8.7100e-04 - mae: 0.0194 - val_loss: 0.0119 - val_mae: 0.0859\n",
            "Epoch 765/2000\n",
            "21/21 [==============================] - 0s 3ms/step - loss: 8.6898e-04 - mae: 0.0194 - val_loss: 0.0119 - val_mae: 0.0859\n",
            "Epoch 766/2000\n",
            "21/21 [==============================] - 0s 3ms/step - loss: 8.6857e-04 - mae: 0.0194 - val_loss: 0.0119 - val_mae: 0.0858\n",
            "Epoch 767/2000\n",
            "21/21 [==============================] - 0s 3ms/step - loss: 8.6748e-04 - mae: 0.0194 - val_loss: 0.0119 - val_mae: 0.0858\n",
            "Epoch 768/2000\n",
            "21/21 [==============================] - 0s 3ms/step - loss: 8.6541e-04 - mae: 0.0194 - val_loss: 0.0119 - val_mae: 0.0858\n",
            "Epoch 769/2000\n",
            "21/21 [==============================] - 0s 3ms/step - loss: 8.6451e-04 - mae: 0.0194 - val_loss: 0.0119 - val_mae: 0.0858\n",
            "Epoch 770/2000\n",
            "21/21 [==============================] - 0s 3ms/step - loss: 8.6348e-04 - mae: 0.0194 - val_loss: 0.0119 - val_mae: 0.0858\n",
            "Epoch 771/2000\n",
            "21/21 [==============================] - 0s 3ms/step - loss: 8.6160e-04 - mae: 0.0193 - val_loss: 0.0119 - val_mae: 0.0858\n",
            "Epoch 772/2000\n",
            "21/21 [==============================] - 0s 3ms/step - loss: 8.6067e-04 - mae: 0.0193 - val_loss: 0.0119 - val_mae: 0.0858\n",
            "Epoch 773/2000\n",
            "21/21 [==============================] - 0s 3ms/step - loss: 8.5917e-04 - mae: 0.0193 - val_loss: 0.0119 - val_mae: 0.0858\n",
            "Epoch 774/2000\n",
            "21/21 [==============================] - 0s 3ms/step - loss: 8.5786e-04 - mae: 0.0193 - val_loss: 0.0119 - val_mae: 0.0858\n",
            "Epoch 775/2000\n",
            "21/21 [==============================] - 0s 3ms/step - loss: 8.5761e-04 - mae: 0.0193 - val_loss: 0.0119 - val_mae: 0.0858\n",
            "Epoch 776/2000\n",
            "21/21 [==============================] - 0s 3ms/step - loss: 8.5555e-04 - mae: 0.0193 - val_loss: 0.0119 - val_mae: 0.0858\n",
            "Epoch 777/2000\n",
            "21/21 [==============================] - 0s 3ms/step - loss: 8.5438e-04 - mae: 0.0192 - val_loss: 0.0119 - val_mae: 0.0858\n",
            "Epoch 778/2000\n",
            "21/21 [==============================] - 0s 3ms/step - loss: 8.5312e-04 - mae: 0.0192 - val_loss: 0.0119 - val_mae: 0.0858\n",
            "Epoch 779/2000\n",
            "21/21 [==============================] - 0s 3ms/step - loss: 8.5220e-04 - mae: 0.0192 - val_loss: 0.0119 - val_mae: 0.0858\n",
            "Epoch 780/2000\n",
            "21/21 [==============================] - 0s 4ms/step - loss: 8.5075e-04 - mae: 0.0192 - val_loss: 0.0119 - val_mae: 0.0858\n",
            "Epoch 781/2000\n",
            "21/21 [==============================] - 0s 3ms/step - loss: 8.4970e-04 - mae: 0.0192 - val_loss: 0.0119 - val_mae: 0.0858\n",
            "Epoch 782/2000\n",
            "21/21 [==============================] - 0s 3ms/step - loss: 8.4844e-04 - mae: 0.0191 - val_loss: 0.0119 - val_mae: 0.0858\n",
            "Epoch 783/2000\n",
            "21/21 [==============================] - 0s 3ms/step - loss: 8.4690e-04 - mae: 0.0191 - val_loss: 0.0119 - val_mae: 0.0858\n",
            "Epoch 784/2000\n",
            "21/21 [==============================] - 0s 3ms/step - loss: 8.4649e-04 - mae: 0.0191 - val_loss: 0.0119 - val_mae: 0.0858\n",
            "Epoch 785/2000\n",
            "21/21 [==============================] - 0s 3ms/step - loss: 8.4467e-04 - mae: 0.0191 - val_loss: 0.0119 - val_mae: 0.0858\n",
            "Epoch 786/2000\n",
            "21/21 [==============================] - 0s 3ms/step - loss: 8.4363e-04 - mae: 0.0191 - val_loss: 0.0119 - val_mae: 0.0858\n",
            "Epoch 787/2000\n",
            "21/21 [==============================] - 0s 3ms/step - loss: 8.4254e-04 - mae: 0.0191 - val_loss: 0.0119 - val_mae: 0.0858\n",
            "Epoch 788/2000\n",
            "21/21 [==============================] - 0s 3ms/step - loss: 8.4113e-04 - mae: 0.0190 - val_loss: 0.0119 - val_mae: 0.0858\n",
            "Epoch 789/2000\n",
            "21/21 [==============================] - 0s 3ms/step - loss: 8.3982e-04 - mae: 0.0190 - val_loss: 0.0119 - val_mae: 0.0858\n",
            "Epoch 790/2000\n",
            "21/21 [==============================] - 0s 3ms/step - loss: 8.3911e-04 - mae: 0.0190 - val_loss: 0.0119 - val_mae: 0.0857\n",
            "Epoch 791/2000\n",
            "21/21 [==============================] - 0s 3ms/step - loss: 8.3746e-04 - mae: 0.0190 - val_loss: 0.0119 - val_mae: 0.0857\n",
            "Epoch 792/2000\n",
            "21/21 [==============================] - 0s 3ms/step - loss: 8.3621e-04 - mae: 0.0190 - val_loss: 0.0119 - val_mae: 0.0857\n",
            "Epoch 793/2000\n",
            "21/21 [==============================] - 0s 3ms/step - loss: 8.3513e-04 - mae: 0.0190 - val_loss: 0.0119 - val_mae: 0.0857\n",
            "Epoch 794/2000\n",
            "21/21 [==============================] - 0s 3ms/step - loss: 8.3375e-04 - mae: 0.0189 - val_loss: 0.0119 - val_mae: 0.0857\n",
            "Epoch 795/2000\n",
            "21/21 [==============================] - 0s 3ms/step - loss: 8.3238e-04 - mae: 0.0189 - val_loss: 0.0119 - val_mae: 0.0857\n",
            "Epoch 796/2000\n",
            "21/21 [==============================] - 0s 3ms/step - loss: 8.3113e-04 - mae: 0.0189 - val_loss: 0.0119 - val_mae: 0.0857\n",
            "Epoch 797/2000\n",
            "21/21 [==============================] - 0s 3ms/step - loss: 8.3033e-04 - mae: 0.0189 - val_loss: 0.0119 - val_mae: 0.0857\n",
            "Epoch 798/2000\n",
            "21/21 [==============================] - 0s 3ms/step - loss: 8.2894e-04 - mae: 0.0189 - val_loss: 0.0119 - val_mae: 0.0857\n",
            "Epoch 799/2000\n",
            "21/21 [==============================] - 0s 3ms/step - loss: 8.2812e-04 - mae: 0.0189 - val_loss: 0.0119 - val_mae: 0.0857\n",
            "Epoch 800/2000\n",
            "21/21 [==============================] - 0s 3ms/step - loss: 8.2667e-04 - mae: 0.0188 - val_loss: 0.0119 - val_mae: 0.0857\n",
            "Epoch 801/2000\n",
            "21/21 [==============================] - 0s 3ms/step - loss: 8.2529e-04 - mae: 0.0188 - val_loss: 0.0119 - val_mae: 0.0857\n",
            "Epoch 802/2000\n",
            "21/21 [==============================] - 0s 3ms/step - loss: 8.2442e-04 - mae: 0.0188 - val_loss: 0.0119 - val_mae: 0.0857\n",
            "Epoch 803/2000\n",
            "21/21 [==============================] - 0s 3ms/step - loss: 8.2308e-04 - mae: 0.0188 - val_loss: 0.0119 - val_mae: 0.0857\n",
            "Epoch 804/2000\n",
            "21/21 [==============================] - 0s 3ms/step - loss: 8.2215e-04 - mae: 0.0188 - val_loss: 0.0119 - val_mae: 0.0857\n",
            "Epoch 805/2000\n",
            "21/21 [==============================] - 0s 3ms/step - loss: 8.2109e-04 - mae: 0.0188 - val_loss: 0.0119 - val_mae: 0.0857\n",
            "Epoch 806/2000\n",
            "21/21 [==============================] - 0s 3ms/step - loss: 8.1973e-04 - mae: 0.0188 - val_loss: 0.0119 - val_mae: 0.0857\n",
            "Epoch 807/2000\n",
            "21/21 [==============================] - 0s 3ms/step - loss: 8.1919e-04 - mae: 0.0187 - val_loss: 0.0119 - val_mae: 0.0857\n",
            "Epoch 808/2000\n",
            "21/21 [==============================] - 0s 3ms/step - loss: 8.1772e-04 - mae: 0.0187 - val_loss: 0.0119 - val_mae: 0.0857\n",
            "Epoch 809/2000\n",
            "21/21 [==============================] - 0s 3ms/step - loss: 8.1666e-04 - mae: 0.0187 - val_loss: 0.0119 - val_mae: 0.0857\n",
            "Epoch 810/2000\n",
            "21/21 [==============================] - 0s 3ms/step - loss: 8.1538e-04 - mae: 0.0187 - val_loss: 0.0119 - val_mae: 0.0857\n",
            "Epoch 811/2000\n",
            "21/21 [==============================] - 0s 3ms/step - loss: 8.1365e-04 - mae: 0.0187 - val_loss: 0.0119 - val_mae: 0.0857\n",
            "Epoch 812/2000\n",
            "21/21 [==============================] - 0s 3ms/step - loss: 8.1289e-04 - mae: 0.0187 - val_loss: 0.0119 - val_mae: 0.0857\n",
            "Epoch 813/2000\n",
            "21/21 [==============================] - 0s 3ms/step - loss: 8.1146e-04 - mae: 0.0186 - val_loss: 0.0119 - val_mae: 0.0857\n",
            "Epoch 814/2000\n",
            "21/21 [==============================] - 0s 3ms/step - loss: 8.1082e-04 - mae: 0.0186 - val_loss: 0.0119 - val_mae: 0.0857\n",
            "Epoch 815/2000\n",
            "21/21 [==============================] - 0s 3ms/step - loss: 8.0972e-04 - mae: 0.0186 - val_loss: 0.0119 - val_mae: 0.0857\n",
            "Epoch 816/2000\n",
            "21/21 [==============================] - 0s 3ms/step - loss: 8.0803e-04 - mae: 0.0186 - val_loss: 0.0119 - val_mae: 0.0856\n",
            "Epoch 817/2000\n",
            "21/21 [==============================] - 0s 3ms/step - loss: 8.0749e-04 - mae: 0.0186 - val_loss: 0.0119 - val_mae: 0.0856\n",
            "Epoch 818/2000\n",
            "21/21 [==============================] - 0s 3ms/step - loss: 8.0612e-04 - mae: 0.0186 - val_loss: 0.0119 - val_mae: 0.0856\n",
            "Epoch 819/2000\n",
            "21/21 [==============================] - 0s 3ms/step - loss: 8.0485e-04 - mae: 0.0185 - val_loss: 0.0119 - val_mae: 0.0856\n",
            "Epoch 820/2000\n",
            "21/21 [==============================] - 0s 3ms/step - loss: 8.0366e-04 - mae: 0.0185 - val_loss: 0.0119 - val_mae: 0.0856\n",
            "Epoch 821/2000\n",
            "21/21 [==============================] - 0s 3ms/step - loss: 8.0269e-04 - mae: 0.0185 - val_loss: 0.0119 - val_mae: 0.0856\n",
            "Epoch 822/2000\n",
            "21/21 [==============================] - 0s 3ms/step - loss: 8.0174e-04 - mae: 0.0185 - val_loss: 0.0119 - val_mae: 0.0856\n",
            "Epoch 823/2000\n",
            "21/21 [==============================] - 0s 4ms/step - loss: 8.0056e-04 - mae: 0.0185 - val_loss: 0.0119 - val_mae: 0.0856\n",
            "Epoch 824/2000\n",
            "21/21 [==============================] - 0s 3ms/step - loss: 7.9952e-04 - mae: 0.0185 - val_loss: 0.0119 - val_mae: 0.0856\n",
            "Epoch 825/2000\n",
            "21/21 [==============================] - 0s 3ms/step - loss: 7.9787e-04 - mae: 0.0184 - val_loss: 0.0119 - val_mae: 0.0856\n",
            "Epoch 826/2000\n",
            "21/21 [==============================] - 0s 3ms/step - loss: 7.9705e-04 - mae: 0.0184 - val_loss: 0.0119 - val_mae: 0.0856\n",
            "Epoch 827/2000\n",
            "21/21 [==============================] - 0s 3ms/step - loss: 7.9564e-04 - mae: 0.0184 - val_loss: 0.0119 - val_mae: 0.0856\n",
            "Epoch 828/2000\n",
            "21/21 [==============================] - 0s 3ms/step - loss: 7.9467e-04 - mae: 0.0184 - val_loss: 0.0119 - val_mae: 0.0856\n",
            "Epoch 829/2000\n",
            "21/21 [==============================] - 0s 3ms/step - loss: 7.9352e-04 - mae: 0.0184 - val_loss: 0.0119 - val_mae: 0.0856\n",
            "Epoch 830/2000\n",
            "21/21 [==============================] - 0s 3ms/step - loss: 7.9215e-04 - mae: 0.0184 - val_loss: 0.0119 - val_mae: 0.0856\n",
            "Epoch 831/2000\n",
            "21/21 [==============================] - 0s 3ms/step - loss: 7.9118e-04 - mae: 0.0183 - val_loss: 0.0119 - val_mae: 0.0856\n",
            "Epoch 832/2000\n",
            "21/21 [==============================] - 0s 3ms/step - loss: 7.9054e-04 - mae: 0.0183 - val_loss: 0.0119 - val_mae: 0.0856\n",
            "Epoch 833/2000\n",
            "21/21 [==============================] - 0s 3ms/step - loss: 7.8925e-04 - mae: 0.0183 - val_loss: 0.0119 - val_mae: 0.0856\n",
            "Epoch 834/2000\n",
            "21/21 [==============================] - 0s 3ms/step - loss: 7.8809e-04 - mae: 0.0183 - val_loss: 0.0119 - val_mae: 0.0856\n",
            "Epoch 835/2000\n",
            "21/21 [==============================] - 0s 3ms/step - loss: 7.8748e-04 - mae: 0.0183 - val_loss: 0.0119 - val_mae: 0.0856\n",
            "Epoch 836/2000\n",
            "21/21 [==============================] - 0s 3ms/step - loss: 7.8595e-04 - mae: 0.0183 - val_loss: 0.0119 - val_mae: 0.0856\n",
            "Epoch 837/2000\n",
            "21/21 [==============================] - 0s 4ms/step - loss: 7.8472e-04 - mae: 0.0183 - val_loss: 0.0119 - val_mae: 0.0856\n",
            "Epoch 838/2000\n",
            "21/21 [==============================] - 0s 3ms/step - loss: 7.8390e-04 - mae: 0.0183 - val_loss: 0.0119 - val_mae: 0.0856\n",
            "Epoch 839/2000\n",
            "21/21 [==============================] - 0s 3ms/step - loss: 7.8313e-04 - mae: 0.0182 - val_loss: 0.0119 - val_mae: 0.0856\n",
            "Epoch 840/2000\n",
            "21/21 [==============================] - 0s 3ms/step - loss: 7.8197e-04 - mae: 0.0182 - val_loss: 0.0119 - val_mae: 0.0856\n",
            "Epoch 841/2000\n",
            "21/21 [==============================] - 0s 3ms/step - loss: 7.8085e-04 - mae: 0.0182 - val_loss: 0.0119 - val_mae: 0.0856\n",
            "Epoch 842/2000\n",
            "21/21 [==============================] - 0s 3ms/step - loss: 7.7954e-04 - mae: 0.0182 - val_loss: 0.0119 - val_mae: 0.0856\n",
            "Epoch 843/2000\n",
            "21/21 [==============================] - 0s 3ms/step - loss: 7.7850e-04 - mae: 0.0182 - val_loss: 0.0119 - val_mae: 0.0856\n",
            "Epoch 844/2000\n",
            "21/21 [==============================] - 0s 3ms/step - loss: 7.7734e-04 - mae: 0.0182 - val_loss: 0.0119 - val_mae: 0.0856\n",
            "Epoch 845/2000\n",
            "21/21 [==============================] - 0s 3ms/step - loss: 7.7616e-04 - mae: 0.0181 - val_loss: 0.0119 - val_mae: 0.0855\n",
            "Epoch 846/2000\n",
            "21/21 [==============================] - 0s 3ms/step - loss: 7.7510e-04 - mae: 0.0181 - val_loss: 0.0119 - val_mae: 0.0855\n",
            "Epoch 847/2000\n",
            "21/21 [==============================] - 0s 3ms/step - loss: 7.7421e-04 - mae: 0.0181 - val_loss: 0.0119 - val_mae: 0.0856\n",
            "Epoch 848/2000\n",
            "21/21 [==============================] - 0s 3ms/step - loss: 7.7307e-04 - mae: 0.0181 - val_loss: 0.0119 - val_mae: 0.0855\n",
            "Epoch 849/2000\n",
            "21/21 [==============================] - 0s 3ms/step - loss: 7.7211e-04 - mae: 0.0181 - val_loss: 0.0119 - val_mae: 0.0855\n",
            "Epoch 850/2000\n",
            "21/21 [==============================] - 0s 3ms/step - loss: 7.7134e-04 - mae: 0.0181 - val_loss: 0.0119 - val_mae: 0.0855\n",
            "Epoch 851/2000\n",
            "21/21 [==============================] - 0s 3ms/step - loss: 7.7006e-04 - mae: 0.0181 - val_loss: 0.0119 - val_mae: 0.0855\n",
            "Epoch 852/2000\n",
            "21/21 [==============================] - 0s 3ms/step - loss: 7.6862e-04 - mae: 0.0180 - val_loss: 0.0119 - val_mae: 0.0855\n",
            "Epoch 853/2000\n",
            "21/21 [==============================] - 0s 3ms/step - loss: 7.6787e-04 - mae: 0.0180 - val_loss: 0.0119 - val_mae: 0.0855\n",
            "Epoch 854/2000\n",
            "21/21 [==============================] - 0s 3ms/step - loss: 7.6651e-04 - mae: 0.0180 - val_loss: 0.0119 - val_mae: 0.0855\n",
            "Epoch 855/2000\n",
            "21/21 [==============================] - 0s 3ms/step - loss: 7.6527e-04 - mae: 0.0180 - val_loss: 0.0119 - val_mae: 0.0855\n",
            "Epoch 856/2000\n",
            "21/21 [==============================] - 0s 3ms/step - loss: 7.6457e-04 - mae: 0.0180 - val_loss: 0.0119 - val_mae: 0.0855\n",
            "Epoch 857/2000\n",
            "21/21 [==============================] - 0s 3ms/step - loss: 7.6381e-04 - mae: 0.0180 - val_loss: 0.0119 - val_mae: 0.0855\n",
            "Epoch 858/2000\n",
            "21/21 [==============================] - 0s 3ms/step - loss: 7.6233e-04 - mae: 0.0179 - val_loss: 0.0119 - val_mae: 0.0855\n",
            "Epoch 859/2000\n",
            "21/21 [==============================] - 0s 3ms/step - loss: 7.6126e-04 - mae: 0.0179 - val_loss: 0.0119 - val_mae: 0.0855\n",
            "Epoch 860/2000\n",
            "21/21 [==============================] - 0s 3ms/step - loss: 7.6089e-04 - mae: 0.0179 - val_loss: 0.0119 - val_mae: 0.0855\n",
            "Epoch 861/2000\n",
            "21/21 [==============================] - 0s 3ms/step - loss: 7.5922e-04 - mae: 0.0179 - val_loss: 0.0119 - val_mae: 0.0855\n",
            "Epoch 862/2000\n",
            "21/21 [==============================] - 0s 3ms/step - loss: 7.5861e-04 - mae: 0.0179 - val_loss: 0.0119 - val_mae: 0.0855\n",
            "Epoch 863/2000\n",
            "21/21 [==============================] - 0s 3ms/step - loss: 7.5736e-04 - mae: 0.0179 - val_loss: 0.0119 - val_mae: 0.0855\n",
            "Epoch 864/2000\n",
            "21/21 [==============================] - 0s 3ms/step - loss: 7.5614e-04 - mae: 0.0179 - val_loss: 0.0119 - val_mae: 0.0855\n",
            "Epoch 865/2000\n",
            "21/21 [==============================] - 0s 3ms/step - loss: 7.5504e-04 - mae: 0.0178 - val_loss: 0.0119 - val_mae: 0.0855\n",
            "Epoch 866/2000\n",
            "21/21 [==============================] - 0s 3ms/step - loss: 7.5442e-04 - mae: 0.0178 - val_loss: 0.0119 - val_mae: 0.0855\n",
            "Epoch 867/2000\n",
            "21/21 [==============================] - 0s 3ms/step - loss: 7.5294e-04 - mae: 0.0178 - val_loss: 0.0119 - val_mae: 0.0855\n",
            "Epoch 868/2000\n",
            "21/21 [==============================] - 0s 3ms/step - loss: 7.5205e-04 - mae: 0.0178 - val_loss: 0.0119 - val_mae: 0.0855\n",
            "Epoch 869/2000\n",
            "21/21 [==============================] - 0s 3ms/step - loss: 7.5103e-04 - mae: 0.0178 - val_loss: 0.0119 - val_mae: 0.0855\n",
            "Epoch 870/2000\n",
            "21/21 [==============================] - 0s 3ms/step - loss: 7.5028e-04 - mae: 0.0178 - val_loss: 0.0119 - val_mae: 0.0855\n",
            "Epoch 871/2000\n",
            "21/21 [==============================] - 0s 3ms/step - loss: 7.4938e-04 - mae: 0.0178 - val_loss: 0.0119 - val_mae: 0.0855\n",
            "Epoch 872/2000\n",
            "21/21 [==============================] - 0s 3ms/step - loss: 7.4816e-04 - mae: 0.0177 - val_loss: 0.0119 - val_mae: 0.0855\n",
            "Epoch 873/2000\n",
            "21/21 [==============================] - 0s 3ms/step - loss: 7.4693e-04 - mae: 0.0177 - val_loss: 0.0119 - val_mae: 0.0855\n",
            "Epoch 874/2000\n",
            "21/21 [==============================] - 0s 3ms/step - loss: 7.4599e-04 - mae: 0.0177 - val_loss: 0.0119 - val_mae: 0.0855\n",
            "Epoch 875/2000\n",
            "21/21 [==============================] - 0s 3ms/step - loss: 7.4500e-04 - mae: 0.0177 - val_loss: 0.0119 - val_mae: 0.0855\n",
            "Epoch 876/2000\n",
            "21/21 [==============================] - 0s 3ms/step - loss: 7.4405e-04 - mae: 0.0177 - val_loss: 0.0119 - val_mae: 0.0855\n",
            "Epoch 877/2000\n",
            "21/21 [==============================] - 0s 3ms/step - loss: 7.4293e-04 - mae: 0.0177 - val_loss: 0.0119 - val_mae: 0.0855\n",
            "Epoch 878/2000\n",
            "21/21 [==============================] - 0s 3ms/step - loss: 7.4208e-04 - mae: 0.0177 - val_loss: 0.0119 - val_mae: 0.0855\n",
            "Epoch 879/2000\n",
            "21/21 [==============================] - 0s 3ms/step - loss: 7.4088e-04 - mae: 0.0176 - val_loss: 0.0119 - val_mae: 0.0855\n",
            "Epoch 880/2000\n",
            "21/21 [==============================] - 0s 4ms/step - loss: 7.4005e-04 - mae: 0.0176 - val_loss: 0.0119 - val_mae: 0.0855\n",
            "Epoch 881/2000\n",
            "21/21 [==============================] - 0s 3ms/step - loss: 7.3922e-04 - mae: 0.0176 - val_loss: 0.0119 - val_mae: 0.0855\n",
            "Epoch 882/2000\n",
            "21/21 [==============================] - 0s 3ms/step - loss: 7.3793e-04 - mae: 0.0176 - val_loss: 0.0119 - val_mae: 0.0855\n",
            "Epoch 00882: early stopping\n"
          ]
        },
        {
          "output_type": "display_data",
          "data": {
            "image/png": "[encoded data removed]",
            "text/plain": [
              "<Figure size 432x288 with 1 Axes>"
            ]
          },
          "metadata": {
            "needs_background": "light"
          }
        },
        {
          "output_type": "stream",
          "name": "stdout",
          "text": [
            "32/32 [==============================] - 0s 2ms/step - loss: 5.7285e-04 - mae: 0.0131\n",
            "loss= 0.0005728529649786651\n",
            "mae= 0.01314769871532917\n"
          ]
        },
        {
          "output_type": "display_data",
          "data": {
            "image/png": "[encoded data removed]",
            "text/plain": [
              "<Figure size 432x288 with 1 Axes>"
            ]
          },
          "metadata": {
            "needs_background": "light"
          }
        }
      ]
    },
    {
      "cell_type": "markdown",
      "source": [
        "# submision 파일 파악"
      ],
      "metadata": {
        "id": "PBAi37EagN7Z"
      }
    },
    {
      "cell_type": "code",
      "source": [
        "!head sample_submission.csv"
      ],
      "metadata": {
        "colab": {
          "base_uri": "https://localhost:8080/"
        },
        "id": "cQaHM-RL_NXk",
        "outputId": "1f75cf28-2942-4f86-e275-559946e70e1a"
      },
      "execution_count": null,
      "outputs": [
        {
          "output_type": "stream",
          "name": "stdout",
          "text": [
            "code,num\r\n",
            "C1072,0\r\n",
            "C1128,0\r\n",
            "C1456,0\r\n",
            "C1840,0\r\n",
            "C1332,0\r\n",
            "C1563,0\r\n",
            "C1794,0\r\n",
            "C1640,0\r\n",
            "C1377,0\r\n"
          ]
        }
      ]
    },
    {
      "cell_type": "code",
      "source": [
        "!head test.csv"
      ],
      "metadata": {
        "colab": {
          "base_uri": "https://localhost:8080/"
        },
        "id": "bD7y44Cz_NVU",
        "outputId": "f528587b-ccf7-471e-9cb3-5ff5091731f1"
      },
      "execution_count": null,
      "outputs": [
        {
          "output_type": "stream",
          "name": "stdout",
          "text": [
            "단지코드,총세대수,임대건물구분,지역,공급유형,전용면적,전용면적별세대수,공가수,자격유형,임대보증금,임대료,도보 10분거리 내 지하철역 수(환승노선 수 반영),도보 10분거리 내 버스정류장 수,단지내주차면수\r\n",
            "C1072,754,아파트,경기도,국민임대,39.79,116,14.0,H,22830000,189840,0.0,2.0,683.0\r\n",
            "C1072,754,아파트,경기도,국민임대,46.81,30,14.0,A,36048000,249930,0.0,2.0,683.0\r\n",
            "C1072,754,아파트,경기도,국민임대,46.9,112,14.0,H,36048000,249930,0.0,2.0,683.0\r\n",
            "C1072,754,아파트,경기도,국민임대,46.9,120,14.0,H,36048000,249930,0.0,2.0,683.0\r\n",
            "C1072,754,아파트,경기도,국민임대,51.46,60,14.0,H,43497000,296780,0.0,2.0,683.0\r\n",
            "C1072,754,아파트,경기도,국민임대,51.71,51,14.0,H,43497000,296780,0.0,2.0,683.0\r\n",
            "C1072,754,아파트,경기도,국민임대,51.96,198,14.0,H,43497000,296780,0.0,2.0,683.0\r\n",
            "C1072,754,아파트,경기도,국민임대,51.96,67,14.0,H,43497000,296780,0.0,2.0,683.0\r\n",
            "C1128,1354,아파트,경기도,국민임대,39.79,368,9.0,H,22830000,189840,0.0,3.0,1216.0\r\n"
          ]
        }
      ]
    },
    {
      "cell_type": "code",
      "source": [
        "!wc sample_submission.csv\n",
        "!wc test.csv"
      ],
      "metadata": {
        "colab": {
          "base_uri": "https://localhost:8080/"
        },
        "id": "pyGVk-tL_NS0",
        "outputId": "ec4694c2-4bf8-4c4a-fc23-d5d90d9b0cde"
      },
      "execution_count": null,
      "outputs": [
        {
          "output_type": "stream",
          "name": "stdout",
          "text": [
            " 151  151 1360 sample_submission.csv\n",
            " 1023  1033 92574 test.csv\n"
          ]
        }
      ]
    },
    {
      "cell_type": "markdown",
      "source": [
        "# 예측값 구하기"
      ],
      "metadata": {
        "id": "8t8tQLn4Hvfq"
      }
    },
    {
      "cell_type": "code",
      "source": [
        "y_ = model.predict(test_x)\n",
        "recovered_y = y_ * (y_max - y_min) + y_min"
      ],
      "metadata": {
        "id": "O6hiPw9V_NPy"
      },
      "execution_count": null,
      "outputs": []
    },
    {
      "cell_type": "code",
      "source": [
        "test_df['등록차량수'] = recovered_y"
      ],
      "metadata": {
        "id": "-tEIKF-2_NNQ"
      },
      "execution_count": null,
      "outputs": []
    },
    {
      "cell_type": "code",
      "source": [
        "result_df = test_df[['등록차량수', '단지코드']]"
      ],
      "metadata": {
        "id": "Xt4m20O8qlEN"
      },
      "execution_count": null,
      "outputs": []
    },
    {
      "cell_type": "code",
      "source": [
        "result_df = result_df.groupby('단지코드').max()\n",
        "result_df = result_df.reset_index()"
      ],
      "metadata": {
        "id": "v5cxlFLT_NKc"
      },
      "execution_count": null,
      "outputs": []
    },
    {
      "cell_type": "code",
      "source": [
        "result_df.head()"
      ],
      "metadata": {
        "colab": {
          "base_uri": "https://localhost:8080/",
          "height": 206
        },
        "id": "2ZgqKPVyJroN",
        "outputId": "3cccac36-dc3c-4bb0-adc3-7f4259d2364b"
      },
      "execution_count": null,
      "outputs": [
        {
          "output_type": "execute_result",
          "data": {
            "text/html": [
              "\n",
              "  <div id=\"df-a85253a9-bdc4-47bb-af7c-80bfb53272ce\">\n",
              "    <div class=\"colab-df-container\">\n",
              "      <div>\n",
              "<style scoped>\n",
              "    .dataframe tbody tr th:only-of-type {\n",
              "        vertical-align: middle;\n",
              "    }\n",
              "\n",
              "    .dataframe tbody tr th {\n",
              "        vertical-align: top;\n",
              "    }\n",
              "\n",
              "    .dataframe thead th {\n",
              "        text-align: right;\n",
              "    }\n",
              "</style>\n",
              "<table border=\"1\" class=\"dataframe\">\n",
              "  <thead>\n",
              "    <tr style=\"text-align: right;\">\n",
              "      <th></th>\n",
              "      <th>단지코드</th>\n",
              "      <th>등록차량수</th>\n",
              "    </tr>\n",
              "  </thead>\n",
              "  <tbody>\n",
              "    <tr>\n",
              "      <th>0</th>\n",
              "      <td>C1003</td>\n",
              "      <td>643.952332</td>\n",
              "    </tr>\n",
              "    <tr>\n",
              "      <th>1</th>\n",
              "      <td>C1006</td>\n",
              "      <td>740.400696</td>\n",
              "    </tr>\n",
              "    <tr>\n",
              "      <th>2</th>\n",
              "      <td>C1016</td>\n",
              "      <td>176.064590</td>\n",
              "    </tr>\n",
              "    <tr>\n",
              "      <th>3</th>\n",
              "      <td>C1019</td>\n",
              "      <td>355.425293</td>\n",
              "    </tr>\n",
              "    <tr>\n",
              "      <th>4</th>\n",
              "      <td>C1030</td>\n",
              "      <td>787.471863</td>\n",
              "    </tr>\n",
              "  </tbody>\n",
              "</table>\n",
              "</div>\n",
              "      <button class=\"colab-df-convert\" onclick=\"convertToInteractive('df-a85253a9-bdc4-47bb-af7c-80bfb53272ce')\"\n",
              "              title=\"Convert this dataframe to an interactive table.\"\n",
              "              style=\"display:none;\">\n",
              "        \n",
              "  <svg xmlns=\"http://www.w3.org/2000/svg\" height=\"24px\"viewBox=\"0 0 24 24\"\n",
              "       width=\"24px\">\n",
              "    <path d=\"M0 0h24v24H0V0z\" fill=\"none\"/>\n",
              "    <path d=\"M18.56 5.44l.94 2.06.94-2.06 2.06-.94-2.06-.94-.94-2.06-.94 2.06-2.06.94zm-11 1L8.5 8.5l.94-2.06 2.06-.94-2.06-.94L8.5 2.5l-.94 2.06-2.06.94zm10 10l.94 2.06.94-2.06 2.06-.94-2.06-.94-.94-2.06-.94 2.06-2.06.94z\"/><path d=\"M17.41 7.96l-1.37-1.37c-.4-.4-.92-.59-1.43-.59-.52 0-1.04.2-1.43.59L10.3 9.45l-7.72 7.72c-.78.78-.78 2.05 0 2.83L4 21.41c.39.39.9.59 1.41.59.51 0 1.02-.2 1.41-.59l7.78-7.78 2.81-2.81c.8-.78.8-2.07 0-2.86zM5.41 20L4 18.59l7.72-7.72 1.47 1.35L5.41 20z\"/>\n",
              "  </svg>\n",
              "      </button>\n",
              "      \n",
              "  <style>\n",
              "    .colab-df-container {\n",
              "      display:flex;\n",
              "      flex-wrap:wrap;\n",
              "      gap: 12px;\n",
              "    }\n",
              "\n",
              "    .colab-df-convert {\n",
              "      background-color: #E8F0FE;\n",
              "      border: none;\n",
              "      border-radius: 50%;\n",
              "      cursor: pointer;\n",
              "      display: none;\n",
              "      fill: #1967D2;\n",
              "      height: 32px;\n",
              "      padding: 0 0 0 0;\n",
              "      width: 32px;\n",
              "    }\n",
              "\n",
              "    .colab-df-convert:hover {\n",
              "      background-color: #E2EBFA;\n",
              "      box-shadow: 0px 1px 2px rgba(60, 64, 67, 0.3), 0px 1px 3px 1px rgba(60, 64, 67, 0.15);\n",
              "      fill: #174EA6;\n",
              "    }\n",
              "\n",
              "    [theme=dark] .colab-df-convert {\n",
              "      background-color: #3B4455;\n",
              "      fill: #D2E3FC;\n",
              "    }\n",
              "\n",
              "    [theme=dark] .colab-df-convert:hover {\n",
              "      background-color: #434B5C;\n",
              "      box-shadow: 0px 1px 3px 1px rgba(0, 0, 0, 0.15);\n",
              "      filter: drop-shadow(0px 1px 2px rgba(0, 0, 0, 0.3));\n",
              "      fill: #FFFFFF;\n",
              "    }\n",
              "  </style>\n",
              "\n",
              "      <script>\n",
              "        const buttonEl =\n",
              "          document.querySelector('#df-a85253a9-bdc4-47bb-af7c-80bfb53272ce button.colab-df-convert');\n",
              "        buttonEl.style.display =\n",
              "          google.colab.kernel.accessAllowed ? 'block' : 'none';\n",
              "\n",
              "        async function convertToInteractive(key) {\n",
              "          const element = document.querySelector('#df-a85253a9-bdc4-47bb-af7c-80bfb53272ce');\n",
              "          const dataTable =\n",
              "            await google.colab.kernel.invokeFunction('convertToInteractive',\n",
              "                                                     [key], {});\n",
              "          if (!dataTable) return;\n",
              "\n",
              "          const docLinkHtml = 'Like what you see? Visit the ' +\n",
              "            '<a target=\"_blank\" href=https://colab.research.google.com/notebooks/data_table.ipynb>data table notebook</a>'\n",
              "            + ' to learn more about interactive tables.';\n",
              "          element.innerHTML = '';\n",
              "          dataTable['output_type'] = 'display_data';\n",
              "          await google.colab.output.renderOutput(dataTable, element);\n",
              "          const docLink = document.createElement('div');\n",
              "          docLink.innerHTML = docLinkHtml;\n",
              "          element.appendChild(docLink);\n",
              "        }\n",
              "      </script>\n",
              "    </div>\n",
              "  </div>\n",
              "  "
            ],
            "text/plain": [
              "    단지코드       등록차량수\n",
              "0  C1003  643.952332\n",
              "1  C1006  740.400696\n",
              "2  C1016  176.064590\n",
              "3  C1019  355.425293\n",
              "4  C1030  787.471863"
            ]
          },
          "metadata": {},
          "execution_count": 64
        }
      ]
    },
    {
      "cell_type": "code",
      "source": [
        "result_df.info()"
      ],
      "metadata": {
        "colab": {
          "base_uri": "https://localhost:8080/"
        },
        "id": "ZUFVoJnV6YA6",
        "outputId": "d4c85151-eb83-46e7-cf62-3f7932dc55e5"
      },
      "execution_count": null,
      "outputs": [
        {
          "output_type": "stream",
          "name": "stdout",
          "text": [
            "<class 'pandas.core.frame.DataFrame'>\n",
            "RangeIndex: 150 entries, 0 to 149\n",
            "Data columns (total 2 columns):\n",
            " #   Column  Non-Null Count  Dtype  \n",
            "---  ------  --------------  -----  \n",
            " 0   단지코드    150 non-null    object \n",
            " 1   등록차량수   150 non-null    float32\n",
            "dtypes: float32(1), object(1)\n",
            "memory usage: 1.9+ KB\n"
          ]
        }
      ]
    },
    {
      "cell_type": "code",
      "source": [
        "result_df.columns"
      ],
      "metadata": {
        "colab": {
          "base_uri": "https://localhost:8080/"
        },
        "id": "GrF2op0s6hh-",
        "outputId": "e12a6261-c7c7-4f5d-abf0-bce20026a3c4"
      },
      "execution_count": null,
      "outputs": [
        {
          "output_type": "execute_result",
          "data": {
            "text/plain": [
              "Index(['단지코드', '등록차량수'], dtype='object')"
            ]
          },
          "metadata": {},
          "execution_count": 66
        }
      ]
    },
    {
      "cell_type": "code",
      "source": [
        "result = result_df.to_numpy()\n",
        "print(result.shape)\n",
        "print(result[:5])"
      ],
      "metadata": {
        "colab": {
          "base_uri": "https://localhost:8080/"
        },
        "id": "YGX5aBTjM30z",
        "outputId": "1831e652-72d3-45a1-9ede-945b1b1d2f20"
      },
      "execution_count": null,
      "outputs": [
        {
          "output_type": "stream",
          "name": "stdout",
          "text": [
            "(150, 2)\n",
            "[['C1003' 643.9523315429688]\n",
            " ['C1006' 740.4006958007812]\n",
            " ['C1016' 176.06459045410156]\n",
            " ['C1019' 355.42529296875]\n",
            " ['C1030' 787.4718627929688]]\n"
          ]
        }
      ]
    },
    {
      "cell_type": "code",
      "source": [
        "result_map = {}\n",
        "for code, value in result:\n",
        "    result_map[code] = int(value)\n",
        "\n",
        "print(result_map)"
      ],
      "metadata": {
        "colab": {
          "base_uri": "https://localhost:8080/"
        },
        "id": "dWLyFISfM3x4",
        "outputId": "15820305-95cc-44e2-c565-87679e1fde47"
      },
      "execution_count": null,
      "outputs": [
        {
          "output_type": "stream",
          "name": "stdout",
          "text": [
            "{'C1003': 643, 'C1006': 740, 'C1016': 176, 'C1019': 355, 'C1030': 787, 'C1038': 929, 'C1040': 48, 'C1060': 100, 'C1064': 356, 'C1071': 203, 'C1072': 1032, 'C1083': 79, 'C1105': 148, 'C1128': 1068, 'C1135': 447, 'C1147': 223, 'C1149': 356, 'C1152': 143, 'C1158': 368, 'C1166': 167, 'C1189': 362, 'C1215': 368, 'C1216': 454, 'C1225': 99, 'C1229': 591, 'C1239': 116, 'C1250': 351, 'C1253': 169, 'C1266': 578, 'C1267': 722, 'C1282': 543, 'C1289': 1056, 'C1294': 112, 'C1297': 148, 'C1311': 79, 'C1318': 562, 'C1323': 356, 'C1327': 816, 'C1332': 776, 'C1349': 724, 'C1377': 690, 'C1392': 174, 'C1414': 1177, 'C1416': 355, 'C1456': 1084, 'C1457': 52, 'C1472': 393, 'C1474': 268, 'C1494': 80, 'C1495': 169, 'C1496': 1047, 'C1521': 900, 'C1525': 103, 'C1563': 1789, 'C1564': 164, 'C1570': 222, 'C1593': 84, 'C1602': 151, 'C1603': 129, 'C1604': 48, 'C1617': 491, 'C1621': 139, 'C1623': 94, 'C1629': 189, 'C1633': 241, 'C1637': 99, 'C1640': 695, 'C1683': 974, 'C1692': 222, 'C1708': 204, 'C1712': 654, 'C1721': 567, 'C1729': 562, 'C1741': 176, 'C1749': 946, 'C1772': 121, 'C1782': 189, 'C1794': 1803, 'C1812': 510, 'C1826': 143, 'C1827': 125, 'C1830': 307, 'C1835': 123, 'C1840': 775, 'C1841': 1080, 'C1844': 646, 'C1849': 517, 'C1852': 155, 'C1855': 221, 'C1887': 370, 'C1902': 535, 'C2028': 167, 'C2033': 177, 'C2039': 169, 'C2043': 732, 'C2072': 678, 'C2076': 100, 'C2091': 825, 'C2112': 322, 'C2113': 84, 'C2128': 339, 'C2131': 159, 'C2144': 866, 'C2152': 479, 'C2174': 789, 'C2175': 99, 'C2177': 462, 'C2189': 743, 'C2215': 142, 'C2222': 123, 'C2224': 123, 'C2253': 188, 'C2267': 657, 'C2268': 648, 'C2269': 355, 'C2292': 439, 'C2295': 139, 'C2303': 160, 'C2318': 162, 'C2323': 148, 'C2335': 839, 'C2363': 586, 'C2369': 368, 'C2374': 99, 'C2397': 99, 'C2404': 1062, 'C2411': 130, 'C2417': 58, 'C2423': 598, 'C2430': 144, 'C2436': 169, 'C2451': 955, 'C2456': 572, 'C2473': 417, 'C2497': 172, 'C2523': 129, 'C2535': 48, 'C2547': 50, 'C2551': 431, 'C2555': 148, 'C2557': 123, 'C2600': 209, 'C2602': 322, 'C2608': 487, 'C2646': 121, 'C2653': 174, 'C2675': 176, 'C2676': 791, 'C2688': 438, 'C2691': 223}\n"
          ]
        }
      ]
    },
    {
      "cell_type": "markdown",
      "source": [
        "# submission 파일 읽기"
      ],
      "metadata": {
        "id": "CcjUAEQPgX7_"
      }
    },
    {
      "cell_type": "code",
      "source": [
        "submission_df = pd.read_csv(\"sample_submission.csv\")"
      ],
      "metadata": {
        "id": "sHMX6xsRM3u7"
      },
      "execution_count": null,
      "outputs": []
    },
    {
      "cell_type": "code",
      "source": [
        "submission_df.head()"
      ],
      "metadata": {
        "colab": {
          "base_uri": "https://localhost:8080/",
          "height": 206
        },
        "id": "sjztcu0FM3si",
        "outputId": "4b6c9213-b949-4842-dd8b-acc8e53e6ea5"
      },
      "execution_count": null,
      "outputs": [
        {
          "output_type": "execute_result",
          "data": {
            "text/html": [
              "\n",
              "  <div id=\"df-c5fd05dc-9a0c-4fe1-97f2-f78b314cd58b\">\n",
              "    <div class=\"colab-df-container\">\n",
              "      <div>\n",
              "<style scoped>\n",
              "    .dataframe tbody tr th:only-of-type {\n",
              "        vertical-align: middle;\n",
              "    }\n",
              "\n",
              "    .dataframe tbody tr th {\n",
              "        vertical-align: top;\n",
              "    }\n",
              "\n",
              "    .dataframe thead th {\n",
              "        text-align: right;\n",
              "    }\n",
              "</style>\n",
              "<table border=\"1\" class=\"dataframe\">\n",
              "  <thead>\n",
              "    <tr style=\"text-align: right;\">\n",
              "      <th></th>\n",
              "      <th>code</th>\n",
              "      <th>num</th>\n",
              "    </tr>\n",
              "  </thead>\n",
              "  <tbody>\n",
              "    <tr>\n",
              "      <th>0</th>\n",
              "      <td>C1072</td>\n",
              "      <td>0</td>\n",
              "    </tr>\n",
              "    <tr>\n",
              "      <th>1</th>\n",
              "      <td>C1128</td>\n",
              "      <td>0</td>\n",
              "    </tr>\n",
              "    <tr>\n",
              "      <th>2</th>\n",
              "      <td>C1456</td>\n",
              "      <td>0</td>\n",
              "    </tr>\n",
              "    <tr>\n",
              "      <th>3</th>\n",
              "      <td>C1840</td>\n",
              "      <td>0</td>\n",
              "    </tr>\n",
              "    <tr>\n",
              "      <th>4</th>\n",
              "      <td>C1332</td>\n",
              "      <td>0</td>\n",
              "    </tr>\n",
              "  </tbody>\n",
              "</table>\n",
              "</div>\n",
              "      <button class=\"colab-df-convert\" onclick=\"convertToInteractive('df-c5fd05dc-9a0c-4fe1-97f2-f78b314cd58b')\"\n",
              "              title=\"Convert this dataframe to an interactive table.\"\n",
              "              style=\"display:none;\">\n",
              "        \n",
              "  <svg xmlns=\"http://www.w3.org/2000/svg\" height=\"24px\"viewBox=\"0 0 24 24\"\n",
              "       width=\"24px\">\n",
              "    <path d=\"M0 0h24v24H0V0z\" fill=\"none\"/>\n",
              "    <path d=\"M18.56 5.44l.94 2.06.94-2.06 2.06-.94-2.06-.94-.94-2.06-.94 2.06-2.06.94zm-11 1L8.5 8.5l.94-2.06 2.06-.94-2.06-.94L8.5 2.5l-.94 2.06-2.06.94zm10 10l.94 2.06.94-2.06 2.06-.94-2.06-.94-.94-2.06-.94 2.06-2.06.94z\"/><path d=\"M17.41 7.96l-1.37-1.37c-.4-.4-.92-.59-1.43-.59-.52 0-1.04.2-1.43.59L10.3 9.45l-7.72 7.72c-.78.78-.78 2.05 0 2.83L4 21.41c.39.39.9.59 1.41.59.51 0 1.02-.2 1.41-.59l7.78-7.78 2.81-2.81c.8-.78.8-2.07 0-2.86zM5.41 20L4 18.59l7.72-7.72 1.47 1.35L5.41 20z\"/>\n",
              "  </svg>\n",
              "      </button>\n",
              "      \n",
              "  <style>\n",
              "    .colab-df-container {\n",
              "      display:flex;\n",
              "      flex-wrap:wrap;\n",
              "      gap: 12px;\n",
              "    }\n",
              "\n",
              "    .colab-df-convert {\n",
              "      background-color: #E8F0FE;\n",
              "      border: none;\n",
              "      border-radius: 50%;\n",
              "      cursor: pointer;\n",
              "      display: none;\n",
              "      fill: #1967D2;\n",
              "      height: 32px;\n",
              "      padding: 0 0 0 0;\n",
              "      width: 32px;\n",
              "    }\n",
              "\n",
              "    .colab-df-convert:hover {\n",
              "      background-color: #E2EBFA;\n",
              "      box-shadow: 0px 1px 2px rgba(60, 64, 67, 0.3), 0px 1px 3px 1px rgba(60, 64, 67, 0.15);\n",
              "      fill: #174EA6;\n",
              "    }\n",
              "\n",
              "    [theme=dark] .colab-df-convert {\n",
              "      background-color: #3B4455;\n",
              "      fill: #D2E3FC;\n",
              "    }\n",
              "\n",
              "    [theme=dark] .colab-df-convert:hover {\n",
              "      background-color: #434B5C;\n",
              "      box-shadow: 0px 1px 3px 1px rgba(0, 0, 0, 0.15);\n",
              "      filter: drop-shadow(0px 1px 2px rgba(0, 0, 0, 0.3));\n",
              "      fill: #FFFFFF;\n",
              "    }\n",
              "  </style>\n",
              "\n",
              "      <script>\n",
              "        const buttonEl =\n",
              "          document.querySelector('#df-c5fd05dc-9a0c-4fe1-97f2-f78b314cd58b button.colab-df-convert');\n",
              "        buttonEl.style.display =\n",
              "          google.colab.kernel.accessAllowed ? 'block' : 'none';\n",
              "\n",
              "        async function convertToInteractive(key) {\n",
              "          const element = document.querySelector('#df-c5fd05dc-9a0c-4fe1-97f2-f78b314cd58b');\n",
              "          const dataTable =\n",
              "            await google.colab.kernel.invokeFunction('convertToInteractive',\n",
              "                                                     [key], {});\n",
              "          if (!dataTable) return;\n",
              "\n",
              "          const docLinkHtml = 'Like what you see? Visit the ' +\n",
              "            '<a target=\"_blank\" href=https://colab.research.google.com/notebooks/data_table.ipynb>data table notebook</a>'\n",
              "            + ' to learn more about interactive tables.';\n",
              "          element.innerHTML = '';\n",
              "          dataTable['output_type'] = 'display_data';\n",
              "          await google.colab.output.renderOutput(dataTable, element);\n",
              "          const docLink = document.createElement('div');\n",
              "          docLink.innerHTML = docLinkHtml;\n",
              "          element.appendChild(docLink);\n",
              "        }\n",
              "      </script>\n",
              "    </div>\n",
              "  </div>\n",
              "  "
            ],
            "text/plain": [
              "    code  num\n",
              "0  C1072    0\n",
              "1  C1128    0\n",
              "2  C1456    0\n",
              "3  C1840    0\n",
              "4  C1332    0"
            ]
          },
          "metadata": {},
          "execution_count": 70
        }
      ]
    },
    {
      "cell_type": "markdown",
      "source": [
        "# submission 값 채우기"
      ],
      "metadata": {
        "id": "pOQiWWwvgapt"
      }
    },
    {
      "cell_type": "code",
      "source": [
        "submission_code = submission_df.code.to_numpy()\n",
        "\n",
        "submission = []\n",
        "\n",
        "for code in submission_code:\n",
        "    submission.append([code, result_map[code]])\n",
        "\n",
        "submission = np.array(submission)\n",
        "\n",
        "submission_df = pd.DataFrame(submission, columns=[\"code\", \"num\"])\n",
        "\n",
        "submission_df.head()"
      ],
      "metadata": {
        "colab": {
          "base_uri": "https://localhost:8080/",
          "height": 206
        },
        "id": "eOa1JiLifHJz",
        "outputId": "067d02da-ef85-409b-ab88-d69e0d05efff"
      },
      "execution_count": null,
      "outputs": [
        {
          "output_type": "execute_result",
          "data": {
            "text/html": [
              "\n",
              "  <div id=\"df-9b7dcafd-5406-4e8e-a0fc-892ae0b343e4\">\n",
              "    <div class=\"colab-df-container\">\n",
              "      <div>\n",
              "<style scoped>\n",
              "    .dataframe tbody tr th:only-of-type {\n",
              "        vertical-align: middle;\n",
              "    }\n",
              "\n",
              "    .dataframe tbody tr th {\n",
              "        vertical-align: top;\n",
              "    }\n",
              "\n",
              "    .dataframe thead th {\n",
              "        text-align: right;\n",
              "    }\n",
              "</style>\n",
              "<table border=\"1\" class=\"dataframe\">\n",
              "  <thead>\n",
              "    <tr style=\"text-align: right;\">\n",
              "      <th></th>\n",
              "      <th>code</th>\n",
              "      <th>num</th>\n",
              "    </tr>\n",
              "  </thead>\n",
              "  <tbody>\n",
              "    <tr>\n",
              "      <th>0</th>\n",
              "      <td>C1072</td>\n",
              "      <td>1032</td>\n",
              "    </tr>\n",
              "    <tr>\n",
              "      <th>1</th>\n",
              "      <td>C1128</td>\n",
              "      <td>1068</td>\n",
              "    </tr>\n",
              "    <tr>\n",
              "      <th>2</th>\n",
              "      <td>C1456</td>\n",
              "      <td>1084</td>\n",
              "    </tr>\n",
              "    <tr>\n",
              "      <th>3</th>\n",
              "      <td>C1840</td>\n",
              "      <td>775</td>\n",
              "    </tr>\n",
              "    <tr>\n",
              "      <th>4</th>\n",
              "      <td>C1332</td>\n",
              "      <td>776</td>\n",
              "    </tr>\n",
              "  </tbody>\n",
              "</table>\n",
              "</div>\n",
              "      <button class=\"colab-df-convert\" onclick=\"convertToInteractive('df-9b7dcafd-5406-4e8e-a0fc-892ae0b343e4')\"\n",
              "              title=\"Convert this dataframe to an interactive table.\"\n",
              "              style=\"display:none;\">\n",
              "        \n",
              "  <svg xmlns=\"http://www.w3.org/2000/svg\" height=\"24px\"viewBox=\"0 0 24 24\"\n",
              "       width=\"24px\">\n",
              "    <path d=\"M0 0h24v24H0V0z\" fill=\"none\"/>\n",
              "    <path d=\"M18.56 5.44l.94 2.06.94-2.06 2.06-.94-2.06-.94-.94-2.06-.94 2.06-2.06.94zm-11 1L8.5 8.5l.94-2.06 2.06-.94-2.06-.94L8.5 2.5l-.94 2.06-2.06.94zm10 10l.94 2.06.94-2.06 2.06-.94-2.06-.94-.94-2.06-.94 2.06-2.06.94z\"/><path d=\"M17.41 7.96l-1.37-1.37c-.4-.4-.92-.59-1.43-.59-.52 0-1.04.2-1.43.59L10.3 9.45l-7.72 7.72c-.78.78-.78 2.05 0 2.83L4 21.41c.39.39.9.59 1.41.59.51 0 1.02-.2 1.41-.59l7.78-7.78 2.81-2.81c.8-.78.8-2.07 0-2.86zM5.41 20L4 18.59l7.72-7.72 1.47 1.35L5.41 20z\"/>\n",
              "  </svg>\n",
              "      </button>\n",
              "      \n",
              "  <style>\n",
              "    .colab-df-container {\n",
              "      display:flex;\n",
              "      flex-wrap:wrap;\n",
              "      gap: 12px;\n",
              "    }\n",
              "\n",
              "    .colab-df-convert {\n",
              "      background-color: #E8F0FE;\n",
              "      border: none;\n",
              "      border-radius: 50%;\n",
              "      cursor: pointer;\n",
              "      display: none;\n",
              "      fill: #1967D2;\n",
              "      height: 32px;\n",
              "      padding: 0 0 0 0;\n",
              "      width: 32px;\n",
              "    }\n",
              "\n",
              "    .colab-df-convert:hover {\n",
              "      background-color: #E2EBFA;\n",
              "      box-shadow: 0px 1px 2px rgba(60, 64, 67, 0.3), 0px 1px 3px 1px rgba(60, 64, 67, 0.15);\n",
              "      fill: #174EA6;\n",
              "    }\n",
              "\n",
              "    [theme=dark] .colab-df-convert {\n",
              "      background-color: #3B4455;\n",
              "      fill: #D2E3FC;\n",
              "    }\n",
              "\n",
              "    [theme=dark] .colab-df-convert:hover {\n",
              "      background-color: #434B5C;\n",
              "      box-shadow: 0px 1px 3px 1px rgba(0, 0, 0, 0.15);\n",
              "      filter: drop-shadow(0px 1px 2px rgba(0, 0, 0, 0.3));\n",
              "      fill: #FFFFFF;\n",
              "    }\n",
              "  </style>\n",
              "\n",
              "      <script>\n",
              "        const buttonEl =\n",
              "          document.querySelector('#df-9b7dcafd-5406-4e8e-a0fc-892ae0b343e4 button.colab-df-convert');\n",
              "        buttonEl.style.display =\n",
              "          google.colab.kernel.accessAllowed ? 'block' : 'none';\n",
              "\n",
              "        async function convertToInteractive(key) {\n",
              "          const element = document.querySelector('#df-9b7dcafd-5406-4e8e-a0fc-892ae0b343e4');\n",
              "          const dataTable =\n",
              "            await google.colab.kernel.invokeFunction('convertToInteractive',\n",
              "                                                     [key], {});\n",
              "          if (!dataTable) return;\n",
              "\n",
              "          const docLinkHtml = 'Like what you see? Visit the ' +\n",
              "            '<a target=\"_blank\" href=https://colab.research.google.com/notebooks/data_table.ipynb>data table notebook</a>'\n",
              "            + ' to learn more about interactive tables.';\n",
              "          element.innerHTML = '';\n",
              "          dataTable['output_type'] = 'display_data';\n",
              "          await google.colab.output.renderOutput(dataTable, element);\n",
              "          const docLink = document.createElement('div');\n",
              "          docLink.innerHTML = docLinkHtml;\n",
              "          element.appendChild(docLink);\n",
              "        }\n",
              "      </script>\n",
              "    </div>\n",
              "  </div>\n",
              "  "
            ],
            "text/plain": [
              "    code   num\n",
              "0  C1072  1032\n",
              "1  C1128  1068\n",
              "2  C1456  1084\n",
              "3  C1840   775\n",
              "4  C1332   776"
            ]
          },
          "metadata": {},
          "execution_count": 71
        }
      ]
    },
    {
      "cell_type": "markdown",
      "source": [
        "# submission 파일 저장"
      ],
      "metadata": {
        "id": "XqziMxXigdne"
      }
    },
    {
      "cell_type": "code",
      "source": [
        "submission_df.to_csv(\"submission.csv\", index=False)"
      ],
      "metadata": {
        "id": "aMnbx62QeSCw"
      },
      "execution_count": null,
      "outputs": []
    },
    {
      "cell_type": "code",
      "source": [
        "!head submission.csv"
      ],
      "metadata": {
        "colab": {
          "base_uri": "https://localhost:8080/"
        },
        "id": "MgJMhnw_gtBf",
        "outputId": "a03ee29c-6105-41af-ca94-13b9d7bd75df"
      },
      "execution_count": null,
      "outputs": [
        {
          "output_type": "stream",
          "name": "stdout",
          "text": [
            "code,num\n",
            "C1072,1032\n",
            "C1128,1068\n",
            "C1456,1084\n",
            "C1840,775\n",
            "C1332,776\n",
            "C1563,1789\n",
            "C1794,1803\n",
            "C1640,695\n",
            "C1377,690\n"
          ]
        }
      ]
    },
    {
      "cell_type": "code",
      "source": [
        "!head sample_submission.csv"
      ],
      "metadata": {
        "colab": {
          "base_uri": "https://localhost:8080/"
        },
        "id": "a_Igq3cIgubg",
        "outputId": "f92e3906-807e-4600-a9b3-0fc0ebdf6d5c"
      },
      "execution_count": null,
      "outputs": [
        {
          "output_type": "stream",
          "name": "stdout",
          "text": [
            "code,num\r\n",
            "C1072,0\r\n",
            "C1128,0\r\n",
            "C1456,0\r\n",
            "C1840,0\r\n",
            "C1332,0\r\n",
            "C1563,0\r\n",
            "C1794,0\r\n",
            "C1640,0\r\n",
            "C1377,0\r\n"
          ]
        }
      ]
    },
    {
      "cell_type": "code",
      "source": [
        "recovered = 0.08 * (y_max-y_min) + y_min\n",
        "print(recovered)"
      ],
      "metadata": {
        "id": "yEA7XJllhDX4",
        "colab": {
          "base_uri": "https://localhost:8080/"
        },
        "outputId": "7db95234-bcfa-45f9-ffeb-6c317835e95d"
      },
      "execution_count": null,
      "outputs": [
        {
          "output_type": "stream",
          "name": "stdout",
          "text": [
            "204.0\n"
          ]
        }
      ]
    },
    {
      "cell_type": "code",
      "source": [
        ""
      ],
      "metadata": {
        "id": "LeX2EJa09INP"
      },
      "execution_count": null,
      "outputs": []
    },
    {
      "cell_type": "code",
      "source": [
        "result_df = test_df[['등록차량수', '단지코드']]\n"
      ],
      "metadata": {
        "colab": {
          "base_uri": "https://localhost:8080/"
        },
        "id": "sLeF-Nyh-bYH",
        "outputId": "912760c6-310a-49e7-a283-76581162c1e5"
      },
      "execution_count": null,
      "outputs": [
        {
          "output_type": "stream",
          "name": "stdout",
          "text": [
            "         등록차량수   단지코드\n",
            "0  1006.382202  C1072\n",
            "1   974.916138  C1072\n",
            "2  1032.335938  C1072\n",
            "3  1004.337769  C1072\n",
            "4  1007.950073  C1072\n",
            "         등록차량수   단지코드\n",
            "0  1006.382202  C1072\n",
            "1   974.916138  C1072\n",
            "2  1032.335938  C1072\n",
            "3  1004.337769  C1072\n",
            "4  1007.950073  C1072\n"
          ]
        }
      ]
    },
    {
      "cell_type": "code",
      "source": [
        ""
      ],
      "metadata": {
        "id": "ibmTgFCo-pY2"
      },
      "execution_count": null,
      "outputs": []
    }
  ]
}