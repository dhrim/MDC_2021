{
  "nbformat": 4,
  "nbformat_minor": 0,
  "metadata": {
    "colab": {
      "name": "custom_data_generator.ipynb",
      "provenance": [],
      "collapsed_sections": []
    },
    "kernelspec": {
      "name": "python3",
      "display_name": "Python 3"
    },
    "accelerator": "GPU"
  },
  "cells": [
    {
      "cell_type": "code",
      "metadata": {
        "id": "pH--ADDvhXQM"
      },
      "source": [
        "import numpy as np\n",
        "import matplotlib.pyplot as plt\n",
        "\n",
        "import tensorflow as tf\n",
        "from tensorflow import keras\n",
        "from tensorflow.keras import optimizers\n",
        "from tensorflow.keras.layers import Input, Dense, Flatten\n",
        "\n",
        "import time"
      ],
      "execution_count": 1,
      "outputs": []
    },
    {
      "cell_type": "markdown",
      "metadata": {
        "id": "iY37KleXmoaY"
      },
      "source": [
        "# 데이터 준비"
      ]
    },
    {
      "cell_type": "markdown",
      "metadata": {
        "id": "5BEmcWKsmj6V"
      },
      "source": [
        "## 데이터 다운로드"
      ]
    },
    {
      "cell_type": "code",
      "metadata": {
        "id": "46F5aLlSlz6G",
        "colab": {
          "base_uri": "https://localhost:8080/"
        },
        "outputId": "081ddc1a-63c5-4a62-d90c-70889bd6fb8b"
      },
      "source": [
        "(raw_train_x, raw_train_y), (raw_test_x, raw_test_y) = tf.keras.datasets.mnist.load_data()"
      ],
      "execution_count": 2,
      "outputs": [
        {
          "output_type": "stream",
          "name": "stdout",
          "text": [
            "Downloading data from https://storage.googleapis.com/tensorflow/tf-keras-datasets/mnist.npz\n",
            "11493376/11490434 [==============================] - 0s 0us/step\n",
            "11501568/11490434 [==============================] - 0s 0us/step\n"
          ]
        }
      ]
    },
    {
      "cell_type": "code",
      "metadata": {
        "id": "ZGtQOq_Pl_Hp",
        "colab": {
          "base_uri": "https://localhost:8080/"
        },
        "outputId": "62537b1b-e96e-4bf9-c959-651743274d90"
      },
      "source": [
        "print(raw_train_x.shape)\n",
        "print(raw_train_y.shape)\n",
        "print(raw_test_x.shape)\n",
        "print(raw_test_y.shape)"
      ],
      "execution_count": 3,
      "outputs": [
        {
          "output_type": "stream",
          "name": "stdout",
          "text": [
            "(60000, 28, 28)\n",
            "(60000,)\n",
            "(10000, 28, 28)\n",
            "(10000,)\n"
          ]
        }
      ]
    },
    {
      "cell_type": "code",
      "source": [
        "i = int(len(raw_train_x)*0.8)\n",
        "raw_train_x, raw_valid_x = raw_train_x[:i], raw_train_x[i:]\n",
        "raw_train_y, raw_valid_y = raw_train_y[:i], raw_train_y[i:]"
      ],
      "metadata": {
        "id": "Ju9LaPD4IE2v"
      },
      "execution_count": 4,
      "outputs": []
    },
    {
      "cell_type": "code",
      "source": [
        "print(raw_train_x.shape)\n",
        "print(raw_train_y.shape)\n",
        "print(raw_valid_x.shape)\n",
        "print(raw_valid_y.shape)\n",
        "print(raw_test_x.shape)\n",
        "print(raw_test_y.shape)"
      ],
      "metadata": {
        "colab": {
          "base_uri": "https://localhost:8080/"
        },
        "id": "XQxpNbaXIU47",
        "outputId": "e2e45937-855a-46a5-cb8e-e1e5151d0a8d"
      },
      "execution_count": 5,
      "outputs": [
        {
          "output_type": "stream",
          "name": "stdout",
          "text": [
            "(48000, 28, 28)\n",
            "(48000,)\n",
            "(12000, 28, 28)\n",
            "(12000,)\n",
            "(10000, 28, 28)\n",
            "(10000,)\n"
          ]
        }
      ]
    },
    {
      "cell_type": "code",
      "source": [
        "BATCH_SIZE = 32"
      ],
      "metadata": {
        "id": "Ibz0ZxDoIbUe"
      },
      "execution_count": 6,
      "outputs": []
    },
    {
      "cell_type": "code",
      "source": [
        "import numpy as np\n",
        "import math\n",
        "from tensorflow.keras.utils import Sequence\n",
        "from abc import *\n",
        "import traceback\n",
        "\n",
        "class DataGenerator(Sequence):\n",
        "\n",
        "  def __init__(self, org_image, org_label, batch_size=BATCH_SIZE, shuffle=True):\n",
        "    self.org_image = org_image/255.\n",
        "    self.org_label = org_label\n",
        "    self.batch_size = batch_size\n",
        "    self.shuffle=shuffle\n",
        "    self.indices = np.arange(len(self.org_image))\n",
        "    self._shuffle()\n",
        "\n",
        "  def __len__(self):\n",
        "    return math.ceil(len(self.org_image) / self.batch_size)\n",
        "\n",
        "  def __getitem__(self, idx):\n",
        "    indices = self.indices[idx*self.batch_size : (idx+1)*self.batch_size]\n",
        "    batch_x = [self.org_image[i] for i in indices]\n",
        "    batch_y = [self.org_label[i] for i in indices]\n",
        "    return np.array(batch_x), np.array(batch_y)\n",
        "\n",
        "  def _shuffle(self):\n",
        "    if not self.shuffle: return\n",
        "    np.random.shuffle(self.indices)\n",
        "\n",
        "  def on_epoch_end(self):\n",
        "    self._shuffle()"
      ],
      "metadata": {
        "id": "ublVbb0_HX-5"
      },
      "execution_count": 12,
      "outputs": []
    },
    {
      "cell_type": "code",
      "source": [
        "train_data_generator = DataGenerator(raw_train_x, raw_train_y)\n",
        "valid_data_generator = DataGenerator(raw_valid_x, raw_valid_y)\n",
        "test_data_generator = DataGenerator(raw_test_x, raw_test_y)"
      ],
      "metadata": {
        "id": "ILA7A9fLH1gC"
      },
      "execution_count": 13,
      "outputs": []
    },
    {
      "cell_type": "code",
      "metadata": {
        "id": "CoIUBiMQNt7J",
        "colab": {
          "base_uri": "https://localhost:8080/",
          "height": 283
        },
        "outputId": "975ae8f7-9503-4747-83cf-a102e775093a"
      },
      "source": [
        "batch_x, batch_y = train_data_generator.__getitem__(0)\n",
        "\n",
        "plt.imshow(batch_x[0], cmap=plt.cm.binary)\n",
        "print(batch_y[0])"
      ],
      "execution_count": 14,
      "outputs": [
        {
          "output_type": "stream",
          "name": "stdout",
          "text": [
            "0\n"
          ]
        },
        {
          "output_type": "display_data",
          "data": {
            "text/plain": [
              "<Figure size 432x288 with 1 Axes>"
            ],
            "image/png": "[encoded data removed]"
          },
          "metadata": {
            "needs_background": "light"
          }
        }
      ]
    },
    {
      "cell_type": "code",
      "metadata": {
        "id": "gZ-hK0S5xIl7",
        "colab": {
          "base_uri": "https://localhost:8080/"
        },
        "outputId": "e100d6c7-6a92-401a-c45a-d98cc5791e8b"
      },
      "source": [
        "\n",
        "model = keras.Sequential()\n",
        "model.add(Input((28,28)))\n",
        "model.add(Flatten())\n",
        "model.add(Dense(10, activation='relu'))\n",
        "model.add(Dense(10, activation='relu'))\n",
        "model.add(Dense(10, activation='softmax'))\n",
        "\n",
        "model.compile(optimizer=\"adam\", loss=\"sparse_categorical_crossentropy\", metrics=[\"accuracy\"])\n",
        "model.summary()\n",
        "\n",
        "\n",
        "model.fit(train_data_generator, validation_data=valid_data_generator, epochs=5, verbose=1, batch_size=128)\n",
        "\n",
        "\n",
        "loss, acc = model.evaluate(test_data_generator)\n",
        "print(\"loss=\",loss)\n",
        "print(\"acc=\",acc)\n",
        "\n",
        "y_ = model.predict(test_data_generator)\n",
        "print(y_.shape)\n",
        "\n",
        "\n",
        "batch_x, batch_y = test_data_generator.__getitem__(0)\n",
        "y_ = model.predict(batch_x)\n",
        "predicted = np.argmax(y_, axis=1)\n",
        "\n",
        "print(predicted)"
      ],
      "execution_count": 15,
      "outputs": [
        {
          "output_type": "stream",
          "name": "stdout",
          "text": [
            "Model: \"sequential_1\"\n",
            "_________________________________________________________________\n",
            " Layer (type)                Output Shape              Param #   \n",
            "=================================================================\n",
            " flatten_1 (Flatten)         (None, 784)               0         \n",
            "                                                                 \n",
            " dense_3 (Dense)             (None, 10)                7850      \n",
            "                                                                 \n",
            " dense_4 (Dense)             (None, 10)                110       \n",
            "                                                                 \n",
            " dense_5 (Dense)             (None, 10)                110       \n",
            "                                                                 \n",
            "=================================================================\n",
            "Total params: 8,070\n",
            "Trainable params: 8,070\n",
            "Non-trainable params: 0\n",
            "_________________________________________________________________\n",
            "Epoch 1/5\n",
            "1500/1500 [==============================] - 5s 3ms/step - loss: 0.5965 - accuracy: 0.8238 - val_loss: 0.3435 - val_accuracy: 0.8995\n",
            "Epoch 2/5\n",
            "1500/1500 [==============================] - 5s 3ms/step - loss: 0.3238 - accuracy: 0.9064 - val_loss: 0.2854 - val_accuracy: 0.9156\n",
            "Epoch 3/5\n",
            "1500/1500 [==============================] - 5s 3ms/step - loss: 0.2809 - accuracy: 0.9198 - val_loss: 0.2516 - val_accuracy: 0.9287\n",
            "Epoch 4/5\n",
            "1500/1500 [==============================] - 5s 3ms/step - loss: 0.2575 - accuracy: 0.9269 - val_loss: 0.2348 - val_accuracy: 0.9337\n",
            "Epoch 5/5\n",
            "1500/1500 [==============================] - 5s 3ms/step - loss: 0.2432 - accuracy: 0.9296 - val_loss: 0.2256 - val_accuracy: 0.9358\n",
            "313/313 [==============================] - 1s 2ms/step - loss: 0.2388 - accuracy: 0.9318\n",
            "loss= 0.23881115019321442\n",
            "acc= 0.9318000078201294\n",
            "(10000, 10)\n",
            "[0 6 2 7 3 1 6 0 1 4 7 5 8 9 9 2 6 7 6 4 9 1 9 4 5 7 2 9 1 4 5 0]\n"
          ]
        }
      ]
    },
    {
      "cell_type": "code",
      "source": [
        ""
      ],
      "metadata": {
        "id": "fCu4-FZXC_Gj"
      },
      "execution_count": null,
      "outputs": []
    }
  ]
}