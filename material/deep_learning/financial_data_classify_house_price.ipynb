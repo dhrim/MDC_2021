{
  "nbformat": 4,
  "nbformat_minor": 0,
  "metadata": {
    "colab": {
      "name": "financial_data_classify_house_price.ipynb",
      "provenance": [],
      "collapsed_sections": []
    },
    "kernelspec": {
      "name": "python3",
      "display_name": "Python 3"
    },
    "language_info": {
      "name": "python"
    },
    "accelerator": "GPU"
  },
  "cells": [
    {
      "cell_type": "markdown",
      "source": [
        "data from https://www.kaggle.com/harlfoxem/housesalesprediction\n"
      ],
      "metadata": {
        "id": "ohP561iSdS78"
      }
    },
    {
      "cell_type": "code",
      "source": [
        "import warnings\n",
        "warnings.simplefilter(action='ignore', category=FutureWarning)"
      ],
      "metadata": {
        "id": "eEDoD_i7XWmE"
      },
      "execution_count": 1,
      "outputs": []
    },
    {
      "cell_type": "markdown",
      "source": [
        "# 데이터 준비"
      ],
      "metadata": {
        "id": "xIEVVEF1frW-"
      }
    },
    {
      "cell_type": "code",
      "source": [
        "!rm -rf kc_house_data.csv\n",
        "!wget https://github.com/dhrim/deep_learning_data/raw/master/kc_house_data.csv"
      ],
      "metadata": {
        "colab": {
          "base_uri": "https://localhost:8080/"
        },
        "id": "QnAkuvXzqICx",
        "outputId": "5b884735-88a8-49db-81d1-f7bf5a20e453"
      },
      "execution_count": 2,
      "outputs": [
        {
          "output_type": "stream",
          "name": "stdout",
          "text": [
            "--2022-01-08 07:18:33--  https://github.com/dhrim/deep_learning_data/raw/master/kc_house_data.csv\n",
            "Resolving github.com (github.com)... 13.114.40.48\n",
            "Connecting to github.com (github.com)|13.114.40.48|:443... connected.\n",
            "HTTP request sent, awaiting response... 302 Found\n",
            "Location: https://raw.githubusercontent.com/dhrim/deep_learning_data/master/kc_house_data.csv [following]\n",
            "--2022-01-08 07:18:34--  https://raw.githubusercontent.com/dhrim/deep_learning_data/master/kc_house_data.csv\n",
            "Resolving raw.githubusercontent.com (raw.githubusercontent.com)... 185.199.108.133, 185.199.109.133, 185.199.110.133, ...\n",
            "Connecting to raw.githubusercontent.com (raw.githubusercontent.com)|185.199.108.133|:443... connected.\n",
            "HTTP request sent, awaiting response... 200 OK\n",
            "Length: 2515206 (2.4M) [text/plain]\n",
            "Saving to: ‘kc_house_data.csv’\n",
            "\n",
            "kc_house_data.csv   100%[===================>]   2.40M  --.-KB/s    in 0.08s   \n",
            "\n",
            "2022-01-08 07:18:34 (30.6 MB/s) - ‘kc_house_data.csv’ saved [2515206/2515206]\n",
            "\n"
          ]
        }
      ]
    },
    {
      "cell_type": "markdown",
      "source": [
        "# 파라매터 설정"
      ],
      "metadata": {
        "id": "37eayrO3y-3K"
      }
    },
    {
      "cell_type": "code",
      "source": [
        "SEQUENCE_LENGTH = 30\n",
        "OFFSET = 1\n",
        "BATCH_SIZE = 32"
      ],
      "metadata": {
        "id": "F2iE0M7Hy6Q6"
      },
      "execution_count": 3,
      "outputs": []
    },
    {
      "cell_type": "markdown",
      "source": [
        "# 데이터 로딩"
      ],
      "metadata": {
        "id": "Zu_4OtD_ftsY"
      }
    },
    {
      "cell_type": "code",
      "source": [
        "import numpy as np\n",
        "import pandas as pd\n",
        "import matplotlib.pyplot as plt"
      ],
      "metadata": {
        "id": "JRjPtpGXdW0L"
      },
      "execution_count": 4,
      "outputs": []
    },
    {
      "cell_type": "code",
      "source": [
        "df = pd.read_csv(\"kc_house_data.csv\")\n",
        "df.head()"
      ],
      "metadata": {
        "colab": {
          "base_uri": "https://localhost:8080/",
          "height": 270
        },
        "id": "g4lWKXiCdcP8",
        "outputId": "4a745f87-df18-4dfd-b9d8-75ff5e30d79c"
      },
      "execution_count": 5,
      "outputs": [
        {
          "output_type": "execute_result",
          "data": {
            "text/html": [
              "\n",
              "  <div id=\"df-5789a895-ef83-4ed4-97a1-c9a7fcfe24df\">\n",
              "    <div class=\"colab-df-container\">\n",
              "      <div>\n",
              "<style scoped>\n",
              "    .dataframe tbody tr th:only-of-type {\n",
              "        vertical-align: middle;\n",
              "    }\n",
              "\n",
              "    .dataframe tbody tr th {\n",
              "        vertical-align: top;\n",
              "    }\n",
              "\n",
              "    .dataframe thead th {\n",
              "        text-align: right;\n",
              "    }\n",
              "</style>\n",
              "<table border=\"1\" class=\"dataframe\">\n",
              "  <thead>\n",
              "    <tr style=\"text-align: right;\">\n",
              "      <th></th>\n",
              "      <th>id</th>\n",
              "      <th>date</th>\n",
              "      <th>price</th>\n",
              "      <th>bedrooms</th>\n",
              "      <th>bathrooms</th>\n",
              "      <th>sqft_living</th>\n",
              "      <th>sqft_lot</th>\n",
              "      <th>floors</th>\n",
              "      <th>waterfront</th>\n",
              "      <th>view</th>\n",
              "      <th>condition</th>\n",
              "      <th>grade</th>\n",
              "      <th>sqft_above</th>\n",
              "      <th>sqft_basement</th>\n",
              "      <th>yr_built</th>\n",
              "      <th>yr_renovated</th>\n",
              "      <th>zipcode</th>\n",
              "      <th>lat</th>\n",
              "      <th>long</th>\n",
              "      <th>sqft_living15</th>\n",
              "      <th>sqft_lot15</th>\n",
              "    </tr>\n",
              "  </thead>\n",
              "  <tbody>\n",
              "    <tr>\n",
              "      <th>0</th>\n",
              "      <td>7129300520</td>\n",
              "      <td>20141013T000000</td>\n",
              "      <td>221900.0</td>\n",
              "      <td>3</td>\n",
              "      <td>1.00</td>\n",
              "      <td>1180</td>\n",
              "      <td>5650</td>\n",
              "      <td>1.0</td>\n",
              "      <td>0</td>\n",
              "      <td>0</td>\n",
              "      <td>3</td>\n",
              "      <td>7</td>\n",
              "      <td>1180</td>\n",
              "      <td>0</td>\n",
              "      <td>1955</td>\n",
              "      <td>0</td>\n",
              "      <td>98178</td>\n",
              "      <td>47.5112</td>\n",
              "      <td>-122.257</td>\n",
              "      <td>1340</td>\n",
              "      <td>5650</td>\n",
              "    </tr>\n",
              "    <tr>\n",
              "      <th>1</th>\n",
              "      <td>6414100192</td>\n",
              "      <td>20141209T000000</td>\n",
              "      <td>538000.0</td>\n",
              "      <td>3</td>\n",
              "      <td>2.25</td>\n",
              "      <td>2570</td>\n",
              "      <td>7242</td>\n",
              "      <td>2.0</td>\n",
              "      <td>0</td>\n",
              "      <td>0</td>\n",
              "      <td>3</td>\n",
              "      <td>7</td>\n",
              "      <td>2170</td>\n",
              "      <td>400</td>\n",
              "      <td>1951</td>\n",
              "      <td>1991</td>\n",
              "      <td>98125</td>\n",
              "      <td>47.7210</td>\n",
              "      <td>-122.319</td>\n",
              "      <td>1690</td>\n",
              "      <td>7639</td>\n",
              "    </tr>\n",
              "    <tr>\n",
              "      <th>2</th>\n",
              "      <td>5631500400</td>\n",
              "      <td>20150225T000000</td>\n",
              "      <td>180000.0</td>\n",
              "      <td>2</td>\n",
              "      <td>1.00</td>\n",
              "      <td>770</td>\n",
              "      <td>10000</td>\n",
              "      <td>1.0</td>\n",
              "      <td>0</td>\n",
              "      <td>0</td>\n",
              "      <td>3</td>\n",
              "      <td>6</td>\n",
              "      <td>770</td>\n",
              "      <td>0</td>\n",
              "      <td>1933</td>\n",
              "      <td>0</td>\n",
              "      <td>98028</td>\n",
              "      <td>47.7379</td>\n",
              "      <td>-122.233</td>\n",
              "      <td>2720</td>\n",
              "      <td>8062</td>\n",
              "    </tr>\n",
              "    <tr>\n",
              "      <th>3</th>\n",
              "      <td>2487200875</td>\n",
              "      <td>20141209T000000</td>\n",
              "      <td>604000.0</td>\n",
              "      <td>4</td>\n",
              "      <td>3.00</td>\n",
              "      <td>1960</td>\n",
              "      <td>5000</td>\n",
              "      <td>1.0</td>\n",
              "      <td>0</td>\n",
              "      <td>0</td>\n",
              "      <td>5</td>\n",
              "      <td>7</td>\n",
              "      <td>1050</td>\n",
              "      <td>910</td>\n",
              "      <td>1965</td>\n",
              "      <td>0</td>\n",
              "      <td>98136</td>\n",
              "      <td>47.5208</td>\n",
              "      <td>-122.393</td>\n",
              "      <td>1360</td>\n",
              "      <td>5000</td>\n",
              "    </tr>\n",
              "    <tr>\n",
              "      <th>4</th>\n",
              "      <td>1954400510</td>\n",
              "      <td>20150218T000000</td>\n",
              "      <td>510000.0</td>\n",
              "      <td>3</td>\n",
              "      <td>2.00</td>\n",
              "      <td>1680</td>\n",
              "      <td>8080</td>\n",
              "      <td>1.0</td>\n",
              "      <td>0</td>\n",
              "      <td>0</td>\n",
              "      <td>3</td>\n",
              "      <td>8</td>\n",
              "      <td>1680</td>\n",
              "      <td>0</td>\n",
              "      <td>1987</td>\n",
              "      <td>0</td>\n",
              "      <td>98074</td>\n",
              "      <td>47.6168</td>\n",
              "      <td>-122.045</td>\n",
              "      <td>1800</td>\n",
              "      <td>7503</td>\n",
              "    </tr>\n",
              "  </tbody>\n",
              "</table>\n",
              "</div>\n",
              "      <button class=\"colab-df-convert\" onclick=\"convertToInteractive('df-5789a895-ef83-4ed4-97a1-c9a7fcfe24df')\"\n",
              "              title=\"Convert this dataframe to an interactive table.\"\n",
              "              style=\"display:none;\">\n",
              "        \n",
              "  <svg xmlns=\"http://www.w3.org/2000/svg\" height=\"24px\"viewBox=\"0 0 24 24\"\n",
              "       width=\"24px\">\n",
              "    <path d=\"M0 0h24v24H0V0z\" fill=\"none\"/>\n",
              "    <path d=\"M18.56 5.44l.94 2.06.94-2.06 2.06-.94-2.06-.94-.94-2.06-.94 2.06-2.06.94zm-11 1L8.5 8.5l.94-2.06 2.06-.94-2.06-.94L8.5 2.5l-.94 2.06-2.06.94zm10 10l.94 2.06.94-2.06 2.06-.94-2.06-.94-.94-2.06-.94 2.06-2.06.94z\"/><path d=\"M17.41 7.96l-1.37-1.37c-.4-.4-.92-.59-1.43-.59-.52 0-1.04.2-1.43.59L10.3 9.45l-7.72 7.72c-.78.78-.78 2.05 0 2.83L4 21.41c.39.39.9.59 1.41.59.51 0 1.02-.2 1.41-.59l7.78-7.78 2.81-2.81c.8-.78.8-2.07 0-2.86zM5.41 20L4 18.59l7.72-7.72 1.47 1.35L5.41 20z\"/>\n",
              "  </svg>\n",
              "      </button>\n",
              "      \n",
              "  <style>\n",
              "    .colab-df-container {\n",
              "      display:flex;\n",
              "      flex-wrap:wrap;\n",
              "      gap: 12px;\n",
              "    }\n",
              "\n",
              "    .colab-df-convert {\n",
              "      background-color: #E8F0FE;\n",
              "      border: none;\n",
              "      border-radius: 50%;\n",
              "      cursor: pointer;\n",
              "      display: none;\n",
              "      fill: #1967D2;\n",
              "      height: 32px;\n",
              "      padding: 0 0 0 0;\n",
              "      width: 32px;\n",
              "    }\n",
              "\n",
              "    .colab-df-convert:hover {\n",
              "      background-color: #E2EBFA;\n",
              "      box-shadow: 0px 1px 2px rgba(60, 64, 67, 0.3), 0px 1px 3px 1px rgba(60, 64, 67, 0.15);\n",
              "      fill: #174EA6;\n",
              "    }\n",
              "\n",
              "    [theme=dark] .colab-df-convert {\n",
              "      background-color: #3B4455;\n",
              "      fill: #D2E3FC;\n",
              "    }\n",
              "\n",
              "    [theme=dark] .colab-df-convert:hover {\n",
              "      background-color: #434B5C;\n",
              "      box-shadow: 0px 1px 3px 1px rgba(0, 0, 0, 0.15);\n",
              "      filter: drop-shadow(0px 1px 2px rgba(0, 0, 0, 0.3));\n",
              "      fill: #FFFFFF;\n",
              "    }\n",
              "  </style>\n",
              "\n",
              "      <script>\n",
              "        const buttonEl =\n",
              "          document.querySelector('#df-5789a895-ef83-4ed4-97a1-c9a7fcfe24df button.colab-df-convert');\n",
              "        buttonEl.style.display =\n",
              "          google.colab.kernel.accessAllowed ? 'block' : 'none';\n",
              "\n",
              "        async function convertToInteractive(key) {\n",
              "          const element = document.querySelector('#df-5789a895-ef83-4ed4-97a1-c9a7fcfe24df');\n",
              "          const dataTable =\n",
              "            await google.colab.kernel.invokeFunction('convertToInteractive',\n",
              "                                                     [key], {});\n",
              "          if (!dataTable) return;\n",
              "\n",
              "          const docLinkHtml = 'Like what you see? Visit the ' +\n",
              "            '<a target=\"_blank\" href=https://colab.research.google.com/notebooks/data_table.ipynb>data table notebook</a>'\n",
              "            + ' to learn more about interactive tables.';\n",
              "          element.innerHTML = '';\n",
              "          dataTable['output_type'] = 'display_data';\n",
              "          await google.colab.output.renderOutput(dataTable, element);\n",
              "          const docLink = document.createElement('div');\n",
              "          docLink.innerHTML = docLinkHtml;\n",
              "          element.appendChild(docLink);\n",
              "        }\n",
              "      </script>\n",
              "    </div>\n",
              "  </div>\n",
              "  "
            ],
            "text/plain": [
              "           id             date     price  ...     long  sqft_living15  sqft_lot15\n",
              "0  7129300520  20141013T000000  221900.0  ... -122.257           1340        5650\n",
              "1  6414100192  20141209T000000  538000.0  ... -122.319           1690        7639\n",
              "2  5631500400  20150225T000000  180000.0  ... -122.233           2720        8062\n",
              "3  2487200875  20141209T000000  604000.0  ... -122.393           1360        5000\n",
              "4  1954400510  20150218T000000  510000.0  ... -122.045           1800        7503\n",
              "\n",
              "[5 rows x 21 columns]"
            ]
          },
          "metadata": {},
          "execution_count": 5
        }
      ]
    },
    {
      "cell_type": "code",
      "source": [
        "print(len(df))"
      ],
      "metadata": {
        "colab": {
          "base_uri": "https://localhost:8080/"
        },
        "id": "er07xkbpdnLf",
        "outputId": "9e419e28-9503-4a1b-e775-05ab4eac8f51"
      },
      "execution_count": 6,
      "outputs": [
        {
          "output_type": "stream",
          "name": "stdout",
          "text": [
            "21613\n"
          ]
        }
      ]
    },
    {
      "cell_type": "code",
      "source": [
        "print(len(df.id.unique()))"
      ],
      "metadata": {
        "colab": {
          "base_uri": "https://localhost:8080/"
        },
        "id": "iySGXhpkj6Gl",
        "outputId": "39312982-ba1b-4309-cb6a-1f6b4c3b7c9a"
      },
      "execution_count": 7,
      "outputs": [
        {
          "output_type": "stream",
          "name": "stdout",
          "text": [
            "21436\n"
          ]
        }
      ]
    },
    {
      "cell_type": "markdown",
      "source": [
        "# 결측치 처리"
      ],
      "metadata": {
        "id": "kh7oOvIifwgm"
      }
    },
    {
      "cell_type": "code",
      "source": [
        "df.info()"
      ],
      "metadata": {
        "colab": {
          "base_uri": "https://localhost:8080/"
        },
        "id": "-CTVpQGtkIms",
        "outputId": "4bef3de6-d7b0-49cc-a475-c704a614afdd"
      },
      "execution_count": 8,
      "outputs": [
        {
          "output_type": "stream",
          "name": "stdout",
          "text": [
            "<class 'pandas.core.frame.DataFrame'>\n",
            "RangeIndex: 21613 entries, 0 to 21612\n",
            "Data columns (total 21 columns):\n",
            " #   Column         Non-Null Count  Dtype  \n",
            "---  ------         --------------  -----  \n",
            " 0   id             21613 non-null  int64  \n",
            " 1   date           21613 non-null  object \n",
            " 2   price          21613 non-null  float64\n",
            " 3   bedrooms       21613 non-null  int64  \n",
            " 4   bathrooms      21613 non-null  float64\n",
            " 5   sqft_living    21613 non-null  int64  \n",
            " 6   sqft_lot       21613 non-null  int64  \n",
            " 7   floors         21613 non-null  float64\n",
            " 8   waterfront     21613 non-null  int64  \n",
            " 9   view           21613 non-null  int64  \n",
            " 10  condition      21613 non-null  int64  \n",
            " 11  grade          21613 non-null  int64  \n",
            " 12  sqft_above     21613 non-null  int64  \n",
            " 13  sqft_basement  21613 non-null  int64  \n",
            " 14  yr_built       21613 non-null  int64  \n",
            " 15  yr_renovated   21613 non-null  int64  \n",
            " 16  zipcode        21613 non-null  int64  \n",
            " 17  lat            21613 non-null  float64\n",
            " 18  long           21613 non-null  float64\n",
            " 19  sqft_living15  21613 non-null  int64  \n",
            " 20  sqft_lot15     21613 non-null  int64  \n",
            "dtypes: float64(5), int64(15), object(1)\n",
            "memory usage: 3.5+ MB\n"
          ]
        }
      ]
    },
    {
      "cell_type": "code",
      "source": [
        "df.isnull().sum()"
      ],
      "metadata": {
        "colab": {
          "base_uri": "https://localhost:8080/"
        },
        "id": "8VlYB3fEd0bM",
        "outputId": "945b00f4-50d6-4f8d-c6cf-2f51ad3c29ea"
      },
      "execution_count": 9,
      "outputs": [
        {
          "output_type": "execute_result",
          "data": {
            "text/plain": [
              "id               0\n",
              "date             0\n",
              "price            0\n",
              "bedrooms         0\n",
              "bathrooms        0\n",
              "sqft_living      0\n",
              "sqft_lot         0\n",
              "floors           0\n",
              "waterfront       0\n",
              "view             0\n",
              "condition        0\n",
              "grade            0\n",
              "sqft_above       0\n",
              "sqft_basement    0\n",
              "yr_built         0\n",
              "yr_renovated     0\n",
              "zipcode          0\n",
              "lat              0\n",
              "long             0\n",
              "sqft_living15    0\n",
              "sqft_lot15       0\n",
              "dtype: int64"
            ]
          },
          "metadata": {},
          "execution_count": 9
        }
      ]
    },
    {
      "cell_type": "markdown",
      "source": [
        "# Date 필드 나누기"
      ],
      "metadata": {
        "id": "_UZPRW_GkXfV"
      }
    },
    {
      "cell_type": "markdown",
      "source": [
        "## year"
      ],
      "metadata": {
        "id": "EOQM8n8roLj_"
      }
    },
    {
      "cell_type": "code",
      "source": [
        "df['year'] = df.date.str[:4]\n",
        "print(df.year)"
      ],
      "metadata": {
        "colab": {
          "base_uri": "https://localhost:8080/"
        },
        "id": "KEfuDRHikY4K",
        "outputId": "11dc5c37-80bb-4415-ccab-3c2bb6187f06"
      },
      "execution_count": 10,
      "outputs": [
        {
          "output_type": "stream",
          "name": "stdout",
          "text": [
            "0        2014\n",
            "1        2014\n",
            "2        2015\n",
            "3        2014\n",
            "4        2015\n",
            "         ... \n",
            "21608    2014\n",
            "21609    2015\n",
            "21610    2014\n",
            "21611    2015\n",
            "21612    2014\n",
            "Name: year, Length: 21613, dtype: object\n"
          ]
        }
      ]
    },
    {
      "cell_type": "code",
      "source": [
        "print(df.year.max(), df.year.min())"
      ],
      "metadata": {
        "colab": {
          "base_uri": "https://localhost:8080/"
        },
        "id": "urVKNskKlKUh",
        "outputId": "440abd67-20fe-444b-bf33-0175e8f92e6a"
      },
      "execution_count": 11,
      "outputs": [
        {
          "output_type": "stream",
          "name": "stdout",
          "text": [
            "2015 2014\n"
          ]
        }
      ]
    },
    {
      "cell_type": "code",
      "source": [
        "df.year = df.year.astype('category')\n",
        "df['year_code'] = df.year.cat.codes\n",
        "df.head()"
      ],
      "metadata": {
        "colab": {
          "base_uri": "https://localhost:8080/",
          "height": 270
        },
        "id": "hvy4seBhl4wx",
        "outputId": "2ee2255a-0ced-4fd2-e318-a8db3329a09c"
      },
      "execution_count": 12,
      "outputs": [
        {
          "output_type": "execute_result",
          "data": {
            "text/html": [
              "\n",
              "  <div id=\"df-3501fdc9-0206-4883-a0f6-1f78ea328a30\">\n",
              "    <div class=\"colab-df-container\">\n",
              "      <div>\n",
              "<style scoped>\n",
              "    .dataframe tbody tr th:only-of-type {\n",
              "        vertical-align: middle;\n",
              "    }\n",
              "\n",
              "    .dataframe tbody tr th {\n",
              "        vertical-align: top;\n",
              "    }\n",
              "\n",
              "    .dataframe thead th {\n",
              "        text-align: right;\n",
              "    }\n",
              "</style>\n",
              "<table border=\"1\" class=\"dataframe\">\n",
              "  <thead>\n",
              "    <tr style=\"text-align: right;\">\n",
              "      <th></th>\n",
              "      <th>id</th>\n",
              "      <th>date</th>\n",
              "      <th>price</th>\n",
              "      <th>bedrooms</th>\n",
              "      <th>bathrooms</th>\n",
              "      <th>sqft_living</th>\n",
              "      <th>sqft_lot</th>\n",
              "      <th>floors</th>\n",
              "      <th>waterfront</th>\n",
              "      <th>view</th>\n",
              "      <th>condition</th>\n",
              "      <th>grade</th>\n",
              "      <th>sqft_above</th>\n",
              "      <th>sqft_basement</th>\n",
              "      <th>yr_built</th>\n",
              "      <th>yr_renovated</th>\n",
              "      <th>zipcode</th>\n",
              "      <th>lat</th>\n",
              "      <th>long</th>\n",
              "      <th>sqft_living15</th>\n",
              "      <th>sqft_lot15</th>\n",
              "      <th>year</th>\n",
              "      <th>year_code</th>\n",
              "    </tr>\n",
              "  </thead>\n",
              "  <tbody>\n",
              "    <tr>\n",
              "      <th>0</th>\n",
              "      <td>7129300520</td>\n",
              "      <td>20141013T000000</td>\n",
              "      <td>221900.0</td>\n",
              "      <td>3</td>\n",
              "      <td>1.00</td>\n",
              "      <td>1180</td>\n",
              "      <td>5650</td>\n",
              "      <td>1.0</td>\n",
              "      <td>0</td>\n",
              "      <td>0</td>\n",
              "      <td>3</td>\n",
              "      <td>7</td>\n",
              "      <td>1180</td>\n",
              "      <td>0</td>\n",
              "      <td>1955</td>\n",
              "      <td>0</td>\n",
              "      <td>98178</td>\n",
              "      <td>47.5112</td>\n",
              "      <td>-122.257</td>\n",
              "      <td>1340</td>\n",
              "      <td>5650</td>\n",
              "      <td>2014</td>\n",
              "      <td>0</td>\n",
              "    </tr>\n",
              "    <tr>\n",
              "      <th>1</th>\n",
              "      <td>6414100192</td>\n",
              "      <td>20141209T000000</td>\n",
              "      <td>538000.0</td>\n",
              "      <td>3</td>\n",
              "      <td>2.25</td>\n",
              "      <td>2570</td>\n",
              "      <td>7242</td>\n",
              "      <td>2.0</td>\n",
              "      <td>0</td>\n",
              "      <td>0</td>\n",
              "      <td>3</td>\n",
              "      <td>7</td>\n",
              "      <td>2170</td>\n",
              "      <td>400</td>\n",
              "      <td>1951</td>\n",
              "      <td>1991</td>\n",
              "      <td>98125</td>\n",
              "      <td>47.7210</td>\n",
              "      <td>-122.319</td>\n",
              "      <td>1690</td>\n",
              "      <td>7639</td>\n",
              "      <td>2014</td>\n",
              "      <td>0</td>\n",
              "    </tr>\n",
              "    <tr>\n",
              "      <th>2</th>\n",
              "      <td>5631500400</td>\n",
              "      <td>20150225T000000</td>\n",
              "      <td>180000.0</td>\n",
              "      <td>2</td>\n",
              "      <td>1.00</td>\n",
              "      <td>770</td>\n",
              "      <td>10000</td>\n",
              "      <td>1.0</td>\n",
              "      <td>0</td>\n",
              "      <td>0</td>\n",
              "      <td>3</td>\n",
              "      <td>6</td>\n",
              "      <td>770</td>\n",
              "      <td>0</td>\n",
              "      <td>1933</td>\n",
              "      <td>0</td>\n",
              "      <td>98028</td>\n",
              "      <td>47.7379</td>\n",
              "      <td>-122.233</td>\n",
              "      <td>2720</td>\n",
              "      <td>8062</td>\n",
              "      <td>2015</td>\n",
              "      <td>1</td>\n",
              "    </tr>\n",
              "    <tr>\n",
              "      <th>3</th>\n",
              "      <td>2487200875</td>\n",
              "      <td>20141209T000000</td>\n",
              "      <td>604000.0</td>\n",
              "      <td>4</td>\n",
              "      <td>3.00</td>\n",
              "      <td>1960</td>\n",
              "      <td>5000</td>\n",
              "      <td>1.0</td>\n",
              "      <td>0</td>\n",
              "      <td>0</td>\n",
              "      <td>5</td>\n",
              "      <td>7</td>\n",
              "      <td>1050</td>\n",
              "      <td>910</td>\n",
              "      <td>1965</td>\n",
              "      <td>0</td>\n",
              "      <td>98136</td>\n",
              "      <td>47.5208</td>\n",
              "      <td>-122.393</td>\n",
              "      <td>1360</td>\n",
              "      <td>5000</td>\n",
              "      <td>2014</td>\n",
              "      <td>0</td>\n",
              "    </tr>\n",
              "    <tr>\n",
              "      <th>4</th>\n",
              "      <td>1954400510</td>\n",
              "      <td>20150218T000000</td>\n",
              "      <td>510000.0</td>\n",
              "      <td>3</td>\n",
              "      <td>2.00</td>\n",
              "      <td>1680</td>\n",
              "      <td>8080</td>\n",
              "      <td>1.0</td>\n",
              "      <td>0</td>\n",
              "      <td>0</td>\n",
              "      <td>3</td>\n",
              "      <td>8</td>\n",
              "      <td>1680</td>\n",
              "      <td>0</td>\n",
              "      <td>1987</td>\n",
              "      <td>0</td>\n",
              "      <td>98074</td>\n",
              "      <td>47.6168</td>\n",
              "      <td>-122.045</td>\n",
              "      <td>1800</td>\n",
              "      <td>7503</td>\n",
              "      <td>2015</td>\n",
              "      <td>1</td>\n",
              "    </tr>\n",
              "  </tbody>\n",
              "</table>\n",
              "</div>\n",
              "      <button class=\"colab-df-convert\" onclick=\"convertToInteractive('df-3501fdc9-0206-4883-a0f6-1f78ea328a30')\"\n",
              "              title=\"Convert this dataframe to an interactive table.\"\n",
              "              style=\"display:none;\">\n",
              "        \n",
              "  <svg xmlns=\"http://www.w3.org/2000/svg\" height=\"24px\"viewBox=\"0 0 24 24\"\n",
              "       width=\"24px\">\n",
              "    <path d=\"M0 0h24v24H0V0z\" fill=\"none\"/>\n",
              "    <path d=\"M18.56 5.44l.94 2.06.94-2.06 2.06-.94-2.06-.94-.94-2.06-.94 2.06-2.06.94zm-11 1L8.5 8.5l.94-2.06 2.06-.94-2.06-.94L8.5 2.5l-.94 2.06-2.06.94zm10 10l.94 2.06.94-2.06 2.06-.94-2.06-.94-.94-2.06-.94 2.06-2.06.94z\"/><path d=\"M17.41 7.96l-1.37-1.37c-.4-.4-.92-.59-1.43-.59-.52 0-1.04.2-1.43.59L10.3 9.45l-7.72 7.72c-.78.78-.78 2.05 0 2.83L4 21.41c.39.39.9.59 1.41.59.51 0 1.02-.2 1.41-.59l7.78-7.78 2.81-2.81c.8-.78.8-2.07 0-2.86zM5.41 20L4 18.59l7.72-7.72 1.47 1.35L5.41 20z\"/>\n",
              "  </svg>\n",
              "      </button>\n",
              "      \n",
              "  <style>\n",
              "    .colab-df-container {\n",
              "      display:flex;\n",
              "      flex-wrap:wrap;\n",
              "      gap: 12px;\n",
              "    }\n",
              "\n",
              "    .colab-df-convert {\n",
              "      background-color: #E8F0FE;\n",
              "      border: none;\n",
              "      border-radius: 50%;\n",
              "      cursor: pointer;\n",
              "      display: none;\n",
              "      fill: #1967D2;\n",
              "      height: 32px;\n",
              "      padding: 0 0 0 0;\n",
              "      width: 32px;\n",
              "    }\n",
              "\n",
              "    .colab-df-convert:hover {\n",
              "      background-color: #E2EBFA;\n",
              "      box-shadow: 0px 1px 2px rgba(60, 64, 67, 0.3), 0px 1px 3px 1px rgba(60, 64, 67, 0.15);\n",
              "      fill: #174EA6;\n",
              "    }\n",
              "\n",
              "    [theme=dark] .colab-df-convert {\n",
              "      background-color: #3B4455;\n",
              "      fill: #D2E3FC;\n",
              "    }\n",
              "\n",
              "    [theme=dark] .colab-df-convert:hover {\n",
              "      background-color: #434B5C;\n",
              "      box-shadow: 0px 1px 3px 1px rgba(0, 0, 0, 0.15);\n",
              "      filter: drop-shadow(0px 1px 2px rgba(0, 0, 0, 0.3));\n",
              "      fill: #FFFFFF;\n",
              "    }\n",
              "  </style>\n",
              "\n",
              "      <script>\n",
              "        const buttonEl =\n",
              "          document.querySelector('#df-3501fdc9-0206-4883-a0f6-1f78ea328a30 button.colab-df-convert');\n",
              "        buttonEl.style.display =\n",
              "          google.colab.kernel.accessAllowed ? 'block' : 'none';\n",
              "\n",
              "        async function convertToInteractive(key) {\n",
              "          const element = document.querySelector('#df-3501fdc9-0206-4883-a0f6-1f78ea328a30');\n",
              "          const dataTable =\n",
              "            await google.colab.kernel.invokeFunction('convertToInteractive',\n",
              "                                                     [key], {});\n",
              "          if (!dataTable) return;\n",
              "\n",
              "          const docLinkHtml = 'Like what you see? Visit the ' +\n",
              "            '<a target=\"_blank\" href=https://colab.research.google.com/notebooks/data_table.ipynb>data table notebook</a>'\n",
              "            + ' to learn more about interactive tables.';\n",
              "          element.innerHTML = '';\n",
              "          dataTable['output_type'] = 'display_data';\n",
              "          await google.colab.output.renderOutput(dataTable, element);\n",
              "          const docLink = document.createElement('div');\n",
              "          docLink.innerHTML = docLinkHtml;\n",
              "          element.appendChild(docLink);\n",
              "        }\n",
              "      </script>\n",
              "    </div>\n",
              "  </div>\n",
              "  "
            ],
            "text/plain": [
              "           id             date     price  ...  sqft_lot15  year  year_code\n",
              "0  7129300520  20141013T000000  221900.0  ...        5650  2014          0\n",
              "1  6414100192  20141209T000000  538000.0  ...        7639  2014          0\n",
              "2  5631500400  20150225T000000  180000.0  ...        8062  2015          1\n",
              "3  2487200875  20141209T000000  604000.0  ...        5000  2014          0\n",
              "4  1954400510  20150218T000000  510000.0  ...        7503  2015          1\n",
              "\n",
              "[5 rows x 23 columns]"
            ]
          },
          "metadata": {},
          "execution_count": 12
        }
      ]
    },
    {
      "cell_type": "code",
      "source": [
        "df = pd.get_dummies(df, columns=['year_code'])\n",
        "df.head()"
      ],
      "metadata": {
        "colab": {
          "base_uri": "https://localhost:8080/",
          "height": 270
        },
        "id": "RGN7usKDmL0G",
        "outputId": "70be98c6-54ad-40c6-c8af-ac423bae7fff"
      },
      "execution_count": 13,
      "outputs": [
        {
          "output_type": "execute_result",
          "data": {
            "text/html": [
              "\n",
              "  <div id=\"df-dc7259b0-cd9f-4bc6-ad0b-e1704dabc3f1\">\n",
              "    <div class=\"colab-df-container\">\n",
              "      <div>\n",
              "<style scoped>\n",
              "    .dataframe tbody tr th:only-of-type {\n",
              "        vertical-align: middle;\n",
              "    }\n",
              "\n",
              "    .dataframe tbody tr th {\n",
              "        vertical-align: top;\n",
              "    }\n",
              "\n",
              "    .dataframe thead th {\n",
              "        text-align: right;\n",
              "    }\n",
              "</style>\n",
              "<table border=\"1\" class=\"dataframe\">\n",
              "  <thead>\n",
              "    <tr style=\"text-align: right;\">\n",
              "      <th></th>\n",
              "      <th>id</th>\n",
              "      <th>date</th>\n",
              "      <th>price</th>\n",
              "      <th>bedrooms</th>\n",
              "      <th>bathrooms</th>\n",
              "      <th>sqft_living</th>\n",
              "      <th>sqft_lot</th>\n",
              "      <th>floors</th>\n",
              "      <th>waterfront</th>\n",
              "      <th>view</th>\n",
              "      <th>condition</th>\n",
              "      <th>grade</th>\n",
              "      <th>sqft_above</th>\n",
              "      <th>sqft_basement</th>\n",
              "      <th>yr_built</th>\n",
              "      <th>yr_renovated</th>\n",
              "      <th>zipcode</th>\n",
              "      <th>lat</th>\n",
              "      <th>long</th>\n",
              "      <th>sqft_living15</th>\n",
              "      <th>sqft_lot15</th>\n",
              "      <th>year</th>\n",
              "      <th>year_code_0</th>\n",
              "      <th>year_code_1</th>\n",
              "    </tr>\n",
              "  </thead>\n",
              "  <tbody>\n",
              "    <tr>\n",
              "      <th>0</th>\n",
              "      <td>7129300520</td>\n",
              "      <td>20141013T000000</td>\n",
              "      <td>221900.0</td>\n",
              "      <td>3</td>\n",
              "      <td>1.00</td>\n",
              "      <td>1180</td>\n",
              "      <td>5650</td>\n",
              "      <td>1.0</td>\n",
              "      <td>0</td>\n",
              "      <td>0</td>\n",
              "      <td>3</td>\n",
              "      <td>7</td>\n",
              "      <td>1180</td>\n",
              "      <td>0</td>\n",
              "      <td>1955</td>\n",
              "      <td>0</td>\n",
              "      <td>98178</td>\n",
              "      <td>47.5112</td>\n",
              "      <td>-122.257</td>\n",
              "      <td>1340</td>\n",
              "      <td>5650</td>\n",
              "      <td>2014</td>\n",
              "      <td>1</td>\n",
              "      <td>0</td>\n",
              "    </tr>\n",
              "    <tr>\n",
              "      <th>1</th>\n",
              "      <td>6414100192</td>\n",
              "      <td>20141209T000000</td>\n",
              "      <td>538000.0</td>\n",
              "      <td>3</td>\n",
              "      <td>2.25</td>\n",
              "      <td>2570</td>\n",
              "      <td>7242</td>\n",
              "      <td>2.0</td>\n",
              "      <td>0</td>\n",
              "      <td>0</td>\n",
              "      <td>3</td>\n",
              "      <td>7</td>\n",
              "      <td>2170</td>\n",
              "      <td>400</td>\n",
              "      <td>1951</td>\n",
              "      <td>1991</td>\n",
              "      <td>98125</td>\n",
              "      <td>47.7210</td>\n",
              "      <td>-122.319</td>\n",
              "      <td>1690</td>\n",
              "      <td>7639</td>\n",
              "      <td>2014</td>\n",
              "      <td>1</td>\n",
              "      <td>0</td>\n",
              "    </tr>\n",
              "    <tr>\n",
              "      <th>2</th>\n",
              "      <td>5631500400</td>\n",
              "      <td>20150225T000000</td>\n",
              "      <td>180000.0</td>\n",
              "      <td>2</td>\n",
              "      <td>1.00</td>\n",
              "      <td>770</td>\n",
              "      <td>10000</td>\n",
              "      <td>1.0</td>\n",
              "      <td>0</td>\n",
              "      <td>0</td>\n",
              "      <td>3</td>\n",
              "      <td>6</td>\n",
              "      <td>770</td>\n",
              "      <td>0</td>\n",
              "      <td>1933</td>\n",
              "      <td>0</td>\n",
              "      <td>98028</td>\n",
              "      <td>47.7379</td>\n",
              "      <td>-122.233</td>\n",
              "      <td>2720</td>\n",
              "      <td>8062</td>\n",
              "      <td>2015</td>\n",
              "      <td>0</td>\n",
              "      <td>1</td>\n",
              "    </tr>\n",
              "    <tr>\n",
              "      <th>3</th>\n",
              "      <td>2487200875</td>\n",
              "      <td>20141209T000000</td>\n",
              "      <td>604000.0</td>\n",
              "      <td>4</td>\n",
              "      <td>3.00</td>\n",
              "      <td>1960</td>\n",
              "      <td>5000</td>\n",
              "      <td>1.0</td>\n",
              "      <td>0</td>\n",
              "      <td>0</td>\n",
              "      <td>5</td>\n",
              "      <td>7</td>\n",
              "      <td>1050</td>\n",
              "      <td>910</td>\n",
              "      <td>1965</td>\n",
              "      <td>0</td>\n",
              "      <td>98136</td>\n",
              "      <td>47.5208</td>\n",
              "      <td>-122.393</td>\n",
              "      <td>1360</td>\n",
              "      <td>5000</td>\n",
              "      <td>2014</td>\n",
              "      <td>1</td>\n",
              "      <td>0</td>\n",
              "    </tr>\n",
              "    <tr>\n",
              "      <th>4</th>\n",
              "      <td>1954400510</td>\n",
              "      <td>20150218T000000</td>\n",
              "      <td>510000.0</td>\n",
              "      <td>3</td>\n",
              "      <td>2.00</td>\n",
              "      <td>1680</td>\n",
              "      <td>8080</td>\n",
              "      <td>1.0</td>\n",
              "      <td>0</td>\n",
              "      <td>0</td>\n",
              "      <td>3</td>\n",
              "      <td>8</td>\n",
              "      <td>1680</td>\n",
              "      <td>0</td>\n",
              "      <td>1987</td>\n",
              "      <td>0</td>\n",
              "      <td>98074</td>\n",
              "      <td>47.6168</td>\n",
              "      <td>-122.045</td>\n",
              "      <td>1800</td>\n",
              "      <td>7503</td>\n",
              "      <td>2015</td>\n",
              "      <td>0</td>\n",
              "      <td>1</td>\n",
              "    </tr>\n",
              "  </tbody>\n",
              "</table>\n",
              "</div>\n",
              "      <button class=\"colab-df-convert\" onclick=\"convertToInteractive('df-dc7259b0-cd9f-4bc6-ad0b-e1704dabc3f1')\"\n",
              "              title=\"Convert this dataframe to an interactive table.\"\n",
              "              style=\"display:none;\">\n",
              "        \n",
              "  <svg xmlns=\"http://www.w3.org/2000/svg\" height=\"24px\"viewBox=\"0 0 24 24\"\n",
              "       width=\"24px\">\n",
              "    <path d=\"M0 0h24v24H0V0z\" fill=\"none\"/>\n",
              "    <path d=\"M18.56 5.44l.94 2.06.94-2.06 2.06-.94-2.06-.94-.94-2.06-.94 2.06-2.06.94zm-11 1L8.5 8.5l.94-2.06 2.06-.94-2.06-.94L8.5 2.5l-.94 2.06-2.06.94zm10 10l.94 2.06.94-2.06 2.06-.94-2.06-.94-.94-2.06-.94 2.06-2.06.94z\"/><path d=\"M17.41 7.96l-1.37-1.37c-.4-.4-.92-.59-1.43-.59-.52 0-1.04.2-1.43.59L10.3 9.45l-7.72 7.72c-.78.78-.78 2.05 0 2.83L4 21.41c.39.39.9.59 1.41.59.51 0 1.02-.2 1.41-.59l7.78-7.78 2.81-2.81c.8-.78.8-2.07 0-2.86zM5.41 20L4 18.59l7.72-7.72 1.47 1.35L5.41 20z\"/>\n",
              "  </svg>\n",
              "      </button>\n",
              "      \n",
              "  <style>\n",
              "    .colab-df-container {\n",
              "      display:flex;\n",
              "      flex-wrap:wrap;\n",
              "      gap: 12px;\n",
              "    }\n",
              "\n",
              "    .colab-df-convert {\n",
              "      background-color: #E8F0FE;\n",
              "      border: none;\n",
              "      border-radius: 50%;\n",
              "      cursor: pointer;\n",
              "      display: none;\n",
              "      fill: #1967D2;\n",
              "      height: 32px;\n",
              "      padding: 0 0 0 0;\n",
              "      width: 32px;\n",
              "    }\n",
              "\n",
              "    .colab-df-convert:hover {\n",
              "      background-color: #E2EBFA;\n",
              "      box-shadow: 0px 1px 2px rgba(60, 64, 67, 0.3), 0px 1px 3px 1px rgba(60, 64, 67, 0.15);\n",
              "      fill: #174EA6;\n",
              "    }\n",
              "\n",
              "    [theme=dark] .colab-df-convert {\n",
              "      background-color: #3B4455;\n",
              "      fill: #D2E3FC;\n",
              "    }\n",
              "\n",
              "    [theme=dark] .colab-df-convert:hover {\n",
              "      background-color: #434B5C;\n",
              "      box-shadow: 0px 1px 3px 1px rgba(0, 0, 0, 0.15);\n",
              "      filter: drop-shadow(0px 1px 2px rgba(0, 0, 0, 0.3));\n",
              "      fill: #FFFFFF;\n",
              "    }\n",
              "  </style>\n",
              "\n",
              "      <script>\n",
              "        const buttonEl =\n",
              "          document.querySelector('#df-dc7259b0-cd9f-4bc6-ad0b-e1704dabc3f1 button.colab-df-convert');\n",
              "        buttonEl.style.display =\n",
              "          google.colab.kernel.accessAllowed ? 'block' : 'none';\n",
              "\n",
              "        async function convertToInteractive(key) {\n",
              "          const element = document.querySelector('#df-dc7259b0-cd9f-4bc6-ad0b-e1704dabc3f1');\n",
              "          const dataTable =\n",
              "            await google.colab.kernel.invokeFunction('convertToInteractive',\n",
              "                                                     [key], {});\n",
              "          if (!dataTable) return;\n",
              "\n",
              "          const docLinkHtml = 'Like what you see? Visit the ' +\n",
              "            '<a target=\"_blank\" href=https://colab.research.google.com/notebooks/data_table.ipynb>data table notebook</a>'\n",
              "            + ' to learn more about interactive tables.';\n",
              "          element.innerHTML = '';\n",
              "          dataTable['output_type'] = 'display_data';\n",
              "          await google.colab.output.renderOutput(dataTable, element);\n",
              "          const docLink = document.createElement('div');\n",
              "          docLink.innerHTML = docLinkHtml;\n",
              "          element.appendChild(docLink);\n",
              "        }\n",
              "      </script>\n",
              "    </div>\n",
              "  </div>\n",
              "  "
            ],
            "text/plain": [
              "           id             date     price  ...  year  year_code_0  year_code_1\n",
              "0  7129300520  20141013T000000  221900.0  ...  2014            1            0\n",
              "1  6414100192  20141209T000000  538000.0  ...  2014            1            0\n",
              "2  5631500400  20150225T000000  180000.0  ...  2015            0            1\n",
              "3  2487200875  20141209T000000  604000.0  ...  2014            1            0\n",
              "4  1954400510  20150218T000000  510000.0  ...  2015            0            1\n",
              "\n",
              "[5 rows x 24 columns]"
            ]
          },
          "metadata": {},
          "execution_count": 13
        }
      ]
    },
    {
      "cell_type": "markdown",
      "source": [
        "## month"
      ],
      "metadata": {
        "id": "A9hm91MGoOaf"
      }
    },
    {
      "cell_type": "code",
      "source": [
        "df['month'] = df.date.str[4:6]\n",
        "print(df.month)"
      ],
      "metadata": {
        "colab": {
          "base_uri": "https://localhost:8080/"
        },
        "id": "Jf6SqTz6oPge",
        "outputId": "e1fd2434-ee02-406c-b99c-ea66834819b3"
      },
      "execution_count": 14,
      "outputs": [
        {
          "output_type": "stream",
          "name": "stdout",
          "text": [
            "0        10\n",
            "1        12\n",
            "2        02\n",
            "3        12\n",
            "4        02\n",
            "         ..\n",
            "21608    05\n",
            "21609    02\n",
            "21610    06\n",
            "21611    01\n",
            "21612    10\n",
            "Name: month, Length: 21613, dtype: object\n"
          ]
        }
      ]
    },
    {
      "cell_type": "code",
      "source": [
        "df.month = df.month.astype('category')\n",
        "df['month_code'] = df.month.cat.codes\n",
        "df.head()"
      ],
      "metadata": {
        "colab": {
          "base_uri": "https://localhost:8080/",
          "height": 270
        },
        "id": "kVdKIRoHoYAm",
        "outputId": "c6ecc7ae-8595-4d2d-a3c7-803e5983ea57"
      },
      "execution_count": 15,
      "outputs": [
        {
          "output_type": "execute_result",
          "data": {
            "text/html": [
              "\n",
              "  <div id=\"df-218769d9-10fc-4097-8e44-7dcab5df6dde\">\n",
              "    <div class=\"colab-df-container\">\n",
              "      <div>\n",
              "<style scoped>\n",
              "    .dataframe tbody tr th:only-of-type {\n",
              "        vertical-align: middle;\n",
              "    }\n",
              "\n",
              "    .dataframe tbody tr th {\n",
              "        vertical-align: top;\n",
              "    }\n",
              "\n",
              "    .dataframe thead th {\n",
              "        text-align: right;\n",
              "    }\n",
              "</style>\n",
              "<table border=\"1\" class=\"dataframe\">\n",
              "  <thead>\n",
              "    <tr style=\"text-align: right;\">\n",
              "      <th></th>\n",
              "      <th>id</th>\n",
              "      <th>date</th>\n",
              "      <th>price</th>\n",
              "      <th>bedrooms</th>\n",
              "      <th>bathrooms</th>\n",
              "      <th>sqft_living</th>\n",
              "      <th>sqft_lot</th>\n",
              "      <th>floors</th>\n",
              "      <th>waterfront</th>\n",
              "      <th>view</th>\n",
              "      <th>condition</th>\n",
              "      <th>grade</th>\n",
              "      <th>sqft_above</th>\n",
              "      <th>sqft_basement</th>\n",
              "      <th>yr_built</th>\n",
              "      <th>yr_renovated</th>\n",
              "      <th>zipcode</th>\n",
              "      <th>lat</th>\n",
              "      <th>long</th>\n",
              "      <th>sqft_living15</th>\n",
              "      <th>sqft_lot15</th>\n",
              "      <th>year</th>\n",
              "      <th>year_code_0</th>\n",
              "      <th>year_code_1</th>\n",
              "      <th>month</th>\n",
              "      <th>month_code</th>\n",
              "    </tr>\n",
              "  </thead>\n",
              "  <tbody>\n",
              "    <tr>\n",
              "      <th>0</th>\n",
              "      <td>7129300520</td>\n",
              "      <td>20141013T000000</td>\n",
              "      <td>221900.0</td>\n",
              "      <td>3</td>\n",
              "      <td>1.00</td>\n",
              "      <td>1180</td>\n",
              "      <td>5650</td>\n",
              "      <td>1.0</td>\n",
              "      <td>0</td>\n",
              "      <td>0</td>\n",
              "      <td>3</td>\n",
              "      <td>7</td>\n",
              "      <td>1180</td>\n",
              "      <td>0</td>\n",
              "      <td>1955</td>\n",
              "      <td>0</td>\n",
              "      <td>98178</td>\n",
              "      <td>47.5112</td>\n",
              "      <td>-122.257</td>\n",
              "      <td>1340</td>\n",
              "      <td>5650</td>\n",
              "      <td>2014</td>\n",
              "      <td>1</td>\n",
              "      <td>0</td>\n",
              "      <td>10</td>\n",
              "      <td>9</td>\n",
              "    </tr>\n",
              "    <tr>\n",
              "      <th>1</th>\n",
              "      <td>6414100192</td>\n",
              "      <td>20141209T000000</td>\n",
              "      <td>538000.0</td>\n",
              "      <td>3</td>\n",
              "      <td>2.25</td>\n",
              "      <td>2570</td>\n",
              "      <td>7242</td>\n",
              "      <td>2.0</td>\n",
              "      <td>0</td>\n",
              "      <td>0</td>\n",
              "      <td>3</td>\n",
              "      <td>7</td>\n",
              "      <td>2170</td>\n",
              "      <td>400</td>\n",
              "      <td>1951</td>\n",
              "      <td>1991</td>\n",
              "      <td>98125</td>\n",
              "      <td>47.7210</td>\n",
              "      <td>-122.319</td>\n",
              "      <td>1690</td>\n",
              "      <td>7639</td>\n",
              "      <td>2014</td>\n",
              "      <td>1</td>\n",
              "      <td>0</td>\n",
              "      <td>12</td>\n",
              "      <td>11</td>\n",
              "    </tr>\n",
              "    <tr>\n",
              "      <th>2</th>\n",
              "      <td>5631500400</td>\n",
              "      <td>20150225T000000</td>\n",
              "      <td>180000.0</td>\n",
              "      <td>2</td>\n",
              "      <td>1.00</td>\n",
              "      <td>770</td>\n",
              "      <td>10000</td>\n",
              "      <td>1.0</td>\n",
              "      <td>0</td>\n",
              "      <td>0</td>\n",
              "      <td>3</td>\n",
              "      <td>6</td>\n",
              "      <td>770</td>\n",
              "      <td>0</td>\n",
              "      <td>1933</td>\n",
              "      <td>0</td>\n",
              "      <td>98028</td>\n",
              "      <td>47.7379</td>\n",
              "      <td>-122.233</td>\n",
              "      <td>2720</td>\n",
              "      <td>8062</td>\n",
              "      <td>2015</td>\n",
              "      <td>0</td>\n",
              "      <td>1</td>\n",
              "      <td>02</td>\n",
              "      <td>1</td>\n",
              "    </tr>\n",
              "    <tr>\n",
              "      <th>3</th>\n",
              "      <td>2487200875</td>\n",
              "      <td>20141209T000000</td>\n",
              "      <td>604000.0</td>\n",
              "      <td>4</td>\n",
              "      <td>3.00</td>\n",
              "      <td>1960</td>\n",
              "      <td>5000</td>\n",
              "      <td>1.0</td>\n",
              "      <td>0</td>\n",
              "      <td>0</td>\n",
              "      <td>5</td>\n",
              "      <td>7</td>\n",
              "      <td>1050</td>\n",
              "      <td>910</td>\n",
              "      <td>1965</td>\n",
              "      <td>0</td>\n",
              "      <td>98136</td>\n",
              "      <td>47.5208</td>\n",
              "      <td>-122.393</td>\n",
              "      <td>1360</td>\n",
              "      <td>5000</td>\n",
              "      <td>2014</td>\n",
              "      <td>1</td>\n",
              "      <td>0</td>\n",
              "      <td>12</td>\n",
              "      <td>11</td>\n",
              "    </tr>\n",
              "    <tr>\n",
              "      <th>4</th>\n",
              "      <td>1954400510</td>\n",
              "      <td>20150218T000000</td>\n",
              "      <td>510000.0</td>\n",
              "      <td>3</td>\n",
              "      <td>2.00</td>\n",
              "      <td>1680</td>\n",
              "      <td>8080</td>\n",
              "      <td>1.0</td>\n",
              "      <td>0</td>\n",
              "      <td>0</td>\n",
              "      <td>3</td>\n",
              "      <td>8</td>\n",
              "      <td>1680</td>\n",
              "      <td>0</td>\n",
              "      <td>1987</td>\n",
              "      <td>0</td>\n",
              "      <td>98074</td>\n",
              "      <td>47.6168</td>\n",
              "      <td>-122.045</td>\n",
              "      <td>1800</td>\n",
              "      <td>7503</td>\n",
              "      <td>2015</td>\n",
              "      <td>0</td>\n",
              "      <td>1</td>\n",
              "      <td>02</td>\n",
              "      <td>1</td>\n",
              "    </tr>\n",
              "  </tbody>\n",
              "</table>\n",
              "</div>\n",
              "      <button class=\"colab-df-convert\" onclick=\"convertToInteractive('df-218769d9-10fc-4097-8e44-7dcab5df6dde')\"\n",
              "              title=\"Convert this dataframe to an interactive table.\"\n",
              "              style=\"display:none;\">\n",
              "        \n",
              "  <svg xmlns=\"http://www.w3.org/2000/svg\" height=\"24px\"viewBox=\"0 0 24 24\"\n",
              "       width=\"24px\">\n",
              "    <path d=\"M0 0h24v24H0V0z\" fill=\"none\"/>\n",
              "    <path d=\"M18.56 5.44l.94 2.06.94-2.06 2.06-.94-2.06-.94-.94-2.06-.94 2.06-2.06.94zm-11 1L8.5 8.5l.94-2.06 2.06-.94-2.06-.94L8.5 2.5l-.94 2.06-2.06.94zm10 10l.94 2.06.94-2.06 2.06-.94-2.06-.94-.94-2.06-.94 2.06-2.06.94z\"/><path d=\"M17.41 7.96l-1.37-1.37c-.4-.4-.92-.59-1.43-.59-.52 0-1.04.2-1.43.59L10.3 9.45l-7.72 7.72c-.78.78-.78 2.05 0 2.83L4 21.41c.39.39.9.59 1.41.59.51 0 1.02-.2 1.41-.59l7.78-7.78 2.81-2.81c.8-.78.8-2.07 0-2.86zM5.41 20L4 18.59l7.72-7.72 1.47 1.35L5.41 20z\"/>\n",
              "  </svg>\n",
              "      </button>\n",
              "      \n",
              "  <style>\n",
              "    .colab-df-container {\n",
              "      display:flex;\n",
              "      flex-wrap:wrap;\n",
              "      gap: 12px;\n",
              "    }\n",
              "\n",
              "    .colab-df-convert {\n",
              "      background-color: #E8F0FE;\n",
              "      border: none;\n",
              "      border-radius: 50%;\n",
              "      cursor: pointer;\n",
              "      display: none;\n",
              "      fill: #1967D2;\n",
              "      height: 32px;\n",
              "      padding: 0 0 0 0;\n",
              "      width: 32px;\n",
              "    }\n",
              "\n",
              "    .colab-df-convert:hover {\n",
              "      background-color: #E2EBFA;\n",
              "      box-shadow: 0px 1px 2px rgba(60, 64, 67, 0.3), 0px 1px 3px 1px rgba(60, 64, 67, 0.15);\n",
              "      fill: #174EA6;\n",
              "    }\n",
              "\n",
              "    [theme=dark] .colab-df-convert {\n",
              "      background-color: #3B4455;\n",
              "      fill: #D2E3FC;\n",
              "    }\n",
              "\n",
              "    [theme=dark] .colab-df-convert:hover {\n",
              "      background-color: #434B5C;\n",
              "      box-shadow: 0px 1px 3px 1px rgba(0, 0, 0, 0.15);\n",
              "      filter: drop-shadow(0px 1px 2px rgba(0, 0, 0, 0.3));\n",
              "      fill: #FFFFFF;\n",
              "    }\n",
              "  </style>\n",
              "\n",
              "      <script>\n",
              "        const buttonEl =\n",
              "          document.querySelector('#df-218769d9-10fc-4097-8e44-7dcab5df6dde button.colab-df-convert');\n",
              "        buttonEl.style.display =\n",
              "          google.colab.kernel.accessAllowed ? 'block' : 'none';\n",
              "\n",
              "        async function convertToInteractive(key) {\n",
              "          const element = document.querySelector('#df-218769d9-10fc-4097-8e44-7dcab5df6dde');\n",
              "          const dataTable =\n",
              "            await google.colab.kernel.invokeFunction('convertToInteractive',\n",
              "                                                     [key], {});\n",
              "          if (!dataTable) return;\n",
              "\n",
              "          const docLinkHtml = 'Like what you see? Visit the ' +\n",
              "            '<a target=\"_blank\" href=https://colab.research.google.com/notebooks/data_table.ipynb>data table notebook</a>'\n",
              "            + ' to learn more about interactive tables.';\n",
              "          element.innerHTML = '';\n",
              "          dataTable['output_type'] = 'display_data';\n",
              "          await google.colab.output.renderOutput(dataTable, element);\n",
              "          const docLink = document.createElement('div');\n",
              "          docLink.innerHTML = docLinkHtml;\n",
              "          element.appendChild(docLink);\n",
              "        }\n",
              "      </script>\n",
              "    </div>\n",
              "  </div>\n",
              "  "
            ],
            "text/plain": [
              "           id             date     price  ...  year_code_1  month  month_code\n",
              "0  7129300520  20141013T000000  221900.0  ...            0     10           9\n",
              "1  6414100192  20141209T000000  538000.0  ...            0     12          11\n",
              "2  5631500400  20150225T000000  180000.0  ...            1     02           1\n",
              "3  2487200875  20141209T000000  604000.0  ...            0     12          11\n",
              "4  1954400510  20150218T000000  510000.0  ...            1     02           1\n",
              "\n",
              "[5 rows x 26 columns]"
            ]
          },
          "metadata": {},
          "execution_count": 15
        }
      ]
    },
    {
      "cell_type": "code",
      "source": [
        "df = pd.get_dummies(df, columns=['month_code'])\n",
        "df.head()"
      ],
      "metadata": {
        "colab": {
          "base_uri": "https://localhost:8080/",
          "height": 270
        },
        "id": "P99obOMbodet",
        "outputId": "06bf1a32-4b51-4350-d246-96a127f8774c"
      },
      "execution_count": 16,
      "outputs": [
        {
          "output_type": "execute_result",
          "data": {
            "text/html": [
              "\n",
              "  <div id=\"df-0952e49e-9a01-48fe-a2d5-b0d3b69a74f8\">\n",
              "    <div class=\"colab-df-container\">\n",
              "      <div>\n",
              "<style scoped>\n",
              "    .dataframe tbody tr th:only-of-type {\n",
              "        vertical-align: middle;\n",
              "    }\n",
              "\n",
              "    .dataframe tbody tr th {\n",
              "        vertical-align: top;\n",
              "    }\n",
              "\n",
              "    .dataframe thead th {\n",
              "        text-align: right;\n",
              "    }\n",
              "</style>\n",
              "<table border=\"1\" class=\"dataframe\">\n",
              "  <thead>\n",
              "    <tr style=\"text-align: right;\">\n",
              "      <th></th>\n",
              "      <th>id</th>\n",
              "      <th>date</th>\n",
              "      <th>price</th>\n",
              "      <th>bedrooms</th>\n",
              "      <th>bathrooms</th>\n",
              "      <th>sqft_living</th>\n",
              "      <th>sqft_lot</th>\n",
              "      <th>floors</th>\n",
              "      <th>waterfront</th>\n",
              "      <th>view</th>\n",
              "      <th>condition</th>\n",
              "      <th>grade</th>\n",
              "      <th>sqft_above</th>\n",
              "      <th>sqft_basement</th>\n",
              "      <th>yr_built</th>\n",
              "      <th>yr_renovated</th>\n",
              "      <th>zipcode</th>\n",
              "      <th>lat</th>\n",
              "      <th>long</th>\n",
              "      <th>sqft_living15</th>\n",
              "      <th>sqft_lot15</th>\n",
              "      <th>year</th>\n",
              "      <th>year_code_0</th>\n",
              "      <th>year_code_1</th>\n",
              "      <th>month</th>\n",
              "      <th>month_code_0</th>\n",
              "      <th>month_code_1</th>\n",
              "      <th>month_code_2</th>\n",
              "      <th>month_code_3</th>\n",
              "      <th>month_code_4</th>\n",
              "      <th>month_code_5</th>\n",
              "      <th>month_code_6</th>\n",
              "      <th>month_code_7</th>\n",
              "      <th>month_code_8</th>\n",
              "      <th>month_code_9</th>\n",
              "      <th>month_code_10</th>\n",
              "      <th>month_code_11</th>\n",
              "    </tr>\n",
              "  </thead>\n",
              "  <tbody>\n",
              "    <tr>\n",
              "      <th>0</th>\n",
              "      <td>7129300520</td>\n",
              "      <td>20141013T000000</td>\n",
              "      <td>221900.0</td>\n",
              "      <td>3</td>\n",
              "      <td>1.00</td>\n",
              "      <td>1180</td>\n",
              "      <td>5650</td>\n",
              "      <td>1.0</td>\n",
              "      <td>0</td>\n",
              "      <td>0</td>\n",
              "      <td>3</td>\n",
              "      <td>7</td>\n",
              "      <td>1180</td>\n",
              "      <td>0</td>\n",
              "      <td>1955</td>\n",
              "      <td>0</td>\n",
              "      <td>98178</td>\n",
              "      <td>47.5112</td>\n",
              "      <td>-122.257</td>\n",
              "      <td>1340</td>\n",
              "      <td>5650</td>\n",
              "      <td>2014</td>\n",
              "      <td>1</td>\n",
              "      <td>0</td>\n",
              "      <td>10</td>\n",
              "      <td>0</td>\n",
              "      <td>0</td>\n",
              "      <td>0</td>\n",
              "      <td>0</td>\n",
              "      <td>0</td>\n",
              "      <td>0</td>\n",
              "      <td>0</td>\n",
              "      <td>0</td>\n",
              "      <td>0</td>\n",
              "      <td>1</td>\n",
              "      <td>0</td>\n",
              "      <td>0</td>\n",
              "    </tr>\n",
              "    <tr>\n",
              "      <th>1</th>\n",
              "      <td>6414100192</td>\n",
              "      <td>20141209T000000</td>\n",
              "      <td>538000.0</td>\n",
              "      <td>3</td>\n",
              "      <td>2.25</td>\n",
              "      <td>2570</td>\n",
              "      <td>7242</td>\n",
              "      <td>2.0</td>\n",
              "      <td>0</td>\n",
              "      <td>0</td>\n",
              "      <td>3</td>\n",
              "      <td>7</td>\n",
              "      <td>2170</td>\n",
              "      <td>400</td>\n",
              "      <td>1951</td>\n",
              "      <td>1991</td>\n",
              "      <td>98125</td>\n",
              "      <td>47.7210</td>\n",
              "      <td>-122.319</td>\n",
              "      <td>1690</td>\n",
              "      <td>7639</td>\n",
              "      <td>2014</td>\n",
              "      <td>1</td>\n",
              "      <td>0</td>\n",
              "      <td>12</td>\n",
              "      <td>0</td>\n",
              "      <td>0</td>\n",
              "      <td>0</td>\n",
              "      <td>0</td>\n",
              "      <td>0</td>\n",
              "      <td>0</td>\n",
              "      <td>0</td>\n",
              "      <td>0</td>\n",
              "      <td>0</td>\n",
              "      <td>0</td>\n",
              "      <td>0</td>\n",
              "      <td>1</td>\n",
              "    </tr>\n",
              "    <tr>\n",
              "      <th>2</th>\n",
              "      <td>5631500400</td>\n",
              "      <td>20150225T000000</td>\n",
              "      <td>180000.0</td>\n",
              "      <td>2</td>\n",
              "      <td>1.00</td>\n",
              "      <td>770</td>\n",
              "      <td>10000</td>\n",
              "      <td>1.0</td>\n",
              "      <td>0</td>\n",
              "      <td>0</td>\n",
              "      <td>3</td>\n",
              "      <td>6</td>\n",
              "      <td>770</td>\n",
              "      <td>0</td>\n",
              "      <td>1933</td>\n",
              "      <td>0</td>\n",
              "      <td>98028</td>\n",
              "      <td>47.7379</td>\n",
              "      <td>-122.233</td>\n",
              "      <td>2720</td>\n",
              "      <td>8062</td>\n",
              "      <td>2015</td>\n",
              "      <td>0</td>\n",
              "      <td>1</td>\n",
              "      <td>02</td>\n",
              "      <td>0</td>\n",
              "      <td>1</td>\n",
              "      <td>0</td>\n",
              "      <td>0</td>\n",
              "      <td>0</td>\n",
              "      <td>0</td>\n",
              "      <td>0</td>\n",
              "      <td>0</td>\n",
              "      <td>0</td>\n",
              "      <td>0</td>\n",
              "      <td>0</td>\n",
              "      <td>0</td>\n",
              "    </tr>\n",
              "    <tr>\n",
              "      <th>3</th>\n",
              "      <td>2487200875</td>\n",
              "      <td>20141209T000000</td>\n",
              "      <td>604000.0</td>\n",
              "      <td>4</td>\n",
              "      <td>3.00</td>\n",
              "      <td>1960</td>\n",
              "      <td>5000</td>\n",
              "      <td>1.0</td>\n",
              "      <td>0</td>\n",
              "      <td>0</td>\n",
              "      <td>5</td>\n",
              "      <td>7</td>\n",
              "      <td>1050</td>\n",
              "      <td>910</td>\n",
              "      <td>1965</td>\n",
              "      <td>0</td>\n",
              "      <td>98136</td>\n",
              "      <td>47.5208</td>\n",
              "      <td>-122.393</td>\n",
              "      <td>1360</td>\n",
              "      <td>5000</td>\n",
              "      <td>2014</td>\n",
              "      <td>1</td>\n",
              "      <td>0</td>\n",
              "      <td>12</td>\n",
              "      <td>0</td>\n",
              "      <td>0</td>\n",
              "      <td>0</td>\n",
              "      <td>0</td>\n",
              "      <td>0</td>\n",
              "      <td>0</td>\n",
              "      <td>0</td>\n",
              "      <td>0</td>\n",
              "      <td>0</td>\n",
              "      <td>0</td>\n",
              "      <td>0</td>\n",
              "      <td>1</td>\n",
              "    </tr>\n",
              "    <tr>\n",
              "      <th>4</th>\n",
              "      <td>1954400510</td>\n",
              "      <td>20150218T000000</td>\n",
              "      <td>510000.0</td>\n",
              "      <td>3</td>\n",
              "      <td>2.00</td>\n",
              "      <td>1680</td>\n",
              "      <td>8080</td>\n",
              "      <td>1.0</td>\n",
              "      <td>0</td>\n",
              "      <td>0</td>\n",
              "      <td>3</td>\n",
              "      <td>8</td>\n",
              "      <td>1680</td>\n",
              "      <td>0</td>\n",
              "      <td>1987</td>\n",
              "      <td>0</td>\n",
              "      <td>98074</td>\n",
              "      <td>47.6168</td>\n",
              "      <td>-122.045</td>\n",
              "      <td>1800</td>\n",
              "      <td>7503</td>\n",
              "      <td>2015</td>\n",
              "      <td>0</td>\n",
              "      <td>1</td>\n",
              "      <td>02</td>\n",
              "      <td>0</td>\n",
              "      <td>1</td>\n",
              "      <td>0</td>\n",
              "      <td>0</td>\n",
              "      <td>0</td>\n",
              "      <td>0</td>\n",
              "      <td>0</td>\n",
              "      <td>0</td>\n",
              "      <td>0</td>\n",
              "      <td>0</td>\n",
              "      <td>0</td>\n",
              "      <td>0</td>\n",
              "    </tr>\n",
              "  </tbody>\n",
              "</table>\n",
              "</div>\n",
              "      <button class=\"colab-df-convert\" onclick=\"convertToInteractive('df-0952e49e-9a01-48fe-a2d5-b0d3b69a74f8')\"\n",
              "              title=\"Convert this dataframe to an interactive table.\"\n",
              "              style=\"display:none;\">\n",
              "        \n",
              "  <svg xmlns=\"http://www.w3.org/2000/svg\" height=\"24px\"viewBox=\"0 0 24 24\"\n",
              "       width=\"24px\">\n",
              "    <path d=\"M0 0h24v24H0V0z\" fill=\"none\"/>\n",
              "    <path d=\"M18.56 5.44l.94 2.06.94-2.06 2.06-.94-2.06-.94-.94-2.06-.94 2.06-2.06.94zm-11 1L8.5 8.5l.94-2.06 2.06-.94-2.06-.94L8.5 2.5l-.94 2.06-2.06.94zm10 10l.94 2.06.94-2.06 2.06-.94-2.06-.94-.94-2.06-.94 2.06-2.06.94z\"/><path d=\"M17.41 7.96l-1.37-1.37c-.4-.4-.92-.59-1.43-.59-.52 0-1.04.2-1.43.59L10.3 9.45l-7.72 7.72c-.78.78-.78 2.05 0 2.83L4 21.41c.39.39.9.59 1.41.59.51 0 1.02-.2 1.41-.59l7.78-7.78 2.81-2.81c.8-.78.8-2.07 0-2.86zM5.41 20L4 18.59l7.72-7.72 1.47 1.35L5.41 20z\"/>\n",
              "  </svg>\n",
              "      </button>\n",
              "      \n",
              "  <style>\n",
              "    .colab-df-container {\n",
              "      display:flex;\n",
              "      flex-wrap:wrap;\n",
              "      gap: 12px;\n",
              "    }\n",
              "\n",
              "    .colab-df-convert {\n",
              "      background-color: #E8F0FE;\n",
              "      border: none;\n",
              "      border-radius: 50%;\n",
              "      cursor: pointer;\n",
              "      display: none;\n",
              "      fill: #1967D2;\n",
              "      height: 32px;\n",
              "      padding: 0 0 0 0;\n",
              "      width: 32px;\n",
              "    }\n",
              "\n",
              "    .colab-df-convert:hover {\n",
              "      background-color: #E2EBFA;\n",
              "      box-shadow: 0px 1px 2px rgba(60, 64, 67, 0.3), 0px 1px 3px 1px rgba(60, 64, 67, 0.15);\n",
              "      fill: #174EA6;\n",
              "    }\n",
              "\n",
              "    [theme=dark] .colab-df-convert {\n",
              "      background-color: #3B4455;\n",
              "      fill: #D2E3FC;\n",
              "    }\n",
              "\n",
              "    [theme=dark] .colab-df-convert:hover {\n",
              "      background-color: #434B5C;\n",
              "      box-shadow: 0px 1px 3px 1px rgba(0, 0, 0, 0.15);\n",
              "      filter: drop-shadow(0px 1px 2px rgba(0, 0, 0, 0.3));\n",
              "      fill: #FFFFFF;\n",
              "    }\n",
              "  </style>\n",
              "\n",
              "      <script>\n",
              "        const buttonEl =\n",
              "          document.querySelector('#df-0952e49e-9a01-48fe-a2d5-b0d3b69a74f8 button.colab-df-convert');\n",
              "        buttonEl.style.display =\n",
              "          google.colab.kernel.accessAllowed ? 'block' : 'none';\n",
              "\n",
              "        async function convertToInteractive(key) {\n",
              "          const element = document.querySelector('#df-0952e49e-9a01-48fe-a2d5-b0d3b69a74f8');\n",
              "          const dataTable =\n",
              "            await google.colab.kernel.invokeFunction('convertToInteractive',\n",
              "                                                     [key], {});\n",
              "          if (!dataTable) return;\n",
              "\n",
              "          const docLinkHtml = 'Like what you see? Visit the ' +\n",
              "            '<a target=\"_blank\" href=https://colab.research.google.com/notebooks/data_table.ipynb>data table notebook</a>'\n",
              "            + ' to learn more about interactive tables.';\n",
              "          element.innerHTML = '';\n",
              "          dataTable['output_type'] = 'display_data';\n",
              "          await google.colab.output.renderOutput(dataTable, element);\n",
              "          const docLink = document.createElement('div');\n",
              "          docLink.innerHTML = docLinkHtml;\n",
              "          element.appendChild(docLink);\n",
              "        }\n",
              "      </script>\n",
              "    </div>\n",
              "  </div>\n",
              "  "
            ],
            "text/plain": [
              "           id             date  ...  month_code_10  month_code_11\n",
              "0  7129300520  20141013T000000  ...              0              0\n",
              "1  6414100192  20141209T000000  ...              0              1\n",
              "2  5631500400  20150225T000000  ...              0              0\n",
              "3  2487200875  20141209T000000  ...              0              1\n",
              "4  1954400510  20150218T000000  ...              0              0\n",
              "\n",
              "[5 rows x 37 columns]"
            ]
          },
          "metadata": {},
          "execution_count": 16
        }
      ]
    },
    {
      "cell_type": "markdown",
      "source": [
        "# 불필요한 컬럼 삭제"
      ],
      "metadata": {
        "id": "UBiVJ7WMoo7G"
      }
    },
    {
      "cell_type": "code",
      "source": [
        "df.drop(columns=[\"id\", \"date\", \"year\", \"month\"], inplace=True)\n",
        "df.head()"
      ],
      "metadata": {
        "colab": {
          "base_uri": "https://localhost:8080/",
          "height": 270
        },
        "id": "68plYh4xoih_",
        "outputId": "ddc29de8-b2f3-47db-ff66-29a9ec22e5ed"
      },
      "execution_count": 17,
      "outputs": [
        {
          "output_type": "execute_result",
          "data": {
            "text/html": [
              "\n",
              "  <div id=\"df-8cf654fc-98b6-4d0b-8ac7-d7bdb6001dd1\">\n",
              "    <div class=\"colab-df-container\">\n",
              "      <div>\n",
              "<style scoped>\n",
              "    .dataframe tbody tr th:only-of-type {\n",
              "        vertical-align: middle;\n",
              "    }\n",
              "\n",
              "    .dataframe tbody tr th {\n",
              "        vertical-align: top;\n",
              "    }\n",
              "\n",
              "    .dataframe thead th {\n",
              "        text-align: right;\n",
              "    }\n",
              "</style>\n",
              "<table border=\"1\" class=\"dataframe\">\n",
              "  <thead>\n",
              "    <tr style=\"text-align: right;\">\n",
              "      <th></th>\n",
              "      <th>price</th>\n",
              "      <th>bedrooms</th>\n",
              "      <th>bathrooms</th>\n",
              "      <th>sqft_living</th>\n",
              "      <th>sqft_lot</th>\n",
              "      <th>floors</th>\n",
              "      <th>waterfront</th>\n",
              "      <th>view</th>\n",
              "      <th>condition</th>\n",
              "      <th>grade</th>\n",
              "      <th>sqft_above</th>\n",
              "      <th>sqft_basement</th>\n",
              "      <th>yr_built</th>\n",
              "      <th>yr_renovated</th>\n",
              "      <th>zipcode</th>\n",
              "      <th>lat</th>\n",
              "      <th>long</th>\n",
              "      <th>sqft_living15</th>\n",
              "      <th>sqft_lot15</th>\n",
              "      <th>year_code_0</th>\n",
              "      <th>year_code_1</th>\n",
              "      <th>month_code_0</th>\n",
              "      <th>month_code_1</th>\n",
              "      <th>month_code_2</th>\n",
              "      <th>month_code_3</th>\n",
              "      <th>month_code_4</th>\n",
              "      <th>month_code_5</th>\n",
              "      <th>month_code_6</th>\n",
              "      <th>month_code_7</th>\n",
              "      <th>month_code_8</th>\n",
              "      <th>month_code_9</th>\n",
              "      <th>month_code_10</th>\n",
              "      <th>month_code_11</th>\n",
              "    </tr>\n",
              "  </thead>\n",
              "  <tbody>\n",
              "    <tr>\n",
              "      <th>0</th>\n",
              "      <td>221900.0</td>\n",
              "      <td>3</td>\n",
              "      <td>1.00</td>\n",
              "      <td>1180</td>\n",
              "      <td>5650</td>\n",
              "      <td>1.0</td>\n",
              "      <td>0</td>\n",
              "      <td>0</td>\n",
              "      <td>3</td>\n",
              "      <td>7</td>\n",
              "      <td>1180</td>\n",
              "      <td>0</td>\n",
              "      <td>1955</td>\n",
              "      <td>0</td>\n",
              "      <td>98178</td>\n",
              "      <td>47.5112</td>\n",
              "      <td>-122.257</td>\n",
              "      <td>1340</td>\n",
              "      <td>5650</td>\n",
              "      <td>1</td>\n",
              "      <td>0</td>\n",
              "      <td>0</td>\n",
              "      <td>0</td>\n",
              "      <td>0</td>\n",
              "      <td>0</td>\n",
              "      <td>0</td>\n",
              "      <td>0</td>\n",
              "      <td>0</td>\n",
              "      <td>0</td>\n",
              "      <td>0</td>\n",
              "      <td>1</td>\n",
              "      <td>0</td>\n",
              "      <td>0</td>\n",
              "    </tr>\n",
              "    <tr>\n",
              "      <th>1</th>\n",
              "      <td>538000.0</td>\n",
              "      <td>3</td>\n",
              "      <td>2.25</td>\n",
              "      <td>2570</td>\n",
              "      <td>7242</td>\n",
              "      <td>2.0</td>\n",
              "      <td>0</td>\n",
              "      <td>0</td>\n",
              "      <td>3</td>\n",
              "      <td>7</td>\n",
              "      <td>2170</td>\n",
              "      <td>400</td>\n",
              "      <td>1951</td>\n",
              "      <td>1991</td>\n",
              "      <td>98125</td>\n",
              "      <td>47.7210</td>\n",
              "      <td>-122.319</td>\n",
              "      <td>1690</td>\n",
              "      <td>7639</td>\n",
              "      <td>1</td>\n",
              "      <td>0</td>\n",
              "      <td>0</td>\n",
              "      <td>0</td>\n",
              "      <td>0</td>\n",
              "      <td>0</td>\n",
              "      <td>0</td>\n",
              "      <td>0</td>\n",
              "      <td>0</td>\n",
              "      <td>0</td>\n",
              "      <td>0</td>\n",
              "      <td>0</td>\n",
              "      <td>0</td>\n",
              "      <td>1</td>\n",
              "    </tr>\n",
              "    <tr>\n",
              "      <th>2</th>\n",
              "      <td>180000.0</td>\n",
              "      <td>2</td>\n",
              "      <td>1.00</td>\n",
              "      <td>770</td>\n",
              "      <td>10000</td>\n",
              "      <td>1.0</td>\n",
              "      <td>0</td>\n",
              "      <td>0</td>\n",
              "      <td>3</td>\n",
              "      <td>6</td>\n",
              "      <td>770</td>\n",
              "      <td>0</td>\n",
              "      <td>1933</td>\n",
              "      <td>0</td>\n",
              "      <td>98028</td>\n",
              "      <td>47.7379</td>\n",
              "      <td>-122.233</td>\n",
              "      <td>2720</td>\n",
              "      <td>8062</td>\n",
              "      <td>0</td>\n",
              "      <td>1</td>\n",
              "      <td>0</td>\n",
              "      <td>1</td>\n",
              "      <td>0</td>\n",
              "      <td>0</td>\n",
              "      <td>0</td>\n",
              "      <td>0</td>\n",
              "      <td>0</td>\n",
              "      <td>0</td>\n",
              "      <td>0</td>\n",
              "      <td>0</td>\n",
              "      <td>0</td>\n",
              "      <td>0</td>\n",
              "    </tr>\n",
              "    <tr>\n",
              "      <th>3</th>\n",
              "      <td>604000.0</td>\n",
              "      <td>4</td>\n",
              "      <td>3.00</td>\n",
              "      <td>1960</td>\n",
              "      <td>5000</td>\n",
              "      <td>1.0</td>\n",
              "      <td>0</td>\n",
              "      <td>0</td>\n",
              "      <td>5</td>\n",
              "      <td>7</td>\n",
              "      <td>1050</td>\n",
              "      <td>910</td>\n",
              "      <td>1965</td>\n",
              "      <td>0</td>\n",
              "      <td>98136</td>\n",
              "      <td>47.5208</td>\n",
              "      <td>-122.393</td>\n",
              "      <td>1360</td>\n",
              "      <td>5000</td>\n",
              "      <td>1</td>\n",
              "      <td>0</td>\n",
              "      <td>0</td>\n",
              "      <td>0</td>\n",
              "      <td>0</td>\n",
              "      <td>0</td>\n",
              "      <td>0</td>\n",
              "      <td>0</td>\n",
              "      <td>0</td>\n",
              "      <td>0</td>\n",
              "      <td>0</td>\n",
              "      <td>0</td>\n",
              "      <td>0</td>\n",
              "      <td>1</td>\n",
              "    </tr>\n",
              "    <tr>\n",
              "      <th>4</th>\n",
              "      <td>510000.0</td>\n",
              "      <td>3</td>\n",
              "      <td>2.00</td>\n",
              "      <td>1680</td>\n",
              "      <td>8080</td>\n",
              "      <td>1.0</td>\n",
              "      <td>0</td>\n",
              "      <td>0</td>\n",
              "      <td>3</td>\n",
              "      <td>8</td>\n",
              "      <td>1680</td>\n",
              "      <td>0</td>\n",
              "      <td>1987</td>\n",
              "      <td>0</td>\n",
              "      <td>98074</td>\n",
              "      <td>47.6168</td>\n",
              "      <td>-122.045</td>\n",
              "      <td>1800</td>\n",
              "      <td>7503</td>\n",
              "      <td>0</td>\n",
              "      <td>1</td>\n",
              "      <td>0</td>\n",
              "      <td>1</td>\n",
              "      <td>0</td>\n",
              "      <td>0</td>\n",
              "      <td>0</td>\n",
              "      <td>0</td>\n",
              "      <td>0</td>\n",
              "      <td>0</td>\n",
              "      <td>0</td>\n",
              "      <td>0</td>\n",
              "      <td>0</td>\n",
              "      <td>0</td>\n",
              "    </tr>\n",
              "  </tbody>\n",
              "</table>\n",
              "</div>\n",
              "      <button class=\"colab-df-convert\" onclick=\"convertToInteractive('df-8cf654fc-98b6-4d0b-8ac7-d7bdb6001dd1')\"\n",
              "              title=\"Convert this dataframe to an interactive table.\"\n",
              "              style=\"display:none;\">\n",
              "        \n",
              "  <svg xmlns=\"http://www.w3.org/2000/svg\" height=\"24px\"viewBox=\"0 0 24 24\"\n",
              "       width=\"24px\">\n",
              "    <path d=\"M0 0h24v24H0V0z\" fill=\"none\"/>\n",
              "    <path d=\"M18.56 5.44l.94 2.06.94-2.06 2.06-.94-2.06-.94-.94-2.06-.94 2.06-2.06.94zm-11 1L8.5 8.5l.94-2.06 2.06-.94-2.06-.94L8.5 2.5l-.94 2.06-2.06.94zm10 10l.94 2.06.94-2.06 2.06-.94-2.06-.94-.94-2.06-.94 2.06-2.06.94z\"/><path d=\"M17.41 7.96l-1.37-1.37c-.4-.4-.92-.59-1.43-.59-.52 0-1.04.2-1.43.59L10.3 9.45l-7.72 7.72c-.78.78-.78 2.05 0 2.83L4 21.41c.39.39.9.59 1.41.59.51 0 1.02-.2 1.41-.59l7.78-7.78 2.81-2.81c.8-.78.8-2.07 0-2.86zM5.41 20L4 18.59l7.72-7.72 1.47 1.35L5.41 20z\"/>\n",
              "  </svg>\n",
              "      </button>\n",
              "      \n",
              "  <style>\n",
              "    .colab-df-container {\n",
              "      display:flex;\n",
              "      flex-wrap:wrap;\n",
              "      gap: 12px;\n",
              "    }\n",
              "\n",
              "    .colab-df-convert {\n",
              "      background-color: #E8F0FE;\n",
              "      border: none;\n",
              "      border-radius: 50%;\n",
              "      cursor: pointer;\n",
              "      display: none;\n",
              "      fill: #1967D2;\n",
              "      height: 32px;\n",
              "      padding: 0 0 0 0;\n",
              "      width: 32px;\n",
              "    }\n",
              "\n",
              "    .colab-df-convert:hover {\n",
              "      background-color: #E2EBFA;\n",
              "      box-shadow: 0px 1px 2px rgba(60, 64, 67, 0.3), 0px 1px 3px 1px rgba(60, 64, 67, 0.15);\n",
              "      fill: #174EA6;\n",
              "    }\n",
              "\n",
              "    [theme=dark] .colab-df-convert {\n",
              "      background-color: #3B4455;\n",
              "      fill: #D2E3FC;\n",
              "    }\n",
              "\n",
              "    [theme=dark] .colab-df-convert:hover {\n",
              "      background-color: #434B5C;\n",
              "      box-shadow: 0px 1px 3px 1px rgba(0, 0, 0, 0.15);\n",
              "      filter: drop-shadow(0px 1px 2px rgba(0, 0, 0, 0.3));\n",
              "      fill: #FFFFFF;\n",
              "    }\n",
              "  </style>\n",
              "\n",
              "      <script>\n",
              "        const buttonEl =\n",
              "          document.querySelector('#df-8cf654fc-98b6-4d0b-8ac7-d7bdb6001dd1 button.colab-df-convert');\n",
              "        buttonEl.style.display =\n",
              "          google.colab.kernel.accessAllowed ? 'block' : 'none';\n",
              "\n",
              "        async function convertToInteractive(key) {\n",
              "          const element = document.querySelector('#df-8cf654fc-98b6-4d0b-8ac7-d7bdb6001dd1');\n",
              "          const dataTable =\n",
              "            await google.colab.kernel.invokeFunction('convertToInteractive',\n",
              "                                                     [key], {});\n",
              "          if (!dataTable) return;\n",
              "\n",
              "          const docLinkHtml = 'Like what you see? Visit the ' +\n",
              "            '<a target=\"_blank\" href=https://colab.research.google.com/notebooks/data_table.ipynb>data table notebook</a>'\n",
              "            + ' to learn more about interactive tables.';\n",
              "          element.innerHTML = '';\n",
              "          dataTable['output_type'] = 'display_data';\n",
              "          await google.colab.output.renderOutput(dataTable, element);\n",
              "          const docLink = document.createElement('div');\n",
              "          docLink.innerHTML = docLinkHtml;\n",
              "          element.appendChild(docLink);\n",
              "        }\n",
              "      </script>\n",
              "    </div>\n",
              "  </div>\n",
              "  "
            ],
            "text/plain": [
              "      price  bedrooms  bathrooms  ...  month_code_9  month_code_10  month_code_11\n",
              "0  221900.0         3       1.00  ...             1              0              0\n",
              "1  538000.0         3       2.25  ...             0              0              1\n",
              "2  180000.0         2       1.00  ...             0              0              0\n",
              "3  604000.0         4       3.00  ...             0              0              1\n",
              "4  510000.0         3       2.00  ...             0              0              0\n",
              "\n",
              "[5 rows x 33 columns]"
            ]
          },
          "metadata": {},
          "execution_count": 17
        }
      ]
    },
    {
      "cell_type": "markdown",
      "source": [
        "# 이상치 처리"
      ],
      "metadata": {
        "id": "WhaS4d3guGbe"
      }
    },
    {
      "cell_type": "code",
      "source": [
        "to_be_removed_columns = []"
      ],
      "metadata": {
        "id": "UX3_nAJeSnTi"
      },
      "execution_count": 18,
      "outputs": []
    },
    {
      "cell_type": "markdown",
      "source": [
        "## 로그화"
      ],
      "metadata": {
        "id": "XrShU3ZvSsoy"
      }
    },
    {
      "cell_type": "code",
      "source": [
        "for i in range(len(df.columns)):\n",
        "    if \"_code_\" in df.columns[i]: continue\n",
        "    print(df.columns[i])\n",
        "    plt.hist(df.iloc[:,i], bins=100)\n",
        "    plt.show()\n"
      ],
      "metadata": {
        "colab": {
          "base_uri": "https://localhost:8080/",
          "height": 1000
        },
        "id": "MGOvMSCqtpkA",
        "outputId": "929a1783-83bf-4981-dd67-7cb7cf418194"
      },
      "execution_count": 19,
      "outputs": [
        {
          "output_type": "stream",
          "name": "stdout",
          "text": [
            "price\n"
          ]
        },
        {
          "output_type": "display_data",
          "data": {
            "image/png": "[encoded data removed]",
            "text/plain": [
              "<Figure size 432x288 with 1 Axes>"
            ]
          },
          "metadata": {
            "needs_background": "light"
          }
        },
        {
          "output_type": "stream",
          "name": "stdout",
          "text": [
            "bedrooms\n"
          ]
        },
        {
          "output_type": "display_data",
          "data": {
            "image/png": "[encoded data removed]",
            "text/plain": [
              "<Figure size 432x288 with 1 Axes>"
            ]
          },
          "metadata": {
            "needs_background": "light"
          }
        },
        {
          "output_type": "stream",
          "name": "stdout",
          "text": [
            "bathrooms\n"
          ]
        },
        {
          "output_type": "display_data",
          "data": {
            "image/png": "[encoded data removed]",
            "text/plain": [
              "<Figure size 432x288 with 1 Axes>"
            ]
          },
          "metadata": {
            "needs_background": "light"
          }
        },
        {
          "output_type": "stream",
          "name": "stdout",
          "text": [
            "sqft_living\n"
          ]
        },
        {
          "output_type": "display_data",
          "data": {
            "image/png": "[encoded data removed]",
            "text/plain": [
              "<Figure size 432x288 with 1 Axes>"
            ]
          },
          "metadata": {
            "needs_background": "light"
          }
        },
        {
          "output_type": "stream",
          "name": "stdout",
          "text": [
            "sqft_lot\n"
          ]
        },
        {
          "output_type": "display_data",
          "data": {
            "image/png": "[encoded data removed]",
            "text/plain": [
              "<Figure size 432x288 with 1 Axes>"
            ]
          },
          "metadata": {
            "needs_background": "light"
          }
        },
        {
          "output_type": "stream",
          "name": "stdout",
          "text": [
            "floors\n"
          ]
        },
        {
          "output_type": "display_data",
          "data": {
            "image/png": "[encoded data removed]",
            "text/plain": [
              "<Figure size 432x288 with 1 Axes>"
            ]
          },
          "metadata": {
            "needs_background": "light"
          }
        },
        {
          "output_type": "stream",
          "name": "stdout",
          "text": [
            "waterfront\n"
          ]
        },
        {
          "output_type": "display_data",
          "data": {
            "image/png": "[encoded data removed]",
            "text/plain": [
              "<Figure size 432x288 with 1 Axes>"
            ]
          },
          "metadata": {
            "needs_background": "light"
          }
        },
        {
          "output_type": "stream",
          "name": "stdout",
          "text": [
            "view\n"
          ]
        },
        {
          "output_type": "display_data",
          "data": {
            "image/png": "[encoded data removed]",
            "text/plain": [
              "<Figure size 432x288 with 1 Axes>"
            ]
          },
          "metadata": {
            "needs_background": "light"
          }
        },
        {
          "output_type": "stream",
          "name": "stdout",
          "text": [
            "condition\n"
          ]
        },
        {
          "output_type": "display_data",
          "data": {
            "image/png": "[encoded data removed]",
            "text/plain": [
              "<Figure size 432x288 with 1 Axes>"
            ]
          },
          "metadata": {
            "needs_background": "light"
          }
        },
        {
          "output_type": "stream",
          "name": "stdout",
          "text": [
            "grade\n"
          ]
        },
        {
          "output_type": "display_data",
          "data": {
            "image/png": "[encoded data removed]",
            "text/plain": [
              "<Figure size 432x288 with 1 Axes>"
            ]
          },
          "metadata": {
            "needs_background": "light"
          }
        },
        {
          "output_type": "stream",
          "name": "stdout",
          "text": [
            "sqft_above\n"
          ]
        },
        {
          "output_type": "display_data",
          "data": {
            "image/png": "[encoded data removed]",
            "text/plain": [
              "<Figure size 432x288 with 1 Axes>"
            ]
          },
          "metadata": {
            "needs_background": "light"
          }
        },
        {
          "output_type": "stream",
          "name": "stdout",
          "text": [
            "sqft_basement\n"
          ]
        },
        {
          "output_type": "display_data",
          "data": {
            "image/png": "[encoded data removed]",
            "text/plain": [
              "<Figure size 432x288 with 1 Axes>"
            ]
          },
          "metadata": {
            "needs_background": "light"
          }
        },
        {
          "output_type": "stream",
          "name": "stdout",
          "text": [
            "yr_built\n"
          ]
        },
        {
          "output_type": "display_data",
          "data": {
            "image/png": "[encoded data removed]",
            "text/plain": [
              "<Figure size 432x288 with 1 Axes>"
            ]
          },
          "metadata": {
            "needs_background": "light"
          }
        },
        {
          "output_type": "stream",
          "name": "stdout",
          "text": [
            "yr_renovated\n"
          ]
        },
        {
          "output_type": "display_data",
          "data": {
            "image/png": "[encoded data removed]",
            "text/plain": [
              "<Figure size 432x288 with 1 Axes>"
            ]
          },
          "metadata": {
            "needs_background": "light"
          }
        },
        {
          "output_type": "stream",
          "name": "stdout",
          "text": [
            "zipcode\n"
          ]
        },
        {
          "output_type": "display_data",
          "data": {
            "image/png": "[encoded data removed]",
            "text/plain": [
              "<Figure size 432x288 with 1 Axes>"
            ]
          },
          "metadata": {
            "needs_background": "light"
          }
        },
        {
          "output_type": "stream",
          "name": "stdout",
          "text": [
            "lat\n"
          ]
        },
        {
          "output_type": "display_data",
          "data": {
            "image/png": "[encoded data removed]",
            "text/plain": [
              "<Figure size 432x288 with 1 Axes>"
            ]
          },
          "metadata": {
            "needs_background": "light"
          }
        },
        {
          "output_type": "stream",
          "name": "stdout",
          "text": [
            "long\n"
          ]
        },
        {
          "output_type": "display_data",
          "data": {
            "image/png": "[encoded data removed]",
            "text/plain": [
              "<Figure size 432x288 with 1 Axes>"
            ]
          },
          "metadata": {
            "needs_background": "light"
          }
        },
        {
          "output_type": "stream",
          "name": "stdout",
          "text": [
            "sqft_living15\n"
          ]
        },
        {
          "output_type": "display_data",
          "data": {
            "image/png": "[encoded data removed]",
            "text/plain": [
              "<Figure size 432x288 with 1 Axes>"
            ]
          },
          "metadata": {
            "needs_background": "light"
          }
        },
        {
          "output_type": "stream",
          "name": "stdout",
          "text": [
            "sqft_lot15\n"
          ]
        },
        {
          "output_type": "display_data",
          "data": {
            "image/png": "[encoded data removed]",
            "text/plain": [
              "<Figure size 432x288 with 1 Axes>"
            ]
          },
          "metadata": {
            "needs_background": "light"
          }
        }
      ]
    },
    {
      "cell_type": "code",
      "source": [
        "log_target_column = [ 'price', 'sqft_living', 'sqft_lot', 'sqft_above', 'sqft_basement', 'sqft_lot15' ]\n",
        "\n",
        "for column_name in log_target_column:\n",
        "    print(df[column_name].min(), df[column_name].max())\n",
        "    plt.hist(np.log10(df[column_name]+1), bins=100)\n",
        "    plt.show()\n",
        "    df[\"log_{}\".format(column_name)] = np.log10(df[column_name]+1)\n",
        "\n",
        "to_be_removed_columns.extend(log_target_column)\n"
      ],
      "metadata": {
        "colab": {
          "base_uri": "https://localhost:8080/",
          "height": 1000
        },
        "id": "SS4T_ImBO-nn",
        "outputId": "c945919f-6f2d-43b0-b12c-61f260becba8"
      },
      "execution_count": 20,
      "outputs": [
        {
          "output_type": "stream",
          "name": "stdout",
          "text": [
            "75000.0 7700000.0\n"
          ]
        },
        {
          "output_type": "display_data",
          "data": {
            "image/png": "[encoded data removed]",
            "text/plain": [
              "<Figure size 432x288 with 1 Axes>"
            ]
          },
          "metadata": {
            "needs_background": "light"
          }
        },
        {
          "output_type": "stream",
          "name": "stdout",
          "text": [
            "290 13540\n"
          ]
        },
        {
          "output_type": "display_data",
          "data": {
            "image/png": "[encoded data removed]",
            "text/plain": [
              "<Figure size 432x288 with 1 Axes>"
            ]
          },
          "metadata": {
            "needs_background": "light"
          }
        },
        {
          "output_type": "stream",
          "name": "stdout",
          "text": [
            "520 1651359\n"
          ]
        },
        {
          "output_type": "display_data",
          "data": {
            "image/png": "[encoded data removed]",
            "text/plain": [
              "<Figure size 432x288 with 1 Axes>"
            ]
          },
          "metadata": {
            "needs_background": "light"
          }
        },
        {
          "output_type": "stream",
          "name": "stdout",
          "text": [
            "290 9410\n"
          ]
        },
        {
          "output_type": "display_data",
          "data": {
            "image/png": "[encoded data removed]",
            "text/plain": [
              "<Figure size 432x288 with 1 Axes>"
            ]
          },
          "metadata": {
            "needs_background": "light"
          }
        },
        {
          "output_type": "stream",
          "name": "stdout",
          "text": [
            "0 4820\n"
          ]
        },
        {
          "output_type": "display_data",
          "data": {
            "image/png": "[encoded data removed]",
            "text/plain": [
              "<Figure size 432x288 with 1 Axes>"
            ]
          },
          "metadata": {
            "needs_background": "light"
          }
        },
        {
          "output_type": "stream",
          "name": "stdout",
          "text": [
            "651 871200\n"
          ]
        },
        {
          "output_type": "display_data",
          "data": {
            "image/png": "[encoded data removed]",
            "text/plain": [
              "<Figure size 432x288 with 1 Axes>"
            ]
          },
          "metadata": {
            "needs_background": "light"
          }
        }
      ]
    },
    {
      "cell_type": "markdown",
      "source": [
        "## 강제 최대값 설정"
      ],
      "metadata": {
        "id": "hVgnpjuWTUaT"
      }
    },
    {
      "cell_type": "code",
      "source": [
        "for i in range(len(df.columns)):\n",
        "    if \"_code_\" in df.columns[i]: continue\n",
        "    if df.columns[i] in to_be_removed_columns: continue\n",
        "    print(df.columns[i])\n",
        "    plt.hist(df.iloc[:,i], bins=100)\n",
        "    plt.show()\n",
        "\n",
        "max_column_values = {\n",
        "    'bedrooms':10, \n",
        "    'bathrooms':6,\n",
        "    'long':121.6,\n",
        "    'sqft_living15':5000,\n",
        "    'log_sqft_lot':5.5,\n",
        "    'log_sqft_lot15':5.5\n",
        "    }"
      ],
      "metadata": {
        "colab": {
          "base_uri": "https://localhost:8080/",
          "height": 1000
        },
        "id": "ezfUfDavTTa8",
        "outputId": "0735f841-571f-44fe-8fde-889743d42518"
      },
      "execution_count": 21,
      "outputs": [
        {
          "output_type": "stream",
          "name": "stdout",
          "text": [
            "bedrooms\n"
          ]
        },
        {
          "output_type": "display_data",
          "data": {
            "image/png": "[encoded data removed]",
            "text/plain": [
              "<Figure size 432x288 with 1 Axes>"
            ]
          },
          "metadata": {
            "needs_background": "light"
          }
        },
        {
          "output_type": "stream",
          "name": "stdout",
          "text": [
            "bathrooms\n"
          ]
        },
        {
          "output_type": "display_data",
          "data": {
            "image/png": "[encoded data removed]",
            "text/plain": [
              "<Figure size 432x288 with 1 Axes>"
            ]
          },
          "metadata": {
            "needs_background": "light"
          }
        },
        {
          "output_type": "stream",
          "name": "stdout",
          "text": [
            "floors\n"
          ]
        },
        {
          "output_type": "display_data",
          "data": {
            "image/png": "[encoded data removed]",
            "text/plain": [
              "<Figure size 432x288 with 1 Axes>"
            ]
          },
          "metadata": {
            "needs_background": "light"
          }
        },
        {
          "output_type": "stream",
          "name": "stdout",
          "text": [
            "waterfront\n"
          ]
        },
        {
          "output_type": "display_data",
          "data": {
            "image/png": "[encoded data removed]",
            "text/plain": [
              "<Figure size 432x288 with 1 Axes>"
            ]
          },
          "metadata": {
            "needs_background": "light"
          }
        },
        {
          "output_type": "stream",
          "name": "stdout",
          "text": [
            "view\n"
          ]
        },
        {
          "output_type": "display_data",
          "data": {
            "image/png": "[encoded data removed]",
            "text/plain": [
              "<Figure size 432x288 with 1 Axes>"
            ]
          },
          "metadata": {
            "needs_background": "light"
          }
        },
        {
          "output_type": "stream",
          "name": "stdout",
          "text": [
            "condition\n"
          ]
        },
        {
          "output_type": "display_data",
          "data": {
            "image/png": "[encoded data removed]",
            "text/plain": [
              "<Figure size 432x288 with 1 Axes>"
            ]
          },
          "metadata": {
            "needs_background": "light"
          }
        },
        {
          "output_type": "stream",
          "name": "stdout",
          "text": [
            "grade\n"
          ]
        },
        {
          "output_type": "display_data",
          "data": {
            "image/png": "[encoded data removed]",
            "text/plain": [
              "<Figure size 432x288 with 1 Axes>"
            ]
          },
          "metadata": {
            "needs_background": "light"
          }
        },
        {
          "output_type": "stream",
          "name": "stdout",
          "text": [
            "yr_built\n"
          ]
        },
        {
          "output_type": "display_data",
          "data": {
            "image/png": "[encoded data removed]",
            "text/plain": [
              "<Figure size 432x288 with 1 Axes>"
            ]
          },
          "metadata": {
            "needs_background": "light"
          }
        },
        {
          "output_type": "stream",
          "name": "stdout",
          "text": [
            "yr_renovated\n"
          ]
        },
        {
          "output_type": "display_data",
          "data": {
            "image/png": "[encoded data removed]",
            "text/plain": [
              "<Figure size 432x288 with 1 Axes>"
            ]
          },
          "metadata": {
            "needs_background": "light"
          }
        },
        {
          "output_type": "stream",
          "name": "stdout",
          "text": [
            "zipcode\n"
          ]
        },
        {
          "output_type": "display_data",
          "data": {
            "image/png": "[encoded data removed]",
            "text/plain": [
              "<Figure size 432x288 with 1 Axes>"
            ]
          },
          "metadata": {
            "needs_background": "light"
          }
        },
        {
          "output_type": "stream",
          "name": "stdout",
          "text": [
            "lat\n"
          ]
        },
        {
          "output_type": "display_data",
          "data": {
            "image/png": "[encoded data removed]",
            "text/plain": [
              "<Figure size 432x288 with 1 Axes>"
            ]
          },
          "metadata": {
            "needs_background": "light"
          }
        },
        {
          "output_type": "stream",
          "name": "stdout",
          "text": [
            "long\n"
          ]
        },
        {
          "output_type": "display_data",
          "data": {
            "image/png": "[encoded data removed]",
            "text/plain": [
              "<Figure size 432x288 with 1 Axes>"
            ]
          },
          "metadata": {
            "needs_background": "light"
          }
        },
        {
          "output_type": "stream",
          "name": "stdout",
          "text": [
            "sqft_living15\n"
          ]
        },
        {
          "output_type": "display_data",
          "data": {
            "image/png": "[encoded data removed]",
            "text/plain": [
              "<Figure size 432x288 with 1 Axes>"
            ]
          },
          "metadata": {
            "needs_background": "light"
          }
        },
        {
          "output_type": "stream",
          "name": "stdout",
          "text": [
            "log_price\n"
          ]
        },
        {
          "output_type": "display_data",
          "data": {
            "image/png": "[encoded data removed]",
            "text/plain": [
              "<Figure size 432x288 with 1 Axes>"
            ]
          },
          "metadata": {
            "needs_background": "light"
          }
        },
        {
          "output_type": "stream",
          "name": "stdout",
          "text": [
            "log_sqft_living\n"
          ]
        },
        {
          "output_type": "display_data",
          "data": {
            "image/png": "[encoded data removed]",
            "text/plain": [
              "<Figure size 432x288 with 1 Axes>"
            ]
          },
          "metadata": {
            "needs_background": "light"
          }
        },
        {
          "output_type": "stream",
          "name": "stdout",
          "text": [
            "log_sqft_lot\n"
          ]
        },
        {
          "output_type": "display_data",
          "data": {
            "image/png": "[encoded data removed]",
            "text/plain": [
              "<Figure size 432x288 with 1 Axes>"
            ]
          },
          "metadata": {
            "needs_background": "light"
          }
        },
        {
          "output_type": "stream",
          "name": "stdout",
          "text": [
            "log_sqft_above\n"
          ]
        },
        {
          "output_type": "display_data",
          "data": {
            "image/png": "[encoded data removed]",
            "text/plain": [
              "<Figure size 432x288 with 1 Axes>"
            ]
          },
          "metadata": {
            "needs_background": "light"
          }
        },
        {
          "output_type": "stream",
          "name": "stdout",
          "text": [
            "log_sqft_basement\n"
          ]
        },
        {
          "output_type": "display_data",
          "data": {
            "image/png": "[encoded data removed]",
            "text/plain": [
              "<Figure size 432x288 with 1 Axes>"
            ]
          },
          "metadata": {
            "needs_background": "light"
          }
        },
        {
          "output_type": "stream",
          "name": "stdout",
          "text": [
            "log_sqft_lot15\n"
          ]
        },
        {
          "output_type": "display_data",
          "data": {
            "image/png": "[encoded data removed]",
            "text/plain": [
              "<Figure size 432x288 with 1 Axes>"
            ]
          },
          "metadata": {
            "needs_background": "light"
          }
        }
      ]
    },
    {
      "cell_type": "code",
      "source": [
        "for column_name, max_value in max_column_values.items():\n",
        "    print(column_name, max_value)\n",
        "    new_column_name = 'max_limied_{}'.format(column_name)\n",
        "    df[new_column_name] = df[column_name]\n",
        "    df.loc[df[new_column_name]>max_value, new_column_name] = max_value\n",
        "\n",
        "    plt.hist(df[column_name], bins=100)\n",
        "    plt.hist(df[new_column_name], bins=100, alpha=0.5)\n",
        "    plt.show()\n",
        "\n",
        "    to_be_removed_columns.append(column_name)"
      ],
      "metadata": {
        "colab": {
          "base_uri": "https://localhost:8080/",
          "height": 1000
        },
        "id": "tlAEumSITTSt",
        "outputId": "21e02704-873c-4a7a-c196-b843d6006274"
      },
      "execution_count": 22,
      "outputs": [
        {
          "output_type": "stream",
          "name": "stdout",
          "text": [
            "bedrooms 10\n"
          ]
        },
        {
          "output_type": "display_data",
          "data": {
            "image/png": "[encoded data removed]",
            "text/plain": [
              "<Figure size 432x288 with 1 Axes>"
            ]
          },
          "metadata": {
            "needs_background": "light"
          }
        },
        {
          "output_type": "stream",
          "name": "stdout",
          "text": [
            "bathrooms 6\n"
          ]
        },
        {
          "output_type": "display_data",
          "data": {
            "image/png": "[encoded data removed]",
            "text/plain": [
              "<Figure size 432x288 with 1 Axes>"
            ]
          },
          "metadata": {
            "needs_background": "light"
          }
        },
        {
          "output_type": "stream",
          "name": "stdout",
          "text": [
            "long 121.6\n"
          ]
        },
        {
          "output_type": "display_data",
          "data": {
            "image/png": "[encoded data removed]",
            "text/plain": [
              "<Figure size 432x288 with 1 Axes>"
            ]
          },
          "metadata": {
            "needs_background": "light"
          }
        },
        {
          "output_type": "stream",
          "name": "stdout",
          "text": [
            "sqft_living15 5000\n"
          ]
        },
        {
          "output_type": "display_data",
          "data": {
            "image/png": "[encoded data removed]",
            "text/plain": [
              "<Figure size 432x288 with 1 Axes>"
            ]
          },
          "metadata": {
            "needs_background": "light"
          }
        },
        {
          "output_type": "stream",
          "name": "stdout",
          "text": [
            "log_sqft_lot 5.5\n"
          ]
        },
        {
          "output_type": "display_data",
          "data": {
            "image/png": "[encoded data removed]",
            "text/plain": [
              "<Figure size 432x288 with 1 Axes>"
            ]
          },
          "metadata": {
            "needs_background": "light"
          }
        },
        {
          "output_type": "stream",
          "name": "stdout",
          "text": [
            "log_sqft_lot15 5.5\n"
          ]
        },
        {
          "output_type": "display_data",
          "data": {
            "image/png": "[encoded data removed]",
            "text/plain": [
              "<Figure size 432x288 with 1 Axes>"
            ]
          },
          "metadata": {
            "needs_background": "light"
          }
        }
      ]
    },
    {
      "cell_type": "markdown",
      "source": [
        "# 불필요 컬럼 삭제"
      ],
      "metadata": {
        "id": "IhQTMOnocFgv"
      }
    },
    {
      "cell_type": "code",
      "source": [
        "df.info()"
      ],
      "metadata": {
        "colab": {
          "base_uri": "https://localhost:8080/"
        },
        "id": "yoGgV7sAcOrC",
        "outputId": "87af01c1-54d1-43f9-ccdb-f991ada6b81c"
      },
      "execution_count": 23,
      "outputs": [
        {
          "output_type": "stream",
          "name": "stdout",
          "text": [
            "<class 'pandas.core.frame.DataFrame'>\n",
            "RangeIndex: 21613 entries, 0 to 21612\n",
            "Data columns (total 45 columns):\n",
            " #   Column                     Non-Null Count  Dtype  \n",
            "---  ------                     --------------  -----  \n",
            " 0   price                      21613 non-null  float64\n",
            " 1   bedrooms                   21613 non-null  int64  \n",
            " 2   bathrooms                  21613 non-null  float64\n",
            " 3   sqft_living                21613 non-null  int64  \n",
            " 4   sqft_lot                   21613 non-null  int64  \n",
            " 5   floors                     21613 non-null  float64\n",
            " 6   waterfront                 21613 non-null  int64  \n",
            " 7   view                       21613 non-null  int64  \n",
            " 8   condition                  21613 non-null  int64  \n",
            " 9   grade                      21613 non-null  int64  \n",
            " 10  sqft_above                 21613 non-null  int64  \n",
            " 11  sqft_basement              21613 non-null  int64  \n",
            " 12  yr_built                   21613 non-null  int64  \n",
            " 13  yr_renovated               21613 non-null  int64  \n",
            " 14  zipcode                    21613 non-null  int64  \n",
            " 15  lat                        21613 non-null  float64\n",
            " 16  long                       21613 non-null  float64\n",
            " 17  sqft_living15              21613 non-null  int64  \n",
            " 18  sqft_lot15                 21613 non-null  int64  \n",
            " 19  year_code_0                21613 non-null  uint8  \n",
            " 20  year_code_1                21613 non-null  uint8  \n",
            " 21  month_code_0               21613 non-null  uint8  \n",
            " 22  month_code_1               21613 non-null  uint8  \n",
            " 23  month_code_2               21613 non-null  uint8  \n",
            " 24  month_code_3               21613 non-null  uint8  \n",
            " 25  month_code_4               21613 non-null  uint8  \n",
            " 26  month_code_5               21613 non-null  uint8  \n",
            " 27  month_code_6               21613 non-null  uint8  \n",
            " 28  month_code_7               21613 non-null  uint8  \n",
            " 29  month_code_8               21613 non-null  uint8  \n",
            " 30  month_code_9               21613 non-null  uint8  \n",
            " 31  month_code_10              21613 non-null  uint8  \n",
            " 32  month_code_11              21613 non-null  uint8  \n",
            " 33  log_price                  21613 non-null  float64\n",
            " 34  log_sqft_living            21613 non-null  float64\n",
            " 35  log_sqft_lot               21613 non-null  float64\n",
            " 36  log_sqft_above             21613 non-null  float64\n",
            " 37  log_sqft_basement          21613 non-null  float64\n",
            " 38  log_sqft_lot15             21613 non-null  float64\n",
            " 39  max_limied_bedrooms        21613 non-null  int64  \n",
            " 40  max_limied_bathrooms       21613 non-null  float64\n",
            " 41  max_limied_long            21613 non-null  float64\n",
            " 42  max_limied_sqft_living15   21613 non-null  int64  \n",
            " 43  max_limied_log_sqft_lot    21613 non-null  float64\n",
            " 44  max_limied_log_sqft_lot15  21613 non-null  float64\n",
            "dtypes: float64(15), int64(16), uint8(14)\n",
            "memory usage: 5.4 MB\n"
          ]
        }
      ]
    },
    {
      "cell_type": "code",
      "source": [
        "df.drop(columns=to_be_removed_columns, inplace=True)"
      ],
      "metadata": {
        "id": "Yt5k-9hLTTA_"
      },
      "execution_count": 24,
      "outputs": []
    },
    {
      "cell_type": "code",
      "source": [
        "df.info()"
      ],
      "metadata": {
        "colab": {
          "base_uri": "https://localhost:8080/"
        },
        "id": "O7KtBo0sTS2R",
        "outputId": "1389f393-9b6f-4025-ee0d-a598e4cddb2c"
      },
      "execution_count": 25,
      "outputs": [
        {
          "output_type": "stream",
          "name": "stdout",
          "text": [
            "<class 'pandas.core.frame.DataFrame'>\n",
            "RangeIndex: 21613 entries, 0 to 21612\n",
            "Data columns (total 33 columns):\n",
            " #   Column                     Non-Null Count  Dtype  \n",
            "---  ------                     --------------  -----  \n",
            " 0   floors                     21613 non-null  float64\n",
            " 1   waterfront                 21613 non-null  int64  \n",
            " 2   view                       21613 non-null  int64  \n",
            " 3   condition                  21613 non-null  int64  \n",
            " 4   grade                      21613 non-null  int64  \n",
            " 5   yr_built                   21613 non-null  int64  \n",
            " 6   yr_renovated               21613 non-null  int64  \n",
            " 7   zipcode                    21613 non-null  int64  \n",
            " 8   lat                        21613 non-null  float64\n",
            " 9   year_code_0                21613 non-null  uint8  \n",
            " 10  year_code_1                21613 non-null  uint8  \n",
            " 11  month_code_0               21613 non-null  uint8  \n",
            " 12  month_code_1               21613 non-null  uint8  \n",
            " 13  month_code_2               21613 non-null  uint8  \n",
            " 14  month_code_3               21613 non-null  uint8  \n",
            " 15  month_code_4               21613 non-null  uint8  \n",
            " 16  month_code_5               21613 non-null  uint8  \n",
            " 17  month_code_6               21613 non-null  uint8  \n",
            " 18  month_code_7               21613 non-null  uint8  \n",
            " 19  month_code_8               21613 non-null  uint8  \n",
            " 20  month_code_9               21613 non-null  uint8  \n",
            " 21  month_code_10              21613 non-null  uint8  \n",
            " 22  month_code_11              21613 non-null  uint8  \n",
            " 23  log_price                  21613 non-null  float64\n",
            " 24  log_sqft_living            21613 non-null  float64\n",
            " 25  log_sqft_above             21613 non-null  float64\n",
            " 26  log_sqft_basement          21613 non-null  float64\n",
            " 27  max_limied_bedrooms        21613 non-null  int64  \n",
            " 28  max_limied_bathrooms       21613 non-null  float64\n",
            " 29  max_limied_long            21613 non-null  float64\n",
            " 30  max_limied_sqft_living15   21613 non-null  int64  \n",
            " 31  max_limied_log_sqft_lot    21613 non-null  float64\n",
            " 32  max_limied_log_sqft_lot15  21613 non-null  float64\n",
            "dtypes: float64(10), int64(9), uint8(14)\n",
            "memory usage: 3.4 MB\n"
          ]
        }
      ]
    },
    {
      "cell_type": "markdown",
      "source": [
        "# Shuffle"
      ],
      "metadata": {
        "id": "Gmj3aFPkpBz2"
      }
    },
    {
      "cell_type": "code",
      "source": [
        "df = df.sample(frac=1).reset_index(drop=True)\n",
        "df.head()"
      ],
      "metadata": {
        "colab": {
          "base_uri": "https://localhost:8080/",
          "height": 270
        },
        "id": "mIDBA7wZo75f",
        "outputId": "1f20f0cd-a0e2-4279-87fe-bac6cc2e02bd"
      },
      "execution_count": 26,
      "outputs": [
        {
          "output_type": "execute_result",
          "data": {
            "text/html": [
              "\n",
              "  <div id=\"df-627e44d6-971c-41a6-a115-99cc153c6c5c\">\n",
              "    <div class=\"colab-df-container\">\n",
              "      <div>\n",
              "<style scoped>\n",
              "    .dataframe tbody tr th:only-of-type {\n",
              "        vertical-align: middle;\n",
              "    }\n",
              "\n",
              "    .dataframe tbody tr th {\n",
              "        vertical-align: top;\n",
              "    }\n",
              "\n",
              "    .dataframe thead th {\n",
              "        text-align: right;\n",
              "    }\n",
              "</style>\n",
              "<table border=\"1\" class=\"dataframe\">\n",
              "  <thead>\n",
              "    <tr style=\"text-align: right;\">\n",
              "      <th></th>\n",
              "      <th>floors</th>\n",
              "      <th>waterfront</th>\n",
              "      <th>view</th>\n",
              "      <th>condition</th>\n",
              "      <th>grade</th>\n",
              "      <th>yr_built</th>\n",
              "      <th>yr_renovated</th>\n",
              "      <th>zipcode</th>\n",
              "      <th>lat</th>\n",
              "      <th>year_code_0</th>\n",
              "      <th>year_code_1</th>\n",
              "      <th>month_code_0</th>\n",
              "      <th>month_code_1</th>\n",
              "      <th>month_code_2</th>\n",
              "      <th>month_code_3</th>\n",
              "      <th>month_code_4</th>\n",
              "      <th>month_code_5</th>\n",
              "      <th>month_code_6</th>\n",
              "      <th>month_code_7</th>\n",
              "      <th>month_code_8</th>\n",
              "      <th>month_code_9</th>\n",
              "      <th>month_code_10</th>\n",
              "      <th>month_code_11</th>\n",
              "      <th>log_price</th>\n",
              "      <th>log_sqft_living</th>\n",
              "      <th>log_sqft_above</th>\n",
              "      <th>log_sqft_basement</th>\n",
              "      <th>max_limied_bedrooms</th>\n",
              "      <th>max_limied_bathrooms</th>\n",
              "      <th>max_limied_long</th>\n",
              "      <th>max_limied_sqft_living15</th>\n",
              "      <th>max_limied_log_sqft_lot</th>\n",
              "      <th>max_limied_log_sqft_lot15</th>\n",
              "    </tr>\n",
              "  </thead>\n",
              "  <tbody>\n",
              "    <tr>\n",
              "      <th>0</th>\n",
              "      <td>2.0</td>\n",
              "      <td>0</td>\n",
              "      <td>0</td>\n",
              "      <td>3</td>\n",
              "      <td>8</td>\n",
              "      <td>1999</td>\n",
              "      <td>0</td>\n",
              "      <td>98031</td>\n",
              "      <td>47.4088</td>\n",
              "      <td>1</td>\n",
              "      <td>0</td>\n",
              "      <td>0</td>\n",
              "      <td>0</td>\n",
              "      <td>0</td>\n",
              "      <td>0</td>\n",
              "      <td>0</td>\n",
              "      <td>0</td>\n",
              "      <td>0</td>\n",
              "      <td>0</td>\n",
              "      <td>0</td>\n",
              "      <td>0</td>\n",
              "      <td>1</td>\n",
              "      <td>0</td>\n",
              "      <td>5.469823</td>\n",
              "      <td>3.257918</td>\n",
              "      <td>3.257918</td>\n",
              "      <td>0.000000</td>\n",
              "      <td>4</td>\n",
              "      <td>2.5</td>\n",
              "      <td>-122.192</td>\n",
              "      <td>1850</td>\n",
              "      <td>3.687707</td>\n",
              "      <td>3.699317</td>\n",
              "    </tr>\n",
              "    <tr>\n",
              "      <th>1</th>\n",
              "      <td>1.0</td>\n",
              "      <td>0</td>\n",
              "      <td>0</td>\n",
              "      <td>3</td>\n",
              "      <td>4</td>\n",
              "      <td>1945</td>\n",
              "      <td>0</td>\n",
              "      <td>98106</td>\n",
              "      <td>47.5181</td>\n",
              "      <td>1</td>\n",
              "      <td>0</td>\n",
              "      <td>0</td>\n",
              "      <td>0</td>\n",
              "      <td>0</td>\n",
              "      <td>0</td>\n",
              "      <td>0</td>\n",
              "      <td>0</td>\n",
              "      <td>0</td>\n",
              "      <td>0</td>\n",
              "      <td>0</td>\n",
              "      <td>1</td>\n",
              "      <td>0</td>\n",
              "      <td>0</td>\n",
              "      <td>5.274160</td>\n",
              "      <td>2.741152</td>\n",
              "      <td>2.741152</td>\n",
              "      <td>0.000000</td>\n",
              "      <td>1</td>\n",
              "      <td>1.0</td>\n",
              "      <td>-122.339</td>\n",
              "      <td>1100</td>\n",
              "      <td>4.213411</td>\n",
              "      <td>3.965719</td>\n",
              "    </tr>\n",
              "    <tr>\n",
              "      <th>2</th>\n",
              "      <td>1.0</td>\n",
              "      <td>0</td>\n",
              "      <td>0</td>\n",
              "      <td>3</td>\n",
              "      <td>7</td>\n",
              "      <td>2003</td>\n",
              "      <td>0</td>\n",
              "      <td>98178</td>\n",
              "      <td>47.5065</td>\n",
              "      <td>1</td>\n",
              "      <td>0</td>\n",
              "      <td>0</td>\n",
              "      <td>0</td>\n",
              "      <td>0</td>\n",
              "      <td>0</td>\n",
              "      <td>1</td>\n",
              "      <td>0</td>\n",
              "      <td>0</td>\n",
              "      <td>0</td>\n",
              "      <td>0</td>\n",
              "      <td>0</td>\n",
              "      <td>0</td>\n",
              "      <td>0</td>\n",
              "      <td>5.465459</td>\n",
              "      <td>3.453471</td>\n",
              "      <td>3.233250</td>\n",
              "      <td>3.053463</td>\n",
              "      <td>5</td>\n",
              "      <td>3.0</td>\n",
              "      <td>-122.275</td>\n",
              "      <td>2210</td>\n",
              "      <td>3.857332</td>\n",
              "      <td>4.033464</td>\n",
              "    </tr>\n",
              "    <tr>\n",
              "      <th>3</th>\n",
              "      <td>2.0</td>\n",
              "      <td>0</td>\n",
              "      <td>0</td>\n",
              "      <td>3</td>\n",
              "      <td>8</td>\n",
              "      <td>1987</td>\n",
              "      <td>0</td>\n",
              "      <td>98034</td>\n",
              "      <td>47.7188</td>\n",
              "      <td>1</td>\n",
              "      <td>0</td>\n",
              "      <td>0</td>\n",
              "      <td>0</td>\n",
              "      <td>0</td>\n",
              "      <td>0</td>\n",
              "      <td>0</td>\n",
              "      <td>0</td>\n",
              "      <td>0</td>\n",
              "      <td>0</td>\n",
              "      <td>0</td>\n",
              "      <td>0</td>\n",
              "      <td>1</td>\n",
              "      <td>0</td>\n",
              "      <td>5.619094</td>\n",
              "      <td>3.255514</td>\n",
              "      <td>3.255514</td>\n",
              "      <td>0.000000</td>\n",
              "      <td>3</td>\n",
              "      <td>2.5</td>\n",
              "      <td>-122.177</td>\n",
              "      <td>1650</td>\n",
              "      <td>3.730217</td>\n",
              "      <td>3.779236</td>\n",
              "    </tr>\n",
              "    <tr>\n",
              "      <th>4</th>\n",
              "      <td>1.0</td>\n",
              "      <td>0</td>\n",
              "      <td>0</td>\n",
              "      <td>4</td>\n",
              "      <td>7</td>\n",
              "      <td>1975</td>\n",
              "      <td>0</td>\n",
              "      <td>98038</td>\n",
              "      <td>47.4039</td>\n",
              "      <td>0</td>\n",
              "      <td>1</td>\n",
              "      <td>0</td>\n",
              "      <td>1</td>\n",
              "      <td>0</td>\n",
              "      <td>0</td>\n",
              "      <td>0</td>\n",
              "      <td>0</td>\n",
              "      <td>0</td>\n",
              "      <td>0</td>\n",
              "      <td>0</td>\n",
              "      <td>0</td>\n",
              "      <td>0</td>\n",
              "      <td>0</td>\n",
              "      <td>5.618049</td>\n",
              "      <td>3.344589</td>\n",
              "      <td>3.083144</td>\n",
              "      <td>3.000434</td>\n",
              "      <td>4</td>\n",
              "      <td>2.5</td>\n",
              "      <td>-121.980</td>\n",
              "      <td>2270</td>\n",
              "      <td>5.328398</td>\n",
              "      <td>4.721877</td>\n",
              "    </tr>\n",
              "  </tbody>\n",
              "</table>\n",
              "</div>\n",
              "      <button class=\"colab-df-convert\" onclick=\"convertToInteractive('df-627e44d6-971c-41a6-a115-99cc153c6c5c')\"\n",
              "              title=\"Convert this dataframe to an interactive table.\"\n",
              "              style=\"display:none;\">\n",
              "        \n",
              "  <svg xmlns=\"http://www.w3.org/2000/svg\" height=\"24px\"viewBox=\"0 0 24 24\"\n",
              "       width=\"24px\">\n",
              "    <path d=\"M0 0h24v24H0V0z\" fill=\"none\"/>\n",
              "    <path d=\"M18.56 5.44l.94 2.06.94-2.06 2.06-.94-2.06-.94-.94-2.06-.94 2.06-2.06.94zm-11 1L8.5 8.5l.94-2.06 2.06-.94-2.06-.94L8.5 2.5l-.94 2.06-2.06.94zm10 10l.94 2.06.94-2.06 2.06-.94-2.06-.94-.94-2.06-.94 2.06-2.06.94z\"/><path d=\"M17.41 7.96l-1.37-1.37c-.4-.4-.92-.59-1.43-.59-.52 0-1.04.2-1.43.59L10.3 9.45l-7.72 7.72c-.78.78-.78 2.05 0 2.83L4 21.41c.39.39.9.59 1.41.59.51 0 1.02-.2 1.41-.59l7.78-7.78 2.81-2.81c.8-.78.8-2.07 0-2.86zM5.41 20L4 18.59l7.72-7.72 1.47 1.35L5.41 20z\"/>\n",
              "  </svg>\n",
              "      </button>\n",
              "      \n",
              "  <style>\n",
              "    .colab-df-container {\n",
              "      display:flex;\n",
              "      flex-wrap:wrap;\n",
              "      gap: 12px;\n",
              "    }\n",
              "\n",
              "    .colab-df-convert {\n",
              "      background-color: #E8F0FE;\n",
              "      border: none;\n",
              "      border-radius: 50%;\n",
              "      cursor: pointer;\n",
              "      display: none;\n",
              "      fill: #1967D2;\n",
              "      height: 32px;\n",
              "      padding: 0 0 0 0;\n",
              "      width: 32px;\n",
              "    }\n",
              "\n",
              "    .colab-df-convert:hover {\n",
              "      background-color: #E2EBFA;\n",
              "      box-shadow: 0px 1px 2px rgba(60, 64, 67, 0.3), 0px 1px 3px 1px rgba(60, 64, 67, 0.15);\n",
              "      fill: #174EA6;\n",
              "    }\n",
              "\n",
              "    [theme=dark] .colab-df-convert {\n",
              "      background-color: #3B4455;\n",
              "      fill: #D2E3FC;\n",
              "    }\n",
              "\n",
              "    [theme=dark] .colab-df-convert:hover {\n",
              "      background-color: #434B5C;\n",
              "      box-shadow: 0px 1px 3px 1px rgba(0, 0, 0, 0.15);\n",
              "      filter: drop-shadow(0px 1px 2px rgba(0, 0, 0, 0.3));\n",
              "      fill: #FFFFFF;\n",
              "    }\n",
              "  </style>\n",
              "\n",
              "      <script>\n",
              "        const buttonEl =\n",
              "          document.querySelector('#df-627e44d6-971c-41a6-a115-99cc153c6c5c button.colab-df-convert');\n",
              "        buttonEl.style.display =\n",
              "          google.colab.kernel.accessAllowed ? 'block' : 'none';\n",
              "\n",
              "        async function convertToInteractive(key) {\n",
              "          const element = document.querySelector('#df-627e44d6-971c-41a6-a115-99cc153c6c5c');\n",
              "          const dataTable =\n",
              "            await google.colab.kernel.invokeFunction('convertToInteractive',\n",
              "                                                     [key], {});\n",
              "          if (!dataTable) return;\n",
              "\n",
              "          const docLinkHtml = 'Like what you see? Visit the ' +\n",
              "            '<a target=\"_blank\" href=https://colab.research.google.com/notebooks/data_table.ipynb>data table notebook</a>'\n",
              "            + ' to learn more about interactive tables.';\n",
              "          element.innerHTML = '';\n",
              "          dataTable['output_type'] = 'display_data';\n",
              "          await google.colab.output.renderOutput(dataTable, element);\n",
              "          const docLink = document.createElement('div');\n",
              "          docLink.innerHTML = docLinkHtml;\n",
              "          element.appendChild(docLink);\n",
              "        }\n",
              "      </script>\n",
              "    </div>\n",
              "  </div>\n",
              "  "
            ],
            "text/plain": [
              "   floors  waterfront  ...  max_limied_log_sqft_lot  max_limied_log_sqft_lot15\n",
              "0     2.0           0  ...                 3.687707                   3.699317\n",
              "1     1.0           0  ...                 4.213411                   3.965719\n",
              "2     1.0           0  ...                 3.857332                   4.033464\n",
              "3     2.0           0  ...                 3.730217                   3.779236\n",
              "4     1.0           0  ...                 5.328398                   4.721877\n",
              "\n",
              "[5 rows x 33 columns]"
            ]
          },
          "metadata": {},
          "execution_count": 26
        }
      ]
    },
    {
      "cell_type": "markdown",
      "source": [
        "# numpy로 변환"
      ],
      "metadata": {
        "id": "kKqcpNNDpGgz"
      }
    },
    {
      "cell_type": "code",
      "source": [
        "raw_y = df['log_price'].to_numpy()\n",
        "raw_x = df.drop(columns=['log_price']).to_numpy()\n",
        "\n",
        "print(raw_x.shape)\n",
        "print(raw_y.shape)"
      ],
      "metadata": {
        "colab": {
          "base_uri": "https://localhost:8080/"
        },
        "id": "sjrsEvEbcfo4",
        "outputId": "60947fa8-eb56-4855-fc02-268e6aaf5f00"
      },
      "execution_count": 27,
      "outputs": [
        {
          "output_type": "stream",
          "name": "stdout",
          "text": [
            "(21613, 32)\n",
            "(21613,)\n"
          ]
        }
      ]
    },
    {
      "cell_type": "code",
      "source": [
        "print(raw_x[:2])\n",
        "maxs = np.max(raw_x, axis=0)\n",
        "mins = np.min(raw_x, axis=0)\n",
        "print(maxs)\n",
        "print(mins)"
      ],
      "metadata": {
        "colab": {
          "base_uri": "https://localhost:8080/"
        },
        "id": "HhraT7PEpOgI",
        "outputId": "c85cde62-00d5-4e82-a2aa-b04bca05b7d9"
      },
      "execution_count": 28,
      "outputs": [
        {
          "output_type": "stream",
          "name": "stdout",
          "text": [
            "[[ 2.00000000e+00  0.00000000e+00  0.00000000e+00  3.00000000e+00\n",
            "   8.00000000e+00  1.99900000e+03  0.00000000e+00  9.80310000e+04\n",
            "   4.74088000e+01  1.00000000e+00  0.00000000e+00  0.00000000e+00\n",
            "   0.00000000e+00  0.00000000e+00  0.00000000e+00  0.00000000e+00\n",
            "   0.00000000e+00  0.00000000e+00  0.00000000e+00  0.00000000e+00\n",
            "   0.00000000e+00  1.00000000e+00  0.00000000e+00  3.25791845e+00\n",
            "   3.25791845e+00  0.00000000e+00  4.00000000e+00  2.50000000e+00\n",
            "  -1.22192000e+02  1.85000000e+03  3.68770728e+00  3.69931730e+00]\n",
            " [ 1.00000000e+00  0.00000000e+00  0.00000000e+00  3.00000000e+00\n",
            "   4.00000000e+00  1.94500000e+03  0.00000000e+00  9.81060000e+04\n",
            "   4.75181000e+01  1.00000000e+00  0.00000000e+00  0.00000000e+00\n",
            "   0.00000000e+00  0.00000000e+00  0.00000000e+00  0.00000000e+00\n",
            "   0.00000000e+00  0.00000000e+00  0.00000000e+00  0.00000000e+00\n",
            "   1.00000000e+00  0.00000000e+00  0.00000000e+00  2.74115160e+00\n",
            "   2.74115160e+00  0.00000000e+00  1.00000000e+00  1.00000000e+00\n",
            "  -1.22339000e+02  1.10000000e+03  4.21341149e+00  3.96571897e+00]]\n",
            "[ 3.50000000e+00  1.00000000e+00  4.00000000e+00  5.00000000e+00\n",
            "  1.30000000e+01  2.01500000e+03  2.01500000e+03  9.81990000e+04\n",
            "  4.77776000e+01  1.00000000e+00  1.00000000e+00  1.00000000e+00\n",
            "  1.00000000e+00  1.00000000e+00  1.00000000e+00  1.00000000e+00\n",
            "  1.00000000e+00  1.00000000e+00  1.00000000e+00  1.00000000e+00\n",
            "  1.00000000e+00  1.00000000e+00  1.00000000e+00  4.13165074e+00\n",
            "  3.97363577e+00  3.68313713e+00  1.00000000e+01  6.00000000e+00\n",
            " -1.21315000e+02  5.00000000e+03  5.50000000e+00  5.50000000e+00]\n",
            "[ 1.00000000e+00  0.00000000e+00  0.00000000e+00  1.00000000e+00\n",
            "  1.00000000e+00  1.90000000e+03  0.00000000e+00  9.80010000e+04\n",
            "  4.71559000e+01  0.00000000e+00  0.00000000e+00  0.00000000e+00\n",
            "  0.00000000e+00  0.00000000e+00  0.00000000e+00  0.00000000e+00\n",
            "  0.00000000e+00  0.00000000e+00  0.00000000e+00  0.00000000e+00\n",
            "  0.00000000e+00  0.00000000e+00  0.00000000e+00  2.46389299e+00\n",
            "  2.46389299e+00  0.00000000e+00  0.00000000e+00  0.00000000e+00\n",
            " -1.22519000e+02  3.99000000e+02  2.71683772e+00  2.81424760e+00]\n"
          ]
        }
      ]
    },
    {
      "cell_type": "code",
      "source": [
        "normalized_x = (raw_x - mins) / (maxs - mins)\n",
        "print(normalized_x[:2])"
      ],
      "metadata": {
        "colab": {
          "base_uri": "https://localhost:8080/"
        },
        "id": "qba2ZlkapOdm",
        "outputId": "6a715edb-55ed-4557-9128-e278ea6e7880"
      },
      "execution_count": 29,
      "outputs": [
        {
          "output_type": "stream",
          "name": "stdout",
          "text": [
            "[[0.4        0.         0.         0.5        0.58333333 0.86086957\n",
            "  0.         0.15151515 0.40678784 1.         0.         0.\n",
            "  0.         0.         0.         0.         0.         0.\n",
            "  0.         0.         0.         1.         0.         0.4761036\n",
            "  0.52593426 0.         0.4        0.41666667 0.27159468 0.31536622\n",
            "  0.34883685 0.32954255]\n",
            " [0.         0.         0.         0.5        0.25       0.39130435\n",
            "  0.         0.53030303 0.58259611 1.         0.         0.\n",
            "  0.         0.         0.         0.         0.         0.\n",
            "  0.         0.         1.         0.         0.         0.16624633\n",
            "  0.18364626 0.         0.1        0.16666667 0.14950166 0.15235818\n",
            "  0.53772422 0.42873326]]\n"
          ]
        }
      ]
    },
    {
      "cell_type": "code",
      "source": [
        "y_max = np.max(raw_y)\n",
        "y_min = np.min(raw_y)\n",
        "\n",
        "normalized_y = (raw_y - y_min) / (y_max - y_min)"
      ],
      "metadata": {
        "id": "cjFUs89DdL52"
      },
      "execution_count": 30,
      "outputs": []
    },
    {
      "cell_type": "code",
      "source": [
        "def recover_price(v):\n",
        "    denormalized = v * (y_max - y_min) + y_min\n",
        "    deloged = np.power(10, denormalized) - 1\n",
        "    return deloged.astype(np.int)"
      ],
      "metadata": {
        "id": "afl7QHVhdZWb"
      },
      "execution_count": 31,
      "outputs": []
    },
    {
      "cell_type": "code",
      "source": [
        "x = normalized_x\n",
        "y = normalized_y"
      ],
      "metadata": {
        "id": "cHlT2AGLgBlb"
      },
      "execution_count": 32,
      "outputs": []
    },
    {
      "cell_type": "code",
      "source": [
        "print(np.exp(2))"
      ],
      "metadata": {
        "colab": {
          "base_uri": "https://localhost:8080/"
        },
        "id": "dn4RBSpaiWFK",
        "outputId": "1107e91f-66ef-45ec-ea41-4d7ce6ea77b6"
      },
      "execution_count": 33,
      "outputs": [
        {
          "output_type": "stream",
          "name": "stdout",
          "text": [
            "7.38905609893065\n"
          ]
        }
      ]
    },
    {
      "cell_type": "markdown",
      "source": [
        "# train/test 나누기"
      ],
      "metadata": {
        "id": "Fnem14jPqEcU"
      }
    },
    {
      "cell_type": "code",
      "source": [
        "i = int(len(x)*0.8)\n",
        "train_x, test_x = x[:i], x[i:]\n",
        "train_y, test_y = y[:i], y[i:]\n",
        "\n",
        "print(train_x.shape)\n",
        "print(train_y.shape)\n",
        "print(test_x.shape)\n",
        "print(test_y.shape)"
      ],
      "metadata": {
        "colab": {
          "base_uri": "https://localhost:8080/"
        },
        "id": "kVYYxY6tqDnt",
        "outputId": "5743e3e0-4082-41e6-aa94-0a8e63949ff9"
      },
      "execution_count": 34,
      "outputs": [
        {
          "output_type": "stream",
          "name": "stdout",
          "text": [
            "(17290, 32)\n",
            "(17290,)\n",
            "(4323, 32)\n",
            "(4323,)\n"
          ]
        }
      ]
    },
    {
      "cell_type": "markdown",
      "source": [
        "# 모델 학습"
      ],
      "metadata": {
        "id": "tlRjHnn2qYD1"
      }
    },
    {
      "cell_type": "code",
      "source": [
        "import numpy as np\n",
        "import pandas as pd\n",
        "import matplotlib.pyplot as plt\n",
        "\n",
        "import tensorflow as tf\n",
        "\n",
        "from tensorflow import keras\n",
        "from tensorflow.keras import optimizers\n",
        "from tensorflow.keras.layers import Dense\n",
        "\n",
        "model = keras.Sequential()\n",
        "model.add(Dense(10, activation='relu', input_shape=(train_x.shape[-1],)))\n",
        "model.add(Dense(10, activation='relu'))\n",
        "model.add(Dense(1))\n",
        "\n",
        "model.compile(optimizer=\"Adam\", loss=\"mse\", metrics=[\"mape\"])\n",
        "model.summary()\n",
        "\n",
        "from tensorflow.keras.callbacks import EarlyStopping\n",
        "early_stopping = EarlyStopping(\n",
        "    monitor='val_loss',\n",
        "    verbose=1,\n",
        "    patience=50) \n",
        "history = model.fit(train_x, train_y, epochs=500, batch_size=128, validation_split=0.1, callbacks=[early_stopping])\n",
        "\n",
        "plt.plot(history.history['loss'])\n",
        "plt.plot(history.history['val_loss'])\n",
        "plt.show()\n",
        "\n",
        "\n",
        "loss, mape = model.evaluate(test_x, test_y)\n",
        "print(\"loss=\", loss)\n",
        "print(\"mape=\", mape)\n",
        "\n",
        "y_ = model.predict(test_x)\n",
        "\n",
        "plt.scatter(test_y, y_)\n",
        "plt.show()"
      ],
      "metadata": {
        "colab": {
          "base_uri": "https://localhost:8080/",
          "height": 1000
        },
        "id": "QG28nHGxqZry",
        "outputId": "ba1a0d24-8984-448b-b727-b443b440bc2d"
      },
      "execution_count": 35,
      "outputs": [
        {
          "output_type": "stream",
          "name": "stdout",
          "text": [
            "Model: \"sequential\"\n",
            "_________________________________________________________________\n",
            " Layer (type)                Output Shape              Param #   \n",
            "=================================================================\n",
            " dense (Dense)               (None, 10)                330       \n",
            "                                                                 \n",
            " dense_1 (Dense)             (None, 10)                110       \n",
            "                                                                 \n",
            " dense_2 (Dense)             (None, 1)                 11        \n",
            "                                                                 \n",
            "=================================================================\n",
            "Total params: 451\n",
            "Trainable params: 451\n",
            "Non-trainable params: 0\n",
            "_________________________________________________________________\n",
            "Epoch 1/500\n",
            "122/122 [==============================] - 1s 4ms/step - loss: 0.0421 - mape: 17933.1270 - val_loss: 0.0104 - val_mape: 23.4443\n",
            "Epoch 2/500\n",
            "122/122 [==============================] - 0s 3ms/step - loss: 0.0083 - mape: 18642.8203 - val_loss: 0.0066 - val_mape: 18.3172\n",
            "Epoch 3/500\n",
            "122/122 [==============================] - 0s 3ms/step - loss: 0.0055 - mape: 18580.9922 - val_loss: 0.0048 - val_mape: 15.7620\n",
            "Epoch 4/500\n",
            "122/122 [==============================] - 0s 3ms/step - loss: 0.0043 - mape: 17087.3887 - val_loss: 0.0042 - val_mape: 14.7623\n",
            "Epoch 5/500\n",
            "122/122 [==============================] - 0s 3ms/step - loss: 0.0039 - mape: 14787.8145 - val_loss: 0.0038 - val_mape: 13.9114\n",
            "Epoch 6/500\n",
            "122/122 [==============================] - 0s 3ms/step - loss: 0.0036 - mape: 13834.5381 - val_loss: 0.0037 - val_mape: 13.4799\n",
            "Epoch 7/500\n",
            "122/122 [==============================] - 0s 3ms/step - loss: 0.0035 - mape: 12878.7910 - val_loss: 0.0035 - val_mape: 13.4543\n",
            "Epoch 8/500\n",
            "122/122 [==============================] - 0s 3ms/step - loss: 0.0033 - mape: 12423.7002 - val_loss: 0.0035 - val_mape: 13.1002\n",
            "Epoch 9/500\n",
            "122/122 [==============================] - 0s 3ms/step - loss: 0.0033 - mape: 11221.3516 - val_loss: 0.0034 - val_mape: 13.1364\n",
            "Epoch 10/500\n",
            "122/122 [==============================] - 0s 3ms/step - loss: 0.0032 - mape: 11051.8799 - val_loss: 0.0033 - val_mape: 12.8431\n",
            "Epoch 11/500\n",
            "122/122 [==============================] - 0s 3ms/step - loss: 0.0031 - mape: 10480.1182 - val_loss: 0.0033 - val_mape: 13.0529\n",
            "Epoch 12/500\n",
            "122/122 [==============================] - 0s 3ms/step - loss: 0.0031 - mape: 10177.5615 - val_loss: 0.0032 - val_mape: 12.6513\n",
            "Epoch 13/500\n",
            "122/122 [==============================] - 0s 3ms/step - loss: 0.0030 - mape: 10196.3428 - val_loss: 0.0031 - val_mape: 12.4139\n",
            "Epoch 14/500\n",
            "122/122 [==============================] - 0s 3ms/step - loss: 0.0030 - mape: 9718.8779 - val_loss: 0.0031 - val_mape: 12.3480\n",
            "Epoch 15/500\n",
            "122/122 [==============================] - 0s 3ms/step - loss: 0.0030 - mape: 9369.0205 - val_loss: 0.0030 - val_mape: 12.3357\n",
            "Epoch 16/500\n",
            "122/122 [==============================] - 0s 3ms/step - loss: 0.0029 - mape: 9604.5605 - val_loss: 0.0030 - val_mape: 12.1886\n",
            "Epoch 17/500\n",
            "122/122 [==============================] - 0s 3ms/step - loss: 0.0029 - mape: 9039.2832 - val_loss: 0.0030 - val_mape: 12.1812\n",
            "Epoch 18/500\n",
            "122/122 [==============================] - 0s 3ms/step - loss: 0.0029 - mape: 9303.7490 - val_loss: 0.0030 - val_mape: 12.5368\n",
            "Epoch 19/500\n",
            "122/122 [==============================] - 0s 3ms/step - loss: 0.0029 - mape: 8926.6641 - val_loss: 0.0030 - val_mape: 12.1409\n",
            "Epoch 20/500\n",
            "122/122 [==============================] - 0s 3ms/step - loss: 0.0028 - mape: 8923.6387 - val_loss: 0.0029 - val_mape: 12.2180\n",
            "Epoch 21/500\n",
            "122/122 [==============================] - 0s 3ms/step - loss: 0.0028 - mape: 8630.8809 - val_loss: 0.0029 - val_mape: 12.0503\n",
            "Epoch 22/500\n",
            "122/122 [==============================] - 0s 3ms/step - loss: 0.0028 - mape: 8381.9727 - val_loss: 0.0029 - val_mape: 11.8672\n",
            "Epoch 23/500\n",
            "122/122 [==============================] - 0s 3ms/step - loss: 0.0028 - mape: 8997.0420 - val_loss: 0.0030 - val_mape: 12.5083\n",
            "Epoch 24/500\n",
            "122/122 [==============================] - 0s 3ms/step - loss: 0.0027 - mape: 7884.7998 - val_loss: 0.0028 - val_mape: 11.8384\n",
            "Epoch 25/500\n",
            "122/122 [==============================] - 0s 3ms/step - loss: 0.0027 - mape: 7929.5605 - val_loss: 0.0028 - val_mape: 12.0219\n",
            "Epoch 26/500\n",
            "122/122 [==============================] - 0s 3ms/step - loss: 0.0027 - mape: 8075.4863 - val_loss: 0.0028 - val_mape: 11.8289\n",
            "Epoch 27/500\n",
            "122/122 [==============================] - 0s 3ms/step - loss: 0.0026 - mape: 7635.9814 - val_loss: 0.0027 - val_mape: 11.6749\n",
            "Epoch 28/500\n",
            "122/122 [==============================] - 0s 3ms/step - loss: 0.0026 - mape: 8565.5010 - val_loss: 0.0027 - val_mape: 11.4214\n",
            "Epoch 29/500\n",
            "122/122 [==============================] - 0s 3ms/step - loss: 0.0026 - mape: 8318.0742 - val_loss: 0.0026 - val_mape: 11.2531\n",
            "Epoch 30/500\n",
            "122/122 [==============================] - 0s 3ms/step - loss: 0.0025 - mape: 8373.5518 - val_loss: 0.0025 - val_mape: 10.9477\n",
            "Epoch 31/500\n",
            "122/122 [==============================] - 0s 3ms/step - loss: 0.0023 - mape: 7644.6797 - val_loss: 0.0023 - val_mape: 10.7658\n",
            "Epoch 32/500\n",
            "122/122 [==============================] - 0s 3ms/step - loss: 0.0023 - mape: 8067.4995 - val_loss: 0.0022 - val_mape: 10.6317\n",
            "Epoch 33/500\n",
            "122/122 [==============================] - 0s 3ms/step - loss: 0.0022 - mape: 7384.7549 - val_loss: 0.0022 - val_mape: 10.5182\n",
            "Epoch 34/500\n",
            "122/122 [==============================] - 0s 3ms/step - loss: 0.0022 - mape: 7121.8174 - val_loss: 0.0022 - val_mape: 10.6939\n",
            "Epoch 35/500\n",
            "122/122 [==============================] - 0s 3ms/step - loss: 0.0021 - mape: 7026.4775 - val_loss: 0.0021 - val_mape: 10.3947\n",
            "Epoch 36/500\n",
            "122/122 [==============================] - 0s 3ms/step - loss: 0.0021 - mape: 6535.1978 - val_loss: 0.0021 - val_mape: 10.5597\n",
            "Epoch 37/500\n",
            "122/122 [==============================] - 0s 3ms/step - loss: 0.0021 - mape: 6778.2085 - val_loss: 0.0023 - val_mape: 11.2493\n",
            "Epoch 38/500\n",
            "122/122 [==============================] - 0s 3ms/step - loss: 0.0021 - mape: 6696.2896 - val_loss: 0.0022 - val_mape: 10.6717\n",
            "Epoch 39/500\n",
            "122/122 [==============================] - 0s 3ms/step - loss: 0.0021 - mape: 6284.2656 - val_loss: 0.0022 - val_mape: 10.8768\n",
            "Epoch 40/500\n",
            "122/122 [==============================] - 0s 3ms/step - loss: 0.0021 - mape: 6174.2041 - val_loss: 0.0021 - val_mape: 10.3189\n",
            "Epoch 41/500\n",
            "122/122 [==============================] - 0s 3ms/step - loss: 0.0021 - mape: 5998.2969 - val_loss: 0.0021 - val_mape: 10.5709\n",
            "Epoch 42/500\n",
            "122/122 [==============================] - 0s 3ms/step - loss: 0.0021 - mape: 5202.2554 - val_loss: 0.0022 - val_mape: 10.3959\n",
            "Epoch 43/500\n",
            "122/122 [==============================] - 0s 3ms/step - loss: 0.0021 - mape: 5174.8306 - val_loss: 0.0021 - val_mape: 10.5636\n",
            "Epoch 44/500\n",
            "122/122 [==============================] - 0s 3ms/step - loss: 0.0021 - mape: 5843.9790 - val_loss: 0.0021 - val_mape: 10.3677\n",
            "Epoch 45/500\n",
            "122/122 [==============================] - 0s 3ms/step - loss: 0.0021 - mape: 5401.5049 - val_loss: 0.0021 - val_mape: 10.2726\n",
            "Epoch 46/500\n",
            "122/122 [==============================] - 0s 3ms/step - loss: 0.0021 - mape: 4996.7505 - val_loss: 0.0021 - val_mape: 10.6537\n",
            "Epoch 47/500\n",
            "122/122 [==============================] - 0s 3ms/step - loss: 0.0021 - mape: 6181.3750 - val_loss: 0.0021 - val_mape: 10.4905\n",
            "Epoch 48/500\n",
            "122/122 [==============================] - 0s 3ms/step - loss: 0.0020 - mape: 5378.4019 - val_loss: 0.0020 - val_mape: 10.0947\n",
            "Epoch 49/500\n",
            "122/122 [==============================] - 0s 3ms/step - loss: 0.0020 - mape: 5908.7524 - val_loss: 0.0020 - val_mape: 10.1240\n",
            "Epoch 50/500\n",
            "122/122 [==============================] - 0s 3ms/step - loss: 0.0019 - mape: 6920.8086 - val_loss: 0.0020 - val_mape: 10.5110\n",
            "Epoch 51/500\n",
            "122/122 [==============================] - 0s 3ms/step - loss: 0.0019 - mape: 6786.1265 - val_loss: 0.0020 - val_mape: 10.2576\n",
            "Epoch 52/500\n",
            "122/122 [==============================] - 0s 3ms/step - loss: 0.0019 - mape: 7226.2612 - val_loss: 0.0019 - val_mape: 9.8232\n",
            "Epoch 53/500\n",
            "122/122 [==============================] - 0s 3ms/step - loss: 0.0019 - mape: 6587.8257 - val_loss: 0.0019 - val_mape: 10.0370\n",
            "Epoch 54/500\n",
            "122/122 [==============================] - 0s 3ms/step - loss: 0.0018 - mape: 7235.7021 - val_loss: 0.0019 - val_mape: 9.9500\n",
            "Epoch 55/500\n",
            "122/122 [==============================] - 0s 3ms/step - loss: 0.0018 - mape: 7384.3408 - val_loss: 0.0019 - val_mape: 9.7615\n",
            "Epoch 56/500\n",
            "122/122 [==============================] - 0s 3ms/step - loss: 0.0018 - mape: 7403.8989 - val_loss: 0.0019 - val_mape: 9.8709\n",
            "Epoch 57/500\n",
            "122/122 [==============================] - 0s 3ms/step - loss: 0.0018 - mape: 7145.5513 - val_loss: 0.0020 - val_mape: 10.5755\n",
            "Epoch 58/500\n",
            "122/122 [==============================] - 0s 3ms/step - loss: 0.0018 - mape: 8455.0820 - val_loss: 0.0018 - val_mape: 9.7106\n",
            "Epoch 59/500\n",
            "122/122 [==============================] - 0s 3ms/step - loss: 0.0018 - mape: 8451.4648 - val_loss: 0.0018 - val_mape: 9.6389\n",
            "Epoch 60/500\n",
            "122/122 [==============================] - 0s 3ms/step - loss: 0.0018 - mape: 8167.5513 - val_loss: 0.0020 - val_mape: 10.4298\n",
            "Epoch 61/500\n",
            "122/122 [==============================] - 0s 3ms/step - loss: 0.0018 - mape: 9046.3799 - val_loss: 0.0019 - val_mape: 9.6557\n",
            "Epoch 62/500\n",
            "122/122 [==============================] - 0s 3ms/step - loss: 0.0017 - mape: 7952.7280 - val_loss: 0.0018 - val_mape: 9.5270\n",
            "Epoch 63/500\n",
            "122/122 [==============================] - 0s 3ms/step - loss: 0.0018 - mape: 8477.0615 - val_loss: 0.0019 - val_mape: 9.7970\n",
            "Epoch 64/500\n",
            "122/122 [==============================] - 0s 3ms/step - loss: 0.0017 - mape: 8841.5400 - val_loss: 0.0018 - val_mape: 9.4014\n",
            "Epoch 65/500\n",
            "122/122 [==============================] - 0s 3ms/step - loss: 0.0017 - mape: 9254.8604 - val_loss: 0.0018 - val_mape: 9.4432\n",
            "Epoch 66/500\n",
            "122/122 [==============================] - 0s 3ms/step - loss: 0.0017 - mape: 8522.9424 - val_loss: 0.0018 - val_mape: 9.8085\n",
            "Epoch 67/500\n",
            "122/122 [==============================] - 0s 3ms/step - loss: 0.0017 - mape: 9006.0283 - val_loss: 0.0018 - val_mape: 9.5872\n",
            "Epoch 68/500\n",
            "122/122 [==============================] - 0s 3ms/step - loss: 0.0017 - mape: 8822.2217 - val_loss: 0.0017 - val_mape: 9.4056\n",
            "Epoch 69/500\n",
            "122/122 [==============================] - 0s 3ms/step - loss: 0.0017 - mape: 9642.6348 - val_loss: 0.0019 - val_mape: 9.4937\n",
            "Epoch 70/500\n",
            "122/122 [==============================] - 0s 3ms/step - loss: 0.0017 - mape: 8460.0186 - val_loss: 0.0018 - val_mape: 9.5029\n",
            "Epoch 71/500\n",
            "122/122 [==============================] - 0s 3ms/step - loss: 0.0017 - mape: 8849.9258 - val_loss: 0.0017 - val_mape: 9.3182\n",
            "Epoch 72/500\n",
            "122/122 [==============================] - 0s 3ms/step - loss: 0.0017 - mape: 9049.8408 - val_loss: 0.0017 - val_mape: 9.3056\n",
            "Epoch 73/500\n",
            "122/122 [==============================] - 0s 3ms/step - loss: 0.0017 - mape: 9258.7178 - val_loss: 0.0017 - val_mape: 9.3263\n",
            "Epoch 74/500\n",
            "122/122 [==============================] - 0s 3ms/step - loss: 0.0017 - mape: 8928.3809 - val_loss: 0.0018 - val_mape: 9.3617\n",
            "Epoch 75/500\n",
            "122/122 [==============================] - 0s 3ms/step - loss: 0.0017 - mape: 9506.4570 - val_loss: 0.0018 - val_mape: 9.3920\n",
            "Epoch 76/500\n",
            "122/122 [==============================] - 0s 3ms/step - loss: 0.0017 - mape: 9523.4463 - val_loss: 0.0017 - val_mape: 9.2605\n",
            "Epoch 77/500\n",
            "122/122 [==============================] - 0s 3ms/step - loss: 0.0017 - mape: 9525.5811 - val_loss: 0.0017 - val_mape: 9.1851\n",
            "Epoch 78/500\n",
            "122/122 [==============================] - 0s 3ms/step - loss: 0.0017 - mape: 9045.1240 - val_loss: 0.0017 - val_mape: 9.2622\n",
            "Epoch 79/500\n",
            "122/122 [==============================] - 0s 3ms/step - loss: 0.0017 - mape: 9376.8525 - val_loss: 0.0018 - val_mape: 9.6316\n",
            "Epoch 80/500\n",
            "122/122 [==============================] - 0s 3ms/step - loss: 0.0017 - mape: 9413.1553 - val_loss: 0.0018 - val_mape: 9.3000\n",
            "Epoch 81/500\n",
            "122/122 [==============================] - 0s 3ms/step - loss: 0.0017 - mape: 10145.3984 - val_loss: 0.0017 - val_mape: 9.2364\n",
            "Epoch 82/500\n",
            "122/122 [==============================] - 0s 3ms/step - loss: 0.0017 - mape: 9438.0547 - val_loss: 0.0017 - val_mape: 9.3799\n",
            "Epoch 83/500\n",
            "122/122 [==============================] - 0s 3ms/step - loss: 0.0017 - mape: 9706.8613 - val_loss: 0.0017 - val_mape: 9.4060\n",
            "Epoch 84/500\n",
            "122/122 [==============================] - 0s 3ms/step - loss: 0.0017 - mape: 9179.2988 - val_loss: 0.0017 - val_mape: 9.2804\n",
            "Epoch 85/500\n",
            "122/122 [==============================] - 0s 3ms/step - loss: 0.0017 - mape: 9605.4229 - val_loss: 0.0018 - val_mape: 9.4552\n",
            "Epoch 86/500\n",
            "122/122 [==============================] - 0s 3ms/step - loss: 0.0017 - mape: 9680.8633 - val_loss: 0.0017 - val_mape: 9.2020\n",
            "Epoch 87/500\n",
            "122/122 [==============================] - 0s 3ms/step - loss: 0.0017 - mape: 9531.3652 - val_loss: 0.0017 - val_mape: 9.2637\n",
            "Epoch 88/500\n",
            "122/122 [==============================] - 0s 3ms/step - loss: 0.0017 - mape: 9216.6338 - val_loss: 0.0017 - val_mape: 9.1581\n",
            "Epoch 89/500\n",
            "122/122 [==============================] - 0s 3ms/step - loss: 0.0017 - mape: 9698.6367 - val_loss: 0.0017 - val_mape: 9.2989\n",
            "Epoch 90/500\n",
            "122/122 [==============================] - 0s 3ms/step - loss: 0.0017 - mape: 9276.2793 - val_loss: 0.0017 - val_mape: 9.3010\n",
            "Epoch 91/500\n",
            "122/122 [==============================] - 0s 3ms/step - loss: 0.0017 - mape: 9716.7588 - val_loss: 0.0018 - val_mape: 9.5014\n",
            "Epoch 92/500\n",
            "122/122 [==============================] - 0s 3ms/step - loss: 0.0017 - mape: 9644.5752 - val_loss: 0.0018 - val_mape: 9.2577\n",
            "Epoch 93/500\n",
            "122/122 [==============================] - 0s 3ms/step - loss: 0.0017 - mape: 9571.6250 - val_loss: 0.0017 - val_mape: 9.3360\n",
            "Epoch 94/500\n",
            "122/122 [==============================] - 0s 3ms/step - loss: 0.0017 - mape: 9150.9307 - val_loss: 0.0017 - val_mape: 9.2640\n",
            "Epoch 95/500\n",
            "122/122 [==============================] - 0s 3ms/step - loss: 0.0017 - mape: 9437.7021 - val_loss: 0.0017 - val_mape: 9.2620\n",
            "Epoch 96/500\n",
            "122/122 [==============================] - 0s 3ms/step - loss: 0.0017 - mape: 9588.4170 - val_loss: 0.0018 - val_mape: 9.2628\n",
            "Epoch 97/500\n",
            "122/122 [==============================] - 0s 3ms/step - loss: 0.0017 - mape: 9649.3115 - val_loss: 0.0018 - val_mape: 9.8002\n",
            "Epoch 98/500\n",
            "122/122 [==============================] - 0s 3ms/step - loss: 0.0017 - mape: 9716.5859 - val_loss: 0.0018 - val_mape: 9.4989\n",
            "Epoch 99/500\n",
            "122/122 [==============================] - 0s 3ms/step - loss: 0.0016 - mape: 9917.4697 - val_loss: 0.0017 - val_mape: 9.3881\n",
            "Epoch 100/500\n",
            "122/122 [==============================] - 0s 3ms/step - loss: 0.0017 - mape: 9934.4980 - val_loss: 0.0017 - val_mape: 9.4046\n",
            "Epoch 101/500\n",
            "122/122 [==============================] - 0s 3ms/step - loss: 0.0017 - mape: 9667.8174 - val_loss: 0.0017 - val_mape: 9.2128\n",
            "Epoch 102/500\n",
            "122/122 [==============================] - 0s 3ms/step - loss: 0.0017 - mape: 9753.6816 - val_loss: 0.0017 - val_mape: 9.1978\n",
            "Epoch 103/500\n",
            "122/122 [==============================] - 0s 3ms/step - loss: 0.0017 - mape: 9875.0781 - val_loss: 0.0017 - val_mape: 9.3392\n",
            "Epoch 104/500\n",
            "122/122 [==============================] - 0s 3ms/step - loss: 0.0016 - mape: 9525.3428 - val_loss: 0.0017 - val_mape: 9.2120\n",
            "Epoch 105/500\n",
            "122/122 [==============================] - 0s 3ms/step - loss: 0.0017 - mape: 9976.8047 - val_loss: 0.0017 - val_mape: 9.4205\n",
            "Epoch 106/500\n",
            "122/122 [==============================] - 0s 3ms/step - loss: 0.0017 - mape: 9645.3564 - val_loss: 0.0017 - val_mape: 9.2550\n",
            "Epoch 107/500\n",
            "122/122 [==============================] - 0s 3ms/step - loss: 0.0016 - mape: 9669.9131 - val_loss: 0.0017 - val_mape: 9.1805\n",
            "Epoch 108/500\n",
            "122/122 [==============================] - 0s 3ms/step - loss: 0.0016 - mape: 9883.0107 - val_loss: 0.0017 - val_mape: 9.3841\n",
            "Epoch 109/500\n",
            "122/122 [==============================] - 0s 3ms/step - loss: 0.0016 - mape: 9722.3398 - val_loss: 0.0018 - val_mape: 9.5326\n",
            "Epoch 110/500\n",
            "122/122 [==============================] - 0s 3ms/step - loss: 0.0017 - mape: 10142.5068 - val_loss: 0.0017 - val_mape: 9.1568\n",
            "Epoch 111/500\n",
            "122/122 [==============================] - 0s 3ms/step - loss: 0.0017 - mape: 9870.6367 - val_loss: 0.0017 - val_mape: 9.2378\n",
            "Epoch 112/500\n",
            "122/122 [==============================] - 0s 3ms/step - loss: 0.0017 - mape: 9699.1230 - val_loss: 0.0017 - val_mape: 9.3320\n",
            "Epoch 113/500\n",
            "122/122 [==============================] - 0s 3ms/step - loss: 0.0016 - mape: 10025.3281 - val_loss: 0.0017 - val_mape: 9.2217\n",
            "Epoch 114/500\n",
            "122/122 [==============================] - 0s 3ms/step - loss: 0.0016 - mape: 9744.6719 - val_loss: 0.0018 - val_mape: 9.5705\n",
            "Epoch 115/500\n",
            "122/122 [==============================] - 0s 3ms/step - loss: 0.0017 - mape: 9339.1650 - val_loss: 0.0017 - val_mape: 9.1558\n",
            "Epoch 116/500\n",
            "122/122 [==============================] - 0s 3ms/step - loss: 0.0016 - mape: 9635.7939 - val_loss: 0.0019 - val_mape: 9.4067\n",
            "Epoch 117/500\n",
            "122/122 [==============================] - 0s 3ms/step - loss: 0.0017 - mape: 10167.6875 - val_loss: 0.0017 - val_mape: 9.1524\n",
            "Epoch 118/500\n",
            "122/122 [==============================] - 0s 3ms/step - loss: 0.0016 - mape: 9276.4600 - val_loss: 0.0017 - val_mape: 9.3774\n",
            "Epoch 119/500\n",
            "122/122 [==============================] - 0s 3ms/step - loss: 0.0016 - mape: 9306.1338 - val_loss: 0.0018 - val_mape: 9.2188\n",
            "Epoch 120/500\n",
            "122/122 [==============================] - 0s 3ms/step - loss: 0.0016 - mape: 9321.8643 - val_loss: 0.0017 - val_mape: 9.1410\n",
            "Epoch 121/500\n",
            "122/122 [==============================] - 0s 3ms/step - loss: 0.0016 - mape: 9450.9004 - val_loss: 0.0017 - val_mape: 9.3382\n",
            "Epoch 122/500\n",
            "122/122 [==============================] - 0s 3ms/step - loss: 0.0017 - mape: 9839.0361 - val_loss: 0.0017 - val_mape: 9.2177\n",
            "Epoch 123/500\n",
            "122/122 [==============================] - 0s 3ms/step - loss: 0.0016 - mape: 9493.3516 - val_loss: 0.0017 - val_mape: 9.1434\n",
            "Epoch 124/500\n",
            "122/122 [==============================] - 0s 3ms/step - loss: 0.0016 - mape: 9914.6553 - val_loss: 0.0017 - val_mape: 9.2505\n",
            "Epoch 125/500\n",
            "122/122 [==============================] - 0s 3ms/step - loss: 0.0016 - mape: 9461.2051 - val_loss: 0.0017 - val_mape: 9.1775\n",
            "Epoch 126/500\n",
            "122/122 [==============================] - 0s 3ms/step - loss: 0.0016 - mape: 9509.2627 - val_loss: 0.0017 - val_mape: 9.1816\n",
            "Epoch 127/500\n",
            "122/122 [==============================] - 0s 3ms/step - loss: 0.0016 - mape: 9997.4902 - val_loss: 0.0018 - val_mape: 9.1634\n",
            "Epoch 128/500\n",
            "122/122 [==============================] - 0s 3ms/step - loss: 0.0017 - mape: 9497.2500 - val_loss: 0.0017 - val_mape: 9.2686\n",
            "Epoch 129/500\n",
            "122/122 [==============================] - 0s 3ms/step - loss: 0.0016 - mape: 9903.6123 - val_loss: 0.0017 - val_mape: 9.1114\n",
            "Epoch 130/500\n",
            "122/122 [==============================] - 0s 3ms/step - loss: 0.0016 - mape: 9757.0342 - val_loss: 0.0018 - val_mape: 9.5335\n",
            "Epoch 131/500\n",
            "122/122 [==============================] - 0s 3ms/step - loss: 0.0016 - mape: 9390.1816 - val_loss: 0.0017 - val_mape: 9.1508\n",
            "Epoch 132/500\n",
            "122/122 [==============================] - 0s 3ms/step - loss: 0.0016 - mape: 9767.8555 - val_loss: 0.0017 - val_mape: 9.2324\n",
            "Epoch 133/500\n",
            "122/122 [==============================] - 0s 3ms/step - loss: 0.0016 - mape: 9704.0098 - val_loss: 0.0017 - val_mape: 9.0996\n",
            "Epoch 134/500\n",
            "122/122 [==============================] - 0s 3ms/step - loss: 0.0016 - mape: 9691.7061 - val_loss: 0.0016 - val_mape: 9.0052\n",
            "Epoch 135/500\n",
            "122/122 [==============================] - 0s 3ms/step - loss: 0.0016 - mape: 9519.7920 - val_loss: 0.0017 - val_mape: 9.1082\n",
            "Epoch 136/500\n",
            "122/122 [==============================] - 0s 3ms/step - loss: 0.0016 - mape: 9309.1748 - val_loss: 0.0017 - val_mape: 9.1574\n",
            "Epoch 137/500\n",
            "122/122 [==============================] - 0s 3ms/step - loss: 0.0016 - mape: 9456.1875 - val_loss: 0.0017 - val_mape: 9.0807\n",
            "Epoch 138/500\n",
            "122/122 [==============================] - 0s 3ms/step - loss: 0.0016 - mape: 9665.9766 - val_loss: 0.0017 - val_mape: 9.1758\n",
            "Epoch 139/500\n",
            "122/122 [==============================] - 0s 3ms/step - loss: 0.0016 - mape: 9313.2061 - val_loss: 0.0017 - val_mape: 9.2699\n",
            "Epoch 140/500\n",
            "122/122 [==============================] - 0s 3ms/step - loss: 0.0016 - mape: 9471.4326 - val_loss: 0.0017 - val_mape: 9.0945\n",
            "Epoch 141/500\n",
            "122/122 [==============================] - 0s 3ms/step - loss: 0.0016 - mape: 9214.4639 - val_loss: 0.0017 - val_mape: 9.1663\n",
            "Epoch 142/500\n",
            "122/122 [==============================] - 0s 3ms/step - loss: 0.0016 - mape: 9450.6543 - val_loss: 0.0017 - val_mape: 9.1346\n",
            "Epoch 143/500\n",
            "122/122 [==============================] - 0s 3ms/step - loss: 0.0016 - mape: 9267.0469 - val_loss: 0.0017 - val_mape: 9.1919\n",
            "Epoch 144/500\n",
            "122/122 [==============================] - 0s 3ms/step - loss: 0.0016 - mape: 9131.9639 - val_loss: 0.0018 - val_mape: 9.3450\n",
            "Epoch 145/500\n",
            "122/122 [==============================] - 0s 3ms/step - loss: 0.0016 - mape: 9963.2900 - val_loss: 0.0017 - val_mape: 9.0890\n",
            "Epoch 146/500\n",
            "122/122 [==============================] - 0s 3ms/step - loss: 0.0016 - mape: 9454.0059 - val_loss: 0.0017 - val_mape: 9.0561\n",
            "Epoch 147/500\n",
            "122/122 [==============================] - 0s 3ms/step - loss: 0.0016 - mape: 9374.6787 - val_loss: 0.0017 - val_mape: 9.0219\n",
            "Epoch 148/500\n",
            "122/122 [==============================] - 0s 3ms/step - loss: 0.0016 - mape: 9311.2432 - val_loss: 0.0017 - val_mape: 9.0300\n",
            "Epoch 149/500\n",
            "122/122 [==============================] - 0s 3ms/step - loss: 0.0016 - mape: 9798.8301 - val_loss: 0.0017 - val_mape: 9.0311\n",
            "Epoch 150/500\n",
            "122/122 [==============================] - 0s 3ms/step - loss: 0.0016 - mape: 9268.2373 - val_loss: 0.0017 - val_mape: 9.1157\n",
            "Epoch 151/500\n",
            "122/122 [==============================] - 0s 3ms/step - loss: 0.0016 - mape: 9544.3223 - val_loss: 0.0017 - val_mape: 9.5099\n",
            "Epoch 152/500\n",
            "122/122 [==============================] - 0s 3ms/step - loss: 0.0016 - mape: 9593.0410 - val_loss: 0.0017 - val_mape: 9.1011\n",
            "Epoch 153/500\n",
            "122/122 [==============================] - 0s 3ms/step - loss: 0.0016 - mape: 9536.7520 - val_loss: 0.0017 - val_mape: 9.1060\n",
            "Epoch 154/500\n",
            "122/122 [==============================] - 0s 3ms/step - loss: 0.0016 - mape: 9604.3555 - val_loss: 0.0017 - val_mape: 9.1121\n",
            "Epoch 155/500\n",
            "122/122 [==============================] - 0s 3ms/step - loss: 0.0016 - mape: 9767.2451 - val_loss: 0.0017 - val_mape: 9.1283\n",
            "Epoch 156/500\n",
            "122/122 [==============================] - 0s 3ms/step - loss: 0.0016 - mape: 9238.7227 - val_loss: 0.0017 - val_mape: 9.0266\n",
            "Epoch 157/500\n",
            "122/122 [==============================] - 0s 3ms/step - loss: 0.0016 - mape: 10047.3926 - val_loss: 0.0016 - val_mape: 9.1004\n",
            "Epoch 158/500\n",
            "122/122 [==============================] - 0s 3ms/step - loss: 0.0016 - mape: 9535.7471 - val_loss: 0.0017 - val_mape: 9.3149\n",
            "Epoch 159/500\n",
            "122/122 [==============================] - 0s 3ms/step - loss: 0.0016 - mape: 9832.4619 - val_loss: 0.0017 - val_mape: 9.1903\n",
            "Epoch 160/500\n",
            "122/122 [==============================] - 0s 3ms/step - loss: 0.0016 - mape: 8877.4658 - val_loss: 0.0017 - val_mape: 9.0378\n",
            "Epoch 161/500\n",
            "122/122 [==============================] - 0s 3ms/step - loss: 0.0016 - mape: 9313.7344 - val_loss: 0.0017 - val_mape: 9.1627\n",
            "Epoch 162/500\n",
            "122/122 [==============================] - 0s 3ms/step - loss: 0.0016 - mape: 9520.5889 - val_loss: 0.0017 - val_mape: 9.2623\n",
            "Epoch 163/500\n",
            "122/122 [==============================] - 0s 3ms/step - loss: 0.0016 - mape: 9583.3203 - val_loss: 0.0017 - val_mape: 9.0865\n",
            "Epoch 164/500\n",
            "122/122 [==============================] - 0s 3ms/step - loss: 0.0016 - mape: 9505.0430 - val_loss: 0.0017 - val_mape: 9.0409\n",
            "Epoch 165/500\n",
            "122/122 [==============================] - 0s 4ms/step - loss: 0.0016 - mape: 9157.5098 - val_loss: 0.0017 - val_mape: 9.4085\n",
            "Epoch 166/500\n",
            "122/122 [==============================] - 0s 3ms/step - loss: 0.0016 - mape: 9532.3613 - val_loss: 0.0017 - val_mape: 9.0526\n",
            "Epoch 167/500\n",
            "122/122 [==============================] - 0s 3ms/step - loss: 0.0016 - mape: 9475.4043 - val_loss: 0.0017 - val_mape: 9.2241\n",
            "Epoch 168/500\n",
            "122/122 [==============================] - 0s 3ms/step - loss: 0.0016 - mape: 9668.4023 - val_loss: 0.0017 - val_mape: 9.1694\n",
            "Epoch 169/500\n",
            "122/122 [==============================] - 0s 3ms/step - loss: 0.0016 - mape: 9509.6465 - val_loss: 0.0017 - val_mape: 9.0068\n",
            "Epoch 170/500\n",
            "122/122 [==============================] - 0s 3ms/step - loss: 0.0016 - mape: 9447.9951 - val_loss: 0.0017 - val_mape: 9.0227\n",
            "Epoch 171/500\n",
            "122/122 [==============================] - 0s 3ms/step - loss: 0.0016 - mape: 9374.6729 - val_loss: 0.0017 - val_mape: 9.3789\n",
            "Epoch 172/500\n",
            "122/122 [==============================] - 0s 3ms/step - loss: 0.0016 - mape: 9526.6699 - val_loss: 0.0017 - val_mape: 9.0264\n",
            "Epoch 173/500\n",
            "122/122 [==============================] - 0s 3ms/step - loss: 0.0016 - mape: 9649.6279 - val_loss: 0.0018 - val_mape: 9.2176\n",
            "Epoch 174/500\n",
            "122/122 [==============================] - 0s 3ms/step - loss: 0.0016 - mape: 9441.2139 - val_loss: 0.0017 - val_mape: 9.3758\n",
            "Epoch 175/500\n",
            "122/122 [==============================] - 0s 3ms/step - loss: 0.0016 - mape: 9622.3623 - val_loss: 0.0017 - val_mape: 9.3942\n",
            "Epoch 176/500\n",
            "122/122 [==============================] - 0s 3ms/step - loss: 0.0016 - mape: 9621.4219 - val_loss: 0.0017 - val_mape: 9.2328\n",
            "Epoch 177/500\n",
            "122/122 [==============================] - 0s 3ms/step - loss: 0.0016 - mape: 9519.2256 - val_loss: 0.0017 - val_mape: 9.0900\n",
            "Epoch 178/500\n",
            "122/122 [==============================] - 0s 3ms/step - loss: 0.0016 - mape: 9253.9238 - val_loss: 0.0017 - val_mape: 9.2727\n",
            "Epoch 179/500\n",
            "122/122 [==============================] - 0s 3ms/step - loss: 0.0016 - mape: 9868.8633 - val_loss: 0.0017 - val_mape: 9.4274\n",
            "Epoch 180/500\n",
            "122/122 [==============================] - 0s 3ms/step - loss: 0.0016 - mape: 9553.7988 - val_loss: 0.0017 - val_mape: 9.2182\n",
            "Epoch 181/500\n",
            "122/122 [==============================] - 0s 3ms/step - loss: 0.0016 - mape: 9435.4756 - val_loss: 0.0016 - val_mape: 9.0423\n",
            "Epoch 182/500\n",
            "122/122 [==============================] - 0s 3ms/step - loss: 0.0016 - mape: 9730.4834 - val_loss: 0.0017 - val_mape: 9.0469\n",
            "Epoch 183/500\n",
            "122/122 [==============================] - 0s 3ms/step - loss: 0.0016 - mape: 9535.9600 - val_loss: 0.0017 - val_mape: 9.2631\n",
            "Epoch 184/500\n",
            "122/122 [==============================] - 0s 3ms/step - loss: 0.0016 - mape: 9791.5879 - val_loss: 0.0017 - val_mape: 9.0754\n",
            "Epoch 185/500\n",
            "122/122 [==============================] - 0s 3ms/step - loss: 0.0016 - mape: 9675.6094 - val_loss: 0.0017 - val_mape: 9.0190\n",
            "Epoch 186/500\n",
            "122/122 [==============================] - 0s 3ms/step - loss: 0.0016 - mape: 9682.4502 - val_loss: 0.0017 - val_mape: 9.1158\n",
            "Epoch 187/500\n",
            "122/122 [==============================] - 0s 3ms/step - loss: 0.0016 - mape: 9844.3027 - val_loss: 0.0017 - val_mape: 9.1241\n",
            "Epoch 188/500\n",
            "122/122 [==============================] - 0s 3ms/step - loss: 0.0016 - mape: 9814.8594 - val_loss: 0.0017 - val_mape: 8.9837\n",
            "Epoch 189/500\n",
            "122/122 [==============================] - 0s 3ms/step - loss: 0.0016 - mape: 9869.0557 - val_loss: 0.0017 - val_mape: 9.0853\n",
            "Epoch 190/500\n",
            "122/122 [==============================] - 0s 3ms/step - loss: 0.0016 - mape: 9407.1113 - val_loss: 0.0017 - val_mape: 9.2294\n",
            "Epoch 191/500\n",
            "122/122 [==============================] - 0s 3ms/step - loss: 0.0016 - mape: 9671.8779 - val_loss: 0.0018 - val_mape: 9.2223\n",
            "Epoch 192/500\n",
            "122/122 [==============================] - 0s 3ms/step - loss: 0.0016 - mape: 9629.2158 - val_loss: 0.0018 - val_mape: 9.4867\n",
            "Epoch 193/500\n",
            "122/122 [==============================] - 0s 3ms/step - loss: 0.0016 - mape: 9541.7197 - val_loss: 0.0017 - val_mape: 9.1270\n",
            "Epoch 194/500\n",
            "122/122 [==============================] - 0s 3ms/step - loss: 0.0016 - mape: 9791.4170 - val_loss: 0.0017 - val_mape: 9.0200\n",
            "Epoch 195/500\n",
            "122/122 [==============================] - 0s 3ms/step - loss: 0.0016 - mape: 9660.6523 - val_loss: 0.0017 - val_mape: 9.0405\n",
            "Epoch 196/500\n",
            "122/122 [==============================] - 0s 3ms/step - loss: 0.0016 - mape: 9652.4727 - val_loss: 0.0017 - val_mape: 9.3230\n",
            "Epoch 197/500\n",
            "122/122 [==============================] - 0s 3ms/step - loss: 0.0016 - mape: 9757.3457 - val_loss: 0.0017 - val_mape: 9.1042\n",
            "Epoch 198/500\n",
            "122/122 [==============================] - 0s 3ms/step - loss: 0.0016 - mape: 9896.2881 - val_loss: 0.0018 - val_mape: 9.2053\n",
            "Epoch 199/500\n",
            "122/122 [==============================] - 0s 3ms/step - loss: 0.0016 - mape: 9781.5928 - val_loss: 0.0016 - val_mape: 9.0233\n",
            "Epoch 200/500\n",
            "122/122 [==============================] - 0s 3ms/step - loss: 0.0016 - mape: 9031.3320 - val_loss: 0.0018 - val_mape: 9.5599\n",
            "Epoch 201/500\n",
            "122/122 [==============================] - 0s 3ms/step - loss: 0.0016 - mape: 9707.4131 - val_loss: 0.0018 - val_mape: 9.3478\n",
            "Epoch 202/500\n",
            "122/122 [==============================] - 0s 4ms/step - loss: 0.0016 - mape: 9773.2441 - val_loss: 0.0017 - val_mape: 9.2627\n",
            "Epoch 203/500\n",
            "122/122 [==============================] - 0s 3ms/step - loss: 0.0016 - mape: 10480.7949 - val_loss: 0.0017 - val_mape: 9.0388\n",
            "Epoch 204/500\n",
            "122/122 [==============================] - 0s 3ms/step - loss: 0.0016 - mape: 9532.4775 - val_loss: 0.0017 - val_mape: 9.0801\n",
            "Epoch 205/500\n",
            "122/122 [==============================] - 0s 4ms/step - loss: 0.0016 - mape: 9430.7529 - val_loss: 0.0017 - val_mape: 9.1010\n",
            "Epoch 206/500\n",
            "122/122 [==============================] - 0s 3ms/step - loss: 0.0016 - mape: 9426.7373 - val_loss: 0.0017 - val_mape: 9.0351\n",
            "Epoch 207/500\n",
            "122/122 [==============================] - 0s 3ms/step - loss: 0.0016 - mape: 9560.6748 - val_loss: 0.0017 - val_mape: 9.0670\n",
            "Epoch 208/500\n",
            "122/122 [==============================] - 0s 3ms/step - loss: 0.0016 - mape: 9322.2861 - val_loss: 0.0017 - val_mape: 9.0838\n",
            "Epoch 209/500\n",
            "122/122 [==============================] - 0s 3ms/step - loss: 0.0016 - mape: 9886.7666 - val_loss: 0.0018 - val_mape: 9.5623\n",
            "Epoch 210/500\n",
            "122/122 [==============================] - 0s 3ms/step - loss: 0.0016 - mape: 9379.8682 - val_loss: 0.0017 - val_mape: 9.0532\n",
            "Epoch 211/500\n",
            "122/122 [==============================] - 0s 3ms/step - loss: 0.0016 - mape: 9687.8037 - val_loss: 0.0017 - val_mape: 9.0140\n",
            "Epoch 212/500\n",
            "122/122 [==============================] - 0s 3ms/step - loss: 0.0016 - mape: 9846.3457 - val_loss: 0.0017 - val_mape: 9.1039\n",
            "Epoch 213/500\n",
            "122/122 [==============================] - 0s 3ms/step - loss: 0.0016 - mape: 9925.9326 - val_loss: 0.0017 - val_mape: 9.2627\n",
            "Epoch 214/500\n",
            "122/122 [==============================] - 0s 3ms/step - loss: 0.0016 - mape: 10058.6689 - val_loss: 0.0017 - val_mape: 8.9774\n",
            "Epoch 215/500\n",
            "122/122 [==============================] - 0s 3ms/step - loss: 0.0016 - mape: 9397.2510 - val_loss: 0.0017 - val_mape: 8.9834\n",
            "Epoch 216/500\n",
            "122/122 [==============================] - 0s 3ms/step - loss: 0.0016 - mape: 9471.9727 - val_loss: 0.0017 - val_mape: 9.1560\n",
            "Epoch 217/500\n",
            "122/122 [==============================] - 0s 3ms/step - loss: 0.0016 - mape: 9270.1953 - val_loss: 0.0017 - val_mape: 9.2431\n",
            "Epoch 218/500\n",
            "122/122 [==============================] - 0s 3ms/step - loss: 0.0016 - mape: 9601.5234 - val_loss: 0.0017 - val_mape: 9.0197\n",
            "Epoch 219/500\n",
            "122/122 [==============================] - 0s 3ms/step - loss: 0.0016 - mape: 9675.4053 - val_loss: 0.0017 - val_mape: 9.2223\n",
            "Epoch 220/500\n",
            "122/122 [==============================] - 0s 3ms/step - loss: 0.0016 - mape: 9908.9111 - val_loss: 0.0017 - val_mape: 8.9748\n",
            "Epoch 221/500\n",
            "122/122 [==============================] - 0s 3ms/step - loss: 0.0016 - mape: 9782.1650 - val_loss: 0.0017 - val_mape: 9.3108\n",
            "Epoch 222/500\n",
            "122/122 [==============================] - 0s 3ms/step - loss: 0.0016 - mape: 9420.6152 - val_loss: 0.0017 - val_mape: 9.0479\n",
            "Epoch 223/500\n",
            "122/122 [==============================] - 0s 3ms/step - loss: 0.0016 - mape: 9375.7090 - val_loss: 0.0016 - val_mape: 8.9634\n",
            "Epoch 224/500\n",
            "122/122 [==============================] - 0s 3ms/step - loss: 0.0016 - mape: 9195.2715 - val_loss: 0.0017 - val_mape: 9.0247\n",
            "Epoch 225/500\n",
            "122/122 [==============================] - 0s 3ms/step - loss: 0.0016 - mape: 9521.5381 - val_loss: 0.0017 - val_mape: 9.4361\n",
            "Epoch 226/500\n",
            "122/122 [==============================] - 0s 3ms/step - loss: 0.0016 - mape: 9361.9902 - val_loss: 0.0017 - val_mape: 9.0280\n",
            "Epoch 227/500\n",
            "122/122 [==============================] - 0s 3ms/step - loss: 0.0016 - mape: 9685.1113 - val_loss: 0.0017 - val_mape: 9.1287\n",
            "Epoch 228/500\n",
            "122/122 [==============================] - 0s 3ms/step - loss: 0.0016 - mape: 9594.9082 - val_loss: 0.0016 - val_mape: 8.9652\n",
            "Epoch 229/500\n",
            "122/122 [==============================] - 0s 3ms/step - loss: 0.0016 - mape: 9706.3779 - val_loss: 0.0017 - val_mape: 9.2221\n",
            "Epoch 230/500\n",
            "122/122 [==============================] - 0s 3ms/step - loss: 0.0016 - mape: 9140.7637 - val_loss: 0.0017 - val_mape: 9.0135\n",
            "Epoch 231/500\n",
            "122/122 [==============================] - 0s 3ms/step - loss: 0.0016 - mape: 10246.1582 - val_loss: 0.0018 - val_mape: 9.5244\n",
            "Epoch 232/500\n",
            "122/122 [==============================] - 0s 3ms/step - loss: 0.0016 - mape: 9835.0703 - val_loss: 0.0017 - val_mape: 8.9336\n",
            "Epoch 233/500\n",
            "122/122 [==============================] - 0s 3ms/step - loss: 0.0016 - mape: 9843.5137 - val_loss: 0.0017 - val_mape: 9.0200\n",
            "Epoch 234/500\n",
            "122/122 [==============================] - 0s 3ms/step - loss: 0.0016 - mape: 9379.5039 - val_loss: 0.0017 - val_mape: 8.9767\n",
            "Epoch 235/500\n",
            "122/122 [==============================] - 0s 3ms/step - loss: 0.0016 - mape: 9755.8486 - val_loss: 0.0017 - val_mape: 9.0380\n",
            "Epoch 236/500\n",
            "122/122 [==============================] - 0s 3ms/step - loss: 0.0016 - mape: 8859.8252 - val_loss: 0.0017 - val_mape: 9.0183\n",
            "Epoch 237/500\n",
            "122/122 [==============================] - 0s 3ms/step - loss: 0.0016 - mape: 9369.6826 - val_loss: 0.0017 - val_mape: 9.0354\n",
            "Epoch 238/500\n",
            "122/122 [==============================] - 0s 3ms/step - loss: 0.0016 - mape: 9393.2480 - val_loss: 0.0017 - val_mape: 8.9983\n",
            "Epoch 239/500\n",
            "122/122 [==============================] - 0s 3ms/step - loss: 0.0016 - mape: 9558.0820 - val_loss: 0.0017 - val_mape: 9.2807\n",
            "Epoch 240/500\n",
            "122/122 [==============================] - 0s 4ms/step - loss: 0.0016 - mape: 9469.0889 - val_loss: 0.0017 - val_mape: 9.1047\n",
            "Epoch 241/500\n",
            "122/122 [==============================] - 0s 3ms/step - loss: 0.0016 - mape: 9239.7402 - val_loss: 0.0017 - val_mape: 9.0877\n",
            "Epoch 242/500\n",
            "122/122 [==============================] - 0s 3ms/step - loss: 0.0016 - mape: 9753.4668 - val_loss: 0.0017 - val_mape: 9.0053\n",
            "Epoch 243/500\n",
            "122/122 [==============================] - 0s 3ms/step - loss: 0.0016 - mape: 9426.6465 - val_loss: 0.0017 - val_mape: 9.1862\n",
            "Epoch 244/500\n",
            "122/122 [==============================] - 0s 3ms/step - loss: 0.0016 - mape: 10261.6211 - val_loss: 0.0017 - val_mape: 9.0905\n",
            "Epoch 245/500\n",
            "122/122 [==============================] - 0s 3ms/step - loss: 0.0016 - mape: 9198.3486 - val_loss: 0.0017 - val_mape: 9.1756\n",
            "Epoch 246/500\n",
            "122/122 [==============================] - 0s 3ms/step - loss: 0.0016 - mape: 9789.3252 - val_loss: 0.0017 - val_mape: 9.0240\n",
            "Epoch 247/500\n",
            "122/122 [==============================] - 0s 3ms/step - loss: 0.0016 - mape: 9307.8271 - val_loss: 0.0017 - val_mape: 8.9814\n",
            "Epoch 248/500\n",
            "122/122 [==============================] - 0s 3ms/step - loss: 0.0016 - mape: 9745.5508 - val_loss: 0.0017 - val_mape: 9.2965\n",
            "Epoch 249/500\n",
            "122/122 [==============================] - 0s 3ms/step - loss: 0.0016 - mape: 9540.1963 - val_loss: 0.0017 - val_mape: 9.0759\n",
            "Epoch 00249: early stopping\n"
          ]
        },
        {
          "output_type": "display_data",
          "data": {
            "image/png": "[encoded data removed]",
            "text/plain": [
              "<Figure size 432x288 with 1 Axes>"
            ]
          },
          "metadata": {
            "needs_background": "light"
          }
        },
        {
          "output_type": "stream",
          "name": "stdout",
          "text": [
            "136/136 [==============================] - 0s 2ms/step - loss: 0.0016 - mape: 9.6931\n",
            "loss= 0.0016294880770146847\n",
            "mape= 9.69306468963623\n"
          ]
        },
        {
          "output_type": "display_data",
          "data": {
            "image/png": "[encoded data removed]",
            "text/plain": [
              "<Figure size 432x288 with 1 Axes>"
            ]
          },
          "metadata": {
            "needs_background": "light"
          }
        }
      ]
    },
    {
      "cell_type": "code",
      "source": [
        "plt.plot(history.history['loss'][10:])\n",
        "plt.plot(history.history['val_loss'][10:])\n",
        "plt.show()"
      ],
      "metadata": {
        "colab": {
          "base_uri": "https://localhost:8080/",
          "height": 265
        },
        "id": "fQ-8G9P1smH3",
        "outputId": "651b2c06-0f1c-462f-9330-5d1fe531ab11"
      },
      "execution_count": 36,
      "outputs": [
        {
          "output_type": "display_data",
          "data": {
            "image/png": "[encoded data removed]",
            "text/plain": [
              "<Figure size 432x288 with 1 Axes>"
            ]
          },
          "metadata": {
            "needs_background": "light"
          }
        }
      ]
    },
    {
      "cell_type": "code",
      "source": [
        "y_ = model.predict(test_x).flatten()\n",
        "\n",
        "predicted_price = recover_price(y_)\n",
        "true_price = recover_price(test_y)\n",
        "\n",
        "print(true_price[:5])\n",
        "print(predicted_price[:5])"
      ],
      "metadata": {
        "colab": {
          "base_uri": "https://localhost:8080/"
        },
        "id": "k4WLrh3dqtg-",
        "outputId": "c15ed497-3084-4f39-9437-7c8481ad81d6"
      },
      "execution_count": 37,
      "outputs": [
        {
          "output_type": "stream",
          "name": "stdout",
          "text": [
            "[320000 674599 940000 246950 372500]\n",
            "[306685 634932 870308 353711 375157]\n"
          ]
        }
      ]
    },
    {
      "cell_type": "code",
      "source": [
        ""
      ],
      "metadata": {
        "id": "QDN4kCkDjOWo"
      },
      "execution_count": 37,
      "outputs": []
    }
  ]
}