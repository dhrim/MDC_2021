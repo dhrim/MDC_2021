{
  "nbformat": 4,
  "nbformat_minor": 0,
  "metadata": {
    "colab": {
      "name": "financial_data_classify_house_price.ipynb",
      "provenance": [],
      "collapsed_sections": [],
      "toc_visible": true
    },
    "kernelspec": {
      "name": "python3",
      "display_name": "Python 3"
    },
    "language_info": {
      "name": "python"
    },
    "accelerator": "GPU"
  },
  "cells": [
    {
      "cell_type": "markdown",
      "source": [
        "data from https://www.kaggle.com/harlfoxem/housesalesprediction\n"
      ],
      "metadata": {
        "id": "ohP561iSdS78"
      }
    },
    {
      "cell_type": "code",
      "source": [
        "import warnings\n",
        "warnings.simplefilter(action='ignore', category=FutureWarning)"
      ],
      "metadata": {
        "id": "eEDoD_i7XWmE"
      },
      "execution_count": 1,
      "outputs": []
    },
    {
      "cell_type": "markdown",
      "source": [
        "# 데이터 준비"
      ],
      "metadata": {
        "id": "xIEVVEF1frW-"
      }
    },
    {
      "cell_type": "code",
      "source": [
        "!rm -rf kc_house_data.csv\n",
        "!wget https://github.com/dhrim/deep_learning_data/raw/master/kc_house_data.csv"
      ],
      "metadata": {
        "colab": {
          "base_uri": "https://localhost:8080/"
        },
        "id": "QnAkuvXzqICx",
        "outputId": "bcd87ff1-c30e-4828-bef6-967b83412cdc"
      },
      "execution_count": 2,
      "outputs": [
        {
          "output_type": "stream",
          "name": "stdout",
          "text": [
            "--2022-01-19 01:45:12--  https://github.com/dhrim/deep_learning_data/raw/master/kc_house_data.csv\n",
            "Resolving github.com (github.com)... 13.114.40.48\n",
            "Connecting to github.com (github.com)|13.114.40.48|:443... connected.\n",
            "HTTP request sent, awaiting response... 302 Found\n",
            "Location: https://raw.githubusercontent.com/dhrim/deep_learning_data/master/kc_house_data.csv [following]\n",
            "--2022-01-19 01:45:13--  https://raw.githubusercontent.com/dhrim/deep_learning_data/master/kc_house_data.csv\n",
            "Resolving raw.githubusercontent.com (raw.githubusercontent.com)... 185.199.108.133, 185.199.109.133, 185.199.110.133, ...\n",
            "Connecting to raw.githubusercontent.com (raw.githubusercontent.com)|185.199.108.133|:443... connected.\n",
            "HTTP request sent, awaiting response... 200 OK\n",
            "Length: 2515206 (2.4M) [text/plain]\n",
            "Saving to: ‘kc_house_data.csv’\n",
            "\n",
            "kc_house_data.csv   100%[===================>]   2.40M  --.-KB/s    in 0.08s   \n",
            "\n",
            "2022-01-19 01:45:13 (31.0 MB/s) - ‘kc_house_data.csv’ saved [2515206/2515206]\n",
            "\n"
          ]
        }
      ]
    },
    {
      "cell_type": "code",
      "source": [
        "!head kc_house_data.csv"
      ],
      "metadata": {
        "id": "xTKvGPC7A2ab",
        "outputId": "8263f65d-8e0f-41d9-f733-798cc0540693",
        "colab": {
          "base_uri": "https://localhost:8080/"
        }
      },
      "execution_count": 3,
      "outputs": [
        {
          "output_type": "stream",
          "name": "stdout",
          "text": [
            "id,date,price,bedrooms,bathrooms,sqft_living,sqft_lot,floors,waterfront,view,condition,grade,sqft_above,sqft_basement,yr_built,yr_renovated,zipcode,lat,long,sqft_living15,sqft_lot15\n",
            "\"7129300520\",\"20141013T000000\",221900,3,1,1180,5650,\"1\",0,0,3,7,1180,0,1955,0,\"98178\",47.5112,-122.257,1340,5650\n",
            "\"6414100192\",\"20141209T000000\",538000,3,2.25,2570,7242,\"2\",0,0,3,7,2170,400,1951,1991,\"98125\",47.721,-122.319,1690,7639\n",
            "\"5631500400\",\"20150225T000000\",180000,2,1,770,10000,\"1\",0,0,3,6,770,0,1933,0,\"98028\",47.7379,-122.233,2720,8062\n",
            "\"2487200875\",\"20141209T000000\",604000,4,3,1960,5000,\"1\",0,0,5,7,1050,910,1965,0,\"98136\",47.5208,-122.393,1360,5000\n",
            "\"1954400510\",\"20150218T000000\",510000,3,2,1680,8080,\"1\",0,0,3,8,1680,0,1987,0,\"98074\",47.6168,-122.045,1800,7503\n",
            "\"7237550310\",\"20140512T000000\",1.225e+006,4,4.5,5420,101930,\"1\",0,0,3,11,3890,1530,2001,0,\"98053\",47.6561,-122.005,4760,101930\n",
            "\"1321400060\",\"20140627T000000\",257500,3,2.25,1715,6819,\"2\",0,0,3,7,1715,0,1995,0,\"98003\",47.3097,-122.327,2238,6819\n",
            "\"2008000270\",\"20150115T000000\",291850,3,1.5,1060,9711,\"1\",0,0,3,7,1060,0,1963,0,\"98198\",47.4095,-122.315,1650,9711\n",
            "\"2414600126\",\"20150415T000000\",229500,3,1,1780,7470,\"1\",0,0,3,7,1050,730,1960,0,\"98146\",47.5123,-122.337,1780,8113\n"
          ]
        }
      ]
    },
    {
      "cell_type": "markdown",
      "source": [
        "# 파라매터 설정"
      ],
      "metadata": {
        "id": "37eayrO3y-3K"
      }
    },
    {
      "cell_type": "code",
      "source": [
        "BATCH_SIZE = 32"
      ],
      "metadata": {
        "id": "F2iE0M7Hy6Q6"
      },
      "execution_count": null,
      "outputs": []
    },
    {
      "cell_type": "markdown",
      "source": [
        "# 데이터 로딩"
      ],
      "metadata": {
        "id": "Zu_4OtD_ftsY"
      }
    },
    {
      "cell_type": "code",
      "source": [
        "import numpy as np\n",
        "import pandas as pd\n",
        "import matplotlib.pyplot as plt"
      ],
      "metadata": {
        "id": "JRjPtpGXdW0L"
      },
      "execution_count": 4,
      "outputs": []
    },
    {
      "cell_type": "code",
      "source": [
        "df = pd.read_csv(\"kc_house_data.csv\")\n",
        "df.head()"
      ],
      "metadata": {
        "colab": {
          "base_uri": "https://localhost:8080/",
          "height": 270
        },
        "id": "g4lWKXiCdcP8",
        "outputId": "91bfb7d9-e934-4698-954d-66e45b6dad85"
      },
      "execution_count": 5,
      "outputs": [
        {
          "output_type": "execute_result",
          "data": {
            "text/html": [
              "\n",
              "  <div id=\"df-37f170d4-ae59-49d8-8381-aa3d91f9849e\">\n",
              "    <div class=\"colab-df-container\">\n",
              "      <div>\n",
              "<style scoped>\n",
              "    .dataframe tbody tr th:only-of-type {\n",
              "        vertical-align: middle;\n",
              "    }\n",
              "\n",
              "    .dataframe tbody tr th {\n",
              "        vertical-align: top;\n",
              "    }\n",
              "\n",
              "    .dataframe thead th {\n",
              "        text-align: right;\n",
              "    }\n",
              "</style>\n",
              "<table border=\"1\" class=\"dataframe\">\n",
              "  <thead>\n",
              "    <tr style=\"text-align: right;\">\n",
              "      <th></th>\n",
              "      <th>id</th>\n",
              "      <th>date</th>\n",
              "      <th>price</th>\n",
              "      <th>bedrooms</th>\n",
              "      <th>bathrooms</th>\n",
              "      <th>sqft_living</th>\n",
              "      <th>sqft_lot</th>\n",
              "      <th>floors</th>\n",
              "      <th>waterfront</th>\n",
              "      <th>view</th>\n",
              "      <th>condition</th>\n",
              "      <th>grade</th>\n",
              "      <th>sqft_above</th>\n",
              "      <th>sqft_basement</th>\n",
              "      <th>yr_built</th>\n",
              "      <th>yr_renovated</th>\n",
              "      <th>zipcode</th>\n",
              "      <th>lat</th>\n",
              "      <th>long</th>\n",
              "      <th>sqft_living15</th>\n",
              "      <th>sqft_lot15</th>\n",
              "    </tr>\n",
              "  </thead>\n",
              "  <tbody>\n",
              "    <tr>\n",
              "      <th>0</th>\n",
              "      <td>7129300520</td>\n",
              "      <td>20141013T000000</td>\n",
              "      <td>221900.0</td>\n",
              "      <td>3</td>\n",
              "      <td>1.00</td>\n",
              "      <td>1180</td>\n",
              "      <td>5650</td>\n",
              "      <td>1.0</td>\n",
              "      <td>0</td>\n",
              "      <td>0</td>\n",
              "      <td>3</td>\n",
              "      <td>7</td>\n",
              "      <td>1180</td>\n",
              "      <td>0</td>\n",
              "      <td>1955</td>\n",
              "      <td>0</td>\n",
              "      <td>98178</td>\n",
              "      <td>47.5112</td>\n",
              "      <td>-122.257</td>\n",
              "      <td>1340</td>\n",
              "      <td>5650</td>\n",
              "    </tr>\n",
              "    <tr>\n",
              "      <th>1</th>\n",
              "      <td>6414100192</td>\n",
              "      <td>20141209T000000</td>\n",
              "      <td>538000.0</td>\n",
              "      <td>3</td>\n",
              "      <td>2.25</td>\n",
              "      <td>2570</td>\n",
              "      <td>7242</td>\n",
              "      <td>2.0</td>\n",
              "      <td>0</td>\n",
              "      <td>0</td>\n",
              "      <td>3</td>\n",
              "      <td>7</td>\n",
              "      <td>2170</td>\n",
              "      <td>400</td>\n",
              "      <td>1951</td>\n",
              "      <td>1991</td>\n",
              "      <td>98125</td>\n",
              "      <td>47.7210</td>\n",
              "      <td>-122.319</td>\n",
              "      <td>1690</td>\n",
              "      <td>7639</td>\n",
              "    </tr>\n",
              "    <tr>\n",
              "      <th>2</th>\n",
              "      <td>5631500400</td>\n",
              "      <td>20150225T000000</td>\n",
              "      <td>180000.0</td>\n",
              "      <td>2</td>\n",
              "      <td>1.00</td>\n",
              "      <td>770</td>\n",
              "      <td>10000</td>\n",
              "      <td>1.0</td>\n",
              "      <td>0</td>\n",
              "      <td>0</td>\n",
              "      <td>3</td>\n",
              "      <td>6</td>\n",
              "      <td>770</td>\n",
              "      <td>0</td>\n",
              "      <td>1933</td>\n",
              "      <td>0</td>\n",
              "      <td>98028</td>\n",
              "      <td>47.7379</td>\n",
              "      <td>-122.233</td>\n",
              "      <td>2720</td>\n",
              "      <td>8062</td>\n",
              "    </tr>\n",
              "    <tr>\n",
              "      <th>3</th>\n",
              "      <td>2487200875</td>\n",
              "      <td>20141209T000000</td>\n",
              "      <td>604000.0</td>\n",
              "      <td>4</td>\n",
              "      <td>3.00</td>\n",
              "      <td>1960</td>\n",
              "      <td>5000</td>\n",
              "      <td>1.0</td>\n",
              "      <td>0</td>\n",
              "      <td>0</td>\n",
              "      <td>5</td>\n",
              "      <td>7</td>\n",
              "      <td>1050</td>\n",
              "      <td>910</td>\n",
              "      <td>1965</td>\n",
              "      <td>0</td>\n",
              "      <td>98136</td>\n",
              "      <td>47.5208</td>\n",
              "      <td>-122.393</td>\n",
              "      <td>1360</td>\n",
              "      <td>5000</td>\n",
              "    </tr>\n",
              "    <tr>\n",
              "      <th>4</th>\n",
              "      <td>1954400510</td>\n",
              "      <td>20150218T000000</td>\n",
              "      <td>510000.0</td>\n",
              "      <td>3</td>\n",
              "      <td>2.00</td>\n",
              "      <td>1680</td>\n",
              "      <td>8080</td>\n",
              "      <td>1.0</td>\n",
              "      <td>0</td>\n",
              "      <td>0</td>\n",
              "      <td>3</td>\n",
              "      <td>8</td>\n",
              "      <td>1680</td>\n",
              "      <td>0</td>\n",
              "      <td>1987</td>\n",
              "      <td>0</td>\n",
              "      <td>98074</td>\n",
              "      <td>47.6168</td>\n",
              "      <td>-122.045</td>\n",
              "      <td>1800</td>\n",
              "      <td>7503</td>\n",
              "    </tr>\n",
              "  </tbody>\n",
              "</table>\n",
              "</div>\n",
              "      <button class=\"colab-df-convert\" onclick=\"convertToInteractive('df-37f170d4-ae59-49d8-8381-aa3d91f9849e')\"\n",
              "              title=\"Convert this dataframe to an interactive table.\"\n",
              "              style=\"display:none;\">\n",
              "        \n",
              "  <svg xmlns=\"http://www.w3.org/2000/svg\" height=\"24px\"viewBox=\"0 0 24 24\"\n",
              "       width=\"24px\">\n",
              "    <path d=\"M0 0h24v24H0V0z\" fill=\"none\"/>\n",
              "    <path d=\"M18.56 5.44l.94 2.06.94-2.06 2.06-.94-2.06-.94-.94-2.06-.94 2.06-2.06.94zm-11 1L8.5 8.5l.94-2.06 2.06-.94-2.06-.94L8.5 2.5l-.94 2.06-2.06.94zm10 10l.94 2.06.94-2.06 2.06-.94-2.06-.94-.94-2.06-.94 2.06-2.06.94z\"/><path d=\"M17.41 7.96l-1.37-1.37c-.4-.4-.92-.59-1.43-.59-.52 0-1.04.2-1.43.59L10.3 9.45l-7.72 7.72c-.78.78-.78 2.05 0 2.83L4 21.41c.39.39.9.59 1.41.59.51 0 1.02-.2 1.41-.59l7.78-7.78 2.81-2.81c.8-.78.8-2.07 0-2.86zM5.41 20L4 18.59l7.72-7.72 1.47 1.35L5.41 20z\"/>\n",
              "  </svg>\n",
              "      </button>\n",
              "      \n",
              "  <style>\n",
              "    .colab-df-container {\n",
              "      display:flex;\n",
              "      flex-wrap:wrap;\n",
              "      gap: 12px;\n",
              "    }\n",
              "\n",
              "    .colab-df-convert {\n",
              "      background-color: #E8F0FE;\n",
              "      border: none;\n",
              "      border-radius: 50%;\n",
              "      cursor: pointer;\n",
              "      display: none;\n",
              "      fill: #1967D2;\n",
              "      height: 32px;\n",
              "      padding: 0 0 0 0;\n",
              "      width: 32px;\n",
              "    }\n",
              "\n",
              "    .colab-df-convert:hover {\n",
              "      background-color: #E2EBFA;\n",
              "      box-shadow: 0px 1px 2px rgba(60, 64, 67, 0.3), 0px 1px 3px 1px rgba(60, 64, 67, 0.15);\n",
              "      fill: #174EA6;\n",
              "    }\n",
              "\n",
              "    [theme=dark] .colab-df-convert {\n",
              "      background-color: #3B4455;\n",
              "      fill: #D2E3FC;\n",
              "    }\n",
              "\n",
              "    [theme=dark] .colab-df-convert:hover {\n",
              "      background-color: #434B5C;\n",
              "      box-shadow: 0px 1px 3px 1px rgba(0, 0, 0, 0.15);\n",
              "      filter: drop-shadow(0px 1px 2px rgba(0, 0, 0, 0.3));\n",
              "      fill: #FFFFFF;\n",
              "    }\n",
              "  </style>\n",
              "\n",
              "      <script>\n",
              "        const buttonEl =\n",
              "          document.querySelector('#df-37f170d4-ae59-49d8-8381-aa3d91f9849e button.colab-df-convert');\n",
              "        buttonEl.style.display =\n",
              "          google.colab.kernel.accessAllowed ? 'block' : 'none';\n",
              "\n",
              "        async function convertToInteractive(key) {\n",
              "          const element = document.querySelector('#df-37f170d4-ae59-49d8-8381-aa3d91f9849e');\n",
              "          const dataTable =\n",
              "            await google.colab.kernel.invokeFunction('convertToInteractive',\n",
              "                                                     [key], {});\n",
              "          if (!dataTable) return;\n",
              "\n",
              "          const docLinkHtml = 'Like what you see? Visit the ' +\n",
              "            '<a target=\"_blank\" href=https://colab.research.google.com/notebooks/data_table.ipynb>data table notebook</a>'\n",
              "            + ' to learn more about interactive tables.';\n",
              "          element.innerHTML = '';\n",
              "          dataTable['output_type'] = 'display_data';\n",
              "          await google.colab.output.renderOutput(dataTable, element);\n",
              "          const docLink = document.createElement('div');\n",
              "          docLink.innerHTML = docLinkHtml;\n",
              "          element.appendChild(docLink);\n",
              "        }\n",
              "      </script>\n",
              "    </div>\n",
              "  </div>\n",
              "  "
            ],
            "text/plain": [
              "           id             date     price  ...     long  sqft_living15  sqft_lot15\n",
              "0  7129300520  20141013T000000  221900.0  ... -122.257           1340        5650\n",
              "1  6414100192  20141209T000000  538000.0  ... -122.319           1690        7639\n",
              "2  5631500400  20150225T000000  180000.0  ... -122.233           2720        8062\n",
              "3  2487200875  20141209T000000  604000.0  ... -122.393           1360        5000\n",
              "4  1954400510  20150218T000000  510000.0  ... -122.045           1800        7503\n",
              "\n",
              "[5 rows x 21 columns]"
            ]
          },
          "metadata": {},
          "execution_count": 5
        }
      ]
    },
    {
      "cell_type": "code",
      "source": [
        "print(len(df))"
      ],
      "metadata": {
        "colab": {
          "base_uri": "https://localhost:8080/"
        },
        "id": "er07xkbpdnLf",
        "outputId": "250f43ff-8737-4d0f-ad29-73b00f20c7bb"
      },
      "execution_count": null,
      "outputs": [
        {
          "output_type": "stream",
          "name": "stdout",
          "text": [
            "21613\n"
          ]
        }
      ]
    },
    {
      "cell_type": "code",
      "source": [
        "print(len(df.id.unique()))"
      ],
      "metadata": {
        "colab": {
          "base_uri": "https://localhost:8080/"
        },
        "id": "iySGXhpkj6Gl",
        "outputId": "d676b2d6-b622-41e6-d59c-a66d89984213"
      },
      "execution_count": null,
      "outputs": [
        {
          "output_type": "stream",
          "name": "stdout",
          "text": [
            "21436\n"
          ]
        }
      ]
    },
    {
      "cell_type": "markdown",
      "source": [
        "# 결측치 처리"
      ],
      "metadata": {
        "id": "kh7oOvIifwgm"
      }
    },
    {
      "cell_type": "code",
      "source": [
        "df.info()"
      ],
      "metadata": {
        "colab": {
          "base_uri": "https://localhost:8080/"
        },
        "id": "-CTVpQGtkIms",
        "outputId": "1d5165c7-4bb7-4046-a876-178c3421af2b"
      },
      "execution_count": null,
      "outputs": [
        {
          "output_type": "stream",
          "name": "stdout",
          "text": [
            "<class 'pandas.core.frame.DataFrame'>\n",
            "RangeIndex: 21613 entries, 0 to 21612\n",
            "Data columns (total 21 columns):\n",
            " #   Column         Non-Null Count  Dtype  \n",
            "---  ------         --------------  -----  \n",
            " 0   id             21613 non-null  int64  \n",
            " 1   date           21613 non-null  object \n",
            " 2   price          21613 non-null  float64\n",
            " 3   bedrooms       21613 non-null  int64  \n",
            " 4   bathrooms      21613 non-null  float64\n",
            " 5   sqft_living    21613 non-null  int64  \n",
            " 6   sqft_lot       21613 non-null  int64  \n",
            " 7   floors         21613 non-null  float64\n",
            " 8   waterfront     21613 non-null  int64  \n",
            " 9   view           21613 non-null  int64  \n",
            " 10  condition      21613 non-null  int64  \n",
            " 11  grade          21613 non-null  int64  \n",
            " 12  sqft_above     21613 non-null  int64  \n",
            " 13  sqft_basement  21613 non-null  int64  \n",
            " 14  yr_built       21613 non-null  int64  \n",
            " 15  yr_renovated   21613 non-null  int64  \n",
            " 16  zipcode        21613 non-null  int64  \n",
            " 17  lat            21613 non-null  float64\n",
            " 18  long           21613 non-null  float64\n",
            " 19  sqft_living15  21613 non-null  int64  \n",
            " 20  sqft_lot15     21613 non-null  int64  \n",
            "dtypes: float64(5), int64(15), object(1)\n",
            "memory usage: 3.5+ MB\n"
          ]
        }
      ]
    },
    {
      "cell_type": "code",
      "source": [
        "df.isnull().sum()"
      ],
      "metadata": {
        "colab": {
          "base_uri": "https://localhost:8080/"
        },
        "id": "8VlYB3fEd0bM",
        "outputId": "b546bfe5-8ae3-4d21-fd3e-e96ce4904725"
      },
      "execution_count": null,
      "outputs": [
        {
          "output_type": "execute_result",
          "data": {
            "text/plain": [
              "id               0\n",
              "date             0\n",
              "price            0\n",
              "bedrooms         0\n",
              "bathrooms        0\n",
              "sqft_living      0\n",
              "sqft_lot         0\n",
              "floors           0\n",
              "waterfront       0\n",
              "view             0\n",
              "condition        0\n",
              "grade            0\n",
              "sqft_above       0\n",
              "sqft_basement    0\n",
              "yr_built         0\n",
              "yr_renovated     0\n",
              "zipcode          0\n",
              "lat              0\n",
              "long             0\n",
              "sqft_living15    0\n",
              "sqft_lot15       0\n",
              "dtype: int64"
            ]
          },
          "metadata": {},
          "execution_count": 112
        }
      ]
    },
    {
      "cell_type": "markdown",
      "source": [
        "# Date 필드 나누기"
      ],
      "metadata": {
        "id": "_UZPRW_GkXfV"
      }
    },
    {
      "cell_type": "markdown",
      "source": [
        "## year"
      ],
      "metadata": {
        "id": "EOQM8n8roLj_"
      }
    },
    {
      "cell_type": "code",
      "source": [
        "df['year'] = df.date.str[:4]\n",
        "print(df.year)"
      ],
      "metadata": {
        "colab": {
          "base_uri": "https://localhost:8080/"
        },
        "id": "KEfuDRHikY4K",
        "outputId": "a5b54a6e-207d-40c3-e489-cd582d410cb7"
      },
      "execution_count": null,
      "outputs": [
        {
          "output_type": "stream",
          "name": "stdout",
          "text": [
            "0        2014\n",
            "1        2014\n",
            "2        2015\n",
            "3        2014\n",
            "4        2015\n",
            "         ... \n",
            "21608    2014\n",
            "21609    2015\n",
            "21610    2014\n",
            "21611    2015\n",
            "21612    2014\n",
            "Name: year, Length: 21613, dtype: object\n"
          ]
        }
      ]
    },
    {
      "cell_type": "code",
      "source": [
        "print(df.year.max(), df.year.min())"
      ],
      "metadata": {
        "colab": {
          "base_uri": "https://localhost:8080/"
        },
        "id": "urVKNskKlKUh",
        "outputId": "f2b4841b-005a-4079-d62c-402f95113bb3"
      },
      "execution_count": null,
      "outputs": [
        {
          "output_type": "stream",
          "name": "stdout",
          "text": [
            "2015 2014\n"
          ]
        }
      ]
    },
    {
      "cell_type": "code",
      "source": [
        "df.year = df.year.astype('category')\n",
        "df['year_code'] = df.year.cat.codes\n",
        "df.head()"
      ],
      "metadata": {
        "colab": {
          "base_uri": "https://localhost:8080/",
          "height": 270
        },
        "id": "hvy4seBhl4wx",
        "outputId": "14ffafb4-e7d0-4310-cb72-85f8ba3f3c99"
      },
      "execution_count": null,
      "outputs": [
        {
          "output_type": "execute_result",
          "data": {
            "text/html": [
              "\n",
              "  <div id=\"df-2e42f0fe-4dee-4a3e-92b8-d781b8cc113a\">\n",
              "    <div class=\"colab-df-container\">\n",
              "      <div>\n",
              "<style scoped>\n",
              "    .dataframe tbody tr th:only-of-type {\n",
              "        vertical-align: middle;\n",
              "    }\n",
              "\n",
              "    .dataframe tbody tr th {\n",
              "        vertical-align: top;\n",
              "    }\n",
              "\n",
              "    .dataframe thead th {\n",
              "        text-align: right;\n",
              "    }\n",
              "</style>\n",
              "<table border=\"1\" class=\"dataframe\">\n",
              "  <thead>\n",
              "    <tr style=\"text-align: right;\">\n",
              "      <th></th>\n",
              "      <th>id</th>\n",
              "      <th>date</th>\n",
              "      <th>price</th>\n",
              "      <th>bedrooms</th>\n",
              "      <th>bathrooms</th>\n",
              "      <th>sqft_living</th>\n",
              "      <th>sqft_lot</th>\n",
              "      <th>floors</th>\n",
              "      <th>waterfront</th>\n",
              "      <th>view</th>\n",
              "      <th>condition</th>\n",
              "      <th>grade</th>\n",
              "      <th>sqft_above</th>\n",
              "      <th>sqft_basement</th>\n",
              "      <th>yr_built</th>\n",
              "      <th>yr_renovated</th>\n",
              "      <th>zipcode</th>\n",
              "      <th>lat</th>\n",
              "      <th>long</th>\n",
              "      <th>sqft_living15</th>\n",
              "      <th>sqft_lot15</th>\n",
              "      <th>year</th>\n",
              "      <th>year_code</th>\n",
              "    </tr>\n",
              "  </thead>\n",
              "  <tbody>\n",
              "    <tr>\n",
              "      <th>0</th>\n",
              "      <td>7129300520</td>\n",
              "      <td>20141013T000000</td>\n",
              "      <td>221900.0</td>\n",
              "      <td>3</td>\n",
              "      <td>1.00</td>\n",
              "      <td>1180</td>\n",
              "      <td>5650</td>\n",
              "      <td>1.0</td>\n",
              "      <td>0</td>\n",
              "      <td>0</td>\n",
              "      <td>3</td>\n",
              "      <td>7</td>\n",
              "      <td>1180</td>\n",
              "      <td>0</td>\n",
              "      <td>1955</td>\n",
              "      <td>0</td>\n",
              "      <td>98178</td>\n",
              "      <td>47.5112</td>\n",
              "      <td>-122.257</td>\n",
              "      <td>1340</td>\n",
              "      <td>5650</td>\n",
              "      <td>2014</td>\n",
              "      <td>0</td>\n",
              "    </tr>\n",
              "    <tr>\n",
              "      <th>1</th>\n",
              "      <td>6414100192</td>\n",
              "      <td>20141209T000000</td>\n",
              "      <td>538000.0</td>\n",
              "      <td>3</td>\n",
              "      <td>2.25</td>\n",
              "      <td>2570</td>\n",
              "      <td>7242</td>\n",
              "      <td>2.0</td>\n",
              "      <td>0</td>\n",
              "      <td>0</td>\n",
              "      <td>3</td>\n",
              "      <td>7</td>\n",
              "      <td>2170</td>\n",
              "      <td>400</td>\n",
              "      <td>1951</td>\n",
              "      <td>1991</td>\n",
              "      <td>98125</td>\n",
              "      <td>47.7210</td>\n",
              "      <td>-122.319</td>\n",
              "      <td>1690</td>\n",
              "      <td>7639</td>\n",
              "      <td>2014</td>\n",
              "      <td>0</td>\n",
              "    </tr>\n",
              "    <tr>\n",
              "      <th>2</th>\n",
              "      <td>5631500400</td>\n",
              "      <td>20150225T000000</td>\n",
              "      <td>180000.0</td>\n",
              "      <td>2</td>\n",
              "      <td>1.00</td>\n",
              "      <td>770</td>\n",
              "      <td>10000</td>\n",
              "      <td>1.0</td>\n",
              "      <td>0</td>\n",
              "      <td>0</td>\n",
              "      <td>3</td>\n",
              "      <td>6</td>\n",
              "      <td>770</td>\n",
              "      <td>0</td>\n",
              "      <td>1933</td>\n",
              "      <td>0</td>\n",
              "      <td>98028</td>\n",
              "      <td>47.7379</td>\n",
              "      <td>-122.233</td>\n",
              "      <td>2720</td>\n",
              "      <td>8062</td>\n",
              "      <td>2015</td>\n",
              "      <td>1</td>\n",
              "    </tr>\n",
              "    <tr>\n",
              "      <th>3</th>\n",
              "      <td>2487200875</td>\n",
              "      <td>20141209T000000</td>\n",
              "      <td>604000.0</td>\n",
              "      <td>4</td>\n",
              "      <td>3.00</td>\n",
              "      <td>1960</td>\n",
              "      <td>5000</td>\n",
              "      <td>1.0</td>\n",
              "      <td>0</td>\n",
              "      <td>0</td>\n",
              "      <td>5</td>\n",
              "      <td>7</td>\n",
              "      <td>1050</td>\n",
              "      <td>910</td>\n",
              "      <td>1965</td>\n",
              "      <td>0</td>\n",
              "      <td>98136</td>\n",
              "      <td>47.5208</td>\n",
              "      <td>-122.393</td>\n",
              "      <td>1360</td>\n",
              "      <td>5000</td>\n",
              "      <td>2014</td>\n",
              "      <td>0</td>\n",
              "    </tr>\n",
              "    <tr>\n",
              "      <th>4</th>\n",
              "      <td>1954400510</td>\n",
              "      <td>20150218T000000</td>\n",
              "      <td>510000.0</td>\n",
              "      <td>3</td>\n",
              "      <td>2.00</td>\n",
              "      <td>1680</td>\n",
              "      <td>8080</td>\n",
              "      <td>1.0</td>\n",
              "      <td>0</td>\n",
              "      <td>0</td>\n",
              "      <td>3</td>\n",
              "      <td>8</td>\n",
              "      <td>1680</td>\n",
              "      <td>0</td>\n",
              "      <td>1987</td>\n",
              "      <td>0</td>\n",
              "      <td>98074</td>\n",
              "      <td>47.6168</td>\n",
              "      <td>-122.045</td>\n",
              "      <td>1800</td>\n",
              "      <td>7503</td>\n",
              "      <td>2015</td>\n",
              "      <td>1</td>\n",
              "    </tr>\n",
              "  </tbody>\n",
              "</table>\n",
              "</div>\n",
              "      <button class=\"colab-df-convert\" onclick=\"convertToInteractive('df-2e42f0fe-4dee-4a3e-92b8-d781b8cc113a')\"\n",
              "              title=\"Convert this dataframe to an interactive table.\"\n",
              "              style=\"display:none;\">\n",
              "        \n",
              "  <svg xmlns=\"http://www.w3.org/2000/svg\" height=\"24px\"viewBox=\"0 0 24 24\"\n",
              "       width=\"24px\">\n",
              "    <path d=\"M0 0h24v24H0V0z\" fill=\"none\"/>\n",
              "    <path d=\"M18.56 5.44l.94 2.06.94-2.06 2.06-.94-2.06-.94-.94-2.06-.94 2.06-2.06.94zm-11 1L8.5 8.5l.94-2.06 2.06-.94-2.06-.94L8.5 2.5l-.94 2.06-2.06.94zm10 10l.94 2.06.94-2.06 2.06-.94-2.06-.94-.94-2.06-.94 2.06-2.06.94z\"/><path d=\"M17.41 7.96l-1.37-1.37c-.4-.4-.92-.59-1.43-.59-.52 0-1.04.2-1.43.59L10.3 9.45l-7.72 7.72c-.78.78-.78 2.05 0 2.83L4 21.41c.39.39.9.59 1.41.59.51 0 1.02-.2 1.41-.59l7.78-7.78 2.81-2.81c.8-.78.8-2.07 0-2.86zM5.41 20L4 18.59l7.72-7.72 1.47 1.35L5.41 20z\"/>\n",
              "  </svg>\n",
              "      </button>\n",
              "      \n",
              "  <style>\n",
              "    .colab-df-container {\n",
              "      display:flex;\n",
              "      flex-wrap:wrap;\n",
              "      gap: 12px;\n",
              "    }\n",
              "\n",
              "    .colab-df-convert {\n",
              "      background-color: #E8F0FE;\n",
              "      border: none;\n",
              "      border-radius: 50%;\n",
              "      cursor: pointer;\n",
              "      display: none;\n",
              "      fill: #1967D2;\n",
              "      height: 32px;\n",
              "      padding: 0 0 0 0;\n",
              "      width: 32px;\n",
              "    }\n",
              "\n",
              "    .colab-df-convert:hover {\n",
              "      background-color: #E2EBFA;\n",
              "      box-shadow: 0px 1px 2px rgba(60, 64, 67, 0.3), 0px 1px 3px 1px rgba(60, 64, 67, 0.15);\n",
              "      fill: #174EA6;\n",
              "    }\n",
              "\n",
              "    [theme=dark] .colab-df-convert {\n",
              "      background-color: #3B4455;\n",
              "      fill: #D2E3FC;\n",
              "    }\n",
              "\n",
              "    [theme=dark] .colab-df-convert:hover {\n",
              "      background-color: #434B5C;\n",
              "      box-shadow: 0px 1px 3px 1px rgba(0, 0, 0, 0.15);\n",
              "      filter: drop-shadow(0px 1px 2px rgba(0, 0, 0, 0.3));\n",
              "      fill: #FFFFFF;\n",
              "    }\n",
              "  </style>\n",
              "\n",
              "      <script>\n",
              "        const buttonEl =\n",
              "          document.querySelector('#df-2e42f0fe-4dee-4a3e-92b8-d781b8cc113a button.colab-df-convert');\n",
              "        buttonEl.style.display =\n",
              "          google.colab.kernel.accessAllowed ? 'block' : 'none';\n",
              "\n",
              "        async function convertToInteractive(key) {\n",
              "          const element = document.querySelector('#df-2e42f0fe-4dee-4a3e-92b8-d781b8cc113a');\n",
              "          const dataTable =\n",
              "            await google.colab.kernel.invokeFunction('convertToInteractive',\n",
              "                                                     [key], {});\n",
              "          if (!dataTable) return;\n",
              "\n",
              "          const docLinkHtml = 'Like what you see? Visit the ' +\n",
              "            '<a target=\"_blank\" href=https://colab.research.google.com/notebooks/data_table.ipynb>data table notebook</a>'\n",
              "            + ' to learn more about interactive tables.';\n",
              "          element.innerHTML = '';\n",
              "          dataTable['output_type'] = 'display_data';\n",
              "          await google.colab.output.renderOutput(dataTable, element);\n",
              "          const docLink = document.createElement('div');\n",
              "          docLink.innerHTML = docLinkHtml;\n",
              "          element.appendChild(docLink);\n",
              "        }\n",
              "      </script>\n",
              "    </div>\n",
              "  </div>\n",
              "  "
            ],
            "text/plain": [
              "           id             date     price  ...  sqft_lot15  year  year_code\n",
              "0  7129300520  20141013T000000  221900.0  ...        5650  2014          0\n",
              "1  6414100192  20141209T000000  538000.0  ...        7639  2014          0\n",
              "2  5631500400  20150225T000000  180000.0  ...        8062  2015          1\n",
              "3  2487200875  20141209T000000  604000.0  ...        5000  2014          0\n",
              "4  1954400510  20150218T000000  510000.0  ...        7503  2015          1\n",
              "\n",
              "[5 rows x 23 columns]"
            ]
          },
          "metadata": {},
          "execution_count": 115
        }
      ]
    },
    {
      "cell_type": "code",
      "source": [
        "df = pd.get_dummies(df, columns=['year_code'])\n",
        "df.head()"
      ],
      "metadata": {
        "colab": {
          "base_uri": "https://localhost:8080/",
          "height": 270
        },
        "id": "RGN7usKDmL0G",
        "outputId": "bea20ccb-90bd-4080-c406-a1fb773d36f0"
      },
      "execution_count": null,
      "outputs": [
        {
          "output_type": "execute_result",
          "data": {
            "text/html": [
              "\n",
              "  <div id=\"df-62b372bb-f27a-4c30-b6e8-5d4e33593b9c\">\n",
              "    <div class=\"colab-df-container\">\n",
              "      <div>\n",
              "<style scoped>\n",
              "    .dataframe tbody tr th:only-of-type {\n",
              "        vertical-align: middle;\n",
              "    }\n",
              "\n",
              "    .dataframe tbody tr th {\n",
              "        vertical-align: top;\n",
              "    }\n",
              "\n",
              "    .dataframe thead th {\n",
              "        text-align: right;\n",
              "    }\n",
              "</style>\n",
              "<table border=\"1\" class=\"dataframe\">\n",
              "  <thead>\n",
              "    <tr style=\"text-align: right;\">\n",
              "      <th></th>\n",
              "      <th>id</th>\n",
              "      <th>date</th>\n",
              "      <th>price</th>\n",
              "      <th>bedrooms</th>\n",
              "      <th>bathrooms</th>\n",
              "      <th>sqft_living</th>\n",
              "      <th>sqft_lot</th>\n",
              "      <th>floors</th>\n",
              "      <th>waterfront</th>\n",
              "      <th>view</th>\n",
              "      <th>condition</th>\n",
              "      <th>grade</th>\n",
              "      <th>sqft_above</th>\n",
              "      <th>sqft_basement</th>\n",
              "      <th>yr_built</th>\n",
              "      <th>yr_renovated</th>\n",
              "      <th>zipcode</th>\n",
              "      <th>lat</th>\n",
              "      <th>long</th>\n",
              "      <th>sqft_living15</th>\n",
              "      <th>sqft_lot15</th>\n",
              "      <th>year</th>\n",
              "      <th>year_code_0</th>\n",
              "      <th>year_code_1</th>\n",
              "    </tr>\n",
              "  </thead>\n",
              "  <tbody>\n",
              "    <tr>\n",
              "      <th>0</th>\n",
              "      <td>7129300520</td>\n",
              "      <td>20141013T000000</td>\n",
              "      <td>221900.0</td>\n",
              "      <td>3</td>\n",
              "      <td>1.00</td>\n",
              "      <td>1180</td>\n",
              "      <td>5650</td>\n",
              "      <td>1.0</td>\n",
              "      <td>0</td>\n",
              "      <td>0</td>\n",
              "      <td>3</td>\n",
              "      <td>7</td>\n",
              "      <td>1180</td>\n",
              "      <td>0</td>\n",
              "      <td>1955</td>\n",
              "      <td>0</td>\n",
              "      <td>98178</td>\n",
              "      <td>47.5112</td>\n",
              "      <td>-122.257</td>\n",
              "      <td>1340</td>\n",
              "      <td>5650</td>\n",
              "      <td>2014</td>\n",
              "      <td>1</td>\n",
              "      <td>0</td>\n",
              "    </tr>\n",
              "    <tr>\n",
              "      <th>1</th>\n",
              "      <td>6414100192</td>\n",
              "      <td>20141209T000000</td>\n",
              "      <td>538000.0</td>\n",
              "      <td>3</td>\n",
              "      <td>2.25</td>\n",
              "      <td>2570</td>\n",
              "      <td>7242</td>\n",
              "      <td>2.0</td>\n",
              "      <td>0</td>\n",
              "      <td>0</td>\n",
              "      <td>3</td>\n",
              "      <td>7</td>\n",
              "      <td>2170</td>\n",
              "      <td>400</td>\n",
              "      <td>1951</td>\n",
              "      <td>1991</td>\n",
              "      <td>98125</td>\n",
              "      <td>47.7210</td>\n",
              "      <td>-122.319</td>\n",
              "      <td>1690</td>\n",
              "      <td>7639</td>\n",
              "      <td>2014</td>\n",
              "      <td>1</td>\n",
              "      <td>0</td>\n",
              "    </tr>\n",
              "    <tr>\n",
              "      <th>2</th>\n",
              "      <td>5631500400</td>\n",
              "      <td>20150225T000000</td>\n",
              "      <td>180000.0</td>\n",
              "      <td>2</td>\n",
              "      <td>1.00</td>\n",
              "      <td>770</td>\n",
              "      <td>10000</td>\n",
              "      <td>1.0</td>\n",
              "      <td>0</td>\n",
              "      <td>0</td>\n",
              "      <td>3</td>\n",
              "      <td>6</td>\n",
              "      <td>770</td>\n",
              "      <td>0</td>\n",
              "      <td>1933</td>\n",
              "      <td>0</td>\n",
              "      <td>98028</td>\n",
              "      <td>47.7379</td>\n",
              "      <td>-122.233</td>\n",
              "      <td>2720</td>\n",
              "      <td>8062</td>\n",
              "      <td>2015</td>\n",
              "      <td>0</td>\n",
              "      <td>1</td>\n",
              "    </tr>\n",
              "    <tr>\n",
              "      <th>3</th>\n",
              "      <td>2487200875</td>\n",
              "      <td>20141209T000000</td>\n",
              "      <td>604000.0</td>\n",
              "      <td>4</td>\n",
              "      <td>3.00</td>\n",
              "      <td>1960</td>\n",
              "      <td>5000</td>\n",
              "      <td>1.0</td>\n",
              "      <td>0</td>\n",
              "      <td>0</td>\n",
              "      <td>5</td>\n",
              "      <td>7</td>\n",
              "      <td>1050</td>\n",
              "      <td>910</td>\n",
              "      <td>1965</td>\n",
              "      <td>0</td>\n",
              "      <td>98136</td>\n",
              "      <td>47.5208</td>\n",
              "      <td>-122.393</td>\n",
              "      <td>1360</td>\n",
              "      <td>5000</td>\n",
              "      <td>2014</td>\n",
              "      <td>1</td>\n",
              "      <td>0</td>\n",
              "    </tr>\n",
              "    <tr>\n",
              "      <th>4</th>\n",
              "      <td>1954400510</td>\n",
              "      <td>20150218T000000</td>\n",
              "      <td>510000.0</td>\n",
              "      <td>3</td>\n",
              "      <td>2.00</td>\n",
              "      <td>1680</td>\n",
              "      <td>8080</td>\n",
              "      <td>1.0</td>\n",
              "      <td>0</td>\n",
              "      <td>0</td>\n",
              "      <td>3</td>\n",
              "      <td>8</td>\n",
              "      <td>1680</td>\n",
              "      <td>0</td>\n",
              "      <td>1987</td>\n",
              "      <td>0</td>\n",
              "      <td>98074</td>\n",
              "      <td>47.6168</td>\n",
              "      <td>-122.045</td>\n",
              "      <td>1800</td>\n",
              "      <td>7503</td>\n",
              "      <td>2015</td>\n",
              "      <td>0</td>\n",
              "      <td>1</td>\n",
              "    </tr>\n",
              "  </tbody>\n",
              "</table>\n",
              "</div>\n",
              "      <button class=\"colab-df-convert\" onclick=\"convertToInteractive('df-62b372bb-f27a-4c30-b6e8-5d4e33593b9c')\"\n",
              "              title=\"Convert this dataframe to an interactive table.\"\n",
              "              style=\"display:none;\">\n",
              "        \n",
              "  <svg xmlns=\"http://www.w3.org/2000/svg\" height=\"24px\"viewBox=\"0 0 24 24\"\n",
              "       width=\"24px\">\n",
              "    <path d=\"M0 0h24v24H0V0z\" fill=\"none\"/>\n",
              "    <path d=\"M18.56 5.44l.94 2.06.94-2.06 2.06-.94-2.06-.94-.94-2.06-.94 2.06-2.06.94zm-11 1L8.5 8.5l.94-2.06 2.06-.94-2.06-.94L8.5 2.5l-.94 2.06-2.06.94zm10 10l.94 2.06.94-2.06 2.06-.94-2.06-.94-.94-2.06-.94 2.06-2.06.94z\"/><path d=\"M17.41 7.96l-1.37-1.37c-.4-.4-.92-.59-1.43-.59-.52 0-1.04.2-1.43.59L10.3 9.45l-7.72 7.72c-.78.78-.78 2.05 0 2.83L4 21.41c.39.39.9.59 1.41.59.51 0 1.02-.2 1.41-.59l7.78-7.78 2.81-2.81c.8-.78.8-2.07 0-2.86zM5.41 20L4 18.59l7.72-7.72 1.47 1.35L5.41 20z\"/>\n",
              "  </svg>\n",
              "      </button>\n",
              "      \n",
              "  <style>\n",
              "    .colab-df-container {\n",
              "      display:flex;\n",
              "      flex-wrap:wrap;\n",
              "      gap: 12px;\n",
              "    }\n",
              "\n",
              "    .colab-df-convert {\n",
              "      background-color: #E8F0FE;\n",
              "      border: none;\n",
              "      border-radius: 50%;\n",
              "      cursor: pointer;\n",
              "      display: none;\n",
              "      fill: #1967D2;\n",
              "      height: 32px;\n",
              "      padding: 0 0 0 0;\n",
              "      width: 32px;\n",
              "    }\n",
              "\n",
              "    .colab-df-convert:hover {\n",
              "      background-color: #E2EBFA;\n",
              "      box-shadow: 0px 1px 2px rgba(60, 64, 67, 0.3), 0px 1px 3px 1px rgba(60, 64, 67, 0.15);\n",
              "      fill: #174EA6;\n",
              "    }\n",
              "\n",
              "    [theme=dark] .colab-df-convert {\n",
              "      background-color: #3B4455;\n",
              "      fill: #D2E3FC;\n",
              "    }\n",
              "\n",
              "    [theme=dark] .colab-df-convert:hover {\n",
              "      background-color: #434B5C;\n",
              "      box-shadow: 0px 1px 3px 1px rgba(0, 0, 0, 0.15);\n",
              "      filter: drop-shadow(0px 1px 2px rgba(0, 0, 0, 0.3));\n",
              "      fill: #FFFFFF;\n",
              "    }\n",
              "  </style>\n",
              "\n",
              "      <script>\n",
              "        const buttonEl =\n",
              "          document.querySelector('#df-62b372bb-f27a-4c30-b6e8-5d4e33593b9c button.colab-df-convert');\n",
              "        buttonEl.style.display =\n",
              "          google.colab.kernel.accessAllowed ? 'block' : 'none';\n",
              "\n",
              "        async function convertToInteractive(key) {\n",
              "          const element = document.querySelector('#df-62b372bb-f27a-4c30-b6e8-5d4e33593b9c');\n",
              "          const dataTable =\n",
              "            await google.colab.kernel.invokeFunction('convertToInteractive',\n",
              "                                                     [key], {});\n",
              "          if (!dataTable) return;\n",
              "\n",
              "          const docLinkHtml = 'Like what you see? Visit the ' +\n",
              "            '<a target=\"_blank\" href=https://colab.research.google.com/notebooks/data_table.ipynb>data table notebook</a>'\n",
              "            + ' to learn more about interactive tables.';\n",
              "          element.innerHTML = '';\n",
              "          dataTable['output_type'] = 'display_data';\n",
              "          await google.colab.output.renderOutput(dataTable, element);\n",
              "          const docLink = document.createElement('div');\n",
              "          docLink.innerHTML = docLinkHtml;\n",
              "          element.appendChild(docLink);\n",
              "        }\n",
              "      </script>\n",
              "    </div>\n",
              "  </div>\n",
              "  "
            ],
            "text/plain": [
              "           id             date     price  ...  year  year_code_0  year_code_1\n",
              "0  7129300520  20141013T000000  221900.0  ...  2014            1            0\n",
              "1  6414100192  20141209T000000  538000.0  ...  2014            1            0\n",
              "2  5631500400  20150225T000000  180000.0  ...  2015            0            1\n",
              "3  2487200875  20141209T000000  604000.0  ...  2014            1            0\n",
              "4  1954400510  20150218T000000  510000.0  ...  2015            0            1\n",
              "\n",
              "[5 rows x 24 columns]"
            ]
          },
          "metadata": {},
          "execution_count": 116
        }
      ]
    },
    {
      "cell_type": "markdown",
      "source": [
        "## month"
      ],
      "metadata": {
        "id": "A9hm91MGoOaf"
      }
    },
    {
      "cell_type": "code",
      "source": [
        "df['month'] = df.date.str[4:6]\n",
        "print(df.month)"
      ],
      "metadata": {
        "colab": {
          "base_uri": "https://localhost:8080/"
        },
        "id": "Jf6SqTz6oPge",
        "outputId": "c706d4dd-2154-4370-e003-e9cbd58c5a6f"
      },
      "execution_count": null,
      "outputs": [
        {
          "output_type": "stream",
          "name": "stdout",
          "text": [
            "0        10\n",
            "1        12\n",
            "2        02\n",
            "3        12\n",
            "4        02\n",
            "         ..\n",
            "21608    05\n",
            "21609    02\n",
            "21610    06\n",
            "21611    01\n",
            "21612    10\n",
            "Name: month, Length: 21613, dtype: object\n"
          ]
        }
      ]
    },
    {
      "cell_type": "code",
      "source": [
        "df.month = df.month.astype('category')\n",
        "df['month_code'] = df.month.cat.codes\n",
        "df.head()"
      ],
      "metadata": {
        "colab": {
          "base_uri": "https://localhost:8080/",
          "height": 270
        },
        "id": "kVdKIRoHoYAm",
        "outputId": "cc5f0ed1-1180-4034-ca14-92d89400a3f3"
      },
      "execution_count": null,
      "outputs": [
        {
          "output_type": "execute_result",
          "data": {
            "text/html": [
              "\n",
              "  <div id=\"df-5ba26ddd-70e7-4c59-bb98-702af1bb5481\">\n",
              "    <div class=\"colab-df-container\">\n",
              "      <div>\n",
              "<style scoped>\n",
              "    .dataframe tbody tr th:only-of-type {\n",
              "        vertical-align: middle;\n",
              "    }\n",
              "\n",
              "    .dataframe tbody tr th {\n",
              "        vertical-align: top;\n",
              "    }\n",
              "\n",
              "    .dataframe thead th {\n",
              "        text-align: right;\n",
              "    }\n",
              "</style>\n",
              "<table border=\"1\" class=\"dataframe\">\n",
              "  <thead>\n",
              "    <tr style=\"text-align: right;\">\n",
              "      <th></th>\n",
              "      <th>id</th>\n",
              "      <th>date</th>\n",
              "      <th>price</th>\n",
              "      <th>bedrooms</th>\n",
              "      <th>bathrooms</th>\n",
              "      <th>sqft_living</th>\n",
              "      <th>sqft_lot</th>\n",
              "      <th>floors</th>\n",
              "      <th>waterfront</th>\n",
              "      <th>view</th>\n",
              "      <th>condition</th>\n",
              "      <th>grade</th>\n",
              "      <th>sqft_above</th>\n",
              "      <th>sqft_basement</th>\n",
              "      <th>yr_built</th>\n",
              "      <th>yr_renovated</th>\n",
              "      <th>zipcode</th>\n",
              "      <th>lat</th>\n",
              "      <th>long</th>\n",
              "      <th>sqft_living15</th>\n",
              "      <th>sqft_lot15</th>\n",
              "      <th>year</th>\n",
              "      <th>year_code_0</th>\n",
              "      <th>year_code_1</th>\n",
              "      <th>month</th>\n",
              "      <th>month_code</th>\n",
              "    </tr>\n",
              "  </thead>\n",
              "  <tbody>\n",
              "    <tr>\n",
              "      <th>0</th>\n",
              "      <td>7129300520</td>\n",
              "      <td>20141013T000000</td>\n",
              "      <td>221900.0</td>\n",
              "      <td>3</td>\n",
              "      <td>1.00</td>\n",
              "      <td>1180</td>\n",
              "      <td>5650</td>\n",
              "      <td>1.0</td>\n",
              "      <td>0</td>\n",
              "      <td>0</td>\n",
              "      <td>3</td>\n",
              "      <td>7</td>\n",
              "      <td>1180</td>\n",
              "      <td>0</td>\n",
              "      <td>1955</td>\n",
              "      <td>0</td>\n",
              "      <td>98178</td>\n",
              "      <td>47.5112</td>\n",
              "      <td>-122.257</td>\n",
              "      <td>1340</td>\n",
              "      <td>5650</td>\n",
              "      <td>2014</td>\n",
              "      <td>1</td>\n",
              "      <td>0</td>\n",
              "      <td>10</td>\n",
              "      <td>9</td>\n",
              "    </tr>\n",
              "    <tr>\n",
              "      <th>1</th>\n",
              "      <td>6414100192</td>\n",
              "      <td>20141209T000000</td>\n",
              "      <td>538000.0</td>\n",
              "      <td>3</td>\n",
              "      <td>2.25</td>\n",
              "      <td>2570</td>\n",
              "      <td>7242</td>\n",
              "      <td>2.0</td>\n",
              "      <td>0</td>\n",
              "      <td>0</td>\n",
              "      <td>3</td>\n",
              "      <td>7</td>\n",
              "      <td>2170</td>\n",
              "      <td>400</td>\n",
              "      <td>1951</td>\n",
              "      <td>1991</td>\n",
              "      <td>98125</td>\n",
              "      <td>47.7210</td>\n",
              "      <td>-122.319</td>\n",
              "      <td>1690</td>\n",
              "      <td>7639</td>\n",
              "      <td>2014</td>\n",
              "      <td>1</td>\n",
              "      <td>0</td>\n",
              "      <td>12</td>\n",
              "      <td>11</td>\n",
              "    </tr>\n",
              "    <tr>\n",
              "      <th>2</th>\n",
              "      <td>5631500400</td>\n",
              "      <td>20150225T000000</td>\n",
              "      <td>180000.0</td>\n",
              "      <td>2</td>\n",
              "      <td>1.00</td>\n",
              "      <td>770</td>\n",
              "      <td>10000</td>\n",
              "      <td>1.0</td>\n",
              "      <td>0</td>\n",
              "      <td>0</td>\n",
              "      <td>3</td>\n",
              "      <td>6</td>\n",
              "      <td>770</td>\n",
              "      <td>0</td>\n",
              "      <td>1933</td>\n",
              "      <td>0</td>\n",
              "      <td>98028</td>\n",
              "      <td>47.7379</td>\n",
              "      <td>-122.233</td>\n",
              "      <td>2720</td>\n",
              "      <td>8062</td>\n",
              "      <td>2015</td>\n",
              "      <td>0</td>\n",
              "      <td>1</td>\n",
              "      <td>02</td>\n",
              "      <td>1</td>\n",
              "    </tr>\n",
              "    <tr>\n",
              "      <th>3</th>\n",
              "      <td>2487200875</td>\n",
              "      <td>20141209T000000</td>\n",
              "      <td>604000.0</td>\n",
              "      <td>4</td>\n",
              "      <td>3.00</td>\n",
              "      <td>1960</td>\n",
              "      <td>5000</td>\n",
              "      <td>1.0</td>\n",
              "      <td>0</td>\n",
              "      <td>0</td>\n",
              "      <td>5</td>\n",
              "      <td>7</td>\n",
              "      <td>1050</td>\n",
              "      <td>910</td>\n",
              "      <td>1965</td>\n",
              "      <td>0</td>\n",
              "      <td>98136</td>\n",
              "      <td>47.5208</td>\n",
              "      <td>-122.393</td>\n",
              "      <td>1360</td>\n",
              "      <td>5000</td>\n",
              "      <td>2014</td>\n",
              "      <td>1</td>\n",
              "      <td>0</td>\n",
              "      <td>12</td>\n",
              "      <td>11</td>\n",
              "    </tr>\n",
              "    <tr>\n",
              "      <th>4</th>\n",
              "      <td>1954400510</td>\n",
              "      <td>20150218T000000</td>\n",
              "      <td>510000.0</td>\n",
              "      <td>3</td>\n",
              "      <td>2.00</td>\n",
              "      <td>1680</td>\n",
              "      <td>8080</td>\n",
              "      <td>1.0</td>\n",
              "      <td>0</td>\n",
              "      <td>0</td>\n",
              "      <td>3</td>\n",
              "      <td>8</td>\n",
              "      <td>1680</td>\n",
              "      <td>0</td>\n",
              "      <td>1987</td>\n",
              "      <td>0</td>\n",
              "      <td>98074</td>\n",
              "      <td>47.6168</td>\n",
              "      <td>-122.045</td>\n",
              "      <td>1800</td>\n",
              "      <td>7503</td>\n",
              "      <td>2015</td>\n",
              "      <td>0</td>\n",
              "      <td>1</td>\n",
              "      <td>02</td>\n",
              "      <td>1</td>\n",
              "    </tr>\n",
              "  </tbody>\n",
              "</table>\n",
              "</div>\n",
              "      <button class=\"colab-df-convert\" onclick=\"convertToInteractive('df-5ba26ddd-70e7-4c59-bb98-702af1bb5481')\"\n",
              "              title=\"Convert this dataframe to an interactive table.\"\n",
              "              style=\"display:none;\">\n",
              "        \n",
              "  <svg xmlns=\"http://www.w3.org/2000/svg\" height=\"24px\"viewBox=\"0 0 24 24\"\n",
              "       width=\"24px\">\n",
              "    <path d=\"M0 0h24v24H0V0z\" fill=\"none\"/>\n",
              "    <path d=\"M18.56 5.44l.94 2.06.94-2.06 2.06-.94-2.06-.94-.94-2.06-.94 2.06-2.06.94zm-11 1L8.5 8.5l.94-2.06 2.06-.94-2.06-.94L8.5 2.5l-.94 2.06-2.06.94zm10 10l.94 2.06.94-2.06 2.06-.94-2.06-.94-.94-2.06-.94 2.06-2.06.94z\"/><path d=\"M17.41 7.96l-1.37-1.37c-.4-.4-.92-.59-1.43-.59-.52 0-1.04.2-1.43.59L10.3 9.45l-7.72 7.72c-.78.78-.78 2.05 0 2.83L4 21.41c.39.39.9.59 1.41.59.51 0 1.02-.2 1.41-.59l7.78-7.78 2.81-2.81c.8-.78.8-2.07 0-2.86zM5.41 20L4 18.59l7.72-7.72 1.47 1.35L5.41 20z\"/>\n",
              "  </svg>\n",
              "      </button>\n",
              "      \n",
              "  <style>\n",
              "    .colab-df-container {\n",
              "      display:flex;\n",
              "      flex-wrap:wrap;\n",
              "      gap: 12px;\n",
              "    }\n",
              "\n",
              "    .colab-df-convert {\n",
              "      background-color: #E8F0FE;\n",
              "      border: none;\n",
              "      border-radius: 50%;\n",
              "      cursor: pointer;\n",
              "      display: none;\n",
              "      fill: #1967D2;\n",
              "      height: 32px;\n",
              "      padding: 0 0 0 0;\n",
              "      width: 32px;\n",
              "    }\n",
              "\n",
              "    .colab-df-convert:hover {\n",
              "      background-color: #E2EBFA;\n",
              "      box-shadow: 0px 1px 2px rgba(60, 64, 67, 0.3), 0px 1px 3px 1px rgba(60, 64, 67, 0.15);\n",
              "      fill: #174EA6;\n",
              "    }\n",
              "\n",
              "    [theme=dark] .colab-df-convert {\n",
              "      background-color: #3B4455;\n",
              "      fill: #D2E3FC;\n",
              "    }\n",
              "\n",
              "    [theme=dark] .colab-df-convert:hover {\n",
              "      background-color: #434B5C;\n",
              "      box-shadow: 0px 1px 3px 1px rgba(0, 0, 0, 0.15);\n",
              "      filter: drop-shadow(0px 1px 2px rgba(0, 0, 0, 0.3));\n",
              "      fill: #FFFFFF;\n",
              "    }\n",
              "  </style>\n",
              "\n",
              "      <script>\n",
              "        const buttonEl =\n",
              "          document.querySelector('#df-5ba26ddd-70e7-4c59-bb98-702af1bb5481 button.colab-df-convert');\n",
              "        buttonEl.style.display =\n",
              "          google.colab.kernel.accessAllowed ? 'block' : 'none';\n",
              "\n",
              "        async function convertToInteractive(key) {\n",
              "          const element = document.querySelector('#df-5ba26ddd-70e7-4c59-bb98-702af1bb5481');\n",
              "          const dataTable =\n",
              "            await google.colab.kernel.invokeFunction('convertToInteractive',\n",
              "                                                     [key], {});\n",
              "          if (!dataTable) return;\n",
              "\n",
              "          const docLinkHtml = 'Like what you see? Visit the ' +\n",
              "            '<a target=\"_blank\" href=https://colab.research.google.com/notebooks/data_table.ipynb>data table notebook</a>'\n",
              "            + ' to learn more about interactive tables.';\n",
              "          element.innerHTML = '';\n",
              "          dataTable['output_type'] = 'display_data';\n",
              "          await google.colab.output.renderOutput(dataTable, element);\n",
              "          const docLink = document.createElement('div');\n",
              "          docLink.innerHTML = docLinkHtml;\n",
              "          element.appendChild(docLink);\n",
              "        }\n",
              "      </script>\n",
              "    </div>\n",
              "  </div>\n",
              "  "
            ],
            "text/plain": [
              "           id             date     price  ...  year_code_1  month  month_code\n",
              "0  7129300520  20141013T000000  221900.0  ...            0     10           9\n",
              "1  6414100192  20141209T000000  538000.0  ...            0     12          11\n",
              "2  5631500400  20150225T000000  180000.0  ...            1     02           1\n",
              "3  2487200875  20141209T000000  604000.0  ...            0     12          11\n",
              "4  1954400510  20150218T000000  510000.0  ...            1     02           1\n",
              "\n",
              "[5 rows x 26 columns]"
            ]
          },
          "metadata": {},
          "execution_count": 118
        }
      ]
    },
    {
      "cell_type": "code",
      "source": [
        "df = pd.get_dummies(df, columns=['month_code'])\n",
        "df.head()"
      ],
      "metadata": {
        "colab": {
          "base_uri": "https://localhost:8080/",
          "height": 270
        },
        "id": "P99obOMbodet",
        "outputId": "d6b21868-0361-4125-bbac-3b9be0d8046d"
      },
      "execution_count": null,
      "outputs": [
        {
          "output_type": "execute_result",
          "data": {
            "text/html": [
              "\n",
              "  <div id=\"df-31f96121-961e-475f-8341-6a44e020d710\">\n",
              "    <div class=\"colab-df-container\">\n",
              "      <div>\n",
              "<style scoped>\n",
              "    .dataframe tbody tr th:only-of-type {\n",
              "        vertical-align: middle;\n",
              "    }\n",
              "\n",
              "    .dataframe tbody tr th {\n",
              "        vertical-align: top;\n",
              "    }\n",
              "\n",
              "    .dataframe thead th {\n",
              "        text-align: right;\n",
              "    }\n",
              "</style>\n",
              "<table border=\"1\" class=\"dataframe\">\n",
              "  <thead>\n",
              "    <tr style=\"text-align: right;\">\n",
              "      <th></th>\n",
              "      <th>id</th>\n",
              "      <th>date</th>\n",
              "      <th>price</th>\n",
              "      <th>bedrooms</th>\n",
              "      <th>bathrooms</th>\n",
              "      <th>sqft_living</th>\n",
              "      <th>sqft_lot</th>\n",
              "      <th>floors</th>\n",
              "      <th>waterfront</th>\n",
              "      <th>view</th>\n",
              "      <th>condition</th>\n",
              "      <th>grade</th>\n",
              "      <th>sqft_above</th>\n",
              "      <th>sqft_basement</th>\n",
              "      <th>yr_built</th>\n",
              "      <th>yr_renovated</th>\n",
              "      <th>zipcode</th>\n",
              "      <th>lat</th>\n",
              "      <th>long</th>\n",
              "      <th>sqft_living15</th>\n",
              "      <th>sqft_lot15</th>\n",
              "      <th>year</th>\n",
              "      <th>year_code_0</th>\n",
              "      <th>year_code_1</th>\n",
              "      <th>month</th>\n",
              "      <th>month_code_0</th>\n",
              "      <th>month_code_1</th>\n",
              "      <th>month_code_2</th>\n",
              "      <th>month_code_3</th>\n",
              "      <th>month_code_4</th>\n",
              "      <th>month_code_5</th>\n",
              "      <th>month_code_6</th>\n",
              "      <th>month_code_7</th>\n",
              "      <th>month_code_8</th>\n",
              "      <th>month_code_9</th>\n",
              "      <th>month_code_10</th>\n",
              "      <th>month_code_11</th>\n",
              "    </tr>\n",
              "  </thead>\n",
              "  <tbody>\n",
              "    <tr>\n",
              "      <th>0</th>\n",
              "      <td>7129300520</td>\n",
              "      <td>20141013T000000</td>\n",
              "      <td>221900.0</td>\n",
              "      <td>3</td>\n",
              "      <td>1.00</td>\n",
              "      <td>1180</td>\n",
              "      <td>5650</td>\n",
              "      <td>1.0</td>\n",
              "      <td>0</td>\n",
              "      <td>0</td>\n",
              "      <td>3</td>\n",
              "      <td>7</td>\n",
              "      <td>1180</td>\n",
              "      <td>0</td>\n",
              "      <td>1955</td>\n",
              "      <td>0</td>\n",
              "      <td>98178</td>\n",
              "      <td>47.5112</td>\n",
              "      <td>-122.257</td>\n",
              "      <td>1340</td>\n",
              "      <td>5650</td>\n",
              "      <td>2014</td>\n",
              "      <td>1</td>\n",
              "      <td>0</td>\n",
              "      <td>10</td>\n",
              "      <td>0</td>\n",
              "      <td>0</td>\n",
              "      <td>0</td>\n",
              "      <td>0</td>\n",
              "      <td>0</td>\n",
              "      <td>0</td>\n",
              "      <td>0</td>\n",
              "      <td>0</td>\n",
              "      <td>0</td>\n",
              "      <td>1</td>\n",
              "      <td>0</td>\n",
              "      <td>0</td>\n",
              "    </tr>\n",
              "    <tr>\n",
              "      <th>1</th>\n",
              "      <td>6414100192</td>\n",
              "      <td>20141209T000000</td>\n",
              "      <td>538000.0</td>\n",
              "      <td>3</td>\n",
              "      <td>2.25</td>\n",
              "      <td>2570</td>\n",
              "      <td>7242</td>\n",
              "      <td>2.0</td>\n",
              "      <td>0</td>\n",
              "      <td>0</td>\n",
              "      <td>3</td>\n",
              "      <td>7</td>\n",
              "      <td>2170</td>\n",
              "      <td>400</td>\n",
              "      <td>1951</td>\n",
              "      <td>1991</td>\n",
              "      <td>98125</td>\n",
              "      <td>47.7210</td>\n",
              "      <td>-122.319</td>\n",
              "      <td>1690</td>\n",
              "      <td>7639</td>\n",
              "      <td>2014</td>\n",
              "      <td>1</td>\n",
              "      <td>0</td>\n",
              "      <td>12</td>\n",
              "      <td>0</td>\n",
              "      <td>0</td>\n",
              "      <td>0</td>\n",
              "      <td>0</td>\n",
              "      <td>0</td>\n",
              "      <td>0</td>\n",
              "      <td>0</td>\n",
              "      <td>0</td>\n",
              "      <td>0</td>\n",
              "      <td>0</td>\n",
              "      <td>0</td>\n",
              "      <td>1</td>\n",
              "    </tr>\n",
              "    <tr>\n",
              "      <th>2</th>\n",
              "      <td>5631500400</td>\n",
              "      <td>20150225T000000</td>\n",
              "      <td>180000.0</td>\n",
              "      <td>2</td>\n",
              "      <td>1.00</td>\n",
              "      <td>770</td>\n",
              "      <td>10000</td>\n",
              "      <td>1.0</td>\n",
              "      <td>0</td>\n",
              "      <td>0</td>\n",
              "      <td>3</td>\n",
              "      <td>6</td>\n",
              "      <td>770</td>\n",
              "      <td>0</td>\n",
              "      <td>1933</td>\n",
              "      <td>0</td>\n",
              "      <td>98028</td>\n",
              "      <td>47.7379</td>\n",
              "      <td>-122.233</td>\n",
              "      <td>2720</td>\n",
              "      <td>8062</td>\n",
              "      <td>2015</td>\n",
              "      <td>0</td>\n",
              "      <td>1</td>\n",
              "      <td>02</td>\n",
              "      <td>0</td>\n",
              "      <td>1</td>\n",
              "      <td>0</td>\n",
              "      <td>0</td>\n",
              "      <td>0</td>\n",
              "      <td>0</td>\n",
              "      <td>0</td>\n",
              "      <td>0</td>\n",
              "      <td>0</td>\n",
              "      <td>0</td>\n",
              "      <td>0</td>\n",
              "      <td>0</td>\n",
              "    </tr>\n",
              "    <tr>\n",
              "      <th>3</th>\n",
              "      <td>2487200875</td>\n",
              "      <td>20141209T000000</td>\n",
              "      <td>604000.0</td>\n",
              "      <td>4</td>\n",
              "      <td>3.00</td>\n",
              "      <td>1960</td>\n",
              "      <td>5000</td>\n",
              "      <td>1.0</td>\n",
              "      <td>0</td>\n",
              "      <td>0</td>\n",
              "      <td>5</td>\n",
              "      <td>7</td>\n",
              "      <td>1050</td>\n",
              "      <td>910</td>\n",
              "      <td>1965</td>\n",
              "      <td>0</td>\n",
              "      <td>98136</td>\n",
              "      <td>47.5208</td>\n",
              "      <td>-122.393</td>\n",
              "      <td>1360</td>\n",
              "      <td>5000</td>\n",
              "      <td>2014</td>\n",
              "      <td>1</td>\n",
              "      <td>0</td>\n",
              "      <td>12</td>\n",
              "      <td>0</td>\n",
              "      <td>0</td>\n",
              "      <td>0</td>\n",
              "      <td>0</td>\n",
              "      <td>0</td>\n",
              "      <td>0</td>\n",
              "      <td>0</td>\n",
              "      <td>0</td>\n",
              "      <td>0</td>\n",
              "      <td>0</td>\n",
              "      <td>0</td>\n",
              "      <td>1</td>\n",
              "    </tr>\n",
              "    <tr>\n",
              "      <th>4</th>\n",
              "      <td>1954400510</td>\n",
              "      <td>20150218T000000</td>\n",
              "      <td>510000.0</td>\n",
              "      <td>3</td>\n",
              "      <td>2.00</td>\n",
              "      <td>1680</td>\n",
              "      <td>8080</td>\n",
              "      <td>1.0</td>\n",
              "      <td>0</td>\n",
              "      <td>0</td>\n",
              "      <td>3</td>\n",
              "      <td>8</td>\n",
              "      <td>1680</td>\n",
              "      <td>0</td>\n",
              "      <td>1987</td>\n",
              "      <td>0</td>\n",
              "      <td>98074</td>\n",
              "      <td>47.6168</td>\n",
              "      <td>-122.045</td>\n",
              "      <td>1800</td>\n",
              "      <td>7503</td>\n",
              "      <td>2015</td>\n",
              "      <td>0</td>\n",
              "      <td>1</td>\n",
              "      <td>02</td>\n",
              "      <td>0</td>\n",
              "      <td>1</td>\n",
              "      <td>0</td>\n",
              "      <td>0</td>\n",
              "      <td>0</td>\n",
              "      <td>0</td>\n",
              "      <td>0</td>\n",
              "      <td>0</td>\n",
              "      <td>0</td>\n",
              "      <td>0</td>\n",
              "      <td>0</td>\n",
              "      <td>0</td>\n",
              "    </tr>\n",
              "  </tbody>\n",
              "</table>\n",
              "</div>\n",
              "      <button class=\"colab-df-convert\" onclick=\"convertToInteractive('df-31f96121-961e-475f-8341-6a44e020d710')\"\n",
              "              title=\"Convert this dataframe to an interactive table.\"\n",
              "              style=\"display:none;\">\n",
              "        \n",
              "  <svg xmlns=\"http://www.w3.org/2000/svg\" height=\"24px\"viewBox=\"0 0 24 24\"\n",
              "       width=\"24px\">\n",
              "    <path d=\"M0 0h24v24H0V0z\" fill=\"none\"/>\n",
              "    <path d=\"M18.56 5.44l.94 2.06.94-2.06 2.06-.94-2.06-.94-.94-2.06-.94 2.06-2.06.94zm-11 1L8.5 8.5l.94-2.06 2.06-.94-2.06-.94L8.5 2.5l-.94 2.06-2.06.94zm10 10l.94 2.06.94-2.06 2.06-.94-2.06-.94-.94-2.06-.94 2.06-2.06.94z\"/><path d=\"M17.41 7.96l-1.37-1.37c-.4-.4-.92-.59-1.43-.59-.52 0-1.04.2-1.43.59L10.3 9.45l-7.72 7.72c-.78.78-.78 2.05 0 2.83L4 21.41c.39.39.9.59 1.41.59.51 0 1.02-.2 1.41-.59l7.78-7.78 2.81-2.81c.8-.78.8-2.07 0-2.86zM5.41 20L4 18.59l7.72-7.72 1.47 1.35L5.41 20z\"/>\n",
              "  </svg>\n",
              "      </button>\n",
              "      \n",
              "  <style>\n",
              "    .colab-df-container {\n",
              "      display:flex;\n",
              "      flex-wrap:wrap;\n",
              "      gap: 12px;\n",
              "    }\n",
              "\n",
              "    .colab-df-convert {\n",
              "      background-color: #E8F0FE;\n",
              "      border: none;\n",
              "      border-radius: 50%;\n",
              "      cursor: pointer;\n",
              "      display: none;\n",
              "      fill: #1967D2;\n",
              "      height: 32px;\n",
              "      padding: 0 0 0 0;\n",
              "      width: 32px;\n",
              "    }\n",
              "\n",
              "    .colab-df-convert:hover {\n",
              "      background-color: #E2EBFA;\n",
              "      box-shadow: 0px 1px 2px rgba(60, 64, 67, 0.3), 0px 1px 3px 1px rgba(60, 64, 67, 0.15);\n",
              "      fill: #174EA6;\n",
              "    }\n",
              "\n",
              "    [theme=dark] .colab-df-convert {\n",
              "      background-color: #3B4455;\n",
              "      fill: #D2E3FC;\n",
              "    }\n",
              "\n",
              "    [theme=dark] .colab-df-convert:hover {\n",
              "      background-color: #434B5C;\n",
              "      box-shadow: 0px 1px 3px 1px rgba(0, 0, 0, 0.15);\n",
              "      filter: drop-shadow(0px 1px 2px rgba(0, 0, 0, 0.3));\n",
              "      fill: #FFFFFF;\n",
              "    }\n",
              "  </style>\n",
              "\n",
              "      <script>\n",
              "        const buttonEl =\n",
              "          document.querySelector('#df-31f96121-961e-475f-8341-6a44e020d710 button.colab-df-convert');\n",
              "        buttonEl.style.display =\n",
              "          google.colab.kernel.accessAllowed ? 'block' : 'none';\n",
              "\n",
              "        async function convertToInteractive(key) {\n",
              "          const element = document.querySelector('#df-31f96121-961e-475f-8341-6a44e020d710');\n",
              "          const dataTable =\n",
              "            await google.colab.kernel.invokeFunction('convertToInteractive',\n",
              "                                                     [key], {});\n",
              "          if (!dataTable) return;\n",
              "\n",
              "          const docLinkHtml = 'Like what you see? Visit the ' +\n",
              "            '<a target=\"_blank\" href=https://colab.research.google.com/notebooks/data_table.ipynb>data table notebook</a>'\n",
              "            + ' to learn more about interactive tables.';\n",
              "          element.innerHTML = '';\n",
              "          dataTable['output_type'] = 'display_data';\n",
              "          await google.colab.output.renderOutput(dataTable, element);\n",
              "          const docLink = document.createElement('div');\n",
              "          docLink.innerHTML = docLinkHtml;\n",
              "          element.appendChild(docLink);\n",
              "        }\n",
              "      </script>\n",
              "    </div>\n",
              "  </div>\n",
              "  "
            ],
            "text/plain": [
              "           id             date  ...  month_code_10  month_code_11\n",
              "0  7129300520  20141013T000000  ...              0              0\n",
              "1  6414100192  20141209T000000  ...              0              1\n",
              "2  5631500400  20150225T000000  ...              0              0\n",
              "3  2487200875  20141209T000000  ...              0              1\n",
              "4  1954400510  20150218T000000  ...              0              0\n",
              "\n",
              "[5 rows x 37 columns]"
            ]
          },
          "metadata": {},
          "execution_count": 119
        }
      ]
    },
    {
      "cell_type": "markdown",
      "source": [
        "# 불필요한 컬럼 삭제"
      ],
      "metadata": {
        "id": "UBiVJ7WMoo7G"
      }
    },
    {
      "cell_type": "code",
      "source": [
        "df.drop(columns=[\"id\", \"date\", \"year\", \"month\"], inplace=True)\n",
        "df.head()"
      ],
      "metadata": {
        "colab": {
          "base_uri": "https://localhost:8080/",
          "height": 270
        },
        "id": "68plYh4xoih_",
        "outputId": "0ec30608-6298-4529-f2fe-52c4a2b2c991"
      },
      "execution_count": null,
      "outputs": [
        {
          "output_type": "execute_result",
          "data": {
            "text/html": [
              "\n",
              "  <div id=\"df-b33874d7-6e11-4893-b951-19498caa529e\">\n",
              "    <div class=\"colab-df-container\">\n",
              "      <div>\n",
              "<style scoped>\n",
              "    .dataframe tbody tr th:only-of-type {\n",
              "        vertical-align: middle;\n",
              "    }\n",
              "\n",
              "    .dataframe tbody tr th {\n",
              "        vertical-align: top;\n",
              "    }\n",
              "\n",
              "    .dataframe thead th {\n",
              "        text-align: right;\n",
              "    }\n",
              "</style>\n",
              "<table border=\"1\" class=\"dataframe\">\n",
              "  <thead>\n",
              "    <tr style=\"text-align: right;\">\n",
              "      <th></th>\n",
              "      <th>price</th>\n",
              "      <th>bedrooms</th>\n",
              "      <th>bathrooms</th>\n",
              "      <th>sqft_living</th>\n",
              "      <th>sqft_lot</th>\n",
              "      <th>floors</th>\n",
              "      <th>waterfront</th>\n",
              "      <th>view</th>\n",
              "      <th>condition</th>\n",
              "      <th>grade</th>\n",
              "      <th>sqft_above</th>\n",
              "      <th>sqft_basement</th>\n",
              "      <th>yr_built</th>\n",
              "      <th>yr_renovated</th>\n",
              "      <th>zipcode</th>\n",
              "      <th>lat</th>\n",
              "      <th>long</th>\n",
              "      <th>sqft_living15</th>\n",
              "      <th>sqft_lot15</th>\n",
              "      <th>year_code_0</th>\n",
              "      <th>year_code_1</th>\n",
              "      <th>month_code_0</th>\n",
              "      <th>month_code_1</th>\n",
              "      <th>month_code_2</th>\n",
              "      <th>month_code_3</th>\n",
              "      <th>month_code_4</th>\n",
              "      <th>month_code_5</th>\n",
              "      <th>month_code_6</th>\n",
              "      <th>month_code_7</th>\n",
              "      <th>month_code_8</th>\n",
              "      <th>month_code_9</th>\n",
              "      <th>month_code_10</th>\n",
              "      <th>month_code_11</th>\n",
              "    </tr>\n",
              "  </thead>\n",
              "  <tbody>\n",
              "    <tr>\n",
              "      <th>0</th>\n",
              "      <td>221900.0</td>\n",
              "      <td>3</td>\n",
              "      <td>1.00</td>\n",
              "      <td>1180</td>\n",
              "      <td>5650</td>\n",
              "      <td>1.0</td>\n",
              "      <td>0</td>\n",
              "      <td>0</td>\n",
              "      <td>3</td>\n",
              "      <td>7</td>\n",
              "      <td>1180</td>\n",
              "      <td>0</td>\n",
              "      <td>1955</td>\n",
              "      <td>0</td>\n",
              "      <td>98178</td>\n",
              "      <td>47.5112</td>\n",
              "      <td>-122.257</td>\n",
              "      <td>1340</td>\n",
              "      <td>5650</td>\n",
              "      <td>1</td>\n",
              "      <td>0</td>\n",
              "      <td>0</td>\n",
              "      <td>0</td>\n",
              "      <td>0</td>\n",
              "      <td>0</td>\n",
              "      <td>0</td>\n",
              "      <td>0</td>\n",
              "      <td>0</td>\n",
              "      <td>0</td>\n",
              "      <td>0</td>\n",
              "      <td>1</td>\n",
              "      <td>0</td>\n",
              "      <td>0</td>\n",
              "    </tr>\n",
              "    <tr>\n",
              "      <th>1</th>\n",
              "      <td>538000.0</td>\n",
              "      <td>3</td>\n",
              "      <td>2.25</td>\n",
              "      <td>2570</td>\n",
              "      <td>7242</td>\n",
              "      <td>2.0</td>\n",
              "      <td>0</td>\n",
              "      <td>0</td>\n",
              "      <td>3</td>\n",
              "      <td>7</td>\n",
              "      <td>2170</td>\n",
              "      <td>400</td>\n",
              "      <td>1951</td>\n",
              "      <td>1991</td>\n",
              "      <td>98125</td>\n",
              "      <td>47.7210</td>\n",
              "      <td>-122.319</td>\n",
              "      <td>1690</td>\n",
              "      <td>7639</td>\n",
              "      <td>1</td>\n",
              "      <td>0</td>\n",
              "      <td>0</td>\n",
              "      <td>0</td>\n",
              "      <td>0</td>\n",
              "      <td>0</td>\n",
              "      <td>0</td>\n",
              "      <td>0</td>\n",
              "      <td>0</td>\n",
              "      <td>0</td>\n",
              "      <td>0</td>\n",
              "      <td>0</td>\n",
              "      <td>0</td>\n",
              "      <td>1</td>\n",
              "    </tr>\n",
              "    <tr>\n",
              "      <th>2</th>\n",
              "      <td>180000.0</td>\n",
              "      <td>2</td>\n",
              "      <td>1.00</td>\n",
              "      <td>770</td>\n",
              "      <td>10000</td>\n",
              "      <td>1.0</td>\n",
              "      <td>0</td>\n",
              "      <td>0</td>\n",
              "      <td>3</td>\n",
              "      <td>6</td>\n",
              "      <td>770</td>\n",
              "      <td>0</td>\n",
              "      <td>1933</td>\n",
              "      <td>0</td>\n",
              "      <td>98028</td>\n",
              "      <td>47.7379</td>\n",
              "      <td>-122.233</td>\n",
              "      <td>2720</td>\n",
              "      <td>8062</td>\n",
              "      <td>0</td>\n",
              "      <td>1</td>\n",
              "      <td>0</td>\n",
              "      <td>1</td>\n",
              "      <td>0</td>\n",
              "      <td>0</td>\n",
              "      <td>0</td>\n",
              "      <td>0</td>\n",
              "      <td>0</td>\n",
              "      <td>0</td>\n",
              "      <td>0</td>\n",
              "      <td>0</td>\n",
              "      <td>0</td>\n",
              "      <td>0</td>\n",
              "    </tr>\n",
              "    <tr>\n",
              "      <th>3</th>\n",
              "      <td>604000.0</td>\n",
              "      <td>4</td>\n",
              "      <td>3.00</td>\n",
              "      <td>1960</td>\n",
              "      <td>5000</td>\n",
              "      <td>1.0</td>\n",
              "      <td>0</td>\n",
              "      <td>0</td>\n",
              "      <td>5</td>\n",
              "      <td>7</td>\n",
              "      <td>1050</td>\n",
              "      <td>910</td>\n",
              "      <td>1965</td>\n",
              "      <td>0</td>\n",
              "      <td>98136</td>\n",
              "      <td>47.5208</td>\n",
              "      <td>-122.393</td>\n",
              "      <td>1360</td>\n",
              "      <td>5000</td>\n",
              "      <td>1</td>\n",
              "      <td>0</td>\n",
              "      <td>0</td>\n",
              "      <td>0</td>\n",
              "      <td>0</td>\n",
              "      <td>0</td>\n",
              "      <td>0</td>\n",
              "      <td>0</td>\n",
              "      <td>0</td>\n",
              "      <td>0</td>\n",
              "      <td>0</td>\n",
              "      <td>0</td>\n",
              "      <td>0</td>\n",
              "      <td>1</td>\n",
              "    </tr>\n",
              "    <tr>\n",
              "      <th>4</th>\n",
              "      <td>510000.0</td>\n",
              "      <td>3</td>\n",
              "      <td>2.00</td>\n",
              "      <td>1680</td>\n",
              "      <td>8080</td>\n",
              "      <td>1.0</td>\n",
              "      <td>0</td>\n",
              "      <td>0</td>\n",
              "      <td>3</td>\n",
              "      <td>8</td>\n",
              "      <td>1680</td>\n",
              "      <td>0</td>\n",
              "      <td>1987</td>\n",
              "      <td>0</td>\n",
              "      <td>98074</td>\n",
              "      <td>47.6168</td>\n",
              "      <td>-122.045</td>\n",
              "      <td>1800</td>\n",
              "      <td>7503</td>\n",
              "      <td>0</td>\n",
              "      <td>1</td>\n",
              "      <td>0</td>\n",
              "      <td>1</td>\n",
              "      <td>0</td>\n",
              "      <td>0</td>\n",
              "      <td>0</td>\n",
              "      <td>0</td>\n",
              "      <td>0</td>\n",
              "      <td>0</td>\n",
              "      <td>0</td>\n",
              "      <td>0</td>\n",
              "      <td>0</td>\n",
              "      <td>0</td>\n",
              "    </tr>\n",
              "  </tbody>\n",
              "</table>\n",
              "</div>\n",
              "      <button class=\"colab-df-convert\" onclick=\"convertToInteractive('df-b33874d7-6e11-4893-b951-19498caa529e')\"\n",
              "              title=\"Convert this dataframe to an interactive table.\"\n",
              "              style=\"display:none;\">\n",
              "        \n",
              "  <svg xmlns=\"http://www.w3.org/2000/svg\" height=\"24px\"viewBox=\"0 0 24 24\"\n",
              "       width=\"24px\">\n",
              "    <path d=\"M0 0h24v24H0V0z\" fill=\"none\"/>\n",
              "    <path d=\"M18.56 5.44l.94 2.06.94-2.06 2.06-.94-2.06-.94-.94-2.06-.94 2.06-2.06.94zm-11 1L8.5 8.5l.94-2.06 2.06-.94-2.06-.94L8.5 2.5l-.94 2.06-2.06.94zm10 10l.94 2.06.94-2.06 2.06-.94-2.06-.94-.94-2.06-.94 2.06-2.06.94z\"/><path d=\"M17.41 7.96l-1.37-1.37c-.4-.4-.92-.59-1.43-.59-.52 0-1.04.2-1.43.59L10.3 9.45l-7.72 7.72c-.78.78-.78 2.05 0 2.83L4 21.41c.39.39.9.59 1.41.59.51 0 1.02-.2 1.41-.59l7.78-7.78 2.81-2.81c.8-.78.8-2.07 0-2.86zM5.41 20L4 18.59l7.72-7.72 1.47 1.35L5.41 20z\"/>\n",
              "  </svg>\n",
              "      </button>\n",
              "      \n",
              "  <style>\n",
              "    .colab-df-container {\n",
              "      display:flex;\n",
              "      flex-wrap:wrap;\n",
              "      gap: 12px;\n",
              "    }\n",
              "\n",
              "    .colab-df-convert {\n",
              "      background-color: #E8F0FE;\n",
              "      border: none;\n",
              "      border-radius: 50%;\n",
              "      cursor: pointer;\n",
              "      display: none;\n",
              "      fill: #1967D2;\n",
              "      height: 32px;\n",
              "      padding: 0 0 0 0;\n",
              "      width: 32px;\n",
              "    }\n",
              "\n",
              "    .colab-df-convert:hover {\n",
              "      background-color: #E2EBFA;\n",
              "      box-shadow: 0px 1px 2px rgba(60, 64, 67, 0.3), 0px 1px 3px 1px rgba(60, 64, 67, 0.15);\n",
              "      fill: #174EA6;\n",
              "    }\n",
              "\n",
              "    [theme=dark] .colab-df-convert {\n",
              "      background-color: #3B4455;\n",
              "      fill: #D2E3FC;\n",
              "    }\n",
              "\n",
              "    [theme=dark] .colab-df-convert:hover {\n",
              "      background-color: #434B5C;\n",
              "      box-shadow: 0px 1px 3px 1px rgba(0, 0, 0, 0.15);\n",
              "      filter: drop-shadow(0px 1px 2px rgba(0, 0, 0, 0.3));\n",
              "      fill: #FFFFFF;\n",
              "    }\n",
              "  </style>\n",
              "\n",
              "      <script>\n",
              "        const buttonEl =\n",
              "          document.querySelector('#df-b33874d7-6e11-4893-b951-19498caa529e button.colab-df-convert');\n",
              "        buttonEl.style.display =\n",
              "          google.colab.kernel.accessAllowed ? 'block' : 'none';\n",
              "\n",
              "        async function convertToInteractive(key) {\n",
              "          const element = document.querySelector('#df-b33874d7-6e11-4893-b951-19498caa529e');\n",
              "          const dataTable =\n",
              "            await google.colab.kernel.invokeFunction('convertToInteractive',\n",
              "                                                     [key], {});\n",
              "          if (!dataTable) return;\n",
              "\n",
              "          const docLinkHtml = 'Like what you see? Visit the ' +\n",
              "            '<a target=\"_blank\" href=https://colab.research.google.com/notebooks/data_table.ipynb>data table notebook</a>'\n",
              "            + ' to learn more about interactive tables.';\n",
              "          element.innerHTML = '';\n",
              "          dataTable['output_type'] = 'display_data';\n",
              "          await google.colab.output.renderOutput(dataTable, element);\n",
              "          const docLink = document.createElement('div');\n",
              "          docLink.innerHTML = docLinkHtml;\n",
              "          element.appendChild(docLink);\n",
              "        }\n",
              "      </script>\n",
              "    </div>\n",
              "  </div>\n",
              "  "
            ],
            "text/plain": [
              "      price  bedrooms  bathrooms  ...  month_code_9  month_code_10  month_code_11\n",
              "0  221900.0         3       1.00  ...             1              0              0\n",
              "1  538000.0         3       2.25  ...             0              0              1\n",
              "2  180000.0         2       1.00  ...             0              0              0\n",
              "3  604000.0         4       3.00  ...             0              0              1\n",
              "4  510000.0         3       2.00  ...             0              0              0\n",
              "\n",
              "[5 rows x 33 columns]"
            ]
          },
          "metadata": {},
          "execution_count": 120
        }
      ]
    },
    {
      "cell_type": "markdown",
      "source": [
        "# 이상치 처리"
      ],
      "metadata": {
        "id": "WhaS4d3guGbe"
      }
    },
    {
      "cell_type": "code",
      "source": [
        "to_be_removed_columns = []"
      ],
      "metadata": {
        "id": "UX3_nAJeSnTi"
      },
      "execution_count": null,
      "outputs": []
    },
    {
      "cell_type": "markdown",
      "source": [
        "## 로그화"
      ],
      "metadata": {
        "id": "XrShU3ZvSsoy"
      }
    },
    {
      "cell_type": "code",
      "source": [
        "for i in range(len(df.columns)):\n",
        "    if \"_code_\" in df.columns[i]: continue\n",
        "    print(df.columns[i])\n",
        "    plt.hist(df.iloc[:,i], bins=100)\n",
        "    plt.show()\n",
        "\n"
      ],
      "metadata": {
        "colab": {
          "base_uri": "https://localhost:8080/",
          "height": 1000
        },
        "id": "MGOvMSCqtpkA",
        "outputId": "dde98d7a-0079-4fd9-cd98-a09866308c4e"
      },
      "execution_count": null,
      "outputs": [
        {
          "output_type": "stream",
          "name": "stdout",
          "text": [
            "price\n"
          ]
        },
        {
          "output_type": "display_data",
          "data": {
            "image/png": "[encoded data removed]",
            "text/plain": [
              "<Figure size 432x288 with 1 Axes>"
            ]
          },
          "metadata": {
            "needs_background": "light"
          }
        },
        {
          "output_type": "stream",
          "name": "stdout",
          "text": [
            "bedrooms\n"
          ]
        },
        {
          "output_type": "display_data",
          "data": {
            "image/png": "[encoded data removed]",
            "text/plain": [
              "<Figure size 432x288 with 1 Axes>"
            ]
          },
          "metadata": {
            "needs_background": "light"
          }
        },
        {
          "output_type": "stream",
          "name": "stdout",
          "text": [
            "bathrooms\n"
          ]
        },
        {
          "output_type": "display_data",
          "data": {
            "image/png": "[encoded data removed]",
            "text/plain": [
              "<Figure size 432x288 with 1 Axes>"
            ]
          },
          "metadata": {
            "needs_background": "light"
          }
        },
        {
          "output_type": "stream",
          "name": "stdout",
          "text": [
            "sqft_living\n"
          ]
        },
        {
          "output_type": "display_data",
          "data": {
            "image/png": "[encoded data removed]",
            "text/plain": [
              "<Figure size 432x288 with 1 Axes>"
            ]
          },
          "metadata": {
            "needs_background": "light"
          }
        },
        {
          "output_type": "stream",
          "name": "stdout",
          "text": [
            "sqft_lot\n"
          ]
        },
        {
          "output_type": "display_data",
          "data": {
            "image/png": "[encoded data removed]",
            "text/plain": [
              "<Figure size 432x288 with 1 Axes>"
            ]
          },
          "metadata": {
            "needs_background": "light"
          }
        },
        {
          "output_type": "stream",
          "name": "stdout",
          "text": [
            "floors\n"
          ]
        },
        {
          "output_type": "display_data",
          "data": {
            "image/png": "[encoded data removed]",
            "text/plain": [
              "<Figure size 432x288 with 1 Axes>"
            ]
          },
          "metadata": {
            "needs_background": "light"
          }
        },
        {
          "output_type": "stream",
          "name": "stdout",
          "text": [
            "waterfront\n"
          ]
        },
        {
          "output_type": "display_data",
          "data": {
            "image/png": "[encoded data removed]",
            "text/plain": [
              "<Figure size 432x288 with 1 Axes>"
            ]
          },
          "metadata": {
            "needs_background": "light"
          }
        },
        {
          "output_type": "stream",
          "name": "stdout",
          "text": [
            "view\n"
          ]
        },
        {
          "output_type": "display_data",
          "data": {
            "image/png": "[encoded data removed]",
            "text/plain": [
              "<Figure size 432x288 with 1 Axes>"
            ]
          },
          "metadata": {
            "needs_background": "light"
          }
        },
        {
          "output_type": "stream",
          "name": "stdout",
          "text": [
            "condition\n"
          ]
        },
        {
          "output_type": "display_data",
          "data": {
            "image/png": "[encoded data removed]",
            "text/plain": [
              "<Figure size 432x288 with 1 Axes>"
            ]
          },
          "metadata": {
            "needs_background": "light"
          }
        },
        {
          "output_type": "stream",
          "name": "stdout",
          "text": [
            "grade\n"
          ]
        },
        {
          "output_type": "display_data",
          "data": {
            "image/png": "[encoded data removed]",
            "text/plain": [
              "<Figure size 432x288 with 1 Axes>"
            ]
          },
          "metadata": {
            "needs_background": "light"
          }
        },
        {
          "output_type": "stream",
          "name": "stdout",
          "text": [
            "sqft_above\n"
          ]
        },
        {
          "output_type": "display_data",
          "data": {
            "image/png": "[encoded data removed]",
            "text/plain": [
              "<Figure size 432x288 with 1 Axes>"
            ]
          },
          "metadata": {
            "needs_background": "light"
          }
        },
        {
          "output_type": "stream",
          "name": "stdout",
          "text": [
            "sqft_basement\n"
          ]
        },
        {
          "output_type": "display_data",
          "data": {
            "image/png": "[encoded data removed]",
            "text/plain": [
              "<Figure size 432x288 with 1 Axes>"
            ]
          },
          "metadata": {
            "needs_background": "light"
          }
        },
        {
          "output_type": "stream",
          "name": "stdout",
          "text": [
            "yr_built\n"
          ]
        },
        {
          "output_type": "display_data",
          "data": {
            "image/png": "[encoded data removed]",
            "text/plain": [
              "<Figure size 432x288 with 1 Axes>"
            ]
          },
          "metadata": {
            "needs_background": "light"
          }
        },
        {
          "output_type": "stream",
          "name": "stdout",
          "text": [
            "yr_renovated\n"
          ]
        },
        {
          "output_type": "display_data",
          "data": {
            "image/png": "[encoded data removed]",
            "text/plain": [
              "<Figure size 432x288 with 1 Axes>"
            ]
          },
          "metadata": {
            "needs_background": "light"
          }
        },
        {
          "output_type": "stream",
          "name": "stdout",
          "text": [
            "zipcode\n"
          ]
        },
        {
          "output_type": "display_data",
          "data": {
            "image/png": "[encoded data removed]",
            "text/plain": [
              "<Figure size 432x288 with 1 Axes>"
            ]
          },
          "metadata": {
            "needs_background": "light"
          }
        },
        {
          "output_type": "stream",
          "name": "stdout",
          "text": [
            "lat\n"
          ]
        },
        {
          "output_type": "display_data",
          "data": {
            "image/png": "[encoded data removed]",
            "text/plain": [
              "<Figure size 432x288 with 1 Axes>"
            ]
          },
          "metadata": {
            "needs_background": "light"
          }
        },
        {
          "output_type": "stream",
          "name": "stdout",
          "text": [
            "long\n"
          ]
        },
        {
          "output_type": "display_data",
          "data": {
            "image/png": "[encoded data removed]",
            "text/plain": [
              "<Figure size 432x288 with 1 Axes>"
            ]
          },
          "metadata": {
            "needs_background": "light"
          }
        },
        {
          "output_type": "stream",
          "name": "stdout",
          "text": [
            "sqft_living15\n"
          ]
        },
        {
          "output_type": "display_data",
          "data": {
            "image/png": "[encoded data removed]",
            "text/plain": [
              "<Figure size 432x288 with 1 Axes>"
            ]
          },
          "metadata": {
            "needs_background": "light"
          }
        },
        {
          "output_type": "stream",
          "name": "stdout",
          "text": [
            "sqft_lot15\n"
          ]
        },
        {
          "output_type": "display_data",
          "data": {
            "image/png": "[encoded data removed]",
            "text/plain": [
              "<Figure size 432x288 with 1 Axes>"
            ]
          },
          "metadata": {
            "needs_background": "light"
          }
        }
      ]
    },
    {
      "cell_type": "code",
      "source": [
        "log_target_column = [ 'price', 'sqft_living', 'sqft_lot', 'sqft_above', 'sqft_basement', 'sqft_lot15' ]\n",
        "\n",
        "for column_name in log_target_column:\n",
        "    print(column_name, df[column_name].min(), df[column_name].max())\n",
        "    plt.hist(np.log10(df[column_name]+1), bins=100)\n",
        "    plt.show()\n",
        "    df[\"log_{}\".format(column_name)] = np.log10(df[column_name]+1)\n",
        "\n",
        "to_be_removed_columns.extend(log_target_column)\n"
      ],
      "metadata": {
        "colab": {
          "base_uri": "https://localhost:8080/",
          "height": 1000
        },
        "id": "SS4T_ImBO-nn",
        "outputId": "91601230-5b16-458c-b500-507368dee23e"
      },
      "execution_count": null,
      "outputs": [
        {
          "output_type": "stream",
          "name": "stdout",
          "text": [
            "price 75000.0 7700000.0\n"
          ]
        },
        {
          "output_type": "display_data",
          "data": {
            "image/png": "[encoded data removed]",
            "text/plain": [
              "<Figure size 432x288 with 1 Axes>"
            ]
          },
          "metadata": {
            "needs_background": "light"
          }
        },
        {
          "output_type": "stream",
          "name": "stdout",
          "text": [
            "sqft_living 290 13540\n"
          ]
        },
        {
          "output_type": "display_data",
          "data": {
            "image/png": "[encoded data removed]",
            "text/plain": [
              "<Figure size 432x288 with 1 Axes>"
            ]
          },
          "metadata": {
            "needs_background": "light"
          }
        },
        {
          "output_type": "stream",
          "name": "stdout",
          "text": [
            "sqft_lot 520 1651359\n"
          ]
        },
        {
          "output_type": "display_data",
          "data": {
            "image/png": "[encoded data removed]",
            "text/plain": [
              "<Figure size 432x288 with 1 Axes>"
            ]
          },
          "metadata": {
            "needs_background": "light"
          }
        },
        {
          "output_type": "stream",
          "name": "stdout",
          "text": [
            "sqft_above 290 9410\n"
          ]
        },
        {
          "output_type": "display_data",
          "data": {
            "image/png": "[encoded data removed]",
            "text/plain": [
              "<Figure size 432x288 with 1 Axes>"
            ]
          },
          "metadata": {
            "needs_background": "light"
          }
        },
        {
          "output_type": "stream",
          "name": "stdout",
          "text": [
            "sqft_basement 0 4820\n"
          ]
        },
        {
          "output_type": "display_data",
          "data": {
            "image/png": "[encoded data removed]",
            "text/plain": [
              "<Figure size 432x288 with 1 Axes>"
            ]
          },
          "metadata": {
            "needs_background": "light"
          }
        },
        {
          "output_type": "stream",
          "name": "stdout",
          "text": [
            "sqft_lot15 651 871200\n"
          ]
        },
        {
          "output_type": "display_data",
          "data": {
            "image/png": "[encoded data removed]",
            "text/plain": [
              "<Figure size 432x288 with 1 Axes>"
            ]
          },
          "metadata": {
            "needs_background": "light"
          }
        }
      ]
    },
    {
      "cell_type": "markdown",
      "source": [
        "## 강제 최대값 설정"
      ],
      "metadata": {
        "id": "hVgnpjuWTUaT"
      }
    },
    {
      "cell_type": "code",
      "source": [
        "for i in range(len(df.columns)):\n",
        "    if \"_code_\" in df.columns[i]: continue\n",
        "    if df.columns[i] in to_be_removed_columns: continue\n",
        "    print(df.columns[i])\n",
        "    plt.hist(df.iloc[:,i], bins=100)\n",
        "    plt.show()\n",
        "\n"
      ],
      "metadata": {
        "colab": {
          "base_uri": "https://localhost:8080/",
          "height": 1000
        },
        "id": "ezfUfDavTTa8",
        "outputId": "bb359ee7-da68-4c9c-9805-beaeec61bd96"
      },
      "execution_count": null,
      "outputs": [
        {
          "output_type": "stream",
          "name": "stdout",
          "text": [
            "bedrooms\n"
          ]
        },
        {
          "output_type": "display_data",
          "data": {
            "image/png": "[encoded data removed]",
            "text/plain": [
              "<Figure size 432x288 with 1 Axes>"
            ]
          },
          "metadata": {
            "needs_background": "light"
          }
        },
        {
          "output_type": "stream",
          "name": "stdout",
          "text": [
            "bathrooms\n"
          ]
        },
        {
          "output_type": "display_data",
          "data": {
            "image/png": "[encoded data removed]",
            "text/plain": [
              "<Figure size 432x288 with 1 Axes>"
            ]
          },
          "metadata": {
            "needs_background": "light"
          }
        },
        {
          "output_type": "stream",
          "name": "stdout",
          "text": [
            "floors\n"
          ]
        },
        {
          "output_type": "display_data",
          "data": {
            "image/png": "[encoded data removed]",
            "text/plain": [
              "<Figure size 432x288 with 1 Axes>"
            ]
          },
          "metadata": {
            "needs_background": "light"
          }
        },
        {
          "output_type": "stream",
          "name": "stdout",
          "text": [
            "waterfront\n"
          ]
        },
        {
          "output_type": "display_data",
          "data": {
            "image/png": "[encoded data removed]",
            "text/plain": [
              "<Figure size 432x288 with 1 Axes>"
            ]
          },
          "metadata": {
            "needs_background": "light"
          }
        },
        {
          "output_type": "stream",
          "name": "stdout",
          "text": [
            "view\n"
          ]
        },
        {
          "output_type": "display_data",
          "data": {
            "image/png": "[encoded data removed]",
            "text/plain": [
              "<Figure size 432x288 with 1 Axes>"
            ]
          },
          "metadata": {
            "needs_background": "light"
          }
        },
        {
          "output_type": "stream",
          "name": "stdout",
          "text": [
            "condition\n"
          ]
        },
        {
          "output_type": "display_data",
          "data": {
            "image/png": "[encoded data removed]",
            "text/plain": [
              "<Figure size 432x288 with 1 Axes>"
            ]
          },
          "metadata": {
            "needs_background": "light"
          }
        },
        {
          "output_type": "stream",
          "name": "stdout",
          "text": [
            "grade\n"
          ]
        },
        {
          "output_type": "display_data",
          "data": {
            "image/png": "[encoded data removed]",
            "text/plain": [
              "<Figure size 432x288 with 1 Axes>"
            ]
          },
          "metadata": {
            "needs_background": "light"
          }
        },
        {
          "output_type": "stream",
          "name": "stdout",
          "text": [
            "yr_built\n"
          ]
        },
        {
          "output_type": "display_data",
          "data": {
            "image/png": "[encoded data removed]",
            "text/plain": [
              "<Figure size 432x288 with 1 Axes>"
            ]
          },
          "metadata": {
            "needs_background": "light"
          }
        },
        {
          "output_type": "stream",
          "name": "stdout",
          "text": [
            "yr_renovated\n"
          ]
        },
        {
          "output_type": "display_data",
          "data": {
            "image/png": "[encoded data removed]",
            "text/plain": [
              "<Figure size 432x288 with 1 Axes>"
            ]
          },
          "metadata": {
            "needs_background": "light"
          }
        },
        {
          "output_type": "stream",
          "name": "stdout",
          "text": [
            "zipcode\n"
          ]
        },
        {
          "output_type": "display_data",
          "data": {
            "image/png": "[encoded data removed]",
            "text/plain": [
              "<Figure size 432x288 with 1 Axes>"
            ]
          },
          "metadata": {
            "needs_background": "light"
          }
        },
        {
          "output_type": "stream",
          "name": "stdout",
          "text": [
            "lat\n"
          ]
        },
        {
          "output_type": "display_data",
          "data": {
            "image/png": "[encoded data removed]",
            "text/plain": [
              "<Figure size 432x288 with 1 Axes>"
            ]
          },
          "metadata": {
            "needs_background": "light"
          }
        },
        {
          "output_type": "stream",
          "name": "stdout",
          "text": [
            "long\n"
          ]
        },
        {
          "output_type": "display_data",
          "data": {
            "image/png": "[encoded data removed]",
            "text/plain": [
              "<Figure size 432x288 with 1 Axes>"
            ]
          },
          "metadata": {
            "needs_background": "light"
          }
        },
        {
          "output_type": "stream",
          "name": "stdout",
          "text": [
            "sqft_living15\n"
          ]
        },
        {
          "output_type": "display_data",
          "data": {
            "image/png": "[encoded data removed]",
            "text/plain": [
              "<Figure size 432x288 with 1 Axes>"
            ]
          },
          "metadata": {
            "needs_background": "light"
          }
        },
        {
          "output_type": "stream",
          "name": "stdout",
          "text": [
            "log_price\n"
          ]
        },
        {
          "output_type": "display_data",
          "data": {
            "image/png": "[encoded data removed]",
            "text/plain": [
              "<Figure size 432x288 with 1 Axes>"
            ]
          },
          "metadata": {
            "needs_background": "light"
          }
        },
        {
          "output_type": "stream",
          "name": "stdout",
          "text": [
            "log_sqft_living\n"
          ]
        },
        {
          "output_type": "display_data",
          "data": {
            "image/png": "[encoded data removed]",
            "text/plain": [
              "<Figure size 432x288 with 1 Axes>"
            ]
          },
          "metadata": {
            "needs_background": "light"
          }
        },
        {
          "output_type": "stream",
          "name": "stdout",
          "text": [
            "log_sqft_lot\n"
          ]
        },
        {
          "output_type": "display_data",
          "data": {
            "image/png": "[encoded data removed]",
            "text/plain": [
              "<Figure size 432x288 with 1 Axes>"
            ]
          },
          "metadata": {
            "needs_background": "light"
          }
        },
        {
          "output_type": "stream",
          "name": "stdout",
          "text": [
            "log_sqft_above\n"
          ]
        },
        {
          "output_type": "display_data",
          "data": {
            "image/png": "[encoded data removed]",
            "text/plain": [
              "<Figure size 432x288 with 1 Axes>"
            ]
          },
          "metadata": {
            "needs_background": "light"
          }
        },
        {
          "output_type": "stream",
          "name": "stdout",
          "text": [
            "log_sqft_basement\n"
          ]
        },
        {
          "output_type": "display_data",
          "data": {
            "image/png": "[encoded data removed]",
            "text/plain": [
              "<Figure size 432x288 with 1 Axes>"
            ]
          },
          "metadata": {
            "needs_background": "light"
          }
        },
        {
          "output_type": "stream",
          "name": "stdout",
          "text": [
            "log_sqft_lot15\n"
          ]
        },
        {
          "output_type": "display_data",
          "data": {
            "image/png": "[encoded data removed]",
            "text/plain": [
              "<Figure size 432x288 with 1 Axes>"
            ]
          },
          "metadata": {
            "needs_background": "light"
          }
        }
      ]
    },
    {
      "cell_type": "code",
      "source": [
        "max_column_values = {\n",
        "    'bedrooms':10, \n",
        "    'bathrooms':6,\n",
        "    'long':-121.6,\n",
        "    'sqft_living15':5000,\n",
        "    'log_sqft_lot':5.5,\n",
        "    'log_sqft_lot15':5.5\n",
        "    }\n",
        "    \n",
        "for column_name, max_value in max_column_values.items():\n",
        "    print(column_name, max_value)\n",
        "    new_column_name = 'max_limied_{}'.format(column_name)\n",
        "    df[new_column_name] = df[column_name]\n",
        "    df.loc[df[new_column_name]>max_value, new_column_name] = max_value\n",
        "\n",
        "    plt.hist(df[column_name], bins=100)\n",
        "    plt.hist(df[new_column_name], bins=100, alpha=0.5)\n",
        "    plt.show()\n",
        "\n",
        "    to_be_removed_columns.append(column_name)"
      ],
      "metadata": {
        "colab": {
          "base_uri": "https://localhost:8080/",
          "height": 1000
        },
        "id": "tlAEumSITTSt",
        "outputId": "232193fb-c5f0-4e2b-94ab-94746fe0d89a"
      },
      "execution_count": null,
      "outputs": [
        {
          "output_type": "stream",
          "name": "stdout",
          "text": [
            "bedrooms 10\n"
          ]
        },
        {
          "output_type": "display_data",
          "data": {
            "image/png": "[encoded data removed]",
            "text/plain": [
              "<Figure size 432x288 with 1 Axes>"
            ]
          },
          "metadata": {
            "needs_background": "light"
          }
        },
        {
          "output_type": "stream",
          "name": "stdout",
          "text": [
            "bathrooms 6\n"
          ]
        },
        {
          "output_type": "display_data",
          "data": {
            "image/png": "[encoded data removed]",
            "text/plain": [
              "<Figure size 432x288 with 1 Axes>"
            ]
          },
          "metadata": {
            "needs_background": "light"
          }
        },
        {
          "output_type": "stream",
          "name": "stdout",
          "text": [
            "long -121.6\n"
          ]
        },
        {
          "output_type": "display_data",
          "data": {
            "image/png": "[encoded data removed]",
            "text/plain": [
              "<Figure size 432x288 with 1 Axes>"
            ]
          },
          "metadata": {
            "needs_background": "light"
          }
        },
        {
          "output_type": "stream",
          "name": "stdout",
          "text": [
            "sqft_living15 5000\n"
          ]
        },
        {
          "output_type": "display_data",
          "data": {
            "image/png": "[encoded data removed]",
            "text/plain": [
              "<Figure size 432x288 with 1 Axes>"
            ]
          },
          "metadata": {
            "needs_background": "light"
          }
        },
        {
          "output_type": "stream",
          "name": "stdout",
          "text": [
            "log_sqft_lot 5.5\n"
          ]
        },
        {
          "output_type": "display_data",
          "data": {
            "image/png": "[encoded data removed]",
            "text/plain": [
              "<Figure size 432x288 with 1 Axes>"
            ]
          },
          "metadata": {
            "needs_background": "light"
          }
        },
        {
          "output_type": "stream",
          "name": "stdout",
          "text": [
            "log_sqft_lot15 5.5\n"
          ]
        },
        {
          "output_type": "display_data",
          "data": {
            "image/png": "[encoded data removed]",
            "text/plain": [
              "<Figure size 432x288 with 1 Axes>"
            ]
          },
          "metadata": {
            "needs_background": "light"
          }
        }
      ]
    },
    {
      "cell_type": "markdown",
      "source": [
        "# 불필요 컬럼 삭제"
      ],
      "metadata": {
        "id": "IhQTMOnocFgv"
      }
    },
    {
      "cell_type": "code",
      "source": [
        "df.info()"
      ],
      "metadata": {
        "colab": {
          "base_uri": "https://localhost:8080/"
        },
        "id": "yoGgV7sAcOrC",
        "outputId": "04e905b2-6788-4c98-f9ca-08c453bdc023"
      },
      "execution_count": null,
      "outputs": [
        {
          "output_type": "stream",
          "name": "stdout",
          "text": [
            "<class 'pandas.core.frame.DataFrame'>\n",
            "RangeIndex: 21613 entries, 0 to 21612\n",
            "Data columns (total 45 columns):\n",
            " #   Column                     Non-Null Count  Dtype  \n",
            "---  ------                     --------------  -----  \n",
            " 0   price                      21613 non-null  float64\n",
            " 1   bedrooms                   21613 non-null  int64  \n",
            " 2   bathrooms                  21613 non-null  float64\n",
            " 3   sqft_living                21613 non-null  int64  \n",
            " 4   sqft_lot                   21613 non-null  int64  \n",
            " 5   floors                     21613 non-null  float64\n",
            " 6   waterfront                 21613 non-null  int64  \n",
            " 7   view                       21613 non-null  int64  \n",
            " 8   condition                  21613 non-null  int64  \n",
            " 9   grade                      21613 non-null  int64  \n",
            " 10  sqft_above                 21613 non-null  int64  \n",
            " 11  sqft_basement              21613 non-null  int64  \n",
            " 12  yr_built                   21613 non-null  int64  \n",
            " 13  yr_renovated               21613 non-null  int64  \n",
            " 14  zipcode                    21613 non-null  int64  \n",
            " 15  lat                        21613 non-null  float64\n",
            " 16  long                       21613 non-null  float64\n",
            " 17  sqft_living15              21613 non-null  int64  \n",
            " 18  sqft_lot15                 21613 non-null  int64  \n",
            " 19  year_code_0                21613 non-null  uint8  \n",
            " 20  year_code_1                21613 non-null  uint8  \n",
            " 21  month_code_0               21613 non-null  uint8  \n",
            " 22  month_code_1               21613 non-null  uint8  \n",
            " 23  month_code_2               21613 non-null  uint8  \n",
            " 24  month_code_3               21613 non-null  uint8  \n",
            " 25  month_code_4               21613 non-null  uint8  \n",
            " 26  month_code_5               21613 non-null  uint8  \n",
            " 27  month_code_6               21613 non-null  uint8  \n",
            " 28  month_code_7               21613 non-null  uint8  \n",
            " 29  month_code_8               21613 non-null  uint8  \n",
            " 30  month_code_9               21613 non-null  uint8  \n",
            " 31  month_code_10              21613 non-null  uint8  \n",
            " 32  month_code_11              21613 non-null  uint8  \n",
            " 33  log_price                  21613 non-null  float64\n",
            " 34  log_sqft_living            21613 non-null  float64\n",
            " 35  log_sqft_lot               21613 non-null  float64\n",
            " 36  log_sqft_above             21613 non-null  float64\n",
            " 37  log_sqft_basement          21613 non-null  float64\n",
            " 38  log_sqft_lot15             21613 non-null  float64\n",
            " 39  max_limied_bedrooms        21613 non-null  int64  \n",
            " 40  max_limied_bathrooms       21613 non-null  float64\n",
            " 41  max_limied_long            21613 non-null  float64\n",
            " 42  max_limied_sqft_living15   21613 non-null  int64  \n",
            " 43  max_limied_log_sqft_lot    21613 non-null  float64\n",
            " 44  max_limied_log_sqft_lot15  21613 non-null  float64\n",
            "dtypes: float64(15), int64(16), uint8(14)\n",
            "memory usage: 5.4 MB\n"
          ]
        }
      ]
    },
    {
      "cell_type": "code",
      "source": [
        "df.drop(columns=to_be_removed_columns, inplace=True)"
      ],
      "metadata": {
        "id": "Yt5k-9hLTTA_"
      },
      "execution_count": null,
      "outputs": []
    },
    {
      "cell_type": "code",
      "source": [
        "df.info()"
      ],
      "metadata": {
        "colab": {
          "base_uri": "https://localhost:8080/"
        },
        "id": "O7KtBo0sTS2R",
        "outputId": "f4a22a4a-5696-4bd4-8b30-efdf966325a5"
      },
      "execution_count": null,
      "outputs": [
        {
          "output_type": "stream",
          "name": "stdout",
          "text": [
            "<class 'pandas.core.frame.DataFrame'>\n",
            "RangeIndex: 21613 entries, 0 to 21612\n",
            "Data columns (total 33 columns):\n",
            " #   Column                     Non-Null Count  Dtype  \n",
            "---  ------                     --------------  -----  \n",
            " 0   floors                     21613 non-null  float64\n",
            " 1   waterfront                 21613 non-null  int64  \n",
            " 2   view                       21613 non-null  int64  \n",
            " 3   condition                  21613 non-null  int64  \n",
            " 4   grade                      21613 non-null  int64  \n",
            " 5   yr_built                   21613 non-null  int64  \n",
            " 6   yr_renovated               21613 non-null  int64  \n",
            " 7   zipcode                    21613 non-null  int64  \n",
            " 8   lat                        21613 non-null  float64\n",
            " 9   year_code_0                21613 non-null  uint8  \n",
            " 10  year_code_1                21613 non-null  uint8  \n",
            " 11  month_code_0               21613 non-null  uint8  \n",
            " 12  month_code_1               21613 non-null  uint8  \n",
            " 13  month_code_2               21613 non-null  uint8  \n",
            " 14  month_code_3               21613 non-null  uint8  \n",
            " 15  month_code_4               21613 non-null  uint8  \n",
            " 16  month_code_5               21613 non-null  uint8  \n",
            " 17  month_code_6               21613 non-null  uint8  \n",
            " 18  month_code_7               21613 non-null  uint8  \n",
            " 19  month_code_8               21613 non-null  uint8  \n",
            " 20  month_code_9               21613 non-null  uint8  \n",
            " 21  month_code_10              21613 non-null  uint8  \n",
            " 22  month_code_11              21613 non-null  uint8  \n",
            " 23  log_price                  21613 non-null  float64\n",
            " 24  log_sqft_living            21613 non-null  float64\n",
            " 25  log_sqft_above             21613 non-null  float64\n",
            " 26  log_sqft_basement          21613 non-null  float64\n",
            " 27  max_limied_bedrooms        21613 non-null  int64  \n",
            " 28  max_limied_bathrooms       21613 non-null  float64\n",
            " 29  max_limied_long            21613 non-null  float64\n",
            " 30  max_limied_sqft_living15   21613 non-null  int64  \n",
            " 31  max_limied_log_sqft_lot    21613 non-null  float64\n",
            " 32  max_limied_log_sqft_lot15  21613 non-null  float64\n",
            "dtypes: float64(10), int64(9), uint8(14)\n",
            "memory usage: 3.4 MB\n"
          ]
        }
      ]
    },
    {
      "cell_type": "markdown",
      "source": [
        "# Shuffle"
      ],
      "metadata": {
        "id": "Gmj3aFPkpBz2"
      }
    },
    {
      "cell_type": "code",
      "source": [
        "df = df.sample(frac=1).reset_index(drop=True)\n",
        "df.head()"
      ],
      "metadata": {
        "colab": {
          "base_uri": "https://localhost:8080/",
          "height": 270
        },
        "id": "mIDBA7wZo75f",
        "outputId": "5b2b0ca2-3e73-4eb5-9368-7d88cb01f01c"
      },
      "execution_count": null,
      "outputs": [
        {
          "output_type": "execute_result",
          "data": {
            "text/html": [
              "\n",
              "  <div id=\"df-0bd43863-95c5-48bd-a7f9-16a9eb29dd3a\">\n",
              "    <div class=\"colab-df-container\">\n",
              "      <div>\n",
              "<style scoped>\n",
              "    .dataframe tbody tr th:only-of-type {\n",
              "        vertical-align: middle;\n",
              "    }\n",
              "\n",
              "    .dataframe tbody tr th {\n",
              "        vertical-align: top;\n",
              "    }\n",
              "\n",
              "    .dataframe thead th {\n",
              "        text-align: right;\n",
              "    }\n",
              "</style>\n",
              "<table border=\"1\" class=\"dataframe\">\n",
              "  <thead>\n",
              "    <tr style=\"text-align: right;\">\n",
              "      <th></th>\n",
              "      <th>floors</th>\n",
              "      <th>waterfront</th>\n",
              "      <th>view</th>\n",
              "      <th>condition</th>\n",
              "      <th>grade</th>\n",
              "      <th>yr_built</th>\n",
              "      <th>yr_renovated</th>\n",
              "      <th>zipcode</th>\n",
              "      <th>lat</th>\n",
              "      <th>year_code_0</th>\n",
              "      <th>year_code_1</th>\n",
              "      <th>month_code_0</th>\n",
              "      <th>month_code_1</th>\n",
              "      <th>month_code_2</th>\n",
              "      <th>month_code_3</th>\n",
              "      <th>month_code_4</th>\n",
              "      <th>month_code_5</th>\n",
              "      <th>month_code_6</th>\n",
              "      <th>month_code_7</th>\n",
              "      <th>month_code_8</th>\n",
              "      <th>month_code_9</th>\n",
              "      <th>month_code_10</th>\n",
              "      <th>month_code_11</th>\n",
              "      <th>log_price</th>\n",
              "      <th>log_sqft_living</th>\n",
              "      <th>log_sqft_above</th>\n",
              "      <th>log_sqft_basement</th>\n",
              "      <th>max_limied_bedrooms</th>\n",
              "      <th>max_limied_bathrooms</th>\n",
              "      <th>max_limied_long</th>\n",
              "      <th>max_limied_sqft_living15</th>\n",
              "      <th>max_limied_log_sqft_lot</th>\n",
              "      <th>max_limied_log_sqft_lot15</th>\n",
              "    </tr>\n",
              "  </thead>\n",
              "  <tbody>\n",
              "    <tr>\n",
              "      <th>0</th>\n",
              "      <td>1.0</td>\n",
              "      <td>0</td>\n",
              "      <td>0</td>\n",
              "      <td>4</td>\n",
              "      <td>7</td>\n",
              "      <td>1968</td>\n",
              "      <td>0</td>\n",
              "      <td>98042</td>\n",
              "      <td>47.3640</td>\n",
              "      <td>1</td>\n",
              "      <td>0</td>\n",
              "      <td>0</td>\n",
              "      <td>0</td>\n",
              "      <td>0</td>\n",
              "      <td>0</td>\n",
              "      <td>0</td>\n",
              "      <td>1</td>\n",
              "      <td>0</td>\n",
              "      <td>0</td>\n",
              "      <td>0</td>\n",
              "      <td>0</td>\n",
              "      <td>0</td>\n",
              "      <td>0</td>\n",
              "      <td>5.378400</td>\n",
              "      <td>3.127429</td>\n",
              "      <td>3.127429</td>\n",
              "      <td>0.000000</td>\n",
              "      <td>3</td>\n",
              "      <td>1.75</td>\n",
              "      <td>-122.162</td>\n",
              "      <td>1520</td>\n",
              "      <td>4.216984</td>\n",
              "      <td>4.019199</td>\n",
              "    </tr>\n",
              "    <tr>\n",
              "      <th>1</th>\n",
              "      <td>2.0</td>\n",
              "      <td>0</td>\n",
              "      <td>0</td>\n",
              "      <td>3</td>\n",
              "      <td>10</td>\n",
              "      <td>2007</td>\n",
              "      <td>0</td>\n",
              "      <td>98112</td>\n",
              "      <td>47.6259</td>\n",
              "      <td>1</td>\n",
              "      <td>0</td>\n",
              "      <td>0</td>\n",
              "      <td>0</td>\n",
              "      <td>0</td>\n",
              "      <td>0</td>\n",
              "      <td>0</td>\n",
              "      <td>0</td>\n",
              "      <td>1</td>\n",
              "      <td>0</td>\n",
              "      <td>0</td>\n",
              "      <td>0</td>\n",
              "      <td>0</td>\n",
              "      <td>0</td>\n",
              "      <td>6.295567</td>\n",
              "      <td>3.681332</td>\n",
              "      <td>3.554004</td>\n",
              "      <td>3.086716</td>\n",
              "      <td>6</td>\n",
              "      <td>4.50</td>\n",
              "      <td>-122.291</td>\n",
              "      <td>2180</td>\n",
              "      <td>3.958946</td>\n",
              "      <td>3.780893</td>\n",
              "    </tr>\n",
              "    <tr>\n",
              "      <th>2</th>\n",
              "      <td>1.0</td>\n",
              "      <td>0</td>\n",
              "      <td>0</td>\n",
              "      <td>3</td>\n",
              "      <td>7</td>\n",
              "      <td>1982</td>\n",
              "      <td>0</td>\n",
              "      <td>98155</td>\n",
              "      <td>47.7367</td>\n",
              "      <td>1</td>\n",
              "      <td>0</td>\n",
              "      <td>0</td>\n",
              "      <td>0</td>\n",
              "      <td>0</td>\n",
              "      <td>0</td>\n",
              "      <td>0</td>\n",
              "      <td>1</td>\n",
              "      <td>0</td>\n",
              "      <td>0</td>\n",
              "      <td>0</td>\n",
              "      <td>0</td>\n",
              "      <td>0</td>\n",
              "      <td>0</td>\n",
              "      <td>5.568203</td>\n",
              "      <td>3.120903</td>\n",
              "      <td>3.120903</td>\n",
              "      <td>0.000000</td>\n",
              "      <td>3</td>\n",
              "      <td>1.00</td>\n",
              "      <td>-122.295</td>\n",
              "      <td>1160</td>\n",
              "      <td>3.865814</td>\n",
              "      <td>3.879325</td>\n",
              "    </tr>\n",
              "    <tr>\n",
              "      <th>3</th>\n",
              "      <td>2.0</td>\n",
              "      <td>0</td>\n",
              "      <td>2</td>\n",
              "      <td>4</td>\n",
              "      <td>8</td>\n",
              "      <td>1964</td>\n",
              "      <td>0</td>\n",
              "      <td>98075</td>\n",
              "      <td>47.5824</td>\n",
              "      <td>0</td>\n",
              "      <td>1</td>\n",
              "      <td>0</td>\n",
              "      <td>0</td>\n",
              "      <td>1</td>\n",
              "      <td>0</td>\n",
              "      <td>0</td>\n",
              "      <td>0</td>\n",
              "      <td>0</td>\n",
              "      <td>0</td>\n",
              "      <td>0</td>\n",
              "      <td>0</td>\n",
              "      <td>0</td>\n",
              "      <td>0</td>\n",
              "      <td>5.973128</td>\n",
              "      <td>3.576457</td>\n",
              "      <td>3.406710</td>\n",
              "      <td>3.086716</td>\n",
              "      <td>4</td>\n",
              "      <td>2.75</td>\n",
              "      <td>-122.078</td>\n",
              "      <td>2640</td>\n",
              "      <td>4.396164</td>\n",
              "      <td>4.060811</td>\n",
              "    </tr>\n",
              "    <tr>\n",
              "      <th>4</th>\n",
              "      <td>1.0</td>\n",
              "      <td>0</td>\n",
              "      <td>0</td>\n",
              "      <td>3</td>\n",
              "      <td>8</td>\n",
              "      <td>1958</td>\n",
              "      <td>0</td>\n",
              "      <td>98125</td>\n",
              "      <td>47.7124</td>\n",
              "      <td>1</td>\n",
              "      <td>0</td>\n",
              "      <td>0</td>\n",
              "      <td>0</td>\n",
              "      <td>0</td>\n",
              "      <td>0</td>\n",
              "      <td>0</td>\n",
              "      <td>0</td>\n",
              "      <td>0</td>\n",
              "      <td>0</td>\n",
              "      <td>0</td>\n",
              "      <td>0</td>\n",
              "      <td>0</td>\n",
              "      <td>1</td>\n",
              "      <td>5.752049</td>\n",
              "      <td>3.408410</td>\n",
              "      <td>3.179264</td>\n",
              "      <td>3.021603</td>\n",
              "      <td>3</td>\n",
              "      <td>2.25</td>\n",
              "      <td>-122.303</td>\n",
              "      <td>1980</td>\n",
              "      <td>3.905310</td>\n",
              "      <td>3.905310</td>\n",
              "    </tr>\n",
              "  </tbody>\n",
              "</table>\n",
              "</div>\n",
              "      <button class=\"colab-df-convert\" onclick=\"convertToInteractive('df-0bd43863-95c5-48bd-a7f9-16a9eb29dd3a')\"\n",
              "              title=\"Convert this dataframe to an interactive table.\"\n",
              "              style=\"display:none;\">\n",
              "        \n",
              "  <svg xmlns=\"http://www.w3.org/2000/svg\" height=\"24px\"viewBox=\"0 0 24 24\"\n",
              "       width=\"24px\">\n",
              "    <path d=\"M0 0h24v24H0V0z\" fill=\"none\"/>\n",
              "    <path d=\"M18.56 5.44l.94 2.06.94-2.06 2.06-.94-2.06-.94-.94-2.06-.94 2.06-2.06.94zm-11 1L8.5 8.5l.94-2.06 2.06-.94-2.06-.94L8.5 2.5l-.94 2.06-2.06.94zm10 10l.94 2.06.94-2.06 2.06-.94-2.06-.94-.94-2.06-.94 2.06-2.06.94z\"/><path d=\"M17.41 7.96l-1.37-1.37c-.4-.4-.92-.59-1.43-.59-.52 0-1.04.2-1.43.59L10.3 9.45l-7.72 7.72c-.78.78-.78 2.05 0 2.83L4 21.41c.39.39.9.59 1.41.59.51 0 1.02-.2 1.41-.59l7.78-7.78 2.81-2.81c.8-.78.8-2.07 0-2.86zM5.41 20L4 18.59l7.72-7.72 1.47 1.35L5.41 20z\"/>\n",
              "  </svg>\n",
              "      </button>\n",
              "      \n",
              "  <style>\n",
              "    .colab-df-container {\n",
              "      display:flex;\n",
              "      flex-wrap:wrap;\n",
              "      gap: 12px;\n",
              "    }\n",
              "\n",
              "    .colab-df-convert {\n",
              "      background-color: #E8F0FE;\n",
              "      border: none;\n",
              "      border-radius: 50%;\n",
              "      cursor: pointer;\n",
              "      display: none;\n",
              "      fill: #1967D2;\n",
              "      height: 32px;\n",
              "      padding: 0 0 0 0;\n",
              "      width: 32px;\n",
              "    }\n",
              "\n",
              "    .colab-df-convert:hover {\n",
              "      background-color: #E2EBFA;\n",
              "      box-shadow: 0px 1px 2px rgba(60, 64, 67, 0.3), 0px 1px 3px 1px rgba(60, 64, 67, 0.15);\n",
              "      fill: #174EA6;\n",
              "    }\n",
              "\n",
              "    [theme=dark] .colab-df-convert {\n",
              "      background-color: #3B4455;\n",
              "      fill: #D2E3FC;\n",
              "    }\n",
              "\n",
              "    [theme=dark] .colab-df-convert:hover {\n",
              "      background-color: #434B5C;\n",
              "      box-shadow: 0px 1px 3px 1px rgba(0, 0, 0, 0.15);\n",
              "      filter: drop-shadow(0px 1px 2px rgba(0, 0, 0, 0.3));\n",
              "      fill: #FFFFFF;\n",
              "    }\n",
              "  </style>\n",
              "\n",
              "      <script>\n",
              "        const buttonEl =\n",
              "          document.querySelector('#df-0bd43863-95c5-48bd-a7f9-16a9eb29dd3a button.colab-df-convert');\n",
              "        buttonEl.style.display =\n",
              "          google.colab.kernel.accessAllowed ? 'block' : 'none';\n",
              "\n",
              "        async function convertToInteractive(key) {\n",
              "          const element = document.querySelector('#df-0bd43863-95c5-48bd-a7f9-16a9eb29dd3a');\n",
              "          const dataTable =\n",
              "            await google.colab.kernel.invokeFunction('convertToInteractive',\n",
              "                                                     [key], {});\n",
              "          if (!dataTable) return;\n",
              "\n",
              "          const docLinkHtml = 'Like what you see? Visit the ' +\n",
              "            '<a target=\"_blank\" href=https://colab.research.google.com/notebooks/data_table.ipynb>data table notebook</a>'\n",
              "            + ' to learn more about interactive tables.';\n",
              "          element.innerHTML = '';\n",
              "          dataTable['output_type'] = 'display_data';\n",
              "          await google.colab.output.renderOutput(dataTable, element);\n",
              "          const docLink = document.createElement('div');\n",
              "          docLink.innerHTML = docLinkHtml;\n",
              "          element.appendChild(docLink);\n",
              "        }\n",
              "      </script>\n",
              "    </div>\n",
              "  </div>\n",
              "  "
            ],
            "text/plain": [
              "   floors  waterfront  ...  max_limied_log_sqft_lot  max_limied_log_sqft_lot15\n",
              "0     1.0           0  ...                 4.216984                   4.019199\n",
              "1     2.0           0  ...                 3.958946                   3.780893\n",
              "2     1.0           0  ...                 3.865814                   3.879325\n",
              "3     2.0           0  ...                 4.396164                   4.060811\n",
              "4     1.0           0  ...                 3.905310                   3.905310\n",
              "\n",
              "[5 rows x 33 columns]"
            ]
          },
          "metadata": {},
          "execution_count": 129
        }
      ]
    },
    {
      "cell_type": "markdown",
      "source": [
        "# numpy로 변환"
      ],
      "metadata": {
        "id": "kKqcpNNDpGgz"
      }
    },
    {
      "cell_type": "code",
      "source": [
        "raw_y = df['log_price'].to_numpy()\n",
        "raw_x = df.drop(columns=['log_price']).to_numpy()\n",
        "\n",
        "print(raw_x.shape)\n",
        "print(raw_y.shape)"
      ],
      "metadata": {
        "colab": {
          "base_uri": "https://localhost:8080/"
        },
        "id": "sjrsEvEbcfo4",
        "outputId": "85c93010-31bf-4171-cd43-2a26f89a5c11"
      },
      "execution_count": null,
      "outputs": [
        {
          "output_type": "stream",
          "name": "stdout",
          "text": [
            "(21613, 32)\n",
            "(21613,)\n"
          ]
        }
      ]
    },
    {
      "cell_type": "code",
      "source": [
        "print(raw_x[:2])\n",
        "maxs = np.max(raw_x, axis=0)\n",
        "mins = np.min(raw_x, axis=0)\n",
        "print(maxs)\n",
        "print(mins)"
      ],
      "metadata": {
        "colab": {
          "base_uri": "https://localhost:8080/"
        },
        "id": "HhraT7PEpOgI",
        "outputId": "972fdce9-44b4-406c-d19c-6246b56fe47e"
      },
      "execution_count": null,
      "outputs": [
        {
          "output_type": "stream",
          "name": "stdout",
          "text": [
            "[[ 1.00000000e+00  0.00000000e+00  0.00000000e+00  4.00000000e+00\n",
            "   7.00000000e+00  1.96800000e+03  0.00000000e+00  9.80420000e+04\n",
            "   4.73640000e+01  1.00000000e+00  0.00000000e+00  0.00000000e+00\n",
            "   0.00000000e+00  0.00000000e+00  0.00000000e+00  0.00000000e+00\n",
            "   1.00000000e+00  0.00000000e+00  0.00000000e+00  0.00000000e+00\n",
            "   0.00000000e+00  0.00000000e+00  0.00000000e+00  3.12742878e+00\n",
            "   3.12742878e+00  0.00000000e+00  3.00000000e+00  1.75000000e+00\n",
            "  -1.22162000e+02  1.52000000e+03  4.21698356e+00  4.01919940e+00]\n",
            " [ 2.00000000e+00  0.00000000e+00  0.00000000e+00  3.00000000e+00\n",
            "   1.00000000e+01  2.00700000e+03  0.00000000e+00  9.81120000e+04\n",
            "   4.76259000e+01  1.00000000e+00  0.00000000e+00  0.00000000e+00\n",
            "   0.00000000e+00  0.00000000e+00  0.00000000e+00  0.00000000e+00\n",
            "   0.00000000e+00  1.00000000e+00  0.00000000e+00  0.00000000e+00\n",
            "   0.00000000e+00  0.00000000e+00  0.00000000e+00  3.68133171e+00\n",
            "   3.55400432e+00  3.08671566e+00  6.00000000e+00  4.50000000e+00\n",
            "  -1.22291000e+02  2.18000000e+03  3.95894593e+00  3.78089311e+00]]\n",
            "[ 3.50000000e+00  1.00000000e+00  4.00000000e+00  5.00000000e+00\n",
            "  1.30000000e+01  2.01500000e+03  2.01500000e+03  9.81990000e+04\n",
            "  4.77776000e+01  1.00000000e+00  1.00000000e+00  1.00000000e+00\n",
            "  1.00000000e+00  1.00000000e+00  1.00000000e+00  1.00000000e+00\n",
            "  1.00000000e+00  1.00000000e+00  1.00000000e+00  1.00000000e+00\n",
            "  1.00000000e+00  1.00000000e+00  1.00000000e+00  4.13165074e+00\n",
            "  3.97363577e+00  3.68313713e+00  1.00000000e+01  6.00000000e+00\n",
            " -1.21600000e+02  5.00000000e+03  5.50000000e+00  5.50000000e+00]\n",
            "[ 1.00000000e+00  0.00000000e+00  0.00000000e+00  1.00000000e+00\n",
            "  1.00000000e+00  1.90000000e+03  0.00000000e+00  9.80010000e+04\n",
            "  4.71559000e+01  0.00000000e+00  0.00000000e+00  0.00000000e+00\n",
            "  0.00000000e+00  0.00000000e+00  0.00000000e+00  0.00000000e+00\n",
            "  0.00000000e+00  0.00000000e+00  0.00000000e+00  0.00000000e+00\n",
            "  0.00000000e+00  0.00000000e+00  0.00000000e+00  2.46389299e+00\n",
            "  2.46389299e+00  0.00000000e+00  0.00000000e+00  0.00000000e+00\n",
            " -1.22519000e+02  3.99000000e+02  2.71683772e+00  2.81424760e+00]\n"
          ]
        }
      ]
    },
    {
      "cell_type": "code",
      "source": [
        "normalized_x = (raw_x - mins) / (maxs - mins)\n",
        "print(normalized_x[:2])"
      ],
      "metadata": {
        "colab": {
          "base_uri": "https://localhost:8080/"
        },
        "id": "qba2ZlkapOdm",
        "outputId": "fb0afca1-996b-4e2d-d4a8-748867b9d671"
      },
      "execution_count": null,
      "outputs": [
        {
          "output_type": "stream",
          "name": "stdout",
          "text": [
            "[[0.         0.         0.         0.75       0.5        0.59130435\n",
            "  0.         0.20707071 0.33472736 1.         0.         0.\n",
            "  0.         0.         0.         0.         1.         0.\n",
            "  0.         0.         0.         0.         0.         0.39786101\n",
            "  0.43950254 0.         0.3        0.29166667 0.38846572 0.24364269\n",
            "  0.53900768 0.4486459 ]\n",
            " [0.4        0.         0.         0.5        0.75       0.93043478\n",
            "  0.         0.56060606 0.75599164 1.         0.         0.\n",
            "  0.         0.         0.         0.         0.         1.\n",
            "  0.         0.         0.         0.         0.         0.72998535\n",
            "  0.72205103 0.83806699 0.6        0.75       0.24809576 0.38708976\n",
            "  0.44629385 0.35991609]]\n"
          ]
        }
      ]
    },
    {
      "cell_type": "code",
      "source": [
        "y_max = np.max(raw_y)\n",
        "y_min = np.min(raw_y)\n",
        "\n",
        "normalized_y = (raw_y - y_min) / (y_max - y_min)"
      ],
      "metadata": {
        "id": "cjFUs89DdL52"
      },
      "execution_count": null,
      "outputs": []
    },
    {
      "cell_type": "code",
      "source": [
        "def recover_price(v):\n",
        "    denormalized = v * (y_max - y_min) + y_min\n",
        "    deloged = np.power(10, denormalized) - 1\n",
        "    return deloged.astype(np.int)"
      ],
      "metadata": {
        "id": "afl7QHVhdZWb"
      },
      "execution_count": null,
      "outputs": []
    },
    {
      "cell_type": "markdown",
      "source": [
        "# 값 예측"
      ],
      "metadata": {
        "id": "Nu6-yhcg5wqs"
      }
    },
    {
      "cell_type": "markdown",
      "source": [
        "## train/test 나누기"
      ],
      "metadata": {
        "id": "Fnem14jPqEcU"
      }
    },
    {
      "cell_type": "code",
      "source": [
        "x = normalized_x\n",
        "y = normalized_y"
      ],
      "metadata": {
        "id": "cHlT2AGLgBlb"
      },
      "execution_count": null,
      "outputs": []
    },
    {
      "cell_type": "code",
      "source": [
        "i = int(len(x)*0.8)\n",
        "train_x, test_x = x[:i], x[i:]\n",
        "train_y, test_y = y[:i], y[i:]\n",
        "\n",
        "print(train_x.shape)\n",
        "print(train_y.shape)\n",
        "print(test_x.shape)\n",
        "print(test_y.shape)"
      ],
      "metadata": {
        "colab": {
          "base_uri": "https://localhost:8080/"
        },
        "id": "kVYYxY6tqDnt",
        "outputId": "eb1313db-c2d5-4c9e-9209-5a603578ee4f"
      },
      "execution_count": null,
      "outputs": [
        {
          "output_type": "stream",
          "name": "stdout",
          "text": [
            "(17290, 32)\n",
            "(17290,)\n",
            "(4323, 32)\n",
            "(4323,)\n"
          ]
        }
      ]
    },
    {
      "cell_type": "markdown",
      "source": [
        "## 모델 학습"
      ],
      "metadata": {
        "id": "tlRjHnn2qYD1"
      }
    },
    {
      "cell_type": "code",
      "source": [
        "import numpy as np\n",
        "import pandas as pd\n",
        "import matplotlib.pyplot as plt\n",
        "\n",
        "import tensorflow as tf\n",
        "\n",
        "from tensorflow import keras\n",
        "from tensorflow.keras import optimizers\n",
        "from tensorflow.keras.layers import Dense\n",
        "\n",
        "model = keras.Sequential()\n",
        "model.add(Dense(10, activation='relu', input_shape=(train_x.shape[-1],)))\n",
        "model.add(Dense(10, activation='relu'))\n",
        "model.add(Dense(1))\n",
        "\n",
        "model.compile(optimizer=\"Adam\", loss=\"mse\", metrics=[\"mape\"])\n",
        "model.summary()\n",
        "\n",
        "from tensorflow.keras.callbacks import EarlyStopping\n",
        "early_stopping = EarlyStopping(\n",
        "    monitor='val_loss',\n",
        "    verbose=1,\n",
        "    patience=50) \n",
        "history = model.fit(train_x, train_y, epochs=500, batch_size=128, validation_split=0.1, callbacks=[early_stopping])\n",
        "\n",
        "plt.plot(history.history['loss'])\n",
        "plt.plot(history.history['val_loss'])\n",
        "plt.show()\n",
        "\n",
        "\n",
        "loss, mape = model.evaluate(test_x, test_y)\n",
        "print(\"loss=\", loss)\n",
        "print(\"mape=\", mape)\n",
        "\n",
        "y_ = model.predict(test_x)\n",
        "\n",
        "plt.scatter(test_y, y_)\n",
        "plt.show()"
      ],
      "metadata": {
        "colab": {
          "base_uri": "https://localhost:8080/",
          "height": 1000
        },
        "id": "QG28nHGxqZry",
        "outputId": "a17f8806-3226-4e9c-9fa7-b8563f3f36ab"
      },
      "execution_count": null,
      "outputs": [
        {
          "output_type": "stream",
          "name": "stdout",
          "text": [
            "Model: \"sequential\"\n",
            "_________________________________________________________________\n",
            " Layer (type)                Output Shape              Param #   \n",
            "=================================================================\n",
            " dense (Dense)               (None, 10)                330       \n",
            "                                                                 \n",
            " dense_1 (Dense)             (None, 10)                110       \n",
            "                                                                 \n",
            " dense_2 (Dense)             (None, 1)                 11        \n",
            "                                                                 \n",
            "=================================================================\n",
            "Total params: 451\n",
            "Trainable params: 451\n",
            "Non-trainable params: 0\n",
            "_________________________________________________________________\n",
            "Epoch 1/500\n",
            "122/122 [==============================] - 3s 4ms/step - loss: 0.1827 - mape: 10389.6641 - val_loss: 0.0175 - val_mape: 27.5661\n",
            "Epoch 2/500\n",
            "122/122 [==============================] - 0s 2ms/step - loss: 0.0128 - mape: 24462.7832 - val_loss: 0.0108 - val_mape: 22.7250\n",
            "Epoch 3/500\n",
            "122/122 [==============================] - 0s 2ms/step - loss: 0.0093 - mape: 21331.7070 - val_loss: 0.0086 - val_mape: 20.9733\n",
            "Epoch 4/500\n",
            "122/122 [==============================] - 0s 2ms/step - loss: 0.0077 - mape: 20369.9258 - val_loss: 0.0070 - val_mape: 18.8747\n",
            "Epoch 5/500\n",
            "122/122 [==============================] - 0s 2ms/step - loss: 0.0066 - mape: 19140.7363 - val_loss: 0.0060 - val_mape: 17.0195\n",
            "Epoch 6/500\n",
            "122/122 [==============================] - 0s 2ms/step - loss: 0.0058 - mape: 17686.1836 - val_loss: 0.0053 - val_mape: 16.0675\n",
            "Epoch 7/500\n",
            "122/122 [==============================] - 0s 2ms/step - loss: 0.0052 - mape: 16601.6562 - val_loss: 0.0048 - val_mape: 15.5376\n",
            "Epoch 8/500\n",
            "122/122 [==============================] - 0s 3ms/step - loss: 0.0048 - mape: 16273.2314 - val_loss: 0.0044 - val_mape: 14.4196\n",
            "Epoch 9/500\n",
            "122/122 [==============================] - 0s 2ms/step - loss: 0.0045 - mape: 14147.8047 - val_loss: 0.0041 - val_mape: 14.2348\n",
            "Epoch 10/500\n",
            "122/122 [==============================] - 0s 2ms/step - loss: 0.0042 - mape: 13651.0762 - val_loss: 0.0039 - val_mape: 13.5996\n",
            "Epoch 11/500\n",
            "122/122 [==============================] - 0s 2ms/step - loss: 0.0040 - mape: 12446.1318 - val_loss: 0.0037 - val_mape: 13.1054\n",
            "Epoch 12/500\n",
            "122/122 [==============================] - 0s 2ms/step - loss: 0.0038 - mape: 11597.9863 - val_loss: 0.0035 - val_mape: 13.0947\n",
            "Epoch 13/500\n",
            "122/122 [==============================] - 0s 2ms/step - loss: 0.0037 - mape: 11022.3477 - val_loss: 0.0034 - val_mape: 12.7040\n",
            "Epoch 14/500\n",
            "122/122 [==============================] - 0s 2ms/step - loss: 0.0035 - mape: 10011.5791 - val_loss: 0.0033 - val_mape: 12.3284\n",
            "Epoch 15/500\n",
            "122/122 [==============================] - 0s 2ms/step - loss: 0.0034 - mape: 9336.4395 - val_loss: 0.0032 - val_mape: 12.2455\n",
            "Epoch 16/500\n",
            "122/122 [==============================] - 0s 2ms/step - loss: 0.0033 - mape: 8896.7197 - val_loss: 0.0032 - val_mape: 11.9776\n",
            "Epoch 17/500\n",
            "122/122 [==============================] - 0s 2ms/step - loss: 0.0032 - mape: 8456.2363 - val_loss: 0.0031 - val_mape: 12.1054\n",
            "Epoch 18/500\n",
            "122/122 [==============================] - 0s 2ms/step - loss: 0.0032 - mape: 8382.5889 - val_loss: 0.0031 - val_mape: 12.1154\n",
            "Epoch 19/500\n",
            "122/122 [==============================] - 0s 2ms/step - loss: 0.0031 - mape: 8323.6084 - val_loss: 0.0031 - val_mape: 12.2781\n",
            "Epoch 20/500\n",
            "122/122 [==============================] - 0s 2ms/step - loss: 0.0031 - mape: 7859.8975 - val_loss: 0.0030 - val_mape: 11.7646\n",
            "Epoch 21/500\n",
            "122/122 [==============================] - 0s 2ms/step - loss: 0.0030 - mape: 7383.4966 - val_loss: 0.0030 - val_mape: 11.6746\n",
            "Epoch 22/500\n",
            "122/122 [==============================] - 0s 2ms/step - loss: 0.0030 - mape: 7575.9263 - val_loss: 0.0029 - val_mape: 11.7207\n",
            "Epoch 23/500\n",
            "122/122 [==============================] - 0s 2ms/step - loss: 0.0030 - mape: 7543.4688 - val_loss: 0.0030 - val_mape: 11.5868\n",
            "Epoch 24/500\n",
            "122/122 [==============================] - 0s 2ms/step - loss: 0.0030 - mape: 7228.5933 - val_loss: 0.0029 - val_mape: 11.5919\n",
            "Epoch 25/500\n",
            "122/122 [==============================] - 0s 2ms/step - loss: 0.0029 - mape: 7083.1011 - val_loss: 0.0029 - val_mape: 11.8166\n",
            "Epoch 26/500\n",
            "122/122 [==============================] - 0s 2ms/step - loss: 0.0029 - mape: 7091.0054 - val_loss: 0.0029 - val_mape: 11.7648\n",
            "Epoch 27/500\n",
            "122/122 [==============================] - 0s 2ms/step - loss: 0.0029 - mape: 7017.6543 - val_loss: 0.0029 - val_mape: 11.7805\n",
            "Epoch 28/500\n",
            "122/122 [==============================] - 0s 2ms/step - loss: 0.0029 - mape: 7170.5479 - val_loss: 0.0028 - val_mape: 11.6285\n",
            "Epoch 29/500\n",
            "122/122 [==============================] - 0s 2ms/step - loss: 0.0029 - mape: 7206.3540 - val_loss: 0.0028 - val_mape: 11.6250\n",
            "Epoch 30/500\n",
            "122/122 [==============================] - 0s 2ms/step - loss: 0.0029 - mape: 7245.7266 - val_loss: 0.0028 - val_mape: 11.5122\n",
            "Epoch 31/500\n",
            "122/122 [==============================] - 0s 2ms/step - loss: 0.0029 - mape: 7363.4697 - val_loss: 0.0028 - val_mape: 11.5811\n",
            "Epoch 32/500\n",
            "122/122 [==============================] - 0s 2ms/step - loss: 0.0029 - mape: 7178.8325 - val_loss: 0.0028 - val_mape: 11.4697\n",
            "Epoch 33/500\n",
            "122/122 [==============================] - 0s 2ms/step - loss: 0.0029 - mape: 8162.1650 - val_loss: 0.0029 - val_mape: 12.0433\n",
            "Epoch 34/500\n",
            "122/122 [==============================] - 0s 2ms/step - loss: 0.0029 - mape: 8395.7559 - val_loss: 0.0028 - val_mape: 11.6374\n",
            "Epoch 35/500\n",
            "122/122 [==============================] - 0s 2ms/step - loss: 0.0028 - mape: 7878.2466 - val_loss: 0.0028 - val_mape: 11.4480\n",
            "Epoch 36/500\n",
            "122/122 [==============================] - 0s 3ms/step - loss: 0.0028 - mape: 8128.9038 - val_loss: 0.0029 - val_mape: 11.9080\n",
            "Epoch 37/500\n",
            "122/122 [==============================] - 0s 2ms/step - loss: 0.0028 - mape: 8231.3135 - val_loss: 0.0028 - val_mape: 11.7761\n",
            "Epoch 38/500\n",
            "122/122 [==============================] - 0s 2ms/step - loss: 0.0028 - mape: 8584.6348 - val_loss: 0.0028 - val_mape: 11.3980\n",
            "Epoch 39/500\n",
            "122/122 [==============================] - 0s 2ms/step - loss: 0.0028 - mape: 8842.6982 - val_loss: 0.0028 - val_mape: 11.7647\n",
            "Epoch 40/500\n",
            "122/122 [==============================] - 0s 2ms/step - loss: 0.0028 - mape: 8835.2236 - val_loss: 0.0029 - val_mape: 11.8489\n",
            "Epoch 41/500\n",
            "122/122 [==============================] - 0s 2ms/step - loss: 0.0028 - mape: 8498.4561 - val_loss: 0.0028 - val_mape: 11.2941\n",
            "Epoch 42/500\n",
            "122/122 [==============================] - 0s 2ms/step - loss: 0.0028 - mape: 8862.5459 - val_loss: 0.0028 - val_mape: 11.7309\n",
            "Epoch 43/500\n",
            "122/122 [==============================] - 0s 2ms/step - loss: 0.0028 - mape: 8611.4102 - val_loss: 0.0027 - val_mape: 11.3108\n",
            "Epoch 44/500\n",
            "122/122 [==============================] - 0s 2ms/step - loss: 0.0028 - mape: 9502.9336 - val_loss: 0.0028 - val_mape: 11.5477\n",
            "Epoch 45/500\n",
            "122/122 [==============================] - 0s 2ms/step - loss: 0.0028 - mape: 8789.5527 - val_loss: 0.0028 - val_mape: 11.3034\n",
            "Epoch 46/500\n",
            "122/122 [==============================] - 0s 3ms/step - loss: 0.0028 - mape: 9003.9023 - val_loss: 0.0027 - val_mape: 11.2562\n",
            "Epoch 47/500\n",
            "122/122 [==============================] - 0s 2ms/step - loss: 0.0028 - mape: 8943.5947 - val_loss: 0.0027 - val_mape: 11.4221\n",
            "Epoch 48/500\n",
            "122/122 [==============================] - 0s 2ms/step - loss: 0.0027 - mape: 9394.1182 - val_loss: 0.0027 - val_mape: 11.1052\n",
            "Epoch 49/500\n",
            "122/122 [==============================] - 0s 2ms/step - loss: 0.0027 - mape: 9084.8027 - val_loss: 0.0027 - val_mape: 11.3242\n",
            "Epoch 50/500\n",
            "122/122 [==============================] - 0s 2ms/step - loss: 0.0028 - mape: 9103.2822 - val_loss: 0.0027 - val_mape: 11.1920\n",
            "Epoch 51/500\n",
            "122/122 [==============================] - 0s 2ms/step - loss: 0.0027 - mape: 9112.0254 - val_loss: 0.0028 - val_mape: 11.0826\n",
            "Epoch 52/500\n",
            "122/122 [==============================] - 0s 2ms/step - loss: 0.0027 - mape: 9073.9834 - val_loss: 0.0027 - val_mape: 11.0455\n",
            "Epoch 53/500\n",
            "122/122 [==============================] - 0s 2ms/step - loss: 0.0027 - mape: 9035.2920 - val_loss: 0.0027 - val_mape: 11.0843\n",
            "Epoch 54/500\n",
            "122/122 [==============================] - 0s 2ms/step - loss: 0.0027 - mape: 8864.0264 - val_loss: 0.0027 - val_mape: 11.3709\n",
            "Epoch 55/500\n",
            "122/122 [==============================] - 0s 2ms/step - loss: 0.0027 - mape: 8878.5605 - val_loss: 0.0028 - val_mape: 11.1322\n",
            "Epoch 56/500\n",
            "122/122 [==============================] - 0s 2ms/step - loss: 0.0027 - mape: 9156.4131 - val_loss: 0.0027 - val_mape: 11.4761\n",
            "Epoch 57/500\n",
            "122/122 [==============================] - 0s 2ms/step - loss: 0.0027 - mape: 8702.0664 - val_loss: 0.0027 - val_mape: 11.4771\n",
            "Epoch 58/500\n",
            "122/122 [==============================] - 0s 2ms/step - loss: 0.0027 - mape: 8986.4707 - val_loss: 0.0027 - val_mape: 11.1593\n",
            "Epoch 59/500\n",
            "122/122 [==============================] - 0s 2ms/step - loss: 0.0027 - mape: 8654.5742 - val_loss: 0.0027 - val_mape: 11.0543\n",
            "Epoch 60/500\n",
            "122/122 [==============================] - 0s 2ms/step - loss: 0.0027 - mape: 8669.3096 - val_loss: 0.0027 - val_mape: 11.2731\n",
            "Epoch 61/500\n",
            "122/122 [==============================] - 0s 2ms/step - loss: 0.0027 - mape: 9029.2744 - val_loss: 0.0027 - val_mape: 11.0448\n",
            "Epoch 62/500\n",
            "122/122 [==============================] - 0s 2ms/step - loss: 0.0027 - mape: 8107.8784 - val_loss: 0.0027 - val_mape: 11.2018\n",
            "Epoch 63/500\n",
            "122/122 [==============================] - 0s 3ms/step - loss: 0.0027 - mape: 8816.5215 - val_loss: 0.0027 - val_mape: 11.1631\n",
            "Epoch 64/500\n",
            "122/122 [==============================] - 0s 2ms/step - loss: 0.0026 - mape: 8532.7109 - val_loss: 0.0026 - val_mape: 11.0885\n",
            "Epoch 65/500\n",
            "122/122 [==============================] - 0s 2ms/step - loss: 0.0027 - mape: 8854.0039 - val_loss: 0.0027 - val_mape: 11.0608\n",
            "Epoch 66/500\n",
            "122/122 [==============================] - 0s 2ms/step - loss: 0.0026 - mape: 8515.6455 - val_loss: 0.0027 - val_mape: 11.1516\n",
            "Epoch 67/500\n",
            "122/122 [==============================] - 0s 2ms/step - loss: 0.0026 - mape: 8384.0166 - val_loss: 0.0026 - val_mape: 11.0709\n",
            "Epoch 68/500\n",
            "122/122 [==============================] - 0s 2ms/step - loss: 0.0026 - mape: 8453.5830 - val_loss: 0.0026 - val_mape: 10.9652\n",
            "Epoch 69/500\n",
            "122/122 [==============================] - 0s 2ms/step - loss: 0.0026 - mape: 8536.5098 - val_loss: 0.0027 - val_mape: 11.4171\n",
            "Epoch 70/500\n",
            "122/122 [==============================] - 0s 2ms/step - loss: 0.0026 - mape: 8259.3809 - val_loss: 0.0027 - val_mape: 10.9544\n",
            "Epoch 71/500\n",
            "122/122 [==============================] - 0s 2ms/step - loss: 0.0026 - mape: 8269.7793 - val_loss: 0.0028 - val_mape: 11.6921\n",
            "Epoch 72/500\n",
            "122/122 [==============================] - 0s 2ms/step - loss: 0.0026 - mape: 8269.8799 - val_loss: 0.0027 - val_mape: 11.1149\n",
            "Epoch 73/500\n",
            "122/122 [==============================] - 0s 2ms/step - loss: 0.0026 - mape: 8447.6729 - val_loss: 0.0026 - val_mape: 10.9264\n",
            "Epoch 74/500\n",
            "122/122 [==============================] - 0s 3ms/step - loss: 0.0026 - mape: 7968.1548 - val_loss: 0.0027 - val_mape: 10.8823\n",
            "Epoch 75/500\n",
            "122/122 [==============================] - 0s 2ms/step - loss: 0.0026 - mape: 8364.4287 - val_loss: 0.0028 - val_mape: 11.6374\n",
            "Epoch 76/500\n",
            "122/122 [==============================] - 0s 2ms/step - loss: 0.0026 - mape: 7536.0962 - val_loss: 0.0026 - val_mape: 10.9811\n",
            "Epoch 77/500\n",
            "122/122 [==============================] - 0s 2ms/step - loss: 0.0026 - mape: 7294.7544 - val_loss: 0.0027 - val_mape: 10.8752\n",
            "Epoch 78/500\n",
            "122/122 [==============================] - 0s 2ms/step - loss: 0.0026 - mape: 7855.5698 - val_loss: 0.0026 - val_mape: 11.0963\n",
            "Epoch 79/500\n",
            "122/122 [==============================] - 0s 2ms/step - loss: 0.0026 - mape: 7967.6670 - val_loss: 0.0026 - val_mape: 11.0230\n",
            "Epoch 80/500\n",
            "122/122 [==============================] - 0s 2ms/step - loss: 0.0026 - mape: 7782.1470 - val_loss: 0.0027 - val_mape: 10.8821\n",
            "Epoch 81/500\n",
            "122/122 [==============================] - 0s 2ms/step - loss: 0.0026 - mape: 7209.1646 - val_loss: 0.0026 - val_mape: 10.8750\n",
            "Epoch 82/500\n",
            "122/122 [==============================] - 0s 2ms/step - loss: 0.0026 - mape: 7423.7065 - val_loss: 0.0027 - val_mape: 11.1701\n",
            "Epoch 83/500\n",
            "122/122 [==============================] - 0s 2ms/step - loss: 0.0026 - mape: 7332.9697 - val_loss: 0.0027 - val_mape: 11.0837\n",
            "Epoch 84/500\n",
            "122/122 [==============================] - 0s 2ms/step - loss: 0.0026 - mape: 6921.4077 - val_loss: 0.0026 - val_mape: 10.8661\n",
            "Epoch 85/500\n",
            "122/122 [==============================] - 0s 2ms/step - loss: 0.0026 - mape: 7686.7832 - val_loss: 0.0027 - val_mape: 10.8520\n",
            "Epoch 86/500\n",
            "122/122 [==============================] - 0s 2ms/step - loss: 0.0026 - mape: 6983.7798 - val_loss: 0.0026 - val_mape: 11.1577\n",
            "Epoch 87/500\n",
            "122/122 [==============================] - 0s 2ms/step - loss: 0.0026 - mape: 6351.9907 - val_loss: 0.0026 - val_mape: 10.9690\n",
            "Epoch 88/500\n",
            "122/122 [==============================] - 0s 2ms/step - loss: 0.0026 - mape: 6974.3809 - val_loss: 0.0026 - val_mape: 11.1667\n",
            "Epoch 89/500\n",
            "122/122 [==============================] - 0s 2ms/step - loss: 0.0026 - mape: 7144.5957 - val_loss: 0.0026 - val_mape: 10.9286\n",
            "Epoch 90/500\n",
            "122/122 [==============================] - 0s 2ms/step - loss: 0.0026 - mape: 6233.4580 - val_loss: 0.0027 - val_mape: 11.3332\n",
            "Epoch 91/500\n",
            "122/122 [==============================] - 0s 3ms/step - loss: 0.0026 - mape: 6680.1030 - val_loss: 0.0026 - val_mape: 10.9235\n",
            "Epoch 92/500\n",
            "122/122 [==============================] - 0s 2ms/step - loss: 0.0026 - mape: 6561.1904 - val_loss: 0.0026 - val_mape: 11.0502\n",
            "Epoch 93/500\n",
            "122/122 [==============================] - 0s 2ms/step - loss: 0.0026 - mape: 7051.6709 - val_loss: 0.0027 - val_mape: 10.8436\n",
            "Epoch 94/500\n",
            "122/122 [==============================] - 0s 2ms/step - loss: 0.0026 - mape: 6491.1875 - val_loss: 0.0026 - val_mape: 10.8393\n",
            "Epoch 95/500\n",
            "122/122 [==============================] - 0s 2ms/step - loss: 0.0026 - mape: 6139.6768 - val_loss: 0.0027 - val_mape: 10.8394\n",
            "Epoch 96/500\n",
            "122/122 [==============================] - 0s 2ms/step - loss: 0.0026 - mape: 6564.3384 - val_loss: 0.0027 - val_mape: 11.2515\n",
            "Epoch 97/500\n",
            "122/122 [==============================] - 0s 2ms/step - loss: 0.0026 - mape: 6759.7339 - val_loss: 0.0026 - val_mape: 10.9593\n",
            "Epoch 98/500\n",
            "122/122 [==============================] - 0s 2ms/step - loss: 0.0025 - mape: 5771.2153 - val_loss: 0.0026 - val_mape: 10.7885\n",
            "Epoch 99/500\n",
            "122/122 [==============================] - 0s 2ms/step - loss: 0.0025 - mape: 5478.1729 - val_loss: 0.0026 - val_mape: 11.0377\n",
            "Epoch 100/500\n",
            "122/122 [==============================] - 0s 2ms/step - loss: 0.0026 - mape: 5873.8433 - val_loss: 0.0027 - val_mape: 10.8182\n",
            "Epoch 101/500\n",
            "122/122 [==============================] - 0s 2ms/step - loss: 0.0025 - mape: 6310.0366 - val_loss: 0.0026 - val_mape: 10.9149\n",
            "Epoch 102/500\n",
            "122/122 [==============================] - 0s 2ms/step - loss: 0.0025 - mape: 5331.5459 - val_loss: 0.0026 - val_mape: 10.8109\n",
            "Epoch 103/500\n",
            "122/122 [==============================] - 0s 2ms/step - loss: 0.0025 - mape: 5357.6733 - val_loss: 0.0026 - val_mape: 10.7707\n",
            "Epoch 104/500\n",
            "122/122 [==============================] - 0s 2ms/step - loss: 0.0025 - mape: 5964.9326 - val_loss: 0.0026 - val_mape: 10.8305\n",
            "Epoch 105/500\n",
            "122/122 [==============================] - 0s 2ms/step - loss: 0.0025 - mape: 5894.4575 - val_loss: 0.0026 - val_mape: 10.8778\n",
            "Epoch 106/500\n",
            "122/122 [==============================] - 0s 2ms/step - loss: 0.0025 - mape: 5662.3872 - val_loss: 0.0026 - val_mape: 10.7473\n",
            "Epoch 107/500\n",
            "122/122 [==============================] - 0s 2ms/step - loss: 0.0025 - mape: 5938.2910 - val_loss: 0.0026 - val_mape: 11.2329\n",
            "Epoch 108/500\n",
            "122/122 [==============================] - 0s 2ms/step - loss: 0.0025 - mape: 5587.3667 - val_loss: 0.0026 - val_mape: 10.8372\n",
            "Epoch 109/500\n",
            "122/122 [==============================] - 0s 2ms/step - loss: 0.0025 - mape: 5629.3203 - val_loss: 0.0026 - val_mape: 10.7508\n",
            "Epoch 110/500\n",
            "122/122 [==============================] - 0s 2ms/step - loss: 0.0025 - mape: 5854.5381 - val_loss: 0.0026 - val_mape: 10.7110\n",
            "Epoch 111/500\n",
            "122/122 [==============================] - 0s 2ms/step - loss: 0.0025 - mape: 5053.2280 - val_loss: 0.0026 - val_mape: 11.1657\n",
            "Epoch 112/500\n",
            "122/122 [==============================] - 0s 2ms/step - loss: 0.0025 - mape: 4839.6880 - val_loss: 0.0026 - val_mape: 11.1424\n",
            "Epoch 113/500\n",
            "122/122 [==============================] - 0s 2ms/step - loss: 0.0025 - mape: 4462.7476 - val_loss: 0.0025 - val_mape: 10.8272\n",
            "Epoch 114/500\n",
            "122/122 [==============================] - 0s 2ms/step - loss: 0.0025 - mape: 4946.0625 - val_loss: 0.0025 - val_mape: 10.8348\n",
            "Epoch 115/500\n",
            "122/122 [==============================] - 0s 2ms/step - loss: 0.0025 - mape: 5143.5659 - val_loss: 0.0026 - val_mape: 11.1686\n",
            "Epoch 116/500\n",
            "122/122 [==============================] - 0s 2ms/step - loss: 0.0025 - mape: 5540.0703 - val_loss: 0.0026 - val_mape: 11.3066\n",
            "Epoch 117/500\n",
            "122/122 [==============================] - 0s 2ms/step - loss: 0.0025 - mape: 4561.2158 - val_loss: 0.0026 - val_mape: 10.7230\n",
            "Epoch 118/500\n",
            "122/122 [==============================] - 0s 2ms/step - loss: 0.0025 - mape: 4028.3840 - val_loss: 0.0025 - val_mape: 10.9057\n",
            "Epoch 119/500\n",
            "122/122 [==============================] - 0s 3ms/step - loss: 0.0025 - mape: 4432.1899 - val_loss: 0.0025 - val_mape: 10.8025\n",
            "Epoch 120/500\n",
            "122/122 [==============================] - 0s 2ms/step - loss: 0.0025 - mape: 4984.5952 - val_loss: 0.0025 - val_mape: 10.9155\n",
            "Epoch 121/500\n",
            "122/122 [==============================] - 0s 2ms/step - loss: 0.0025 - mape: 4252.1465 - val_loss: 0.0026 - val_mape: 10.6605\n",
            "Epoch 122/500\n",
            "122/122 [==============================] - 0s 2ms/step - loss: 0.0025 - mape: 4285.8521 - val_loss: 0.0025 - val_mape: 10.7385\n",
            "Epoch 123/500\n",
            "122/122 [==============================] - 0s 2ms/step - loss: 0.0025 - mape: 4378.0454 - val_loss: 0.0026 - val_mape: 10.7299\n",
            "Epoch 124/500\n",
            "122/122 [==============================] - 0s 2ms/step - loss: 0.0025 - mape: 4254.3535 - val_loss: 0.0025 - val_mape: 10.6680\n",
            "Epoch 125/500\n",
            "122/122 [==============================] - 0s 2ms/step - loss: 0.0025 - mape: 3738.7593 - val_loss: 0.0025 - val_mape: 10.6846\n",
            "Epoch 126/500\n",
            "122/122 [==============================] - 0s 2ms/step - loss: 0.0025 - mape: 3411.2639 - val_loss: 0.0026 - val_mape: 10.6913\n",
            "Epoch 127/500\n",
            "122/122 [==============================] - 0s 2ms/step - loss: 0.0025 - mape: 2956.0222 - val_loss: 0.0026 - val_mape: 10.7030\n",
            "Epoch 128/500\n",
            "122/122 [==============================] - 0s 2ms/step - loss: 0.0025 - mape: 3723.4978 - val_loss: 0.0026 - val_mape: 10.6397\n",
            "Epoch 129/500\n",
            "122/122 [==============================] - 0s 3ms/step - loss: 0.0025 - mape: 3217.9346 - val_loss: 0.0025 - val_mape: 10.8150\n",
            "Epoch 130/500\n",
            "122/122 [==============================] - 0s 2ms/step - loss: 0.0025 - mape: 2455.0073 - val_loss: 0.0026 - val_mape: 11.0107\n",
            "Epoch 131/500\n",
            "122/122 [==============================] - 0s 2ms/step - loss: 0.0025 - mape: 2676.1953 - val_loss: 0.0026 - val_mape: 10.8689\n",
            "Epoch 132/500\n",
            "122/122 [==============================] - 0s 2ms/step - loss: 0.0025 - mape: 4186.5410 - val_loss: 0.0025 - val_mape: 10.8695\n",
            "Epoch 133/500\n",
            "122/122 [==============================] - 0s 2ms/step - loss: 0.0025 - mape: 2645.6465 - val_loss: 0.0026 - val_mape: 11.0394\n",
            "Epoch 134/500\n",
            "122/122 [==============================] - 0s 2ms/step - loss: 0.0025 - mape: 4088.2332 - val_loss: 0.0025 - val_mape: 10.8685\n",
            "Epoch 135/500\n",
            "122/122 [==============================] - 0s 2ms/step - loss: 0.0025 - mape: 2837.0757 - val_loss: 0.0026 - val_mape: 11.0538\n",
            "Epoch 136/500\n",
            "122/122 [==============================] - 0s 2ms/step - loss: 0.0025 - mape: 3052.7930 - val_loss: 0.0025 - val_mape: 10.7739\n",
            "Epoch 137/500\n",
            "122/122 [==============================] - 0s 2ms/step - loss: 0.0025 - mape: 2109.4424 - val_loss: 0.0025 - val_mape: 10.9095\n",
            "Epoch 138/500\n",
            "122/122 [==============================] - 0s 2ms/step - loss: 0.0025 - mape: 3797.2163 - val_loss: 0.0026 - val_mape: 10.9932\n",
            "Epoch 139/500\n",
            "122/122 [==============================] - 0s 2ms/step - loss: 0.0025 - mape: 2378.9785 - val_loss: 0.0025 - val_mape: 10.8813\n",
            "Epoch 140/500\n",
            "122/122 [==============================] - 0s 2ms/step - loss: 0.0025 - mape: 2386.1333 - val_loss: 0.0025 - val_mape: 10.8379\n",
            "Epoch 141/500\n",
            "122/122 [==============================] - 0s 2ms/step - loss: 0.0025 - mape: 3300.5308 - val_loss: 0.0027 - val_mape: 10.7664\n",
            "Epoch 142/500\n",
            "122/122 [==============================] - 0s 2ms/step - loss: 0.0025 - mape: 1358.2268 - val_loss: 0.0025 - val_mape: 10.8198\n",
            "Epoch 143/500\n",
            "122/122 [==============================] - 0s 2ms/step - loss: 0.0024 - mape: 1668.6182 - val_loss: 0.0025 - val_mape: 10.6686\n",
            "Epoch 144/500\n",
            "122/122 [==============================] - 0s 2ms/step - loss: 0.0025 - mape: 676.4333 - val_loss: 0.0025 - val_mape: 10.6841\n",
            "Epoch 145/500\n",
            "122/122 [==============================] - 0s 2ms/step - loss: 0.0024 - mape: 1555.2264 - val_loss: 0.0025 - val_mape: 10.8138\n",
            "Epoch 146/500\n",
            "122/122 [==============================] - 0s 3ms/step - loss: 0.0024 - mape: 155.8339 - val_loss: 0.0025 - val_mape: 10.5959\n",
            "Epoch 147/500\n",
            "122/122 [==============================] - 0s 2ms/step - loss: 0.0024 - mape: 59.9408 - val_loss: 0.0026 - val_mape: 11.2520\n",
            "Epoch 148/500\n",
            "122/122 [==============================] - 0s 2ms/step - loss: 0.0024 - mape: 512.9705 - val_loss: 0.0025 - val_mape: 10.7180\n",
            "Epoch 149/500\n",
            "122/122 [==============================] - 0s 2ms/step - loss: 0.0024 - mape: 820.1172 - val_loss: 0.0025 - val_mape: 11.0360\n",
            "Epoch 150/500\n",
            "122/122 [==============================] - 0s 2ms/step - loss: 0.0024 - mape: 847.7958 - val_loss: 0.0025 - val_mape: 10.6625\n",
            "Epoch 151/500\n",
            "122/122 [==============================] - 0s 2ms/step - loss: 0.0024 - mape: 696.4254 - val_loss: 0.0024 - val_mape: 10.6295\n",
            "Epoch 152/500\n",
            "122/122 [==============================] - 0s 2ms/step - loss: 0.0024 - mape: 92.3072 - val_loss: 0.0025 - val_mape: 10.5260\n",
            "Epoch 153/500\n",
            "122/122 [==============================] - 0s 2ms/step - loss: 0.0024 - mape: 909.5758 - val_loss: 0.0024 - val_mape: 10.5076\n",
            "Epoch 154/500\n",
            "122/122 [==============================] - 0s 2ms/step - loss: 0.0024 - mape: 1214.0376 - val_loss: 0.0024 - val_mape: 10.4728\n",
            "Epoch 155/500\n",
            "122/122 [==============================] - 0s 2ms/step - loss: 0.0024 - mape: 926.4732 - val_loss: 0.0025 - val_mape: 10.4555\n",
            "Epoch 156/500\n",
            "122/122 [==============================] - 0s 2ms/step - loss: 0.0024 - mape: 784.6136 - val_loss: 0.0024 - val_mape: 10.7507\n",
            "Epoch 157/500\n",
            "122/122 [==============================] - 0s 2ms/step - loss: 0.0024 - mape: 664.5126 - val_loss: 0.0024 - val_mape: 10.5182\n",
            "Epoch 158/500\n",
            "122/122 [==============================] - 0s 2ms/step - loss: 0.0024 - mape: 1044.4670 - val_loss: 0.0024 - val_mape: 10.5229\n",
            "Epoch 159/500\n",
            "122/122 [==============================] - 0s 2ms/step - loss: 0.0024 - mape: 1075.8164 - val_loss: 0.0024 - val_mape: 10.6826\n",
            "Epoch 160/500\n",
            "122/122 [==============================] - 0s 2ms/step - loss: 0.0024 - mape: 2739.1912 - val_loss: 0.0024 - val_mape: 10.6298\n",
            "Epoch 161/500\n",
            "122/122 [==============================] - 0s 2ms/step - loss: 0.0023 - mape: 901.2289 - val_loss: 0.0025 - val_mape: 10.4504\n",
            "Epoch 162/500\n",
            "122/122 [==============================] - 0s 2ms/step - loss: 0.0023 - mape: 743.2925 - val_loss: 0.0024 - val_mape: 10.7867\n",
            "Epoch 163/500\n",
            "122/122 [==============================] - 0s 2ms/step - loss: 0.0023 - mape: 2047.6665 - val_loss: 0.0024 - val_mape: 10.3363\n",
            "Epoch 164/500\n",
            "122/122 [==============================] - 0s 2ms/step - loss: 0.0023 - mape: 2086.4260 - val_loss: 0.0023 - val_mape: 10.4229\n",
            "Epoch 165/500\n",
            "122/122 [==============================] - 0s 2ms/step - loss: 0.0023 - mape: 1415.1917 - val_loss: 0.0023 - val_mape: 10.4336\n",
            "Epoch 166/500\n",
            "122/122 [==============================] - 0s 2ms/step - loss: 0.0023 - mape: 622.3016 - val_loss: 0.0023 - val_mape: 10.3258\n",
            "Epoch 167/500\n",
            "122/122 [==============================] - 0s 2ms/step - loss: 0.0023 - mape: 959.9122 - val_loss: 0.0023 - val_mape: 10.4583\n",
            "Epoch 168/500\n",
            "122/122 [==============================] - 0s 2ms/step - loss: 0.0023 - mape: 443.3086 - val_loss: 0.0023 - val_mape: 10.2424\n",
            "Epoch 169/500\n",
            "122/122 [==============================] - 0s 2ms/step - loss: 0.0023 - mape: 947.8525 - val_loss: 0.0023 - val_mape: 10.2576\n",
            "Epoch 170/500\n",
            "122/122 [==============================] - 0s 2ms/step - loss: 0.0023 - mape: 1387.2803 - val_loss: 0.0023 - val_mape: 10.3599\n",
            "Epoch 171/500\n",
            "122/122 [==============================] - 0s 2ms/step - loss: 0.0023 - mape: 576.1045 - val_loss: 0.0022 - val_mape: 10.1375\n",
            "Epoch 172/500\n",
            "122/122 [==============================] - 0s 2ms/step - loss: 0.0022 - mape: 1873.1917 - val_loss: 0.0023 - val_mape: 10.0597\n",
            "Epoch 173/500\n",
            "122/122 [==============================] - 0s 2ms/step - loss: 0.0022 - mape: 714.5995 - val_loss: 0.0022 - val_mape: 10.2530\n",
            "Epoch 174/500\n",
            "122/122 [==============================] - 0s 3ms/step - loss: 0.0022 - mape: 371.9345 - val_loss: 0.0022 - val_mape: 10.0811\n",
            "Epoch 175/500\n",
            "122/122 [==============================] - 0s 2ms/step - loss: 0.0022 - mape: 641.4391 - val_loss: 0.0023 - val_mape: 10.4882\n",
            "Epoch 176/500\n",
            "122/122 [==============================] - 0s 2ms/step - loss: 0.0022 - mape: 1688.7738 - val_loss: 0.0022 - val_mape: 10.0977\n",
            "Epoch 177/500\n",
            "122/122 [==============================] - 0s 2ms/step - loss: 0.0022 - mape: 762.9323 - val_loss: 0.0022 - val_mape: 9.9736\n",
            "Epoch 178/500\n",
            "122/122 [==============================] - 0s 2ms/step - loss: 0.0022 - mape: 1539.9408 - val_loss: 0.0022 - val_mape: 10.0257\n",
            "Epoch 179/500\n",
            "122/122 [==============================] - 0s 2ms/step - loss: 0.0021 - mape: 956.8045 - val_loss: 0.0021 - val_mape: 10.0653\n",
            "Epoch 180/500\n",
            "122/122 [==============================] - 0s 2ms/step - loss: 0.0021 - mape: 2465.9263 - val_loss: 0.0021 - val_mape: 9.8821\n",
            "Epoch 181/500\n",
            "122/122 [==============================] - 0s 2ms/step - loss: 0.0021 - mape: 621.5071 - val_loss: 0.0022 - val_mape: 10.2344\n",
            "Epoch 182/500\n",
            "122/122 [==============================] - 0s 2ms/step - loss: 0.0021 - mape: 704.7530 - val_loss: 0.0021 - val_mape: 9.8454\n",
            "Epoch 183/500\n",
            "122/122 [==============================] - 0s 2ms/step - loss: 0.0021 - mape: 308.5437 - val_loss: 0.0021 - val_mape: 9.8010\n",
            "Epoch 184/500\n",
            "122/122 [==============================] - 0s 3ms/step - loss: 0.0021 - mape: 2242.3469 - val_loss: 0.0021 - val_mape: 9.8619\n",
            "Epoch 185/500\n",
            "122/122 [==============================] - 0s 2ms/step - loss: 0.0021 - mape: 986.3236 - val_loss: 0.0021 - val_mape: 10.0879\n",
            "Epoch 186/500\n",
            "122/122 [==============================] - 0s 2ms/step - loss: 0.0020 - mape: 123.6279 - val_loss: 0.0021 - val_mape: 9.8307\n",
            "Epoch 187/500\n",
            "122/122 [==============================] - 0s 2ms/step - loss: 0.0021 - mape: 827.1012 - val_loss: 0.0021 - val_mape: 10.1697\n",
            "Epoch 188/500\n",
            "122/122 [==============================] - 0s 2ms/step - loss: 0.0020 - mape: 2246.6155 - val_loss: 0.0021 - val_mape: 9.7431\n",
            "Epoch 189/500\n",
            "122/122 [==============================] - 0s 2ms/step - loss: 0.0020 - mape: 386.6494 - val_loss: 0.0021 - val_mape: 9.8180\n",
            "Epoch 190/500\n",
            "122/122 [==============================] - 0s 2ms/step - loss: 0.0020 - mape: 1517.3325 - val_loss: 0.0020 - val_mape: 9.7184\n",
            "Epoch 191/500\n",
            "122/122 [==============================] - 0s 2ms/step - loss: 0.0020 - mape: 650.2678 - val_loss: 0.0021 - val_mape: 9.6746\n",
            "Epoch 192/500\n",
            "122/122 [==============================] - 0s 2ms/step - loss: 0.0020 - mape: 141.8939 - val_loss: 0.0020 - val_mape: 9.9010\n",
            "Epoch 193/500\n",
            "122/122 [==============================] - 0s 2ms/step - loss: 0.0020 - mape: 469.8391 - val_loss: 0.0020 - val_mape: 9.9376\n",
            "Epoch 194/500\n",
            "122/122 [==============================] - 0s 2ms/step - loss: 0.0020 - mape: 803.2795 - val_loss: 0.0020 - val_mape: 9.7438\n",
            "Epoch 195/500\n",
            "122/122 [==============================] - 0s 2ms/step - loss: 0.0020 - mape: 1197.0560 - val_loss: 0.0020 - val_mape: 9.6589\n",
            "Epoch 196/500\n",
            "122/122 [==============================] - 0s 2ms/step - loss: 0.0020 - mape: 1038.9373 - val_loss: 0.0020 - val_mape: 9.9810\n",
            "Epoch 197/500\n",
            "122/122 [==============================] - 0s 2ms/step - loss: 0.0020 - mape: 544.2181 - val_loss: 0.0020 - val_mape: 9.7731\n",
            "Epoch 198/500\n",
            "122/122 [==============================] - 0s 2ms/step - loss: 0.0020 - mape: 788.3997 - val_loss: 0.0020 - val_mape: 9.6525\n",
            "Epoch 199/500\n",
            "122/122 [==============================] - 0s 2ms/step - loss: 0.0019 - mape: 299.9696 - val_loss: 0.0020 - val_mape: 9.7813\n",
            "Epoch 200/500\n",
            "122/122 [==============================] - 0s 2ms/step - loss: 0.0019 - mape: 213.5574 - val_loss: 0.0020 - val_mape: 9.6124\n",
            "Epoch 201/500\n",
            "122/122 [==============================] - 0s 3ms/step - loss: 0.0019 - mape: 882.5193 - val_loss: 0.0020 - val_mape: 9.5951\n",
            "Epoch 202/500\n",
            "122/122 [==============================] - 0s 2ms/step - loss: 0.0019 - mape: 547.8506 - val_loss: 0.0020 - val_mape: 9.8244\n",
            "Epoch 203/500\n",
            "122/122 [==============================] - 0s 2ms/step - loss: 0.0019 - mape: 431.2277 - val_loss: 0.0020 - val_mape: 9.5504\n",
            "Epoch 204/500\n",
            "122/122 [==============================] - 0s 2ms/step - loss: 0.0019 - mape: 92.0222 - val_loss: 0.0020 - val_mape: 9.8531\n",
            "Epoch 205/500\n",
            "122/122 [==============================] - 0s 2ms/step - loss: 0.0019 - mape: 1962.2540 - val_loss: 0.0019 - val_mape: 9.4929\n",
            "Epoch 206/500\n",
            "122/122 [==============================] - 0s 2ms/step - loss: 0.0019 - mape: 531.6180 - val_loss: 0.0019 - val_mape: 9.7338\n",
            "Epoch 207/500\n",
            "122/122 [==============================] - 0s 2ms/step - loss: 0.0019 - mape: 1051.0955 - val_loss: 0.0019 - val_mape: 9.4847\n",
            "Epoch 208/500\n",
            "122/122 [==============================] - 0s 2ms/step - loss: 0.0019 - mape: 214.9353 - val_loss: 0.0019 - val_mape: 9.6193\n",
            "Epoch 209/500\n",
            "122/122 [==============================] - 0s 2ms/step - loss: 0.0019 - mape: 24.5258 - val_loss: 0.0019 - val_mape: 9.5025\n",
            "Epoch 210/500\n",
            "122/122 [==============================] - 0s 2ms/step - loss: 0.0018 - mape: 687.5020 - val_loss: 0.0019 - val_mape: 9.4459\n",
            "Epoch 211/500\n",
            "122/122 [==============================] - 0s 2ms/step - loss: 0.0019 - mape: 89.9852 - val_loss: 0.0019 - val_mape: 9.4643\n",
            "Epoch 212/500\n",
            "122/122 [==============================] - 0s 3ms/step - loss: 0.0018 - mape: 1035.8979 - val_loss: 0.0019 - val_mape: 9.4383\n",
            "Epoch 213/500\n",
            "122/122 [==============================] - 0s 2ms/step - loss: 0.0018 - mape: 1386.6541 - val_loss: 0.0020 - val_mape: 9.9836\n",
            "Epoch 214/500\n",
            "122/122 [==============================] - 0s 2ms/step - loss: 0.0018 - mape: 1250.1174 - val_loss: 0.0019 - val_mape: 9.4382\n",
            "Epoch 215/500\n",
            "122/122 [==============================] - 0s 2ms/step - loss: 0.0018 - mape: 716.3072 - val_loss: 0.0019 - val_mape: 9.5581\n",
            "Epoch 216/500\n",
            "122/122 [==============================] - 0s 2ms/step - loss: 0.0018 - mape: 1046.8778 - val_loss: 0.0019 - val_mape: 9.6712\n",
            "Epoch 217/500\n",
            "122/122 [==============================] - 0s 2ms/step - loss: 0.0018 - mape: 2543.2109 - val_loss: 0.0019 - val_mape: 9.4065\n",
            "Epoch 218/500\n",
            "122/122 [==============================] - 0s 2ms/step - loss: 0.0018 - mape: 472.2386 - val_loss: 0.0019 - val_mape: 9.5654\n",
            "Epoch 219/500\n",
            "122/122 [==============================] - 0s 2ms/step - loss: 0.0018 - mape: 2327.1733 - val_loss: 0.0019 - val_mape: 9.3886\n",
            "Epoch 220/500\n",
            "122/122 [==============================] - 0s 2ms/step - loss: 0.0018 - mape: 1818.0487 - val_loss: 0.0019 - val_mape: 9.4669\n",
            "Epoch 221/500\n",
            "122/122 [==============================] - 0s 2ms/step - loss: 0.0018 - mape: 544.7086 - val_loss: 0.0019 - val_mape: 9.3532\n",
            "Epoch 222/500\n",
            "122/122 [==============================] - 0s 2ms/step - loss: 0.0018 - mape: 1447.4966 - val_loss: 0.0019 - val_mape: 9.6816\n",
            "Epoch 223/500\n",
            "122/122 [==============================] - 0s 2ms/step - loss: 0.0018 - mape: 1644.6632 - val_loss: 0.0019 - val_mape: 9.2875\n",
            "Epoch 224/500\n",
            "122/122 [==============================] - 0s 2ms/step - loss: 0.0018 - mape: 268.5267 - val_loss: 0.0019 - val_mape: 9.5963\n",
            "Epoch 225/500\n",
            "122/122 [==============================] - 0s 2ms/step - loss: 0.0018 - mape: 32.3281 - val_loss: 0.0019 - val_mape: 9.7418\n",
            "Epoch 226/500\n",
            "122/122 [==============================] - 0s 2ms/step - loss: 0.0018 - mape: 1606.2643 - val_loss: 0.0018 - val_mape: 9.4195\n",
            "Epoch 227/500\n",
            "122/122 [==============================] - 0s 2ms/step - loss: 0.0018 - mape: 2303.6692 - val_loss: 0.0019 - val_mape: 9.7273\n",
            "Epoch 228/500\n",
            "122/122 [==============================] - 0s 2ms/step - loss: 0.0018 - mape: 892.1089 - val_loss: 0.0018 - val_mape: 9.4230\n",
            "Epoch 229/500\n",
            "122/122 [==============================] - 0s 3ms/step - loss: 0.0017 - mape: 1449.7340 - val_loss: 0.0019 - val_mape: 9.2799\n",
            "Epoch 230/500\n",
            "122/122 [==============================] - 0s 2ms/step - loss: 0.0017 - mape: 959.2374 - val_loss: 0.0019 - val_mape: 9.2311\n",
            "Epoch 231/500\n",
            "122/122 [==============================] - 0s 2ms/step - loss: 0.0017 - mape: 522.4956 - val_loss: 0.0018 - val_mape: 9.4320\n",
            "Epoch 232/500\n",
            "122/122 [==============================] - 0s 2ms/step - loss: 0.0017 - mape: 2564.6753 - val_loss: 0.0018 - val_mape: 9.3239\n",
            "Epoch 233/500\n",
            "122/122 [==============================] - 0s 2ms/step - loss: 0.0017 - mape: 1831.0455 - val_loss: 0.0018 - val_mape: 9.2354\n",
            "Epoch 234/500\n",
            "122/122 [==============================] - 0s 2ms/step - loss: 0.0018 - mape: 889.2070 - val_loss: 0.0018 - val_mape: 9.5501\n",
            "Epoch 235/500\n",
            "122/122 [==============================] - 0s 2ms/step - loss: 0.0017 - mape: 533.7095 - val_loss: 0.0018 - val_mape: 9.2914\n",
            "Epoch 236/500\n",
            "122/122 [==============================] - 0s 2ms/step - loss: 0.0017 - mape: 452.9048 - val_loss: 0.0018 - val_mape: 9.1479\n",
            "Epoch 237/500\n",
            "122/122 [==============================] - 0s 2ms/step - loss: 0.0017 - mape: 678.3187 - val_loss: 0.0018 - val_mape: 9.3817\n",
            "Epoch 238/500\n",
            "122/122 [==============================] - 0s 2ms/step - loss: 0.0017 - mape: 1471.4523 - val_loss: 0.0018 - val_mape: 9.2858\n",
            "Epoch 239/500\n",
            "122/122 [==============================] - 0s 2ms/step - loss: 0.0017 - mape: 744.8490 - val_loss: 0.0018 - val_mape: 9.3225\n",
            "Epoch 240/500\n",
            "122/122 [==============================] - 0s 2ms/step - loss: 0.0017 - mape: 344.2227 - val_loss: 0.0018 - val_mape: 9.2206\n",
            "Epoch 241/500\n",
            "122/122 [==============================] - 0s 2ms/step - loss: 0.0017 - mape: 657.6622 - val_loss: 0.0018 - val_mape: 9.4571\n",
            "Epoch 242/500\n",
            "122/122 [==============================] - 0s 2ms/step - loss: 0.0017 - mape: 1983.3931 - val_loss: 0.0018 - val_mape: 9.2112\n",
            "Epoch 243/500\n",
            "122/122 [==============================] - 0s 2ms/step - loss: 0.0017 - mape: 531.8661 - val_loss: 0.0018 - val_mape: 9.1278\n",
            "Epoch 244/500\n",
            "122/122 [==============================] - 0s 2ms/step - loss: 0.0017 - mape: 1416.1858 - val_loss: 0.0018 - val_mape: 9.1687\n",
            "Epoch 245/500\n",
            "122/122 [==============================] - 0s 2ms/step - loss: 0.0017 - mape: 1721.8341 - val_loss: 0.0018 - val_mape: 9.3329\n",
            "Epoch 246/500\n",
            "122/122 [==============================] - 0s 2ms/step - loss: 0.0017 - mape: 1669.0093 - val_loss: 0.0018 - val_mape: 9.1772\n",
            "Epoch 247/500\n",
            "122/122 [==============================] - 0s 2ms/step - loss: 0.0017 - mape: 371.0196 - val_loss: 0.0018 - val_mape: 9.3002\n",
            "Epoch 248/500\n",
            "122/122 [==============================] - 0s 2ms/step - loss: 0.0017 - mape: 1804.3809 - val_loss: 0.0018 - val_mape: 9.4674\n",
            "Epoch 249/500\n",
            "122/122 [==============================] - 0s 2ms/step - loss: 0.0017 - mape: 1914.6665 - val_loss: 0.0018 - val_mape: 9.0682\n",
            "Epoch 250/500\n",
            "122/122 [==============================] - 0s 2ms/step - loss: 0.0017 - mape: 1926.0768 - val_loss: 0.0018 - val_mape: 9.1639\n",
            "Epoch 251/500\n",
            "122/122 [==============================] - 0s 2ms/step - loss: 0.0017 - mape: 1356.3857 - val_loss: 0.0018 - val_mape: 9.0265\n",
            "Epoch 252/500\n",
            "122/122 [==============================] - 0s 2ms/step - loss: 0.0017 - mape: 767.3488 - val_loss: 0.0018 - val_mape: 9.2786\n",
            "Epoch 253/500\n",
            "122/122 [==============================] - 0s 2ms/step - loss: 0.0017 - mape: 1124.7211 - val_loss: 0.0018 - val_mape: 9.1839\n",
            "Epoch 254/500\n",
            "122/122 [==============================] - 0s 2ms/step - loss: 0.0017 - mape: 1248.8547 - val_loss: 0.0018 - val_mape: 9.5204\n",
            "Epoch 255/500\n",
            "122/122 [==============================] - 0s 2ms/step - loss: 0.0017 - mape: 778.9330 - val_loss: 0.0018 - val_mape: 9.1653\n",
            "Epoch 256/500\n",
            "122/122 [==============================] - 0s 2ms/step - loss: 0.0017 - mape: 2283.6731 - val_loss: 0.0017 - val_mape: 9.0087\n",
            "Epoch 257/500\n",
            "122/122 [==============================] - 0s 3ms/step - loss: 0.0017 - mape: 2941.8816 - val_loss: 0.0018 - val_mape: 9.0259\n",
            "Epoch 258/500\n",
            "122/122 [==============================] - 0s 2ms/step - loss: 0.0017 - mape: 3930.5210 - val_loss: 0.0018 - val_mape: 9.2726\n",
            "Epoch 259/500\n",
            "122/122 [==============================] - 0s 2ms/step - loss: 0.0017 - mape: 124.4626 - val_loss: 0.0018 - val_mape: 9.0289\n",
            "Epoch 260/500\n",
            "122/122 [==============================] - 0s 2ms/step - loss: 0.0017 - mape: 1321.9426 - val_loss: 0.0018 - val_mape: 9.1164\n",
            "Epoch 261/500\n",
            "122/122 [==============================] - 0s 2ms/step - loss: 0.0017 - mape: 2221.8662 - val_loss: 0.0018 - val_mape: 9.0280\n",
            "Epoch 262/500\n",
            "122/122 [==============================] - 0s 2ms/step - loss: 0.0017 - mape: 1531.3101 - val_loss: 0.0018 - val_mape: 9.0538\n",
            "Epoch 263/500\n",
            "122/122 [==============================] - 0s 2ms/step - loss: 0.0017 - mape: 1015.6719 - val_loss: 0.0017 - val_mape: 9.1330\n",
            "Epoch 264/500\n",
            "122/122 [==============================] - 0s 2ms/step - loss: 0.0017 - mape: 25.6304 - val_loss: 0.0017 - val_mape: 8.9985\n",
            "Epoch 265/500\n",
            "122/122 [==============================] - 0s 2ms/step - loss: 0.0017 - mape: 1098.4244 - val_loss: 0.0018 - val_mape: 9.5202\n",
            "Epoch 266/500\n",
            "122/122 [==============================] - 0s 2ms/step - loss: 0.0017 - mape: 1220.7081 - val_loss: 0.0017 - val_mape: 9.0840\n",
            "Epoch 267/500\n",
            "122/122 [==============================] - 0s 3ms/step - loss: 0.0017 - mape: 2014.1226 - val_loss: 0.0018 - val_mape: 9.0077\n",
            "Epoch 268/500\n",
            "122/122 [==============================] - 0s 2ms/step - loss: 0.0017 - mape: 2114.8269 - val_loss: 0.0017 - val_mape: 8.9972\n",
            "Epoch 269/500\n",
            "122/122 [==============================] - 0s 2ms/step - loss: 0.0017 - mape: 1832.2068 - val_loss: 0.0018 - val_mape: 9.1368\n",
            "Epoch 270/500\n",
            "122/122 [==============================] - 0s 2ms/step - loss: 0.0017 - mape: 1716.7565 - val_loss: 0.0017 - val_mape: 8.9996\n",
            "Epoch 271/500\n",
            "122/122 [==============================] - 0s 2ms/step - loss: 0.0017 - mape: 542.0306 - val_loss: 0.0018 - val_mape: 9.0557\n",
            "Epoch 272/500\n",
            "122/122 [==============================] - 0s 2ms/step - loss: 0.0017 - mape: 1671.3472 - val_loss: 0.0017 - val_mape: 8.9947\n",
            "Epoch 273/500\n",
            "122/122 [==============================] - 0s 2ms/step - loss: 0.0016 - mape: 2248.4509 - val_loss: 0.0017 - val_mape: 9.0263\n",
            "Epoch 274/500\n",
            "122/122 [==============================] - 0s 2ms/step - loss: 0.0017 - mape: 957.7323 - val_loss: 0.0017 - val_mape: 9.1327\n",
            "Epoch 275/500\n",
            "122/122 [==============================] - 0s 2ms/step - loss: 0.0017 - mape: 81.8289 - val_loss: 0.0017 - val_mape: 9.0383\n",
            "Epoch 276/500\n",
            "122/122 [==============================] - 0s 2ms/step - loss: 0.0017 - mape: 1868.2753 - val_loss: 0.0018 - val_mape: 9.2838\n",
            "Epoch 277/500\n",
            "122/122 [==============================] - 0s 2ms/step - loss: 0.0017 - mape: 590.1389 - val_loss: 0.0018 - val_mape: 8.9605\n",
            "Epoch 278/500\n",
            "122/122 [==============================] - 0s 2ms/step - loss: 0.0017 - mape: 260.4137 - val_loss: 0.0017 - val_mape: 8.8908\n",
            "Epoch 279/500\n",
            "122/122 [==============================] - 0s 2ms/step - loss: 0.0016 - mape: 1508.2180 - val_loss: 0.0018 - val_mape: 9.1929\n",
            "Epoch 280/500\n",
            "122/122 [==============================] - 0s 2ms/step - loss: 0.0017 - mape: 3155.8013 - val_loss: 0.0018 - val_mape: 9.3123\n",
            "Epoch 281/500\n",
            "122/122 [==============================] - 0s 2ms/step - loss: 0.0016 - mape: 1871.9543 - val_loss: 0.0017 - val_mape: 8.9699\n",
            "Epoch 282/500\n",
            "122/122 [==============================] - 0s 2ms/step - loss: 0.0016 - mape: 473.8244 - val_loss: 0.0017 - val_mape: 9.0991\n",
            "Epoch 283/500\n",
            "122/122 [==============================] - 0s 2ms/step - loss: 0.0016 - mape: 935.4743 - val_loss: 0.0017 - val_mape: 8.9672\n",
            "Epoch 284/500\n",
            "122/122 [==============================] - 0s 3ms/step - loss: 0.0016 - mape: 403.4220 - val_loss: 0.0018 - val_mape: 8.9960\n",
            "Epoch 285/500\n",
            "122/122 [==============================] - 0s 2ms/step - loss: 0.0017 - mape: 208.3703 - val_loss: 0.0018 - val_mape: 9.3988\n",
            "Epoch 286/500\n",
            "122/122 [==============================] - 0s 2ms/step - loss: 0.0016 - mape: 251.8484 - val_loss: 0.0017 - val_mape: 8.8811\n",
            "Epoch 287/500\n",
            "122/122 [==============================] - 0s 2ms/step - loss: 0.0017 - mape: 1737.0573 - val_loss: 0.0017 - val_mape: 8.8907\n",
            "Epoch 288/500\n",
            "122/122 [==============================] - 0s 2ms/step - loss: 0.0016 - mape: 602.9031 - val_loss: 0.0017 - val_mape: 8.9637\n",
            "Epoch 289/500\n",
            "122/122 [==============================] - 0s 2ms/step - loss: 0.0016 - mape: 1264.7778 - val_loss: 0.0018 - val_mape: 9.1991\n",
            "Epoch 290/500\n",
            "122/122 [==============================] - 0s 2ms/step - loss: 0.0016 - mape: 1043.5332 - val_loss: 0.0017 - val_mape: 8.9390\n",
            "Epoch 291/500\n",
            "122/122 [==============================] - 0s 2ms/step - loss: 0.0016 - mape: 1243.4559 - val_loss: 0.0017 - val_mape: 9.0054\n",
            "Epoch 292/500\n",
            "122/122 [==============================] - 0s 2ms/step - loss: 0.0016 - mape: 1210.0703 - val_loss: 0.0017 - val_mape: 9.0365\n",
            "Epoch 293/500\n",
            "122/122 [==============================] - 0s 2ms/step - loss: 0.0017 - mape: 394.8680 - val_loss: 0.0017 - val_mape: 9.0568\n",
            "Epoch 294/500\n",
            "122/122 [==============================] - 0s 3ms/step - loss: 0.0016 - mape: 1690.1064 - val_loss: 0.0018 - val_mape: 9.2487\n",
            "Epoch 295/500\n",
            "122/122 [==============================] - 0s 2ms/step - loss: 0.0016 - mape: 1519.7347 - val_loss: 0.0017 - val_mape: 9.1350\n",
            "Epoch 296/500\n",
            "122/122 [==============================] - 0s 2ms/step - loss: 0.0016 - mape: 257.7672 - val_loss: 0.0018 - val_mape: 9.3050\n",
            "Epoch 297/500\n",
            "122/122 [==============================] - 0s 2ms/step - loss: 0.0016 - mape: 839.5453 - val_loss: 0.0017 - val_mape: 9.1758\n",
            "Epoch 298/500\n",
            "122/122 [==============================] - 0s 2ms/step - loss: 0.0016 - mape: 755.3909 - val_loss: 0.0017 - val_mape: 9.0353\n",
            "Epoch 299/500\n",
            "122/122 [==============================] - 0s 2ms/step - loss: 0.0016 - mape: 380.0706 - val_loss: 0.0017 - val_mape: 8.9640\n",
            "Epoch 300/500\n",
            "122/122 [==============================] - 0s 2ms/step - loss: 0.0016 - mape: 1003.3441 - val_loss: 0.0017 - val_mape: 8.9035\n",
            "Epoch 301/500\n",
            "122/122 [==============================] - 0s 2ms/step - loss: 0.0016 - mape: 877.0058 - val_loss: 0.0018 - val_mape: 8.9403\n",
            "Epoch 302/500\n",
            "122/122 [==============================] - 0s 2ms/step - loss: 0.0016 - mape: 103.1898 - val_loss: 0.0017 - val_mape: 9.0863\n",
            "Epoch 303/500\n",
            "122/122 [==============================] - 0s 2ms/step - loss: 0.0016 - mape: 132.4367 - val_loss: 0.0017 - val_mape: 9.0056\n",
            "Epoch 304/500\n",
            "122/122 [==============================] - 0s 2ms/step - loss: 0.0016 - mape: 52.3980 - val_loss: 0.0018 - val_mape: 8.8792\n",
            "Epoch 305/500\n",
            "122/122 [==============================] - 0s 2ms/step - loss: 0.0016 - mape: 351.5522 - val_loss: 0.0017 - val_mape: 9.1542\n",
            "Epoch 306/500\n",
            "122/122 [==============================] - 0s 2ms/step - loss: 0.0017 - mape: 513.6960 - val_loss: 0.0017 - val_mape: 9.0207\n",
            "Epoch 307/500\n",
            "122/122 [==============================] - 0s 2ms/step - loss: 0.0016 - mape: 176.9058 - val_loss: 0.0017 - val_mape: 8.8996\n",
            "Epoch 308/500\n",
            "122/122 [==============================] - 0s 2ms/step - loss: 0.0016 - mape: 269.1323 - val_loss: 0.0017 - val_mape: 8.8908\n",
            "Epoch 309/500\n",
            "122/122 [==============================] - 0s 2ms/step - loss: 0.0016 - mape: 457.4812 - val_loss: 0.0017 - val_mape: 9.0620\n",
            "Epoch 310/500\n",
            "122/122 [==============================] - 0s 2ms/step - loss: 0.0016 - mape: 57.8550 - val_loss: 0.0017 - val_mape: 8.8608\n",
            "Epoch 311/500\n",
            "122/122 [==============================] - 0s 3ms/step - loss: 0.0016 - mape: 1030.6758 - val_loss: 0.0017 - val_mape: 8.9527\n",
            "Epoch 312/500\n",
            "122/122 [==============================] - 0s 2ms/step - loss: 0.0016 - mape: 551.7810 - val_loss: 0.0017 - val_mape: 8.9679\n",
            "Epoch 313/500\n",
            "122/122 [==============================] - 0s 2ms/step - loss: 0.0016 - mape: 1617.0765 - val_loss: 0.0017 - val_mape: 8.8098\n",
            "Epoch 314/500\n",
            "122/122 [==============================] - 0s 2ms/step - loss: 0.0016 - mape: 809.9580 - val_loss: 0.0017 - val_mape: 8.8423\n",
            "Epoch 315/500\n",
            "122/122 [==============================] - 0s 2ms/step - loss: 0.0016 - mape: 2248.6362 - val_loss: 0.0018 - val_mape: 8.8243\n",
            "Epoch 316/500\n",
            "122/122 [==============================] - 0s 2ms/step - loss: 0.0016 - mape: 763.0392 - val_loss: 0.0017 - val_mape: 8.8232\n",
            "Epoch 317/500\n",
            "122/122 [==============================] - 0s 2ms/step - loss: 0.0016 - mape: 852.3474 - val_loss: 0.0017 - val_mape: 8.8306\n",
            "Epoch 318/500\n",
            "122/122 [==============================] - 0s 2ms/step - loss: 0.0016 - mape: 418.5536 - val_loss: 0.0017 - val_mape: 9.0243\n",
            "Epoch 319/500\n",
            "122/122 [==============================] - 0s 2ms/step - loss: 0.0016 - mape: 67.2310 - val_loss: 0.0017 - val_mape: 8.8534\n",
            "Epoch 320/500\n",
            "122/122 [==============================] - 0s 2ms/step - loss: 0.0016 - mape: 631.4778 - val_loss: 0.0017 - val_mape: 8.8603\n",
            "Epoch 321/500\n",
            "122/122 [==============================] - 0s 3ms/step - loss: 0.0016 - mape: 286.0550 - val_loss: 0.0018 - val_mape: 9.4416\n",
            "Epoch 322/500\n",
            "122/122 [==============================] - 0s 2ms/step - loss: 0.0016 - mape: 1816.1448 - val_loss: 0.0017 - val_mape: 8.7781\n",
            "Epoch 323/500\n",
            "122/122 [==============================] - 0s 2ms/step - loss: 0.0016 - mape: 1091.1445 - val_loss: 0.0017 - val_mape: 8.9273\n",
            "Epoch 324/500\n",
            "122/122 [==============================] - 0s 2ms/step - loss: 0.0016 - mape: 763.8185 - val_loss: 0.0018 - val_mape: 8.8438\n",
            "Epoch 325/500\n",
            "122/122 [==============================] - 0s 2ms/step - loss: 0.0016 - mape: 658.5782 - val_loss: 0.0017 - val_mape: 8.8194\n",
            "Epoch 326/500\n",
            "122/122 [==============================] - 0s 2ms/step - loss: 0.0016 - mape: 1611.6250 - val_loss: 0.0017 - val_mape: 8.8118\n",
            "Epoch 327/500\n",
            "122/122 [==============================] - 0s 2ms/step - loss: 0.0016 - mape: 2511.6248 - val_loss: 0.0017 - val_mape: 8.8371\n",
            "Epoch 328/500\n",
            "122/122 [==============================] - 0s 2ms/step - loss: 0.0016 - mape: 1884.4805 - val_loss: 0.0017 - val_mape: 8.8768\n",
            "Epoch 329/500\n",
            "122/122 [==============================] - 0s 2ms/step - loss: 0.0016 - mape: 2750.8518 - val_loss: 0.0017 - val_mape: 9.0097\n",
            "Epoch 330/500\n",
            "122/122 [==============================] - 0s 2ms/step - loss: 0.0016 - mape: 2213.6240 - val_loss: 0.0017 - val_mape: 8.7305\n",
            "Epoch 331/500\n",
            "122/122 [==============================] - 0s 2ms/step - loss: 0.0016 - mape: 1816.5612 - val_loss: 0.0017 - val_mape: 8.7539\n",
            "Epoch 332/500\n",
            "122/122 [==============================] - 0s 2ms/step - loss: 0.0016 - mape: 1669.1541 - val_loss: 0.0017 - val_mape: 8.7651\n",
            "Epoch 333/500\n",
            "122/122 [==============================] - 0s 2ms/step - loss: 0.0016 - mape: 1816.2230 - val_loss: 0.0017 - val_mape: 8.8453\n",
            "Epoch 334/500\n",
            "122/122 [==============================] - 0s 2ms/step - loss: 0.0016 - mape: 2427.2256 - val_loss: 0.0017 - val_mape: 8.9251\n",
            "Epoch 335/500\n",
            "122/122 [==============================] - 0s 2ms/step - loss: 0.0016 - mape: 1765.1298 - val_loss: 0.0017 - val_mape: 8.8514\n",
            "Epoch 336/500\n",
            "122/122 [==============================] - 0s 2ms/step - loss: 0.0016 - mape: 2019.5171 - val_loss: 0.0017 - val_mape: 9.0177\n",
            "Epoch 337/500\n",
            "122/122 [==============================] - 0s 2ms/step - loss: 0.0016 - mape: 1262.4700 - val_loss: 0.0018 - val_mape: 9.3409\n",
            "Epoch 338/500\n",
            "122/122 [==============================] - 0s 3ms/step - loss: 0.0016 - mape: 2104.9766 - val_loss: 0.0017 - val_mape: 9.1502\n",
            "Epoch 339/500\n",
            "122/122 [==============================] - 0s 2ms/step - loss: 0.0016 - mape: 2877.3525 - val_loss: 0.0017 - val_mape: 8.8965\n",
            "Epoch 340/500\n",
            "122/122 [==============================] - 0s 2ms/step - loss: 0.0016 - mape: 3573.7183 - val_loss: 0.0017 - val_mape: 8.9260\n",
            "Epoch 341/500\n",
            "122/122 [==============================] - 0s 2ms/step - loss: 0.0016 - mape: 3539.9795 - val_loss: 0.0017 - val_mape: 8.8073\n",
            "Epoch 342/500\n",
            "122/122 [==============================] - 0s 2ms/step - loss: 0.0016 - mape: 3024.6372 - val_loss: 0.0017 - val_mape: 8.7138\n",
            "Epoch 343/500\n",
            "122/122 [==============================] - 0s 2ms/step - loss: 0.0016 - mape: 3625.8755 - val_loss: 0.0017 - val_mape: 8.8480\n",
            "Epoch 344/500\n",
            "122/122 [==============================] - 0s 2ms/step - loss: 0.0016 - mape: 2381.6350 - val_loss: 0.0017 - val_mape: 8.8739\n",
            "Epoch 345/500\n",
            "122/122 [==============================] - 0s 2ms/step - loss: 0.0016 - mape: 2148.1060 - val_loss: 0.0017 - val_mape: 8.9641\n",
            "Epoch 346/500\n",
            "122/122 [==============================] - 0s 2ms/step - loss: 0.0016 - mape: 2586.3667 - val_loss: 0.0017 - val_mape: 8.9081\n",
            "Epoch 347/500\n",
            "122/122 [==============================] - 0s 2ms/step - loss: 0.0016 - mape: 3011.1252 - val_loss: 0.0017 - val_mape: 8.7550\n",
            "Epoch 348/500\n",
            "122/122 [==============================] - 0s 2ms/step - loss: 0.0016 - mape: 2171.1792 - val_loss: 0.0017 - val_mape: 8.7972\n",
            "Epoch 349/500\n",
            "122/122 [==============================] - 0s 3ms/step - loss: 0.0016 - mape: 2156.7671 - val_loss: 0.0017 - val_mape: 8.7376\n",
            "Epoch 350/500\n",
            "122/122 [==============================] - 0s 2ms/step - loss: 0.0016 - mape: 1949.8223 - val_loss: 0.0017 - val_mape: 8.7529\n",
            "Epoch 351/500\n",
            "122/122 [==============================] - 0s 2ms/step - loss: 0.0016 - mape: 1823.8468 - val_loss: 0.0017 - val_mape: 8.9987\n",
            "Epoch 352/500\n",
            "122/122 [==============================] - 0s 2ms/step - loss: 0.0016 - mape: 1745.8274 - val_loss: 0.0017 - val_mape: 8.7140\n",
            "Epoch 353/500\n",
            "122/122 [==============================] - 0s 2ms/step - loss: 0.0016 - mape: 1369.5901 - val_loss: 0.0017 - val_mape: 8.6914\n",
            "Epoch 354/500\n",
            "122/122 [==============================] - 0s 2ms/step - loss: 0.0016 - mape: 1411.1582 - val_loss: 0.0017 - val_mape: 8.8403\n",
            "Epoch 355/500\n",
            "122/122 [==============================] - 0s 2ms/step - loss: 0.0016 - mape: 2468.8164 - val_loss: 0.0017 - val_mape: 8.8520\n",
            "Epoch 356/500\n",
            "122/122 [==============================] - 0s 2ms/step - loss: 0.0016 - mape: 818.0903 - val_loss: 0.0017 - val_mape: 8.7661\n",
            "Epoch 357/500\n",
            "122/122 [==============================] - 0s 2ms/step - loss: 0.0016 - mape: 1880.4489 - val_loss: 0.0017 - val_mape: 8.8147\n",
            "Epoch 358/500\n",
            "122/122 [==============================] - 0s 2ms/step - loss: 0.0016 - mape: 241.9505 - val_loss: 0.0017 - val_mape: 8.8259\n",
            "Epoch 359/500\n",
            "122/122 [==============================] - 0s 2ms/step - loss: 0.0016 - mape: 1586.8458 - val_loss: 0.0017 - val_mape: 8.8745\n",
            "Epoch 360/500\n",
            "122/122 [==============================] - 0s 2ms/step - loss: 0.0016 - mape: 763.6699 - val_loss: 0.0017 - val_mape: 8.8150\n",
            "Epoch 361/500\n",
            "122/122 [==============================] - 0s 2ms/step - loss: 0.0016 - mape: 444.5296 - val_loss: 0.0017 - val_mape: 8.7523\n",
            "Epoch 362/500\n",
            "122/122 [==============================] - 0s 2ms/step - loss: 0.0016 - mape: 2066.5149 - val_loss: 0.0017 - val_mape: 8.7468\n",
            "Epoch 363/500\n",
            "122/122 [==============================] - 0s 2ms/step - loss: 0.0016 - mape: 1664.1515 - val_loss: 0.0017 - val_mape: 8.6949\n",
            "Epoch 364/500\n",
            "122/122 [==============================] - 0s 2ms/step - loss: 0.0016 - mape: 171.8144 - val_loss: 0.0017 - val_mape: 8.9373\n",
            "Epoch 365/500\n",
            "122/122 [==============================] - 0s 2ms/step - loss: 0.0016 - mape: 983.0155 - val_loss: 0.0017 - val_mape: 8.8874\n",
            "Epoch 366/500\n",
            "122/122 [==============================] - 0s 3ms/step - loss: 0.0016 - mape: 1457.1865 - val_loss: 0.0017 - val_mape: 8.9760\n",
            "Epoch 367/500\n",
            "122/122 [==============================] - 0s 2ms/step - loss: 0.0016 - mape: 782.6522 - val_loss: 0.0017 - val_mape: 8.7458\n",
            "Epoch 368/500\n",
            "122/122 [==============================] - 0s 2ms/step - loss: 0.0016 - mape: 1944.5487 - val_loss: 0.0017 - val_mape: 9.0830\n",
            "Epoch 369/500\n",
            "122/122 [==============================] - 0s 2ms/step - loss: 0.0016 - mape: 607.2986 - val_loss: 0.0017 - val_mape: 8.6905\n",
            "Epoch 370/500\n",
            "122/122 [==============================] - 0s 2ms/step - loss: 0.0016 - mape: 4459.4834 - val_loss: 0.0017 - val_mape: 8.7079\n",
            "Epoch 371/500\n",
            "122/122 [==============================] - 0s 2ms/step - loss: 0.0016 - mape: 291.6476 - val_loss: 0.0017 - val_mape: 8.7651\n",
            "Epoch 372/500\n",
            "122/122 [==============================] - 0s 2ms/step - loss: 0.0016 - mape: 419.9563 - val_loss: 0.0017 - val_mape: 8.9063\n",
            "Epoch 373/500\n",
            "122/122 [==============================] - 0s 2ms/step - loss: 0.0016 - mape: 2266.9280 - val_loss: 0.0017 - val_mape: 8.8500\n",
            "Epoch 374/500\n",
            "122/122 [==============================] - 0s 2ms/step - loss: 0.0016 - mape: 1919.0526 - val_loss: 0.0017 - val_mape: 8.8278\n",
            "Epoch 375/500\n",
            "122/122 [==============================] - 0s 2ms/step - loss: 0.0016 - mape: 1184.5203 - val_loss: 0.0018 - val_mape: 9.3723\n",
            "Epoch 376/500\n",
            "122/122 [==============================] - 0s 3ms/step - loss: 0.0016 - mape: 209.2012 - val_loss: 0.0017 - val_mape: 8.6896\n",
            "Epoch 377/500\n",
            "122/122 [==============================] - 0s 2ms/step - loss: 0.0016 - mape: 412.5317 - val_loss: 0.0017 - val_mape: 8.7258\n",
            "Epoch 378/500\n",
            "122/122 [==============================] - 0s 2ms/step - loss: 0.0016 - mape: 811.7375 - val_loss: 0.0017 - val_mape: 9.1699\n",
            "Epoch 379/500\n",
            "122/122 [==============================] - 0s 2ms/step - loss: 0.0016 - mape: 1447.7729 - val_loss: 0.0017 - val_mape: 8.7047\n",
            "Epoch 380/500\n",
            "122/122 [==============================] - 0s 2ms/step - loss: 0.0016 - mape: 1336.3495 - val_loss: 0.0017 - val_mape: 8.6771\n",
            "Epoch 381/500\n",
            "122/122 [==============================] - 0s 2ms/step - loss: 0.0016 - mape: 2959.3018 - val_loss: 0.0017 - val_mape: 8.7187\n",
            "Epoch 382/500\n",
            "122/122 [==============================] - 0s 2ms/step - loss: 0.0016 - mape: 2159.7666 - val_loss: 0.0017 - val_mape: 8.7588\n",
            "Epoch 383/500\n",
            "122/122 [==============================] - 0s 2ms/step - loss: 0.0016 - mape: 585.3561 - val_loss: 0.0017 - val_mape: 8.8671\n",
            "Epoch 384/500\n",
            "122/122 [==============================] - 0s 2ms/step - loss: 0.0016 - mape: 1175.6833 - val_loss: 0.0018 - val_mape: 8.8557\n",
            "Epoch 385/500\n",
            "122/122 [==============================] - 0s 2ms/step - loss: 0.0016 - mape: 3401.5715 - val_loss: 0.0017 - val_mape: 8.8109\n",
            "Epoch 386/500\n",
            "122/122 [==============================] - 0s 2ms/step - loss: 0.0016 - mape: 2160.3501 - val_loss: 0.0017 - val_mape: 9.0678\n",
            "Epoch 387/500\n",
            "122/122 [==============================] - 0s 2ms/step - loss: 0.0016 - mape: 1378.9518 - val_loss: 0.0017 - val_mape: 8.9423\n",
            "Epoch 388/500\n",
            "122/122 [==============================] - 0s 2ms/step - loss: 0.0016 - mape: 373.1327 - val_loss: 0.0017 - val_mape: 8.6992\n",
            "Epoch 389/500\n",
            "122/122 [==============================] - 0s 3ms/step - loss: 0.0016 - mape: 542.9487 - val_loss: 0.0017 - val_mape: 9.1435\n",
            "Epoch 390/500\n",
            "122/122 [==============================] - 0s 2ms/step - loss: 0.0016 - mape: 1049.8806 - val_loss: 0.0017 - val_mape: 8.6823\n",
            "Epoch 391/500\n",
            "122/122 [==============================] - 0s 2ms/step - loss: 0.0016 - mape: 2385.4521 - val_loss: 0.0017 - val_mape: 8.8478\n",
            "Epoch 392/500\n",
            "122/122 [==============================] - 0s 2ms/step - loss: 0.0016 - mape: 1483.7389 - val_loss: 0.0017 - val_mape: 8.7812\n",
            "Epoch 393/500\n",
            "122/122 [==============================] - 0s 3ms/step - loss: 0.0016 - mape: 684.0536 - val_loss: 0.0017 - val_mape: 8.7710\n",
            "Epoch 394/500\n",
            "122/122 [==============================] - 0s 2ms/step - loss: 0.0016 - mape: 681.3198 - val_loss: 0.0017 - val_mape: 8.8017\n",
            "Epoch 395/500\n",
            "122/122 [==============================] - 0s 2ms/step - loss: 0.0016 - mape: 3460.9419 - val_loss: 0.0017 - val_mape: 8.6952\n",
            "Epoch 396/500\n",
            "122/122 [==============================] - 0s 2ms/step - loss: 0.0016 - mape: 2065.6824 - val_loss: 0.0018 - val_mape: 8.8091\n",
            "Epoch 397/500\n",
            "122/122 [==============================] - 0s 2ms/step - loss: 0.0016 - mape: 852.8286 - val_loss: 0.0017 - val_mape: 8.7534\n",
            "Epoch 398/500\n",
            "122/122 [==============================] - 0s 2ms/step - loss: 0.0016 - mape: 1882.0032 - val_loss: 0.0017 - val_mape: 8.7069\n",
            "Epoch 399/500\n",
            "122/122 [==============================] - 0s 2ms/step - loss: 0.0016 - mape: 927.7594 - val_loss: 0.0017 - val_mape: 8.9209\n",
            "Epoch 400/500\n",
            "122/122 [==============================] - 0s 2ms/step - loss: 0.0016 - mape: 700.3867 - val_loss: 0.0017 - val_mape: 8.7985\n",
            "Epoch 401/500\n",
            "122/122 [==============================] - 0s 2ms/step - loss: 0.0016 - mape: 791.3689 - val_loss: 0.0017 - val_mape: 8.7357\n",
            "Epoch 402/500\n",
            "122/122 [==============================] - 0s 2ms/step - loss: 0.0016 - mape: 325.0302 - val_loss: 0.0018 - val_mape: 8.8753\n",
            "Epoch 403/500\n",
            "122/122 [==============================] - 0s 3ms/step - loss: 0.0016 - mape: 433.3787 - val_loss: 0.0017 - val_mape: 8.7610\n",
            "Epoch 404/500\n",
            "122/122 [==============================] - 0s 2ms/step - loss: 0.0016 - mape: 320.2554 - val_loss: 0.0017 - val_mape: 8.6836\n",
            "Epoch 405/500\n",
            "122/122 [==============================] - 0s 2ms/step - loss: 0.0016 - mape: 4882.4746 - val_loss: 0.0017 - val_mape: 8.7128\n",
            "Epoch 406/500\n",
            "122/122 [==============================] - 0s 2ms/step - loss: 0.0016 - mape: 1936.6658 - val_loss: 0.0017 - val_mape: 8.9098\n",
            "Epoch 407/500\n",
            "122/122 [==============================] - 0s 2ms/step - loss: 0.0016 - mape: 2078.2207 - val_loss: 0.0017 - val_mape: 8.7205\n",
            "Epoch 408/500\n",
            "122/122 [==============================] - 0s 2ms/step - loss: 0.0016 - mape: 18.4536 - val_loss: 0.0017 - val_mape: 8.7191\n",
            "Epoch 409/500\n",
            "122/122 [==============================] - 0s 2ms/step - loss: 0.0016 - mape: 347.5450 - val_loss: 0.0017 - val_mape: 8.7456\n",
            "Epoch 410/500\n",
            "122/122 [==============================] - 0s 2ms/step - loss: 0.0016 - mape: 3064.8774 - val_loss: 0.0017 - val_mape: 8.9597\n",
            "Epoch 411/500\n",
            "122/122 [==============================] - 0s 2ms/step - loss: 0.0016 - mape: 1316.7606 - val_loss: 0.0017 - val_mape: 8.6680\n",
            "Epoch 412/500\n",
            "122/122 [==============================] - 0s 2ms/step - loss: 0.0016 - mape: 3483.2302 - val_loss: 0.0017 - val_mape: 8.9588\n",
            "Epoch 413/500\n",
            "122/122 [==============================] - 0s 2ms/step - loss: 0.0016 - mape: 1019.5849 - val_loss: 0.0017 - val_mape: 8.8099\n",
            "Epoch 414/500\n",
            "122/122 [==============================] - 0s 2ms/step - loss: 0.0016 - mape: 138.2511 - val_loss: 0.0017 - val_mape: 8.6936\n",
            "Epoch 415/500\n",
            "122/122 [==============================] - 0s 2ms/step - loss: 0.0016 - mape: 1005.3243 - val_loss: 0.0017 - val_mape: 8.8897\n",
            "Epoch 416/500\n",
            "122/122 [==============================] - 0s 2ms/step - loss: 0.0016 - mape: 3723.4688 - val_loss: 0.0017 - val_mape: 8.7719\n",
            "Epoch 417/500\n",
            "122/122 [==============================] - 0s 2ms/step - loss: 0.0016 - mape: 421.3456 - val_loss: 0.0017 - val_mape: 8.8329\n",
            "Epoch 418/500\n",
            "122/122 [==============================] - 0s 2ms/step - loss: 0.0016 - mape: 4436.9321 - val_loss: 0.0017 - val_mape: 8.9605\n",
            "Epoch 419/500\n",
            "122/122 [==============================] - 0s 2ms/step - loss: 0.0016 - mape: 3013.2788 - val_loss: 0.0017 - val_mape: 8.9366\n",
            "Epoch 420/500\n",
            "122/122 [==============================] - 0s 3ms/step - loss: 0.0016 - mape: 72.7613 - val_loss: 0.0017 - val_mape: 8.6804\n",
            "Epoch 421/500\n",
            "122/122 [==============================] - 0s 2ms/step - loss: 0.0016 - mape: 526.8515 - val_loss: 0.0017 - val_mape: 8.8528\n",
            "Epoch 422/500\n",
            "122/122 [==============================] - 0s 2ms/step - loss: 0.0016 - mape: 2243.8750 - val_loss: 0.0017 - val_mape: 8.7943\n",
            "Epoch 423/500\n",
            "122/122 [==============================] - 0s 2ms/step - loss: 0.0016 - mape: 870.2425 - val_loss: 0.0017 - val_mape: 8.7419\n",
            "Epoch 424/500\n",
            "122/122 [==============================] - 0s 2ms/step - loss: 0.0016 - mape: 4729.7407 - val_loss: 0.0017 - val_mape: 8.7307\n",
            "Epoch 425/500\n",
            "122/122 [==============================] - 0s 2ms/step - loss: 0.0016 - mape: 931.5162 - val_loss: 0.0017 - val_mape: 8.8992\n",
            "Epoch 426/500\n",
            "122/122 [==============================] - 0s 2ms/step - loss: 0.0016 - mape: 1528.8414 - val_loss: 0.0017 - val_mape: 8.6904\n",
            "Epoch 427/500\n",
            "122/122 [==============================] - 0s 2ms/step - loss: 0.0016 - mape: 623.3451 - val_loss: 0.0017 - val_mape: 8.8842\n",
            "Epoch 428/500\n",
            "122/122 [==============================] - 0s 2ms/step - loss: 0.0016 - mape: 152.7397 - val_loss: 0.0017 - val_mape: 8.7058\n",
            "Epoch 429/500\n",
            "122/122 [==============================] - 0s 2ms/step - loss: 0.0016 - mape: 1974.0026 - val_loss: 0.0017 - val_mape: 8.6998\n",
            "Epoch 430/500\n",
            "122/122 [==============================] - 0s 3ms/step - loss: 0.0016 - mape: 773.8931 - val_loss: 0.0018 - val_mape: 9.2553\n",
            "Epoch 431/500\n",
            "122/122 [==============================] - 0s 2ms/step - loss: 0.0016 - mape: 1162.2041 - val_loss: 0.0016 - val_mape: 8.6847\n",
            "Epoch 432/500\n",
            "122/122 [==============================] - 0s 2ms/step - loss: 0.0016 - mape: 693.3123 - val_loss: 0.0017 - val_mape: 8.8185\n",
            "Epoch 433/500\n",
            "122/122 [==============================] - 0s 2ms/step - loss: 0.0016 - mape: 1061.8899 - val_loss: 0.0017 - val_mape: 8.7235\n",
            "Epoch 434/500\n",
            "122/122 [==============================] - 0s 2ms/step - loss: 0.0016 - mape: 2318.0562 - val_loss: 0.0016 - val_mape: 8.7065\n",
            "Epoch 435/500\n",
            "122/122 [==============================] - 0s 2ms/step - loss: 0.0016 - mape: 843.7870 - val_loss: 0.0017 - val_mape: 9.0452\n",
            "Epoch 436/500\n",
            "122/122 [==============================] - 0s 2ms/step - loss: 0.0016 - mape: 1644.1350 - val_loss: 0.0016 - val_mape: 8.6564\n",
            "Epoch 437/500\n",
            "122/122 [==============================] - 0s 2ms/step - loss: 0.0016 - mape: 594.5249 - val_loss: 0.0017 - val_mape: 8.7070\n",
            "Epoch 438/500\n",
            "122/122 [==============================] - 0s 2ms/step - loss: 0.0016 - mape: 541.5262 - val_loss: 0.0017 - val_mape: 8.6774\n",
            "Epoch 439/500\n",
            "122/122 [==============================] - 0s 2ms/step - loss: 0.0016 - mape: 392.1704 - val_loss: 0.0016 - val_mape: 8.7209\n",
            "Epoch 440/500\n",
            "122/122 [==============================] - 0s 2ms/step - loss: 0.0016 - mape: 1876.0354 - val_loss: 0.0017 - val_mape: 8.9126\n",
            "Epoch 441/500\n",
            "122/122 [==============================] - 0s 2ms/step - loss: 0.0016 - mape: 2318.4863 - val_loss: 0.0017 - val_mape: 8.9201\n",
            "Epoch 442/500\n",
            "122/122 [==============================] - 0s 2ms/step - loss: 0.0016 - mape: 971.5579 - val_loss: 0.0017 - val_mape: 8.7015\n",
            "Epoch 443/500\n",
            "122/122 [==============================] - 0s 2ms/step - loss: 0.0016 - mape: 3377.8015 - val_loss: 0.0016 - val_mape: 8.7276\n",
            "Epoch 444/500\n",
            "122/122 [==============================] - 0s 2ms/step - loss: 0.0016 - mape: 1214.5839 - val_loss: 0.0016 - val_mape: 8.6392\n",
            "Epoch 445/500\n",
            "122/122 [==============================] - 0s 2ms/step - loss: 0.0016 - mape: 755.4512 - val_loss: 0.0017 - val_mape: 8.7448\n",
            "Epoch 446/500\n",
            "122/122 [==============================] - 0s 2ms/step - loss: 0.0016 - mape: 2632.8623 - val_loss: 0.0017 - val_mape: 8.7975\n",
            "Epoch 447/500\n",
            "122/122 [==============================] - 0s 3ms/step - loss: 0.0016 - mape: 1042.0902 - val_loss: 0.0016 - val_mape: 8.7489\n",
            "Epoch 448/500\n",
            "122/122 [==============================] - 0s 2ms/step - loss: 0.0016 - mape: 1046.2909 - val_loss: 0.0017 - val_mape: 8.6172\n",
            "Epoch 449/500\n",
            "122/122 [==============================] - 0s 2ms/step - loss: 0.0016 - mape: 67.5063 - val_loss: 0.0016 - val_mape: 8.6913\n",
            "Epoch 450/500\n",
            "122/122 [==============================] - 0s 2ms/step - loss: 0.0016 - mape: 5854.8438 - val_loss: 0.0016 - val_mape: 8.7836\n",
            "Epoch 451/500\n",
            "122/122 [==============================] - 0s 2ms/step - loss: 0.0016 - mape: 71.6897 - val_loss: 0.0017 - val_mape: 8.7809\n",
            "Epoch 452/500\n",
            "122/122 [==============================] - 0s 2ms/step - loss: 0.0016 - mape: 318.7833 - val_loss: 0.0016 - val_mape: 8.5845\n",
            "Epoch 453/500\n",
            "122/122 [==============================] - 0s 2ms/step - loss: 0.0016 - mape: 514.3880 - val_loss: 0.0016 - val_mape: 8.6790\n",
            "Epoch 454/500\n",
            "122/122 [==============================] - 0s 2ms/step - loss: 0.0016 - mape: 190.7939 - val_loss: 0.0016 - val_mape: 8.6038\n",
            "Epoch 455/500\n",
            "122/122 [==============================] - 0s 2ms/step - loss: 0.0016 - mape: 539.3653 - val_loss: 0.0017 - val_mape: 8.5894\n",
            "Epoch 456/500\n",
            "122/122 [==============================] - 0s 2ms/step - loss: 0.0016 - mape: 703.6310 - val_loss: 0.0017 - val_mape: 9.0459\n",
            "Epoch 457/500\n",
            "122/122 [==============================] - 0s 2ms/step - loss: 0.0016 - mape: 519.0203 - val_loss: 0.0017 - val_mape: 8.7622\n",
            "Epoch 458/500\n",
            "122/122 [==============================] - 0s 2ms/step - loss: 0.0016 - mape: 3089.6953 - val_loss: 0.0017 - val_mape: 8.9046\n",
            "Epoch 459/500\n",
            "122/122 [==============================] - 0s 2ms/step - loss: 0.0016 - mape: 1128.6926 - val_loss: 0.0016 - val_mape: 8.5496\n",
            "Epoch 460/500\n",
            "122/122 [==============================] - 0s 2ms/step - loss: 0.0015 - mape: 2455.5369 - val_loss: 0.0016 - val_mape: 8.6937\n",
            "Epoch 461/500\n",
            "122/122 [==============================] - 0s 2ms/step - loss: 0.0016 - mape: 3834.6147 - val_loss: 0.0016 - val_mape: 8.5989\n",
            "Epoch 462/500\n",
            "122/122 [==============================] - 0s 2ms/step - loss: 0.0016 - mape: 3219.3496 - val_loss: 0.0016 - val_mape: 8.5800\n",
            "Epoch 463/500\n",
            "122/122 [==============================] - 0s 2ms/step - loss: 0.0016 - mape: 129.4860 - val_loss: 0.0016 - val_mape: 8.6766\n",
            "Epoch 464/500\n",
            "122/122 [==============================] - 0s 2ms/step - loss: 0.0016 - mape: 1052.2285 - val_loss: 0.0016 - val_mape: 8.6915\n",
            "Epoch 465/500\n",
            "122/122 [==============================] - 0s 2ms/step - loss: 0.0016 - mape: 2087.8394 - val_loss: 0.0016 - val_mape: 8.6188\n",
            "Epoch 466/500\n",
            "122/122 [==============================] - 0s 2ms/step - loss: 0.0016 - mape: 737.7727 - val_loss: 0.0017 - val_mape: 8.7014\n",
            "Epoch 467/500\n",
            "122/122 [==============================] - 0s 2ms/step - loss: 0.0015 - mape: 192.9841 - val_loss: 0.0016 - val_mape: 8.5926\n",
            "Epoch 468/500\n",
            "122/122 [==============================] - 0s 2ms/step - loss: 0.0016 - mape: 810.0857 - val_loss: 0.0017 - val_mape: 8.5906\n",
            "Epoch 469/500\n",
            "122/122 [==============================] - 0s 2ms/step - loss: 0.0016 - mape: 786.9944 - val_loss: 0.0016 - val_mape: 8.5782\n",
            "Epoch 470/500\n",
            "122/122 [==============================] - 0s 2ms/step - loss: 0.0016 - mape: 559.1960 - val_loss: 0.0016 - val_mape: 8.7436\n",
            "Epoch 471/500\n",
            "122/122 [==============================] - 0s 2ms/step - loss: 0.0016 - mape: 459.5236 - val_loss: 0.0017 - val_mape: 8.6270\n",
            "Epoch 472/500\n",
            "122/122 [==============================] - 0s 2ms/step - loss: 0.0016 - mape: 381.5141 - val_loss: 0.0017 - val_mape: 8.8841\n",
            "Epoch 473/500\n",
            "122/122 [==============================] - 0s 2ms/step - loss: 0.0016 - mape: 4649.1636 - val_loss: 0.0016 - val_mape: 8.6506\n",
            "Epoch 474/500\n",
            "122/122 [==============================] - 0s 2ms/step - loss: 0.0015 - mape: 924.1672 - val_loss: 0.0016 - val_mape: 8.6712\n",
            "Epoch 475/500\n",
            "122/122 [==============================] - 0s 3ms/step - loss: 0.0015 - mape: 356.1910 - val_loss: 0.0016 - val_mape: 8.5454\n",
            "Epoch 476/500\n",
            "122/122 [==============================] - 0s 2ms/step - loss: 0.0016 - mape: 2021.9695 - val_loss: 0.0016 - val_mape: 8.6704\n",
            "Epoch 477/500\n",
            "122/122 [==============================] - 0s 2ms/step - loss: 0.0016 - mape: 1930.3124 - val_loss: 0.0016 - val_mape: 8.6756\n",
            "Epoch 478/500\n",
            "122/122 [==============================] - 0s 2ms/step - loss: 0.0016 - mape: 585.5423 - val_loss: 0.0018 - val_mape: 8.7981\n",
            "Epoch 479/500\n",
            "122/122 [==============================] - 0s 2ms/step - loss: 0.0015 - mape: 878.8552 - val_loss: 0.0016 - val_mape: 8.5582\n",
            "Epoch 480/500\n",
            "122/122 [==============================] - 0s 2ms/step - loss: 0.0016 - mape: 1273.0126 - val_loss: 0.0016 - val_mape: 8.4991\n",
            "Epoch 481/500\n",
            "122/122 [==============================] - 0s 2ms/step - loss: 0.0016 - mape: 1855.9470 - val_loss: 0.0016 - val_mape: 8.6015\n",
            "Epoch 482/500\n",
            "122/122 [==============================] - 0s 2ms/step - loss: 0.0015 - mape: 3294.0359 - val_loss: 0.0016 - val_mape: 8.6200\n",
            "Epoch 483/500\n",
            "122/122 [==============================] - 0s 2ms/step - loss: 0.0015 - mape: 221.1942 - val_loss: 0.0016 - val_mape: 8.5884\n",
            "Epoch 484/500\n",
            "122/122 [==============================] - 0s 2ms/step - loss: 0.0015 - mape: 781.9329 - val_loss: 0.0016 - val_mape: 8.6269\n",
            "Epoch 485/500\n",
            "122/122 [==============================] - 0s 3ms/step - loss: 0.0016 - mape: 1952.5879 - val_loss: 0.0016 - val_mape: 8.5600\n",
            "Epoch 486/500\n",
            "122/122 [==============================] - 0s 2ms/step - loss: 0.0015 - mape: 2068.0400 - val_loss: 0.0016 - val_mape: 8.7447\n",
            "Epoch 487/500\n",
            "122/122 [==============================] - 0s 2ms/step - loss: 0.0015 - mape: 1345.2992 - val_loss: 0.0017 - val_mape: 8.9255\n",
            "Epoch 488/500\n",
            "122/122 [==============================] - 0s 2ms/step - loss: 0.0015 - mape: 89.6529 - val_loss: 0.0016 - val_mape: 8.6781\n",
            "Epoch 489/500\n",
            "122/122 [==============================] - 0s 2ms/step - loss: 0.0015 - mape: 1503.4152 - val_loss: 0.0016 - val_mape: 8.5900\n",
            "Epoch 490/500\n",
            "122/122 [==============================] - 0s 2ms/step - loss: 0.0015 - mape: 2330.0530 - val_loss: 0.0016 - val_mape: 8.4884\n",
            "Epoch 491/500\n",
            "122/122 [==============================] - 0s 2ms/step - loss: 0.0015 - mape: 344.6452 - val_loss: 0.0016 - val_mape: 8.7839\n",
            "Epoch 492/500\n",
            "122/122 [==============================] - 0s 2ms/step - loss: 0.0015 - mape: 429.6575 - val_loss: 0.0017 - val_mape: 8.6468\n",
            "Epoch 493/500\n",
            "122/122 [==============================] - 0s 2ms/step - loss: 0.0015 - mape: 4283.6138 - val_loss: 0.0016 - val_mape: 8.4743\n",
            "Epoch 494/500\n",
            "122/122 [==============================] - 0s 2ms/step - loss: 0.0016 - mape: 1298.1927 - val_loss: 0.0016 - val_mape: 8.5457\n",
            "Epoch 495/500\n",
            "122/122 [==============================] - 0s 2ms/step - loss: 0.0015 - mape: 408.7672 - val_loss: 0.0016 - val_mape: 8.5149\n",
            "Epoch 496/500\n",
            "122/122 [==============================] - 0s 2ms/step - loss: 0.0015 - mape: 416.6199 - val_loss: 0.0017 - val_mape: 8.6695\n",
            "Epoch 497/500\n",
            "122/122 [==============================] - 0s 2ms/step - loss: 0.0015 - mape: 422.5712 - val_loss: 0.0016 - val_mape: 8.7293\n",
            "Epoch 498/500\n",
            "122/122 [==============================] - 0s 2ms/step - loss: 0.0015 - mape: 1119.7175 - val_loss: 0.0016 - val_mape: 8.5853\n",
            "Epoch 499/500\n",
            "122/122 [==============================] - 0s 2ms/step - loss: 0.0015 - mape: 1390.9990 - val_loss: 0.0016 - val_mape: 8.4779\n",
            "Epoch 500/500\n",
            "122/122 [==============================] - 0s 2ms/step - loss: 0.0015 - mape: 430.3281 - val_loss: 0.0016 - val_mape: 8.5459\n"
          ]
        },
        {
          "output_type": "display_data",
          "data": {
            "image/png": "[encoded data removed]",
            "text/plain": [
              "<Figure size 432x288 with 1 Axes>"
            ]
          },
          "metadata": {
            "needs_background": "light"
          }
        },
        {
          "output_type": "stream",
          "name": "stdout",
          "text": [
            "136/136 [==============================] - 0s 2ms/step - loss: 0.0018 - mape: 10.0521\n",
            "loss= 0.0018146984511986375\n",
            "mape= 10.052138328552246\n"
          ]
        },
        {
          "output_type": "display_data",
          "data": {
            "image/png": "[encoded data removed]",
            "text/plain": [
              "<Figure size 432x288 with 1 Axes>"
            ]
          },
          "metadata": {
            "needs_background": "light"
          }
        }
      ]
    },
    {
      "cell_type": "code",
      "source": [
        "plt.plot(history.history['loss'][10:])\n",
        "plt.plot(history.history['val_loss'][10:])\n",
        "plt.show()"
      ],
      "metadata": {
        "colab": {
          "base_uri": "https://localhost:8080/",
          "height": 265
        },
        "id": "fQ-8G9P1smH3",
        "outputId": "15c881c1-94d7-4f02-ce1d-4c12a08958f4"
      },
      "execution_count": null,
      "outputs": [
        {
          "output_type": "display_data",
          "data": {
            "image/png": "[encoded data removed]",
            "text/plain": [
              "<Figure size 432x288 with 1 Axes>"
            ]
          },
          "metadata": {
            "needs_background": "light"
          }
        }
      ]
    },
    {
      "cell_type": "code",
      "source": [
        "y_ = model.predict(test_x).flatten()\n",
        "\n",
        "predicted_price = recover_price(y_)\n",
        "true_price = recover_price(test_y)\n",
        "\n",
        "print(true_price[:5])\n",
        "print(predicted_price[:5])"
      ],
      "metadata": {
        "colab": {
          "base_uri": "https://localhost:8080/"
        },
        "id": "k4WLrh3dqtg-",
        "outputId": "3b361aac-48a0-480f-9924-ba9b43cac14b"
      },
      "execution_count": null,
      "outputs": [
        {
          "output_type": "stream",
          "name": "stdout",
          "text": [
            "[547999 229999 695999 224999 354999]\n",
            "[505189 245656 569754 340675 331300]\n"
          ]
        }
      ]
    },
    {
      "cell_type": "markdown",
      "source": [
        "# 분류 예측"
      ],
      "metadata": {
        "id": "bzlbf6f7mwvn"
      }
    },
    {
      "cell_type": "markdown",
      "source": [
        "## y 랭킹 구하기"
      ],
      "metadata": {
        "id": "fPx6PlvE4mAM"
      }
    },
    {
      "cell_type": "code",
      "source": [
        "from scipy import stats\n",
        "y_ranking = np.array([stats.percentileofscore(y, v, kind='strict') for v in y])\n",
        "plt.hist(y_ranking, bins=100)\n",
        "plt.show()"
      ],
      "metadata": {
        "id": "ijTvruue1sVJ",
        "outputId": "f452b27a-9eef-4f25-f9c1-d6bb48827fb6",
        "colab": {
          "base_uri": "https://localhost:8080/",
          "height": 265
        }
      },
      "execution_count": null,
      "outputs": [
        {
          "output_type": "display_data",
          "data": {
            "image/png": "[encoded data removed]",
            "text/plain": [
              "<Figure size 432x288 with 1 Axes>"
            ]
          },
          "metadata": {
            "needs_background": "light"
          }
        }
      ]
    },
    {
      "cell_type": "code",
      "source": [
        "y_class = (y_ranking/10).astype(np.int)\n",
        "plt.hist(y_class, bins=10)\n",
        "plt.show()"
      ],
      "metadata": {
        "id": "PEdnTapn1_We",
        "outputId": "25580c35-72ad-4a48-c0ff-1c2410224fda",
        "colab": {
          "base_uri": "https://localhost:8080/",
          "height": 265
        }
      },
      "execution_count": null,
      "outputs": [
        {
          "output_type": "display_data",
          "data": {
            "image/png": "[encoded data removed]",
            "text/plain": [
              "<Figure size 432x288 with 1 Axes>"
            ]
          },
          "metadata": {
            "needs_background": "light"
          }
        }
      ]
    },
    {
      "cell_type": "markdown",
      "source": [
        "## train / test 나누기"
      ],
      "metadata": {
        "id": "Xxbj9-Di4sC7"
      }
    },
    {
      "cell_type": "code",
      "source": [
        "y = y_class"
      ],
      "metadata": {
        "id": "e3x98qIW4cd6"
      },
      "execution_count": null,
      "outputs": []
    },
    {
      "cell_type": "code",
      "source": [
        "i = int(len(x)*0.8)\n",
        "train_x, test_x = x[:i], x[i:]\n",
        "train_y, test_y = y[:i], y[i:]\n",
        "\n",
        "print(train_x.shape)\n",
        "print(train_y.shape)\n",
        "print(test_x.shape)\n",
        "print(test_y.shape)"
      ],
      "metadata": {
        "id": "ULJxu6tV1rsI",
        "outputId": "4088b912-5a8a-4aa7-a45d-d6d53811f768",
        "colab": {
          "base_uri": "https://localhost:8080/"
        }
      },
      "execution_count": null,
      "outputs": [
        {
          "output_type": "stream",
          "name": "stdout",
          "text": [
            "(17290, 32)\n",
            "(17290,)\n",
            "(4323, 32)\n",
            "(4323,)\n"
          ]
        }
      ]
    },
    {
      "cell_type": "markdown",
      "source": [
        "## 모델 학습"
      ],
      "metadata": {
        "id": "ivHqcvjp40rp"
      }
    },
    {
      "cell_type": "code",
      "source": [
        "import numpy as np\n",
        "import pandas as pd\n",
        "import matplotlib.pyplot as plt\n",
        "\n",
        "import tensorflow as tf\n",
        "\n",
        "from tensorflow import keras\n",
        "from tensorflow.keras import optimizers\n",
        "from tensorflow.keras.layers import Dense\n",
        "\n",
        "model = keras.Sequential()\n",
        "model.add(Dense(10, activation='relu', input_shape=(train_x.shape[-1],)))\n",
        "model.add(Dense(10, activation='relu'))\n",
        "model.add(Dense(10, activation='softmax'))\n",
        "\n",
        "model.compile(optimizer=\"Adam\", loss=\"sparse_categorical_crossentropy\", metrics=[\"acc\"])\n",
        "model.summary()\n",
        "\n",
        "from tensorflow.keras.callbacks import EarlyStopping\n",
        "early_stopping = EarlyStopping(\n",
        "    monitor='val_loss',\n",
        "    verbose=1,\n",
        "    patience=50) \n",
        "history = model.fit(train_x, train_y, epochs=1000, batch_size=128, validation_split=0.1, callbacks=[early_stopping])\n",
        "\n",
        "plt.plot(history.history['loss'])\n",
        "plt.plot(history.history['val_loss'])\n",
        "plt.show()\n",
        "\n",
        "\n",
        "loss, acc = model.evaluate(test_x, test_y)\n",
        "print(\"loss=\", loss)\n",
        "print(\"acc=\", acc)\n",
        "\n",
        "y_ = model.predict(test_x)\n",
        "predicted = np.argmax(y_, axis=-1)\n",
        "\n",
        "plt.plot(test_y[:30], 'o')\n",
        "plt.plot(predicted[:30], '.')\n",
        "plt.show()"
      ],
      "metadata": {
        "colab": {
          "base_uri": "https://localhost:8080/",
          "height": 1000
        },
        "outputId": "9bcd2171-f864-46d5-cb18-f990e261badd",
        "id": "8U_i0ZdV40rq"
      },
      "execution_count": null,
      "outputs": [
        {
          "output_type": "stream",
          "name": "stdout",
          "text": [
            "Model: \"sequential_4\"\n",
            "_________________________________________________________________\n",
            " Layer (type)                Output Shape              Param #   \n",
            "=================================================================\n",
            " dense_12 (Dense)            (None, 10)                330       \n",
            "                                                                 \n",
            " dense_13 (Dense)            (None, 10)                110       \n",
            "                                                                 \n",
            " dense_14 (Dense)            (None, 10)                110       \n",
            "                                                                 \n",
            "=================================================================\n",
            "Total params: 550\n",
            "Trainable params: 550\n",
            "Non-trainable params: 0\n",
            "_________________________________________________________________\n",
            "Epoch 1/1000\n",
            "122/122 [==============================] - 1s 3ms/step - loss: 2.3054 - acc: 0.1110 - val_loss: 2.2966 - val_acc: 0.1215\n",
            "Epoch 2/1000\n",
            "122/122 [==============================] - 0s 2ms/step - loss: 2.2884 - acc: 0.1414 - val_loss: 2.2756 - val_acc: 0.1463\n",
            "Epoch 3/1000\n",
            "122/122 [==============================] - 0s 2ms/step - loss: 2.2356 - acc: 0.1921 - val_loss: 2.1756 - val_acc: 0.2128\n",
            "Epoch 4/1000\n",
            "122/122 [==============================] - 0s 2ms/step - loss: 2.0774 - acc: 0.2462 - val_loss: 1.9863 - val_acc: 0.2718\n",
            "Epoch 5/1000\n",
            "122/122 [==============================] - 0s 2ms/step - loss: 1.9125 - acc: 0.2812 - val_loss: 1.8542 - val_acc: 0.2944\n",
            "Epoch 6/1000\n",
            "122/122 [==============================] - 0s 2ms/step - loss: 1.8134 - acc: 0.3074 - val_loss: 1.7728 - val_acc: 0.3123\n",
            "Epoch 7/1000\n",
            "122/122 [==============================] - 0s 2ms/step - loss: 1.7515 - acc: 0.3227 - val_loss: 1.7198 - val_acc: 0.3250\n",
            "Epoch 8/1000\n",
            "122/122 [==============================] - 0s 2ms/step - loss: 1.7127 - acc: 0.3291 - val_loss: 1.6869 - val_acc: 0.3274\n",
            "Epoch 9/1000\n",
            "122/122 [==============================] - 0s 2ms/step - loss: 1.6869 - acc: 0.3351 - val_loss: 1.6647 - val_acc: 0.3360\n",
            "Epoch 10/1000\n",
            "122/122 [==============================] - 0s 2ms/step - loss: 1.6683 - acc: 0.3392 - val_loss: 1.6462 - val_acc: 0.3418\n",
            "Epoch 11/1000\n",
            "122/122 [==============================] - 0s 2ms/step - loss: 1.6537 - acc: 0.3435 - val_loss: 1.6423 - val_acc: 0.3378\n",
            "Epoch 12/1000\n",
            "122/122 [==============================] - 0s 2ms/step - loss: 1.6431 - acc: 0.3448 - val_loss: 1.6214 - val_acc: 0.3516\n",
            "Epoch 13/1000\n",
            "122/122 [==============================] - 0s 2ms/step - loss: 1.6342 - acc: 0.3472 - val_loss: 1.6114 - val_acc: 0.3528\n",
            "Epoch 14/1000\n",
            "122/122 [==============================] - 0s 2ms/step - loss: 1.6254 - acc: 0.3488 - val_loss: 1.6027 - val_acc: 0.3632\n",
            "Epoch 15/1000\n",
            "122/122 [==============================] - 0s 2ms/step - loss: 1.6185 - acc: 0.3509 - val_loss: 1.5956 - val_acc: 0.3655\n",
            "Epoch 16/1000\n",
            "122/122 [==============================] - 0s 2ms/step - loss: 1.6123 - acc: 0.3531 - val_loss: 1.5900 - val_acc: 0.3574\n",
            "Epoch 17/1000\n",
            "122/122 [==============================] - 0s 2ms/step - loss: 1.6074 - acc: 0.3540 - val_loss: 1.5843 - val_acc: 0.3621\n",
            "Epoch 18/1000\n",
            "122/122 [==============================] - 0s 2ms/step - loss: 1.6006 - acc: 0.3579 - val_loss: 1.5750 - val_acc: 0.3707\n",
            "Epoch 19/1000\n",
            "122/122 [==============================] - 0s 2ms/step - loss: 1.5940 - acc: 0.3592 - val_loss: 1.5687 - val_acc: 0.3713\n",
            "Epoch 20/1000\n",
            "122/122 [==============================] - 0s 2ms/step - loss: 1.5854 - acc: 0.3632 - val_loss: 1.5616 - val_acc: 0.3690\n",
            "Epoch 21/1000\n",
            "122/122 [==============================] - 0s 2ms/step - loss: 1.5769 - acc: 0.3606 - val_loss: 1.5527 - val_acc: 0.3759\n",
            "Epoch 22/1000\n",
            "122/122 [==============================] - 0s 2ms/step - loss: 1.5684 - acc: 0.3630 - val_loss: 1.5431 - val_acc: 0.3748\n",
            "Epoch 23/1000\n",
            "122/122 [==============================] - 0s 2ms/step - loss: 1.5599 - acc: 0.3691 - val_loss: 1.5331 - val_acc: 0.3748\n",
            "Epoch 24/1000\n",
            "122/122 [==============================] - 0s 2ms/step - loss: 1.5510 - acc: 0.3693 - val_loss: 1.5259 - val_acc: 0.3713\n",
            "Epoch 25/1000\n",
            "122/122 [==============================] - 0s 2ms/step - loss: 1.5418 - acc: 0.3715 - val_loss: 1.5181 - val_acc: 0.3684\n",
            "Epoch 26/1000\n",
            "122/122 [==============================] - 0s 2ms/step - loss: 1.5363 - acc: 0.3718 - val_loss: 1.5144 - val_acc: 0.3800\n",
            "Epoch 27/1000\n",
            "122/122 [==============================] - 0s 2ms/step - loss: 1.5300 - acc: 0.3750 - val_loss: 1.5050 - val_acc: 0.3794\n",
            "Epoch 28/1000\n",
            "122/122 [==============================] - 0s 2ms/step - loss: 1.5244 - acc: 0.3768 - val_loss: 1.5028 - val_acc: 0.3673\n",
            "Epoch 29/1000\n",
            "122/122 [==============================] - 0s 2ms/step - loss: 1.5191 - acc: 0.3789 - val_loss: 1.4937 - val_acc: 0.3742\n",
            "Epoch 30/1000\n",
            "122/122 [==============================] - 0s 2ms/step - loss: 1.5127 - acc: 0.3808 - val_loss: 1.4932 - val_acc: 0.3754\n",
            "Epoch 31/1000\n",
            "122/122 [==============================] - 0s 2ms/step - loss: 1.5083 - acc: 0.3832 - val_loss: 1.4821 - val_acc: 0.3823\n",
            "Epoch 32/1000\n",
            "122/122 [==============================] - 0s 2ms/step - loss: 1.5007 - acc: 0.3854 - val_loss: 1.4727 - val_acc: 0.3806\n",
            "Epoch 33/1000\n",
            "122/122 [==============================] - 0s 2ms/step - loss: 1.4960 - acc: 0.3860 - val_loss: 1.4686 - val_acc: 0.3777\n",
            "Epoch 34/1000\n",
            "122/122 [==============================] - 0s 2ms/step - loss: 1.4922 - acc: 0.3889 - val_loss: 1.4628 - val_acc: 0.3835\n",
            "Epoch 35/1000\n",
            "122/122 [==============================] - 0s 2ms/step - loss: 1.4878 - acc: 0.3874 - val_loss: 1.4588 - val_acc: 0.3846\n",
            "Epoch 36/1000\n",
            "122/122 [==============================] - 0s 2ms/step - loss: 1.4828 - acc: 0.3926 - val_loss: 1.4532 - val_acc: 0.3794\n",
            "Epoch 37/1000\n",
            "122/122 [==============================] - 0s 2ms/step - loss: 1.4787 - acc: 0.3962 - val_loss: 1.4492 - val_acc: 0.3835\n",
            "Epoch 38/1000\n",
            "122/122 [==============================] - 0s 2ms/step - loss: 1.4745 - acc: 0.3953 - val_loss: 1.4457 - val_acc: 0.3904\n",
            "Epoch 39/1000\n",
            "122/122 [==============================] - 0s 2ms/step - loss: 1.4708 - acc: 0.3978 - val_loss: 1.4394 - val_acc: 0.3898\n",
            "Epoch 40/1000\n",
            "122/122 [==============================] - 0s 2ms/step - loss: 1.4667 - acc: 0.3997 - val_loss: 1.4369 - val_acc: 0.3956\n",
            "Epoch 41/1000\n",
            "122/122 [==============================] - 0s 2ms/step - loss: 1.4633 - acc: 0.4016 - val_loss: 1.4336 - val_acc: 0.3991\n",
            "Epoch 42/1000\n",
            "122/122 [==============================] - 0s 2ms/step - loss: 1.4591 - acc: 0.4048 - val_loss: 1.4320 - val_acc: 0.3898\n",
            "Epoch 43/1000\n",
            "122/122 [==============================] - 0s 2ms/step - loss: 1.4553 - acc: 0.4078 - val_loss: 1.4259 - val_acc: 0.3956\n",
            "Epoch 44/1000\n",
            "122/122 [==============================] - 0s 2ms/step - loss: 1.4515 - acc: 0.4056 - val_loss: 1.4216 - val_acc: 0.3997\n",
            "Epoch 45/1000\n",
            "122/122 [==============================] - 0s 2ms/step - loss: 1.4472 - acc: 0.4090 - val_loss: 1.4171 - val_acc: 0.4014\n",
            "Epoch 46/1000\n",
            "122/122 [==============================] - 0s 2ms/step - loss: 1.4426 - acc: 0.4086 - val_loss: 1.4119 - val_acc: 0.4095\n",
            "Epoch 47/1000\n",
            "122/122 [==============================] - 0s 2ms/step - loss: 1.4369 - acc: 0.4082 - val_loss: 1.4082 - val_acc: 0.4089\n",
            "Epoch 48/1000\n",
            "122/122 [==============================] - 0s 2ms/step - loss: 1.4313 - acc: 0.4137 - val_loss: 1.4041 - val_acc: 0.4066\n",
            "Epoch 49/1000\n",
            "122/122 [==============================] - 0s 2ms/step - loss: 1.4267 - acc: 0.4137 - val_loss: 1.4001 - val_acc: 0.4072\n",
            "Epoch 50/1000\n",
            "122/122 [==============================] - 0s 2ms/step - loss: 1.4205 - acc: 0.4169 - val_loss: 1.3989 - val_acc: 0.4095\n",
            "Epoch 51/1000\n",
            "122/122 [==============================] - 0s 2ms/step - loss: 1.4175 - acc: 0.4175 - val_loss: 1.3888 - val_acc: 0.4124\n",
            "Epoch 52/1000\n",
            "122/122 [==============================] - 0s 2ms/step - loss: 1.4126 - acc: 0.4220 - val_loss: 1.3853 - val_acc: 0.4095\n",
            "Epoch 53/1000\n",
            "122/122 [==============================] - 0s 2ms/step - loss: 1.4095 - acc: 0.4222 - val_loss: 1.3817 - val_acc: 0.4124\n",
            "Epoch 54/1000\n",
            "122/122 [==============================] - 0s 2ms/step - loss: 1.4058 - acc: 0.4255 - val_loss: 1.3779 - val_acc: 0.4216\n",
            "Epoch 55/1000\n",
            "122/122 [==============================] - 0s 2ms/step - loss: 1.4022 - acc: 0.4254 - val_loss: 1.3776 - val_acc: 0.4216\n",
            "Epoch 56/1000\n",
            "122/122 [==============================] - 0s 2ms/step - loss: 1.3994 - acc: 0.4250 - val_loss: 1.3726 - val_acc: 0.4239\n",
            "Epoch 57/1000\n",
            "122/122 [==============================] - 0s 2ms/step - loss: 1.3962 - acc: 0.4259 - val_loss: 1.3817 - val_acc: 0.4135\n",
            "Epoch 58/1000\n",
            "122/122 [==============================] - 0s 2ms/step - loss: 1.3930 - acc: 0.4272 - val_loss: 1.3643 - val_acc: 0.4257\n",
            "Epoch 59/1000\n",
            "122/122 [==============================] - 0s 2ms/step - loss: 1.3907 - acc: 0.4318 - val_loss: 1.3634 - val_acc: 0.4407\n",
            "Epoch 60/1000\n",
            "122/122 [==============================] - 0s 2ms/step - loss: 1.3869 - acc: 0.4290 - val_loss: 1.3634 - val_acc: 0.4291\n",
            "Epoch 61/1000\n",
            "122/122 [==============================] - 0s 2ms/step - loss: 1.3843 - acc: 0.4316 - val_loss: 1.3565 - val_acc: 0.4251\n",
            "Epoch 62/1000\n",
            "122/122 [==============================] - 0s 2ms/step - loss: 1.3799 - acc: 0.4335 - val_loss: 1.3616 - val_acc: 0.4349\n",
            "Epoch 63/1000\n",
            "122/122 [==============================] - 0s 2ms/step - loss: 1.3778 - acc: 0.4328 - val_loss: 1.3523 - val_acc: 0.4263\n",
            "Epoch 64/1000\n",
            "122/122 [==============================] - 0s 2ms/step - loss: 1.3759 - acc: 0.4317 - val_loss: 1.3493 - val_acc: 0.4291\n",
            "Epoch 65/1000\n",
            "122/122 [==============================] - 0s 2ms/step - loss: 1.3736 - acc: 0.4328 - val_loss: 1.3514 - val_acc: 0.4413\n",
            "Epoch 66/1000\n",
            "122/122 [==============================] - 0s 2ms/step - loss: 1.3706 - acc: 0.4366 - val_loss: 1.3471 - val_acc: 0.4349\n",
            "Epoch 67/1000\n",
            "122/122 [==============================] - 0s 2ms/step - loss: 1.3707 - acc: 0.4338 - val_loss: 1.3431 - val_acc: 0.4413\n",
            "Epoch 68/1000\n",
            "122/122 [==============================] - 0s 2ms/step - loss: 1.3679 - acc: 0.4372 - val_loss: 1.3415 - val_acc: 0.4413\n",
            "Epoch 69/1000\n",
            "122/122 [==============================] - 0s 2ms/step - loss: 1.3660 - acc: 0.4389 - val_loss: 1.3355 - val_acc: 0.4413\n",
            "Epoch 70/1000\n",
            "122/122 [==============================] - 0s 2ms/step - loss: 1.3624 - acc: 0.4392 - val_loss: 1.3354 - val_acc: 0.4500\n",
            "Epoch 71/1000\n",
            "122/122 [==============================] - 0s 2ms/step - loss: 1.3610 - acc: 0.4434 - val_loss: 1.3395 - val_acc: 0.4372\n",
            "Epoch 72/1000\n",
            "122/122 [==============================] - 0s 2ms/step - loss: 1.3611 - acc: 0.4399 - val_loss: 1.3303 - val_acc: 0.4500\n",
            "Epoch 73/1000\n",
            "122/122 [==============================] - 0s 2ms/step - loss: 1.3573 - acc: 0.4428 - val_loss: 1.3303 - val_acc: 0.4517\n",
            "Epoch 74/1000\n",
            "122/122 [==============================] - 0s 2ms/step - loss: 1.3551 - acc: 0.4438 - val_loss: 1.3291 - val_acc: 0.4598\n",
            "Epoch 75/1000\n",
            "122/122 [==============================] - 0s 2ms/step - loss: 1.3546 - acc: 0.4426 - val_loss: 1.3274 - val_acc: 0.4442\n",
            "Epoch 76/1000\n",
            "122/122 [==============================] - 0s 2ms/step - loss: 1.3522 - acc: 0.4446 - val_loss: 1.3235 - val_acc: 0.4477\n",
            "Epoch 77/1000\n",
            "122/122 [==============================] - 0s 2ms/step - loss: 1.3506 - acc: 0.4444 - val_loss: 1.3264 - val_acc: 0.4581\n",
            "Epoch 78/1000\n",
            "122/122 [==============================] - 0s 2ms/step - loss: 1.3486 - acc: 0.4457 - val_loss: 1.3170 - val_acc: 0.4604\n",
            "Epoch 79/1000\n",
            "122/122 [==============================] - 0s 2ms/step - loss: 1.3480 - acc: 0.4490 - val_loss: 1.3206 - val_acc: 0.4581\n",
            "Epoch 80/1000\n",
            "122/122 [==============================] - 0s 2ms/step - loss: 1.3467 - acc: 0.4466 - val_loss: 1.3171 - val_acc: 0.4627\n",
            "Epoch 81/1000\n",
            "122/122 [==============================] - 0s 2ms/step - loss: 1.3463 - acc: 0.4469 - val_loss: 1.3170 - val_acc: 0.4546\n",
            "Epoch 82/1000\n",
            "122/122 [==============================] - 0s 2ms/step - loss: 1.3437 - acc: 0.4509 - val_loss: 1.3147 - val_acc: 0.4529\n",
            "Epoch 83/1000\n",
            "122/122 [==============================] - 0s 2ms/step - loss: 1.3417 - acc: 0.4513 - val_loss: 1.3117 - val_acc: 0.4691\n",
            "Epoch 84/1000\n",
            "122/122 [==============================] - 0s 2ms/step - loss: 1.3408 - acc: 0.4520 - val_loss: 1.3109 - val_acc: 0.4754\n",
            "Epoch 85/1000\n",
            "122/122 [==============================] - 0s 2ms/step - loss: 1.3387 - acc: 0.4545 - val_loss: 1.3118 - val_acc: 0.4477\n",
            "Epoch 86/1000\n",
            "122/122 [==============================] - 0s 2ms/step - loss: 1.3402 - acc: 0.4511 - val_loss: 1.3070 - val_acc: 0.4598\n",
            "Epoch 87/1000\n",
            "122/122 [==============================] - 0s 2ms/step - loss: 1.3370 - acc: 0.4526 - val_loss: 1.3079 - val_acc: 0.4633\n",
            "Epoch 88/1000\n",
            "122/122 [==============================] - 0s 2ms/step - loss: 1.3362 - acc: 0.4543 - val_loss: 1.3117 - val_acc: 0.4696\n",
            "Epoch 89/1000\n",
            "122/122 [==============================] - 0s 2ms/step - loss: 1.3351 - acc: 0.4544 - val_loss: 1.3060 - val_acc: 0.4673\n",
            "Epoch 90/1000\n",
            "122/122 [==============================] - 0s 2ms/step - loss: 1.3334 - acc: 0.4568 - val_loss: 1.3079 - val_acc: 0.4627\n",
            "Epoch 91/1000\n",
            "122/122 [==============================] - 0s 2ms/step - loss: 1.3314 - acc: 0.4557 - val_loss: 1.2992 - val_acc: 0.4731\n",
            "Epoch 92/1000\n",
            "122/122 [==============================] - 0s 2ms/step - loss: 1.3308 - acc: 0.4576 - val_loss: 1.2988 - val_acc: 0.4766\n",
            "Epoch 93/1000\n",
            "122/122 [==============================] - 0s 2ms/step - loss: 1.3305 - acc: 0.4537 - val_loss: 1.2974 - val_acc: 0.4737\n",
            "Epoch 94/1000\n",
            "122/122 [==============================] - 0s 2ms/step - loss: 1.3289 - acc: 0.4567 - val_loss: 1.2948 - val_acc: 0.4760\n",
            "Epoch 95/1000\n",
            "122/122 [==============================] - 0s 2ms/step - loss: 1.3271 - acc: 0.4604 - val_loss: 1.2962 - val_acc: 0.4719\n",
            "Epoch 96/1000\n",
            "122/122 [==============================] - 0s 2ms/step - loss: 1.3266 - acc: 0.4576 - val_loss: 1.2943 - val_acc: 0.4691\n",
            "Epoch 97/1000\n",
            "122/122 [==============================] - 0s 2ms/step - loss: 1.3244 - acc: 0.4593 - val_loss: 1.2976 - val_acc: 0.4725\n",
            "Epoch 98/1000\n",
            "122/122 [==============================] - 0s 2ms/step - loss: 1.3237 - acc: 0.4611 - val_loss: 1.2896 - val_acc: 0.4806\n",
            "Epoch 99/1000\n",
            "122/122 [==============================] - 0s 2ms/step - loss: 1.3247 - acc: 0.4541 - val_loss: 1.2918 - val_acc: 0.4743\n",
            "Epoch 100/1000\n",
            "122/122 [==============================] - 0s 2ms/step - loss: 1.3222 - acc: 0.4613 - val_loss: 1.2915 - val_acc: 0.4743\n",
            "Epoch 101/1000\n",
            "122/122 [==============================] - 0s 2ms/step - loss: 1.3217 - acc: 0.4588 - val_loss: 1.2997 - val_acc: 0.4679\n",
            "Epoch 102/1000\n",
            "122/122 [==============================] - 0s 2ms/step - loss: 1.3203 - acc: 0.4592 - val_loss: 1.2905 - val_acc: 0.4760\n",
            "Epoch 103/1000\n",
            "122/122 [==============================] - 0s 2ms/step - loss: 1.3209 - acc: 0.4592 - val_loss: 1.2908 - val_acc: 0.4656\n",
            "Epoch 104/1000\n",
            "122/122 [==============================] - 0s 2ms/step - loss: 1.3187 - acc: 0.4646 - val_loss: 1.2895 - val_acc: 0.4685\n",
            "Epoch 105/1000\n",
            "122/122 [==============================] - 0s 2ms/step - loss: 1.3192 - acc: 0.4610 - val_loss: 1.2918 - val_acc: 0.4743\n",
            "Epoch 106/1000\n",
            "122/122 [==============================] - 0s 2ms/step - loss: 1.3191 - acc: 0.4620 - val_loss: 1.2869 - val_acc: 0.4766\n",
            "Epoch 107/1000\n",
            "122/122 [==============================] - 0s 2ms/step - loss: 1.3182 - acc: 0.4611 - val_loss: 1.2845 - val_acc: 0.4800\n",
            "Epoch 108/1000\n",
            "122/122 [==============================] - 0s 2ms/step - loss: 1.3175 - acc: 0.4605 - val_loss: 1.2861 - val_acc: 0.4731\n",
            "Epoch 109/1000\n",
            "122/122 [==============================] - 0s 2ms/step - loss: 1.3156 - acc: 0.4625 - val_loss: 1.2857 - val_acc: 0.4760\n",
            "Epoch 110/1000\n",
            "122/122 [==============================] - 0s 2ms/step - loss: 1.3152 - acc: 0.4638 - val_loss: 1.2861 - val_acc: 0.4858\n",
            "Epoch 111/1000\n",
            "122/122 [==============================] - 0s 2ms/step - loss: 1.3135 - acc: 0.4648 - val_loss: 1.2935 - val_acc: 0.4760\n",
            "Epoch 112/1000\n",
            "122/122 [==============================] - 0s 2ms/step - loss: 1.3158 - acc: 0.4641 - val_loss: 1.2872 - val_acc: 0.4829\n",
            "Epoch 113/1000\n",
            "122/122 [==============================] - 0s 2ms/step - loss: 1.3139 - acc: 0.4616 - val_loss: 1.2874 - val_acc: 0.4714\n",
            "Epoch 114/1000\n",
            "122/122 [==============================] - 0s 2ms/step - loss: 1.3135 - acc: 0.4649 - val_loss: 1.2879 - val_acc: 0.4731\n",
            "Epoch 115/1000\n",
            "122/122 [==============================] - 0s 2ms/step - loss: 1.3116 - acc: 0.4640 - val_loss: 1.2855 - val_acc: 0.4812\n",
            "Epoch 116/1000\n",
            "122/122 [==============================] - 0s 2ms/step - loss: 1.3103 - acc: 0.4646 - val_loss: 1.2870 - val_acc: 0.4714\n",
            "Epoch 117/1000\n",
            "122/122 [==============================] - 0s 2ms/step - loss: 1.3104 - acc: 0.4628 - val_loss: 1.2797 - val_acc: 0.4864\n",
            "Epoch 118/1000\n",
            "122/122 [==============================] - 0s 2ms/step - loss: 1.3113 - acc: 0.4669 - val_loss: 1.2797 - val_acc: 0.4737\n",
            "Epoch 119/1000\n",
            "122/122 [==============================] - 0s 2ms/step - loss: 1.3102 - acc: 0.4662 - val_loss: 1.2812 - val_acc: 0.4829\n",
            "Epoch 120/1000\n",
            "122/122 [==============================] - 0s 2ms/step - loss: 1.3085 - acc: 0.4640 - val_loss: 1.2784 - val_acc: 0.4754\n",
            "Epoch 121/1000\n",
            "122/122 [==============================] - 0s 2ms/step - loss: 1.3084 - acc: 0.4673 - val_loss: 1.2782 - val_acc: 0.4719\n",
            "Epoch 122/1000\n",
            "122/122 [==============================] - 0s 2ms/step - loss: 1.3093 - acc: 0.4615 - val_loss: 1.2848 - val_acc: 0.4702\n",
            "Epoch 123/1000\n",
            "122/122 [==============================] - 0s 2ms/step - loss: 1.3075 - acc: 0.4673 - val_loss: 1.2737 - val_acc: 0.4760\n",
            "Epoch 124/1000\n",
            "122/122 [==============================] - 0s 2ms/step - loss: 1.3085 - acc: 0.4664 - val_loss: 1.2800 - val_acc: 0.4795\n",
            "Epoch 125/1000\n",
            "122/122 [==============================] - 0s 2ms/step - loss: 1.3078 - acc: 0.4662 - val_loss: 1.2748 - val_acc: 0.4714\n",
            "Epoch 126/1000\n",
            "122/122 [==============================] - 0s 2ms/step - loss: 1.3061 - acc: 0.4674 - val_loss: 1.2781 - val_acc: 0.4748\n",
            "Epoch 127/1000\n",
            "122/122 [==============================] - 0s 2ms/step - loss: 1.3068 - acc: 0.4678 - val_loss: 1.2718 - val_acc: 0.4772\n",
            "Epoch 128/1000\n",
            "122/122 [==============================] - 0s 2ms/step - loss: 1.3065 - acc: 0.4674 - val_loss: 1.2729 - val_acc: 0.4708\n",
            "Epoch 129/1000\n",
            "122/122 [==============================] - 0s 2ms/step - loss: 1.3040 - acc: 0.4693 - val_loss: 1.2734 - val_acc: 0.4818\n",
            "Epoch 130/1000\n",
            "122/122 [==============================] - 0s 2ms/step - loss: 1.3041 - acc: 0.4660 - val_loss: 1.2748 - val_acc: 0.4754\n",
            "Epoch 131/1000\n",
            "122/122 [==============================] - 0s 2ms/step - loss: 1.3037 - acc: 0.4680 - val_loss: 1.2707 - val_acc: 0.4835\n",
            "Epoch 132/1000\n",
            "122/122 [==============================] - 0s 2ms/step - loss: 1.3031 - acc: 0.4680 - val_loss: 1.2796 - val_acc: 0.4702\n",
            "Epoch 133/1000\n",
            "122/122 [==============================] - 0s 2ms/step - loss: 1.3039 - acc: 0.4642 - val_loss: 1.2742 - val_acc: 0.4829\n",
            "Epoch 134/1000\n",
            "122/122 [==============================] - 0s 2ms/step - loss: 1.3024 - acc: 0.4687 - val_loss: 1.2708 - val_acc: 0.4783\n",
            "Epoch 135/1000\n",
            "122/122 [==============================] - 0s 2ms/step - loss: 1.3017 - acc: 0.4719 - val_loss: 1.2711 - val_acc: 0.4777\n",
            "Epoch 136/1000\n",
            "122/122 [==============================] - 0s 2ms/step - loss: 1.3016 - acc: 0.4681 - val_loss: 1.2698 - val_acc: 0.4754\n",
            "Epoch 137/1000\n",
            "122/122 [==============================] - 0s 2ms/step - loss: 1.3008 - acc: 0.4665 - val_loss: 1.2733 - val_acc: 0.4777\n",
            "Epoch 138/1000\n",
            "122/122 [==============================] - 0s 2ms/step - loss: 1.3008 - acc: 0.4693 - val_loss: 1.2698 - val_acc: 0.4754\n",
            "Epoch 139/1000\n",
            "122/122 [==============================] - 0s 2ms/step - loss: 1.3010 - acc: 0.4697 - val_loss: 1.2707 - val_acc: 0.4853\n",
            "Epoch 140/1000\n",
            "122/122 [==============================] - 0s 2ms/step - loss: 1.2995 - acc: 0.4695 - val_loss: 1.2708 - val_acc: 0.4777\n",
            "Epoch 141/1000\n",
            "122/122 [==============================] - 0s 2ms/step - loss: 1.3005 - acc: 0.4698 - val_loss: 1.2669 - val_acc: 0.4841\n",
            "Epoch 142/1000\n",
            "122/122 [==============================] - 0s 2ms/step - loss: 1.2996 - acc: 0.4702 - val_loss: 1.2686 - val_acc: 0.4795\n",
            "Epoch 143/1000\n",
            "122/122 [==============================] - 0s 2ms/step - loss: 1.2998 - acc: 0.4693 - val_loss: 1.2702 - val_acc: 0.4789\n",
            "Epoch 144/1000\n",
            "122/122 [==============================] - 0s 2ms/step - loss: 1.2997 - acc: 0.4700 - val_loss: 1.2680 - val_acc: 0.4893\n",
            "Epoch 145/1000\n",
            "122/122 [==============================] - 0s 2ms/step - loss: 1.2992 - acc: 0.4697 - val_loss: 1.2679 - val_acc: 0.4841\n",
            "Epoch 146/1000\n",
            "122/122 [==============================] - 0s 2ms/step - loss: 1.2989 - acc: 0.4712 - val_loss: 1.2682 - val_acc: 0.4685\n",
            "Epoch 147/1000\n",
            "122/122 [==============================] - 0s 2ms/step - loss: 1.2981 - acc: 0.4712 - val_loss: 1.2719 - val_acc: 0.4806\n",
            "Epoch 148/1000\n",
            "122/122 [==============================] - 0s 2ms/step - loss: 1.2988 - acc: 0.4683 - val_loss: 1.2671 - val_acc: 0.4754\n",
            "Epoch 149/1000\n",
            "122/122 [==============================] - 0s 2ms/step - loss: 1.2976 - acc: 0.4714 - val_loss: 1.2677 - val_acc: 0.4800\n",
            "Epoch 150/1000\n",
            "122/122 [==============================] - 0s 2ms/step - loss: 1.2987 - acc: 0.4688 - val_loss: 1.2663 - val_acc: 0.4824\n",
            "Epoch 151/1000\n",
            "122/122 [==============================] - 0s 2ms/step - loss: 1.2976 - acc: 0.4731 - val_loss: 1.2685 - val_acc: 0.4818\n",
            "Epoch 152/1000\n",
            "122/122 [==============================] - 0s 2ms/step - loss: 1.2987 - acc: 0.4733 - val_loss: 1.2659 - val_acc: 0.4795\n",
            "Epoch 153/1000\n",
            "122/122 [==============================] - 0s 2ms/step - loss: 1.2967 - acc: 0.4712 - val_loss: 1.2629 - val_acc: 0.4858\n",
            "Epoch 154/1000\n",
            "122/122 [==============================] - 0s 2ms/step - loss: 1.2965 - acc: 0.4709 - val_loss: 1.2651 - val_acc: 0.4789\n",
            "Epoch 155/1000\n",
            "122/122 [==============================] - 0s 2ms/step - loss: 1.2977 - acc: 0.4712 - val_loss: 1.2727 - val_acc: 0.4795\n",
            "Epoch 156/1000\n",
            "122/122 [==============================] - 0s 2ms/step - loss: 1.2967 - acc: 0.4709 - val_loss: 1.2668 - val_acc: 0.4748\n",
            "Epoch 157/1000\n",
            "122/122 [==============================] - 0s 2ms/step - loss: 1.2965 - acc: 0.4728 - val_loss: 1.2671 - val_acc: 0.4876\n",
            "Epoch 158/1000\n",
            "122/122 [==============================] - 0s 2ms/step - loss: 1.2972 - acc: 0.4739 - val_loss: 1.2650 - val_acc: 0.4835\n",
            "Epoch 159/1000\n",
            "122/122 [==============================] - 0s 2ms/step - loss: 1.2949 - acc: 0.4711 - val_loss: 1.2676 - val_acc: 0.4812\n",
            "Epoch 160/1000\n",
            "122/122 [==============================] - 0s 2ms/step - loss: 1.2965 - acc: 0.4672 - val_loss: 1.2686 - val_acc: 0.4824\n",
            "Epoch 161/1000\n",
            "122/122 [==============================] - 0s 2ms/step - loss: 1.2959 - acc: 0.4694 - val_loss: 1.2698 - val_acc: 0.4847\n",
            "Epoch 162/1000\n",
            "122/122 [==============================] - 0s 2ms/step - loss: 1.2968 - acc: 0.4739 - val_loss: 1.2657 - val_acc: 0.4812\n",
            "Epoch 163/1000\n",
            "122/122 [==============================] - 0s 2ms/step - loss: 1.2959 - acc: 0.4712 - val_loss: 1.2671 - val_acc: 0.4766\n",
            "Epoch 164/1000\n",
            "122/122 [==============================] - 0s 2ms/step - loss: 1.2963 - acc: 0.4730 - val_loss: 1.2695 - val_acc: 0.4835\n",
            "Epoch 165/1000\n",
            "122/122 [==============================] - 0s 2ms/step - loss: 1.2944 - acc: 0.4721 - val_loss: 1.2717 - val_acc: 0.4737\n",
            "Epoch 166/1000\n",
            "122/122 [==============================] - 0s 2ms/step - loss: 1.2935 - acc: 0.4754 - val_loss: 1.2681 - val_acc: 0.4806\n",
            "Epoch 167/1000\n",
            "122/122 [==============================] - 0s 2ms/step - loss: 1.2934 - acc: 0.4746 - val_loss: 1.2636 - val_acc: 0.4783\n",
            "Epoch 168/1000\n",
            "122/122 [==============================] - 0s 2ms/step - loss: 1.2943 - acc: 0.4721 - val_loss: 1.2638 - val_acc: 0.4685\n",
            "Epoch 169/1000\n",
            "122/122 [==============================] - 0s 2ms/step - loss: 1.2944 - acc: 0.4720 - val_loss: 1.2609 - val_acc: 0.4853\n",
            "Epoch 170/1000\n",
            "122/122 [==============================] - 0s 2ms/step - loss: 1.2931 - acc: 0.4699 - val_loss: 1.2605 - val_acc: 0.4858\n",
            "Epoch 171/1000\n",
            "122/122 [==============================] - 0s 2ms/step - loss: 1.2938 - acc: 0.4718 - val_loss: 1.2655 - val_acc: 0.4835\n",
            "Epoch 172/1000\n",
            "122/122 [==============================] - 0s 2ms/step - loss: 1.2946 - acc: 0.4706 - val_loss: 1.2610 - val_acc: 0.4876\n",
            "Epoch 173/1000\n",
            "122/122 [==============================] - 0s 2ms/step - loss: 1.2929 - acc: 0.4719 - val_loss: 1.2591 - val_acc: 0.4864\n",
            "Epoch 174/1000\n",
            "122/122 [==============================] - 0s 2ms/step - loss: 1.2935 - acc: 0.4730 - val_loss: 1.2644 - val_acc: 0.4876\n",
            "Epoch 175/1000\n",
            "122/122 [==============================] - 0s 2ms/step - loss: 1.2924 - acc: 0.4746 - val_loss: 1.2585 - val_acc: 0.4841\n",
            "Epoch 176/1000\n",
            "122/122 [==============================] - 0s 2ms/step - loss: 1.2917 - acc: 0.4722 - val_loss: 1.2651 - val_acc: 0.4673\n",
            "Epoch 177/1000\n",
            "122/122 [==============================] - 0s 2ms/step - loss: 1.2936 - acc: 0.4736 - val_loss: 1.2646 - val_acc: 0.4795\n",
            "Epoch 178/1000\n",
            "122/122 [==============================] - 0s 2ms/step - loss: 1.2918 - acc: 0.4717 - val_loss: 1.2673 - val_acc: 0.4876\n",
            "Epoch 179/1000\n",
            "122/122 [==============================] - 0s 2ms/step - loss: 1.2938 - acc: 0.4708 - val_loss: 1.2634 - val_acc: 0.4853\n",
            "Epoch 180/1000\n",
            "122/122 [==============================] - 0s 2ms/step - loss: 1.2917 - acc: 0.4733 - val_loss: 1.2600 - val_acc: 0.4754\n",
            "Epoch 181/1000\n",
            "122/122 [==============================] - 0s 2ms/step - loss: 1.2934 - acc: 0.4727 - val_loss: 1.2596 - val_acc: 0.4783\n",
            "Epoch 182/1000\n",
            "122/122 [==============================] - 0s 2ms/step - loss: 1.2929 - acc: 0.4712 - val_loss: 1.2642 - val_acc: 0.4841\n",
            "Epoch 183/1000\n",
            "122/122 [==============================] - 0s 2ms/step - loss: 1.2906 - acc: 0.4719 - val_loss: 1.2589 - val_acc: 0.4945\n",
            "Epoch 184/1000\n",
            "122/122 [==============================] - 0s 2ms/step - loss: 1.2924 - acc: 0.4718 - val_loss: 1.2663 - val_acc: 0.4696\n",
            "Epoch 185/1000\n",
            "122/122 [==============================] - 0s 2ms/step - loss: 1.2933 - acc: 0.4759 - val_loss: 1.2591 - val_acc: 0.4853\n",
            "Epoch 186/1000\n",
            "122/122 [==============================] - 0s 2ms/step - loss: 1.2913 - acc: 0.4719 - val_loss: 1.2584 - val_acc: 0.4829\n",
            "Epoch 187/1000\n",
            "122/122 [==============================] - 0s 2ms/step - loss: 1.2924 - acc: 0.4732 - val_loss: 1.2634 - val_acc: 0.4824\n",
            "Epoch 188/1000\n",
            "122/122 [==============================] - 0s 2ms/step - loss: 1.2911 - acc: 0.4727 - val_loss: 1.2596 - val_acc: 0.4905\n",
            "Epoch 189/1000\n",
            "122/122 [==============================] - 0s 2ms/step - loss: 1.2902 - acc: 0.4734 - val_loss: 1.2596 - val_acc: 0.4876\n",
            "Epoch 190/1000\n",
            "122/122 [==============================] - 0s 2ms/step - loss: 1.2896 - acc: 0.4748 - val_loss: 1.2666 - val_acc: 0.4800\n",
            "Epoch 191/1000\n",
            "122/122 [==============================] - 0s 2ms/step - loss: 1.2921 - acc: 0.4751 - val_loss: 1.2597 - val_acc: 0.4847\n",
            "Epoch 192/1000\n",
            "122/122 [==============================] - 0s 2ms/step - loss: 1.2908 - acc: 0.4748 - val_loss: 1.2686 - val_acc: 0.4766\n",
            "Epoch 193/1000\n",
            "122/122 [==============================] - 0s 2ms/step - loss: 1.2898 - acc: 0.4734 - val_loss: 1.2686 - val_acc: 0.4760\n",
            "Epoch 194/1000\n",
            "122/122 [==============================] - 0s 2ms/step - loss: 1.2895 - acc: 0.4754 - val_loss: 1.2582 - val_acc: 0.4847\n",
            "Epoch 195/1000\n",
            "122/122 [==============================] - 0s 2ms/step - loss: 1.2896 - acc: 0.4717 - val_loss: 1.2588 - val_acc: 0.4777\n",
            "Epoch 196/1000\n",
            "122/122 [==============================] - 0s 2ms/step - loss: 1.2905 - acc: 0.4709 - val_loss: 1.2619 - val_acc: 0.4777\n",
            "Epoch 197/1000\n",
            "122/122 [==============================] - 0s 2ms/step - loss: 1.2899 - acc: 0.4744 - val_loss: 1.2605 - val_acc: 0.4829\n",
            "Epoch 198/1000\n",
            "122/122 [==============================] - 0s 2ms/step - loss: 1.2910 - acc: 0.4722 - val_loss: 1.2577 - val_acc: 0.4893\n",
            "Epoch 199/1000\n",
            "122/122 [==============================] - 0s 2ms/step - loss: 1.2892 - acc: 0.4736 - val_loss: 1.2578 - val_acc: 0.4858\n",
            "Epoch 200/1000\n",
            "122/122 [==============================] - 0s 2ms/step - loss: 1.2899 - acc: 0.4758 - val_loss: 1.2593 - val_acc: 0.4789\n",
            "Epoch 201/1000\n",
            "122/122 [==============================] - 0s 2ms/step - loss: 1.2887 - acc: 0.4728 - val_loss: 1.2589 - val_acc: 0.4858\n",
            "Epoch 202/1000\n",
            "122/122 [==============================] - 0s 2ms/step - loss: 1.2892 - acc: 0.4735 - val_loss: 1.2592 - val_acc: 0.4841\n",
            "Epoch 203/1000\n",
            "122/122 [==============================] - 0s 2ms/step - loss: 1.2916 - acc: 0.4727 - val_loss: 1.2653 - val_acc: 0.4748\n",
            "Epoch 204/1000\n",
            "122/122 [==============================] - 0s 2ms/step - loss: 1.2898 - acc: 0.4723 - val_loss: 1.2834 - val_acc: 0.4731\n",
            "Epoch 205/1000\n",
            "122/122 [==============================] - 0s 2ms/step - loss: 1.2903 - acc: 0.4717 - val_loss: 1.2590 - val_acc: 0.4806\n",
            "Epoch 206/1000\n",
            "122/122 [==============================] - 0s 2ms/step - loss: 1.2907 - acc: 0.4707 - val_loss: 1.2586 - val_acc: 0.4893\n",
            "Epoch 207/1000\n",
            "122/122 [==============================] - 0s 2ms/step - loss: 1.2883 - acc: 0.4709 - val_loss: 1.2595 - val_acc: 0.4905\n",
            "Epoch 208/1000\n",
            "122/122 [==============================] - 0s 2ms/step - loss: 1.2903 - acc: 0.4722 - val_loss: 1.2649 - val_acc: 0.4818\n",
            "Epoch 209/1000\n",
            "122/122 [==============================] - 0s 2ms/step - loss: 1.2891 - acc: 0.4769 - val_loss: 1.2582 - val_acc: 0.4789\n",
            "Epoch 210/1000\n",
            "122/122 [==============================] - 0s 2ms/step - loss: 1.2885 - acc: 0.4738 - val_loss: 1.2585 - val_acc: 0.4714\n",
            "Epoch 211/1000\n",
            "122/122 [==============================] - 0s 3ms/step - loss: 1.2884 - acc: 0.4741 - val_loss: 1.2559 - val_acc: 0.4870\n",
            "Epoch 212/1000\n",
            "122/122 [==============================] - 0s 2ms/step - loss: 1.2884 - acc: 0.4734 - val_loss: 1.2583 - val_acc: 0.4847\n",
            "Epoch 213/1000\n",
            "122/122 [==============================] - 0s 2ms/step - loss: 1.2899 - acc: 0.4725 - val_loss: 1.2592 - val_acc: 0.4847\n",
            "Epoch 214/1000\n",
            "122/122 [==============================] - 0s 2ms/step - loss: 1.2895 - acc: 0.4743 - val_loss: 1.2570 - val_acc: 0.4905\n",
            "Epoch 215/1000\n",
            "122/122 [==============================] - 0s 2ms/step - loss: 1.2879 - acc: 0.4745 - val_loss: 1.2568 - val_acc: 0.4812\n",
            "Epoch 216/1000\n",
            "122/122 [==============================] - 0s 2ms/step - loss: 1.2890 - acc: 0.4747 - val_loss: 1.2570 - val_acc: 0.4864\n",
            "Epoch 217/1000\n",
            "122/122 [==============================] - 0s 2ms/step - loss: 1.2893 - acc: 0.4728 - val_loss: 1.2576 - val_acc: 0.4818\n",
            "Epoch 218/1000\n",
            "122/122 [==============================] - 0s 2ms/step - loss: 1.2885 - acc: 0.4773 - val_loss: 1.2558 - val_acc: 0.4858\n",
            "Epoch 219/1000\n",
            "122/122 [==============================] - 0s 2ms/step - loss: 1.2886 - acc: 0.4745 - val_loss: 1.2580 - val_acc: 0.4881\n",
            "Epoch 220/1000\n",
            "122/122 [==============================] - 0s 2ms/step - loss: 1.2886 - acc: 0.4738 - val_loss: 1.2569 - val_acc: 0.4876\n",
            "Epoch 221/1000\n",
            "122/122 [==============================] - 0s 2ms/step - loss: 1.2880 - acc: 0.4742 - val_loss: 1.2575 - val_acc: 0.4783\n",
            "Epoch 222/1000\n",
            "122/122 [==============================] - 0s 2ms/step - loss: 1.2868 - acc: 0.4752 - val_loss: 1.2588 - val_acc: 0.4835\n",
            "Epoch 223/1000\n",
            "122/122 [==============================] - 0s 2ms/step - loss: 1.2888 - acc: 0.4762 - val_loss: 1.2538 - val_acc: 0.4881\n",
            "Epoch 224/1000\n",
            "122/122 [==============================] - 0s 2ms/step - loss: 1.2864 - acc: 0.4781 - val_loss: 1.2602 - val_acc: 0.4835\n",
            "Epoch 225/1000\n",
            "122/122 [==============================] - 0s 2ms/step - loss: 1.2876 - acc: 0.4731 - val_loss: 1.2660 - val_acc: 0.4644\n",
            "Epoch 226/1000\n",
            "122/122 [==============================] - 0s 2ms/step - loss: 1.2889 - acc: 0.4756 - val_loss: 1.2598 - val_acc: 0.4806\n",
            "Epoch 227/1000\n",
            "122/122 [==============================] - 0s 2ms/step - loss: 1.2901 - acc: 0.4743 - val_loss: 1.2549 - val_acc: 0.4800\n",
            "Epoch 228/1000\n",
            "122/122 [==============================] - 0s 2ms/step - loss: 1.2875 - acc: 0.4736 - val_loss: 1.2611 - val_acc: 0.4864\n",
            "Epoch 229/1000\n",
            "122/122 [==============================] - 0s 2ms/step - loss: 1.2860 - acc: 0.4751 - val_loss: 1.2549 - val_acc: 0.4795\n",
            "Epoch 230/1000\n",
            "122/122 [==============================] - 0s 2ms/step - loss: 1.2867 - acc: 0.4783 - val_loss: 1.2557 - val_acc: 0.4864\n",
            "Epoch 231/1000\n",
            "122/122 [==============================] - 0s 2ms/step - loss: 1.2877 - acc: 0.4728 - val_loss: 1.2553 - val_acc: 0.4812\n",
            "Epoch 232/1000\n",
            "122/122 [==============================] - 0s 2ms/step - loss: 1.2872 - acc: 0.4732 - val_loss: 1.2590 - val_acc: 0.4870\n",
            "Epoch 233/1000\n",
            "122/122 [==============================] - 0s 2ms/step - loss: 1.2867 - acc: 0.4732 - val_loss: 1.2584 - val_acc: 0.4777\n",
            "Epoch 234/1000\n",
            "122/122 [==============================] - 0s 2ms/step - loss: 1.2858 - acc: 0.4751 - val_loss: 1.2642 - val_acc: 0.4702\n",
            "Epoch 235/1000\n",
            "122/122 [==============================] - 0s 2ms/step - loss: 1.2869 - acc: 0.4744 - val_loss: 1.2572 - val_acc: 0.4824\n",
            "Epoch 236/1000\n",
            "122/122 [==============================] - 0s 2ms/step - loss: 1.2868 - acc: 0.4757 - val_loss: 1.2637 - val_acc: 0.4881\n",
            "Epoch 237/1000\n",
            "122/122 [==============================] - 0s 2ms/step - loss: 1.2872 - acc: 0.4757 - val_loss: 1.2606 - val_acc: 0.4800\n",
            "Epoch 238/1000\n",
            "122/122 [==============================] - 0s 2ms/step - loss: 1.2869 - acc: 0.4755 - val_loss: 1.2563 - val_acc: 0.4818\n",
            "Epoch 239/1000\n",
            "122/122 [==============================] - 0s 2ms/step - loss: 1.2872 - acc: 0.4761 - val_loss: 1.2559 - val_acc: 0.4835\n",
            "Epoch 240/1000\n",
            "122/122 [==============================] - 0s 2ms/step - loss: 1.2864 - acc: 0.4766 - val_loss: 1.2574 - val_acc: 0.4835\n",
            "Epoch 241/1000\n",
            "122/122 [==============================] - 0s 2ms/step - loss: 1.2871 - acc: 0.4754 - val_loss: 1.2572 - val_acc: 0.4847\n",
            "Epoch 242/1000\n",
            "122/122 [==============================] - 0s 2ms/step - loss: 1.2860 - acc: 0.4757 - val_loss: 1.2544 - val_acc: 0.4858\n",
            "Epoch 243/1000\n",
            "122/122 [==============================] - 0s 2ms/step - loss: 1.2879 - acc: 0.4729 - val_loss: 1.2698 - val_acc: 0.4800\n",
            "Epoch 244/1000\n",
            "122/122 [==============================] - 0s 2ms/step - loss: 1.2882 - acc: 0.4734 - val_loss: 1.2579 - val_acc: 0.4841\n",
            "Epoch 245/1000\n",
            "122/122 [==============================] - 0s 2ms/step - loss: 1.2867 - acc: 0.4745 - val_loss: 1.2580 - val_acc: 0.4789\n",
            "Epoch 246/1000\n",
            "122/122 [==============================] - 0s 2ms/step - loss: 1.2863 - acc: 0.4761 - val_loss: 1.2561 - val_acc: 0.4847\n",
            "Epoch 247/1000\n",
            "122/122 [==============================] - 0s 2ms/step - loss: 1.2868 - acc: 0.4750 - val_loss: 1.2587 - val_acc: 0.4806\n",
            "Epoch 248/1000\n",
            "122/122 [==============================] - 0s 2ms/step - loss: 1.2861 - acc: 0.4742 - val_loss: 1.2567 - val_acc: 0.4818\n",
            "Epoch 249/1000\n",
            "122/122 [==============================] - 0s 2ms/step - loss: 1.2858 - acc: 0.4743 - val_loss: 1.2543 - val_acc: 0.4893\n",
            "Epoch 250/1000\n",
            "122/122 [==============================] - 0s 2ms/step - loss: 1.2856 - acc: 0.4759 - val_loss: 1.2594 - val_acc: 0.4864\n",
            "Epoch 251/1000\n",
            "122/122 [==============================] - 0s 2ms/step - loss: 1.2858 - acc: 0.4750 - val_loss: 1.2581 - val_acc: 0.4806\n",
            "Epoch 252/1000\n",
            "122/122 [==============================] - 0s 2ms/step - loss: 1.2856 - acc: 0.4760 - val_loss: 1.2578 - val_acc: 0.4829\n",
            "Epoch 253/1000\n",
            "122/122 [==============================] - 0s 2ms/step - loss: 1.2852 - acc: 0.4771 - val_loss: 1.2602 - val_acc: 0.4772\n",
            "Epoch 254/1000\n",
            "122/122 [==============================] - 0s 2ms/step - loss: 1.2853 - acc: 0.4707 - val_loss: 1.2569 - val_acc: 0.4806\n",
            "Epoch 255/1000\n",
            "122/122 [==============================] - 0s 2ms/step - loss: 1.2880 - acc: 0.4753 - val_loss: 1.2553 - val_acc: 0.4795\n",
            "Epoch 256/1000\n",
            "122/122 [==============================] - 0s 2ms/step - loss: 1.2852 - acc: 0.4743 - val_loss: 1.2546 - val_acc: 0.4853\n",
            "Epoch 257/1000\n",
            "122/122 [==============================] - 0s 2ms/step - loss: 1.2868 - acc: 0.4752 - val_loss: 1.2534 - val_acc: 0.4829\n",
            "Epoch 258/1000\n",
            "122/122 [==============================] - 0s 2ms/step - loss: 1.2859 - acc: 0.4751 - val_loss: 1.2659 - val_acc: 0.4899\n",
            "Epoch 259/1000\n",
            "122/122 [==============================] - 0s 2ms/step - loss: 1.2855 - acc: 0.4770 - val_loss: 1.2568 - val_acc: 0.4847\n",
            "Epoch 260/1000\n",
            "122/122 [==============================] - 0s 2ms/step - loss: 1.2841 - acc: 0.4751 - val_loss: 1.2613 - val_acc: 0.4818\n",
            "Epoch 261/1000\n",
            "122/122 [==============================] - 0s 2ms/step - loss: 1.2842 - acc: 0.4779 - val_loss: 1.2569 - val_acc: 0.4847\n",
            "Epoch 262/1000\n",
            "122/122 [==============================] - 0s 2ms/step - loss: 1.2860 - acc: 0.4762 - val_loss: 1.2566 - val_acc: 0.4876\n",
            "Epoch 263/1000\n",
            "122/122 [==============================] - 0s 2ms/step - loss: 1.2849 - acc: 0.4764 - val_loss: 1.2636 - val_acc: 0.4673\n",
            "Epoch 264/1000\n",
            "122/122 [==============================] - 0s 2ms/step - loss: 1.2842 - acc: 0.4746 - val_loss: 1.2549 - val_acc: 0.4812\n",
            "Epoch 265/1000\n",
            "122/122 [==============================] - 0s 2ms/step - loss: 1.2850 - acc: 0.4736 - val_loss: 1.2566 - val_acc: 0.4760\n",
            "Epoch 266/1000\n",
            "122/122 [==============================] - 0s 2ms/step - loss: 1.2843 - acc: 0.4768 - val_loss: 1.2609 - val_acc: 0.4841\n",
            "Epoch 267/1000\n",
            "122/122 [==============================] - 0s 2ms/step - loss: 1.2862 - acc: 0.4754 - val_loss: 1.2593 - val_acc: 0.4795\n",
            "Epoch 268/1000\n",
            "122/122 [==============================] - 0s 2ms/step - loss: 1.2844 - acc: 0.4734 - val_loss: 1.2578 - val_acc: 0.4766\n",
            "Epoch 269/1000\n",
            "122/122 [==============================] - 0s 2ms/step - loss: 1.2854 - acc: 0.4779 - val_loss: 1.2540 - val_acc: 0.4847\n",
            "Epoch 270/1000\n",
            "122/122 [==============================] - 0s 2ms/step - loss: 1.2858 - acc: 0.4770 - val_loss: 1.2574 - val_acc: 0.4876\n",
            "Epoch 271/1000\n",
            "122/122 [==============================] - 0s 2ms/step - loss: 1.2848 - acc: 0.4779 - val_loss: 1.2547 - val_acc: 0.4829\n",
            "Epoch 272/1000\n",
            "122/122 [==============================] - 0s 2ms/step - loss: 1.2845 - acc: 0.4759 - val_loss: 1.2548 - val_acc: 0.4835\n",
            "Epoch 273/1000\n",
            "122/122 [==============================] - 0s 2ms/step - loss: 1.2839 - acc: 0.4722 - val_loss: 1.2582 - val_acc: 0.4708\n",
            "Epoch 274/1000\n",
            "122/122 [==============================] - 0s 2ms/step - loss: 1.2844 - acc: 0.4719 - val_loss: 1.2594 - val_acc: 0.4737\n",
            "Epoch 275/1000\n",
            "122/122 [==============================] - 0s 2ms/step - loss: 1.2831 - acc: 0.4759 - val_loss: 1.2548 - val_acc: 0.4933\n",
            "Epoch 276/1000\n",
            "122/122 [==============================] - 0s 2ms/step - loss: 1.2856 - acc: 0.4741 - val_loss: 1.2549 - val_acc: 0.4910\n",
            "Epoch 277/1000\n",
            "122/122 [==============================] - 0s 2ms/step - loss: 1.2828 - acc: 0.4791 - val_loss: 1.2549 - val_acc: 0.4847\n",
            "Epoch 278/1000\n",
            "122/122 [==============================] - 0s 2ms/step - loss: 1.2843 - acc: 0.4748 - val_loss: 1.2566 - val_acc: 0.4743\n",
            "Epoch 279/1000\n",
            "122/122 [==============================] - 0s 2ms/step - loss: 1.2845 - acc: 0.4746 - val_loss: 1.2551 - val_acc: 0.4824\n",
            "Epoch 280/1000\n",
            "122/122 [==============================] - 0s 2ms/step - loss: 1.2835 - acc: 0.4743 - val_loss: 1.2566 - val_acc: 0.4829\n",
            "Epoch 281/1000\n",
            "122/122 [==============================] - 0s 2ms/step - loss: 1.2842 - acc: 0.4729 - val_loss: 1.2578 - val_acc: 0.4812\n",
            "Epoch 282/1000\n",
            "122/122 [==============================] - 0s 2ms/step - loss: 1.2839 - acc: 0.4759 - val_loss: 1.2523 - val_acc: 0.4899\n",
            "Epoch 283/1000\n",
            "122/122 [==============================] - 0s 2ms/step - loss: 1.2845 - acc: 0.4773 - val_loss: 1.2563 - val_acc: 0.4841\n",
            "Epoch 284/1000\n",
            "122/122 [==============================] - 0s 2ms/step - loss: 1.2831 - acc: 0.4775 - val_loss: 1.2566 - val_acc: 0.4702\n",
            "Epoch 285/1000\n",
            "122/122 [==============================] - 0s 2ms/step - loss: 1.2844 - acc: 0.4758 - val_loss: 1.2547 - val_acc: 0.4818\n",
            "Epoch 286/1000\n",
            "122/122 [==============================] - 0s 2ms/step - loss: 1.2838 - acc: 0.4755 - val_loss: 1.2531 - val_acc: 0.4835\n",
            "Epoch 287/1000\n",
            "122/122 [==============================] - 0s 2ms/step - loss: 1.2833 - acc: 0.4743 - val_loss: 1.2555 - val_acc: 0.4881\n",
            "Epoch 288/1000\n",
            "122/122 [==============================] - 0s 2ms/step - loss: 1.2836 - acc: 0.4763 - val_loss: 1.2620 - val_acc: 0.4777\n",
            "Epoch 289/1000\n",
            "122/122 [==============================] - 0s 2ms/step - loss: 1.2825 - acc: 0.4763 - val_loss: 1.2625 - val_acc: 0.4714\n",
            "Epoch 290/1000\n",
            "122/122 [==============================] - 0s 2ms/step - loss: 1.2830 - acc: 0.4773 - val_loss: 1.2523 - val_acc: 0.4772\n",
            "Epoch 291/1000\n",
            "122/122 [==============================] - 0s 2ms/step - loss: 1.2830 - acc: 0.4743 - val_loss: 1.2537 - val_acc: 0.4777\n",
            "Epoch 292/1000\n",
            "122/122 [==============================] - 0s 2ms/step - loss: 1.2845 - acc: 0.4767 - val_loss: 1.2582 - val_acc: 0.4847\n",
            "Epoch 293/1000\n",
            "122/122 [==============================] - 0s 2ms/step - loss: 1.2828 - acc: 0.4755 - val_loss: 1.2533 - val_acc: 0.4829\n",
            "Epoch 294/1000\n",
            "122/122 [==============================] - 0s 2ms/step - loss: 1.2826 - acc: 0.4766 - val_loss: 1.2524 - val_acc: 0.4760\n",
            "Epoch 295/1000\n",
            "122/122 [==============================] - 0s 2ms/step - loss: 1.2825 - acc: 0.4781 - val_loss: 1.2553 - val_acc: 0.4829\n",
            "Epoch 296/1000\n",
            "122/122 [==============================] - 0s 2ms/step - loss: 1.2817 - acc: 0.4767 - val_loss: 1.2547 - val_acc: 0.4853\n",
            "Epoch 297/1000\n",
            "122/122 [==============================] - 0s 2ms/step - loss: 1.2825 - acc: 0.4751 - val_loss: 1.2572 - val_acc: 0.4743\n",
            "Epoch 298/1000\n",
            "122/122 [==============================] - 0s 2ms/step - loss: 1.2822 - acc: 0.4792 - val_loss: 1.2608 - val_acc: 0.4806\n",
            "Epoch 299/1000\n",
            "122/122 [==============================] - 0s 2ms/step - loss: 1.2827 - acc: 0.4749 - val_loss: 1.2506 - val_acc: 0.4864\n",
            "Epoch 300/1000\n",
            "122/122 [==============================] - 0s 2ms/step - loss: 1.2827 - acc: 0.4767 - val_loss: 1.2538 - val_acc: 0.4731\n",
            "Epoch 301/1000\n",
            "122/122 [==============================] - 0s 2ms/step - loss: 1.2820 - acc: 0.4769 - val_loss: 1.2564 - val_acc: 0.4754\n",
            "Epoch 302/1000\n",
            "122/122 [==============================] - 0s 2ms/step - loss: 1.2821 - acc: 0.4728 - val_loss: 1.2590 - val_acc: 0.4766\n",
            "Epoch 303/1000\n",
            "122/122 [==============================] - 0s 2ms/step - loss: 1.2835 - acc: 0.4765 - val_loss: 1.2591 - val_acc: 0.4841\n",
            "Epoch 304/1000\n",
            "122/122 [==============================] - 0s 2ms/step - loss: 1.2814 - acc: 0.4763 - val_loss: 1.2516 - val_acc: 0.4812\n",
            "Epoch 305/1000\n",
            "122/122 [==============================] - 0s 2ms/step - loss: 1.2824 - acc: 0.4777 - val_loss: 1.2535 - val_acc: 0.4812\n",
            "Epoch 306/1000\n",
            "122/122 [==============================] - 0s 2ms/step - loss: 1.2829 - acc: 0.4793 - val_loss: 1.2529 - val_acc: 0.4864\n",
            "Epoch 307/1000\n",
            "122/122 [==============================] - 0s 2ms/step - loss: 1.2842 - acc: 0.4751 - val_loss: 1.2555 - val_acc: 0.4853\n",
            "Epoch 308/1000\n",
            "122/122 [==============================] - 0s 2ms/step - loss: 1.2827 - acc: 0.4776 - val_loss: 1.2520 - val_acc: 0.4870\n",
            "Epoch 309/1000\n",
            "122/122 [==============================] - 0s 2ms/step - loss: 1.2803 - acc: 0.4786 - val_loss: 1.2510 - val_acc: 0.4841\n",
            "Epoch 310/1000\n",
            "122/122 [==============================] - 0s 2ms/step - loss: 1.2826 - acc: 0.4732 - val_loss: 1.2660 - val_acc: 0.4853\n",
            "Epoch 311/1000\n",
            "122/122 [==============================] - 0s 2ms/step - loss: 1.2810 - acc: 0.4790 - val_loss: 1.2621 - val_acc: 0.4893\n",
            "Epoch 312/1000\n",
            "122/122 [==============================] - 0s 2ms/step - loss: 1.2831 - acc: 0.4745 - val_loss: 1.2574 - val_acc: 0.4777\n",
            "Epoch 313/1000\n",
            "122/122 [==============================] - 0s 2ms/step - loss: 1.2820 - acc: 0.4755 - val_loss: 1.2523 - val_acc: 0.4818\n",
            "Epoch 314/1000\n",
            "122/122 [==============================] - 0s 2ms/step - loss: 1.2817 - acc: 0.4799 - val_loss: 1.2584 - val_acc: 0.4748\n",
            "Epoch 315/1000\n",
            "122/122 [==============================] - 0s 2ms/step - loss: 1.2830 - acc: 0.4743 - val_loss: 1.2522 - val_acc: 0.4951\n",
            "Epoch 316/1000\n",
            "122/122 [==============================] - 0s 2ms/step - loss: 1.2808 - acc: 0.4765 - val_loss: 1.2512 - val_acc: 0.4783\n",
            "Epoch 317/1000\n",
            "122/122 [==============================] - 0s 2ms/step - loss: 1.2836 - acc: 0.4767 - val_loss: 1.2538 - val_acc: 0.4847\n",
            "Epoch 318/1000\n",
            "122/122 [==============================] - 0s 2ms/step - loss: 1.2815 - acc: 0.4770 - val_loss: 1.2569 - val_acc: 0.4795\n",
            "Epoch 319/1000\n",
            "122/122 [==============================] - 0s 2ms/step - loss: 1.2818 - acc: 0.4773 - val_loss: 1.2510 - val_acc: 0.4766\n",
            "Epoch 320/1000\n",
            "122/122 [==============================] - 0s 2ms/step - loss: 1.2813 - acc: 0.4808 - val_loss: 1.2524 - val_acc: 0.4876\n",
            "Epoch 321/1000\n",
            "122/122 [==============================] - 0s 2ms/step - loss: 1.2791 - acc: 0.4779 - val_loss: 1.2562 - val_acc: 0.4731\n",
            "Epoch 322/1000\n",
            "122/122 [==============================] - 0s 2ms/step - loss: 1.2820 - acc: 0.4773 - val_loss: 1.2516 - val_acc: 0.4916\n",
            "Epoch 323/1000\n",
            "122/122 [==============================] - 0s 2ms/step - loss: 1.2837 - acc: 0.4772 - val_loss: 1.2679 - val_acc: 0.4841\n",
            "Epoch 324/1000\n",
            "122/122 [==============================] - 0s 2ms/step - loss: 1.2821 - acc: 0.4768 - val_loss: 1.2531 - val_acc: 0.4748\n",
            "Epoch 325/1000\n",
            "122/122 [==============================] - 0s 2ms/step - loss: 1.2815 - acc: 0.4800 - val_loss: 1.2582 - val_acc: 0.4714\n",
            "Epoch 326/1000\n",
            "122/122 [==============================] - 0s 2ms/step - loss: 1.2827 - acc: 0.4777 - val_loss: 1.2528 - val_acc: 0.4847\n",
            "Epoch 327/1000\n",
            "122/122 [==============================] - 0s 2ms/step - loss: 1.2800 - acc: 0.4751 - val_loss: 1.2498 - val_acc: 0.4876\n",
            "Epoch 328/1000\n",
            "122/122 [==============================] - 0s 2ms/step - loss: 1.2784 - acc: 0.4781 - val_loss: 1.2568 - val_acc: 0.4824\n",
            "Epoch 329/1000\n",
            "122/122 [==============================] - 0s 2ms/step - loss: 1.2812 - acc: 0.4765 - val_loss: 1.2587 - val_acc: 0.4795\n",
            "Epoch 330/1000\n",
            "122/122 [==============================] - 0s 2ms/step - loss: 1.2809 - acc: 0.4775 - val_loss: 1.2549 - val_acc: 0.4748\n",
            "Epoch 331/1000\n",
            "122/122 [==============================] - 0s 2ms/step - loss: 1.2809 - acc: 0.4777 - val_loss: 1.2539 - val_acc: 0.4858\n",
            "Epoch 332/1000\n",
            "122/122 [==============================] - 0s 2ms/step - loss: 1.2793 - acc: 0.4777 - val_loss: 1.2523 - val_acc: 0.4748\n",
            "Epoch 333/1000\n",
            "122/122 [==============================] - 0s 2ms/step - loss: 1.2806 - acc: 0.4757 - val_loss: 1.2547 - val_acc: 0.4806\n",
            "Epoch 334/1000\n",
            "122/122 [==============================] - 0s 2ms/step - loss: 1.2808 - acc: 0.4775 - val_loss: 1.2535 - val_acc: 0.4777\n",
            "Epoch 335/1000\n",
            "122/122 [==============================] - 0s 2ms/step - loss: 1.2810 - acc: 0.4779 - val_loss: 1.2500 - val_acc: 0.4824\n",
            "Epoch 336/1000\n",
            "122/122 [==============================] - 0s 2ms/step - loss: 1.2789 - acc: 0.4757 - val_loss: 1.2529 - val_acc: 0.4824\n",
            "Epoch 337/1000\n",
            "122/122 [==============================] - 0s 2ms/step - loss: 1.2802 - acc: 0.4780 - val_loss: 1.2552 - val_acc: 0.4800\n",
            "Epoch 338/1000\n",
            "122/122 [==============================] - 0s 2ms/step - loss: 1.2807 - acc: 0.4786 - val_loss: 1.2510 - val_acc: 0.4824\n",
            "Epoch 339/1000\n",
            "122/122 [==============================] - 0s 2ms/step - loss: 1.2798 - acc: 0.4764 - val_loss: 1.2519 - val_acc: 0.4824\n",
            "Epoch 340/1000\n",
            "122/122 [==============================] - 0s 2ms/step - loss: 1.2791 - acc: 0.4780 - val_loss: 1.2548 - val_acc: 0.4853\n",
            "Epoch 341/1000\n",
            "122/122 [==============================] - 0s 2ms/step - loss: 1.2803 - acc: 0.4773 - val_loss: 1.2529 - val_acc: 0.4783\n",
            "Epoch 342/1000\n",
            "122/122 [==============================] - 0s 2ms/step - loss: 1.2803 - acc: 0.4748 - val_loss: 1.2577 - val_acc: 0.4772\n",
            "Epoch 343/1000\n",
            "122/122 [==============================] - 0s 2ms/step - loss: 1.2797 - acc: 0.4768 - val_loss: 1.2551 - val_acc: 0.4951\n",
            "Epoch 344/1000\n",
            "122/122 [==============================] - 0s 2ms/step - loss: 1.2812 - acc: 0.4788 - val_loss: 1.2540 - val_acc: 0.4881\n",
            "Epoch 345/1000\n",
            "122/122 [==============================] - 0s 2ms/step - loss: 1.2803 - acc: 0.4773 - val_loss: 1.2534 - val_acc: 0.4864\n",
            "Epoch 346/1000\n",
            "122/122 [==============================] - 0s 2ms/step - loss: 1.2805 - acc: 0.4773 - val_loss: 1.2509 - val_acc: 0.4847\n",
            "Epoch 347/1000\n",
            "122/122 [==============================] - 0s 2ms/step - loss: 1.2818 - acc: 0.4769 - val_loss: 1.2569 - val_acc: 0.4800\n",
            "Epoch 348/1000\n",
            "122/122 [==============================] - 0s 2ms/step - loss: 1.2781 - acc: 0.4795 - val_loss: 1.2530 - val_acc: 0.4818\n",
            "Epoch 349/1000\n",
            "122/122 [==============================] - 0s 2ms/step - loss: 1.2794 - acc: 0.4802 - val_loss: 1.2515 - val_acc: 0.4772\n",
            "Epoch 350/1000\n",
            "122/122 [==============================] - 0s 2ms/step - loss: 1.2774 - acc: 0.4825 - val_loss: 1.2534 - val_acc: 0.4829\n",
            "Epoch 351/1000\n",
            "122/122 [==============================] - 0s 2ms/step - loss: 1.2782 - acc: 0.4780 - val_loss: 1.2567 - val_acc: 0.4766\n",
            "Epoch 352/1000\n",
            "122/122 [==============================] - 0s 2ms/step - loss: 1.2792 - acc: 0.4809 - val_loss: 1.2503 - val_acc: 0.4847\n",
            "Epoch 353/1000\n",
            "122/122 [==============================] - 0s 2ms/step - loss: 1.2819 - acc: 0.4768 - val_loss: 1.2541 - val_acc: 0.4905\n",
            "Epoch 354/1000\n",
            "122/122 [==============================] - 0s 2ms/step - loss: 1.2788 - acc: 0.4763 - val_loss: 1.2580 - val_acc: 0.4639\n",
            "Epoch 355/1000\n",
            "122/122 [==============================] - 0s 2ms/step - loss: 1.2789 - acc: 0.4791 - val_loss: 1.2498 - val_acc: 0.4853\n",
            "Epoch 356/1000\n",
            "122/122 [==============================] - 0s 2ms/step - loss: 1.2803 - acc: 0.4782 - val_loss: 1.2493 - val_acc: 0.4870\n",
            "Epoch 357/1000\n",
            "122/122 [==============================] - 0s 2ms/step - loss: 1.2801 - acc: 0.4739 - val_loss: 1.2530 - val_acc: 0.4743\n",
            "Epoch 358/1000\n",
            "122/122 [==============================] - 0s 2ms/step - loss: 1.2799 - acc: 0.4804 - val_loss: 1.2592 - val_acc: 0.4714\n",
            "Epoch 359/1000\n",
            "122/122 [==============================] - 0s 2ms/step - loss: 1.2806 - acc: 0.4765 - val_loss: 1.2526 - val_acc: 0.4743\n",
            "Epoch 360/1000\n",
            "122/122 [==============================] - 0s 2ms/step - loss: 1.2774 - acc: 0.4808 - val_loss: 1.2557 - val_acc: 0.4743\n",
            "Epoch 361/1000\n",
            "122/122 [==============================] - 0s 2ms/step - loss: 1.2774 - acc: 0.4813 - val_loss: 1.2537 - val_acc: 0.4737\n",
            "Epoch 362/1000\n",
            "122/122 [==============================] - 0s 2ms/step - loss: 1.2787 - acc: 0.4781 - val_loss: 1.2509 - val_acc: 0.4835\n",
            "Epoch 363/1000\n",
            "122/122 [==============================] - 0s 2ms/step - loss: 1.2793 - acc: 0.4775 - val_loss: 1.2511 - val_acc: 0.4858\n",
            "Epoch 364/1000\n",
            "122/122 [==============================] - 0s 2ms/step - loss: 1.2777 - acc: 0.4800 - val_loss: 1.2537 - val_acc: 0.4696\n",
            "Epoch 365/1000\n",
            "122/122 [==============================] - 0s 2ms/step - loss: 1.2787 - acc: 0.4812 - val_loss: 1.2519 - val_acc: 0.4812\n",
            "Epoch 366/1000\n",
            "122/122 [==============================] - 0s 2ms/step - loss: 1.2781 - acc: 0.4803 - val_loss: 1.2539 - val_acc: 0.4881\n",
            "Epoch 367/1000\n",
            "122/122 [==============================] - 0s 2ms/step - loss: 1.2781 - acc: 0.4796 - val_loss: 1.2508 - val_acc: 0.4847\n",
            "Epoch 368/1000\n",
            "122/122 [==============================] - 0s 2ms/step - loss: 1.2802 - acc: 0.4757 - val_loss: 1.2522 - val_acc: 0.4795\n",
            "Epoch 369/1000\n",
            "122/122 [==============================] - 0s 2ms/step - loss: 1.2779 - acc: 0.4779 - val_loss: 1.2498 - val_acc: 0.4876\n",
            "Epoch 370/1000\n",
            "122/122 [==============================] - 0s 2ms/step - loss: 1.2783 - acc: 0.4826 - val_loss: 1.2569 - val_acc: 0.4772\n",
            "Epoch 371/1000\n",
            "122/122 [==============================] - 0s 2ms/step - loss: 1.2789 - acc: 0.4778 - val_loss: 1.2523 - val_acc: 0.4853\n",
            "Epoch 372/1000\n",
            "122/122 [==============================] - 0s 2ms/step - loss: 1.2789 - acc: 0.4777 - val_loss: 1.2510 - val_acc: 0.4829\n",
            "Epoch 373/1000\n",
            "122/122 [==============================] - 0s 2ms/step - loss: 1.2796 - acc: 0.4777 - val_loss: 1.2531 - val_acc: 0.4719\n",
            "Epoch 374/1000\n",
            "122/122 [==============================] - 0s 2ms/step - loss: 1.2773 - acc: 0.4790 - val_loss: 1.2534 - val_acc: 0.4777\n",
            "Epoch 375/1000\n",
            "122/122 [==============================] - 0s 2ms/step - loss: 1.2781 - acc: 0.4755 - val_loss: 1.2487 - val_acc: 0.4858\n",
            "Epoch 376/1000\n",
            "122/122 [==============================] - 0s 2ms/step - loss: 1.2779 - acc: 0.4763 - val_loss: 1.2512 - val_acc: 0.4864\n",
            "Epoch 377/1000\n",
            "122/122 [==============================] - 0s 2ms/step - loss: 1.2786 - acc: 0.4783 - val_loss: 1.2555 - val_acc: 0.4754\n",
            "Epoch 378/1000\n",
            "122/122 [==============================] - 0s 2ms/step - loss: 1.2778 - acc: 0.4784 - val_loss: 1.2516 - val_acc: 0.4916\n",
            "Epoch 379/1000\n",
            "122/122 [==============================] - 0s 2ms/step - loss: 1.2784 - acc: 0.4800 - val_loss: 1.2505 - val_acc: 0.4864\n",
            "Epoch 380/1000\n",
            "122/122 [==============================] - 0s 2ms/step - loss: 1.2775 - acc: 0.4768 - val_loss: 1.2569 - val_acc: 0.4800\n",
            "Epoch 381/1000\n",
            "122/122 [==============================] - 0s 2ms/step - loss: 1.2781 - acc: 0.4808 - val_loss: 1.2495 - val_acc: 0.4887\n",
            "Epoch 382/1000\n",
            "122/122 [==============================] - 0s 2ms/step - loss: 1.2792 - acc: 0.4789 - val_loss: 1.2615 - val_acc: 0.4696\n",
            "Epoch 383/1000\n",
            "122/122 [==============================] - 0s 2ms/step - loss: 1.2784 - acc: 0.4799 - val_loss: 1.2587 - val_acc: 0.4910\n",
            "Epoch 384/1000\n",
            "122/122 [==============================] - 0s 2ms/step - loss: 1.2775 - acc: 0.4799 - val_loss: 1.2515 - val_acc: 0.4853\n",
            "Epoch 385/1000\n",
            "122/122 [==============================] - 0s 2ms/step - loss: 1.2784 - acc: 0.4782 - val_loss: 1.2491 - val_acc: 0.4806\n",
            "Epoch 386/1000\n",
            "122/122 [==============================] - 0s 2ms/step - loss: 1.2776 - acc: 0.4813 - val_loss: 1.2489 - val_acc: 0.4881\n",
            "Epoch 387/1000\n",
            "122/122 [==============================] - 0s 2ms/step - loss: 1.2768 - acc: 0.4794 - val_loss: 1.2486 - val_acc: 0.4841\n",
            "Epoch 388/1000\n",
            "122/122 [==============================] - 0s 2ms/step - loss: 1.2784 - acc: 0.4805 - val_loss: 1.2532 - val_acc: 0.4858\n",
            "Epoch 389/1000\n",
            "122/122 [==============================] - 0s 2ms/step - loss: 1.2771 - acc: 0.4809 - val_loss: 1.2529 - val_acc: 0.4760\n",
            "Epoch 390/1000\n",
            "122/122 [==============================] - 0s 2ms/step - loss: 1.2797 - acc: 0.4754 - val_loss: 1.2578 - val_acc: 0.4835\n",
            "Epoch 391/1000\n",
            "122/122 [==============================] - 0s 2ms/step - loss: 1.2802 - acc: 0.4741 - val_loss: 1.2513 - val_acc: 0.4818\n",
            "Epoch 392/1000\n",
            "122/122 [==============================] - 0s 2ms/step - loss: 1.2774 - acc: 0.4792 - val_loss: 1.2533 - val_acc: 0.4818\n",
            "Epoch 393/1000\n",
            "122/122 [==============================] - 0s 2ms/step - loss: 1.2774 - acc: 0.4771 - val_loss: 1.2505 - val_acc: 0.4772\n",
            "Epoch 394/1000\n",
            "122/122 [==============================] - 0s 2ms/step - loss: 1.2777 - acc: 0.4773 - val_loss: 1.2500 - val_acc: 0.4818\n",
            "Epoch 395/1000\n",
            "122/122 [==============================] - 0s 2ms/step - loss: 1.2766 - acc: 0.4801 - val_loss: 1.2522 - val_acc: 0.4945\n",
            "Epoch 396/1000\n",
            "122/122 [==============================] - 0s 2ms/step - loss: 1.2774 - acc: 0.4817 - val_loss: 1.2520 - val_acc: 0.4795\n",
            "Epoch 397/1000\n",
            "122/122 [==============================] - 0s 2ms/step - loss: 1.2767 - acc: 0.4791 - val_loss: 1.2513 - val_acc: 0.4864\n",
            "Epoch 398/1000\n",
            "122/122 [==============================] - 0s 2ms/step - loss: 1.2766 - acc: 0.4797 - val_loss: 1.2606 - val_acc: 0.4731\n",
            "Epoch 399/1000\n",
            "122/122 [==============================] - 0s 2ms/step - loss: 1.2772 - acc: 0.4817 - val_loss: 1.2517 - val_acc: 0.4847\n",
            "Epoch 400/1000\n",
            "122/122 [==============================] - 0s 2ms/step - loss: 1.2774 - acc: 0.4790 - val_loss: 1.2560 - val_acc: 0.4766\n",
            "Epoch 401/1000\n",
            "122/122 [==============================] - 0s 2ms/step - loss: 1.2755 - acc: 0.4808 - val_loss: 1.2554 - val_acc: 0.4783\n",
            "Epoch 402/1000\n",
            "122/122 [==============================] - 0s 2ms/step - loss: 1.2757 - acc: 0.4790 - val_loss: 1.2541 - val_acc: 0.4795\n",
            "Epoch 403/1000\n",
            "122/122 [==============================] - 0s 2ms/step - loss: 1.2754 - acc: 0.4779 - val_loss: 1.2516 - val_acc: 0.4841\n",
            "Epoch 404/1000\n",
            "122/122 [==============================] - 0s 2ms/step - loss: 1.2781 - acc: 0.4791 - val_loss: 1.2487 - val_acc: 0.4800\n",
            "Epoch 405/1000\n",
            "122/122 [==============================] - 0s 2ms/step - loss: 1.2770 - acc: 0.4788 - val_loss: 1.2517 - val_acc: 0.4939\n",
            "Epoch 406/1000\n",
            "122/122 [==============================] - 0s 2ms/step - loss: 1.2763 - acc: 0.4817 - val_loss: 1.2474 - val_acc: 0.4887\n",
            "Epoch 407/1000\n",
            "122/122 [==============================] - 0s 2ms/step - loss: 1.2749 - acc: 0.4820 - val_loss: 1.2507 - val_acc: 0.4864\n",
            "Epoch 408/1000\n",
            "122/122 [==============================] - 0s 2ms/step - loss: 1.2756 - acc: 0.4776 - val_loss: 1.2513 - val_acc: 0.4777\n",
            "Epoch 409/1000\n",
            "122/122 [==============================] - 0s 2ms/step - loss: 1.2769 - acc: 0.4801 - val_loss: 1.2567 - val_acc: 0.4772\n",
            "Epoch 410/1000\n",
            "122/122 [==============================] - 0s 2ms/step - loss: 1.2759 - acc: 0.4804 - val_loss: 1.2507 - val_acc: 0.4806\n",
            "Epoch 411/1000\n",
            "122/122 [==============================] - 0s 2ms/step - loss: 1.2767 - acc: 0.4791 - val_loss: 1.2530 - val_acc: 0.4893\n",
            "Epoch 412/1000\n",
            "122/122 [==============================] - 0s 2ms/step - loss: 1.2775 - acc: 0.4806 - val_loss: 1.2506 - val_acc: 0.4858\n",
            "Epoch 413/1000\n",
            "122/122 [==============================] - 0s 2ms/step - loss: 1.2765 - acc: 0.4784 - val_loss: 1.2472 - val_acc: 0.4893\n",
            "Epoch 414/1000\n",
            "122/122 [==============================] - 0s 2ms/step - loss: 1.2765 - acc: 0.4791 - val_loss: 1.2543 - val_acc: 0.4766\n",
            "Epoch 415/1000\n",
            "122/122 [==============================] - 0s 2ms/step - loss: 1.2771 - acc: 0.4775 - val_loss: 1.2506 - val_acc: 0.4800\n",
            "Epoch 416/1000\n",
            "122/122 [==============================] - 0s 2ms/step - loss: 1.2767 - acc: 0.4790 - val_loss: 1.2544 - val_acc: 0.4754\n",
            "Epoch 417/1000\n",
            "122/122 [==============================] - 0s 2ms/step - loss: 1.2754 - acc: 0.4815 - val_loss: 1.2527 - val_acc: 0.4806\n",
            "Epoch 418/1000\n",
            "122/122 [==============================] - 0s 2ms/step - loss: 1.2758 - acc: 0.4795 - val_loss: 1.2532 - val_acc: 0.4824\n",
            "Epoch 419/1000\n",
            "122/122 [==============================] - 0s 2ms/step - loss: 1.2750 - acc: 0.4802 - val_loss: 1.2534 - val_acc: 0.4818\n",
            "Epoch 420/1000\n",
            "122/122 [==============================] - 0s 2ms/step - loss: 1.2762 - acc: 0.4759 - val_loss: 1.2569 - val_acc: 0.4656\n",
            "Epoch 421/1000\n",
            "122/122 [==============================] - 0s 2ms/step - loss: 1.2775 - acc: 0.4793 - val_loss: 1.2459 - val_acc: 0.4933\n",
            "Epoch 422/1000\n",
            "122/122 [==============================] - 0s 2ms/step - loss: 1.2741 - acc: 0.4799 - val_loss: 1.2516 - val_acc: 0.4905\n",
            "Epoch 423/1000\n",
            "122/122 [==============================] - 0s 2ms/step - loss: 1.2770 - acc: 0.4789 - val_loss: 1.2519 - val_acc: 0.4766\n",
            "Epoch 424/1000\n",
            "122/122 [==============================] - 0s 2ms/step - loss: 1.2766 - acc: 0.4786 - val_loss: 1.2478 - val_acc: 0.4870\n",
            "Epoch 425/1000\n",
            "122/122 [==============================] - 0s 2ms/step - loss: 1.2752 - acc: 0.4799 - val_loss: 1.2507 - val_acc: 0.4772\n",
            "Epoch 426/1000\n",
            "122/122 [==============================] - 0s 2ms/step - loss: 1.2749 - acc: 0.4840 - val_loss: 1.2511 - val_acc: 0.4841\n",
            "Epoch 427/1000\n",
            "122/122 [==============================] - 0s 2ms/step - loss: 1.2752 - acc: 0.4826 - val_loss: 1.2510 - val_acc: 0.4847\n",
            "Epoch 428/1000\n",
            "122/122 [==============================] - 0s 2ms/step - loss: 1.2772 - acc: 0.4798 - val_loss: 1.2483 - val_acc: 0.4795\n",
            "Epoch 429/1000\n",
            "122/122 [==============================] - 0s 3ms/step - loss: 1.2771 - acc: 0.4824 - val_loss: 1.2496 - val_acc: 0.4835\n",
            "Epoch 430/1000\n",
            "122/122 [==============================] - 0s 2ms/step - loss: 1.2763 - acc: 0.4800 - val_loss: 1.2488 - val_acc: 0.4893\n",
            "Epoch 431/1000\n",
            "122/122 [==============================] - 0s 2ms/step - loss: 1.2770 - acc: 0.4795 - val_loss: 1.2503 - val_acc: 0.4783\n",
            "Epoch 432/1000\n",
            "122/122 [==============================] - 0s 2ms/step - loss: 1.2753 - acc: 0.4770 - val_loss: 1.2508 - val_acc: 0.4876\n",
            "Epoch 433/1000\n",
            "122/122 [==============================] - 0s 2ms/step - loss: 1.2756 - acc: 0.4806 - val_loss: 1.2503 - val_acc: 0.4748\n",
            "Epoch 434/1000\n",
            "122/122 [==============================] - 0s 2ms/step - loss: 1.2748 - acc: 0.4823 - val_loss: 1.2496 - val_acc: 0.4870\n",
            "Epoch 435/1000\n",
            "122/122 [==============================] - 0s 2ms/step - loss: 1.2748 - acc: 0.4788 - val_loss: 1.2532 - val_acc: 0.4789\n",
            "Epoch 436/1000\n",
            "122/122 [==============================] - 0s 2ms/step - loss: 1.2752 - acc: 0.4813 - val_loss: 1.2503 - val_acc: 0.4853\n",
            "Epoch 437/1000\n",
            "122/122 [==============================] - 0s 2ms/step - loss: 1.2748 - acc: 0.4778 - val_loss: 1.2553 - val_acc: 0.4870\n",
            "Epoch 438/1000\n",
            "122/122 [==============================] - 0s 2ms/step - loss: 1.2740 - acc: 0.4797 - val_loss: 1.2498 - val_acc: 0.4766\n",
            "Epoch 439/1000\n",
            "122/122 [==============================] - 0s 2ms/step - loss: 1.2743 - acc: 0.4778 - val_loss: 1.2545 - val_acc: 0.4835\n",
            "Epoch 440/1000\n",
            "122/122 [==============================] - 0s 2ms/step - loss: 1.2775 - acc: 0.4798 - val_loss: 1.2476 - val_acc: 0.4835\n",
            "Epoch 441/1000\n",
            "122/122 [==============================] - 0s 2ms/step - loss: 1.2751 - acc: 0.4784 - val_loss: 1.2530 - val_acc: 0.4806\n",
            "Epoch 442/1000\n",
            "122/122 [==============================] - 0s 2ms/step - loss: 1.2745 - acc: 0.4786 - val_loss: 1.2509 - val_acc: 0.4835\n",
            "Epoch 443/1000\n",
            "122/122 [==============================] - 0s 2ms/step - loss: 1.2760 - acc: 0.4795 - val_loss: 1.2481 - val_acc: 0.4876\n",
            "Epoch 444/1000\n",
            "122/122 [==============================] - 0s 2ms/step - loss: 1.2771 - acc: 0.4786 - val_loss: 1.2556 - val_acc: 0.4766\n",
            "Epoch 445/1000\n",
            "122/122 [==============================] - 0s 2ms/step - loss: 1.2746 - acc: 0.4782 - val_loss: 1.2517 - val_acc: 0.4812\n",
            "Epoch 446/1000\n",
            "122/122 [==============================] - 0s 2ms/step - loss: 1.2760 - acc: 0.4799 - val_loss: 1.2497 - val_acc: 0.4933\n",
            "Epoch 447/1000\n",
            "122/122 [==============================] - 0s 2ms/step - loss: 1.2728 - acc: 0.4823 - val_loss: 1.2500 - val_acc: 0.4876\n",
            "Epoch 448/1000\n",
            "122/122 [==============================] - 0s 2ms/step - loss: 1.2743 - acc: 0.4830 - val_loss: 1.2642 - val_acc: 0.4783\n",
            "Epoch 449/1000\n",
            "122/122 [==============================] - 0s 2ms/step - loss: 1.2753 - acc: 0.4779 - val_loss: 1.2466 - val_acc: 0.4939\n",
            "Epoch 450/1000\n",
            "122/122 [==============================] - 0s 2ms/step - loss: 1.2738 - acc: 0.4807 - val_loss: 1.2493 - val_acc: 0.4881\n",
            "Epoch 451/1000\n",
            "122/122 [==============================] - 0s 2ms/step - loss: 1.2734 - acc: 0.4801 - val_loss: 1.2524 - val_acc: 0.4777\n",
            "Epoch 452/1000\n",
            "122/122 [==============================] - 0s 2ms/step - loss: 1.2747 - acc: 0.4831 - val_loss: 1.2610 - val_acc: 0.4887\n",
            "Epoch 453/1000\n",
            "122/122 [==============================] - 0s 2ms/step - loss: 1.2756 - acc: 0.4808 - val_loss: 1.2523 - val_acc: 0.4847\n",
            "Epoch 454/1000\n",
            "122/122 [==============================] - 0s 2ms/step - loss: 1.2749 - acc: 0.4820 - val_loss: 1.2489 - val_acc: 0.4858\n",
            "Epoch 455/1000\n",
            "122/122 [==============================] - 0s 2ms/step - loss: 1.2750 - acc: 0.4799 - val_loss: 1.2550 - val_acc: 0.4795\n",
            "Epoch 456/1000\n",
            "122/122 [==============================] - 0s 2ms/step - loss: 1.2739 - acc: 0.4817 - val_loss: 1.2492 - val_acc: 0.4772\n",
            "Epoch 457/1000\n",
            "122/122 [==============================] - 0s 2ms/step - loss: 1.2731 - acc: 0.4803 - val_loss: 1.2464 - val_acc: 0.4795\n",
            "Epoch 458/1000\n",
            "122/122 [==============================] - 0s 2ms/step - loss: 1.2739 - acc: 0.4757 - val_loss: 1.2504 - val_acc: 0.4818\n",
            "Epoch 459/1000\n",
            "122/122 [==============================] - 0s 2ms/step - loss: 1.2743 - acc: 0.4804 - val_loss: 1.2502 - val_acc: 0.4783\n",
            "Epoch 460/1000\n",
            "122/122 [==============================] - 0s 2ms/step - loss: 1.2731 - acc: 0.4809 - val_loss: 1.2488 - val_acc: 0.4812\n",
            "Epoch 461/1000\n",
            "122/122 [==============================] - 0s 2ms/step - loss: 1.2732 - acc: 0.4808 - val_loss: 1.2487 - val_acc: 0.4858\n",
            "Epoch 462/1000\n",
            "122/122 [==============================] - 0s 2ms/step - loss: 1.2743 - acc: 0.4786 - val_loss: 1.2498 - val_acc: 0.4708\n",
            "Epoch 463/1000\n",
            "122/122 [==============================] - 0s 2ms/step - loss: 1.2732 - acc: 0.4784 - val_loss: 1.2565 - val_acc: 0.4876\n",
            "Epoch 464/1000\n",
            "122/122 [==============================] - 0s 2ms/step - loss: 1.2746 - acc: 0.4802 - val_loss: 1.2513 - val_acc: 0.4812\n",
            "Epoch 465/1000\n",
            "122/122 [==============================] - 0s 2ms/step - loss: 1.2731 - acc: 0.4834 - val_loss: 1.2510 - val_acc: 0.4847\n",
            "Epoch 466/1000\n",
            "122/122 [==============================] - 0s 2ms/step - loss: 1.2734 - acc: 0.4813 - val_loss: 1.2486 - val_acc: 0.4795\n",
            "Epoch 467/1000\n",
            "122/122 [==============================] - 0s 2ms/step - loss: 1.2739 - acc: 0.4807 - val_loss: 1.2539 - val_acc: 0.4858\n",
            "Epoch 468/1000\n",
            "122/122 [==============================] - 0s 2ms/step - loss: 1.2735 - acc: 0.4807 - val_loss: 1.2491 - val_acc: 0.4824\n",
            "Epoch 469/1000\n",
            "122/122 [==============================] - 0s 2ms/step - loss: 1.2753 - acc: 0.4808 - val_loss: 1.2606 - val_acc: 0.4708\n",
            "Epoch 470/1000\n",
            "122/122 [==============================] - 0s 2ms/step - loss: 1.2743 - acc: 0.4799 - val_loss: 1.2533 - val_acc: 0.4841\n",
            "Epoch 471/1000\n",
            "122/122 [==============================] - 0s 2ms/step - loss: 1.2756 - acc: 0.4787 - val_loss: 1.2505 - val_acc: 0.4916\n",
            "Epoch 00471: early stopping\n"
          ]
        },
        {
          "output_type": "display_data",
          "data": {
            "image/png": "[encoded data removed]",
            "text/plain": [
              "<Figure size 432x288 with 1 Axes>"
            ]
          },
          "metadata": {
            "needs_background": "light"
          }
        },
        {
          "output_type": "stream",
          "name": "stdout",
          "text": [
            "136/136 [==============================] - 0s 2ms/step - loss: 1.3262 - acc: 0.4779\n",
            "loss= 1.3261643648147583\n",
            "acc= 0.4779088497161865\n"
          ]
        },
        {
          "output_type": "display_data",
          "data": {
            "image/png": "[encoded data removed]",
            "text/plain": [
              "<Figure size 432x288 with 1 Axes>"
            ]
          },
          "metadata": {
            "needs_background": "light"
          }
        }
      ]
    },
    {
      "cell_type": "code",
      "source": [
        ""
      ],
      "metadata": {
        "id": "InAjRTH47VLb"
      },
      "execution_count": null,
      "outputs": []
    }
  ]
}