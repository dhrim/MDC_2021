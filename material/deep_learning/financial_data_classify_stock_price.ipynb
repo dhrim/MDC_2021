{
  "nbformat": 4,
  "nbformat_minor": 0,
  "metadata": {
    "colab": {
      "name": "financial_data_classify_stock_price.ipynb",
      "provenance": [],
      "collapsed_sections": []
    },
    "kernelspec": {
      "name": "python3",
      "display_name": "Python 3"
    },
    "language_info": {
      "name": "python"
    },
    "accelerator": "GPU"
  },
  "cells": [
    {
      "cell_type": "markdown",
      "source": [
        "data from https://www.kaggle.com/mattiuzc/commodity-futures-price-history\n"
      ],
      "metadata": {
        "id": "ohP561iSdS78"
      }
    },
    {
      "cell_type": "markdown",
      "source": [
        "# 데이터 준비"
      ],
      "metadata": {
        "id": "xIEVVEF1frW-"
      }
    },
    {
      "cell_type": "code",
      "source": [
        "!wget https://raw.githubusercontent.com/dhrim/deep_learning_data/master/google.csv"
      ],
      "metadata": {
        "colab": {
          "base_uri": "https://localhost:8080/"
        },
        "id": "QnAkuvXzqICx",
        "outputId": "4405a964-b85d-4615-9734-40214c2e208d"
      },
      "execution_count": null,
      "outputs": [
        {
          "output_type": "stream",
          "name": "stdout",
          "text": [
            "--2022-01-07 08:40:24--  https://raw.githubusercontent.com/dhrim/deep_learning_data/master/google.csv\n",
            "Resolving raw.githubusercontent.com (raw.githubusercontent.com)... 185.199.111.133, 185.199.110.133, 185.199.108.133, ...\n",
            "Connecting to raw.githubusercontent.com (raw.githubusercontent.com)|185.199.111.133|:443... connected.\n",
            "HTTP request sent, awaiting response... 200 OK\n",
            "Length: 474929 (464K) [text/plain]\n",
            "Saving to: ‘google.csv’\n",
            "\n",
            "\rgoogle.csv            0%[                    ]       0  --.-KB/s               \rgoogle.csv          100%[===================>] 463.80K  --.-KB/s    in 0.01s   \n",
            "\n",
            "2022-01-07 08:40:24 (32.8 MB/s) - ‘google.csv’ saved [474929/474929]\n",
            "\n"
          ]
        }
      ]
    },
    {
      "cell_type": "markdown",
      "source": [
        "# 파라매터 설정"
      ],
      "metadata": {
        "id": "37eayrO3y-3K"
      }
    },
    {
      "cell_type": "code",
      "source": [
        "SEQUENCE_LENGTH = 30\n",
        "OFFSET = 1\n",
        "BATCH_SIZE = 32"
      ],
      "metadata": {
        "id": "F2iE0M7Hy6Q6"
      },
      "execution_count": null,
      "outputs": []
    },
    {
      "cell_type": "markdown",
      "source": [
        "# 데이터 로딩"
      ],
      "metadata": {
        "id": "Zu_4OtD_ftsY"
      }
    },
    {
      "cell_type": "code",
      "source": [
        "import numpy as np\n",
        "import pandas as pd\n",
        "import matplotlib.pyplot as plt"
      ],
      "metadata": {
        "id": "JRjPtpGXdW0L"
      },
      "execution_count": null,
      "outputs": []
    },
    {
      "cell_type": "code",
      "source": [
        "df = pd.read_csv(\"google.csv\")\n",
        "df.head()"
      ],
      "metadata": {
        "colab": {
          "base_uri": "https://localhost:8080/",
          "height": 206
        },
        "id": "g4lWKXiCdcP8",
        "outputId": "8964929e-fbb1-45bc-d81e-69d2801dba01"
      },
      "execution_count": null,
      "outputs": [
        {
          "output_type": "execute_result",
          "data": {
            "text/html": [
              "\n",
              "  <div id=\"df-214adc9f-3491-4f07-99d8-5648601423b9\">\n",
              "    <div class=\"colab-df-container\">\n",
              "      <div>\n",
              "<style scoped>\n",
              "    .dataframe tbody tr th:only-of-type {\n",
              "        vertical-align: middle;\n",
              "    }\n",
              "\n",
              "    .dataframe tbody tr th {\n",
              "        vertical-align: top;\n",
              "    }\n",
              "\n",
              "    .dataframe thead th {\n",
              "        text-align: right;\n",
              "    }\n",
              "</style>\n",
              "<table border=\"1\" class=\"dataframe\">\n",
              "  <thead>\n",
              "    <tr style=\"text-align: right;\">\n",
              "      <th></th>\n",
              "      <th>Date</th>\n",
              "      <th>High</th>\n",
              "      <th>Low</th>\n",
              "      <th>Open</th>\n",
              "      <th>Close</th>\n",
              "      <th>Volume</th>\n",
              "      <th>Adj Close</th>\n",
              "    </tr>\n",
              "  </thead>\n",
              "  <tbody>\n",
              "    <tr>\n",
              "      <th>0</th>\n",
              "      <td>2004-08-19</td>\n",
              "      <td>51.835709</td>\n",
              "      <td>47.800831</td>\n",
              "      <td>49.813290</td>\n",
              "      <td>49.982655</td>\n",
              "      <td>44871361.0</td>\n",
              "      <td>49.982655</td>\n",
              "    </tr>\n",
              "    <tr>\n",
              "      <th>1</th>\n",
              "      <td>2004-08-20</td>\n",
              "      <td>54.336334</td>\n",
              "      <td>50.062355</td>\n",
              "      <td>50.316402</td>\n",
              "      <td>53.952770</td>\n",
              "      <td>22942874.0</td>\n",
              "      <td>53.952770</td>\n",
              "    </tr>\n",
              "    <tr>\n",
              "      <th>2</th>\n",
              "      <td>2004-08-23</td>\n",
              "      <td>56.528118</td>\n",
              "      <td>54.321388</td>\n",
              "      <td>55.168217</td>\n",
              "      <td>54.495735</td>\n",
              "      <td>18342897.0</td>\n",
              "      <td>54.495735</td>\n",
              "    </tr>\n",
              "    <tr>\n",
              "      <th>3</th>\n",
              "      <td>2004-08-24</td>\n",
              "      <td>55.591629</td>\n",
              "      <td>51.591621</td>\n",
              "      <td>55.412300</td>\n",
              "      <td>52.239197</td>\n",
              "      <td>15319808.0</td>\n",
              "      <td>52.239197</td>\n",
              "    </tr>\n",
              "    <tr>\n",
              "      <th>4</th>\n",
              "      <td>2004-08-25</td>\n",
              "      <td>53.798351</td>\n",
              "      <td>51.746044</td>\n",
              "      <td>52.284027</td>\n",
              "      <td>52.802086</td>\n",
              "      <td>9232276.0</td>\n",
              "      <td>52.802086</td>\n",
              "    </tr>\n",
              "  </tbody>\n",
              "</table>\n",
              "</div>\n",
              "      <button class=\"colab-df-convert\" onclick=\"convertToInteractive('df-214adc9f-3491-4f07-99d8-5648601423b9')\"\n",
              "              title=\"Convert this dataframe to an interactive table.\"\n",
              "              style=\"display:none;\">\n",
              "        \n",
              "  <svg xmlns=\"http://www.w3.org/2000/svg\" height=\"24px\"viewBox=\"0 0 24 24\"\n",
              "       width=\"24px\">\n",
              "    <path d=\"M0 0h24v24H0V0z\" fill=\"none\"/>\n",
              "    <path d=\"M18.56 5.44l.94 2.06.94-2.06 2.06-.94-2.06-.94-.94-2.06-.94 2.06-2.06.94zm-11 1L8.5 8.5l.94-2.06 2.06-.94-2.06-.94L8.5 2.5l-.94 2.06-2.06.94zm10 10l.94 2.06.94-2.06 2.06-.94-2.06-.94-.94-2.06-.94 2.06-2.06.94z\"/><path d=\"M17.41 7.96l-1.37-1.37c-.4-.4-.92-.59-1.43-.59-.52 0-1.04.2-1.43.59L10.3 9.45l-7.72 7.72c-.78.78-.78 2.05 0 2.83L4 21.41c.39.39.9.59 1.41.59.51 0 1.02-.2 1.41-.59l7.78-7.78 2.81-2.81c.8-.78.8-2.07 0-2.86zM5.41 20L4 18.59l7.72-7.72 1.47 1.35L5.41 20z\"/>\n",
              "  </svg>\n",
              "      </button>\n",
              "      \n",
              "  <style>\n",
              "    .colab-df-container {\n",
              "      display:flex;\n",
              "      flex-wrap:wrap;\n",
              "      gap: 12px;\n",
              "    }\n",
              "\n",
              "    .colab-df-convert {\n",
              "      background-color: #E8F0FE;\n",
              "      border: none;\n",
              "      border-radius: 50%;\n",
              "      cursor: pointer;\n",
              "      display: none;\n",
              "      fill: #1967D2;\n",
              "      height: 32px;\n",
              "      padding: 0 0 0 0;\n",
              "      width: 32px;\n",
              "    }\n",
              "\n",
              "    .colab-df-convert:hover {\n",
              "      background-color: #E2EBFA;\n",
              "      box-shadow: 0px 1px 2px rgba(60, 64, 67, 0.3), 0px 1px 3px 1px rgba(60, 64, 67, 0.15);\n",
              "      fill: #174EA6;\n",
              "    }\n",
              "\n",
              "    [theme=dark] .colab-df-convert {\n",
              "      background-color: #3B4455;\n",
              "      fill: #D2E3FC;\n",
              "    }\n",
              "\n",
              "    [theme=dark] .colab-df-convert:hover {\n",
              "      background-color: #434B5C;\n",
              "      box-shadow: 0px 1px 3px 1px rgba(0, 0, 0, 0.15);\n",
              "      filter: drop-shadow(0px 1px 2px rgba(0, 0, 0, 0.3));\n",
              "      fill: #FFFFFF;\n",
              "    }\n",
              "  </style>\n",
              "\n",
              "      <script>\n",
              "        const buttonEl =\n",
              "          document.querySelector('#df-214adc9f-3491-4f07-99d8-5648601423b9 button.colab-df-convert');\n",
              "        buttonEl.style.display =\n",
              "          google.colab.kernel.accessAllowed ? 'block' : 'none';\n",
              "\n",
              "        async function convertToInteractive(key) {\n",
              "          const element = document.querySelector('#df-214adc9f-3491-4f07-99d8-5648601423b9');\n",
              "          const dataTable =\n",
              "            await google.colab.kernel.invokeFunction('convertToInteractive',\n",
              "                                                     [key], {});\n",
              "          if (!dataTable) return;\n",
              "\n",
              "          const docLinkHtml = 'Like what you see? Visit the ' +\n",
              "            '<a target=\"_blank\" href=https://colab.research.google.com/notebooks/data_table.ipynb>data table notebook</a>'\n",
              "            + ' to learn more about interactive tables.';\n",
              "          element.innerHTML = '';\n",
              "          dataTable['output_type'] = 'display_data';\n",
              "          await google.colab.output.renderOutput(dataTable, element);\n",
              "          const docLink = document.createElement('div');\n",
              "          docLink.innerHTML = docLinkHtml;\n",
              "          element.appendChild(docLink);\n",
              "        }\n",
              "      </script>\n",
              "    </div>\n",
              "  </div>\n",
              "  "
            ],
            "text/plain": [
              "         Date       High        Low  ...      Close      Volume  Adj Close\n",
              "0  2004-08-19  51.835709  47.800831  ...  49.982655  44871361.0  49.982655\n",
              "1  2004-08-20  54.336334  50.062355  ...  53.952770  22942874.0  53.952770\n",
              "2  2004-08-23  56.528118  54.321388  ...  54.495735  18342897.0  54.495735\n",
              "3  2004-08-24  55.591629  51.591621  ...  52.239197  15319808.0  52.239197\n",
              "4  2004-08-25  53.798351  51.746044  ...  52.802086   9232276.0  52.802086\n",
              "\n",
              "[5 rows x 7 columns]"
            ]
          },
          "metadata": {},
          "execution_count": 62
        }
      ]
    },
    {
      "cell_type": "code",
      "source": [
        "print(len(df))"
      ],
      "metadata": {
        "colab": {
          "base_uri": "https://localhost:8080/"
        },
        "id": "er07xkbpdnLf",
        "outputId": "5d79489a-ad70-4580-ff0f-8a9903afcc42"
      },
      "execution_count": null,
      "outputs": [
        {
          "output_type": "stream",
          "name": "stdout",
          "text": [
            "4317\n"
          ]
        }
      ]
    },
    {
      "cell_type": "markdown",
      "source": [
        "# 결측치 처리"
      ],
      "metadata": {
        "id": "kh7oOvIifwgm"
      }
    },
    {
      "cell_type": "code",
      "source": [
        "df.info()"
      ],
      "metadata": {
        "colab": {
          "base_uri": "https://localhost:8080/"
        },
        "id": "suMkYKdTduGY",
        "outputId": "5f030672-896d-4865-f0a1-92d891a686ac"
      },
      "execution_count": null,
      "outputs": [
        {
          "output_type": "stream",
          "name": "stdout",
          "text": [
            "<class 'pandas.core.frame.DataFrame'>\n",
            "RangeIndex: 4317 entries, 0 to 4316\n",
            "Data columns (total 7 columns):\n",
            " #   Column     Non-Null Count  Dtype  \n",
            "---  ------     --------------  -----  \n",
            " 0   Date       4317 non-null   object \n",
            " 1   High       4317 non-null   float64\n",
            " 2   Low        4317 non-null   float64\n",
            " 3   Open       4317 non-null   float64\n",
            " 4   Close      4317 non-null   float64\n",
            " 5   Volume     4317 non-null   float64\n",
            " 6   Adj Close  4317 non-null   float64\n",
            "dtypes: float64(6), object(1)\n",
            "memory usage: 236.2+ KB\n"
          ]
        }
      ]
    },
    {
      "cell_type": "code",
      "source": [
        "df.isnull().sum()"
      ],
      "metadata": {
        "colab": {
          "base_uri": "https://localhost:8080/"
        },
        "id": "8VlYB3fEd0bM",
        "outputId": "8b80c439-969b-44ed-f860-cba2c4af1835"
      },
      "execution_count": null,
      "outputs": [
        {
          "output_type": "execute_result",
          "data": {
            "text/plain": [
              "Date         0\n",
              "High         0\n",
              "Low          0\n",
              "Open         0\n",
              "Close        0\n",
              "Volume       0\n",
              "Adj Close    0\n",
              "dtype: int64"
            ]
          },
          "metadata": {},
          "execution_count": 32
        }
      ]
    },
    {
      "cell_type": "markdown",
      "source": [
        "# 정렬 순서 확인"
      ],
      "metadata": {
        "id": "t3J2t4Ymf0UF"
      }
    },
    {
      "cell_type": "code",
      "source": [
        "df.sort_values(by=[\"Date\"])"
      ],
      "metadata": {
        "colab": {
          "base_uri": "https://localhost:8080/",
          "height": 424
        },
        "id": "_ms5GTSxew67",
        "outputId": "c7f1a47f-5e88-4896-ef23-2139ef345236"
      },
      "execution_count": null,
      "outputs": [
        {
          "output_type": "execute_result",
          "data": {
            "text/html": [
              "\n",
              "  <div id=\"df-272766d8-045b-4cd0-a4e2-35cbec750e2c\">\n",
              "    <div class=\"colab-df-container\">\n",
              "      <div>\n",
              "<style scoped>\n",
              "    .dataframe tbody tr th:only-of-type {\n",
              "        vertical-align: middle;\n",
              "    }\n",
              "\n",
              "    .dataframe tbody tr th {\n",
              "        vertical-align: top;\n",
              "    }\n",
              "\n",
              "    .dataframe thead th {\n",
              "        text-align: right;\n",
              "    }\n",
              "</style>\n",
              "<table border=\"1\" class=\"dataframe\">\n",
              "  <thead>\n",
              "    <tr style=\"text-align: right;\">\n",
              "      <th></th>\n",
              "      <th>Date</th>\n",
              "      <th>High</th>\n",
              "      <th>Low</th>\n",
              "      <th>Open</th>\n",
              "      <th>Close</th>\n",
              "      <th>Volume</th>\n",
              "      <th>Adj Close</th>\n",
              "    </tr>\n",
              "  </thead>\n",
              "  <tbody>\n",
              "    <tr>\n",
              "      <th>0</th>\n",
              "      <td>2004-08-19</td>\n",
              "      <td>51.835709</td>\n",
              "      <td>47.800831</td>\n",
              "      <td>49.813290</td>\n",
              "      <td>49.982655</td>\n",
              "      <td>44871361.0</td>\n",
              "      <td>49.982655</td>\n",
              "    </tr>\n",
              "    <tr>\n",
              "      <th>1</th>\n",
              "      <td>2004-08-20</td>\n",
              "      <td>54.336334</td>\n",
              "      <td>50.062355</td>\n",
              "      <td>50.316402</td>\n",
              "      <td>53.952770</td>\n",
              "      <td>22942874.0</td>\n",
              "      <td>53.952770</td>\n",
              "    </tr>\n",
              "    <tr>\n",
              "      <th>2</th>\n",
              "      <td>2004-08-23</td>\n",
              "      <td>56.528118</td>\n",
              "      <td>54.321388</td>\n",
              "      <td>55.168217</td>\n",
              "      <td>54.495735</td>\n",
              "      <td>18342897.0</td>\n",
              "      <td>54.495735</td>\n",
              "    </tr>\n",
              "    <tr>\n",
              "      <th>3</th>\n",
              "      <td>2004-08-24</td>\n",
              "      <td>55.591629</td>\n",
              "      <td>51.591621</td>\n",
              "      <td>55.412300</td>\n",
              "      <td>52.239197</td>\n",
              "      <td>15319808.0</td>\n",
              "      <td>52.239197</td>\n",
              "    </tr>\n",
              "    <tr>\n",
              "      <th>4</th>\n",
              "      <td>2004-08-25</td>\n",
              "      <td>53.798351</td>\n",
              "      <td>51.746044</td>\n",
              "      <td>52.284027</td>\n",
              "      <td>52.802086</td>\n",
              "      <td>9232276.0</td>\n",
              "      <td>52.802086</td>\n",
              "    </tr>\n",
              "    <tr>\n",
              "      <th>...</th>\n",
              "      <td>...</td>\n",
              "      <td>...</td>\n",
              "      <td>...</td>\n",
              "      <td>...</td>\n",
              "      <td>...</td>\n",
              "      <td>...</td>\n",
              "      <td>...</td>\n",
              "    </tr>\n",
              "    <tr>\n",
              "      <th>4312</th>\n",
              "      <td>2021-10-05</td>\n",
              "      <td>2747.239990</td>\n",
              "      <td>2680.000000</td>\n",
              "      <td>2680.000000</td>\n",
              "      <td>2723.540039</td>\n",
              "      <td>1206300.0</td>\n",
              "      <td>2723.540039</td>\n",
              "    </tr>\n",
              "    <tr>\n",
              "      <th>4313</th>\n",
              "      <td>2021-10-06</td>\n",
              "      <td>2757.040039</td>\n",
              "      <td>2689.729980</td>\n",
              "      <td>2692.510010</td>\n",
              "      <td>2747.080078</td>\n",
              "      <td>988200.0</td>\n",
              "      <td>2747.080078</td>\n",
              "    </tr>\n",
              "    <tr>\n",
              "      <th>4314</th>\n",
              "      <td>2021-10-07</td>\n",
              "      <td>2803.089111</td>\n",
              "      <td>2771.260010</td>\n",
              "      <td>2777.260010</td>\n",
              "      <td>2783.709961</td>\n",
              "      <td>912500.0</td>\n",
              "      <td>2783.709961</td>\n",
              "    </tr>\n",
              "    <tr>\n",
              "      <th>4315</th>\n",
              "      <td>2021-10-08</td>\n",
              "      <td>2806.340088</td>\n",
              "      <td>2788.586914</td>\n",
              "      <td>2798.120117</td>\n",
              "      <td>2801.120117</td>\n",
              "      <td>946200.0</td>\n",
              "      <td>2801.120117</td>\n",
              "    </tr>\n",
              "    <tr>\n",
              "      <th>4316</th>\n",
              "      <td>2021-10-11</td>\n",
              "      <td>2815.272949</td>\n",
              "      <td>2776.129883</td>\n",
              "      <td>2796.000000</td>\n",
              "      <td>2776.949951</td>\n",
              "      <td>828700.0</td>\n",
              "      <td>2776.949951</td>\n",
              "    </tr>\n",
              "  </tbody>\n",
              "</table>\n",
              "<p>4317 rows × 7 columns</p>\n",
              "</div>\n",
              "      <button class=\"colab-df-convert\" onclick=\"convertToInteractive('df-272766d8-045b-4cd0-a4e2-35cbec750e2c')\"\n",
              "              title=\"Convert this dataframe to an interactive table.\"\n",
              "              style=\"display:none;\">\n",
              "        \n",
              "  <svg xmlns=\"http://www.w3.org/2000/svg\" height=\"24px\"viewBox=\"0 0 24 24\"\n",
              "       width=\"24px\">\n",
              "    <path d=\"M0 0h24v24H0V0z\" fill=\"none\"/>\n",
              "    <path d=\"M18.56 5.44l.94 2.06.94-2.06 2.06-.94-2.06-.94-.94-2.06-.94 2.06-2.06.94zm-11 1L8.5 8.5l.94-2.06 2.06-.94-2.06-.94L8.5 2.5l-.94 2.06-2.06.94zm10 10l.94 2.06.94-2.06 2.06-.94-2.06-.94-.94-2.06-.94 2.06-2.06.94z\"/><path d=\"M17.41 7.96l-1.37-1.37c-.4-.4-.92-.59-1.43-.59-.52 0-1.04.2-1.43.59L10.3 9.45l-7.72 7.72c-.78.78-.78 2.05 0 2.83L4 21.41c.39.39.9.59 1.41.59.51 0 1.02-.2 1.41-.59l7.78-7.78 2.81-2.81c.8-.78.8-2.07 0-2.86zM5.41 20L4 18.59l7.72-7.72 1.47 1.35L5.41 20z\"/>\n",
              "  </svg>\n",
              "      </button>\n",
              "      \n",
              "  <style>\n",
              "    .colab-df-container {\n",
              "      display:flex;\n",
              "      flex-wrap:wrap;\n",
              "      gap: 12px;\n",
              "    }\n",
              "\n",
              "    .colab-df-convert {\n",
              "      background-color: #E8F0FE;\n",
              "      border: none;\n",
              "      border-radius: 50%;\n",
              "      cursor: pointer;\n",
              "      display: none;\n",
              "      fill: #1967D2;\n",
              "      height: 32px;\n",
              "      padding: 0 0 0 0;\n",
              "      width: 32px;\n",
              "    }\n",
              "\n",
              "    .colab-df-convert:hover {\n",
              "      background-color: #E2EBFA;\n",
              "      box-shadow: 0px 1px 2px rgba(60, 64, 67, 0.3), 0px 1px 3px 1px rgba(60, 64, 67, 0.15);\n",
              "      fill: #174EA6;\n",
              "    }\n",
              "\n",
              "    [theme=dark] .colab-df-convert {\n",
              "      background-color: #3B4455;\n",
              "      fill: #D2E3FC;\n",
              "    }\n",
              "\n",
              "    [theme=dark] .colab-df-convert:hover {\n",
              "      background-color: #434B5C;\n",
              "      box-shadow: 0px 1px 3px 1px rgba(0, 0, 0, 0.15);\n",
              "      filter: drop-shadow(0px 1px 2px rgba(0, 0, 0, 0.3));\n",
              "      fill: #FFFFFF;\n",
              "    }\n",
              "  </style>\n",
              "\n",
              "      <script>\n",
              "        const buttonEl =\n",
              "          document.querySelector('#df-272766d8-045b-4cd0-a4e2-35cbec750e2c button.colab-df-convert');\n",
              "        buttonEl.style.display =\n",
              "          google.colab.kernel.accessAllowed ? 'block' : 'none';\n",
              "\n",
              "        async function convertToInteractive(key) {\n",
              "          const element = document.querySelector('#df-272766d8-045b-4cd0-a4e2-35cbec750e2c');\n",
              "          const dataTable =\n",
              "            await google.colab.kernel.invokeFunction('convertToInteractive',\n",
              "                                                     [key], {});\n",
              "          if (!dataTable) return;\n",
              "\n",
              "          const docLinkHtml = 'Like what you see? Visit the ' +\n",
              "            '<a target=\"_blank\" href=https://colab.research.google.com/notebooks/data_table.ipynb>data table notebook</a>'\n",
              "            + ' to learn more about interactive tables.';\n",
              "          element.innerHTML = '';\n",
              "          dataTable['output_type'] = 'display_data';\n",
              "          await google.colab.output.renderOutput(dataTable, element);\n",
              "          const docLink = document.createElement('div');\n",
              "          docLink.innerHTML = docLinkHtml;\n",
              "          element.appendChild(docLink);\n",
              "        }\n",
              "      </script>\n",
              "    </div>\n",
              "  </div>\n",
              "  "
            ],
            "text/plain": [
              "            Date         High  ...      Volume    Adj Close\n",
              "0     2004-08-19    51.835709  ...  44871361.0    49.982655\n",
              "1     2004-08-20    54.336334  ...  22942874.0    53.952770\n",
              "2     2004-08-23    56.528118  ...  18342897.0    54.495735\n",
              "3     2004-08-24    55.591629  ...  15319808.0    52.239197\n",
              "4     2004-08-25    53.798351  ...   9232276.0    52.802086\n",
              "...          ...          ...  ...         ...          ...\n",
              "4312  2021-10-05  2747.239990  ...   1206300.0  2723.540039\n",
              "4313  2021-10-06  2757.040039  ...    988200.0  2747.080078\n",
              "4314  2021-10-07  2803.089111  ...    912500.0  2783.709961\n",
              "4315  2021-10-08  2806.340088  ...    946200.0  2801.120117\n",
              "4316  2021-10-11  2815.272949  ...    828700.0  2776.949951\n",
              "\n",
              "[4317 rows x 7 columns]"
            ]
          },
          "metadata": {},
          "execution_count": 33
        }
      ]
    },
    {
      "cell_type": "code",
      "source": [
        "sorted_index = df.sort_values(by=[\"Date\"]).index"
      ],
      "metadata": {
        "id": "ZRs14Udwe5SR"
      },
      "execution_count": null,
      "outputs": []
    },
    {
      "cell_type": "code",
      "source": [
        "print(sorted_index)\n",
        "print(sorted_index - df.index)\n",
        "print(sum(sorted_index - df.index))"
      ],
      "metadata": {
        "colab": {
          "base_uri": "https://localhost:8080/"
        },
        "id": "ybOz2otyfTjE",
        "outputId": "9264e125-904c-4062-cc99-cec20523c9f8"
      },
      "execution_count": null,
      "outputs": [
        {
          "output_type": "stream",
          "name": "stdout",
          "text": [
            "Int64Index([   0,    1,    2,    3,    4,    5,    6,    7,    8,    9,\n",
            "            ...\n",
            "            4307, 4308, 4309, 4310, 4311, 4312, 4313, 4314, 4315, 4316],\n",
            "           dtype='int64', length=4317)\n",
            "Int64Index([0, 0, 0, 0, 0, 0, 0, 0, 0, 0,\n",
            "            ...\n",
            "            0, 0, 0, 0, 0, 0, 0, 0, 0, 0],\n",
            "           dtype='int64', length=4317)\n",
            "0\n"
          ]
        }
      ]
    },
    {
      "cell_type": "code",
      "source": [
        "print(df['Close'] - df['Adj Close'])\n",
        "print(sum(df['Close'] - df['Adj Close']))"
      ],
      "metadata": {
        "colab": {
          "base_uri": "https://localhost:8080/"
        },
        "id": "bzUbYVEJhVab",
        "outputId": "4e055c16-1a90-4b05-82de-315b53897afb"
      },
      "execution_count": null,
      "outputs": [
        {
          "output_type": "stream",
          "name": "stdout",
          "text": [
            "0       0.0\n",
            "1       0.0\n",
            "2       0.0\n",
            "3       0.0\n",
            "4       0.0\n",
            "       ... \n",
            "4312    0.0\n",
            "4313    0.0\n",
            "4314    0.0\n",
            "4315    0.0\n",
            "4316    0.0\n",
            "Length: 4317, dtype: float64\n",
            "0.0\n"
          ]
        }
      ]
    },
    {
      "cell_type": "code",
      "source": [
        "df.drop(columns=[\"Date\", \"Adj Close\"], inplace=True)"
      ],
      "metadata": {
        "id": "RU6dxvFnhqTB"
      },
      "execution_count": null,
      "outputs": []
    },
    {
      "cell_type": "code",
      "source": [
        "for i in range(len(df.columns)):\n",
        "    print(df.columns[i])\n",
        "    plt.hist(df.iloc[:,i], bins=1000)\n",
        "    plt.show()"
      ],
      "metadata": {
        "colab": {
          "base_uri": "https://localhost:8080/",
          "height": 1000
        },
        "id": "LF73-1VEitmC",
        "outputId": "7b012e9d-5fa5-4bdd-d26a-4dc9592b0400"
      },
      "execution_count": null,
      "outputs": [
        {
          "output_type": "stream",
          "name": "stdout",
          "text": [
            "High\n"
          ]
        },
        {
          "output_type": "display_data",
          "data": {
            "image/png": "[encoded data removed]",
            "text/plain": [
              "<Figure size 432x288 with 1 Axes>"
            ]
          },
          "metadata": {
            "needs_background": "light"
          }
        },
        {
          "output_type": "stream",
          "name": "stdout",
          "text": [
            "Low\n"
          ]
        },
        {
          "output_type": "display_data",
          "data": {
            "image/png": "[encoded data removed]",
            "text/plain": [
              "<Figure size 432x288 with 1 Axes>"
            ]
          },
          "metadata": {
            "needs_background": "light"
          }
        },
        {
          "output_type": "stream",
          "name": "stdout",
          "text": [
            "Open\n"
          ]
        },
        {
          "output_type": "display_data",
          "data": {
            "image/png": "[encoded data removed]",
            "text/plain": [
              "<Figure size 432x288 with 1 Axes>"
            ]
          },
          "metadata": {
            "needs_background": "light"
          }
        },
        {
          "output_type": "stream",
          "name": "stdout",
          "text": [
            "Close\n"
          ]
        },
        {
          "output_type": "display_data",
          "data": {
            "image/png": "[encoded data removed]",
            "text/plain": [
              "<Figure size 432x288 with 1 Axes>"
            ]
          },
          "metadata": {
            "needs_background": "light"
          }
        },
        {
          "output_type": "stream",
          "name": "stdout",
          "text": [
            "Volume\n"
          ]
        },
        {
          "output_type": "display_data",
          "data": {
            "image/png": "[encoded data removed]",
            "text/plain": [
              "<Figure size 432x288 with 1 Axes>"
            ]
          },
          "metadata": {
            "needs_background": "light"
          }
        }
      ]
    },
    {
      "cell_type": "code",
      "source": [
        "plt.figure(figsize=(14,3))\n",
        "plt.plot(df.iloc[:,0])\n",
        "plt.show()\n",
        "\n",
        "plt.figure(figsize=(14,3))\n",
        "plt.plot(df.iloc[:,4])\n",
        "plt.show()\n"
      ],
      "metadata": {
        "colab": {
          "base_uri": "https://localhost:8080/",
          "height": 416
        },
        "id": "M7QQvslWo4qS",
        "outputId": "47450410-7c24-41a2-e447-4e300d913389"
      },
      "execution_count": null,
      "outputs": [
        {
          "output_type": "display_data",
          "data": {
            "image/png": "[encoded data removed]",
            "text/plain": [
              "<Figure size 1008x216 with 1 Axes>"
            ]
          },
          "metadata": {
            "needs_background": "light"
          }
        },
        {
          "output_type": "display_data",
          "data": {
            "image/png": "[encoded data removed]",
            "text/plain": [
              "<Figure size 1008x216 with 1 Axes>"
            ]
          },
          "metadata": {
            "needs_background": "light"
          }
        }
      ]
    },
    {
      "cell_type": "code",
      "source": [
        "TARGET_COLUMN_INDEX = df.columns.get_loc(\"Close\")\n",
        "print(TARGET_COLUMN_INDEX)"
      ],
      "metadata": {
        "colab": {
          "base_uri": "https://localhost:8080/"
        },
        "id": "jiJKzc-2noLo",
        "outputId": "a296575f-5a29-4d9d-9704-11f1e40b7299"
      },
      "execution_count": null,
      "outputs": [
        {
          "output_type": "stream",
          "name": "stdout",
          "text": [
            "3\n"
          ]
        }
      ]
    },
    {
      "cell_type": "code",
      "source": [
        "raw_data = df.to_numpy()\n",
        "print(raw_data.shape)"
      ],
      "metadata": {
        "colab": {
          "base_uri": "https://localhost:8080/"
        },
        "id": "FadYdDdcgt47",
        "outputId": "cdc02c80-3977-42a9-8fa2-76e94de6a9c5"
      },
      "execution_count": null,
      "outputs": [
        {
          "output_type": "stream",
          "name": "stdout",
          "text": [
            "(4317, 5)\n"
          ]
        }
      ]
    },
    {
      "cell_type": "code",
      "source": [
        "print(raw_data[:5])"
      ],
      "metadata": {
        "colab": {
          "base_uri": "https://localhost:8080/"
        },
        "id": "GplAuvN3g30t",
        "outputId": "a8e9444f-22f5-40b9-d726-a5747e66dc74"
      },
      "execution_count": null,
      "outputs": [
        {
          "output_type": "stream",
          "name": "stdout",
          "text": [
            "[[5.18357086e+01 4.78008308e+01 4.98132896e+01 4.99826546e+01\n",
            "  4.48713610e+07]\n",
            " [5.43363342e+01 5.00623550e+01 5.03164024e+01 5.39527702e+01\n",
            "  2.29428740e+07]\n",
            " [5.65281181e+01 5.43213882e+01 5.51682167e+01 5.44957352e+01\n",
            "  1.83428970e+07]\n",
            " [5.55916290e+01 5.15916214e+01 5.54123001e+01 5.22391968e+01\n",
            "  1.53198080e+07]\n",
            " [5.37983513e+01 5.17460442e+01 5.22840271e+01 5.28020859e+01\n",
            "  9.23227600e+06]]\n"
          ]
        }
      ]
    },
    {
      "cell_type": "markdown",
      "source": [
        "# normalize"
      ],
      "metadata": {
        "id": "ESYLyhWeiRrf"
      }
    },
    {
      "cell_type": "code",
      "source": [
        "maxs = raw_data.max(axis=0)\n",
        "print(maxs)\n",
        "mins = raw_data.min(axis=0)\n",
        "print(mins)"
      ],
      "metadata": {
        "colab": {
          "base_uri": "https://localhost:8080/"
        },
        "id": "NmEhUiEAhxOG",
        "outputId": "85da8461-76dc-447b-ce23-41f7a3d06c07"
      },
      "execution_count": null,
      "outputs": [
        {
          "output_type": "stream",
          "name": "stdout",
          "text": [
            "[2.93640991e+03 2.91229004e+03 2.91898999e+03 2.91684009e+03\n",
            " 8.25416310e+07]\n",
            "[  50.68003845   47.80083084   49.40980148   49.81826782 7922.        ]\n"
          ]
        }
      ]
    },
    {
      "cell_type": "code",
      "source": [
        "normalized = (raw_data - mins) / (maxs - mins)\n",
        "print(normalized[:5])"
      ],
      "metadata": {
        "colab": {
          "base_uri": "https://localhost:8080/"
        },
        "id": "SwjTIY6aiHQo",
        "outputId": "53c96340-14b1-4c19-bbbb-810d4619aa56"
      },
      "execution_count": null,
      "outputs": [
        {
          "output_type": "stream",
          "name": "stdout",
          "text": [
            "[[4.00477597e-04 0.00000000e+00 1.40608776e-04 5.73371113e-05\n",
            "  5.43577158e-01]\n",
            " [1.26702635e-03 7.89503481e-04 3.15935047e-04 1.44208962e-03\n",
            "  2.77885876e-01]\n",
            " [2.02655132e-03 2.27634211e-03 2.00670999e-03 1.63147253e-03\n",
            "  2.22151352e-01]\n",
            " [1.70202714e-03 1.32337401e-03 2.09176891e-03 8.44405487e-04\n",
            "  1.85522815e-01]\n",
            " [1.08059762e-03 1.37728336e-03 1.00161885e-03 1.04073783e-03\n",
            "  1.11764685e-01]]\n"
          ]
        }
      ]
    },
    {
      "cell_type": "code",
      "source": [
        "preprocessed = normalized"
      ],
      "metadata": {
        "id": "35hCAbte1YO3"
      },
      "execution_count": null,
      "outputs": []
    },
    {
      "cell_type": "markdown",
      "source": [
        "# by Data Sampling"
      ],
      "metadata": {
        "id": "c0LQqW08jtvW"
      }
    },
    {
      "cell_type": "code",
      "source": [
        "numbers = preprocessed"
      ],
      "metadata": {
        "id": "fnzuwFSkkFF2"
      },
      "execution_count": null,
      "outputs": []
    },
    {
      "cell_type": "code",
      "source": [
        "raw_x = []\n",
        "raw_y = []\n",
        "\n",
        "for i in range(len(numbers)):\n",
        "  if i+SEQUENCE_LENGTH+OFFSET >= len(numbers): break\n",
        "  raw_x.append(numbers[i:i+SEQUENCE_LENGTH,:])\n",
        "  last_value = numbers[i+SEQUENCE_LENGTH-1,TARGET_COLUMN_INDEX]\n",
        "  next_value = numbers[i+SEQUENCE_LENGTH+OFFSET-1,TARGET_COLUMN_INDEX]\n",
        "  raw_y.append([ int(next_value > last_value) ])\n",
        "#              0         1              \n",
        "#              01234567890123456789\n",
        "# numbers[3] = 12345678901234567890\n",
        "#                 i = 3\n",
        "#                 <-x->   = [3:8] = 45678\n",
        "#              last_value = [8]   = 9\n",
        "#              next_value = [9]   = 1\n",
        "#                      y = (next_value>last_value) = (1>9) = False -> 0\n",
        "\n"
      ],
      "metadata": {
        "id": "HWLyLSMLkWcG"
      },
      "execution_count": null,
      "outputs": []
    },
    {
      "cell_type": "code",
      "source": [
        "print(raw_x[0])\n",
        "print(raw_y[0])"
      ],
      "metadata": {
        "colab": {
          "base_uri": "https://localhost:8080/"
        },
        "id": "2dT4KkJrkRbo",
        "outputId": "b46f00ab-c433-4792-e072-360c9a062fe0"
      },
      "execution_count": null,
      "outputs": [
        {
          "output_type": "stream",
          "name": "stdout",
          "text": [
            "[[4.00477597e-04 0.00000000e+00 1.40608776e-04 5.73371113e-05\n",
            "  5.43577158e-01]\n",
            " [1.26702635e-03 7.89503481e-04 3.15935047e-04 1.44208962e-03\n",
            "  2.77885876e-01]\n",
            " [2.02655132e-03 2.27634211e-03 2.00670999e-03 1.63147253e-03\n",
            "  2.22151352e-01]\n",
            " [1.70202714e-03 1.32337401e-03 2.09176891e-03 8.44405487e-04\n",
            "  1.85522815e-01]\n",
            " [1.08059762e-03 1.37728336e-03 1.00161885e-03 1.04073783e-03\n",
            "  1.11764685e-01]\n",
            " [1.07196682e-03 1.51292436e-03 9.99882712e-04 1.37259134e-03\n",
            "  8.62762390e-02]\n",
            " [1.18762140e-03 1.69204068e-03 1.54669388e-03 1.06679918e-03\n",
            "  7.55253226e-02]\n",
            " [6.47323247e-04 1.05209068e-03 1.05716738e-03 3.47491395e-04\n",
            "  6.31690501e-02]\n",
            " [3.40060673e-04 1.07817641e-03 5.39866607e-04 4.10040245e-04\n",
            "  5.97735163e-02]\n",
            " [2.12322448e-04 6.45166352e-04 6.09302925e-04 4.16992335e-05\n",
            "  1.11151736e-01]\n",
            " [1.08750200e-04 5.18220153e-04 0.00000000e+00 2.60618879e-04\n",
            "  1.83956388e-01]\n",
            " [0.00000000e+00 5.84301426e-04 3.05519533e-04 0.00000000e+00\n",
            "  6.26290768e-02]\n",
            " [4.48804263e-05 6.34732326e-04 3.15935047e-04 2.72781377e-04\n",
            "  7.10911708e-02]\n",
            " [2.22679673e-04 7.89503481e-04 2.69065898e-04 3.97877747e-04\n",
            "  6.05980764e-02]\n",
            " [1.67440700e-04 8.76452804e-04 5.79792523e-04 3.99615437e-04\n",
            "  4.93509628e-02]\n",
            " [8.32025547e-04 9.28622931e-04 4.18352719e-04 9.24327243e-04\n",
            "  1.05803024e-01]\n",
            " [1.15137177e-03 1.82594379e-03 1.29151578e-03 1.30135670e-03\n",
            "  9.53974939e-02]\n",
            " [1.77107487e-03 1.88333026e-03 1.43385937e-03 1.99460180e-03\n",
            "  1.31734150e-01]\n",
            " [2.15601597e-03 2.47632648e-03 1.97372730e-03 2.08321201e-03\n",
            "  1.30323393e-01]\n",
            " [2.42702892e-03 2.72848099e-03 2.28271912e-03 2.42549167e-03\n",
            "  1.12710856e-01]\n",
            " [2.71875499e-03 3.05889002e-03 2.64378850e-03 3.03707599e-03\n",
            "  1.15221030e-01]\n",
            " [3.42822159e-03 3.61884627e-03 3.08297358e-03 3.36198141e-03\n",
            "  1.29296952e-01]\n",
            " [3.22452994e-03 3.74753170e-03 3.57944332e-03 3.09788715e-03\n",
            "  8.79059004e-02]\n",
            " [3.09506529e-03 3.62580184e-03 3.16108927e-03 3.19171042e-03\n",
            "  9.21965472e-02]\n",
            " [3.60601951e-03 3.66232027e-03 3.41106028e-03 3.61564953e-03\n",
            "  1.03815812e-01]\n",
            " [3.85976954e-03 4.13880432e-03 3.77560062e-03 3.44364085e-03\n",
            "  1.10971736e-01]\n",
            " [3.30393489e-03 3.79796260e-03 3.53604512e-03 3.17086081e-03\n",
            "  8.59259821e-02]\n",
            " [4.42941294e-03 4.21706017e-03 3.83809370e-03 4.66507447e-03\n",
            "  2.05995783e-01]\n",
            " [5.74477388e-03 5.26393450e-03 4.77548333e-03 5.39828111e-03\n",
            "  3.71406742e-01]\n",
            " [5.27524724e-03 5.74563490e-03 5.33097387e-03 5.14113762e-03\n",
            "  1.67392186e-01]]\n",
            "[0]\n"
          ]
        }
      ]
    },
    {
      "cell_type": "code",
      "source": [
        "x = np.array(raw_x)\n",
        "y = np.array(raw_y)\n",
        "print(x.shape)\n",
        "print(y.shape)\n",
        "\n",
        "from sklearn.model_selection import train_test_split\n",
        "\n",
        "train_x, test_x, train_y, test_y = train_test_split(x, y, test_size=0.1, shuffle=True)\n",
        "\n",
        "\n",
        "print(\"Training Data:\")\n",
        "print(train_x.shape)\n",
        "print(train_y.shape)\n",
        "\n",
        "print(\"Test Data:\")\n",
        "print(test_x.shape)\n",
        "print(test_y.shape)\n"
      ],
      "metadata": {
        "colab": {
          "base_uri": "https://localhost:8080/"
        },
        "id": "EAJWL5bckiLk",
        "outputId": "ed95a164-ca29-44a1-f838-13dca8c3487d"
      },
      "execution_count": null,
      "outputs": [
        {
          "output_type": "stream",
          "name": "stdout",
          "text": [
            "(4286, 30, 5)\n",
            "(4286, 1)\n",
            "Training Data:\n",
            "(3857, 30, 5)\n",
            "(3857, 1)\n",
            "Test Data:\n",
            "(429, 30, 5)\n",
            "(429, 1)\n"
          ]
        }
      ]
    },
    {
      "cell_type": "code",
      "source": [
        "print(\"train_x[0]\\n\", train_x[0])\n",
        "print()\n",
        "print(\"train_y[0]\\n\", train_y[0])\n",
        "\n",
        "plt.plot(train_x[0].T[0], '.')\n",
        "plt.plot(train_x[0].T[1], '.')\n",
        "# plt.plot([len(train_x[0])], train_y[0], 'x')\n",
        "plt.show()\n",
        "print(\"상승\" if train_y[0]==1 else \"하락\")"
      ],
      "metadata": {
        "colab": {
          "base_uri": "https://localhost:8080/",
          "height": 873
        },
        "id": "u_70o6bWknIN",
        "outputId": "a61d1cf2-a7ad-48b7-a944-857102ee2b03"
      },
      "execution_count": null,
      "outputs": [
        {
          "output_type": "stream",
          "name": "stdout",
          "text": [
            "train_x[0]\n",
            " [[0.1667952  0.16764596 0.16714021 0.16733455 0.02723373]\n",
            " [0.16655698 0.16755031 0.16716278 0.16672295 0.02891691]\n",
            " [0.16651038 0.16603912 0.16739713 0.16583512 0.03330484]\n",
            " [0.16600805 0.16573653 0.16521683 0.16562315 0.04067239]\n",
            " [0.16610126 0.16590695 0.16528975 0.16647798 0.02888772]\n",
            " [0.16535555 0.1660965  0.16630178 0.16633202 0.0274794 ]\n",
            " [0.16714044 0.16765985 0.16848729 0.16850907 0.03465722]\n",
            " [0.16926538 0.16904062 0.16869558 0.16994595 0.03596581]\n",
            " [0.17099158 0.17036748 0.16959131 0.17107876 0.04499708]\n",
            " [0.17082068 0.170284   0.17154421 0.16979825 0.04154072]\n",
            " [0.16937412 0.16921104 0.17018499 0.16852469 0.03873625]\n",
            " [0.16822621 0.16727902 0.16946112 0.16693145 0.05250083]\n",
            " [0.16795002 0.16799549 0.16748219 0.16904942 0.03887002]\n",
            " [0.16899781 0.16910322 0.16901327 0.16850732 0.03725738]\n",
            " [0.1697211  0.16747902 0.16884487 0.17109439 0.05366591]\n",
            " [0.17093633 0.17096395 0.17039331 0.17134981 0.04041942]\n",
            " [0.17252098 0.17251513 0.17170044 0.17385174 0.07923707]\n",
            " [0.1750464  0.17549228 0.17509241 0.17636758 0.0417791 ]\n",
            " [0.17494974 0.1760105  0.17633011 0.17580117 0.01776222]\n",
            " [0.17559879 0.17611312 0.17616346 0.17677762 0.0324438 ]\n",
            " [0.17581973 0.17685219 0.17720328 0.17694094 0.03808438]\n",
            " [0.17585771 0.1761705  0.1772623  0.17538766 0.02997011]\n",
            " [0.17594403 0.17569053 0.17585622 0.1773423  0.03293269]\n",
            " [0.17538301 0.17603833 0.17641517 0.17602357 0.04420657]\n",
            " [0.17524147 0.17545926 0.17633532 0.17461275 0.04044374]\n",
            " [0.17557461 0.17572183 0.17598988 0.17675331 0.04293933]\n",
            " [0.17917027 0.17828163 0.17807123 0.18049577 0.06199181]\n",
            " [0.18048737 0.18039103 0.18171665 0.18090756 0.05444913]\n",
            " [0.17995223 0.1790468  0.18127226 0.17899809 0.05060604]\n",
            " [0.17906498 0.17847118 0.1805154  0.17898766 0.05204112]]\n",
            "\n",
            "train_y[0]\n",
            " [1]\n"
          ]
        },
        {
          "output_type": "display_data",
          "data": {
            "image/png": "[encoded data removed]",
            "text/plain": [
              "<Figure size 432x288 with 1 Axes>"
            ]
          },
          "metadata": {
            "needs_background": "light"
          }
        },
        {
          "output_type": "stream",
          "name": "stdout",
          "text": [
            "상승\n"
          ]
        }
      ]
    },
    {
      "cell_type": "code",
      "source": [
        "from tensorflow import keras\n",
        "from tensorflow.keras.layers import Dense, RepeatVector, Flatten\n",
        "from tensorflow.keras.layers import Bidirectional, LSTM, GRU\n",
        "\n",
        "input_shape = train_x.shape[1:]\n",
        "\n",
        "model = keras.Sequential()\n",
        "model.add(LSTM(128, input_shape=input_shape))\n",
        "model.add(Flatten())\n",
        "model.add(Dense(2))\n",
        "model.compile(loss=\"sparse_categorical_crossentropy\", optimizer=\"adam\", metrics=[\"acc\"])\n",
        "model.summary()\n",
        "\n",
        "history = model.fit(train_x, train_y, epochs=10, verbose=0, validation_split=0.1, batch_size=BATCH_SIZE)\n",
        "\n",
        "\n",
        "plt.plot(history.history['loss'])\n",
        "plt.plot(history.history['val_loss'])\n",
        "plt.show()\n",
        "\n",
        "\n",
        "\n",
        "loss, acc = model.evaluate(test_x, test_y)\n",
        "print(\"loss=\", loss)\n",
        "print(\"acc=\", acc)\n",
        "\n",
        "\n",
        "y_ = model.predict(test_x)\n",
        "predicted = np.argmax(y_, axis=-1)\n",
        "plt.plot(test_y[:30], 'o')\n",
        "plt.plot(predicted[:30], '.')\n",
        "plt.show()"
      ],
      "metadata": {
        "colab": {
          "base_uri": "https://localhost:8080/",
          "height": 829
        },
        "id": "H_DZZN8oj16K",
        "outputId": "f954ec43-c5b4-4f88-e287-d5fd00fddfca"
      },
      "execution_count": null,
      "outputs": [
        {
          "output_type": "stream",
          "name": "stdout",
          "text": [
            "Model: \"sequential_1\"\n",
            "_________________________________________________________________\n",
            " Layer (type)                Output Shape              Param #   \n",
            "=================================================================\n",
            " lstm_1 (LSTM)               (None, 128)               68608     \n",
            "                                                                 \n",
            " flatten_1 (Flatten)         (None, 128)               0         \n",
            "                                                                 \n",
            " dense_1 (Dense)             (None, 2)                 258       \n",
            "                                                                 \n",
            "=================================================================\n",
            "Total params: 68,866\n",
            "Trainable params: 68,866\n",
            "Non-trainable params: 0\n",
            "_________________________________________________________________\n"
          ]
        },
        {
          "output_type": "display_data",
          "data": {
            "image/png": "[encoded data removed]",
            "text/plain": [
              "<Figure size 432x288 with 1 Axes>"
            ]
          },
          "metadata": {
            "needs_background": "light"
          }
        },
        {
          "output_type": "stream",
          "name": "stdout",
          "text": [
            "14/14 [==============================] - 0s 3ms/step - loss: 0.6935 - acc: 0.5198\n",
            "loss= 0.6934603452682495\n",
            "acc= 0.5198135375976562\n"
          ]
        },
        {
          "output_type": "display_data",
          "data": {
            "image/png": "[encoded data removed]",
            "text/plain": [
              "<Figure size 432x288 with 1 Axes>"
            ]
          },
          "metadata": {
            "needs_background": "light"
          }
        }
      ]
    },
    {
      "cell_type": "markdown",
      "source": [
        "# by Keras Sequence Data Generator"
      ],
      "metadata": {
        "id": "VxPXZ2m106W7"
      }
    },
    {
      "cell_type": "code",
      "source": [
        "from tensorflow.keras.utils import Sequence\n",
        "\n",
        "class DataGenerator(Sequence):\n",
        "\n",
        "    def __init__(self, numbers, \n",
        "                 sequence_length=SEQUENCE_LENGTH, \n",
        "                 offset=OFFSET, \n",
        "                 batch_size=BATCH_SIZE, \n",
        "                 shuffle=True,\n",
        "                 validation_split=0.0,\n",
        "                 test_split=0.0,\n",
        "                 indexes=None):\n",
        "        self.numbers = numbers\n",
        "        self.sequence_length = sequence_length\n",
        "        self.offset = offset\n",
        "        self.batch_size = batch_size\n",
        "        self.shuffle = shuffle\n",
        "        self.indexes, self.valid_indexes, self.test_indexes = self._prepare_indexes(validation_split, test_split, indexes)\n",
        "\n",
        "    def __len__(self):\n",
        "        return int(np.floor(len(self.indexes) / self.batch_size))\n",
        "\n",
        "    def __getitem__(self, index):\n",
        "        indexes = self.indexes[index*self.batch_size:(index+1)*self.batch_size]\n",
        "        return self._generate_data(indexes)\n",
        "\n",
        "    def on_epoch_end(self):\n",
        "        self._shuffle_index()\n",
        "\n",
        "    def _prepare_indexes(self, validation_split, test_split, indexes):\n",
        "        if indexes is not None:\n",
        "            return indexes, None, None\n",
        "\n",
        "        data_count = len(self.numbers) - (self.sequence_length+self.offset) + 1\n",
        "        all_index = np.arange(data_count)\n",
        "        np.random.shuffle(all_index)\n",
        "        if validation_split+test_split==0.0:\n",
        "            return all_index, None, None\n",
        "\n",
        "        valid_i = int(len(all_index)*(1-validation_split-test_split))\n",
        "        test_i = int(len(all_index)*(1-test_split))\n",
        "\n",
        "        return all_index[:valid_i], all_index[valid_i:test_i], all_index[test_i:]\n",
        "        \n",
        "    def _shuffle_index(self):\n",
        "        if self.shuffle == True:\n",
        "            np.random.shuffle(self.indexes)\n",
        "\n",
        "    def _generate_data(self, indexes):\n",
        "        X = np.empty((len(indexes), self.sequence_length, self.numbers.shape[-1]))\n",
        "        Y = np.empty((len(indexes),))\n",
        "\n",
        "        for i, index in enumerate(indexes):\n",
        "            X[i] = self.numbers[index:index+self.sequence_length]\n",
        "            last_value = self.numbers[index+self.sequence_length-1, TARGET_COLUMN_INDEX]\n",
        "            next_value = self.numbers[index+self.sequence_length+self.offset-1, TARGET_COLUMN_INDEX]\n",
        "            Y[i] = int(next_value > last_value)\n",
        "        return X, Y\n",
        "\n",
        "    def get_all_data(self):\n",
        "        return self._generate_data(self.indexes)        \n",
        "\n",
        "    def subset(self, type):\n",
        "        if type==\"train\":\n",
        "            return DataGenerator(self.numbers, indexes=self.indexes)\n",
        "        elif type==\"validation\" or type==\"valid\":\n",
        "            return DataGenerator(self.numbers, indexes=self.valid_indexes)\n",
        "        elif type==\"test\":\n",
        "            return DataGenerator(self.numbers, indexes=self.test_indexes)\n",
        "        else:\n",
        "            print(\"invalid type {}\".format(type))"
      ],
      "metadata": {
        "id": "BoYqpgU-oTg1"
      },
      "execution_count": null,
      "outputs": []
    },
    {
      "cell_type": "code",
      "source": [
        "data_generator = DataGenerator(preprocessed, validation_split=0.1, test_split=0.1)\n",
        "train_data_generator = data_generator.subset(\"train\")\n",
        "valid_data_generator = data_generator.subset(\"valid\")\n",
        "test_data_generator = data_generator.subset(\"test\")\n",
        "\n",
        "batch_x, batch_y = train_data_generator.__getitem__(0)\n",
        "print(batch_x.shape)\n",
        "print(batch_y.shape)"
      ],
      "metadata": {
        "colab": {
          "base_uri": "https://localhost:8080/"
        },
        "id": "syHJzNvixQ-y",
        "outputId": "1ce77479-13c1-4f41-add6-915a623959bb"
      },
      "execution_count": null,
      "outputs": [
        {
          "output_type": "stream",
          "name": "stdout",
          "text": [
            "(32, 30, 5)\n",
            "(32,)\n"
          ]
        }
      ]
    },
    {
      "cell_type": "code",
      "source": [
        "from tensorflow import keras\n",
        "from tensorflow.keras.layers import Dense, RepeatVector, Flatten\n",
        "from tensorflow.keras.layers import Bidirectional, LSTM, GRU\n",
        "\n",
        "input_shape = train_x.shape[1:]\n",
        "\n",
        "model = keras.Sequential()\n",
        "model.add(LSTM(128, input_shape=input_shape))\n",
        "model.add(Flatten())\n",
        "model.add(Dense(2))\n",
        "model.compile(loss=\"sparse_categorical_crossentropy\", optimizer=\"adam\", metrics=[\"acc\"])\n",
        "model.summary()\n",
        "\n",
        "history = model.fit(train_data_generator, epochs=10, verbose=0, validation_data=valid_data_generator)\n",
        "\n",
        "\n",
        "plt.plot(history.history['loss'])\n",
        "plt.plot(history.history['val_loss'])\n",
        "plt.show()\n",
        "\n",
        "\n",
        "\n",
        "loss, acc = model.evaluate(test_data_generator)\n",
        "print(\"loss=\", loss)\n",
        "print(\"acc=\", acc)\n",
        "\n",
        "\n",
        "y_ = model.predict(test_data_generator)\n",
        "predicted = np.argmax(y_, axis=-1)\n",
        "plt.plot(test_y[:30], 'o')\n",
        "plt.plot(predicted[:30], '.')\n",
        "plt.show()"
      ],
      "metadata": {
        "colab": {
          "base_uri": "https://localhost:8080/",
          "height": 827
        },
        "id": "7LSyMSgzzS3E",
        "outputId": "baad9346-ca81-463a-cda0-e3990900d8e7"
      },
      "execution_count": null,
      "outputs": [
        {
          "output_type": "stream",
          "name": "stdout",
          "text": [
            "Model: \"sequential_2\"\n",
            "_________________________________________________________________\n",
            " Layer (type)                Output Shape              Param #   \n",
            "=================================================================\n",
            " lstm_2 (LSTM)               (None, 128)               68608     \n",
            "                                                                 \n",
            " flatten_2 (Flatten)         (None, 128)               0         \n",
            "                                                                 \n",
            " dense_2 (Dense)             (None, 2)                 258       \n",
            "                                                                 \n",
            "=================================================================\n",
            "Total params: 68,866\n",
            "Trainable params: 68,866\n",
            "Non-trainable params: 0\n",
            "_________________________________________________________________\n"
          ]
        },
        {
          "output_type": "display_data",
          "data": {
            "image/png": "[encoded data removed]",
            "text/plain": [
              "<Figure size 432x288 with 1 Axes>"
            ]
          },
          "metadata": {
            "needs_background": "light"
          }
        },
        {
          "output_type": "stream",
          "name": "stdout",
          "text": [
            "13/13 [==============================] - 0s 4ms/step - loss: 0.6923 - acc: 0.4904\n",
            "loss= 0.6923303604125977\n",
            "acc= 0.49038460850715637\n"
          ]
        },
        {
          "output_type": "display_data",
          "data": {
            "image/png": "[encoded data removed]",
            "text/plain": [
              "<Figure size 432x288 with 1 Axes>"
            ]
          },
          "metadata": {
            "needs_background": "light"
          }
        }
      ]
    },
    {
      "cell_type": "code",
      "source": [
        ""
      ],
      "metadata": {
        "id": "wgjTkOVwq1e-"
      },
      "execution_count": null,
      "outputs": []
    }
  ]
}