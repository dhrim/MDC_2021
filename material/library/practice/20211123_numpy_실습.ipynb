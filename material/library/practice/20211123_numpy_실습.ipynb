{
  "nbformat": 4,
  "nbformat_minor": 0,
  "metadata": {
    "colab": {
      "name": "20211123_numpy_실습.ipynb",
      "provenance": [],
      "collapsed_sections": []
    },
    "kernelspec": {
      "name": "python3",
      "display_name": "Python 3"
    },
    "language_info": {
      "name": "python"
    }
  },
  "cells": [
    {
      "cell_type": "code",
      "metadata": {
        "colab": {
          "base_uri": "https://localhost:8080/"
        },
        "id": "5EeYdWydL6qZ",
        "outputId": "1a4dd5d6-afcd-4be7-f433-485798e2bceb"
      },
      "source": [
        "!pip install numpy"
      ],
      "execution_count": null,
      "outputs": [
        {
          "output_type": "stream",
          "name": "stdout",
          "text": [
            "Requirement already satisfied: numpy in /usr/local/lib/python3.7/dist-packages (1.19.5)\n"
          ]
        }
      ]
    },
    {
      "cell_type": "code",
      "metadata": {
        "id": "ffIZaExtL1K6"
      },
      "source": [
        "import numpy as np"
      ],
      "execution_count": null,
      "outputs": []
    },
    {
      "cell_type": "code",
      "metadata": {
        "colab": {
          "base_uri": "https://localhost:8080/"
        },
        "id": "aj7Ilq6RL2wq",
        "outputId": "9340c60e-ba93-4154-d892-6d717711ffc8"
      },
      "source": [
        "a = np.arange(12)\n",
        "print(a)"
      ],
      "execution_count": null,
      "outputs": [
        {
          "output_type": "stream",
          "name": "stdout",
          "text": [
            "[ 0  1  2  3  4  5  6  7  8  9 10 11]\n"
          ]
        }
      ]
    },
    {
      "cell_type": "code",
      "metadata": {
        "colab": {
          "base_uri": "https://localhost:8080/"
        },
        "id": "pyHCUGl7MOhd",
        "outputId": "bee454d4-90b1-473e-deeb-0386b56a3289"
      },
      "source": [
        "print(a[11])"
      ],
      "execution_count": null,
      "outputs": [
        {
          "output_type": "stream",
          "name": "stdout",
          "text": [
            "11\n"
          ]
        }
      ]
    },
    {
      "cell_type": "code",
      "metadata": {
        "colab": {
          "base_uri": "https://localhost:8080/"
        },
        "id": "WlpEVAYrMVRy",
        "outputId": "ff6bb163-e4db-4b96-9d63-5681f21f71e8"
      },
      "source": [
        "print(a[len(a)-1])"
      ],
      "execution_count": null,
      "outputs": [
        {
          "output_type": "stream",
          "name": "stdout",
          "text": [
            "11\n"
          ]
        }
      ]
    },
    {
      "cell_type": "code",
      "metadata": {
        "colab": {
          "base_uri": "https://localhost:8080/"
        },
        "id": "HBACwyEKMacU",
        "outputId": "8bc96a85-89cb-44ce-c905-68e0567f6de8"
      },
      "source": [
        "print(a[-1])"
      ],
      "execution_count": null,
      "outputs": [
        {
          "output_type": "stream",
          "name": "stdout",
          "text": [
            "11\n"
          ]
        }
      ]
    },
    {
      "cell_type": "code",
      "metadata": {
        "colab": {
          "base_uri": "https://localhost:8080/"
        },
        "id": "18S0cN-xMf2Y",
        "outputId": "90ddea2a-771c-4878-d2b6-3be0492cddea"
      },
      "source": [
        "print(a[-2])"
      ],
      "execution_count": null,
      "outputs": [
        {
          "output_type": "stream",
          "name": "stdout",
          "text": [
            "10\n"
          ]
        }
      ]
    },
    {
      "cell_type": "code",
      "metadata": {
        "colab": {
          "base_uri": "https://localhost:8080/"
        },
        "id": "mGWFJqNJMjRd",
        "outputId": "d5516513-2cf2-43ff-d77f-83e754534018"
      },
      "source": [
        "print(a[10:])\n",
        "\n",
        "print(a[-2:])\n"
      ],
      "execution_count": null,
      "outputs": [
        {
          "output_type": "stream",
          "name": "stdout",
          "text": [
            "[10 11]\n",
            "[10 11]\n"
          ]
        }
      ]
    },
    {
      "cell_type": "code",
      "metadata": {
        "colab": {
          "base_uri": "https://localhost:8080/"
        },
        "id": "HqQFezuNNGRa",
        "outputId": "2b971ed7-57f0-41ac-e016-21ebe56923a7"
      },
      "source": [
        "a = np.arange(12)\n",
        "print(a)\n",
        "print(a[-4:])\n",
        "print(np.sum(a[-4:]))"
      ],
      "execution_count": null,
      "outputs": [
        {
          "output_type": "stream",
          "name": "stdout",
          "text": [
            "[ 0  1  2  3  4  5  6  7  8  9 10 11]\n",
            "[ 8  9 10 11]\n",
            "38\n"
          ]
        }
      ]
    },
    {
      "cell_type": "code",
      "metadata": {
        "colab": {
          "base_uri": "https://localhost:8080/"
        },
        "id": "DmlSU7RqNM5p",
        "outputId": "befc11b7-3d04-4af2-dfc8-3c84a39b22a9"
      },
      "source": [
        "print(5*1)\n",
        "print(5*True)\n",
        "print(5*False)\n"
      ],
      "execution_count": null,
      "outputs": [
        {
          "output_type": "stream",
          "name": "stdout",
          "text": [
            "5\n",
            "5\n",
            "0\n"
          ]
        }
      ]
    },
    {
      "cell_type": "code",
      "metadata": {
        "colab": {
          "base_uri": "https://localhost:8080/"
        },
        "id": "8eI_ubL6NYYJ",
        "outputId": "88f8029b-9d6f-4aa2-f4e7-285948e26770"
      },
      "source": [
        "a = np.array([0,1,2,3,4,5])\n",
        "# b = np.array([0,0,0,1,1,1])\n",
        "b = np.array([False, False, False, True, True, True])\n",
        "\n",
        "print(a*b)"
      ],
      "execution_count": null,
      "outputs": [
        {
          "output_type": "stream",
          "name": "stdout",
          "text": [
            "[0 0 0 3 4 5]\n"
          ]
        }
      ]
    },
    {
      "cell_type": "code",
      "metadata": {
        "colab": {
          "base_uri": "https://localhost:8080/"
        },
        "id": "V-SnmsQxNrhx",
        "outputId": "295f607f-76f9-43e0-869f-7b41ca464ba2"
      },
      "source": [
        "a = np.arange(12)\n",
        "\n",
        "mask = a%2==0\n",
        "print(a)\n",
        "print(mask)"
      ],
      "execution_count": null,
      "outputs": [
        {
          "output_type": "stream",
          "name": "stdout",
          "text": [
            "[ 0  1  2  3  4  5  6  7  8  9 10 11]\n",
            "[ True False  True False  True False  True False  True False  True False]\n"
          ]
        }
      ]
    },
    {
      "cell_type": "code",
      "metadata": {
        "colab": {
          "base_uri": "https://localhost:8080/"
        },
        "id": "d3f0947IOqmF",
        "outputId": "662310c2-4f4e-4927-c452-f939d33f9eba"
      },
      "source": [
        "a = np.arange(25).reshape((5,5))\n",
        "mask = np.array([[1,1,1,1,1],\n",
        "                 [1,0,0,0,1],\n",
        "                 [1,0,0,0,1],\n",
        "                 [1,0,0,0,1],\n",
        "                 [1,1,1,1,1]])\n",
        "print(a)\n",
        "print(mask)\n",
        "print(a*mask)\n",
        "print(np.sum(a*mask))"
      ],
      "execution_count": null,
      "outputs": [
        {
          "output_type": "stream",
          "name": "stdout",
          "text": [
            "[[ 0  1  2  3  4]\n",
            " [ 5  6  7  8  9]\n",
            " [10 11 12 13 14]\n",
            " [15 16 17 18 19]\n",
            " [20 21 22 23 24]]\n",
            "[[1 1 1 1 1]\n",
            " [1 0 0 0 1]\n",
            " [1 0 0 0 1]\n",
            " [1 0 0 0 1]\n",
            " [1 1 1 1 1]]\n",
            "[[ 0  1  2  3  4]\n",
            " [ 5  0  0  0  9]\n",
            " [10  0  0  0 14]\n",
            " [15  0  0  0 19]\n",
            " [20 21 22 23 24]]\n",
            "192\n"
          ]
        }
      ]
    },
    {
      "cell_type": "code",
      "metadata": {
        "colab": {
          "base_uri": "https://localhost:8080/"
        },
        "id": "R03CxFFqP2pd",
        "outputId": "c91f3511-1a85-42e6-b545-2b6bab1e961b"
      },
      "source": [
        "a = np.arange(25).reshape((5,5))\n",
        "mask = np.ones_like(a)\n",
        "mask[1:-1,1:-1] = 0\n",
        "\n",
        "\n",
        "print(a)\n",
        "print(mask)\n",
        "print(a*mask)\n",
        "print(np.sum(a*mask))"
      ],
      "execution_count": null,
      "outputs": [
        {
          "output_type": "stream",
          "name": "stdout",
          "text": [
            "[[ 0  1  2  3  4]\n",
            " [ 5  6  7  8  9]\n",
            " [10 11 12 13 14]\n",
            " [15 16 17 18 19]\n",
            " [20 21 22 23 24]]\n",
            "[[1 1 1 1 1]\n",
            " [1 0 0 0 1]\n",
            " [1 0 0 0 1]\n",
            " [1 0 0 0 1]\n",
            " [1 1 1 1 1]]\n",
            "[[ 0  1  2  3  4]\n",
            " [ 5  0  0  0  9]\n",
            " [10  0  0  0 14]\n",
            " [15  0  0  0 19]\n",
            " [20 21 22 23 24]]\n",
            "192\n"
          ]
        }
      ]
    },
    {
      "cell_type": "code",
      "metadata": {
        "colab": {
          "base_uri": "https://localhost:8080/"
        },
        "id": "lh6FJJUSPiid",
        "outputId": "854ef110-1f93-4894-8abd-c49fb7f67bbd"
      },
      "source": [
        "a = np.arange(25).reshape((5,5))\n",
        "mask = np.eye(5)\n",
        "\n",
        "print(a)\n",
        "print(mask)\n",
        "print(a*mask)\n",
        "print(np.sum(a*mask))"
      ],
      "execution_count": null,
      "outputs": [
        {
          "output_type": "stream",
          "name": "stdout",
          "text": [
            "[[ 0  1  2  3  4]\n",
            " [ 5  6  7  8  9]\n",
            " [10 11 12 13 14]\n",
            " [15 16 17 18 19]\n",
            " [20 21 22 23 24]]\n",
            "[[1. 0. 0. 0. 0.]\n",
            " [0. 1. 0. 0. 0.]\n",
            " [0. 0. 1. 0. 0.]\n",
            " [0. 0. 0. 1. 0.]\n",
            " [0. 0. 0. 0. 1.]]\n",
            "[[ 0.  0.  0.  0.  0.]\n",
            " [ 0.  6.  0.  0.  0.]\n",
            " [ 0.  0. 12.  0.  0.]\n",
            " [ 0.  0.  0. 18.  0.]\n",
            " [ 0.  0.  0.  0. 24.]]\n",
            "60.0\n"
          ]
        }
      ]
    },
    {
      "cell_type": "code",
      "metadata": {
        "colab": {
          "base_uri": "https://localhost:8080/"
        },
        "id": "bes1rMICVAJS",
        "outputId": "46c33d0c-94b6-4b0d-812f-507ab7887cd1"
      },
      "source": [
        "a = [0,1,2,3,4]\n",
        "print(a)\n",
        "a.insert(3,99)\n",
        "print(a)"
      ],
      "execution_count": null,
      "outputs": [
        {
          "output_type": "stream",
          "name": "stdout",
          "text": [
            "[0, 1, 2, 3, 4]\n",
            "[0, 1, 2, 99, 3, 4]\n"
          ]
        }
      ]
    },
    {
      "cell_type": "code",
      "metadata": {
        "colab": {
          "base_uri": "https://localhost:8080/"
        },
        "id": "47xxIXEMUuCH",
        "outputId": "41647093-db10-4eee-c20c-ef964c8e4f6a"
      },
      "source": [
        "a = np.arange(4)\n",
        "print(a)\n",
        "print(a.shape)\n",
        "\n",
        "a = a.reshape((4,1))\n",
        "print(a)\n",
        "print(a.shape)\n",
        "\n",
        "a = a.reshape((1,4))\n",
        "print(a)\n",
        "print(a.shape)\n",
        "\n",
        "a = a.reshape((2,2))\n",
        "print(a)\n",
        "print(a.shape)"
      ],
      "execution_count": null,
      "outputs": [
        {
          "output_type": "stream",
          "name": "stdout",
          "text": [
            "[0 1 2 3]\n",
            "(4,)\n",
            "[[0]\n",
            " [1]\n",
            " [2]\n",
            " [3]]\n",
            "(4, 1)\n",
            "[[0 1 2 3]]\n",
            "(1, 4)\n",
            "[[0 1]\n",
            " [2 3]]\n",
            "(2, 2)\n"
          ]
        }
      ]
    },
    {
      "cell_type": "code",
      "metadata": {
        "colab": {
          "base_uri": "https://localhost:8080/"
        },
        "id": "GMuCtK4tYge_",
        "outputId": "2a2d1bec-9b23-4d27-e4f8-4fdc28889620"
      },
      "source": [
        "a = np.arange(4)\n",
        "a = np.expand_dims(a, axis=0)\n",
        "print(a)\n",
        "print(a.shape)\n",
        "\n",
        "a = np.arange(4)\n",
        "a = np.expand_dims(a, axis=1)\n",
        "print(a)\n",
        "print(a.shape)\n",
        "\n",
        "a = np.arange(4)\n",
        "a = np.expand_dims(a, axis=-1)\n",
        "print(a)\n",
        "print(a.shape)"
      ],
      "execution_count": null,
      "outputs": [
        {
          "output_type": "stream",
          "name": "stdout",
          "text": [
            "[[0 1 2 3]]\n",
            "(1, 4)\n",
            "[[0]\n",
            " [1]\n",
            " [2]\n",
            " [3]]\n",
            "(4, 1)\n",
            "[[0]\n",
            " [1]\n",
            " [2]\n",
            " [3]]\n",
            "(4, 1)\n"
          ]
        }
      ]
    },
    {
      "cell_type": "code",
      "metadata": {
        "colab": {
          "base_uri": "https://localhost:8080/"
        },
        "id": "jO_oyENAZIEY",
        "outputId": "d2bf8140-3a74-4472-9526-134221268ba7"
      },
      "source": [
        "a = np.arange(6).reshape((2,3))\n",
        "print(a)\n",
        "print(a.shape)"
      ],
      "execution_count": null,
      "outputs": [
        {
          "output_type": "stream",
          "name": "stdout",
          "text": [
            "[[0 1 2]\n",
            " [3 4 5]]\n",
            "(2, 3)\n"
          ]
        }
      ]
    },
    {
      "cell_type": "code",
      "metadata": {
        "colab": {
          "base_uri": "https://localhost:8080/"
        },
        "id": "WFyGafpXaHVB",
        "outputId": "1bf0e17f-60c4-4e9d-9929-749acd6bb82f"
      },
      "source": [
        "a = np.arange(6).reshape((2,3))\n",
        "a = np.expand_dims(a, axis=0)\n",
        "print(a)\n",
        "print(a.shape)\n",
        "\n",
        "a = np.arange(6).reshape((2,3))\n",
        "a = np.expand_dims(a, axis=1)\n",
        "print(a)\n",
        "print(a.shape)\n",
        "\n",
        "a = np.arange(6).reshape((2,3))\n",
        "a = np.expand_dims(a, axis=2)\n",
        "print(a)\n",
        "print(a.shape)\n"
      ],
      "execution_count": null,
      "outputs": [
        {
          "output_type": "stream",
          "name": "stdout",
          "text": [
            "[[[0 1 2]\n",
            "  [3 4 5]]]\n",
            "(1, 2, 3)\n",
            "[[[0 1 2]]\n",
            "\n",
            " [[3 4 5]]]\n",
            "(2, 1, 3)\n",
            "[[[0]\n",
            "  [1]\n",
            "  [2]]\n",
            "\n",
            " [[3]\n",
            "  [4]\n",
            "  [5]]]\n",
            "(2, 3, 1)\n"
          ]
        }
      ]
    },
    {
      "cell_type": "code",
      "metadata": {
        "colab": {
          "base_uri": "https://localhost:8080/"
        },
        "id": "qRpg32Y-axRB",
        "outputId": "e93f8ecf-909e-4f81-fd7e-d54b4df7e231"
      },
      "source": [
        "a = np.arange(12).reshape((1,3,4))\n",
        "print(a)\n",
        "print(a.shape)\n",
        "a = np.squeeze(a)\n",
        "print(a)\n",
        "print(a.shape)"
      ],
      "execution_count": null,
      "outputs": [
        {
          "output_type": "stream",
          "name": "stdout",
          "text": [
            "[[[ 0  1  2  3]\n",
            "  [ 4  5  6  7]\n",
            "  [ 8  9 10 11]]]\n",
            "(1, 3, 4)\n",
            "[[ 0  1  2  3]\n",
            " [ 4  5  6  7]\n",
            " [ 8  9 10 11]]\n",
            "(3, 4)\n"
          ]
        }
      ]
    },
    {
      "cell_type": "code",
      "metadata": {
        "colab": {
          "base_uri": "https://localhost:8080/"
        },
        "id": "HXqkFppRb8WV",
        "outputId": "9d2ebb7d-8764-47a1-8de2-b03b01ad2334"
      },
      "source": [
        "a = np.arange(12).reshape((1,3,1,4))\n",
        "print(a)\n",
        "print(a.shape)\n",
        "a = np.squeeze(a)\n",
        "print(a)\n",
        "print(a.shape)"
      ],
      "execution_count": null,
      "outputs": [
        {
          "output_type": "stream",
          "name": "stdout",
          "text": [
            "[[[[ 0  1  2  3]]\n",
            "\n",
            "  [[ 4  5  6  7]]\n",
            "\n",
            "  [[ 8  9 10 11]]]]\n",
            "(1, 3, 1, 4)\n",
            "[[ 0  1  2  3]\n",
            " [ 4  5  6  7]\n",
            " [ 8  9 10 11]]\n",
            "(3, 4)\n"
          ]
        }
      ]
    },
    {
      "cell_type": "code",
      "metadata": {
        "colab": {
          "base_uri": "https://localhost:8080/"
        },
        "id": "zo0mQ_J_dgpM",
        "outputId": "b6faaf3f-5bda-4250-8ff0-5cf0b850f20c"
      },
      "source": [
        "a = np.arange(12)\n",
        "\n",
        "# a = a.reshape((3,4))\n",
        "a = a.reshape((3,-1))\n",
        "print(a)"
      ],
      "execution_count": null,
      "outputs": [
        {
          "output_type": "stream",
          "name": "stdout",
          "text": [
            "[[ 0  1  2  3]\n",
            " [ 4  5  6  7]\n",
            " [ 8  9 10 11]]\n"
          ]
        }
      ]
    },
    {
      "cell_type": "code",
      "metadata": {
        "colab": {
          "base_uri": "https://localhost:8080/"
        },
        "id": "62HmHMv2dt77",
        "outputId": "8d730af4-0ceb-42e5-9009-5adb21c06beb"
      },
      "source": [
        "a = np.arange(12).reshape((3,4))\n",
        "print(a)\n",
        "print(a.T)"
      ],
      "execution_count": null,
      "outputs": [
        {
          "output_type": "stream",
          "name": "stdout",
          "text": [
            "[[ 0  1  2  3]\n",
            " [ 4  5  6  7]\n",
            " [ 8  9 10 11]]\n",
            "[[ 0  4  8]\n",
            " [ 1  5  9]\n",
            " [ 2  6 10]\n",
            " [ 3  7 11]]\n"
          ]
        }
      ]
    },
    {
      "cell_type": "code",
      "metadata": {
        "colab": {
          "base_uri": "https://localhost:8080/"
        },
        "id": "c8v4BMiQeLxf",
        "outputId": "41a17f74-a390-4cfb-cbe7-348341f8e616"
      },
      "source": [
        "a = np.arange(12).reshape((1,3,1,4))\n",
        "a = np.squeeze(a, axis=0)\n",
        "print(a.shape)"
      ],
      "execution_count": null,
      "outputs": [
        {
          "output_type": "stream",
          "name": "stdout",
          "text": [
            "(3, 1, 4)\n"
          ]
        }
      ]
    },
    {
      "cell_type": "code",
      "metadata": {
        "colab": {
          "base_uri": "https://localhost:8080/"
        },
        "id": "KaIAf0KSewoe",
        "outputId": "0a2a4920-dfe7-4af1-b8bf-3c30f54c626b"
      },
      "source": [
        "a = np.arange(15).reshape((5,3))\n",
        "print(a)\n",
        "\n",
        "print(np.sum(a, axis=0))\n",
        "\n",
        "print(np.sum(a, axis=1))\n"
      ],
      "execution_count": null,
      "outputs": [
        {
          "output_type": "stream",
          "name": "stdout",
          "text": [
            "[[ 0  1  2]\n",
            " [ 3  4  5]\n",
            " [ 6  7  8]\n",
            " [ 9 10 11]\n",
            " [12 13 14]]\n",
            "[30 35 40]\n",
            "[ 3 12 21 30 39]\n"
          ]
        }
      ]
    },
    {
      "cell_type": "code",
      "metadata": {
        "colab": {
          "base_uri": "https://localhost:8080/"
        },
        "id": "vy9xNlD4hqvB",
        "outputId": "fa6cecb3-56af-4577-a0e0-a5f8981f8cb9"
      },
      "source": [
        "a = np.arange(15).reshape((5,3))\n",
        "print(a)\n",
        "\n",
        "print(np.mean(a, axis=0))\n",
        "\n",
        "print(np.mean(a, axis=1))\n"
      ],
      "execution_count": null,
      "outputs": [
        {
          "output_type": "stream",
          "name": "stdout",
          "text": [
            "[[ 0  1  2]\n",
            " [ 3  4  5]\n",
            " [ 6  7  8]\n",
            " [ 9 10 11]\n",
            " [12 13 14]]\n",
            "[6. 7. 8.]\n",
            "[ 1.  4.  7. 10. 13.]\n"
          ]
        }
      ]
    },
    {
      "cell_type": "code",
      "metadata": {
        "colab": {
          "base_uri": "https://localhost:8080/"
        },
        "id": "W0bI44g4kJGH",
        "outputId": "2c5ce253-e4aa-479a-9688-4538746526dd"
      },
      "source": [
        "a = np.arange(60).reshape((3,4,5))\n",
        "print(np.sum(a, axis=2).shape)\n",
        "# (3,4)\n",
        "\n",
        "print(np.sum(a, axis=0).shape)\n",
        "# (4,5)\n",
        "\n",
        "print(np.sum(a, axis=1).shape)\n",
        "# (3,5)\n"
      ],
      "execution_count": null,
      "outputs": [
        {
          "output_type": "stream",
          "name": "stdout",
          "text": [
            "(3, 4)\n",
            "(4, 5)\n",
            "(3, 5)\n"
          ]
        }
      ]
    },
    {
      "cell_type": "code",
      "metadata": {
        "colab": {
          "base_uri": "https://localhost:8080/"
        },
        "id": "2_YR4QZyk-Mg",
        "outputId": "c2fedb93-860f-4e91-cf6a-2c434594ae3f"
      },
      "source": [
        "a = np.array([ [170, 65],\n",
        "               [165, 75],\n",
        "               [171, 70],\n",
        "               [155, 50],\n",
        "               [165, 55] ])\n",
        "\n",
        "print(np.mean(a, axis=0))\n",
        "print(np.max(a, axis=0))\n",
        "print(np.argmax(a, axis=0))"
      ],
      "execution_count": null,
      "outputs": [
        {
          "output_type": "stream",
          "name": "stdout",
          "text": [
            "[165.2  63. ]\n",
            "[171  75]\n",
            "[2 1]\n"
          ]
        }
      ]
    },
    {
      "cell_type": "code",
      "metadata": {
        "id": "Am3B6Ho1m-p3"
      },
      "source": [
        ""
      ],
      "execution_count": null,
      "outputs": []
    },
    {
      "cell_type": "code",
      "metadata": {
        "colab": {
          "base_uri": "https://localhost:8080/"
        },
        "id": "cRNszdvRlubO",
        "outputId": "798b28ce-950d-4246-e3bd-b3f5fd9543e5"
      },
      "source": [
        "a = np.array([ 1,3,5,2,4 ])\n",
        "print(np.max(a))\n",
        "print(np.argmax(a))"
      ],
      "execution_count": null,
      "outputs": [
        {
          "output_type": "stream",
          "name": "stdout",
          "text": [
            "5\n",
            "2\n"
          ]
        }
      ]
    },
    {
      "cell_type": "code",
      "metadata": {
        "colab": {
          "base_uri": "https://localhost:8080/"
        },
        "id": "gvHjQwoHmBR9",
        "outputId": "0089b925-f95c-4fbe-cb92-6b909cd82858"
      },
      "source": [
        "a = np.arange(24).reshape((2,3,4))\n",
        "print(np.sum(a, axis=(1,2)))"
      ],
      "execution_count": null,
      "outputs": [
        {
          "output_type": "stream",
          "name": "stdout",
          "text": [
            "[ 66 210]\n"
          ]
        }
      ]
    },
    {
      "cell_type": "code",
      "metadata": {
        "colab": {
          "base_uri": "https://localhost:8080/"
        },
        "id": "wC7z4HOq52_S",
        "outputId": "a8f90cd8-31ca-4c56-a9e8-5da6c25aea8d"
      },
      "source": [
        "a = np.random.rand(12).reshape((4,3))\n",
        "print(a)\n",
        "print(np.argmax(a, axis=1))"
      ],
      "execution_count": null,
      "outputs": [
        {
          "output_type": "stream",
          "name": "stdout",
          "text": [
            "[[0.73028677 0.40252508 0.38249786]\n",
            " [0.29536428 0.14307121 0.41597248]\n",
            " [0.05062514 0.1683436  0.20693198]\n",
            " [0.64427131 0.10279808 0.25464796]]\n",
            "[0 2 2 0]\n"
          ]
        }
      ]
    },
    {
      "cell_type": "code",
      "metadata": {
        "colab": {
          "base_uri": "https://localhost:8080/"
        },
        "id": "n4h8cMTb-RwE",
        "outputId": "4d9db0e0-1d4d-42e1-c435-4a87d3be2d2d"
      },
      "source": [
        "a = np.array( [ 3,7,5,1,8,6,4] )\n",
        "print(np.sort(a))\n",
        "print(np.argsort(a))"
      ],
      "execution_count": null,
      "outputs": [
        {
          "output_type": "stream",
          "name": "stdout",
          "text": [
            "[1 3 4 5 6 7 8]\n",
            "[3 0 6 2 5 1 4]\n"
          ]
        }
      ]
    },
    {
      "cell_type": "code",
      "metadata": {
        "colab": {
          "base_uri": "https://localhost:8080/"
        },
        "id": "vCgfUwae_Y6_",
        "outputId": "032089ed-0995-412c-ef67-ea0237cb0ca5"
      },
      "source": [
        "a = np.arange(6).reshape((2,3))\n",
        "b = np.arange(6,12).reshape((2,3))\n",
        "print(a)\n",
        "print(b)\n",
        "print(np.vstack([a,b]))\n",
        "print(np.hstack([a,b]))"
      ],
      "execution_count": null,
      "outputs": [
        {
          "output_type": "stream",
          "name": "stdout",
          "text": [
            "[[0 1 2]\n",
            " [3 4 5]]\n",
            "[[ 6  7  8]\n",
            " [ 9 10 11]]\n",
            "[[ 0  1  2]\n",
            " [ 3  4  5]\n",
            " [ 6  7  8]\n",
            " [ 9 10 11]]\n",
            "[[ 0  1  2  6  7  8]\n",
            " [ 3  4  5  9 10 11]]\n"
          ]
        }
      ]
    },
    {
      "cell_type": "code",
      "metadata": {
        "id": "Te5rs_qSAGGn"
      },
      "source": [
        "a = np.arange(12).reshape((3,4))\n",
        "np.savetxt(\"my_data.csv\", a, delimiter=\",\")"
      ],
      "execution_count": null,
      "outputs": []
    },
    {
      "cell_type": "code",
      "metadata": {
        "colab": {
          "base_uri": "https://localhost:8080/"
        },
        "id": "GV-YkA0eBnAa",
        "outputId": "0206d036-01ee-40d4-a598-a5427f82bdea"
      },
      "source": [
        "b = np.loadtxt(\"my_data.csv\", delimiter=\",\")\n",
        "print(b)"
      ],
      "execution_count": null,
      "outputs": [
        {
          "output_type": "stream",
          "name": "stdout",
          "text": [
            "[[ 0.  1.  2.  3.]\n",
            " [ 4.  5.  6.  7.]\n",
            " [ 8.  9. 10. 11.]]\n"
          ]
        }
      ]
    },
    {
      "cell_type": "code",
      "metadata": {
        "colab": {
          "base_uri": "https://localhost:8080/"
        },
        "id": "-HOnZAcgDhq4",
        "outputId": "80004553-3883-427d-83ad-1059a71b834f"
      },
      "source": [
        "print(b.dtype)"
      ],
      "execution_count": null,
      "outputs": [
        {
          "output_type": "stream",
          "name": "stdout",
          "text": [
            "float64\n"
          ]
        }
      ]
    },
    {
      "cell_type": "code",
      "metadata": {
        "colab": {
          "base_uri": "https://localhost:8080/"
        },
        "id": "9cEWKkALD0YB",
        "outputId": "379818d4-9358-497f-a857-e41ac523bce9"
      },
      "source": [
        "print(b.astype(np.int))"
      ],
      "execution_count": null,
      "outputs": [
        {
          "output_type": "stream",
          "name": "stdout",
          "text": [
            "[[ 0  1  2  3]\n",
            " [ 4  5  6  7]\n",
            " [ 8  9 10 11]]\n"
          ]
        }
      ]
    },
    {
      "cell_type": "code",
      "metadata": {
        "colab": {
          "base_uri": "https://localhost:8080/"
        },
        "id": "hwvt-13oETPy",
        "outputId": "c56f434a-39d1-4d8b-c01a-9b671f5fd8aa"
      },
      "source": [
        "a = np.arange(6)\n",
        "print(a)\n",
        "print(a.astype(np.float))"
      ],
      "execution_count": null,
      "outputs": [
        {
          "output_type": "stream",
          "name": "stdout",
          "text": [
            "[0 1 2 3 4 5]\n",
            "[0. 1. 2. 3. 4. 5.]\n"
          ]
        }
      ]
    },
    {
      "cell_type": "code",
      "metadata": {
        "colab": {
          "base_uri": "https://localhost:8080/"
        },
        "id": "2ptvYo2TEbQU",
        "outputId": "c126af38-eb11-4d0a-a4db-1762f63eafc1"
      },
      "source": [
        "names = np.array([\"tom\", \"jerry\", \"brute\", \"철수\", \"영희\"])\n",
        "print(names)\n",
        "heights = np.array([170, 177, 165, 155, 175])\n",
        "print(heights)\n",
        "print(np.sort(heights))\n",
        "print(np.argsort(heights))\n",
        "\n",
        "height_ordered_index = np.array([3, 2, 0, 4, 1])\n",
        "print(names[height_ordered_index])"
      ],
      "execution_count": null,
      "outputs": [
        {
          "output_type": "stream",
          "name": "stdout",
          "text": [
            "['tom' 'jerry' 'brute' '철수' '영희']\n",
            "[170 177 165 155 175]\n",
            "[155 165 170 175 177]\n",
            "[3 2 0 4 1]\n",
            "['철수' 'brute' 'tom' '영희' 'jerry']\n"
          ]
        }
      ]
    },
    {
      "cell_type": "code",
      "metadata": {
        "colab": {
          "base_uri": "https://localhost:8080/",
          "height": 209
        },
        "id": "Ynkb4IP-E1o6",
        "outputId": "b118731d-486f-496f-a436-b0bf2095be04"
      },
      "source": [
        "aa = [ 0, 1, 2, 3, 4]\n",
        "\n",
        "print(aa[3,4,5])"
      ],
      "execution_count": null,
      "outputs": [
        {
          "output_type": "error",
          "ename": "TypeError",
          "evalue": "ignored",
          "traceback": [
            "\u001b[0;31m---------------------------------------------------------------------------\u001b[0m",
            "\u001b[0;31mTypeError\u001b[0m                                 Traceback (most recent call last)",
            "\u001b[0;32m<ipython-input-113-aed003e95cec>\u001b[0m in \u001b[0;36m<module>\u001b[0;34m()\u001b[0m\n\u001b[1;32m      1\u001b[0m \u001b[0maa\u001b[0m \u001b[0;34m=\u001b[0m \u001b[0;34m[\u001b[0m \u001b[0;36m0\u001b[0m\u001b[0;34m,\u001b[0m \u001b[0;36m1\u001b[0m\u001b[0;34m,\u001b[0m \u001b[0;36m2\u001b[0m\u001b[0;34m,\u001b[0m \u001b[0;36m3\u001b[0m\u001b[0;34m,\u001b[0m \u001b[0;36m4\u001b[0m\u001b[0;34m]\u001b[0m\u001b[0;34m\u001b[0m\u001b[0;34m\u001b[0m\u001b[0m\n\u001b[1;32m      2\u001b[0m \u001b[0;34m\u001b[0m\u001b[0m\n\u001b[0;32m----> 3\u001b[0;31m \u001b[0mprint\u001b[0m\u001b[0;34m(\u001b[0m\u001b[0maa\u001b[0m\u001b[0;34m[\u001b[0m\u001b[0;36m3\u001b[0m\u001b[0;34m,\u001b[0m\u001b[0;36m4\u001b[0m\u001b[0;34m,\u001b[0m\u001b[0;36m5\u001b[0m\u001b[0;34m]\u001b[0m\u001b[0;34m)\u001b[0m\u001b[0;34m\u001b[0m\u001b[0;34m\u001b[0m\u001b[0m\n\u001b[0m",
            "\u001b[0;31mTypeError\u001b[0m: list indices must be integers or slices, not tuple"
          ]
        }
      ]
    },
    {
      "cell_type": "code",
      "metadata": {
        "colab": {
          "base_uri": "https://localhost:8080/"
        },
        "id": "WqgT3qRLGmfB",
        "outputId": "efbc239d-837b-4ffe-ffe3-4d873a78eee8"
      },
      "source": [
        "names = np.array([\"tom\", \"jerry\", \"brute\", \"철수\", \"영희\"])\n",
        "heights = np.array([170, 177, 165, 155, 175])\n",
        "\n",
        "print(names[np.argsort(heights)])"
      ],
      "execution_count": null,
      "outputs": [
        {
          "output_type": "stream",
          "name": "stdout",
          "text": [
            "['철수' 'brute' 'tom' '영희' 'jerry']\n"
          ]
        }
      ]
    },
    {
      "cell_type": "code",
      "metadata": {
        "colab": {
          "base_uri": "https://localhost:8080/"
        },
        "id": "sLG34s39H01q",
        "outputId": "d2ed7201-a200-4a12-b657-93a1296f06b2"
      },
      "source": [
        "i = np.array([ 0, 3, 4, 1, 2, 3, 4, 1, 2, 3, 4, 1, 2])\n",
        "print(names[i])"
      ],
      "execution_count": null,
      "outputs": [
        {
          "output_type": "stream",
          "name": "stdout",
          "text": [
            "['tom' '철수' '영희' 'jerry' 'brute' '철수' '영희' 'jerry' 'brute' '철수' '영희'\n",
            " 'jerry' 'brute']\n"
          ]
        }
      ]
    },
    {
      "cell_type": "code",
      "metadata": {
        "colab": {
          "base_uri": "https://localhost:8080/"
        },
        "id": "41F5iN6tHzke",
        "outputId": "65adf987-2b03-48ce-aa4f-ccfc3296af26"
      },
      "source": [
        "category_indexes = np.array([ 0, 3, 4, 1, 2, 3, 4, 1, 2, 3, 4, 1, 2])\n",
        "e = np.eye(5)\n",
        "one_hot_encoded = e[category_indexes]\n",
        "predicted = np.argmax(one_hot_encoded, axis=1)\n",
        "print(predicted)\n"
      ],
      "execution_count": null,
      "outputs": [
        {
          "output_type": "stream",
          "name": "stdout",
          "text": [
            "[0 3 4 1 2 3 4 1 2 3 4 1 2]\n"
          ]
        }
      ]
    },
    {
      "cell_type": "code",
      "metadata": {
        "id": "r8rLa_-RHx8p"
      },
      "source": [
        ""
      ],
      "execution_count": null,
      "outputs": []
    },
    {
      "cell_type": "code",
      "metadata": {
        "id": "lGh9ZxvEHwyy"
      },
      "source": [
        ""
      ],
      "execution_count": null,
      "outputs": []
    }
  ]
}