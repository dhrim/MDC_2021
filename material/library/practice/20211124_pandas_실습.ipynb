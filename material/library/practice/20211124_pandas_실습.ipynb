{
  "nbformat": 4,
  "nbformat_minor": 0,
  "metadata": {
    "colab": {
      "name": "20211124_pandas_실습.ipynb",
      "provenance": [],
      "collapsed_sections": []
    },
    "kernelspec": {
      "name": "python3",
      "display_name": "Python 3"
    },
    "language_info": {
      "name": "python"
    }
  },
  "cells": [
    {
      "cell_type": "markdown",
      "metadata": {
        "id": "QvpgQbC9M4Du"
      },
      "source": [
        "```\n",
        "다음 파일을 다운로드\n",
        "https://github.com/dhrim/MDC_2021/blob/master/material/deep_learning/data/wine.csv\n",
        "\n",
        "- quality 컬럼의 최대값, 최소값을 출력\n",
        "- density 컬럼을 %로 변경한 컬럼 density_percent를 생성. 소수점 1자리만 남기고.\n",
        "- fixed acidity 컬럼의 상위 10%, 하위 10% 값을 출력\n",
        "- 새로운 컬럼 grade를 추가. fixed acidity 상위 10% 이상은 1, 하위 10% 이하는 3, 중간은 2의 값으로.\n",
        "```"
      ]
    },
    {
      "cell_type": "code",
      "metadata": {
        "id": "ZxUE9aGaMz_S"
      },
      "source": [
        "!rm -rf wine*"
      ],
      "execution_count": null,
      "outputs": []
    },
    {
      "cell_type": "code",
      "metadata": {
        "id": "kO242yjxTSDc"
      },
      "source": [
        "a = 0.123456\n",
        "\n",
        "123.456\n",
        "\n",
        "123\n",
        "\n",
        "12.3"
      ],
      "execution_count": null,
      "outputs": []
    },
    {
      "cell_type": "code",
      "metadata": {
        "colab": {
          "base_uri": "https://localhost:8080/"
        },
        "id": "Si9kN9AlXcIU",
        "outputId": "2ab1d726-8add-4cdc-8741-36df657711c3"
      },
      "source": [
        "!wget https://raw.githubusercontent.com/dhrim/MDC_2021/master/material/deep_learning/data/wine.csv"
      ],
      "execution_count": null,
      "outputs": [
        {
          "output_type": "stream",
          "name": "stdout",
          "text": [
            "--2021-11-24 00:34:49--  https://raw.githubusercontent.com/dhrim/MDC_2021/master/material/deep_learning/data/wine.csv\n",
            "Resolving raw.githubusercontent.com (raw.githubusercontent.com)... 185.199.109.133, 185.199.110.133, 185.199.108.133, ...\n",
            "Connecting to raw.githubusercontent.com (raw.githubusercontent.com)|185.199.109.133|:443... connected.\n",
            "HTTP request sent, awaiting response... 200 OK\n",
            "Length: 418942 (409K) [text/plain]\n",
            "Saving to: ‘wine.csv’\n",
            "\n",
            "\rwine.csv              0%[                    ]       0  --.-KB/s               \rwine.csv            100%[===================>] 409.12K  --.-KB/s    in 0.01s   \n",
            "\n",
            "2021-11-24 00:34:49 (29.5 MB/s) - ‘wine.csv’ saved [418942/418942]\n",
            "\n"
          ]
        }
      ]
    },
    {
      "cell_type": "code",
      "metadata": {
        "colab": {
          "base_uri": "https://localhost:8080/"
        },
        "id": "IijjknUQXdPb",
        "outputId": "cbb6806d-9b4e-48c1-9b5e-2d280bd412c3"
      },
      "source": [
        "!head wine.csv"
      ],
      "execution_count": null,
      "outputs": [
        {
          "output_type": "stream",
          "name": "stdout",
          "text": [
            "2index,quality,fixed acidity,volatile acidity,citric acid,residual sugar,chlorides,free sulfur dioxide,total sulfur dioxide,density,pH,sulphates,alcohol,type\r\n",
            "0,5,5.6,0.695,0.06,6.8,0.042,9.0,84.0,0.9943200000000001,3.44,0.44,10.2,white\r\n",
            "1,5,8.8,0.61,0.14,2.4,0.067,10.0,42.0,0.9969,3.19,0.59,9.5,red\r\n",
            "2,5,7.9,0.21,0.39,2.0,0.057,21.0,138.0,0.9917600000000001,3.05,0.52,10.9,white\r\n",
            "3,6,7.0,0.21,0.31,6.0,0.046,29.0,108.0,0.9939,3.26,0.5,10.8,white\r\n",
            "4,6,7.8,0.4,0.26,9.5,0.059000000000000004,32.0,178.0,0.9955,3.04,0.43,10.9,white\r\n",
            "5,6,6.0,0.19,0.37,9.7,0.032,17.0,50.0,0.9932,3.08,0.66,12.0,white\r\n",
            "6,5,6.1,0.22,0.49,1.5,0.051,18.0,87.0,0.9928,3.3,0.46,9.6,white\r\n",
            "7,6,7.1,0.38,0.42,11.8,0.040999999999999995,32.0,193.0,0.99624,3.04,0.49,10.0,white\r\n",
            "8,5,6.8,0.24,0.31,18.3,0.046,40.0,142.0,1.0,3.3,0.41,8.7,white\r\n"
          ]
        }
      ]
    },
    {
      "cell_type": "code",
      "metadata": {
        "id": "kokRDV5vXffn"
      },
      "source": [
        "import pandas as pd\n",
        "import numpy as np"
      ],
      "execution_count": null,
      "outputs": []
    },
    {
      "cell_type": "code",
      "metadata": {
        "id": "Psngb7bfXh9_"
      },
      "source": [
        "df = pd.read_csv(\"wine.csv\")"
      ],
      "execution_count": null,
      "outputs": []
    },
    {
      "cell_type": "code",
      "metadata": {
        "colab": {
          "base_uri": "https://localhost:8080/",
          "height": 261
        },
        "id": "prt73svsXj8V",
        "outputId": "c3405cd7-d555-47aa-8dd1-8154677c5588"
      },
      "source": [
        "df.head()"
      ],
      "execution_count": null,
      "outputs": [
        {
          "output_type": "execute_result",
          "data": {
            "text/html": [
              "<div>\n",
              "<style scoped>\n",
              "    .dataframe tbody tr th:only-of-type {\n",
              "        vertical-align: middle;\n",
              "    }\n",
              "\n",
              "    .dataframe tbody tr th {\n",
              "        vertical-align: top;\n",
              "    }\n",
              "\n",
              "    .dataframe thead th {\n",
              "        text-align: right;\n",
              "    }\n",
              "</style>\n",
              "<table border=\"1\" class=\"dataframe\">\n",
              "  <thead>\n",
              "    <tr style=\"text-align: right;\">\n",
              "      <th></th>\n",
              "      <th>2index</th>\n",
              "      <th>quality</th>\n",
              "      <th>fixed acidity</th>\n",
              "      <th>volatile acidity</th>\n",
              "      <th>citric acid</th>\n",
              "      <th>residual sugar</th>\n",
              "      <th>chlorides</th>\n",
              "      <th>free sulfur dioxide</th>\n",
              "      <th>total sulfur dioxide</th>\n",
              "      <th>density</th>\n",
              "      <th>pH</th>\n",
              "      <th>sulphates</th>\n",
              "      <th>alcohol</th>\n",
              "      <th>type</th>\n",
              "    </tr>\n",
              "  </thead>\n",
              "  <tbody>\n",
              "    <tr>\n",
              "      <th>0</th>\n",
              "      <td>0</td>\n",
              "      <td>5</td>\n",
              "      <td>5.6</td>\n",
              "      <td>0.695</td>\n",
              "      <td>0.06</td>\n",
              "      <td>6.8</td>\n",
              "      <td>0.042</td>\n",
              "      <td>9.0</td>\n",
              "      <td>84.0</td>\n",
              "      <td>0.99432</td>\n",
              "      <td>3.44</td>\n",
              "      <td>0.44</td>\n",
              "      <td>10.2</td>\n",
              "      <td>white</td>\n",
              "    </tr>\n",
              "    <tr>\n",
              "      <th>1</th>\n",
              "      <td>1</td>\n",
              "      <td>5</td>\n",
              "      <td>8.8</td>\n",
              "      <td>0.610</td>\n",
              "      <td>0.14</td>\n",
              "      <td>2.4</td>\n",
              "      <td>0.067</td>\n",
              "      <td>10.0</td>\n",
              "      <td>42.0</td>\n",
              "      <td>0.99690</td>\n",
              "      <td>3.19</td>\n",
              "      <td>0.59</td>\n",
              "      <td>9.5</td>\n",
              "      <td>red</td>\n",
              "    </tr>\n",
              "    <tr>\n",
              "      <th>2</th>\n",
              "      <td>2</td>\n",
              "      <td>5</td>\n",
              "      <td>7.9</td>\n",
              "      <td>0.210</td>\n",
              "      <td>0.39</td>\n",
              "      <td>2.0</td>\n",
              "      <td>0.057</td>\n",
              "      <td>21.0</td>\n",
              "      <td>138.0</td>\n",
              "      <td>0.99176</td>\n",
              "      <td>3.05</td>\n",
              "      <td>0.52</td>\n",
              "      <td>10.9</td>\n",
              "      <td>white</td>\n",
              "    </tr>\n",
              "    <tr>\n",
              "      <th>3</th>\n",
              "      <td>3</td>\n",
              "      <td>6</td>\n",
              "      <td>7.0</td>\n",
              "      <td>0.210</td>\n",
              "      <td>0.31</td>\n",
              "      <td>6.0</td>\n",
              "      <td>0.046</td>\n",
              "      <td>29.0</td>\n",
              "      <td>108.0</td>\n",
              "      <td>0.99390</td>\n",
              "      <td>3.26</td>\n",
              "      <td>0.50</td>\n",
              "      <td>10.8</td>\n",
              "      <td>white</td>\n",
              "    </tr>\n",
              "    <tr>\n",
              "      <th>4</th>\n",
              "      <td>4</td>\n",
              "      <td>6</td>\n",
              "      <td>7.8</td>\n",
              "      <td>0.400</td>\n",
              "      <td>0.26</td>\n",
              "      <td>9.5</td>\n",
              "      <td>0.059</td>\n",
              "      <td>32.0</td>\n",
              "      <td>178.0</td>\n",
              "      <td>0.99550</td>\n",
              "      <td>3.04</td>\n",
              "      <td>0.43</td>\n",
              "      <td>10.9</td>\n",
              "      <td>white</td>\n",
              "    </tr>\n",
              "  </tbody>\n",
              "</table>\n",
              "</div>"
            ],
            "text/plain": [
              "   2index  quality  fixed acidity  ...  sulphates  alcohol   type\n",
              "0       0        5            5.6  ...       0.44     10.2  white\n",
              "1       1        5            8.8  ...       0.59      9.5    red\n",
              "2       2        5            7.9  ...       0.52     10.9  white\n",
              "3       3        6            7.0  ...       0.50     10.8  white\n",
              "4       4        6            7.8  ...       0.43     10.9  white\n",
              "\n",
              "[5 rows x 14 columns]"
            ]
          },
          "metadata": {},
          "execution_count": 5
        }
      ]
    },
    {
      "cell_type": "code",
      "metadata": {
        "colab": {
          "base_uri": "https://localhost:8080/"
        },
        "id": "s-cVKuRqXk-N",
        "outputId": "bad45283-2340-4f90-e5e7-b735babdd41c"
      },
      "source": [
        "print(\"quality max = \", df.quality.max())\n",
        "print(\"quality min = \", df.quality.min())"
      ],
      "execution_count": null,
      "outputs": [
        {
          "output_type": "stream",
          "name": "stdout",
          "text": [
            "quality max =  9\n",
            "quality min =  3\n"
          ]
        }
      ]
    },
    {
      "cell_type": "code",
      "metadata": {
        "id": "rPyRBxTQXpYn"
      },
      "source": [
        "df['density_precent'] = (df.density * 1000).astype(np.int)/10."
      ],
      "execution_count": null,
      "outputs": []
    },
    {
      "cell_type": "code",
      "metadata": {
        "colab": {
          "base_uri": "https://localhost:8080/",
          "height": 261
        },
        "id": "dE1F2eaQX7pS",
        "outputId": "dab42579-f413-4491-9217-ea0d21d2a857"
      },
      "source": [
        "df.head()"
      ],
      "execution_count": null,
      "outputs": [
        {
          "output_type": "execute_result",
          "data": {
            "text/html": [
              "<div>\n",
              "<style scoped>\n",
              "    .dataframe tbody tr th:only-of-type {\n",
              "        vertical-align: middle;\n",
              "    }\n",
              "\n",
              "    .dataframe tbody tr th {\n",
              "        vertical-align: top;\n",
              "    }\n",
              "\n",
              "    .dataframe thead th {\n",
              "        text-align: right;\n",
              "    }\n",
              "</style>\n",
              "<table border=\"1\" class=\"dataframe\">\n",
              "  <thead>\n",
              "    <tr style=\"text-align: right;\">\n",
              "      <th></th>\n",
              "      <th>2index</th>\n",
              "      <th>quality</th>\n",
              "      <th>fixed acidity</th>\n",
              "      <th>volatile acidity</th>\n",
              "      <th>citric acid</th>\n",
              "      <th>residual sugar</th>\n",
              "      <th>chlorides</th>\n",
              "      <th>free sulfur dioxide</th>\n",
              "      <th>total sulfur dioxide</th>\n",
              "      <th>density</th>\n",
              "      <th>pH</th>\n",
              "      <th>sulphates</th>\n",
              "      <th>alcohol</th>\n",
              "      <th>type</th>\n",
              "      <th>density_precent</th>\n",
              "    </tr>\n",
              "  </thead>\n",
              "  <tbody>\n",
              "    <tr>\n",
              "      <th>0</th>\n",
              "      <td>0</td>\n",
              "      <td>5</td>\n",
              "      <td>5.6</td>\n",
              "      <td>0.695</td>\n",
              "      <td>0.06</td>\n",
              "      <td>6.8</td>\n",
              "      <td>0.042</td>\n",
              "      <td>9.0</td>\n",
              "      <td>84.0</td>\n",
              "      <td>0.99432</td>\n",
              "      <td>3.44</td>\n",
              "      <td>0.44</td>\n",
              "      <td>10.2</td>\n",
              "      <td>white</td>\n",
              "      <td>99.4</td>\n",
              "    </tr>\n",
              "    <tr>\n",
              "      <th>1</th>\n",
              "      <td>1</td>\n",
              "      <td>5</td>\n",
              "      <td>8.8</td>\n",
              "      <td>0.610</td>\n",
              "      <td>0.14</td>\n",
              "      <td>2.4</td>\n",
              "      <td>0.067</td>\n",
              "      <td>10.0</td>\n",
              "      <td>42.0</td>\n",
              "      <td>0.99690</td>\n",
              "      <td>3.19</td>\n",
              "      <td>0.59</td>\n",
              "      <td>9.5</td>\n",
              "      <td>red</td>\n",
              "      <td>99.6</td>\n",
              "    </tr>\n",
              "    <tr>\n",
              "      <th>2</th>\n",
              "      <td>2</td>\n",
              "      <td>5</td>\n",
              "      <td>7.9</td>\n",
              "      <td>0.210</td>\n",
              "      <td>0.39</td>\n",
              "      <td>2.0</td>\n",
              "      <td>0.057</td>\n",
              "      <td>21.0</td>\n",
              "      <td>138.0</td>\n",
              "      <td>0.99176</td>\n",
              "      <td>3.05</td>\n",
              "      <td>0.52</td>\n",
              "      <td>10.9</td>\n",
              "      <td>white</td>\n",
              "      <td>99.1</td>\n",
              "    </tr>\n",
              "    <tr>\n",
              "      <th>3</th>\n",
              "      <td>3</td>\n",
              "      <td>6</td>\n",
              "      <td>7.0</td>\n",
              "      <td>0.210</td>\n",
              "      <td>0.31</td>\n",
              "      <td>6.0</td>\n",
              "      <td>0.046</td>\n",
              "      <td>29.0</td>\n",
              "      <td>108.0</td>\n",
              "      <td>0.99390</td>\n",
              "      <td>3.26</td>\n",
              "      <td>0.50</td>\n",
              "      <td>10.8</td>\n",
              "      <td>white</td>\n",
              "      <td>99.3</td>\n",
              "    </tr>\n",
              "    <tr>\n",
              "      <th>4</th>\n",
              "      <td>4</td>\n",
              "      <td>6</td>\n",
              "      <td>7.8</td>\n",
              "      <td>0.400</td>\n",
              "      <td>0.26</td>\n",
              "      <td>9.5</td>\n",
              "      <td>0.059</td>\n",
              "      <td>32.0</td>\n",
              "      <td>178.0</td>\n",
              "      <td>0.99550</td>\n",
              "      <td>3.04</td>\n",
              "      <td>0.43</td>\n",
              "      <td>10.9</td>\n",
              "      <td>white</td>\n",
              "      <td>99.5</td>\n",
              "    </tr>\n",
              "  </tbody>\n",
              "</table>\n",
              "</div>"
            ],
            "text/plain": [
              "   2index  quality  fixed acidity  ...  alcohol   type  density_precent\n",
              "0       0        5            5.6  ...     10.2  white             99.4\n",
              "1       1        5            8.8  ...      9.5    red             99.6\n",
              "2       2        5            7.9  ...     10.9  white             99.1\n",
              "3       3        6            7.0  ...     10.8  white             99.3\n",
              "4       4        6            7.8  ...     10.9  white             99.5\n",
              "\n",
              "[5 rows x 15 columns]"
            ]
          },
          "metadata": {},
          "execution_count": 17
        }
      ]
    },
    {
      "cell_type": "code",
      "metadata": {
        "colab": {
          "base_uri": "https://localhost:8080/"
        },
        "id": "ikm8ZV9SYN0T",
        "outputId": "1220e4e0-338f-4c04-9f25-0b52941034b7"
      },
      "source": [
        "a = 0.12345\n",
        "print(a)\n",
        "print(a*1000)\n",
        "print(int(a*1000))\n",
        "print(int(a*1000)/10)"
      ],
      "execution_count": null,
      "outputs": [
        {
          "output_type": "stream",
          "name": "stdout",
          "text": [
            "0.12345\n",
            "123.45\n",
            "123\n",
            "12.3\n"
          ]
        }
      ]
    },
    {
      "cell_type": "code",
      "metadata": {
        "colab": {
          "base_uri": "https://localhost:8080/"
        },
        "id": "MY6gSsnHZMAj",
        "outputId": "be1e7532-b369-45d2-a2f1-b3383a6000e7"
      },
      "source": [
        "df.info()"
      ],
      "execution_count": null,
      "outputs": [
        {
          "output_type": "stream",
          "name": "stdout",
          "text": [
            "<class 'pandas.core.frame.DataFrame'>\n",
            "RangeIndex: 5497 entries, 0 to 5496\n",
            "Data columns (total 15 columns):\n",
            " #   Column                Non-Null Count  Dtype  \n",
            "---  ------                --------------  -----  \n",
            " 0   2index                5497 non-null   int64  \n",
            " 1   quality               5497 non-null   int64  \n",
            " 2   fixed acidity         5497 non-null   float64\n",
            " 3   volatile acidity      5497 non-null   float64\n",
            " 4   citric acid           5497 non-null   float64\n",
            " 5   residual sugar        5497 non-null   float64\n",
            " 6   chlorides             5497 non-null   float64\n",
            " 7   free sulfur dioxide   5497 non-null   float64\n",
            " 8   total sulfur dioxide  5497 non-null   float64\n",
            " 9   density               5497 non-null   float64\n",
            " 10  pH                    5497 non-null   float64\n",
            " 11  sulphates             5497 non-null   float64\n",
            " 12  alcohol               5497 non-null   float64\n",
            " 13  type                  5497 non-null   object \n",
            " 14  density_precent       5497 non-null   float64\n",
            "dtypes: float64(12), int64(2), object(1)\n",
            "memory usage: 644.3+ KB\n"
          ]
        }
      ]
    },
    {
      "cell_type": "code",
      "metadata": {
        "colab": {
          "base_uri": "https://localhost:8080/"
        },
        "id": "3GeOfJ_8YW64",
        "outputId": "f180a286-7892-4683-f342-10e22b0375cf"
      },
      "source": [
        "DATA_COUNT = 5497\n",
        "UPPER_INDEX = int(5497*0.1)\n",
        "LOWER_INDEX = int(5497*0.9)\n",
        "print(UPPER_INDEX, LOWER_INDEX)\n",
        "UPPER_VALUE = df['fixed acidity'].sort_values().iloc[549]\n",
        "LOWER_VALUE = df['fixed acidity'].sort_values().iloc[4947]\n",
        "print(UPPER_VALUE, LOWER_VALUE)"
      ],
      "execution_count": null,
      "outputs": [
        {
          "output_type": "stream",
          "name": "stdout",
          "text": [
            "549 4947\n",
            "12.6 7.4\n"
          ]
        }
      ]
    },
    {
      "cell_type": "code",
      "metadata": {
        "id": "k5Q2HpA2Y19a"
      },
      "source": [
        "def get_grade(value):\n",
        "  if value >= UPPER_VALUE : return 1\n",
        "  elif value < LOWER_VALUE : return 3\n",
        "  else: return 2\n",
        "\n",
        "df['grade'] = df[['fixed acidity']].applymap(get_grade)"
      ],
      "execution_count": null,
      "outputs": []
    },
    {
      "cell_type": "code",
      "metadata": {
        "colab": {
          "base_uri": "https://localhost:8080/",
          "height": 261
        },
        "id": "QPlqHUzVaboj",
        "outputId": "e94c825b-dfcc-4b60-ff67-3dffb9dabb21"
      },
      "source": [
        "df.head()"
      ],
      "execution_count": null,
      "outputs": [
        {
          "output_type": "execute_result",
          "data": {
            "text/html": [
              "<div>\n",
              "<style scoped>\n",
              "    .dataframe tbody tr th:only-of-type {\n",
              "        vertical-align: middle;\n",
              "    }\n",
              "\n",
              "    .dataframe tbody tr th {\n",
              "        vertical-align: top;\n",
              "    }\n",
              "\n",
              "    .dataframe thead th {\n",
              "        text-align: right;\n",
              "    }\n",
              "</style>\n",
              "<table border=\"1\" class=\"dataframe\">\n",
              "  <thead>\n",
              "    <tr style=\"text-align: right;\">\n",
              "      <th></th>\n",
              "      <th>2index</th>\n",
              "      <th>quality</th>\n",
              "      <th>fixed acidity</th>\n",
              "      <th>volatile acidity</th>\n",
              "      <th>citric acid</th>\n",
              "      <th>residual sugar</th>\n",
              "      <th>chlorides</th>\n",
              "      <th>free sulfur dioxide</th>\n",
              "      <th>total sulfur dioxide</th>\n",
              "      <th>density</th>\n",
              "      <th>pH</th>\n",
              "      <th>sulphates</th>\n",
              "      <th>alcohol</th>\n",
              "      <th>type</th>\n",
              "      <th>density_precent</th>\n",
              "      <th>grade</th>\n",
              "    </tr>\n",
              "  </thead>\n",
              "  <tbody>\n",
              "    <tr>\n",
              "      <th>0</th>\n",
              "      <td>0</td>\n",
              "      <td>5</td>\n",
              "      <td>5.6</td>\n",
              "      <td>0.695</td>\n",
              "      <td>0.06</td>\n",
              "      <td>6.8</td>\n",
              "      <td>0.042</td>\n",
              "      <td>9.0</td>\n",
              "      <td>84.0</td>\n",
              "      <td>0.99432</td>\n",
              "      <td>3.44</td>\n",
              "      <td>0.44</td>\n",
              "      <td>10.2</td>\n",
              "      <td>white</td>\n",
              "      <td>99.4</td>\n",
              "      <td>3</td>\n",
              "    </tr>\n",
              "    <tr>\n",
              "      <th>1</th>\n",
              "      <td>1</td>\n",
              "      <td>5</td>\n",
              "      <td>8.8</td>\n",
              "      <td>0.610</td>\n",
              "      <td>0.14</td>\n",
              "      <td>2.4</td>\n",
              "      <td>0.067</td>\n",
              "      <td>10.0</td>\n",
              "      <td>42.0</td>\n",
              "      <td>0.99690</td>\n",
              "      <td>3.19</td>\n",
              "      <td>0.59</td>\n",
              "      <td>9.5</td>\n",
              "      <td>red</td>\n",
              "      <td>99.6</td>\n",
              "      <td>2</td>\n",
              "    </tr>\n",
              "    <tr>\n",
              "      <th>2</th>\n",
              "      <td>2</td>\n",
              "      <td>5</td>\n",
              "      <td>7.9</td>\n",
              "      <td>0.210</td>\n",
              "      <td>0.39</td>\n",
              "      <td>2.0</td>\n",
              "      <td>0.057</td>\n",
              "      <td>21.0</td>\n",
              "      <td>138.0</td>\n",
              "      <td>0.99176</td>\n",
              "      <td>3.05</td>\n",
              "      <td>0.52</td>\n",
              "      <td>10.9</td>\n",
              "      <td>white</td>\n",
              "      <td>99.1</td>\n",
              "      <td>2</td>\n",
              "    </tr>\n",
              "    <tr>\n",
              "      <th>3</th>\n",
              "      <td>3</td>\n",
              "      <td>6</td>\n",
              "      <td>7.0</td>\n",
              "      <td>0.210</td>\n",
              "      <td>0.31</td>\n",
              "      <td>6.0</td>\n",
              "      <td>0.046</td>\n",
              "      <td>29.0</td>\n",
              "      <td>108.0</td>\n",
              "      <td>0.99390</td>\n",
              "      <td>3.26</td>\n",
              "      <td>0.50</td>\n",
              "      <td>10.8</td>\n",
              "      <td>white</td>\n",
              "      <td>99.3</td>\n",
              "      <td>3</td>\n",
              "    </tr>\n",
              "    <tr>\n",
              "      <th>4</th>\n",
              "      <td>4</td>\n",
              "      <td>6</td>\n",
              "      <td>7.8</td>\n",
              "      <td>0.400</td>\n",
              "      <td>0.26</td>\n",
              "      <td>9.5</td>\n",
              "      <td>0.059</td>\n",
              "      <td>32.0</td>\n",
              "      <td>178.0</td>\n",
              "      <td>0.99550</td>\n",
              "      <td>3.04</td>\n",
              "      <td>0.43</td>\n",
              "      <td>10.9</td>\n",
              "      <td>white</td>\n",
              "      <td>99.5</td>\n",
              "      <td>2</td>\n",
              "    </tr>\n",
              "  </tbody>\n",
              "</table>\n",
              "</div>"
            ],
            "text/plain": [
              "   2index  quality  fixed acidity  ...   type  density_precent  grade\n",
              "0       0        5            5.6  ...  white             99.4      3\n",
              "1       1        5            8.8  ...    red             99.6      2\n",
              "2       2        5            7.9  ...  white             99.1      2\n",
              "3       3        6            7.0  ...  white             99.3      3\n",
              "4       4        6            7.8  ...  white             99.5      2\n",
              "\n",
              "[5 rows x 16 columns]"
            ]
          },
          "metadata": {},
          "execution_count": 33
        }
      ]
    },
    {
      "cell_type": "code",
      "metadata": {
        "colab": {
          "base_uri": "https://localhost:8080/"
        },
        "id": "uxLnuCmEaczL",
        "outputId": "b1286e00-628f-4f92-ad9f-d210e92cc5b5"
      },
      "source": [
        "for i in [0, 100, 200, 300, 400]:\n",
        "  print(df['fixed acidity'][i])  \n",
        "  print(df['fixed acidity'].sort_values().iloc[i])"
      ],
      "execution_count": null,
      "outputs": [
        {
          "output_type": "stream",
          "name": "stdout",
          "text": [
            "5.6\n",
            "3.8\n",
            "8.5\n",
            "5.2\n",
            "8.1\n",
            "5.6\n",
            "7.4\n",
            "5.7\n",
            "6.6\n",
            "5.8\n"
          ]
        }
      ]
    },
    {
      "cell_type": "code",
      "metadata": {
        "colab": {
          "base_uri": "https://localhost:8080/"
        },
        "id": "lCdwi0-ta3dJ",
        "outputId": "5669d0b5-4456-4f34-e7e7-f9517c29b095"
      },
      "source": [
        "df.loc[df.column>10, 'new_column'] = 10"
      ],
      "execution_count": null,
      "outputs": [
        {
          "output_type": "stream",
          "name": "stdout",
          "text": [
            "8.5\n",
            "8.5\n"
          ]
        }
      ]
    },
    {
      "cell_type": "code",
      "metadata": {
        "colab": {
          "base_uri": "https://localhost:8080/"
        },
        "id": "CCLMIuBYbPv3",
        "outputId": "a80ea909-d1ed-486b-fb71-9767b272d82c"
      },
      "source": [
        "df = pd.DataFrame(\n",
        "    {\"AAA\":[4,5,6,7],\n",
        "     \"BBB\":[10,20,30,40],\n",
        "     \"CCC\":[100,50,-30,-50]}\n",
        ")\n",
        "\n",
        "print(df)\n",
        "# df.drop(1, inplace=True)\n",
        "new_df = df.drop(1)\n",
        "print(df)\n",
        "print(new_df)"
      ],
      "execution_count": null,
      "outputs": [
        {
          "output_type": "stream",
          "name": "stdout",
          "text": [
            "   AAA  BBB  CCC\n",
            "0    4   10  100\n",
            "1    5   20   50\n",
            "2    6   30  -30\n",
            "3    7   40  -50\n",
            "   AAA  BBB  CCC\n",
            "0    4   10  100\n",
            "1    5   20   50\n",
            "2    6   30  -30\n",
            "3    7   40  -50\n",
            "   AAA  BBB  CCC\n",
            "0    4   10  100\n",
            "2    6   30  -30\n",
            "3    7   40  -50\n"
          ]
        }
      ]
    },
    {
      "cell_type": "code",
      "metadata": {
        "colab": {
          "base_uri": "https://localhost:8080/"
        },
        "id": "t3urm3xRev7S",
        "outputId": "ef8efce8-1bd1-46ad-c090-4370bfbe18a1"
      },
      "source": [
        "df = pd.DataFrame(\n",
        "    {\"AAA\":[4,5,6,7],\n",
        "     \"BBB\":[10,20,30,40],\n",
        "     \"CCC\":[100,50,-30,-50]}\n",
        ")\n",
        "\n",
        "df.drop([1,3], inplace=True)\n",
        "print(df)"
      ],
      "execution_count": null,
      "outputs": [
        {
          "output_type": "stream",
          "name": "stdout",
          "text": [
            "   AAA  BBB  CCC\n",
            "0    4   10  100\n",
            "2    6   30  -30\n"
          ]
        }
      ]
    },
    {
      "cell_type": "code",
      "metadata": {
        "colab": {
          "base_uri": "https://localhost:8080/"
        },
        "id": "VC9gKOrwfQ05",
        "outputId": "5f102308-90a6-4077-8483-abaf486f1cae"
      },
      "source": [
        "df = pd.DataFrame(\n",
        "    {\"AAA\":[4,5,6,7],\n",
        "     \"BBB\":[10,20,30,40],\n",
        "     \"CCC\":[100,50,-30,-50]}\n",
        ")\n",
        "\n",
        "\n",
        "target_index = df.loc[df['AAA']%2==0].index\n",
        "print(target_index)\n",
        "df.drop(target_index, inplace=True)\n",
        "print(df)"
      ],
      "execution_count": null,
      "outputs": [
        {
          "output_type": "stream",
          "name": "stdout",
          "text": [
            "Int64Index([0, 2], dtype='int64')\n",
            "   AAA  BBB  CCC\n",
            "1    5   20   50\n",
            "3    7   40  -50\n"
          ]
        }
      ]
    },
    {
      "cell_type": "code",
      "metadata": {
        "colab": {
          "base_uri": "https://localhost:8080/"
        },
        "id": "I_12zeOZfx-F",
        "outputId": "edc75cdb-7872-4d0b-e85e-3ab069f888c0"
      },
      "source": [
        "df = pd.DataFrame(\n",
        "    {\"AAA\":[\"철수\", \"영희\", \"tom\", \"\"],\n",
        "     \"BBB\":[10,20,30,40],\n",
        "     \"CCC\":[100,50,-30,-50]}\n",
        ")\n",
        "\n",
        "target_index = df.loc[df['AAA']==\"\"].index\n",
        "print(target_index)\n",
        "df.drop(target_index, inplace=True)\n",
        "print(df)"
      ],
      "execution_count": null,
      "outputs": [
        {
          "output_type": "stream",
          "name": "stdout",
          "text": [
            "Int64Index([3], dtype='int64')\n",
            "   AAA  BBB  CCC\n",
            "0   철수   10  100\n",
            "1   영희   20   50\n",
            "2  tom   30  -30\n"
          ]
        }
      ]
    },
    {
      "cell_type": "code",
      "metadata": {
        "colab": {
          "base_uri": "https://localhost:8080/"
        },
        "id": "gtYttSa8iA2C",
        "outputId": "3bde2712-f51a-40bb-9f1a-59d97a2ba004"
      },
      "source": [
        "df = pd.DataFrame(\n",
        "    {\"AAA\":[4,5,6,7],\n",
        "     \"BBB\":[10,35,30,25],\n",
        "     \"CCC\":[100,50,-30,-50]}\n",
        ")\n",
        "\n",
        "print(df.sort_values(by=\"BBB\"))\n",
        "print(df)"
      ],
      "execution_count": null,
      "outputs": [
        {
          "output_type": "stream",
          "name": "stdout",
          "text": [
            "   AAA  BBB  CCC\n",
            "0    4   10  100\n",
            "3    7   25  -50\n",
            "2    6   30  -30\n",
            "1    5   35   50\n",
            "   AAA  BBB  CCC\n",
            "0    4   10  100\n",
            "1    5   35   50\n",
            "2    6   30  -30\n",
            "3    7   25  -50\n"
          ]
        }
      ]
    },
    {
      "cell_type": "code",
      "metadata": {
        "colab": {
          "base_uri": "https://localhost:8080/"
        },
        "id": "ZndyJe-8iyKT",
        "outputId": "21bf07b5-15bf-4e36-ca7c-e73c1079cf95"
      },
      "source": [
        "df = pd.DataFrame(\n",
        "    {\"AAA\":[4,5,6,7],\n",
        "     \"BBB\":[10,35,30,25],\n",
        "     \"CCC\":[100,50,-30,-50]}\n",
        ")\n",
        "\n",
        "print(df.sort_values(by=\"BBB\", inplace=True))\n",
        "print(df)"
      ],
      "execution_count": null,
      "outputs": [
        {
          "output_type": "stream",
          "name": "stdout",
          "text": [
            "None\n",
            "   AAA  BBB  CCC\n",
            "0    4   10  100\n",
            "3    7   25  -50\n",
            "2    6   30  -30\n",
            "1    5   35   50\n"
          ]
        }
      ]
    },
    {
      "cell_type": "code",
      "metadata": {
        "colab": {
          "base_uri": "https://localhost:8080/"
        },
        "id": "TPFCEnFCjUDW",
        "outputId": "c245cab0-a546-4c69-9918-0692acd1b7ee"
      },
      "source": [
        "df = pd.DataFrame(\n",
        "    {\"AAA\":[4,5,6,7],\n",
        "     \"BBB\":[10,30,30,25],\n",
        "     \"CCC\":[100,50,-30,-50]}\n",
        ")\n",
        "\n",
        "df.sort_values(by=[\"BBB\", \"CCC\"], inplace=True)\n",
        "print(df)"
      ],
      "execution_count": null,
      "outputs": [
        {
          "output_type": "stream",
          "name": "stdout",
          "text": [
            "   AAA  BBB  CCC\n",
            "0    4   10  100\n",
            "3    7   25  -50\n",
            "2    6   30  -30\n",
            "1    5   30   50\n"
          ]
        }
      ]
    },
    {
      "cell_type": "code",
      "metadata": {
        "colab": {
          "base_uri": "https://localhost:8080/"
        },
        "id": "s4tbUTZujriv",
        "outputId": "a9783986-9a52-49ce-9902-089fb7bb1db4"
      },
      "source": [
        "df = pd.DataFrame(\n",
        "    {\"AAA\":[4,5,6,7],\n",
        "     \"BBB\":[10,35,30,25],\n",
        "     \"CCC\":[100,50,-30,-50]}\n",
        ")\n",
        "\n",
        "print(df.CCC.abs())\n",
        "print(df.CCC.abs().sort_values())\n",
        "print(df.CCC.abs().sort_values().index)\n",
        "print(df.loc[[2,1,3,0]])"
      ],
      "execution_count": null,
      "outputs": [
        {
          "output_type": "stream",
          "name": "stdout",
          "text": [
            "0    100\n",
            "1     50\n",
            "2     30\n",
            "3     50\n",
            "Name: CCC, dtype: int64\n",
            "2     30\n",
            "1     50\n",
            "3     50\n",
            "0    100\n",
            "Name: CCC, dtype: int64\n",
            "Int64Index([2, 1, 3, 0], dtype='int64')\n",
            "   AAA  BBB  CCC\n",
            "2    6   30  -30\n",
            "1    5   35   50\n",
            "3    7   25  -50\n",
            "0    4   10  100\n"
          ]
        }
      ]
    },
    {
      "cell_type": "code",
      "metadata": {
        "colab": {
          "base_uri": "https://localhost:8080/"
        },
        "id": "BxZs298sk9sy",
        "outputId": "d7bd08cc-1ebe-434f-ecef-efc1fc9a8668"
      },
      "source": [
        "df = pd.DataFrame(\n",
        "    {\"AAA\":[4,5,6,7],\n",
        "     \"BBB\":[10,35,30,25],\n",
        "     \"CCC\":[100,50,-30,-50]}\n",
        ")\n",
        "\n",
        "print(df['CCC']-10)\n",
        "print((df['CCC']-10).abs())\n",
        "print((df['CCC']-10).abs().sort_values())\n",
        "print((df['CCC']-10).abs().sort_values().index)\n",
        "print(df.loc[(df['CCC']-10).abs().sort_values().index])\n",
        "print(df.loc[(df['CCC']-10).abs().argsort()])"
      ],
      "execution_count": null,
      "outputs": [
        {
          "output_type": "stream",
          "name": "stdout",
          "text": [
            "0    90\n",
            "1    40\n",
            "2   -40\n",
            "3   -60\n",
            "Name: CCC, dtype: int64\n",
            "0    90\n",
            "1    40\n",
            "2    40\n",
            "3    60\n",
            "Name: CCC, dtype: int64\n",
            "1    40\n",
            "2    40\n",
            "3    60\n",
            "0    90\n",
            "Name: CCC, dtype: int64\n",
            "Int64Index([1, 2, 3, 0], dtype='int64')\n",
            "   AAA  BBB  CCC\n",
            "1    5   35   50\n",
            "2    6   30  -30\n",
            "3    7   25  -50\n",
            "0    4   10  100\n",
            "   AAA  BBB  CCC\n",
            "1    5   35   50\n",
            "2    6   30  -30\n",
            "3    7   25  -50\n",
            "0    4   10  100\n"
          ]
        }
      ]
    },
    {
      "cell_type": "code",
      "metadata": {
        "colab": {
          "base_uri": "https://localhost:8080/"
        },
        "id": "UliJQKecmGiS",
        "outputId": "ac55eced-46d0-4b34-cd78-b40e9c184177"
      },
      "source": [
        "a = np.array([1,3,5,2,4])\n",
        "print(np.argmax(a))\n",
        "print(np.argsort(a))"
      ],
      "execution_count": null,
      "outputs": [
        {
          "output_type": "stream",
          "name": "stdout",
          "text": [
            "2\n",
            "[0 3 1 4 2]\n"
          ]
        }
      ]
    },
    {
      "cell_type": "code",
      "metadata": {
        "colab": {
          "base_uri": "https://localhost:8080/"
        },
        "id": "BcXYqqGNnSmD",
        "outputId": "66353350-6a7d-4283-e5a8-df776715800c"
      },
      "source": [
        "df = pd.DataFrame({ \n",
        "        \"num\" : [ 0,1,2,3,4,5,6,7,8,9],\n",
        "        \"name\" : [\"A\", \"A\", \"B\", \"B\", \"C\", \"C\", \"A\", \"A\", \"B\", \"B\"]\n",
        "     })\n",
        "print(df)\n",
        "\n",
        "df['name_category'] = df['name'].astype('category').cat.codes\n",
        "print(df)"
      ],
      "execution_count": null,
      "outputs": [
        {
          "output_type": "stream",
          "name": "stdout",
          "text": [
            "   num name\n",
            "0    0    A\n",
            "1    1    A\n",
            "2    2    B\n",
            "3    3    B\n",
            "4    4    C\n",
            "5    5    C\n",
            "6    6    A\n",
            "7    7    A\n",
            "8    8    B\n",
            "9    9    B\n",
            "   num name  name_category\n",
            "0    0    A              0\n",
            "1    1    A              0\n",
            "2    2    B              1\n",
            "3    3    B              1\n",
            "4    4    C              2\n",
            "5    5    C              2\n",
            "6    6    A              0\n",
            "7    7    A              0\n",
            "8    8    B              1\n",
            "9    9    B              1\n"
          ]
        }
      ]
    },
    {
      "cell_type": "code",
      "metadata": {
        "colab": {
          "base_uri": "https://localhost:8080/"
        },
        "id": "6dSCyYOqoP-n",
        "outputId": "f8e72323-ea93-43d3-859c-30ab45b78a39"
      },
      "source": [
        "df = pd.DataFrame({ \n",
        "        \"num\" : [ 0,1,2,3,4,5,6,7,8,9],\n",
        "        \"name\" : [\"A\", \"A\", \"B\", \"B\", \"C\", \"C\", \"A\", \"A\", \"B\", \"B\"]\n",
        "     })\n",
        "\n",
        "categories = [ \"D\", \"C\", \"A\", \"B\" ]\n",
        "df['name_category'] = pd.Categorical(df['name'], \n",
        "                        categories=categories, ordered=True).codes\n",
        "print(df)"
      ],
      "execution_count": null,
      "outputs": [
        {
          "output_type": "stream",
          "name": "stdout",
          "text": [
            "   num name  name_category\n",
            "0    0    A              2\n",
            "1    1    A              2\n",
            "2    2    B              3\n",
            "3    3    B              3\n",
            "4    4    C              1\n",
            "5    5    C              1\n",
            "6    6    A              2\n",
            "7    7    A              2\n",
            "8    8    B              3\n",
            "9    9    B              3\n"
          ]
        }
      ]
    },
    {
      "cell_type": "code",
      "metadata": {
        "colab": {
          "base_uri": "https://localhost:8080/"
        },
        "id": "6hX-YeomqbsR",
        "outputId": "ec175a77-093f-44bd-eb5b-fb942279d8a6"
      },
      "source": [
        "df = pd.DataFrame({ \n",
        "        \"num\" : [ 0,1,2,3,4,5,6,7,8,9],\n",
        "        \"name\" : [\"A\", \"A\", \"B\", \"B\", \"C\", \"C\", \"A\", \"A\", \"B\", \"B\"]\n",
        "     })\n",
        "\n",
        "category_map = { \"B\":10, \"C\":11, \"A\":12, \"D\":13 }\n",
        "df['name_category'] = df['name'].map(category_map)\n",
        "print(df)"
      ],
      "execution_count": null,
      "outputs": [
        {
          "output_type": "stream",
          "name": "stdout",
          "text": [
            "   num name  name_category\n",
            "0    0    A             12\n",
            "1    1    A             12\n",
            "2    2    B             10\n",
            "3    3    B             10\n",
            "4    4    C             11\n",
            "5    5    C             11\n",
            "6    6    A             12\n",
            "7    7    A             12\n",
            "8    8    B             10\n",
            "9    9    B             10\n"
          ]
        }
      ]
    },
    {
      "cell_type": "code",
      "metadata": {
        "colab": {
          "base_uri": "https://localhost:8080/"
        },
        "id": "dJ2gWPUtsAbw",
        "outputId": "f2561be8-d2f1-4262-c679-5739655f8430"
      },
      "source": [
        "df = pd.DataFrame([[np.nan, 2, np.nan, 0],\n",
        "                   [3, 4, np.nan, 1],\n",
        "                   [np.nan, np.nan, np.nan, 5],\n",
        "                   [np.nan, 3, np.nan, 4]],\n",
        "                  columns=[\"A\", \"B\", \"C\", \"D\"])\n",
        "\n",
        "print(df)\n",
        "print(df.isnull())\n",
        "print(df.isnull().any())\n",
        "print(df.isnull().any().any())"
      ],
      "execution_count": null,
      "outputs": [
        {
          "output_type": "stream",
          "name": "stdout",
          "text": [
            "     A    B   C  D\n",
            "0  NaN  2.0 NaN  0\n",
            "1  3.0  4.0 NaN  1\n",
            "2  NaN  NaN NaN  5\n",
            "3  NaN  3.0 NaN  4\n",
            "       A      B     C      D\n",
            "0   True  False  True  False\n",
            "1  False  False  True  False\n",
            "2   True   True  True  False\n",
            "3   True  False  True  False\n",
            "A     True\n",
            "B     True\n",
            "C     True\n",
            "D    False\n",
            "dtype: bool\n",
            "True\n"
          ]
        }
      ]
    },
    {
      "cell_type": "code",
      "metadata": {
        "colab": {
          "base_uri": "https://localhost:8080/"
        },
        "id": "-o3_D1zhst2y",
        "outputId": "2b525e75-b930-4535-bf24-d2623068f1f6"
      },
      "source": [
        "df = pd.DataFrame([[np.nan, 2, np.nan, 0],\n",
        "                   [3, 4, np.nan, 1],\n",
        "                   [np.nan, np.nan, np.nan, 5],\n",
        "                   [np.nan, 3, np.nan, 4]],\n",
        "                  columns=[\"A\", \"B\", \"C\", \"D\"])\n",
        "\n",
        "print(df.isnull().sum())\n",
        "print(df.isnull().sum().sum())\n",
        "print(df.isnull().any())\n",
        "print(df.isnull().any().sum())\n",
        "\n",
        "data_count = len(df)\n",
        "\n",
        "print(df.isnull().sum()/data_count)\n"
      ],
      "execution_count": null,
      "outputs": [
        {
          "output_type": "stream",
          "name": "stdout",
          "text": [
            "A    3\n",
            "B    1\n",
            "C    4\n",
            "D    0\n",
            "dtype: int64\n",
            "8\n",
            "A     True\n",
            "B     True\n",
            "C     True\n",
            "D    False\n",
            "dtype: bool\n",
            "3\n",
            "A    0.75\n",
            "B    0.25\n",
            "C    1.00\n",
            "D    0.00\n",
            "dtype: float64\n"
          ]
        }
      ]
    },
    {
      "cell_type": "code",
      "metadata": {
        "colab": {
          "base_uri": "https://localhost:8080/"
        },
        "id": "PkeKlZFgu1Op",
        "outputId": "5f01a4b8-5f1f-4c7f-c9bb-1ac2ecf272aa"
      },
      "source": [
        "print(len(df))"
      ],
      "execution_count": null,
      "outputs": [
        {
          "output_type": "stream",
          "name": "stdout",
          "text": [
            "4\n"
          ]
        }
      ]
    },
    {
      "cell_type": "code",
      "metadata": {
        "colab": {
          "base_uri": "https://localhost:8080/"
        },
        "id": "cNuBDFP8vuOa",
        "outputId": "78514697-f67f-4916-9dc8-70bb0786f962"
      },
      "source": [
        "!wget https://raw.githubusercontent.com/dhrim/MDC_2021/master/material/deep_learning/data/titanic.csv"
      ],
      "execution_count": null,
      "outputs": [
        {
          "output_type": "stream",
          "name": "stdout",
          "text": [
            "--2021-11-24 04:08:47--  https://raw.githubusercontent.com/dhrim/MDC_2021/master/material/deep_learning/data/titanic.csv\n",
            "Resolving raw.githubusercontent.com (raw.githubusercontent.com)... 185.199.108.133, 185.199.109.133, 185.199.110.133, ...\n",
            "Connecting to raw.githubusercontent.com (raw.githubusercontent.com)|185.199.108.133|:443... connected.\n",
            "HTTP request sent, awaiting response... 200 OK\n",
            "Length: 61194 (60K) [text/plain]\n",
            "Saving to: ‘titanic.csv’\n",
            "\n",
            "\rtitanic.csv           0%[                    ]       0  --.-KB/s               \rtitanic.csv         100%[===================>]  59.76K  --.-KB/s    in 0.004s  \n",
            "\n",
            "2021-11-24 04:08:48 (15.6 MB/s) - ‘titanic.csv’ saved [61194/61194]\n",
            "\n"
          ]
        }
      ]
    },
    {
      "cell_type": "code",
      "metadata": {
        "colab": {
          "base_uri": "https://localhost:8080/"
        },
        "id": "g-Lwju_BIbTz",
        "outputId": "0717a092-5a73-4975-d9ea-c6446afd9043"
      },
      "source": [
        "!head titanic.csv"
      ],
      "execution_count": null,
      "outputs": [
        {
          "output_type": "stream",
          "name": "stdout",
          "text": [
            "PassengerId,Survived,Pclass,Name,Sex,Age,SibSp,Parch,Ticket,Fare,Cabin,Embarked\r\n",
            "1,0,3,\"Braund, Mr. Owen Harris\",male,22,1,0,A/5 21171,7.25,,S\r\n",
            "2,1,1,\"Cumings, Mrs. John Bradley (Florence Briggs Thayer)\",female,38,1,0,PC 17599,71.2833,C85,C\r\n",
            "3,1,3,\"Heikkinen, Miss. Laina\",female,26,0,0,STON/O2. 3101282,7.925,,S\r\n",
            "4,1,1,\"Futrelle, Mrs. Jacques Heath (Lily May Peel)\",female,35,1,0,113803,53.1,C123,S\r\n",
            "5,0,3,\"Allen, Mr. William Henry\",male,35,0,0,373450,8.05,,S\r\n",
            "6,0,3,\"Moran, Mr. James\",male,,0,0,330877,8.4583,,Q\r\n",
            "7,0,1,\"McCarthy, Mr. Timothy J\",male,54,0,0,17463,51.8625,E46,S\r\n",
            "8,0,3,\"Palsson, Master. Gosta Leonard\",male,2,3,1,349909,21.075,,S\r\n",
            "9,1,3,\"Johnson, Mrs. Oscar W (Elisabeth Vilhelmina Berg)\",female,27,0,2,347742,11.1333,,S\r\n"
          ]
        }
      ]
    },
    {
      "cell_type": "code",
      "metadata": {
        "id": "RgPchCuhIdu-"
      },
      "source": [
        "df = pd.read_csv(\"titanic.csv\")"
      ],
      "execution_count": null,
      "outputs": []
    },
    {
      "cell_type": "code",
      "metadata": {
        "colab": {
          "base_uri": "https://localhost:8080/",
          "height": 504
        },
        "id": "FBo0VhpfIhIF",
        "outputId": "58a4a865-290e-4ec9-d39c-963952e0bdf5"
      },
      "source": [
        "df.head()"
      ],
      "execution_count": null,
      "outputs": [
        {
          "output_type": "execute_result",
          "data": {
            "text/html": [
              "<div>\n",
              "<style scoped>\n",
              "    .dataframe tbody tr th:only-of-type {\n",
              "        vertical-align: middle;\n",
              "    }\n",
              "\n",
              "    .dataframe tbody tr th {\n",
              "        vertical-align: top;\n",
              "    }\n",
              "\n",
              "    .dataframe thead th {\n",
              "        text-align: right;\n",
              "    }\n",
              "</style>\n",
              "<table border=\"1\" class=\"dataframe\">\n",
              "  <thead>\n",
              "    <tr style=\"text-align: right;\">\n",
              "      <th></th>\n",
              "      <th>PassengerId</th>\n",
              "      <th>Survived</th>\n",
              "      <th>Pclass</th>\n",
              "      <th>Name</th>\n",
              "      <th>Sex</th>\n",
              "      <th>Age</th>\n",
              "      <th>SibSp</th>\n",
              "      <th>Parch</th>\n",
              "      <th>Ticket</th>\n",
              "      <th>Fare</th>\n",
              "      <th>Cabin</th>\n",
              "      <th>Embarked</th>\n",
              "    </tr>\n",
              "  </thead>\n",
              "  <tbody>\n",
              "    <tr>\n",
              "      <th>0</th>\n",
              "      <td>1</td>\n",
              "      <td>0</td>\n",
              "      <td>3</td>\n",
              "      <td>Braund, Mr. Owen Harris</td>\n",
              "      <td>male</td>\n",
              "      <td>22.0</td>\n",
              "      <td>1</td>\n",
              "      <td>0</td>\n",
              "      <td>A/5 21171</td>\n",
              "      <td>7.2500</td>\n",
              "      <td>NaN</td>\n",
              "      <td>S</td>\n",
              "    </tr>\n",
              "    <tr>\n",
              "      <th>1</th>\n",
              "      <td>2</td>\n",
              "      <td>1</td>\n",
              "      <td>1</td>\n",
              "      <td>Cumings, Mrs. John Bradley (Florence Briggs Th...</td>\n",
              "      <td>female</td>\n",
              "      <td>38.0</td>\n",
              "      <td>1</td>\n",
              "      <td>0</td>\n",
              "      <td>PC 17599</td>\n",
              "      <td>71.2833</td>\n",
              "      <td>C85</td>\n",
              "      <td>C</td>\n",
              "    </tr>\n",
              "    <tr>\n",
              "      <th>2</th>\n",
              "      <td>3</td>\n",
              "      <td>1</td>\n",
              "      <td>3</td>\n",
              "      <td>Heikkinen, Miss. Laina</td>\n",
              "      <td>female</td>\n",
              "      <td>26.0</td>\n",
              "      <td>0</td>\n",
              "      <td>0</td>\n",
              "      <td>STON/O2. 3101282</td>\n",
              "      <td>7.9250</td>\n",
              "      <td>NaN</td>\n",
              "      <td>S</td>\n",
              "    </tr>\n",
              "    <tr>\n",
              "      <th>3</th>\n",
              "      <td>4</td>\n",
              "      <td>1</td>\n",
              "      <td>1</td>\n",
              "      <td>Futrelle, Mrs. Jacques Heath (Lily May Peel)</td>\n",
              "      <td>female</td>\n",
              "      <td>35.0</td>\n",
              "      <td>1</td>\n",
              "      <td>0</td>\n",
              "      <td>113803</td>\n",
              "      <td>53.1000</td>\n",
              "      <td>C123</td>\n",
              "      <td>S</td>\n",
              "    </tr>\n",
              "    <tr>\n",
              "      <th>4</th>\n",
              "      <td>5</td>\n",
              "      <td>0</td>\n",
              "      <td>3</td>\n",
              "      <td>Allen, Mr. William Henry</td>\n",
              "      <td>male</td>\n",
              "      <td>35.0</td>\n",
              "      <td>0</td>\n",
              "      <td>0</td>\n",
              "      <td>373450</td>\n",
              "      <td>8.0500</td>\n",
              "      <td>NaN</td>\n",
              "      <td>S</td>\n",
              "    </tr>\n",
              "  </tbody>\n",
              "</table>\n",
              "</div>"
            ],
            "text/plain": [
              "   PassengerId  Survived  Pclass  ...     Fare Cabin  Embarked\n",
              "0            1         0       3  ...   7.2500   NaN         S\n",
              "1            2         1       1  ...  71.2833   C85         C\n",
              "2            3         1       3  ...   7.9250   NaN         S\n",
              "3            4         1       1  ...  53.1000  C123         S\n",
              "4            5         0       3  ...   8.0500   NaN         S\n",
              "\n",
              "[5 rows x 12 columns]"
            ]
          },
          "metadata": {},
          "execution_count": 137
        }
      ]
    },
    {
      "cell_type": "code",
      "metadata": {
        "colab": {
          "base_uri": "https://localhost:8080/"
        },
        "id": "d0XPBcz_IiP1",
        "outputId": "8973d1aa-b5cc-4443-8255-8befc07d4cc9"
      },
      "source": [
        "df.info()"
      ],
      "execution_count": null,
      "outputs": [
        {
          "output_type": "stream",
          "name": "stdout",
          "text": [
            "<class 'pandas.core.frame.DataFrame'>\n",
            "RangeIndex: 891 entries, 0 to 890\n",
            "Data columns (total 12 columns):\n",
            " #   Column       Non-Null Count  Dtype  \n",
            "---  ------       --------------  -----  \n",
            " 0   PassengerId  891 non-null    int64  \n",
            " 1   Survived     891 non-null    int64  \n",
            " 2   Pclass       891 non-null    int64  \n",
            " 3   Name         891 non-null    object \n",
            " 4   Sex          891 non-null    object \n",
            " 5   Age          714 non-null    float64\n",
            " 6   SibSp        891 non-null    int64  \n",
            " 7   Parch        891 non-null    int64  \n",
            " 8   Ticket       891 non-null    object \n",
            " 9   Fare         891 non-null    float64\n",
            " 10  Cabin        204 non-null    object \n",
            " 11  Embarked     889 non-null    object \n",
            "dtypes: float64(2), int64(5), object(5)\n",
            "memory usage: 83.7+ KB\n"
          ]
        }
      ]
    },
    {
      "cell_type": "code",
      "metadata": {
        "colab": {
          "base_uri": "https://localhost:8080/"
        },
        "id": "fKI8y__KIj0e",
        "outputId": "19627c7d-256b-45e0-ed23-960a8022c655"
      },
      "source": [
        "df.isnull().sum()"
      ],
      "execution_count": null,
      "outputs": [
        {
          "output_type": "execute_result",
          "data": {
            "text/plain": [
              "PassengerId      0\n",
              "Survived         0\n",
              "Pclass           0\n",
              "Name             0\n",
              "Sex              0\n",
              "Age            177\n",
              "SibSp            0\n",
              "Parch            0\n",
              "Ticket           0\n",
              "Fare             0\n",
              "Cabin          687\n",
              "Embarked         2\n",
              "dtype: int64"
            ]
          },
          "metadata": {},
          "execution_count": 139
        }
      ]
    },
    {
      "cell_type": "code",
      "metadata": {
        "colab": {
          "base_uri": "https://localhost:8080/"
        },
        "id": "3EoTG4pqImNm",
        "outputId": "fa460630-069d-4b0f-8a36-10d34c640e9f"
      },
      "source": [
        "data_count = len(df)\n",
        "print(df.isnull().sum()/data_count)"
      ],
      "execution_count": null,
      "outputs": [
        {
          "output_type": "stream",
          "name": "stdout",
          "text": [
            "PassengerId    0.000000\n",
            "Survived       0.000000\n",
            "Pclass         0.000000\n",
            "Name           0.000000\n",
            "Sex            0.000000\n",
            "Age            0.198653\n",
            "SibSp          0.000000\n",
            "Parch          0.000000\n",
            "Ticket         0.000000\n",
            "Fare           0.000000\n",
            "Cabin          0.771044\n",
            "Embarked       0.002245\n",
            "dtype: float64\n"
          ]
        }
      ]
    },
    {
      "cell_type": "code",
      "metadata": {
        "id": "3-lDNWiVIufl"
      },
      "source": [
        "df.drop(df.loc[df.Age.isnull()].index, inplace=True)\n",
        "df.drop(df.loc[df.Cabin.isnull()].index, inplace=True)\n",
        "df.drop(df.loc[df.Embarked.isnull()].index, inplace=True)"
      ],
      "execution_count": null,
      "outputs": []
    },
    {
      "cell_type": "code",
      "metadata": {
        "colab": {
          "base_uri": "https://localhost:8080/"
        },
        "id": "d5oGBMzkJMby",
        "outputId": "cb18176f-aad3-45ce-c37b-e4c823d76337"
      },
      "source": [
        "print(df.info())\n",
        "print(df.isnull().sum())\n"
      ],
      "execution_count": null,
      "outputs": [
        {
          "output_type": "stream",
          "name": "stdout",
          "text": [
            "<class 'pandas.core.frame.DataFrame'>\n",
            "Int64Index: 183 entries, 1 to 889\n",
            "Data columns (total 12 columns):\n",
            " #   Column       Non-Null Count  Dtype  \n",
            "---  ------       --------------  -----  \n",
            " 0   PassengerId  183 non-null    int64  \n",
            " 1   Survived     183 non-null    int64  \n",
            " 2   Pclass       183 non-null    int64  \n",
            " 3   Name         183 non-null    object \n",
            " 4   Sex          183 non-null    object \n",
            " 5   Age          183 non-null    float64\n",
            " 6   SibSp        183 non-null    int64  \n",
            " 7   Parch        183 non-null    int64  \n",
            " 8   Ticket       183 non-null    object \n",
            " 9   Fare         183 non-null    float64\n",
            " 10  Cabin        183 non-null    object \n",
            " 11  Embarked     183 non-null    object \n",
            "dtypes: float64(2), int64(5), object(5)\n",
            "memory usage: 23.6+ KB\n",
            "None\n",
            "PassengerId    0\n",
            "Survived       0\n",
            "Pclass         0\n",
            "Name           0\n",
            "Sex            0\n",
            "Age            0\n",
            "SibSp          0\n",
            "Parch          0\n",
            "Ticket         0\n",
            "Fare           0\n",
            "Cabin          0\n",
            "Embarked       0\n",
            "dtype: int64\n"
          ]
        }
      ]
    },
    {
      "cell_type": "code",
      "metadata": {
        "colab": {
          "base_uri": "https://localhost:8080/"
        },
        "id": "PXi8ZbByJ9A8",
        "outputId": "ba7a6050-7b3d-40eb-9f15-5ce11a6634f2"
      },
      "source": [
        "df = pd.read_csv(\"titanic.csv\")\n",
        "print(df.info())\n",
        "print(df.isnull().any().any())\n",
        "print()\n",
        "\n",
        "df.dropna(inplace=True)\n",
        "print(df.info())\n",
        "print(df.isnull().any().any())"
      ],
      "execution_count": null,
      "outputs": [
        {
          "output_type": "stream",
          "name": "stdout",
          "text": [
            "<class 'pandas.core.frame.DataFrame'>\n",
            "RangeIndex: 891 entries, 0 to 890\n",
            "Data columns (total 12 columns):\n",
            " #   Column       Non-Null Count  Dtype  \n",
            "---  ------       --------------  -----  \n",
            " 0   PassengerId  891 non-null    int64  \n",
            " 1   Survived     891 non-null    int64  \n",
            " 2   Pclass       891 non-null    int64  \n",
            " 3   Name         891 non-null    object \n",
            " 4   Sex          891 non-null    object \n",
            " 5   Age          714 non-null    float64\n",
            " 6   SibSp        891 non-null    int64  \n",
            " 7   Parch        891 non-null    int64  \n",
            " 8   Ticket       891 non-null    object \n",
            " 9   Fare         891 non-null    float64\n",
            " 10  Cabin        204 non-null    object \n",
            " 11  Embarked     889 non-null    object \n",
            "dtypes: float64(2), int64(5), object(5)\n",
            "memory usage: 83.7+ KB\n",
            "None\n",
            "True\n",
            "\n",
            "<class 'pandas.core.frame.DataFrame'>\n",
            "Int64Index: 183 entries, 1 to 889\n",
            "Data columns (total 12 columns):\n",
            " #   Column       Non-Null Count  Dtype  \n",
            "---  ------       --------------  -----  \n",
            " 0   PassengerId  183 non-null    int64  \n",
            " 1   Survived     183 non-null    int64  \n",
            " 2   Pclass       183 non-null    int64  \n",
            " 3   Name         183 non-null    object \n",
            " 4   Sex          183 non-null    object \n",
            " 5   Age          183 non-null    float64\n",
            " 6   SibSp        183 non-null    int64  \n",
            " 7   Parch        183 non-null    int64  \n",
            " 8   Ticket       183 non-null    object \n",
            " 9   Fare         183 non-null    float64\n",
            " 10  Cabin        183 non-null    object \n",
            " 11  Embarked     183 non-null    object \n",
            "dtypes: float64(2), int64(5), object(5)\n",
            "memory usage: 18.6+ KB\n",
            "None\n",
            "False\n"
          ]
        }
      ]
    },
    {
      "cell_type": "code",
      "metadata": {
        "colab": {
          "base_uri": "https://localhost:8080/"
        },
        "id": "uD9IY_dsMAs0",
        "outputId": "0af61670-bb14-4b5f-b629-70af6b0a7f85"
      },
      "source": [
        "df = pd.read_csv(\"titanic.csv\")\n",
        "print(df.isnull().any().any())\n",
        "\n",
        "df.drop(columns=[\"Age\", \"Cabin\", \"Embarked\"], inplace=True)\n",
        "print(df.isnull().any().any())"
      ],
      "execution_count": null,
      "outputs": [
        {
          "output_type": "stream",
          "name": "stdout",
          "text": [
            "True\n",
            "False\n"
          ]
        }
      ]
    },
    {
      "cell_type": "code",
      "metadata": {
        "colab": {
          "base_uri": "https://localhost:8080/"
        },
        "id": "B1-sXvorMKyd",
        "outputId": "9545dbc4-8052-46a7-ec71-8060666f64a6"
      },
      "source": [
        "df = pd.read_csv(\"titanic.csv\")\n",
        "df.loc[df.Age.isnull(), \"Age\"] = 0\n",
        "\n",
        "df.isnull().sum()"
      ],
      "execution_count": null,
      "outputs": [
        {
          "output_type": "execute_result",
          "data": {
            "text/plain": [
              "PassengerId      0\n",
              "Survived         0\n",
              "Pclass           0\n",
              "Name             0\n",
              "Sex              0\n",
              "Age              0\n",
              "SibSp            0\n",
              "Parch            0\n",
              "Ticket           0\n",
              "Fare             0\n",
              "Cabin          687\n",
              "Embarked         2\n",
              "dtype: int64"
            ]
          },
          "metadata": {},
          "execution_count": 168
        }
      ]
    },
    {
      "cell_type": "code",
      "metadata": {
        "colab": {
          "base_uri": "https://localhost:8080/"
        },
        "id": "JTFqXM0BMxJR",
        "outputId": "ea91fda2-3cc8-49c5-89d0-0aa0d18c6051"
      },
      "source": [
        "df = pd.read_csv(\"titanic.csv\")\n",
        "age_mean = df.loc[df.Age.notnull()].Age.mean()\n",
        "\n",
        "df.loc[df.Age.isnull(), \"Age\"] = age_mean\n",
        "df.isnull().sum()"
      ],
      "execution_count": null,
      "outputs": [
        {
          "output_type": "execute_result",
          "data": {
            "text/plain": [
              "PassengerId      0\n",
              "Survived         0\n",
              "Pclass           0\n",
              "Name             0\n",
              "Sex              0\n",
              "Age              0\n",
              "SibSp            0\n",
              "Parch            0\n",
              "Ticket           0\n",
              "Fare             0\n",
              "Cabin          687\n",
              "Embarked         2\n",
              "dtype: int64"
            ]
          },
          "metadata": {},
          "execution_count": 175
        }
      ]
    },
    {
      "cell_type": "code",
      "metadata": {
        "colab": {
          "base_uri": "https://localhost:8080/"
        },
        "id": "IXU47N-LNoqx",
        "outputId": "3f63b2e3-1abc-4060-9f01-ba6a6206076d"
      },
      "source": [
        ""
      ],
      "execution_count": null,
      "outputs": [
        {
          "output_type": "execute_result",
          "data": {
            "text/plain": [
              "0       NaN\n",
              "1       C85\n",
              "2       NaN\n",
              "3      C123\n",
              "4       NaN\n",
              "       ... \n",
              "886     NaN\n",
              "887     B42\n",
              "888     NaN\n",
              "889    C148\n",
              "890     NaN\n",
              "Name: Cabin, Length: 891, dtype: object"
            ]
          },
          "metadata": {},
          "execution_count": 177
        }
      ]
    },
    {
      "cell_type": "code",
      "metadata": {
        "id": "Q3RIeA2UOtxR"
      },
      "source": [
        ""
      ],
      "execution_count": null,
      "outputs": []
    },
    {
      "cell_type": "markdown",
      "metadata": {
        "id": "R-RA51dXPDZZ"
      },
      "source": [
        "```\n",
        "Age : 평균으로 대체\n",
        "Cabin : 컬럼 버리기\n",
        "Embarked : 데이터 버리기\n",
        "```"
      ]
    },
    {
      "cell_type": "code",
      "metadata": {
        "colab": {
          "base_uri": "https://localhost:8080/"
        },
        "id": "7rZVFIV9PJQ4",
        "outputId": "f1754e2b-39e2-43d1-9dc4-efeeaaba5929"
      },
      "source": [
        "df = pd.read_csv(\"titanic.csv\")\n",
        "age_mean = df.loc[df.Age.notnull()].Age.mean()\n",
        "\n",
        "df.loc[df.Age.isnull(), \"Age\"] = age_mean\n",
        "df.isnull().sum()\n",
        "\n",
        "df.drop(columns=\"Cabin\", inplace=True)\n",
        "df.isnull().sum()\n",
        "\n",
        "df.drop(df.loc[df.Embarked.isnull()].index, inplace=True)\n",
        "df.isnull().sum()\n",
        "\n",
        "print(\"age mean = \",df.Age.mean())\n",
        "print(\"len(df) = \",len(df))\n",
        "print(df.isnull().any().any())\n"
      ],
      "execution_count": null,
      "outputs": [
        {
          "output_type": "stream",
          "name": "stdout",
          "text": [
            "age mean =  29.653446370674192\n",
            "len(df) =  889\n",
            "False\n"
          ]
        }
      ]
    },
    {
      "cell_type": "code",
      "metadata": {
        "colab": {
          "base_uri": "https://localhost:8080/"
        },
        "id": "4DOQByjXQJ77",
        "outputId": "60b9b4ca-7c2b-4419-89cb-fe8da850a86f"
      },
      "source": [
        "df = pd.read_csv(\"titanic.csv\")\n",
        "age_mean = df.loc[df.Age.notnull()].Age.mean()\n",
        "\n",
        "default_value = {\"Age\":age_mean, \"Cabin\":\"UNKNOWN\", \"Embarked\":\"N\"}\n",
        "df.fillna(default_value, inplace=True)\n",
        "print(df.isnull().sum())"
      ],
      "execution_count": null,
      "outputs": [
        {
          "output_type": "stream",
          "name": "stdout",
          "text": [
            "PassengerId    0\n",
            "Survived       0\n",
            "Pclass         0\n",
            "Name           0\n",
            "Sex            0\n",
            "Age            0\n",
            "SibSp          0\n",
            "Parch          0\n",
            "Ticket         0\n",
            "Fare           0\n",
            "Cabin          0\n",
            "Embarked       0\n",
            "dtype: int64\n"
          ]
        }
      ]
    },
    {
      "cell_type": "code",
      "metadata": {
        "colab": {
          "base_uri": "https://localhost:8080/"
        },
        "id": "fLXNSbEJUkS6",
        "outputId": "80382dcd-ce1b-4f2d-9696-2ea79cea7de3"
      },
      "source": [
        "df = pd.DataFrame([[np.nan, 2, np.nan, 0],\n",
        "                   [3, 4, np.nan, 1],\n",
        "                   [np.nan, np.nan, np.nan, 5],\n",
        "                   [np.nan, 3, np.nan, 4]],\n",
        "                  columns=list('ABCD'))\n",
        "\n",
        "print(df)\n",
        "\n",
        "df.fillna(method=\"ffill\", inplace=True)\n",
        "print(df)"
      ],
      "execution_count": null,
      "outputs": [
        {
          "output_type": "stream",
          "name": "stdout",
          "text": [
            "     A    B   C  D\n",
            "0  NaN  2.0 NaN  0\n",
            "1  3.0  4.0 NaN  1\n",
            "2  NaN  NaN NaN  5\n",
            "3  NaN  3.0 NaN  4\n",
            "     A    B   C  D\n",
            "0  NaN  2.0 NaN  0\n",
            "1  3.0  4.0 NaN  1\n",
            "2  3.0  4.0 NaN  5\n",
            "3  3.0  3.0 NaN  4\n"
          ]
        }
      ]
    },
    {
      "cell_type": "code",
      "metadata": {
        "colab": {
          "base_uri": "https://localhost:8080/"
        },
        "id": "N8VCnawVWRMK",
        "outputId": "02baa8a8-f007-4109-fd2d-253aaaeed55a"
      },
      "source": [
        "df = pd.DataFrame([[np.nan, 2, np.nan, 0],\n",
        "                   [3, 4, np.nan, 1],\n",
        "                   [np.nan, np.nan, np.nan, 5],\n",
        "                   [np.nan, 3, np.nan, 4]],\n",
        "                  columns=list('ABCD'))\n",
        "\n",
        "print(df)\n",
        "\n",
        "df.fillna(method=\"bfill\", inplace=True)\n",
        "print(df)"
      ],
      "execution_count": null,
      "outputs": [
        {
          "output_type": "stream",
          "name": "stdout",
          "text": [
            "     A    B   C  D\n",
            "0  NaN  2.0 NaN  0\n",
            "1  3.0  4.0 NaN  1\n",
            "2  NaN  NaN NaN  5\n",
            "3  NaN  3.0 NaN  4\n",
            "     A    B   C  D\n",
            "0  3.0  2.0 NaN  0\n",
            "1  3.0  4.0 NaN  1\n",
            "2  NaN  3.0 NaN  5\n",
            "3  NaN  3.0 NaN  4\n"
          ]
        }
      ]
    },
    {
      "cell_type": "code",
      "metadata": {
        "colab": {
          "base_uri": "https://localhost:8080/"
        },
        "id": "7275BMTGWza5",
        "outputId": "638577a5-f5d9-4175-be50-16d2755623a2"
      },
      "source": [
        "df = pd.DataFrame([[np.nan, 2, np.nan, 0],\n",
        "                   [3, 4, np.nan, 1],\n",
        "                   [np.nan, np.nan, np.nan, 5],\n",
        "                   [np.nan, 3, np.nan, 4]],\n",
        "                  columns=list('ABCD'))\n",
        "\n",
        "print(df)\n",
        "df.fillna(method=\"ffill\", inplace=True)\n",
        "df.fillna(method=\"bfill\", inplace=True)\n",
        "print(df)"
      ],
      "execution_count": null,
      "outputs": [
        {
          "output_type": "stream",
          "name": "stdout",
          "text": [
            "     A    B   C  D\n",
            "0  NaN  2.0 NaN  0\n",
            "1  3.0  4.0 NaN  1\n",
            "2  NaN  NaN NaN  5\n",
            "3  NaN  3.0 NaN  4\n",
            "     A    B   C  D\n",
            "0  3.0  2.0 NaN  0\n",
            "1  3.0  4.0 NaN  1\n",
            "2  3.0  4.0 NaN  5\n",
            "3  3.0  3.0 NaN  4\n"
          ]
        }
      ]
    },
    {
      "cell_type": "code",
      "metadata": {
        "colab": {
          "base_uri": "https://localhost:8080/",
          "height": 175
        },
        "id": "u4-5ZO3iW9iQ",
        "outputId": "ba383394-8e0f-48c7-ee55-80a026a88944"
      },
      "source": [
        "df.head()"
      ],
      "execution_count": null,
      "outputs": [
        {
          "output_type": "execute_result",
          "data": {
            "text/html": [
              "<div>\n",
              "<style scoped>\n",
              "    .dataframe tbody tr th:only-of-type {\n",
              "        vertical-align: middle;\n",
              "    }\n",
              "\n",
              "    .dataframe tbody tr th {\n",
              "        vertical-align: top;\n",
              "    }\n",
              "\n",
              "    .dataframe thead th {\n",
              "        text-align: right;\n",
              "    }\n",
              "</style>\n",
              "<table border=\"1\" class=\"dataframe\">\n",
              "  <thead>\n",
              "    <tr style=\"text-align: right;\">\n",
              "      <th></th>\n",
              "      <th>A</th>\n",
              "      <th>B</th>\n",
              "      <th>C</th>\n",
              "      <th>D</th>\n",
              "    </tr>\n",
              "  </thead>\n",
              "  <tbody>\n",
              "    <tr>\n",
              "      <th>0</th>\n",
              "      <td>3.0</td>\n",
              "      <td>2.0</td>\n",
              "      <td>NaN</td>\n",
              "      <td>0</td>\n",
              "    </tr>\n",
              "    <tr>\n",
              "      <th>1</th>\n",
              "      <td>3.0</td>\n",
              "      <td>4.0</td>\n",
              "      <td>NaN</td>\n",
              "      <td>1</td>\n",
              "    </tr>\n",
              "    <tr>\n",
              "      <th>2</th>\n",
              "      <td>3.0</td>\n",
              "      <td>4.0</td>\n",
              "      <td>NaN</td>\n",
              "      <td>5</td>\n",
              "    </tr>\n",
              "    <tr>\n",
              "      <th>3</th>\n",
              "      <td>3.0</td>\n",
              "      <td>3.0</td>\n",
              "      <td>NaN</td>\n",
              "      <td>4</td>\n",
              "    </tr>\n",
              "  </tbody>\n",
              "</table>\n",
              "</div>"
            ],
            "text/plain": [
              "     A    B   C  D\n",
              "0  3.0  2.0 NaN  0\n",
              "1  3.0  4.0 NaN  1\n",
              "2  3.0  4.0 NaN  5\n",
              "3  3.0  3.0 NaN  4"
            ]
          },
          "metadata": {},
          "execution_count": 188
        }
      ]
    },
    {
      "cell_type": "code",
      "metadata": {
        "colab": {
          "base_uri": "https://localhost:8080/"
        },
        "id": "krQQ-3F0XtEJ",
        "outputId": "46f7b3db-dd98-4ced-a3db-505152ebb837"
      },
      "source": [
        "df = pd.read_csv(\"titanic.csv\")\n",
        "age_mean = df.loc[df.Age.notnull()].Age.mean()\n",
        "\n",
        "default_value = {\"Age\":age_mean, \"Cabin\":\"UNKNOWN\", \"Embarked\":\"N\"}\n",
        "df.fillna(default_value, inplace=True)\n",
        "# print(df.isnull().sum())\n",
        "\n",
        "print(df.Age.max())\n",
        "print(df.Age.min())\n",
        "max = df.Age.max()\n",
        "min = df.Age.min()\n",
        "\n",
        "df['Age_normalized'] = ( df.Age - min ) / (max - min)"
      ],
      "execution_count": null,
      "outputs": [
        {
          "output_type": "stream",
          "name": "stdout",
          "text": [
            "80.0\n",
            "0.42\n"
          ]
        }
      ]
    },
    {
      "cell_type": "code",
      "metadata": {
        "colab": {
          "base_uri": "https://localhost:8080/",
          "height": 283
        },
        "id": "g9Bvf6buX3aM",
        "outputId": "4cadfbb0-c015-4db0-c1d3-798d0e1a5d3a"
      },
      "source": [
        "df.Age.hist()"
      ],
      "execution_count": null,
      "outputs": [
        {
          "output_type": "execute_result",
          "data": {
            "text/plain": [
              "<matplotlib.axes._subplots.AxesSubplot at 0x7f2cf34dd990>"
            ]
          },
          "metadata": {},
          "execution_count": 192
        },
        {
          "output_type": "display_data",
          "data": {
            "image/png": "[encoded data removed]",
            "text/plain": [
              "<Figure size 432x288 with 1 Axes>"
            ]
          },
          "metadata": {
            "needs_background": "light"
          }
        }
      ]
    },
    {
      "cell_type": "code",
      "metadata": {
        "colab": {
          "base_uri": "https://localhost:8080/",
          "height": 283
        },
        "id": "44VVhWqrYRqC",
        "outputId": "8fc4c618-7a94-4501-f256-7e3a7e489cc2"
      },
      "source": [
        "df.Age_normalized.hist()"
      ],
      "execution_count": null,
      "outputs": [
        {
          "output_type": "execute_result",
          "data": {
            "text/plain": [
              "<matplotlib.axes._subplots.AxesSubplot at 0x7f2cf2f1bc10>"
            ]
          },
          "metadata": {},
          "execution_count": 194
        },
        {
          "output_type": "display_data",
          "data": {
            "image/png": "[encoded data removed]",
            "text/plain": [
              "<Figure size 432x288 with 1 Axes>"
            ]
          },
          "metadata": {
            "needs_background": "light"
          }
        }
      ]
    },
    {
      "cell_type": "code",
      "metadata": {
        "id": "z9R3zHltY-06"
      },
      "source": [
        "df = pd.read_csv(\"titanic.csv\")\n",
        "age_mean = df.loc[df.Age.notnull()].Age.mean()\n",
        "\n",
        "default_value = {\"Age\":age_mean, \"Cabin\":\"UNKNOWN\", \"Embarked\":\"N\"}\n",
        "df.fillna(default_value, inplace=True)\n",
        "# print(df.isnull().sum())\n",
        "\n",
        "mean = df.Age.mean()\n",
        "std = df.Age.std()\n",
        "\n",
        "df['Age_standardization'] = ( df.Age - mean ) / std"
      ],
      "execution_count": null,
      "outputs": []
    },
    {
      "cell_type": "code",
      "metadata": {
        "colab": {
          "base_uri": "https://localhost:8080/",
          "height": 283
        },
        "id": "y_zxxyHiZchT",
        "outputId": "0fa17713-dc56-435c-cf06-529e035dd08a"
      },
      "source": [
        "df.Age_standardization.hist()"
      ],
      "execution_count": null,
      "outputs": [
        {
          "output_type": "execute_result",
          "data": {
            "text/plain": [
              "<matplotlib.axes._subplots.AxesSubplot at 0x7f2cf2f153d0>"
            ]
          },
          "metadata": {},
          "execution_count": 196
        },
        {
          "output_type": "display_data",
          "data": {
            "image/png": "[encoded data removed]",
            "text/plain": [
              "<Figure size 432x288 with 1 Axes>"
            ]
          },
          "metadata": {
            "needs_background": "light"
          }
        }
      ]
    },
    {
      "cell_type": "code",
      "metadata": {
        "colab": {
          "base_uri": "https://localhost:8080/"
        },
        "id": "zF6XjsivZers",
        "outputId": "872c1493-db66-45ee-b52d-684d2f72daf5"
      },
      "source": [
        "df = pd.DataFrame({ \n",
        "        \"num\" : [ 0,1,2,3,4,5,6,7,8,9],\n",
        "        \"name\" : [\"A\", \"A\", \"B\", \"B\", \"C\", \"C\", \"A\", \"A\", \"B\", \"B\"]\n",
        "     })\n",
        "# print(df)\n",
        "\n",
        "df['name_category'] = df['name'].astype('category').cat.codes\n",
        "df.drop(columns=\"name\", inplace=True)\n",
        "print(df)\n",
        "\n",
        "a = df.to_numpy()\n",
        "\n",
        "print(a)"
      ],
      "execution_count": null,
      "outputs": [
        {
          "output_type": "stream",
          "name": "stdout",
          "text": [
            "   num  name_category\n",
            "0    0              0\n",
            "1    1              0\n",
            "2    2              1\n",
            "3    3              1\n",
            "4    4              2\n",
            "5    5              2\n",
            "6    6              0\n",
            "7    7              0\n",
            "8    8              1\n",
            "9    9              1\n",
            "[[0 0]\n",
            " [1 0]\n",
            " [2 1]\n",
            " [3 1]\n",
            " [4 2]\n",
            " [5 2]\n",
            " [6 0]\n",
            " [7 0]\n",
            " [8 1]\n",
            " [9 1]]\n"
          ]
        }
      ]
    },
    {
      "cell_type": "code",
      "metadata": {
        "id": "GllxGp5aaoUJ"
      },
      "source": [
        "df.to_csv(\"my_data.csv\", index=False)"
      ],
      "execution_count": null,
      "outputs": []
    },
    {
      "cell_type": "code",
      "metadata": {
        "colab": {
          "base_uri": "https://localhost:8080/"
        },
        "id": "72d8VhncbcMM",
        "outputId": "e5fe6dc0-203f-4556-f095-11899e44029c"
      },
      "source": [
        "!head my_data.csv"
      ],
      "execution_count": null,
      "outputs": [
        {
          "output_type": "stream",
          "name": "stdout",
          "text": [
            "num,name_category\n",
            "0,0\n",
            "1,0\n",
            "2,1\n",
            "3,1\n",
            "4,2\n",
            "5,2\n",
            "6,0\n",
            "7,0\n",
            "8,1\n"
          ]
        }
      ]
    },
    {
      "cell_type": "code",
      "metadata": {
        "colab": {
          "base_uri": "https://localhost:8080/",
          "height": 206
        },
        "id": "6qKCMU6ZbmEb",
        "outputId": "2b785074-6752-463a-f246-126214fe268f"
      },
      "source": [
        "new_df = pd.read_csv(\"my_data.csv\")\n",
        "new_df.head()"
      ],
      "execution_count": null,
      "outputs": [
        {
          "output_type": "execute_result",
          "data": {
            "text/html": [
              "<div>\n",
              "<style scoped>\n",
              "    .dataframe tbody tr th:only-of-type {\n",
              "        vertical-align: middle;\n",
              "    }\n",
              "\n",
              "    .dataframe tbody tr th {\n",
              "        vertical-align: top;\n",
              "    }\n",
              "\n",
              "    .dataframe thead th {\n",
              "        text-align: right;\n",
              "    }\n",
              "</style>\n",
              "<table border=\"1\" class=\"dataframe\">\n",
              "  <thead>\n",
              "    <tr style=\"text-align: right;\">\n",
              "      <th></th>\n",
              "      <th>num</th>\n",
              "      <th>name_category</th>\n",
              "    </tr>\n",
              "  </thead>\n",
              "  <tbody>\n",
              "    <tr>\n",
              "      <th>0</th>\n",
              "      <td>0</td>\n",
              "      <td>0</td>\n",
              "    </tr>\n",
              "    <tr>\n",
              "      <th>1</th>\n",
              "      <td>1</td>\n",
              "      <td>0</td>\n",
              "    </tr>\n",
              "    <tr>\n",
              "      <th>2</th>\n",
              "      <td>2</td>\n",
              "      <td>1</td>\n",
              "    </tr>\n",
              "    <tr>\n",
              "      <th>3</th>\n",
              "      <td>3</td>\n",
              "      <td>1</td>\n",
              "    </tr>\n",
              "    <tr>\n",
              "      <th>4</th>\n",
              "      <td>4</td>\n",
              "      <td>2</td>\n",
              "    </tr>\n",
              "  </tbody>\n",
              "</table>\n",
              "</div>"
            ],
            "text/plain": [
              "   num  name_category\n",
              "0    0              0\n",
              "1    1              0\n",
              "2    2              1\n",
              "3    3              1\n",
              "4    4              2"
            ]
          },
          "metadata": {},
          "execution_count": 205
        }
      ]
    },
    {
      "cell_type": "code",
      "metadata": {
        "colab": {
          "base_uri": "https://localhost:8080/"
        },
        "id": "lM8Ch1CJb9FC",
        "outputId": "38deb959-24ce-4fde-d5ec-cc2abd67d565"
      },
      "source": [
        "!wget https://github.com/bharathirajatut/sample-excel-dataset/raw/master/airline.xls"
      ],
      "execution_count": null,
      "outputs": [
        {
          "output_type": "stream",
          "name": "stdout",
          "text": [
            "--2021-11-24 05:37:00--  https://github.com/bharathirajatut/sample-excel-dataset/raw/master/airline.xls\n",
            "Resolving github.com (github.com)... 140.82.121.4\n",
            "Connecting to github.com (github.com)|140.82.121.4|:443... connected.\n",
            "HTTP request sent, awaiting response... 302 Found\n",
            "Location: https://raw.githubusercontent.com/bharathirajatut/sample-excel-dataset/master/airline.xls [following]\n",
            "--2021-11-24 05:37:01--  https://raw.githubusercontent.com/bharathirajatut/sample-excel-dataset/master/airline.xls\n",
            "Resolving raw.githubusercontent.com (raw.githubusercontent.com)... 185.199.108.133, 185.199.109.133, 185.199.110.133, ...\n",
            "Connecting to raw.githubusercontent.com (raw.githubusercontent.com)|185.199.108.133|:443... connected.\n",
            "HTTP request sent, awaiting response... 200 OK\n",
            "Length: 16384 (16K) [application/octet-stream]\n",
            "Saving to: ‘airline.xls’\n",
            "\n",
            "airline.xls         100%[===================>]  16.00K  --.-KB/s    in 0s      \n",
            "\n",
            "2021-11-24 05:37:01 (117 MB/s) - ‘airline.xls’ saved [16384/16384]\n",
            "\n"
          ]
        }
      ]
    },
    {
      "cell_type": "code",
      "metadata": {
        "colab": {
          "base_uri": "https://localhost:8080/",
          "height": 206
        },
        "id": "D2p9z9lrcnso",
        "outputId": "d170529a-53f9-4cb8-d32a-33d613c019bf"
      },
      "source": [
        "df = pd.read_excel(\"airline.xls\")\n",
        "df.head()"
      ],
      "execution_count": null,
      "outputs": [
        {
          "output_type": "execute_result",
          "data": {
            "text/html": [
              "<div>\n",
              "<style scoped>\n",
              "    .dataframe tbody tr th:only-of-type {\n",
              "        vertical-align: middle;\n",
              "    }\n",
              "\n",
              "    .dataframe tbody tr th {\n",
              "        vertical-align: top;\n",
              "    }\n",
              "\n",
              "    .dataframe thead th {\n",
              "        text-align: right;\n",
              "    }\n",
              "</style>\n",
              "<table border=\"1\" class=\"dataframe\">\n",
              "  <thead>\n",
              "    <tr style=\"text-align: right;\">\n",
              "      <th></th>\n",
              "      <th>YEAR</th>\n",
              "      <th>Y</th>\n",
              "      <th>W</th>\n",
              "      <th>R</th>\n",
              "      <th>L</th>\n",
              "      <th>K</th>\n",
              "    </tr>\n",
              "  </thead>\n",
              "  <tbody>\n",
              "    <tr>\n",
              "      <th>0</th>\n",
              "      <td>1948</td>\n",
              "      <td>1.214</td>\n",
              "      <td>0.243</td>\n",
              "      <td>0.1454</td>\n",
              "      <td>1.415</td>\n",
              "      <td>0.612</td>\n",
              "    </tr>\n",
              "    <tr>\n",
              "      <th>1</th>\n",
              "      <td>1949</td>\n",
              "      <td>1.354</td>\n",
              "      <td>0.260</td>\n",
              "      <td>0.2181</td>\n",
              "      <td>1.384</td>\n",
              "      <td>0.559</td>\n",
              "    </tr>\n",
              "    <tr>\n",
              "      <th>2</th>\n",
              "      <td>1950</td>\n",
              "      <td>1.569</td>\n",
              "      <td>0.278</td>\n",
              "      <td>0.3157</td>\n",
              "      <td>1.388</td>\n",
              "      <td>0.573</td>\n",
              "    </tr>\n",
              "    <tr>\n",
              "      <th>3</th>\n",
              "      <td>1951</td>\n",
              "      <td>1.948</td>\n",
              "      <td>0.297</td>\n",
              "      <td>0.3940</td>\n",
              "      <td>1.550</td>\n",
              "      <td>0.564</td>\n",
              "    </tr>\n",
              "    <tr>\n",
              "      <th>4</th>\n",
              "      <td>1952</td>\n",
              "      <td>2.265</td>\n",
              "      <td>0.310</td>\n",
              "      <td>0.3559</td>\n",
              "      <td>1.802</td>\n",
              "      <td>0.574</td>\n",
              "    </tr>\n",
              "  </tbody>\n",
              "</table>\n",
              "</div>"
            ],
            "text/plain": [
              "   YEAR      Y      W       R      L      K\n",
              "0  1948  1.214  0.243  0.1454  1.415  0.612\n",
              "1  1949  1.354  0.260  0.2181  1.384  0.559\n",
              "2  1950  1.569  0.278  0.3157  1.388  0.573\n",
              "3  1951  1.948  0.297  0.3940  1.550  0.564\n",
              "4  1952  2.265  0.310  0.3559  1.802  0.574"
            ]
          },
          "metadata": {},
          "execution_count": 208
        }
      ]
    },
    {
      "cell_type": "code",
      "metadata": {
        "id": "GEvwEIBzdEUK"
      },
      "source": [
        "df.to_excel(\"my_data.xlsx\")"
      ],
      "execution_count": null,
      "outputs": []
    },
    {
      "cell_type": "code",
      "metadata": {
        "colab": {
          "base_uri": "https://localhost:8080/"
        },
        "id": "X3caMN9IdhIY",
        "outputId": "2709bade-3716-4cad-fbc1-cc12c5ce19ea"
      },
      "source": [
        "df = pd.read_csv(\"titanic.csv\")\n",
        "print(df.head())\n",
        "print(df.info())"
      ],
      "execution_count": null,
      "outputs": [
        {
          "output_type": "stream",
          "name": "stdout",
          "text": [
            "   PassengerId  Survived  Pclass  ...     Fare Cabin  Embarked\n",
            "0            1         0       3  ...   7.2500   NaN         S\n",
            "1            2         1       1  ...  71.2833   C85         C\n",
            "2            3         1       3  ...   7.9250   NaN         S\n",
            "3            4         1       1  ...  53.1000  C123         S\n",
            "4            5         0       3  ...   8.0500   NaN         S\n",
            "\n",
            "[5 rows x 12 columns]\n",
            "<class 'pandas.core.frame.DataFrame'>\n",
            "RangeIndex: 891 entries, 0 to 890\n",
            "Data columns (total 12 columns):\n",
            " #   Column       Non-Null Count  Dtype  \n",
            "---  ------       --------------  -----  \n",
            " 0   PassengerId  891 non-null    int64  \n",
            " 1   Survived     891 non-null    int64  \n",
            " 2   Pclass       891 non-null    int64  \n",
            " 3   Name         891 non-null    object \n",
            " 4   Sex          891 non-null    object \n",
            " 5   Age          714 non-null    float64\n",
            " 6   SibSp        891 non-null    int64  \n",
            " 7   Parch        891 non-null    int64  \n",
            " 8   Ticket       891 non-null    object \n",
            " 9   Fare         891 non-null    float64\n",
            " 10  Cabin        204 non-null    object \n",
            " 11  Embarked     889 non-null    object \n",
            "dtypes: float64(2), int64(5), object(5)\n",
            "memory usage: 83.7+ KB\n",
            "None\n"
          ]
        }
      ]
    },
    {
      "cell_type": "code",
      "metadata": {
        "colab": {
          "base_uri": "https://localhost:8080/"
        },
        "id": "2eRsIdkJg9Dn",
        "outputId": "f012f233-c84c-4fcb-b130-77526ddbf16d"
      },
      "source": [
        "!head titanic.csv"
      ],
      "execution_count": null,
      "outputs": [
        {
          "output_type": "stream",
          "name": "stdout",
          "text": [
            "PassengerId,Survived,Pclass,Name,Sex,Age,SibSp,Parch,Ticket,Fare,Cabin,Embarked\r\n",
            "1,0,3,\"Braund, Mr. Owen Harris\",male,22,1,0,A/5 21171,7.25,,S\r\n",
            "2,1,1,\"Cumings, Mrs. John Bradley (Florence Briggs Thayer)\",female,38,1,0,PC 17599,71.2833,C85,C\r\n",
            "3,1,3,\"Heikkinen, Miss. Laina\",female,26,0,0,STON/O2. 3101282,7.925,,S\r\n",
            "4,1,1,\"Futrelle, Mrs. Jacques Heath (Lily May Peel)\",female,35,1,0,113803,53.1,C123,S\r\n",
            "5,0,3,\"Allen, Mr. William Henry\",male,35,0,0,373450,8.05,,S\r\n",
            "6,0,3,\"Moran, Mr. James\",male,,0,0,330877,8.4583,,Q\r\n",
            "7,0,1,\"McCarthy, Mr. Timothy J\",male,54,0,0,17463,51.8625,E46,S\r\n",
            "8,0,3,\"Palsson, Master. Gosta Leonard\",male,2,3,1,349909,21.075,,S\r\n",
            "9,1,3,\"Johnson, Mrs. Oscar W (Elisabeth Vilhelmina Berg)\",female,27,0,2,347742,11.1333,,S\r\n"
          ]
        }
      ]
    },
    {
      "cell_type": "markdown",
      "metadata": {
        "id": "wKbCKcRhhIx3"
      },
      "source": [
        "```\n",
        "passenger Id : 컬럼 삭제\n",
        "Name : 컬럼 삭제\n",
        "Sex : Sex_Code로 인코딩. male:0, female:1\n",
        "Age : 평균으로 결측치 처리. 0~1 normalization\n",
        "SibSp : 컬럼 삭제\n",
        "Parch : 컬럼 삭제\n",
        "Ticket : 컬럼 삭제\n",
        "Fare : 150 넘는 값은 150으로 치환. standardization\n",
        "Cabin : 컬럼 삭제 \n",
        "Embarked : 결측치 데이터 삭제. Embarked_Code로 인코딩, C : 0, S : 1, Q : 2\n",
        "```"
      ]
    },
    {
      "cell_type": "code",
      "metadata": {
        "colab": {
          "base_uri": "https://localhost:8080/",
          "height": 206
        },
        "id": "rx3k7xT_rD3X",
        "outputId": "884adc81-d926-4603-bdb9-1ab8a45bfc13"
      },
      "source": [
        "df = pd.read_csv(\"titanic.csv\")\n",
        "\n",
        "# 불필요 컬럼 삭제\n",
        "df.drop(columns=[\"PassengerId\", \"Name\", \"SibSp\", \"Parch\", \"Ticket\", \"Cabin\"], \n",
        "        inplace=True)\n",
        "\n",
        "# Sex 컬럼 인코딩\n",
        "sex_category_map = { \"male\":0, \"female\":1 }\n",
        "df['Sex_Code'] = df['Sex'].map(sex_category_map)\n",
        "\n",
        "# Age 컬럼 결측치 처리\n",
        "age_mean = df.loc[df.Age.notnull()].Age.mean()\n",
        "df.loc[df.Age.isnull(), \"Age\"] = age_mean\n",
        "\n",
        "# Embarked 결측치 데이터 삭제\n",
        "df.drop(df.loc[df.Embarked.isnull()].index, inplace=True)\n",
        "\n",
        "# Embarked 컬럼 인코딩\n",
        "embarked_category_map = { \"C\":0, \"S\":1, \"Q\":2 }\n",
        "df['Embarked_Code'] = df['Embarked'].map(embarked_category_map)\n",
        "\n",
        "# Age 컬럼 normalization\n",
        "df['Age_Normalized'] = ( df.Age - df.Age.min()) / ( df.Age.max() - df.Age.min())\n",
        "\n",
        "# Fare 컬럼 150 넘는 값 150으로 처리\n",
        "FARE_MAX = 150\n",
        "df['Fare_Limited'] = df.Fare\n",
        "df.loc[df.Fare_Limited > FARE_MAX, 'Fare_Limited'] = FARE_MAX\n",
        "\n",
        "# Fare_Limited 컬럼 standardication\n",
        "df.Fare_Limited = ( df.Fare_Limited - df.Fare_Limited.mean() ) / df.Fare_Limited.std()\n",
        "\n",
        "# 원 컬럼 삭제\n",
        "df.drop(columns=[\"Sex\", \"Age\", \"Fare\", \"Embarked\"], inplace=True)\n",
        "df.head()\n",
        "\n"
      ],
      "execution_count": null,
      "outputs": [
        {
          "output_type": "execute_result",
          "data": {
            "text/html": [
              "<div>\n",
              "<style scoped>\n",
              "    .dataframe tbody tr th:only-of-type {\n",
              "        vertical-align: middle;\n",
              "    }\n",
              "\n",
              "    .dataframe tbody tr th {\n",
              "        vertical-align: top;\n",
              "    }\n",
              "\n",
              "    .dataframe thead th {\n",
              "        text-align: right;\n",
              "    }\n",
              "</style>\n",
              "<table border=\"1\" class=\"dataframe\">\n",
              "  <thead>\n",
              "    <tr style=\"text-align: right;\">\n",
              "      <th></th>\n",
              "      <th>Survived</th>\n",
              "      <th>Pclass</th>\n",
              "      <th>Sex_Code</th>\n",
              "      <th>Embarked_Code</th>\n",
              "      <th>Age_Normalized</th>\n",
              "      <th>Fare_Limited</th>\n",
              "    </tr>\n",
              "  </thead>\n",
              "  <tbody>\n",
              "    <tr>\n",
              "      <th>0</th>\n",
              "      <td>0</td>\n",
              "      <td>3</td>\n",
              "      <td>0</td>\n",
              "      <td>1</td>\n",
              "      <td>0.271174</td>\n",
              "      <td>-0.642382</td>\n",
              "    </tr>\n",
              "    <tr>\n",
              "      <th>1</th>\n",
              "      <td>1</td>\n",
              "      <td>1</td>\n",
              "      <td>1</td>\n",
              "      <td>0</td>\n",
              "      <td>0.472229</td>\n",
              "      <td>1.237120</td>\n",
              "    </tr>\n",
              "    <tr>\n",
              "      <th>2</th>\n",
              "      <td>1</td>\n",
              "      <td>3</td>\n",
              "      <td>1</td>\n",
              "      <td>1</td>\n",
              "      <td>0.321438</td>\n",
              "      <td>-0.622570</td>\n",
              "    </tr>\n",
              "    <tr>\n",
              "      <th>3</th>\n",
              "      <td>1</td>\n",
              "      <td>1</td>\n",
              "      <td>1</td>\n",
              "      <td>1</td>\n",
              "      <td>0.434531</td>\n",
              "      <td>0.703405</td>\n",
              "    </tr>\n",
              "    <tr>\n",
              "      <th>4</th>\n",
              "      <td>0</td>\n",
              "      <td>3</td>\n",
              "      <td>0</td>\n",
              "      <td>1</td>\n",
              "      <td>0.434531</td>\n",
              "      <td>-0.618901</td>\n",
              "    </tr>\n",
              "  </tbody>\n",
              "</table>\n",
              "</div>"
            ],
            "text/plain": [
              "   Survived  Pclass  Sex_Code  Embarked_Code  Age_Normalized  Fare_Limited\n",
              "0         0       3         0              1        0.271174     -0.642382\n",
              "1         1       1         1              0        0.472229      1.237120\n",
              "2         1       3         1              1        0.321438     -0.622570\n",
              "3         1       1         1              1        0.434531      0.703405\n",
              "4         0       3         0              1        0.434531     -0.618901"
            ]
          },
          "metadata": {},
          "execution_count": 244
        }
      ]
    },
    {
      "cell_type": "code",
      "metadata": {
        "colab": {
          "base_uri": "https://localhost:8080/",
          "height": 1000
        },
        "id": "-9UCiZvex5dP",
        "outputId": "150504ce-aefa-4ef6-af67-6460eb507e81"
      },
      "source": [
        "import matplotlib.pyplot as plt\n",
        "\n",
        "print(\"Survived\")\n",
        "df.Survived.hist()\n",
        "plt.show()\n",
        "\n",
        "print(\"Pclass\")\n",
        "df.Pclass.hist()\n",
        "plt.show()\n",
        "\n",
        "print(\"Sex_Code\")\n",
        "df.Sex_Code.hist()\n",
        "plt.show()\n",
        "\n",
        "print(\"Embarked_Code\")\n",
        "df.Embarked_Code.hist()\n",
        "plt.show()\n",
        "\n",
        "print(\"Age_Normalized\")\n",
        "df.Age_Normalized.hist()\n",
        "plt.show()\n",
        "\n",
        "print(\"Fare_Limited\")\n",
        "df.Fare_Limited.hist()\n",
        "plt.show()"
      ],
      "execution_count": null,
      "outputs": [
        {
          "output_type": "stream",
          "name": "stdout",
          "text": [
            "Survived\n"
          ]
        },
        {
          "output_type": "display_data",
          "data": {
            "image/png": "[encoded data removed]",
            "text/plain": [
              "<Figure size 432x288 with 1 Axes>"
            ]
          },
          "metadata": {
            "needs_background": "light"
          }
        },
        {
          "output_type": "stream",
          "name": "stdout",
          "text": [
            "Pclass\n"
          ]
        },
        {
          "output_type": "display_data",
          "data": {
            "image/png": "[encoded data removed]",
            "text/plain": [
              "<Figure size 432x288 with 1 Axes>"
            ]
          },
          "metadata": {
            "needs_background": "light"
          }
        },
        {
          "output_type": "stream",
          "name": "stdout",
          "text": [
            "Sex_Code\n"
          ]
        },
        {
          "output_type": "display_data",
          "data": {
            "image/png": "[encoded data removed]",
            "text/plain": [
              "<Figure size 432x288 with 1 Axes>"
            ]
          },
          "metadata": {
            "needs_background": "light"
          }
        },
        {
          "output_type": "stream",
          "name": "stdout",
          "text": [
            "Embarked_Code\n"
          ]
        },
        {
          "output_type": "display_data",
          "data": {
            "image/png": "[encoded data removed]",
            "text/plain": [
              "<Figure size 432x288 with 1 Axes>"
            ]
          },
          "metadata": {
            "needs_background": "light"
          }
        },
        {
          "output_type": "stream",
          "name": "stdout",
          "text": [
            "Age_Normalized\n"
          ]
        },
        {
          "output_type": "display_data",
          "data": {
            "image/png": "[encoded data removed]",
            "text/plain": [
              "<Figure size 432x288 with 1 Axes>"
            ]
          },
          "metadata": {
            "needs_background": "light"
          }
        },
        {
          "output_type": "stream",
          "name": "stdout",
          "text": [
            "Fare_Limited\n"
          ]
        },
        {
          "output_type": "display_data",
          "data": {
            "image/png": "[encoded data removed]",
            "text/plain": [
              "<Figure size 432x288 with 1 Axes>"
            ]
          },
          "metadata": {
            "needs_background": "light"
          }
        }
      ]
    },
    {
      "cell_type": "code",
      "metadata": {
        "colab": {
          "base_uri": "https://localhost:8080/"
        },
        "id": "LadOJi_vwLpu",
        "outputId": "6b209bcd-5be2-4465-d683-3c4b34496283"
      },
      "source": [
        "df.Embarked.unique()"
      ],
      "execution_count": null,
      "outputs": [
        {
          "output_type": "execute_result",
          "data": {
            "text/plain": [
              "array(['S', 'C', 'Q', nan], dtype=object)"
            ]
          },
          "metadata": {},
          "execution_count": 235
        }
      ]
    },
    {
      "cell_type": "code",
      "metadata": {
        "id": "I_jH_gdXwLnA"
      },
      "source": [
        ""
      ],
      "execution_count": null,
      "outputs": []
    },
    {
      "cell_type": "code",
      "metadata": {
        "colab": {
          "base_uri": "https://localhost:8080/",
          "height": 283
        },
        "id": "2j6wSIsFhH3m",
        "outputId": "12e89ea0-17ba-44fc-e8ec-a83526ab60de"
      },
      "source": [
        "df.Fare.hist()"
      ],
      "execution_count": null,
      "outputs": [
        {
          "output_type": "execute_result",
          "data": {
            "text/plain": [
              "<matplotlib.axes._subplots.AxesSubplot at 0x7f2cf1ee2050>"
            ]
          },
          "metadata": {},
          "execution_count": 213
        },
        {
          "output_type": "display_data",
          "data": {
            "image/png": "[encoded data removed]",
            "text/plain": [
              "<Figure size 432x288 with 1 Axes>"
            ]
          },
          "metadata": {
            "needs_background": "light"
          }
        }
      ]
    },
    {
      "cell_type": "code",
      "metadata": {
        "id": "SuQ1F94WmRGw"
      },
      "source": [
        ""
      ],
      "execution_count": null,
      "outputs": []
    }
  ]
}