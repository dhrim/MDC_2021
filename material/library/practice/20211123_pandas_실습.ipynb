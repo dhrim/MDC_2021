{
  "nbformat": 4,
  "nbformat_minor": 0,
  "metadata": {
    "colab": {
      "name": "20211123_pandas_실습.ipynb",
      "provenance": [],
      "collapsed_sections": []
    },
    "kernelspec": {
      "name": "python3",
      "display_name": "Python 3"
    },
    "language_info": {
      "name": "python"
    }
  },
  "cells": [
    {
      "cell_type": "code",
      "metadata": {
        "colab": {
          "base_uri": "https://localhost:8080/"
        },
        "id": "JzESL2E3N7Ti",
        "outputId": "289aee08-b886-4872-b090-db83ec9c2d3d"
      },
      "source": [
        "!pip install pandas"
      ],
      "execution_count": null,
      "outputs": [
        {
          "output_type": "stream",
          "name": "stdout",
          "text": [
            "Requirement already satisfied: pandas in /usr/local/lib/python3.7/dist-packages (1.1.5)\n",
            "Requirement already satisfied: numpy>=1.15.4 in /usr/local/lib/python3.7/dist-packages (from pandas) (1.19.5)\n",
            "Requirement already satisfied: python-dateutil>=2.7.3 in /usr/local/lib/python3.7/dist-packages (from pandas) (2.8.2)\n",
            "Requirement already satisfied: pytz>=2017.2 in /usr/local/lib/python3.7/dist-packages (from pandas) (2018.9)\n",
            "Requirement already satisfied: six>=1.5 in /usr/local/lib/python3.7/dist-packages (from python-dateutil>=2.7.3->pandas) (1.15.0)\n"
          ]
        }
      ]
    },
    {
      "cell_type": "code",
      "metadata": {
        "colab": {
          "base_uri": "https://localhost:8080/"
        },
        "id": "X-_8_ploOHPW",
        "outputId": "c6ca221e-47c8-4341-b032-f784bb6c70a2"
      },
      "source": [
        "import pandas as pd\n",
        "print(pd.__version__)"
      ],
      "execution_count": null,
      "outputs": [
        {
          "output_type": "stream",
          "name": "stdout",
          "text": [
            "1.1.5\n"
          ]
        }
      ]
    },
    {
      "cell_type": "code",
      "metadata": {
        "colab": {
          "base_uri": "https://localhost:8080/"
        },
        "id": "drwvCpXhOKv2",
        "outputId": "8488b130-5b41-4287-c2a8-2b3cfd34bbc2"
      },
      "source": [
        "!wget https://raw.githubusercontent.com/adeshpande3/Pandas-Tutorial/master/RegularSeasonCompactResults.csv\n"
      ],
      "execution_count": null,
      "outputs": [
        {
          "output_type": "stream",
          "name": "stdout",
          "text": [
            "--2021-11-23 05:21:03--  https://raw.githubusercontent.com/adeshpande3/Pandas-Tutorial/master/RegularSeasonCompactResults.csv\n",
            "Resolving raw.githubusercontent.com (raw.githubusercontent.com)... 185.199.108.133, 185.199.109.133, 185.199.110.133, ...\n",
            "Connecting to raw.githubusercontent.com (raw.githubusercontent.com)|185.199.108.133|:443... connected.\n",
            "HTTP request sent, awaiting response... 200 OK\n",
            "Length: 4115852 (3.9M) [text/plain]\n",
            "Saving to: ‘RegularSeasonCompactResults.csv’\n",
            "\n",
            "RegularSeasonCompac 100%[===================>]   3.92M  --.-KB/s    in 0.04s   \n",
            "\n",
            "2021-11-23 05:21:03 (111 MB/s) - ‘RegularSeasonCompactResults.csv’ saved [4115852/4115852]\n",
            "\n"
          ]
        }
      ]
    },
    {
      "cell_type": "code",
      "metadata": {
        "colab": {
          "base_uri": "https://localhost:8080/"
        },
        "id": "c1NlIGkMRr9u",
        "outputId": "ce75ad13-9483-4b7a-d54f-7f11c8776d08"
      },
      "source": [
        "!head RegularSeasonCompactResults.csv"
      ],
      "execution_count": null,
      "outputs": [
        {
          "output_type": "stream",
          "name": "stdout",
          "text": [
            "Season,Daynum,Wteam,Wscore,Lteam,Lscore,Wloc,Numot\n",
            "1985,20,1228,81,1328,64,N,0\n",
            "1985,25,1106,77,1354,70,H,0\n",
            "1985,25,1112,63,1223,56,H,0\n",
            "1985,25,1165,70,1432,54,H,0\n",
            "1985,25,1192,86,1447,74,H,0\n",
            "1985,25,1218,79,1337,78,H,0\n",
            "1985,25,1228,64,1226,44,N,0\n",
            "1985,25,1242,58,1268,56,N,0\n",
            "1985,25,1260,98,1133,80,H,0\n"
          ]
        }
      ]
    },
    {
      "cell_type": "code",
      "metadata": {
        "id": "_veUsc20RzVm"
      },
      "source": [
        "df = pd.read_csv(\"RegularSeasonCompactResults.csv\")"
      ],
      "execution_count": null,
      "outputs": []
    },
    {
      "cell_type": "code",
      "metadata": {
        "colab": {
          "base_uri": "https://localhost:8080/",
          "height": 206
        },
        "id": "MdPhR0s6R_QG",
        "outputId": "23636e42-5d9b-4e98-ece6-c81e9d9946ab"
      },
      "source": [
        "df.head()"
      ],
      "execution_count": null,
      "outputs": [
        {
          "output_type": "execute_result",
          "data": {
            "text/html": [
              "<div>\n",
              "<style scoped>\n",
              "    .dataframe tbody tr th:only-of-type {\n",
              "        vertical-align: middle;\n",
              "    }\n",
              "\n",
              "    .dataframe tbody tr th {\n",
              "        vertical-align: top;\n",
              "    }\n",
              "\n",
              "    .dataframe thead th {\n",
              "        text-align: right;\n",
              "    }\n",
              "</style>\n",
              "<table border=\"1\" class=\"dataframe\">\n",
              "  <thead>\n",
              "    <tr style=\"text-align: right;\">\n",
              "      <th></th>\n",
              "      <th>Season</th>\n",
              "      <th>Daynum</th>\n",
              "      <th>Wteam</th>\n",
              "      <th>Wscore</th>\n",
              "      <th>Lteam</th>\n",
              "      <th>Lscore</th>\n",
              "      <th>Wloc</th>\n",
              "      <th>Numot</th>\n",
              "    </tr>\n",
              "  </thead>\n",
              "  <tbody>\n",
              "    <tr>\n",
              "      <th>0</th>\n",
              "      <td>1985</td>\n",
              "      <td>20</td>\n",
              "      <td>1228</td>\n",
              "      <td>81</td>\n",
              "      <td>1328</td>\n",
              "      <td>64</td>\n",
              "      <td>N</td>\n",
              "      <td>0</td>\n",
              "    </tr>\n",
              "    <tr>\n",
              "      <th>1</th>\n",
              "      <td>1985</td>\n",
              "      <td>25</td>\n",
              "      <td>1106</td>\n",
              "      <td>77</td>\n",
              "      <td>1354</td>\n",
              "      <td>70</td>\n",
              "      <td>H</td>\n",
              "      <td>0</td>\n",
              "    </tr>\n",
              "    <tr>\n",
              "      <th>2</th>\n",
              "      <td>1985</td>\n",
              "      <td>25</td>\n",
              "      <td>1112</td>\n",
              "      <td>63</td>\n",
              "      <td>1223</td>\n",
              "      <td>56</td>\n",
              "      <td>H</td>\n",
              "      <td>0</td>\n",
              "    </tr>\n",
              "    <tr>\n",
              "      <th>3</th>\n",
              "      <td>1985</td>\n",
              "      <td>25</td>\n",
              "      <td>1165</td>\n",
              "      <td>70</td>\n",
              "      <td>1432</td>\n",
              "      <td>54</td>\n",
              "      <td>H</td>\n",
              "      <td>0</td>\n",
              "    </tr>\n",
              "    <tr>\n",
              "      <th>4</th>\n",
              "      <td>1985</td>\n",
              "      <td>25</td>\n",
              "      <td>1192</td>\n",
              "      <td>86</td>\n",
              "      <td>1447</td>\n",
              "      <td>74</td>\n",
              "      <td>H</td>\n",
              "      <td>0</td>\n",
              "    </tr>\n",
              "  </tbody>\n",
              "</table>\n",
              "</div>"
            ],
            "text/plain": [
              "   Season  Daynum  Wteam  Wscore  Lteam  Lscore Wloc  Numot\n",
              "0    1985      20   1228      81   1328      64    N      0\n",
              "1    1985      25   1106      77   1354      70    H      0\n",
              "2    1985      25   1112      63   1223      56    H      0\n",
              "3    1985      25   1165      70   1432      54    H      0\n",
              "4    1985      25   1192      86   1447      74    H      0"
            ]
          },
          "metadata": {},
          "execution_count": 6
        }
      ]
    },
    {
      "cell_type": "code",
      "metadata": {
        "colab": {
          "base_uri": "https://localhost:8080/",
          "height": 423
        },
        "id": "V53u0ooQSGnP",
        "outputId": "72a390d2-68b0-4704-a98c-d80f7295ec74"
      },
      "source": [
        "df"
      ],
      "execution_count": null,
      "outputs": [
        {
          "output_type": "execute_result",
          "data": {
            "text/html": [
              "<div>\n",
              "<style scoped>\n",
              "    .dataframe tbody tr th:only-of-type {\n",
              "        vertical-align: middle;\n",
              "    }\n",
              "\n",
              "    .dataframe tbody tr th {\n",
              "        vertical-align: top;\n",
              "    }\n",
              "\n",
              "    .dataframe thead th {\n",
              "        text-align: right;\n",
              "    }\n",
              "</style>\n",
              "<table border=\"1\" class=\"dataframe\">\n",
              "  <thead>\n",
              "    <tr style=\"text-align: right;\">\n",
              "      <th></th>\n",
              "      <th>Season</th>\n",
              "      <th>Daynum</th>\n",
              "      <th>Wteam</th>\n",
              "      <th>Wscore</th>\n",
              "      <th>Lteam</th>\n",
              "      <th>Lscore</th>\n",
              "      <th>Wloc</th>\n",
              "      <th>Numot</th>\n",
              "    </tr>\n",
              "  </thead>\n",
              "  <tbody>\n",
              "    <tr>\n",
              "      <th>0</th>\n",
              "      <td>1985</td>\n",
              "      <td>20</td>\n",
              "      <td>1228</td>\n",
              "      <td>81</td>\n",
              "      <td>1328</td>\n",
              "      <td>64</td>\n",
              "      <td>N</td>\n",
              "      <td>0</td>\n",
              "    </tr>\n",
              "    <tr>\n",
              "      <th>1</th>\n",
              "      <td>1985</td>\n",
              "      <td>25</td>\n",
              "      <td>1106</td>\n",
              "      <td>77</td>\n",
              "      <td>1354</td>\n",
              "      <td>70</td>\n",
              "      <td>H</td>\n",
              "      <td>0</td>\n",
              "    </tr>\n",
              "    <tr>\n",
              "      <th>2</th>\n",
              "      <td>1985</td>\n",
              "      <td>25</td>\n",
              "      <td>1112</td>\n",
              "      <td>63</td>\n",
              "      <td>1223</td>\n",
              "      <td>56</td>\n",
              "      <td>H</td>\n",
              "      <td>0</td>\n",
              "    </tr>\n",
              "    <tr>\n",
              "      <th>3</th>\n",
              "      <td>1985</td>\n",
              "      <td>25</td>\n",
              "      <td>1165</td>\n",
              "      <td>70</td>\n",
              "      <td>1432</td>\n",
              "      <td>54</td>\n",
              "      <td>H</td>\n",
              "      <td>0</td>\n",
              "    </tr>\n",
              "    <tr>\n",
              "      <th>4</th>\n",
              "      <td>1985</td>\n",
              "      <td>25</td>\n",
              "      <td>1192</td>\n",
              "      <td>86</td>\n",
              "      <td>1447</td>\n",
              "      <td>74</td>\n",
              "      <td>H</td>\n",
              "      <td>0</td>\n",
              "    </tr>\n",
              "    <tr>\n",
              "      <th>...</th>\n",
              "      <td>...</td>\n",
              "      <td>...</td>\n",
              "      <td>...</td>\n",
              "      <td>...</td>\n",
              "      <td>...</td>\n",
              "      <td>...</td>\n",
              "      <td>...</td>\n",
              "      <td>...</td>\n",
              "    </tr>\n",
              "    <tr>\n",
              "      <th>145284</th>\n",
              "      <td>2016</td>\n",
              "      <td>132</td>\n",
              "      <td>1114</td>\n",
              "      <td>70</td>\n",
              "      <td>1419</td>\n",
              "      <td>50</td>\n",
              "      <td>N</td>\n",
              "      <td>0</td>\n",
              "    </tr>\n",
              "    <tr>\n",
              "      <th>145285</th>\n",
              "      <td>2016</td>\n",
              "      <td>132</td>\n",
              "      <td>1163</td>\n",
              "      <td>72</td>\n",
              "      <td>1272</td>\n",
              "      <td>58</td>\n",
              "      <td>N</td>\n",
              "      <td>0</td>\n",
              "    </tr>\n",
              "    <tr>\n",
              "      <th>145286</th>\n",
              "      <td>2016</td>\n",
              "      <td>132</td>\n",
              "      <td>1246</td>\n",
              "      <td>82</td>\n",
              "      <td>1401</td>\n",
              "      <td>77</td>\n",
              "      <td>N</td>\n",
              "      <td>1</td>\n",
              "    </tr>\n",
              "    <tr>\n",
              "      <th>145287</th>\n",
              "      <td>2016</td>\n",
              "      <td>132</td>\n",
              "      <td>1277</td>\n",
              "      <td>66</td>\n",
              "      <td>1345</td>\n",
              "      <td>62</td>\n",
              "      <td>N</td>\n",
              "      <td>0</td>\n",
              "    </tr>\n",
              "    <tr>\n",
              "      <th>145288</th>\n",
              "      <td>2016</td>\n",
              "      <td>132</td>\n",
              "      <td>1386</td>\n",
              "      <td>87</td>\n",
              "      <td>1433</td>\n",
              "      <td>74</td>\n",
              "      <td>N</td>\n",
              "      <td>0</td>\n",
              "    </tr>\n",
              "  </tbody>\n",
              "</table>\n",
              "<p>145289 rows × 8 columns</p>\n",
              "</div>"
            ],
            "text/plain": [
              "        Season  Daynum  Wteam  Wscore  Lteam  Lscore Wloc  Numot\n",
              "0         1985      20   1228      81   1328      64    N      0\n",
              "1         1985      25   1106      77   1354      70    H      0\n",
              "2         1985      25   1112      63   1223      56    H      0\n",
              "3         1985      25   1165      70   1432      54    H      0\n",
              "4         1985      25   1192      86   1447      74    H      0\n",
              "...        ...     ...    ...     ...    ...     ...  ...    ...\n",
              "145284    2016     132   1114      70   1419      50    N      0\n",
              "145285    2016     132   1163      72   1272      58    N      0\n",
              "145286    2016     132   1246      82   1401      77    N      1\n",
              "145287    2016     132   1277      66   1345      62    N      0\n",
              "145288    2016     132   1386      87   1433      74    N      0\n",
              "\n",
              "[145289 rows x 8 columns]"
            ]
          },
          "metadata": {},
          "execution_count": 7
        }
      ]
    },
    {
      "cell_type": "code",
      "metadata": {
        "colab": {
          "base_uri": "https://localhost:8080/"
        },
        "id": "10w8TnQCSc7z",
        "outputId": "3363fd3f-caa0-40e4-8b5f-58d2dd120411"
      },
      "source": [
        "print(df)"
      ],
      "execution_count": null,
      "outputs": [
        {
          "output_type": "stream",
          "name": "stdout",
          "text": [
            "        Season  Daynum  Wteam  Wscore  Lteam  Lscore Wloc  Numot\n",
            "0         1985      20   1228      81   1328      64    N      0\n",
            "1         1985      25   1106      77   1354      70    H      0\n",
            "2         1985      25   1112      63   1223      56    H      0\n",
            "3         1985      25   1165      70   1432      54    H      0\n",
            "4         1985      25   1192      86   1447      74    H      0\n",
            "...        ...     ...    ...     ...    ...     ...  ...    ...\n",
            "145284    2016     132   1114      70   1419      50    N      0\n",
            "145285    2016     132   1163      72   1272      58    N      0\n",
            "145286    2016     132   1246      82   1401      77    N      1\n",
            "145287    2016     132   1277      66   1345      62    N      0\n",
            "145288    2016     132   1386      87   1433      74    N      0\n",
            "\n",
            "[145289 rows x 8 columns]\n"
          ]
        }
      ]
    },
    {
      "cell_type": "code",
      "metadata": {
        "colab": {
          "base_uri": "https://localhost:8080/"
        },
        "id": "deLpgmmnSfjm",
        "outputId": "f0183332-86c0-41b5-961e-7849f013166b"
      },
      "source": [
        "print(df.head())"
      ],
      "execution_count": null,
      "outputs": [
        {
          "output_type": "stream",
          "name": "stdout",
          "text": [
            "   Season  Daynum  Wteam  Wscore  Lteam  Lscore Wloc  Numot\n",
            "0    1985      20   1228      81   1328      64    N      0\n",
            "1    1985      25   1106      77   1354      70    H      0\n",
            "2    1985      25   1112      63   1223      56    H      0\n",
            "3    1985      25   1165      70   1432      54    H      0\n",
            "4    1985      25   1192      86   1447      74    H      0\n"
          ]
        }
      ]
    },
    {
      "cell_type": "code",
      "metadata": {
        "colab": {
          "base_uri": "https://localhost:8080/"
        },
        "id": "BQOB9mUcSqh7",
        "outputId": "fe373028-e7e5-4123-f09b-20d3193d7e67"
      },
      "source": [
        "print(df.tail())"
      ],
      "execution_count": null,
      "outputs": [
        {
          "output_type": "stream",
          "name": "stdout",
          "text": [
            "        Season  Daynum  Wteam  Wscore  Lteam  Lscore Wloc  Numot\n",
            "145284    2016     132   1114      70   1419      50    N      0\n",
            "145285    2016     132   1163      72   1272      58    N      0\n",
            "145286    2016     132   1246      82   1401      77    N      1\n",
            "145287    2016     132   1277      66   1345      62    N      0\n",
            "145288    2016     132   1386      87   1433      74    N      0\n"
          ]
        }
      ]
    },
    {
      "cell_type": "code",
      "metadata": {
        "colab": {
          "base_uri": "https://localhost:8080/"
        },
        "id": "1MjskHlSTRGg",
        "outputId": "3b983461-0120-4271-cbc2-be6f8d73af89"
      },
      "source": [
        "print(df.info())"
      ],
      "execution_count": null,
      "outputs": [
        {
          "output_type": "stream",
          "name": "stdout",
          "text": [
            "<class 'pandas.core.frame.DataFrame'>\n",
            "RangeIndex: 145289 entries, 0 to 145288\n",
            "Data columns (total 8 columns):\n",
            " #   Column  Non-Null Count   Dtype \n",
            "---  ------  --------------   ----- \n",
            " 0   Season  145289 non-null  int64 \n",
            " 1   Daynum  145289 non-null  int64 \n",
            " 2   Wteam   145289 non-null  int64 \n",
            " 3   Wscore  145289 non-null  int64 \n",
            " 4   Lteam   145289 non-null  int64 \n",
            " 5   Lscore  145289 non-null  int64 \n",
            " 6   Wloc    145289 non-null  object\n",
            " 7   Numot   145289 non-null  int64 \n",
            "dtypes: int64(7), object(1)\n",
            "memory usage: 8.9+ MB\n",
            "None\n"
          ]
        }
      ]
    },
    {
      "cell_type": "code",
      "metadata": {
        "colab": {
          "base_uri": "https://localhost:8080/"
        },
        "id": "OQGmC7wSTYGx",
        "outputId": "9c8213b0-8ec5-4fb8-b07e-b2584f33db48"
      },
      "source": [
        "print(df.describe())"
      ],
      "execution_count": null,
      "outputs": [
        {
          "output_type": "stream",
          "name": "stdout",
          "text": [
            "              Season         Daynum  ...         Lscore          Numot\n",
            "count  145289.000000  145289.000000  ...  145289.000000  145289.000000\n",
            "mean     2001.574834      75.223816  ...      64.497009       0.044387\n",
            "std         9.233342      33.287418  ...      11.380625       0.247819\n",
            "min      1985.000000       0.000000  ...      20.000000       0.000000\n",
            "25%      1994.000000      47.000000  ...      57.000000       0.000000\n",
            "50%      2002.000000      78.000000  ...      64.000000       0.000000\n",
            "75%      2010.000000     103.000000  ...      72.000000       0.000000\n",
            "max      2016.000000     132.000000  ...     150.000000       6.000000\n",
            "\n",
            "[8 rows x 7 columns]\n"
          ]
        }
      ]
    },
    {
      "cell_type": "code",
      "metadata": {
        "colab": {
          "base_uri": "https://localhost:8080/"
        },
        "id": "b1Ww-iuBUzYs",
        "outputId": "895036eb-bb01-4384-aee7-aa01c4da5f61"
      },
      "source": [
        "print(df.max())"
      ],
      "execution_count": null,
      "outputs": [
        {
          "output_type": "stream",
          "name": "stdout",
          "text": [
            "Season    2016\n",
            "Daynum     132\n",
            "Wteam     1464\n",
            "Wscore     186\n",
            "Lteam     1464\n",
            "Lscore     150\n",
            "Wloc         N\n",
            "Numot        6\n",
            "dtype: object\n"
          ]
        }
      ]
    },
    {
      "cell_type": "code",
      "metadata": {
        "colab": {
          "base_uri": "https://localhost:8080/"
        },
        "id": "IgZ-I7R7VNTO",
        "outputId": "01cd2da0-5257-433c-fb35-c9bf03d211c4"
      },
      "source": [
        "print(df.min())"
      ],
      "execution_count": null,
      "outputs": [
        {
          "output_type": "stream",
          "name": "stdout",
          "text": [
            "Season    1985\n",
            "Daynum       0\n",
            "Wteam     1101\n",
            "Wscore      34\n",
            "Lteam     1101\n",
            "Lscore      20\n",
            "Wloc         A\n",
            "Numot        0\n",
            "dtype: object\n"
          ]
        }
      ]
    },
    {
      "cell_type": "code",
      "metadata": {
        "colab": {
          "base_uri": "https://localhost:8080/"
        },
        "id": "0n3w44P7VPKu",
        "outputId": "3250f68a-1447-494d-fdd3-32c4f321894e"
      },
      "source": [
        "!wget https://i.cbc.ca/1.5256404.1566499707!/fileImage/httpImage/image.jpg_gen/derivatives/16x9_940/cat-behaviour.jpg"
      ],
      "execution_count": null,
      "outputs": [
        {
          "output_type": "stream",
          "name": "stdout",
          "text": [
            "--2021-11-23 06:03:19--  https://i.cbc.ca/1.5256404.1566499707!/fileImage/httpImage/image.jpg_gen/derivatives/16x9_940/cat-behaviour.jpg\n",
            "Resolving i.cbc.ca (i.cbc.ca)... 95.100.137.158\n",
            "Connecting to i.cbc.ca (i.cbc.ca)|95.100.137.158|:443... connected.\n",
            "HTTP request sent, awaiting response... 200 OK\n",
            "Length: 33709 (33K) [image/jpeg]\n",
            "Saving to: ‘cat-behaviour.jpg’\n",
            "\n",
            "\rcat-behaviour.jpg     0%[                    ]       0  --.-KB/s               \rcat-behaviour.jpg   100%[===================>]  32.92K  --.-KB/s    in 0.004s  \n",
            "\n",
            "2021-11-23 06:03:19 (8.97 MB/s) - ‘cat-behaviour.jpg’ saved [33709/33709]\n",
            "\n"
          ]
        }
      ]
    },
    {
      "cell_type": "code",
      "metadata": {
        "colab": {
          "base_uri": "https://localhost:8080/",
          "height": 206
        },
        "id": "g0gPN507ZDgz",
        "outputId": "b5b81084-afbf-409a-b94e-47aec77fbe7c"
      },
      "source": [
        "df.head()\n"
      ],
      "execution_count": null,
      "outputs": [
        {
          "output_type": "execute_result",
          "data": {
            "text/html": [
              "<div>\n",
              "<style scoped>\n",
              "    .dataframe tbody tr th:only-of-type {\n",
              "        vertical-align: middle;\n",
              "    }\n",
              "\n",
              "    .dataframe tbody tr th {\n",
              "        vertical-align: top;\n",
              "    }\n",
              "\n",
              "    .dataframe thead th {\n",
              "        text-align: right;\n",
              "    }\n",
              "</style>\n",
              "<table border=\"1\" class=\"dataframe\">\n",
              "  <thead>\n",
              "    <tr style=\"text-align: right;\">\n",
              "      <th></th>\n",
              "      <th>Season</th>\n",
              "      <th>Daynum</th>\n",
              "      <th>Wteam</th>\n",
              "      <th>Wscore</th>\n",
              "      <th>Lteam</th>\n",
              "      <th>Lscore</th>\n",
              "      <th>Wloc</th>\n",
              "      <th>Numot</th>\n",
              "    </tr>\n",
              "  </thead>\n",
              "  <tbody>\n",
              "    <tr>\n",
              "      <th>0</th>\n",
              "      <td>1985</td>\n",
              "      <td>20</td>\n",
              "      <td>1228</td>\n",
              "      <td>81</td>\n",
              "      <td>1328</td>\n",
              "      <td>64</td>\n",
              "      <td>N</td>\n",
              "      <td>0</td>\n",
              "    </tr>\n",
              "    <tr>\n",
              "      <th>1</th>\n",
              "      <td>1985</td>\n",
              "      <td>25</td>\n",
              "      <td>1106</td>\n",
              "      <td>77</td>\n",
              "      <td>1354</td>\n",
              "      <td>70</td>\n",
              "      <td>H</td>\n",
              "      <td>0</td>\n",
              "    </tr>\n",
              "    <tr>\n",
              "      <th>2</th>\n",
              "      <td>1985</td>\n",
              "      <td>25</td>\n",
              "      <td>1112</td>\n",
              "      <td>63</td>\n",
              "      <td>1223</td>\n",
              "      <td>56</td>\n",
              "      <td>H</td>\n",
              "      <td>0</td>\n",
              "    </tr>\n",
              "    <tr>\n",
              "      <th>3</th>\n",
              "      <td>1985</td>\n",
              "      <td>25</td>\n",
              "      <td>1165</td>\n",
              "      <td>70</td>\n",
              "      <td>1432</td>\n",
              "      <td>54</td>\n",
              "      <td>H</td>\n",
              "      <td>0</td>\n",
              "    </tr>\n",
              "    <tr>\n",
              "      <th>4</th>\n",
              "      <td>1985</td>\n",
              "      <td>25</td>\n",
              "      <td>1192</td>\n",
              "      <td>86</td>\n",
              "      <td>1447</td>\n",
              "      <td>74</td>\n",
              "      <td>H</td>\n",
              "      <td>0</td>\n",
              "    </tr>\n",
              "  </tbody>\n",
              "</table>\n",
              "</div>"
            ],
            "text/plain": [
              "   Season  Daynum  Wteam  Wscore  Lteam  Lscore Wloc  Numot\n",
              "0    1985      20   1228      81   1328      64    N      0\n",
              "1    1985      25   1106      77   1354      70    H      0\n",
              "2    1985      25   1112      63   1223      56    H      0\n",
              "3    1985      25   1165      70   1432      54    H      0\n",
              "4    1985      25   1192      86   1447      74    H      0"
            ]
          },
          "metadata": {},
          "execution_count": 21
        }
      ]
    },
    {
      "cell_type": "code",
      "metadata": {
        "colab": {
          "base_uri": "https://localhost:8080/"
        },
        "id": "Tixa2tG2ZhgO",
        "outputId": "f8f5eac8-5e44-4d68-9a9f-8066bbb23279"
      },
      "source": [
        "df.Wteam"
      ],
      "execution_count": null,
      "outputs": [
        {
          "output_type": "execute_result",
          "data": {
            "text/plain": [
              "0         1228\n",
              "1         1106\n",
              "2         1112\n",
              "3         1165\n",
              "4         1192\n",
              "          ... \n",
              "145284    1114\n",
              "145285    1163\n",
              "145286    1246\n",
              "145287    1277\n",
              "145288    1386\n",
              "Name: Wteam, Length: 145289, dtype: int64"
            ]
          },
          "metadata": {},
          "execution_count": 22
        }
      ]
    },
    {
      "cell_type": "code",
      "metadata": {
        "colab": {
          "base_uri": "https://localhost:8080/"
        },
        "id": "iFVeXbunZmsU",
        "outputId": "9187ce48-ba26-47a1-8c0d-0d51ab20bb4f"
      },
      "source": [
        "df.Wteam[0:5]"
      ],
      "execution_count": null,
      "outputs": [
        {
          "output_type": "execute_result",
          "data": {
            "text/plain": [
              "1228"
            ]
          },
          "metadata": {},
          "execution_count": 29
        }
      ]
    },
    {
      "cell_type": "code",
      "metadata": {
        "colab": {
          "base_uri": "https://localhost:8080/"
        },
        "id": "fA711UbGZ1MJ",
        "outputId": "193477bc-5cf1-436c-f27e-7dd57314a3fd"
      },
      "source": [
        "print(df.Wteam)\n",
        "print(df.Wteam.max())\n",
        "print(df.Wteam[0])\n",
        "print(df.Wteam[0:5])\n",
        "print(df.Wteam[0:5].max())"
      ],
      "execution_count": null,
      "outputs": [
        {
          "output_type": "stream",
          "name": "stdout",
          "text": [
            "0         1228\n",
            "1         1106\n",
            "2         1112\n",
            "3         1165\n",
            "4         1192\n",
            "          ... \n",
            "145284    1114\n",
            "145285    1163\n",
            "145286    1246\n",
            "145287    1277\n",
            "145288    1386\n",
            "Name: Wteam, Length: 145289, dtype: int64\n",
            "1464\n",
            "1228\n",
            "0    1228\n",
            "1    1106\n",
            "2    1112\n",
            "3    1165\n",
            "4    1192\n",
            "Name: Wteam, dtype: int64\n",
            "1228\n"
          ]
        }
      ]
    },
    {
      "cell_type": "code",
      "metadata": {
        "colab": {
          "base_uri": "https://localhost:8080/"
        },
        "id": "D6RtmvnwaE6_",
        "outputId": "485739f4-e137-445e-d19d-e406db23a1bb"
      },
      "source": [
        "df = pd.DataFrame(\n",
        "    {\"AAA\":[4,5,6,7],\n",
        "     \"BBB\":[10,20,30,40],\n",
        "     \"CCC\":[100,50,-30,-50]}\n",
        ")\n",
        "print(df)\n",
        "\n",
        "mask = pd.Series([True, False, True, False])\n",
        "print(df[mask])\n",
        "\n",
        "df.loc[mask, 'BBB'] = -1\n",
        "print(df)"
      ],
      "execution_count": null,
      "outputs": [
        {
          "output_type": "stream",
          "name": "stdout",
          "text": [
            "   AAA  BBB  CCC\n",
            "0    4   10  100\n",
            "1    5   20   50\n",
            "2    6   30  -30\n",
            "3    7   40  -50\n",
            "   AAA  BBB  CCC\n",
            "0    4   10  100\n",
            "2    6   30  -30\n",
            "   AAA  BBB  CCC\n",
            "0    4   -1  100\n",
            "1    5   20   50\n",
            "2    6   -1  -30\n",
            "3    7   40  -50\n"
          ]
        }
      ]
    },
    {
      "cell_type": "code",
      "metadata": {
        "colab": {
          "base_uri": "https://localhost:8080/"
        },
        "id": "7R6pjRKEbic3",
        "outputId": "7c6caf91-fb65-47c3-9911-65f269526b24"
      },
      "source": [
        "import numpy as np\n",
        "\n",
        "a = np.arange(6)\n",
        "mask = np.array([0,0,0,1,1,1])\n",
        "print(a*mask)"
      ],
      "execution_count": null,
      "outputs": [
        {
          "output_type": "stream",
          "name": "stdout",
          "text": [
            "[0 0 0 3 4 5]\n"
          ]
        }
      ]
    },
    {
      "cell_type": "code",
      "metadata": {
        "colab": {
          "base_uri": "https://localhost:8080/"
        },
        "id": "KCUcb9Y8cfB1",
        "outputId": "eb7dd9f4-23e9-481e-d6b6-5726e5de511c"
      },
      "source": [
        "df = pd.DataFrame(\n",
        "    {\"AAA\":[4,5,6,7],\n",
        "     \"BBB\":[10,20,30,40],\n",
        "     \"CCC\":[100,50,-30,-50]}\n",
        ")\n",
        "print(df)\n",
        "\n",
        "mask = np.array([0,2])\n",
        "print(df.loc[mask])\n",
        "\n",
        "df.loc[mask, 'BBB'] = -1\n",
        "print(df)"
      ],
      "execution_count": null,
      "outputs": [
        {
          "output_type": "stream",
          "name": "stdout",
          "text": [
            "   AAA  BBB  CCC\n",
            "0    4   10  100\n",
            "1    5   20   50\n",
            "2    6   30  -30\n",
            "3    7   40  -50\n",
            "   AAA  BBB  CCC\n",
            "0    4   10  100\n",
            "2    6   30  -30\n",
            "   AAA  BBB  CCC\n",
            "0    4   -1  100\n",
            "1    5   20   50\n",
            "2    6   -1  -30\n",
            "3    7   40  -50\n"
          ]
        }
      ]
    },
    {
      "cell_type": "code",
      "metadata": {
        "colab": {
          "base_uri": "https://localhost:8080/"
        },
        "id": "J-96FNWFeofO",
        "outputId": "0d1136e3-9fd4-4163-e078-f06e59743301"
      },
      "source": [
        "df = pd.DataFrame(\n",
        "    {\"AAA\":[4,5,6,7],\n",
        "     \"BBB\":[10,20,30,40],\n",
        "     \"CCC\":[100,50,-30,-50]}\n",
        ")\n",
        "print(df)\n",
        "print(df.AAA)\n",
        "print(df.AAA>5)\n"
      ],
      "execution_count": null,
      "outputs": [
        {
          "output_type": "stream",
          "name": "stdout",
          "text": [
            "   AAA  BBB  CCC\n",
            "0    4   10  100\n",
            "1    5   20   50\n",
            "2    6   30  -30\n",
            "3    7   40  -50\n",
            "0    4\n",
            "1    5\n",
            "2    6\n",
            "3    7\n",
            "Name: AAA, dtype: int64\n",
            "0    False\n",
            "1    False\n",
            "2     True\n",
            "3     True\n",
            "Name: AAA, dtype: bool\n"
          ]
        }
      ]
    },
    {
      "cell_type": "code",
      "metadata": {
        "colab": {
          "base_uri": "https://localhost:8080/"
        },
        "id": "HVizViAnfMRE",
        "outputId": "24badf86-be83-4cb9-8e32-26a9afd51283"
      },
      "source": [
        "df = pd.DataFrame(\n",
        "    {\"AAA\":[4,5,6,7],\n",
        "     \"BBB\":[10,20,30,40],\n",
        "     \"CCC\":[100,50,-30,-50]}\n",
        ")\n",
        "\n",
        "df.loc[df.AAA%2==0, 'CCC'] = 0\n",
        "print(df)"
      ],
      "execution_count": null,
      "outputs": [
        {
          "output_type": "stream",
          "name": "stdout",
          "text": [
            "   AAA  BBB  CCC\n",
            "0    4   10    0\n",
            "1    5   20   50\n",
            "2    6   30    0\n",
            "3    7   40  -50\n"
          ]
        }
      ]
    },
    {
      "cell_type": "code",
      "metadata": {
        "colab": {
          "base_uri": "https://localhost:8080/"
        },
        "id": "OlS2maMcg7kb",
        "outputId": "fedc640e-efb9-4866-c87d-da2a4942556a"
      },
      "source": [
        "df = pd.DataFrame(\n",
        "    {\"AAA\":[4,5,6,7],\n",
        "     \"BBB\":[10,20,30,40],\n",
        "     \"CCC\":[100,50,-30,-50]}\n",
        ")\n",
        "\n",
        "df.loc[df.AAA%2==1, 'CCC'] = df.CCC*2\n",
        "print(df)"
      ],
      "execution_count": null,
      "outputs": [
        {
          "output_type": "stream",
          "name": "stdout",
          "text": [
            "   AAA  BBB  CCC\n",
            "0    4   10  100\n",
            "1    5   20  100\n",
            "2    6   30  -30\n",
            "3    7   40 -100\n"
          ]
        }
      ]
    },
    {
      "cell_type": "code",
      "metadata": {
        "colab": {
          "base_uri": "https://localhost:8080/"
        },
        "id": "GxBNVZ0NhZNd",
        "outputId": "6c0786cc-df8f-4b8b-b211-04131fb375bc"
      },
      "source": [
        "df = pd.DataFrame(\n",
        "    {\"AAA\":[4,5,6,7],\n",
        "     \"BBB\":[10,20,30,40],\n",
        "     \"CCC\":[100,50,-30,-50]}\n",
        ")\n",
        "\n",
        "df.loc[ (df.AAA>=5) & (df.BBB<40), 'BBB'] = -1\n",
        "# AAA >=5 그리고 BBB <40 ---> BBB -1\n",
        "print(df)"
      ],
      "execution_count": null,
      "outputs": [
        {
          "output_type": "stream",
          "name": "stdout",
          "text": [
            "   AAA  BBB  CCC\n",
            "0    4   10  100\n",
            "1    5   -1   50\n",
            "2    6   -1  -30\n",
            "3    7   40  -50\n"
          ]
        }
      ]
    },
    {
      "cell_type": "code",
      "metadata": {
        "colab": {
          "base_uri": "https://localhost:8080/"
        },
        "id": "S4G-T-ZIieaa",
        "outputId": "74fc77e4-0a58-4009-c17a-4cf92c9c2e72"
      },
      "source": [
        "df = pd.DataFrame(\n",
        "    {\"AAA\":[4,5,6,7],\n",
        "     \"BBB\":[10,20,30,40],\n",
        "     \"CCC\":[100,50,-30,-50]}\n",
        ")\n",
        "\n",
        "t = df[df.AAA>5]\n",
        "print(t)\n",
        "t.AAA = -1\n",
        "print(t)\n",
        "print(df)"
      ],
      "execution_count": null,
      "outputs": [
        {
          "output_type": "stream",
          "name": "stdout",
          "text": [
            "   AAA  BBB  CCC\n",
            "2    6   30  -30\n",
            "3    7   40  -50\n",
            "   AAA  BBB  CCC\n",
            "2   -1   30  -30\n",
            "3   -1   40  -50\n",
            "   AAA  BBB  CCC\n",
            "0    4   10  100\n",
            "1    5   20   50\n",
            "2    6   30  -30\n",
            "3    7   40  -50\n"
          ]
        },
        {
          "output_type": "stream",
          "name": "stderr",
          "text": [
            "/usr/local/lib/python3.7/dist-packages/pandas/core/generic.py:5170: SettingWithCopyWarning: \n",
            "A value is trying to be set on a copy of a slice from a DataFrame.\n",
            "Try using .loc[row_indexer,col_indexer] = value instead\n",
            "\n",
            "See the caveats in the documentation: https://pandas.pydata.org/pandas-docs/stable/user_guide/indexing.html#returning-a-view-versus-a-copy\n",
            "  self[name] = value\n"
          ]
        }
      ]
    },
    {
      "cell_type": "code",
      "metadata": {
        "colab": {
          "base_uri": "https://localhost:8080/"
        },
        "id": "82VqKf-sldTZ",
        "outputId": "79c5e298-a018-4f27-d69e-f76c30f4356c"
      },
      "source": [
        "a = np.arange(6)\n",
        "a[a>3] = -1\n",
        "print(a)"
      ],
      "execution_count": null,
      "outputs": [
        {
          "output_type": "stream",
          "name": "stdout",
          "text": [
            "[ 0  1  2  3 -1 -1]\n"
          ]
        }
      ]
    },
    {
      "cell_type": "code",
      "metadata": {
        "colab": {
          "base_uri": "https://localhost:8080/"
        },
        "id": "afSraQlllruD",
        "outputId": "02d0dab6-0481-4dad-fe38-de2bcbbb194b"
      },
      "source": [
        "df = pd.DataFrame(\n",
        "    {\"AAA\":[4,5,6,7],\n",
        "     \"BBB\":[10,20,30,40],\n",
        "     \"CCC\":[100,50,-30,-50]}\n",
        ")\n",
        "\n",
        "df.loc[df.AAA%2==0, ['BBB', 'CCC']] = -1\n",
        "print(df)"
      ],
      "execution_count": null,
      "outputs": [
        {
          "output_type": "stream",
          "name": "stdout",
          "text": [
            "   AAA  BBB  CCC\n",
            "0    4   -1   -1\n",
            "1    5   20   50\n",
            "2    6   -1   -1\n",
            "3    7   40  -50\n"
          ]
        }
      ]
    },
    {
      "cell_type": "code",
      "metadata": {
        "colab": {
          "base_uri": "https://localhost:8080/"
        },
        "id": "-hum19FlnxIQ",
        "outputId": "1fab3b66-6fa0-4d5e-f103-4d9755ed9af8"
      },
      "source": [
        "a = [0,1,2,3,4]\n",
        "if 3 in a:\n",
        "  print(\"existed\")"
      ],
      "execution_count": null,
      "outputs": [
        {
          "output_type": "stream",
          "name": "stdout",
          "text": [
            "existed\n"
          ]
        }
      ]
    },
    {
      "cell_type": "code",
      "metadata": {
        "colab": {
          "base_uri": "https://localhost:8080/"
        },
        "id": "V8JPCZ8VoTi8",
        "outputId": "36dbc260-9886-4a88-b8da-40fba09b4ec4"
      },
      "source": [
        "df = pd.DataFrame(\n",
        "    {\"AAA\":[4,5,6,7],\n",
        "     \"BBB\":[10,20,30,40],\n",
        "     \"CCC\":[100,50,-30,-50]}\n",
        ")\n",
        "\n",
        "df.AAA.isin([4,5,6])"
      ],
      "execution_count": null,
      "outputs": [
        {
          "output_type": "execute_result",
          "data": {
            "text/plain": [
              "0     True\n",
              "1     True\n",
              "2     True\n",
              "3    False\n",
              "Name: AAA, dtype: bool"
            ]
          },
          "metadata": {},
          "execution_count": 74
        }
      ]
    },
    {
      "cell_type": "code",
      "metadata": {
        "colab": {
          "base_uri": "https://localhost:8080/"
        },
        "id": "6eurrf6woemF",
        "outputId": "1804fac6-582c-4cc9-e5c5-87aea4f7bf7f"
      },
      "source": [
        "# AAA가 4또는 7일 경우 BBB 컬럼을 0 으로 변환\n",
        "\n",
        "df = pd.DataFrame(\n",
        "    {\"AAA\":[4,5,6,7],\n",
        "     \"BBB\":[10,20,30,40],\n",
        "     \"CCC\":[100,50,-30,-50]}\n",
        ")\n",
        "\n",
        "df.loc[df.AAA.isin([4,7]), 'BBB'] = 0\n",
        "print(df)"
      ],
      "execution_count": null,
      "outputs": [
        {
          "output_type": "stream",
          "name": "stdout",
          "text": [
            "   AAA  BBB  CCC\n",
            "0    4    0  100\n",
            "1    5   20   50\n",
            "2    6   30  -30\n",
            "3    7    0  -50\n"
          ]
        }
      ]
    },
    {
      "cell_type": "code",
      "metadata": {
        "colab": {
          "base_uri": "https://localhost:8080/",
          "height": 112
        },
        "id": "R7XjYbvepOlD",
        "outputId": "e694aab4-ea50-4ab7-e23a-857f102863ff"
      },
      "source": [
        "df = pd.DataFrame(\n",
        "    {\"AAA\":[4,5,6,7],\n",
        "     \"BBB\":[10,20,30,40],\n",
        "     \"CCC\":[100,50,-30,-50]}\n",
        ")\n",
        "\n",
        "df[df.index%2==0]"
      ],
      "execution_count": null,
      "outputs": [
        {
          "output_type": "execute_result",
          "data": {
            "text/html": [
              "<div>\n",
              "<style scoped>\n",
              "    .dataframe tbody tr th:only-of-type {\n",
              "        vertical-align: middle;\n",
              "    }\n",
              "\n",
              "    .dataframe tbody tr th {\n",
              "        vertical-align: top;\n",
              "    }\n",
              "\n",
              "    .dataframe thead th {\n",
              "        text-align: right;\n",
              "    }\n",
              "</style>\n",
              "<table border=\"1\" class=\"dataframe\">\n",
              "  <thead>\n",
              "    <tr style=\"text-align: right;\">\n",
              "      <th></th>\n",
              "      <th>AAA</th>\n",
              "      <th>BBB</th>\n",
              "      <th>CCC</th>\n",
              "    </tr>\n",
              "  </thead>\n",
              "  <tbody>\n",
              "    <tr>\n",
              "      <th>0</th>\n",
              "      <td>4</td>\n",
              "      <td>10</td>\n",
              "      <td>100</td>\n",
              "    </tr>\n",
              "    <tr>\n",
              "      <th>2</th>\n",
              "      <td>6</td>\n",
              "      <td>30</td>\n",
              "      <td>-30</td>\n",
              "    </tr>\n",
              "  </tbody>\n",
              "</table>\n",
              "</div>"
            ],
            "text/plain": [
              "   AAA  BBB  CCC\n",
              "0    4   10  100\n",
              "2    6   30  -30"
            ]
          },
          "metadata": {},
          "execution_count": 78
        }
      ]
    },
    {
      "cell_type": "code",
      "metadata": {
        "colab": {
          "base_uri": "https://localhost:8080/"
        },
        "id": "Upaa9SNIqAnU",
        "outputId": "57d94419-b37d-427b-fc7f-7d5e123bc028"
      },
      "source": [
        "df = pd.DataFrame(\n",
        "    {\"AAA\":[4,5,6,7],\n",
        "     \"BBB\":[10,20,30,40],\n",
        "     \"CCC\":[100,50,-30,-50]}\n",
        ")\n",
        "\n",
        "df['abs_CCC'] = df['CCC'].abs()\n",
        "print(df)"
      ],
      "execution_count": null,
      "outputs": [
        {
          "output_type": "stream",
          "name": "stdout",
          "text": [
            "   AAA  BBB  CCC  abs_CCC\n",
            "0    4   10  100      100\n",
            "1    5   20   50       50\n",
            "2    6   30  -30       30\n",
            "3    7   40  -50       50\n"
          ]
        }
      ]
    },
    {
      "cell_type": "code",
      "metadata": {
        "colab": {
          "base_uri": "https://localhost:8080/"
        },
        "id": "GEIAgn1PquqO",
        "outputId": "b6167736-790e-403d-f9ea-e2224e6fbb6c"
      },
      "source": [
        "df = pd.DataFrame(\n",
        "    {\"AAA\":[4,5,6,7],\n",
        "     \"BBB\":[10,20,30,40],\n",
        "     \"CCC\":[100,50,-30,-50]}\n",
        ")\n",
        "\n",
        "# df['S'] = df.AAA + df.BBB\n",
        "df['S'] = df['AAA'] + df['BBB']\n",
        "# df.S = df['AAA'] + df['BBB']  # ERROR\n",
        "\n",
        "print(df)"
      ],
      "execution_count": null,
      "outputs": [
        {
          "output_type": "stream",
          "name": "stdout",
          "text": [
            "   AAA  BBB  CCC\n",
            "0    4   10  100\n",
            "1    5   20   50\n",
            "2    6   30  -30\n",
            "3    7   40  -50\n"
          ]
        },
        {
          "output_type": "stream",
          "name": "stderr",
          "text": [
            "/usr/local/lib/python3.7/dist-packages/ipykernel_launcher.py:9: UserWarning: Pandas doesn't allow columns to be created via a new attribute name - see https://pandas.pydata.org/pandas-docs/stable/indexing.html#attribute-access\n",
            "  if __name__ == '__main__':\n"
          ]
        }
      ]
    },
    {
      "cell_type": "code",
      "metadata": {
        "colab": {
          "base_uri": "https://localhost:8080/"
        },
        "id": "Z_fQkzlgrjTi",
        "outputId": "59acb971-6d6c-4c99-e72e-ec1bb87d16b7"
      },
      "source": [
        "df = pd.DataFrame(\n",
        "    {\"AAA\":[4,5,6,7],\n",
        "     \"BBB\":[\"남\", \"여\", \"\", \"여\"],\n",
        "     \"CCC\":[100,50,-30,-50]}\n",
        ")\n",
        "\n",
        "def encode(BBB):\n",
        "  if BBB==\"남\": return 1\n",
        "  if BBB==\"여\": return 0\n",
        "  return -1\n",
        "\n",
        "df['BBB_encoded'] = df[['BBB']].applymap(encode)\n",
        "print(df)\n",
        "\n",
        "new_df = df.drop(columns=\"BBB\")\n",
        "print(new_df)\n",
        "print(df)\n",
        "\n",
        "df.drop(columns=\"BBB\", inplace=True)\n",
        "print(df)"
      ],
      "execution_count": null,
      "outputs": [
        {
          "output_type": "stream",
          "name": "stdout",
          "text": [
            "None\n",
            "   AAA  CCC  BBB_encoded\n",
            "0    4  100            1\n",
            "1    5   50            0\n",
            "2    6  -30           -1\n",
            "3    7  -50            0\n"
          ]
        }
      ]
    },
    {
      "cell_type": "code",
      "metadata": {
        "colab": {
          "base_uri": "https://localhost:8080/"
        },
        "id": "QgPxRoScsyJS",
        "outputId": "ef3930c5-0fff-4942-8f7e-adac8cf17c56"
      },
      "source": [
        "df = pd.DataFrame(\n",
        "    {\"AAA\":[4,5,6,7],\n",
        "     \"BBB\":[\"남\", \"여\", \"\", \"여\"],\n",
        "     \"CCC\":[100,50,-30,-50]}\n",
        ")\n",
        "\n",
        "df.drop(columns=\"BBB\", inplace=True)\n",
        "print(df)\n",
        "\n",
        "df = pd.DataFrame(\n",
        "    {\"AAA\":[4,5,6,7],\n",
        "     \"BBB\":[\"남\", \"여\", \"\", \"여\"],\n",
        "     \"CCC\":[100,50,-30,-50]}\n",
        ")\n",
        "\n",
        "df.drop(columns=[\"BBB\", \"CCC\"], inplace=True)\n",
        "print(df)"
      ],
      "execution_count": null,
      "outputs": [
        {
          "output_type": "stream",
          "name": "stdout",
          "text": [
            "   AAA  CCC\n",
            "0    4  100\n",
            "1    5   50\n",
            "2    6  -30\n",
            "3    7  -50\n",
            "   AAA\n",
            "0    4\n",
            "1    5\n",
            "2    6\n",
            "3    7\n"
          ]
        }
      ]
    },
    {
      "cell_type": "code",
      "metadata": {
        "colab": {
          "base_uri": "https://localhost:8080/",
          "height": 444
        },
        "id": "wChmoASLu6XV",
        "outputId": "620eee56-e143-4dc8-bcd3-b4b2189c58d8"
      },
      "source": [
        "df = pd.DataFrame(\n",
        "    {\"AAA\":[4,5,6,7],\n",
        "     \"BBB\":[10,20,30,40],\n",
        "     \"CCC\":[100,50,-30,-50]}\n",
        ")\n",
        "\n",
        "df.drop(1, inplace=True)\n",
        "print(df)\n"
      ],
      "execution_count": null,
      "outputs": [
        {
          "output_type": "stream",
          "name": "stdout",
          "text": [
            "   AAA  BBB  CCC\n",
            "0    4   10  100\n",
            "2    6   30  -30\n",
            "3    7   40  -50\n"
          ]
        },
        {
          "output_type": "error",
          "ename": "KeyError",
          "evalue": "ignored",
          "traceback": [
            "\u001b[0;31m---------------------------------------------------------------------------\u001b[0m",
            "\u001b[0;31mKeyError\u001b[0m                                  Traceback (most recent call last)",
            "\u001b[0;32m<ipython-input-107-17db29629570>\u001b[0m in \u001b[0;36m<module>\u001b[0;34m()\u001b[0m\n\u001b[1;32m      8\u001b[0m \u001b[0mprint\u001b[0m\u001b[0;34m(\u001b[0m\u001b[0mdf\u001b[0m\u001b[0;34m)\u001b[0m\u001b[0;34m\u001b[0m\u001b[0;34m\u001b[0m\u001b[0m\n\u001b[1;32m      9\u001b[0m \u001b[0;34m\u001b[0m\u001b[0m\n\u001b[0;32m---> 10\u001b[0;31m \u001b[0mdf\u001b[0m\u001b[0;34m.\u001b[0m\u001b[0mdrop\u001b[0m\u001b[0;34m(\u001b[0m\u001b[0;36m1\u001b[0m\u001b[0;34m,\u001b[0m \u001b[0minplace\u001b[0m\u001b[0;34m=\u001b[0m\u001b[0;32mTrue\u001b[0m\u001b[0;34m)\u001b[0m\u001b[0;34m\u001b[0m\u001b[0;34m\u001b[0m\u001b[0m\n\u001b[0m\u001b[1;32m     11\u001b[0m \u001b[0mprint\u001b[0m\u001b[0;34m(\u001b[0m\u001b[0mdf\u001b[0m\u001b[0;34m)\u001b[0m\u001b[0;34m\u001b[0m\u001b[0;34m\u001b[0m\u001b[0m\n",
            "\u001b[0;32m/usr/local/lib/python3.7/dist-packages/pandas/core/frame.py\u001b[0m in \u001b[0;36mdrop\u001b[0;34m(self, labels, axis, index, columns, level, inplace, errors)\u001b[0m\n\u001b[1;32m   4172\u001b[0m             \u001b[0mlevel\u001b[0m\u001b[0;34m=\u001b[0m\u001b[0mlevel\u001b[0m\u001b[0;34m,\u001b[0m\u001b[0;34m\u001b[0m\u001b[0;34m\u001b[0m\u001b[0m\n\u001b[1;32m   4173\u001b[0m             \u001b[0minplace\u001b[0m\u001b[0;34m=\u001b[0m\u001b[0minplace\u001b[0m\u001b[0;34m,\u001b[0m\u001b[0;34m\u001b[0m\u001b[0;34m\u001b[0m\u001b[0m\n\u001b[0;32m-> 4174\u001b[0;31m             \u001b[0merrors\u001b[0m\u001b[0;34m=\u001b[0m\u001b[0merrors\u001b[0m\u001b[0;34m,\u001b[0m\u001b[0;34m\u001b[0m\u001b[0;34m\u001b[0m\u001b[0m\n\u001b[0m\u001b[1;32m   4175\u001b[0m         )\n\u001b[1;32m   4176\u001b[0m \u001b[0;34m\u001b[0m\u001b[0m\n",
            "\u001b[0;32m/usr/local/lib/python3.7/dist-packages/pandas/core/generic.py\u001b[0m in \u001b[0;36mdrop\u001b[0;34m(self, labels, axis, index, columns, level, inplace, errors)\u001b[0m\n\u001b[1;32m   3887\u001b[0m         \u001b[0;32mfor\u001b[0m \u001b[0maxis\u001b[0m\u001b[0;34m,\u001b[0m \u001b[0mlabels\u001b[0m \u001b[0;32min\u001b[0m \u001b[0maxes\u001b[0m\u001b[0;34m.\u001b[0m\u001b[0mitems\u001b[0m\u001b[0;34m(\u001b[0m\u001b[0;34m)\u001b[0m\u001b[0;34m:\u001b[0m\u001b[0;34m\u001b[0m\u001b[0;34m\u001b[0m\u001b[0m\n\u001b[1;32m   3888\u001b[0m             \u001b[0;32mif\u001b[0m \u001b[0mlabels\u001b[0m \u001b[0;32mis\u001b[0m \u001b[0;32mnot\u001b[0m \u001b[0;32mNone\u001b[0m\u001b[0;34m:\u001b[0m\u001b[0;34m\u001b[0m\u001b[0;34m\u001b[0m\u001b[0m\n\u001b[0;32m-> 3889\u001b[0;31m                 \u001b[0mobj\u001b[0m \u001b[0;34m=\u001b[0m \u001b[0mobj\u001b[0m\u001b[0;34m.\u001b[0m\u001b[0m_drop_axis\u001b[0m\u001b[0;34m(\u001b[0m\u001b[0mlabels\u001b[0m\u001b[0;34m,\u001b[0m \u001b[0maxis\u001b[0m\u001b[0;34m,\u001b[0m \u001b[0mlevel\u001b[0m\u001b[0;34m=\u001b[0m\u001b[0mlevel\u001b[0m\u001b[0;34m,\u001b[0m \u001b[0merrors\u001b[0m\u001b[0;34m=\u001b[0m\u001b[0merrors\u001b[0m\u001b[0;34m)\u001b[0m\u001b[0;34m\u001b[0m\u001b[0;34m\u001b[0m\u001b[0m\n\u001b[0m\u001b[1;32m   3890\u001b[0m \u001b[0;34m\u001b[0m\u001b[0m\n\u001b[1;32m   3891\u001b[0m         \u001b[0;32mif\u001b[0m \u001b[0minplace\u001b[0m\u001b[0;34m:\u001b[0m\u001b[0;34m\u001b[0m\u001b[0;34m\u001b[0m\u001b[0m\n",
            "\u001b[0;32m/usr/local/lib/python3.7/dist-packages/pandas/core/generic.py\u001b[0m in \u001b[0;36m_drop_axis\u001b[0;34m(self, labels, axis, level, errors)\u001b[0m\n\u001b[1;32m   3921\u001b[0m                 \u001b[0mnew_axis\u001b[0m \u001b[0;34m=\u001b[0m \u001b[0maxis\u001b[0m\u001b[0;34m.\u001b[0m\u001b[0mdrop\u001b[0m\u001b[0;34m(\u001b[0m\u001b[0mlabels\u001b[0m\u001b[0;34m,\u001b[0m \u001b[0mlevel\u001b[0m\u001b[0;34m=\u001b[0m\u001b[0mlevel\u001b[0m\u001b[0;34m,\u001b[0m \u001b[0merrors\u001b[0m\u001b[0;34m=\u001b[0m\u001b[0merrors\u001b[0m\u001b[0;34m)\u001b[0m\u001b[0;34m\u001b[0m\u001b[0;34m\u001b[0m\u001b[0m\n\u001b[1;32m   3922\u001b[0m             \u001b[0;32melse\u001b[0m\u001b[0;34m:\u001b[0m\u001b[0;34m\u001b[0m\u001b[0;34m\u001b[0m\u001b[0m\n\u001b[0;32m-> 3923\u001b[0;31m                 \u001b[0mnew_axis\u001b[0m \u001b[0;34m=\u001b[0m \u001b[0maxis\u001b[0m\u001b[0;34m.\u001b[0m\u001b[0mdrop\u001b[0m\u001b[0;34m(\u001b[0m\u001b[0mlabels\u001b[0m\u001b[0;34m,\u001b[0m \u001b[0merrors\u001b[0m\u001b[0;34m=\u001b[0m\u001b[0merrors\u001b[0m\u001b[0;34m)\u001b[0m\u001b[0;34m\u001b[0m\u001b[0;34m\u001b[0m\u001b[0m\n\u001b[0m\u001b[1;32m   3924\u001b[0m             \u001b[0mresult\u001b[0m \u001b[0;34m=\u001b[0m \u001b[0mself\u001b[0m\u001b[0;34m.\u001b[0m\u001b[0mreindex\u001b[0m\u001b[0;34m(\u001b[0m\u001b[0;34m**\u001b[0m\u001b[0;34m{\u001b[0m\u001b[0maxis_name\u001b[0m\u001b[0;34m:\u001b[0m \u001b[0mnew_axis\u001b[0m\u001b[0;34m}\u001b[0m\u001b[0;34m)\u001b[0m\u001b[0;34m\u001b[0m\u001b[0;34m\u001b[0m\u001b[0m\n\u001b[1;32m   3925\u001b[0m \u001b[0;34m\u001b[0m\u001b[0m\n",
            "\u001b[0;32m/usr/local/lib/python3.7/dist-packages/pandas/core/indexes/base.py\u001b[0m in \u001b[0;36mdrop\u001b[0;34m(self, labels, errors)\u001b[0m\n\u001b[1;32m   5285\u001b[0m         \u001b[0;32mif\u001b[0m \u001b[0mmask\u001b[0m\u001b[0;34m.\u001b[0m\u001b[0many\u001b[0m\u001b[0;34m(\u001b[0m\u001b[0;34m)\u001b[0m\u001b[0;34m:\u001b[0m\u001b[0;34m\u001b[0m\u001b[0;34m\u001b[0m\u001b[0m\n\u001b[1;32m   5286\u001b[0m             \u001b[0;32mif\u001b[0m \u001b[0merrors\u001b[0m \u001b[0;34m!=\u001b[0m \u001b[0;34m\"ignore\"\u001b[0m\u001b[0;34m:\u001b[0m\u001b[0;34m\u001b[0m\u001b[0;34m\u001b[0m\u001b[0m\n\u001b[0;32m-> 5287\u001b[0;31m                 \u001b[0;32mraise\u001b[0m \u001b[0mKeyError\u001b[0m\u001b[0;34m(\u001b[0m\u001b[0;34mf\"{labels[mask]} not found in axis\"\u001b[0m\u001b[0;34m)\u001b[0m\u001b[0;34m\u001b[0m\u001b[0;34m\u001b[0m\u001b[0m\n\u001b[0m\u001b[1;32m   5288\u001b[0m             \u001b[0mindexer\u001b[0m \u001b[0;34m=\u001b[0m \u001b[0mindexer\u001b[0m\u001b[0;34m[\u001b[0m\u001b[0;34m~\u001b[0m\u001b[0mmask\u001b[0m\u001b[0;34m]\u001b[0m\u001b[0;34m\u001b[0m\u001b[0;34m\u001b[0m\u001b[0m\n\u001b[1;32m   5289\u001b[0m         \u001b[0;32mreturn\u001b[0m \u001b[0mself\u001b[0m\u001b[0;34m.\u001b[0m\u001b[0mdelete\u001b[0m\u001b[0;34m(\u001b[0m\u001b[0mindexer\u001b[0m\u001b[0;34m)\u001b[0m\u001b[0;34m\u001b[0m\u001b[0;34m\u001b[0m\u001b[0m\n",
            "\u001b[0;31mKeyError\u001b[0m: '[1] not found in axis'"
          ]
        }
      ]
    },
    {
      "cell_type": "code",
      "metadata": {
        "colab": {
          "base_uri": "https://localhost:8080/"
        },
        "id": "1XYQCQJavrOa",
        "outputId": "9a7c36eb-0e89-42a5-e2b2-7335b5e190f6"
      },
      "source": [
        "df = pd.DataFrame(\n",
        "    {\"AAA\":[4,5,6,7],\n",
        "     \"BBB\":[10,20,30,40],\n",
        "     \"CCC\":[100,50,-30,-50]}\n",
        ")\n",
        "\n",
        "df.drop([1,2], inplace=True)\n",
        "print(df)\n"
      ],
      "execution_count": null,
      "outputs": [
        {
          "output_type": "stream",
          "name": "stdout",
          "text": [
            "   AAA  BBB  CCC\n",
            "0    4   10  100\n",
            "3    7   40  -50\n"
          ]
        }
      ]
    },
    {
      "cell_type": "code",
      "metadata": {
        "colab": {
          "base_uri": "https://localhost:8080/"
        },
        "id": "WE75FD9xwAVx",
        "outputId": "bf2723d1-f26c-4605-de59-53d481b1a69c"
      },
      "source": [
        "df = pd.DataFrame(\n",
        "    {\"AAA\":[4,5,6,7],\n",
        "     \"BBB\":[10,20,30,40],\n",
        "     \"CCC\":[100,50,-30,-50]}\n",
        ")\n",
        "\n",
        "df.drop(df[df.AAA%2==0].index, inplace=True)\n",
        "print(df)"
      ],
      "execution_count": null,
      "outputs": [
        {
          "output_type": "stream",
          "name": "stdout",
          "text": [
            "   AAA  BBB  CCC\n",
            "1    5   20   50\n",
            "3    7   40  -50\n"
          ]
        }
      ]
    },
    {
      "cell_type": "code",
      "metadata": {
        "colab": {
          "base_uri": "https://localhost:8080/"
        },
        "id": "ma7ZTz7AwV58",
        "outputId": "e3509cfd-3973-434e-add6-aa40f68231b0"
      },
      "source": [
        ""
      ],
      "execution_count": null,
      "outputs": [
        {
          "output_type": "execute_result",
          "data": {
            "text/plain": [
              "AAA    2\n",
              "BBB    2\n",
              "CCC    2\n",
              "dtype: int64"
            ]
          },
          "metadata": {},
          "execution_count": 124
        }
      ]
    },
    {
      "cell_type": "code",
      "metadata": {
        "id": "bZ8MrrZ3y6nG"
      },
      "source": [
        ""
      ],
      "execution_count": null,
      "outputs": []
    },
    {
      "cell_type": "markdown",
      "metadata": {
        "id": "apQizgS_0pb9"
      },
      "source": [
        "```\n",
        "numpy로 0~1 랜덤한 값을 10개 만들고\n",
        "\n",
        "10개의 값을 가지는 r 컬럼의 dataframe을 만들고\n",
        "\n",
        "five_r이라는 r 컬럼에 5배 곱한 컬럼을 새로 만들고\n",
        "\n",
        "이를 정수화 한 값의 cat 이라는 이름의 컬럼을 만든다.\n",
        "\n",
        "cat외의 모든 컬럼을 삭제한다.\n",
        "```\n",
        "\n",
        "\n",
        "\n"
      ]
    },
    {
      "cell_type": "code",
      "metadata": {
        "colab": {
          "base_uri": "https://localhost:8080/"
        },
        "id": "yZzsoD8Q1Aj9",
        "outputId": "ea3d4661-30de-43c4-99a1-27fe44be0ef2"
      },
      "source": [
        "import numpy as np\n",
        "import pandas as pd\n",
        "\n",
        "a = np.random.rand(10)\n",
        "# print(a)\n",
        "\n",
        "df = pd.DataFrame({\"r\":a})\n",
        "# print(df)\n",
        "\n",
        "df['five_r'] = df.r*5\n",
        "# print(df)\n",
        "\n",
        "df['cat'] = df.five_r.astype(np.int)\n",
        "# print(df)\n",
        "\n",
        "df.drop(columns=[\"r\", \"five_r\"], inplace=True)\n",
        "print(df)"
      ],
      "execution_count": null,
      "outputs": [
        {
          "output_type": "stream",
          "name": "stdout",
          "text": [
            "   cat\n",
            "0    0\n",
            "1    4\n",
            "2    1\n",
            "3    2\n",
            "4    3\n",
            "5    2\n",
            "6    2\n",
            "7    2\n",
            "8    3\n",
            "9    1\n"
          ]
        }
      ]
    },
    {
      "cell_type": "code",
      "metadata": {
        "colab": {
          "base_uri": "https://localhost:8080/"
        },
        "id": "w2op8ACt1PaJ",
        "outputId": "e887d53a-4850-4ed3-c1a4-cde72eeb4c71"
      },
      "source": [
        "df = pd.DataFrame(\n",
        "    {\"AAA\":[4,5,6,7],\n",
        "     \"BBB\":[10,20,30,40],\n",
        "     \"CCC\":[100,50,-30,-50]}\n",
        ")\n",
        "\n",
        "df['float_AAA'] = df.AAA.astype(np.float)\n",
        "print(df)\n",
        "\n",
        "df.drop(columns=\"AAA\", inplace=True)\n",
        "print(df)\n",
        "\n",
        "df.rename(columns={\"float_AAA\":\"AAA\"}, inplace=True)\n",
        "print(df)"
      ],
      "execution_count": null,
      "outputs": [
        {
          "output_type": "stream",
          "name": "stdout",
          "text": [
            "   AAA  BBB  CCC  float_AAA\n",
            "0    4   10  100        4.0\n",
            "1    5   20   50        5.0\n",
            "2    6   30  -30        6.0\n",
            "3    7   40  -50        7.0\n",
            "   BBB  CCC  float_AAA\n",
            "0   10  100        4.0\n",
            "1   20   50        5.0\n",
            "2   30  -30        6.0\n",
            "3   40  -50        7.0\n",
            "   BBB  CCC  AAA\n",
            "0   10  100  4.0\n",
            "1   20   50  5.0\n",
            "2   30  -30  6.0\n",
            "3   40  -50  7.0\n"
          ]
        }
      ]
    },
    {
      "cell_type": "code",
      "metadata": {
        "id": "YzwfWwoP11kp",
        "colab": {
          "base_uri": "https://localhost:8080/"
        },
        "outputId": "ee7355a5-c8c0-440c-a0ce-54f5bee0571b"
      },
      "source": [
        "!wget https://github.com/bharathirajatut/sample-excel-dataset/raw/master/airline.xls"
      ],
      "execution_count": null,
      "outputs": [
        {
          "output_type": "stream",
          "name": "stdout",
          "text": [
            "--2021-11-24 05:36:51--  https://github.com/bharathirajatut/sample-excel-dataset/raw/master/airline.xls\n",
            "Resolving github.com (github.com)... 140.82.113.4\n",
            "Connecting to github.com (github.com)|140.82.113.4|:443... connected.\n",
            "HTTP request sent, awaiting response... 302 Found\n",
            "Location: https://raw.githubusercontent.com/bharathirajatut/sample-excel-dataset/master/airline.xls [following]\n",
            "--2021-11-24 05:36:51--  https://raw.githubusercontent.com/bharathirajatut/sample-excel-dataset/master/airline.xls\n",
            "Resolving raw.githubusercontent.com (raw.githubusercontent.com)... 185.199.108.133, 185.199.109.133, 185.199.110.133, ...\n",
            "Connecting to raw.githubusercontent.com (raw.githubusercontent.com)|185.199.108.133|:443... connected.\n",
            "HTTP request sent, awaiting response... 200 OK\n",
            "Length: 16384 (16K) [application/octet-stream]\n",
            "Saving to: ‘airline.xls’\n",
            "\n",
            "airline.xls         100%[===================>]  16.00K  --.-KB/s    in 0s      \n",
            "\n",
            "2021-11-24 05:36:51 (49.7 MB/s) - ‘airline.xls’ saved [16384/16384]\n",
            "\n"
          ]
        }
      ]
    },
    {
      "cell_type": "code",
      "metadata": {
        "id": "ZfMoQA2UckCX"
      },
      "source": [
        ""
      ],
      "execution_count": null,
      "outputs": []
    }
  ]
}